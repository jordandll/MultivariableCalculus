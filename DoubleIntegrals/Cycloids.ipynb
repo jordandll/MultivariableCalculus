{
 "cells": [
  {
   "cell_type": "markdown",
   "id": "2dda92e5-da0a-4dfc-9d7c-b47b31332723",
   "metadata": {},
   "source": [
    "# Cycloids"
   ]
  },
  {
   "cell_type": "code",
   "execution_count": 1,
   "id": "3d6ab015-a82d-4e63-b5cc-c7f8c12d409e",
   "metadata": {},
   "outputs": [],
   "source": [
    "import numpy as np\n",
    "import matplotlib.pyplot as plt"
   ]
  },
  {
   "cell_type": "markdown",
   "id": "bcba124b-3b57-4985-af54-2bb3c6c51606",
   "metadata": {},
   "source": [
    "## Straight Roll"
   ]
  },
  {
   "cell_type": "markdown",
   "id": "6e6af376-8e47-4feb-9866-b108fabaae78",
   "metadata": {},
   "source": [
    "Suppose we have a disk that rolls across the $x$-axis of an $xy$-plane without slipping or sliding.  At $t=0$, the disk is centered at $(0,a)$, where $a$ is the radius of said disk.  Let $A$ be a point on the edge of the disk that is at origin when $t=0$, $\\mathbf{r}$ be the position vector that tracks $A$, and $\\omega$ be the angular velocity of the disk as it rolls."
   ]
  },
  {
   "cell_type": "markdown",
   "id": "7728e349-2476-4af6-b2ae-f25bb791fab3",
   "metadata": {},
   "source": [
    "$$ \\omega = \\frac{\\mathrm{d}\\theta}{\\mathrm{d}t} \\quad\\quad \\mathbf{b} = \\langle 0,a\\rangle \\quad\\quad \\mathbf{r} := \\mathbf{r}(t) = \\mathbf{a} + \\mathbf{b} + \\mathbf{c} $$"
   ]
  },
  {
   "cell_type": "markdown",
   "id": "2aa7d2dd-52ec-4353-b7aa-d9d760eb5618",
   "metadata": {},
   "source": [
    "$$ \\mathbf{a} := \\mathbf{a}(\\theta) = a\\langle \\cos \\theta,\\sin \\theta\\rangle \\quad\\quad\\text{and}\\quad\\quad \\mathbf{c} = \\big\\langle -a\\Delta \\theta, 0\\big\\rangle$$"
   ]
  },
  {
   "cell_type": "markdown",
   "id": "12dd3047-bd90-406f-ad6c-f7e8c6513a66",
   "metadata": {},
   "source": [
    "$$ \\theta := \\theta(t) = \\omega t - 0.5\\pi \\quad\\quad\\text{and}\\quad\\quad \\Delta \\theta = \\theta -\\theta_0 = \\theta + 0.5\\pi $$"
   ]
  },
  {
   "cell_type": "markdown",
   "id": "40a11ab0-2f0d-4a22-bad2-8f6c88062b37",
   "metadata": {},
   "source": [
    "$$ \\mathbf{r} = \\mathbf{r}(t) = \\big\\langle x(t),y(t)\\big\\rangle $$"
   ]
  },
  {
   "cell_type": "markdown",
   "id": "2a089374-8fb0-46fb-91b9-3ad366543d1d",
   "metadata": {},
   "source": [
    "$$ x:=x(t) = a\\cos\\theta(t) - a\\big(\\theta(t) + 0.5\\pi\\big) \\quad\\quad y:=y(t) = a\\sin\\theta(t) + a$$"
   ]
  },
  {
   "cell_type": "markdown",
   "id": "23846508-c358-4fda-80d5-af22f8a81c35",
   "metadata": {},
   "source": [
    "$$ x = a\\big(\\cos\\theta - \\theta - 0.5\\pi\\big)\\quad\\quad\\text{and}\\quad\\quad y = a(\\sin\\theta + 1)$$"
   ]
  },
  {
   "cell_type": "markdown",
   "id": "c9b91326-4e4f-4284-9161-3f8bb994fd17",
   "metadata": {},
   "source": [
    "$$ x = a(\\cos\\theta - \\omega t)$$"
   ]
  },
  {
   "cell_type": "code",
   "execution_count": 5,
   "id": "74790480-eca2-4618-b54a-23211c728189",
   "metadata": {
    "jupyter": {
     "source_hidden": true
    }
   },
   "outputs": [
    {
     "data": {
      "text/plain": [
       "[<matplotlib.lines.Line2D at 0x75709436b910>]"
      ]
     },
     "execution_count": 5,
     "metadata": {},
     "output_type": "execute_result"
    },
    {
     "data": {
      "image/png": "[encoded data removed]",
      "text/plain": [
       "<Figure size 1200x300 with 1 Axes>"
      ]
     },
     "metadata": {},
     "output_type": "display_data"
    }
   ],
   "source": [
    "# Define certain parameters\n",
    "omega = w = -2*np.pi\n",
    "a = 1\n",
    "\n",
    "# Define the domain of our cycloid.\n",
    "t = np.linspace(0,1,num=200)\n",
    "theta = omega*t - 0.5*np.pi\n",
    "\n",
    "# Define the parametrization.\n",
    "x = a*(np.cos(theta) - omega*t)\n",
    "y = a*(np.sin(theta) + 1)\n",
    "\n",
    "# Create the figure and axes objects.\n",
    "fig, ax = plt.subplots(figsize=(12,3))\n",
    "ax.set_title('Cycloid',size=14)\n",
    "ax.set_xlabel('x-axis')\n",
    "ax.set_ylabel('y-axis')\n",
    "ax.grid()\n",
    "\n",
    "# Plot the cycloid.\n",
    "ax.plot(x,y)"
   ]
  },
  {
   "cell_type": "markdown",
   "id": "b4c52bbe-3052-4738-bf6d-e2c0e551a92e",
   "metadata": {},
   "source": [
    "## Length\n",
    "\n",
    "Now, let's try to find the length of the cycloid parametrized by the above two equations as a function of time or angle."
   ]
  },
  {
   "cell_type": "markdown",
   "id": "c335af6b-2d8e-4281-be43-afa5f19f1b06",
   "metadata": {},
   "source": [
    "The length of the cycloid from $t=0$ to $t=0$ is:  \n",
    "\n",
    "$$ L = \\int_C\\,\\mathrm{d}s = \\int_C \\sqrt{(\\mathrm{d}x)^2 + (\\mathrm{d}y)^2}$$"
   ]
  },
  {
   "cell_type": "markdown",
   "id": "98b96964-8c88-45f0-b2bf-8f6e7742840a",
   "metadata": {},
   "source": [
    "$$ x'(t) = -a\\omega\\sin\\theta - a\\omega = -a\\omega(\\sin\\theta-1) \\quad\\quad\\text{and}\\quad\\quad y'(t) = a\\omega\\cos\\theta$$"
   ]
  },
  {
   "cell_type": "markdown",
   "id": "80c8604f-74aa-4fcd-a680-cc64e3b3e8df",
   "metadata": {},
   "source": [
    "$$ \\mathrm{d}x = -a\\omega(\\sin\\theta-1)\\,\\mathrm{d}t \\quad\\quad\\text{and}\\quad\\quad \\mathrm{d}y = a\\omega\\cos\\theta\\,\\mathrm{d}t$$"
   ]
  },
  {
   "cell_type": "markdown",
   "id": "2ac7565d-b3ba-4216-bd71-dc42f7db2a86",
   "metadata": {},
   "source": [
    "$$ (\\mathrm{d}x)^2 = (a\\omega)^2\\big(\\sin^2\\theta - 2\\sin\\theta + 1\\big)\\,(\\mathrm{d}t)^2 \\quad\\quad\\text{and}\\quad\\quad (\\mathrm{d}y)^2 = (a\\omega)^2\\cos^2\\theta\\,(\\mathrm{d}t)^2$$"
   ]
  },
  {
   "cell_type": "markdown",
   "id": "0e70bd41-b92f-4a51-ae8c-d762b78c4010",
   "metadata": {},
   "source": [
    "$$ \\sqrt{(\\mathrm{d}x)^2 + (\\mathrm{d}y)^2} = a\\omega\\sqrt{2 - 2\\sin\\theta}\\,\\mathrm{d}t$$"
   ]
  },
  {
   "cell_type": "markdown",
   "id": "783c3963-2fc3-457d-9ce4-c391a3e879c0",
   "metadata": {},
   "source": [
    "$$ \\sin\\theta = \\cos \\omega t$$"
   ]
  },
  {
   "cell_type": "markdown",
   "id": "2aaf5382-6499-4d26-9563-ed3dc8252629",
   "metadata": {},
   "source": [
    "$$ \\sin 2\\theta = 2\\cos\\theta\\sin\\theta$$"
   ]
  },
  {
   "cell_type": "markdown",
   "id": "db779857-357a-42e5-95fa-ecfdf0197217",
   "metadata": {},
   "source": [
    "$$ \\frac{\\mathrm{d}\\sin^2\\theta}{\\mathrm{d}\\theta} = 2\\cos\\theta\\sin\\theta = \\sin2\\theta$$"
   ]
  },
  {
   "cell_type": "markdown",
   "id": "fc1e102c-44ab-46ce-ba75-71c3b6d971f0",
   "metadata": {},
   "source": [
    "$$ \\int\\sin2\\theta\\,\\mathrm{d}\\theta = K-0.5\\cos2\\theta$$"
   ]
  },
  {
   "cell_type": "markdown",
   "id": "8913b284-fa70-4e9f-8caa-adfac09a4c9d",
   "metadata": {},
   "source": [
    "$$ K-0.5\\cos2\\theta = \\sin^2\\theta \\quad\\quad K = 0.5$$"
   ]
  },
  {
   "cell_type": "markdown",
   "id": "64981ff6-5193-4bf9-b2c7-562613a097e7",
   "metadata": {},
   "source": [
    "$$ 1-\\cos2\\theta = 2\\sin^2\\theta \\quad\\therefore\\quad \\cos2\\theta = 1-2\\sin^2\\theta$$"
   ]
  },
  {
   "cell_type": "markdown",
   "id": "3e4beb4b-7b2f-4138-9582-bf071337461c",
   "metadata": {},
   "source": [
    "$$ \\cos\\omega t = 1 - 2\\sin^2(0.5\\omega t)$$"
   ]
  },
  {
   "cell_type": "markdown",
   "id": "7b96e77c-86fe-4d40-819a-6df8f2b30c79",
   "metadata": {},
   "source": [
    "$$ 2 - 2\\sin\\theta = 4\\sin^2(0.5\\omega t)$$"
   ]
  },
  {
   "cell_type": "markdown",
   "id": "5372d041-c94d-4455-9ee7-3ff69106870d",
   "metadata": {},
   "source": [
    "$$ a\\omega \\sqrt{2-2\\sin\\theta}\\,\\mathrm{d}t = 2a\\omega|\\sin(0.5\\omega t)|\\,\\mathrm{d}t$$"
   ]
  },
  {
   "cell_type": "markdown",
   "id": "4f4e567b-3d10-4937-b061-5a375baebdcf",
   "metadata": {},
   "source": [
    "Finally,  \n",
    "\n",
    "$$ L = 2a\\omega\\int_0^1|\\sin(0.5\\omega t)|\\,\\mathrm{d}t$$"
   ]
  },
  {
   "attachments": {},
   "cell_type": "markdown",
   "id": "9fe2ba23-d9cf-4fa8-a712-4073fb8032da",
   "metadata": {},
   "source": [
    "Assuming $a=1$ and $\\omega=2\\pi$,  \n",
    "\n",
    "$$ L = 4\\pi \\int_0^1 \\sin(\\pi t)\\,\\mathrm{d}t = -4\\big.\\big(\\cos(\\pi t)\\big)\\big]_0^1$$"
   ]
  },
  {
   "cell_type": "markdown",
   "id": "0e9d014e-53f1-49b0-bfad-f2cd4d6760f9",
   "metadata": {},
   "source": [
    "$$ = 8$$"
   ]
  }
 ],
 "metadata": {
  "kernelspec": {
   "display_name": "Python 3 (ipykernel)",
   "language": "python",
   "name": "python3"
  },
  "language_info": {
   "codemirror_mode": {
    "name": "ipython",
    "version": 3
   },
   "file_extension": ".py",
   "mimetype": "text/x-python",
   "name": "python",
   "nbconvert_exporter": "python",
   "pygments_lexer": "ipython3",
   "version": "3.10.12"
  }
 },
 "nbformat": 4,
 "nbformat_minor": 5
}
