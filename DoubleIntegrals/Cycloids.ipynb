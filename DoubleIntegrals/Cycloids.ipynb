{
 "cells": [
  {
   "cell_type": "markdown",
   "id": "2dda92e5-da0a-4dfc-9d7c-b47b31332723",
   "metadata": {},
   "source": [
    "# Cycloids"
   ]
  },
  {
   "cell_type": "code",
   "execution_count": 1,
   "id": "3d6ab015-a82d-4e63-b5cc-c7f8c12d409e",
   "metadata": {},
   "outputs": [],
   "source": [
    "import numpy as np\n",
    "import matplotlib.pyplot as plt"
   ]
  },
  {
   "cell_type": "markdown",
   "id": "bcba124b-3b57-4985-af54-2bb3c6c51606",
   "metadata": {},
   "source": [
    "## Straight Roll"
   ]
  },
  {
   "cell_type": "markdown",
   "id": "6e6af376-8e47-4feb-9866-b108fabaae78",
   "metadata": {},
   "source": [
    "Suppose we have a disk that rolls across the $x$-axis of a $xy$-plane by spinning in the clockwise direction without slipping or sliding.  At $t=0$, the disk is centered at $(0,a)$, where $a$ is the radius of said disk.  Let $A$ be a point on the edge of the disk that is at origin when $t=0$, $\\mathbf{r}$ be the position vector that tracks $A$, and $\\omega$ be the angular velocity of the disk as it rolls."
   ]
  },
  {
   "cell_type": "markdown",
   "id": "7728e349-2476-4af6-b2ae-f25bb791fab3",
   "metadata": {},
   "source": [
    "$$ \\omega = \\frac{\\mathrm{d}\\theta}{\\mathrm{d}t} \\quad\\quad \\mathbf{b} = \\langle 0,a\\rangle \\quad\\quad \\mathbf{r} := \\mathbf{r}(t) = \\mathbf{a} + \\mathbf{b} + \\mathbf{c}$$"
   ]
  },
  {
   "cell_type": "markdown",
   "id": "2aa7d2dd-52ec-4353-b7aa-d9d760eb5618",
   "metadata": {},
   "source": [
    "$$ \\mathbf{a} := \\mathbf{a}(\\theta) = a\\langle \\cos \\theta,\\sin \\theta\\rangle \\quad\\quad \\mathbf{c} = \\big\\langle a|\\Delta \\theta|, 0\\big\\rangle$$"
   ]
  },
  {
   "cell_type": "markdown",
   "id": "12dd3047-bd90-406f-ad6c-f7e8c6513a66",
   "metadata": {},
   "source": [
    "$$ \\theta := \\theta(t) = \\omega t \\quad\\quad\\text{and}\\quad\\quad \\Delta \\theta = \\theta -\\theta_0 = \\theta + 0.5\\pi $$"
   ]
  },
  {
   "cell_type": "markdown",
   "id": "40a11ab0-2f0d-4a22-bad2-8f6c88062b37",
   "metadata": {},
   "source": [
    "$$ $$"
   ]
  }
 ],
 "metadata": {
  "kernelspec": {
   "display_name": "Python 3 (ipykernel)",
   "language": "python",
   "name": "python3"
  },
  "language_info": {
   "codemirror_mode": {
    "name": "ipython",
    "version": 3
   },
   "file_extension": ".py",
   "mimetype": "text/x-python",
   "name": "python",
   "nbconvert_exporter": "python",
   "pygments_lexer": "ipython3",
   "version": "3.10.12"
  }
 },
 "nbformat": 4,
 "nbformat_minor": 5
}
