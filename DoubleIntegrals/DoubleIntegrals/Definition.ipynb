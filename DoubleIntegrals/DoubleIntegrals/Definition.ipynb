{
 "cells": [
  {
   "cell_type": "markdown",
   "id": "0f028e13-5e7c-4543-9e09-eac626262d4d",
   "metadata": {},
   "source": [
    "# Definition of Double Integral\n",
    "\n",
    "### Problem 1\n",
    "\n",
    "\n",
    "Set up a double integral for the mass of the planar region $R$ with a variable density\n",
    "$\\delta(x, y)$. Use a simple sketch to illustrate the setup.  \n",
    "\n",
    "Note: the problem as stated is abstract, so your solution will also be abstract. The goal\n",
    "here is to focus on the simple idea of slicing the region into small pieces and summing the\n",
    "contributions of each of the pieces that is the basis of integration"
   ]
  },
  {
   "cell_type": "markdown",
   "id": "efbef144-7cf3-49e4-97da-12387a71b5fe",
   "metadata": {},
   "source": [
    "First divide the region up into $n$ pieces.  The mass of the $i$'th piece, denoted as $m_i$, is approximated by:  \n",
    "\n",
    "$$ m_i \\approxeq \\delta(x_i,y_i)\\Delta A_i$$"
   ]
  },
  {
   "cell_type": "markdown",
   "id": "c13c7cf4-ac13-41ed-bd0f-456939912bc6",
   "metadata": {},
   "source": [
    "where $(x_i,y_i)$ is the $x,y$-coordinate of a point within the $i$'th piece and $\\Delta A_i$ is the area of said piece.  Note that, in general, the density of a 2D surface is equal to the mass divided by the area of the surface, hence the above equation."
   ]
  },
  {
   "cell_type": "markdown",
   "id": "2c62b82c-c97e-4293-9c08-a9434e2c6f9a",
   "metadata": {},
   "source": [
    "The double integral is equal to the sum of the masses of the region which is equal to the total mass of the region.  Said total mass is approximated by:  \n",
    "\n",
    "$$ m \\approxeq \\sum_{i=0}^n m_i $$"
   ]
  },
  {
   "cell_type": "markdown",
   "id": "0c4abe10-8b7c-4aad-a2b2-2536038acab4",
   "metadata": {},
   "source": [
    "And, is given by:  \n",
    "\n",
    "$$ m = \\int\\!\\int_R \\delta(x,y)\\,\\mathrm{d}A = \\lim_{\\Delta A\\to 0} \\sum_{i=0}^n \\delta(x_i,y_i)\\Delta A_i$$"
   ]
  },
  {
   "cell_type": "markdown",
   "id": "40b6d5c8-fa93-4e4e-a890-cc2948f0937a",
   "metadata": {},
   "source": [
    "Of course, the smaller the pieces are, relative to the size of $R$, the greater $n$ is."
   ]
  },
  {
   "cell_type": "markdown",
   "id": "f59dc20e-1db3-4e88-a430-981717da41e9",
   "metadata": {},
   "source": [
    "For an illustrative example, imagine a region on a Cartesian plane bounded by some arbitrary curve.  Each point within this region supposedly has a mass.  Now, imagine a bunch of small square pieces within this region.  In one of these squares is a dot labeled $(x_i,y_i)$ and the square that it is within is labeled $\\Delta A_i$, indicating that the square has an area of $\\Delta A_i$.  The mass of this square, denoted as '$m_i$', is approximately equal to $\\delta(x_i,y_i)\\Delta A_i$."
   ]
  }
 ],
 "metadata": {
  "kernelspec": {
   "display_name": "Python 3 (ipykernel)",
   "language": "python",
   "name": "python3"
  },
  "language_info": {
   "codemirror_mode": {
    "name": "ipython",
    "version": 3
   },
   "file_extension": ".py",
   "mimetype": "text/x-python",
   "name": "python",
   "nbconvert_exporter": "python",
   "pygments_lexer": "ipython3",
   "version": "3.10.12"
  }
 },
 "nbformat": 4,
 "nbformat_minor": 5
}
