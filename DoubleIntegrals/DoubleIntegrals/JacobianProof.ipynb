{
 "cells": [
  {
   "cell_type": "markdown",
   "id": "f8a973ff-dc9d-4015-83c3-da9e7a968070",
   "metadata": {},
   "source": [
    "# Proof of Jacobian"
   ]
  },
  {
   "cell_type": "markdown",
   "id": "41f8b646-521c-41e4-b02c-01cc67da1961",
   "metadata": {},
   "source": [
    "## The Area Element\n",
    "\n",
    "In polar coordinates, we found the formula $\\mathrm{d}A = r \\,\\mathrm{d}r \\,\\mathrm{d}\\theta$ for the area element by\n",
    "drawing the grid curves $r = r_0$ and $\\theta = \\theta_0$ for the $r, \\theta$-system, and determining (see\n",
    "the picture) the infinitesimal area of one of the little elements of the grid."
   ]
  },
  {
   "cell_type": "markdown",
   "id": "48eec9f1-c6df-4906-bf7f-cdd2aa3f6589",
   "metadata": {},
   "source": [
    "![area-element](PolarAreaElement.png)"
   ]
  },
  {
   "cell_type": "markdown",
   "id": "d3b4e31f-75b2-4e00-85af-7327ea28f0cb",
   "metadata": {},
   "source": [
    "$$ \\Delta A = 0.5\\Delta \\theta\\big(r+\\Delta r\\big)^2 - 0.5\\Delta \\theta r^2$$"
   ]
  },
  {
   "cell_type": "markdown",
   "id": "dd8ec5fb-76cc-47d4-8669-2428ffa0f536",
   "metadata": {},
   "source": [
    "$$ = 0.5\\Delta \\theta \\big(r^2 + 2r\\Delta r  + \\big(\\Delta r\\big)^2 - r^2\\big) = 0.5\\Delta\\theta\\Delta r\\big(2r + \\Delta r\\big)$$"
   ]
  },
  {
   "cell_type": "markdown",
   "id": "93cf033f-4225-4b7d-ae35-98391388c8b1",
   "metadata": {},
   "source": [
    "As $\\Delta r \\to 0$,  \n",
    "\n",
    "\\begin{equation}\\tag{1}\n",
    "    \\mathrm{d}A = r\\,\\mathrm{d}r\\,\\mathrm{d}\\theta\n",
    "\\end{equation}"
   ]
  },
  {
   "cell_type": "markdown",
   "id": "922420fc-add3-45ad-b436-fe0f5b9fa336",
   "metadata": {},
   "source": [
    "Now, let's prove equation (1) using a different method.  Suppose we have two arcs, an outter arc with a radius of $r_2$ and an inner arc with a radius of $r_1 = r$, each with an angle of $\\Delta \\theta $.  See the figure above for an illustrative example.  The radius of the outter arc and the angle are given by:  \n",
    "\n",
    "$$ r_2 = r_1 + \\Delta r \\quad\\quad\\text{and}\\quad\\quad \\Delta \\theta =  \\theta_a-\\theta_b\\quad\\quad\\text{where }\\,\\theta_a>\\theta_b$$"
   ]
  },
  {
   "cell_type": "markdown",
   "id": "be263a2a-240c-4ab3-b665-39b61f6c5fc5",
   "metadata": {},
   "source": [
    "Now let $\\Delta A$ be defined as:  \n",
    "\n",
    "$$ \\Delta A := A_2 - A_1$$"
   ]
  },
  {
   "cell_type": "markdown",
   "id": "7748386a-7ddc-4925-9709-c9794a39c630",
   "metadata": {},
   "source": [
    "where,  \n",
    "\n",
    "$$ A_2 = 0.5\\Delta \\theta r_2^2 = 0.5\\Delta \\theta \\big(r_1+\\Delta r\\big)^2$$"
   ]
  },
  {
   "cell_type": "markdown",
   "id": "cc018c9a-f930-49ed-a3e0-ae2992561955",
   "metadata": {},
   "source": [
    "is the area of the outter arc and,  \n",
    "\n",
    "$$ A_1 = 0.5\\Delta \\theta r_1^2$$"
   ]
  },
  {
   "cell_type": "markdown",
   "id": "91d0df9a-3dfa-4a26-a9b7-ce38a3733abb",
   "metadata": {},
   "source": [
    "is the area of the inner arc."
   ]
  },
  {
   "cell_type": "markdown",
   "id": "093da836-1ff2-4d86-b0a3-3fec620b2cad",
   "metadata": {},
   "source": [
    "The area of the outter arc is given by:  \n",
    "\n",
    "$$ A_2 = \\int_0^{a_2}f_$$"
   ]
  }
 ],
 "metadata": {
  "kernelspec": {
   "display_name": "Python 3 (ipykernel)",
   "language": "python",
   "name": "python3"
  },
  "language_info": {
   "codemirror_mode": {
    "name": "ipython",
    "version": 3
   },
   "file_extension": ".py",
   "mimetype": "text/x-python",
   "name": "python",
   "nbconvert_exporter": "python",
   "pygments_lexer": "ipython3",
   "version": "3.10.12"
  }
 },
 "nbformat": 4,
 "nbformat_minor": 5
}
