{
 "cells": [
  {
   "cell_type": "markdown",
   "id": "f8a973ff-dc9d-4015-83c3-da9e7a968070",
   "metadata": {},
   "source": [
    "# Proof of Jacobian"
   ]
  },
  {
   "cell_type": "markdown",
   "id": "41f8b646-521c-41e4-b02c-01cc67da1961",
   "metadata": {},
   "source": [
    "## The Area Element\n",
    "\n",
    "In polar coordinates, we found the formula $\\mathrm{d}A = r \\,\\mathrm{d}r \\,\\mathrm{d}\\theta$ for the area element by\n",
    "drawing the grid curves $r = r_0$ and $\\theta = \\theta_0$ for the $r, \\theta$-system, and determining (see\n",
    "the picture) the infinitesimal area of one of the little elements of the grid."
   ]
  },
  {
   "cell_type": "markdown",
   "id": "48eec9f1-c6df-4906-bf7f-cdd2aa3f6589",
   "metadata": {},
   "source": [
    "![area-element](PolarAreaElement.svg)"
   ]
  },
  {
   "cell_type": "markdown",
   "id": "d3b4e31f-75b2-4e00-85af-7327ea28f0cb",
   "metadata": {},
   "source": [
    "$$ \\Delta A = 0.5\\Delta \\theta\\big(r+\\Delta r\\big)^2 - 0.5\\Delta \\theta r^2$$"
   ]
  },
  {
   "cell_type": "markdown",
   "id": "dd8ec5fb-76cc-47d4-8669-2428ffa0f536",
   "metadata": {},
   "source": [
    "$$ = 0.5\\Delta \\theta \\big(r^2 + 2r\\Delta r  + \\big(\\Delta r\\big)^2 - r^2\\big) = 0.5\\Delta\\theta\\Delta r\\big(2r + \\Delta r\\big)$$"
   ]
  },
  {
   "cell_type": "markdown",
   "id": "93cf033f-4225-4b7d-ae35-98391388c8b1",
   "metadata": {},
   "source": [
    "As $\\Delta r \\to 0$,  \n",
    "\n",
    "\\begin{equation}\\tag{1}\n",
    "    \\mathrm{d}A = r\\,\\mathrm{d}r\\,\\mathrm{d}\\theta\n",
    "\\end{equation}"
   ]
  },
  {
   "cell_type": "markdown",
   "id": "3be394f6-4b23-4296-952a-1c0ae7d46338",
   "metadata": {},
   "source": [
    "For general $u, v$-coordinates, we do the same thing. The grid curves (4) divide up the\n",
    "plane into small regions $\\Delta A$ bounded by these contour curves. If the contour curves are close\n",
    "together, they will be approximately parallel, so that the grid element will be approximately\n",
    "a small parallelogram, and  \n",
    "\n",
    "![uv-area-element](UV-AreaElement.svg)"
   ]
  },
  {
   "cell_type": "markdown",
   "id": "87e5595a-8eba-4e5a-baf1-4109c4b9b7f8",
   "metadata": {},
   "source": [
    "\\begin{equation}\\tag{4}\n",
    "    \\Delta A \\,\\approxeq\\, \\text{area of parallelogram }\\,\\overline{\\mathit{PQRS}} \\,= \\,\\big|\\,\\overrightarrow{\\mathit{PQ}}\\times\\overrightarrow{\\mathit{PR}}\\,\\big|\n",
    "\\end{equation}"
   ]
  },
  {
   "cell_type": "markdown",
   "id": "6938bfa0-d381-4751-a857-d4be48488cd4",
   "metadata": {},
   "source": [
    "Note that the grid curves found in the above figure are given by:  \n",
    "\n",
    "$$ u(x,y) = u_0 \\quad\\quad u(x,y) = u_0 + \\Delta u \\quad\\quad v(x,y) = v_0 \\quad\\quad v(x,y) = v_0+\\Delta v$$"
   ]
  },
  {
   "cell_type": "markdown",
   "id": "2cf4cbae-24d9-45b0-8935-eae257a6c4eb",
   "metadata": {},
   "source": [
    "where,  \n",
    "\n",
    "$$ u = u(x,y) \\quad\\quad\\text{and}\\quad\\quad v=v(x,y)$$"
   ]
  },
  {
   "cell_type": "markdown",
   "id": "7acfa3f7-a029-476d-a932-3d52088f7177",
   "metadata": {},
   "source": [
    "are the coordinate functions."
   ]
  },
  {
   "cell_type": "markdown",
   "id": "9a79f2c9-7d8c-4c88-9a86-b54fb930a811",
   "metadata": {},
   "source": [
    "Recall that the **Jacobian** is a determinant that can be used to find the area element of a double integral in terms of $u,v$-coordinates.  It's notation and definition are:  \n",
    "\n",
    "\n",
    "$$ \\frac{\\partial(x,y)}{\\partial(u,v)} = \\left|\\begin{matrix}\\tag{2}x_u & x_v \\\\ y_u & y_v\\end{matrix}\\right|$$"
   ]
  },
  {
   "cell_type": "markdown",
   "id": "6d36cf71-335d-4057-93c1-e994bd10133d",
   "metadata": {},
   "source": [
    "The area element is given by:  \n",
    "\n",
    "\\begin{equation}\\tag{3}\n",
    "    \\mathrm{d}A = \\left|\\frac{\\partial(x,y)}{\\partial(u,v)}\\right|\\,\\mathrm{d}u\\,\\mathrm{d}v\n",
    "\\end{equation}"
   ]
  },
  {
   "cell_type": "markdown",
   "id": "ab5f24ac-ec3d-4de0-a838-2116b4dae909",
   "metadata": {},
   "source": [
    "In the $u,v$-coordinate system, the the labeled points have coordinates:  \n",
    "\n",
    "$$ P \\,:\\, (u_0,v_0) \\quad\\quad Q \\, : \\, (u_0+\\Delta u, v_0) \\quad\\quad R\\,:\\,(u_0,v_0+\\Delta v)$$"
   ]
  },
  {
   "cell_type": "markdown",
   "id": "ca5fe13c-e380-4ece-bbd8-d4cb75f82483",
   "metadata": {},
   "source": [
    "To compute the cross product found in equation (4) we must find the above three points' $\\mathbf{i}, \\mathbf{j}$-coordinates.  Note that $\\mathbf{i}$ and $\\mathbf{j}$ point in the same direction as the $x$-axis and $y$-axis respectively.  \n",
    "\n",
    "\\begin{equation}\\tag{5}\n",
    "    \\overrightarrow{\\mathit{PQ}} = \\Delta x\\,\\mathbf{i} +  \\Delta y\\,\\mathbf{j}\n",
    "\\end{equation}"
   ]
  },
  {
   "cell_type": "markdown",
   "id": "79d13cdf-1cd4-4592-8dff-ae03bdb02d9d",
   "metadata": {},
   "source": [
    "where $\\Delta x$ and $\\Delta y$ are the changes in $x$ and $y$ as we hold $v=v_0$ steady and move from $u=u_0$ to $u=u_0 + \\Delta u$;  Or, to put it another way, as we move from $P$ to $Q$.  \n",
    "\n",
    "$$ \\Delta x = Q_x - P_x \\quad\\quad\\text{and}\\quad\\quad \\Delta y = Q_y-P_y$$"
   ]
  }
 ],
 "metadata": {
  "kernelspec": {
   "display_name": "Python 3 (ipykernel)",
   "language": "python",
   "name": "python3"
  },
  "language_info": {
   "codemirror_mode": {
    "name": "ipython",
    "version": 3
   },
   "file_extension": ".py",
   "mimetype": "text/x-python",
   "name": "python",
   "nbconvert_exporter": "python",
   "pygments_lexer": "ipython3",
   "version": "3.10.12"
  }
 },
 "nbformat": 4,
 "nbformat_minor": 5
}
