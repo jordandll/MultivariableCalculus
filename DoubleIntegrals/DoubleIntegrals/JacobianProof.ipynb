{
 "cells": [
  {
   "cell_type": "markdown",
   "id": "f8a973ff-dc9d-4015-83c3-da9e7a968070",
   "metadata": {},
   "source": [
    "# Proof of Jacobian"
   ]
  },
  {
   "cell_type": "markdown",
   "id": "41f8b646-521c-41e4-b02c-01cc67da1961",
   "metadata": {},
   "source": [
    "## The Area Element\n",
    "\n",
    "In polar coordinates, we found the formula $\\mathrm{d}A = r \\,\\mathrm{d}r \\,\\mathrm{d}\\theta$ for the area element by\n",
    "drawing the grid curves $r = r_0$ and $\\theta = \\theta_0$ for the $r, \\theta$-system, and determining (see\n",
    "the picture) the infinitesimal area of one of the little elements of the grid."
   ]
  },
  {
   "cell_type": "markdown",
   "id": "48eec9f1-c6df-4906-bf7f-cdd2aa3f6589",
   "metadata": {},
   "source": [
    "![area-element](PolarAreaElement.svg)"
   ]
  },
  {
   "cell_type": "markdown",
   "id": "d3b4e31f-75b2-4e00-85af-7327ea28f0cb",
   "metadata": {},
   "source": [
    "$$ \\Delta A = 0.5\\Delta \\theta\\big(r+\\Delta r\\big)^2 - 0.5\\Delta \\theta r^2$$"
   ]
  },
  {
   "cell_type": "markdown",
   "id": "dd8ec5fb-76cc-47d4-8669-2428ffa0f536",
   "metadata": {},
   "source": [
    "$$ = 0.5\\Delta \\theta \\big(r^2 + 2r\\Delta r  + \\big(\\Delta r\\big)^2 - r^2\\big) = 0.5\\Delta\\theta\\Delta r\\big(2r + \\Delta r\\big)$$"
   ]
  },
  {
   "cell_type": "markdown",
   "id": "93cf033f-4225-4b7d-ae35-98391388c8b1",
   "metadata": {},
   "source": [
    "As $\\Delta r \\to 0$,  \n",
    "\n",
    "\\begin{equation}\\tag{1}\n",
    "    \\mathrm{d}A = r\\,\\mathrm{d}r\\,\\mathrm{d}\\theta\n",
    "\\end{equation}"
   ]
  },
  {
   "cell_type": "markdown",
   "id": "3be394f6-4b23-4296-952a-1c0ae7d46338",
   "metadata": {},
   "source": [
    "For general $u, v$-coordinates, we do the same thing. The grid curves (4) divide up the\n",
    "plane into small regions $\\Delta A$ bounded by these contour curves. If the contour curves are close\n",
    "together, they will be approximately parallel, so that the grid element will be approximately\n",
    "a small parallelogram, and  \n",
    "\n",
    "![uv-area-element](UV-AreaElement.svg)"
   ]
  },
  {
   "cell_type": "markdown",
   "id": "87e5595a-8eba-4e5a-baf1-4109c4b9b7f8",
   "metadata": {},
   "source": [
    "\\begin{equation}\\tag{4}\n",
    "    \\Delta A \\,\\approxeq\\, \\text{area of parallelogram }\\,\\overline{\\mathit{PQRS}} \\,= \\,\\big|\\,\\overrightarrow{\\mathit{PQ}}\\times\\overrightarrow{\\mathit{PR}}\\,\\big|\n",
    "\\end{equation}"
   ]
  },
  {
   "cell_type": "markdown",
   "id": "6938bfa0-d381-4751-a857-d4be48488cd4",
   "metadata": {},
   "source": [
    "Note that the grid curves found in the above figure are given by:  \n",
    "\n",
    "$$ u(x,y) = u_0 \\quad\\quad u(x,y) = u_0 + \\Delta u \\quad\\quad v(x,y) = v_0 \\quad\\quad v(x,y) = v_0+\\Delta v$$"
   ]
  },
  {
   "cell_type": "markdown",
   "id": "2cf4cbae-24d9-45b0-8935-eae257a6c4eb",
   "metadata": {},
   "source": [
    "where,  \n",
    "\n",
    "$$ u = u(x,y) \\quad\\quad\\text{and}\\quad\\quad v=v(x,y)$$"
   ]
  },
  {
   "cell_type": "markdown",
   "id": "7acfa3f7-a029-476d-a932-3d52088f7177",
   "metadata": {},
   "source": [
    "are the coordinate functions."
   ]
  },
  {
   "cell_type": "markdown",
   "id": "9a79f2c9-7d8c-4c88-9a86-b54fb930a811",
   "metadata": {},
   "source": [
    "Recall that the **Jacobian** is a determinant that can be used to find the area element of a double integral in terms of $u,v$-coordinates.  It's notation and definition are:  \n",
    "\n",
    "\n",
    "$$ \\frac{\\partial(x,y)}{\\partial(u,v)} = \\left|\\begin{matrix}\\tag{2}x_u & x_v \\\\ y_u & y_v\\end{matrix}\\right|$$"
   ]
  },
  {
   "cell_type": "markdown",
   "id": "6d36cf71-335d-4057-93c1-e994bd10133d",
   "metadata": {},
   "source": [
    "The area element is given by:  \n",
    "\n",
    "\\begin{equation}\\tag{3}\n",
    "    \\mathrm{d}A = \\left|\\frac{\\partial(x,y)}{\\partial(u,v)}\\right|\\,\\mathrm{d}u\\,\\mathrm{d}v\n",
    "\\end{equation}"
   ]
  },
  {
   "cell_type": "markdown",
   "id": "ab5f24ac-ec3d-4de0-a838-2116b4dae909",
   "metadata": {},
   "source": [
    "In the $u,v$-coordinate system, the the labeled points have coordinates:  \n",
    "\n",
    "$$ P \\,:\\, (u_0,v_0) \\quad\\quad Q \\, : \\, (u_0+\\Delta u, v_0) \\quad\\quad R\\,:\\,(u_0,v_0+\\Delta v)$$"
   ]
  },
  {
   "cell_type": "markdown",
   "id": "ca5fe13c-e380-4ece-bbd8-d4cb75f82483",
   "metadata": {},
   "source": [
    "To compute the cross product found in equation (4) we must find the above three points' $\\mathbf{i}, \\mathbf{j}$-coordinates.  Note that $\\mathbf{i}$ and $\\mathbf{j}$ point in the same direction as the $x$-axis and $y$-axis respectively.  \n",
    "\n",
    "\\begin{equation}\\tag{5}\n",
    "    \\overrightarrow{\\mathit{PQ}} = \\Delta x\\,\\mathbf{i} +  \\Delta y\\,\\mathbf{j}\n",
    "\\end{equation}"
   ]
  },
  {
   "cell_type": "markdown",
   "id": "79d13cdf-1cd4-4592-8dff-ae03bdb02d9d",
   "metadata": {},
   "source": [
    "where $\\Delta x$ and $\\Delta y$ are the changes in $x$ and $y$ as we hold $v=v_0$ steady and move from $u=u_0$ to $u=u_0 + \\Delta u$;  Or, to put it another way, as we move from $P$ to $Q$.  \n",
    "\n",
    "$$ \\Delta x = Q_x - P_x \\quad\\quad\\text{and}\\quad\\quad \\Delta y = Q_y-P_y$$"
   ]
  },
  {
   "cell_type": "markdown",
   "id": "6bd9af6a-1298-4cc5-b4fd-f7ad58c92a6e",
   "metadata": {},
   "source": [
    "According to the definition of partial derivative:  \n",
    "\n",
    "\\begin{equation}\\tag{5a}\n",
    "    \\Delta x \\approxeq \\left(\\frac{\\partial x}{\\partial u}\\right)_0 \\,\\Delta u \\quad\\quad\\text{and}\\quad\\quad \\Delta y \\approxeq \\left(\\frac{\\partial y}{\\partial u}\\right)_0\\,\\Delta u\n",
    "\\end{equation}"
   ]
  },
  {
   "cell_type": "markdown",
   "id": "99dde981-2c0e-47f1-a01e-5db1b5bb7940",
   "metadata": {},
   "source": [
    "Note that herein we use the following notation for (formal) partial derivatives:  \n",
    "\n",
    "$$ x_u = \\frac{\\partial x}{\\partial u} \\quad\\quad\\text{and}\\quad\\quad x_u(u_0,v_0) = \\left(\\frac{\\partial x}{\\partial u}\\right)_0$$"
   ]
  },
  {
   "cell_type": "markdown",
   "id": "fd4411b0-97be-4c4c-9ea7-4a2a4f97cecc",
   "metadata": {},
   "source": [
    "Via equations (5a) and (5) and substitution,  \n",
    "\n",
    "\\begin{equation}\\tag{6}\n",
    "    \\overrightarrow{\\mathit{PQ}} \\approxeq \\Delta u\\left(\\left(\\frac{\\partial x}{\\partial u}\\right)_0\\,\\mathbf{i} + \\left(\\frac{\\partial y}{\\partial u}\\right)_0\\,\\mathbf{j} \\right)\n",
    "\\end{equation}"
   ]
  },
  {
   "cell_type": "markdown",
   "id": "5ab32c78-f810-4dd4-a4d2-a91eb8f0eb29",
   "metadata": {},
   "source": [
    "In the same way, since in moving from $P$ to $R$, we hold $u=u_0$ and move from $v=v_0$ to $v=v_0+\\Delta v$,  \n",
    "\n",
    "\\begin{equation}\\tag{7}\n",
    "    \\overrightarrow{\\mathit{PR}} \\approxeq \\Delta v\\left(\\left(\\frac{\\partial x}{\\partial v}\\right)_0\\,\\mathbf{i} + \\left(\\frac{\\partial y}{\\partial v}\\right)_0\\,\\mathbf{j}\\right)\n",
    "\\end{equation}"
   ]
  },
  {
   "cell_type": "markdown",
   "id": "316abb72-0c72-4aae-82bf-cfd6d0732207",
   "metadata": {},
   "source": [
    "Now, we can compute the cross product found in equation (4).  Since the operands of said cross product are in the $xy$-plane, $\\overrightarrow{\\mathit{PQ}}\\times\\overrightarrow{\\mathit{PR}}$ only has a $\\mathbf{k}$-component.  Via equations (6) and (7),  \n",
    "\n",
    "\\begin{align*}\n",
    "    \\overrightarrow{\\mathit{PQ}}\\times\\overrightarrow{\\mathit{PR}} &\\approxeq \\left|\\begin{matrix} x_u\\Delta u & y_u\\Delta u \\\\ x_v\\Delta v & y_v\\Delta v\\end{matrix}\\right|_0\\,\\mathbf{k} \\\\ \\\\\n",
    "         &= \\left|\\begin{matrix}x_u & x_v \\\\ y_u & y_v \\end{matrix}\\right|_0\\,\\Delta u\\,\\Delta v\\,\\mathbf{k}\n",
    "\\end{align*}"
   ]
  },
  {
   "cell_type": "markdown",
   "id": "ff7a2fab-0ead-4305-8afa-840fd3b4f756",
   "metadata": {},
   "source": [
    "And, via the above equation and equation (4) and equivalence principle,  \n",
    "\n",
    "$$ \\Delta A \\approxeq \\left|\\begin{matrix} x_u & x_v \\\\ y_u & y_v\\end{matrix}\\right|_0\\,\\Delta u\\,\\Delta v$$"
   ]
  },
  {
   "cell_type": "markdown",
   "id": "8f963f1f-fdc4-43e0-b477-52c96a2a1e9e",
   "metadata": {},
   "source": [
    "Finally, as $(u,v)\\to(u_0,v_0)$ we get the formula involving the **Jacobian** for the area element.  \n",
    "\n",
    "\\begin{align*}\\tag{3}\n",
    "    \\mathrm{d}A &= \\left|\\begin{matrix} x_u & x_v \\\\ y_u & y_v\\end{matrix}\\right|\\,\\mathrm{d}u\\,\\mathrm{d}v \\\\ \\\\\n",
    "     &= \\left|\\frac{\\partial(x,y)}{\\partial(u,v)}\\right|\\,\\mathrm{d}u\\,\\mathrm{d}v\n",
    "\\end{align*}"
   ]
  },
  {
   "cell_type": "markdown",
   "id": "8eb6a3ee-19df-46b0-8053-7409ace7293b",
   "metadata": {},
   "source": [
    "Note that the subscript of the determinant is removed so that $P$ may be any point in the $xy$-plane."
   ]
  },
  {
   "cell_type": "markdown",
   "id": "c0543d7a-80af-495d-b057-085cad6378f1",
   "metadata": {},
   "source": [
    "## Problems\n",
    "\n",
    "#### Problem 1\n",
    "\n",
    "Let $r = \\sqrt{x^2 + y^2}$ and $\\displaystyle\\theta = \\arctan\\frac{y}{x}$. Directly calculate the Jacobian $\\displaystyle \\frac{\\partial(r,\\theta)}{\\partial(x,y)} = \\frac{1}{r}$."
   ]
  },
  {
   "cell_type": "markdown",
   "id": "fa2d5593-5f2d-4994-b7db-e1f4e68c91bf",
   "metadata": {},
   "source": [
    "$$ \\frac{\\partial(x,y)}{\\partial(r,\\theta)} = r \\quad\\therefore\\quad \\frac{\\partial(r,\\theta)}{\\partial(x,y)} = \\frac{1}{r}$$"
   ]
  },
  {
   "cell_type": "markdown",
   "id": "df11d17a-0cc0-491e-8128-2a8340d70649",
   "metadata": {},
   "source": [
    "Now, let's test the above against a different method.  Via the Jacobian formula (equation (2)),  \n",
    "\n",
    "\\begin{equation}\\tag{1.1}\n",
    "    \\frac{\\partial(r,\\theta)}{\\partial(x,y)} = \\left|\\begin{matrix} r_x & r_y \\\\ \\theta_x & \\theta_y\\end{matrix}\\right|\n",
    "\\end{equation}"
   ]
  },
  {
   "cell_type": "markdown",
   "id": "c22730f8-7d96-4c3f-92be-9160712deba6",
   "metadata": {},
   "source": [
    "$$ r_x = \\frac{x}{\\sqrt{x^2+y^2}} \\quad\\quad\\text{and}\\quad\\quad r_y = \\frac{y}{\\sqrt{x^2+y^2}}$$"
   ]
  },
  {
   "cell_type": "markdown",
   "id": "f44cb933-5648-45b7-b434-d0ff4742c358",
   "metadata": {},
   "source": [
    "$$ y = x\\tan\\theta \\quad\\quad\\text{and}\\quad\\quad x = y\\cot\\theta$$"
   ]
  },
  {
   "cell_type": "markdown",
   "id": "95c0ff28-3f62-4823-b39d-09accb16712d",
   "metadata": {},
   "source": [
    "Thus,  \n",
    "\n",
    "$$ \\frac{\\partial y}{\\partial \\theta} = y_\\theta = x\\sec^2\\theta = x\\big(1+\\tan^2\\theta\\big)$$"
   ]
  },
  {
   "cell_type": "markdown",
   "id": "d5e13751-9aa5-4fcf-9e1e-651fecf5f43e",
   "metadata": {},
   "source": [
    "\\begin{equation}\\tag{1.2}\n",
    "    y_\\theta = x\\left(1+\\frac{y^2}{x^2}\\right) = \\frac{x^2+y^2}{x}\\quad\\therefore\\quad \\theta_y = \\frac{x}{x^2+y^2}\n",
    "\\end{equation}"
   ]
  },
  {
   "cell_type": "markdown",
   "id": "0170e2c1-b5a2-4c50-83f3-451d1a5c4215",
   "metadata": {},
   "source": [
    "and,  \n",
    "\n",
    "$$ \\frac{\\partial x}{\\partial \\theta} = -y\\big(1+\\cot^2\\theta\\big) \\quad\\therefore$$"
   ]
  },
  {
   "cell_type": "markdown",
   "id": "c3caa9a2-3bee-464b-955e-8e9a9141b2f0",
   "metadata": {},
   "source": [
    "\\begin{equation}\\tag{1.3}\n",
    "    x_\\theta = -y\\left(1+\\frac{x^2}{y^2}\\right) = -\\frac{x^2+y^2}{y} \\quad\\therefore\\quad \\theta_x = -\\frac{y}{x^2+y^2}\n",
    "\\end{equation}"
   ]
  },
  {
   "cell_type": "markdown",
   "id": "a1b5987a-6c2b-4c9b-a357-cb94358d7100",
   "metadata": {},
   "source": [
    "Via equations (1.1), (1.2), and (1.3) and substitution,  \n",
    "\n",
    "$$ \\frac{\\partial(r,\\theta)}{\\partial(x,y)} = \\left|\\begin{matrix}x & y \\\\ -y & x\\end{matrix}\\right|\\,\\frac{1}{r^3}$$"
   ]
  },
  {
   "cell_type": "markdown",
   "id": "801e790e-a776-42f9-a515-06e21edfd2cd",
   "metadata": {},
   "source": [
    "$$ = \\big(x^2+y^2\\big)\\,\\frac{1}{r^3} = \\frac{r^2}{r^3} = \\frac{1}{r}$$"
   ]
  },
  {
   "cell_type": "markdown",
   "id": "61d5ab59-116e-40e3-ab84-794e707218cb",
   "metadata": {},
   "source": [
    "Q.E.D."
   ]
  },
  {
   "cell_type": "markdown",
   "id": "d73eb783-6feb-47d8-b599-afe7d5c533be",
   "metadata": {},
   "source": [
    "#### Problem 2\n",
    "\n",
    "For the change of variables $x = u$, $y = \\sqrt{r^2 − u^2}$, write $\\mathrm{d}x\\,\\mathrm{d}y$ in terms of $u$ and $r$."
   ]
  },
  {
   "cell_type": "markdown",
   "id": "54762cd7-ff60-4e03-b35b-6b3451340959",
   "metadata": {},
   "source": [
    "The area element is given by:  \n",
    "\n",
    "$$ \\mathrm{d}A = \\mathrm{d}x\\,\\mathrm{d}y \\quad\\quad\\text{and}\\quad\\quad \\mathrm{d}A = \\left|\\frac{\\partial(x,y)}{\\partial(u,r)}\\right|\\,\\mathrm{d}u\\,\\mathrm{d}r$$"
   ]
  },
  {
   "cell_type": "markdown",
   "id": "f18bb9d6-f958-433e-ba66-dcbb314cceea",
   "metadata": {},
   "source": [
    "Via the above two equations and equivalence principle,  \n",
    "\n",
    "$$ \\mathrm{d}x\\,\\mathrm{d}y = \\left|\\frac{\\partial(x,y)}{\\partial(u,r)}\\right|\\,\\mathrm{d}u\\,\\mathrm{d}r$$"
   ]
  },
  {
   "cell_type": "markdown",
   "id": "d9800fce-23b7-4862-85bc-4fb3c63fbe94",
   "metadata": {},
   "source": [
    "The Jacobian is:  \n",
    "\n",
    "$$ \\frac{\\partial(x,y)}{\\partial(u,r)} = \\left|\\begin{matrix} x_u & x_r \\\\ y_u & y_r\\end{matrix}\\right|$$"
   ]
  },
  {
   "cell_type": "markdown",
   "id": "d90c380f-e379-480e-b6f7-862c874ea20e",
   "metadata": {},
   "source": [
    "$$ x_u = 1 \\quad\\quad y_u = -\\frac{u}{\\sqrt{r^2-u^2}} \\quad\\quad y_r = \\frac{r}{\\sqrt{r^2-u^2}}$$"
   ]
  },
  {
   "cell_type": "markdown",
   "id": "8e39c772-96b4-48ec-9143-1e01d96ae447",
   "metadata": {},
   "source": [
    "$$ y = \\sqrt{r^2-x^2} \\quad\\therefore\\quad x^2 = r^2 - y^2 \\quad\\therefore\\quad x=\\sqrt{r^2-y^2}$$"
   ]
  },
  {
   "cell_type": "markdown",
   "id": "c8ba2eb9-08aa-40a9-bcb4-6cb8b5b0faad",
   "metadata": {},
   "source": [
    "$$x_r = \\frac{r - yy_r}{\\sqrt{r^2-y^2}} = 0$$"
   ]
  },
  {
   "cell_type": "markdown",
   "id": "1449f9c8-a802-40d6-b48d-86767276185b",
   "metadata": {},
   "source": [
    "Thus,  \n",
    "\n",
    "$$ \\frac{\\partial(x,y)}{\\partial(u,r)} = x_uy_r - x_ry_u = \\frac{r}{y} + \\frac{u}{r}\\,\\frac{r-yy_r}{\\sqrt{r^2-y^2}} = \\frac{r}{\\sqrt{r^2-u^2}}$$"
   ]
  },
  {
   "cell_type": "markdown",
   "id": "bf1f0832-f4b0-4ab5-9dcd-26a7d0758f0b",
   "metadata": {},
   "source": [
    "Finally,  \n",
    "\n",
    "$$ \\mathrm{d}x\\,\\mathrm{d}y = \\frac{|r|}{\\sqrt{r^2-u^2}}\\,\\mathrm{d}u\\,\\mathrm{d}r$$"
   ]
  }
 ],
 "metadata": {
  "kernelspec": {
   "display_name": "Python 3 (ipykernel)",
   "language": "python",
   "name": "python3"
  },
  "language_info": {
   "codemirror_mode": {
    "name": "ipython",
    "version": 3
   },
   "file_extension": ".py",
   "mimetype": "text/x-python",
   "name": "python",
   "nbconvert_exporter": "python",
   "pygments_lexer": "ipython3",
   "version": "3.10.12"
  }
 },
 "nbformat": 4,
 "nbformat_minor": 5
}
