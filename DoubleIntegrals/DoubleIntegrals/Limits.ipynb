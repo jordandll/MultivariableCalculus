{
 "cells": [
  {
   "cell_type": "markdown",
   "id": "356f6fb2-5925-4dd0-aac4-5b16c06095ba",
   "metadata": {},
   "source": [
    "# Change Variables\n",
    "## Putting in Limits."
   ]
  },
  {
   "cell_type": "markdown",
   "id": "abd32917-e0dc-44e8-86f2-59dff3dd8491",
   "metadata": {},
   "source": [
    "### Example 3\n",
    "Evaluate $\\displaystyle \\int\\!\\int_R\\frac{y}{x}\\,\\mathrm{d}x\\,\\mathrm{d}y$, where $R$ is the region pictured, having as boundaries the curves $x^2 − y^2 = 1$, $x^2 − y^2 = 4$, $y = 0$, $y = x/2$ ."
   ]
  },
  {
   "cell_type": "markdown",
   "id": "1147dba7-b9f4-431b-a685-a395d2c8e248",
   "metadata": {},
   "source": [
    "![example-3](limits-ex3.png)"
   ]
  },
  {
   "cell_type": "markdown",
   "id": "9af40eb8-d2d2-439c-9f0a-70e2c398c3f1",
   "metadata": {},
   "source": [
    "Let  \n",
    "\n",
    "$$ u:=u(x,y) := x^2-y^2 \\quad\\quad\\text{and}\\quad\\quad v:=v(x,y):= \\frac{y}{x}$$"
   ]
  },
  {
   "cell_type": "markdown",
   "id": "a3a63954-51b8-477e-92d9-18977ed5734b",
   "metadata": {},
   "source": [
    "and,  \n",
    "\n",
    "$$ f(x,y):= \\frac{y}{x} = v$$"
   ]
  },
  {
   "cell_type": "markdown",
   "id": "401ca777-c90b-4bab-b089-4bd76ca1b4aa",
   "metadata": {},
   "source": [
    "The area element, in terms of $u$ and $v$, is given by:  \n",
    "\n",
    "$$ \\mathrm{d}A = \\left|\\frac{\\partial(x,y)}{\\partial(u,v)}\\right|\\,\\mathrm{d}u\\,\\mathrm{d}v$$"
   ]
  },
  {
   "cell_type": "markdown",
   "id": "2135fd78-cc7d-4a2e-b833-be9f87c54599",
   "metadata": {},
   "source": [
    "Recall that the **Jacobian** is a determinant that can be used to find the area element of a double integral in terms of $u,v$-coordinates.  It's notation and definition are:  \n",
    "\n",
    "\n",
    "$$ \\frac{\\partial(x,y)}{\\partial(u,v)} = \\left|\\begin{matrix}\\tag{2}x_u & x_v \\\\ y_u & y_v\\end{matrix}\\right|$$"
   ]
  },
  {
   "cell_type": "markdown",
   "id": "15f9f738-aca5-48d8-ba88-5199fd1dc6d9",
   "metadata": {},
   "source": [
    "Via the equations that define $u$ and $v$ and substitution,  \n",
    "\n",
    "$$ u = x^2-v^2x^2 = x^2\\big(1-v^2\\big)$$"
   ]
  },
  {
   "cell_type": "markdown",
   "id": "378ef01a-2cc5-467e-bfbd-17159704e616",
   "metadata": {},
   "source": [
    "Thus,  \n",
    "\n",
    "\\begin{equation}\\tag{3.1a,b}\n",
    "    x = \\pm\\sqrt{\\frac{u}{1-v^2}}\\quad\\quad\\text{and}\\quad\\quad y = \\pm \\,v\\,\\sqrt{\\frac{u}{1-v^2}}\n",
    "\\end{equation}"
   ]
  },
  {
   "cell_type": "markdown",
   "id": "7fcbaa6b-9b35-4b01-80ad-14e6f7421565",
   "metadata": {},
   "source": [
    "Partially differentiating throughout equation (3.1a) with respect to $u$ and $v$ gives:  \n",
    "\n",
    "$$ x_u = \\pm \\frac{1}{2\\sqrt{u\\big(1-v^2\\big)}} = \\frac{x}{2u}$$"
   ]
  },
  {
   "cell_type": "markdown",
   "id": "71f0b552-4c16-4bc9-8380-c7939c66e5ab",
   "metadata": {},
   "source": [
    "and,  \n",
    "\n",
    "$$ x_v = \\pm \\,v\\,\\sqrt{\\frac{u}{\\big(1-v^2\\big)^3}} = \\frac{y}{1-v^2}$$"
   ]
  },
  {
   "cell_type": "markdown",
   "id": "f10930f5-fd45-45be-b14a-686ba6c0cc4a",
   "metadata": {},
   "source": [
    "Partially differentiating throughout equation (3.1b) with respect to $u$ and $v$ gives:  \n",
    "\n",
    "$$ y_u = \\frac{y}{2u}$$"
   ]
  },
  {
   "cell_type": "markdown",
   "id": "873f3103-8be4-47b2-bec9-4229c0305032",
   "metadata": {},
   "source": [
    "and,  \n",
    "\n",
    "$$ y_v = x + \\frac{vy}{1-v^2} = x + vx_v$$"
   ]
  },
  {
   "cell_type": "markdown",
   "id": "50a71c40-62a1-44a8-8bb7-ba9ef12b3907",
   "metadata": {},
   "source": [
    "Via the above four equations, equation (2), and substi"
   ]
  }
 ],
 "metadata": {
  "kernelspec": {
   "display_name": "Python 3 (ipykernel)",
   "language": "python",
   "name": "python3"
  },
  "language_info": {
   "codemirror_mode": {
    "name": "ipython",
    "version": 3
   },
   "file_extension": ".py",
   "mimetype": "text/x-python",
   "name": "python",
   "nbconvert_exporter": "python",
   "pygments_lexer": "ipython3",
   "version": "3.10.12"
  }
 },
 "nbformat": 4,
 "nbformat_minor": 5
}
