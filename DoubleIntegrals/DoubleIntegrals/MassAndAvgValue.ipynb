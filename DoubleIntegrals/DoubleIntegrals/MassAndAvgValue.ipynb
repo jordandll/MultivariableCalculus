{
 "cells": [
  {
   "cell_type": "markdown",
   "id": "619df14c-b4d1-40b3-b29d-b8f733b73000",
   "metadata": {},
   "source": [
    "# Mass and Average Value\n",
    "## Center of Mass\n",
    "\n",
    "**Example 1**:  For two equal masses, the center of mass is at the midpoint between them.  \n",
    "\n",
    "$$ x_\\mathit{cm} = \\frac{x_1+x_2}{2}\\quad\\quad\\text{where } m_1=m_2$$\n",
    "\n",
    "**Example 2**:  For unequal masses the center of mass is a weighted average of their positions.\n",
    "\n",
    "$$ x_\\mathit{cm} = \\frac{2x_1 + x_2}{3} \\quad\\quad\\text{where } m_1, m_2 = 2,1$$"
   ]
  },
  {
   "cell_type": "markdown",
   "id": "bd9bb329-f289-4c91-981c-9f633caf86a4",
   "metadata": {},
   "source": [
    "### Examples\n",
    "\n",
    "#### Example 1\n",
    "\n",
    "Suppose the unit square has density $\\delta = xy$; Find its mass and center of mass."
   ]
  },
  {
   "cell_type": "markdown",
   "id": "c1929fc5-890f-4102-8e98-c76d0f023c66",
   "metadata": {},
   "source": [
    "The mass is given by:  \n",
    "\n",
    "$$ M = \\int\\!\\int_R \\delta\\,\\mathrm{d}A = \\int_0^1\\int_0^1 xy\\,\\mathrm{d}x\\,\\mathrm{d}y$$"
   ]
  },
  {
   "cell_type": "markdown",
   "id": "1ad37312-8d7a-4c46-a1a1-fc09674cfd72",
   "metadata": {},
   "source": [
    "The inner integral is:  \n",
    "\n",
    "$$ 0.5x^2y\\,\\Big\\vert_{\\,0}^{\\,1} = 0.5y$$"
   ]
  },
  {
   "cell_type": "markdown",
   "id": "ffefda21-5256-4adc-9ba4-60835a1e595c",
   "metadata": {},
   "source": [
    "Thus,  \n",
    "\n",
    "$$ M = 0.5\\int_0^1 y\\,\\mathrm{d}y = 0.25y^2\\,\\Big\\vert_{\\,0}^{\\,1} =0.25$$"
   ]
  },
  {
   "cell_type": "markdown",
   "id": "d4d2852d-c841-4cbf-a5b2-1f7896c4eb67",
   "metadata": {},
   "source": [
    "It's center of mass along the $x$-axis is given by:  \n",
    "\n",
    "$$ x_\\mathit{cm} = \\frac{1}{M}\\,\\int\\!\\int_R x\\delta\\,\\mathrm{d}A = 4\\int_0^1\\int_0^1 x^2y\\,\\mathrm{d}x\\,\\mathrm{d}y$$"
   ]
  },
  {
   "cell_type": "markdown",
   "id": "ffd79797-1c59-4686-a4e8-5aa2d844982f",
   "metadata": {},
   "source": [
    "The inner integral is:  \n",
    "\n",
    "$$ \\frac{1}{3}\\,x^3y\\,\\Big\\vert_{\\,0}^{\\,1} = \\frac{y}{3}$$"
   ]
  },
  {
   "cell_type": "markdown",
   "id": "8bc0f203-8e3f-4c81-8c4e-83492982a897",
   "metadata": {},
   "source": [
    "Thus,  \n",
    "\n",
    "$$ x_\\mathit{cm} = \\frac{4}{3}\\int_0^1 y\\,\\mathrm{d}y = \\frac{2}{3}\\,y^2\\,\\Big\\vert_{\\,0}^{\\,1} = \\frac{2}{3}$$"
   ]
  },
  {
   "cell_type": "markdown",
   "id": "868969dd-99e3-467a-9bfa-7b3183633490",
   "metadata": {},
   "source": [
    "And, the center of mass along the $y$-axis is given by:  \n",
    "\n",
    "$$ y_\\mathit{cm} = 4\\int_0^1\\int_0^1 xy^2\\,\\mathrm{d}x\\,\\mathrm{d}y$$"
   ]
  },
  {
   "cell_type": "markdown",
   "id": "7d747263-347a-468e-b6d5-e36062d41a63",
   "metadata": {},
   "source": [
    "$$ = \\frac{2}{3} = x_\\mathit{cm}$$"
   ]
  },
  {
   "cell_type": "markdown",
   "id": "c79a16b8-c99d-438f-83a9-6559ca1bbc2c",
   "metadata": {},
   "source": [
    "Thus,  \n",
    "\n",
    "$$ P_\\mathit{cm} := (x_\\mathit{cm},y_\\mathit{cm}) = \\frac{2}{3}\\,(1,1)$$"
   ]
  },
  {
   "cell_type": "markdown",
   "id": "81b4e5b8-f036-4674-838f-dd61287efb00",
   "metadata": {},
   "source": [
    "## Average Value\n",
    "\n",
    "### Examples  \n",
    "\n",
    "#### Example 1\n",
    "\n",
    "What’s the average distance of a point in a unit square from the center?"
   ]
  },
  {
   "cell_type": "markdown",
   "id": "d9e750bc-2a90-4f7a-889b-393d533623e5",
   "metadata": {},
   "source": [
    "The average distance, denoted as '$D$', is given by:  \n",
    "\n",
    "$$ D = \\int\\!\\int_R w\\,\\mathrm{d}A = \\int_{-0.5}^{0.5}\\int_{-0.5}^{0.5} w\\,\\mathrm{d}x\\,\\mathrm{d}y$$"
   ]
  },
  {
   "cell_type": "markdown",
   "id": "2a5fb00a-8703-44d9-a902-bd8f1c4a793d",
   "metadata": {},
   "source": [
    "where,  \n",
    "\n",
    "$$ w := f(x,y) = \\sqrt{x^2+y^2}$$"
   ]
  },
  {
   "cell_type": "markdown",
   "id": "65b9b8bf-b2b5-4018-bb6d-9a351272a252",
   "metadata": {},
   "source": [
    "is the distance between $(x,y)$ and center at."
   ]
  },
  {
   "cell_type": "markdown",
   "id": "a964ca83-6e13-4f47-a1d3-9fb0502e1ec6",
   "metadata": {},
   "source": [
    "Since it seems to be impossible to find the primitive integral of $w$ in terms of $x$ and $y$, let's try to do so in terms of polar coordinates.  \n",
    "\n",
    "$$ w = f(r,\\theta) = r$$"
   ]
  },
  {
   "cell_type": "markdown",
   "id": "27a7c5a6-8787-4526-aae4-53aa8df6fccd",
   "metadata": {},
   "source": [
    "The boundary curve of the region $R$, which is a unit square centered at origin, is given by:  \n",
    "\n",
    "$$ \\cos\\theta = \\frac{1}{2r} \\quad\\quad\\text{for }\\; -45^\\circ < \\theta < 45^\\circ$$"
   ]
  },
  {
   "cell_type": "markdown",
   "id": "9628fe4f-05c0-4da4-b868-73308361b41d",
   "metadata": {},
   "source": [
    "Thus,  \n",
    "\n",
    "$$ r := g(\\theta) = 0.5\\sec\\theta \\quad\\quad\\text{for }\\;-45^\\circ < \\theta < 45^\\circ$$"
   ]
  },
  {
   "cell_type": "markdown",
   "id": "c0c34135-081d-4958-a10c-bcc5b0284153",
   "metadata": {},
   "source": [
    "Finally,  \n",
    "\n",
    "$$ D = \\int_{-0.25\\pi}^{0.25\\pi}\\int_{0}^{g(\\theta)} r^2\\,\\mathrm{d}r\\,\\mathrm{d}\\theta$$"
   ]
  },
  {
   "cell_type": "markdown",
   "id": "1a330ce5-4ba4-484e-9335-e49d108a8c29",
   "metadata": {},
   "source": [
    "The inner integral is:  \n",
    "\n",
    "$$ \\frac{1}{24}\\,\\sec^3\\theta$$"
   ]
  },
  {
   "cell_type": "markdown",
   "id": "8261be38-953b-4db1-a2d0-11ec46a11f39",
   "metadata": {},
   "source": [
    "Thus,  \n",
    "\n",
    "$$ D = \\frac{1}{24}\\int_{-0.25\\pi}^{0.25\\pi}\\sec^3\\theta\\,\\mathrm{d}\\theta$$"
   ]
  },
  {
   "cell_type": "markdown",
   "id": "9f593a35-e3e8-4068-b709-3b444fa586ab",
   "metadata": {},
   "source": [
    "The primitive integral of the integrand found in the above equation is:  \n",
    "\n",
    "$$ \\int \\sec^3\\theta\\,\\mathrm{d}\\theta = \\text{???}$$"
   ]
  },
  {
   "cell_type": "markdown",
   "id": "56c498c1-8d00-40c7-96b2-49c9942b45ca",
   "metadata": {},
   "source": [
    "Since it seems to be impossible to compute the above primitive integral, let's try a change in the order of integration.  \n",
    "\n",
    "$$ D = 0.25\\pi + 2\\int_{0.5}^\\sqrt{0.5}\\int_{h(r)}^{0.25\\pi}r^2\\,\\mathrm{d}\\theta\\,\\mathrm{d}r$$"
   ]
  },
  {
   "cell_type": "markdown",
   "id": "f4288a02-e015-45a5-9fe7-9fcb148a033f",
   "metadata": {},
   "source": [
    "where,  \n",
    "\n",
    "$$ \\theta:=h(r)=\\arccos \\frac{1}{2r}$$"
   ]
  }
 ],
 "metadata": {
  "kernelspec": {
   "display_name": "Python 3 (ipykernel)",
   "language": "python",
   "name": "python3"
  },
  "language_info": {
   "codemirror_mode": {
    "name": "ipython",
    "version": 3
   },
   "file_extension": ".py",
   "mimetype": "text/x-python",
   "name": "python",
   "nbconvert_exporter": "python",
   "pygments_lexer": "ipython3",
   "version": "3.10.12"
  }
 },
 "nbformat": 4,
 "nbformat_minor": 5
}
