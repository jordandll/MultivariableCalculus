{
 "cells": [
  {
   "cell_type": "markdown",
   "id": "29f5e58d-5fa5-4483-8aef-1df0611c851f",
   "metadata": {},
   "source": [
    "# Moment of Inertia\n",
    "\n",
    "### Problem 1\n",
    "\n"
   ]
  },
  {
   "cell_type": "markdown",
   "id": "bc759bb0-b19e-47d0-89dd-5da69e8dd15e",
   "metadata": {},
   "source": [
    "Let $R$ be the triangle with vertices $(0, 0)$, $(1, 0)$, $\\big(1, \\sqrt{3}\\big)$ and density $\\delta = 1$. Find the\n",
    "polar moment of inertia.  "
   ]
  },
  {
   "cell_type": "markdown",
   "id": "f699fbe8-b1b5-414a-bb75-3c7eb6e0fc1d",
   "metadata": {},
   "source": [
    "$$ I = \\int\\!\\int_R \\big(x^2+y^2\\big)\\delta\\,\\mathrm{d}A$$"
   ]
  },
  {
   "cell_type": "markdown",
   "id": "7cc82b65-39b5-4bfd-a3f4-e9b996f6b2f3",
   "metadata": {},
   "source": [
    "$$ = \\int_0^1\\int_0^{\\sqrt{3}x}\\big(x^2+y^2\\big)\\,\\mathrm{d}y\\,\\mathrm{d}x$$"
   ]
  },
  {
   "cell_type": "markdown",
   "id": "f6b34b9e-3b65-4549-a7d5-f9cc5593a8ac",
   "metadata": {},
   "source": [
    "The inner integral is:  \n",
    "\n",
    "$$ \\left.\\left(x^2y+\\frac{y^3}{3}\\right)\\right\\vert_{\\,0}^{\\,\\sqrt{3}x}$$"
   ]
  },
  {
   "cell_type": "markdown",
   "id": "d5e157b8-24f9-46fe-afdb-5611b997e7a7",
   "metadata": {},
   "source": [
    "$$ = \\sqrt{3}x^3 + \\sqrt{3}x^3 = 2\\sqrt{3}x^3$$"
   ]
  },
  {
   "cell_type": "markdown",
   "id": "6da888d5-0c76-4076-afa8-740ea1ab403b",
   "metadata": {},
   "source": [
    "Thus,  \n",
    "\n",
    "$$ I = 2\\sqrt{3}\\int_0^1 x^3\\,\\mathrm{d}x$$"
   ]
  },
  {
   "cell_type": "markdown",
   "id": "4427bde5-a28e-49ca-baf4-c77243e9cfd6",
   "metadata": {},
   "source": [
    "$$ = 0.5\\sqrt{3}$$"
   ]
  }
 ],
 "metadata": {
  "kernelspec": {
   "display_name": "Python 3 (ipykernel)",
   "language": "python",
   "name": "python3"
  },
  "language_info": {
   "codemirror_mode": {
    "name": "ipython",
    "version": 3
   },
   "file_extension": ".py",
   "mimetype": "text/x-python",
   "name": "python",
   "nbconvert_exporter": "python",
   "pygments_lexer": "ipython3",
   "version": "3.10.12"
  }
 },
 "nbformat": 4,
 "nbformat_minor": 5
}
