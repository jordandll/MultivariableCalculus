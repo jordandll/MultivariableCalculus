{
 "cells": [
  {
   "cell_type": "markdown",
   "id": "8416ff84-9c42-4494-a87c-e5daaf6f6543",
   "metadata": {},
   "source": [
    "# Integration Rules\n",
    "\n",
    "### Rule 1\n",
    "**Proposition**:  $$ \\int_c^d\\int_a^b\\big(f(x,y)+g(x,y)\\big)\\,\\mathrm{d}y\\,\\mathrm{d}x = \\int_c^d\\int_a^b f(x,y)\\,\\mathrm{d}y\\,\\mathrm{d}x + \\int_c^d\\int_a^b g(x,y)\\,\\mathrm{d}y\\,\\mathrm{d}x$$"
   ]
  },
  {
   "cell_type": "markdown",
   "id": "fe9042e3-1db4-4ea1-bb40-09321f63594f",
   "metadata": {},
   "source": [
    "**Proof**:  \n",
    "\n",
    "Let $h(x,y)$ be defined as the integrand and '$R$' denote the region of integration.  \n",
    "\n",
    "Via the fact that $\\displaystyle \\int_a^b \\big(f(y) + g(y)\\big)\\,\\mathrm{d}y = \\int_a^b f(y)\\,\\mathrm{d}y + \\int_a^b g(y)\\,\\mathrm{d}y$,  \n",
    "\n",
    "$$ \\int\\!\\int_R h(x,y)\\,\\mathrm{d}A = \\int_c^d\\left(\\int_a^b f(x,y)\\,\\mathrm{d}y + \\int_a^b g(x,y)\\,\\mathrm{d}y\\right)\\,\\mathrm{d}x$$"
   ]
  }
 ],
 "metadata": {
  "kernelspec": {
   "display_name": "Python 3 (ipykernel)",
   "language": "python",
   "name": "python3"
  },
  "language_info": {
   "codemirror_mode": {
    "name": "ipython",
    "version": 3
   },
   "file_extension": ".py",
   "mimetype": "text/x-python",
   "name": "python",
   "nbconvert_exporter": "python",
   "pygments_lexer": "ipython3",
   "version": "3.10.12"
  }
 },
 "nbformat": 4,
 "nbformat_minor": 5
}
