{
 "cells": [
  {
   "cell_type": "markdown",
   "id": "6dffe669-bd1e-425d-b0d1-235400bf8987",
   "metadata": {},
   "source": [
    "# Problem Set 7\n",
    "## Part II"
   ]
  },
  {
   "cell_type": "code",
   "execution_count": 1,
   "id": "8e8a39cf-7f07-451b-818e-0e239c23f9a4",
   "metadata": {
    "tags": []
   },
   "outputs": [],
   "source": [
    "import numpy as np\n",
    "import matplotlib.pyplot as plt\n",
    "import sympy as sp"
   ]
  },
  {
   "cell_type": "markdown",
   "id": "b9b325cb-0644-4cda-8e99-443fede1d8e2",
   "metadata": {},
   "source": [
    "### Problem 1\n",
    "**a)**  Sketch the solid in the first octant bounded by the $xy$, $yz$ and $xz$ coordinate planes,\n",
    "the plane give by $x + y = 4$ $(z=z)$ and the surface given by $z = \\sqrt{4 - x}$ $(y=y)$.  "
   ]
  },
  {
   "cell_type": "markdown",
   "id": "281de763-ae46-4cb2-9d59-1f3583ff6451",
   "metadata": {},
   "source": [
    "The region $R$ is bounded by the $x$ and $y$ axis and the line given by:  \n",
    "\n",
    "$$ y := f(x) = 4-x$$"
   ]
  },
  {
   "cell_type": "markdown",
   "id": "60df4809-ef18-43a6-adb8-fc20c30e3480",
   "metadata": {},
   "source": [
    "While, the surface is given by:  \n",
    "\n",
    "$$ z:= g(x,y) = \\sqrt{4-x} \\quad\\quad \\big(x,y,g(x,y)\\big)$$"
   ]
  },
  {
   "cell_type": "code",
   "execution_count": 2,
   "id": "3b4798f1-ca90-47f9-83cb-79dd1b37b02d",
   "metadata": {
    "jupyter": {
     "source_hidden": true
    },
    "tags": []
   },
   "outputs": [
    {
     "data": {
      "image/png": "[encoded data removed]",
      "text/plain": [
       "<Figure size 640x480 with 2 Axes>"
      ]
     },
     "metadata": {},
     "output_type": "display_data"
    }
   ],
   "source": [
    "# Create the domain.\n",
    "x = np.linspace(0,4,num=50)\n",
    "X, Y = np.meshgrid(x,x)\n",
    "\n",
    "# Define the functions\n",
    "f = 4-x\n",
    "G = g = np.sqrt(4-X)\n",
    "\n",
    "# Create the figure and axes objects.\n",
    "fig, ax = plt.subplots()\n",
    "ax.set_xlabel('x-axis')\n",
    "ax.set_ylabel('y-axis')\n",
    "\n",
    "# Plot the functions.\n",
    "ax.plot([0 for i in range(len(x))],x,color='k')\n",
    "ax.plot(x,[0 for i in range(len(x))],color='k')\n",
    "ax.plot(x,f,color='k')\n",
    "cs = ax.contour(X,Y,G,levels=12)\n",
    "cb = fig.colorbar(cs)"
   ]
  },
  {
   "cell_type": "markdown",
   "id": "a3dc811f-dbad-436c-8795-148daacc1925",
   "metadata": {},
   "source": [
    "**b)** Find the volume of the solid of part a)."
   ]
  },
  {
   "cell_type": "markdown",
   "id": "fb3cabdb-ba2e-494a-bca2-cd61cc08591b",
   "metadata": {},
   "source": [
    "$$ V = \\int\\!\\int_R z\\,\\mathrm{d}A = \\int_0^4\\int_0^{f(x)}\\sqrt{4-x}\\,\\mathrm{d}y\\,\\mathrm{d}x$$"
   ]
  },
  {
   "cell_type": "markdown",
   "id": "930183bb-ce11-494a-9e66-d92c85324e4f",
   "metadata": {},
   "source": [
    "$$ = \\int_0^4f(x)\\sqrt{4-x}\\,\\mathrm{d}x$$"
   ]
  },
  {
   "cell_type": "markdown",
   "id": "70f204fe-0ff1-41b4-996c-53f1e309c859",
   "metadata": {},
   "source": [
    "$$ \\int\\sqrt{f^3(x)}\\,\\mathrm{d}x = -\\frac{2}{5}\\sqrt{f^5(x)} + K$$"
   ]
  },
  {
   "cell_type": "markdown",
   "id": "4c865ed7-56e8-4f45-8357-63cc4eba916c",
   "metadata": {},
   "source": [
    "Finally,  \n",
    "\n",
    "$$ V = -\\frac{2}{5}\\Big(\\sqrt{f^5(4)}-\\sqrt{f^5(0)}\\Big)$$"
   ]
  },
  {
   "cell_type": "markdown",
   "id": "78cb9293-bdb6-47f6-bcfe-a5a6325b9cde",
   "metadata": {},
   "source": [
    "$$ = \\frac{2}{5}\\sqrt{4^5}$$"
   ]
  },
  {
   "cell_type": "markdown",
   "id": "10e8e40c-8a07-4a71-9ebf-44574736d805",
   "metadata": {},
   "source": [
    "$$ = \\frac{2^6}{5}$$"
   ]
  },
  {
   "cell_type": "code",
   "execution_count": 3,
   "id": "dccc62b6-0c30-43fc-a23a-971521aa8b38",
   "metadata": {
    "tags": []
   },
   "outputs": [
    {
     "data": {
      "text/plain": [
       "12.8"
      ]
     },
     "execution_count": 3,
     "metadata": {},
     "output_type": "execute_result"
    }
   ],
   "source": [
    "64/5"
   ]
  },
  {
   "cell_type": "markdown",
   "id": "33b3f274-0ab1-4508-893e-ef62e072a4de",
   "metadata": {},
   "source": [
    "### Problem 3\n",
    "\n",
    "**a)** Find the formula for the centroid (center of mass assuming density = $1$) of a\n",
    "uniform plane region in the shape of circular sector of radius $a$ and central angle $\\theta$\n",
    "(in terms of $a$ and $\\theta$).  "
   ]
  },
  {
   "cell_type": "markdown",
   "id": "e5f29b47-b8a0-44e6-b099-c14e17c17767",
   "metadata": {},
   "source": [
    "The total mass, denoted as '$M$', is equal to the area of this circular sector.  \n",
    "\n",
    "$$ M = \\text{area }R = 0.5\\theta a^2$$"
   ]
  },
  {
   "cell_type": "markdown",
   "id": "34aea19d-cfab-4620-a960-5d0d6735fefc",
   "metadata": {},
   "source": [
    "The $x$-coordinate of the centroid is:  \n",
    "\n",
    "$$ x_\\mathit{cm} = \\frac{1}{M}\\int\\!\\int_R x\\,\\mathrm{d}A$$"
   ]
  },
  {
   "cell_type": "markdown",
   "id": "bb152f61-bdf3-4751-a275-14ad9d78fe44",
   "metadata": {},
   "source": [
    "Note that, henceforth in our attempt at solving this problem, until stated otherwise, it is assumed that:  \n",
    "\n",
    "$$ 0 < \\theta < 90^\\circ$$"
   ]
  },
  {
   "cell_type": "markdown",
   "id": "4922a50c-2a27-45d8-b1a7-31133db6d804",
   "metadata": {},
   "source": [
    "The region $R$ is bounded by:  \n",
    "\n",
    "$$ y:=f(x) = \\sqrt{a^2-x^2} \\quad\\quad y = 0 \\quad\\quad y:=g(x)=\\tan\\theta x$$"
   ]
  },
  {
   "cell_type": "markdown",
   "id": "6681bab9-00f0-4523-82d4-ad8b2b255f0f",
   "metadata": {},
   "source": [
    "which must be divided into two subregions, $R_1$ and $R_2$, by the line given by:  \n",
    "\n",
    "$$ x := x_1 = a\\cos\\theta$$"
   ]
  },
  {
   "cell_type": "markdown",
   "id": "9eaefcd4-39ef-4e8e-8a3f-0c255203d787",
   "metadata": {},
   "source": [
    "Thus,  \n",
    "\n",
    "$$ x_\\mathit{cm} = \\frac{1}{M}\\left(\\int\\!\\int_{R_1}x\\,\\mathrm{d}A + \\int\\!\\int_{R_2}x\\,\\mathrm{d}A\\right)$$"
   ]
  },
  {
   "cell_type": "markdown",
   "id": "f8bfcfa0-fbed-4433-9198-78ce0fbe8ac0",
   "metadata": {},
   "source": [
    "$$ \\int\\!\\int_{R_1}x\\,\\mathrm{d}A = \\int_0^{x_1}\\int_0^{g(x)} x\\,\\mathrm{d}y\\,\\mathrm{d}x = \\tan\\theta\\int_0^{x_1}x^2\\,\\mathrm{d}x $$"
   ]
  },
  {
   "cell_type": "markdown",
   "id": "cf720172-10e8-4031-ae75-8701cc1733b6",
   "metadata": {},
   "source": [
    "\\begin{equation}\\tag{3.1.1}\n",
    "    = \\frac{a^3\\cos^3\\theta}{3}\\,\\frac{\\sin\\theta}{\\cos\\theta} = \\frac{1}{3}a^3\\cos^2\\theta\\sin\\theta\n",
    "\\end{equation}"
   ]
  },
  {
   "cell_type": "markdown",
   "id": "d6a481fa-18cf-4f19-8f60-7af71a82143e",
   "metadata": {},
   "source": [
    "$$ \\int\\!\\int_{R_2}x\\,\\mathrm{d}A = \\int_{x_1}^a\\int_0^{f(x)}x\\,\\mathrm{d}y\\,\\mathrm{d}x$$"
   ]
  },
  {
   "cell_type": "markdown",
   "id": "9b3f78a1-d3ba-451d-91ba-f56547b2f752",
   "metadata": {},
   "source": [
    "$$ = \\int_{x_1}^af(x)x\\,\\mathrm{d}x$$"
   ]
  },
  {
   "cell_type": "markdown",
   "id": "510e2e85-42d9-4ed2-b845-7c4c8b94d2f3",
   "metadata": {},
   "source": [
    "The primitive integral of the above integrand is:  \n",
    "\n",
    "$$ \\int x\\sqrt{a^2-x^2}\\,\\mathrm{d}x = K-\\frac{1}{3}\\sqrt{\\big(a^2-x^2\\big)^3} = K - \\frac{1}{3}f^3(x)$$"
   ]
  },
  {
   "cell_type": "markdown",
   "id": "373c8154-a403-4814-9eac-a2490d3384ba",
   "metadata": {},
   "source": [
    "Thus,  \n",
    "\n",
    "$$ \\int\\!\\int_{R_2}x\\,\\mathrm{d}A = \\frac{1}{3}\\big(f^3(x_1)-f^3(a)\\big) = \\frac{f^3(x_1)}{3}$$"
   ]
  },
  {
   "cell_type": "markdown",
   "id": "3b60602b-cf49-46ea-b42a-1bbbbbce5d29",
   "metadata": {},
   "source": [
    "$$ f(x_1) = a\\sqrt{1-\\cos^2\\theta} = a\\sin\\theta$$"
   ]
  },
  {
   "cell_type": "markdown",
   "id": "7f1a6929-4797-4e86-9710-cc8e4a72121e",
   "metadata": {},
   "source": [
    "Therefore,  \n",
    "\n",
    "\\begin{equation}\\tag{3.1.2}\n",
    "    \\int\\!\\int_{R_2}x\\,\\mathrm{d}A = \\frac{a^3\\sin^3\\theta}{3}\n",
    "\\end{equation}"
   ]
  },
  {
   "cell_type": "markdown",
   "id": "5610d113-259f-4d00-b590-e85605f72796",
   "metadata": {},
   "source": [
    "Finally,  \n",
    "\n",
    "\\begin{equation}\\tag{3.1}\n",
    "    x_\\mathit{cm} = \\frac{2a\\sin\\theta}{3\\theta}\n",
    "\\end{equation}"
   ]
  },
  {
   "cell_type": "markdown",
   "id": "a5571e18-80b5-432d-9ed4-72e47999d692",
   "metadata": {},
   "source": [
    "The $y$-coordinate of the centroid is:  \n",
    "\n",
    "$$ y_\\mathit{cm} = \\frac{1}{M}\\int\\!\\int_R y\\,\\mathrm{d}A = \\frac{2}{\\theta a^2}\\left(\\int\\!\\int_{R_1}y\\,\\mathrm{d}A + \\int\\!\\int_{R_2}y\\,\\mathrm{d}A\\right)$$"
   ]
  },
  {
   "cell_type": "markdown",
   "id": "b900fe59-b009-49c8-8c76-5335eac669f1",
   "metadata": {},
   "source": [
    "$$ \\int\\!\\int_{R_1}y\\,\\mathrm{d}A = \\int_0^{x_1}\\int_0^{g(x)}y\\,\\mathrm{d}y\\,\\mathrm{d}x$$"
   ]
  },
  {
   "cell_type": "markdown",
   "id": "9d92a39a-afd9-4101-89d6-031b0e8f862d",
   "metadata": {},
   "source": [
    "A change in the order of integration is warranted.  \n",
    "\n",
    "$$ \\int\\!\\int_{R}y\\,\\mathrm{d}A = \\int_0^{y_1}\\int_{g(y)}^{f(y)}y\\,\\mathrm{d}x\\,\\mathrm{d}y$$"
   ]
  },
  {
   "cell_type": "markdown",
   "id": "92dea2eb-be29-42d6-8671-7878b4f6eb7c",
   "metadata": {},
   "source": [
    "where,  \n",
    "\n",
    "$$ y:=y_1 = a\\sin\\theta \\quad\\quad x:= f(y) = \\sqrt{a^2-y^2}\\quad\\quad x:=g(y) = \\cot\\theta y$$"
   ]
  },
  {
   "cell_type": "markdown",
   "id": "a60f3004-a506-4c17-af3f-56e3b2fb26e9",
   "metadata": {},
   "source": [
    "$$ \\int\\!\\int_{R}y\\,\\mathrm{d}A = \\int_0^{y_1}y\\big(f(y)-g(y)\\big)\\,\\mathrm{d}y$$"
   ]
  },
  {
   "cell_type": "markdown",
   "id": "ace43f22-9514-42a5-a33e-9b99fd86f55e",
   "metadata": {},
   "source": [
    "$$ = \\int_0^{y_1}y\\sqrt{a^2-y^2}\\,\\mathrm{d}y - \\cot\\theta\\int_0^{y_1}y^2\\,\\mathrm{d}y$$"
   ]
  },
  {
   "cell_type": "markdown",
   "id": "9126298f-81a9-4664-82fc-5d05e3893c8b",
   "metadata": {},
   "source": [
    "The primitive integral of the integrand of the first term, from left to right, of the above expression is:  \n",
    "\n",
    "$$ \\int yf(y)\\,\\mathrm{d}y = K-\\frac{f^3(y)}{3} $$"
   ]
  },
  {
   "cell_type": "markdown",
   "id": "2f4d5423-841b-42bf-9759-22dfcc60a29a",
   "metadata": {},
   "source": [
    "Thus, the aforementioned term is:  \n",
    "\n",
    "$$ \\int_0^{y_1}yf(y)\\,\\mathrm{d}y = \\frac{1}{3}\\big(f^3(0) -f^3(y_1)\\big)$$"
   ]
  },
  {
   "cell_type": "markdown",
   "id": "24c52a39-efd0-47b6-8e9b-dfab5abc0e77",
   "metadata": {},
   "source": [
    "$$ = \\frac{1}{3}\\big(a^3 - f^3(y_1)\\big)$$"
   ]
  },
  {
   "cell_type": "markdown",
   "id": "03682350-3832-4387-a4b4-b907f7a098f7",
   "metadata": {},
   "source": [
    "$$ f(y_1) = a\\cos\\theta$$"
   ]
  },
  {
   "cell_type": "markdown",
   "id": "e9a2348e-c464-45b5-8d05-609afec9998f",
   "metadata": {},
   "source": [
    "$$ \\int_0^{y_1}yf(y)\\,\\mathrm{d}y = \\frac{a^3}{3}\\big(1-\\cos^3\\theta\\big)$$"
   ]
  },
  {
   "cell_type": "markdown",
   "id": "4c62f068-9545-41da-806c-d2c5db140abd",
   "metadata": {},
   "source": [
    "And, the other term of the aforementioned expression is:  \n",
    "\n",
    "$$ \\cot\\theta\\int_0^{y_1}y^2\\,\\mathrm{d}y = \\frac{\\cos\\theta}{3\\sin\\theta}a^3\\sin^3\\theta$$"
   ]
  },
  {
   "cell_type": "markdown",
   "id": "dd8b46d5-d864-476e-8383-f5f26ffb7587",
   "metadata": {},
   "source": [
    "$$ = \\frac{1}{3}a^3\\sin^2\\theta\\cos\\theta$$"
   ]
  },
  {
   "cell_type": "markdown",
   "id": "d6d3bb9e-61fb-4e45-8537-3b404d52dd7a",
   "metadata": {},
   "source": [
    "Finally, the double integral over the region $R$ is:  \n",
    "\n",
    "$$ \\int\\!\\int_{R}y\\,\\mathrm{d}A = \\frac{a^3}{3}\\Big(1 - \\cos\\theta\\big(\\sin^2\\theta + \\cos^2\\theta\\big)\\Big)$$"
   ]
  },
  {
   "cell_type": "markdown",
   "id": "7f79b2b5-21a7-473b-92ec-94cbfd30e011",
   "metadata": {},
   "source": [
    "\\begin{equation}\\tag{3.2a}\n",
    "    = \\frac{a^3}{3}\\,\\big(1-\\cos\\theta\\big)\n",
    "\\end{equation}"
   ]
  },
  {
   "cell_type": "markdown",
   "id": "76a6b949-8e9d-4d48-83ac-71437cd564d5",
   "metadata": {},
   "source": [
    "The $y$-coordinate of the centroid is:  \n",
    "\n",
    "\\begin{equation}\\tag{3.2}\n",
    "    y_\\mathit{cm} = \\frac{2a}{3\\theta}\\big(1-\\cos\\theta\\big)\n",
    "\\end{equation}"
   ]
  },
  {
   "cell_type": "markdown",
   "id": "d00324d8-9df9-417a-848b-cbf393b8a3ff",
   "metadata": {},
   "source": [
    "Assuming  \n",
    "\n",
    "$$ \\theta = 90^\\circ$$"
   ]
  },
  {
   "cell_type": "markdown",
   "id": "3cc34259-59c0-47ef-8ffe-a9acca482d46",
   "metadata": {},
   "source": [
    "the region $R$ is bounded by:  \n",
    "\n",
    "$$ y:= f(x) = \\sqrt{a^2-x^2} \\quad\\quad y = 0 \\quad\\quad x := x_0 = 0$$"
   ]
  },
  {
   "cell_type": "markdown",
   "id": "2771ffc1-5e27-4882-9d31-dc1511b70211",
   "metadata": {},
   "source": [
    "The $x$-coordinate of the centroid is:  \n",
    "\n",
    "$$ x_\\mathit{cm} = \\frac{1}{M}\\int\\!\\int_R x\\,\\mathrm{d}A = \\frac{2}{\\theta a^2}\\int_0^a\\int_0^{f(x)}x\\,\\mathrm{d}y\\,\\mathrm{d}x$$"
   ]
  },
  {
   "cell_type": "markdown",
   "id": "f921e3f1-f9d6-426e-9dd8-efe08787aca3",
   "metadata": {},
   "source": [
    "$$ = \\frac{2}{\\theta a^2}\\int_0^a xf(x)\\,\\mathrm{d}x$$"
   ]
  },
  {
   "cell_type": "markdown",
   "id": "b9efeef5-7618-446f-a86d-73619a861c48",
   "metadata": {},
   "source": [
    "The primitive integral of the above integrand is:  \n",
    "\n",
    "\\begin{equation}\\tag{3.3}\n",
    "    \\int xf(x)\\,\\mathrm{d}x = K-\\frac{f^3(x)}{3}\n",
    "\\end{equation}"
   ]
  },
  {
   "cell_type": "markdown",
   "id": "34883d3a-daad-4784-97a4-39a0aec9183d",
   "metadata": {},
   "source": [
    "Thus,  \n",
    "\n",
    "$$ x_\\mathit{cm} = \\frac{2}{3\\theta a^2}\\big(f^3(0)-f^3(a)\\big)  = \\frac{2}{3\\theta a^2}\\big(a^3\\big)$$"
   ]
  },
  {
   "cell_type": "markdown",
   "id": "6cce4196-52dd-4ae4-8b7a-190c0bc12b34",
   "metadata": {},
   "source": [
    "\\begin{equation}\\tag{3.1}\n",
    "    = \\frac{2a}{3\\theta} = \\frac{2a\\sin90^\\circ}{3\\theta} = \\frac{4a}{3\\pi}\n",
    "\\end{equation}"
   ]
  },
  {
   "cell_type": "code",
   "execution_count": 5,
   "id": "95fd46b1-4472-425e-b775-ed9c93264bc1",
   "metadata": {
    "tags": []
   },
   "outputs": [
    {
     "data": {
      "text/plain": [
       "0.4244131815783876"
      ]
     },
     "execution_count": 5,
     "metadata": {},
     "output_type": "execute_result"
    }
   ],
   "source": [
    "4/(3*np.pi)"
   ]
  },
  {
   "cell_type": "markdown",
   "id": "b29b29f4-12bc-4867-8529-03083be0c6ff",
   "metadata": {},
   "source": [
    "Via the above equation and symmetry,  \n",
    "\n",
    "\\begin{equation}\\tag{3.2}\n",
    "    y_\\mathit{cm} = \\frac{2a}{3\\theta} = \\frac{2a}{3\\theta}\\big(1-\\cos90^\\circ\\big) = x_\\mathit{cm}\n",
    "\\end{equation}"
   ]
  },
  {
   "cell_type": "markdown",
   "id": "4d2ceb5c-a3f1-4351-a241-c9b3871c9353",
   "metadata": {},
   "source": [
    "Assuming  \n",
    "\n",
    "$$ \\theta = 90^\\circ + \\alpha \\quad\\quad\\text{where }\\,0<\\alpha <90^\\circ$$"
   ]
  },
  {
   "cell_type": "markdown",
   "id": "9ab1fc0f-cea2-4468-8ed2-11cf1f8bdb5c",
   "metadata": {},
   "source": [
    "The region $R$ must be divided into two subregions, $R_1$ and $R_2$, with the dividing line being the $y$-axis.  The quarter semi-circle in the first quadrant of the $x,y$-plane is $R_2$.  The other subregion is bounded by the $y$-axis $y=g(x)$ and $y=f(x)$.  Thus, the $x$-coordinate of the centroid is:    \n",
    "\n",
    "$$ x_\\mathit{cm} = \\frac{1}{M}\\int\\!\\int_R x\\,\\mathrm{d}A = \\frac{1}{M}\\left(\\int\\!\\int_{R_1}x\\,\\mathrm{d}A + \\int\\!\\int_{R_2}x\\,\\mathrm{d}A\\right)$$"
   ]
  },
  {
   "cell_type": "markdown",
   "id": "ba3ba118-7517-4543-8c6e-c99f2409c273",
   "metadata": {},
   "source": [
    "$$ \\int\\!\\int_{R_1}x\\,\\mathrm{d}A = \\int_{x_1}^0\\int_{g(x)}^{f(x)}x\\,\\mathrm{d}y\\,\\mathrm{d}x = \\int_{x_1}^0 x\\big(f(x)-g(x)\\big)\\,\\mathrm{d}x$$"
   ]
  },
  {
   "cell_type": "markdown",
   "id": "33ca10aa-e53a-4af1-9db0-6d7e6e37b3a2",
   "metadata": {},
   "source": [
    "$$ = \\int_{x_1}^0xf(x)\\,\\mathrm{d}x - \\tan\\theta\\int_{x_1}^0 x^2\\,\\mathrm{d}x  = \\frac{1}{3}\\big(f^3(x_1) - f^3(0)\\big) + \\frac{x_1^3}{3}\\frac{\\sin\\theta}{\\cos\\theta}$$"
   ]
  },
  {
   "cell_type": "markdown",
   "id": "a7625ca4-0f9a-49a1-9328-9b44f9aef78f",
   "metadata": {},
   "source": [
    "$$ = \\frac{1}{3}\\big(a^3\\sin^3\\theta - a^3 + a^3\\cos^2\\theta\\sin\\theta\\big) = \\frac{1}{3}\\big(a^3\\sin\\theta-a^3\\big)$$"
   ]
  },
  {
   "cell_type": "markdown",
   "id": "f2f47205-eabd-404b-9790-b29457244942",
   "metadata": {},
   "source": [
    "\\begin{equation}\\tag{3.3.1}\n",
    "    \\int\\!\\int_{R_1}x\\,\\mathrm{d}A= \\frac{a^3}{3}\\big(\\sin\\theta-1\\big)\n",
    "\\end{equation}"
   ]
  },
  {
   "cell_type": "markdown",
   "id": "11788fbb-2b62-4c43-a00e-f27ea79bb107",
   "metadata": {},
   "source": [
    "Now, let's test the above equation against a different approach.  \n",
    "\n",
    "$$ \\int\\!\\int_{R_1} x\\,\\mathrm{d}A = -\\int_0^{-x_1}\\int_{g(-x)}^{f(x)} x\\,\\mathrm{d}y\\,\\mathrm{d}x$$"
   ]
  },
  {
   "cell_type": "markdown",
   "id": "aa3b6cca-c087-4dee-8041-7f9f18474d1f",
   "metadata": {},
   "source": [
    "$$ g(-x) = -\\tan(\\theta) x = \\cot(\\alpha) x \\quad\\quad\\text{and}\\quad\\quad -x_1 = -a\\cos\\theta = a\\sin\\alpha$$"
   ]
  },
  {
   "cell_type": "markdown",
   "id": "5175c314-4d46-487a-8997-2cc110ac5f7b",
   "metadata": {},
   "source": [
    "$$ \\int\\!\\int_{R_1}x\\,\\mathrm{d}A = -\\int_0^{-x_1}x\\big(f(x) - \\cot(\\alpha)x\\big)\\,\\mathrm{d}x  = -\\int_0^{-x_1}xf(x)\\,\\mathrm{d}x + \\cot\\alpha\\int_0^{-x_1}x^2\\,\\mathrm{d}x$$"
   ]
  },
  {
   "cell_type": "markdown",
   "id": "cbc46e19-92a6-4768-80f7-911c3981bcc5",
   "metadata": {},
   "source": [
    "$$ = \\frac{1}{3}\\big(-f^3(0) +f^3(-x_1)\\big) - \\frac{x_1^3}{3}\\frac{\\cos\\alpha}{\\sin\\alpha} = \\frac{1}{3}\\big(-a^3 + a^3\\cos^3\\alpha + a^3\\sin^2\\alpha\\cos\\alpha\\big)$$"
   ]
  },
  {
   "cell_type": "markdown",
   "id": "75b9c684-8fa6-4d6c-9af6-e7e0ed1994d1",
   "metadata": {},
   "source": [
    "$$ = \\frac{a^3}{3}\\big(\\cos\\alpha - 1\\big) = \\frac{a^3}{3}\\big(\\sin\\theta-1\\big)$$"
   ]
  },
  {
   "cell_type": "markdown",
   "id": "738ff6f2-e866-4fbf-b399-63c12cb36ecc",
   "metadata": {},
   "source": [
    "The above verifies equation (3.3.1)."
   ]
  },
  {
   "cell_type": "markdown",
   "id": "1bb73189-6d7f-4578-96d1-0149ad72e80b",
   "metadata": {},
   "source": [
    "And, of course,  \n",
    "\n",
    "\\begin{equation}\\tag{3.3.2}\n",
    "    \\int\\!\\int_{R_2}x\\,\\mathrm{d}A = \\frac{a^3}{3}\n",
    "\\end{equation}"
   ]
  },
  {
   "cell_type": "markdown",
   "id": "502e8863-96ee-474f-acc5-01e572436ba4",
   "metadata": {},
   "source": [
    "Finally,  \n",
    "\n",
    "\\begin{equation}\\tag{3.1}\n",
    "    x_\\mathit{cm} = \\frac{a^3}{3M}\\sin\\theta = \\frac{2a\\sin\\theta}{3\\theta}\n",
    "\\end{equation}"
   ]
  },
  {
   "cell_type": "markdown",
   "id": "32234770-3159-4feb-91f4-154c6884e68d",
   "metadata": {},
   "source": [
    "Now, let's try a different approach by using *polar coordinates* instead.  The change in variables is:  \n",
    "\n",
    "$$ x := x(r,\\theta) = r\\cos\\theta \\quad\\quad\\text{and}\\quad\\quad y:=y(r,\\theta) = r\\sin\\theta$$"
   ]
  },
  {
   "cell_type": "markdown",
   "id": "2ab2ee07-bf79-4449-a22b-89ce2548f055",
   "metadata": {},
   "source": [
    "The $x$-coordinate of the centroid is:  \n",
    "\n",
    "$$ x_\\mathit{cm} = \\frac{1}{M}\\int_0^\\theta\\int_0^a r^2\\cos\\theta\\,\\mathrm{d}r\\,\\mathrm{d}\\theta = \\frac{1}{3M}\\int_0^\\theta a^3\\cos\\theta\\,\\mathrm{d}\\theta$$"
   ]
  },
  {
   "cell_type": "markdown",
   "id": "54761c90-fdbd-4008-b4c6-57bbfcb8d35e",
   "metadata": {},
   "source": [
    "\\begin{equation}\\tag{3.1}\n",
    "    x_\\mathit{cm} = \\frac{a^3}{3M}\\sin\\theta = \\frac{2a\\sin\\theta}{3\\theta}\n",
    "\\end{equation}"
   ]
  },
  {
   "cell_type": "markdown",
   "id": "9495df39-e0ef-4eb0-9e19-933ad9efb3d9",
   "metadata": {},
   "source": [
    "The $y$-coordinate of the centroid is:  \n",
    "\n",
    "$$ y_\\mathit{cm} = \\frac{1}{M}\\int_0^\\theta\\int_0^a r^2\\sin\\theta\\,\\mathrm{d}r\\,\\mathrm{d}\\theta = \\frac{1}{3M}\\int_0^\\theta a^3\\sin\\theta\\,\\mathrm{d}\\theta$$"
   ]
  },
  {
   "cell_type": "markdown",
   "id": "1c717ed3-0156-4c90-8d44-8a75c57c8364",
   "metadata": {},
   "source": [
    "$$ = -\\frac{a^3}{3M}\\big(\\cos\\theta - 1\\big)$$"
   ]
  },
  {
   "cell_type": "markdown",
   "id": "0bc38f31-be93-4c85-b0ed-cb014a217017",
   "metadata": {},
   "source": [
    "\\begin{equation}\\tag{3.2}\n",
    "    y_\\mathit{cm} = \\frac{2a}{3\\theta}\\big(1-\\cos\\theta\\big)\n",
    "\\end{equation}"
   ]
  },
  {
   "cell_type": "markdown",
   "id": "8ebc501b-73e4-42e7-9b48-3d1c118b3fe3",
   "metadata": {},
   "source": [
    "Note that this approach only assumes that:  \n",
    "\n",
    "$$ \\theta \\ne 0$$"
   ]
  },
  {
   "cell_type": "markdown",
   "id": "c9379bc1-6db9-4aa6-b8d2-fe04e029e6f7",
   "metadata": {},
   "source": [
    "$$\\mathcal{R}$$"
   ]
  },
  {
   "cell_type": "code",
   "execution_count": 2,
   "id": "a7c7a374-b047-4695-93e8-575540433dec",
   "metadata": {
    "tags": []
   },
   "outputs": [],
   "source": [
    "pi = np.pi; cos = np.cos; sin = np.sin; sqrt = np.sqrt"
   ]
  },
  {
   "cell_type": "code",
   "execution_count": 10,
   "id": "a2cdffe8-4344-4401-ae4b-048db2666e2d",
   "metadata": {
    "jupyter": {
     "source_hidden": true
    },
    "tags": []
   },
   "outputs": [
    {
     "data": {
      "text/plain": [
       "Text(0.6366197723675813, 0.1705817538915785, '$\\\\mathbf{x}_\\\\mathit{cm}$')"
      ]
     },
     "execution_count": 10,
     "metadata": {},
     "output_type": "execute_result"
    },
    {
     "data": {
      "image/png": "[encoded data removed]",
      "text/plain": [
       "<Figure size 500x300 with 1 Axes>"
      ]
     },
     "metadata": {},
     "output_type": "display_data"
    }
   ],
   "source": [
    "a = 1; theta = pi/6\n",
    "x_1 = a*cos(theta)\n",
    "x_cm = 2*a*sin(theta)/(3*theta)\n",
    "y_cm = 2*a*(1-cos(theta))/(3*theta)\n",
    "\n",
    "# Create the domain(s).\n",
    "x_g = np.linspace(0,x_1,num=25)\n",
    "x_f = np.linspace(x_1,a,num=100)\n",
    "x = np.linspace(0,a,num=25)\n",
    "\n",
    "# Define the boundary lines.\n",
    "g = x_g*np.tan(theta)\n",
    "f = sqrt(a**2-x_f**2)\n",
    "\n",
    "# Create the figure and axes objects.\n",
    "fig, ax = plt.subplots(figsize=(5.6,3))\n",
    "ax.set_xlabel('x-axis')\n",
    "ax.set_ylabel('y-axis')\n",
    "ax.set_title('Example',size=16)\n",
    "\n",
    "# Plot the boundary lines.\n",
    "ax.plot(x_f,f,x_g,g,color='k')\n",
    "ax.plot(x,[0 for i in range(len(x))],color='k')\n",
    "\n",
    "# Label the axes.\n",
    "ax.text(x_cm,y_cm,r'$\\mathbf{x}_\\mathit{cm}$')"
   ]
  },
  {
   "cell_type": "markdown",
   "id": "ed1f6707-708c-4fb4-bdcd-40fe284165b9",
   "metadata": {},
   "source": [
    "**b)** Write down the formula for the centroid of a uniform plane region in the shape of\n",
    "an isoceles triangle with height $a$ and angle $\\theta$ between the two equal sides. (You may\n",
    "use the formula from elementary geometry or compute it out using the integral.)  "
   ]
  },
  {
   "cell_type": "markdown",
   "id": "64c041e6-2195-43e7-a04a-f884c8e090ee",
   "metadata": {},
   "source": [
    "Suppose our region $R$ rests on an $x,y$-plane with it's top (apex?) vertex at origin and the perpendicular dropped from said vertex to it's base rests on the positive end of the $x$-axis.  The $y$-coordinate of the centroid is of course  \n",
    "\n",
    "$$ y_\\mathit{cm} = 0$$"
   ]
  },
  {
   "cell_type": "markdown",
   "id": "1c873b65-1b8a-427a-bad1-e4f7def1a7bc",
   "metadata": {},
   "source": [
    "The $x$-coordinate is:  \n",
    "\n",
    "$$ x_\\mathit{cm} = \\frac{1}{M}\\int\\!\\int_R x\\,\\mathrm{d}A$$"
   ]
  },
  {
   "cell_type": "markdown",
   "id": "8f91013d-0c6e-4bbc-8c56-e87183564f29",
   "metadata": {},
   "source": [
    "where, \n",
    "\n",
    "$$ M = \\text{area }R = a^2\\tan0.5\\theta$$"
   ]
  },
  {
   "cell_type": "markdown",
   "id": "2997f25a-8b43-4073-b02f-784c44383b37",
   "metadata": {},
   "source": [
    "and,  \n",
    "\n",
    "$$ \\int\\!\\int_R x\\,\\mathrm{d}A = 2\\int_0^a\\int_0^{f(x)}x\\,\\mathrm{d}y\\,\\mathrm{d}x$$"
   ]
  },
  {
   "cell_type": "markdown",
   "id": "35025588-4e7f-4afa-a2ad-62d2546a8ff4",
   "metadata": {},
   "source": [
    "The top half of $R$ is bounded by the $x$-axis and  \n",
    "\n",
    "$$ y:= f(x) = \\tan(0.5\\theta)x$$"
   ]
  },
  {
   "cell_type": "markdown",
   "id": "c562b44e-6fbe-4e74-8837-8dca1ceb9e95",
   "metadata": {},
   "source": [
    "Thus,  \n",
    "\n",
    "$$ \\int\\!\\int_R x\\,\\mathrm{d}A = 2\\tan0.5\\theta\\int_0^a x^2\\,\\mathrm{d}x$$"
   ]
  },
  {
   "cell_type": "markdown",
   "id": "7a2cef1f-2f30-486d-93b8-378ccbb05064",
   "metadata": {},
   "source": [
    "$$ = \\frac{2a^3}{3}\\tan(0.5\\theta)$$"
   ]
  },
  {
   "cell_type": "markdown",
   "id": "822155a6-83ca-4f75-a1eb-6ff3f4d91eab",
   "metadata": {},
   "source": [
    "Finally,  \n",
    "\n",
    "$$ x_\\mathit{cm} = \\frac{2a}{3}$$"
   ]
  },
  {
   "cell_type": "markdown",
   "id": "058249d9-6c75-4ef6-8311-ac3f16f1cae0",
   "metadata": {},
   "source": [
    "**c)** If you align the two regions above using the same values for $a$ and $\\theta$ and with\n",
    "the central angle of the sector coinciding with the apex angle of the triangle, which\n",
    "centroid will be closer to the center ($=$ the apex)? What do the math and the physics\n",
    "predict and why, and are they consistent?"
   ]
  },
  {
   "cell_type": "markdown",
   "id": "5fcbb93c-9a90-476b-8b6a-472eac735d51",
   "metadata": {},
   "source": [
    "Let $\\mathbf{x}_\\mathit{cm}^*$ denote the centroid of the circular sector *after* it is rotated such that it's central angle coincides with the apex angle of the triangle (both denoted as '$\\theta$').  To find $\\mathbf{x}_\\mathit{cm}^*$, first let's convert $\\mathbf{x}_\\mathit{cm}$ to polar coordinates $(r,\\alpha)$."
   ]
  },
  {
   "cell_type": "markdown",
   "id": "426095d6-8de8-4e0a-a232-c9cbcd1ba8f7",
   "metadata": {},
   "source": [
    "Via equations (3.1) and (3.2),  \n",
    "\n",
    "\\begin{equation}\\tag{3.4.1}\n",
    "    x_\\mathit{cm} = \\frac{2a\\sin\\theta}{3\\theta} = r\\cos\\alpha\n",
    "\\end{equation}"
   ]
  },
  {
   "cell_type": "markdown",
   "id": "37e97754-5f05-49da-85c0-d8a8963e3dda",
   "metadata": {},
   "source": [
    "and  \n",
    "\n",
    "\\begin{equation}\\tag{3.4.2}\n",
    "    y_\\mathit{cm} = \\frac{2a}{3\\theta}\\big(1-\\cos\\theta\\big) = r\\sin\\alpha\n",
    "\\end{equation}"
   ]
  },
  {
   "cell_type": "markdown",
   "id": "10bb90a8-6be4-474c-9b08-e159c8a8d859",
   "metadata": {},
   "source": [
    "And, of course,  \n",
    "\n",
    "\\begin{equation}\\tag{3.5}\n",
    "    \\mathbf{x}_\\mathit{cm}^* = \\langle x_\\mathit{cm}^*, y_\\mathit{cm}^*\\rangle = r\\langle\\cos\\alpha^*,\\sin\\alpha^*\\rangle\n",
    "\\end{equation}"
   ]
  },
  {
   "cell_type": "markdown",
   "id": "9c5a3573-0aa0-43a1-be5c-ba5e94eeaa45",
   "metadata": {},
   "source": [
    "where,  \n",
    "\n",
    "\\begin{equation}\\tag{3.5a}\n",
    "    \\alpha^* = \\alpha - 0.5\\theta\n",
    "\\end{equation}"
   ]
  },
  {
   "cell_type": "markdown",
   "id": "4721779e-f4c7-4ed3-a1b5-7c2885b3d8e5",
   "metadata": {},
   "source": [
    "Via equations (3.4.1,2) and equivalence principle,  \n",
    "\n",
    "$$ \\frac{\\sin\\theta}{\\cos\\alpha} = \\frac{1-\\cos\\theta}{\\sin\\alpha} \\quad\\therefore\\quad \\tan\\alpha = \\frac{1-\\cos\\theta}{\\sin\\theta} \\quad\\therefore$$"
   ]
  },
  {
   "cell_type": "markdown",
   "id": "c75b9f26-4d8b-4e7a-b399-e6f52f804f50",
   "metadata": {},
   "source": [
    "$$ \\alpha = \\arctan \\frac{1-\\cos\\theta}{\\sin\\theta}$$"
   ]
  },
  {
   "cell_type": "markdown",
   "id": "0207de63-ea93-42e5-84af-3feed0449807",
   "metadata": {},
   "source": [
    "Now, let's simplify the above.  \n",
    "\n",
    "$$ 1-\\cos\\theta = 1+\\cos(\\pi\\pm\\theta) = 2\\cos^2(0.5\\pi\\pm0.5\\theta) = 2\\sin^2(0.5\\theta)$$"
   ]
  },
  {
   "cell_type": "markdown",
   "id": "90d3566e-ce43-4293-9081-037b4767757a",
   "metadata": {},
   "source": [
    "$$ \\sin\\theta = 2\\cos(0.5\\theta)\\sin(0.5\\theta)$$"
   ]
  },
  {
   "cell_type": "markdown",
   "id": "8e6fafe4-a9a7-4ea8-85ec-ac15c96faceb",
   "metadata": {},
   "source": [
    "Thus,  \n",
    "\n",
    "$$ \\frac{1-\\cos\\theta}{\\sin\\theta} = \\tan(0.5\\theta)$$"
   ]
  },
  {
   "cell_type": "markdown",
   "id": "c2ad625c-21d5-47a5-928d-ed40d5862124",
   "metadata": {},
   "source": [
    "and,  \n",
    "\n",
    "\\begin{equation}\\tag{3.6}\n",
    "    \\alpha = 0.5\\theta\n",
    "\\end{equation}"
   ]
  },
  {
   "cell_type": "markdown",
   "id": "6be48a09-9d44-4c77-bfc2-6e5869022228",
   "metadata": {},
   "source": [
    "Via the above equation and equation (3.5a),  \n",
    "\n",
    "\\begin{equation}\\tag{3.5a}\n",
    "    \\alpha^* = 0\n",
    "\\end{equation}"
   ]
  },
  {
   "cell_type": "markdown",
   "id": "70480771-3fd1-45d7-bf84-bdf069509b07",
   "metadata": {},
   "source": [
    "Via the above equation, equation (3.5), and substitution,  \n",
    "\n",
    "\\begin{equation}\\tag{3.5}\n",
    "    y_\\mathit{cm}^* = 0 \\quad\\quad\\text{and}\\quad\\quad x_\\mathit{cm}^* = r = |\\mathbf{x}_\\mathit{cm}| \n",
    "\\end{equation}"
   ]
  },
  {
   "cell_type": "markdown",
   "id": "a822acfc-1936-4c43-a55e-621c14a44ff5",
   "metadata": {},
   "source": [
    "\\begin{equation}\\tag{3.5.1}\n",
    "    x_\\mathit{cm}^*= \\frac{2a}{3\\theta}\\sqrt{\\sin^2\\theta + 1 -2\\cos\\theta + \\cos^2\\theta} = \\frac{2a}{3\\theta}\\sqrt{2-2\\cos\\theta}\n",
    "\\end{equation}"
   ]
  },
  {
   "cell_type": "markdown",
   "id": "9951283e-f8a9-4323-82ba-a4991d77db58",
   "metadata": {},
   "source": [
    "or, via equations (3.6), (3.4.2), and substitution,  \n",
    "\n",
    "$$ x_\\mathit{cm}^* = \\frac{4a\\sin(0.5\\theta)}{3\\theta}$$"
   ]
  },
  {
   "cell_type": "markdown",
   "id": "a6bee147-0444-45b5-a790-811d4beb7a41",
   "metadata": {},
   "source": [
    "Now, let $T_{x,\\mathit{cm}}$ denote the $x$-coordinate of the centroid of the triangle.  \n",
    "\n",
    "$$ x_\\mathit{cm}^* = \\frac{2T_{x,\\mathit{cm}}}{\\theta}\\sin(0.5\\theta)$$"
   ]
  },
  {
   "cell_type": "code",
   "execution_count": 11,
   "id": "c646775e-4159-476b-b7f5-78c8d2462fa4",
   "metadata": {
    "tags": []
   },
   "outputs": [
    {
     "data": {
      "text/plain": [
       "0.9999958333385416"
      ]
     },
     "execution_count": 11,
     "metadata": {},
     "output_type": "execute_result"
    }
   ],
   "source": [
    "sin(0.5*0.01)*2/0.01"
   ]
  },
  {
   "cell_type": "code",
   "execution_count": 12,
   "id": "5a7af88c-bcad-4e9c-aa27-45615087ae1f",
   "metadata": {
    "tags": []
   },
   "outputs": [
    {
     "data": {
      "text/plain": [
       "[<matplotlib.lines.Line2D at 0x7fe295656710>]"
      ]
     },
     "execution_count": 12,
     "metadata": {},
     "output_type": "execute_result"
    },
    {
     "data": {
      "image/png": "[encoded data removed]",
      "text/plain": [
       "<Figure size 800x300 with 1 Axes>"
      ]
     },
     "metadata": {},
     "output_type": "display_data"
    }
   ],
   "source": [
    "theta = np.linspace(0.01,pi,num=200)\n",
    "f = sin(0.5*theta)*2/theta\n",
    "fig, ax = plt.subplots(figsize=(8,3))\n",
    "ax.set_xlabel(r'$\\theta$-axis')\n",
    "ax.set_ylabel(r'$x_\\mathit{cm}^*/x_\\mathit{cm}^t$-axis')\n",
    "ax.grid()\n",
    "ax.plot(theta,f,color='k')"
   ]
  },
  {
   "cell_type": "markdown",
   "id": "34913cb8-da32-4221-880b-f87e8a4cb058",
   "metadata": {},
   "source": [
    "Since  \n",
    "\n",
    "$$ \\frac{x_\\mathit{cm}^*}{T_{x,\\mathit{cm}}} \\le 1 \\quad\\quad\\text{for }\\, 0<\\theta \\le \\pi$$"
   ]
  },
  {
   "cell_type": "markdown",
   "id": "13a0c202-783c-41fb-9d4c-51be6304c39b",
   "metadata": {},
   "source": [
    "The centroid of the circle is closer to the center."
   ]
  },
  {
   "cell_type": "markdown",
   "id": "7a29807b-5875-49ce-978c-d0c0e2b02b27",
   "metadata": {},
   "source": [
    "### Background for Problems 4 and 5 :\n",
    "In fluid mechanics the fluid flow map $\\varphi$ is defined as follows: if $(x, y, z)$ is the position\n",
    "of a point mass in the flow at time $t = 0$, then $(X, Y, Z) = \\varphi(x, y, z, t)$ is the\n",
    "downstream position of that same point mass after an elapsed time $t$.\n",
    "The standard assumptions on $\\varphi$ are that it is smooth and one-to-one."
   ]
  },
  {
   "cell_type": "markdown",
   "id": "696c2027-79ae-48a3-a9e0-c62e7661b8f6",
   "metadata": {},
   "source": [
    "For a fixed value of $t$, let $\\displaystyle J(x,y,t)=\\frac{\\partial(X,Y)}{\\partial(x,y)}$ be the Jacobian of the transformation $(x,y)\\mapsto \\big(X(x,y,t),Y(x,y,t)\\big)$.  The general change-of-variables formula says that if a region $\\mathcal{R}$ goes to a region $\\mathcal{R}'$ by a transformation $(x,y)\\mapsto(X,Y)$ with Jacobian $J(x,y)$ then the areas of $\\mathcal{R}$ and $\\mathcal{R}'$ are related by $A(\\mathcal{R}') = \\int\\!\\int_\\mathcal{R}|J(x,y)|\\,\\mathrm{d}A$.  Here this gives that $A(\\mathcal{R}_t) = \\int\\!\\int_\\mathcal{R}|J(x,y,t)|\\,\\mathrm{d}A$, and therefore that a 2D flow is volume incompressible (v-i) if and only if $|J(x,y,t)| = 1$ for all $(x,y,t)$."
   ]
  },
  {
   "cell_type": "markdown",
   "id": "2731f878-2fc9-4389-b81d-aa42bd7b14f6",
   "metadata": {},
   "source": [
    "For our own example let $\\varphi(x,y,t)$ be defined as:  \n",
    "\n",
    "$$ \\varphi(x,y,t):=\\left(\\sqrt{x^2+y^2}, \\arctan \\frac{y}{x}\\right)$$"
   ]
  },
  {
   "cell_type": "markdown",
   "id": "66417eae-98aa-4fa6-bfc9-77081571ef3b",
   "metadata": {},
   "source": [
    "Now, let the region $\\mathcal{R}$ and $f(x)$ be defined as:  \n",
    "\n",
    "$$ \\mathcal{R} := \\big(\\tau,f(\\tau)\\big)\\quad\\quad\\text{where }\\,f(\\tau) = 2-\\tau$$"
   ]
  },
  {
   "cell_type": "markdown",
   "id": "3b08aa2b-5ae1-4bf6-b034-7b0da5ea828e",
   "metadata": {},
   "source": [
    "Now let $\\mathcal{R}'$ be defined as:  \n",
    "\n",
    "$$ \\mathcal{Q} := \\mathcal{R}' := (q_x,q_y) = \\varphi(\\mathcal{R},t)$$"
   ]
  },
  {
   "cell_type": "markdown",
   "id": "30f847a8-4033-4ad8-89b8-69a7a5f19b03",
   "metadata": {},
   "source": [
    "$$ q_x = \\sqrt{\\tau^2 + 4 - 4\\tau + \\tau^2} = \\sqrt{2\\tau^2 - 4\\tau + 4}$$"
   ]
  },
  {
   "cell_type": "markdown",
   "id": "ef87069c-9ccd-46f2-828c-24150c00f146",
   "metadata": {},
   "source": [
    "$$ q_y = \\arctan\\frac{2-\\tau}{\\tau}$$"
   ]
  },
  {
   "cell_type": "code",
   "execution_count": 8,
   "id": "1c7ffcdd-bc0d-4cba-89f2-31bf2aa97174",
   "metadata": {
    "tags": []
   },
   "outputs": [],
   "source": [
    "def R(tau):\n",
    "    return (tau,2-tau)\n",
    "def Q(x,y):\n",
    "    return (sqrt(x**2+y**2),np.arctan(y/x))"
   ]
  },
  {
   "cell_type": "code",
   "execution_count": 11,
   "id": "2d89ce02-469d-4512-997c-a04065987805",
   "metadata": {
    "collapsed": true,
    "jupyter": {
     "outputs_hidden": true,
     "source_hidden": true
    },
    "tags": []
   },
   "outputs": [
    {
     "name": "stdout",
     "output_type": "stream",
     "text": [
      "(0.010, 1.990) --> (1.990, 1.566)\n",
      "(0.231, 1.769) --> (1.784, 1.441)\n",
      "(0.452, 1.548) --> (1.612, 1.287)\n",
      "(0.673, 1.327) --> (1.488, 1.101)\n",
      "(0.894, 1.106) --> (1.422, 0.891)\n",
      "(1.116, 0.884) --> (1.424, 0.670)\n",
      "(1.337, 0.663) --> (1.492, 0.461)\n",
      "(1.558, 0.442) --> (1.619, 0.277)\n",
      "(1.779, 0.221) --> (1.793, 0.124)\n",
      "(2.000, 0.000) --> (2.000, 0.000)\n"
     ]
    }
   ],
   "source": [
    "for tau in np.linspace(0.01,2,num=10):\n",
    "    print(f'({R(tau)[0]:.3f}, {R(tau)[1]:.3f}) --> ({Q(*R(tau))[0]:.3f}, {Q(*R(tau))[1]:.3f})')"
   ]
  },
  {
   "cell_type": "code",
   "execution_count": 3,
   "id": "84ed381d-9744-497d-acd0-c79ddf03a98d",
   "metadata": {
    "tags": []
   },
   "outputs": [
    {
     "data": {
      "text/plain": [
       "1.5657712434640843"
      ]
     },
     "execution_count": 3,
     "metadata": {},
     "output_type": "execute_result"
    }
   ],
   "source": [
    "np.arctan((2-0.01)/0.01)"
   ]
  },
  {
   "cell_type": "code",
   "execution_count": 15,
   "id": "6699cf6d-487d-4c55-93a7-6897eb420606",
   "metadata": {
    "jupyter": {
     "source_hidden": true
    },
    "tags": []
   },
   "outputs": [
    {
     "data": {
      "text/plain": [
       "<matplotlib.legend.Legend at 0x7f39dd600940>"
      ]
     },
     "execution_count": 15,
     "metadata": {},
     "output_type": "execute_result"
    },
    {
     "data": {
      "image/png": "[encoded data removed]",
      "text/plain": [
       "<Figure size 500x500 with 1 Axes>"
      ]
     },
     "metadata": {},
     "output_type": "display_data"
    }
   ],
   "source": [
    "# Create the domain.\n",
    "tau = np.linspace(0.01,2,num=200)\n",
    "\n",
    "# Define the functions.\n",
    "y = f = 2-tau\n",
    "x = tau\n",
    "q_x = sqrt(x**2+y**2)\n",
    "q_y = np.arctan(y/x)\n",
    "\n",
    "# Create the figure and axes.\n",
    "fig, ax = plt.subplots(figsize=(5,5))\n",
    "ax.set_xlabel('x-axis')\n",
    "ax.set_ylabel('y-axis')\n",
    "ax.grid()\n",
    "ax.set_title(r'$(x,y)\\mapsto(r,\\theta)$',size=13)\n",
    "\n",
    "# Plot the regions.\n",
    "ax.plot(tau,f,label=r'$R$')\n",
    "ax.plot(q_x,q_y,label=r'$Q$')\n",
    "ax.legend()"
   ]
  },
  {
   "cell_type": "markdown",
   "id": "a292eaef-ca7c-4791-9dce-afe9039f13f1",
   "metadata": {},
   "source": [
    "To ellaborate on the above, suppose we have a region $R$ that goes to a region $R'$  by a transformation $(x,y)\\mapsto (r,\\theta)$  It follows that:  \n",
    "\n",
    "$$ \\mathrm{d}A = \\mathrm{d}x\\,\\mathrm{d}y = \\left|\\frac{\\partial(x,y)}{\\partial(r,\\theta)}\\right|\\,\\mathrm{d}r\\,\\mathrm{d}\\theta$$"
   ]
  },
  {
   "cell_type": "markdown",
   "id": "80920b0a-a298-45b3-add8-04ea91dacfe7",
   "metadata": {},
   "source": [
    "$$ A(R) = \\int\\!\\int_R \\,\\mathrm{d}x\\,\\mathrm{d}y \\quad\\quad\\text{and}\\quad\\quad A(R') = \\int\\!\\int_{R'}\\left|\\frac{\\partial(x,y)}{\\partial(r,\\theta)}\\right|\\,\\mathrm{d}r\\,\\mathrm{d}\\theta$$"
   ]
  },
  {
   "cell_type": "markdown",
   "id": "d700c890-25cc-473c-bda9-9c699ecbe364",
   "metadata": {},
   "source": [
    "The area element of a polar coordinate system is:  \n",
    "\n",
    "$$ \\mathrm{d}A = r\\,\\mathrm{d}r\\,\\mathrm{d}\\theta$$"
   ]
  },
  {
   "cell_type": "markdown",
   "id": "774e2647-bfa7-4320-8f20-8cb71de59600",
   "metadata": {},
   "source": [
    "The area of the outer circluar sector with a central angle of $\\mathrm{d}\\theta$ is:  \n",
    "\n",
    "$$ A_2= 0.5\\mathrm{d}\\theta\\,\\big(r+\\mathrm{d}r\\big)^2$$"
   ]
  },
  {
   "cell_type": "markdown",
   "id": "2b7b28e8-e5e3-4b19-954c-a996af2452af",
   "metadata": {},
   "source": [
    "And, the area of the inner circular sector with the same central angle is:  \n",
    "\n",
    "$$ A_1 = 0.5\\mathrm{d}\\theta r^2$$"
   ]
  },
  {
   "cell_type": "markdown",
   "id": "eb6c8e3c-84ef-4eb2-afbe-a323cf5ea91d",
   "metadata": {},
   "source": [
    "Thus, the area is:  \n",
    "\n",
    "$$ \\Delta A = A_2-A_1 = 0.5\\mathrm{d}\\theta\\big(2r\\mathrm{d}r + (\\mathrm{d}r)^2\\big)$$"
   ]
  },
  {
   "cell_type": "markdown",
   "id": "a2b6cdba-5033-49fe-af64-19264d12437f",
   "metadata": {},
   "source": [
    "$$ = r\\,\\mathrm{d}r\\,\\mathrm{d}\\theta + 0.5(\\mathrm{d}r)^2\\mathrm{d}\\theta$$"
   ]
  },
  {
   "cell_type": "markdown",
   "id": "eea4f10f-a6bf-4c64-971a-df3c8590e686",
   "metadata": {},
   "source": [
    "$$ = \\mathrm{d}A + 0.5(\\mathrm{d}r)^2\\mathrm{d}\\theta \\ne \\mathrm{d}A$$"
   ]
  },
  {
   "cell_type": "markdown",
   "id": "45fbe0f9-b1f5-455f-b650-a12a01f8f9e4",
   "metadata": {},
   "source": [
    "#### Example A:  \n",
    "\n",
    "$$ \\varphi(x,y,t) = \\big((1+t)x, (1+t)y\\big)$$  \n",
    "\n",
    "$\\mathcal{R} = $ the triangle with vertices at $(0,0)$, $(1,1)$, and $(1,-1)$.  "
   ]
  },
  {
   "cell_type": "markdown",
   "id": "a08544fe-b59e-45ff-b7a0-1c9eb31bd826",
   "metadata": {},
   "source": [
    "#### Example B:  \n",
    "\n",
    "$$ \\varphi(x,y,t) = (x\\cos t - y\\sin t, x\\sin t + y\\cos t)$$  \n",
    "\n",
    "$\\mathcal{R} = $ the triangle with vertices at $(0,0)$, $(2,0)$, $(2,1)$.  "
   ]
  },
  {
   "cell_type": "markdown",
   "id": "b0033c82-b592-41e0-823a-1d44d56a1feb",
   "metadata": {},
   "source": [
    "#### Example C:  \n",
    "\n",
    "$$ \\varphi(x,y,t) = \\left((1+t)x, \\frac{y}{1+t}\\right)$$  \n",
    "\n",
    "$\\mathcal{R} = $ the rectangle with vertices at $(1,1)$, $(1,4)$, $(2,1)$, and $(2,4)$."
   ]
  },
  {
   "cell_type": "markdown",
   "id": "14f4bf83-a55c-4557-a6bf-06b424ac528d",
   "metadata": {},
   "source": [
    "### Problem 4\n",
    "\n",
    "In each of the cases A, B and C:  \n",
    "\n",
    "i)  compute the Jacobian $J(x,y,t)$  \n",
    "ii) compute the area $A(\\mathcal{R}_t)$"
   ]
  },
  {
   "cell_type": "markdown",
   "id": "0186916f-80a3-43be-954b-e5a4b062bfff",
   "metadata": {},
   "source": [
    "#### Case A\n",
    "\n",
    "The region $\\mathcal{R}$ is bounded by:  \n",
    "\n",
    "$$ x = 1 \\quad\\quad y = x \\quad\\quad y = -x$$"
   ]
  },
  {
   "cell_type": "markdown",
   "id": "2748fd44-f960-48e7-a36b-c8a3e76559a9",
   "metadata": {},
   "source": [
    "Now, let $\\mathcal{R}_t$ be defined as:  \n",
    "\n",
    "$$ \\mathcal{R}_t  := \\big(X(x,y,t),Y(x,y,t)\\big) = \\varphi(x,y,t)$$"
   ]
  },
  {
   "cell_type": "markdown",
   "id": "122efa34-0d8e-49d6-af93-d7350c5063b9",
   "metadata": {},
   "source": [
    "$$ X := X(x,y,t) = (1+t)x \\quad\\quad\\text{and}\\quad\\quad Y:= Y(x,y,t) = (1+t)y$$"
   ]
  },
  {
   "cell_type": "markdown",
   "id": "08df85af-d8d8-4f03-859b-2c4e32a47d7e",
   "metadata": {},
   "source": [
    "For an example, let's plot the region given by $\\varphi(\\mathcal{R},1)$.  Let $\\mathcal{R}_1$ be defined as:  \n",
    "\n",
    "$$ \\mathcal{R}_1 := (X_1,Y_1) := \\varphi(\\mathcal{R},1)$$"
   ]
  },
  {
   "cell_type": "markdown",
   "id": "549a2857-04f8-40fb-b108-1576a515fd34",
   "metadata": {},
   "source": [
    "$$ \\mathcal{R}_1 = 2(x,y) \\quad\\quad X_1 = 2x \\quad\\quad Y_1 = 2y$$"
   ]
  },
  {
   "cell_type": "markdown",
   "id": "7807e5a7-01fe-4aeb-9a68-a48df665c504",
   "metadata": {},
   "source": [
    "The region $\\mathcal{R}_1$ is bounded by:  \n",
    "\n",
    "$$ X_1 = 2 \\quad\\quad X_1 = Y_1 \\quad\\quad Y_1=-X_1$$"
   ]
  },
  {
   "cell_type": "code",
   "execution_count": 17,
   "id": "6be5bb6e-858b-481a-81cb-0b6eaa3f6164",
   "metadata": {
    "jupyter": {
     "source_hidden": true
    },
    "tags": []
   },
   "outputs": [
    {
     "data": {
      "text/plain": [
       "<matplotlib.legend.Legend at 0x7f39dd7d68c0>"
      ]
     },
     "execution_count": 17,
     "metadata": {},
     "output_type": "execute_result"
    },
    {
     "data": {
      "image/png": "[encoded data removed]",
      "text/plain": [
       "<Figure size 500x500 with 1 Axes>"
      ]
     },
     "metadata": {},
     "output_type": "display_data"
    }
   ],
   "source": [
    "x = np.linspace(0,1,num=25)\n",
    "X_1 = np.linspace(0,2,num=25)\n",
    "\n",
    "fig, ax = plt.subplots(figsize=(5,5))\n",
    "ax.set_xlabel('x-axis')\n",
    "ax.set_ylabel('y-axis')\n",
    "ax.set_title(r'$(x,y)\\mapsto 2(x,y)$', size=12)\n",
    "ax.grid()\n",
    "\n",
    "ax.plot(x,x,x,-x,color='k',linestyle='--',label=r'$R$')\n",
    "ax.plot([1 for i in range(2*len(x))],np.concatenate((x,-x)),color='k',linestyle='--')\n",
    "ax.plot(X_1,X_1,X_1,-X_1,color='k',label=r'$R_1$')\n",
    "ax.plot([2 for i in range(2*len(X_1))],np.concatenate((X_1,-X_1)),color='k')\n",
    "ax.legend()"
   ]
  },
  {
   "cell_type": "markdown",
   "id": "94a1b4f7-f3c7-4024-95fe-cbb88ef6cb3c",
   "metadata": {},
   "source": [
    "**i)**  Compute the Jacobian $J(x,y,t)$.\n",
    "\n",
    "$$ J(x,y,t) = \\frac{\\partial(X,Y)}{\\partial(x,y)} = \\left|\\begin{matrix} X_x & X_y \\\\ Y_x & Y_y\\end{matrix}\\right|$$"
   ]
  },
  {
   "cell_type": "markdown",
   "id": "b84999d1-92e4-40c4-aa9f-0ec822950d2c",
   "metadata": {},
   "source": [
    "$$ X_x = Y_y = 1+t \\quad\\quad\\text{and}\\quad\\quad Y_x = X_y = 0$$"
   ]
  },
  {
   "cell_type": "markdown",
   "id": "7de00e49-6812-45b1-a940-7e5d6629d379",
   "metadata": {},
   "source": [
    "Finally,  \n",
    "\n",
    "$$ J(x,y,t) = X_x^2 = 1 + 2t + t^2$$"
   ]
  },
  {
   "cell_type": "markdown",
   "id": "976c972a-3b0d-4ea9-8357-f5888dc4afa8",
   "metadata": {},
   "source": [
    "**ii)**  Compute the area $A(\\mathcal{R}_t)$.\n",
    "\n",
    "$$ A(\\mathcal{R}_t) = \\int\\!\\int_R |J(x,y,t)|\\,\\mathrm{d}A = \\int_0^1\\int_{-x}^x|J(x,y,t)|\\,\\mathrm{d}y\\,\\mathrm{d}x$$"
   ]
  },
  {
   "cell_type": "markdown",
   "id": "a6413d83-8727-4f00-b9b7-d9af89142f44",
   "metadata": {},
   "source": [
    "Let $J:=J(x,y,t)$.  \n",
    "\n",
    "$$ A(\\mathcal{R}_t) = 2J\\int_0^1 x\\,\\mathrm{d}x$$"
   ]
  },
  {
   "cell_type": "markdown",
   "id": "5ab22a77-56f1-4ec6-bca6-38b86c4b2072",
   "metadata": {},
   "source": [
    "$$ = J = 1+2t+t^2$$"
   ]
  },
  {
   "cell_type": "markdown",
   "id": "9475b0f8-72e0-4f6f-9d68-c2d3282988e1",
   "metadata": {},
   "source": [
    "Now, let's try a different approach.  \n",
    "\n",
    "$$ A(\\mathcal{R}_t) = \\int\\!\\int_{\\mathcal{R}_t} \\,\\mathrm{d}A $$"
   ]
  },
  {
   "cell_type": "markdown",
   "id": "294afbdd-f435-4ba2-b88d-a2b6c13f2c41",
   "metadata": {},
   "source": [
    "Since there is no change in coordinates, the area element is:  \n",
    "\n",
    "$$ \\mathrm{d}A = \\mathrm{d}x\\,\\mathrm{d}y$$"
   ]
  },
  {
   "cell_type": "markdown",
   "id": "acb9c60d-f9e8-4620-8554-c791d8d794a3",
   "metadata": {},
   "source": [
    "And, the region $\\mathcal{R}_t$ is bounded by:  \n",
    "\n",
    "$$ x := x(t) = 1+t \\quad\\quad y=x \\quad\\quad y = -x$$"
   ]
  },
  {
   "cell_type": "markdown",
   "id": "126d9134-2627-48c2-b06f-5f6064f620da",
   "metadata": {},
   "source": [
    "Finally,  \n",
    "\n",
    "$$ A(\\mathcal{R}_t) =  \\int_0^{x(t)}\\int_{-x}^x \\mathrm{d}y\\,\\mathrm{d}x$$"
   ]
  },
  {
   "cell_type": "markdown",
   "id": "932a07ff-fa7f-4a5c-9365-3bd69cd815e5",
   "metadata": {},
   "source": [
    "$$  = 2\\int_0^{x(t)} x\\,\\mathrm{d}x = x^2(t) = J$$"
   ]
  },
  {
   "cell_type": "markdown",
   "id": "726511ea-8c5a-4d41-a3b4-693ae7ee9555",
   "metadata": {},
   "source": [
    "For the hell of it, let's try evaluating $\\displaystyle \\int\\!\\int_\\mathcal{R}\\,\\mathrm{d}A$ under the $X,Y$ coordinate system.  Of course the area of $\\mathcal{R}$ is given by:  \n",
    "\n",
    "$$ A(\\mathcal{R}) = \\int\\!\\int_\\mathcal{R}\\,\\mathrm{d}A = 0.5bh = 1$$"
   ]
  },
  {
   "cell_type": "markdown",
   "id": "d16f308c-0941-4d4f-8e72-b18c95112f50",
   "metadata": {},
   "source": [
    "Since there is a change in coordinates, the area element is given by:  \n",
    "\n",
    "$$ \\mathrm{d}A = J^{-1}\\,\\mathrm{d}Y\\,\\mathrm{d}X$$"
   ]
  },
  {
   "cell_type": "markdown",
   "id": "dceb0f92-d22b-4516-860e-839cc5328d7d",
   "metadata": {},
   "source": [
    "The region $\\mathcal{R}$ is bounded by:  \n",
    "\n",
    "$$  X := X(t)= 1+t \\quad\\quad Y = \\pm X$$"
   ]
  },
  {
   "cell_type": "markdown",
   "id": "9b201d2c-bf1f-435f-907f-38428519ca4e",
   "metadata": {},
   "source": [
    "Finally,  \n",
    "\n",
    "$$ A(\\mathcal{R}) = J^{-1}\\int_0^{X(t)}\\int_{-X}^X \\,\\mathrm{d}Y\\,\\mathrm{d}X$$"
   ]
  },
  {
   "cell_type": "markdown",
   "id": "d8255473-92d7-423c-aa96-0cb768480448",
   "metadata": {},
   "source": [
    "$$ = 2J^{-1}\\int_0^{X(t)} X\\,\\mathrm{d}X$$"
   ]
  },
  {
   "cell_type": "markdown",
   "id": "fbedd82b-e8e5-4aef-b33e-ea6d3eda2fb2",
   "metadata": {},
   "source": [
    "$$ J^{-1}X^2(t) = 1$$"
   ]
  },
  {
   "cell_type": "markdown",
   "id": "f7700457-900c-47a4-8c76-845319475dc1",
   "metadata": {
    "tags": []
   },
   "source": [
    "#### Case B\n",
    "\n",
    "$$ \\varphi(x,y,t) = (x\\cos t - y\\sin t, x\\sin t + y\\cos t)$$  \n",
    "\n",
    "The region $\\mathcal{R}$ is the triangle with vertices at $(0,0)$, $(2,0)$, $(2,1)$ and is bounded by:  \n",
    "\n",
    "$$ y := f(x) = 0.5x \\quad\\quad y = 0 \\quad\\quad x=2$$"
   ]
  },
  {
   "cell_type": "markdown",
   "id": "6e8d00bf-720e-4d63-9fb5-fda108c4ab00",
   "metadata": {},
   "source": [
    "Let the region $\\mathcal{R}_t$ and $(X,Y)$ be defined as:  \n",
    "\n",
    "$$ \\mathcal{R}_t := \\varphi(\\mathcal{R},t) \\quad\\quad\\text{and}\\quad\\quad (X,Y) := \\varphi(x,y,t)$$"
   ]
  },
  {
   "cell_type": "markdown",
   "id": "92ee0b14-fb9d-427e-ae15-717f9ae681e5",
   "metadata": {},
   "source": [
    "$$ X:=X(x,y,t) = x\\cos t - y\\sin t \\quad\\quad\\text{and}\\quad\\quad Y:=Y(x,y,t) = x\\sin t + y\\cos t$$"
   ]
  },
  {
   "cell_type": "markdown",
   "id": "cb7df237-3e90-4679-a248-8f61640d4683",
   "metadata": {},
   "source": [
    "**i)**  Compute the Jacobian $J:=J(x,y,t)$.  \n",
    "\n",
    "$$ X_x = \\cos t \\quad\\quad X_y = -\\sin t \\quad\\quad Y_x = \\sin t = -X_y \\quad\\quad Y_y = X_x$$"
   ]
  },
  {
   "cell_type": "markdown",
   "id": "0a4af892-eba9-4c3f-8b5c-cf4b7dd5025b",
   "metadata": {},
   "source": [
    "Finally,  \n",
    "\n",
    "$$ J = X_x^2 + X_y^2 = 1$$"
   ]
  },
  {
   "cell_type": "markdown",
   "id": "75e9a1cd-8f9d-459d-8079-95d033ce84e5",
   "metadata": {},
   "source": [
    "**ii)**  Compute the area $A(\\mathcal{R}_t)$.  Since $J=1$,  \n",
    "\n",
    "$$ A(\\mathcal{R}_t) = A(\\mathcal{R}) = 0.5bh = 1$$"
   ]
  },
  {
   "cell_type": "markdown",
   "id": "44ff6a6c-290e-4c71-b318-5562bac5719a",
   "metadata": {},
   "source": [
    "#### Case C\n",
    "\n",
    "$$ \\varphi(x,y,t) = \\left((1+t)x, \\frac{y}{1+t}\\right)$$  \n",
    "\n",
    "The region $\\mathcal{R}$ is the rectangle with vertices at $(1,1)$, $(1,4)$, $(2,1)$, and $(2,4)$ and is bounded by:  \n",
    "\n",
    "$$ x = 1 \\quad\\quad x=2 \\quad\\quad y = 1 \\quad\\quad y = 4$$"
   ]
  },
  {
   "cell_type": "markdown",
   "id": "ecc963f3-004c-4a86-81ce-db2b58d7b410",
   "metadata": {},
   "source": [
    "Let $\\mathcal{R}_t$ and $(X,Y)$ be defined as:  \n",
    "\n",
    "$$ \\mathcal{R}_t := \\varphi(\\mathcal{R},t) \\quad\\quad\\text{and}\\quad\\quad (X,Y) := \\varphi(x,y,t)$$"
   ]
  },
  {
   "cell_type": "markdown",
   "id": "ea21ec81-7519-481e-82bc-3a04e9113a24",
   "metadata": {},
   "source": [
    "$$ X := X(x,y,t) = (1+t)x \\quad\\quad\\text{and}\\quad\\quad Y:=Y(x,y,t) = \\frac{y}{1+t}$$"
   ]
  },
  {
   "cell_type": "markdown",
   "id": "44bbd3c3-32d1-4c56-a335-5bd8bee70716",
   "metadata": {},
   "source": [
    "**i)**  Compute the Jacobian $J:=J(x,y,t)$.  \n",
    "\n",
    "$$ X_x = 1+t \\quad\\quad X_y = Y_x = 0 \\quad\\quad Y_y = \\frac{1}{1+t} = \\frac{1}{X_x}$$"
   ]
  },
  {
   "cell_type": "markdown",
   "id": "3a4584a5-97af-4242-ba96-c234194b3f9f",
   "metadata": {},
   "source": [
    "Finally,  \n",
    "\n",
    "$$ J(x,y,t) = X_xY_y = 1$$"
   ]
  },
  {
   "cell_type": "markdown",
   "id": "c5939f0f-41a2-43ab-876d-dcb4acc97496",
   "metadata": {},
   "source": [
    "**ii)**  Compute the area $A(\\mathcal{R}_t)$.  Since $J=1$,  \n",
    "\n",
    "$$ A(\\mathcal{R}_t) = A(\\mathcal{R}) = 3$$"
   ]
  }
 ],
 "metadata": {
  "kernelspec": {
   "display_name": "Python 3 (ipykernel)",
   "language": "python",
   "name": "python3"
  },
  "language_info": {
   "codemirror_mode": {
    "name": "ipython",
    "version": 3
   },
   "file_extension": ".py",
   "mimetype": "text/x-python",
   "name": "python",
   "nbconvert_exporter": "python",
   "pygments_lexer": "ipython3",
   "version": "3.10.12"
  }
 },
 "nbformat": 4,
 "nbformat_minor": 5
}
