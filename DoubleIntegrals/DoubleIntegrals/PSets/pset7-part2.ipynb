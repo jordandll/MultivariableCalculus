{
 "cells": [
  {
   "cell_type": "markdown",
   "id": "6dffe669-bd1e-425d-b0d1-235400bf8987",
   "metadata": {},
   "source": [
    "# Problem Set 7\n",
    "## Part II"
   ]
  },
  {
   "cell_type": "code",
   "execution_count": 1,
   "id": "8e8a39cf-7f07-451b-818e-0e239c23f9a4",
   "metadata": {
    "tags": []
   },
   "outputs": [],
   "source": [
    "import numpy as np\n",
    "import matplotlib.pyplot as plt\n",
    "import sympy as sp"
   ]
  },
  {
   "cell_type": "markdown",
   "id": "b9b325cb-0644-4cda-8e99-443fede1d8e2",
   "metadata": {},
   "source": [
    "### Problem 1\n",
    "**a)**  Sketch the solid in the first octant bounded by the $xy$, $yz$ and $xz$ coordinate planes,\n",
    "the plane give by $x + y = 4$ $(z=z)$ and the surface given by $z = \\sqrt{4 - x}$ $(y=y)$.  "
   ]
  },
  {
   "cell_type": "markdown",
   "id": "281de763-ae46-4cb2-9d59-1f3583ff6451",
   "metadata": {},
   "source": [
    "The region $R$ is bounded by the $x$ and $y$ axis and the line given by:  \n",
    "\n",
    "$$ y := f(x) = 4-x$$"
   ]
  },
  {
   "cell_type": "markdown",
   "id": "60df4809-ef18-43a6-adb8-fc20c30e3480",
   "metadata": {},
   "source": [
    "While, the surface is given by:  \n",
    "\n",
    "$$ z:= g(x,y) = \\sqrt{4-x} \\quad\\quad \\big(x,y,g(x,y)\\big)$$"
   ]
  },
  {
   "cell_type": "code",
   "execution_count": 2,
   "id": "3b4798f1-ca90-47f9-83cb-79dd1b37b02d",
   "metadata": {
    "jupyter": {
     "source_hidden": true
    },
    "tags": []
   },
   "outputs": [
    {
     "data": {
      "image/png": "[encoded data removed]",
      "text/plain": [
       "<Figure size 640x480 with 2 Axes>"
      ]
     },
     "metadata": {},
     "output_type": "display_data"
    }
   ],
   "source": [
    "# Create the domain.\n",
    "x = np.linspace(0,4,num=50)\n",
    "X, Y = np.meshgrid(x,x)\n",
    "\n",
    "# Define the functions\n",
    "f = 4-x\n",
    "G = g = np.sqrt(4-X)\n",
    "\n",
    "# Create the figure and axes objects.\n",
    "fig, ax = plt.subplots()\n",
    "ax.set_xlabel('x-axis')\n",
    "ax.set_ylabel('y-axis')\n",
    "\n",
    "# Plot the functions.\n",
    "ax.plot([0 for i in range(len(x))],x,color='k')\n",
    "ax.plot(x,[0 for i in range(len(x))],color='k')\n",
    "ax.plot(x,f,color='k')\n",
    "cs = ax.contour(X,Y,G,levels=12)\n",
    "cb = fig.colorbar(cs)"
   ]
  },
  {
   "cell_type": "markdown",
   "id": "a3dc811f-dbad-436c-8795-148daacc1925",
   "metadata": {},
   "source": [
    "**b)** Find the volume of the solid of part a)."
   ]
  },
  {
   "cell_type": "markdown",
   "id": "fb3cabdb-ba2e-494a-bca2-cd61cc08591b",
   "metadata": {},
   "source": [
    "$$ V = \\int\\!\\int_R z\\,\\mathrm{d}A = \\int_0^4\\int_0^{f(x)}\\sqrt{4-x}\\,\\mathrm{d}y\\,\\mathrm{d}x$$"
   ]
  },
  {
   "cell_type": "markdown",
   "id": "930183bb-ce11-494a-9e66-d92c85324e4f",
   "metadata": {},
   "source": [
    "$$ = \\int_0^4f(x)\\sqrt{4-x}\\,\\mathrm{d}x$$"
   ]
  },
  {
   "cell_type": "markdown",
   "id": "70f204fe-0ff1-41b4-996c-53f1e309c859",
   "metadata": {},
   "source": [
    "$$ \\int\\sqrt{f^3(x)}\\,\\mathrm{d}x = -\\frac{2}{5}\\sqrt{f^5(x)} + K$$"
   ]
  },
  {
   "cell_type": "markdown",
   "id": "4c865ed7-56e8-4f45-8357-63cc4eba916c",
   "metadata": {},
   "source": [
    "Finally,  \n",
    "\n",
    "$$ V = -\\frac{2}{5}\\Big(\\sqrt{f^5(4)}-\\sqrt{f^5(0)}\\Big)$$"
   ]
  },
  {
   "cell_type": "markdown",
   "id": "78cb9293-bdb6-47f6-bcfe-a5a6325b9cde",
   "metadata": {},
   "source": [
    "$$ = \\frac{2}{5}\\sqrt{4^5}$$"
   ]
  },
  {
   "cell_type": "markdown",
   "id": "10e8e40c-8a07-4a71-9ebf-44574736d805",
   "metadata": {},
   "source": [
    "$$ = \\frac{2^6}{5}$$"
   ]
  },
  {
   "cell_type": "code",
   "execution_count": 3,
   "id": "dccc62b6-0c30-43fc-a23a-971521aa8b38",
   "metadata": {
    "tags": []
   },
   "outputs": [
    {
     "data": {
      "text/plain": [
       "12.8"
      ]
     },
     "execution_count": 3,
     "metadata": {},
     "output_type": "execute_result"
    }
   ],
   "source": [
    "64/5"
   ]
  },
  {
   "cell_type": "markdown",
   "id": "33b3f274-0ab1-4508-893e-ef62e072a4de",
   "metadata": {},
   "source": [
    "### Problem 3\n",
    "\n",
    "**a)** Find the formula for the centroid (center of mass assuming density = $1$) of a\n",
    "uniform plane region in the shape of circular sector of radius $a$ and central angle $\\theta$\n",
    "(in terms of $a$ and $\\theta$).  "
   ]
  },
  {
   "cell_type": "markdown",
   "id": "e5f29b47-b8a0-44e6-b099-c14e17c17767",
   "metadata": {},
   "source": [
    "The total mass, denoted as '$M$', is equal to the area of this circular sector.  \n",
    "\n",
    "$$ M = \\text{area }R = 0.5\\theta a^2$$"
   ]
  },
  {
   "cell_type": "markdown",
   "id": "34aea19d-cfab-4620-a960-5d0d6735fefc",
   "metadata": {},
   "source": [
    "The $x$-coordinate of the centroid is:  \n",
    "\n",
    "$$ x_\\mathit{cm} = \\frac{1}{M}\\int\\!\\int_R x\\,\\mathrm{d}A$$"
   ]
  },
  {
   "cell_type": "markdown",
   "id": "bb152f61-bdf3-4751-a275-14ad9d78fe44",
   "metadata": {},
   "source": [
    "Note that, throughout our attempt at solving this problem, it is assumed that:  \n",
    "\n",
    "$$ 0 \\le \\theta < 90^\\circ$$"
   ]
  },
  {
   "cell_type": "markdown",
   "id": "4922a50c-2a27-45d8-b1a7-31133db6d804",
   "metadata": {},
   "source": [
    "The region $R$ is bounded by:  \n",
    "\n",
    "$$ y:=f(x) = \\sqrt{a^2-x^2} \\quad\\quad y = 0 \\quad\\quad y:=g(x)=\\tan\\theta x$$"
   ]
  },
  {
   "cell_type": "markdown",
   "id": "6681bab9-00f0-4523-82d4-ad8b2b255f0f",
   "metadata": {},
   "source": [
    "which must be divided into two subregions, $R_1$ and $R_2$, by the line given by:  \n",
    "\n",
    "$$ x := x_1 = a\\cos\\theta$$"
   ]
  },
  {
   "cell_type": "markdown",
   "id": "9eaefcd4-39ef-4e8e-8a3f-0c255203d787",
   "metadata": {},
   "source": [
    "Thus,  \n",
    "\n",
    "$$ x_\\mathit{cm} = \\frac{1}{M}\\left(\\int\\!\\int_{R_1}x\\,\\mathrm{d}A + \\int\\!\\int_{R_2}x\\,\\mathrm{d}A\\right)$$"
   ]
  },
  {
   "cell_type": "markdown",
   "id": "f8bfcfa0-fbed-4433-9198-78ce0fbe8ac0",
   "metadata": {},
   "source": [
    "$$ \\int\\!\\int_{R_1}x\\,\\mathrm{d}A = \\int_0^{x_1}\\int_0^{g(x)} x\\,\\mathrm{d}y\\,\\mathrm{d}x = \\tan\\theta\\int_0^{x_1}x^2\\,\\mathrm{d}x $$"
   ]
  },
  {
   "cell_type": "markdown",
   "id": "cf720172-10e8-4031-ae75-8701cc1733b6",
   "metadata": {},
   "source": [
    "\\begin{equation}\\tag{3.1.1}\n",
    "    = \\frac{a^3\\cos^3\\theta}{3}\\,\\frac{\\sin\\theta}{\\cos\\theta} = \\frac{1}{3}a^3\\cos^2\\theta\\sin\\theta\n",
    "\\end{equation}"
   ]
  },
  {
   "cell_type": "markdown",
   "id": "d6a481fa-18cf-4f19-8f60-7af71a82143e",
   "metadata": {},
   "source": [
    "$$ \\int\\!\\int_{R_2}x\\,\\mathrm{d}A = \\int_{x_1}^a\\int_0^{f(x)}x\\,\\mathrm{d}y\\,\\mathrm{d}x$$"
   ]
  },
  {
   "cell_type": "markdown",
   "id": "9b3f78a1-d3ba-451d-91ba-f56547b2f752",
   "metadata": {},
   "source": [
    "$$ = \\int_{x_1}^af(x)x\\,\\mathrm{d}x$$"
   ]
  },
  {
   "cell_type": "markdown",
   "id": "510e2e85-42d9-4ed2-b845-7c4c8b94d2f3",
   "metadata": {},
   "source": [
    "The primitive integral of the above integrand is:  \n",
    "\n",
    "$$ \\int x\\sqrt{a^2-x^2}\\,\\mathrm{d}x = K-\\frac{1}{3}\\sqrt{\\big(a^2-x^2\\big)^3} = K - \\frac{1}{3}f^3(x)$$"
   ]
  },
  {
   "cell_type": "markdown",
   "id": "373c8154-a403-4814-9eac-a2490d3384ba",
   "metadata": {},
   "source": [
    "Thus,  \n",
    "\n",
    "$$ \\int\\!\\int_{R_2}x\\,\\mathrm{d}A = \\frac{1}{3}\\big(f^3(x_1)-f^3(a)\\big) = \\frac{f^3(x_1)}{3}$$"
   ]
  },
  {
   "cell_type": "markdown",
   "id": "3b60602b-cf49-46ea-b42a-1bbbbbce5d29",
   "metadata": {},
   "source": [
    "$$ f(x_1) = a\\sqrt{1-\\cos^2\\theta} = a\\sin\\theta$$"
   ]
  },
  {
   "cell_type": "markdown",
   "id": "7f1a6929-4797-4e86-9710-cc8e4a72121e",
   "metadata": {},
   "source": [
    "Therefore,  \n",
    "\n",
    "\\begin{equation}\\tag{3.1.2}\n",
    "    \\int\\!\\int_{R_2}x\\,\\mathrm{d}A = \\frac{a^3\\sin^3\\theta}{3}\n",
    "\\end{equation}"
   ]
  },
  {
   "cell_type": "markdown",
   "id": "5610d113-259f-4d00-b590-e85605f72796",
   "metadata": {},
   "source": [
    "Finally,  \n",
    "\n",
    "\\begin{equation}\\tag{3.1}\n",
    "    x_\\mathit{cm} = \\frac{2a\\sin\\theta}{3\\theta}\n",
    "\\end{equation}"
   ]
  },
  {
   "cell_type": "markdown",
   "id": "a5571e18-80b5-432d-9ed4-72e47999d692",
   "metadata": {},
   "source": [
    "The $y$-coordinate of the centroid is:  \n",
    "\n",
    "$$ y_\\mathit{cm} = \\frac{1}{M}\\int\\!\\int_R y\\,\\mathrm{d}A = \\frac{2}{\\theta a^2}\\left(\\int\\!\\int_{R_1}y\\,\\mathrm{d}A + \\int\\!\\int_{R_2}y\\,\\mathrm{d}A\\right)$$"
   ]
  },
  {
   "cell_type": "markdown",
   "id": "b900fe59-b009-49c8-8c76-5335eac669f1",
   "metadata": {},
   "source": [
    "$$ \\int\\!\\int_{R_1}y\\,\\mathrm{d}A = \\int_0^{x_1}\\int_0^{g(x)}y\\,\\mathrm{d}y\\,\\mathrm{d}x$$"
   ]
  },
  {
   "cell_type": "markdown",
   "id": "9d92a39a-afd9-4101-89d6-031b0e8f862d",
   "metadata": {},
   "source": [
    "A change in the order of integration is warranted.  \n",
    "\n",
    "$$ \\int\\!\\int_{R}y\\,\\mathrm{d}A = \\int_0^{y_1}\\int_{g(y)}^{f(y)}y\\,\\mathrm{d}x\\,\\mathrm{d}y$$"
   ]
  },
  {
   "cell_type": "markdown",
   "id": "92dea2eb-be29-42d6-8671-7878b4f6eb7c",
   "metadata": {},
   "source": [
    "where,  \n",
    "\n",
    "$$ y:=y_1 = a\\sin\\theta \\quad\\quad x:= f(y) = \\sqrt{a^2-y^2}\\quad\\quad x:=g(y) = \\cot\\theta y$$"
   ]
  },
  {
   "cell_type": "markdown",
   "id": "a60f3004-a506-4c17-af3f-56e3b2fb26e9",
   "metadata": {},
   "source": [
    "$$ \\int\\!\\int_{R}y\\,\\mathrm{d}A = \\int_0^{y_1}y\\big(f(y)-g(y)\\big)\\,\\mathrm{d}y$$"
   ]
  },
  {
   "cell_type": "markdown",
   "id": "ace43f22-9514-42a5-a33e-9b99fd86f55e",
   "metadata": {},
   "source": [
    "$$ = \\int_0^{y_1}y\\sqrt{a^2-y^2}\\,\\mathrm{d}y - \\cot\\theta\\int_0^{y_1}y^2\\,\\mathrm{d}y$$"
   ]
  },
  {
   "cell_type": "markdown",
   "id": "9126298f-81a9-4664-82fc-5d05e3893c8b",
   "metadata": {},
   "source": [
    "The primitive integral of the integrand of the first term, from left to right, of the above expression is:  \n",
    "\n",
    "$$ \\int yf(y)\\,\\mathrm{d}y = K-\\frac{f^3(y)}{3} $$"
   ]
  },
  {
   "cell_type": "markdown",
   "id": "2f4d5423-841b-42bf-9759-22dfcc60a29a",
   "metadata": {},
   "source": [
    "Thus, the aforementioned term is:  \n",
    "\n",
    "$$ \\int_0^{y_1}yf(y)\\,\\mathrm{d}y = \\frac{1}{3}\\big(f^3(0) -f^3(y_1)\\big)$$"
   ]
  },
  {
   "cell_type": "markdown",
   "id": "24c52a39-efd0-47b6-8e9b-dfab5abc0e77",
   "metadata": {},
   "source": [
    "$$ = \\frac{1}{3}\\big(a^3 - f^3(y_1)\\big)$$"
   ]
  },
  {
   "cell_type": "markdown",
   "id": "03682350-3832-4387-a4b4-b907f7a098f7",
   "metadata": {},
   "source": [
    "$$ f(y_1) = a|\\cos\\theta|$$"
   ]
  },
  {
   "cell_type": "markdown",
   "id": "e9a2348e-c464-45b5-8d05-609afec9998f",
   "metadata": {},
   "source": [
    "$$ \\int_0^{y_1}yf(y)\\,\\mathrm{d}y = \\frac{a^3}{3}\\big(1-\\cos^3\\theta\\big)$$"
   ]
  },
  {
   "cell_type": "markdown",
   "id": "4c62f068-9545-41da-806c-d2c5db140abd",
   "metadata": {},
   "source": [
    "And, the other term of the aforementioned expression is:  \n",
    "\n",
    "$$ \\cot\\theta\\int_0^{y_1}y^2\\,\\mathrm{d}y = \\frac{\\cos\\theta}{3\\sin\\theta}a^3\\sin^3\\theta$$"
   ]
  },
  {
   "cell_type": "markdown",
   "id": "dd8b46d5-d864-476e-8383-f5f26ffb7587",
   "metadata": {},
   "source": [
    "$$ = \\frac{1}{3}a^3\\sin^2\\theta\\cos\\theta$$"
   ]
  },
  {
   "cell_type": "markdown",
   "id": "d6d3bb9e-61fb-4e45-8537-3b404d52dd7a",
   "metadata": {},
   "source": [
    "Finally, the double integral over the region $R$ is:  \n",
    "\n",
    "$$ \\int\\!\\int_{R}y\\,\\mathrm{d}A = \\frac{a^3}{3}\\Big(1 - \\cos\\theta\\big(\\sin^2\\theta + \\cos^2\\theta\\big)\\Big)$$"
   ]
  },
  {
   "cell_type": "markdown",
   "id": "7f79b2b5-21a7-473b-92ec-94cbfd30e011",
   "metadata": {},
   "source": [
    "\\begin{equation}\\tag{3.2a}\n",
    "    = \\frac{a^3}{3}\\,\\big(1-\\cos\\theta\\big)\n",
    "\\end{equation}"
   ]
  },
  {
   "cell_type": "markdown",
   "id": "76a6b949-8e9d-4d48-83ac-71437cd564d5",
   "metadata": {},
   "source": [
    "The $y$-coordinate is"
   ]
  },
  {
   "cell_type": "markdown",
   "id": "ed1f6707-708c-4fb4-bdcd-40fe284165b9",
   "metadata": {},
   "source": [
    "**b)** Write down the formula for the centroid of a uniform plane region in the shape of\n",
    "an isoceles triangle with height $a$ and angle $\\theta$ between the two equal sides. (You may\n",
    "use the formula from elementary geometry or compute it out using the integral.)  "
   ]
  },
  {
   "cell_type": "markdown",
   "id": "058249d9-6c75-4ef6-8311-ac3f16f1cae0",
   "metadata": {},
   "source": [
    "**c)** If you align the two regions above using the same values for $a$ and $\\theta$ and with\n",
    "the central angle of the sector coinciding with the apex angle of the triangle, which\n",
    "centroid will be closer to the center ($=$ the apex)? What do the math and the physics\n",
    "predict and why, and are they consistent?"
   ]
  }
 ],
 "metadata": {
  "kernelspec": {
   "display_name": "Python 3 (ipykernel)",
   "language": "python",
   "name": "python3"
  },
  "language_info": {
   "codemirror_mode": {
    "name": "ipython",
    "version": 3
   },
   "file_extension": ".py",
   "mimetype": "text/x-python",
   "name": "python",
   "nbconvert_exporter": "python",
   "pygments_lexer": "ipython3",
   "version": "3.10.12"
  }
 },
 "nbformat": 4,
 "nbformat_minor": 5
}
