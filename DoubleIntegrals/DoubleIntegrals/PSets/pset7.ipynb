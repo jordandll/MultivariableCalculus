{
 "cells": [
  {
   "cell_type": "markdown",
   "id": "ef472755-4fe0-4994-8736-e5c4768a5b89",
   "metadata": {},
   "source": [
    "# Problem Set 7"
   ]
  },
  {
   "cell_type": "code",
   "execution_count": 1,
   "id": "0ed575e1-b3dc-407d-9c46-e9d88cd8faf8",
   "metadata": {
    "tags": []
   },
   "outputs": [],
   "source": [
    "import matplotlib.pyplot as plt\n",
    "import numpy as np\n",
    "import sympy as sp"
   ]
  },
  {
   "cell_type": "markdown",
   "id": "e2d2c92d-8965-49f1-a146-6a8cd538a724",
   "metadata": {},
   "source": [
    "## Part I"
   ]
  },
  {
   "cell_type": "markdown",
   "id": "ed504907-52cd-4ac7-8a39-7b84a138d2db",
   "metadata": {},
   "source": [
    "### Double Integrals\n",
    "\n",
    "#### $\\S 3\\,\\mathrm{A} : 1$"
   ]
  },
  {
   "cell_type": "markdown",
   "id": "23e577d6-855b-4efb-845f-abb58ffeeaf1",
   "metadata": {},
   "source": [
    "**a)**  $$ \\int_0^2\\int_{-1}^1\\big(6x^2+2y\\big)\\,\\mathrm{d}y\\,\\mathrm{d}x = \\int_0^2 12x^2\\,\\mathrm{d}x $$"
   ]
  },
  {
   "cell_type": "markdown",
   "id": "08fbe392-8429-4581-b2b5-50d41099684d",
   "metadata": {},
   "source": [
    "$$ = \\left. 4x^3 \\right]_0^2 = 32 $$"
   ]
  },
  {
   "cell_type": "markdown",
   "id": "29211a72-33bf-4c25-9094-d6e74f4732bf",
   "metadata": {},
   "source": [
    "**b)**  $$ \\int_0^{0.5\\pi}\\int_0^\\pi \\big(u\\sin t + t\\cos u\\big)\\,\\mathrm{d}t\\,\\mathrm{d}u = $$"
   ]
  },
  {
   "cell_type": "markdown",
   "id": "de962313-f5fb-438a-a970-493f9c82b1e9",
   "metadata": {},
   "source": [
    "$$  \\int_0^{0.5\\pi}\\int_0^\\pi u\\sin t\\,\\mathrm{d}t\\,\\mathrm{d}u + \\int_0^{0.5\\pi}\\int_0^\\pi t\\cos u\\,\\mathrm{d}t\\,\\mathrm{d}u$$"
   ]
  },
  {
   "cell_type": "markdown",
   "id": "d3eccb25-9222-4429-9802-52db743d898e",
   "metadata": {},
   "source": [
    "$$ = \\int_0^{0.5\\pi} \\left.-u\\cos t\\right]_0^\\pi\\,\\mathrm{d}u + \\int_0^{0.5\\pi} \\left. 0.5t^2\\cos u\\right]_0^\\pi\\,\\mathrm{d}u$$"
   ]
  },
  {
   "cell_type": "markdown",
   "id": "48a28d1e-3f20-4d5c-8ebc-a7c4cd636dcc",
   "metadata": {},
   "source": [
    "$$  = \\int_0^{0.5\\pi} 2u\\,\\mathrm{d}u + \\int_0^{0.5\\pi}0.5\\pi^2\\cos u\\,\\mathrm{d}u$$"
   ]
  },
  {
   "cell_type": "markdown",
   "id": "037e9846-d56b-419f-9b76-65e1ee0e814f",
   "metadata": {},
   "source": [
    "$$ = 0.25\\pi^2 + 0.5\\pi^2 = 0.75\\pi^2$$"
   ]
  },
  {
   "cell_type": "markdown",
   "id": "c05ff25e-7863-4d5a-9758-93c34fd338a0",
   "metadata": {},
   "source": [
    "**c)**  $$ \\int_0^1\\int_\\sqrt{x}^{x^2} 2x^2y\\,\\mathrm{d}y\\,\\mathrm{d}x = $$"
   ]
  },
  {
   "cell_type": "markdown",
   "id": "a63e3af7-0f44-444d-91b6-4ef2f3279bae",
   "metadata": {},
   "source": [
    "$$ \\int_0^1 \\left. x^2y^2\\right]_\\sqrt{x}^{x^2}\\,\\mathrm{d}x = \\int_0^1x^2\\big(x^4 - x \\big)\\,\\mathrm{d}x$$"
   ]
  },
  {
   "cell_type": "markdown",
   "id": "4fe20a06-4ce5-4cee-9527-63bbaadf2025",
   "metadata": {},
   "source": [
    "$$ = \\left.\\left(\\frac{x^7}{7} - \\frac{x^4}{4} \\right)\\right]_0^1 = \\frac{1}{7} - \\frac{1}{4} = \\frac{-3}{28}$$"
   ]
  },
  {
   "cell_type": "markdown",
   "id": "17d8e590-1f9d-48a8-b648-76f2dd8b44f7",
   "metadata": {},
   "source": [
    "**d)**  $$ \\int_0^1\\int_0^u \\sqrt{u^2+4}\\,\\mathrm{d}v\\,\\mathrm{d}u = \\int_0^1 u\\sqrt{u^2+4}\\,\\mathrm{d}u$$"
   ]
  },
  {
   "cell_type": "markdown",
   "id": "c779519e-b213-47a7-a60e-989969db01af",
   "metadata": {},
   "source": [
    "The primitive integral of the integrand of the above integral (on the right hand side of the equation) is:  \n",
    "\n",
    "$$ \\int u\\sqrt{u^2+4}\\,\\mathrm{d}u = \\frac{1}{3}\\,\\sqrt{\\big(u^2+4\\big)^3} + K$$"
   ]
  },
  {
   "cell_type": "markdown",
   "id": "b43c81e0-772c-42de-a996-cf285390cf09",
   "metadata": {},
   "source": [
    "Thus,  \n",
    "\n",
    "$$ \\int_0^1 u\\sqrt{u^2+4}\\,\\mathrm{d}u = \\frac{\\sqrt{125}}{3} - \\frac{8}{3}$$"
   ]
  },
  {
   "cell_type": "markdown",
   "id": "1eec17e6-12e0-4ad6-88cf-e64aa8654ceb",
   "metadata": {},
   "source": [
    "$$ = \\frac{\\sqrt{125} - 8}{3}$$"
   ]
  },
  {
   "cell_type": "code",
   "execution_count": 2,
   "id": "c01408bf-c5bb-450f-9ff4-62fa9628ba24",
   "metadata": {
    "tags": []
   },
   "outputs": [
    {
     "data": {
      "text/plain": [
       "3.180339887498949"
      ]
     },
     "execution_count": 2,
     "metadata": {},
     "output_type": "execute_result"
    }
   ],
   "source": [
    "np.sqrt(125)-8"
   ]
  },
  {
   "cell_type": "markdown",
   "id": "cea8bfb9-4fbf-4ccc-aad5-ca77d0bee2b7",
   "metadata": {},
   "source": [
    "#### $\\S 3\\,\\mathrm{A} : 2$\n",
    "\n",
    "Express each double integral over the given region $R$ as an iterated integral, using\n",
    "the given order of integration. Use the method described in Notes I to supply the limits of\n",
    "integration. For some of them, it may be necessary to break the integral up into two parts.\n",
    "In each case, begin by sketching the region."
   ]
  },
  {
   "cell_type": "markdown",
   "id": "787a3f5f-914c-421f-80f7-356c4d966c1e",
   "metadata": {},
   "source": [
    "**a)**  $R$ is the triangle with vertices at the origin, $(0,2)$, and $(-2,2)$."
   ]
  },
  {
   "cell_type": "code",
   "execution_count": 8,
   "id": "872695fd-454d-4558-b77d-3cc69c97a27d",
   "metadata": {
    "jupyter": {
     "source_hidden": true
    },
    "tags": []
   },
   "outputs": [
    {
     "data": {
      "text/plain": [
       "Text(-0.75, 1.38, '$R$')"
      ]
     },
     "execution_count": 8,
     "metadata": {},
     "output_type": "execute_result"
    },
    {
     "data": {
      "image/png": "[encoded data removed]",
      "text/plain": [
       "<Figure size 300x300 with 1 Axes>"
      ]
     },
     "metadata": {},
     "output_type": "display_data"
    }
   ],
   "source": [
    "x = np.linspace(-2,0,num=25)\n",
    "y = np.linspace(0,2,num=25)\n",
    "\n",
    "fig, ax = plt.subplots(figsize=(3,3))\n",
    "ax.set_xlabel('x-axis')\n",
    "ax.set_ylabel('y-axis')\n",
    "ylim = ax.set_ylim(-0.25,2.25)\n",
    "xlim = ax.set_xlim(-2.25,0.25)\n",
    "\n",
    "ax.plot([-2,0,0],[2,0,2],'bo')\n",
    "ax.plot(x,-x,color='k')\n",
    "ax.plot([0 for i in range(len(y))],y,color='k')\n",
    "ax.plot(x,[2 for i in range(len(x))],color='k')\n",
    "\n",
    "ax.text(-0.75,1.38,r'$R$',size=16)"
   ]
  },
  {
   "cell_type": "markdown",
   "id": "7b236387-3e33-4546-88ce-e0f390ff7774",
   "metadata": {},
   "source": [
    "The boundary lines of $R$ are given by:  \n",
    "\n",
    "$$ y = -x \\quad\\quad x = 0 \\quad\\quad y = 2$$"
   ]
  },
  {
   "cell_type": "markdown",
   "id": "992bd90a-db09-4978-b32a-596f428c5f0b",
   "metadata": {},
   "source": [
    "Express as an interated integral:  i)  $\\displaystyle \\int\\!\\int_R\\,\\mathrm{d}y\\,\\mathrm{d}x$,  ii) $\\displaystyle \\int\\!\\int_R\\,\\mathrm{d}x\\,\\mathrm{d}y$."
   ]
  },
  {
   "cell_type": "markdown",
   "id": "d26dbfe6-a2cb-40a8-a35a-5da4b1850bd9",
   "metadata": {},
   "source": [
    "**i)**  $$ \\int\\!\\int_R\\,\\mathrm{d}y\\,\\mathrm{d}x = \\int_{-2}^0\\int_{-x}^2 \\,\\mathrm{d}y\\,\\mathrm{d}x$$"
   ]
  },
  {
   "cell_type": "markdown",
   "id": "8c4532da-1564-49c6-bf73-b894106faf56",
   "metadata": {},
   "source": [
    "**ii)**  $$ \\int\\!\\int_R \\,\\mathrm{d}x\\,\\mathrm{d}y = \\int_0^2\\int_{-y}^0\\,\\mathrm{d}x\\,\\mathrm{d}y$$"
   ]
  },
  {
   "cell_type": "markdown",
   "id": "c1637791-b95e-43e3-8f79-f0c583882199",
   "metadata": {},
   "source": [
    "**b)**  $R$ is the finite region between the parabola $y=2x-x^2$ and the $x$-axis."
   ]
  },
  {
   "cell_type": "markdown",
   "id": "b6b3266d-7d21-4420-aed3-e6d8aebef184",
   "metadata": {},
   "source": [
    "The roots of the parabola are:  \n",
    "\n",
    "$$ 0 = 2x-x^2\\quad\\therefore\\quad x = \\{2,0\\}$$"
   ]
  },
  {
   "cell_type": "code",
   "execution_count": 9,
   "id": "c4eb921b-2836-4323-996e-c9b9874710ef",
   "metadata": {
    "jupyter": {
     "source_hidden": true
    },
    "tags": []
   },
   "outputs": [
    {
     "data": {
      "text/plain": [
       "Text(1, 0.5, '$R$')"
      ]
     },
     "execution_count": 9,
     "metadata": {},
     "output_type": "execute_result"
    },
    {
     "data": {
      "image/png": "[encoded data removed]",
      "text/plain": [
       "<Figure size 500x300 with 1 Axes>"
      ]
     },
     "metadata": {},
     "output_type": "display_data"
    }
   ],
   "source": [
    "x = np.linspace(0,2,num=200)\n",
    "\n",
    "fig, ax = plt.subplots(figsize=(5,3))\n",
    "ax.set_xlabel('x-axis')\n",
    "ax.set_ylabel('y-axis')\n",
    "ylim = ax.set_ylim(-0.125,1.125)\n",
    "\n",
    "ax.plot(x,[0 for i in range(len(x))],color='k')\n",
    "ax.plot(x,2*x-x**2,color='k')\n",
    "ax.text(1,0.5,r'$R$',size=16)"
   ]
  },
  {
   "cell_type": "markdown",
   "id": "7f87e165-2060-460c-985d-f00a4f2387cd",
   "metadata": {},
   "source": [
    "Express as an iterated integral:  i) $\\displaystyle \\int\\!\\int_R\\,\\mathrm{d}y\\,\\mathrm{d}x$  ii) $\\displaystyle \\int\\!\\int_R\\,\\mathrm{d}x\\,\\mathrm{d}y$.  "
   ]
  },
  {
   "cell_type": "markdown",
   "id": "4bbcd38c-b0a9-4677-8d86-d22d24c6916c",
   "metadata": {},
   "source": [
    "**i)**  $$ \\int\\!\\int_R\\,\\mathrm{d}y\\,\\mathrm{d}x = \\int_0^2\\int_0^{f(x)}\\,\\mathrm{d}y\\,\\mathrm{d}x\\quad\\quad\\text{where }\\,f(x) = 2x-x^2$$"
   ]
  },
  {
   "cell_type": "markdown",
   "id": "48e47e0e-7a14-44b2-b6d1-e9ae7bf9419c",
   "metadata": {},
   "source": [
    "**i)**  $$ $$"
   ]
  }
 ],
 "metadata": {
  "kernelspec": {
   "display_name": "Python 3 (ipykernel)",
   "language": "python",
   "name": "python3"
  },
  "language_info": {
   "codemirror_mode": {
    "name": "ipython",
    "version": 3
   },
   "file_extension": ".py",
   "mimetype": "text/x-python",
   "name": "python",
   "nbconvert_exporter": "python",
   "pygments_lexer": "ipython3",
   "version": "3.10.12"
  }
 },
 "nbformat": 4,
 "nbformat_minor": 5
}
