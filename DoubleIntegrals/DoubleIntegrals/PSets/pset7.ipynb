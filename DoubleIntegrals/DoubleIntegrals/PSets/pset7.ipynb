{
 "cells": [
  {
   "cell_type": "markdown",
   "id": "ef472755-4fe0-4994-8736-e5c4768a5b89",
   "metadata": {},
   "source": [
    "# Problem Set 7"
   ]
  },
  {
   "cell_type": "code",
   "execution_count": 1,
   "id": "0ed575e1-b3dc-407d-9c46-e9d88cd8faf8",
   "metadata": {
    "tags": []
   },
   "outputs": [],
   "source": [
    "import matplotlib.pyplot as plt\n",
    "import numpy as np\n",
    "import sympy as sp"
   ]
  },
  {
   "cell_type": "markdown",
   "id": "e2d2c92d-8965-49f1-a146-6a8cd538a724",
   "metadata": {},
   "source": [
    "## Part I"
   ]
  },
  {
   "cell_type": "markdown",
   "id": "ed504907-52cd-4ac7-8a39-7b84a138d2db",
   "metadata": {},
   "source": [
    "### Double Integrals\n",
    "\n",
    "#### $\\S 3\\,\\mathrm{A} : 1$"
   ]
  },
  {
   "cell_type": "markdown",
   "id": "23e577d6-855b-4efb-845f-abb58ffeeaf1",
   "metadata": {},
   "source": [
    "**a)**  $$ \\int_0^2\\int_{-1}^1\\big(6x^2+2y\\big)\\,\\mathrm{d}y\\,\\mathrm{d}x = \\int_0^2 12x^2\\,\\mathrm{d}x $$"
   ]
  },
  {
   "cell_type": "markdown",
   "id": "08fbe392-8429-4581-b2b5-50d41099684d",
   "metadata": {},
   "source": [
    "$$ = \\left. 4x^3 \\right]_0^2 = 32 $$"
   ]
  },
  {
   "cell_type": "markdown",
   "id": "29211a72-33bf-4c25-9094-d6e74f4732bf",
   "metadata": {},
   "source": [
    "**b)**  $$ \\int_0^{0.5\\pi}\\int_0^\\pi \\big(u\\sin t + t\\cos u\\big)\\,\\mathrm{d}t\\,\\mathrm{d}u = $$"
   ]
  },
  {
   "cell_type": "markdown",
   "id": "de962313-f5fb-438a-a970-493f9c82b1e9",
   "metadata": {},
   "source": [
    "$$  \\int_0^{0.5\\pi}\\int_0^\\pi u\\sin t\\,\\mathrm{d}t\\,\\mathrm{d}u + \\int_0^{0.5\\pi}\\int_0^\\pi t\\cos u\\,\\mathrm{d}t\\,\\mathrm{d}u$$"
   ]
  },
  {
   "cell_type": "markdown",
   "id": "d3eccb25-9222-4429-9802-52db743d898e",
   "metadata": {},
   "source": [
    "$$ = \\int_0^{0.5\\pi} \\left.-u\\cos t\\right]_0^\\pi\\,\\mathrm{d}u + \\int_0^{0.5\\pi} \\left. 0.5t^2\\cos u\\right]_0^\\pi\\,\\mathrm{d}u$$"
   ]
  },
  {
   "cell_type": "markdown",
   "id": "48a28d1e-3f20-4d5c-8ebc-a7c4cd636dcc",
   "metadata": {},
   "source": [
    "$$  = \\int_0^{0.5\\pi} 2u\\,\\mathrm{d}u + \\int_0^{0.5\\pi}0.5\\pi^2\\cos u\\,\\mathrm{d}u$$"
   ]
  },
  {
   "cell_type": "markdown",
   "id": "037e9846-d56b-419f-9b76-65e1ee0e814f",
   "metadata": {},
   "source": [
    "$$ = 0.25\\pi^2 + 0.5\\pi^2 = 0.75\\pi^2$$"
   ]
  },
  {
   "cell_type": "markdown",
   "id": "c05ff25e-7863-4d5a-9758-93c34fd338a0",
   "metadata": {},
   "source": [
    "**c)**  $$ \\int_0^1\\int_\\sqrt{x}^{x^2} 2x^2y\\,\\mathrm{d}y\\,\\mathrm{d}x = $$"
   ]
  },
  {
   "cell_type": "markdown",
   "id": "a63e3af7-0f44-444d-91b6-4ef2f3279bae",
   "metadata": {},
   "source": [
    "$$ \\int_0^1 \\left. x^2y^2\\right]_\\sqrt{x}^{x^2}\\,\\mathrm{d}x = \\int_0^1x^2\\big(x^4 - x \\big)\\,\\mathrm{d}x$$"
   ]
  },
  {
   "cell_type": "markdown",
   "id": "4fe20a06-4ce5-4cee-9527-63bbaadf2025",
   "metadata": {},
   "source": [
    "$$ = \\left.\\left(\\frac{x^7}{7} - \\frac{x^4}{4} \\right)\\right]_0^1 = \\frac{1}{7} - \\frac{1}{4} = \\frac{-3}{28}$$"
   ]
  },
  {
   "cell_type": "markdown",
   "id": "17d8e590-1f9d-48a8-b648-76f2dd8b44f7",
   "metadata": {},
   "source": [
    "**d)**  $$ \\int_0^1\\int_0^u \\sqrt{u^2+4}\\,\\mathrm{d}v\\,\\mathrm{d}u = \\int_0^1 u\\sqrt{u^2+4}\\,\\mathrm{d}u$$"
   ]
  },
  {
   "cell_type": "markdown",
   "id": "c779519e-b213-47a7-a60e-989969db01af",
   "metadata": {},
   "source": [
    "The primitive integral of the integrand of the above integral (on the right hand side of the equation) is:  \n",
    "\n",
    "$$ \\int u\\sqrt{u^2+4}\\,\\mathrm{d}u = \\frac{1}{3}\\,\\sqrt{\\big(u^2+4\\big)^3} + K$$"
   ]
  },
  {
   "cell_type": "markdown",
   "id": "b43c81e0-772c-42de-a996-cf285390cf09",
   "metadata": {},
   "source": [
    "Thus,  \n",
    "\n",
    "$$ \\int_0^1 u\\sqrt{u^2+4}\\,\\mathrm{d}u = \\frac{\\sqrt{125}}{3} - \\frac{8}{3}$$"
   ]
  },
  {
   "cell_type": "markdown",
   "id": "1eec17e6-12e0-4ad6-88cf-e64aa8654ceb",
   "metadata": {},
   "source": [
    "$$ = \\frac{\\sqrt{125} - 8}{3}$$"
   ]
  },
  {
   "cell_type": "code",
   "execution_count": 2,
   "id": "c01408bf-c5bb-450f-9ff4-62fa9628ba24",
   "metadata": {
    "tags": []
   },
   "outputs": [
    {
     "data": {
      "text/plain": [
       "3.180339887498949"
      ]
     },
     "execution_count": 2,
     "metadata": {},
     "output_type": "execute_result"
    }
   ],
   "source": [
    "np.sqrt(125)-8"
   ]
  },
  {
   "cell_type": "markdown",
   "id": "cea8bfb9-4fbf-4ccc-aad5-ca77d0bee2b7",
   "metadata": {},
   "source": [
    "#### $\\S 3\\,\\mathrm{A} : 2$\n",
    "\n",
    "Express each double integral over the given region $R$ as an iterated integral, using\n",
    "the given order of integration. Use the method described in Notes I to supply the limits of\n",
    "integration. For some of them, it may be necessary to break the integral up into two parts.\n",
    "In each case, begin by sketching the region."
   ]
  },
  {
   "cell_type": "markdown",
   "id": "787a3f5f-914c-421f-80f7-356c4d966c1e",
   "metadata": {},
   "source": [
    "**a)**  $R$ is the triangle with vertices at the origin, $(0,2)$, and $(-2,2)$."
   ]
  },
  {
   "cell_type": "code",
   "execution_count": 8,
   "id": "872695fd-454d-4558-b77d-3cc69c97a27d",
   "metadata": {
    "tags": []
   },
   "outputs": [
    {
     "data": {
      "text/plain": [
       "Text(-0.75, 1.38, '$R$')"
      ]
     },
     "execution_count": 8,
     "metadata": {},
     "output_type": "execute_result"
    },
    {
     "data": {
      "image/png": "[encoded data removed]",
      "text/plain": [
       "<Figure size 300x300 with 1 Axes>"
      ]
     },
     "metadata": {},
     "output_type": "display_data"
    }
   ],
   "source": [
    "x = np.linspace(-2,0,num=25)\n",
    "y = np.linspace(0,2,num=25)\n",
    "\n",
    "fig, ax = plt.subplots(figsize=(3,3))\n",
    "ax.set_xlabel('x-axis')\n",
    "ax.set_ylabel('y-axis')\n",
    "ylim = ax.set_ylim(-0.25,2.25)\n",
    "xlim = ax.set_xlim(-2.25,0.25)\n",
    "\n",
    "ax.plot([-2,0,0],[2,0,2],'bo')\n",
    "ax.plot(x,-x,color='k')\n",
    "ax.plot([0 for i in range(len(y))],y,color='k')\n",
    "ax.plot(x,[2 for i in range(len(x))],color='k')\n",
    "\n",
    "ax.text(-0.75,1.38,r'$R$',size=16)"
   ]
  },
  {
   "cell_type": "markdown",
   "id": "7b236387-3e33-4546-88ce-e0f390ff7774",
   "metadata": {},
   "source": [
    "The boundary lines of $R$ are given by:  \n",
    "\n",
    "$$ y = -x \\quad\\quad x = 0 \\quad\\quad y = 2$$"
   ]
  },
  {
   "cell_type": "markdown",
   "id": "992bd90a-db09-4978-b32a-596f428c5f0b",
   "metadata": {},
   "source": [
    "Express as an interated integral:  i)  $\\displaystyle \\int\\!\\int_R\\,\\mathrm{d}y\\,\\mathrm{d}x$,  ii) $\\displaystyle \\int\\!\\int_R\\,\\mathrm{d}x\\,\\mathrm{d}y$."
   ]
  },
  {
   "cell_type": "markdown",
   "id": "d26dbfe6-a2cb-40a8-a35a-5da4b1850bd9",
   "metadata": {},
   "source": [
    "**i)**  $$ \\int\\!\\int_R\\,\\mathrm{d}y\\,\\mathrm{d}x = \\int_{-2}^0\\int_{-x}^2 \\,\\mathrm{d}y\\,\\mathrm{d}x$$"
   ]
  },
  {
   "cell_type": "markdown",
   "id": "8c4532da-1564-49c6-bf73-b894106faf56",
   "metadata": {},
   "source": [
    "**ii)**  $$ \\int\\!\\int_R \\,\\mathrm{d}x\\,\\mathrm{d}y = \\int_0^2\\int_{-y}^0\\,\\mathrm{d}x\\,\\mathrm{d}y$$"
   ]
  },
  {
   "cell_type": "markdown",
   "id": "c1637791-b95e-43e3-8f79-f0c583882199",
   "metadata": {},
   "source": [
    "**b)**  $R$ is the finite region between the parabola $y=2x-x^2$ and the $x$-axis."
   ]
  },
  {
   "cell_type": "markdown",
   "id": "b6b3266d-7d21-4420-aed3-e6d8aebef184",
   "metadata": {},
   "source": [
    "The roots of the parabola are:  \n",
    "\n",
    "$$ 0 = 2x-x^2\\quad\\therefore\\quad x = \\{2,0\\}$$"
   ]
  },
  {
   "cell_type": "code",
   "execution_count": 9,
   "id": "c4eb921b-2836-4323-996e-c9b9874710ef",
   "metadata": {
    "tags": []
   },
   "outputs": [
    {
     "data": {
      "text/plain": [
       "Text(1, 0.5, '$R$')"
      ]
     },
     "execution_count": 9,
     "metadata": {},
     "output_type": "execute_result"
    },
    {
     "data": {
      "image/png": "[encoded data removed]",
      "text/plain": [
       "<Figure size 500x300 with 1 Axes>"
      ]
     },
     "metadata": {},
     "output_type": "display_data"
    }
   ],
   "source": [
    "x = np.linspace(0,2,num=200)\n",
    "\n",
    "fig, ax = plt.subplots(figsize=(5,3))\n",
    "ax.set_xlabel('x-axis')\n",
    "ax.set_ylabel('y-axis')\n",
    "ylim = ax.set_ylim(-0.125,1.125)\n",
    "\n",
    "ax.plot(x,[0 for i in range(len(x))],color='k')\n",
    "ax.plot(x,2*x-x**2,color='k')\n",
    "ax.text(1,0.5,r'$R$',size=16)"
   ]
  },
  {
   "cell_type": "markdown",
   "id": "7f87e165-2060-460c-985d-f00a4f2387cd",
   "metadata": {},
   "source": [
    "Express as an iterated integral:  i) $\\displaystyle \\int\\!\\int_R\\,\\mathrm{d}y\\,\\mathrm{d}x$  ii) $\\displaystyle \\int\\!\\int_R\\,\\mathrm{d}x\\,\\mathrm{d}y$.  "
   ]
  },
  {
   "cell_type": "markdown",
   "id": "4bbcd38c-b0a9-4677-8d86-d22d24c6916c",
   "metadata": {},
   "source": [
    "**i)**  $$ \\int\\!\\int_R\\,\\mathrm{d}y\\,\\mathrm{d}x = \\int_0^2\\int_0^{f(x)}\\,\\mathrm{d}y\\,\\mathrm{d}x\\quad\\quad\\text{where }\\,f(x) = 2x-x^2$$"
   ]
  },
  {
   "cell_type": "markdown",
   "id": "48e47e0e-7a14-44b2-b6d1-e9ae7bf9419c",
   "metadata": {},
   "source": [
    "**ii)**  Under this order of integration, the region $R$ is bounded by the curves given by:  \n",
    "\n",
    "$$ y = 0 \\quad\\quad\\text{and}\\quad\\quad y = 1$$"
   ]
  },
  {
   "cell_type": "markdown",
   "id": "1dd77f5e-a7e3-4f7b-96dd-837fa11a2772",
   "metadata": {},
   "source": [
    "and,  \n",
    "\n",
    "$$ -x^2 + 2x - y = 0$$"
   ]
  },
  {
   "cell_type": "markdown",
   "id": "ffb97f1d-6f4c-4a52-8bb2-45aea4f0ae84",
   "metadata": {},
   "source": [
    "Via the above equation and the quadratic formula,  \n",
    "\n",
    "$$ x = -\\frac{-2\\pm\\sqrt{4 - 4y}}{2} = -\\big(-1\\pm\\sqrt{1-y}\\big)$$"
   ]
  },
  {
   "cell_type": "markdown",
   "id": "6ae4885b-093d-4496-a9d7-e847d2cba6df",
   "metadata": {},
   "source": [
    "$$ = \\big\\{1-\\sqrt{1-y}, 1+\\sqrt{1-y}\\big\\}$$"
   ]
  },
  {
   "cell_type": "markdown",
   "id": "64eab8e4-556c-4f15-88a3-f94684179037",
   "metadata": {},
   "source": [
    "Let,  \n",
    "\n",
    "$$ g_1(y):=1-\\sqrt{1-y} \\quad\\quad \\text{and}\\quad\\quad g_2(y):=1+\\sqrt{1-y}$$"
   ]
  },
  {
   "cell_type": "markdown",
   "id": "bf72100a-e389-4926-b87b-eadb3f90f55f",
   "metadata": {},
   "source": [
    "Thus, $R$ is additionally bounded by the curves given by function defined above.  Finally,  \n",
    "\n",
    "$$ \\int\\!\\int_R\\,\\mathrm{d}x\\,\\mathrm{d}y = \\int_0^1\\int_{g_1(y)}^{g_2(y)}\\,\\mathrm{d}x\\,\\mathrm{d}y$$"
   ]
  },
  {
   "cell_type": "markdown",
   "id": "d0d1f230-f85e-4857-a5e6-d37d44db426b",
   "metadata": {},
   "source": [
    "**c)**  $R$ is the sector of the circle with center at the origin and radius $2$ lying between the $x$-axis and the line given by $y=x$."
   ]
  },
  {
   "cell_type": "markdown",
   "id": "cdbe6b44-a6a3-4f23-a83b-ce1b3d6bc65a",
   "metadata": {},
   "source": [
    "The region $R$ is bounded by the curves given by:  \n",
    "\n",
    "$$ y := g(x) = \\sqrt{4-x^2} \\quad\\quad y = 0 \\quad\\quad y := f(x) = x$$"
   ]
  },
  {
   "cell_type": "code",
   "execution_count": 12,
   "id": "2e9cf071-a1fa-4e16-aa6c-026934bff23c",
   "metadata": {
    "tags": []
   },
   "outputs": [
    {
     "data": {
      "text/plain": [
       "Text(1.25, 0.4, '$R$')"
      ]
     },
     "execution_count": 12,
     "metadata": {},
     "output_type": "execute_result"
    },
    {
     "data": {
      "image/png": "[encoded data removed]",
      "text/plain": [
       "<Figure size 500x300 with 1 Axes>"
      ]
     },
     "metadata": {},
     "output_type": "display_data"
    }
   ],
   "source": [
    "# Create the domain.\n",
    "x_f = np.linspace(0,np.sqrt(2),num=25)\n",
    "x_g = np.linspace(np.sqrt(2),2,num=100)\n",
    "x = np.linspace(0,2,num=25)\n",
    "\n",
    "# Define the functions that give some of the boundary curves.\n",
    "f = x_f\n",
    "g = np.sqrt(4-x_g**2)\n",
    "\n",
    "# Create the figure and axes objects.\n",
    "fig, ax = plt.subplots(figsize=(5,3))\n",
    "ax.set_xlabel('x-axis')\n",
    "ax.set_ylabel('y-axis')\n",
    "\n",
    "# Plot the boundary curves and label the region.\n",
    "ax.plot(x_f,f,x_g,g,color='k')\n",
    "ax.plot(x,[0 for i in range(len(x))],color='k')\n",
    "ax.text(1.25,0.4,r'$R$',size=16)"
   ]
  },
  {
   "cell_type": "markdown",
   "id": "4f2d4622-52a7-4236-99c9-37f455e221b8",
   "metadata": {},
   "source": [
    "Express as an iterated integral:  i) $\\displaystyle \\int\\!\\int_R\\,\\mathrm{d}y\\,\\mathrm{d}x$, ii) $\\displaystyle \\int\\!\\int_R\\,\\mathrm{d}x\\,\\mathrm{d}y$."
   ]
  },
  {
   "cell_type": "markdown",
   "id": "8a973ec9-93c5-49dc-a3f0-34fa51fb482e",
   "metadata": {},
   "source": [
    "**i)**  Under this order of integration we must divide the region $R$ into two subregions.  Said subregion, henceforth '$R_1$' and '$R_2$', are divided by the line given by:  \n",
    "\n",
    "$$ x := h(y) = \\sqrt{2}$$"
   ]
  },
  {
   "cell_type": "code",
   "execution_count": 38,
   "id": "c55ec570-c54b-47b0-896c-1a9d31201ae9",
   "metadata": {
    "tags": []
   },
   "outputs": [
    {
     "data": {
      "image/png": "[encoded data removed]",
      "text/plain": [
       "<Figure size 500x300 with 1 Axes>"
      ]
     },
     "execution_count": 38,
     "metadata": {},
     "output_type": "execute_result"
    }
   ],
   "source": [
    "y = x_f\n",
    "ax.plot([np.sqrt(2) for i in range(len(y))],y,color='k')\n",
    "ax.text(0.85,0.2,r'$R_1$',size=15)\n",
    "ax.text(1.7,0.2,r'$R_2$',size=15)\n",
    "fig"
   ]
  },
  {
   "cell_type": "markdown",
   "id": "14ab1671-bc30-40bd-be40-785d73421028",
   "metadata": {},
   "source": [
    "The region $R_1$ is of course bounded by the curves given by $h(y)$, $f(x)$ and the $x$-axis, while $R_2$ is bounded by the curves given by $g(x)$, $h(y)$ and the $x$-axis.  Thus,  \n",
    "\n",
    "$$ \\int\\!\\int_R\\,\\mathrm{d}y\\,\\mathrm{d}x = \\int\\!\\int_{R_1}\\,\\mathrm{d}y\\,\\mathrm{d}x + \\int\\!\\int_{R_2}\\,\\mathrm{d}y\\,\\mathrm{d}x$$"
   ]
  },
  {
   "cell_type": "markdown",
   "id": "b077adc3-101d-4a6e-927c-8aea3b6c8f73",
   "metadata": {},
   "source": [
    "$$ \\int\\!\\int_{R_1}\\,\\mathrm{d}y\\,\\mathrm{d}x = \\int_0^\\sqrt{2}\\int_0^x\\,\\mathrm{d}y\\,\\mathrm{d}y$$"
   ]
  },
  {
   "cell_type": "markdown",
   "id": "30b47fc8-ed3b-4f79-90c8-7cff87829de6",
   "metadata": {},
   "source": [
    "$$ \\int\\!\\int_{R_2}\\,\\mathrm{d}y\\,\\mathrm{d}x = \\int_\\sqrt{2}^2\\int_0^{g(x)}\\,\\mathrm{d}y\\,\\mathrm{d}x$$"
   ]
  },
  {
   "cell_type": "markdown",
   "id": "f6d739f9-e0c0-4cac-8d4a-2357331949b4",
   "metadata": {},
   "source": [
    "**ii)**  Under this order of integration, $R$ is bounded by the curves given by:  \n",
    "\n",
    "$$ y = 0 \\quad\\quad y = \\sqrt{2} \\quad\\quad x = y \\quad\\quad x := g(y) = \\sqrt{4-y^2}$$"
   ]
  },
  {
   "cell_type": "markdown",
   "id": "1e5ea814-72b7-4721-8c76-4ee77cd06b08",
   "metadata": {},
   "source": [
    "Note that, under this order of integration, $R$ does not need to be divided into subregions.  Finally,  \n",
    "\n",
    "$$ \\int\\!\\int_R\\,\\mathrm{d}x\\,\\mathrm{d}y = \\int_0^\\sqrt{2}\\int_y^{g(y)}\\,\\mathrm{d}x\\,\\mathrm{d}y$$"
   ]
  },
  {
   "cell_type": "markdown",
   "id": "2e944abe-2ecf-4789-b7b5-e5c7a22f5fb7",
   "metadata": {},
   "source": [
    "**d)**  $R$ is the finite region lying between the parabola given by $y^2=x$ and the line through $(2,0)$ having slope $1$."
   ]
  },
  {
   "cell_type": "markdown",
   "id": "ae24864d-f204-44b0-a84a-b009ac48d613",
   "metadata": {},
   "source": [
    "Said line given by:  \n",
    "\n",
    "$$ y:=f(x) = x-2$$"
   ]
  },
  {
   "cell_type": "code",
   "execution_count": 61,
   "id": "8ff66ee8-4258-454d-a1ed-85edb368b216",
   "metadata": {
    "jupyter": {
     "source_hidden": true
    },
    "tags": []
   },
   "outputs": [
    {
     "data": {
      "text/plain": [
       "Text(1, 0, '$R$')"
      ]
     },
     "execution_count": 61,
     "metadata": {},
     "output_type": "execute_result"
    },
    {
     "data": {
      "image/png": "[encoded data removed]",
      "text/plain": [
       "<Figure size 640x480 with 1 Axes>"
      ]
     },
     "metadata": {},
     "output_type": "display_data"
    }
   ],
   "source": [
    "x = np.linspace(0,4,num=200)\n",
    "\n",
    "f = x-2\n",
    "\n",
    "fig, ax = plt.subplots()\n",
    "ax.set_xlabel('x-axis')\n",
    "ax.set_ylabel('y-axis')\n",
    "\n",
    "ax.plot(x,f,x,np.sqrt(x),x,-np.sqrt(x),color='k')\n",
    "ax.text(1,0,r'$R$',size=16)"
   ]
  },
  {
   "cell_type": "markdown",
   "id": "345d1bf4-f9e8-459a-a811-e7b32f7539fe",
   "metadata": {},
   "source": [
    "The points of intersection between the line and the parabola have $x$-coordinates of,     \n",
    "\n",
    "$$ x = (x-2)^2 = x^2 - 4x + 4 \\quad\\therefore\\quad x^2-5x+4=0$$"
   ]
  },
  {
   "cell_type": "markdown",
   "id": "2aa99463-2122-4fe3-9545-a10e1ade8965",
   "metadata": {},
   "source": [
    "Via the above and the quadratic formula,  \n",
    "\n",
    "$$ x = \\frac{5 \\pm\\sqrt{25 - 16}}{2} = \\frac{5\\pm 3}{2} = \\{4,1\\}$$"
   ]
  },
  {
   "cell_type": "markdown",
   "id": "606a3004-4dbd-4138-8907-6f451c48094e",
   "metadata": {},
   "source": [
    "Express, as an iterated integral:  i) $\\displaystyle \\int\\!\\int_R\\,\\mathrm{d}y\\,\\mathrm{d}x\\,\\text{,}\\quad$ and ii) $\\displaystyle \\int\\!\\int_R\\,\\mathrm{d}x\\,\\mathrm{d}y$."
   ]
  },
  {
   "cell_type": "markdown",
   "id": "109b12bb-71eb-4fe1-a739-9870383dd88d",
   "metadata": {},
   "source": [
    "**i)**  Under this order of integration, we must divide $R$ into two subregions.  Said subregions, henceforth '$R_1$' and '$R_2$', are divided by the line given by:  \n",
    "\n",
    "$$ x:=g(y) = 1$$"
   ]
  },
  {
   "cell_type": "markdown",
   "id": "70661c95-354c-4423-8e05-310332c28cf3",
   "metadata": {},
   "source": [
    "Finally,  \n",
    "\n",
    "$$ \\int\\!\\int_R\\,\\mathrm{d}y\\,\\mathrm{d}x = \\int\\!\\int_{R_1}\\,\\mathrm{d}y\\,\\mathrm{d}x + \\int\\!\\int_{R_2}\\,\\mathrm{d}y\\,\\mathrm{d}x$$"
   ]
  },
  {
   "cell_type": "markdown",
   "id": "3176ceb8-e1aa-48e4-ad82-fe0b8385e7f0",
   "metadata": {},
   "source": [
    "$$ \\int\\!\\int_{R_1}\\,\\mathrm{d}y\\,\\mathrm{d}x = \\int_0^1\\int_{-\\sqrt{x}}^\\sqrt{x}\\,\\mathrm{d}y\\,\\mathrm{d}x$$"
   ]
  },
  {
   "cell_type": "markdown",
   "id": "6450c54d-2d6f-43da-b71f-2044703caeaf",
   "metadata": {},
   "source": [
    "$$ \\int\\!\\int_{R_2}\\,\\mathrm{d}y\\,\\mathrm{d}x = \\int_1^4\\int_{f(x)}^\\sqrt{x}\\,\\mathrm{d}y\\,\\mathrm{d}x$$"
   ]
  },
  {
   "cell_type": "markdown",
   "id": "8e258726-500e-4fb4-b6e5-f7063689e97d",
   "metadata": {},
   "source": [
    "**ii)**  Under this order of integration, the region $R$ does not have to be divided into subregion.  Said region is bounded by  \n",
    "\n",
    "$$ y = -1 \\quad\\quad y = 2 \\quad\\quad x = y^2 \\quad\\quad x:=h(y) = y + 2$$"
   ]
  },
  {
   "cell_type": "markdown",
   "id": "0acddb5f-d872-4dbc-9f09-3240fdff23d4",
   "metadata": {},
   "source": [
    "Finally,  \n",
    "\n",
    "$$ \\int\\!\\int_R\\,\\mathrm{d}x\\,\\mathrm{d}y = \\int_{-1}^2\\int_{y^2}^{h(y)}\\,\\mathrm{d}x\\,\\mathrm{d}y$$"
   ]
  },
  {
   "cell_type": "markdown",
   "id": "7625c2e4-150c-4800-bd3a-1a3669239e27",
   "metadata": {},
   "source": [
    "#### $\\S 3\\mathrm{A}:3$\n",
    "\n",
    "Evaluate each of the following double integrals over the indicated region $R$.  Choose whichever order of integration seems easier -- given the integrand and the shape of $R$."
   ]
  },
  {
   "cell_type": "markdown",
   "id": "7879e0e4-3d70-4ef4-afc8-f2ec7db5d926",
   "metadata": {},
   "source": [
    "**a)**  $\\displaystyle \\int\\!\\int_Rx\\,\\mathrm{d}A\\text{,}\\quad$ where $R$ is the finite region bounded by the axes and the line given by $2y+x=2$."
   ]
  },
  {
   "cell_type": "markdown",
   "id": "69dd385a-54bf-48fb-bc89-cabe42728f63",
   "metadata": {},
   "source": [
    "Said line has an $x$-intercept of $x=2$ and a $y$-intercept of $y=1$.  Thus,  \n",
    "\n",
    "$$ \\int\\!\\int_Rx\\,\\mathrm{d}A = \\int_0^2\\int_0^{f(x)} x\\,\\mathrm{d}y\\,\\mathrm{d}x \\quad\\quad \\text{where }\\,y:=f(x) = 1 - 0.5x$$"
   ]
  },
  {
   "cell_type": "markdown",
   "id": "82c84858-e6d9-482a-be6f-2a3d7b05948b",
   "metadata": {},
   "source": [
    "Finally,  \n",
    "\n",
    "$$ \\int\\!\\int_Rx\\,\\mathrm{d}A = \\int_0^2 \\big(x - 0.5x^2\\big)\\,\\mathrm{d}x$$"
   ]
  },
  {
   "cell_type": "markdown",
   "id": "fa1202ea-24f9-4e67-aa5f-8f237bb32b32",
   "metadata": {},
   "source": [
    "$$ = 0.5\\cdot2^2 - \\frac{2^3}{6} = 2 - \\frac{4}{3} = \\frac{2}{3}$$"
   ]
  },
  {
   "cell_type": "markdown",
   "id": "4cb94b68-663d-4a3a-b478-b5b33c4bdd87",
   "metadata": {},
   "source": [
    "**b)**  $\\displaystyle \\int\\!\\int_R \\big(2x+y^2\\big)\\,\\mathrm{d}A\\text{,}\\quad$ where $R$ is the finite region in the first quadrant bounded by the axes and the curve given by $y^2=1-x$.  Note that $\\mathrm{d}x\\,\\mathrm{d}y$ is an easier order of integration."
   ]
  },
  {
   "cell_type": "markdown",
   "id": "854af2f6-ec83-4cd7-a998-0648d58b1842",
   "metadata": {},
   "source": [
    "$$ \\int\\!\\int_R h(x,y)\\,\\mathrm{d}A = \\int_0^1\\int_0^{f(y)} h(x,y)\\,\\mathrm{d}x\\,\\mathrm{d}y$$"
   ]
  },
  {
   "cell_type": "markdown",
   "id": "d763ce8c-52a8-4bd4-a884-f8f37c6fa6c9",
   "metadata": {},
   "source": [
    "where,  \n",
    "\n",
    "$$ x:=f(y) = 1-y^2 \\quad\\quad\\text{and}\\quad\\quad h(x,y) = 2x+y^2$$"
   ]
  },
  {
   "cell_type": "markdown",
   "id": "7997d6fe-eb98-4acb-9de0-be98f0d1b385",
   "metadata": {},
   "source": [
    "Thus,  \n",
    "\n",
    "$$ \\int\\!\\int_R h(x,y)\\,\\mathrm{d}A = \\int_0^1 \\left. x^2 + xy^2\\right]_{\\,0}^{\\,f(y)}\\,\\mathrm{d}y$$"
   ]
  },
  {
   "cell_type": "markdown",
   "id": "faf3d2bf-bcb5-417f-8877-c777cf91dff1",
   "metadata": {},
   "source": [
    "$$ = \\int_0^1\\big(f^2(y) + f(y)y^2\\big)\\,\\mathrm{d}y$$"
   ]
  },
  {
   "cell_type": "markdown",
   "id": "2b737fb1-1410-4d30-bfa2-708a1fcc650f",
   "metadata": {},
   "source": [
    "$$ = \\int_0^1 f(y)\\,\\mathrm{d}y = \\left.\\left(y-\\frac{y^3}{3}\\right)\\right]_{\\,0}^{\\,1}$$"
   ]
  },
  {
   "cell_type": "markdown",
   "id": "3644c953-154f-4c26-9410-a3df112aead6",
   "metadata": {},
   "source": [
    "$$ = \\frac{2}{3}$$"
   ]
  },
  {
   "cell_type": "markdown",
   "id": "01155ed0-fb40-49d2-8fa4-5786ef41079c",
   "metadata": {},
   "source": [
    "**c)**  $\\displaystyle \\int\\!\\int_R y\\,\\mathrm{d}A\\text{,}\\quad$ where $R$ is the triangle with vertices at $(\\pm 1,0)$ and $(0,1)$."
   ]
  },
  {
   "cell_type": "markdown",
   "id": "55b55a3c-a3fa-426c-afae-d8a6f6a508bb",
   "metadata": {},
   "source": [
    "To find the value of the double integral, we must first divide $R$ into two subregions.  Said subregions, henceforth '$R_1$' and '$R_2$', are divided by the line given by $x = 0$.  Let $R_1$ be bound by the axes and the line given by:  \n",
    "\n",
    "$$ f(x) = x + 1$$"
   ]
  },
  {
   "cell_type": "markdown",
   "id": "1bb6b7f8-bac0-44ca-a575-788cfbf5ff30",
   "metadata": {},
   "source": [
    "The other subregion is bound by the axes and the line given by:  \n",
    "\n",
    "$$ g(x) = 1-x$$"
   ]
  },
  {
   "cell_type": "markdown",
   "id": "44a1d6a0-b93c-4a19-a87e-3e5c71477235",
   "metadata": {},
   "source": [
    "Thus,  \n",
    "\n",
    "$$ \\int\\!\\int_R y\\,\\mathrm{d}A = \\int\\!\\int_{R_1} y \\,\\mathrm{d}A + \\int\\!\\int_{R_2} y\\,\\mathrm{d}A$$"
   ]
  },
  {
   "cell_type": "markdown",
   "id": "2c23745f-4835-4514-8dc1-efc753f77592",
   "metadata": {},
   "source": [
    "$$ \\int\\!\\int_{R_1} y\\,\\mathrm{d}A = \\int_{-1}^0\\int_0^{f(x)} y\\,\\mathrm{d}y\\,\\mathrm{d}x = \\int_{-1}^0 0.5f^2(x)\\,\\mathrm{d}x$$"
   ]
  },
  {
   "cell_type": "markdown",
   "id": "aa99a74b-f65b-4920-952b-8943ff8d2f6d",
   "metadata": {},
   "source": [
    "$$ = \\int_{-1}^0 0.5\\big(x^2+2x+1\\big)\\,\\mathrm{d}x$$"
   ]
  },
  {
   "cell_type": "markdown",
   "id": "2c1ecbb3-16a2-4321-ae18-7c7b74082718",
   "metadata": {},
   "source": [
    "$$ = -0.5\\left(-\\frac{1}{3} + 1 - 1\\right) = \\frac{1}{6}$$"
   ]
  },
  {
   "cell_type": "markdown",
   "id": "8d71ac80-e6ca-4944-892c-afbe927ec5b7",
   "metadata": {},
   "source": [
    "$$ \\int\\!\\int_{R_2} y\\,\\mathrm{d}A = \\int_0^1\\int_0^{g(x)} y\\,\\mathrm{d}y\\,\\mathrm{d}x = \\int_0^1 0.5g^2(x)\\,\\mathrm{d}x $$"
   ]
  },
  {
   "cell_type": "markdown",
   "id": "3b775da2-2416-4a44-b26b-670bb1fc7d22",
   "metadata": {},
   "source": [
    "$$ = 0.5\\int_0^1 \\big(x^2 - 2x + 1\\big)\\,\\mathrm{d}x$$"
   ]
  },
  {
   "cell_type": "markdown",
   "id": "ea7bd8f1-8190-468b-92ce-22488d96ec42",
   "metadata": {},
   "source": [
    "$$ = \\frac{1}{6}$$"
   ]
  },
  {
   "cell_type": "markdown",
   "id": "b2fac32f-2e2f-4a48-869e-061d8114990f",
   "metadata": {},
   "source": [
    "Finally,  \n",
    "\n",
    "$$ \\int\\!\\int_R y\\,\\mathrm{d}A = \\frac{1}{3}$$"
   ]
  },
  {
   "cell_type": "markdown",
   "id": "5a89d39e-72a1-47f7-a13f-ab52a42bf89a",
   "metadata": {},
   "source": [
    "#### $\\S 3\\mathrm{A} : 4$\n",
    "\n",
    "Find, by double integration, the volume of the following solids."
   ]
  },
  {
   "cell_type": "markdown",
   "id": "1b4b2df2-ded9-4bae-9c56-cf609e49a7c5",
   "metadata": {},
   "source": [
    "**a)**  The solid lying under the graph of $z=\\sin^2 x$ and over the region $R$ bounded below by the $x$-axis and above by the central arch of the graph of $\\cos x$."
   ]
  },
  {
   "cell_type": "markdown",
   "id": "14fe5aeb-e02a-409c-8980-b3141b247900",
   "metadata": {},
   "source": [
    "$$ V=\\int\\!\\int_R z\\,\\mathrm{d}A = \\int_{-0.5\\pi}^{0.5\\pi}\\int_0^{\\cos x} \\sin^2x\\,\\mathrm{d}y\\,\\mathrm{d}x  = \\int_{-0.5\\pi}^{0.5\\pi} \\cos x \\sin^2 \\,\\mathrm{d}x$$"
   ]
  },
  {
   "cell_type": "markdown",
   "id": "34b02f0f-ff68-4d6f-aa2d-2e79e32c0282",
   "metadata": {},
   "source": [
    "$$ = \\left(\\left. \\frac{\\sin^3 x}{3}\\right)\\right]_{-0.5\\pi}^{0.5\\pi}$$"
   ]
  },
  {
   "cell_type": "markdown",
   "id": "20bc89b2-993e-43b4-a8f9-3b0a8df06b54",
   "metadata": {},
   "source": [
    "$$ = \\frac{2}{3}$$"
   ]
  },
  {
   "cell_type": "markdown",
   "id": "3aa01607-8797-40ad-b57e-eb1171d7fae7",
   "metadata": {},
   "source": [
    "**b)**  The solid lying over the finite region $R$ in the first quadrant between the graphs of $x$ and $x^2$, and underneath the graph of $z=xy$."
   ]
  },
  {
   "cell_type": "code",
   "execution_count": 64,
   "id": "e2936099-497e-488e-a4ef-ad04830e342d",
   "metadata": {
    "jupyter": {
     "source_hidden": true
    },
    "tags": []
   },
   "outputs": [
    {
     "data": {
      "image/png": "[encoded data removed]",
      "text/plain": [
       "<Figure size 300x300 with 2 Axes>"
      ]
     },
     "metadata": {},
     "output_type": "display_data"
    }
   ],
   "source": [
    "x = np.linspace(0,1,num=50)\n",
    "y = np.linspace(0,1,num=50)\n",
    "X, Y = np.meshgrid(x,y)\n",
    "\n",
    "z = X*Y\n",
    "\n",
    "fig, ax = plt.subplots(figsize=(3,3))\n",
    "ax.set_xlabel('x-axis')\n",
    "ax.set_ylabel('y-axis')\n",
    "\n",
    "ax.plot(x,x,x,x**2,color='k')\n",
    "cs = ax.contour(X,Y,z,levels=12)\n",
    "cb = fig.colorbar(cs)"
   ]
  },
  {
   "cell_type": "markdown",
   "id": "074fd5a9-e3ba-48ef-8d69-766c4fe81c82",
   "metadata": {},
   "source": [
    "$$ V = \\int\\!\\int_R z\\,\\mathrm{d}A = \\int_0^1\\int_{x^2}^x xy\\,\\mathrm{d}y\\,\\mathrm{d}x$$"
   ]
  },
  {
   "cell_type": "markdown",
   "id": "eb96dc0c-a95e-4085-9200-ff30c33dafc3",
   "metadata": {},
   "source": [
    "$$ = \\int_0^1 \\left.\\big(0.5xy^2\\big)\\right]_{x^2}^x\\,\\mathrm{d}x = \\int_0^1 0.5x\\big(x^2-x^4\\big)\\,\\mathrm{d}x$$"
   ]
  },
  {
   "cell_type": "markdown",
   "id": "e8a9b98b-700c-4115-9f01-5167036aafe2",
   "metadata": {},
   "source": [
    "$$ = \\frac{1}{8} - \\frac{1}{12} = \\frac{1}{24}$$"
   ]
  },
  {
   "cell_type": "markdown",
   "id": "fb0966c3-44c0-432c-a3cb-b1db839118dc",
   "metadata": {},
   "source": [
    "**c)**  \n",
    "\n",
    "$$ V = \\int_0^1\\int_{-x}^x \\big(x^2-y^2\\big)\\,\\mathrm{d}y\\,\\mathrm{d}x = \\int_0^1\\left.\\left(yx^2 - \\frac{y^3}{3}\\right)\\right]_{-x}^x\\,\\mathrm{d}x$$"
   ]
  },
  {
   "cell_type": "markdown",
   "id": "5605f2d8-0c0a-46a0-a9b9-0d6767c8263e",
   "metadata": {},
   "source": [
    "$$ = \\int_0^1\\left(\\frac{2x^3}{3} - \\frac{x^3}{3} + x^3\\right)\\,\\mathrm{d}x = \\int_0^1 \\frac{4}{3}\\,x^3\\,\\mathrm{d}x$$"
   ]
  },
  {
   "cell_type": "markdown",
   "id": "97f5a3e0-94c8-4aeb-91a4-8211a999935d",
   "metadata": {},
   "source": [
    "$$ = \\frac{1}{3}$$"
   ]
  },
  {
   "cell_type": "markdown",
   "id": "1a4509a1-21c1-4e0f-8b53-604c0e6e31ef",
   "metadata": {},
   "source": [
    "#### $\\S 3\\mathrm{A} : 5$  \n",
    "\n",
    "Evaluate each of the following iterated integrals by changing the order of integration.  Begin by figuring out what the region $R$ is and sketching it."
   ]
  },
  {
   "cell_type": "markdown",
   "id": "482019b6-07f0-4be5-8a84-cbdb57b1c8b3",
   "metadata": {},
   "source": [
    "**a)**  $$ \\int\\!\\int_R e^{-y^2}\\,\\mathrm{d}A = \\int_0^2\\int_0^y e^{-y^2}\\,\\mathrm{d}x\\,\\mathrm{d}y$$"
   ]
  },
  {
   "cell_type": "markdown",
   "id": "6c3f940d-5b1d-40ee-a29e-86d5d41ec8f6",
   "metadata": {},
   "source": [
    "$$ = \\int_0^2 ye^{-y^2}\\,\\mathrm{d}y = \\left.-0.5e^{-y^2}\\right]_{\\,0}^{\\,2} $$"
   ]
  },
  {
   "cell_type": "markdown",
   "id": "bce396aa-a7e4-48f1-a176-214d42812981",
   "metadata": {},
   "source": [
    "$$ = 0.5 - 0.5e^{-4} = 0.5\\big(1-e^{-4}\\big)$$"
   ]
  },
  {
   "cell_type": "code",
   "execution_count": 65,
   "id": "c44e3246-ce1d-4874-a58b-badfda1ba44c",
   "metadata": {
    "tags": []
   },
   "outputs": [
    {
     "data": {
      "text/plain": [
       "0.4908421805556329"
      ]
     },
     "execution_count": 65,
     "metadata": {},
     "output_type": "execute_result"
    }
   ],
   "source": [
    "0.5*(1-np.e**(-4))"
   ]
  },
  {
   "cell_type": "markdown",
   "id": "7a0d318b-1f56-410c-90ea-0eaad9e3ac7e",
   "metadata": {},
   "source": [
    "**b)**  $$ \\int\\!\\int_R h(u,t)\\,\\mathrm{d}A = \\int_0^{0.5}\\int_0^{u^2} h(u,t)\\,\\mathrm{d}t\\,\\mathrm{d}u$$"
   ]
  },
  {
   "cell_type": "markdown",
   "id": "1bed546b-5a53-40cd-979f-e6df7165b93a",
   "metadata": {},
   "source": [
    "where $h(u,t)$ is defined as the integrand.  \n",
    "\n",
    "$$ h(t,u) = \\frac{e^u}{u}$$"
   ]
  },
  {
   "cell_type": "markdown",
   "id": "0348a949-92a4-4aef-b899-b74b7fa98a8e",
   "metadata": {},
   "source": [
    "Furthermore,  \n",
    "\n",
    "$$ \\int_0^{0.5}\\int_0^{u^2}h(u,t)\\,\\mathrm{d}t\\,\\mathrm{d}u = \\int_0^{0.5} ue^u\\,\\mathrm{d}u$$"
   ]
  },
  {
   "cell_type": "markdown",
   "id": "ac49c186-b604-4896-a233-89be6cf289bc",
   "metadata": {},
   "source": [
    "$$ = \\left.(u-1)e^u\\right]_{\\,0}^{\\,0.5}$$"
   ]
  },
  {
   "cell_type": "markdown",
   "id": "8b33eb68-cbb9-4474-ae52-c62fb7ea2c59",
   "metadata": {},
   "source": [
    "$$ = 1-0.5e^{0.5} $$"
   ]
  },
  {
   "cell_type": "code",
   "execution_count": 66,
   "id": "4ed8455d-6f2c-47ae-9af1-6a179161aa03",
   "metadata": {
    "tags": []
   },
   "outputs": [
    {
     "data": {
      "text/plain": [
       "0.1756393646499359"
      ]
     },
     "execution_count": 66,
     "metadata": {},
     "output_type": "execute_result"
    }
   ],
   "source": [
    "1-0.5*np.e**(0.5)"
   ]
  },
  {
   "cell_type": "markdown",
   "id": "292c0bf9-86f8-45f6-b706-1f6548a82ce5",
   "metadata": {},
   "source": [
    "**c)**  $$ \\int\\!\\int_R h(u,x)\\,\\mathrm{d}A = \\int_0^1\\int_0^{u^3} h(u,v)\\,\\mathrm{d}x\\,\\mathrm{d}u \\quad\\quad\\text{where }\\,h(u,x) = \\frac{1}{1+u^4}$$"
   ]
  },
  {
   "cell_type": "markdown",
   "id": "70abd03f-5b75-43e0-8b99-c8ed74d99b91",
   "metadata": {},
   "source": [
    "$$ \\int_0^1\\int_0^{u^3}\\,\\mathrm{d}x\\,\\mathrm{d}u = \\int_0^1 \\frac{u^3}{1+u^4}\\,\\mathrm{d}u$$"
   ]
  },
  {
   "cell_type": "markdown",
   "id": "c1474a8d-85fa-464e-9338-4046c16955da",
   "metadata": {},
   "source": [
    "$$ = \\left. 0.25\\log\\big|1+u^4\\big|\\right]_{\\,0}^{\\,1}$$"
   ]
  },
  {
   "cell_type": "markdown",
   "id": "a3b6b8b2-ec96-4bca-91c6-a94fdaf670ed",
   "metadata": {},
   "source": [
    "$$ = 0.25\\log 2$$"
   ]
  },
  {
   "cell_type": "code",
   "execution_count": 2,
   "id": "ceb1ea69-f39d-4dc0-a3cd-539dfd79cc5f",
   "metadata": {
    "tags": []
   },
   "outputs": [
    {
     "data": {
      "text/plain": [
       "0.17328679513998632"
      ]
     },
     "execution_count": 2,
     "metadata": {},
     "output_type": "execute_result"
    }
   ],
   "source": [
    "0.25*np.log(2)"
   ]
  },
  {
   "cell_type": "markdown",
   "id": "b66c8254-0ed6-406f-b0ef-bfddcf918770",
   "metadata": {},
   "source": [
    "### Double Integrals - In Polar Coordinates"
   ]
  },
  {
   "cell_type": "markdown",
   "id": "9b26890c-8e3a-497a-aca9-c84453b71c6b",
   "metadata": {},
   "source": [
    "#### $\\S 3\\mathrm{B} : 1$\n",
    "\n",
    "Express each double integral over the given region $R$ as an iterated integral in polar\n",
    "coordinates. Use the method described in Notes I to supply the limits of integration. For\n",
    "some of them, it may be necessary to break the integral up into two parts. In each case,\n",
    "begin by sketching the region."
   ]
  },
  {
   "cell_type": "markdown",
   "id": "a60b124d-1cff-4f88-8650-149419e9b1a6",
   "metadata": {},
   "source": [
    "**a)**  The region $R$ lying inside the circle with center at the origin and radius $2$ and to the left of the vertical line through $(-1,0)$."
   ]
  },
  {
   "cell_type": "markdown",
   "id": "327286d5-797c-4a39-a392-af8d7ab19814",
   "metadata": {},
   "source": [
    "The outer integral is with respect to $\\theta$ and is from $\\theta = 120^\\circ$ to $\\theta=240^\\circ$."
   ]
  },
  {
   "cell_type": "code",
   "execution_count": 5,
   "id": "fc4e78bc-3b96-4061-b62d-1720dbf5ed0b",
   "metadata": {
    "tags": []
   },
   "outputs": [
    {
     "data": {
      "text/plain": [
       "120.00000000000001"
      ]
     },
     "execution_count": 5,
     "metadata": {},
     "output_type": "execute_result"
    }
   ],
   "source": [
    "theta = np.arccos(-0.5); np.degrees(theta)"
   ]
  },
  {
   "cell_type": "markdown",
   "id": "a8b03ee5-878f-44ac-b973-49bb006f079b",
   "metadata": {},
   "source": [
    "The vertical line is given by:  \n",
    "\n",
    "$$ x = -1 \\quad\\hat{=}\\quad r\\cos\\theta = -1 $$"
   ]
  },
  {
   "cell_type": "markdown",
   "id": "640d61e8-810e-410e-a434-8a342acab007",
   "metadata": {},
   "source": [
    "$$ r := r(\\theta) = -\\sec\\theta$$"
   ]
  },
  {
   "cell_type": "markdown",
   "id": "4df36c99-4dcd-409b-b556-b9839e612ba1",
   "metadata": {},
   "source": [
    "The inner integral is with respect to $r$ and is from $r(\\theta)$ to $2$.  Finally,  \n",
    "\n",
    "$$ \\int\\!\\int_R\\,\\mathrm{d}A = \\int_{120^\\circ}^{240^\\circ}\\int_{r(\\theta)}^2 \\,r\\,\\mathrm{d}r\\,\\mathrm{d}\\theta$$"
   ]
  },
  {
   "cell_type": "markdown",
   "id": "8db5f644-0e80-4ec2-a72c-b7a39c9b6e7b",
   "metadata": {},
   "source": [
    "**b)**  The circle of radius $1$ with a center at $(0,1)$."
   ]
  },
  {
   "cell_type": "markdown",
   "id": "47e69652-b37e-480d-a6a3-ddc009ccf177",
   "metadata": {},
   "source": [
    "$$ x^2 +(y-1)^2 = 1$$"
   ]
  },
  {
   "cell_type": "markdown",
   "id": "cde92343-5f36-4d04-865e-645e07981e46",
   "metadata": {},
   "source": [
    "$$ r^2\\cos^2\\theta + \\big(r\\sin\\theta - 1\\big)^2 = 1$$"
   ]
  },
  {
   "cell_type": "markdown",
   "id": "914f8e5f-898c-47d8-8106-62f7a5df4bf0",
   "metadata": {},
   "source": [
    "$$ r^2\\cos^2\\theta + r^2\\sin^2\\theta - 2r\\sin\\theta  = r^2 - 2r\\sin\\theta= 0$$"
   ]
  },
  {
   "cell_type": "markdown",
   "id": "b4e27e0a-64fe-48bd-a5ad-6fdee2198894",
   "metadata": {},
   "source": [
    "$$ r := r(\\theta) = 2\\sin\\theta$$"
   ]
  },
  {
   "cell_type": "markdown",
   "id": "4492f6be-de55-4bcb-b1c2-ca9c9945849a",
   "metadata": {},
   "source": [
    "The outer integral is from $0$ to $\\pi$ and is with respect to $\\theta$, while the inner integral is from $0$ to $r(\\theta)$ and is of course with respect to $r$.  \n",
    "\n",
    "$$ \\int\\!\\int_R \\,\\mathrm{d}A = \\int_0^\\pi\\int_0^{r(\\theta)}r\\,\\mathrm{d}r\\,\\mathrm{d}\\theta$$"
   ]
  },
  {
   "cell_type": "markdown",
   "id": "a289db41-b908-4f43-bed4-27f79bb8a14c",
   "metadata": {},
   "source": [
    "**c)**  First, we must find the points of intersection between the cardiod and circle to see if and where we need to divide the region $R$ into subregions in order to integrate over $R$ using polar coordinates.  \n",
    "\n",
    "$$ r =  1-\\cos\\theta\\quad\\quad\\text{and}\\quad\\quad r = \\frac{3}{2}$$"
   ]
  },
  {
   "cell_type": "markdown",
   "id": "f6e68fe8-88b3-4a96-b709-9cacf2c9a0e2",
   "metadata": {},
   "source": [
    "Via the above two equations and equivalence principle,  \n",
    "\n",
    "$$ 1.5 = 1-\\cos\\theta \\quad\\therefore\\quad \\cos\\theta = -0.5 \\quad\\therefore$$"
   ]
  },
  {
   "cell_type": "markdown",
   "id": "0db8543b-7190-4dd7-9041-e63d74d2aab2",
   "metadata": {},
   "source": [
    "$$ \\theta = \\arccos -0.5 = \\big\\{120^\\circ, 240^\\circ\\big\\}$$"
   ]
  },
  {
   "cell_type": "code",
   "execution_count": 6,
   "id": "97028814-e611-492d-a405-c9d3341360bb",
   "metadata": {
    "tags": []
   },
   "outputs": [
    {
     "data": {
      "text/plain": [
       "120.00000000000001"
      ]
     },
     "execution_count": 6,
     "metadata": {},
     "output_type": "execute_result"
    }
   ],
   "source": [
    "theta = np.arccos(-0.5); np.degrees(theta)"
   ]
  },
  {
   "cell_type": "markdown",
   "id": "8fcd7a23-1af9-4857-9997-15804893f9bd",
   "metadata": {},
   "source": [
    "And, via the above equation and the equation that gives the cardiod,  \n",
    "\n",
    "$$ r = 1.5$$"
   ]
  },
  {
   "cell_type": "markdown",
   "id": "5b0140d1-09fd-4e8e-8804-e572dd11ab2d",
   "metadata": {},
   "source": [
    "Now let $f(\\theta)$ be defined as:   \n",
    "\n",
    "$$ f(\\theta) := 1-\\cos\\theta$$"
   ]
  },
  {
   "cell_type": "markdown",
   "id": "c7e73b56-a9f1-4062-a0d4-c79f1ffa455f",
   "metadata": {},
   "source": [
    "$$ f\\big(120^\\circ < \\theta < 240^\\circ\\big) > 1.5 \\quad\\quad\\text{and}\\quad\\quad f\\big(-120^\\circ < \\theta < 120^\\circ\\big) < 1.5$$"
   ]
  },
  {
   "cell_type": "markdown",
   "id": "d8680206-358f-47ca-b780-37dcfb5077ed",
   "metadata": {},
   "source": [
    "Finally,  \n",
    "\n",
    "$$ \\int\\!\\int_R\\,\\mathrm{d}A = \\int_{120^\\circ}^{240^\\circ}\\int_{1.5}^{f(\\theta)}r\\,\\mathrm{d}r\\,\\mathrm{d}\\theta$$"
   ]
  },
  {
   "cell_type": "markdown",
   "id": "ad1eb8c4-adb7-4129-86a5-b862d8000047",
   "metadata": {},
   "source": [
    "**d)**  The region $R$ must be divided into two subregions, $R_1$ and $R_2$, with $R_1$ being bounded by the $y$-axis, $y=a$ and $y=x$, and $R_2$ being bounded by $y=x$ and our circle.  \n",
    "\n",
    "$$ \\int\\!\\int_R\\,\\mathrm{d}A = \\int\\!\\int_{R_1}\\,\\mathrm{d}A - \\int\\!\\int_{R_2}\\,\\mathrm{d}A$$"
   ]
  },
  {
   "cell_type": "markdown",
   "id": "2cc311f7-acee-4a54-9fa6-14903f26d56e",
   "metadata": {},
   "source": [
    "$$ y = a \\quad\\therefore\\quad r\\sin\\theta = a \\quad\\therefore$$"
   ]
  },
  {
   "cell_type": "markdown",
   "id": "3803e684-ca02-4c9b-81c2-9ea13adbb014",
   "metadata": {},
   "source": [
    "$$ r := f(\\theta) = a\\csc\\theta$$"
   ]
  },
  {
   "cell_type": "markdown",
   "id": "e1bff8b8-1005-4f8a-8f96-708633d4d31d",
   "metadata": {},
   "source": [
    "$$ \\int\\!\\int_{R_1}\\,\\mathrm{d}A = \\int_{45^\\circ}^{90^\\circ}\\int_0^{f(\\theta)}r\\,\\mathrm{d}r\\,\\mathrm{d}\\theta$$"
   ]
  },
  {
   "cell_type": "markdown",
   "id": "7af2e4d4-6161-4af1-98d5-21f17e3445c1",
   "metadata": {},
   "source": [
    "$$ (x-a)^2 + y^2 = a^2 \\quad\\therefore\\quad \\big(r\\cos\\theta - a\\big)^2 + r^2\\sin^2\\theta = a^2 \\quad\\therefore$$"
   ]
  },
  {
   "cell_type": "markdown",
   "id": "f95f06d6-e17b-4c53-a534-9447df3a68e9",
   "metadata": {},
   "source": [
    "$$ r^2 - 2ra\\cos\\theta = 0 \\quad\\therefore\\quad r :=g(\\theta) = 2a\\cos\\theta$$"
   ]
  },
  {
   "cell_type": "markdown",
   "id": "c882e00e-4712-4949-a4bc-4939f1892a88",
   "metadata": {},
   "source": [
    "$$ \\int\\!\\int_{R_2}\\,\\mathrm{d}A = \\int_{45^\\circ}^{90^\\circ}\\int_0^{g(\\theta)}r\\,\\mathrm{d}r\\,\\mathrm{d}\\theta$$"
   ]
  },
  {
   "cell_type": "markdown",
   "id": "1acdefbe-ec84-4e68-97b6-e39ea6aca4e0",
   "metadata": {},
   "source": [
    "#### $\\S \\,3\\mathrm{B} : 2$  \n",
    "\n",
    "Evaluate, by iteration, the double integrals over the indicated regions.  Use polar coordinates.  "
   ]
  },
  {
   "cell_type": "markdown",
   "id": "6a4b8b3f-0f10-4eee-8e1e-a198fc8d16e1",
   "metadata": {},
   "source": [
    "**a)**  $$ \\int\\!\\int_R \\frac{\\mathrm{d}A}{r} = \\int_0^{90^\\circ}\\int_0^{r(\\theta)} \\,\\mathrm{d}r\\,\\mathrm{d}\\theta$$"
   ]
  },
  {
   "cell_type": "markdown",
   "id": "6347f96b-abcc-4131-bc88-54815985c37f",
   "metadata": {},
   "source": [
    "$$ =\\int_0^{90^\\circ} \\sin2\\theta\\,\\mathrm{d}\\theta$$"
   ]
  },
  {
   "cell_type": "markdown",
   "id": "a97d1fd0-2bb0-4214-82f4-9149e4fd55cc",
   "metadata": {},
   "source": [
    "$$ = \\big.-0.5\\cos2\\theta\\big]_{\\,0}^{\\,0.5\\pi}$$"
   ]
  },
  {
   "cell_type": "markdown",
   "id": "3305b25e-2efc-44e0-b11b-f7686f8d632f",
   "metadata": {},
   "source": [
    "$$= 0.5+ 0.5 = 1$$"
   ]
  },
  {
   "cell_type": "markdown",
   "id": "3914d002-2ca7-4df7-bc0c-ac22a83c4fcd",
   "metadata": {},
   "source": [
    "**b)**  Let $h(x,y)$ be defined as the integrand.  \n",
    "\n",
    "$$ h(x,y):=\\frac{1}{x^2+y^2+1}$$"
   ]
  },
  {
   "cell_type": "markdown",
   "id": "76b7da7f-2ff4-4019-965a-c3b2fcf70bb9",
   "metadata": {},
   "source": [
    "In polar coordinates,  \n",
    "\n",
    "$$ h(r,\\theta) = \\frac{1}{r^2+1}$$"
   ]
  },
  {
   "cell_type": "markdown",
   "id": "92608986-7867-4d41-8b0b-c6ad9068c9b2",
   "metadata": {},
   "source": [
    "Finally,  \n",
    "\n",
    "$$ \\int\\!\\int h(x,y)\\,\\mathrm{d}A = \\int_0^{90^\\circ}\\int_0^a \\frac{r}{r^2+1}\\,\\mathrm{d}r\\,\\mathrm{d}\\theta$$"
   ]
  },
  {
   "cell_type": "markdown",
   "id": "11b72991-0444-4767-8a2b-c06ec1b60f54",
   "metadata": {},
   "source": [
    "$$ = \\int_0^{90^\\circ}0.5\\log\\big(a^2+1\\big)\\,\\mathrm{d}\\theta$$"
   ]
  },
  {
   "cell_type": "markdown",
   "id": "d08d87d8-28b1-41df-8b4a-efc68180173d",
   "metadata": {},
   "source": [
    "$$ = 0.25\\pi\\log\\big(a^2+1\\big)$$"
   ]
  },
  {
   "cell_type": "markdown",
   "id": "ca6da4ce-bd19-4508-8d76-a0dae8bf355b",
   "metadata": {},
   "source": [
    "**c)**  $$ x = 1 \\quad\\therefore\\quad r\\cos\\theta = 1 \\quad\\therefore$$"
   ]
  },
  {
   "cell_type": "markdown",
   "id": "38b72bd8-5944-4e61-872c-a4a9337baf95",
   "metadata": {},
   "source": [
    "$$ r := f(\\theta) = \\sec\\theta$$"
   ]
  },
  {
   "cell_type": "markdown",
   "id": "2c0f6f6c-124e-4e80-8bc5-63d6534f49d0",
   "metadata": {},
   "source": [
    "$$ \\int\\!\\int_R\\tan^2\\theta\\,\\mathrm{d}A = \\int_0^{45^\\circ}\\int_0^{f(\\theta)}r\\tan^2\\theta\\,\\mathrm{d}r\\,\\mathrm{d}\\theta$$"
   ]
  },
  {
   "cell_type": "markdown",
   "id": "78cd7884-1317-4bf7-a169-b3d2aaffbe7f",
   "metadata": {},
   "source": [
    "$$ = \\int_0^{45^\\circ} 0.5\\sec^2\\theta\\tan^2\\theta\\,\\mathrm{d}\\theta$$"
   ]
  },
  {
   "cell_type": "markdown",
   "id": "f7e27bcb-d68e-422b-94ac-5ff9b8449c4a",
   "metadata": {},
   "source": [
    "The primitive integral of the integrand of the above integral is:  \n",
    "\n",
    "$$ \\frac{1}{2}\\int \\frac{\\sin^2\\theta}{\\cos^4\\theta}\\,\\mathrm{d}\\theta = \\frac{1}{6}\\frac{\\sin\\theta}{\\cos^3\\theta} - \\frac{1}{6}\\int \\sec^2\\theta\\,\\mathrm{d}\\theta$$"
   ]
  },
  {
   "cell_type": "markdown",
   "id": "60682f22-1134-475c-bc81-0e60790b2342",
   "metadata": {},
   "source": [
    "$$ = \\frac{\\tan\\theta}{6}\\big(\\sec^2\\theta - 1\\big) + K$$"
   ]
  },
  {
   "cell_type": "markdown",
   "id": "2eb63738-372a-4ef8-aa98-469da4c2cd09",
   "metadata": {},
   "source": [
    "$$ \\sin^2\\theta + \\cos^2\\theta = 1 \\quad\\implies\\quad \\tan^2\\theta + 1 = \\sec^2\\theta$$"
   ]
  },
  {
   "cell_type": "markdown",
   "id": "dd6b7ad9-00ab-4505-9cc8-212861dc2425",
   "metadata": {},
   "source": [
    "Thus,  \n",
    "\n",
    "$$ 0.5\\int \\sec^2\\theta\\tan^2\\theta\\,\\mathrm{d}\\theta = \\frac{\\tan^3\\theta}{6} + K$$"
   ]
  },
  {
   "cell_type": "markdown",
   "id": "aeae2168-fa82-4a5a-86ff-13dc4ba7e988",
   "metadata": {},
   "source": [
    "Finally,  \n",
    "\n",
    "$$ \\int\\!\\int_R\\tan^2\\theta\\,\\mathrm{d}A = \\int_0^{45^\\circ}0.5\\sec^2\\theta\\tan^2\\theta\\,\\mathrm{d}\\theta = \\frac{1}{6} $$"
   ]
  },
  {
   "cell_type": "code",
   "execution_count": 2,
   "id": "8ec5532c-0b6e-4f45-996f-e56eec86b711",
   "metadata": {
    "tags": []
   },
   "outputs": [
    {
     "data": {
      "text/plain": [
       "0.9999999999999999"
      ]
     },
     "execution_count": 2,
     "metadata": {},
     "output_type": "execute_result"
    }
   ],
   "source": [
    "np.tan(0.25*np.pi)"
   ]
  },
  {
   "cell_type": "markdown",
   "id": "be3e6c94-4126-4204-bca9-7ff172e63c40",
   "metadata": {},
   "source": [
    "**d)**  Let $h(x,y)$ be defined as the integrand.    \n",
    "\n",
    "$$ h(x,y) := \\frac{1}{\\sqrt{1-x^2-y^2}}$$"
   ]
  },
  {
   "cell_type": "markdown",
   "id": "f18e3bb7-66d1-465e-8ab0-8d10135d9e08",
   "metadata": {},
   "source": [
    "Which, in polar coordinates, is:  \n",
    "\n",
    "$$ h(r,\\theta) = \\frac{1}{\\sqrt{1-r^2}}$$"
   ]
  },
  {
   "cell_type": "markdown",
   "id": "a0081fa4-3cac-48db-a7cd-d06d0603624b",
   "metadata": {},
   "source": [
    "The outer integral is from $0$ to $90^\\circ$ and is with respect to $\\theta$.  Our circle is given by, in rectilinear coordinates,  \n",
    "\n",
    "$$ x^2 + (y-0.5)^2 = 0.25$$"
   ]
  },
  {
   "cell_type": "markdown",
   "id": "95a744f4-7624-4ba0-8604-9a581545dcc5",
   "metadata": {},
   "source": [
    "and, in polar coordinates,  \n",
    "\n",
    "$$ r^2\\cos^2\\theta + r^2\\sin^2\\theta - r\\sin\\theta = 0 \\quad\\therefore\\quad r^2-r\\sin\\theta = 0\\quad\\therefore$$"
   ]
  },
  {
   "cell_type": "markdown",
   "id": "d577fb15-a850-42f3-88d9-06f90b113d94",
   "metadata": {},
   "source": [
    "$$ r := f(\\theta) = \\sin\\theta$$"
   ]
  },
  {
   "cell_type": "markdown",
   "id": "4db482fa-0145-4c57-a919-4ae9644c54c2",
   "metadata": {},
   "source": [
    "The inner integral is from $0$ to $\\sin\\theta$ and is with respect to $r$.  Finally,  \n",
    "\n",
    "$$ \\int\\!\\int_Rh(x,y)\\,\\mathrm{d}A = \\int_0^{0.5\\pi}\\int_0^{f(\\theta)} \\frac{r}{\\sqrt{1-r^2}}\\,\\mathrm{d}r\\,\\mathrm{d}\\theta$$"
   ]
  },
  {
   "cell_type": "markdown",
   "id": "6e57ed15-8e69-4ffc-8b82-6e9ac9de9523",
   "metadata": {},
   "source": [
    "The inner integral is:  \n",
    "\n",
    "$$ \\int_0^{f(\\theta)}h(r,\\theta)r\\,\\mathrm{d}r = \\big.-\\sqrt{1-r^2}\\big]_{\\,0}^{\\,\\sin\\theta}$$"
   ]
  },
  {
   "cell_type": "markdown",
   "id": "97236a6a-d30c-4110-89eb-5b02c003c587",
   "metadata": {},
   "source": [
    "$$ = 1-\\cos\\theta$$"
   ]
  },
  {
   "cell_type": "markdown",
   "id": "d3471ef6-bdf6-4863-bf0e-389f67720f4f",
   "metadata": {},
   "source": [
    "Thus, the outer integral and final iteration of the double integral is:    \n",
    "\n",
    "$$ \\int_0^{0.5\\pi}\\big(1-\\cos\\theta\\big)\\,\\mathrm{d}\\theta$$"
   ]
  },
  {
   "cell_type": "markdown",
   "id": "f34460ec-bf04-4e11-aa98-edf6ea9444f6",
   "metadata": {},
   "source": [
    "$$ = \\big.\\big(\\theta - \\sin\\theta\\big)\\big]_{\\,0}^{\\,0.5\\pi}$$"
   ]
  },
  {
   "cell_type": "markdown",
   "id": "91abc149-f997-41e2-931c-9b1099beeb00",
   "metadata": {},
   "source": [
    "$$ = 0.5\\pi - 1$$"
   ]
  },
  {
   "cell_type": "code",
   "execution_count": 3,
   "id": "af3fe0b8-365a-447f-9bb7-09622d271353",
   "metadata": {
    "tags": []
   },
   "outputs": [
    {
     "data": {
      "text/plain": [
       "0.5707963267948966"
      ]
     },
     "execution_count": 3,
     "metadata": {},
     "output_type": "execute_result"
    }
   ],
   "source": [
    "0.5*np.pi - 1"
   ]
  },
  {
   "cell_type": "markdown",
   "id": "9f87a714-e26d-48e8-9d0b-392b0dc7d1a7",
   "metadata": {},
   "source": [
    "#### $\\S\\,3\\mathrm{B} : 3$\n",
    "\n",
    "Find the volumes of the following domains by integrating in polar coordinates:"
   ]
  },
  {
   "cell_type": "markdown",
   "id": "5942202d-0164-4399-b4e9-33227a4a5173",
   "metadata": {},
   "source": [
    "**a)**  a solid hemisphere of radius $a$ (place it so its base lies over the circle $x^2+y^2=a^2$)."
   ]
  },
  {
   "cell_type": "markdown",
   "id": "ad5cdd96-5822-4a7b-9e8c-6f77ce9d4444",
   "metadata": {},
   "source": [
    "The surface of said hemisphere (other than it's base) is given by, in rectilinear coordinates:  \n",
    "\n",
    "$$ z := f(x,y) = \\sqrt{a^2-x^2-y^2}$$"
   ]
  },
  {
   "cell_type": "markdown",
   "id": "0457c300-125d-42e5-bba4-e8fcad8b7ae4",
   "metadata": {},
   "source": [
    "and, in polar coordinates:  \n",
    "\n",
    "$$ z = f(r,\\theta) = \\sqrt{a^2-r^2}$$"
   ]
  },
  {
   "cell_type": "markdown",
   "id": "96edf4c8-93ae-43a6-a5b8-3ad06bf9995b",
   "metadata": {},
   "source": [
    "The volume $V$ is given by:  \n",
    "\n",
    "$$ V = \\int\\!\\int_R f(r,\\theta)\\,\\mathrm{d}A = \\int_0^{2\\pi}\\int_0^a r\\sqrt{a^2-r^2}\\,\\mathrm{d}r\\,\\mathrm{d}\\theta$$"
   ]
  },
  {
   "cell_type": "markdown",
   "id": "4f01ddff-40f7-4bad-a2e0-1d1bf861742d",
   "metadata": {},
   "source": [
    "The inner integral is:  \n",
    "\n",
    "$$ \\int_0^a rf(r,\\theta)\\,\\mathrm{d}r = \\Big.-\\frac{2}{3}\\,\\sqrt{\\big(a^2-r^2\\big)^3}\\Big]_{\\,0}^{\\,a}$$"
   ]
  },
  {
   "cell_type": "markdown",
   "id": "16afa43b-b568-4046-b200-06d1772668af",
   "metadata": {},
   "source": [
    "$$ = \\frac{2a^3}{3}$$"
   ]
  },
  {
   "cell_type": "markdown",
   "id": "1760f25c-943b-46d9-b0f4-464d6d759847",
   "metadata": {},
   "source": [
    "Finally,  \n",
    "\n",
    "$$ V = \\int_0^{2\\pi}\\frac{2a^3}{3}\\,\\mathrm{d}\\theta = \\frac{4\\pi a^3}{3}$$"
   ]
  },
  {
   "cell_type": "markdown",
   "id": "f38b679f-30ce-4e31-b73a-bf841aa6144a",
   "metadata": {},
   "source": [
    "**b)**  The domain under the graph of $z:=h(x,y)=xy$ and over the region $R$ which is the first quadrant portion of the interior of the circle $x^2+y^2=a^2$."
   ]
  },
  {
   "cell_type": "markdown",
   "id": "d921d098-277f-4b59-baaf-782454b8705f",
   "metadata": {},
   "source": [
    "$$z =  h(r,\\theta) = r^2\\cos\\theta\\sin\\theta = 0.5r^2\\sin2\\theta$$"
   ]
  },
  {
   "cell_type": "markdown",
   "id": "25d60dd1-abe6-4bfe-8e60-a0287db0e996",
   "metadata": {},
   "source": [
    "$$ V = \\int\\!\\int_R h(r,\\theta)\\,\\mathrm{d}A = \\int_0^{0.5\\pi}\\int_0^a 0.5r^3\\sin2\\theta\\,\\mathrm{d}r\\,\\mathrm{d}\\theta$$"
   ]
  },
  {
   "cell_type": "markdown",
   "id": "7e5b460f-069c-4d10-864f-bb4fb061626f",
   "metadata": {},
   "source": [
    "$$ = \\frac{1}{8}\\int_0^{0.5\\pi}a^4\\sin2\\theta\\,\\mathrm{d}\\theta$$"
   ]
  },
  {
   "cell_type": "markdown",
   "id": "a7cdc61f-7bb1-4955-9aa9-14a6a285eee6",
   "metadata": {},
   "source": [
    "$$ = \\frac{a^4}{8}$$"
   ]
  },
  {
   "cell_type": "markdown",
   "id": "627e0f9d-26fc-4a2e-a41a-c871609545e5",
   "metadata": {},
   "source": [
    "**c)**  The domain lying under the cone $z:=h(x,y)=\\sqrt{x^2+y^2}$ and over the circle of radius one and center at $(0,1)$."
   ]
  },
  {
   "cell_type": "markdown",
   "id": "b36d157a-c32b-490b-8195-4800bbc88196",
   "metadata": {},
   "source": [
    "The circle is given by, in rectilinear coordinates,  \n",
    "\n",
    "$$ x^2 + (y-1)^2 = 1$$"
   ]
  },
  {
   "cell_type": "markdown",
   "id": "a0d00495-0fd5-44a1-b2b0-6befee8ecadb",
   "metadata": {},
   "source": [
    "and, in polar coordinates,  \n",
    "\n",
    "$$ r^2\\cos^2\\theta + r^2\\sin^2\\theta - 2r\\sin\\theta = 0 \\quad\\therefore\\quad r^2 - 2r\\sin\\theta = 0 \\quad\\therefore$$"
   ]
  },
  {
   "cell_type": "markdown",
   "id": "25a7239b-c97f-4bcd-aa8f-3d93e5cdff88",
   "metadata": {},
   "source": [
    "$$ r := f(\\theta) = 2\\sin\\theta$$"
   ]
  },
  {
   "cell_type": "markdown",
   "id": "e91b0654-9e0a-449e-a3f0-022b77950458",
   "metadata": {},
   "source": [
    "The cone is given by, in polar coordinates:  \n",
    "\n",
    "$$ z = h(r,\\theta) = r$$"
   ]
  },
  {
   "cell_type": "markdown",
   "id": "6190b900-a061-4390-8766-d07c9764ffa0",
   "metadata": {},
   "source": [
    "The outer integral is from $0$ to $\\pi$ and is with respect to $\\theta$, while the inner integral is from $0$ to $f(\\theta)$ and is with respect to $r$.  \n",
    "\n",
    "$$ V = \\int\\!\\int_R r\\,\\mathrm{d}A = \\int_0^\\pi\\int_0^{f(\\theta)} r^2\\,\\mathrm{d}r\\,\\mathrm{d}\\theta$$"
   ]
  },
  {
   "cell_type": "markdown",
   "id": "7f10bcc0-1479-498a-a3b1-d5731d8101eb",
   "metadata": {},
   "source": [
    "$$ = \\int_0^\\pi \\frac{f^3(\\theta)}{3}\\,\\mathrm{d}\\theta = \\frac{8}{3}\\int_0^\\pi \\sin^3\\theta\\,\\mathrm{d}\\theta$$"
   ]
  },
  {
   "cell_type": "markdown",
   "id": "f478bd7c-633d-4bb3-a2b5-3d69ef490617",
   "metadata": {},
   "source": [
    "The primitive integral of the integrand of the above integral is:  \n",
    "\n",
    "$$ \\int \\sin^3\\theta\\,\\mathrm{d}\\theta = -\\cos\\theta\\sin^2\\theta + 2\\int\\cos^2\\theta\\sin\\theta\\,\\mathrm{d}\\theta$$"
   ]
  },
  {
   "cell_type": "markdown",
   "id": "3325a554-f948-40d0-ae56-7371900cb797",
   "metadata": {},
   "source": [
    "$$ 2\\int\\cos^2\\theta\\sin\\theta\\,\\mathrm{d}\\theta = -\\frac{2}{3}\\cos^3\\theta + K$$"
   ]
  },
  {
   "cell_type": "markdown",
   "id": "7df4fa5a-3789-4f8c-8041-1fdd8c3ccab0",
   "metadata": {},
   "source": [
    "Via the above two equations and substitution,  \n",
    "\n",
    "$$ \\int\\sin^3\\theta\\,\\mathrm{d}\\theta = K-\\cos\\theta\\sin^2\\theta - \\frac{2}{3}\\cos^3\\theta$$"
   ]
  },
  {
   "cell_type": "markdown",
   "id": "9cf22791-d224-47fa-8612-562c4ca8a3e3",
   "metadata": {},
   "source": [
    "Finally,  \n",
    "\n",
    "$$ V = -\\frac{8}{3}\\cos\\theta\\left.\\left(\\sin^2\\theta + \\frac{2}{3}\\cos^2\\theta\\right)\\right]_{\\,0}^{\\,\\pi}$$"
   ]
  },
  {
   "cell_type": "markdown",
   "id": "00344642-14b1-4c00-9d8e-7b430d78799a",
   "metadata": {},
   "source": [
    "$$= \\frac{8}{3}\\,\\frac{2}{3}\\cdot 2 = \\frac{32}{9}$$"
   ]
  },
  {
   "cell_type": "markdown",
   "id": "6c9d2bc3-7dc4-449d-bb1a-396c7c8f6e01",
   "metadata": {},
   "source": [
    "**d)**  The domain lying under the paraboloid $z:=h(x,y)=x^2+y^2$ and over the interior of the right-hand loop of $r^2=\\cos\\theta$."
   ]
  },
  {
   "cell_type": "markdown",
   "id": "8eb42460-fe26-4a6f-b6fa-afa794c6c648",
   "metadata": {},
   "source": [
    "$$ f(\\theta) = \\sqrt{\\cos\\theta}$$"
   ]
  },
  {
   "cell_type": "markdown",
   "id": "c4f513ac-cfb3-4999-9c07-5a65b865f1f6",
   "metadata": {},
   "source": [
    "$$ V = \\int_{-0.5\\pi}^{0.5\\pi}\\int_0^{f(\\theta)} r^3\\,\\mathrm{d}r\\,\\mathrm{d}\\theta$$"
   ]
  },
  {
   "cell_type": "markdown",
   "id": "a0b7d8d3-ee6b-49b0-86cf-fee0a62767b5",
   "metadata": {},
   "source": [
    "$$ = \\frac{1}{4}\\int_{-0.5\\pi}^{0.5\\pi} f^4(\\theta)\\,\\mathrm{d}\\theta = \\frac{1}{4}\\int_{-0.5\\pi}^{0.5\\pi}\\cos^2\\theta\\,\\mathrm{d}\\theta$$"
   ]
  },
  {
   "cell_type": "markdown",
   "id": "34d949d4-02eb-4c49-8567-6f63af3f7ebd",
   "metadata": {},
   "source": [
    "To find the primitive integral of the integrand of the above integral, first consider the following two equations:  \n",
    "\n",
    "$$ \\frac{\\mathrm{d}\\cos^2\\theta}{\\mathrm{d}\\theta} = -2\\cos\\theta\\sin\\theta = -\\sin2\\theta$$"
   ]
  },
  {
   "cell_type": "markdown",
   "id": "34622de0-7fb6-4393-a0d7-711c63087758",
   "metadata": {},
   "source": [
    "$$ -\\int\\sin2\\theta\\,\\mathrm{d}\\theta = 0.5\\cos2\\theta + K$$"
   ]
  },
  {
   "cell_type": "markdown",
   "id": "deceebd4-27f9-471b-b715-f2681d8f60be",
   "metadata": {},
   "source": [
    "Via the above two equations and equivalence principle,  \n",
    "\n",
    "$$ 0.5\\cos2\\theta + K = \\cos^2\\theta \\quad\\quad\\text{where }\\,K=0.5$$"
   ]
  },
  {
   "cell_type": "markdown",
   "id": "2d65c994-a679-4e09-80bb-2f1e7ccfeffe",
   "metadata": {},
   "source": [
    "Therefore  \n",
    "\n",
    "$$ 0.5\\cos2\\theta + 0.5 = \\cos^2\\theta$$"
   ]
  },
  {
   "cell_type": "markdown",
   "id": "3f3c5fab-f2dc-4461-9f75-53c58aee853e",
   "metadata": {},
   "source": [
    "Via the above equation, the equation that relates $V$ to the last iteration of the double integral and substitution,  \n",
    "\n",
    "$$ V = \\frac{1}{8}\\int_{-0.5\\pi}^{0.5\\pi}\\big(\\cos2\\theta + 1\\big)\\,\\mathrm{d}\\theta$$"
   ]
  },
  {
   "cell_type": "markdown",
   "id": "1cba77ce-48c0-40b0-b96e-0e1987ba2aef",
   "metadata": {},
   "source": [
    "$$ = \\frac{1}{8}\\left.\\left(\\frac{\\sin2\\theta}{2} + \\theta\\right)\\right]_{\\,-0.5\\pi}^{\\,0.5\\pi}$$"
   ]
  },
  {
   "cell_type": "markdown",
   "id": "a01bae58-3ac3-4c73-932b-49f33504514b",
   "metadata": {},
   "source": [
    "$$ = \\frac{\\pi}{8}$$"
   ]
  }
 ],
 "metadata": {
  "kernelspec": {
   "display_name": "Python 3 (ipykernel)",
   "language": "python",
   "name": "python3"
  },
  "language_info": {
   "codemirror_mode": {
    "name": "ipython",
    "version": 3
   },
   "file_extension": ".py",
   "mimetype": "text/x-python",
   "name": "python",
   "nbconvert_exporter": "python",
   "pygments_lexer": "ipython3",
   "version": "3.10.12"
  }
 },
 "nbformat": 4,
 "nbformat_minor": 5
}
