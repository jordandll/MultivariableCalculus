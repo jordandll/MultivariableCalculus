{
 "cells": [
  {
   "cell_type": "markdown",
   "id": "97f81daa-fe50-4d34-a046-8ad70e074c40",
   "metadata": {},
   "source": [
    "# Problem Set 7\n",
    "\n",
    "## Part I\n",
    "\n",
    "### Double Integrals\n",
    "\n",
    "#### $\\S 3\\,\\mathrm{A} : 1$"
   ]
  },
  {
   "cell_type": "markdown",
   "id": "23e577d6-855b-4efb-845f-abb58ffeeaf1",
   "metadata": {},
   "source": [
    "**a)**  $$ \\int_0^2\\int_{-1}^1\\big(6x^2+2y\\big)\\,\\mathrm{d}y\\,\\mathrm{d}x = \\int_0^2 12x^2\\,\\mathrm{d}x $$"
   ]
  },
  {
   "cell_type": "markdown",
   "id": "08fbe392-8429-4581-b2b5-50d41099684d",
   "metadata": {},
   "source": [
    "$$ = \\left. 4x^3 \\right]_0^2 = 32 $$"
   ]
  },
  {
   "cell_type": "markdown",
   "id": "29211a72-33bf-4c25-9094-d6e74f4732bf",
   "metadata": {},
   "source": [
    "**b)**  $$ \\int_0^{0.5\\pi}\\int_0^\\pi \\big(u\\sin t + t\\cos u\\big)\\,\\mathrm{d}t\\,\\mathrm{d}u = $$"
   ]
  },
  {
   "cell_type": "markdown",
   "id": "de962313-f5fb-438a-a970-493f9c82b1e9",
   "metadata": {},
   "source": [
    "$$  \\int_0^{0.5\\pi}\\int_0^\\pi u\\sin t\\,\\mathrm{d}t\\,\\mathrm{d}u + \\int_0^{0.5\\pi}\\int_0^\\pi t\\cos u\\,\\mathrm{d}t\\,\\mathrm{d}u$$"
   ]
  },
  {
   "cell_type": "markdown",
   "id": "d3eccb25-9222-4429-9802-52db743d898e",
   "metadata": {},
   "source": [
    "$$ = \\int_0^{0.5\\pi} \\left.-u\\cos t\\right]_0^\\pi\\,\\mathrm{d}u + \\int_0^{0.5\\pi} \\left. 0.5t^2\\cos u\\right]_0^\\pi\\,\\mathrm{d}u$$"
   ]
  },
  {
   "cell_type": "markdown",
   "id": "48a28d1e-3f20-4d5c-8ebc-a7c4cd636dcc",
   "metadata": {},
   "source": [
    "$$  = \\int_0^{0.5\\pi} 2u\\,\\mathrm{d}u + \\int_0^{0.5\\pi}0.5\\pi^2\\cos u\\,\\mathrm{d}u$$"
   ]
  },
  {
   "cell_type": "markdown",
   "id": "037e9846-d56b-419f-9b76-65e1ee0e814f",
   "metadata": {},
   "source": [
    "$$ = 0.25\\pi^2 + 0.5\\pi^2 = 0.75\\pi^2$$"
   ]
  },
  {
   "cell_type": "markdown",
   "id": "c05ff25e-7863-4d5a-9758-93c34fd338a0",
   "metadata": {},
   "source": [
    "**c)**  $$ \\int_0^1\\int_\\sqrt{x}^{x^2} 2x^2y\\,\\mathrm{d}y\\,\\mathrm{d}x = $$"
   ]
  },
  {
   "cell_type": "markdown",
   "id": "a63e3af7-0f44-444d-91b6-4ef2f3279bae",
   "metadata": {},
   "source": [
    "$$ \\int_0^1 \\left. x^2y^2\\right]_\\sqrt{x}^{x^2}\\,\\mathrm{d}x = \\int_0^1x^2\\big(x^4 - x \\big)\\,\\mathrm{d}x$$"
   ]
  },
  {
   "cell_type": "markdown",
   "id": "4fe20a06-4ce5-4cee-9527-63bbaadf2025",
   "metadata": {},
   "source": [
    "$$ = \\left.\\left(\\frac{x^7}{7} - \\frac{x^4}{4} \\right)\\right]_0^1 = \\frac{1}{7} - \\frac{1}{4} = \\frac{-3}{28}$$"
   ]
  },
  {
   "cell_type": "markdown",
   "id": "18ecf139-214c-4bf6-a341-1a285ad6d02f",
   "metadata": {},
   "source": [
    "**d)**  $$ \\int_0^1\\int_0^u \\sqrt{u^2+4}\\,\\mathrm{d}v\\,\\mathrm{d}u = $$"
   ]
  },
  {
   "cell_type": "markdown",
   "id": "bd8cf008-d5e0-456e-8027-d3d39ebce9d5",
   "metadata": {},
   "source": [
    "$$ \\int_0^1 u\\sqrt{u^2+4}\\,\\mathrm{d}u$$"
   ]
  },
  {
   "cell_type": "markdown",
   "id": "c779519e-b213-47a7-a60e-989969db01af",
   "metadata": {},
   "source": [
    "The primitive integral of the integrand of the above integral is:  \n",
    "\n",
    "$$ \\int u\\sqrt{u^2+4}\\,\\mathrm{d}u = \\frac{2}{3}\\,\\sqrt{\\big(u^2+4\\big)^3} + K$$"
   ]
  },
  {
   "cell_type": "markdown",
   "id": "b43c81e0-772c-42de-a996-cf285390cf09",
   "metadata": {},
   "source": [
    "Thus,  \n",
    "\n",
    "$$ \\int_0^1 u\\sqrt{u^2+4}\\,\\mathrm{d}u = \\frac{2}{3}\\sqrt{125} - \\frac{2}{3}\\,8$$"
   ]
  },
  {
   "cell_type": "markdown",
   "id": "1eec17e6-12e0-4ad6-88cf-e64aa8654ceb",
   "metadata": {},
   "source": [
    "$$ = \\frac{2\\sqrt{125} - 16}{3}$$"
   ]
  },
  {
   "cell_type": "markdown",
   "id": "cea8bfb9-4fbf-4ccc-aad5-ca77d0bee2b7",
   "metadata": {},
   "source": [
    "#### $\\S 3\\,\\mathrm{A} - 2$\n",
    "\n",
    "Express each double integral over the given region $R$ as an iterated integral, using\n",
    "the given order of integration. Use the method described in Notes I to supply the limits of\n",
    "integration. For some of them, it may be necessary to break the integral up into two parts.\n",
    "In each case, begin by sketching the region."
   ]
  }
 ],
 "metadata": {
  "kernelspec": {
   "display_name": "Python 3 (ipykernel)",
   "language": "python",
   "name": "python3"
  },
  "language_info": {
   "codemirror_mode": {
    "name": "ipython",
    "version": 3
   },
   "file_extension": ".py",
   "mimetype": "text/x-python",
   "name": "python",
   "nbconvert_exporter": "python",
   "pygments_lexer": "ipython3",
   "version": "3.10.12"
  }
 },
 "nbformat": 4,
 "nbformat_minor": 5
}
