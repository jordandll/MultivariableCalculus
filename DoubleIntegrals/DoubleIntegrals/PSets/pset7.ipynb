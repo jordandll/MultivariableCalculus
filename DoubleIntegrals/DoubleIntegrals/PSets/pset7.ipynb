{
 "cells": [
  {
   "cell_type": "markdown",
   "id": "ef472755-4fe0-4994-8736-e5c4768a5b89",
   "metadata": {},
   "source": [
    "# Problem Set 7"
   ]
  },
  {
   "cell_type": "code",
   "execution_count": 1,
   "id": "0ed575e1-b3dc-407d-9c46-e9d88cd8faf8",
   "metadata": {
    "tags": []
   },
   "outputs": [],
   "source": [
    "import matplotlib.pyplot as plt\n",
    "import numpy as np\n",
    "import sympy as sp"
   ]
  },
  {
   "cell_type": "markdown",
   "id": "e2d2c92d-8965-49f1-a146-6a8cd538a724",
   "metadata": {},
   "source": [
    "## Part I"
   ]
  },
  {
   "cell_type": "markdown",
   "id": "ed504907-52cd-4ac7-8a39-7b84a138d2db",
   "metadata": {},
   "source": [
    "### Double Integrals\n",
    "\n",
    "#### $\\S 3\\,\\mathrm{A} : 1$"
   ]
  },
  {
   "cell_type": "markdown",
   "id": "23e577d6-855b-4efb-845f-abb58ffeeaf1",
   "metadata": {},
   "source": [
    "**a)**  $$ \\int_0^2\\int_{-1}^1\\big(6x^2+2y\\big)\\,\\mathrm{d}y\\,\\mathrm{d}x = \\int_0^2 12x^2\\,\\mathrm{d}x $$"
   ]
  },
  {
   "cell_type": "markdown",
   "id": "08fbe392-8429-4581-b2b5-50d41099684d",
   "metadata": {},
   "source": [
    "$$ = \\left. 4x^3 \\right]_0^2 = 32 $$"
   ]
  },
  {
   "cell_type": "markdown",
   "id": "d6a95e68-c2ba-40ec-82f4-33de4e69989c",
   "metadata": {},
   "source": [
    "$$ \\int_{-1}^1\\big(6x^2+2y\\big)\\,\\mathrm{d}y = \\Big.y\\big(6x^2+y\\big)\\Big]_{-1}^1$$"
   ]
  },
  {
   "cell_type": "markdown",
   "id": "85438dca-d36e-4251-b918-34cc213d8c0a",
   "metadata": {},
   "source": [
    "$$= \\big(6x^2+1\\big) + \\big(6x^2-1\\big)$$"
   ]
  },
  {
   "cell_type": "markdown",
   "id": "85f1b5b6-69fc-4562-88a4-6182bf413ea3",
   "metadata": {},
   "source": [
    "$$ = 12x^2$$"
   ]
  },
  {
   "cell_type": "markdown",
   "id": "c8d9b810-2dfa-46c1-872f-a87d461aff6a",
   "metadata": {},
   "source": [
    "$$ 12\\int_0^2x^2\\,\\mathrm{d}x$$"
   ]
  },
  {
   "cell_type": "markdown",
   "id": "88bf8333-5f3f-4cdb-9522-f7a0eceef1a9",
   "metadata": {},
   "source": [
    "$$ = 4\\cdot2^3 = 32$$"
   ]
  },
  {
   "cell_type": "markdown",
   "id": "29211a72-33bf-4c25-9094-d6e74f4732bf",
   "metadata": {},
   "source": [
    "**b)**  $$ \\int_0^{0.5\\pi}\\int_0^\\pi \\big(u\\sin t + t\\cos u\\big)\\,\\mathrm{d}t\\,\\mathrm{d}u = $$"
   ]
  },
  {
   "cell_type": "markdown",
   "id": "de962313-f5fb-438a-a970-493f9c82b1e9",
   "metadata": {},
   "source": [
    "$$  \\int_0^{0.5\\pi}\\int_0^\\pi u\\sin t\\,\\mathrm{d}t\\,\\mathrm{d}u + \\int_0^{0.5\\pi}\\int_0^\\pi t\\cos u\\,\\mathrm{d}t\\,\\mathrm{d}u$$"
   ]
  },
  {
   "cell_type": "markdown",
   "id": "d3eccb25-9222-4429-9802-52db743d898e",
   "metadata": {},
   "source": [
    "$$ = \\int_0^{0.5\\pi} \\left.-u\\cos t\\right]_0^\\pi\\,\\mathrm{d}u + \\int_0^{0.5\\pi} \\left. 0.5t^2\\cos u\\right]_0^\\pi\\,\\mathrm{d}u$$"
   ]
  },
  {
   "cell_type": "markdown",
   "id": "48a28d1e-3f20-4d5c-8ebc-a7c4cd636dcc",
   "metadata": {},
   "source": [
    "$$  = \\int_0^{0.5\\pi} 2u\\,\\mathrm{d}u + \\int_0^{0.5\\pi}0.5\\pi^2\\cos u\\,\\mathrm{d}u$$"
   ]
  },
  {
   "cell_type": "markdown",
   "id": "037e9846-d56b-419f-9b76-65e1ee0e814f",
   "metadata": {},
   "source": [
    "$$ = 0.25\\pi^2 + 0.5\\pi^2 = 0.75\\pi^2$$"
   ]
  },
  {
   "cell_type": "markdown",
   "id": "c05ff25e-7863-4d5a-9758-93c34fd338a0",
   "metadata": {},
   "source": [
    "**c)**  $$ \\int_0^1\\int_\\sqrt{x}^{x^2} 2x^2y\\,\\mathrm{d}y\\,\\mathrm{d}x = $$"
   ]
  },
  {
   "cell_type": "markdown",
   "id": "a63e3af7-0f44-444d-91b6-4ef2f3279bae",
   "metadata": {},
   "source": [
    "$$ \\int_0^1 \\left. x^2y^2\\right]_\\sqrt{x}^{x^2}\\,\\mathrm{d}x = \\int_0^1x^2\\big(x^4 - x \\big)\\,\\mathrm{d}x$$"
   ]
  },
  {
   "cell_type": "markdown",
   "id": "4fe20a06-4ce5-4cee-9527-63bbaadf2025",
   "metadata": {},
   "source": [
    "$$ = \\left.\\left(\\frac{x^7}{7} - \\frac{x^4}{4} \\right)\\right]_0^1 = \\frac{1}{7} - \\frac{1}{4} = \\frac{-3}{28}$$"
   ]
  },
  {
   "cell_type": "markdown",
   "id": "17d8e590-1f9d-48a8-b648-76f2dd8b44f7",
   "metadata": {},
   "source": [
    "**d)**  $$ \\int_0^1\\int_0^u \\sqrt{u^2+4}\\,\\mathrm{d}v\\,\\mathrm{d}u = \\int_0^1 u\\sqrt{u^2+4}\\,\\mathrm{d}u$$"
   ]
  },
  {
   "cell_type": "markdown",
   "id": "c779519e-b213-47a7-a60e-989969db01af",
   "metadata": {},
   "source": [
    "The primitive integral of the integrand of the above integral (on the right hand side of the equation) is:  \n",
    "\n",
    "$$ \\int u\\sqrt{u^2+4}\\,\\mathrm{d}u = \\frac{1}{3}\\,\\sqrt{\\big(u^2+4\\big)^3} + K$$"
   ]
  },
  {
   "cell_type": "markdown",
   "id": "b43c81e0-772c-42de-a996-cf285390cf09",
   "metadata": {},
   "source": [
    "Thus,  \n",
    "\n",
    "$$ \\int_0^1 u\\sqrt{u^2+4}\\,\\mathrm{d}u = \\frac{\\sqrt{125}}{3} - \\frac{8}{3}$$"
   ]
  },
  {
   "cell_type": "markdown",
   "id": "1eec17e6-12e0-4ad6-88cf-e64aa8654ceb",
   "metadata": {},
   "source": [
    "$$ = \\frac{\\sqrt{125} - 8}{3}$$"
   ]
  },
  {
   "cell_type": "code",
   "execution_count": 2,
   "id": "c01408bf-c5bb-450f-9ff4-62fa9628ba24",
   "metadata": {
    "tags": []
   },
   "outputs": [
    {
     "data": {
      "text/plain": [
       "3.180339887498949"
      ]
     },
     "execution_count": 2,
     "metadata": {},
     "output_type": "execute_result"
    }
   ],
   "source": [
    "np.sqrt(125)-8"
   ]
  },
  {
   "cell_type": "markdown",
   "id": "cea8bfb9-4fbf-4ccc-aad5-ca77d0bee2b7",
   "metadata": {},
   "source": [
    "#### $\\S 3\\,\\mathrm{A} : 2$\n",
    "\n",
    "Express each double integral over the given region $R$ as an iterated integral, using\n",
    "the given order of integration. Use the method described in Notes I to supply the limits of\n",
    "integration. For some of them, it may be necessary to break the integral up into two parts.\n",
    "In each case, begin by sketching the region."
   ]
  },
  {
   "cell_type": "markdown",
   "id": "787a3f5f-914c-421f-80f7-356c4d966c1e",
   "metadata": {},
   "source": [
    "**a)**  $R$ is the triangle with vertices at the origin, $(0,2)$, and $(-2,2)$."
   ]
  },
  {
   "cell_type": "code",
   "execution_count": 8,
   "id": "872695fd-454d-4558-b77d-3cc69c97a27d",
   "metadata": {
    "jupyter": {
     "source_hidden": true
    },
    "tags": []
   },
   "outputs": [
    {
     "data": {
      "text/plain": [
       "Text(-0.75, 1.38, '$R$')"
      ]
     },
     "execution_count": 8,
     "metadata": {},
     "output_type": "execute_result"
    },
    {
     "data": {
      "image/png": "[encoded data removed]",
      "text/plain": [
       "<Figure size 300x300 with 1 Axes>"
      ]
     },
     "metadata": {},
     "output_type": "display_data"
    }
   ],
   "source": [
    "x = np.linspace(-2,0,num=25)\n",
    "y = np.linspace(0,2,num=25)\n",
    "\n",
    "fig, ax = plt.subplots(figsize=(3,3))\n",
    "ax.set_xlabel('x-axis')\n",
    "ax.set_ylabel('y-axis')\n",
    "ylim = ax.set_ylim(-0.25,2.25)\n",
    "xlim = ax.set_xlim(-2.25,0.25)\n",
    "\n",
    "ax.plot([-2,0,0],[2,0,2],'bo')\n",
    "ax.plot(x,-x,color='k')\n",
    "ax.plot([0 for i in range(len(y))],y,color='k')\n",
    "ax.plot(x,[2 for i in range(len(x))],color='k')\n",
    "\n",
    "ax.text(-0.75,1.38,r'$R$',size=16)"
   ]
  },
  {
   "cell_type": "markdown",
   "id": "7b236387-3e33-4546-88ce-e0f390ff7774",
   "metadata": {},
   "source": [
    "The boundary lines of $R$ are given by:  \n",
    "\n",
    "$$ y = -x \\quad\\quad x = 0 \\quad\\quad y = 2$$"
   ]
  },
  {
   "cell_type": "markdown",
   "id": "992bd90a-db09-4978-b32a-596f428c5f0b",
   "metadata": {},
   "source": [
    "Express as an interated integral:  i)  $\\displaystyle \\int\\!\\int_R\\,\\mathrm{d}y\\,\\mathrm{d}x$,  ii) $\\displaystyle \\int\\!\\int_R\\,\\mathrm{d}x\\,\\mathrm{d}y$."
   ]
  },
  {
   "cell_type": "markdown",
   "id": "d26dbfe6-a2cb-40a8-a35a-5da4b1850bd9",
   "metadata": {},
   "source": [
    "**i)**  $$ \\int\\!\\int_R\\,\\mathrm{d}y\\,\\mathrm{d}x = \\int_{-2}^0\\int_{-x}^2 \\,\\mathrm{d}y\\,\\mathrm{d}x$$"
   ]
  },
  {
   "cell_type": "markdown",
   "id": "8c4532da-1564-49c6-bf73-b894106faf56",
   "metadata": {},
   "source": [
    "**ii)**  $$ \\int\\!\\int_R \\,\\mathrm{d}x\\,\\mathrm{d}y = \\int_0^2\\int_{-y}^0\\,\\mathrm{d}x\\,\\mathrm{d}y$$"
   ]
  },
  {
   "cell_type": "markdown",
   "id": "c1637791-b95e-43e3-8f79-f0c583882199",
   "metadata": {},
   "source": [
    "**b)**  $R$ is the finite region between the parabola $y=2x-x^2$ and the $x$-axis."
   ]
  },
  {
   "cell_type": "markdown",
   "id": "b6b3266d-7d21-4420-aed3-e6d8aebef184",
   "metadata": {},
   "source": [
    "The roots of the parabola are:  \n",
    "\n",
    "$$ 0 = 2x-x^2\\quad\\therefore\\quad x = \\{2,0\\}$$"
   ]
  },
  {
   "cell_type": "code",
   "execution_count": 9,
   "id": "c4eb921b-2836-4323-996e-c9b9874710ef",
   "metadata": {
    "jupyter": {
     "source_hidden": true
    },
    "tags": []
   },
   "outputs": [
    {
     "data": {
      "text/plain": [
       "Text(1, 0.5, '$R$')"
      ]
     },
     "execution_count": 9,
     "metadata": {},
     "output_type": "execute_result"
    },
    {
     "data": {
      "image/png": "[encoded data removed]",
      "text/plain": [
       "<Figure size 500x300 with 1 Axes>"
      ]
     },
     "metadata": {},
     "output_type": "display_data"
    }
   ],
   "source": [
    "x = np.linspace(0,2,num=200)\n",
    "\n",
    "fig, ax = plt.subplots(figsize=(5,3))\n",
    "ax.set_xlabel('x-axis')\n",
    "ax.set_ylabel('y-axis')\n",
    "ylim = ax.set_ylim(-0.125,1.125)\n",
    "\n",
    "ax.plot(x,[0 for i in range(len(x))],color='k')\n",
    "ax.plot(x,2*x-x**2,color='k')\n",
    "ax.text(1,0.5,r'$R$',size=16)"
   ]
  },
  {
   "cell_type": "markdown",
   "id": "7f87e165-2060-460c-985d-f00a4f2387cd",
   "metadata": {},
   "source": [
    "Express as an iterated integral:  i) $\\displaystyle \\int\\!\\int_R\\,\\mathrm{d}y\\,\\mathrm{d}x$  ii) $\\displaystyle \\int\\!\\int_R\\,\\mathrm{d}x\\,\\mathrm{d}y$.  "
   ]
  },
  {
   "cell_type": "markdown",
   "id": "4bbcd38c-b0a9-4677-8d86-d22d24c6916c",
   "metadata": {},
   "source": [
    "**i)**  $$ \\int\\!\\int_R\\,\\mathrm{d}y\\,\\mathrm{d}x = \\int_0^2\\int_0^{f(x)}\\,\\mathrm{d}y\\,\\mathrm{d}x\\quad\\quad\\text{where }\\,f(x) = 2x-x^2$$"
   ]
  },
  {
   "cell_type": "markdown",
   "id": "48e47e0e-7a14-44b2-b6d1-e9ae7bf9419c",
   "metadata": {},
   "source": [
    "**ii)**  Under this order of integration, the region $R$ is bounded by the curves given by:  \n",
    "\n",
    "$$ y = 0 \\quad\\quad\\text{and}\\quad\\quad y = 1$$"
   ]
  },
  {
   "cell_type": "markdown",
   "id": "1dd77f5e-a7e3-4f7b-96dd-837fa11a2772",
   "metadata": {},
   "source": [
    "and,  \n",
    "\n",
    "$$ -x^2 + 2x - y = 0$$"
   ]
  },
  {
   "cell_type": "markdown",
   "id": "ffb97f1d-6f4c-4a52-8bb2-45aea4f0ae84",
   "metadata": {},
   "source": [
    "Via the above equation and the quadratic formula,  \n",
    "\n",
    "$$ x = -\\frac{-2\\pm\\sqrt{4 - 4y}}{2} = -\\big(-1\\pm\\sqrt{1-y}\\big)$$"
   ]
  },
  {
   "cell_type": "markdown",
   "id": "6ae4885b-093d-4496-a9d7-e847d2cba6df",
   "metadata": {},
   "source": [
    "$$ = \\big\\{1-\\sqrt{1-y}, 1+\\sqrt{1-y}\\big\\}$$"
   ]
  },
  {
   "cell_type": "markdown",
   "id": "64eab8e4-556c-4f15-88a3-f94684179037",
   "metadata": {},
   "source": [
    "Let,  \n",
    "\n",
    "$$ g_1(y):=1-\\sqrt{1-y} \\quad\\quad \\text{and}\\quad\\quad g_2(y):=1+\\sqrt{1-y}$$"
   ]
  },
  {
   "cell_type": "markdown",
   "id": "bf72100a-e389-4926-b87b-eadb3f90f55f",
   "metadata": {},
   "source": [
    "Thus, $R$ is additionally bounded by the curves given by function defined above.  Finally,  \n",
    "\n",
    "$$ \\int\\!\\int_R\\,\\mathrm{d}x\\,\\mathrm{d}y = \\int_0^1\\int_{g_1(y)}^{g_2(y)}\\,\\mathrm{d}x\\,\\mathrm{d}y$$"
   ]
  },
  {
   "cell_type": "markdown",
   "id": "d0d1f230-f85e-4857-a5e6-d37d44db426b",
   "metadata": {},
   "source": [
    "**c)**  $R$ is the sector of the circle with center at the origin and radius $2$ lying between the $x$-axis and the line given by $y=x$."
   ]
  },
  {
   "cell_type": "markdown",
   "id": "cdbe6b44-a6a3-4f23-a83b-ce1b3d6bc65a",
   "metadata": {},
   "source": [
    "The region $R$ is bounded by the curves given by:  \n",
    "\n",
    "$$ y := g(x) = \\sqrt{4-x^2} \\quad\\quad y = 0 \\quad\\quad y := f(x) = x$$"
   ]
  },
  {
   "cell_type": "code",
   "execution_count": 12,
   "id": "2e9cf071-a1fa-4e16-aa6c-026934bff23c",
   "metadata": {
    "jupyter": {
     "source_hidden": true
    },
    "tags": []
   },
   "outputs": [
    {
     "data": {
      "text/plain": [
       "Text(1.25, 0.4, '$R$')"
      ]
     },
     "execution_count": 12,
     "metadata": {},
     "output_type": "execute_result"
    },
    {
     "data": {
      "image/png": "[encoded data removed]",
      "text/plain": [
       "<Figure size 500x300 with 1 Axes>"
      ]
     },
     "metadata": {},
     "output_type": "display_data"
    }
   ],
   "source": [
    "# Create the domain.\n",
    "x_f = np.linspace(0,np.sqrt(2),num=25)\n",
    "x_g = np.linspace(np.sqrt(2),2,num=100)\n",
    "x = np.linspace(0,2,num=25)\n",
    "\n",
    "# Define the functions that give some of the boundary curves.\n",
    "f = x_f\n",
    "g = np.sqrt(4-x_g**2)\n",
    "\n",
    "# Create the figure and axes objects.\n",
    "fig, ax = plt.subplots(figsize=(5,3))\n",
    "ax.set_xlabel('x-axis')\n",
    "ax.set_ylabel('y-axis')\n",
    "\n",
    "# Plot the boundary curves and label the region.\n",
    "ax.plot(x_f,f,x_g,g,color='k')\n",
    "ax.plot(x,[0 for i in range(len(x))],color='k')\n",
    "ax.text(1.25,0.4,r'$R$',size=16)"
   ]
  },
  {
   "cell_type": "markdown",
   "id": "4f2d4622-52a7-4236-99c9-37f455e221b8",
   "metadata": {},
   "source": [
    "Express as an iterated integral:  i) $\\displaystyle \\int\\!\\int_R\\,\\mathrm{d}y\\,\\mathrm{d}x$, ii) $\\displaystyle \\int\\!\\int_R\\,\\mathrm{d}x\\,\\mathrm{d}y$."
   ]
  },
  {
   "cell_type": "markdown",
   "id": "8a973ec9-93c5-49dc-a3f0-34fa51fb482e",
   "metadata": {},
   "source": [
    "**i)**  Under this order of integration we must divide the region $R$ into two subregions.  Said subregion, henceforth '$R_1$' and '$R_2$', are divided by the line given by:  \n",
    "\n",
    "$$ x := h(y) = \\sqrt{2}$$"
   ]
  },
  {
   "cell_type": "code",
   "execution_count": 38,
   "id": "c55ec570-c54b-47b0-896c-1a9d31201ae9",
   "metadata": {
    "tags": []
   },
   "outputs": [
    {
     "data": {
      "image/png": "[encoded data removed]",
      "text/plain": [
       "<Figure size 500x300 with 1 Axes>"
      ]
     },
     "execution_count": 38,
     "metadata": {},
     "output_type": "execute_result"
    }
   ],
   "source": [
    "y = x_f\n",
    "ax.plot([np.sqrt(2) for i in range(len(y))],y,color='k')\n",
    "ax.text(0.85,0.2,r'$R_1$',size=15)\n",
    "ax.text(1.7,0.2,r'$R_2$',size=15)\n",
    "fig"
   ]
  },
  {
   "cell_type": "markdown",
   "id": "14ab1671-bc30-40bd-be40-785d73421028",
   "metadata": {},
   "source": [
    "The region $R_1$ is of course bounded by the curves given by $h(y)$, $f(x)$ and the $x$-axis, while $R_2$ is bounded by the curves given by $g(x)$, $h(y)$ and the $x$-axis.  Thus,  \n",
    "\n",
    "$$ \\int\\!\\int_R\\,\\mathrm{d}y\\,\\mathrm{d}x = \\int\\!\\int_{R_1}\\,\\mathrm{d}y\\,\\mathrm{d}x + \\int\\!\\int_{R_2}\\,\\mathrm{d}y\\,\\mathrm{d}x$$"
   ]
  },
  {
   "cell_type": "markdown",
   "id": "b077adc3-101d-4a6e-927c-8aea3b6c8f73",
   "metadata": {},
   "source": [
    "$$ \\int\\!\\int_{R_1}\\,\\mathrm{d}y\\,\\mathrm{d}x = \\int_0^\\sqrt{2}\\int_0^x\\,\\mathrm{d}y\\,\\mathrm{d}y$$"
   ]
  },
  {
   "cell_type": "markdown",
   "id": "30b47fc8-ed3b-4f79-90c8-7cff87829de6",
   "metadata": {},
   "source": [
    "$$ \\int\\!\\int_{R_2}\\,\\mathrm{d}y\\,\\mathrm{d}x = \\int_\\sqrt{2}^2\\int_0^{g(x)}\\,\\mathrm{d}y\\,\\mathrm{d}x$$"
   ]
  },
  {
   "cell_type": "markdown",
   "id": "f6d739f9-e0c0-4cac-8d4a-2357331949b4",
   "metadata": {},
   "source": [
    "**ii)**  Under this order of integration, $R$ is bounded by the curves given by:  \n",
    "\n",
    "$$ y = 0 \\quad\\quad y = \\sqrt{2} \\quad\\quad x = y \\quad\\quad x := g(y) = \\sqrt{4-y^2}$$"
   ]
  },
  {
   "cell_type": "markdown",
   "id": "1e5ea814-72b7-4721-8c76-4ee77cd06b08",
   "metadata": {},
   "source": [
    "Note that, under this order of integration, $R$ does not need to be divided into subregions.  Finally,  \n",
    "\n",
    "$$ \\int\\!\\int_R\\,\\mathrm{d}x\\,\\mathrm{d}y = \\int_0^\\sqrt{2}\\int_y^{g(y)}\\,\\mathrm{d}x\\,\\mathrm{d}y$$"
   ]
  },
  {
   "cell_type": "markdown",
   "id": "2e944abe-2ecf-4789-b7b5-e5c7a22f5fb7",
   "metadata": {},
   "source": [
    "**d)**  $R$ is the finite region lying between the parabola given by $y^2=x$ and the line through $(2,0)$ having slope $1$."
   ]
  },
  {
   "cell_type": "markdown",
   "id": "ae24864d-f204-44b0-a84a-b009ac48d613",
   "metadata": {},
   "source": [
    "Said line given by:  \n",
    "\n",
    "$$ y:=f(x) = x-2$$"
   ]
  },
  {
   "cell_type": "code",
   "execution_count": 61,
   "id": "8ff66ee8-4258-454d-a1ed-85edb368b216",
   "metadata": {
    "jupyter": {
     "source_hidden": true
    },
    "tags": []
   },
   "outputs": [
    {
     "data": {
      "text/plain": [
       "Text(1, 0, '$R$')"
      ]
     },
     "execution_count": 61,
     "metadata": {},
     "output_type": "execute_result"
    },
    {
     "data": {
      "image/png": "[encoded data removed]",
      "text/plain": [
       "<Figure size 640x480 with 1 Axes>"
      ]
     },
     "metadata": {},
     "output_type": "display_data"
    }
   ],
   "source": [
    "x = np.linspace(0,4,num=200)\n",
    "\n",
    "f = x-2\n",
    "\n",
    "fig, ax = plt.subplots()\n",
    "ax.set_xlabel('x-axis')\n",
    "ax.set_ylabel('y-axis')\n",
    "\n",
    "ax.plot(x,f,x,np.sqrt(x),x,-np.sqrt(x),color='k')\n",
    "ax.text(1,0,r'$R$',size=16)"
   ]
  },
  {
   "cell_type": "markdown",
   "id": "345d1bf4-f9e8-459a-a811-e7b32f7539fe",
   "metadata": {},
   "source": [
    "The points of intersection between the line and the parabola have $x$-coordinates of,     \n",
    "\n",
    "$$ x = (x-2)^2 = x^2 - 4x + 4 \\quad\\therefore\\quad x^2-5x+4=0$$"
   ]
  },
  {
   "cell_type": "markdown",
   "id": "2aa99463-2122-4fe3-9545-a10e1ade8965",
   "metadata": {},
   "source": [
    "Via the above and the quadratic formula,  \n",
    "\n",
    "$$ x = \\frac{5 \\pm\\sqrt{25 - 16}}{2} = \\frac{5\\pm 3}{2} = \\{4,1\\}$$"
   ]
  },
  {
   "cell_type": "markdown",
   "id": "606a3004-4dbd-4138-8907-6f451c48094e",
   "metadata": {},
   "source": [
    "Express, as an iterated integral:  i) $\\displaystyle \\int\\!\\int_R\\,\\mathrm{d}y\\,\\mathrm{d}x\\,\\text{,}\\quad$ and ii) $\\displaystyle \\int\\!\\int_R\\,\\mathrm{d}x\\,\\mathrm{d}y$."
   ]
  },
  {
   "cell_type": "markdown",
   "id": "109b12bb-71eb-4fe1-a739-9870383dd88d",
   "metadata": {},
   "source": [
    "**i)**  Under this order of integration, we must divide $R$ into two subregions.  Said subregions, henceforth '$R_1$' and '$R_2$', are divided by the line given by:  \n",
    "\n",
    "$$ x:=g(y) = 1$$"
   ]
  },
  {
   "cell_type": "markdown",
   "id": "70661c95-354c-4423-8e05-310332c28cf3",
   "metadata": {},
   "source": [
    "Finally,  \n",
    "\n",
    "$$ \\int\\!\\int_R\\,\\mathrm{d}y\\,\\mathrm{d}x = \\int\\!\\int_{R_1}\\,\\mathrm{d}y\\,\\mathrm{d}x + \\int\\!\\int_{R_2}\\,\\mathrm{d}y\\,\\mathrm{d}x$$"
   ]
  },
  {
   "cell_type": "markdown",
   "id": "3176ceb8-e1aa-48e4-ad82-fe0b8385e7f0",
   "metadata": {},
   "source": [
    "$$ \\int\\!\\int_{R_1}\\,\\mathrm{d}y\\,\\mathrm{d}x = \\int_0^1\\int_{-\\sqrt{x}}^\\sqrt{x}\\,\\mathrm{d}y\\,\\mathrm{d}x$$"
   ]
  },
  {
   "cell_type": "markdown",
   "id": "6450c54d-2d6f-43da-b71f-2044703caeaf",
   "metadata": {},
   "source": [
    "$$ \\int\\!\\int_{R_2}\\,\\mathrm{d}y\\,\\mathrm{d}x = \\int_1^4\\int_{f(x)}^\\sqrt{x}\\,\\mathrm{d}y\\,\\mathrm{d}x$$"
   ]
  },
  {
   "cell_type": "markdown",
   "id": "8e258726-500e-4fb4-b6e5-f7063689e97d",
   "metadata": {},
   "source": [
    "**ii)**  Under this order of integration, the region $R$ does not have to be divided into subregion.  Said region is bounded by  \n",
    "\n",
    "$$ y = -1 \\quad\\quad y = 2 \\quad\\quad x = y^2 \\quad\\quad x:=h(y) = y + 2$$"
   ]
  },
  {
   "cell_type": "markdown",
   "id": "0acddb5f-d872-4dbc-9f09-3240fdff23d4",
   "metadata": {},
   "source": [
    "Finally,  \n",
    "\n",
    "$$ \\int\\!\\int_R\\,\\mathrm{d}x\\,\\mathrm{d}y = \\int_{-1}^2\\int_{y^2}^{h(y)}\\,\\mathrm{d}x\\,\\mathrm{d}y$$"
   ]
  },
  {
   "cell_type": "markdown",
   "id": "7625c2e4-150c-4800-bd3a-1a3669239e27",
   "metadata": {},
   "source": [
    "#### $\\S 3\\mathrm{A}:3$\n",
    "\n",
    "Evaluate each of the following double integrals over the indicated region $R$.  Choose whichever order of integration seems easier -- given the integrand and the shape of $R$."
   ]
  },
  {
   "cell_type": "markdown",
   "id": "7879e0e4-3d70-4ef4-afc8-f2ec7db5d926",
   "metadata": {},
   "source": [
    "**a)**  $\\displaystyle \\int\\!\\int_Rx\\,\\mathrm{d}A\\text{,}\\quad$ where $R$ is the finite region bounded by the axes and the line given by $2y+x=2$."
   ]
  },
  {
   "cell_type": "markdown",
   "id": "69dd385a-54bf-48fb-bc89-cabe42728f63",
   "metadata": {},
   "source": [
    "Said line has an $x$-intercept of $x=2$ and a $y$-intercept of $y=1$.  Thus,  \n",
    "\n",
    "$$ \\int\\!\\int_Rx\\,\\mathrm{d}A = \\int_0^2\\int_0^{f(x)} x\\,\\mathrm{d}y\\,\\mathrm{d}x \\quad\\quad \\text{where }\\,y:=f(x) = 1 - 0.5x$$"
   ]
  },
  {
   "cell_type": "markdown",
   "id": "82c84858-e6d9-482a-be6f-2a3d7b05948b",
   "metadata": {},
   "source": [
    "Finally,  \n",
    "\n",
    "$$ \\int\\!\\int_Rx\\,\\mathrm{d}A = \\int_0^2 \\big(x - 0.5x^2\\big)\\,\\mathrm{d}x$$"
   ]
  },
  {
   "cell_type": "markdown",
   "id": "fa1202ea-24f9-4e67-aa5f-8f237bb32b32",
   "metadata": {},
   "source": [
    "$$ = 0.5\\cdot2^2 - \\frac{2^3}{6} = 2 - \\frac{4}{3} = \\frac{2}{3}$$"
   ]
  },
  {
   "cell_type": "markdown",
   "id": "4cb94b68-663d-4a3a-b478-b5b33c4bdd87",
   "metadata": {},
   "source": [
    "**b)**  $\\displaystyle \\int\\!\\int_R \\big(2x+y^2\\big)\\,\\mathrm{d}A\\text{,}\\quad$ where $R$ is the finite region in the first quadrant bounded by the axes and the curve given by $y^2=1-x$.  Note that $\\mathrm{d}x\\,\\mathrm{d}y$ is an easier order of integration."
   ]
  },
  {
   "cell_type": "markdown",
   "id": "854af2f6-ec83-4cd7-a998-0648d58b1842",
   "metadata": {},
   "source": [
    "$$ \\int\\!\\int_R h(x,y)\\,\\mathrm{d}A = \\int_0^1\\int_0^{f(y)} h(x,y)\\,\\mathrm{d}x\\,\\mathrm{d}y$$"
   ]
  },
  {
   "cell_type": "markdown",
   "id": "d763ce8c-52a8-4bd4-a884-f8f37c6fa6c9",
   "metadata": {},
   "source": [
    "where,  \n",
    "\n",
    "$$ x:=f(y) = 1-y^2 \\quad\\quad\\text{and}\\quad\\quad h(x,y) = 2x+y^2$$"
   ]
  },
  {
   "cell_type": "markdown",
   "id": "7997d6fe-eb98-4acb-9de0-be98f0d1b385",
   "metadata": {},
   "source": [
    "Thus,  \n",
    "\n",
    "$$ \\int\\!\\int_R h(x,y)\\,\\mathrm{d}A = \\int_0^1 \\left. x^2 + xy^2\\right]_{\\,0}^{\\,f(y)}\\,\\mathrm{d}y$$"
   ]
  },
  {
   "cell_type": "markdown",
   "id": "faf3d2bf-bcb5-417f-8877-c777cf91dff1",
   "metadata": {},
   "source": [
    "$$ = \\int_0^1\\big(f^2(y) + f(y)y^2\\big)\\,\\mathrm{d}y$$"
   ]
  },
  {
   "cell_type": "markdown",
   "id": "2b737fb1-1410-4d30-bfa2-708a1fcc650f",
   "metadata": {},
   "source": [
    "$$ = \\int_0^1 f(y)\\,\\mathrm{d}y = \\left.\\left(y-\\frac{y^3}{3}\\right)\\right]_{\\,0}^{\\,1}$$"
   ]
  },
  {
   "cell_type": "markdown",
   "id": "3644c953-154f-4c26-9410-a3df112aead6",
   "metadata": {},
   "source": [
    "$$ = \\frac{2}{3}$$"
   ]
  },
  {
   "cell_type": "markdown",
   "id": "01155ed0-fb40-49d2-8fa4-5786ef41079c",
   "metadata": {},
   "source": [
    "**c)**  $\\displaystyle \\int\\!\\int_R y\\,\\mathrm{d}A\\text{,}\\quad$ where $R$ is the triangle with vertices at $(\\pm 1,0)$ and $(0,1)$."
   ]
  },
  {
   "cell_type": "markdown",
   "id": "55b55a3c-a3fa-426c-afae-d8a6f6a508bb",
   "metadata": {},
   "source": [
    "To find the value of the double integral, we must first divide $R$ into two subregions.  Said subregions, henceforth '$R_1$' and '$R_2$', are divided by the line given by $x = 0$.  Let $R_1$ be bound by the axes and the line given by:  \n",
    "\n",
    "$$ f(x) = x + 1$$"
   ]
  },
  {
   "cell_type": "markdown",
   "id": "1bb6b7f8-bac0-44ca-a575-788cfbf5ff30",
   "metadata": {},
   "source": [
    "The other subregion is bound by the axes and the line given by:  \n",
    "\n",
    "$$ g(x) = 1-x$$"
   ]
  },
  {
   "cell_type": "markdown",
   "id": "44a1d6a0-b93c-4a19-a87e-3e5c71477235",
   "metadata": {},
   "source": [
    "Thus,  \n",
    "\n",
    "$$ \\int\\!\\int_R y\\,\\mathrm{d}A = \\int\\!\\int_{R_1} y \\,\\mathrm{d}A + \\int\\!\\int_{R_2} y\\,\\mathrm{d}A$$"
   ]
  },
  {
   "cell_type": "markdown",
   "id": "2c23745f-4835-4514-8dc1-efc753f77592",
   "metadata": {},
   "source": [
    "$$ \\int\\!\\int_{R_1} y\\,\\mathrm{d}A = \\int_{-1}^0\\int_0^{f(x)} y\\,\\mathrm{d}y\\,\\mathrm{d}x = \\int_{-1}^0 0.5f^2(x)\\,\\mathrm{d}x$$"
   ]
  },
  {
   "cell_type": "markdown",
   "id": "aa99a74b-f65b-4920-952b-8943ff8d2f6d",
   "metadata": {},
   "source": [
    "$$ = \\int_{-1}^0 0.5\\big(x^2+2x+1\\big)\\,\\mathrm{d}x$$"
   ]
  },
  {
   "cell_type": "markdown",
   "id": "2c1ecbb3-16a2-4321-ae18-7c7b74082718",
   "metadata": {},
   "source": [
    "$$ = -0.5\\left(-\\frac{1}{3} + 1 - 1\\right) = \\frac{1}{6}$$"
   ]
  },
  {
   "cell_type": "markdown",
   "id": "8d71ac80-e6ca-4944-892c-afbe927ec5b7",
   "metadata": {},
   "source": [
    "$$ \\int\\!\\int_{R_2} y\\,\\mathrm{d}A = \\int_0^1\\int_0^{g(x)} y\\,\\mathrm{d}y\\,\\mathrm{d}x = \\int_0^1 0.5g^2(x)\\,\\mathrm{d}x $$"
   ]
  },
  {
   "cell_type": "markdown",
   "id": "3b775da2-2416-4a44-b26b-670bb1fc7d22",
   "metadata": {},
   "source": [
    "$$ = 0.5\\int_0^1 \\big(x^2 - 2x + 1\\big)\\,\\mathrm{d}x$$"
   ]
  },
  {
   "cell_type": "markdown",
   "id": "ea7bd8f1-8190-468b-92ce-22488d96ec42",
   "metadata": {},
   "source": [
    "$$ = \\frac{1}{6}$$"
   ]
  },
  {
   "cell_type": "markdown",
   "id": "b2fac32f-2e2f-4a48-869e-061d8114990f",
   "metadata": {},
   "source": [
    "Finally,  \n",
    "\n",
    "$$ \\int\\!\\int_R y\\,\\mathrm{d}A = \\frac{1}{3}$$"
   ]
  },
  {
   "cell_type": "markdown",
   "id": "5a89d39e-72a1-47f7-a13f-ab52a42bf89a",
   "metadata": {},
   "source": [
    "#### $\\S 3\\mathrm{A} : 4$\n",
    "\n",
    "Find, by double integration, the volume of the following solids."
   ]
  },
  {
   "cell_type": "markdown",
   "id": "1b4b2df2-ded9-4bae-9c56-cf609e49a7c5",
   "metadata": {},
   "source": [
    "**a)**  The solid lying under the graph of $z=\\sin^2 x$ and over the region $R$ bounded below by the $x$-axis and above by the central arch of the graph of $\\cos x$."
   ]
  },
  {
   "cell_type": "markdown",
   "id": "14fe5aeb-e02a-409c-8980-b3141b247900",
   "metadata": {},
   "source": [
    "$$ V=\\int\\!\\int_R z\\,\\mathrm{d}A = \\int_{-0.5\\pi}^{0.5\\pi}\\int_0^{\\cos x} \\sin^2x\\,\\mathrm{d}y\\,\\mathrm{d}x  = \\int_{-0.5\\pi}^{0.5\\pi} \\cos x \\sin^2 \\,\\mathrm{d}x$$"
   ]
  },
  {
   "cell_type": "markdown",
   "id": "34b02f0f-ff68-4d6f-aa2d-2e79e32c0282",
   "metadata": {},
   "source": [
    "$$ = \\left(\\left. \\frac{\\sin^3 x}{3}\\right)\\right]_{-0.5\\pi}^{0.5\\pi}$$"
   ]
  },
  {
   "cell_type": "markdown",
   "id": "20bc89b2-993e-43b4-a8f9-3b0a8df06b54",
   "metadata": {},
   "source": [
    "$$ = \\frac{2}{3}$$"
   ]
  },
  {
   "cell_type": "markdown",
   "id": "3aa01607-8797-40ad-b57e-eb1171d7fae7",
   "metadata": {},
   "source": [
    "**b)**  The solid lying over the finite region $R$ in the first quadrant between the graphs of $x$ and $x^2$, and underneath the graph of $z=xy$."
   ]
  },
  {
   "cell_type": "code",
   "execution_count": 64,
   "id": "e2936099-497e-488e-a4ef-ad04830e342d",
   "metadata": {
    "jupyter": {
     "source_hidden": true
    },
    "tags": []
   },
   "outputs": [
    {
     "data": {
      "image/png": "[encoded data removed]",
      "text/plain": [
       "<Figure size 300x300 with 2 Axes>"
      ]
     },
     "metadata": {},
     "output_type": "display_data"
    }
   ],
   "source": [
    "x = np.linspace(0,1,num=50)\n",
    "y = np.linspace(0,1,num=50)\n",
    "X, Y = np.meshgrid(x,y)\n",
    "\n",
    "z = X*Y\n",
    "\n",
    "fig, ax = plt.subplots(figsize=(3,3))\n",
    "ax.set_xlabel('x-axis')\n",
    "ax.set_ylabel('y-axis')\n",
    "\n",
    "ax.plot(x,x,x,x**2,color='k')\n",
    "cs = ax.contour(X,Y,z,levels=12)\n",
    "cb = fig.colorbar(cs)"
   ]
  },
  {
   "cell_type": "markdown",
   "id": "074fd5a9-e3ba-48ef-8d69-766c4fe81c82",
   "metadata": {},
   "source": [
    "$$ V = \\int\\!\\int_R z\\,\\mathrm{d}A = \\int_0^1\\int_{x^2}^x xy\\,\\mathrm{d}y\\,\\mathrm{d}x$$"
   ]
  },
  {
   "cell_type": "markdown",
   "id": "eb96dc0c-a95e-4085-9200-ff30c33dafc3",
   "metadata": {},
   "source": [
    "$$ = \\int_0^1 \\left.\\big(0.5xy^2\\big)\\right]_{x^2}^x\\,\\mathrm{d}x = \\int_0^1 0.5x\\big(x^2-x^4\\big)\\,\\mathrm{d}x$$"
   ]
  },
  {
   "cell_type": "markdown",
   "id": "e8a9b98b-700c-4115-9f01-5167036aafe2",
   "metadata": {},
   "source": [
    "$$ = \\frac{1}{8} - \\frac{1}{12} = \\frac{1}{24}$$"
   ]
  },
  {
   "cell_type": "markdown",
   "id": "fb0966c3-44c0-432c-a3cb-b1db839118dc",
   "metadata": {},
   "source": [
    "**c)**  \n",
    "\n",
    "$$ V = \\int_0^1\\int_{-x}^x \\big(x^2-y^2\\big)\\,\\mathrm{d}y\\,\\mathrm{d}x = \\int_0^1\\left.\\left(yx^2 - \\frac{y^3}{3}\\right)\\right]_{-x}^x\\,\\mathrm{d}x$$"
   ]
  },
  {
   "cell_type": "markdown",
   "id": "5605f2d8-0c0a-46a0-a9b9-0d6767c8263e",
   "metadata": {},
   "source": [
    "$$ = \\int_0^1\\left(\\frac{2x^3}{3} - \\frac{x^3}{3} + x^3\\right)\\,\\mathrm{d}x = \\int_0^1 \\frac{4}{3}\\,x^3\\,\\mathrm{d}x$$"
   ]
  },
  {
   "cell_type": "markdown",
   "id": "97f5a3e0-94c8-4aeb-91a4-8211a999935d",
   "metadata": {},
   "source": [
    "$$ = \\frac{1}{3}$$"
   ]
  },
  {
   "cell_type": "markdown",
   "id": "1a4509a1-21c1-4e0f-8b53-604c0e6e31ef",
   "metadata": {},
   "source": [
    "#### $\\S 3\\mathrm{A} : 5$  \n",
    "\n",
    "Evaluate each of the following iterated integrals by changing the order of integration.  Begin by figuring out what the region $R$ is and sketching it."
   ]
  },
  {
   "cell_type": "markdown",
   "id": "482019b6-07f0-4be5-8a84-cbdb57b1c8b3",
   "metadata": {},
   "source": [
    "**a)**  $$ \\int\\!\\int_R e^{-y^2}\\,\\mathrm{d}A = \\int_0^2\\int_0^y e^{-y^2}\\,\\mathrm{d}x\\,\\mathrm{d}y$$"
   ]
  },
  {
   "cell_type": "markdown",
   "id": "6c3f940d-5b1d-40ee-a29e-86d5d41ec8f6",
   "metadata": {},
   "source": [
    "$$ = \\int_0^2 ye^{-y^2}\\,\\mathrm{d}y = \\left.-0.5e^{-y^2}\\right]_{\\,0}^{\\,2} $$"
   ]
  },
  {
   "cell_type": "markdown",
   "id": "bce396aa-a7e4-48f1-a176-214d42812981",
   "metadata": {},
   "source": [
    "$$ = 0.5 - 0.5e^{-4} = 0.5\\big(1-e^{-4}\\big)$$"
   ]
  },
  {
   "cell_type": "code",
   "execution_count": 65,
   "id": "c44e3246-ce1d-4874-a58b-badfda1ba44c",
   "metadata": {
    "tags": []
   },
   "outputs": [
    {
     "data": {
      "text/plain": [
       "0.4908421805556329"
      ]
     },
     "execution_count": 65,
     "metadata": {},
     "output_type": "execute_result"
    }
   ],
   "source": [
    "0.5*(1-np.e**(-4))"
   ]
  },
  {
   "cell_type": "markdown",
   "id": "7a0d318b-1f56-410c-90ea-0eaad9e3ac7e",
   "metadata": {},
   "source": [
    "**b)**  $$ \\int\\!\\int_R h(u,t)\\,\\mathrm{d}A = \\int_0^{0.5}\\int_0^{u^2} h(u,t)\\,\\mathrm{d}t\\,\\mathrm{d}u$$"
   ]
  },
  {
   "cell_type": "markdown",
   "id": "1bed546b-5a53-40cd-979f-e6df7165b93a",
   "metadata": {},
   "source": [
    "where $h(u,t)$ is defined as the integrand.  \n",
    "\n",
    "$$ h(t,u) = \\frac{e^u}{u}$$"
   ]
  },
  {
   "cell_type": "markdown",
   "id": "0348a949-92a4-4aef-b899-b74b7fa98a8e",
   "metadata": {},
   "source": [
    "Furthermore,  \n",
    "\n",
    "$$ \\int_0^{0.5}\\int_0^{u^2}h(u,t)\\,\\mathrm{d}t\\,\\mathrm{d}u = \\int_0^{0.5} ue^u\\,\\mathrm{d}u$$"
   ]
  },
  {
   "cell_type": "markdown",
   "id": "ac49c186-b604-4896-a233-89be6cf289bc",
   "metadata": {},
   "source": [
    "$$ = \\left.(u-1)e^u\\right]_{\\,0}^{\\,0.5}$$"
   ]
  },
  {
   "cell_type": "markdown",
   "id": "8b33eb68-cbb9-4474-ae52-c62fb7ea2c59",
   "metadata": {},
   "source": [
    "$$ = 1-0.5e^{0.5} $$"
   ]
  },
  {
   "cell_type": "code",
   "execution_count": 66,
   "id": "4ed8455d-6f2c-47ae-9af1-6a179161aa03",
   "metadata": {
    "tags": []
   },
   "outputs": [
    {
     "data": {
      "text/plain": [
       "0.1756393646499359"
      ]
     },
     "execution_count": 66,
     "metadata": {},
     "output_type": "execute_result"
    }
   ],
   "source": [
    "1-0.5*np.e**(0.5)"
   ]
  },
  {
   "cell_type": "markdown",
   "id": "292c0bf9-86f8-45f6-b706-1f6548a82ce5",
   "metadata": {},
   "source": [
    "**c)**  $$ \\int\\!\\int_R h(u,x)\\,\\mathrm{d}A = \\int_0^1\\int_0^{u^3} h(u,v)\\,\\mathrm{d}x\\,\\mathrm{d}u \\quad\\quad\\text{where }\\,h(u,x) = \\frac{1}{1+u^4}$$"
   ]
  },
  {
   "cell_type": "markdown",
   "id": "70abd03f-5b75-43e0-8b99-c8ed74d99b91",
   "metadata": {},
   "source": [
    "$$ \\int_0^1\\int_0^{u^3}\\,\\mathrm{d}x\\,\\mathrm{d}u = \\int_0^1 \\frac{u^3}{1+u^4}\\,\\mathrm{d}u$$"
   ]
  },
  {
   "cell_type": "markdown",
   "id": "c1474a8d-85fa-464e-9338-4046c16955da",
   "metadata": {},
   "source": [
    "$$ = \\left. 0.25\\log\\big|1+u^4\\big|\\right]_{\\,0}^{\\,1}$$"
   ]
  },
  {
   "cell_type": "markdown",
   "id": "a3b6b8b2-ec96-4bca-91c6-a94fdaf670ed",
   "metadata": {},
   "source": [
    "$$ = 0.25\\log 2$$"
   ]
  },
  {
   "cell_type": "code",
   "execution_count": 2,
   "id": "ceb1ea69-f39d-4dc0-a3cd-539dfd79cc5f",
   "metadata": {
    "tags": []
   },
   "outputs": [
    {
     "data": {
      "text/plain": [
       "0.17328679513998632"
      ]
     },
     "execution_count": 2,
     "metadata": {},
     "output_type": "execute_result"
    }
   ],
   "source": [
    "0.25*np.log(2)"
   ]
  },
  {
   "cell_type": "markdown",
   "id": "b66c8254-0ed6-406f-b0ef-bfddcf918770",
   "metadata": {},
   "source": [
    "### Double Integrals - In Polar Coordinates"
   ]
  },
  {
   "cell_type": "markdown",
   "id": "9b26890c-8e3a-497a-aca9-c84453b71c6b",
   "metadata": {},
   "source": [
    "#### $\\S 3\\mathrm{B} : 1$\n",
    "\n",
    "Express each double integral over the given region $R$ as an iterated integral in polar\n",
    "coordinates. Use the method described in Notes I to supply the limits of integration. For\n",
    "some of them, it may be necessary to break the integral up into two parts. In each case,\n",
    "begin by sketching the region."
   ]
  },
  {
   "cell_type": "markdown",
   "id": "a60b124d-1cff-4f88-8650-149419e9b1a6",
   "metadata": {},
   "source": [
    "**a)**  The region $R$ lying inside the circle with center at the origin and radius $2$ and to the left of the vertical line through $(-1,0)$."
   ]
  },
  {
   "cell_type": "markdown",
   "id": "327286d5-797c-4a39-a392-af8d7ab19814",
   "metadata": {},
   "source": [
    "The outer integral is with respect to $\\theta$ and is from $\\theta = 120^\\circ$ to $\\theta=240^\\circ$."
   ]
  },
  {
   "cell_type": "code",
   "execution_count": 5,
   "id": "fc4e78bc-3b96-4061-b62d-1720dbf5ed0b",
   "metadata": {
    "tags": []
   },
   "outputs": [
    {
     "data": {
      "text/plain": [
       "120.00000000000001"
      ]
     },
     "execution_count": 5,
     "metadata": {},
     "output_type": "execute_result"
    }
   ],
   "source": [
    "theta = np.arccos(-0.5); np.degrees(theta)"
   ]
  },
  {
   "cell_type": "markdown",
   "id": "a8b03ee5-878f-44ac-b973-49bb006f079b",
   "metadata": {},
   "source": [
    "The vertical line is given by:  \n",
    "\n",
    "$$ x = -1 \\quad\\hat{=}\\quad r\\cos\\theta = -1 $$"
   ]
  },
  {
   "cell_type": "markdown",
   "id": "640d61e8-810e-410e-a434-8a342acab007",
   "metadata": {},
   "source": [
    "$$ r := r(\\theta) = -\\sec\\theta$$"
   ]
  },
  {
   "cell_type": "markdown",
   "id": "4df36c99-4dcd-409b-b556-b9839e612ba1",
   "metadata": {},
   "source": [
    "The inner integral is with respect to $r$ and is from $r(\\theta)$ to $2$.  Finally,  \n",
    "\n",
    "$$ \\int\\!\\int_R\\,\\mathrm{d}A = \\int_{120^\\circ}^{240^\\circ}\\int_{r(\\theta)}^2 \\,r\\,\\mathrm{d}r\\,\\mathrm{d}\\theta$$"
   ]
  },
  {
   "cell_type": "markdown",
   "id": "8db5f644-0e80-4ec2-a72c-b7a39c9b6e7b",
   "metadata": {},
   "source": [
    "**b)**  The circle of radius $1$ with a center at $(0,1)$."
   ]
  },
  {
   "cell_type": "markdown",
   "id": "47e69652-b37e-480d-a6a3-ddc009ccf177",
   "metadata": {},
   "source": [
    "$$ x^2 +(y-1)^2 = 1$$"
   ]
  },
  {
   "cell_type": "markdown",
   "id": "cde92343-5f36-4d04-865e-645e07981e46",
   "metadata": {},
   "source": [
    "$$ r^2\\cos^2\\theta + \\big(r\\sin\\theta - 1\\big)^2 = 1$$"
   ]
  },
  {
   "cell_type": "markdown",
   "id": "914f8e5f-898c-47d8-8106-62f7a5df4bf0",
   "metadata": {},
   "source": [
    "$$ r^2\\cos^2\\theta + r^2\\sin^2\\theta - 2r\\sin\\theta  = r^2 - 2r\\sin\\theta= 0$$"
   ]
  },
  {
   "cell_type": "markdown",
   "id": "b4e27e0a-64fe-48bd-a5ad-6fdee2198894",
   "metadata": {},
   "source": [
    "$$ r := r(\\theta) = 2\\sin\\theta$$"
   ]
  },
  {
   "cell_type": "markdown",
   "id": "4492f6be-de55-4bcb-b1c2-ca9c9945849a",
   "metadata": {},
   "source": [
    "The outer integral is from $0$ to $\\pi$ and is with respect to $\\theta$, while the inner integral is from $0$ to $r(\\theta)$ and is of course with respect to $r$.  \n",
    "\n",
    "$$ \\int\\!\\int_R \\,\\mathrm{d}A = \\int_0^\\pi\\int_0^{r(\\theta)}r\\,\\mathrm{d}r\\,\\mathrm{d}\\theta$$"
   ]
  },
  {
   "cell_type": "markdown",
   "id": "a289db41-b908-4f43-bed4-27f79bb8a14c",
   "metadata": {},
   "source": [
    "**c)**  First, we must find the points of intersection between the cardiod and circle to see if and where we need to divide the region $R$ into subregions in order to integrate over $R$ using polar coordinates.  \n",
    "\n",
    "$$ r =  1-\\cos\\theta\\quad\\quad\\text{and}\\quad\\quad r = \\frac{3}{2}$$"
   ]
  },
  {
   "cell_type": "markdown",
   "id": "f6e68fe8-88b3-4a96-b709-9cacf2c9a0e2",
   "metadata": {},
   "source": [
    "Via the above two equations and equivalence principle,  \n",
    "\n",
    "$$ 1.5 = 1-\\cos\\theta \\quad\\therefore\\quad \\cos\\theta = -0.5 \\quad\\therefore$$"
   ]
  },
  {
   "cell_type": "markdown",
   "id": "0db8543b-7190-4dd7-9041-e63d74d2aab2",
   "metadata": {},
   "source": [
    "$$ \\theta = \\arccos -0.5 = \\big\\{120^\\circ, 240^\\circ\\big\\}$$"
   ]
  },
  {
   "cell_type": "code",
   "execution_count": 6,
   "id": "97028814-e611-492d-a405-c9d3341360bb",
   "metadata": {
    "tags": []
   },
   "outputs": [
    {
     "data": {
      "text/plain": [
       "120.00000000000001"
      ]
     },
     "execution_count": 6,
     "metadata": {},
     "output_type": "execute_result"
    }
   ],
   "source": [
    "theta = np.arccos(-0.5); np.degrees(theta)"
   ]
  },
  {
   "cell_type": "markdown",
   "id": "8fcd7a23-1af9-4857-9997-15804893f9bd",
   "metadata": {},
   "source": [
    "And, via the above equation and the equation that gives the cardiod,  \n",
    "\n",
    "$$ r = 1.5$$"
   ]
  },
  {
   "cell_type": "markdown",
   "id": "5b0140d1-09fd-4e8e-8804-e572dd11ab2d",
   "metadata": {},
   "source": [
    "Now let $f(\\theta)$ be defined as:   \n",
    "\n",
    "$$ f(\\theta) := 1-\\cos\\theta$$"
   ]
  },
  {
   "cell_type": "markdown",
   "id": "c7e73b56-a9f1-4062-a0d4-c79f1ffa455f",
   "metadata": {},
   "source": [
    "$$ f\\big(120^\\circ < \\theta < 240^\\circ\\big) > 1.5 \\quad\\quad\\text{and}\\quad\\quad f\\big(-120^\\circ < \\theta < 120^\\circ\\big) < 1.5$$"
   ]
  },
  {
   "cell_type": "markdown",
   "id": "d8680206-358f-47ca-b780-37dcfb5077ed",
   "metadata": {},
   "source": [
    "Finally,  \n",
    "\n",
    "$$ \\int\\!\\int_R\\,\\mathrm{d}A = \\int_{120^\\circ}^{240^\\circ}\\int_{1.5}^{f(\\theta)}r\\,\\mathrm{d}r\\,\\mathrm{d}\\theta$$"
   ]
  },
  {
   "cell_type": "markdown",
   "id": "ad1eb8c4-adb7-4129-86a5-b862d8000047",
   "metadata": {},
   "source": [
    "**d)**  The region $R$ must be divided into two subregions, $R_1$ and $R_2$, with $R_1$ being bounded by the $y$-axis, $y=a$ and $y=x$, and $R_2$ being bounded by $y=x$ and our circle.  \n",
    "\n",
    "$$ \\int\\!\\int_R\\,\\mathrm{d}A = \\int\\!\\int_{R_1}\\,\\mathrm{d}A - \\int\\!\\int_{R_2}\\,\\mathrm{d}A$$"
   ]
  },
  {
   "cell_type": "markdown",
   "id": "2cc311f7-acee-4a54-9fa6-14903f26d56e",
   "metadata": {},
   "source": [
    "$$ y = a \\quad\\therefore\\quad r\\sin\\theta = a \\quad\\therefore$$"
   ]
  },
  {
   "cell_type": "markdown",
   "id": "3803e684-ca02-4c9b-81c2-9ea13adbb014",
   "metadata": {},
   "source": [
    "$$ r := f(\\theta) = a\\csc\\theta$$"
   ]
  },
  {
   "cell_type": "markdown",
   "id": "e1bff8b8-1005-4f8a-8f96-708633d4d31d",
   "metadata": {},
   "source": [
    "$$ \\int\\!\\int_{R_1}\\,\\mathrm{d}A = \\int_{45^\\circ}^{90^\\circ}\\int_0^{f(\\theta)}r\\,\\mathrm{d}r\\,\\mathrm{d}\\theta$$"
   ]
  },
  {
   "cell_type": "markdown",
   "id": "7af2e4d4-6161-4af1-98d5-21f17e3445c1",
   "metadata": {},
   "source": [
    "$$ (x-a)^2 + y^2 = a^2 \\quad\\therefore\\quad \\big(r\\cos\\theta - a\\big)^2 + r^2\\sin^2\\theta = a^2 \\quad\\therefore$$"
   ]
  },
  {
   "cell_type": "markdown",
   "id": "f95f06d6-e17b-4c53-a534-9447df3a68e9",
   "metadata": {},
   "source": [
    "$$ r^2 - 2ra\\cos\\theta = 0 \\quad\\therefore\\quad r :=g(\\theta) = 2a\\cos\\theta$$"
   ]
  },
  {
   "cell_type": "markdown",
   "id": "c882e00e-4712-4949-a4bc-4939f1892a88",
   "metadata": {},
   "source": [
    "$$ \\int\\!\\int_{R_2}\\,\\mathrm{d}A = \\int_{45^\\circ}^{90^\\circ}\\int_0^{g(\\theta)}r\\,\\mathrm{d}r\\,\\mathrm{d}\\theta$$"
   ]
  },
  {
   "cell_type": "markdown",
   "id": "1acdefbe-ec84-4e68-97b6-e39ea6aca4e0",
   "metadata": {},
   "source": [
    "#### $\\S \\,3\\mathrm{B} : 2$  \n",
    "\n",
    "Evaluate, by iteration, the double integrals over the indicated regions.  Use polar coordinates.  "
   ]
  },
  {
   "cell_type": "markdown",
   "id": "6a4b8b3f-0f10-4eee-8e1e-a198fc8d16e1",
   "metadata": {},
   "source": [
    "**a)**  $$ \\int\\!\\int_R \\frac{\\mathrm{d}A}{r} = \\int_0^{90^\\circ}\\int_0^{r(\\theta)} \\,\\mathrm{d}r\\,\\mathrm{d}\\theta$$"
   ]
  },
  {
   "cell_type": "markdown",
   "id": "6347f96b-abcc-4131-bc88-54815985c37f",
   "metadata": {},
   "source": [
    "$$ =\\int_0^{90^\\circ} \\sin2\\theta\\,\\mathrm{d}\\theta$$"
   ]
  },
  {
   "cell_type": "markdown",
   "id": "a97d1fd0-2bb0-4214-82f4-9149e4fd55cc",
   "metadata": {},
   "source": [
    "$$ = \\big.-0.5\\cos2\\theta\\big]_{\\,0}^{\\,0.5\\pi}$$"
   ]
  },
  {
   "cell_type": "markdown",
   "id": "3305b25e-2efc-44e0-b11b-f7686f8d632f",
   "metadata": {},
   "source": [
    "$$= 0.5+ 0.5 = 1$$"
   ]
  },
  {
   "cell_type": "markdown",
   "id": "3914d002-2ca7-4df7-bc0c-ac22a83c4fcd",
   "metadata": {},
   "source": [
    "**b)**  Let $h(x,y)$ be defined as the integrand.  \n",
    "\n",
    "$$ h(x,y):=\\frac{1}{x^2+y^2+1}$$"
   ]
  },
  {
   "cell_type": "markdown",
   "id": "76b7da7f-2ff4-4019-965a-c3b2fcf70bb9",
   "metadata": {},
   "source": [
    "In polar coordinates,  \n",
    "\n",
    "$$ h(r,\\theta) = \\frac{1}{r^2+1}$$"
   ]
  },
  {
   "cell_type": "markdown",
   "id": "92608986-7867-4d41-8b0b-c6ad9068c9b2",
   "metadata": {},
   "source": [
    "Finally,  \n",
    "\n",
    "$$ \\int\\!\\int h(x,y)\\,\\mathrm{d}A = \\int_0^{90^\\circ}\\int_0^a \\frac{r}{r^2+1}\\,\\mathrm{d}r\\,\\mathrm{d}\\theta$$"
   ]
  },
  {
   "cell_type": "markdown",
   "id": "11b72991-0444-4767-8a2b-c06ec1b60f54",
   "metadata": {},
   "source": [
    "$$ = \\int_0^{90^\\circ}0.5\\log\\big(a^2+1\\big)\\,\\mathrm{d}\\theta$$"
   ]
  },
  {
   "cell_type": "markdown",
   "id": "d08d87d8-28b1-41df-8b4a-efc68180173d",
   "metadata": {},
   "source": [
    "$$ = 0.25\\pi\\log\\big(a^2+1\\big)$$"
   ]
  },
  {
   "cell_type": "markdown",
   "id": "ca6da4ce-bd19-4508-8d76-a0dae8bf355b",
   "metadata": {},
   "source": [
    "**c)**  $$ x = 1 \\quad\\therefore\\quad r\\cos\\theta = 1 \\quad\\therefore$$"
   ]
  },
  {
   "cell_type": "markdown",
   "id": "38b72bd8-5944-4e61-872c-a4a9337baf95",
   "metadata": {},
   "source": [
    "$$ r := f(\\theta) = \\sec\\theta$$"
   ]
  },
  {
   "cell_type": "markdown",
   "id": "2c0f6f6c-124e-4e80-8bc5-63d6534f49d0",
   "metadata": {},
   "source": [
    "$$ \\int\\!\\int_R\\tan^2\\theta\\,\\mathrm{d}A = \\int_0^{45^\\circ}\\int_0^{f(\\theta)}r\\tan^2\\theta\\,\\mathrm{d}r\\,\\mathrm{d}\\theta$$"
   ]
  },
  {
   "cell_type": "markdown",
   "id": "78cd7884-1317-4bf7-a169-b3d2aaffbe7f",
   "metadata": {},
   "source": [
    "$$ = \\int_0^{45^\\circ} 0.5\\sec^2\\theta\\tan^2\\theta\\,\\mathrm{d}\\theta$$"
   ]
  },
  {
   "cell_type": "markdown",
   "id": "f7e27bcb-d68e-422b-94ac-5ff9b8449c4a",
   "metadata": {},
   "source": [
    "The primitive integral of the integrand of the above integral is:  \n",
    "\n",
    "$$ \\frac{1}{2}\\int \\frac{\\sin^2\\theta}{\\cos^4\\theta}\\,\\mathrm{d}\\theta = \\frac{1}{6}\\frac{\\sin\\theta}{\\cos^3\\theta} - \\frac{1}{6}\\int \\sec^2\\theta\\,\\mathrm{d}\\theta$$"
   ]
  },
  {
   "cell_type": "markdown",
   "id": "60682f22-1134-475c-bc81-0e60790b2342",
   "metadata": {},
   "source": [
    "$$ = \\frac{\\tan\\theta}{6}\\big(\\sec^2\\theta - 1\\big) + K$$"
   ]
  },
  {
   "cell_type": "markdown",
   "id": "2eb63738-372a-4ef8-aa98-469da4c2cd09",
   "metadata": {},
   "source": [
    "$$ \\sin^2\\theta + \\cos^2\\theta = 1 \\quad\\implies\\quad \\tan^2\\theta + 1 = \\sec^2\\theta$$"
   ]
  },
  {
   "cell_type": "markdown",
   "id": "dd6b7ad9-00ab-4505-9cc8-212861dc2425",
   "metadata": {},
   "source": [
    "Thus,  \n",
    "\n",
    "$$ 0.5\\int \\sec^2\\theta\\tan^2\\theta\\,\\mathrm{d}\\theta = \\frac{\\tan^3\\theta}{6} + K$$"
   ]
  },
  {
   "cell_type": "markdown",
   "id": "aeae2168-fa82-4a5a-86ff-13dc4ba7e988",
   "metadata": {},
   "source": [
    "Finally,  \n",
    "\n",
    "$$ \\int\\!\\int_R\\tan^2\\theta\\,\\mathrm{d}A = \\int_0^{45^\\circ}0.5\\sec^2\\theta\\tan^2\\theta\\,\\mathrm{d}\\theta = \\frac{1}{6} $$"
   ]
  },
  {
   "cell_type": "code",
   "execution_count": 2,
   "id": "8ec5532c-0b6e-4f45-996f-e56eec86b711",
   "metadata": {
    "tags": []
   },
   "outputs": [
    {
     "data": {
      "text/plain": [
       "0.9999999999999999"
      ]
     },
     "execution_count": 2,
     "metadata": {},
     "output_type": "execute_result"
    }
   ],
   "source": [
    "np.tan(0.25*np.pi)"
   ]
  },
  {
   "cell_type": "markdown",
   "id": "be3e6c94-4126-4204-bca9-7ff172e63c40",
   "metadata": {},
   "source": [
    "**d)**  Let $h(x,y)$ be defined as the integrand.    \n",
    "\n",
    "$$ h(x,y) := \\frac{1}{\\sqrt{1-x^2-y^2}}$$"
   ]
  },
  {
   "cell_type": "markdown",
   "id": "f18e3bb7-66d1-465e-8ab0-8d10135d9e08",
   "metadata": {},
   "source": [
    "Which, in polar coordinates, is:  \n",
    "\n",
    "$$ h(r,\\theta) = \\frac{1}{\\sqrt{1-r^2}}$$"
   ]
  },
  {
   "cell_type": "markdown",
   "id": "a0081fa4-3cac-48db-a7cd-d06d0603624b",
   "metadata": {},
   "source": [
    "The outer integral is from $0$ to $90^\\circ$ and is with respect to $\\theta$.  Our circle is given by, in rectilinear coordinates,  \n",
    "\n",
    "$$ x^2 + (y-0.5)^2 = 0.25$$"
   ]
  },
  {
   "cell_type": "markdown",
   "id": "95a744f4-7624-4ba0-8604-9a581545dcc5",
   "metadata": {},
   "source": [
    "and, in polar coordinates,  \n",
    "\n",
    "$$ r^2\\cos^2\\theta + r^2\\sin^2\\theta - r\\sin\\theta = 0 \\quad\\therefore\\quad r^2-r\\sin\\theta = 0\\quad\\therefore$$"
   ]
  },
  {
   "cell_type": "markdown",
   "id": "d577fb15-a850-42f3-88d9-06f90b113d94",
   "metadata": {},
   "source": [
    "$$ r := f(\\theta) = \\sin\\theta$$"
   ]
  },
  {
   "cell_type": "markdown",
   "id": "4db482fa-0145-4c57-a919-4ae9644c54c2",
   "metadata": {},
   "source": [
    "The inner integral is from $0$ to $\\sin\\theta$ and is with respect to $r$.  Finally,  \n",
    "\n",
    "$$ \\int\\!\\int_Rh(x,y)\\,\\mathrm{d}A = \\int_0^{0.5\\pi}\\int_0^{f(\\theta)} \\frac{r}{\\sqrt{1-r^2}}\\,\\mathrm{d}r\\,\\mathrm{d}\\theta$$"
   ]
  },
  {
   "cell_type": "markdown",
   "id": "6e57ed15-8e69-4ffc-8b82-6e9ac9de9523",
   "metadata": {},
   "source": [
    "The inner integral is:  \n",
    "\n",
    "$$ \\int_0^{f(\\theta)}h(r,\\theta)r\\,\\mathrm{d}r = \\big.-\\sqrt{1-r^2}\\big]_{\\,0}^{\\,\\sin\\theta}$$"
   ]
  },
  {
   "cell_type": "markdown",
   "id": "97236a6a-d30c-4110-89eb-5b02c003c587",
   "metadata": {},
   "source": [
    "$$ = 1-\\cos\\theta$$"
   ]
  },
  {
   "cell_type": "markdown",
   "id": "d3471ef6-bdf6-4863-bf0e-389f67720f4f",
   "metadata": {},
   "source": [
    "Thus, the outer integral and final iteration of the double integral is:    \n",
    "\n",
    "$$ \\int_0^{0.5\\pi}\\big(1-\\cos\\theta\\big)\\,\\mathrm{d}\\theta$$"
   ]
  },
  {
   "cell_type": "markdown",
   "id": "f34460ec-bf04-4e11-aa98-edf6ea9444f6",
   "metadata": {},
   "source": [
    "$$ = \\big.\\big(\\theta - \\sin\\theta\\big)\\big]_{\\,0}^{\\,0.5\\pi}$$"
   ]
  },
  {
   "cell_type": "markdown",
   "id": "91abc149-f997-41e2-931c-9b1099beeb00",
   "metadata": {},
   "source": [
    "$$ = 0.5\\pi - 1$$"
   ]
  },
  {
   "cell_type": "code",
   "execution_count": 3,
   "id": "af3fe0b8-365a-447f-9bb7-09622d271353",
   "metadata": {
    "tags": []
   },
   "outputs": [
    {
     "data": {
      "text/plain": [
       "0.5707963267948966"
      ]
     },
     "execution_count": 3,
     "metadata": {},
     "output_type": "execute_result"
    }
   ],
   "source": [
    "0.5*np.pi - 1"
   ]
  },
  {
   "cell_type": "markdown",
   "id": "9f87a714-e26d-48e8-9d0b-392b0dc7d1a7",
   "metadata": {},
   "source": [
    "#### $\\S\\,3\\mathrm{B} : 3$\n",
    "\n",
    "Find the volumes of the following domains by integrating in polar coordinates:"
   ]
  },
  {
   "cell_type": "markdown",
   "id": "5942202d-0164-4399-b4e9-33227a4a5173",
   "metadata": {},
   "source": [
    "**a)**  a solid hemisphere of radius $a$ (place it so its base lies over the circle $x^2+y^2=a^2$)."
   ]
  },
  {
   "cell_type": "markdown",
   "id": "ad5cdd96-5822-4a7b-9e8c-6f77ce9d4444",
   "metadata": {},
   "source": [
    "The surface of said hemisphere (other than it's base) is given by, in rectilinear coordinates:  \n",
    "\n",
    "$$ z := f(x,y) = \\sqrt{a^2-x^2-y^2}$$"
   ]
  },
  {
   "cell_type": "markdown",
   "id": "0457c300-125d-42e5-bba4-e8fcad8b7ae4",
   "metadata": {},
   "source": [
    "and, in polar coordinates:  \n",
    "\n",
    "$$ z = f(r,\\theta) = \\sqrt{a^2-r^2}$$"
   ]
  },
  {
   "cell_type": "markdown",
   "id": "96edf4c8-93ae-43a6-a5b8-3ad06bf9995b",
   "metadata": {},
   "source": [
    "The volume $V$ is given by:  \n",
    "\n",
    "$$ V = \\int\\!\\int_R f(r,\\theta)\\,\\mathrm{d}A = \\int_0^{2\\pi}\\int_0^a r\\sqrt{a^2-r^2}\\,\\mathrm{d}r\\,\\mathrm{d}\\theta$$"
   ]
  },
  {
   "cell_type": "markdown",
   "id": "4f01ddff-40f7-4bad-a2e0-1d1bf861742d",
   "metadata": {},
   "source": [
    "The inner integral is:  \n",
    "\n",
    "$$ \\int_0^a rf(r,\\theta)\\,\\mathrm{d}r = \\Big.-\\frac{2}{3}\\,\\sqrt{\\big(a^2-r^2\\big)^3}\\Big]_{\\,0}^{\\,a}$$"
   ]
  },
  {
   "cell_type": "markdown",
   "id": "16afa43b-b568-4046-b200-06d1772668af",
   "metadata": {},
   "source": [
    "$$ = \\frac{2a^3}{3}$$"
   ]
  },
  {
   "cell_type": "markdown",
   "id": "1760f25c-943b-46d9-b0f4-464d6d759847",
   "metadata": {},
   "source": [
    "Finally,  \n",
    "\n",
    "$$ V = \\int_0^{2\\pi}\\frac{2a^3}{3}\\,\\mathrm{d}\\theta = \\frac{4\\pi a^3}{3}$$"
   ]
  },
  {
   "cell_type": "markdown",
   "id": "f38b679f-30ce-4e31-b73a-bf841aa6144a",
   "metadata": {},
   "source": [
    "**b)**  The domain under the graph of $z:=h(x,y)=xy$ and over the region $R$ which is the first quadrant portion of the interior of the circle $x^2+y^2=a^2$."
   ]
  },
  {
   "cell_type": "markdown",
   "id": "d921d098-277f-4b59-baaf-782454b8705f",
   "metadata": {},
   "source": [
    "$$z =  h(r,\\theta) = r^2\\cos\\theta\\sin\\theta = 0.5r^2\\sin2\\theta$$"
   ]
  },
  {
   "cell_type": "markdown",
   "id": "25d60dd1-abe6-4bfe-8e60-a0287db0e996",
   "metadata": {},
   "source": [
    "$$ V = \\int\\!\\int_R h(r,\\theta)\\,\\mathrm{d}A = \\int_0^{0.5\\pi}\\int_0^a 0.5r^3\\sin2\\theta\\,\\mathrm{d}r\\,\\mathrm{d}\\theta$$"
   ]
  },
  {
   "cell_type": "markdown",
   "id": "7e5b460f-069c-4d10-864f-bb4fb061626f",
   "metadata": {},
   "source": [
    "$$ = \\frac{1}{8}\\int_0^{0.5\\pi}a^4\\sin2\\theta\\,\\mathrm{d}\\theta$$"
   ]
  },
  {
   "cell_type": "markdown",
   "id": "a7cdc61f-7bb1-4955-9aa9-14a6a285eee6",
   "metadata": {},
   "source": [
    "$$ = \\frac{a^4}{8}$$"
   ]
  },
  {
   "cell_type": "markdown",
   "id": "627e0f9d-26fc-4a2e-a41a-c871609545e5",
   "metadata": {},
   "source": [
    "**c)**  The domain lying under the cone $z:=h(x,y)=\\sqrt{x^2+y^2}$ and over the circle of radius one and center at $(0,1)$."
   ]
  },
  {
   "cell_type": "markdown",
   "id": "b36d157a-c32b-490b-8195-4800bbc88196",
   "metadata": {},
   "source": [
    "The circle is given by, in rectilinear coordinates,  \n",
    "\n",
    "$$ x^2 + (y-1)^2 = 1$$"
   ]
  },
  {
   "cell_type": "markdown",
   "id": "a0d00495-0fd5-44a1-b2b0-6befee8ecadb",
   "metadata": {},
   "source": [
    "and, in polar coordinates,  \n",
    "\n",
    "$$ r^2\\cos^2\\theta + r^2\\sin^2\\theta - 2r\\sin\\theta = 0 \\quad\\therefore\\quad r^2 - 2r\\sin\\theta = 0 \\quad\\therefore$$"
   ]
  },
  {
   "cell_type": "markdown",
   "id": "25a7239b-c97f-4bcd-aa8f-3d93e5cdff88",
   "metadata": {},
   "source": [
    "$$ r := f(\\theta) = 2\\sin\\theta$$"
   ]
  },
  {
   "cell_type": "markdown",
   "id": "e91b0654-9e0a-449e-a3f0-022b77950458",
   "metadata": {},
   "source": [
    "The cone is given by, in polar coordinates:  \n",
    "\n",
    "$$ z = h(r,\\theta) = r$$"
   ]
  },
  {
   "cell_type": "markdown",
   "id": "6190b900-a061-4390-8766-d07c9764ffa0",
   "metadata": {},
   "source": [
    "The outer integral is from $0$ to $\\pi$ and is with respect to $\\theta$, while the inner integral is from $0$ to $f(\\theta)$ and is with respect to $r$.  \n",
    "\n",
    "$$ V = \\int\\!\\int_R r\\,\\mathrm{d}A = \\int_0^\\pi\\int_0^{f(\\theta)} r^2\\,\\mathrm{d}r\\,\\mathrm{d}\\theta$$"
   ]
  },
  {
   "cell_type": "markdown",
   "id": "7f10bcc0-1479-498a-a3b1-d5731d8101eb",
   "metadata": {},
   "source": [
    "$$ = \\int_0^\\pi \\frac{f^3(\\theta)}{3}\\,\\mathrm{d}\\theta = \\frac{8}{3}\\int_0^\\pi \\sin^3\\theta\\,\\mathrm{d}\\theta$$"
   ]
  },
  {
   "cell_type": "markdown",
   "id": "f478bd7c-633d-4bb3-a2b5-3d69ef490617",
   "metadata": {},
   "source": [
    "The primitive integral of the integrand of the above integral is:  \n",
    "\n",
    "$$ \\int \\sin^3\\theta\\,\\mathrm{d}\\theta = -\\cos\\theta\\sin^2\\theta + 2\\int\\cos^2\\theta\\sin\\theta\\,\\mathrm{d}\\theta$$"
   ]
  },
  {
   "cell_type": "markdown",
   "id": "3325a554-f948-40d0-ae56-7371900cb797",
   "metadata": {},
   "source": [
    "$$ 2\\int\\cos^2\\theta\\sin\\theta\\,\\mathrm{d}\\theta = -\\frac{2}{3}\\cos^3\\theta + K$$"
   ]
  },
  {
   "cell_type": "markdown",
   "id": "7df4fa5a-3789-4f8c-8041-1fdd8c3ccab0",
   "metadata": {},
   "source": [
    "Via the above two equations and substitution,  \n",
    "\n",
    "$$ \\int\\sin^3\\theta\\,\\mathrm{d}\\theta = K-\\cos\\theta\\sin^2\\theta - \\frac{2}{3}\\cos^3\\theta$$"
   ]
  },
  {
   "cell_type": "markdown",
   "id": "9cf22791-d224-47fa-8612-562c4ca8a3e3",
   "metadata": {},
   "source": [
    "Finally,  \n",
    "\n",
    "$$ V = -\\frac{8}{3}\\cos\\theta\\left.\\left(\\sin^2\\theta + \\frac{2}{3}\\cos^2\\theta\\right)\\right]_{\\,0}^{\\,\\pi}$$"
   ]
  },
  {
   "cell_type": "markdown",
   "id": "00344642-14b1-4c00-9d8e-7b430d78799a",
   "metadata": {},
   "source": [
    "$$= \\frac{8}{3}\\,\\frac{2}{3}\\cdot 2 = \\frac{32}{9}$$"
   ]
  },
  {
   "cell_type": "markdown",
   "id": "6c9d2bc3-7dc4-449d-bb1a-396c7c8f6e01",
   "metadata": {},
   "source": [
    "**d)**  The domain lying under the paraboloid $z:=h(x,y)=x^2+y^2$ and over the interior of the right-hand loop of $r^2=\\cos\\theta$."
   ]
  },
  {
   "cell_type": "markdown",
   "id": "8eb42460-fe26-4a6f-b6fa-afa794c6c648",
   "metadata": {},
   "source": [
    "$$ f(\\theta) = \\sqrt{\\cos\\theta}$$"
   ]
  },
  {
   "cell_type": "markdown",
   "id": "c4f513ac-cfb3-4999-9c07-5a65b865f1f6",
   "metadata": {},
   "source": [
    "$$ V = \\int_{-0.5\\pi}^{0.5\\pi}\\int_0^{f(\\theta)} r^3\\,\\mathrm{d}r\\,\\mathrm{d}\\theta$$"
   ]
  },
  {
   "cell_type": "markdown",
   "id": "a0b7d8d3-ee6b-49b0-86cf-fee0a62767b5",
   "metadata": {},
   "source": [
    "$$ = \\frac{1}{4}\\int_{-0.5\\pi}^{0.5\\pi} f^4(\\theta)\\,\\mathrm{d}\\theta = \\frac{1}{4}\\int_{-0.5\\pi}^{0.5\\pi}\\cos^2\\theta\\,\\mathrm{d}\\theta$$"
   ]
  },
  {
   "cell_type": "markdown",
   "id": "34d949d4-02eb-4c49-8567-6f63af3f7ebd",
   "metadata": {},
   "source": [
    "To find the primitive integral of the integrand of the above integral, first consider the following two equations:  \n",
    "\n",
    "$$ \\frac{\\mathrm{d}\\cos^2\\theta}{\\mathrm{d}\\theta} = -2\\cos\\theta\\sin\\theta = -\\sin2\\theta$$"
   ]
  },
  {
   "cell_type": "markdown",
   "id": "34622de0-7fb6-4393-a0d7-711c63087758",
   "metadata": {},
   "source": [
    "$$ -\\int\\sin2\\theta\\,\\mathrm{d}\\theta = 0.5\\cos2\\theta + K$$"
   ]
  },
  {
   "cell_type": "markdown",
   "id": "deceebd4-27f9-471b-b715-f2681d8f60be",
   "metadata": {},
   "source": [
    "Via the above two equations and equivalence principle,  \n",
    "\n",
    "$$ 0.5\\cos2\\theta + K = \\cos^2\\theta \\quad\\quad\\text{where }\\,K=0.5$$"
   ]
  },
  {
   "cell_type": "markdown",
   "id": "2d65c994-a679-4e09-80bb-2f1e7ccfeffe",
   "metadata": {},
   "source": [
    "Therefore  \n",
    "\n",
    "$$ 0.5\\cos2\\theta + 0.5 = \\cos^2\\theta$$"
   ]
  },
  {
   "cell_type": "markdown",
   "id": "3f3c5fab-f2dc-4461-9f75-53c58aee853e",
   "metadata": {},
   "source": [
    "Via the above equation, the equation that relates $V$ to the last iteration of the double integral and substitution,  \n",
    "\n",
    "$$ V = \\frac{1}{8}\\int_{-0.5\\pi}^{0.5\\pi}\\big(\\cos2\\theta + 1\\big)\\,\\mathrm{d}\\theta$$"
   ]
  },
  {
   "cell_type": "markdown",
   "id": "1cba77ce-48c0-40b0-b96e-0e1987ba2aef",
   "metadata": {},
   "source": [
    "$$ = \\frac{1}{8}\\left.\\left(\\frac{\\sin2\\theta}{2} + \\theta\\right)\\right]_{\\,-0.5\\pi}^{\\,0.5\\pi}$$"
   ]
  },
  {
   "cell_type": "markdown",
   "id": "a01bae58-3ac3-4c73-932b-49f33504514b",
   "metadata": {},
   "source": [
    "$$ = \\frac{\\pi}{8}$$"
   ]
  },
  {
   "cell_type": "markdown",
   "id": "9b6efd44-99dd-4516-98a8-ad99ac782fbe",
   "metadata": {},
   "source": [
    "### Applications of Double Integration  \n",
    "\n",
    "If no coordinate system is specified for use, you can use either rectangular (rectilinear) or polar coordinates, whichever is easier.  In some of the problems, a good placement of the figure in the coordinate system simplifies the integration a lot."
   ]
  },
  {
   "cell_type": "markdown",
   "id": "7702736f-24d1-4ddb-ae5a-996711c836d6",
   "metadata": {},
   "source": [
    "#### $\\S\\,3\\mathrm{C} : 1$\n",
    "\n",
    "Let $R$ be a right triangle with legs both of length $a$ and density of $1$.  Find the following:"
   ]
  },
  {
   "cell_type": "markdown",
   "id": "300245a1-1889-49ea-a876-216ab52a1bb3",
   "metadata": {},
   "source": [
    "**a)**  Its moment of inertia about a leg."
   ]
  },
  {
   "cell_type": "markdown",
   "id": "757498c8-4e88-42b7-a2b1-c3208ff260ce",
   "metadata": {},
   "source": [
    "Recall that the moment of inertia $I$ of a point mass $m$ about a line is given by:  \n",
    "\n",
    "$$ I = md^2 $$"
   ]
  },
  {
   "cell_type": "markdown",
   "id": "3ac6c653-d4e1-4bab-aa01-5887bffe2fa6",
   "metadata": {},
   "source": [
    "where $d$ is the distance between said point and the line."
   ]
  },
  {
   "cell_type": "markdown",
   "id": "ebab73dc-8d6b-438f-a7e0-40e17d62613b",
   "metadata": {},
   "source": [
    "Finally,  \n",
    "\n",
    "$$ I = \\int_0^a\\int_0^x y^2\\,\\mathrm{d}y\\,\\mathrm{d}x = \\int_0^a\\frac{x^3}{3}\\,\\mathrm{d}x$$"
   ]
  },
  {
   "cell_type": "markdown",
   "id": "ec330bb3-f336-4187-8bdc-7c0a4cfaae71",
   "metadata": {},
   "source": [
    "$$  = \\frac{a^4}{12}$$"
   ]
  },
  {
   "cell_type": "markdown",
   "id": "cf5b8532-0259-451a-b661-c341edacab33",
   "metadata": {},
   "source": [
    "**b)**  Its polar moment of inertia about the right angle vertex.  \n",
    "\n",
    "Said right angle vertex is at origin and the hypotenuse is given by, in rectangular coordinates,  \n",
    "\n",
    "$$ y := f(x) = a-x$$"
   ]
  },
  {
   "cell_type": "markdown",
   "id": "859ae33d-a81d-4a14-89db-1584ef13f9ce",
   "metadata": {},
   "source": [
    "$$ I = \\int_0^a\\int_0^{f(x)}\\big(x^2+y^2\\big)\\,\\mathrm{d}y\\,\\mathrm{d}x$$"
   ]
  },
  {
   "cell_type": "markdown",
   "id": "2551c030-57fa-4f09-9b39-20dcb568022b",
   "metadata": {},
   "source": [
    "$$ = \\int_0^a\\left(x^2f(x) + \\frac{f^3(x)}{3}\\right)\\,\\mathrm{d}x = \\int_0^a\\frac{3x^2f(x) + f^3(x)}{3}\\,\\mathrm{d}x$$"
   ]
  },
  {
   "cell_type": "markdown",
   "id": "850e78fd-e747-4d6d-ae58-2a3816fe6801",
   "metadata": {},
   "source": [
    "$$ = \\int_0^a\\frac{f(x)\\big(3x^2 + (a-x)^2\\big)}{3}\\,\\mathrm{d}x = \\int_0^a\\frac{f(x)\\big(4x^2 - 2ax + a^2\\big)}{3}\\,\\mathrm{d}x$$"
   ]
  },
  {
   "cell_type": "markdown",
   "id": "0bcdd0a5-06ea-432e-9536-7e4ed1ebbe48",
   "metadata": {},
   "source": [
    "$$ = \\frac{1}{3}\\int_0^a \\big(4ax^2 - 2a^2x + a^3 - 4x^3 + 2ax^2 - a^2x\\big)\\,\\mathrm{d}x$$"
   ]
  },
  {
   "cell_type": "markdown",
   "id": "4fb081bb-c7d4-4e31-9d23-ec4660ff9601",
   "metadata": {},
   "source": [
    "$$ = \\frac{1}{3}\\int_0^a\\big(6ax^2 -4x^3 - 3a^2x + a^3\\big)\\,\\mathrm{d}x$$"
   ]
  },
  {
   "cell_type": "markdown",
   "id": "15ddf21f-f514-44f7-8e94-6299962d1acd",
   "metadata": {},
   "source": [
    "$$ = \\frac{1}{3}\\left(2a^4 - a^4 - \\frac{3}{2}a^4 + a^4\\right)$$"
   ]
  },
  {
   "cell_type": "markdown",
   "id": "b74fd0d1-9aaa-43a2-85f2-909b6a15ce66",
   "metadata": {},
   "source": [
    "$$ = \\frac{a^4}{3}\\left(2-\\frac{3}{2}\\right) = \\frac{a^4}{6}$$"
   ]
  },
  {
   "cell_type": "markdown",
   "id": "fbe85ae2-384d-4c3a-a2db-f48c5903c6f1",
   "metadata": {},
   "source": [
    "**c)**  Its moment of inertia about the hypotenuse."
   ]
  },
  {
   "cell_type": "markdown",
   "id": "be28c33d-739e-426b-a922-0e08a8c81019",
   "metadata": {},
   "source": [
    "Suppose our triangle $R$ is situated such that its hypotenuse rests on the $x$-axis and one of its vertices that are adjacent to the hypotenuse is at origin.  To find the moment of inertia $I$ about it's hypotenuse we will divide $R$ into two subregions, $R_1$ and $R_2$, by dropping a perpendicular from it's right-angle vertex.  The triangle $R_1$ is bounded by $y=x$, $x:=f(y)=a/\\sqrt{2}$ (which the dropped perpendicular rests on), and the $x$-axis."
   ]
  },
  {
   "cell_type": "markdown",
   "id": "271b659b-647c-4b81-8046-2d7b22eb4c21",
   "metadata": {},
   "source": [
    "Via symmetry,  \n",
    "\n",
    "$$ I = \\int\\!\\int_R y^2\\,\\mathrm{d}A = 2\\int\\!\\int_{R_1} y^2\\,\\mathrm{d}A = 2\\int\\!\\int_{R_2}y^2\\,\\mathrm{d}A$$"
   ]
  },
  {
   "cell_type": "markdown",
   "id": "1a4aa948-ffa0-4259-9c12-603b083d8fc3",
   "metadata": {},
   "source": [
    "Thus,  \n",
    "\n",
    "$$ I = 2\\int\\!\\int_{R_1} y^2\\,\\mathrm{d}A = 2\\int_0^{f(y)}\\int_0^x y^2\\,\\mathrm{d}y\\,\\mathrm{d}x$$"
   ]
  },
  {
   "cell_type": "markdown",
   "id": "55f2665d-37e0-456c-b4f4-5aca5573123e",
   "metadata": {},
   "source": [
    "$$ = \\frac{2}{3}\\int_0^{f(y)}x^3\\,\\mathrm{d}x = \\frac{f^4(y)}{6} = \\frac{a^4}{24}$$"
   ]
  },
  {
   "cell_type": "markdown",
   "id": "a5577116-b924-4acc-b216-52fb9aa62f3e",
   "metadata": {},
   "source": [
    "#### $\\S\\,3\\mathrm{C} : 2$\n",
    "\n",
    "Find the center of mass $\\mathbf{x}_\\mathit{cm}$ of the region $R$ inside one arch of $y:=f(x)=\\sin x$ if:"
   ]
  },
  {
   "cell_type": "markdown",
   "id": "dac693a3-f618-44db-8261-f7bcfdb53a39",
   "metadata": {},
   "source": [
    "**a)** $ \\delta := \\delta(x,y) = 1$"
   ]
  },
  {
   "cell_type": "markdown",
   "id": "17c849c4-e4f1-405c-93c0-488af4c68e9a",
   "metadata": {},
   "source": [
    "The $x$ and $y$ coordinates of the center of mass are given by:  \n",
    "\n",
    "$$ \\mathbf{x}_\\mathit{cm} := \\langle x_\\mathit{cm},y_\\mathit{cm}\\rangle = \\frac{\\int\\!\\int_R \\delta \\cdot \\langle x,y\\rangle\\,\\mathrm{d}A}{\\int\\!\\int_R\\,\\mathrm{d}A}$$"
   ]
  },
  {
   "cell_type": "markdown",
   "id": "8a856021-8b59-498e-9f94-a4c4870c052f",
   "metadata": {},
   "source": [
    "The are of the region $R$ and the total mass $M$ of the region are:  \n",
    "\n",
    "$$ M = \\text{area } R = \\int\\!\\int_R\\,\\mathrm{d}A = \\int_0^\\pi \\sin x\\,\\mathrm{d}x = \\big.-\\cos x\\big]_{\\,0}^{\\,\\pi} = 1 + 1 = 2$$"
   ]
  },
  {
   "cell_type": "markdown",
   "id": "4ae2dd77-9c72-4ae1-b3f5-505783a26239",
   "metadata": {},
   "source": [
    "The $x$-coordinate of the center of mass is:  \n",
    "\n",
    "$$ x_\\mathit{cm} = 0.5\\int\\!\\int_R x\\,\\mathrm{d}A = 0.5\\int_0^\\pi\\int_0^{f(x)}x\\,\\mathrm{d}y\\,\\mathrm{d}x$$"
   ]
  },
  {
   "cell_type": "markdown",
   "id": "2d7a96a6-2e20-419f-9cfa-566570cdc164",
   "metadata": {},
   "source": [
    "$$ = 0.5\\int_0^\\pi x\\sin x\\,\\mathrm{d} x$$"
   ]
  },
  {
   "cell_type": "markdown",
   "id": "d29085a1-c32a-4276-8bc1-ef4b2add2984",
   "metadata": {},
   "source": [
    "The primitive integral of the above integrand is:  \n",
    "\n",
    "$$ \\int x\\sin x\\,\\mathrm{d}x = -x\\cos x + \\int \\cos x\\,\\mathrm{d} x = \\sin x-x\\cos x + K$$"
   ]
  },
  {
   "cell_type": "markdown",
   "id": "1dd9acdd-5559-4ab0-b14d-20d0e0861928",
   "metadata": {},
   "source": [
    "Thus, finally,  \n",
    "\n",
    "$$ x_\\mathit{cm} = 0.5\\big. \\big(\\sin x - x\\cos x\\big)\\big]_{\\,0}^{\\,\\pi}$$"
   ]
  },
  {
   "cell_type": "markdown",
   "id": "37adccb6-c470-4862-b5d3-f66f5899d0c8",
   "metadata": {},
   "source": [
    "$$ = 0.5\\pi$$"
   ]
  },
  {
   "cell_type": "markdown",
   "id": "73f3348f-c3c6-4fd0-b7a7-afded5e366e2",
   "metadata": {},
   "source": [
    "The $y$-coordinate of the center of mass is:  \n",
    "\n",
    "$$ y_\\mathit{cm} = 0.25\\int_0^\\pi \\sin^2 x \\,\\mathrm{d}x$$"
   ]
  },
  {
   "cell_type": "markdown",
   "id": "6013bda4-190b-4019-a844-59d0743feec7",
   "metadata": {},
   "source": [
    "$$ \\sin^2 x = 1-\\cos^2 x = 1 - 0.5\\cos2x - 0.5 = 0.5-0.5\\cos2x$$"
   ]
  },
  {
   "cell_type": "markdown",
   "id": "fd06c941-ec46-48b9-b0ff-7801a2992e7c",
   "metadata": {},
   "source": [
    "Thus,  \n",
    "\n",
    "$$ \\int\\sin^2 x\\,\\mathrm{d}x = 0.5x - 0.25\\sin2x + K$$"
   ]
  },
  {
   "cell_type": "markdown",
   "id": "2828d89e-1b85-4268-8973-6c834a9f3fad",
   "metadata": {},
   "source": [
    "And, finally,  \n",
    "\n",
    "$$ y_\\mathit{cm} = \\frac{\\pi}{8}$$"
   ]
  },
  {
   "cell_type": "code",
   "execution_count": 5,
   "id": "2f7ab316-45f8-431e-afa3-3ca0bdd59059",
   "metadata": {
    "tags": []
   },
   "outputs": [
    {
     "data": {
      "text/plain": [
       "0.39269908169872414"
      ]
     },
     "execution_count": 5,
     "metadata": {},
     "output_type": "execute_result"
    }
   ],
   "source": [
    "y_cm = np.pi/8; y_cm"
   ]
  },
  {
   "cell_type": "code",
   "execution_count": 7,
   "id": "73ff7dd1-d478-4540-ba84-bcc1319e9ace",
   "metadata": {
    "jupyter": {
     "source_hidden": true
    },
    "tags": []
   },
   "outputs": [
    {
     "data": {
      "text/plain": [
       "<matplotlib.legend.Legend at 0x7fce8dda84f0>"
      ]
     },
     "execution_count": 7,
     "metadata": {},
     "output_type": "execute_result"
    },
    {
     "data": {
      "image/png": "[encoded data removed]",
      "text/plain": [
       "<Figure size 800x300 with 1 Axes>"
      ]
     },
     "metadata": {},
     "output_type": "display_data"
    }
   ],
   "source": [
    "x = np.linspace(0,np.pi,num=200)\n",
    "f = np.sin(x)\n",
    "\n",
    "fig, ax = plt.subplots(figsize=(8,3))\n",
    "ax.set_xlabel('x-axis')\n",
    "ax.set_ylabel('y-axis')\n",
    "ylim = ax.set_ylim(-0.125,1.125)\n",
    "\n",
    "ax.plot(x,f,color='k',label=r'$\\sin x$')\n",
    "ax.annotate(r'$\\mathbf{x}_\\mathit{cm}$',(np.pi/2,y_cm))\n",
    "ax.legend()"
   ]
  },
  {
   "cell_type": "markdown",
   "id": "7f0f00fb-2ed6-4069-b241-1c7b9430fbb6",
   "metadata": {},
   "source": [
    "**b)** $\\delta:=\\delta(x,y)=y$"
   ]
  },
  {
   "cell_type": "markdown",
   "id": "a76d9935-e1e0-446e-a25c-148e43a7853d",
   "metadata": {},
   "source": [
    "The $x$-coordinate of the center of mass is:  \n",
    "\n",
    "$$ x_\\mathit{cm} = \\frac{1}{M}\\int_0^\\pi\\int_0^{f(x)} xy\\,\\mathrm{d}y\\,\\mathrm{d}x$$"
   ]
  },
  {
   "cell_type": "markdown",
   "id": "02078605-52ce-4daa-814a-3e8df1e131d3",
   "metadata": {},
   "source": [
    "$$ = \\frac{1}{2M}\\int_0^\\pi x\\sin^2x\\,\\mathrm{d}x$$"
   ]
  },
  {
   "cell_type": "markdown",
   "id": "1da8c6a8-63ac-47fe-adb0-e7d327e54d62",
   "metadata": {},
   "source": [
    "where the total mass $M$ is:  \n",
    "\n",
    "$$ M = \\int\\!\\int_R \\delta\\,\\mathrm{d}A = \\int_0^\\pi\\int_0^{f(x)}y\\,\\mathrm{d}y\\,\\mathrm{d}x$$"
   ]
  },
  {
   "cell_type": "markdown",
   "id": "ee57e4ec-9754-4552-8e43-26a8d0d2e60b",
   "metadata": {},
   "source": [
    "$$ = 0.5\\int_0^\\pi \\sin^2 x\\,\\mathrm{d}x$$"
   ]
  },
  {
   "cell_type": "markdown",
   "id": "2a43f830-c88b-495f-b5be-7cf30b2e912a",
   "metadata": {},
   "source": [
    "$$ = 0.25\\int_0^\\pi\\big(1-\\cos2x\\big)\\,\\mathrm{d}x$$"
   ]
  },
  {
   "cell_type": "markdown",
   "id": "12a8c741-9ddb-4dea-8945-c0090d38f833",
   "metadata": {},
   "source": [
    "$$ = 0.25\\big.\\big(x - 0.5\\sin2x\\big)\\big]_{\\,0}^{\\,\\pi}$$"
   ]
  },
  {
   "cell_type": "markdown",
   "id": "c567414d-91ad-4d75-804b-e34d3a2dc6ce",
   "metadata": {},
   "source": [
    "$$ = 0.25\\pi$$"
   ]
  },
  {
   "cell_type": "markdown",
   "id": "de7d3b4b-0040-46c7-b99c-8db8a843f856",
   "metadata": {},
   "source": [
    "Thus, the $x$-coordinate of the center of mass is:  \n",
    "\n",
    "$$ x_\\mathit{cm} = \\frac{2}{\\pi}\\int_0^\\pi x\\sin^2 x\\,\\mathrm{d}x$$"
   ]
  },
  {
   "cell_type": "markdown",
   "id": "c859389d-89ec-4365-aa98-a0699a8b14d8",
   "metadata": {},
   "source": [
    "To find the primitive integral of the above integrand, first consider the following:  \n",
    "\n",
    "$$ x\\sin^2x = x\\big(1-\\cos^2x\\big) = 0.5x\\big(1-\\cos2x\\big)$$"
   ]
  },
  {
   "cell_type": "markdown",
   "id": "e3a83bc6-8a85-4b33-9055-65e48f99c19d",
   "metadata": {},
   "source": [
    "Thus,  \n",
    "\n",
    "$$ \\int x\\sin^2x\\,\\mathrm{d}x = 0.5\\int x\\big(1-\\cos2x\\big)\\,\\mathrm{d}x $$"
   ]
  },
  {
   "cell_type": "markdown",
   "id": "063db80e-84b0-4edf-866a-9d3f5e24770d",
   "metadata": {},
   "source": [
    "$$=  0.25x^2 - 0.5\\int x\\cos2x\\,\\mathrm{d}x$$"
   ]
  },
  {
   "cell_type": "markdown",
   "id": "2467ac5e-8bbd-4ed9-881c-4ce697b78057",
   "metadata": {},
   "source": [
    "The primitive integral found in the right hand side of the above equation is:  \n",
    "\n",
    "$$ \\int x\\cos2x\\,\\mathrm{d}x = 0.5x\\sin2x - 0.5\\int\\sin2x\\,\\mathrm{d}x$$"
   ]
  },
  {
   "cell_type": "markdown",
   "id": "ea298004-8c7e-4f87-9e44-b710198e4cc4",
   "metadata": {},
   "source": [
    "$$ = 0.5x\\sin2x + 0.25\\cos2x + K$$"
   ]
  },
  {
   "cell_type": "markdown",
   "id": "d7599c39-5dc1-47b5-93b2-6a0a7d3bc7bc",
   "metadata": {},
   "source": [
    "Therefore  \n",
    "\n",
    "$$ \\int x\\sin^2x\\,\\mathrm{d}x = 0.25x^2 - 0.5\\big(0.5x\\sin2x + 0.25\\cos2x + K\\big)$$"
   ]
  },
  {
   "cell_type": "markdown",
   "id": "8e763903-e2c3-42f2-bbff-e3694597e037",
   "metadata": {},
   "source": [
    "And, finally,  \n",
    "\n",
    "$$ x_\\mathit{cm} = \\frac{2}{\\pi}\\Big.\\Big(0.25x^2 - 0.5\\big(0.5x\\sin2x + 0.25\\cos2x\\Big)\\Big]_{\\,0}^{\\,\\pi}$$"
   ]
  },
  {
   "cell_type": "markdown",
   "id": "d98e4888-1ed7-4a34-9a3a-e8c51f9f7ad9",
   "metadata": {},
   "source": [
    "$$ = \\frac{2}{\\pi}\\big(0.25\\pi^2 - 0.125\\big) + \\frac{1}{4\\pi}$$"
   ]
  },
  {
   "cell_type": "markdown",
   "id": "7d8be6bd-debb-4053-bb65-71012cc68fc2",
   "metadata": {},
   "source": [
    "$$= \\frac{\\pi}{2}$$"
   ]
  },
  {
   "cell_type": "markdown",
   "id": "36a32afc-30e0-4633-8b28-7f6555a55b0d",
   "metadata": {},
   "source": [
    "And, the $y$-coordinate of the center of mass is:  \n",
    "\n",
    "$$ y_\\mathit{cm} = \\frac{4}{\\pi}\\int_0^\\pi\\int_0^{f(x)}y^2\\,\\mathrm{d}y\\,\\mathrm{d}x$$"
   ]
  },
  {
   "cell_type": "markdown",
   "id": "eb054b5c-f330-4287-a340-73ad6916ba1c",
   "metadata": {},
   "source": [
    "$$ = \\frac{4}{3\\pi}\\int_0^\\pi \\sin^3 x\\,\\mathrm{d}x$$"
   ]
  },
  {
   "cell_type": "markdown",
   "id": "54fda4b3-2e72-48f7-a65f-4ef1bff3b5c1",
   "metadata": {},
   "source": [
    "To find the primitive integral of the above integrand, first consider that:  \n",
    "\n",
    "$$ g(x):=-\\sin^2x\\cos x \\quad\\implies\\quad g'(x) = \\sin^3x - 2\\sin x\\cos^2 x$$"
   ]
  },
  {
   "cell_type": "markdown",
   "id": "0be76953-0d5f-4f38-bcab-e23caed73ec2",
   "metadata": {},
   "source": [
    "$$ h(x) := g(x)-\\frac{2}{3}\\cos^3 x\\quad\\implies\\quad h'(x) = \\sin^3 x$$"
   ]
  },
  {
   "cell_type": "markdown",
   "id": "c188f85a-3799-4103-b53c-e2c63fccb85d",
   "metadata": {},
   "source": [
    "Thus,  \n",
    "\n",
    "$$ \\int h'(x)\\,\\mathrm{d}x = h(x) + K$$"
   ]
  },
  {
   "cell_type": "markdown",
   "id": "ea7ce4d3-cad0-4cd7-899c-9e162ef79fce",
   "metadata": {},
   "source": [
    "and, finally,   \n",
    "\n",
    "$$ y_\\mathit{cm} = \\left.\\frac{4}{3\\pi}h(x)\\right]_{\\,0}^{\\,\\pi}$$"
   ]
  },
  {
   "cell_type": "markdown",
   "id": "98accc0c-6bfd-43d2-89b4-a7602d79b072",
   "metadata": {},
   "source": [
    "$$ = \\frac{4}{3\\pi}\\big(h(\\pi) - h(0)\\big) = \\frac{4}{3\\pi}\\left(\\frac{2}{3} + \\frac{2}{3}\\right)$$"
   ]
  },
  {
   "cell_type": "markdown",
   "id": "19e8aa5c-af39-4bac-8912-803e6e717eae",
   "metadata": {},
   "source": [
    "$$ = \\frac{16}{9\\pi}$$"
   ]
  },
  {
   "cell_type": "code",
   "execution_count": 9,
   "id": "8527e06d-0716-4768-bedf-0e188f512dd2",
   "metadata": {
    "tags": []
   },
   "outputs": [
    {
     "data": {
      "text/plain": [
       "0.5658842421045168"
      ]
     },
     "execution_count": 9,
     "metadata": {},
     "output_type": "execute_result"
    }
   ],
   "source": [
    "y_cm = 16/(9*np.pi); y_cm"
   ]
  },
  {
   "cell_type": "code",
   "execution_count": 11,
   "id": "5a85bf92-3911-4ccb-8696-37a878db9e7e",
   "metadata": {
    "collapsed": true,
    "jupyter": {
     "outputs_hidden": true,
     "source_hidden": true
    },
    "tags": []
   },
   "outputs": [
    {
     "data": {
      "text/plain": [
       "<matplotlib.legend.Legend at 0x7fce842989d0>"
      ]
     },
     "execution_count": 11,
     "metadata": {},
     "output_type": "execute_result"
    },
    {
     "data": {
      "image/png": "[encoded data removed]",
      "text/plain": [
       "<Figure size 800x300 with 2 Axes>"
      ]
     },
     "metadata": {},
     "output_type": "display_data"
    }
   ],
   "source": [
    "x = np.linspace(0,np.pi,num=200)\n",
    "X = np.linspace(0,np.pi,num=50)\n",
    "y = np.linspace(0,1,num=50)\n",
    "X, Y = np.meshgrid(X,y)\n",
    "\n",
    "d = Y\n",
    "f = np.sin(x)\n",
    "\n",
    "fig, ax = plt.subplots(figsize=(8,3))\n",
    "ax.set_xlabel('x-axis')\n",
    "ax.set_ylabel('y-axis')\n",
    "ax.set_ylim(-0.125,1.125)\n",
    "\n",
    "ax.plot(x,f,color='k',label=r'$\\sin x$')\n",
    "cs = ax.contour(X,Y,d,levels=12)\n",
    "cb = fig.colorbar(cs)\n",
    "ax.annotate(r'$\\mathbf{x}_\\mathit{cm}$', (np.pi/2,y_cm))\n",
    "ax.legend()"
   ]
  },
  {
   "cell_type": "markdown",
   "id": "3e4859bc-5fdc-4713-94cf-669397971a00",
   "metadata": {},
   "source": [
    "#### $\\S\\,3\\mathrm{C}:3$\n",
    "\n",
    "$D$ is a diameter of a disc of radius $a$, and $C$ is a chord that is parallel to $D$ with a distance $c$ from it.  $C$ divides the disc into two segments;  let $R$ be the smaller one.  Assuming $\\delta = 1$, find the moment (of inertia) of $R$ about $D$, giving the answer in simplest form and using **a)** rectangular coordinates and **b)** polar coordinates."
   ]
  },
  {
   "cell_type": "markdown",
   "id": "e87fb02c-8870-4a5f-aa74-f8ee42633f38",
   "metadata": {},
   "source": [
    "**a)** If our disc has it's center at origin and $D$ rests on the $x$-axis then $R$ is bounded by  \n",
    "\n",
    "$$ y := f(x) = \\sqrt{a^2-x^2} \\quad\\quad\\text{and}\\quad\\quad y = c$$"
   ]
  },
  {
   "cell_type": "markdown",
   "id": "67cb3729-478b-4e67-b4fe-d590b0e188da",
   "metadata": {},
   "source": [
    "The outer integral is from $-b$ to $b$ and is with respect to $x$, where  \n",
    "\n",
    "$$ c^2+b^2 = a^2 \\quad\\therefore\\quad b = \\sqrt{a^2-c^2}$$"
   ]
  },
  {
   "cell_type": "markdown",
   "id": "55533c51-a2d4-4a5a-bffc-5f4b5895731c",
   "metadata": {},
   "source": [
    "The moment of intertia $I$ is:  \n",
    "\n",
    "$$ I = \\int\\!\\int_R y^2\\,\\mathrm{d}A = \\int_{-b}^b\\int_c^{f(x)} y^2\\,\\mathrm{d}y\\,\\mathrm{d}x$$"
   ]
  },
  {
   "cell_type": "markdown",
   "id": "1d20a20b-d5e6-45dd-a5da-1404752eeb6f",
   "metadata": {},
   "source": [
    "$$ = \\frac{1}{3}\\int_{-b}^b \\big(f^3(x) - c^3\\big)\\,\\mathrm{d}x$$"
   ]
  },
  {
   "cell_type": "markdown",
   "id": "a37932ab-bb52-4cf3-a794-92921307ae28",
   "metadata": {},
   "source": [
    "$$ = \\frac{1}{3}\\int_{-b}^b\\sqrt{\\big(a^2-x^2\\big)^3}\\,\\mathrm{d}x - \\frac{1}{3}\\int_{-b}^b c^3\\,\\mathrm{d}x$$"
   ]
  },
  {
   "cell_type": "markdown",
   "id": "4c4a0828-4b6d-45b5-9637-469d0f1a0073",
   "metadata": {},
   "source": [
    "$$ \\frac{1}{3}\\int_{-b}^b c^3\\,\\mathrm{d}x = \\frac{2c^3b}{3}$$"
   ]
  },
  {
   "cell_type": "markdown",
   "id": "d5f69f6e-8d6e-465c-9284-1a3ceabdd159",
   "metadata": {},
   "source": [
    "Let's trying changing the order of integration.  The region $R$ is now bounded by:  \n",
    "\n",
    "$$ x := f(y) = \\sqrt{a^2-y^2} \\quad\\quad x = -f(y) \\quad\\quad x= c$$"
   ]
  },
  {
   "cell_type": "markdown",
   "id": "d85e6780-1fb7-4773-9062-cc8afe211b81",
   "metadata": {},
   "source": [
    "The outer integral is from $c$ to $a$ and is with respect to $y$.  \n",
    "\n",
    "$$ I = \\int_c^a\\int_{-f(y)}^{f(y)} y^2\\,\\mathrm{d}x\\,\\mathrm{d}y$$"
   ]
  },
  {
   "cell_type": "markdown",
   "id": "da457e99-bbb8-471b-993e-f7de6bee1245",
   "metadata": {},
   "source": [
    "$$ = \\int_c^a 2y^2f(y)\\,\\mathrm{d}y$$"
   ]
  },
  {
   "cell_type": "markdown",
   "id": "165fd005-f874-4f7f-8ddc-d376739ac4c0",
   "metadata": {},
   "source": [
    "Since the above integral seems impossible to compute, let's try a different approach.  Suppose our disc has it's center at origin, but $D$ rests on the line given by $y=-x$.  The chord $C$ rests on the line given by:  \n",
    "\n",
    "$$ y := g(x) = c\\sqrt{2}-x$$"
   ]
  },
  {
   "cell_type": "markdown",
   "id": "d3d10919-6759-4354-af50-9a2da2cc5bb6",
   "metadata": {},
   "source": [
    "The circle that bounds our disc is of course still given by  \n",
    "\n",
    "$$ y:= f(x) = \\sqrt{a^2-x^2}$$"
   ]
  },
  {
   "cell_type": "markdown",
   "id": "78527818-8216-4514-94ad-33aef67e6591",
   "metadata": {},
   "source": [
    "The integrand to the double integral that is equal to $I$ is equal to the compliment of the position vector, denoted as '$\\mathbf{r}$', in the direction that is perpendicular to $D$.  \n",
    "\n",
    "$$ d = \\mathbf{r}\\cdot\\frac{\\langle 1, 1\\rangle}{\\sqrt{2}} = \\frac{x + y}{\\sqrt{2}}$$"
   ]
  },
  {
   "cell_type": "markdown",
   "id": "e2c2d58b-1a78-459d-94f1-3af0c7c53e4c",
   "metadata": {},
   "source": [
    "Thus,  \n",
    "\n",
    "$$ I = \\int\\!\\int_R d^2\\,\\mathrm{d}A $$"
   ]
  },
  {
   "cell_type": "markdown",
   "id": "e7f61042-f5d0-4c35-90a5-667ed056d5db",
   "metadata": {},
   "source": [
    "The outer integral is from $x_1$ to $x_2$ where $\\{x_1,x_2\\}$ is the solution to the following equation:   \n",
    "\n",
    "$$ a^2-x^2 = 2c^2 - 2\\sqrt{2}cx + x^2$$"
   ]
  },
  {
   "cell_type": "markdown",
   "id": "743a12f2-22fe-42c0-b0e1-3aa6d6c2f6b5",
   "metadata": {},
   "source": [
    "$$ 2x^2 -2\\sqrt{2}cx + 2c^2 - a^2 = 0$$"
   ]
  },
  {
   "cell_type": "markdown",
   "id": "c5d06914-b7f2-4610-b039-78c916bc5321",
   "metadata": {},
   "source": [
    "$$ x = \\frac{2\\sqrt{2}c\\pm\\sqrt{8c^2 - 8\\big(2c^2-a^2\\big)}}{4}$$"
   ]
  },
  {
   "cell_type": "markdown",
   "id": "afe40e84-6194-4229-a6f6-3c0ac792547f",
   "metadata": {},
   "source": [
    "$$ = \\frac{1\\pm\\sqrt{a^2-c^2}}{\\sqrt{2}}$$"
   ]
  },
  {
   "cell_type": "markdown",
   "id": "116ead9c-eb95-4fec-a8e2-6ed329517734",
   "metadata": {},
   "source": [
    "Thus,  \n",
    "\n",
    "$$ I = 0.5\\int_{x_1}^{x_2}\\int_{g(x)}^{f(x)}\\big(y^2+2xy+x^2\\big)\\,\\mathrm{d}y\\,\\mathrm{d}x $$"
   ]
  },
  {
   "cell_type": "markdown",
   "id": "e10462f6-03d5-452c-a1f7-75fcdbc02936",
   "metadata": {},
   "source": [
    "$$ = \\frac{1}{2}\\int_{x_1}^{x_2}\\left(\\frac{f^3(x)-g^3(x)}{3} + x\\big(f^2(x)-g^2(x)\\big) + x^2\\big(f(x)-g(x)\\big)\\right)\\,\\mathrm{d}x$$"
   ]
  },
  {
   "cell_type": "markdown",
   "id": "c27b6250-08d0-479e-a858-68a5f70329e9",
   "metadata": {},
   "source": [
    "**b)**  If our disc has it's center at origin and the diameter rests on the $x$-axis then $C$ rests on the line given by:  \n",
    "\n",
    "$$ r:=r(\\theta) = c\\csc\\theta$$"
   ]
  },
  {
   "cell_type": "markdown",
   "id": "f46f74d5-a202-4a40-8723-7ab44237bb7c",
   "metadata": {},
   "source": [
    "The outer integral is from $\\theta_1$ to $\\theta_2$ where  \n",
    "\n",
    "$$ \\theta_1 = \\arcsin \\frac{c}{a} \\quad\\quad\\text{and}\\quad\\quad \\theta_2 = \\pi - \\theta_1$$"
   ]
  },
  {
   "cell_type": "markdown",
   "id": "cd23b8c9-3672-46e5-9ade-8737215413cc",
   "metadata": {},
   "source": [
    "Thus,  \n",
    "\n",
    "$$ I = \\int\\!\\int_R r^2\\sin^2\\theta\\,\\mathrm{d}A = \\int_{\\theta_1}^{\\theta_2}\\int_{r(\\theta)}^a r^3\\sin^2\\theta\\,\\mathrm{d}r\\,\\mathrm{d}\\theta$$"
   ]
  },
  {
   "cell_type": "markdown",
   "id": "ce422390-4c8c-433e-afea-287b93e08967",
   "metadata": {},
   "source": [
    "$$ = \\frac{1}{4}\\int_{\\theta_1}^{\\theta_2} \\sin^2\\theta\\big(a^4 - r^4(\\theta)\\big)\\,\\mathrm{d}\\theta$$"
   ]
  },
  {
   "cell_type": "markdown",
   "id": "41a31eab-074d-4022-aabb-508a2c2f8ecb",
   "metadata": {},
   "source": [
    "$$ = I_1 - I_2$$"
   ]
  },
  {
   "cell_type": "markdown",
   "id": "50b67b50-913e-41df-8a71-efd1232aacb2",
   "metadata": {},
   "source": [
    "where  \n",
    "\n",
    "$$ I_1 = \\frac{a^4}{4}\\int_{\\theta_1}^{\\theta_2}\\sin^2\\theta\\,\\mathrm{d}\\theta = \\frac{a^4}{8}\\int_{\\theta_1}^{\\theta_2}\\big(1-\\cos2\\theta\\big)\\,\\mathrm{d}\\theta$$"
   ]
  },
  {
   "cell_type": "markdown",
   "id": "32f7ff18-2b61-4ce5-ac9a-f59f56867070",
   "metadata": {},
   "source": [
    "$$ = \\frac{a^4}{8}\\big(\\theta_2-\\theta_1\\big) - \\frac{a^4}{8}\\int_{\\theta_1}^{\\theta_2}\\cos2\\theta\\,\\mathrm{d}\\theta$$"
   ]
  },
  {
   "cell_type": "markdown",
   "id": "843a6761-5257-4108-bf35-0c5e8a7eee65",
   "metadata": {},
   "source": [
    "$$ = \\frac{a^4}{8}\\Big(\\theta_2-\\theta_1 - 0.5\\big(\\sin2\\theta_2 - \\sin2\\theta_1\\big) \\Big)$$"
   ]
  },
  {
   "cell_type": "markdown",
   "id": "5b455aba-28df-4aa0-a23c-1d88c89ebc34",
   "metadata": {},
   "source": [
    "$$ = \\frac{a^4}{8}\\left(\\pi - 2\\theta_1 + \\frac{c}{2a} + \\frac{c}{a}\\,\\cos\\theta_1\\right)$$"
   ]
  },
  {
   "cell_type": "markdown",
   "id": "2772a478-ab6f-4676-85f6-4e5229fc22ed",
   "metadata": {},
   "source": [
    "and,  \n",
    "\n",
    "$$ I_2 = \\frac{c^4}{4}\\int_{\\theta_1}^{\\theta_2}\\csc^2\\theta\\,\\mathrm{d}\\theta$$"
   ]
  },
  {
   "cell_type": "markdown",
   "id": "a3e46dda-641c-417c-9f01-dce2f9fd1812",
   "metadata": {},
   "source": [
    "Let $g(\\theta):=\\cot\\theta$.  \n",
    "\n",
    "$$ g'(\\theta) = -\\cot^2\\theta-1 = -\\csc^2\\theta$$"
   ]
  },
  {
   "cell_type": "markdown",
   "id": "46ffc462-626c-4885-999c-5e3522217f01",
   "metadata": {},
   "source": [
    "Thus,  \n",
    "\n",
    "$$ I_2 = -\\frac{c^4}{4}\\big(\\cot\\theta_2 - \\cot\\theta_1\\big) $$"
   ]
  },
  {
   "cell_type": "markdown",
   "id": "af0f09b3-7c48-4b5f-a748-1251e9738191",
   "metadata": {},
   "source": [
    "$$ = \\frac{c^4}{4}\\left(\\frac{a}{c}\\cos\\theta_1 + \\frac{a}{c}\\cos\\theta_1\\right)$$"
   ]
  },
  {
   "cell_type": "markdown",
   "id": "4e572cc4-82f3-40d2-93d8-10b8986e6306",
   "metadata": {},
   "source": [
    "$$ = \\frac{c^3a}{2}\\cos\\theta_1$$"
   ]
  },
  {
   "cell_type": "markdown",
   "id": "f682245f-ee00-43ad-8fb8-9ae56de954ed",
   "metadata": {},
   "source": [
    "#### $\\S\\,3\\mathrm{C} : 4$\n",
    "\n",
    "Find the center of gravity of a sector of a circular disc of radius $a$, whose vertex angle\n",
    "is $2\\alpha$. Take $\\delta = 1$."
   ]
  },
  {
   "cell_type": "markdown",
   "id": "64b8b34c-a0d9-4370-92d5-ac6ff0f3f704",
   "metadata": {},
   "source": [
    "The total mass of the sector, henceforth $R$, is given by:  \n",
    "\n",
    "$$ M = \\int\\!\\int_R \\delta \\,\\mathrm{d}A = \\int_0^{2\\alpha}\\int_0^a r\\,\\mathrm{d}r\\,\\mathrm{d}\\theta$$"
   ]
  },
  {
   "cell_type": "markdown",
   "id": "38d64944-a431-4440-8165-92d38b60c1ef",
   "metadata": {},
   "source": [
    "$$ = \\alpha a^2$$"
   ]
  },
  {
   "cell_type": "markdown",
   "id": "519c31da-1be3-49c3-9236-23dd0aa2f897",
   "metadata": {},
   "source": [
    "$$ x_\\mathit{cm} = \\frac{\\int\\!\\int_R x\\,\\mathrm{d}A}{M} = \\frac{1}{M}\\int_0^{2\\alpha}\\int_0^a r^2\\cos\\theta\\,\\mathrm{d}r\\,\\mathrm{d}\\theta$$"
   ]
  },
  {
   "cell_type": "markdown",
   "id": "63a51bcd-2d95-46b4-981f-fef9db224245",
   "metadata": {},
   "source": [
    "$$ = \\frac{a^3}{3M}\\int_0^{2\\alpha} \\cos\\theta\\,\\mathrm{d}\\theta$$"
   ]
  },
  {
   "cell_type": "markdown",
   "id": "e1693fb3-a456-4424-831e-18cab3fe48b7",
   "metadata": {},
   "source": [
    "$$ = \\frac{a}{3\\alpha}\\sin2\\alpha$$"
   ]
  },
  {
   "cell_type": "markdown",
   "id": "f990ed5a-014d-4f49-bb2f-7a0eb453a38a",
   "metadata": {},
   "source": [
    "$$ y_\\mathit{cm} = \\frac{1}{M}\\int\\!\\int_R y\\,\\mathrm{d}A = \\frac{1}{M}\\int_0^{2\\alpha}\\int_0^a r^2\\sin\\theta\\,\\mathrm{d}r\\,\\mathrm{d}\\theta$$"
   ]
  },
  {
   "cell_type": "markdown",
   "id": "f6239896-d680-4fa4-9406-a5f57e188f90",
   "metadata": {},
   "source": [
    "$$ = \\frac{a}{3\\alpha}\\int_0^{2\\alpha}\\sin\\theta\\,\\mathrm{d}\\theta = -\\frac{a}{3\\alpha}\\big(\\cos2\\alpha - 1\\big)$$"
   ]
  },
  {
   "cell_type": "markdown",
   "id": "b263f4fe-f86a-4b69-ba4d-2bf944196f2b",
   "metadata": {},
   "source": [
    "$$ = \\frac{a}{3\\alpha}\\big(1-\\cos2\\alpha\\big)$$"
   ]
  },
  {
   "cell_type": "code",
   "execution_count": 6,
   "id": "d2ea8862-b91f-4d06-bf72-4da5b68c0639",
   "metadata": {
    "jupyter": {
     "source_hidden": true
    },
    "tags": []
   },
   "outputs": [
    {
     "data": {
      "text/plain": [
       "Text(0.5513288954217921, 0.31830988618379064, '$\\\\mathbf{x}_\\\\mathit{cm}$')"
      ]
     },
     "execution_count": 6,
     "metadata": {},
     "output_type": "execute_result"
    },
    {
     "data": {
      "image/png": "[encoded data removed]",
      "text/plain": [
       "<Figure size 640x480 with 1 Axes>"
      ]
     },
     "metadata": {},
     "output_type": "display_data"
    }
   ],
   "source": [
    "a = 1\n",
    "alpha = np.pi/6\n",
    "x = np.linspace(0,1,num=200)\n",
    "\n",
    "f = np.sqrt(a**2-x**2)\n",
    "x_cm = a*np.sin(2*alpha)/(3*alpha)\n",
    "y_cm = a*(1-np.cos(2*alpha))/(3*alpha)\n",
    "\n",
    "fig, ax = plt.subplots()\n",
    "ax.set_xlabel('x-axis')\n",
    "ax.set_ylabel('y-axis')\n",
    "ax.set_ylim(-0.125,1)\n",
    "\n",
    "ax.plot(x,f,color='k')\n",
    "ax.plot(x,np.tan(2*alpha)*x,color='k')\n",
    "ax.plot(np.linspace(0,1,num=25),[0 for i in range(25)],color='k')\n",
    "ax.annotate(r'$\\mathbf{x}_\\mathit{cm}$',(x_cm,y_cm))"
   ]
  },
  {
   "cell_type": "markdown",
   "id": "484d841c-471a-48c4-afa5-41361c73f0da",
   "metadata": {},
   "source": [
    "#### $\\S\\,3\\mathrm{C} : 5$\n",
    "\n",
    "Find the polar moment of inertia of one loop of the lemniscate $r^2 = a^2\\cos2\\theta$ about\n",
    "the origin. Take $\\delta = 1$."
   ]
  },
  {
   "cell_type": "markdown",
   "id": "11ead3bc-65ea-419e-9a4e-d687463be72c",
   "metadata": {},
   "source": [
    "$$ r_1 := r_1(\\theta) = a\\sqrt{\\cos2\\theta} \\quad\\quad\\text{and}\\quad\\quad r_2 := r_2(\\theta) = -a\\sqrt{\\cos2\\theta}$$"
   ]
  },
  {
   "cell_type": "markdown",
   "id": "aaea5450-d276-4750-8f3b-0ea645937223",
   "metadata": {},
   "source": [
    "where,  \n",
    "\n",
    "$$ -0.5\\pi \\le 2\\theta \\le 0.5\\pi \\quad\\therefore\\quad -0.25\\pi \\le \\theta \\le 0.25\\pi$$"
   ]
  },
  {
   "cell_type": "markdown",
   "id": "dae1a568-02a1-4c14-a8ac-e1a759423206",
   "metadata": {},
   "source": [
    "or  \n",
    "\n",
    "$$ 0.75\\pi \\le \\theta \\le 1.25\\pi$$"
   ]
  },
  {
   "cell_type": "markdown",
   "id": "d7fc0aef-e4f4-4789-b274-b8694450871d",
   "metadata": {},
   "source": [
    "Thus,  \n",
    "\n",
    "$$ I = \\int\\!\\int_R r^2\\,\\mathrm{d}A = 2\\int\\!\\int_{R_1} r^2\\,\\mathrm{d}A = 2\\int_{\\theta_1}^{\\theta_2}\\int_0^{r_1} r^3\\,\\mathrm{d}r\\,\\mathrm{d}\\theta$$"
   ]
  },
  {
   "cell_type": "markdown",
   "id": "3bb255b8-be7c-4e65-a89d-92b6f36b5196",
   "metadata": {},
   "source": [
    "$$ = \\frac{a^4}{2}\\int_{\\theta_1}^{\\theta_2}\\cos^2 2\\theta\\,\\mathrm{d}\\theta$$"
   ]
  },
  {
   "cell_type": "markdown",
   "id": "0f264b71-4428-4b2c-8c9e-a8b700023a7c",
   "metadata": {},
   "source": [
    "$$ = \\frac{a^4}{4}\\big(\\theta_2-\\theta_1\\big) + \\frac{a^4}{4}\\int_{\\theta_1}^{\\theta_2}\\cos4\\theta\\,\\mathrm{d}\\theta$$"
   ]
  },
  {
   "cell_type": "markdown",
   "id": "00d6bb26-8733-4240-a426-d9be37c6f1a9",
   "metadata": {},
   "source": [
    "$$ = \\frac{a^4}{4}\\Big(0.5\\pi + 0.5\\sin0.25\\pi\\Big)$$"
   ]
  },
  {
   "cell_type": "markdown",
   "id": "8402ecc9-6e8c-449b-b9a3-b6d822022291",
   "metadata": {},
   "source": [
    "Finally,  \n",
    "\n",
    "$$ I = \\frac{a^4}{8}\\left(\\pi + \\frac{1}{\\sqrt{2}}\\right)$$"
   ]
  },
  {
   "cell_type": "code",
   "execution_count": 34,
   "id": "a0a1e271-bea5-4bf3-8184-bd7ced1fd12c",
   "metadata": {
    "jupyter": {
     "source_hidden": true
    },
    "tags": []
   },
   "outputs": [
    {
     "data": {
      "text/plain": [
       "[<matplotlib.lines.Line2D at 0x7efd8a7703d0>,\n",
       " <matplotlib.lines.Line2D at 0x7efd8a7705e0>]"
      ]
     },
     "execution_count": 34,
     "metadata": {},
     "output_type": "execute_result"
    },
    {
     "data": {
      "image/png": "[encoded data removed]",
      "text/plain": [
       "<Figure size 640x480 with 1 Axes>"
      ]
     },
     "metadata": {},
     "output_type": "display_data"
    }
   ],
   "source": [
    "a = 1\n",
    "t_1 = np.linspace(-0.25*np.pi,0.25*np.pi,num=100)\n",
    "t_2 = np.linspace(0.75*np.pi,1.25*np.pi,num=100)\n",
    "theta = np.hstack((t_1,t_2))\n",
    "theta[100]=theta[101]\n",
    "\n",
    "r_1 = a*np.sqrt(np.cos(2*theta))\n",
    "r_1[100]=0\n",
    "\n",
    "fig, ax = plt.subplots(subplot_kw=dict(projection='polar'))\n",
    "ax.grid()\n",
    "\n",
    "ax.plot(theta,r_1,color='k')\n",
    "ax.plot(t_1,[0.2 for i in range(len(t_1))],t_2,[0.2 for i in range(len(t_2))],color='grey',ls='--')"
   ]
  },
  {
   "cell_type": "code",
   "execution_count": 27,
   "id": "ba0fd68a-19c9-4ecb-8612-0116822128c1",
   "metadata": {
    "tags": []
   },
   "outputs": [
    {
     "data": {
      "text/plain": [
       "0.48108742934704257"
      ]
     },
     "execution_count": 27,
     "metadata": {},
     "output_type": "execute_result"
    }
   ],
   "source": [
    "I = (np.pi+1/np.sqrt(2))*(a**4)/8; I"
   ]
  },
  {
   "cell_type": "markdown",
   "id": "0458fef4-ab82-4076-921d-a1cb2373570c",
   "metadata": {},
   "source": [
    "### Changing Variables in Multiple Integrals\n",
    "\n",
    "#### $\\S\\,3\\mathrm{D} : 1$  \n",
    "\n",
    "Evauluate $\\displaystyle \\int\\!\\int_R \\frac{x-3y}{2x+y}\\,\\mathrm{d}A$, where $R$ is the parallelogram bounded on both sides by $y=-2x+1$ and $y=-2x+4$, and above and below by $y=x/3$ and $y=(x-7)/3$.  Use the change of variables:  \n",
    "\n",
    "$$ u:=u(x,y) = x-3y \\quad\\quad\\text{and}\\quad\\quad v:=v(x,y) = 2x+y$$"
   ]
  },
  {
   "cell_type": "markdown",
   "id": "645e3762-99d5-41b6-89af-206805246aac",
   "metadata": {},
   "source": [
    "The parallelogram is bounded by the lines given by, in $u,v$-coordinates,  "
   ]
  },
  {
   "cell_type": "markdown",
   "id": "075f7c83-7272-4784-9bbd-e229989d6671",
   "metadata": {},
   "source": [
    "$$ u_1 = 0 \\quad\\quad u_2 = 7 \\quad\\quad v_1 = 1 \\quad\\quad v_2 = 4$$"
   ]
  },
  {
   "cell_type": "markdown",
   "id": "5a965a0c-e0fe-4d2c-abe7-b1f905dfb732",
   "metadata": {},
   "source": [
    "Note that the parallogram happens to rest on $u,v$ grid lines.  \n",
    "\n",
    "The area element is given by:  \n",
    "\n",
    "$$ \\mathrm{d}A = \\left|\\frac{\\partial(x,y)}{\\partial(u,v)}\\right|\\,\\mathrm{d}v\\,\\mathrm{d}u$$"
   ]
  },
  {
   "cell_type": "markdown",
   "id": "2f2ea382-0a50-478b-a472-64e007e0d1a8",
   "metadata": {},
   "source": [
    "where,  \n",
    "\n",
    "$$ \\frac{\\partial(x,y)}{\\partial(u,v)} = \\left|\\begin{matrix} x_u & x_v \\\\ y_u & y_v\\end{matrix}\\right|$$"
   ]
  },
  {
   "cell_type": "markdown",
   "id": "390529be-39ce-467b-beb0-2cb2df5921a7",
   "metadata": {},
   "source": [
    "Via the equations that define $u(x,y)$ and $v(x,y)$, and substitution,  \n",
    "\n",
    "$$ v = 2(u+3y) + y \\quad\\therefore\\quad 7y = v - 2u \\quad\\therefore$$"
   ]
  },
  {
   "cell_type": "markdown",
   "id": "2b6807a8-cca9-4333-abcd-4f07fab896a3",
   "metadata": {},
   "source": [
    "$$ y = \\frac{v-2u}{7}$$"
   ]
  },
  {
   "cell_type": "markdown",
   "id": "667a3129-5f8f-4c5c-bd8e-001b30adb0a1",
   "metadata": {},
   "source": [
    "$$ y_u = -\\frac{2}{7} \\quad\\quad\\text{and}\\quad\\quad y_v = \\frac{1}{7}$$"
   ]
  },
  {
   "cell_type": "markdown",
   "id": "066b06dc-b9df-4327-82b7-e0b362238b24",
   "metadata": {},
   "source": [
    "$$ u = x - \\frac{3}{7}(v-2u)$$"
   ]
  },
  {
   "cell_type": "markdown",
   "id": "d1e5b173-0a0b-4349-a7d1-acc77e77b073",
   "metadata": {},
   "source": [
    "$$ x = u - \\frac{3}{7}v + \\frac{6}{7}u = \\frac{13u - 3v}{7}$$"
   ]
  },
  {
   "cell_type": "markdown",
   "id": "d532580a-7113-4118-99f0-3715ce958cdb",
   "metadata": {},
   "source": [
    "$$ x_u = \\frac{13}{7} \\quad\\quad\\text{and}\\quad\\quad x_v=-\\frac{3}{7}$$"
   ]
  },
  {
   "cell_type": "markdown",
   "id": "8b1cf478-c995-4e78-85b2-026448815b31",
   "metadata": {},
   "source": [
    "Thus, the determinant of the Jacobian matrix is:  \n",
    "\n",
    "$$ \\frac{\\partial(x,y)}{\\partial(u,v)} = \\frac{1}{49}\\left|\\begin{matrix}13 & -3 \\\\ -2 & 1\\end{matrix}\\right| = \\frac{1}{7}$$"
   ]
  },
  {
   "cell_type": "markdown",
   "id": "7a7bb7bc-6910-4a60-b692-f4b16333fc6d",
   "metadata": {},
   "source": [
    "Therefore the area element is:  \n",
    "\n",
    "$$ \\mathrm{d}A = \\frac{\\mathrm{d}v\\,\\mathrm{d}u}{7}$$"
   ]
  },
  {
   "cell_type": "markdown",
   "id": "3363458d-6dc0-4f20-9ac8-96dc11c9b6b6",
   "metadata": {},
   "source": [
    "The $f(x,y)$ be defined as the integrand of the double integral.  In terms of $u$ and $v$, the integrand is:  \n",
    "\n",
    "$$ f(x,y) = f(u,v) = \\frac{u}{v}$$"
   ]
  },
  {
   "cell_type": "markdown",
   "id": "6b020295-12ed-4de8-aa26-d30b35515585",
   "metadata": {},
   "source": [
    "Thus,  \n",
    "\n",
    "$$ \\int\\!\\int_R f(x,y)\\,\\mathrm{d}A = \\int_0^7\\int_1^4 \\frac{u}{7v}\\,\\mathrm{d}v\\,\\mathrm{d}u $$"
   ]
  },
  {
   "cell_type": "markdown",
   "id": "d06fa2d9-e164-4417-a16d-b422c068ea05",
   "metadata": {},
   "source": [
    "$$ = \\frac{\\log 4}{7}\\int_0^7 u\\,\\mathrm{d}u$$"
   ]
  },
  {
   "cell_type": "markdown",
   "id": "1468fe1d-340c-4258-a454-b4272068e9d6",
   "metadata": {},
   "source": [
    "$$= \\frac{7\\log4}{2}$$"
   ]
  },
  {
   "cell_type": "markdown",
   "id": "cf53f8c5-7c97-4c39-a3f9-604052f6f1bb",
   "metadata": {},
   "source": [
    "#### $\\S\\,3\\mathrm{D} : 2$\n",
    "\n",
    "Evaluate $\\displaystyle \\int\\!\\int_R\\cos\\left(\\frac{x-y}{x+y}\\right)\\,\\mathrm{d}A$ by making the change of variables $u = x+y$ and $v=x-y$.  Take, as the region $R$, the triangle with vertices at the origin, $(2,0)$, and $(1,1)$."
   ]
  },
  {
   "cell_type": "markdown",
   "id": "ec9eadfe-987f-46a8-acce-1745a6419b29",
   "metadata": {},
   "source": [
    "The change in variables is:  \n",
    "\n",
    "$$ u := u(x,y) = x+y\\quad\\quad\\text{and}\\quad\\quad v:=v(x,y) = x-y$$"
   ]
  },
  {
   "cell_type": "markdown",
   "id": "91ac2b0a-8210-427e-ab8f-bb9e3ac87001",
   "metadata": {},
   "source": [
    "Let $f(x,y)$ be defined as the integrand to the double integral.  \n",
    "\n",
    "$$ f(x,y) = f(u,v) = \\cos\\frac{v}{u}$$"
   ]
  },
  {
   "cell_type": "markdown",
   "id": "aaeedc98-f089-4636-917a-166f5b0f41c7",
   "metadata": {},
   "source": [
    "The region $R$ is bounded by the lines given by:  \n",
    "\n",
    "$$ y = x \\quad\\quad\\text{and}\\quad\\quad y = 0$$"
   ]
  },
  {
   "cell_type": "markdown",
   "id": "a72c945a-ee5e-463b-b1ad-525bbb163039",
   "metadata": {},
   "source": [
    "and,  \n",
    "\n",
    "$$ y:= g(x) = mx + b$$  \n",
    "\n",
    "where\n",
    "\n",
    "$$ 1 = m + b \\quad\\quad\\text{and}\\quad\\quad  0 = m2 + b$$"
   ]
  },
  {
   "cell_type": "markdown",
   "id": "20230110-7c2c-4ab8-aa80-fea267b16da6",
   "metadata": {},
   "source": [
    "$$ b = -2m $$"
   ]
  },
  {
   "cell_type": "markdown",
   "id": "ecd381c3-535a-4e40-aa94-1552e500a3a7",
   "metadata": {},
   "source": [
    "Thus,  \n",
    "\n",
    "$$ m = -1 \\quad\\quad\\text{and}\\quad\\quad b = 2$$"
   ]
  },
  {
   "cell_type": "markdown",
   "id": "d3fc70ef-9a75-48aa-afa5-bec7eaa0b4a6",
   "metadata": {},
   "source": [
    "$$ y = g(x) = 2-x$$"
   ]
  },
  {
   "cell_type": "markdown",
   "id": "d812bc77-a944-43c3-9ca4-0db901838029",
   "metadata": {},
   "source": [
    "In terms of $u$ and $v$, the region $R$ is bounded by the lines given by:  \n",
    "\n",
    "$$ v := v_1 = 0 \\quad\\quad \\text{and}\\quad\\quad u := u_1 = 2$$"
   ]
  },
  {
   "cell_type": "markdown",
   "id": "f3afb263-05ff-4652-b144-24a65ddf4853",
   "metadata": {},
   "source": [
    "and,  \n",
    "\n",
    "$$ y = 0 \\quad\\hat{=}\\quad u = v$$"
   ]
  },
  {
   "cell_type": "markdown",
   "id": "1ac7b668-4137-4b72-a7d0-055aac066881",
   "metadata": {},
   "source": [
    "Of course, the point of origin has a $u$-coordinate of:  \n",
    "\n",
    "$$ u(0,0):=u_2 = 0$$"
   ]
  },
  {
   "cell_type": "markdown",
   "id": "78ed935e-83d7-4b7d-9a95-6db38e3d86dd",
   "metadata": {},
   "source": [
    "The area element is:  \n",
    "\n",
    "$$ \\mathrm{d}A = \\left|\\frac{\\partial(x,y)}{\\partial(u,v)}\\right|\\,\\mathrm{d}v\\,\\mathrm{d}u$$"
   ]
  },
  {
   "cell_type": "markdown",
   "id": "971aab5e-94b4-49c9-b622-e6d8c7ab5e24",
   "metadata": {},
   "source": [
    "$$ \\frac{\\partial(x,y)}{\\partial(u,v)} = \\left|\\begin{matrix} x_u & x_v \\\\ y_u & y_v\\end{matrix}\\right|$$"
   ]
  },
  {
   "cell_type": "markdown",
   "id": "4b0fe6a1-d0f8-4dd7-9db9-03c05e1e63bd",
   "metadata": {},
   "source": [
    "Via the equations that define $u$ and $v$ and substitution,  \n",
    "\n",
    "$$ u = v + 2y \\quad\\therefore \\quad y = \\frac{u-v}{2}$$"
   ]
  },
  {
   "cell_type": "markdown",
   "id": "4eb5a0f4-9a01-4101-bb16-62297f431060",
   "metadata": {},
   "source": [
    "Thus,  \n",
    "\n",
    "$$ y_u = 0.5 \\quad\\quad\\text{and}\\quad\\quad y_v = -0.5$$"
   ]
  },
  {
   "cell_type": "markdown",
   "id": "aa660925-6d90-4726-999d-ca8904cc4919",
   "metadata": {},
   "source": [
    "$$x = \\frac{u+v}{2} $$"
   ]
  },
  {
   "cell_type": "markdown",
   "id": "d0301653-0ba6-4f72-a63d-1bdaeb42b30d",
   "metadata": {},
   "source": [
    "Thus,  \n",
    "\n",
    "$$ x_u = x_v = 0.5$$"
   ]
  },
  {
   "cell_type": "markdown",
   "id": "299112cf-f719-49c0-827b-436f615f744a",
   "metadata": {},
   "source": [
    "The determinant of the Jacobian matrix is:  \n",
    "\n",
    "$$ \\frac{\\partial(x,y)}{\\partial(u,v)} = 0.25\\left|\\begin{matrix}1 & 1 \\\\ 1 & -1\\end{matrix}\\right|$$"
   ]
  },
  {
   "cell_type": "markdown",
   "id": "34695b90-e26a-476d-b613-162aa205a2e3",
   "metadata": {},
   "source": [
    "$$= -0.5$$"
   ]
  },
  {
   "cell_type": "markdown",
   "id": "6a95d379-9a3d-4e62-b342-df55fb0f256a",
   "metadata": {},
   "source": [
    "And, the area element is:  \n",
    "\n",
    "$$ \\mathrm{d}A = 0.5\\,\\mathrm{d}v\\,\\mathrm{d}u$$"
   ]
  },
  {
   "cell_type": "markdown",
   "id": "4316baee-725b-4514-8376-8ec249a57175",
   "metadata": {},
   "source": [
    "Finally,  \n",
    "\n",
    "$$ \\int\\!\\int_R f(x,y)\\,\\mathrm{d}A = 0.5\\int_0^2\\int_0^u \\cos\\frac{v}{u}\\,\\mathrm{d}v\\,\\mathrm{d}u$$"
   ]
  },
  {
   "cell_type": "markdown",
   "id": "4d992123-695e-4ef6-8a43-5ad898666721",
   "metadata": {},
   "source": [
    "$$ = 0.5\\sin 1\\int_0^2 u\\,\\mathrm{d}u$$"
   ]
  },
  {
   "cell_type": "markdown",
   "id": "f00874d3-db8f-4580-be73-5d026203c5fc",
   "metadata": {},
   "source": [
    "$$ = \\sin 1$$"
   ]
  },
  {
   "cell_type": "code",
   "execution_count": 35,
   "id": "54517df1-9a3b-4752-9c42-f734bf480f55",
   "metadata": {
    "tags": []
   },
   "outputs": [
    {
     "data": {
      "text/plain": [
       "0.8414709848078965"
      ]
     },
     "execution_count": 35,
     "metadata": {},
     "output_type": "execute_result"
    }
   ],
   "source": [
    "np.sin(1)"
   ]
  },
  {
   "cell_type": "code",
   "execution_count": 44,
   "id": "e74b42ef-5a3b-4c24-953c-02949cfc352c",
   "metadata": {
    "jupyter": {
     "source_hidden": true
    },
    "tags": []
   },
   "outputs": [
    {
     "data": {
      "image/png": "[encoded data removed]",
      "text/plain": [
       "<Figure size 1300x500 with 2 Axes>"
      ]
     },
     "metadata": {},
     "output_type": "display_data"
    }
   ],
   "source": [
    "# Create the domain.\n",
    "x = np.linspace(-0.125,2.125,num=50)\n",
    "y = np.linspace(-0.125,1.125,num=50)\n",
    "X = np.linspace(0.01,2.125,num=50)\n",
    "Y = np.linspace(0.01,1.125,num=50)\n",
    "X, Y = np.meshgrid(X,Y)\n",
    "\n",
    "# Define the integrand and uv-grid lines and boundaries of the region.\n",
    "u = X+Y\n",
    "v = X-Y\n",
    "f = np.cos(v/u)\n",
    "g = 2-x\n",
    "\n",
    "# Create the figure and axes objects.\n",
    "fig, ax = plt.subplots(figsize=(13,5))\n",
    "ax.set_xlabel('x-axis')\n",
    "ax.set_ylabel('y-axis')\n",
    "ylim = ax.set_ylim(-0.125,1.125)\n",
    "\n",
    "# Plot the defined functions.\n",
    "ax.plot(x,x,x,g,color='k')\n",
    "ax.plot(x,[0 for i in range(len(x))],color='k')\n",
    "cs_u = ax.contour(X,Y,u,colors='grey',linestyles='--',linewidths=0.8,levels=12)\n",
    "cs_v = ax.contour(X,Y,v,colors='grey',linestyles='--',linewidths=0.8,levels=12)\n",
    "cs = ax.contour(X,Y,f,levels=12)\n",
    "cb = fig.colorbar(cs)"
   ]
  },
  {
   "cell_type": "markdown",
   "id": "ddcecbb0-5c8d-4a84-9076-af4733e5a19e",
   "metadata": {},
   "source": [
    "#### $\\S\\,3\\mathrm{D} : 3$\n",
    "\n",
    "Evauluate the volume underneath the surface $z=16-x^2-4y^2$ and over the $x,y$-plane.  Simplify the integral by making the change of variable:  \n",
    "\n",
    "$$ u := u(x,y) = x \\quad\\quad\\text{and}\\quad\\quad v := v(x,y) = 2y$$"
   ]
  },
  {
   "cell_type": "markdown",
   "id": "17e78a17-8db7-4f8a-8788-27ae388c4efc",
   "metadata": {},
   "source": [
    "Let $f(x,y)$ be defined as the integrand.  \n",
    "\n",
    "$$ z := f(x,y) = 16 - x^2 - 4y^2$$"
   ]
  },
  {
   "cell_type": "markdown",
   "id": "e65600c6-8a6b-4f90-93b3-44d8b01e2270",
   "metadata": {},
   "source": [
    "The region $R$ is bounded by:  \n",
    "\n",
    "$$ y := g(x) = 0.5\\sqrt{16 - x^2} \\quad\\quad\\text{and}\\quad\\quad y = -g(x)$$"
   ]
  },
  {
   "cell_type": "markdown",
   "id": "a0acd945-95be-4e5b-bd75-e93bf6d5e7dd",
   "metadata": {},
   "source": [
    "which is an ellipse with a horizontal diameter of $8$ and a vertical diameter of $4$."
   ]
  },
  {
   "cell_type": "markdown",
   "id": "e91c5859-cc44-4c91-89cf-deae3c93c968",
   "metadata": {},
   "source": [
    "In terms of $u$ and $v$, the integrand is:  \n",
    "\n",
    "$$ z = f(x,y) = f(u,v) = 16 - u^2 - v^2$$"
   ]
  },
  {
   "cell_type": "markdown",
   "id": "b79bec50-c531-4fcf-8f4e-4daf3ac1f25c",
   "metadata": {},
   "source": [
    "And, the boundary lines are given by:  \n",
    "\n",
    "$$ v := g(u) = \\sqrt{16-u^2} \\quad\\quad\\text{and}\\quad\\quad v = -g(u)$$"
   ]
  },
  {
   "cell_type": "markdown",
   "id": "1e63f8c5-df95-42cc-83f7-bac9b50d50ac",
   "metadata": {},
   "source": [
    "The area element is given by:  \n",
    "\n",
    "$$ \\mathrm{d}A = \\left|\\frac{\\partial(x,y)}{\\partial(u,v)}\\right|\\,\\mathrm{d}v\\,\\mathrm{d}u$$"
   ]
  },
  {
   "cell_type": "markdown",
   "id": "cfe402bf-a05c-42fc-8aa7-1bbfc4ec747d",
   "metadata": {},
   "source": [
    "$$ \\frac{\\partial(x,y)}{\\partial(u,v)} = \\left|\\begin{matrix} 1 & 0 \\\\ 0 & 0.5\\end{matrix}\\right| = 0.5$$"
   ]
  },
  {
   "cell_type": "markdown",
   "id": "297a3c61-cd90-4f6a-821d-0618ca9f2c4c",
   "metadata": {},
   "source": [
    "$$ V= \\int\\!\\int_R f(x,y)\\,\\mathrm{d}A = 0.5\\int\\!\\int_R f(u,v)\\,\\mathrm{d}v\\,\\mathrm{d}u$$"
   ]
  },
  {
   "cell_type": "markdown",
   "id": "ab3ca421-b759-4716-b456-77ca7d321242",
   "metadata": {},
   "source": [
    "The surface given by the graph of $z=f(u,v)$ is a conic parabola with it's base, in the $u,v$ domain, being a circle with a radius of four.  Each level curve of this surface is of course a circle given by:  \n",
    "\n",
    "$$ z = f(r,\\theta) = 16-r^2 \\quad\\quad\\text{where }\\, r^2 = u^2 + v^2$$"
   ]
  },
  {
   "cell_type": "markdown",
   "id": "ed2e2abf-09c5-4274-8716-55e8d431d185",
   "metadata": {},
   "source": [
    "Finally,  \n",
    "\n",
    "$$ V = 0.5\\int_0^{2\\pi}\\int_0^4 rf(r,\\theta)\\,\\mathrm{d}r\\,\\mathrm{d}\\theta$$"
   ]
  },
  {
   "cell_type": "markdown",
   "id": "8871512d-50cb-4768-88d8-25891501ead6",
   "metadata": {},
   "source": [
    "$$ = 8\\int_0^{2\\pi}\\int_0^4 r\\,\\mathrm{d}r\\,\\mathrm{d}\\theta - 0.5\\int_0^{2\\pi}\\int_0^4 r^3\\,\\mathrm{d}r\\,\\mathrm{d}\\theta$$"
   ]
  },
  {
   "cell_type": "markdown",
   "id": "747eca98-5044-4c13-b223-47f344e765c5",
   "metadata": {},
   "source": [
    "$$ = 64\\int_0^{2\\pi}\\,\\mathrm{d}\\theta - 32\\int_0^{2\\pi}\\,\\mathrm{d}\\theta$$"
   ]
  },
  {
   "cell_type": "markdown",
   "id": "191741a2-2337-4274-aeeb-c19e3f160256",
   "metadata": {},
   "source": [
    "$$ = 64\\pi$$"
   ]
  },
  {
   "cell_type": "markdown",
   "id": "1f0e1415-9178-49a2-a8bc-9bcc5add89e7",
   "metadata": {},
   "source": [
    "Now, let's test the above answer against a different method.  The surface given by the graph of $z=f(x,y)$ is a \"conic elliptic parabola\".  Each level surface of which is an ellipse and is given by:  \n",
    "\n",
    "$$ z = f(x,y) = 16 - x^2 - 4y^2 $$"
   ]
  },
  {
   "cell_type": "markdown",
   "id": "bcb360b4-4ab8-411b-ae8b-257f8b86ee7a",
   "metadata": {},
   "source": [
    "$$ y := g(x\\vert z) = 0.5\\sqrt{16-x^2-z}$$"
   ]
  },
  {
   "cell_type": "markdown",
   "id": "0ef15be0-5219-442e-ab73-f7281da205a8",
   "metadata": {},
   "source": [
    "The area of each level surface as a function of $z$ is given by:  \n",
    "\n",
    "$$ A:=A(z) = 2\\int_{-\\sqrt{16-z}}^\\sqrt{16-z}g(x\\vert z)\\,\\mathrm{d}x $$"
   ]
  },
  {
   "cell_type": "markdown",
   "id": "33033d2d-422d-4e7b-ab67-2ed674fde045",
   "metadata": {},
   "source": [
    "$$ = \\int_{-\\sqrt{16-z}}^\\sqrt{16-z}\\sqrt{(16-z)-x^2}\\,\\mathrm{d}x$$"
   ]
  },
  {
   "cell_type": "markdown",
   "id": "85576acc-b0fe-469c-bc2f-eb9bbb275613",
   "metadata": {},
   "source": [
    "$$ =0.5\\pi(16-z)$$"
   ]
  },
  {
   "cell_type": "markdown",
   "id": "8b6dc196-2823-4b24-8c38-a17c515a9c66",
   "metadata": {},
   "source": [
    "Finally,  \n",
    "\n",
    "$$ V = 0.5\\pi \\int_0^{16}(16-z)\\,\\mathrm{d}z = $$"
   ]
  },
  {
   "cell_type": "markdown",
   "id": "61a3fb34-04c2-4250-a28e-1956fc808c43",
   "metadata": {},
   "source": [
    "$$ 16\\cdot8\\pi - 0.5\\pi\\int_0^{16}z\\,\\mathrm{d}z$$"
   ]
  },
  {
   "cell_type": "markdown",
   "id": "b73b11a0-c521-4b7b-aa4b-4bb570081f27",
   "metadata": {},
   "source": [
    "$$ = 16\\cdot8\\pi - 0.25\\pi16^2$$"
   ]
  },
  {
   "cell_type": "markdown",
   "id": "af7cfef2-248a-48d9-88b5-d66c1a9467cd",
   "metadata": {},
   "source": [
    "$$ = 16\\pi\\big(8-4\\big) = 64\\pi$$"
   ]
  },
  {
   "cell_type": "markdown",
   "id": "0ff4e940-74d7-4457-bbc1-2d337a4fdcc8",
   "metadata": {},
   "source": [
    "#### $\\S\\,3\\mathrm{D}:4$\n",
    "\n",
    "Evaluate $\\displaystyle \\int\\!\\int_R(2x-3y)^2(x+y)^2\\,\\mathrm{d}x\\,\\mathrm{d}y$, where $R$ is the triangle bounded by the positive $x$-axis, negative $y$-axis, and the line given by $2x-3y=4$, by making a change of variable:  $u=x+y$ and $v=2x-3y$."
   ]
  },
  {
   "cell_type": "code",
   "execution_count": 30,
   "id": "44befa6d-30d5-4579-852a-08c4ea564d4c",
   "metadata": {
    "jupyter": {
     "source_hidden": true
    },
    "tags": []
   },
   "outputs": [
    {
     "data": {
      "text/plain": [
       "<a list of 3 text.Text objects>"
      ]
     },
     "execution_count": 30,
     "metadata": {},
     "output_type": "execute_result"
    },
    {
     "data": {
      "image/png": "[encoded data removed]",
      "text/plain": [
       "<Figure size 800x500 with 2 Axes>"
      ]
     },
     "metadata": {},
     "output_type": "display_data"
    }
   ],
   "source": [
    "# Create the domain\n",
    "x = np.linspace(0,2,num=50)\n",
    "y = np.linspace(0,-4/3,num=50)\n",
    "X, Y = np.meshgrid(x,y)\n",
    "\n",
    "# Define the functions.\n",
    "U = X + Y\n",
    "V = 2*X - 3*Y\n",
    "H = U**2*V**2\n",
    "f = (x-2)*2/3\n",
    "\n",
    "# Create the figure and axes objects.\n",
    "fig, ax = plt.subplots(figsize=(8,5))\n",
    "ax.set_xlabel('x-axis')\n",
    "ax.set_ylabel('y-axis')\n",
    "xlim=ax.set_xlim(-0.125,2.125)\n",
    "ylim=ax.set_ylim(-4/3-0.05,0.05)\n",
    "\n",
    "# Plot the functions.\n",
    "ax.plot(x,f,color='k')\n",
    "ax.plot([0 for i in range(len(y))],y,color='k')\n",
    "ax.plot(x, [0 for i in range(len(y))], color='k')\n",
    "cs = ax.contour(X,Y,H,levels=12)\n",
    "cb = fig.colorbar(cs)\n",
    "\n",
    "# Plot the u,v grid lines.\n",
    "cs_u = ax.contour(X,Y,U,colors='grey',linestyles='--',linewidths=0.8,levels=8)\n",
    "cs_v = ax.contour(X,Y,V,colors='grey',linestyles='--',linewidths=0.8,levels=8)\n",
    "\n",
    "# Label the figure.\n",
    "ax.text(0.7,-0.42,'R',size=16)\n",
    "ax.clabel(cs_u,levels=cs_u.levels[3:6])\n",
    "ax.clabel(cs_v,levels=cs_v.levels[3:6])"
   ]
  },
  {
   "cell_type": "markdown",
   "id": "14d33309-440f-47de-a579-5f4de7e5e07a",
   "metadata": {},
   "source": [
    "$$ y:=f(x) = \\frac{2}{3}(x-2) \\quad\\quad u:=u(x,y)=x+y \\quad\\quad v:=v(x,y)=2x-3y$$"
   ]
  },
  {
   "cell_type": "markdown",
   "id": "2d655046-9d08-4174-a3a6-1e919494477d",
   "metadata": {},
   "source": [
    "The region $R$ is bounded by the line given by $f(x)$ and:  \n",
    "\n",
    "$$ x = 0 \\quad\\quad y=0$$"
   ]
  },
  {
   "cell_type": "markdown",
   "id": "58a69d4c-bdf3-47b9-8237-7e8c522435f5",
   "metadata": {},
   "source": [
    "Now, let $h(x,y)$ be defined as the integrand.  \n",
    "\n",
    "$$ h(x,y) = (2x-3y)^2(x+y)^2$$\n",
    "\n",
    "In $x,y$ coordinates we have:  \n",
    "\n",
    "$$ \\int\\!\\int_R h(x,y)\\,\\mathrm{d}A = \\int_0^{x_1}\\int_{f(x)}^0 h(x,y)\\,\\mathrm{d}y\\,\\mathrm{d}x \\quad\\quad\\text{where }\\, f(x_1) = 0$$"
   ]
  },
  {
   "cell_type": "markdown",
   "id": "121de6bb-7f1b-4473-b0d3-398191b7ba40",
   "metadata": {},
   "source": [
    "$$ x_1 = 2$$"
   ]
  },
  {
   "cell_type": "markdown",
   "id": "0b487b2c-5d3d-47c6-91b8-ddef4d73bfaf",
   "metadata": {},
   "source": [
    "Which is harder to compute then the double integral obtained via the aforementioned change in variable.  In $u,v$-coordinates, the region $R$ is bounded by:  \n",
    "\n",
    "$$ v = 4$$"
   ]
  },
  {
   "cell_type": "markdown",
   "id": "eb873e18-c130-41d7-b203-4aa713cefd2d",
   "metadata": {},
   "source": [
    "and, via the equation that define $u(x,y)$ and $v(x,y)$, the notion that $x=0$, and substitution,  \n",
    "\n",
    "$$ v = -3u \\quad\\therefore\\quad u := g(v) = -\\frac{v}{3}$$"
   ]
  },
  {
   "cell_type": "markdown",
   "id": "8ebf60e5-a74f-4f93-abc6-e8755bbed8cd",
   "metadata": {},
   "source": [
    "and, via those same equation, the notion that $y=0$, and substitution,  \n",
    "\n",
    "$$ v = 2u$$"
   ]
  },
  {
   "cell_type": "markdown",
   "id": "930b18ee-c667-4370-bedb-423afe67d9d4",
   "metadata": {},
   "source": [
    "The integrand is:  \n",
    "\n",
    "$$ h(x,y) = h(u,v) = v^2u^2$$"
   ]
  },
  {
   "cell_type": "markdown",
   "id": "6fbcb4a9-6db8-4a49-87ed-5066d4e38a7d",
   "metadata": {},
   "source": [
    "The area element is:  \n",
    "\n",
    "$$ \\mathrm{d}A = \\left|\\frac{\\partial(x,y)}{\\partial(u,v)}\\right|\\,\\mathrm{d}u\\,\\mathrm{d}v$$"
   ]
  },
  {
   "cell_type": "markdown",
   "id": "09c338c6-ed7e-4cb0-adce-ebcdfa327b40",
   "metadata": {},
   "source": [
    "Via the equations that define the change in variable and substitution,  \n",
    "\n",
    "$$v = 2(u-y) - 3y \\quad\\therefore\\quad 5y = 2u - v\\quad\\therefore$$"
   ]
  },
  {
   "cell_type": "markdown",
   "id": "0132c266-6af6-4569-89bf-942520484a77",
   "metadata": {},
   "source": [
    "$$ y = \\frac{2u-v}{5}$$"
   ]
  },
  {
   "cell_type": "markdown",
   "id": "c0b9e834-b3ae-45c0-84e9-aacf7e50b6a0",
   "metadata": {},
   "source": [
    "Thus,  \n",
    "\n",
    "$$ y_u = \\frac{2}{5} \\quad\\quad\\text{and}\\quad\\quad y_v = -\\frac{1}{5}$$"
   ]
  },
  {
   "cell_type": "markdown",
   "id": "6825964c-826f-4404-bdd0-910908466266",
   "metadata": {},
   "source": [
    "And,  \n",
    "\n",
    "$$ u = x + \\frac{2u-v}{5}\\quad\\therefore\\quad x = u + \\frac{v-2u}{5} \\quad\\therefore$$"
   ]
  },
  {
   "cell_type": "markdown",
   "id": "10fb5786-a864-4112-be16-727fac418eda",
   "metadata": {},
   "source": [
    "$$ x = \\frac{3u+v}{5}$$"
   ]
  },
  {
   "cell_type": "markdown",
   "id": "547d3ebf-0888-4a3c-afa3-24314f6cba57",
   "metadata": {},
   "source": [
    "Thus,  \n",
    "\n",
    "$$ x_u = \\frac{3}{5}\\quad\\quad\\text{and}\\quad\\quad x_v = \\frac{1}{5} = -y_v$$"
   ]
  },
  {
   "cell_type": "markdown",
   "id": "63cf7d01-0e2b-4481-88d5-328fa701d4b8",
   "metadata": {},
   "source": [
    "Thus, the determinant of the Jacobian matrix is:  \n",
    "\n",
    "$$ \\frac{\\partial(x,y)}{\\partial(u,v)} = \\frac{1}{25}\\left|\\begin{matrix} 3 & 1 \\\\ 2 & -1 \\end{matrix}\\right|= -\\frac{1}{5}$$"
   ]
  },
  {
   "cell_type": "markdown",
   "id": "bd7d5921-d6fa-4412-bcda-b84462f5b53a",
   "metadata": {},
   "source": [
    "Thus, the area element is:  \n",
    "\n",
    "$$ \\mathrm{d}A = \\frac{\\mathrm{d}u\\,\\mathrm{d}v}{5}$$"
   ]
  },
  {
   "cell_type": "markdown",
   "id": "6015496f-0e4e-4c12-b029-c289f182c04a",
   "metadata": {},
   "source": [
    "Finally,  \n",
    "\n",
    "$$ \\int\\!\\int_R h(x,y)\\,\\mathrm{d}A = \\frac{1}{5}\\int_0^4\\int_{g(v)}^{0.5v}(uv)^2\\,\\mathrm{d}u\\,\\mathrm{d}v$$"
   ]
  },
  {
   "cell_type": "markdown",
   "id": "cb262ae6-7612-4eee-93c3-79d346a07feb",
   "metadata": {},
   "source": [
    "$$ = \\frac{1}{15}\\int_0^4 v^2\\left(\\frac{v^3}{8} - g^3(v)\\right)\\,\\mathrm{d}v$$"
   ]
  },
  {
   "cell_type": "markdown",
   "id": "aacd690f-5756-4d22-99a2-12ce434c1765",
   "metadata": {},
   "source": [
    "$$ = \\frac{1}{15}\\int_0^4v^5\\left(\\frac{1}{8}+\\frac{1}{27}\\right)\\,\\mathrm{d}v$$"
   ]
  },
  {
   "cell_type": "markdown",
   "id": "934541ad-0607-4308-8025-3217271fc7ca",
   "metadata": {},
   "source": [
    "$$ = \\frac{7}{3^42^3}\\int_0^4v^5\\,\\mathrm{d}v$$"
   ]
  },
  {
   "cell_type": "markdown",
   "id": "e71ced0c-2b2e-46e0-81a2-3033069dfafa",
   "metadata": {},
   "source": [
    "$$ \\frac{7\\cdot 2^{12}}{3^52^4} = \\frac{7\\cdot2^8}{3^5}$$"
   ]
  },
  {
   "cell_type": "code",
   "execution_count": 2,
   "id": "d872c6f0-e5e7-4cc8-a6f4-9f43feaee04f",
   "metadata": {
    "tags": []
   },
   "outputs": [
    {
     "data": {
      "text/plain": [
       "7.374485596707819"
      ]
     },
     "execution_count": 2,
     "metadata": {},
     "output_type": "execute_result"
    }
   ],
   "source": [
    "(7*2**8)/(3**5)"
   ]
  },
  {
   "cell_type": "code",
   "execution_count": 3,
   "id": "4c088c51-70a5-4e98-887e-631b9ee21a06",
   "metadata": {
    "tags": []
   },
   "outputs": [
    {
     "data": {
      "text/plain": [
       "7.374485596707819"
      ]
     },
     "execution_count": 3,
     "metadata": {},
     "output_type": "execute_result"
    }
   ],
   "source": [
    "7*2**8/3**5"
   ]
  },
  {
   "cell_type": "code",
   "execution_count": null,
   "id": "e05744f3-91cb-42f7-a375-6cd657eb2f2d",
   "metadata": {},
   "outputs": [],
   "source": []
  },
  {
   "cell_type": "markdown",
   "id": "d36fc297-01f9-4a5a-80ff-1c3271dcab53",
   "metadata": {},
   "source": [
    "#### $\\S\\,3\\mathrm{D}:5$  \n",
    "\n",
    "Set up and iterated integral for the polar moment of inertia of the finite \"triangular\" region $R$ bounded by the lines $y=x$ and $y=2x$, and a portion of the hyperbola $xy=3$.  Use a change of coordinates which makes the boundary curves grid curves in the new coordinate system."
   ]
  },
  {
   "cell_type": "markdown",
   "id": "f6f6a3c0-adb9-4358-a598-446510ebf0f8",
   "metadata": {},
   "source": [
    "In $x,y$-coordinates the region $R$ is bounded by,  \n",
    "\n",
    "$$ y = x \\quad\\quad y=2x \\quad\\quad y := f(x) = \\frac{3}{x}$$"
   ]
  },
  {
   "cell_type": "markdown",
   "id": "0c18d19f-25dd-4ede-8705-93deb4e3386b",
   "metadata": {},
   "source": [
    "Assuming $\\delta = 1$, the polar moment of intertia is given by:  \n",
    "\n",
    "$$ I = \\int\\!\\int_R \\big(x^2+y^2\\big)\\,\\mathrm{d}A$$"
   ]
  },
  {
   "cell_type": "markdown",
   "id": "28fce371-ffae-4021-8675-b801c0f52eca",
   "metadata": {},
   "source": [
    "The change in variable is:  \n",
    "\n",
    "$$ u:=u(x,y) = \\frac{y}{x} \\quad\\quad\\text{and}\\quad\\quad v:=v(x,y) = xy$$"
   ]
  },
  {
   "cell_type": "markdown",
   "id": "29bc665d-82e1-4dc6-9983-077e3cb46c56",
   "metadata": {},
   "source": [
    "The region $R$ is bounded by, in the new $u,v$-coordinate system:  \n",
    "\n",
    "$$ v:=v_2=3 \\quad\\quad v:=v_1=0 \\quad\\quad u:=u_1=1\\quad\\quad u:=u_2=2$$"
   ]
  },
  {
   "cell_type": "markdown",
   "id": "8644acbd-b532-4bd7-ab7e-3f9d639eb222",
   "metadata": {},
   "source": [
    "Via the equation that define the change in variable and substitution,  \n",
    "\n",
    "$$ v = ux^2 \\quad\\therefore\\quad x = \\pm\\sqrt{\\frac{v}{u}}$$"
   ]
  },
  {
   "cell_type": "markdown",
   "id": "4105d1fd-717c-4389-9e1f-929b61d944c5",
   "metadata": {},
   "source": [
    "and,  \n",
    "\n",
    "$$ u = \\pm y\\sqrt{\\frac{u}{v}} \\quad\\therefore\\quad y = \\pm u\\sqrt{\\frac{v}{u}}= \\pm\\sqrt{uv}$$"
   ]
  },
  {
   "cell_type": "markdown",
   "id": "9bc6e7b8-7166-401a-882d-8178269abe35",
   "metadata": {},
   "source": [
    "Moreover, since $y$ and $x$ always have the same sign,  \n",
    "\n",
    "$$ y = \\sqrt{uv} \\quad\\quad\\text{and}\\quad\\quad x = \\sqrt{\\frac{v}{u}}$$"
   ]
  },
  {
   "cell_type": "markdown",
   "id": "d74c5d86-bc98-4712-abc1-a19b274030f4",
   "metadata": {},
   "source": [
    "Now, let $h(x,y)$ be defined as the integrand to the double integral that gives the polar moment of intertia in $x,y$-coordinates.  \n",
    "\n",
    "$$ h(x,y) = h(u,v) = \\frac{v}{u} + uv = \\frac{v + u^2v}{u} = v\\frac{1+u^2}{u}$$"
   ]
  },
  {
   "cell_type": "markdown",
   "id": "40a336c2-2075-46f0-a699-97bb3fb51b39",
   "metadata": {},
   "source": [
    "The area element is given by:  \n",
    "\n",
    "$$ \\mathrm{d}A = \\left|\\frac{\\partial(x,y)}{\\partial(u,v)}\\right|\\,\\mathrm{d}v\\,\\mathrm{d}u$$"
   ]
  },
  {
   "cell_type": "markdown",
   "id": "05730daf-ee7a-4ab6-97a4-0aa2124a1456",
   "metadata": {},
   "source": [
    "$$ x_u = -0.5\\sqrt{\\frac{v}{u^3}} \\quad\\quad x_v = \\frac{1}{2\\sqrt{uv}} $$"
   ]
  },
  {
   "cell_type": "markdown",
   "id": "ee12c2cd-b699-453e-9bc5-80087b914854",
   "metadata": {},
   "source": [
    "$$ y_u = 0.5\\sqrt{\\frac{v}{u}} \\quad\\quad y_v = 0.5\\sqrt{\\frac{u}{v}}$$"
   ]
  },
  {
   "cell_type": "markdown",
   "id": "120cf245-3417-4bce-b38d-c8bda0b2e74d",
   "metadata": {},
   "source": [
    "$$ \\frac{\\partial(x,y)}{\\partial(u,v)} = -0.25\\left(\\frac{1}{u} + \\frac{1}{u}\\right)=-\\frac{1}{2u}$$"
   ]
  },
  {
   "cell_type": "markdown",
   "id": "51e2a184-3443-47ca-a116-641c8db89480",
   "metadata": {},
   "source": [
    "Thus,  \n",
    "\n",
    "$$ \\mathrm{d}A = \\frac{\\mathrm{d}v\\,\\mathrm{d}u}{2u}$$"
   ]
  },
  {
   "cell_type": "markdown",
   "id": "bcde7813-892f-4778-9324-231420188629",
   "metadata": {},
   "source": [
    "Finally,  \n",
    "\n",
    "$$ I = 0.5\\int_1^2\\int_0^3 v\\frac{u^2+1}{u^2}\\,\\mathrm{d}v\\,\\mathrm{d}u$$"
   ]
  },
  {
   "cell_type": "markdown",
   "id": "48b08423-e136-4a24-8340-2c7bed8753d3",
   "metadata": {},
   "source": [
    "$$ = \\frac{9}{4}\\int_1^2 \\frac{u^2+1}{u^2}\\,\\mathrm{d}u$$"
   ]
  },
  {
   "cell_type": "markdown",
   "id": "bcf26f73-d8e8-4e25-824b-9d8ea3dbe0fc",
   "metadata": {},
   "source": [
    "The primitive integral of the above integrand is:  \n",
    "\n",
    "$$ \\int\\frac{u^2+1}{u^2}\\,\\mathrm{d}u = -\\frac{u^2+1}{u} + \\int\\frac{2u}{u}\\,\\mathrm{d}u$$"
   ]
  },
  {
   "cell_type": "markdown",
   "id": "9a03aebd-22e8-452e-8b30-cba9263cc7eb",
   "metadata": {},
   "source": [
    "$$ = 2u - \\frac{u^2+1}{u} + K$$"
   ]
  },
  {
   "cell_type": "markdown",
   "id": "40c6657f-1bde-476a-a603-150785cd9032",
   "metadata": {},
   "source": [
    "$$ = \\frac{u^2-1}{u} + K$$"
   ]
  },
  {
   "cell_type": "markdown",
   "id": "e20a34b9-27f2-48cb-b295-2e0e3ff8839c",
   "metadata": {},
   "source": [
    "Thus,  \n",
    "\n",
    "$$ I = \\left.\\frac{9}{4}\\frac{u^2-1}{u}\\right]_{\\,1}^{\\,2}$$"
   ]
  },
  {
   "cell_type": "markdown",
   "id": "29eb7b30-f06f-4671-8f82-eb965cf031cf",
   "metadata": {},
   "source": [
    "$$ = \\frac{9}{4}\\frac{3}{2} = \\frac{27}{8}$$"
   ]
  }
 ],
 "metadata": {
  "kernelspec": {
   "display_name": "Python 3 (ipykernel)",
   "language": "python",
   "name": "python3"
  },
  "language_info": {
   "codemirror_mode": {
    "name": "ipython",
    "version": 3
   },
   "file_extension": ".py",
   "mimetype": "text/x-python",
   "name": "python",
   "nbconvert_exporter": "python",
   "pygments_lexer": "ipython3",
   "version": "3.10.12"
  }
 },
 "nbformat": 4,
 "nbformat_minor": 5
}
