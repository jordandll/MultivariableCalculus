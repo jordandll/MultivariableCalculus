{
 "cells": [
  {
   "cell_type": "markdown",
   "id": "7d00e09f-1bb0-4388-b41e-f9d9852780ff",
   "metadata": {},
   "source": [
    "# Integration in Polar Coordinates  \n",
    "\n",
    "## Polar Coordinates\n",
    "*Polar coordinates* are a different way of describing points in the plane. The polar coordinates\n",
    "$(r, \\theta)$ are related to the usual *rectangular coordinates* $(x, y)$ by  \n",
    "\n",
    "$$ x = r\\cos\\theta\\quad\\quad\\text{and}\\quad\\quad y = r\\sin\\theta$$"
   ]
  },
  {
   "cell_type": "markdown",
   "id": "b93b3431-5606-4ef5-9bb9-9827f160e68f",
   "metadata": {},
   "source": [
    "#### The Area Element in Polar Coordinates\n",
    "In polar coordinates the area element is given by  \n",
    "\n",
    "$$ \\mathrm{d}A = r\\,\\mathrm{d}r\\,\\mathrm{d}\\theta$$"
   ]
  }
 ],
 "metadata": {
  "kernelspec": {
   "display_name": "Python 3 (ipykernel)",
   "language": "python",
   "name": "python3"
  },
  "language_info": {
   "codemirror_mode": {
    "name": "ipython",
    "version": 3
   },
   "file_extension": ".py",
   "mimetype": "text/x-python",
   "name": "python",
   "nbconvert_exporter": "python",
   "pygments_lexer": "ipython3",
   "version": "3.10.12"
  }
 },
 "nbformat": 4,
 "nbformat_minor": 5
}
