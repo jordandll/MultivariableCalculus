{
 "cells": [
  {
   "cell_type": "markdown",
   "id": "2c845170-d1b3-4c19-8599-1872a92af480",
   "metadata": {},
   "source": [
    "# Exam 3"
   ]
  },
  {
   "cell_type": "code",
   "execution_count": 1,
   "id": "6dbd78e1-d986-4c72-9de2-9264f8210367",
   "metadata": {},
   "outputs": [],
   "source": [
    "import numpy as np\n",
    "import matplotlib.pyplot as plt\n",
    "import matplotlib as mpl"
   ]
  },
  {
   "cell_type": "markdown",
   "id": "f7dcb72f-22bb-4d90-8378-bdd813ac9255",
   "metadata": {},
   "source": [
    "### Problem 1\n",
    "\n",
    "**a)**"
   ]
  },
  {
   "cell_type": "code",
   "execution_count": 2,
   "id": "c9588806-85a1-43e7-b85f-bcb17c42ed28",
   "metadata": {},
   "outputs": [
    {
     "data": {
      "text/plain": [
       "[<matplotlib.lines.Line2D at 0x76c2e430f700>]"
      ]
     },
     "execution_count": 2,
     "metadata": {},
     "output_type": "execute_result"
    },
    {
     "data": {
      "image/png": "[encoded data removed]",
      "text/plain": [
       "<Figure size 380x380 with 1 Axes>"
      ]
     },
     "metadata": {},
     "output_type": "display_data"
    }
   ],
   "source": [
    "# Create the domain.\n",
    "x = np.linspace(0,2,num=25)\n",
    "\n",
    "# Create the figure and axes.\n",
    "fig, ax = plt.subplots(figsize=(3.8,3.8))\n",
    "ax.set_xlabel('x-axis')\n",
    "ax.set_ylabel('y-axis')\n",
    "ax.set_ylim(0,2.1)\n",
    "\n",
    "# Plot the lines.\n",
    "ax.plot(x,x,x,2*x,color='k')\n",
    "ax.plot([1 for i in range(len(x))],x,color='k')"
   ]
  },
  {
   "cell_type": "markdown",
   "id": "909cf87d-d25c-4931-ac6e-6ce87a326b29",
   "metadata": {},
   "source": [
    "**b)**  With a translation of axes, the line given by $(x,2x)$ is on the bottom and is given by $(y,0.5y)$, while the line given by $(x,x)$ is given by $(y,y)$.  The outer integral is from $0$ to $2$.  \n",
    "\n",
    "$$ \\int_0^1\\int_x^{2x}\\,\\mathrm{d}y\\,\\mathrm{d}x = \\int_0^1\\int_{0.5y}^y\\,\\mathrm{d}x\\,\\mathrm{d}y + \\int_1^2\\int_{0.5y}^1\\,\\mathrm{d}x\\,\\mathrm{d}y$$"
   ]
  },
  {
   "cell_type": "markdown",
   "id": "b8b509ba-41e0-4244-90ec-62acf3641fcf",
   "metadata": {},
   "source": [
    "### Problem 2\n",
    "\n",
    "**a)**  $$ M = \\int\\!\\int_R\\delta\\,\\mathrm{d}A = \\int_0^\\pi\\int_1^3 \\sin\\theta\\,\\mathrm{d}r\\,\\mathrm{d}\\theta$$"
   ]
  },
  {
   "cell_type": "markdown",
   "id": "235bcb5c-8d44-4c1f-a366-2c04fa2adcfa",
   "metadata": {},
   "source": [
    "$$ = 2\\int_0^\\pi \\sin\\theta\\,\\mathrm{d}\\theta = -2\\cos\\theta]_{\\,0}^{\\,\\pi} = 4$$"
   ]
  },
  {
   "cell_type": "markdown",
   "id": "aa944ba1-c098-43a1-9a0e-f8540ae5538a",
   "metadata": {},
   "source": [
    "**b)**  $$ \\overline{x} = \\frac{1}{M}\\int\\!\\int_R \\delta x\\,\\mathrm{d}A = \\frac{1}{4}\\int_0^\\pi\\int_1^3 r\\cos\\theta\\sin\\theta\\,\\mathrm{d}r\\,\\mathrm{d}\\theta$$"
   ]
  },
  {
   "cell_type": "markdown",
   "id": "ba505260-1275-4c06-a53b-2486c70356a5",
   "metadata": {},
   "source": [
    "$$ = \\frac{1}{8}\\int_0^\\pi\\int_1^3 r\\sin2\\theta\\,\\mathrm{d}r\\,\\mathrm{d}\\theta$$"
   ]
  },
  {
   "cell_type": "markdown",
   "id": "d4c56c24-1b5e-4b41-8af6-49f6e37dbb73",
   "metadata": {},
   "source": [
    "Due to symmetry, $ \\overline{x} = 0$;  The annulus is equal to a disk with a radius of $3$ subtracted by a concentric disk with a radius of one.  The upper half of this annulus has the same horizontal center of mass as the full annulus."
   ]
  },
  {
   "cell_type": "markdown",
   "id": "ef16c30b-da40-497f-a1a9-c625b9861b36",
   "metadata": {},
   "source": [
    "### Problem 3\n",
    "\n",
    "**a)**  Via Green's theorem, the fact that $\\mathrm{curl }\\,\\mathbf{F} = 0$, and the fact that $\\mathbf{F}$ is continuously differentiable over the $x,y$-plane, $\\mathbf{F}$ is conservative.  \n",
    "\n",
    "$$ \\mathrm{curl }\\,\\mathbf{F} = -12y + 12y = 0$$"
   ]
  },
  {
   "cell_type": "markdown",
   "id": "fbffaf86-f7a9-4145-ad02-f3b7ea139753",
   "metadata": {},
   "source": [
    "**b)**  Using method 1:  \n",
    "\n",
    "$$ f(x_1,y_1) = \\int_{(0,0)}^{(x_1,y_1)}M\\,\\mathrm{d}x + N\\,\\mathrm{d}y$$"
   ]
  },
  {
   "cell_type": "markdown",
   "id": "a9b529a9-a95e-4742-9107-66b3a620ef40",
   "metadata": {},
   "source": [
    "$$ = \\int_{C_1}\\mathbf{F}\\cdot\\mathrm{d}\\mathbf{r} + \\int_{C_2}\\mathbf{F}\\cdot\\mathrm{d}\\mathbf{r}$$"
   ]
  },
  {
   "cell_type": "markdown",
   "id": "1ac04d20-1a4e-4500-a598-de8b5d3fa7c0",
   "metadata": {},
   "source": [
    "where,  \n",
    "\n",
    "$$ \\int_{C_1}\\mathbf{F}\\cdot\\mathrm{d}\\mathbf{r} = \\int_0^{x_1}M(x,0)\\,\\mathrm{d}x = \\int_0^{x_1}3x^2\\,\\mathrm{d}x = x_1^3$$"
   ]
  },
  {
   "cell_type": "markdown",
   "id": "01d5049f-a63c-4282-9952-cdf18e52bb7d",
   "metadata": {},
   "source": [
    "$$ \\int_{C_2}\\mathbf{F}\\cdot\\mathrm{d}\\mathbf{r} = \\int_0^{y_1}N(x_1,y)\\,\\mathrm{d}y = (4-12x_1)\\int_0^{y_1}y\\,\\mathrm{d}y$$"
   ]
  },
  {
   "cell_type": "markdown",
   "id": "3d42c47c-5b34-4727-8a4d-50f77d1b28ac",
   "metadata": {},
   "source": [
    "$$ = y_1^2(2-6x_1)$$"
   ]
  },
  {
   "cell_type": "markdown",
   "id": "2d273898-f4af-4f30-9704-17ad37b94452",
   "metadata": {},
   "source": [
    "Finally,  \n",
    "\n",
    "$$ f(x,y) = x^3 + 2y^2 - 6xy^2 + c$$"
   ]
  },
  {
   "cell_type": "markdown",
   "id": "270f4380-04f3-458f-b710-3d20eaff7a78",
   "metadata": {},
   "source": [
    "where $c\\in\\mathbb{R}$ is an arbitrary constant of integration."
   ]
  },
  {
   "cell_type": "markdown",
   "id": "e397d8ba-b77f-4693-bf83-bcaf8e7751a3",
   "metadata": {},
   "source": [
    "Now, let's cross reference the above answer against the one given by method 2.  Assuming $f(x,y)$ is the potential of our field,  \n",
    "\n",
    "$$ \\frac{\\partial f}{\\partial x} = M \\quad\\therefore\\quad f = \\int 3x^2 - 6y^2\\,\\mathrm{d}x \\quad\\therefore$$"
   ]
  },
  {
   "cell_type": "markdown",
   "id": "a7c79cd0-c297-4822-9041-26ccf8f76b73",
   "metadata": {},
   "source": [
    "$$ f = f(x,y) = x^3 - 6xy^2 + g(y)$$"
   ]
  },
  {
   "cell_type": "markdown",
   "id": "ea12e8e2-02ac-48c2-b068-dcc23bfbf4e1",
   "metadata": {},
   "source": [
    "where $g(y)$ is an arbitrary function of $y$.  \n",
    "\n",
    "$$ f_y = -12xy + g'(y) \\quad\\quad\\text{and}\\quad\\quad f_y = -12xy + 4y$$"
   ]
  },
  {
   "cell_type": "markdown",
   "id": "f3472078-06a3-4b5e-81fe-9fa9d3e1eb4d",
   "metadata": {},
   "source": [
    "Via the above two equations,  \n",
    "\n",
    "$$ g'(y) = 4y \\quad\\therefore\\quad g(y) = 2y^2 + c$$"
   ]
  },
  {
   "cell_type": "markdown",
   "id": "7a91f29a-090e-4c06-bc4a-1a4f8e779432",
   "metadata": {},
   "source": [
    "where $c\\in\\mathbb{R}$ is an arbitrary constant of inegration.  Finally,  \n",
    "\n",
    "$$ f(x,y) = x^3 - 6xy^2 + 2y^2 + c$$"
   ]
  },
  {
   "cell_type": "markdown",
   "id": "ebdacbec-7dc1-47f4-a55e-05d76a047c63",
   "metadata": {},
   "source": [
    "**c)**  $$ P_0 = (x(0),0) = (1,0) \\quad\\quad\\text{and}\\quad\\quad P_1 = (0,1)$$"
   ]
  },
  {
   "cell_type": "markdown",
   "id": "47343fd6-95b5-4417-a23e-f80088090fa4",
   "metadata": {},
   "source": [
    "$$ \\int_C\\mathbf{F}\\cdot\\mathrm{d}\\mathbf{r} = f(P_1) - f(P_0) = 2 - 1 = 1$$"
   ]
  }
 ],
 "metadata": {
  "kernelspec": {
   "display_name": "Python 3 (ipykernel)",
   "language": "python",
   "name": "python3"
  },
  "language_info": {
   "codemirror_mode": {
    "name": "ipython",
    "version": 3
   },
   "file_extension": ".py",
   "mimetype": "text/x-python",
   "name": "python",
   "nbconvert_exporter": "python",
   "pygments_lexer": "ipython3",
   "version": "3.10.12"
  }
 },
 "nbformat": 4,
 "nbformat_minor": 5
}
