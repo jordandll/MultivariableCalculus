{
 "cells": [
  {
   "cell_type": "markdown",
   "id": "c5a7df11-c814-4580-9b05-2b75fb17dc08",
   "metadata": {},
   "source": [
    "# Practice Exam 3 A"
   ]
  },
  {
   "cell_type": "code",
   "execution_count": 1,
   "id": "5b75671e-ed73-41cc-b923-278b4f4e597c",
   "metadata": {},
   "outputs": [],
   "source": [
    "import numpy as np\n",
    "import matplotlib.pyplot as plt\n",
    "import matplotlib as mpl"
   ]
  },
  {
   "attachments": {},
   "cell_type": "markdown",
   "id": "6e22b36e-82c6-4a01-a58c-4c9b014fb622",
   "metadata": {},
   "source": [
    "### Problem 1  \n",
    "\n",
    "Our triangle $R$ is bounded by by:  \n",
    "\n",
    "$$ R:\\; (x,0)\\quad\\quad \\big(x,f(\\pm x)\\big) \\quad\\quad\\text{where }\\,f(x) = 0.5x + 1 $$"
   ]
  },
  {
   "cell_type": "markdown",
   "id": "20968721-a770-4ef1-8011-4cc8fe2b2065",
   "metadata": {},
   "source": [
    "The center of mass is given by:  \n",
    "\n",
    "$$ \\langle\\overline{x},\\overline{y}\\rangle= \\frac{1}{\\text{area }R}\\int\\!\\int_R \\langle x,y\\rangle\\,\\mathrm{d}A$$"
   ]
  },
  {
   "cell_type": "markdown",
   "id": "edfee88d-e1cd-425b-9534-d945976f881b",
   "metadata": {},
   "source": [
    "The area of the triangle, denoted as $\\text{area }R$, is given by:  \n",
    "\n",
    "$$ \\text{area }R = 0.5\\cdot 4 \\cdot 1 = 2$$"
   ]
  },
  {
   "cell_type": "markdown",
   "id": "11c6b677-0f94-40a0-95d9-f4ae4f453145",
   "metadata": {},
   "source": [
    "**a)**  $$ \\overline{y} = \\frac{1}{2}\\int\\!\\int_R y\\,\\mathrm{d}A = \\frac{1}{2}\\int_{-2}^0\\int_0^{f(x)} y\\,\\mathrm{d}y\\,\\mathrm{d}x + \\frac{1}{2}\\int_0^2\\int_0^{f(-x)}y\\,\\mathrm{d}y\\,\\mathrm{d}x$$"
   ]
  },
  {
   "cell_type": "markdown",
   "id": "c794ab24-4851-4aec-b4c1-5e3eed09698b",
   "metadata": {},
   "source": [
    "**b)**  $$ \\overline{x} = 0$$"
   ]
  },
  {
   "cell_type": "markdown",
   "id": "a3ed516c-a5b2-47b0-a517-c59cbbc63af3",
   "metadata": {},
   "source": [
    "### Problem 2\n",
    "\n",
    "\n",
    "Suppose the unit disk is centered at origin.  Let $R$ be the portion of the disk in the first quadrant of the $x,y$-plane.  The moment of inertia $I$ is given by:  \n",
    "\n",
    "$$ I = 4\\int\\!\\int_R xr^2\\,\\mathrm{d}A = 4\\int_{0}^{0.5\\pi}\\int_0^1 r^4\\cos\\theta\\,\\mathrm{d}r\\,\\mathrm{d}\\theta$$"
   ]
  },
  {
   "cell_type": "markdown",
   "id": "d6e9eb08-9093-4075-8f9d-626fa0253529",
   "metadata": {},
   "source": [
    "$$ = \\frac{4}{5}\\int_{0}^{0.5\\pi}\\cos\\theta\\,\\mathrm{d}\\theta = \\frac{4}{5}$$"
   ]
  },
  {
   "cell_type": "markdown",
   "id": "b7f4e847-c5d0-4df5-8196-3243e7968439",
   "metadata": {},
   "source": [
    "### Problem 3  \n",
    "\n",
    "$$ \\mathbf{F} = \\big(ax^2y + y^3 + 1\\big)\\,\\mathbf{i} + \\big(2x^3 + bxy^2 + 2\\big)\\,\\mathbf{j} = \\langle M,N\\rangle$$"
   ]
  },
  {
   "cell_type": "markdown",
   "id": "c08e6ac4-3cd8-4612-a7de-e78db6ea95e2",
   "metadata": {},
   "source": [
    "**a)**  If $\\mathbf{F}$ is conservative then $\\mathrm{curl }\\,\\mathbf{F}=0$.  \n",
    "\n",
    "$$ \\oint_C\\mathbf{F}\\cdot\\mathrm{d}\\mathbf{r} = 0 \\quad\\implies\\quad \\int\\!\\int_R \\mathrm{curl }\\,\\mathbf{F}\\,\\mathrm{d}A = 0 \\quad\\implies \\quad \\mathrm{curl }\\,\\mathbf{F} = 0$$"
   ]
  },
  {
   "cell_type": "markdown",
   "id": "25ba8b1b-2522-4e7c-96bd-97c8f843ec00",
   "metadata": {},
   "source": [
    "Thus we must find $a$ and $b$ such that:  \n",
    "\n",
    "$$ N_x - M_y = 0 \\quad\\quad\\text{or}\\quad\\quad 6x^2 + by^2 - 3y^2 - ax^2 = 0$$"
   ]
  },
  {
   "cell_type": "markdown",
   "id": "8c44c6a1-f5f9-4854-972a-9f8f01f65bb1",
   "metadata": {},
   "source": [
    "The solution to the above is:  \n",
    "\n",
    "$$ a = 6 \\quad\\quad\\text{and}\\quad\\quad b = 3$$"
   ]
  },
  {
   "cell_type": "markdown",
   "id": "c9a884d7-8e95-4069-be7f-8ef0c22f107f",
   "metadata": {},
   "source": [
    "**b)**  Using method 1:  \n",
    "\n",
    "$$ f(x_1,y_1) = \\int_C \\mathbf{F}\\cdot\\mathrm{d}\\mathbf{r} =  \\int_{(0,0)}^{(x_1,y_1)}M\\,\\mathrm{d}x + N\\,\\mathrm{d}y$$"
   ]
  },
  {
   "cell_type": "markdown",
   "id": "934f510e-6550-4430-ac5e-c56eb40333a4",
   "metadata": {},
   "source": [
    "where $(x_1,y_1)$ is any point on the $x,y$-plane.  The above line integral can be broken down into parts:  One over a directed horizontal line segment $C_1$ resting on the $x$-axis from origin to $(x_1,0)$;  And, the other over a vertical directed line segment $C_2$ from $(x_1,0)$ to $(x_1,y_1)$.  \n",
    "\n",
    "$$ C = C_1 + C_2 \\quad\\iff\\quad \\int_C\\mathbf{F}\\cdot\\mathrm{d}\\mathbf{r} = \\int_{C_1}\\mathbf{F}\\cdot\\mathrm{d}\\mathbf{r} + \\int_{C_2}\\mathbf{F}\\cdot\\mathrm{d}\\mathbf{r}$$"
   ]
  },
  {
   "cell_type": "markdown",
   "id": "1255b395-d87e-4451-843f-20a0fbb9a164",
   "metadata": {},
   "source": [
    "where,  \n",
    "\n",
    "$$ C_1:\\; (x,0)\\quad\\text{for }\\, 0\\le x \\le x_1 \\quad\\quad\\text{and}\\quad\\quad C_2:\\; (x_1,y)\\quad\\text{for }\\, 0\\le y \\le y_1$$\n"
   ]
  },
  {
   "cell_type": "markdown",
   "id": "883ee963-b1bc-455f-864d-c16fae3f2767",
   "metadata": {},
   "source": [
    "Thus,  \n",
    "\n",
    "$$ \\int_{C_1}\\mathbf{F}\\cdot\\mathrm{d}\\mathbf{r} = \\int_0^{x_1}M(x,0)\\,\\mathrm{d}x = \\int_0^{x_1}\\,\\mathrm{d}x = x_1$$"
   ]
  },
  {
   "cell_type": "markdown",
   "id": "04345036-fca8-4985-b5c9-a4ebcafcf967",
   "metadata": {},
   "source": [
    "$$ \\int_{C_2}\\mathbf{F}\\cdot\\mathrm{d}\\mathbf{r} = \\int_0^{y_1}N(x_1,y)\\,\\mathrm{d}y = \\int_0^{y_1}\\big(2x_1^3 + 3x_1y^2 + 2\\big)\\,\\mathrm{d}y$$"
   ]
  },
  {
   "cell_type": "markdown",
   "id": "10125cb9-cf87-4d00-bcc6-6e7e20de43a6",
   "metadata": {},
   "source": [
    "$$ = 2y_1\\big(x_1^3+1\\big) + 3x_1\\int_0^{y_1}y^2\\,\\mathrm{d}y = 2y_1\\big(x_1^3+1\\big) + x_1y_1^3$$"
   ]
  },
  {
   "cell_type": "markdown",
   "id": "928f84a9-68d7-4089-9dca-e2c1c163af10",
   "metadata": {},
   "source": [
    "Finally,  \n",
    "\n",
    "$$ f(x,y) = 2yx^3 + 2y + xy^3 + x + c$$"
   ]
  },
  {
   "cell_type": "markdown",
   "id": "469cd2c5-decc-482d-bbdc-8565c50c02bd",
   "metadata": {},
   "source": [
    "where $c\\in\\mathbb{R}$ is an arbitrary constant of integration."
   ]
  },
  {
   "cell_type": "markdown",
   "id": "db11c495-3015-4d8a-80eb-cac90f6d9f53",
   "metadata": {},
   "source": [
    "Now, using method 2:  \n",
    "\n",
    "$$ \\frac{\\partial f}{\\partial x} = M(x,y) = 6x^2y + y^3 + 1 \\quad\\implies$$"
   ]
  },
  {
   "attachments": {},
   "cell_type": "markdown",
   "id": "1006ce1d-005c-4b12-8bc3-884361d0bf3e",
   "metadata": {},
   "source": [
    "$$ f = \\int\\big(6x^2y + y^3+1\\big)\\,\\mathrm{d}x  = 2x^3y+y + xy^3 + x + g(y)$$"
   ]
  },
  {
   "cell_type": "markdown",
   "id": "afc58143-0322-4169-8967-783e43d55963",
   "metadata": {},
   "source": [
    "where $g(y)$ is an arbitrary function of $y$.  "
   ]
  },
  {
   "cell_type": "markdown",
   "id": "52543b5e-20c7-49b5-b4c8-bfc94b3daeea",
   "metadata": {},
   "source": [
    "$$ \\frac{\\partial f}{\\partial y} = N(x,y) = 2x^3 + 3xy^2 + 2 \\quad\\quad\\text{and}\\quad\\quad \\frac{\\partial f}{\\partial y} = 2x^3 + 1 + 3xy^2 + g'(y)$$"
   ]
  },
  {
   "cell_type": "markdown",
   "id": "edba7f36-eec8-49f7-9618-d20f3e1234a8",
   "metadata": {},
   "source": [
    "Via the above,  \n",
    "\n",
    "$$ g'(y) =  1\\quad\\therefore\\quad g(y) =  y + c$$"
   ]
  },
  {
   "cell_type": "markdown",
   "id": "88643fc9-8e00-460c-a19d-d87b3989ed76",
   "metadata": {},
   "source": [
    "where $c\\in\\mathbb{R}$ is an arbitrary constant of integration.  Finally,  \n",
    "\n",
    "$$ f:=f(x,y) = 2x^3y + y + xy^3 + y + c$$"
   ]
  },
  {
   "cell_type": "markdown",
   "id": "349d4696-3bbe-4cfd-964e-3a2870e76ea1",
   "metadata": {},
   "source": [
    "Both methods are consistent with one another."
   ]
  },
  {
   "cell_type": "markdown",
   "id": "4503e4e0-8de1-41da-afca-db05cfc9da5a",
   "metadata": {},
   "source": [
    "**c)**  Via path independence,  \n",
    "\n",
    "$$ \\int_C\\mathbf{F}\\cdot\\mathrm{d}\\mathbf{r} = -\\int_1^{x_2}M(x,0)\\,\\mathrm{d}x$$"
   ]
  },
  {
   "cell_type": "markdown",
   "id": "96dfa79a-8b08-496e-8e7b-65f30439b615",
   "metadata": {},
   "source": [
    "where,  \n",
    "\n",
    "$$ x_2 = x(\\pi) = e^\\pi\\cos \\pi = -e^\\pi$$"
   ]
  },
  {
   "cell_type": "markdown",
   "id": "d904c85e-304b-4cbe-9d23-10f5eeb86072",
   "metadata": {},
   "source": [
    "Finally,  \n",
    "\n",
    "$$ \\int_C\\mathbf{F}\\cdot\\mathrm{d}\\mathbf{r} = -\\int_1^{x_2}\\,\\mathrm{d}x = 1 + e^\\pi$$"
   ]
  },
  {
   "cell_type": "markdown",
   "id": "a6c9dbe2-f9fa-48d6-8378-f4aa4620dd07",
   "metadata": {},
   "source": [
    "### Problem 4  \n",
    "\n",
    "$$ \\mathbf{F} = \\langle yx^3,y^2\\rangle \\quad\\quad\\text{and}\\quad\\quad C:\\; \\big(x,x^2\\big)\\quad\\text{for }\\,0\\le x \\le 1$$"
   ]
  },
  {
   "cell_type": "markdown",
   "id": "7a88ca1f-4122-4f80-8da6-039f0dbd213a",
   "metadata": {},
   "source": [
    "$$ \\int_C\\mathbf{F}\\cdot\\mathrm{d}\\mathbf{r} = \\int_CM\\,\\mathrm{d}x + N\\,\\mathrm{d}y$$"
   ]
  },
  {
   "cell_type": "markdown",
   "id": "4cba9e22-e6f3-4748-bbab-a107a0418b8b",
   "metadata": {},
   "source": [
    "$$ = \\int_0^1\\big(x^5 + 2x^5\\big)\\,\\mathrm{d}x$$"
   ]
  },
  {
   "cell_type": "markdown",
   "id": "40590f4e-59f8-4f65-9026-96ae61555432",
   "metadata": {},
   "source": [
    "$$ = 0.5$$"
   ]
  },
  {
   "cell_type": "markdown",
   "id": "4868f159-6126-4041-bf72-2260178b0032",
   "metadata": {},
   "source": [
    "### Problem 5  \n",
    "\n",
    "$$ R:\\; \\big(x,x^2\\big)\\quad\\quad \\left(x,\\frac{x^2}{5}\\right)\\quad\\quad \\left(x,\\frac{2}{x}\\right)\\quad\\quad \\left(x,\\frac{4}{x}\\right)$$"
   ]
  },
  {
   "cell_type": "markdown",
   "id": "c7788896-fb26-48b6-9b3b-4f7c7e6c7910",
   "metadata": {},
   "source": [
    "$$ R:\\;\\big(x,f(x)\\big) \\quad\\quad \\left(x,\\frac{f(x)}{5}\\right) \\quad\\quad \\big(x,g(x)\\big)\\quad\\quad \\big(x,2g(x)\\big)$$"
   ]
  },
  {
   "cell_type": "markdown",
   "id": "b7870d22-09bc-42f6-ae3d-f5780de0235c",
   "metadata": {},
   "source": [
    "where,  \n",
    "\n",
    "$$ f(x) = x^2 \\quad\\quad\\text{and}\\quad\\quad g(x) = \\frac{2}{x}$$"
   ]
  },
  {
   "cell_type": "code",
   "execution_count": 2,
   "id": "50fbe74c-401e-4cfc-9698-6d65f14be74b",
   "metadata": {
    "jupyter": {
     "source_hidden": true
    }
   },
   "outputs": [
    {
     "data": {
      "text/plain": [
       "Text(2, 1.5, '$R$')"
      ]
     },
     "execution_count": 2,
     "metadata": {},
     "output_type": "execute_result"
    },
    {
     "data": {
      "image/png": "[encoded data removed]",
      "text/plain": [
       "<Figure size 500x500 with 1 Axes>"
      ]
     },
     "metadata": {},
     "output_type": "display_data"
    }
   ],
   "source": [
    "# Create the domain.\n",
    "x = np.linspace(0.1,3,num=200)\n",
    "\n",
    "# Define the boundary lines.\n",
    "f = x**2\n",
    "g = 2/x\n",
    "\n",
    "# Create the figure and axes.\n",
    "fig, ax = plt.subplots(figsize=(5,5))\n",
    "ax.grid()\n",
    "ylim = ax.set_ylim(0,3)\n",
    "xlim = ax.set_xlim(0,3)\n",
    "\n",
    "# Plot the boundary lines.\n",
    "ax.plot(x,f,x,f/5,x,g,x,2*g,color='k')\n",
    "ax.text(2,1.5,r'$R$',size=16)"
   ]
  },
  {
   "cell_type": "markdown",
   "id": "ec691f28-476d-40cc-851e-8d36cfe8a810",
   "metadata": {},
   "source": [
    "**a)**  Recall that the area element is given by:  \n",
    "\n",
    "$$ \\mathrm{d}A = ||J||\\,\\mathrm{d}u\\,\\mathrm{d}v$$"
   ]
  },
  {
   "cell_type": "markdown",
   "id": "55005fe8-b96b-4da6-a38e-8d503200948a",
   "metadata": {},
   "source": [
    "where $J$ is the Jacobian matrix:  \n",
    "\n",
    "$$ J = \\begin{pmatrix}x_u & x_v \\\\ y_u & y_v\\end{pmatrix}$$"
   ]
  },
  {
   "cell_type": "markdown",
   "id": "f2f1f238-49ce-4137-b438-b9c3079934bf",
   "metadata": {},
   "source": [
    "Note that:  \n",
    "\n",
    "$$ u := u(x,y) = \\frac{x^2}{y}\\quad\\quad\\text{and}\\quad\\quad v:=v(x,y) = xy$$"
   ]
  },
  {
   "cell_type": "markdown",
   "id": "aab0898e-7d92-495c-bd3d-d30ced573197",
   "metadata": {},
   "source": [
    "Thus,  \n",
    "\n",
    "$$ x^2 = uy = \\frac{uv}{x} \\quad\\therefore\\quad x = \\sqrt[3]{uv} \\quad\\therefore $$"
   ]
  },
  {
   "cell_type": "markdown",
   "id": "3d2c59e4-d428-4e6f-83d0-6f00b8de80a2",
   "metadata": {},
   "source": [
    "$$x_u = \\frac{\\partial x}{\\partial u} = \\frac{1}{3}\\sqrt[3]{\\frac{v}{u^2}} \\quad\\quad\\text{and}\\quad\\quad x_v = \\frac{1}{3}\\sqrt[3]{\\frac{u}{v^2}} = \\frac{1}{3y}$$"
   ]
  },
  {
   "cell_type": "markdown",
   "id": "598df04c-7f86-409b-ac1d-3642d7b9e0aa",
   "metadata": {},
   "source": [
    "and,  \n",
    "\n",
    "$$ y = \\frac{v}{\\sqrt[3]{uv}} = \\sqrt[3]{\\frac{v^2}{u}}\\quad\\therefore$$"
   ]
  },
  {
   "cell_type": "markdown",
   "id": "e9d18d0a-9417-4eed-83fa-c76bdf58341a",
   "metadata": {},
   "source": [
    "$$ y_u = -\\frac{1}{3}\\sqrt[3]{\\frac{v^2}{u^4}} = -3x_u^2 \\quad\\quad\\text{and}\\quad\\quad y_v = \\frac{2}{3}\\frac{1}{\\sqrt[3]{uv}} = \\frac{2}{3x}$$"
   ]
  },
  {
   "cell_type": "markdown",
   "id": "365c966a-6b39-49b6-9a3d-a58138918875",
   "metadata": {},
   "source": [
    "The determinant of the Jacobian is:  \n",
    "\n",
    "$$ |J| = x_uy_v - x_vy_u = \\frac{2x_u}{3x} + \\frac{x_u^2}{y}$$"
   ]
  },
  {
   "cell_type": "markdown",
   "id": "4546f62f-85cc-4681-8069-1de04d2eea2b",
   "metadata": {},
   "source": [
    "$$ = \\frac{2}{9u} + \\frac{1}{9u} = \\frac{1}{3u}$$"
   ]
  },
  {
   "cell_type": "markdown",
   "id": "ffdf642e-af82-4c31-9259-5e1012566f90",
   "metadata": {},
   "source": [
    "Finally,  \n",
    "\n",
    "$$ \\mathrm{d}A = \\mathrm{d}x\\,\\mathrm{d}y = \\frac{\\mathrm{d}v\\,\\mathrm{d}u}{3u}$$"
   ]
  },
  {
   "cell_type": "markdown",
   "id": "2752061d-1598-4cec-a898-17863bca6473",
   "metadata": {},
   "source": [
    "**b)**  Find a double integral for the area of $R$ in $uv$ coordinates and evaluate it."
   ]
  },
  {
   "cell_type": "markdown",
   "id": "f68a1805-e8ac-4e95-8450-b41b0260a8f3",
   "metadata": {},
   "source": [
    "$$ \\text{area }R = \\int\\!\\int_R \\,\\mathrm{d}A = \\int_{u_1}^{u_2}\\int_{v_1}^{v_2}\\frac{\\mathrm{d}v\\,\\mathrm{d}u}{3u}$$"
   ]
  },
  {
   "cell_type": "markdown",
   "id": "45a443ed-0b6e-442d-a6a2-4ea09fb61b36",
   "metadata": {},
   "source": [
    "$$ u = 5 \\;\\iff\\; y = \\frac{x^2}{5} \\quad\\quad\\text{and}\\quad\\quad u = 1 \\;\\iff\\; y = x^2$$"
   ]
  },
  {
   "cell_type": "markdown",
   "id": "7f6a993f-754e-41bb-87c6-faced0c29812",
   "metadata": {},
   "source": [
    "Thus,  \n",
    "\n",
    "$$ u_1 = 1 \\quad\\quad\\text{and}\\quad\\quad u_2 = 5$$"
   ]
  },
  {
   "cell_type": "markdown",
   "id": "fdaf4584-042f-4097-b343-51ae386f9450",
   "metadata": {},
   "source": [
    "$$ v_1 =2 \\quad\\quad\\text{and}\\quad\\quad v_2 = 4$$"
   ]
  },
  {
   "cell_type": "markdown",
   "id": "748d219e-42e4-469b-be23-959c82855343",
   "metadata": {},
   "source": [
    "Finally,  \n",
    "\n",
    "$$ \\text{area }R = \\int_1^5\\int_2^4\\frac{\\mathrm{d}v\\,\\mathrm{d}u}{3u} = \\frac{2}{3}\\int_1^5\\frac{\\mathrm{d}u}{u} = \\frac{2\\log 5}{3}$$"
   ]
  },
  {
   "cell_type": "markdown",
   "id": "c12a9b2e-cdf3-4090-a7ce-6ffd17f9f61c",
   "metadata": {},
   "source": [
    "Now, let's test the above answer against a different method involving computing the double integral in $xy$ coordinates that is equal to the area of our region.  First, note that:  \n",
    "\n",
    "$$ R = R_1 + R_2 + R_3 $$"
   ]
  },
  {
   "cell_type": "markdown",
   "id": "2e8d4b6e-5951-481d-974f-11a10f4f00ff",
   "metadata": {},
   "source": [
    "where,  \n",
    "\n",
    "$$ R_1:\\; (x_0,y) \\quad\\quad \\big(x,f(x)\\big)\\quad\\quad \\big(x,g(x)\\big)\\quad\\quad (x_1,y)$$\n",
    "\n",
    "$$ R_2:\\; (x_1,y) \\quad\\quad \\big(x,g(x)\\big)\\quad\\quad \\big(x,2g(x)\\big)\\quad\\quad (x_2,y)$$\n",
    "\n",
    "$$ R_3:\\; (x_2,y)\\quad\\quad \\big(x,2g(x)\\big) \\quad\\quad \\left(x,\\frac{f(x)}{5}\\right)\\quad\\quad (x_3,y)$$"
   ]
  },
  {
   "cell_type": "markdown",
   "id": "8843afcc-2df8-4b2b-bba1-7d56ed2a161c",
   "metadata": {},
   "source": [
    "$$ f(x_0) = g(x_0) \\quad\\therefore\\quad x_0^3 = 2 \\quad\\therefore\\quad x_0 = \\sqrt[3]{2}$$  \n",
    "\n",
    "$$ f(x_1) = 2g(x_1) \\quad\\therefore\\quad x_1 = \\sqrt[3]{4}$$  \n",
    "\n",
    "$$ f(x_2) = 5g(x_2) \\quad\\therefore\\quad x_2 = \\sqrt[3]{10}$$\n",
    "\n",
    "$$ x_3 = \\sqrt[3]{20}$$"
   ]
  },
  {
   "attachments": {},
   "cell_type": "markdown",
   "id": "ae63d8d6-280f-41f1-ad54-d52cfa72521b",
   "metadata": {},
   "source": [
    "$$ \\int\\!\\int_{R_1}\\,\\mathrm{d}A = \\int_{x_0}^{x_1}\\int_{g(x)}^{f(x)}\\,\\mathrm{d}y\\,\\mathrm{d}x = \\int_{x_0}^{x_1}f(x)\\,\\mathrm{d}x - \\int_{x_0}^{x_1}g(x)\\,\\mathrm{d}x$$"
   ]
  },
  {
   "cell_type": "markdown",
   "id": "530056e8-50cb-4e00-aed2-6adc446afc08",
   "metadata": {},
   "source": [
    "$$ = \\frac{x_1^3-x_0^3}{3} - 2\\big(\\log x_1 - \\log x_0\\big)$$"
   ]
  },
  {
   "cell_type": "markdown",
   "id": "34fc2411-1895-461a-be9b-88be7b4e5430",
   "metadata": {},
   "source": [
    "$$ = \\frac{2}{3} + \\frac{2}{3}\\big(\\log 2 - 2\\log2\\big) = \\frac{2-2\\log 2}{3}$$"
   ]
  },
  {
   "cell_type": "markdown",
   "id": "842ae4d4-f2d7-4745-8d8a-8bc62a78c65a",
   "metadata": {},
   "source": [
    "$$ \\int\\!\\int_{R_2}\\,\\mathrm{d}A = \\int_{x_1}^{x_2}\\int_{g(x)}^{2g(x)}\\,\\mathrm{d}y\\,\\mathrm{d}x = \\int_{x_1}^{x_2}g(x)\\,\\mathrm{d}x$$"
   ]
  },
  {
   "cell_type": "markdown",
   "id": "6c236e2b-d6bf-4a46-8e8f-fd6429f878bd",
   "metadata": {},
   "source": [
    "$$ = 2\\big(\\log x_2 - \\log x_1\\big) = \\frac{2}{3}\\big(\\log 10 - 2 \\log 2\\big)$$"
   ]
  },
  {
   "cell_type": "markdown",
   "id": "7fece07e-42a9-4eff-ae9b-14eb9a12c6b3",
   "metadata": {},
   "source": [
    "$$ = \\frac{2}{3}\\big(\\log 5 - \\log 2\\big) = \\frac{2}{3}\\log\\frac{5}{2}$$"
   ]
  },
  {
   "attachments": {},
   "cell_type": "markdown",
   "id": "b2a7c188-9840-4d33-ba6e-a7b9d4237bd9",
   "metadata": {},
   "source": [
    "$$ \\int\\!\\int_{R_3}\\,\\mathrm{d}A = \\int_{x_2}^{x_3}\\int_{0.2f(x)}^{2g(x)}\\,\\mathrm{d}y\\,\\mathrm{d}x = 2\\int_{x_2}^{x_3}g(x)\\,\\mathrm{d}x - \\frac{1}{5}\\int_{x_2}^{x_3}f(x)\\,\\mathrm{d}x$$"
   ]
  },
  {
   "cell_type": "markdown",
   "id": "b2b51bfa-e8a7-43ea-bde0-5a4ca8a9e296",
   "metadata": {},
   "source": [
    "$$ = 4\\big(\\log x_3 - \\log x_2\\big) - \\frac{x_3^3 - x_2^3}{15}$$"
   ]
  },
  {
   "cell_type": "markdown",
   "id": "9f6f5af5-ffcc-47bc-91ab-c54e160f64ac",
   "metadata": {},
   "source": [
    "$$ \\frac{4}{3}\\big(2\\log 2 + \\log 5 - \\log 5 - \\log 2\\big)- \\frac{2}{3}$$"
   ]
  },
  {
   "cell_type": "markdown",
   "id": "5208852a-231e-403b-ba1d-a5d6b753f2c7",
   "metadata": {},
   "source": [
    "$$ = \\frac{4\\log 2}{3} - \\frac{2}{3}$$"
   ]
  },
  {
   "cell_type": "markdown",
   "id": "50506dc2-4121-405d-a5bc-08b071020954",
   "metadata": {},
   "source": [
    "Finally,  \n",
    "\n",
    "$$ \\text{area }R = \\frac{2\\log 2}{3} + \\frac{2\\log 5}{3} - \\frac{2\\log 2}{3} = \\frac{2\\log 5}{3}$$"
   ]
  },
  {
   "cell_type": "markdown",
   "id": "9095426a-0c1a-4c42-bb92-e526537aab8c",
   "metadata": {},
   "source": [
    "### Problem 6\n",
    "\n",
    "**a)**  Assuming $M(x,y)$ is continuously differentiable over the $x,y$-plane,  \n",
    "\n",
    "$$ \\oint_C M\\,\\mathrm{d}x = -\\int\\!\\int_R M_y\\,\\mathrm{d}A$$"
   ]
  },
  {
   "cell_type": "markdown",
   "id": "b7a23486-1ad9-4a98-a6b7-e445639f1e71",
   "metadata": {},
   "source": [
    "**b)**  We must find $M$ such that:  \n",
    "\n",
    "$$ -\\int\\!\\int_R M_y\\,\\mathrm{d}A = \\int\\!\\int_R \\delta \\,\\mathrm{d}A$$"
   ]
  },
  {
   "cell_type": "markdown",
   "id": "99f33ba8-2eba-4dc9-81a5-544cf17ab07d",
   "metadata": {},
   "source": [
    "$$ -\\frac{\\partial M}{\\partial y} = (x+y)^2 \\quad\\implies\\quad M = -\\int(x+y)^2\\,\\mathrm{d}y$$"
   ]
  },
  {
   "cell_type": "markdown",
   "id": "987832e4-2b67-43a9-b01f-e04584385875",
   "metadata": {},
   "source": [
    "$$ M = -\\int x^2\\,\\mathrm{d}y - 2x\\int y\\,\\mathrm{d}y - \\int y^2\\,\\mathrm{d}y$$"
   ]
  },
  {
   "cell_type": "markdown",
   "id": "01ea38aa-f416-4d69-9973-00991dc676d5",
   "metadata": {},
   "source": [
    "$$ = -x^2y - xy^2 - \\frac{y^3}{3} + f(x)$$"
   ]
  },
  {
   "cell_type": "markdown",
   "id": "bc7e75f0-61a3-46cf-94d7-9c7a8cf46bde",
   "metadata": {},
   "source": [
    "To verify the above:  \n",
    "\n",
    "$$ -x^2 - 2xy - y^2 = -(x+y)^2$$"
   ]
  },
  {
   "cell_type": "markdown",
   "id": "fbad98e6-7c70-4c44-b42b-712aff142f46",
   "metadata": {},
   "source": [
    "### Problem 7  \n",
    "\n",
    "Consider the region $R$ enclosed by:  \n",
    "\n",
    "$$ R:\\; (x,0) \\quad\\quad (1,y) \\quad\\quad \\big(x,x^3\\big)$$  \n",
    "\n",
    "And the field,  \n",
    "\n",
    "$$ \\mathbf{F} = \\langle 0, 1+y^2\\rangle = \\big(1+y^2\\big)\\,\\mathbf{j}$$"
   ]
  },
  {
   "cell_type": "markdown",
   "id": "61c8e926-29e7-4f19-9eb1-900c2b5783f5",
   "metadata": {},
   "source": [
    "**a)**  \n",
    "\n",
    "$$ \\oint_C \\mathbf{F}\\cdot\\mathbf{n}\\,\\mathrm{d}s = \\int\\!\\int_R 2y\\,\\mathrm{d}A$$"
   ]
  },
  {
   "cell_type": "markdown",
   "id": "12680d3a-c28f-465c-84a4-83d8451e7e33",
   "metadata": {},
   "source": [
    "$$ = \\int_0^1\\int_0^{x^3} 2y\\,\\mathrm{d}y\\,\\mathrm{d}x = \\int_0^1 x^6\\,\\mathrm{d}x = \\frac{1}{7}$$"
   ]
  },
  {
   "cell_type": "markdown",
   "id": "efdf89c5-af07-4162-bd95-b6c87105561b",
   "metadata": {},
   "source": [
    "**b)**  $$ \\int_{C_1} \\mathbf{F}\\cdot\\mathbf{n}\\,\\mathrm{d}s = -\\int_0^1 \\,\\mathrm{d}x = - 1$$"
   ]
  },
  {
   "cell_type": "markdown",
   "id": "3fa31a5a-d2a0-40f2-8a0f-9485d75e1f93",
   "metadata": {},
   "source": [
    "$$ \\int_{C_2}\\mathbf{F}\\cdot\\mathbf{n}\\,\\mathrm{s} = 0$$"
   ]
  },
  {
   "cell_type": "markdown",
   "id": "0a140796-30f6-4809-b4ff-249e6b02990d",
   "metadata": {},
   "source": [
    "**c)**  \n",
    "\n",
    "$$ \\int_{C_3}\\mathbf{F}\\cdot\\mathbf{n}\\,\\mathrm{d}s = \\frac{1}{7} + 1 = \\frac{8}{7}$$"
   ]
  }
 ],
 "metadata": {
  "kernelspec": {
   "display_name": "Python 3 (ipykernel)",
   "language": "python",
   "name": "python3"
  },
  "language_info": {
   "codemirror_mode": {
    "name": "ipython",
    "version": 3
   },
   "file_extension": ".py",
   "mimetype": "text/x-python",
   "name": "python",
   "nbconvert_exporter": "python",
   "pygments_lexer": "ipython3",
   "version": "3.10.12"
  }
 },
 "nbformat": 4,
 "nbformat_minor": 5
}
