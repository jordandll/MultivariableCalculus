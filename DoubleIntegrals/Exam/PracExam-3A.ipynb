{
 "cells": [
  {
   "cell_type": "markdown",
   "id": "c5a7df11-c814-4580-9b05-2b75fb17dc08",
   "metadata": {},
   "source": [
    "# Practice Exam 3 A"
   ]
  },
  {
   "attachments": {},
   "cell_type": "markdown",
   "id": "6e22b36e-82c6-4a01-a58c-4c9b014fb622",
   "metadata": {},
   "source": [
    "### Problem 1  \n",
    "\n",
    "Our triangle $R$ is bounded by by:  \n",
    "\n",
    "$$ R:\\; (x,0)\\quad\\quad \\big(x,f(\\pm x)\\big) \\quad\\quad\\text{where }\\,f(x) = 0.5x + 1 $$"
   ]
  },
  {
   "cell_type": "markdown",
   "id": "20968721-a770-4ef1-8011-4cc8fe2b2065",
   "metadata": {},
   "source": [
    "The center of mass is given by:  \n",
    "\n",
    "$$ \\langle\\overline{x},\\overline{y}\\rangle= \\frac{1}{\\text{area }R}\\int\\!\\int_R \\langle x,y\\rangle\\,\\mathrm{d}A$$"
   ]
  },
  {
   "cell_type": "markdown",
   "id": "edfee88d-e1cd-425b-9534-d945976f881b",
   "metadata": {},
   "source": [
    "The area of the triangle, denoted as $\\text{area }R$, is given by:  \n",
    "\n",
    "$$ \\text{area }R = 0.5\\cdot 4 \\cdot 1 = 2$$"
   ]
  },
  {
   "cell_type": "markdown",
   "id": "11c6b677-0f94-40a0-95d9-f4ae4f453145",
   "metadata": {},
   "source": [
    "**a)**  $$ \\overline{y} = \\frac{1}{2}\\int\\!\\int_R y\\,\\mathrm{d}A = \\frac{1}{2}\\int_{-2}^0\\int_0^{f(x)} y\\,\\mathrm{d}y\\,\\mathrm{d}x + \\frac{1}{2}\\int_0^2\\int_0^{f(-x)}y\\,\\mathrm{d}y\\,\\mathrm{d}x$$"
   ]
  },
  {
   "cell_type": "markdown",
   "id": "c794ab24-4851-4aec-b4c1-5e3eed09698b",
   "metadata": {},
   "source": [
    "**b)**  $$ \\overline{x} = 0$$"
   ]
  },
  {
   "cell_type": "markdown",
   "id": "a3ed516c-a5b2-47b0-a517-c59cbbc63af3",
   "metadata": {},
   "source": [
    "### Problem 2\n",
    "\n",
    "\n",
    "Suppose the unit disk is centered at origin.  Let $R$ be the portion of the disk in the first quadrant of the $x,y$-plane.  The moment of inertia $I$ is given by:  \n",
    "\n",
    "$$ I = 4\\int\\!\\int_R xr^2\\,\\mathrm{d}A = 4\\int_{0}^{0.5\\pi}\\int_0^1 r^4\\cos\\theta\\,\\mathrm{d}r\\,\\mathrm{d}\\theta$$"
   ]
  },
  {
   "cell_type": "markdown",
   "id": "d6e9eb08-9093-4075-8f9d-626fa0253529",
   "metadata": {},
   "source": [
    "$$ = \\frac{4}{5}\\int_{0}^{0.5\\pi}\\cos\\theta\\,\\mathrm{d}\\theta = \\frac{4}{5}$$"
   ]
  },
  {
   "cell_type": "markdown",
   "id": "b7f4e847-c5d0-4df5-8196-3243e7968439",
   "metadata": {},
   "source": [
    "### Problem 3  \n",
    "\n",
    "$$ \\mathbf{F} = \\big(ax^2y + y^3 + 1\\big)\\,\\mathbf{i} + \\big(2x^3 + bxy^2 + 2\\big)\\,\\mathbf{j} = \\langle M,N\\rangle$$"
   ]
  },
  {
   "cell_type": "markdown",
   "id": "c08e6ac4-3cd8-4612-a7de-e78db6ea95e2",
   "metadata": {},
   "source": [
    "**a)**  If $\\mathbf{F}$ is conservative then $\\mathrm{curl }\\,\\mathbf{F}=0$.  \n",
    "\n",
    "$$ \\oint_C\\mathbf{F}\\cdot\\mathrm{d}\\mathbf{r} = 0 \\quad\\implies\\quad \\int\\!\\int_R \\mathrm{curl }\\,\\mathbf{F}\\,\\mathrm{d}A = 0 \\quad\\implies \\quad \\mathrm{curl }\\,\\mathbf{F} = 0$$"
   ]
  },
  {
   "cell_type": "markdown",
   "id": "25ba8b1b-2522-4e7c-96bd-97c8f843ec00",
   "metadata": {},
   "source": [
    "Thus we must find $a$ and $b$ such that:  \n",
    "\n",
    "$$ N_x - M_y = 0 \\quad\\quad\\text{or}\\quad\\quad 6x^2 + by^2 - 3y^2 - ax^2 = 0$$"
   ]
  },
  {
   "cell_type": "markdown",
   "id": "8c44c6a1-f5f9-4854-972a-9f8f01f65bb1",
   "metadata": {},
   "source": [
    "The solution to the above is:  \n",
    "\n",
    "$$ a = 6 \\quad\\quad\\text{and}\\quad\\quad b = 3$$"
   ]
  },
  {
   "cell_type": "markdown",
   "id": "c9a884d7-8e95-4069-be7f-8ef0c22f107f",
   "metadata": {},
   "source": [
    "**b)**  Using method 1:  \n",
    "\n",
    "$$ f(x_1,y_1) = \\int_C \\mathbf{F}\\cdot\\mathrm{d}\\mathbf{r} =  \\int_{(0,0)}^{(x_1,y_1)}M\\,\\mathrm{d}x + N\\,\\mathrm{d}y$$"
   ]
  },
  {
   "cell_type": "markdown",
   "id": "934f510e-6550-4430-ac5e-c56eb40333a4",
   "metadata": {},
   "source": [
    "where $(x_1,y_1)$ is any point on the $x,y$-plane.  The above line integral can be broken down into parts:  One over a directed horizontal line segment $C_1$ resting on the $x$-axis from origin to $(x_1,0)$;  And, the other over a vertical directed line segment $C_2$ from $(x_1,0)$ to $(x_1,y_1)$.  \n",
    "\n",
    "$$ C = C_1 + C_2 \\quad\\iff\\quad \\int_C\\mathbf{F}\\cdot\\mathrm{d}\\mathbf{r} = \\int_{C_1}\\mathbf{F}\\cdot\\mathrm{d}\\mathbf{r} + \\int_{C_2}\\mathbf{F}\\cdot\\mathrm{d}\\mathbf{r}$$"
   ]
  },
  {
   "cell_type": "markdown",
   "id": "1255b395-d87e-4451-843f-20a0fbb9a164",
   "metadata": {},
   "source": [
    "where,  \n",
    "\n",
    "$$ C_1:\\; (x,0)\\quad\\text{for }\\, 0\\le x \\le x_1 \\quad\\quad\\text{and}\\quad\\quad C_2:\\; (x_1,y)\\quad\\text{for }\\, 0\\le y \\le y_1$$\n"
   ]
  },
  {
   "cell_type": "markdown",
   "id": "883ee963-b1bc-455f-864d-c16fae3f2767",
   "metadata": {},
   "source": [
    "Thus,  \n",
    "\n",
    "$$ \\int_{C_1}\\mathbf{F}\\cdot\\mathrm{d}\\mathbf{r} = \\int_0^{x_1}M(x,0)\\,\\mathrm{d}x = \\int_0^{x_1}\\,\\mathrm{d}x = x_1$$"
   ]
  },
  {
   "cell_type": "markdown",
   "id": "04345036-fca8-4985-b5c9-a4ebcafcf967",
   "metadata": {},
   "source": [
    "$$ \\int_{C_2}\\mathbf{F}\\cdot\\mathrm{d}\\mathbf{r} = \\int_0^{y_1}N(x_1,y)\\,\\mathrm{d}y = \\int_0^{y_1}\\big(2x_1^3 + 3x_1y^2 + 2\\big)\\,\\mathrm{d}y$$"
   ]
  },
  {
   "cell_type": "markdown",
   "id": "10125cb9-cf87-4d00-bcc6-6e7e20de43a6",
   "metadata": {},
   "source": [
    "$$ = 2y_1\\big(x_1^3+1\\big) + 3x_1\\int_0^{y_1}y^2\\,\\mathrm{d}y = 2y_1\\big(x_1^3+1\\big) + x_1y_1^3$$"
   ]
  },
  {
   "cell_type": "markdown",
   "id": "928f84a9-68d7-4089-9dca-e2c1c163af10",
   "metadata": {},
   "source": [
    "Finally,  \n",
    "\n",
    "$$ f(x,y) = 2yx^3 + 2y + xy^3 + x + c$$"
   ]
  },
  {
   "cell_type": "markdown",
   "id": "469cd2c5-decc-482d-bbdc-8565c50c02bd",
   "metadata": {},
   "source": [
    "where $c\\in\\mathbb{R}$ is an arbitrary constant of integration."
   ]
  },
  {
   "cell_type": "markdown",
   "id": "db11c495-3015-4d8a-80eb-cac90f6d9f53",
   "metadata": {},
   "source": [
    "Now, using method 2:  \n",
    "\n",
    "$$ \\frac{\\partial f}{\\partial x} = M(x,y) = 6x^2y + y^3 + 1 \\quad\\implies$$"
   ]
  },
  {
   "attachments": {},
   "cell_type": "markdown",
   "id": "1006ce1d-005c-4b12-8bc3-884361d0bf3e",
   "metadata": {},
   "source": [
    "$$ f = \\int\\big(6x^2y + y^3+1\\big)\\,\\mathrm{d}x  = 2x^3y+y + xy^3 + x + g(y)$$"
   ]
  },
  {
   "cell_type": "markdown",
   "id": "afc58143-0322-4169-8967-783e43d55963",
   "metadata": {},
   "source": [
    "where $g(y)$ is an arbitrary function of $y$.  "
   ]
  },
  {
   "cell_type": "markdown",
   "id": "52543b5e-20c7-49b5-b4c8-bfc94b3daeea",
   "metadata": {},
   "source": [
    "$$ \\frac{\\partial f}{\\partial y} = N(x,y) = 2x^3 + 3xy^2 + 2 \\quad\\quad\\text{and}\\quad\\quad \\frac{\\partial f}{\\partial y} = 2x^3 + 1 + 3xy^2 + g'(y)$$"
   ]
  },
  {
   "cell_type": "markdown",
   "id": "edba7f36-eec8-49f7-9618-d20f3e1234a8",
   "metadata": {},
   "source": [
    "Via the above,  \n",
    "\n",
    "$$ g'(y) =  1\\quad\\therefore\\quad g(y) =  y + c$$"
   ]
  },
  {
   "cell_type": "markdown",
   "id": "88643fc9-8e00-460c-a19d-d87b3989ed76",
   "metadata": {},
   "source": [
    "where $c\\in\\mathbb{R}$ is an arbitrary constant of integration.  Finally,  \n",
    "\n",
    "$$ f:=f(x,y) = 2x^3y + y + xy^3 + y + c$$"
   ]
  },
  {
   "cell_type": "markdown",
   "id": "349d4696-3bbe-4cfd-964e-3a2870e76ea1",
   "metadata": {},
   "source": [
    "Both methods are consistent with one another."
   ]
  },
  {
   "cell_type": "markdown",
   "id": "4503e4e0-8de1-41da-afca-db05cfc9da5a",
   "metadata": {},
   "source": [
    "**c)**  Via path independence,  \n",
    "\n",
    "$$ \\int_C\\mathbf{F}\\cdot\\mathrm{d}\\mathbf{r} = -\\int_1^{x_2}M(x,0)\\,\\mathrm{d}x$$"
   ]
  },
  {
   "cell_type": "markdown",
   "id": "96dfa79a-8b08-496e-8e7b-65f30439b615",
   "metadata": {},
   "source": [
    "where,  \n",
    "\n",
    "$$ x_2 = x(\\pi) = e^\\pi\\cos \\pi = -e^\\pi$$"
   ]
  },
  {
   "cell_type": "markdown",
   "id": "d904c85e-304b-4cbe-9d23-10f5eeb86072",
   "metadata": {},
   "source": [
    "Finally,  \n",
    "\n",
    "$$ \\int_C\\mathbf{F}\\cdot\\mathrm{d}\\mathbf{r} = -\\int_1^{x_2}\\,\\mathrm{d}x = 1 + e^\\pi$$"
   ]
  },
  {
   "cell_type": "markdown",
   "id": "a6c9dbe2-f9fa-48d6-8378-f4aa4620dd07",
   "metadata": {},
   "source": [
    "### Problem 4  \n",
    "\n",
    "$$ \\mathbf{F} = \\langle yx^3,y^2\\rangle \\quad\\quad\\text{and}\\quad\\quad C:\\; \\big(x,x^2\\big)\\quad\\text{for }\\,0\\le x \\le 1$$"
   ]
  },
  {
   "cell_type": "markdown",
   "id": "7a88ca1f-4122-4f80-8da6-039f0dbd213a",
   "metadata": {},
   "source": [
    "$$ \\int_C\\mathbf{F}\\cdot\\mathrm{d}\\mathbf{r} = \\int_CM\\,\\mathrm{d}x + N\\,\\mathrm{d}y$$"
   ]
  },
  {
   "cell_type": "markdown",
   "id": "4cba9e22-e6f3-4748-bbab-a107a0418b8b",
   "metadata": {},
   "source": [
    "$$ = \\int_0^1\\big(x^5 + 2x^5\\big)\\,\\mathrm{d}x$$"
   ]
  },
  {
   "cell_type": "markdown",
   "id": "40590f4e-59f8-4f65-9026-96ae61555432",
   "metadata": {},
   "source": [
    "$$ = 0.5$$"
   ]
  },
  {
   "cell_type": "markdown",
   "id": "4868f159-6126-4041-bf72-2260178b0032",
   "metadata": {},
   "source": [
    "### Problem 5"
   ]
  }
 ],
 "metadata": {
  "kernelspec": {
   "display_name": "Python 3 (ipykernel)",
   "language": "python",
   "name": "python3"
  },
  "language_info": {
   "codemirror_mode": {
    "name": "ipython",
    "version": 3
   },
   "file_extension": ".py",
   "mimetype": "text/x-python",
   "name": "python",
   "nbconvert_exporter": "python",
   "pygments_lexer": "ipython3",
   "version": "3.10.12"
  }
 },
 "nbformat": 4,
 "nbformat_minor": 5
}
