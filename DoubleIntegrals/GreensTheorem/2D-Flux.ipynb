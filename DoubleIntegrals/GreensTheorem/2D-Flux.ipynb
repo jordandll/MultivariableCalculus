{
 "cells": [
  {
   "cell_type": "markdown",
   "id": "d4a48356-8383-4b12-889c-eda11054cbe1",
   "metadata": {},
   "source": [
    "# Flux in 2D  \n",
    "\n",
    "n this section and the next we give a different way of looking at Green’s theorem which\n",
    "both shows its significance for flow fields and allows us to give an intuitive physical meaning\n",
    "for this rather mysterious equality between integrals.  \n",
    "\n",
    "We have seen that if $\\mathbf{F}$ is a force field and $C$ a directed curve, then the work done by $\\mathbf{F}$ along $C$, denoted as $W$, is given by:  \n",
    "\n",
    "\\begin{equation}\\tag{1}\n",
    "    W = \\int_C \\mathbf{F}\\cdot\\mathrm{d}\\mathbf{r} = \\int_C\\mathbf{F}\\cdot\\mathbf{T}\\,\\mathrm{d}s\n",
    "\\end{equation}  "
   ]
  },
  {
   "cell_type": "markdown",
   "id": "7104aaa6-6fb7-4c1f-a757-ee8b972f59c4",
   "metadata": {},
   "source": [
    "where $\\mathbf{r}$ is the position vector that tracks $C$.\n",
    "\n",
    "$$ \\mathbf{r}:=\\mathbf{r}(t) = \\langle x(t), y(t)\\rangle \\quad\\quad x:=x(t) \\quad\\quad y:=y(t)$$"
   ]
  },
  {
   "cell_type": "markdown",
   "id": "b06fc080-0851-45a5-a185-b50db3d353af",
   "metadata": {},
   "source": [
    "In english, we are integrating $\\mathbf{F}\\cdot\\mathbf{T}$, the *tangential component* of $\\mathbf{F}$, with respect to $s$, i.e. the legnth of the path traveled along $C$ at any given point in time, denoted as $t$, over the curve $C$.  In component notation, if $\\mathbf{F} = M\\,\\mathbf{i} + N\\,\\mathbf{j}$, then equation (1) reads,  \n",
    "\n",
    "\\begin{equation}\\tag{2}\n",
    "    W = \\int_C M\\,\\mathrm{d}x + N\\,\\mathrm{d}y = \\int_{t_0}^{t_1}\\left(M\\,\\frac{\\mathrm{d}x}{\\mathrm{d}t} + N\\,\\frac{\\mathrm{d}y}{\\mathrm{d}t}\\right)\\,\\mathrm{d}t\n",
    "\\end{equation}"
   ]
  },
  {
   "cell_type": "markdown",
   "id": "d6661b88-faa6-4a98-b4a4-bef9411a77db",
   "metadata": {},
   "source": [
    "where,  \n",
    "\n",
    "$$ M:=M(x,y)=M(t)=M(x(t),y(t)) = M(\\mathbf{r}) $$"
   ]
  },
  {
   "cell_type": "markdown",
   "id": "1a653ec1-e4ae-4dfc-aec8-3ec9b4ca1a02",
   "metadata": {},
   "source": [
    "$$ N:=N(x,y)=N(t)=N(x(t),y(t)) = N(\\mathbf{r}) $$"
   ]
  },
  {
   "cell_type": "markdown",
   "id": "805524a3-4829-44b3-82aa-1bb5e42ffc90",
   "metadata": {},
   "source": [
    "Ultimately, in the context of the work integral over $C$, our field $\\mathbf{F}$ is constrained to $C$ by $\\mathbf{r}$."
   ]
  },
  {
   "cell_type": "markdown",
   "id": "3234ceb5-22b8-4dc4-a3b3-5fa5f0ede239",
   "metadata": {},
   "source": [
    "To elaborate on equation (2),  \n",
    "\n",
    "\\begin{equation}\\tag{2.1}\n",
    "    W = \\int_C M(x,y)\\,\\mathrm{d}x + N(x,y)\\,\\mathrm{d}y = \\int_C\\mathbf{F}\\cdot\\mathrm{d}\\mathbf{r}\n",
    "\\end{equation}"
   ]
  },
  {
   "cell_type": "markdown",
   "id": "aa52e9e1-2c6e-4289-91e8-549d39d1989a",
   "metadata": {},
   "source": [
    "\\begin{equation}\\tag{2.2}\n",
    "    \\int_C M\\,\\mathrm{d}x + N\\,\\mathrm{d}y = \\int_{t_0}^{t_1}\\big(M(t)x'(t) + N(t)y'(t)\\big)\\,\\mathrm{d}t = \\int_{t_0}^{t_1}\\mathbf{F}(t)\\cdot\\mathbf{v}(t)\\,\\mathrm{d}t\n",
    "\\end{equation}"
   ]
  },
  {
   "cell_type": "markdown",
   "id": "f0ae178b-f751-452c-bca9-a55e7b8a5e90",
   "metadata": {},
   "source": [
    "where,  \n",
    "\n",
    "$$ \\mathbf{v}(t):=\\mathbf{r}'(t) = \\langle x'(t),y'(t)\\rangle \\quad\\quad\\text{and}\\quad\\quad \\mathbf{F} = \\mathbf{F}(t) = \\langle M(t),N(t)\\rangle$$"
   ]
  },
  {
   "cell_type": "markdown",
   "id": "0f5767a2-6e23-4d72-849f-292712602cfa",
   "metadata": {},
   "source": [
    "Via equations (2.1) and (2.2) and equivalence principle, we can rewrite equation (2) as:  \n",
    "\n",
    "\\begin{equation}\\tag{2}\n",
    "    W = \\int_C\\mathbf{F}\\cdot\\mathrm{d}\\mathbf{r} = \\int_{t_0}^{t_1}\\mathbf{F}(t)\\cdot\\mathbf{v}(t)\\,\\mathrm{d}t\n",
    "\\end{equation}"
   ]
  },
  {
   "cell_type": "markdown",
   "id": "368c6ff2-714f-4b7b-8ddd-e1f97c553b0e",
   "metadata": {},
   "source": [
    "Furthermore, recall that the unit tangent vector $\\mathbf{T}$ is given by:  \n",
    "\n",
    "$$ \\mathbf{T}:=\\mathbf{T}(t) = \\frac{\\mathbf{v}}{|\\mathbf{v}|} = \\frac{\\mathrm{d}\\mathbf{r}}{\\mathrm{d}t}\\cdot\\frac{\\mathrm{d}t}{|\\mathrm{d}\\mathbf{r}|} = \\frac{\\mathrm{d}\\mathbf{r}}{|\\mathrm{d}\\mathbf{r}|}$$"
   ]
  },
  {
   "cell_type": "markdown",
   "id": "9e76b832-c0f4-4774-8b03-18536960ca7f",
   "metadata": {},
   "source": [
    "Thus $\\mathbf{F}\\cdot\\mathbf{T}$ is equal to the component of $\\mathbf{F}$ in the direction of $\\mathrm{d}\\mathbf{r}$.  Note that $\\mathrm{d}\\mathbf{r}$ is the displacement spanning an infinitismal segment of $C$.  Via the fact that $|\\mathrm{d}\\mathbf{r}| = \\mathrm{d}s$ and above equation,  \n",
    "\n",
    "$$ \\mathbf{T} = \\frac{\\mathrm{d}\\mathbf{r}}{\\mathrm{d}s} = \\frac{\\mathrm{d}x}{\\mathrm{d}s}\\,\\mathbf{i} + \\frac{\\mathrm{d}y}{\\mathrm{d}s}\\,\\mathbf{j}$$"
   ]
  },
  {
   "cell_type": "markdown",
   "id": "284a02bb-9af8-4920-aae8-c16ad5b78fba",
   "metadata": {},
   "source": [
    "Via the above equation we get:  \n",
    "\n",
    "$$ \\mathbf{F}\\cdot\\mathrm{d}\\mathbf{r} = \\mathbf{F}\\cdot\\mathbf{T}\\,\\mathrm{d}s$$"
   ]
  },
  {
   "cell_type": "markdown",
   "id": "250d1bee-8c7d-45f5-baaa-8551dec67963",
   "metadata": {},
   "source": [
    "which is one step away from equation (1)."
   ]
  },
  {
   "cell_type": "markdown",
   "id": "a9ee9fa4-682f-42ff-94fc-bc9eb0ef7b5b",
   "metadata": {},
   "source": [
    "Analogously, we may integrate $\\mathbf{F}\\cdot\\mathbf{n}$, the *normal component* of $\\mathbf{F}$ along $C$, with respect to $s$ over $C$.  To describe this, suppose the curve $C$ is parametrized by $s$, which is the length of the path taken when travesing $C$ in the positive direction.  Previously in this notebook/document, $s$ was described as being dependent on time, but that is not always the case;  In theory, $s$ may be an independent variable.  The position vector for this parametrization is given by:  \n",
    "\n",
    "$$\\mathbf{r}:= \\mathbf{r}(s) = x(s)\\,\\mathbf{i} + y(s)\\,\\mathbf{j} \\quad\\therefore\\quad \\mathbf{r}'(s) = \\langle x'(s),y'(s)\\rangle = \\mathbf{T}$$"
   ]
  },
  {
   "cell_type": "markdown",
   "id": "27ff8e99-8b9e-40e7-b78f-53a5746fbccb",
   "metadata": {},
   "source": [
    "The unit tangent vector of $\\mathbf{r}(s)$, denoted as $\\mathbf{t}(s)$ is thus:  \n",
    "\n",
    "$$ \\mathbf{t}(s) = \\frac{\\mathbf{r}'(s)}{|\\mathbf{r}'(s)|} = \\frac{\\mathbf{T}}{|\\mathbf{T}|} = \\mathbf{T}$$"
   ]
  },
  {
   "cell_type": "markdown",
   "id": "520e4dd7-cd47-43d7-82ae-07255b2ac29c",
   "metadata": {},
   "source": [
    "The unit normal vector $\\mathbf{n}$ is the one shown in the picture, obtained by rotating $\\mathbf{t}$ around it's tail (initial point) by $90^\\circ$ in the clockwise direction."
   ]
  },
  {
   "cell_type": "markdown",
   "id": "751bd975-3f7f-4d39-a354-3968fe9c4793",
   "metadata": {},
   "source": [
    "Unfortunately, this direction is opposite to the one customarily used in kinematics, where $\\mathbf{t}$ and $\\mathbf{n}$ form a right-handed coordinate system for motion along\n",
    "$C$. The choice of n depends therefore on the context of the problem; the choice\n",
    "we have given is the most natural for applying Green’s theorem to flow problems."
   ]
  },
  {
   "cell_type": "markdown",
   "id": "520cee99-0b69-4cc9-9571-cafc36f3ca29",
   "metadata": {},
   "source": [
    "The usual formula for rotating a vector clockwise by $90^\\circ$ (see the figure) shows that:  \n",
    "\n",
    "\\begin{equation}\\tag{3}\n",
    "    \\mathbf{n}:=\\mathbf{n}(s) = \\frac{\\mathrm{d}y}{\\mathrm{d}s}\\,\\mathbf{i} - \\frac{\\mathrm{d}x}{\\mathrm{d}s}\\,\\mathbf{j}\n",
    "\\end{equation}"
   ]
  },
  {
   "cell_type": "markdown",
   "id": "2915e38d-76a1-45b8-9b47-6c888ee6edd9",
   "metadata": {},
   "source": [
    "The line integral of the normal component $\\mathbf{F}\\cdot\\mathbf{n}$ of the vector field $\\mathbf{F}$ with respect to $s$ over the path $C$ is called the **flux of** $\\mathbf{F}$ **across** $C$, denoted as $\\Phi$."
   ]
  }
 ],
 "metadata": {
  "kernelspec": {
   "display_name": "Python 3 (ipykernel)",
   "language": "python",
   "name": "python3"
  },
  "language_info": {
   "codemirror_mode": {
    "name": "ipython",
    "version": 3
   },
   "file_extension": ".py",
   "mimetype": "text/x-python",
   "name": "python",
   "nbconvert_exporter": "python",
   "pygments_lexer": "ipython3",
   "version": "3.10.12"
  }
 },
 "nbformat": 4,
 "nbformat_minor": 5
}
