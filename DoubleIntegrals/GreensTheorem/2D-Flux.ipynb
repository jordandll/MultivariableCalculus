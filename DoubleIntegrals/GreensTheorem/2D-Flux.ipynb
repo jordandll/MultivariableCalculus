{
 "cells": [
  {
   "cell_type": "markdown",
   "id": "d4a48356-8383-4b12-889c-eda11054cbe1",
   "metadata": {},
   "source": [
    "# Flux in 2D  \n",
    "\n",
    "n this section and the next we give a different way of looking at Green’s theorem which\n",
    "both shows its significance for flow fields and allows us to give an intuitive physical meaning\n",
    "for this rather mysterious equality between integrals.  \n",
    "\n",
    "We have seen that if $\\mathbf{F}$ is a force field and $C$ a directed curve, then the work done by $\\mathbf{F}$ along $C$, denoted by '$W$', is given by:  \n",
    "\n",
    "\\begin{equation}\\tag{1}\n",
    "    W = \\int_C \\mathbf{F}\\cdot\\mathrm{d}\\mathbf{r} = \\int_C\\mathbf{F}\\cdot\\mathbf{T}\\,\\mathrm{d}s\n",
    "\\end{equation}  "
   ]
  },
  {
   "cell_type": "markdown",
   "id": "7104aaa6-6fb7-4c1f-a757-ee8b972f59c4",
   "metadata": {},
   "source": [
    "where $\\mathbf{r}$ is the position vector that tracks $C$.\n",
    "\n",
    "$$ \\mathbf{r}:=\\mathbf{r}(t) = \\langle x(t), y(t)\\rangle \\quad\\quad x:=x(t) \\quad\\quad y:=y(t)$$"
   ]
  },
  {
   "cell_type": "markdown",
   "id": "b06fc080-0851-45a5-a185-b50db3d353af",
   "metadata": {},
   "source": [
    "In english, we are integrating $\\mathbf{F}\\cdot\\mathbf{T}$, the *tangential component* of $\\mathbf{F}$, with respect to $s$, i.e. the legnth of the path traveled along $C$ at any given point in time, denoted as $t$, over the curve $C$.  In component notation, if $\\mathbf{F} = M\\,\\mathbf{i} + N\\,\\mathbf{j}$, then the above reads,  \n",
    "\n",
    "\\begin{equation}\\tag{2}\n",
    "    W = \\int_C M\\,\\mathrm{d}x + N\\,\\mathrm{d}y = \\int_{t_0}^{t_1}\\left(M\\,\\frac{\\mathrm{d}x}{\\mathrm{d}t} + N\\,\\frac{\\mathrm{d}y}{\\mathrm{d}t}\\right)\\,\\mathrm{d}t\n",
    "\\end{equation}"
   ]
  },
  {
   "cell_type": "markdown",
   "id": "d6661b88-faa6-4a98-b4a4-bef9411a77db",
   "metadata": {},
   "source": [
    "where,  \n",
    "\n",
    "$$ M:=M(x,y)=M(t)=M(x(t),y(t)) = M(\\mathbf{r}) $$"
   ]
  },
  {
   "cell_type": "markdown",
   "id": "1a653ec1-e4ae-4dfc-aec8-3ec9b4ca1a02",
   "metadata": {},
   "source": [
    "$$ N:=N(x,y)=N(t)=N(x(t),y(t)) = N(\\mathbf{r}) $$"
   ]
  },
  {
   "cell_type": "markdown",
   "id": "805524a3-4829-44b3-82aa-1bb5e42ffc90",
   "metadata": {},
   "source": [
    "Ultimately, in the context of the work integral over $C$, our field $\\mathbf{F}$ is constrained to $C$ by $\\mathbf{r}$."
   ]
  }
 ],
 "metadata": {
  "kernelspec": {
   "display_name": "Python 3 (ipykernel)",
   "language": "python",
   "name": "python3"
  },
  "language_info": {
   "codemirror_mode": {
    "name": "ipython",
    "version": 3
   },
   "file_extension": ".py",
   "mimetype": "text/x-python",
   "name": "python",
   "nbconvert_exporter": "python",
   "pygments_lexer": "ipython3",
   "version": "3.10.12"
  }
 },
 "nbformat": 4,
 "nbformat_minor": 5
}
