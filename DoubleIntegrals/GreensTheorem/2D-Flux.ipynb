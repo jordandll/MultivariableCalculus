{
 "cells": [
  {
   "cell_type": "markdown",
   "id": "d4a48356-8383-4b12-889c-eda11054cbe1",
   "metadata": {},
   "source": [
    "# Flux in 2D  \n",
    "\n",
    "n this section and the next we give a different way of looking at Green’s theorem which\n",
    "both shows its significance for flow fields and allows us to give an intuitive physical meaning\n",
    "for this rather mysterious equality between integrals.  \n",
    "\n",
    "We have seen that if $\\mathbf{F}$ is a force field and $C$ a directed curve, then the work done by $\\mathbf{F}$ along $C$, denoted as $W$, is given by:  \n",
    "\n",
    "\\begin{equation}\\tag{1}\n",
    "    W = \\int_C \\mathbf{F}\\cdot\\mathrm{d}\\mathbf{r} = \\int_C\\mathbf{F}\\cdot\\mathbf{T}\\,\\mathrm{d}s\n",
    "\\end{equation}  "
   ]
  },
  {
   "cell_type": "markdown",
   "id": "7104aaa6-6fb7-4c1f-a757-ee8b972f59c4",
   "metadata": {},
   "source": [
    "where $\\mathbf{r}$ is the position vector that tracks $C$.\n",
    "\n",
    "$$ \\mathbf{r}:=\\mathbf{r}(t) = \\langle x(t), y(t)\\rangle \\quad\\quad x:=x(t) \\quad\\quad y:=y(t)$$"
   ]
  },
  {
   "cell_type": "markdown",
   "id": "b06fc080-0851-45a5-a185-b50db3d353af",
   "metadata": {},
   "source": [
    "In english, we are integrating $\\mathbf{F}\\cdot\\mathbf{T}$, the *tangential component* of $\\mathbf{F}$, with respect to $s$, i.e. the legnth of the path traveled along $C$ at any given point in time, denoted as $t$, over the curve $C$.  In component notation, if $\\mathbf{F} = M\\,\\mathbf{i} + N\\,\\mathbf{j}$, then equation (1) reads,  \n",
    "\n",
    "\\begin{equation}\\tag{2}\n",
    "    W = \\int_C M\\,\\mathrm{d}x + N\\,\\mathrm{d}y = \\int_{t_0}^{t_1}\\left(M\\,\\frac{\\mathrm{d}x}{\\mathrm{d}t} + N\\,\\frac{\\mathrm{d}y}{\\mathrm{d}t}\\right)\\,\\mathrm{d}t\n",
    "\\end{equation}"
   ]
  },
  {
   "cell_type": "markdown",
   "id": "d6661b88-faa6-4a98-b4a4-bef9411a77db",
   "metadata": {},
   "source": [
    "where,  \n",
    "\n",
    "$$ M:=M(x,y)=M(t)=M(x(t),y(t)) = M(\\mathbf{r}) $$"
   ]
  },
  {
   "cell_type": "markdown",
   "id": "1a653ec1-e4ae-4dfc-aec8-3ec9b4ca1a02",
   "metadata": {},
   "source": [
    "$$ N:=N(x,y)=N(t)=N(x(t),y(t)) = N(\\mathbf{r}) $$"
   ]
  },
  {
   "cell_type": "markdown",
   "id": "805524a3-4829-44b3-82aa-1bb5e42ffc90",
   "metadata": {},
   "source": [
    "Ultimately, in the context of the work integral over $C$, our field $\\mathbf{F}$ is constrained to $C$ by $\\mathbf{r}$."
   ]
  },
  {
   "cell_type": "markdown",
   "id": "3234ceb5-22b8-4dc4-a3b3-5fa5f0ede239",
   "metadata": {},
   "source": [
    "To elaborate on equation (2),  \n",
    "\n",
    "\\begin{equation}\\tag{2.1}\n",
    "    W = \\int_C M(x,y)\\,\\mathrm{d}x + N(x,y)\\,\\mathrm{d}y = \\int_C\\mathbf{F}\\cdot\\mathrm{d}\\mathbf{r}\n",
    "\\end{equation}"
   ]
  },
  {
   "cell_type": "markdown",
   "id": "aa52e9e1-2c6e-4289-91e8-549d39d1989a",
   "metadata": {},
   "source": [
    "\\begin{equation}\\tag{2.2}\n",
    "    \\int_C M\\,\\mathrm{d}x + N\\,\\mathrm{d}y = \\int_{t_0}^{t_1}\\big(M(t)x'(t) + N(t)y'(t)\\big)\\,\\mathrm{d}t = \\int_{t_0}^{t_1}\\mathbf{F}(t)\\cdot\\mathbf{v}(t)\\,\\mathrm{d}t\n",
    "\\end{equation}"
   ]
  },
  {
   "cell_type": "markdown",
   "id": "f0ae178b-f751-452c-bca9-a55e7b8a5e90",
   "metadata": {},
   "source": [
    "where,  \n",
    "\n",
    "$$ \\mathbf{v}(t):=\\mathbf{r}'(t) = \\langle x'(t),y'(t)\\rangle \\quad\\quad\\text{and}\\quad\\quad \\mathbf{F} = \\mathbf{F}(t) = \\langle M(t),N(t)\\rangle$$"
   ]
  },
  {
   "cell_type": "markdown",
   "id": "0f5767a2-6e23-4d72-849f-292712602cfa",
   "metadata": {},
   "source": [
    "Via equations (2.1) and (2.2) and equivalence principle, we can rewrite equation (2) as:  \n",
    "\n",
    "\\begin{equation}\\tag{2}\n",
    "    W = \\int_C\\mathbf{F}\\cdot\\mathrm{d}\\mathbf{r} = \\int_{t_0}^{t_1}\\mathbf{F}(t)\\cdot\\mathbf{v}(t)\\,\\mathrm{d}t\n",
    "\\end{equation}"
   ]
  },
  {
   "cell_type": "markdown",
   "id": "368c6ff2-714f-4b7b-8ddd-e1f97c553b0e",
   "metadata": {},
   "source": [
    "Furthermore, recall that the unit tangent vector $\\mathbf{T}$ is given by:  \n",
    "\n",
    "$$ \\mathbf{T}:=\\mathbf{T}(t) = \\frac{\\mathbf{v}}{|\\mathbf{v}|} = \\frac{\\mathrm{d}\\mathbf{r}}{\\mathrm{d}t}\\cdot\\frac{\\mathrm{d}t}{|\\mathrm{d}\\mathbf{r}|} = \\frac{\\mathrm{d}\\mathbf{r}}{|\\mathrm{d}\\mathbf{r}|}$$"
   ]
  },
  {
   "cell_type": "markdown",
   "id": "9e76b832-c0f4-4774-8b03-18536960ca7f",
   "metadata": {},
   "source": [
    "Thus $\\mathbf{F}\\cdot\\mathbf{T}$ is equal to the component of $\\mathbf{F}$ in the direction of $\\mathrm{d}\\mathbf{r}$.  Note that $\\mathrm{d}\\mathbf{r}$ is the displacement spanning an infinitismal segment of $C$.  Via the fact that $|\\mathrm{d}\\mathbf{r}| = \\mathrm{d}s$ and above equation,  \n",
    "\n",
    "$$ \\mathbf{T} = \\frac{\\mathrm{d}\\mathbf{r}}{\\mathrm{d}s} = \\frac{\\mathrm{d}x}{\\mathrm{d}s}\\,\\mathbf{i} + \\frac{\\mathrm{d}y}{\\mathrm{d}s}\\,\\mathbf{j}$$"
   ]
  },
  {
   "cell_type": "markdown",
   "id": "284a02bb-9af8-4920-aae8-c16ad5b78fba",
   "metadata": {},
   "source": [
    "Via the above equation we get:  \n",
    "\n",
    "$$ \\mathbf{F}\\cdot\\mathrm{d}\\mathbf{r} = \\mathbf{F}\\cdot\\mathbf{T}\\,\\mathrm{d}s$$"
   ]
  },
  {
   "cell_type": "markdown",
   "id": "250d1bee-8c7d-45f5-baaa-8551dec67963",
   "metadata": {},
   "source": [
    "which is one step away from equation (1)."
   ]
  },
  {
   "cell_type": "markdown",
   "id": "a9ee9fa4-682f-42ff-94fc-bc9eb0ef7b5b",
   "metadata": {},
   "source": [
    "Analogously, we may integrate $\\mathbf{F}\\cdot\\mathbf{n}$, the *normal component* of $\\mathbf{F}$ along $C$, with respect to $s$ over $C$.  To describe this, suppose the curve $C$ is parametrized by $s$, which is the length of the path taken when travesing $C$ in the positive direction.  Previously in this notebook/document, $s$ was described as being dependent on time, but that is not always the case;  In theory, $s$ may be an independent variable.  The position vector for this parametrization is given by:  \n",
    "\n",
    "$$\\mathbf{r}:= \\mathbf{r}(s) = x(s)\\,\\mathbf{i} + y(s)\\,\\mathbf{j} \\quad\\therefore\\quad \\mathbf{r}'(s) = \\langle x'(s),y'(s)\\rangle = \\mathbf{T}$$"
   ]
  },
  {
   "cell_type": "markdown",
   "id": "27ff8e99-8b9e-40e7-b78f-53a5746fbccb",
   "metadata": {},
   "source": [
    "The unit tangent vector of $\\mathbf{r}(s)$, denoted as $\\mathbf{t}(s)$ is thus:  \n",
    "\n",
    "$$ \\mathbf{t}(s) = \\frac{\\mathbf{r}'(s)}{|\\mathbf{r}'(s)|} = \\frac{\\mathbf{T}}{|\\mathbf{T}|} = \\mathbf{T}$$"
   ]
  },
  {
   "cell_type": "markdown",
   "id": "520e4dd7-cd47-43d7-82ae-07255b2ac29c",
   "metadata": {},
   "source": [
    "The unit normal vector $\\mathbf{n}$ is the one shown in the picture, obtained by rotating $\\mathbf{t}$ around it's tail (initial point) by $90^\\circ$ in the clockwise direction."
   ]
  },
  {
   "cell_type": "markdown",
   "id": "751bd975-3f7f-4d39-a354-3968fe9c4793",
   "metadata": {},
   "source": [
    "Unfortunately, this direction is opposite to the one customarily used in kinematics, where $\\mathbf{t}$ and $\\mathbf{n}$ form a right-handed coordinate system for motion along\n",
    "$C$. The choice of n depends therefore on the context of the problem; the choice\n",
    "we have given is the most natural for applying Green’s theorem to flow problems."
   ]
  },
  {
   "cell_type": "markdown",
   "id": "520cee99-0b69-4cc9-9571-cafc36f3ca29",
   "metadata": {},
   "source": [
    "The usual formula for rotating a vector clockwise by $90^\\circ$ (see the figure) shows that:  \n",
    "\n",
    "\\begin{equation}\\tag{3}\n",
    "    \\mathbf{n}:=\\mathbf{n}(s) = \\frac{\\mathrm{d}y}{\\mathrm{d}s}\\,\\mathbf{i} - \\frac{\\mathrm{d}x}{\\mathrm{d}s}\\,\\mathbf{j}\n",
    "\\end{equation}"
   ]
  },
  {
   "cell_type": "markdown",
   "id": "2915e38d-76a1-45b8-9b47-6c888ee6edd9",
   "metadata": {},
   "source": [
    "The line integral of the normal component $\\mathbf{F}\\cdot\\mathbf{n}$ of the vector field $\\mathbf{F}$ with respect to $s$ over the path $C$ is called the **flux of** $\\mathbf{F}$ **across** $C$, denoted as $\\Phi$.  \n",
    "\n",
    "\\begin{equation}\\tag{4}\n",
    "    \\Phi = \\int_C \\mathbf{F}\\cdot\\mathbf{n}\\,\\mathrm{d}s = \\int_C\\left(M\\,\\frac{\\mathrm{d}y}{\\mathrm{d}s} - N\\,\\frac{\\mathrm{d}x}{\\mathrm{d}s}\\right)\\,\\mathrm{d}s\n",
    "\\end{equation}"
   ]
  },
  {
   "cell_type": "markdown",
   "id": "ec44ad0a-056c-4c0c-a8b5-d4dd16a3a111",
   "metadata": {},
   "source": [
    "Via the fact that $\\mathbf{n}\\,\\mathrm{d}s = \\mathrm{d}y\\,\\mathbf{i} - \\mathrm{d}x\\,\\mathbf{j}$, we can rewrite the above equation as:  \n",
    "\n",
    "\n",
    "\\begin{equation}\\tag{5}\n",
    "    \\Phi = \\int_C M\\,\\mathrm{d}y - N\\,\\mathrm{d}x = \\int_{t_0}^{t_1}\\big(M(t)y'(t) - N(t)x'(t)\\big)\\,\\mathrm{d}t\n",
    "\\end{equation}"
   ]
  },
  {
   "cell_type": "markdown",
   "id": "d697b033-bbff-40ae-9b20-2f3e3c6d6547",
   "metadata": {},
   "source": [
    "Recall what was earlier stated in this notebook.  \n",
    "\n",
    "$$ \\mathrm{d}s = |\\mathrm{d}\\mathbf{r}| \\quad\\therefore\\quad s = \\int|\\mathrm{d}\\mathbf{r}|$$"
   ]
  },
  {
   "cell_type": "markdown",
   "id": "24805123-d798-480f-9443-0bec357a62af",
   "metadata": {},
   "source": [
    "Thus, the length $\\Delta s$ of the path $C_1$ from $P_0$ to $P_1$, assuming this path is a directed segment of $C$ or is equal to $C$, is given by:  \n",
    "\n",
    "\\begin{equation}\\tag{6}\n",
    "    \\Delta s = s_1 - s_0 = \\int_{C_1}|\\mathrm{d}\\mathbf{r}| \\quad\\quad\\text{where }\\,C_1 \\subseteq C\n",
    "\\end{equation}"
   ]
  },
  {
   "cell_type": "markdown",
   "id": "cab4c11a-df77-4fab-92d9-1dae937a6788",
   "metadata": {},
   "source": [
    "Here, $s_0$ and $s_1$ are the lengths of the paths that rest on $C$ from the begining of $C$ to $P_0$ and $P_1$ respectively.  To put the caveat of the above equation in english:  The locus of $C_1$ is an improper subset of the locus of $C$."
   ]
  },
  {
   "cell_type": "markdown",
   "id": "8f965e7e-62df-41fa-8665-47c810281957",
   "metadata": {},
   "source": [
    "Assuming $s_0=0$ and $s_1 = s \\ne \\mathit{const}$,  \n",
    "\n",
    "\\begin{equation}\\tag{6a}\n",
    "    \\Delta s = s  = \\int_{C_1}\\sqrt{(\\mathrm{d}x)^2+(\\mathrm{d}y)^2}\n",
    "\\end{equation}"
   ]
  },
  {
   "cell_type": "markdown",
   "id": "31dad7cc-66a5-47d8-951a-56f53a67d95a",
   "metadata": {},
   "source": [
    "### Example 1\n",
    "Calculate the flux of the field $\\displaystyle \\mathbf{F} = \\frac{x\\,\\mathbf{i} + y\\,\\mathbf{j}}{x^2+y^2}$ across the circle of radius $a$ centered at origin."
   ]
  },
  {
   "cell_type": "markdown",
   "id": "03540fc8-383d-400f-ad29-6a37e8ccabf7",
   "metadata": {},
   "source": [
    "The field is of course,  \n",
    "\n",
    "$$ \\mathbf{F} = \\frac{\\langle x,y\\rangle}{r^2}\\quad\\quad\\text{where }\\,r^2 = x^2 + y^2$$  "
   ]
  },
  {
   "cell_type": "markdown",
   "id": "a23493f4-086f-4486-b0ac-5a08237cbcd4",
   "metadata": {},
   "source": [
    "And, the our circle $C$ is tracked by the position vector:  \n",
    "\n",
    "$$ \\mathbf{r} := \\mathbf{r}(\\theta) = \\langle x(\\theta), y(\\theta)\\rangle \\quad\\quad x:=x(\\theta)=a\\cos \\theta \\quad\\quad y:=y(\\theta) = a\\sin\\theta$$"
   ]
  },
  {
   "cell_type": "markdown",
   "id": "3b34b1b8-c3ff-4b77-aea7-c6fc95493adc",
   "metadata": {},
   "source": [
    "**a)** Using equation (4).  \n",
    "\n",
    "The arclength $s$ of the segment $C_1$ of the circle $C$ tracked by $\\mathbf{r}$ at $\\theta$ is given by:  \n",
    "\n",
    "$$ s:=s(\\theta) = \\theta a$$"
   ]
  },
  {
   "cell_type": "markdown",
   "id": "57a94fd8-3f5f-4cdb-8b08-199a315fff3e",
   "metadata": {},
   "source": [
    "Via the above equation and the equations that parametrize $C$ and substitution,  \n",
    "\n",
    "$$ x = a\\cos\\frac{s}{a} \\quad\\quad\\text{and}\\quad\\quad y = a\\sin\\frac{s}{a}$$"
   ]
  },
  {
   "cell_type": "markdown",
   "id": "d6748d35-6d58-4174-a869-23b473aa0129",
   "metadata": {},
   "source": [
    "$$ \\frac{\\mathrm{d}x}{\\mathrm{d}s} = -\\sin \\frac{s}{a} \\quad\\quad \\text{and}\\quad\\quad \\frac{\\mathrm{d}y}{\\mathrm{d}s} = \\cos \\frac{s}{a}$$"
   ]
  },
  {
   "cell_type": "markdown",
   "id": "bd093375-6d7f-4dbb-800d-c84757d60734",
   "metadata": {},
   "source": [
    "The $x$ and $y$ compliments of our field are given by:  \n",
    "\n",
    "$$ M = \\frac{x}{r^2} = \\frac{1}{a}\\,\\cos\\frac{s}{a} \\quad\\quad\\text{and}\\quad\\quad N = \\frac{y}{r^2} = \\frac{1}{a}\\,\\sin\\frac{s}{a}$$"
   ]
  },
  {
   "cell_type": "markdown",
   "id": "6396f553-af72-4716-8084-afac3126de63",
   "metadata": {},
   "source": [
    "Finally, via equation (4),  \n",
    "\n",
    "$$ \\Phi = \\frac{1}{a}\\int_0^{2\\pi a}\\left(\\cos^2\\frac{s}{a} + \\sin^2\\frac{s}{a}\\right)\\,\\mathrm{d}s = \\frac{1}{a}\\int_0^{2\\pi a}\\,\\mathrm{d}s$$"
   ]
  },
  {
   "cell_type": "markdown",
   "id": "943622f4-9a8e-4d3a-ab34-a35078f288b2",
   "metadata": {},
   "source": [
    "$$ \\Phi= 2\\pi$$"
   ]
  },
  {
   "cell_type": "markdown",
   "id": "fe1accc1-e7c1-4eff-8218-0439c866265c",
   "metadata": {},
   "source": [
    "Alternatively, using the first equality of equation (4), we have:  \n",
    "\n",
    "$$ \\mathbf{F}\\cdot\\mathbf{n}\\,\\mathrm{d}s = \\frac{\\mathrm{d}s}{a}$$"
   ]
  },
  {
   "cell_type": "markdown",
   "id": "658227f4-b9d6-440e-8b0f-cb3eac5b966e",
   "metadata": {},
   "source": [
    "The above is because the field is always perpendicular to $C$.  Thus,  \n",
    "\n",
    "$$ \\Phi = \\int_C \\mathbf{F}\\cdot\\mathbf{n}\\,\\mathrm{d}s = \\frac{1}{a}\\int_C\\,\\mathrm{d}s = \\frac{2\\pi a}{a} = 2\\pi$$"
   ]
  },
  {
   "cell_type": "markdown",
   "id": "ab1a4be7-b2be-4e51-9839-91bf6d4ab789",
   "metadata": {},
   "source": [
    "**b)**  Using equation (5)."
   ]
  },
  {
   "cell_type": "markdown",
   "id": "478488ba-a7e9-4bb9-8c6b-6b4a4b2098fc",
   "metadata": {},
   "source": [
    "$$ x'(\\theta) = -a\\sin\\theta \\quad\\therefore\\quad \\mathrm{d}x = -a\\sin\\theta\\,\\mathrm{d}\\theta$$"
   ]
  },
  {
   "cell_type": "markdown",
   "id": "8a7a47fb-3a60-4600-bf55-9941e31daa75",
   "metadata": {},
   "source": [
    "$$ y'(\\theta) = a\\cos\\theta\\quad\\therefore\\quad \\mathrm{d}y = a\\cos\\theta\\,\\mathrm{d}\\theta$$"
   ]
  },
  {
   "cell_type": "markdown",
   "id": "1023941d-f7e6-4131-9796-6e54dd884d4b",
   "metadata": {},
   "source": [
    "$$ M = \\frac{\\cos\\theta}{a}\\quad\\quad\\text{and}\\quad\\quad N = \\frac{\\sin\\theta}{a}$$"
   ]
  },
  {
   "cell_type": "markdown",
   "id": "882c0b49-1264-455f-a6c6-bfaf0378e9e2",
   "metadata": {},
   "source": [
    "Via equation (5),  \n",
    "\n",
    "$$ \\Phi = \\int_C\\big(\\cos^2\\theta+\\sin^2\\theta\\big)\\,\\mathrm{d}\\theta = \\int_0^{2\\pi}\\,\\mathrm{d}\\theta = 2\\pi$$"
   ]
  }
 ],
 "metadata": {
  "kernelspec": {
   "display_name": "Python 3 (ipykernel)",
   "language": "python",
   "name": "python3"
  },
  "language_info": {
   "codemirror_mode": {
    "name": "ipython",
    "version": 3
   },
   "file_extension": ".py",
   "mimetype": "text/x-python",
   "name": "python",
   "nbconvert_exporter": "python",
   "pygments_lexer": "ipython3",
   "version": "3.10.12"
  }
 },
 "nbformat": 4,
 "nbformat_minor": 5
}
