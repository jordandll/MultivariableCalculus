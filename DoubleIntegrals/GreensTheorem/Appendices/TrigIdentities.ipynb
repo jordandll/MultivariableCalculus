{
 "cells": [
  {
   "cell_type": "markdown",
   "id": "de2b8527-5a19-48e6-bb80-ac41d2b91aa8",
   "metadata": {},
   "source": [
    "# Trig Identities\n",
    "\n",
    "### Propositon 1 \n",
    "\n",
    "\\begin{equation}\\tag{1}\n",
    "    \\cos^2 t = 0.5\\cos 2t + 0.5\n",
    "\\end{equation}"
   ]
  },
  {
   "cell_type": "markdown",
   "id": "d1fa9244-620d-4417-b96d-52c522f7ced9",
   "metadata": {},
   "source": [
    "**Proof**:  \n",
    "\n",
    "$$ \\frac{\\mathrm{d}\\cos^2 t}{\\mathrm{d}t} = -2\\cos t \\sin t = -\\sin 2t$$"
   ]
  },
  {
   "cell_type": "markdown",
   "id": "c738cc41-82a9-4082-a8a3-b0f683265d5b",
   "metadata": {},
   "source": [
    "$$ -\\int\\sin 2t\\,\\mathrm{d}t = 0.5\\cos 2t + K$$"
   ]
  },
  {
   "cell_type": "markdown",
   "id": "4860cd2e-e217-4436-b6d1-136d43c96852",
   "metadata": {},
   "source": [
    "Via the above two equations:  \n",
    "\n",
    "\\begin{equation}\\tag{1.1}\n",
    "    \\cos^2 t = 0.5\\cos 2t + K\n",
    "\\end{equation}"
   ]
  },
  {
   "cell_type": "markdown",
   "id": "073bb561-7b9f-4e06-acb8-c39be8164dd1",
   "metadata": {},
   "source": [
    "where $K\\in\\mathbb{R}$ is an arbitrary constant of integration.  Via the above equation,  \n",
    "\n",
    "$$ \\cos^2 0 = 0.5 \\cos 0 + K \\quad\\therefore \\quad K = 0.5$$"
   ]
  },
  {
   "cell_type": "markdown",
   "id": "8125a94c-2de4-4e16-8b19-7b590c885ee2",
   "metadata": {},
   "source": [
    "Via equation (1.1) and the above proposition we have equation (1).  Q.E.D."
   ]
  },
  {
   "cell_type": "markdown",
   "id": "432884d1-cb6c-4135-91b1-dab81f049e49",
   "metadata": {},
   "source": [
    "### Proposition 2\n",
    "\n",
    "\\begin{equation}\\tag{2}\n",
    "    \\cos^2 2t = 0.5\\cos 4t + 0.5\n",
    "\\end{equation}"
   ]
  },
  {
   "cell_type": "markdown",
   "id": "f1044746-b239-4de8-b11b-1b72f62e2d27",
   "metadata": {},
   "source": [
    "**Proof**:  \n",
    "\n",
    "$$ \\frac{\\mathrm{d}\\cos^2 2t}{\\mathrm{d}t} = -4\\cos 2t\\sin 2t = -2\\sin 4t$$"
   ]
  },
  {
   "cell_type": "markdown",
   "id": "f4f6d8d1-eddf-4c19-91c2-5ab9f4bc9e56",
   "metadata": {},
   "source": [
    "$$- 2\\int\\sin4t\\,\\mathrm{d}t = 0.5\\cos 4t + K$$"
   ]
  },
  {
   "cell_type": "markdown",
   "id": "2c4b61a7-2cf4-4e40-ad1c-ce8a883e16da",
   "metadata": {},
   "source": [
    "Via the above two equations,  \n",
    "\n",
    "\\begin{equation}\\tag{2.1}\n",
    "    \\cos^2 2t = 0.5\\cos 4t + K\n",
    "\\end{equation}"
   ]
  },
  {
   "cell_type": "markdown",
   "id": "e4aa30ca-6b0a-47ef-828d-12411c0ae374",
   "metadata": {},
   "source": [
    "Thus,  \n",
    "\n",
    "$$ 1 = 0.5 + K \\quad\\therefore\\quad K = 0.5$$"
   ]
  },
  {
   "cell_type": "markdown",
   "id": "77a87b5c-c379-49f0-9094-ffadcc21adec",
   "metadata": {},
   "source": [
    "Q.E.D."
   ]
  },
  {
   "cell_type": "markdown",
   "id": "cc37dcfb-1f17-4534-9c9a-12b00fa71a47",
   "metadata": {},
   "source": [
    "### Proposition 3\n",
    "\n",
    "Let $\\theta:=\\theta(t)$ be an arbitrary function of $t$.  \n",
    "\n",
    "\\begin{equation}\\tag{3}\n",
    "    \\cos^2 \\theta = 0.5\\cos 2\\theta + 0.5\n",
    "\\end{equation}"
   ]
  },
  {
   "cell_type": "markdown",
   "id": "e68de875-6a75-471f-ae5e-fb94a45d9008",
   "metadata": {},
   "source": [
    "**Proof**:  \n",
    "\n",
    "$$ \\frac{\\mathrm{d}\\cos^2 \\theta}{\\mathrm{d} t} = -2\\cos\\theta\\sin\\theta\\,\\theta'(t) = -\\sin 2\\theta\\,\\frac{\\mathrm{d}\\theta}{\\mathrm{d}t}$$"
   ]
  },
  {
   "cell_type": "markdown",
   "id": "8a3279f2-a9bb-4649-9b22-dbc0907d85af",
   "metadata": {},
   "source": [
    "$$ \\cos^2 \\theta = -\\int\\sin2\\theta\\,\\mathrm{d}\\theta = 0.5\\cos2\\theta + K$$"
   ]
  },
  {
   "cell_type": "markdown",
   "id": "1d6ccb01-f2c9-41ee-8efc-98f16776b331",
   "metadata": {},
   "source": [
    "Q.E.D."
   ]
  }
 ],
 "metadata": {
  "kernelspec": {
   "display_name": "Python 3 (ipykernel)",
   "language": "python",
   "name": "python3"
  },
  "language_info": {
   "codemirror_mode": {
    "name": "ipython",
    "version": 3
   },
   "file_extension": ".py",
   "mimetype": "text/x-python",
   "name": "python",
   "nbconvert_exporter": "python",
   "pygments_lexer": "ipython3",
   "version": "3.10.12"
  }
 },
 "nbformat": 4,
 "nbformat_minor": 5
}
