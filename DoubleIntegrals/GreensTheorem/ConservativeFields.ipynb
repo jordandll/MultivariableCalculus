{
 "cells": [
  {
   "cell_type": "markdown",
   "id": "047e6c3e-28f3-49a5-b24a-3913e4863548",
   "metadata": {},
   "source": [
    "# Conservative Fields  \n",
    "\n",
    "Herein we explore the relationship between Green's Theorem and conservative fields.  First, for some background information, note the following foundational principle of our terminology:  A field $\\mathbf{F}$ is conservative if and only if $\\displaystyle \\oint_C \\mathbf{F}\\cdot\\mathrm{d}\\mathbf{r} = 0$, where $C$ is any closed path and $\\mathbf{r}$ is the position vector that tracks said path."
   ]
  },
  {
   "cell_type": "markdown",
   "id": "0aa135a0-c51e-41a6-972e-a010e7f73d76",
   "metadata": {},
   "source": [
    "We can use Green's Theorem to prove the following:  \n",
    "\n",
    "### Theorem  \n",
    "\n",
    "Suppose $\\mathbf{F}=\\langle M,N\\rangle$ is a vector field that is defined and has continuous partial derivatives throughout the $xy$-plane;  Then $\\mathbf{F}$ is conservative for all $(x,y)$ if and only if $M_y=N_x$ or $\\mathrm{curl}(\\mathbf{F}) = N_x - M_y = 0$ throughout the $xy$-plane.  \n",
    "\n",
    "$$ \\oint_C\\mathbf{F}\\cdot\\mathrm{d}\\mathbf{r} = 0 \\quad\\forall (x,y) \\quad\\iff\\quad N_x = M_y \\quad\\text{or}\\quad \\mathrm{curl}(\\mathbf{F}) = N_x - M_y = 0\\quad\\forall (x,y)$$"
   ]
  },
  {
   "cell_type": "markdown",
   "id": "9ebd5e8e-7dec-465e-b566-bc08a8724eff",
   "metadata": {},
   "source": [
    "where $C$ is any closed path or loop.  \n",
    "\n",
    "### Proof  \n",
    "\n",
    "Our proof will be broken down into two parts.  The first part proves that if $\\mathbf{F}$ is conservative for all $(x,y)$ then $\\mathrm{curl}(\\mathbf{F})=0$ for all $(x,y)$.  The second part proves the converse.  \n",
    "\n",
    "#### Part One  \n",
    "\n",
    "Here we prove that  \n",
    "\n",
    "$$\\oint_C\\mathbf{F}\\cdot\\mathrm{d}\\mathbf{r} = 0 \\quad\\forall (x,y) \\quad\\implies\\quad \\mathrm{curl}(\\mathbf{F}) = 0 \\quad\\forall(x,y) $$"
   ]
  },
  {
   "cell_type": "markdown",
   "id": "d7d8336c-acaf-4611-aa63-c0e625946d0f",
   "metadata": {},
   "source": [
    "If $C$ is a complex closed curve then it is a loop with more than one mesh.  If it is a simple closed curve then it is a one mesh loop.  Every mesh of a loop is a simple closed curve, therefore, $C$ being simple or complex, $\\mathbf{F}$ being consevative implies that the line integral over every mesh of $C$ is equal to zero.  \n",
    "\n",
    "$$ \\oint_C\\mathbf{F}\\cdot\\mathrm{d}\\mathbf{r} = 0 \\quad\\implies\\quad \\oint_{S_i}\\mathbf{F}\\cdot\\mathrm{d}\\mathbf{r} = 0 \\quad\\forall i\\in I$$"
   ]
  },
  {
   "cell_type": "markdown",
   "id": "c6b4ceb6-ff25-403b-b985-2e9ee19fc171",
   "metadata": {},
   "source": [
    "where $S_i$ is the $i$'th mesh of $C$ and $I=\\{i \\in \\mathbb{N} \\;:\\; 0 < i \\le n\\}$ and $n$ is the number of meshes that make up $C$."
   ]
  },
  {
   "cell_type": "markdown",
   "id": "4ffff7f3-765f-476f-9602-eacd7b8ad26d",
   "metadata": {},
   "source": [
    "Via Green's Theorem and equivalence principle,  \n",
    "\n",
    "$$ \\oint_{S_i}\\mathbf{F}\\cdot\\mathrm{d}\\mathbf{r} = 0 \\quad\\implies\\quad \\int\\!\\int_{R_i}\\mathrm{curl}(\\mathbf{F})\\,\\mathrm{d}A = 0\\quad\\forall i\\in I$$"
   ]
  },
  {
   "cell_type": "markdown",
   "id": "b0659099-a144-410b-bf70-1b4c42de1019",
   "metadata": {},
   "source": [
    "where $R_i$ is the region bounded by the $i$'th mesh.  Via the fact that the sum of the regions bounded by a mesh is equal to the region bounded by $C$, which may be simple or complex,  \n",
    "\n",
    "$$ \\sum_{i=1}^n \\int\\!\\int_{R_i}\\mathrm{curl}(\\mathbf{F})\\,\\mathrm{d}A = \\int\\!\\int_R\\mathrm{curl}(\\mathbf{F})\\,\\mathrm{d}A = 0$$"
   ]
  },
  {
   "cell_type": "markdown",
   "id": "f5e64a39-4996-44b9-9950-e8819f5f4cb0",
   "metadata": {},
   "source": [
    "The only way for the second equality found above to hold true is if $\\mathrm{curl}(\\mathbf{F})=0$, therefore  \n",
    "\n",
    "$$ \\int\\!\\int_R\\mathrm{curl}(\\mathbf{F})\\,\\mathrm{d}A = 0 \\quad\\implies\\quad \\mathrm{curl}(\\mathbf{F}) = 0$$"
   ]
  },
  {
   "cell_type": "markdown",
   "id": "005faeab-57fe-4ae2-9dc9-f1edef2e7f21",
   "metadata": {},
   "source": [
    "Q.E.D."
   ]
  },
  {
   "cell_type": "markdown",
   "id": "85b24668-e3d1-4311-95c7-0a7151fe2ecf",
   "metadata": {},
   "source": [
    "#### Part Two\n",
    "\n",
    "This is so straight forward I won't bother for now."
   ]
  },
  {
   "cell_type": "markdown",
   "id": "dc94ccfb-2f2c-43f3-a5d9-a3622d4c7649",
   "metadata": {},
   "source": [
    "## Problems  \n",
    "\n",
    "#### Problem 1\n",
    "\n",
    "Compute the curl of the tangential vector field $\\displaystyle \\mathbf{F} = \\left\\langle -\\frac{y}{r^2}, \\frac{x}{r^2}\\right\\rangle$.  "
   ]
  },
  {
   "cell_type": "markdown",
   "id": "0e9965fa-d0f1-4307-b3fa-b75a3d77d3f7",
   "metadata": {},
   "source": [
    "$$ M_y = \\frac{2y^2}{\\big(x^2+y^2\\big)^2}-\\frac{1}{x^2+y^2} = \\frac{2y^2}{r^4} - \\frac{1}{r^2} = \\frac{y^2 - x^2}{r^4}$$"
   ]
  },
  {
   "cell_type": "markdown",
   "id": "af242268-728c-4a35-9b0d-cdfa1c413d06",
   "metadata": {},
   "source": [
    "$$ N_x = \\frac{1}{r^2} - \\frac{2x^2}{r^4} = \\frac{y^2-x^2}{r^4}$$"
   ]
  },
  {
   "cell_type": "markdown",
   "id": "583fbc1b-8868-4aff-89f7-a244387888b8",
   "metadata": {},
   "source": [
    "$$ \\mathrm{curl}(\\mathbf{F}) = 0$$"
   ]
  },
  {
   "cell_type": "markdown",
   "id": "ef00e946-723b-4ae3-8a73-534ef9456b8d",
   "metadata": {},
   "source": [
    "#### Problem 2 \n",
    "\n",
    "Show that $\\mathbf{F}$ is not conservative by computing $\\displaystyle \\oint_C\\mathbf{F}\\cdot\\mathrm{d}\\mathbf{r}$, where $C$ is the unit circle.  "
   ]
  },
  {
   "cell_type": "markdown",
   "id": "82c858a8-d159-41ac-a8ea-8235cb7dc398",
   "metadata": {},
   "source": [
    "$$ \\oint_C\\mathbf{F}\\cdot\\mathrm{d}\\mathbf{r} = \\int_C -y\\,\\mathrm{d}x + x\\,\\mathrm{d}y$$"
   ]
  },
  {
   "cell_type": "markdown",
   "id": "d064227e-e244-41fc-b6c9-bd3c31337fcb",
   "metadata": {},
   "source": [
    "Note that, throughout $C$, $r=1$.  \n",
    "\n",
    "$$ x := x(t) = \\cos t \\quad\\quad \\text{and}\\quad\\quad y := y(t) = \\sin t$$"
   ]
  },
  {
   "cell_type": "markdown",
   "id": "34d0a3a4-bd21-430d-9b88-66047c8ae292",
   "metadata": {},
   "source": [
    "$$ \\mathrm{d}x = -\\sin t\\,\\mathrm{d}t\\quad\\quad\\text{and}\\quad\\quad \\mathrm{d}y = \\cos t\\,\\mathrm{d}t$$"
   ]
  },
  {
   "cell_type": "markdown",
   "id": "a3eb3266-6c83-4f10-9f37-8d8a9e6d0608",
   "metadata": {},
   "source": [
    "Finally,  \n",
    "\n",
    "$$ \\oint_C\\mathbf{F}\\cdot\\mathrm{d}\\mathbf{r} = \\int_0^{2\\pi}\\sin^2 t\\,\\mathrm{d}t + \\cos^2 t\\,\\mathrm{d}t = \\int_0^{2\\pi}\\,\\mathrm{d}t = 2\\pi \\ne 0$$"
   ]
  },
  {
   "cell_type": "markdown",
   "id": "b42972ab-622e-4641-a8b3-bf368058bff4",
   "metadata": {},
   "source": [
    "therefore $\\mathbf{F}$ is not consevative."
   ]
  },
  {
   "cell_type": "markdown",
   "id": "a189fb12-e128-476a-a94f-96fb95cf3594",
   "metadata": {},
   "source": [
    "#### Problem 3\n",
    "Why do you think we refer to $\\mathbf{F}$ as a \"tangential\" vector field?  "
   ]
  },
  {
   "cell_type": "markdown",
   "id": "a46b171f-9923-463b-bc9b-be45baeeac6b",
   "metadata": {},
   "source": [
    "It is tangential to any circle centered at origin."
   ]
  },
  {
   "cell_type": "markdown",
   "id": "94485274-5bc9-442b-a944-5fda8e86f253",
   "metadata": {},
   "source": [
    "#### Problem 4  \n",
    "\n",
    "In polar coordinates, $\\displaystyle\\theta(x,y)=\\arctan\\frac{y}{x}$.  Show that $\\mathbf{F} = \\nabla \\theta$."
   ]
  },
  {
   "cell_type": "markdown",
   "id": "9aecb439-1234-478a-88f0-9056680e8209",
   "metadata": {},
   "source": [
    "The total derivative of $\\theta$ is given by:  \n",
    "\n",
    "$$ \\mathrm{d}\\theta = \\theta_x\\,\\mathrm{d}x + \\theta_y\\,\\mathrm{d}y$$"
   ]
  },
  {
   "cell_type": "markdown",
   "id": "7746c01e-c038-4a6a-a756-f0527e32abe3",
   "metadata": {},
   "source": [
    "Now, suppose $\\mathbf{r}$ tracks a circle $C$ with a radius of $a$.  \n",
    "\n",
    "$$ \\mathbf{r} := \\mathbf{r}(\\theta) = \\langle x(\\theta),y(\\theta)\\rangle$$"
   ]
  },
  {
   "cell_type": "markdown",
   "id": "f2cbf021-5dae-4c0e-a578-c2c3874a70fd",
   "metadata": {},
   "source": [
    "$$ x := x(\\theta) = a\\cos\\theta \\quad\\quad\\text{and}\\quad\\quad y:=y(\\theta)=a\\sin\\theta$$"
   ]
  },
  {
   "cell_type": "markdown",
   "id": "49be12bd-8f99-4253-8c3b-e38056e315c4",
   "metadata": {},
   "source": [
    "Let $\\theta:=\\theta(x,y)$.  It follows that:  \n",
    "\n",
    "$$ \\tan\\theta = \\frac{y}{x} = \\frac{a\\sin\\theta}{a\\cos\\theta} = \\tan\\theta$$"
   ]
  },
  {
   "cell_type": "markdown",
   "id": "058278a4-5a3a-434c-9050-dfd842b9a137",
   "metadata": {},
   "source": [
    "Which is consistent with the notion stated by the problem.  \n",
    "\n",
    "$$ \\theta = \\arctan\\frac{y}{x}$$"
   ]
  },
  {
   "cell_type": "markdown",
   "id": "a81dd1d3-ce36-46c4-b83b-434e8c622720",
   "metadata": {},
   "source": [
    "Via substitution,  \n",
    "\n",
    "$$ \\mathrm{d}\\theta = \\nabla \\theta\\cdot\\mathrm{d}\\mathbf{r}$$"
   ]
  },
  {
   "cell_type": "markdown",
   "id": "9af722ab-f437-4ee6-b995-809ec8632b7b",
   "metadata": {},
   "source": [
    "$$ \\oint_C\\mathbf{F}\\cdot\\mathrm{d}\\mathbf{r} = \\frac{1}{a^2}\\int_C -y\\,\\mathrm{d}x + x\\,\\mathrm{d}y$$"
   ]
  },
  {
   "cell_type": "markdown",
   "id": "396389c4-c1cf-415d-bd59-d5f4498e900c",
   "metadata": {},
   "source": [
    "$$ = \\int_0^{2\\pi}\\sin^2\\theta\\,\\mathrm{d}\\theta + \\cos^2\\theta\\,\\mathrm{d}\\theta = \\int_0^{2\\pi}\\mathrm{d}\\theta = 2\\pi$$"
   ]
  },
  {
   "cell_type": "markdown",
   "id": "0a9084de-64e4-4b87-b5b2-71533c0a955f",
   "metadata": {},
   "source": [
    "Of course,  \n",
    "\n",
    "$$ \\oint_C \\mathrm{d}\\theta = 2\\pi$$"
   ]
  },
  {
   "cell_type": "markdown",
   "id": "eab090e1-978e-4497-bc01-8680afd6b8d0",
   "metadata": {},
   "source": [
    "Via equivalence,  \n",
    "\n",
    "$$ \\oint_C\\mathbf{F}\\cdot\\mathrm{d}\\mathbf{r} = \\oint_C\\,\\mathrm{d}\\theta = \\oint_C\\nabla\\theta\\cdot\\mathrm{d}\\mathbf{r}\\quad\\therefore$$"
   ]
  },
  {
   "cell_type": "markdown",
   "id": "7700982a-05f7-4645-ba0c-bcf5b5fa4e53",
   "metadata": {},
   "source": [
    "$$ \\mathbf{F} = \\nabla \\theta$$"
   ]
  },
  {
   "cell_type": "markdown",
   "id": "020dbc20-f9b8-4b8b-b5fc-5d096b81370d",
   "metadata": {},
   "source": [
    "Q.E.D."
   ]
  }
 ],
 "metadata": {
  "kernelspec": {
   "display_name": "Python 3 (ipykernel)",
   "language": "python",
   "name": "python3"
  },
  "language_info": {
   "codemirror_mode": {
    "name": "ipython",
    "version": 3
   },
   "file_extension": ".py",
   "mimetype": "text/x-python",
   "name": "python",
   "nbconvert_exporter": "python",
   "pygments_lexer": "ipython3",
   "version": "3.10.12"
  }
 },
 "nbformat": 4,
 "nbformat_minor": 5
}
