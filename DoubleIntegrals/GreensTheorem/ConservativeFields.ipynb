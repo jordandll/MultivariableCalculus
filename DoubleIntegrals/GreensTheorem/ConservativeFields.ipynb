{
 "cells": [
  {
   "cell_type": "markdown",
   "id": "047e6c3e-28f3-49a5-b24a-3913e4863548",
   "metadata": {},
   "source": [
    "# Conservative Fields  \n",
    "\n",
    "Herein we explore the relationship between Green's Theorem and conservative fields.  First, for some background information, note the following foundational principle of our terminology:  A field $\\mathbf{F}$ is conservative if and only if $\\displaystyle \\oint_C \\mathbf{F}\\cdot\\mathrm{d}\\mathbf{r} = 0$, where $C$ is any closed path and $\\mathbf{r}$ is the position vector that tracks said path."
   ]
  }
 ],
 "metadata": {
  "kernelspec": {
   "display_name": "Python 3 (ipykernel)",
   "language": "python",
   "name": "python3"
  },
  "language_info": {
   "codemirror_mode": {
    "name": "ipython",
    "version": 3
   },
   "file_extension": ".py",
   "mimetype": "text/x-python",
   "name": "python",
   "nbconvert_exporter": "python",
   "pygments_lexer": "ipython3",
   "version": "3.10.12"
  }
 },
 "nbformat": 4,
 "nbformat_minor": 5
}
