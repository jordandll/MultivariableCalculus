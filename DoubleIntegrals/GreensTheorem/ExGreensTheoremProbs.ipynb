{
 "cells": [
  {
   "cell_type": "markdown",
   "id": "096caa30-aa9d-45a1-b29a-33de20dbe144",
   "metadata": {},
   "source": [
    "# Extended Green's Theorem\n",
    "\n",
    "#### Problem 1\n",
    "\n",
    "Is $\\displaystyle \\frac{y\\,\\mathrm{d}x - x\\,\\mathrm{d}y}{y^2}$ exact?  If so, find a potential function."
   ]
  },
  {
   "cell_type": "markdown",
   "id": "3d1b9e17-954a-4c01-827b-efd326dbfb7d",
   "metadata": {},
   "source": [
    "Let $\\mathbf{F}$ and $\\mathbf{r}$ be defined as:  \n",
    "\n",
    "$$ \\mathbf{F} = \\frac{\\langle y,-x\\rangle}{y^2} \\quad\\quad\\text{and}\\quad\\quad\\mathbf{r} := \\mathbf{r}(t) = \\langle x(t),y(t)\\rangle$$"
   ]
  },
  {
   "cell_type": "markdown",
   "id": "417f88f4-4bca-4ef1-84d6-d1cd354eb81d",
   "metadata": {},
   "source": [
    "where  \n",
    "\n",
    "$$ x:=x(t) = a\\cos t\\quad\\quad y:=y(t)=a\\sin t \\ne 0  \\quad\\implies\\quad t \\ne i\\pi \\;\\forall i \\in \\mathbb{Z}$$"
   ]
  },
  {
   "cell_type": "markdown",
   "id": "2832189d-03de-41c5-b25b-ba8509dc1589",
   "metadata": {},
   "source": [
    "The problem can now be rewritten as:  Is $\\mathbf{F}\\cdot\\mathrm{d}\\mathbf{r}$ an exact differential?  Or, does there exist a potential function $f:=f(x,y)$, such that:  \n",
    "\n",
    "$$ \\mathrm{d}f = \\mathbf{F}\\cdot\\mathrm{d}\\mathbf{r} = \\frac{y\\,\\mathrm{d}x - x\\,\\mathrm{d}y}{y^2}$$"
   ]
  },
  {
   "cell_type": "markdown",
   "id": "28ef7eee-5c47-436a-a353-6197b486b0bf",
   "metadata": {},
   "source": [
    "First, let's note that $\\mathbf{F}$ is defined throughout $D$, where $D = \\mathbb{R}^2 \\setminus \\{(x,0)\\;\\forall x \\in \\mathbb{R}\\}$ or the real plane minus the $x$-axis and that $\\mathbf{F}$ is continuously differentiable throughout $D$."
   ]
  },
  {
   "cell_type": "markdown",
   "id": "ec94415b-6bc4-45c6-a3b9-411f15ebc3ab",
   "metadata": {},
   "source": [
    "Now, let $z:=f(x,y)$.  Without any formal calculation, and instead using geometric intution, I have surmised that the potential function is given by:  \n",
    "\n",
    " $$ z:=f(x,y) = \\frac{x}{y} \\quad\\quad\\text{where }\\,y\\ne 0$$"
   ]
  }
 ],
 "metadata": {
  "kernelspec": {
   "display_name": "Python 3 (ipykernel)",
   "language": "python",
   "name": "python3"
  },
  "language_info": {
   "codemirror_mode": {
    "name": "ipython",
    "version": 3
   },
   "file_extension": ".py",
   "mimetype": "text/x-python",
   "name": "python",
   "nbconvert_exporter": "python",
   "pygments_lexer": "ipython3",
   "version": "3.10.12"
  }
 },
 "nbformat": 4,
 "nbformat_minor": 5
}
