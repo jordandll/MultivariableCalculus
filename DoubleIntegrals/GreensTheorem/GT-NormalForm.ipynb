{
 "cells": [
  {
   "cell_type": "markdown",
   "id": "e8bfd965-761c-4784-a501-200f1d4cb124",
   "metadata": {},
   "source": [
    "## Green's Theorem in Normal Form"
   ]
  },
  {
   "cell_type": "markdown",
   "id": "90a894ad-9341-41e7-8b6a-81a1e7eeb067",
   "metadata": {},
   "source": [
    "### Green's Theorem for Flux  \n",
    "\n",
    "Let $\\mathbf{F} = M\\mathbf{i} + N\\mathbf{j}$ represent a two-dimensional flow field and $C$ be a simple closed and positively oriented curve with interior $R$.  According to the previous section, the flux of $\\mathbf{F}$ across $C$, denoted as $\\Phi$, is given by:  \n",
    "\n",
    "\\begin{equation}\\tag{1}\n",
    "    \\Phi = \\oint_C M\\,\\mathrm{d}y - N\\,\\mathrm{d}x\n",
    "\\end{equation}"
   ]
  },
  {
   "cell_type": "markdown",
   "id": "12181fa1-4797-4a9e-b430-071dd800242b",
   "metadata": {},
   "source": [
    "Note that, since the normal vector $\\mathbf{n}$ points outwards, away from $R$, the flux is positive where the flows is out of $R$ and vice versa;  The flux is negative where the flows is into $R$."
   ]
  },
  {
   "cell_type": "markdown",
   "id": "b3ee6c81-e7d7-465a-b11b-db646b62d3af",
   "metadata": {},
   "source": [
    "We now apply Green's Theorem to the line integral in equation (1);  First we write the integral in standard form ($\\mathrm{d}x$ first, then $\\mathrm{d}y$):  \n",
    "\n",
    "$$ \\Phi = \\oint_C-N\\,\\mathrm{d}x + M\\,\\mathrm{d}y = \\int\\!\\int_R\\big(M_x-(-N_y)\\big)\\,\\mathrm{d}A $$"
   ]
  },
  {
   "cell_type": "markdown",
   "id": "6090e4fe-1269-43ce-9d9e-973993692728",
   "metadata": {},
   "source": [
    "This gives us **Green's Theorem in the normal form**.  \n",
    "\n",
    "\\begin{equation}\\tag{2}\n",
    "    \\Phi = \\oint_C M\\,\\mathrm{d}y - N\\,\\mathrm{d}x = \\int\\!\\int_R\\left(\\frac{\\partial M}{\\partial x} + \\frac{\\partial N}{\\partial y}\\right)\\,\\mathrm{d}A\n",
    "\\end{equation}"
   ]
  },
  {
   "cell_type": "markdown",
   "id": "077689df-fb23-4181-a61d-30311dd7b3ef",
   "metadata": {},
   "source": [
    "### Green's Theorem  \n",
    "To elaborate on the above equation, recall the proof for Green's theorem.  Suppose $C$ is a positively oriented rectangle and $R$ is the interior region thereof.  Green's theorem says that:  \n",
    "\n",
    "\\begin{equation}\\tag{3}\n",
    "    \\oint_C M\\,\\mathrm{d}x + N\\,\\mathrm{d}y = \\int\\!\\int_R\\big(N_x - M_y\\big)\\,\\mathrm{d}A\n",
    "\\end{equation}\n",
    "\n",
    "**Proof**:  \n",
    "\n",
    "Suppose the vertices of $C$ are $a$, $b$, $c$, and $d$ (in the order that they are encountered when traversing $C$ in the direction it is oriented in) and $\\overrightarrow{ab}$ is parallel to the $x$-axis.  First, we will prove Green's theorem for $N$.  "
   ]
  },
  {
   "cell_type": "markdown",
   "id": "3a99466e-5ee1-4dcd-a084-a93983f1ddea",
   "metadata": {},
   "source": [
    "#### Premise 1  \n",
    "\n",
    "\\begin{equation}\\tag{3.1}\n",
    "    \\oint_C N\\,\\mathrm{d}y = \\int\\!\\int_R N_x\\,\\mathrm{d}A\n",
    "\\end{equation}"
   ]
  },
  {
   "cell_type": "markdown",
   "id": "1d678e07-a4e1-4670-beb3-df42232b3adc",
   "metadata": {},
   "source": [
    "**Proof**:  \n",
    "\n",
    "$$ \\oint_C N\\,\\mathrm{d}y = \\int_{b_y}^{c_y} N(b_x,y)\\,\\mathrm{d}y + \\int_{d_y}^{a_y} N(a_x,y)\\,\\mathrm{d}y$$"
   ]
  },
  {
   "cell_type": "markdown",
   "id": "95f00c39-a981-41ef-9086-462905aa254b",
   "metadata": {},
   "source": [
    "$$ = \\int_{a_y}^{c_y}N(b_x,y)\\,\\mathrm{d}y + \\int_{c_y}^{a_y}N(a_x,y)\\,\\mathrm{d}y$$"
   ]
  },
  {
   "cell_type": "markdown",
   "id": "a11e2bdf-6438-4d9f-af89-a0d5a3e835c1",
   "metadata": {},
   "source": [
    "\\begin{equation}\\tag{3.1.1}\n",
    "    = \\int_{a_y}^{c_y}\\big(N(b_x,y) - N(a_x,y)\\big)\\,\\mathrm{d}y\n",
    "\\end{equation}"
   ]
  },
  {
   "cell_type": "markdown",
   "id": "1063c534-ec6e-4e52-b10d-46f2df388ed0",
   "metadata": {},
   "source": [
    "And,  \n",
    "\n",
    "$$ \\int\\!\\int_R N_x \\,\\mathrm{d}A = \\int_{a_y}^{c_y}\\int_{a_x}^{b_x} \\frac{\\partial N(x,y)}{\\partial x}\\,\\mathrm{d}x\\,\\mathrm{d}y$$"
   ]
  },
  {
   "cell_type": "markdown",
   "id": "314fb9c1-a900-4bc1-90b7-d72344bf149c",
   "metadata": {},
   "source": [
    "\\begin{equation}\\tag{3.1.2}\n",
    "    = \\int_{a_y}^{c_y}\\big(N(b_x,y) - N(a_x,y)\\big)\\,\\mathrm{d}y\n",
    "\\end{equation}"
   ]
  },
  {
   "cell_type": "markdown",
   "id": "26db4ba7-272b-4525-a044-6dcd3b368ec8",
   "metadata": {},
   "source": [
    "Via equations (3.1.1) and (3.1.2) we have (3.1).  Q.E.D."
   ]
  },
  {
   "cell_type": "markdown",
   "id": "69161479-df4d-46f4-b8a6-5b80986b5a3d",
   "metadata": {},
   "source": [
    "#### Premise 2\n",
    "Next we prove Green's theorem for $M$.  \n",
    "\n",
    "\\begin{equation}\\tag{3.2}\n",
    "    \\oint_C M\\,\\mathrm{d}x = -\\int\\!\\int_R M_y\\,\\mathrm{d}A\n",
    "\\end{equation}"
   ]
  },
  {
   "cell_type": "markdown",
   "id": "50f673f2-5226-4a0d-8513-ef5d8936b68a",
   "metadata": {},
   "source": [
    "**Proof**:  \n",
    "\n",
    "$$ \\oint_C M\\,\\mathrm{d}x = \\int_{a_x}^{b_x}M(x,a_y)\\,\\mathrm{d}x + \\int_{c_x}^{d_x}M(x,d_y)\\,\\mathrm{d}x$$"
   ]
  },
  {
   "cell_type": "markdown",
   "id": "310b1d29-e7c0-4130-9f8a-38c1187ad381",
   "metadata": {},
   "source": [
    "$$ = \\int_{a_x}^{b_x}M(x,a_y)\\,\\mathrm{d}x + \\int_{b_x}^{a_x}M(x,d_y)\\,\\mathrm{d}x$$"
   ]
  },
  {
   "cell_type": "markdown",
   "id": "aea5050a-1b0a-4efc-a8fc-0dc4ff8ece71",
   "metadata": {},
   "source": [
    "\\begin{equation}\\tag{3.2.1}\n",
    "    \\int_{a_x}^{b_x}\\big(M(x,a_y) - M(x,d_y)\\big)\\,\\mathrm{d}x\n",
    "\\end{equation}"
   ]
  },
  {
   "cell_type": "markdown",
   "id": "544c6c26-fd15-43d1-997c-23c440516bb2",
   "metadata": {},
   "source": [
    "And,  \n",
    "\n",
    "$$ -\\int\\!\\int_R M_y\\,\\mathrm{d}A = -\\int_{a_x}^{b_x}\\int_{a_y}^{d_y} \\frac{\\partial M(x,y)}{\\partial y}\\,\\mathrm{d}y\\,\\mathrm{d}x$$"
   ]
  },
  {
   "cell_type": "markdown",
   "id": "871d52e7-4099-40b6-b965-3aeb5905e89e",
   "metadata": {},
   "source": [
    "\\begin{equation}\\tag{3.2.2}\n",
    "    = \\int_{a_x}^{b_x}\\big(M(x,a_y)-M(x,d_y)\\big)\\,\\mathrm{d}x\n",
    "\\end{equation}"
   ]
  },
  {
   "cell_type": "markdown",
   "id": "6980a007-f306-4c70-a02f-f520dbdce35d",
   "metadata": {},
   "source": [
    "Finally, via equations (3.2.1) and (3.2.2), we have equation (3.2).  Q.E.D."
   ]
  },
  {
   "cell_type": "markdown",
   "id": "e4cb5939-c030-46c0-b455-f5621bf4152e",
   "metadata": {},
   "source": [
    "As one can see, swapping $M$ with $-N$ in equation (3.2) and $N$ with $M$ in equation (3.1) gives equation (2), Green's theorem in normal form."
   ]
  },
  {
   "cell_type": "markdown",
   "id": "cb7004b1-60e8-4d3a-a61d-5f47f92721d9",
   "metadata": {},
   "source": [
    "Mathematically this is the same theorem as the tangential form of Green’s theorem — all\n",
    "we have done is to juggle the symbols $M$ and $N$ around, changing the sign of one of them.\n",
    "What is different is the physical interpretation. The left side represents the flux of $\\mathbf{F}$ across\n",
    "the closed curve $C$. What does the right side represent?"
   ]
  }
 ],
 "metadata": {
  "kernelspec": {
   "display_name": "Python 3 (ipykernel)",
   "language": "python",
   "name": "python3"
  },
  "language_info": {
   "codemirror_mode": {
    "name": "ipython",
    "version": 3
   },
   "file_extension": ".py",
   "mimetype": "text/x-python",
   "name": "python",
   "nbconvert_exporter": "python",
   "pygments_lexer": "ipython3",
   "version": "3.10.12"
  }
 },
 "nbformat": 4,
 "nbformat_minor": 5
}
