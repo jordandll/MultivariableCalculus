{
 "cells": [
  {
   "cell_type": "markdown",
   "id": "e8bfd965-761c-4784-a501-200f1d4cb124",
   "metadata": {},
   "source": [
    "## Green's Theorem in Normal Form"
   ]
  },
  {
   "cell_type": "markdown",
   "id": "90a894ad-9341-41e7-8b6a-81a1e7eeb067",
   "metadata": {},
   "source": [
    "### Green's Theorem for Flux  \n",
    "\n",
    "Let $\\mathbf{F} = M\\mathbf{i} + N\\mathbf{j}$ represent a two-dimensional flow field and $C$ be a simple closed and positively oriented curve with interior $R$.  According to the previous section, the flux of $\\mathbf{F}$ across $C$, denoted as $\\Phi$, is given by:  \n",
    "\n",
    "\\begin{equation}\\tag{1}\n",
    "    \\Phi = \\oint_C M\\,\\mathrm{d}y - N\\,\\mathrm{d}x\n",
    "\\end{equation}"
   ]
  },
  {
   "cell_type": "markdown",
   "id": "12181fa1-4797-4a9e-b430-071dd800242b",
   "metadata": {},
   "source": [
    "Note that, since the normal vector $\\mathbf{n}$ points outwards, away from $R$, the flux is positive where the flows is out of $R$ and vice versa;  The flux is negative where the flows is into $R$."
   ]
  },
  {
   "cell_type": "markdown",
   "id": "b3ee6c81-e7d7-465a-b11b-db646b62d3af",
   "metadata": {},
   "source": [
    "We now apply Green's Theorem to the line integral in equation (1);  First we write the integral in standard form ($\\mathrm{d}x$ first, then $\\mathrm{d}y$):  \n",
    "\n",
    "$$ \\Phi = \\oint_C-N\\,\\mathrm{d}x + M\\,\\mathrm{d}y = \\int\\!\\int_R\\big(M_x-(-N_y)\\big)\\,\\mathrm{d}A $$"
   ]
  },
  {
   "cell_type": "markdown",
   "id": "6090e4fe-1269-43ce-9d9e-973993692728",
   "metadata": {},
   "source": [
    "This gives us **Green's Theorem in the normal form**.  \n",
    "\n",
    "\\begin{equation}\\tag{2}\n",
    "    \\oint_C M\\,\\mathrm{d}y - N\\,\\mathrm{d}x = \\int\\!\\int_R\\left(\\frac{\\partial M}{\\partial x} + \\frac{\\partial N}{\\partial y}\\right)\\,\\mathrm{d}A\n",
    "\\end{equation}"
   ]
  },
  {
   "cell_type": "markdown",
   "id": "077689df-fb23-4181-a61d-30311dd7b3ef",
   "metadata": {},
   "source": [
    "### Green's Theorem  \n",
    "To elaborate on the above equation, recall the proof for Green's theorem.  Suppose $C$ is a positively oriented rectangle and $R$ is the interior region thereof.  Green's theorem says that:  \n",
    "\n",
    "\\begin{equation}\\tag{3}\n",
    "    \\oint_C M\\,\\mathrm{d}x + N\\,\\mathrm{d}y = \\int\\!\\int_R\\big(N_x - M_y\\big)\\,\\mathrm{d}A\n",
    "\\end{equation}\n",
    "\n",
    "**Proof**:  \n",
    "\n",
    "Suppose the vertices of $C$ are $a$, $b$, $c$, and $d$ (in the order that they are encountered when traversing $C$ in the direction it is oriented in) and $\\overrightarrow{ab}$ is parallel to the $x$-axis.  First, we will prove Green's theorem for $N$.  "
   ]
  },
  {
   "cell_type": "markdown",
   "id": "3a99466e-5ee1-4dcd-a084-a93983f1ddea",
   "metadata": {},
   "source": [
    "#### Premise 1  \n",
    "\n",
    "\\begin{equation}\\tag{3.1}\n",
    "    \\oint_C N\\,\\mathrm{d}y = \\int\\!\\int_R N_x\\,\\mathrm{d}A\n",
    "\\end{equation}"
   ]
  },
  {
   "cell_type": "markdown",
   "id": "1d678e07-a4e1-4670-beb3-df42232b3adc",
   "metadata": {},
   "source": [
    "**Proof**:  \n",
    "\n",
    "$$ \\oint_C N\\,\\mathrm{d}y = \\int_{b_y}^{c_y} N(b_x,y)\\,\\mathrm{d}y + \\int_{d_y}^{a_y} N(a_x,y)\\,\\mathrm{d}y$$"
   ]
  },
  {
   "cell_type": "markdown",
   "id": "95f00c39-a981-41ef-9086-462905aa254b",
   "metadata": {},
   "source": [
    "$$ = \\int_{a_y}^{c_y}N(b_x,y)\\,\\mathrm{d}y + \\int_{c_y}^{a_y}N(a_x,y)\\,\\mathrm{d}y$$"
   ]
  },
  {
   "cell_type": "markdown",
   "id": "a11e2bdf-6438-4d9f-af89-a0d5a3e835c1",
   "metadata": {},
   "source": [
    "\\begin{equation}\\tag{3.1.1}\n",
    "    = \\int_{a_y}^{c_y}\\big(N(b_x,y) - N(a_x,y)\\big)\\,\\mathrm{d}y\n",
    "\\end{equation}"
   ]
  },
  {
   "cell_type": "markdown",
   "id": "1063c534-ec6e-4e52-b10d-46f2df388ed0",
   "metadata": {},
   "source": [
    "And,  \n",
    "\n",
    "$$ \\int\\!\\int_R N_x \\,\\mathrm{d}A = \\int_{a_y}^{c_y}\\int_{a_x}^{b_x} \\frac{\\partial N(x,y)}{\\partial x}\\,\\mathrm{d}x\\,\\mathrm{d}y$$"
   ]
  },
  {
   "cell_type": "markdown",
   "id": "314fb9c1-a900-4bc1-90b7-d72344bf149c",
   "metadata": {},
   "source": [
    "\\begin{equation}\\tag{3.1.2}\n",
    "    = \\int_{a_y}^{c_y}\\big(N(b_x,y) - N(a_x,y)\\big)\\,\\mathrm{d}y\n",
    "\\end{equation}"
   ]
  },
  {
   "cell_type": "markdown",
   "id": "26db4ba7-272b-4525-a044-6dcd3b368ec8",
   "metadata": {},
   "source": [
    "Via equations (3.1.1) and (3.1.2) we have (3.1).  Q.E.D."
   ]
  },
  {
   "cell_type": "markdown",
   "id": "69161479-df4d-46f4-b8a6-5b80986b5a3d",
   "metadata": {},
   "source": [
    "#### Premise 2\n",
    "Next we prove Green's theorem for $M$.  \n",
    "\n",
    "\\begin{equation}\\tag{3.2}\n",
    "    \\oint_C M\\,\\mathrm{d}x = -\\int\\!\\int_R M_y\\,\\mathrm{d}A\n",
    "\\end{equation}"
   ]
  },
  {
   "cell_type": "markdown",
   "id": "50f673f2-5226-4a0d-8513-ef5d8936b68a",
   "metadata": {},
   "source": [
    "**Proof**:  \n",
    "\n",
    "$$ \\oint_C M\\,\\mathrm{d}x = \\int_{a_x}^{b_x}M(x,a_y)\\,\\mathrm{d}x + \\int_{c_x}^{d_x}M(x,d_y)\\,\\mathrm{d}x$$"
   ]
  },
  {
   "cell_type": "markdown",
   "id": "310b1d29-e7c0-4130-9f8a-38c1187ad381",
   "metadata": {},
   "source": [
    "$$ = \\int_{a_x}^{b_x}M(x,a_y)\\,\\mathrm{d}x + \\int_{b_x}^{a_x}M(x,d_y)\\,\\mathrm{d}x$$"
   ]
  },
  {
   "cell_type": "markdown",
   "id": "aea5050a-1b0a-4efc-a8fc-0dc4ff8ece71",
   "metadata": {},
   "source": [
    "\\begin{equation}\\tag{3.2.1}\n",
    "    \\int_{a_x}^{b_x}\\big(M(x,a_y) - M(x,d_y)\\big)\\,\\mathrm{d}x\n",
    "\\end{equation}"
   ]
  },
  {
   "cell_type": "markdown",
   "id": "544c6c26-fd15-43d1-997c-23c440516bb2",
   "metadata": {},
   "source": [
    "And,  \n",
    "\n",
    "$$ -\\int\\!\\int_R M_y\\,\\mathrm{d}A = -\\int_{a_x}^{b_x}\\int_{a_y}^{d_y} \\frac{\\partial M(x,y)}{\\partial y}\\,\\mathrm{d}y\\,\\mathrm{d}x$$"
   ]
  },
  {
   "cell_type": "markdown",
   "id": "871d52e7-4099-40b6-b965-3aeb5905e89e",
   "metadata": {},
   "source": [
    "\\begin{equation}\\tag{3.2.2}\n",
    "    = \\int_{a_x}^{b_x}\\big(M(x,a_y)-M(x,d_y)\\big)\\,\\mathrm{d}x\n",
    "\\end{equation}"
   ]
  },
  {
   "cell_type": "markdown",
   "id": "6980a007-f306-4c70-a02f-f520dbdce35d",
   "metadata": {},
   "source": [
    "Finally, via equations (3.2.1) and (3.2.2), we have equation (3.2).  Q.E.D."
   ]
  },
  {
   "cell_type": "markdown",
   "id": "e4cb5939-c030-46c0-b455-f5621bf4152e",
   "metadata": {},
   "source": [
    "As one can see, swapping $M$ with $-N$ in equation (3.2) and $N$ with $M$ in equation (3.1) gives equation (2), Green's theorem in normal form."
   ]
  },
  {
   "cell_type": "markdown",
   "id": "cb7004b1-60e8-4d3a-a61d-5f47f92721d9",
   "metadata": {},
   "source": [
    "Mathematically this is the same theorem as the tangential form of Green’s theorem — all\n",
    "we have done is to juggle the symbols $M$ and $N$ around, changing the sign of one of them.\n",
    "What is different is the physical interpretation. The left side represents the flux of $\\mathbf{F}$ across\n",
    "the closed curve $C$. What does the right side represent?"
   ]
  },
  {
   "cell_type": "markdown",
   "id": "2e2571ef-4320-4666-9b34-d875ea8f8cd3",
   "metadata": {},
   "source": [
    "### The 2D Divergence  \n",
    "\n",
    "Once again, let $\\mathbf{F} = M\\,\\mathbf{i} + N\\,\\mathbf{j}$.  We give a name to and a notation for the integrand of the double integral on the right of equation (2).  The **divergence** of $\\mathbf{F}$, denoted as $\\mathrm{div }\\,\\mathbf{F}$ or $\\mathrm{div}(\\mathbf{F})$, is given by:  \n",
    "\n",
    "\\begin{equation}\\tag{3}\n",
    "    \\mathrm{div }\\,\\mathbf{F} = \\frac{\\partial M}{\\partial x} + \\frac{\\partial N}{\\partial y}\n",
    "\\end{equation}"
   ]
  },
  {
   "cell_type": "markdown",
   "id": "43069f72-8275-4e76-a943-3f0d72dc02ef",
   "metadata": {},
   "source": [
    "Evidently $\\mathrm{div }\\,\\mathbf{F}$ is a scalar function of two variables. To get at its physical meaning, look\n",
    "at the small rectangle pictured. If $\\mathbf{F}$ is continuously differentiable, then $\\mathrm{div }\\,\\mathbf{F}$ is a continuous\n",
    "function, which is therefore approximately constant if the rectangle is small enough. We\n",
    "apply (2) to the rectangle; The double integral is approximated by a product, since the\n",
    "integrand is approximately constant.  Thus, the flux across the sides of the pictured rectangle, denoted as $\\Phi$, is given by:  \n",
    "\n",
    "\\begin{equation}\\tag{4}\n",
    "    \\Phi \\approxeq \\left(\\frac{\\partial M}{\\partial x} + \\frac{\\partial N}{\\partial y}\\right)\\Delta A = \\mathrm{div}(\\mathbf{F})\\,\\Delta A\n",
    "\\end{equation}"
   ]
  },
  {
   "cell_type": "markdown",
   "id": "41771e3b-4886-47da-8cf4-d0b47290e207",
   "metadata": {},
   "source": [
    "where $\\Delta A$ is equal to the area of the aforementioned rectangle.  \n",
    "\n",
    "Because of the importance of this approximate relation, we give a more direct derivation\n",
    "of it which doesn’t use Green’s theorem. The reasoning which follows is widely used in\n",
    "mathematical modeling of physical problems.  \n",
    "\n",
    "Consider the small rectangle shown;  We approximately calculate the flux over each side.  \n",
    "\n",
    "$$ \\Phi_\\mathrm{t} \\approxeq \\big(\\mathbf{F}(x,y+\\Delta y)\\cdot\\mathbf{j}\\big)\\Delta x = N(x,y+\\Delta y)\\Delta x$$  \n",
    "\n",
    "$$ \\Phi_\\mathrm{b} \\approxeq \\big(\\mathbf{F}(x,y)\\cdot -\\mathbf{j}\\big)\\Delta x = -N(x,y)\\Delta x$$"
   ]
  },
  {
   "cell_type": "markdown",
   "id": "5d9a7fa8-ccee-4a79-bdd0-0949e0fab29c",
   "metadata": {},
   "source": [
    "where '$\\Phi_\\mathrm{t}$' and '$\\Phi_\\mathrm{b}$' denote the flux across the top and bottom side of the rectangle respectively.  Adding these up gives:  \n",
    "\n",
    "$$ \\Phi_\\mathrm{t} + \\Phi_\\mathrm{b} \\approxeq \\big(N(x,y+\\Delta y) - N(x,y)\\big)\\Delta x \\approxeq \\frac{\\partial N}{\\partial y}\\Delta y\\,\\Delta x$$"
   ]
  },
  {
   "cell_type": "markdown",
   "id": "54646f10-b344-4b7e-a6d5-3de3e0ed363b",
   "metadata": {},
   "source": [
    "And, by similar reasoning applied to the other two sides,  \n",
    "\n",
    "$$ \\Phi_\\mathrm{r} \\approxeq \\big(\\mathbf{F}(x+\\Delta x,y)\\cdot\\mathbf{i}\\big)\\Delta y = M(x+\\Delta x,y)\\Delta y$$  \n",
    "\n",
    "$$ \\Phi_\\mathrm{l} \\approxeq \\big(\\mathbf{F}(x,y)\\cdot-\\mathbf{i}\\big)\\Delta y = -M(x,y)\\Delta y$$"
   ]
  },
  {
   "cell_type": "markdown",
   "id": "d8179d91-e6fd-42a6-97ac-24316ffd2a8a",
   "metadata": {},
   "source": [
    "Adding these up gives:  \n",
    "\n",
    "$$ \\Phi_\\mathrm{r} + \\Phi_\\mathrm{l} \\approxeq \\big(M(x+\\Delta x,y) - M(x,y)\\big)\\Delta y \\approxeq \\frac{\\partial M}{\\partial x}\\Delta x\\,\\Delta y$$"
   ]
  },
  {
   "cell_type": "markdown",
   "id": "d26e77c3-f5dd-4077-8cd3-3863af811310",
   "metadata": {},
   "source": [
    "Adding up all four sides gives us equation (4).  \n",
    "\n",
    "$$ \\Phi \\approxeq \\left(\\frac{\\partial M}{\\partial x}+\\frac{\\partial N}{\\partial y}\\right)\\Delta x\\,\\Delta y = \\mathrm{div}(\\mathbf{F})\\Delta A$$"
   ]
  },
  {
   "cell_type": "markdown",
   "id": "9ce0fd59-0823-4ec2-b03f-4fb1c4dbdc11",
   "metadata": {},
   "source": [
    "### Verification  \n",
    "\n",
    "Verify that $\\displaystyle \\oint_C M\\,\\mathrm{d}y - N\\,\\mathrm{d}x = \\int\\!\\int_R\\left(\\frac{\\partial M}{\\partial x} + \\frac{\\partial N}{\\partial y}\\right)\\,\\mathrm{d}A$ when $\\mathbf{F} = x\\,\\mathbf{i} + x\\,\\mathbf{j}$ and $C$ is the square with vertices $(0,0)$, $(1,0)$, $(1,1)$ and $(0,1)$."
   ]
  },
  {
   "cell_type": "markdown",
   "id": "7e9d27f1-5e71-4c03-88e7-b01600cd7ba2",
   "metadata": {},
   "source": [
    "Here, we want to verify that:  \n",
    "\n",
    "$$ \\Phi = \\oint_C \\mathbf{F}\\cdot\\mathbf{n}\\,\\mathrm{d}s = \\int\\!\\int_R \\mathrm{div }\\,\\mathbf{F}\\,\\mathrm{d}A \\quad\\quad\\text{where }\\,\\mathbf{F} = \\langle x,x\\rangle$$"
   ]
  },
  {
   "cell_type": "markdown",
   "id": "b8e2d8b8-7f8e-4ce0-93bb-69cb6067e0e6",
   "metadata": {},
   "source": [
    "and $\\displaystyle C=\\sum_{i=1}^5 C_i$ is given by:  \n",
    "\n",
    "$$ C_1:\\;(x,0) \\quad\\text{and}\\quad C_2:\\;(x,1) \\quad\\text{for }\\,0\\le x\\le 1 $$"
   ]
  },
  {
   "cell_type": "markdown",
   "id": "bfb10b93-dff1-4193-a7c6-63e19ac2bf75",
   "metadata": {},
   "source": [
    "$$ C_3:\\;(0,y)\\quad\\text{and}\\quad C_4:\\;(1,y)\\quad \\text{for }\\, 0\\le y \\le 1$$"
   ]
  },
  {
   "cell_type": "markdown",
   "id": "d41bf9e1-0bc3-4c1d-9b33-653465937fdc",
   "metadata": {},
   "source": [
    "Thus,  \n",
    "\n",
    "$$ \\Phi = \\oint_C M\\,\\mathrm{d}y - N\\,\\mathrm{d}x = \\sum_{i=1}^5 \\Phi_i$$"
   ]
  },
  {
   "cell_type": "markdown",
   "id": "22bc0d8a-cd0d-4824-8058-e26ad8808a38",
   "metadata": {},
   "source": [
    "where  \n",
    "\n",
    "$$ \\Phi_1 = \\oint_{C_1}\\mathbf{F}\\cdot\\mathbf{n}\\,\\mathrm{d}s = -\\int_0^1 x\\,\\mathrm{d}x = - 0.5$$"
   ]
  },
  {
   "cell_type": "markdown",
   "id": "2e36d936-e9f2-4bd8-8916-aa561072565c",
   "metadata": {},
   "source": [
    "$$ \\Phi_2 = \\oint_{C_2}\\mathbf{F}\\cdot\\mathbf{n}\\,\\mathrm{d}s = -\\int_1^0 x\\,\\mathrm{d}x = \\int_0^1 x\\,\\mathrm{d}x = 0.5$$"
   ]
  },
  {
   "cell_type": "markdown",
   "id": "04798f03-bce4-4ab0-a1fd-e0ce2b7ad5ea",
   "metadata": {},
   "source": [
    "$$ \\Phi_3 = \\oint_{C_3}\\mathbf{F}\\cdot\\mathbf{n}\\,\\mathrm{d}s = 0$$"
   ]
  },
  {
   "cell_type": "markdown",
   "id": "807b2639-26b6-4691-a5ed-e5aece69675e",
   "metadata": {},
   "source": [
    "and  \n",
    "\n",
    "$$ \\Phi_4 = \\oint_{C_4}\\mathbf{F}\\cdot\\mathbf{n}\\,\\mathrm{d}s = \\int_0^1 \\,\\mathrm{d}y = 1$$"
   ]
  },
  {
   "cell_type": "markdown",
   "id": "ce85f860-88f9-46c9-801e-c79797e32de8",
   "metadata": {},
   "source": [
    "Finally, according to the line integral,  \n",
    "\n",
    "$$ \\Phi = 1$$"
   ]
  },
  {
   "cell_type": "markdown",
   "id": "1f7853a2-96b7-41c8-a562-06ba7c8d69a3",
   "metadata": {},
   "source": [
    "Now, let's verify this against the value computed using the double integral.  \n",
    "\n",
    "$$ \\mathrm{div }\\,\\mathbf{F} = M_x + N_y = 1$$"
   ]
  },
  {
   "cell_type": "markdown",
   "id": "bc3ea914-e677-4b9c-a304-c48639f1c55f",
   "metadata": {},
   "source": [
    "Thus, according to the double integral,  \n",
    "\n",
    "$$ \\Phi = \\int\\!\\int_R\\,\\mathrm{d}A = 1$$"
   ]
  },
  {
   "cell_type": "markdown",
   "id": "793d9b90-9632-4862-93f7-b54f8b5937f1",
   "metadata": {},
   "source": [
    "## Problems  \n",
    "\n",
    "#### Problem 1  \n",
    "\n",
    "$$ \\Phi = \\oint_C\\mathbf{F}\\cdot\\mathbf{n}\\,\\mathrm{d}s= 2\\pi g(a)a^2$$"
   ]
  },
  {
   "cell_type": "markdown",
   "id": "09c9225f-1dd3-4397-9c4b-e1932b1e3c71",
   "metadata": {},
   "source": [
    "Because $\\mathbf{F}$ is normal to $C$ and point away from the center of $C$."
   ]
  },
  {
   "cell_type": "markdown",
   "id": "e7b17a9c-c776-439b-838d-461278d43909",
   "metadata": {},
   "source": [
    "#### Problem 2\n",
    "\n",
    "$$ \\Phi = 0$$"
   ]
  },
  {
   "cell_type": "markdown",
   "id": "11369297-03fb-4125-b232-1a4ecbd2d437",
   "metadata": {},
   "source": [
    "Because $\\mathbf{F}$ is tangent to $C$."
   ]
  },
  {
   "cell_type": "markdown",
   "id": "fad81036-e226-4fa8-a267-143ba9237dcb",
   "metadata": {},
   "source": [
    "#### Problem 3  \n",
    "\n",
    "$$ \\Phi = 0$$"
   ]
  },
  {
   "cell_type": "markdown",
   "id": "add78be3-9821-46c9-bbae-305ffc149a2b",
   "metadata": {},
   "source": [
    "Because $\\mathbf{F}$ is parallel (tangent) to $C$."
   ]
  },
  {
   "cell_type": "markdown",
   "id": "7e5c352b-a044-43cf-bfed-2786c983ea89",
   "metadata": {},
   "source": [
    "#### Problem 4  \n",
    "\n",
    "$$ \\Phi = 3\\sqrt{2}$$"
   ]
  },
  {
   "cell_type": "markdown",
   "id": "0c659101-92e8-4f4b-8061-20185cca2e5a",
   "metadata": {},
   "source": [
    "Because $\\mathbf{F}$ is normal to $C$."
   ]
  }
 ],
 "metadata": {
  "kernelspec": {
   "display_name": "Python 3 (ipykernel)",
   "language": "python",
   "name": "python3"
  },
  "language_info": {
   "codemirror_mode": {
    "name": "ipython",
    "version": 3
   },
   "file_extension": ".py",
   "mimetype": "text/x-python",
   "name": "python",
   "nbconvert_exporter": "python",
   "pygments_lexer": "ipython3",
   "version": "3.10.12"
  }
 },
 "nbformat": 4,
 "nbformat_minor": 5
}
