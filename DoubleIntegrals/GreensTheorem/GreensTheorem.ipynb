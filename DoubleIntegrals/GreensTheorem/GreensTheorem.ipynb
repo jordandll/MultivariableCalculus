{
 "cells": [
  {
   "cell_type": "markdown",
   "id": "d755a596-5c55-4785-b261-9c75b51ad5d0",
   "metadata": {},
   "source": [
    "# Green's Theorem  \n",
    "\n",
    "### Example\n",
    "\n",
    "Calculate $\\displaystyle \\oint_C-x^2y\\,\\mathrm{d}x + xy^2\\,\\mathrm{d}y$, where $C$ is the circle of radius $2$ centered at origin."
   ]
  },
  {
   "cell_type": "markdown",
   "id": "e83a36d9-361e-423d-87f6-e48c7a28a775",
   "metadata": {},
   "source": [
    "Let $\\mathbf{F}$ be the field we are integrating and $\\mathbf{r}$ be the position vector that tracks $C$.  Via Green's Theorem,  \n",
    "\n",
    "$$ \\oint_C \\mathbf{F}\\cdot\\mathrm{d}\\mathbf{r} = \\int\\!\\int_R\\mathrm{curl}(\\mathbf{F})\\,\\mathrm{d}A$$"
   ]
  },
  {
   "cell_type": "markdown",
   "id": "cd954c19-c447-4488-9645-6c6b27e25086",
   "metadata": {},
   "source": [
    "where $C$ is given by:  \n",
    "\n",
    "$$ \\mathbf{r} := \\mathbf{r}(t) = \\langle x(t),y(t)\\rangle $$"
   ]
  },
  {
   "cell_type": "markdown",
   "id": "9a4a527e-7d99-4c45-922e-46024573f347",
   "metadata": {},
   "source": [
    "$$ x:= x(t) = 2\\cos t \\quad\\quad\\text{and}\\quad\\quad y := y(t) = 2\\sin t$$"
   ]
  },
  {
   "cell_type": "markdown",
   "id": "5eb7218b-9f63-4063-aa6b-30b8741c589d",
   "metadata": {},
   "source": [
    "and $R$ is the region bounded by $C$."
   ]
  },
  {
   "cell_type": "markdown",
   "id": "c4f998a6-fee6-4959-8007-1b58e9e6cf18",
   "metadata": {},
   "source": [
    "$$ \\mathrm{curl}(\\mathbf{F}) = y^2 + x^2$$"
   ]
  },
  {
   "cell_type": "markdown",
   "id": "f356d282-84f5-4632-8cbc-6dfcaf66dae1",
   "metadata": {},
   "source": [
    "Finally,  \n",
    "\n",
    "$$ \\oint_C\\mathbf{F}\\cdot\\mathrm{d}\\mathbf{r} = \\int\\!\\int r^2 \\,\\mathrm{d}A = \\int_0^{2\\pi}\\int_0^2 r^3\\,\\mathrm{d}r\\,\\mathrm{d}\\theta$$"
   ]
  },
  {
   "cell_type": "markdown",
   "id": "5e1727d0-ba98-4ab8-b0f6-57aabc26ac3b",
   "metadata": {},
   "source": [
    "$$ = \\int_0^{2\\pi} \\frac{2^4}{2^2}\\,\\mathrm{d}\\theta = 4\\int_0^{2\\pi}\\,\\mathrm{d}\\theta = 8\\pi$$"
   ]
  },
  {
   "cell_type": "markdown",
   "id": "3dbfb463-e36f-490c-b8a9-a3b43f268bf2",
   "metadata": {},
   "source": [
    "Now, let's verify the above against the result of computing the line integral via direct calculation (i.e. without using Green's Theorem).  First, we get the integrand in terms of $t$.  \n",
    "\n",
    "$$ \\mathrm{d}x = -2\\sin t\\,\\mathrm{d}t \\quad\\quad\\text{and}\\quad\\quad \\mathrm{d}y = 2\\cos t\\,\\mathrm{d}t$$"
   ]
  },
  {
   "cell_type": "markdown",
   "id": "26155ebf-6191-4786-94af-9cba2c9364f2",
   "metadata": {},
   "source": [
    "$$ \\oint_C\\mathbf{F}\\cdot\\mathrm{d}\\mathbf{r} = 16\\int_0^{2\\pi}\\big(\\sin^2 t\\cos^2 t + \\cos^2 t\\sin^2 t\\big)\\,\\mathrm{d}t $$"
   ]
  },
  {
   "cell_type": "markdown",
   "id": "d2093278-e859-4e24-adab-a98e8c13ab65",
   "metadata": {},
   "source": [
    "$$ = 8\\int_0^{2\\pi}\\sin^2 2t\\,\\mathrm{d}t = 4\\int_0^{2\\pi}\\big(1-\\cos 4t\\big)\\,\\mathrm{d}t = 8\\pi$$"
   ]
  },
  {
   "cell_type": "markdown",
   "id": "1b7650cb-6e0f-48eb-9d41-9a80769088c5",
   "metadata": {},
   "source": [
    "## Problems"
   ]
  },
  {
   "cell_type": "markdown",
   "id": "ac903d0a-0169-42a1-b0b0-966452785873",
   "metadata": {},
   "source": [
    "#### Problem 1\n",
    "\n",
    "Show that $\\displaystyle\\oint_C-x^2y\\,\\mathrm{d}x + xy^2\\,\\mathrm{d}y > 0$ for all simple close curves $C$.  "
   ]
  },
  {
   "cell_type": "markdown",
   "id": "4bde845c-9259-46f5-8d7c-74b2023c59b5",
   "metadata": {},
   "source": [
    "Let $\\mathbf{F}$ be the field we are integrating and $\\mathbf{r}$ be the position vector that tracks $C$.  \n",
    "\n",
    "$$ \\mathrm{curl}(\\mathbf{F}) = y^2 + x^2 = r^2 \\ge 0 \\quad\\forall (x,y)\\in\\mathbb{R}^2$$"
   ]
  },
  {
   "cell_type": "markdown",
   "id": "d86e73be-2e9c-49c0-b6af-d6d9aca6d246",
   "metadata": {},
   "source": [
    "$$ r^2 \\ge 0 \\;\\land\\;\\mathrm{d}A > 0 \\quad\\therefore\\quad r^2\\,\\mathrm{d}A \\ge 0 \\quad\\therefore\\quad   \\int\\!\\int_R r^2\\,\\mathrm{d}A > 0$$"
   ]
  },
  {
   "cell_type": "markdown",
   "id": "ac545a63-93a1-4975-a82c-b60f15d9837d",
   "metadata": {},
   "source": [
    "To ellaborate on the above:  The set of non-negative real numbers is closed with respect to addition, meaning that the sum of two non-negative real numbers is always a non-negative real number.  The double integral over a region $R$ is equal to the sum of the values of the integrand at every point within said region.  In the case of this problem, the integrand of the double integral is greater then zero throughout $R$;  Via this fact and the axiom of closure with respect to addition satisfied by the codomain of our integrand, we get that the aforementioned double integral is non-negative.  \n",
    "\n",
    "Furthermore, the only point at which the integrand is equal to zero is at origin;  Via this, the axiom of closure with respect to addition, which is satisfied by positive real numbers,  and the fact that, in the case of this problem atleast, $R$ is not limited to the origin, we get the premise of the line reasoning below that the aforementioned double integral is greater than zero."
   ]
  },
  {
   "cell_type": "markdown",
   "id": "9d7b75b9-675c-46ad-9348-be26e64c3211",
   "metadata": {},
   "source": [
    "$$ \\oint_C\\mathbf{F}\\cdot\\mathrm{d}\\mathbf{r} = \\int\\!\\int_R r^2\\,\\mathrm{d}A\\quad\\text{and}\\quad \\int\\!\\int r^2\\,\\mathrm{d}A > 0 \\quad\\therefore\\quad \\oint_C \\mathbf{F}\\cdot\\mathrm{d}\\mathbf{r} > 0$$"
   ]
  },
  {
   "cell_type": "markdown",
   "id": "d3d25f62-c984-4c3a-9387-09cdabc9b972",
   "metadata": {},
   "source": [
    "To ellaborate on the above line of reasoning:  One factor of the minor premise is based on Green's Theorem.  The other factor of the minor premise is the proposition of the line of reasoning that came before the one above.  "
   ]
  },
  {
   "cell_type": "markdown",
   "id": "9941b2d9-9d90-4560-9436-b19aeabe1069",
   "metadata": {},
   "source": [
    "#### Problem 2\n",
    "Let $\\mathbf{F} = 2y\\,\\mathbf{i} + x\\,\\mathbf{j}$ and $C$ be the positively oriented unit circle.  Compute $\\displaystyle \\oint_C\\mathbf{F}\\cdot\\mathrm{d}\\mathbf{r}$ directly and via Green's Theorem."
   ]
  },
  {
   "cell_type": "markdown",
   "id": "7a3e2a81-f6ce-41c2-a1a9-bd6bf9bd528c",
   "metadata": {},
   "source": [
    "To compute the line integral via direct calculation:  \n",
    "\n",
    "$$ \\oint_C\\mathbf{F}\\cdot\\mathrm{d}\\mathbf{r} = \\oint_C 2y\\,\\mathrm{d}x + x\\,\\mathrm{d}y$$"
   ]
  },
  {
   "cell_type": "markdown",
   "id": "3850f08e-1434-4e30-8920-7f271bdc89b7",
   "metadata": {},
   "source": [
    "where,  \n",
    "\n",
    "$$ \\mathbf{r} := \\mathbf{r}(t) = \\langle x(t),y(t)\\rangle $$"
   ]
  },
  {
   "cell_type": "markdown",
   "id": "00b020ba-a418-4992-85a0-e0e874a56510",
   "metadata": {},
   "source": [
    "$$ x:=x(t) = \\cos t \\quad\\quad\\text{and}\\quad\\quad y:=y(t) = \\sin t$$"
   ]
  },
  {
   "cell_type": "markdown",
   "id": "29ca67ba-6039-4b9e-9c82-ff2fe51d876e",
   "metadata": {},
   "source": [
    "$$ \\mathrm{d}x = -\\sin t\\,\\mathrm{d}t\\quad\\quad\\text{and}\\quad\\quad \\mathrm{d}y = \\cos t\\,\\mathrm{d}t$$"
   ]
  },
  {
   "cell_type": "markdown",
   "id": "06007b5e-79db-4e39-81bb-5282a469e87c",
   "metadata": {},
   "source": [
    "Finally,  \n",
    "\n",
    "$$\\oint_C\\mathbf{F}\\cdot\\mathrm{d}\\mathbf{r} = \\int_0^{2\\pi}\\cos^2 t\\,\\mathrm{d}t -2\\sin^2 t\\,\\mathrm{d}t $$"
   ]
  },
  {
   "cell_type": "markdown",
   "id": "d7a38dd0-41fc-428c-8678-77e783cdbc9a",
   "metadata": {},
   "source": [
    "$$ = \\int_0^{2\\pi}\\big(3\\cos^2 t - 2\\big)\\,\\mathrm{d}t = \\int_0^{2\\pi}\\left( \\frac{3}{2}\\,\\cos 2t + \\frac{3}{2} - 2\\right)\\,\\mathrm{d}t$$"
   ]
  },
  {
   "cell_type": "markdown",
   "id": "2b41ca68-c608-4d34-8db7-b504a8514c93",
   "metadata": {},
   "source": [
    "$$ = -\\pi$$"
   ]
  },
  {
   "cell_type": "markdown",
   "id": "ffc5ca1e-672c-45cb-a02e-fa43a9c9872d",
   "metadata": {},
   "source": [
    "Via Green's Theorem,  \n",
    "\n",
    "$$ \\oint_C\\mathbf{F}\\cdot\\mathrm{d}\\mathbf{r} = -\\int\\!\\int_R\\,\\mathrm{d}A = -\\pi$$"
   ]
  }
 ],
 "metadata": {
  "kernelspec": {
   "display_name": "Python 3 (ipykernel)",
   "language": "python",
   "name": "python3"
  },
  "language_info": {
   "codemirror_mode": {
    "name": "ipython",
    "version": 3
   },
   "file_extension": ".py",
   "mimetype": "text/x-python",
   "name": "python",
   "nbconvert_exporter": "python",
   "pygments_lexer": "ipython3",
   "version": "3.10.12"
  }
 },
 "nbformat": 4,
 "nbformat_minor": 5
}
