{
 "cells": [
  {
   "cell_type": "markdown",
   "id": "d755a596-5c55-4785-b261-9c75b51ad5d0",
   "metadata": {},
   "source": [
    "# Green's Theorem  \n",
    "\n",
    "### Example\n",
    "\n",
    "Calculate $\\displaystyle \\oint_C-x^2y\\,\\mathrm{d}x + xy^2\\,\\mathrm{d}y$, where $C$ is the circle of radius $2$ centered at origin."
   ]
  },
  {
   "cell_type": "markdown",
   "id": "e83a36d9-361e-423d-87f6-e48c7a28a775",
   "metadata": {},
   "source": [
    "Let $\\mathbf{F}$ be the field we are integrating and $\\mathbf{r}$ be the position vector that tracks $C$.  Via Green's Theorem,  \n",
    "\n",
    "$$ \\oint_C \\mathbf{F}\\cdot\\mathrm{d}\\mathbf{r} = \\int\\!\\int_R\\mathrm{curl}(\\mathbf{F})\\,\\mathrm{d}A$$"
   ]
  },
  {
   "cell_type": "markdown",
   "id": "cd954c19-c447-4488-9645-6c6b27e25086",
   "metadata": {},
   "source": [
    "where $C$ is given by:  \n",
    "\n",
    "$$ \\mathbf{r} := \\mathbf{r}(t) = \\langle x(t),y(t)\\rangle $$"
   ]
  },
  {
   "cell_type": "markdown",
   "id": "9a4a527e-7d99-4c45-922e-46024573f347",
   "metadata": {},
   "source": [
    "$$ x:= x(t) = 2\\cos t \\quad\\quad\\text{and}\\quad\\quad y := y(t) = 2\\sin t$$"
   ]
  },
  {
   "cell_type": "markdown",
   "id": "5eb7218b-9f63-4063-aa6b-30b8741c589d",
   "metadata": {},
   "source": [
    "and $R$ is the region bounded by $C$."
   ]
  },
  {
   "cell_type": "markdown",
   "id": "c4f998a6-fee6-4959-8007-1b58e9e6cf18",
   "metadata": {},
   "source": [
    "$$ \\mathrm{curl}(\\mathbf{F}) = y^2 + x^2$$"
   ]
  },
  {
   "cell_type": "markdown",
   "id": "f356d282-84f5-4632-8cbc-6dfcaf66dae1",
   "metadata": {},
   "source": [
    "Finally,  \n",
    "\n",
    "$$ \\oint_C\\mathbf{F}\\cdot\\mathrm{d}\\mathbf{r} = \\int\\!\\int r^2 \\,\\mathrm{d}A = \\int_0^{2\\pi}\\int_0^2 r^3\\,\\mathrm{d}r\\,\\mathrm{d}\\theta$$"
   ]
  },
  {
   "cell_type": "markdown",
   "id": "5e1727d0-ba98-4ab8-b0f6-57aabc26ac3b",
   "metadata": {},
   "source": [
    "$$ = \\int_0^{2\\pi} \\frac{2^4}{2^2}\\,\\mathrm{d}\\theta = 4\\int_0^{2\\pi}\\,\\mathrm{d}\\theta = 8\\pi$$"
   ]
  },
  {
   "cell_type": "markdown",
   "id": "3dbfb463-e36f-490c-b8a9-a3b43f268bf2",
   "metadata": {},
   "source": [
    "Now, let's verify the above against the result of computing the line integral via direct calculation (i.e. without using Green's Theorem).  First, we get the integrand in terms of $t$.  \n",
    "\n",
    "$$ \\mathrm{d}x = -2\\sin t\\,\\mathrm{d}t \\quad\\quad\\text{and}\\quad\\quad \\mathrm{d}y = 2\\cos t\\,\\mathrm{d}t$$"
   ]
  },
  {
   "cell_type": "markdown",
   "id": "26155ebf-6191-4786-94af-9cba2c9364f2",
   "metadata": {},
   "source": [
    "$$ \\oint_C\\mathbf{F}\\cdot\\mathrm{d}\\mathbf{r} = 16\\int_0^{2\\pi}\\big(\\sin^2 t\\cos^2 t + \\cos^2 t\\sin^2 t\\big)\\,\\mathrm{d}t $$"
   ]
  },
  {
   "cell_type": "markdown",
   "id": "d2093278-e859-4e24-adab-a98e8c13ab65",
   "metadata": {},
   "source": [
    "$$ = 8\\int_0^{2\\pi}\\sin^2 2t\\,\\mathrm{d}t = 4\\int_0^{2\\pi}\\big(1-\\cos 4t\\big)\\,\\mathrm{d}t = 8\\pi$$"
   ]
  }
 ],
 "metadata": {
  "kernelspec": {
   "display_name": "Python 3 (ipykernel)",
   "language": "python",
   "name": "python3"
  },
  "language_info": {
   "codemirror_mode": {
    "name": "ipython",
    "version": 3
   },
   "file_extension": ".py",
   "mimetype": "text/x-python",
   "name": "python",
   "nbconvert_exporter": "python",
   "pygments_lexer": "ipython3",
   "version": "3.10.12"
  }
 },
 "nbformat": 4,
 "nbformat_minor": 5
}
