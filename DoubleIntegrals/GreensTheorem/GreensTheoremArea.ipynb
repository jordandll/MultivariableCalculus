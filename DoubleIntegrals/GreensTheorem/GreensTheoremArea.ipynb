{
 "cells": [
  {
   "cell_type": "markdown",
   "id": "3fea8736-c1e8-4b24-aceb-9d851e3932bb",
   "metadata": {},
   "source": [
    "## Green's Theorem and Area\n",
    "\n",
    "### Problems\n",
    "\n",
    "#### Problem 1  \n",
    "\n",
    "Find $M$ and $N$ such that $\\displaystyle \\oint_C M\\,\\mathrm{d}x + N\\,\\mathrm{d}y$ equals the polar moment of inertia of a uniform density region in the plane with boundary $C$."
   ]
  },
  {
   "cell_type": "markdown",
   "id": "99c74037-0533-4de3-bce6-4a83b7648546",
   "metadata": {},
   "source": [
    "Let $\\mathbf{F}:=\\langle M(x,y),N(x,y)\\rangle$, where $M:=M(x,y)$ and $N:=N(x,y)$, be the field we are attempting to find that satisfies what's described above and $\\delta := \\delta(x,y) := A$, where $A$ is an arbitrary constant that is equal to the uniform density $\\delta$ of region $R$ bounded by the closed curve $C$.  Via Green's Theorem,  \n",
    "\n",
    "$$ \\oint_C \\mathbf{F}\\cdot\\mathrm{d}\\mathbf{r} = \\int\\!\\int_R\\mathrm{curl}(\\mathbf{F})\\,\\mathrm{d}A$$"
   ]
  },
  {
   "cell_type": "markdown",
   "id": "0481c232-2f14-45f9-a56b-e1a6a182ef0e",
   "metadata": {},
   "source": [
    "And, via the definition of the moment of intertia, the polar moment of intertia, henceforth $I$, of our uniform density region is given by:  \n",
    "\n",
    "$$ I = A\\int\\!\\int_R r^2\\,\\mathrm{d}A \\quad\\quad\\text{where }\\,r^2 = x^2 + y^2$$"
   ]
  },
  {
   "cell_type": "markdown",
   "id": "7440be3b-797b-4820-abe2-9fc771603fd7",
   "metadata": {},
   "source": [
    "We need to find $\\mathbf{F}$ such that:  \n",
    "\n",
    "$$ \\oint_C\\mathbf{F}\\cdot\\mathrm{d}\\mathbf{r} = \\int\\!\\int_R\\mathrm{curl}(\\mathbf{F})\\,\\mathrm{d}A = I$$"
   ]
  },
  {
   "cell_type": "markdown",
   "id": "d6555a94-e27e-464a-bf6c-5f423290e34f",
   "metadata": {},
   "source": [
    "The following implies the above equation:  \n",
    "\n",
    "$$ Ar^2 = \\mathrm{curl}(\\mathbf{F}) = N_x - M_y$$"
   ]
  },
  {
   "cell_type": "markdown",
   "id": "bb2fe76d-436c-4085-9cd8-93acbe73ef54",
   "metadata": {},
   "source": [
    "The following implies the above equation:  \n",
    "\n",
    "$$ N_x = Ax^2 \\quad\\quad\\text{or}\\quad\\quad N = \\int Ax^2\\,\\mathrm{d}x = \\frac{Ax^3}{3} + f(y)$$"
   ]
  },
  {
   "cell_type": "markdown",
   "id": "1d0a527d-52d5-4113-8605-04093cbfdf2f",
   "metadata": {},
   "source": [
    "and,  \n",
    "\n",
    "$$ -M_y = Ay^2 \\quad\\quad\\text{or}\\quad\\quad M = -A\\int y^2\\,\\mathrm{d}y = -\\frac{Ay^3}{3} + g(x)$$"
   ]
  }
 ],
 "metadata": {
  "kernelspec": {
   "display_name": "Python 3 (ipykernel)",
   "language": "python",
   "name": "python3"
  },
  "language_info": {
   "codemirror_mode": {
    "name": "ipython",
    "version": 3
   },
   "file_extension": ".py",
   "mimetype": "text/x-python",
   "name": "python",
   "nbconvert_exporter": "python",
   "pygments_lexer": "ipython3",
   "version": "3.10.12"
  }
 },
 "nbformat": 4,
 "nbformat_minor": 5
}
