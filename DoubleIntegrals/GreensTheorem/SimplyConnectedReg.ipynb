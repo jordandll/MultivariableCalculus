{
 "cells": [
  {
   "cell_type": "markdown",
   "id": "0c7bfbac-9c54-4c66-8cb8-ae4a311f1f87",
   "metadata": {},
   "source": [
    "# Simply Connected Regions\n",
    "\n",
    "#### Example 3  \n",
    "\n",
    "Let $\\mathbf{F} = r^n(x\\,\\mathbf{i} + y\\,\\mathbf{j})$, where $r=\\sqrt{x^2+y^2}$.  For which integers $n$ is $\\mathbf{F}$ conservative?  For each such $n$, find a corresponding $f(x,y)$ such that $\\mathbf{F} = \\nabla f$."
   ]
  },
  {
   "cell_type": "markdown",
   "id": "ec587ce9-1ae4-4afb-b897-c05e4724213f",
   "metadata": {},
   "source": [
    "First note that  \n",
    "\n",
    "$$ \\frac{\\partial r^n}{\\partial x} = \\frac{\\partial r^n}{\\partial r}\\,\\frac{\\partial r}{\\partial x} = nr^{n-1}r_x = nr^{n-1}\\,\\frac{x}{r} = nr^{n-2}x$$"
   ]
  },
  {
   "cell_type": "markdown",
   "id": "e8a7f73c-f522-4907-9d61-d4c2971ac487",
   "metadata": {},
   "source": [
    "$$ \\frac{\\partial r^n}{\\partial y} = nr^{n-2}y$$"
   ]
  },
  {
   "cell_type": "markdown",
   "id": "decf9c6f-5d7d-4393-a117-35e4f4deda92",
   "metadata": {},
   "source": [
    "Let $M:=r^n x$ and $N=r^n y$.  \n",
    "\n",
    "$$ M_y = x\\,\\frac{\\partial r^n}{\\partial y} = nr^{n-2}xy$$"
   ]
  },
  {
   "cell_type": "markdown",
   "id": "8f84334f-37da-4de8-9730-4168f565c7e1",
   "metadata": {},
   "source": [
    "$$ N_x = y\\,\\frac{\\partial r^n}{\\partial x} = nr^{n-2}xy$$"
   ]
  },
  {
   "cell_type": "markdown",
   "id": "7388cb6a-ba91-4726-a6f8-9e5ffb97bdd3",
   "metadata": {},
   "source": [
    "Via the above two equations,  \n",
    "\n",
    "$$ \\mathrm{curl }\\,\\mathbf{F} = N_x - M_y = 0$$"
   ]
  },
  {
   "cell_type": "markdown",
   "id": "cc3bde1e-322f-45a4-86a5-66e8d3ca3277",
   "metadata": {},
   "source": [
    "Via the fact that $\\mathbf{F}$ is continuously differentiable over $\\mathbb{R}^2$ for all non-negative $n$ and Green's theorem,  \n",
    "\n",
    "$$ \\oint_S \\mathbf{F}\\cdot\\mathrm{d}\\mathbf{r} = \\int\\!\\int_R \\mathrm{curl }\\,\\mathbf{F}\\,\\mathrm{d}A = 0_{\\vert n\\ge 0}$$"
   ]
  },
  {
   "cell_type": "markdown",
   "id": "c75ad696-8f6c-42c8-abd5-ab161a30bced",
   "metadata": {},
   "source": [
    "where $S$ is any simple closed curve and $R$ is the region bounded by said curve.  Via the above equation and the fact that a complex closed curve that intersects itself a finite number of times can be broken down to a finite number of simple closed curves,  \n",
    "\n",
    "$$ \\oint_C \\mathbf{F}\\cdot\\mathrm{d}\\mathbf{r} = 0_{\\vert n\\ge 0}$$"
   ]
  },
  {
   "cell_type": "markdown",
   "id": "31ce76ea-1734-421c-80d2-d471886b0b1b",
   "metadata": {},
   "source": [
    "where $C$ is any closed curve (simple or complex).  Now, what about negative $n$?  When $n$ is negative, $\\mathbf{F}$ is undefined at origin and is thus not continuously differentiable.  But, in spite of this, we can say, via Green's theorem and what has already been mentioned about complex closed curves breaking down into meshes (simple closed curves),  \n",
    "\n",
    "$$ \\oint_C\\mathbf{F}\\cdot\\mathrm{d}\\mathbf{r} = 0 $$"
   ]
  },
  {
   "cell_type": "markdown",
   "id": "5f5b7d36-cab9-4c0b-9595-5672667059e5",
   "metadata": {},
   "source": [
    "where $C$ is any closed curve that does *not* enclose the origin."
   ]
  },
  {
   "cell_type": "markdown",
   "id": "5aabb941-da48-4d20-a5e7-3eb4808ee27c",
   "metadata": {},
   "source": [
    "Now, what about closed curves that enclose origin?  First, note that, since $\\mathbf{F}$ radiates outwards, away from origin for all $n$, the work integral along any path that encircles origin is equal to zero.  \n",
    "\n",
    "$$ \\oint_{C_1}\\mathbf{F}\\cdot\\mathrm{d}\\mathbf{r} = 0$$"
   ]
  },
  {
   "cell_type": "markdown",
   "id": "93974b6d-1f20-48f1-a27f-92951d05030c",
   "metadata": {},
   "source": [
    "where $C_1$ is a path that encircles origin.  Via extended Green's theorem,  \n",
    "\n",
    "$$ \\oint_{S}\\mathbf{F}\\cdot\\mathrm{d}\\mathbf{r} + \\oint_{C_1}\\mathbf{F}\\cdot\\mathrm{d}\\mathbf{r} = \\int\\!\\int_R\\mathrm{curl }\\,\\mathbf{F}\\,\\mathrm{d}A = 0 \\quad\\therefore$$  \n",
    "\n",
    "$$ \\oint_S\\mathbf{F}\\cdot\\mathrm{d}\\mathbf{r} = 0$$"
   ]
  },
  {
   "cell_type": "markdown",
   "id": "324e8056-aac3-443f-8dfb-55bd732448c0",
   "metadata": {},
   "source": [
    "where $S$ is a simple closed curve that also encloses origin and $R$ is the region bounded by $S$ and $C_1$.  Note that it is assumed that $S$ and $C_1$ are oriented such that the normal of both paths point toward $R$, assuring that $R$ is in the domain of $\\mathbf{F}$."
   ]
  },
  {
   "cell_type": "markdown",
   "id": "d9c43137-b31e-4f5c-be72-c02d386f501f",
   "metadata": {},
   "source": [
    "As for complex curves that enclose the origin, since only one mesh may enclose the origin, all meshes of such a complex close curve have already been covered.  Finally, all of this adds up to $\\mathbf{F}$ being conservative for all $n$."
   ]
  },
  {
   "cell_type": "markdown",
   "id": "206978b0-1131-4935-97bb-b93f544b80b3",
   "metadata": {},
   "source": [
    "$$ \\oint_C\\mathbf{F}\\cdot\\mathrm{d}\\mathbf{r} = 0 \\quad\\forall n\\in\\mathbb{Z}$$"
   ]
  },
  {
   "cell_type": "markdown",
   "id": "fced6be1-4b70-4e72-88d5-29545aa91d97",
   "metadata": {},
   "source": [
    "where $C$ is a closed curve."
   ]
  },
  {
   "cell_type": "markdown",
   "id": "e143238f-6007-4def-b395-174e43168a74",
   "metadata": {},
   "source": [
    "To find the potential function:  \n",
    "\n",
    "$$ f_x =  r^nx \\quad\\therefore\\quad f = \\int\\big(x^2+y^2\\big)^{0.5n} x\\,\\mathrm{d}x \\quad\\therefore$$"
   ]
  },
  {
   "cell_type": "markdown",
   "id": "617bca6b-8b84-46ef-9a15-8d668fbe4619",
   "metadata": {},
   "source": [
    "$$ f = \\frac{\\big(x^2+y^2\\big)^{0.5n+1}}{n + 2} + g(y)$$"
   ]
  },
  {
   "attachments": {},
   "cell_type": "markdown",
   "id": "c6ff08f7-fa31-48c3-9825-9695d11fdbc4",
   "metadata": {},
   "source": [
    "Now, to find $g(y)$, an arbitrary function of $y$, note that:  \n",
    "\n",
    "$$ f_y = r^n y \\quad\\quad\\text{and}\\quad\\quad f_y = g'(y) + y\\sqrt{x^2+y^2}^n  = g'(y) + yr^n$$"
   ]
  },
  {
   "cell_type": "markdown",
   "id": "778a129e-49fc-4dd5-bf0e-f20ac255c2c7",
   "metadata": {},
   "source": [
    "Via the above two equations,  \n",
    "\n",
    "$$ g'(y) = 0 \\quad\\therefore\\quad g(y) = c $$"
   ]
  },
  {
   "cell_type": "markdown",
   "id": "9c2fd147-3a33-4316-89f6-d26da931d489",
   "metadata": {},
   "source": [
    "Finally, assuming $n\\ne -2$, the potential of our field is:    \n",
    "\n",
    "$$ f(x,y) = \\frac{\\sqrt{x^2+y^2}^n\\big(x^2+y^2\\big)}{n+2} + c$$"
   ]
  },
  {
   "cell_type": "markdown",
   "id": "79b4d702-fbb6-4876-98b5-c7e509b7c610",
   "metadata": {},
   "source": [
    "$$ f(x,y) = \\frac{r^n\\big(x^2+y^2\\big)}{n+2} + c = \\frac{r^{n+2}}{n+2} + c$$"
   ]
  },
  {
   "cell_type": "markdown",
   "id": "2acda6de-02aa-4bad-8815-3b28359054d8",
   "metadata": {},
   "source": [
    "where $c\\in\\mathbb{R}$ is an arbitrary constant of integration."
   ]
  },
  {
   "cell_type": "markdown",
   "id": "11159822-1dc9-42db-8ef8-cae84c0500cc",
   "metadata": {},
   "source": [
    "Now, to verify the above:  \n",
    "\n",
    "$$ f_x = r^{n+1}r_x = r^{n+1}\\frac{x}{r} = r^nx$$"
   ]
  },
  {
   "cell_type": "markdown",
   "id": "81b1dcae-3de2-4548-bf86-cce34ec9062d",
   "metadata": {},
   "source": [
    "And, assuming $n=-2$,  \n",
    "\n",
    "$$ f(x,y) = \\log r$$"
   ]
  },
  {
   "cell_type": "markdown",
   "id": "fc1c26a2-f263-4dd2-bc43-02950a4fcb5c",
   "metadata": {},
   "source": [
    "To verify:  \n",
    "\n",
    "$$ f = 0.5\\log\\big(x^2+y^2\\big)$$"
   ]
  },
  {
   "cell_type": "markdown",
   "id": "299a0ded-560f-42a3-94be-0731a4ca5f1d",
   "metadata": {},
   "source": [
    "$$ f_x = \\frac{x}{x^2+y^2} = r^{-2}x$$"
   ]
  },
  {
   "cell_type": "markdown",
   "id": "922315d5-6974-48ca-96e4-1728aba7d970",
   "metadata": {},
   "source": [
    "## Problems\n",
    "\n",
    "#### Problem 1  \n",
    "\n",
    "(b) and (c)"
   ]
  },
  {
   "cell_type": "markdown",
   "id": "99d7f82e-1a8a-4bf8-a1f4-2e27cd99ad06",
   "metadata": {},
   "source": [
    "For each of the vector fields described below, find the domain on which it is defined and\n",
    "continuously differentiable. Is that domain simply connected?  \n",
    "\n",
    "#### Problem 2   \n",
    "\n",
    "$$ \\mathbf{F} = \\sin\\big(x^2+y^2\\big)\\,\\mathbf{i} + \\cos\\big(x^2+y^2\\big)\\,\\mathbf{j}$$"
   ]
  },
  {
   "cell_type": "markdown",
   "id": "2c71ddb1-b3d2-4cd2-9b36-ca5eb465649f",
   "metadata": {},
   "source": [
    "The field is defined on and continuously differentiable throughout $\\mathbb{R}^2$ or throughout the $x,y$-plane.  The aforementioned domain of $\\mathbf{F}$, henceforth $D$, is simply connected."
   ]
  },
  {
   "cell_type": "markdown",
   "id": "a8cd1fad-f307-40ca-b018-88497a80f91f",
   "metadata": {},
   "source": [
    "#### Problem 3  \n",
    "\n",
    "$$ \\mathbf{F} = |x|\\,\\mathbf{i} + 0\\,\\mathbf{j}$$"
   ]
  },
  {
   "cell_type": "markdown",
   "id": "3e1d7073-2b46-4cac-9487-1052a96eda30",
   "metadata": {},
   "source": [
    "THe field is defined on $\\mathbb{R}^2$, but is not continuously differentiable.  The domain of $\\mathrm{curl }\\,\\mathbf{F}$ is not simply connected, since there is an interuption or gap at the $y$-axis."
   ]
  },
  {
   "cell_type": "markdown",
   "id": "4f8d05b5-b567-400e-b7ee-9e0d0b4ba8d8",
   "metadata": {},
   "source": [
    "#### Problem 4  \n",
    "\n",
    "$$ \\mathbf{F} = \\frac{\\langle x,y\\rangle}{x^2+y^2}$$"
   ]
  },
  {
   "cell_type": "markdown",
   "id": "98762d1a-b7ce-4a43-a024-06d00f100d5f",
   "metadata": {},
   "source": [
    "Our field is defined on and continuously differentiable throughout the $x,y$ plane minus the origin.  The domain of $\\mathbf{F}$ is thus not simply connected."
   ]
  },
  {
   "cell_type": "markdown",
   "id": "f7d30754-6e62-472a-98e4-a8f9aeb2928d",
   "metadata": {},
   "source": [
    "#### Problem 5  \n",
    "\n",
    "$$ \\mathbf{F} = \\frac{y\\,\\mathbf{i} - x\\,\\mathbf{j}}{y^2}$$"
   ]
  },
  {
   "cell_type": "markdown",
   "id": "fb95ec45-0695-4844-99ef-082f064bfd4a",
   "metadata": {},
   "source": [
    "Our field is defined on and continuously differentiable throughout the $x,y$-plane minus the $x$-axis.  The domain of $\\mathbf{F}$ is thus not simply connected."
   ]
  },
  {
   "cell_type": "markdown",
   "id": "29342773-c432-4d85-8b9c-14d1cc47225b",
   "metadata": {},
   "source": [
    "#### Problem 6  \n",
    "\n",
    "$$ \\mathbf{F} = \\sqrt{x^2-1}\\,\\mathbf{i} + \\sqrt{y^2-1}\\,\\mathbf{j}$$"
   ]
  },
  {
   "cell_type": "markdown",
   "id": "51c6fc71-e001-40f4-9bdf-06d5c9f4ab23",
   "metadata": {},
   "source": [
    "Let  \n",
    "\n",
    "$$ M:=M(x,y) = \\sqrt{x^2-1} \\quad\\quad\\text{and}\\quad\\quad N:=N(x,y) = \\sqrt{y^2-1}$$"
   ]
  },
  {
   "cell_type": "markdown",
   "id": "60f4f2ae-a70a-4cd2-91a0-b3cbc99df429",
   "metadata": {},
   "source": [
    "$$ x^2, y^2 \\ge 1 \\quad\\implies$$"
   ]
  },
  {
   "cell_type": "markdown",
   "id": "2bb1320b-95c6-439f-9ae2-af9332bfa913",
   "metadata": {},
   "source": [
    "$$ x \\ge 1 \\;\\lor\\; x\\le -1 \\quad\\quad\\text{and}\\quad\\quad y \\ge 1 \\;\\lor\\; y\\le -1$$"
   ]
  },
  {
   "cell_type": "markdown",
   "id": "895ef22a-b25f-41b6-863e-945be35db745",
   "metadata": {},
   "source": [
    "Thus $\\mathbf{F}$ is defined on $D$, where  \n",
    "\n",
    "$$ D = \\{(x,y)\\in\\mathbb{R}^2\\;:\\; (x\\ge 1\\,\\lor\\,x \\le -1)\\,\\land\\,(y \\ge 1 \\,\\lor\\,y\\le -1)\\}$$"
   ]
  },
  {
   "cell_type": "markdown",
   "id": "bf204d50-604b-4f1f-bd44-4b81ea91f1da",
   "metadata": {},
   "source": [
    "$$ = \\{(x,y)\\in\\mathbb{R}^2\\;:\\; x\\ge 1\\land y\\ge 1 \\,\\lor\\, x\\ge 1\\land y\\le -1\\,\\lor\\, x\\le -1\\land y\\ge 1\\,\\lor\\, x\\le -1 \\land y\\le -1\\}$$"
   ]
  },
  {
   "cell_type": "markdown",
   "id": "5790029c-e1c5-4ea9-8b1c-a3ebd12ae082",
   "metadata": {},
   "source": [
    "$$ = \\mathbb{R}^2 \\setminus \\{(x,y)\\in\\mathbb{R}^2 \\::\\: -1 < x,y < 1\\}$$"
   ]
  },
  {
   "cell_type": "markdown",
   "id": "f51b9af2-ef9f-491b-9d43-afeffb456f87",
   "metadata": {},
   "source": [
    "To put it another way, $\\mathbf{F}$ is defined on the $x,y$-plane minus the region bounded by, but not including, the square with vertices at $\\pm(1,1)$."
   ]
  },
  {
   "cell_type": "markdown",
   "id": "5b6eb7aa-5e02-49ad-a43e-dad3de38fa65",
   "metadata": {},
   "source": [
    "Our field is continuously differentiable throughout the domain of $\\mathrm{curl }\\,\\mathbf{F}$, denoted as $D_\\mathrm{curl}$, which is given by:  \n",
    "\n",
    "$$ D_\\mathrm{curl} = \\mathbb{R}^2\\setminus\\{(x,y)\\in\\mathbb{R}^2\\;:\\; -1 \\le x,y\\le 1\\}$$"
   ]
  },
  {
   "cell_type": "markdown",
   "id": "8e53a794-b41c-46d3-981e-469ec464877b",
   "metadata": {},
   "source": [
    "Of course, neither domain is simply connected, since they both contain a square shaped hole centered at origin."
   ]
  },
  {
   "cell_type": "markdown",
   "id": "0eb0ae02-a551-42b2-8d0d-300d5d8afbce",
   "metadata": {},
   "source": [
    "#### Problem 7\n",
    "\n",
    "$$ \\mathbf{F} = \\sqrt{x-1}\\,\\mathbf{i}+ \\sqrt{y-1}\\,\\mathbf{j}$$"
   ]
  },
  {
   "cell_type": "markdown",
   "id": "81e11949-009c-4d3e-9b0d-482c7e1f1109",
   "metadata": {},
   "source": [
    "Let  \n",
    "\n",
    "$$M:=M(x,y):=\\sqrt{x-1} \\quad\\quad\\text{and}\\quad\\quad N:=N(x,y):=\\sqrt{y-1}$$"
   ]
  },
  {
   "cell_type": "markdown",
   "id": "0219fe8e-589f-47ff-95de-4d1e874e0069",
   "metadata": {},
   "source": [
    "$M$ is defined on $(x\\ge 1,y)$ and $N$ is defined on $(x,y\\ge 1)$.  Thus, $\\mathbf{F}$ is defined on $D$, where  \n",
    "\n",
    "$$ D = \\{(x,y)\\in\\mathbb{R}^2\\;:\\;x\\ge 1\\,\\land\\,y\\ge 1\\}$$"
   ]
  },
  {
   "cell_type": "markdown",
   "id": "2c94a82b-0189-4bd3-bfaa-41c91ea3838d",
   "metadata": {},
   "source": [
    "and is continuously differentiable throughout $D_\\mathrm{curl}$, where  \n",
    "\n",
    "$$ D_\\mathrm{curl} = \\{(x,y)\\in\\mathbb{R}^2\\;:\\; x > 1 \\,\\land\\, y>1\\}$$"
   ]
  },
  {
   "cell_type": "markdown",
   "id": "5ad08112-e71f-443b-b10d-69e77c6112dc",
   "metadata": {},
   "source": [
    "Note that the domain of $\\mathrm{curl }\\,\\mathbf{F}$ is identified by the above equation."
   ]
  },
  {
   "cell_type": "markdown",
   "id": "b4a6764d-ccc5-48aa-94c3-c11bab86b434",
   "metadata": {},
   "source": [
    "The domain of $\\mathbf{F}$ is of course simply connected, since it contains no holes."
   ]
  }
 ],
 "metadata": {
  "kernelspec": {
   "display_name": "Python 3 (ipykernel)",
   "language": "python",
   "name": "python3"
  },
  "language_info": {
   "codemirror_mode": {
    "name": "ipython",
    "version": 3
   },
   "file_extension": ".py",
   "mimetype": "text/x-python",
   "name": "python",
   "nbconvert_exporter": "python",
   "pygments_lexer": "ipython3",
   "version": "3.10.12"
  }
 },
 "nbformat": 4,
 "nbformat_minor": 5
}
