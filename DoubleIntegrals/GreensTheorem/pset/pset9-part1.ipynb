{
 "cells": [
  {
   "cell_type": "markdown",
   "id": "907c8cbd-508d-4173-817e-f7dc17ef0c6d",
   "metadata": {},
   "source": [
    "# Problem Set 9  "
   ]
  },
  {
   "cell_type": "code",
   "execution_count": 1,
   "id": "3d60fd87-aff7-4192-a8d4-b07c3a32edb8",
   "metadata": {
    "jupyter": {
     "source_hidden": true
    }
   },
   "outputs": [],
   "source": [
    "import numpy as np\n",
    "import matplotlib.pyplot as plt\n",
    "import matplotlib as mpl\n",
    "import sympy as sp"
   ]
  },
  {
   "cell_type": "markdown",
   "id": "b89dc21b-d75c-4c07-a1fe-8ca45b1b39ed",
   "metadata": {},
   "source": [
    "## Part I  \n",
    "\n",
    "### Green's Theorem"
   ]
  },
  {
   "cell_type": "markdown",
   "id": "58916b63-25fb-441b-b651-3bbdefea304e",
   "metadata": {},
   "source": [
    "#### $\\S\\,4\\mathrm{D} : 1$\n",
    "\n",
    "**a)**  \n",
    "\n",
    "Via direct calculation of the line integral:  \n",
    "\n",
    "$$ \\mathbf{F} = \\langle 2y,x\\rangle \\quad\\quad\\text{C: }\\; x^2+y^2=1$$"
   ]
  },
  {
   "cell_type": "markdown",
   "id": "de1709c6-2b90-4c38-8497-235d5bfdc790",
   "metadata": {},
   "source": [
    "$$ \\mathbf{r} := \\mathbf{r}(t) = \\langle x(t),y(t)\\rangle$$"
   ]
  },
  {
   "cell_type": "markdown",
   "id": "9af4db6c-e36b-41f6-8d6a-ef5bcc51e742",
   "metadata": {},
   "source": [
    "$$ x:=x(t) = \\cos t \\quad\\quad\\text{and}\\quad\\quad y:=y(t) = \\sin t$$"
   ]
  },
  {
   "cell_type": "markdown",
   "id": "aed05c22-e82c-4d8c-9cdf-406c0020d159",
   "metadata": {},
   "source": [
    "$$ W = \\oint_C \\mathbf{F}\\cdot\\mathrm{d}\\mathbf{r} = \\int_C2y\\,\\mathrm{d}x + x\\,\\mathrm{d}y$$"
   ]
  },
  {
   "cell_type": "markdown",
   "id": "731a8503-fc7f-4deb-bd6c-db5382fb3aee",
   "metadata": {},
   "source": [
    "$$ x'(t) = -\\sin t \\quad\\therefore\\quad \\mathrm{d}x = -\\sin t\\,\\mathrm{d}t$$"
   ]
  },
  {
   "cell_type": "markdown",
   "id": "274d728f-10cd-49bf-aa48-8a9e6721e708",
   "metadata": {},
   "source": [
    "$$ y'(t) = \\cos t \\quad\\therefore\\quad \\mathrm{d}y = \\cos t\\,\\mathrm{d}t$$"
   ]
  },
  {
   "attachments": {},
   "cell_type": "markdown",
   "id": "adc7f3de-64d9-4b62-aec4-a48aa12391e5",
   "metadata": {},
   "source": [
    "Finally,  \n",
    "\n",
    "$$ W = \\int_C x\\cos t\\,\\mathrm{d}t -2y\\sin t\\,\\mathrm{d}t = \\int_0^{2\\pi}\\big(\\cos^2 t -2\\sin^2 t\\big)\\,\\mathrm{d}t$$"
   ]
  },
  {
   "attachments": {},
   "cell_type": "markdown",
   "id": "15f2ebc0-72a3-4cd2-9e2a-843248f4dfe2",
   "metadata": {},
   "source": [
    "$$ = \\int_0^{2\\pi}\\big(3\\cos^2 t - 2\\big)\\,\\mathrm{d}t  = 3\\int_0^{2\\pi}\\cos^2 t\\,\\mathrm{d}t - 4\\pi$$"
   ]
  },
  {
   "cell_type": "markdown",
   "id": "2a9df1cf-07af-444b-8caf-6753299b76f9",
   "metadata": {},
   "source": [
    "To compute $\\displaystyle \\int\\cos^2 t\\,\\mathrm{d}t$ first note that:  \n",
    "\n",
    "$$ \\frac{\\mathrm{d}\\cos^2 t}{\\mathrm{d}t} = -2\\cos t \\sin t = -\\sin 2t$$"
   ]
  },
  {
   "cell_type": "markdown",
   "id": "4815bb8f-97f6-488f-8309-1b9d2c89fdd7",
   "metadata": {},
   "source": [
    "$$ -\\int \\sin 2t\\,\\mathrm{d}t = 0.5\\cos 2t + K$$"
   ]
  },
  {
   "cell_type": "markdown",
   "id": "cb4fdb86-0d11-4407-a37a-f378511c4574",
   "metadata": {},
   "source": [
    "Via the above two equations,  \n",
    "\n",
    "$$ \\cos^2 t = 0.5\\cos 2t + K$$"
   ]
  },
  {
   "cell_type": "markdown",
   "id": "d1327cad-0352-4d67-954a-e47161d9aa1c",
   "metadata": {},
   "source": [
    "$$ \\cos^2 0 = 0.5\\cos 0 + K \\quad\\therefore\\quad 1 = 0.5 + K \\quad\\therefore$$ "
   ]
  },
  {
   "cell_type": "markdown",
   "id": "e3a49730-e638-4755-bedc-91767c1ecff8",
   "metadata": {},
   "source": [
    "$$ \\cos^2 t = 0.5\\cos2t + 0.5$$"
   ]
  },
  {
   "cell_type": "markdown",
   "id": "32209329-f472-4314-b328-a0595c991cd1",
   "metadata": {},
   "source": [
    "Now we can compute the primitive integral.  \n",
    "\n",
    "$$ \\int\\cos^2 t\\,\\mathrm{d}t = 0.5\\int\\cos 2t\\,\\mathrm{d}t + \\int 0.5\\,\\mathrm{d}t = 0.25\\sin 2t + 0.5 t + c$$"
   ]
  },
  {
   "cell_type": "markdown",
   "id": "f0658142-c3b9-4584-bd3a-dea4d5b09fff",
   "metadata": {},
   "source": [
    "Thus,  \n",
    "\n",
    "$$ 3\\int_0^{2\\pi}\\cos^2 t\\,\\mathrm{d}t = 3\\big(0.25\\sin 4\\pi + \\pi\\big) = 3\\pi$$"
   ]
  },
  {
   "cell_type": "markdown",
   "id": "0bfe2ef9-4415-48d8-907a-ee5300700f77",
   "metadata": {},
   "source": [
    "Finally,  \n",
    "\n",
    "$$ W = \\oint_C\\mathbf{F}\\cdot\\mathrm{d}\\mathbf{r} = -\\pi$$"
   ]
  },
  {
   "cell_type": "markdown",
   "id": "249d1e75-56c6-413c-b1c6-2e8a25469340",
   "metadata": {},
   "source": [
    "Via Green's theorem:  \n",
    "\n",
    "$$ \\oint_C\\mathbf{F}\\cdot\\mathrm{d}\\mathbf{r} = \\int\\!\\int_R\\mathrm{curl }\\,\\mathbf{F}\\,\\mathrm{d}A$$"
   ]
  },
  {
   "cell_type": "markdown",
   "id": "014f3f3b-5896-4e24-a73d-4f2965793efd",
   "metadata": {},
   "source": [
    "$$ \\mathrm{curl }\\,\\mathbf{F} = N_x - M_y = 1 - 2 = -1$$"
   ]
  },
  {
   "cell_type": "markdown",
   "id": "57dea619-93dc-4d11-95c9-2e183e8d206a",
   "metadata": {},
   "source": [
    "Thus,  \n",
    "\n",
    "$$ W = \\oint_C\\mathbf{F}\\cdot\\mathrm{d}\\mathbf{r} = -\\int\\!\\int_R\\,\\mathrm{d}A = -\\pi$$"
   ]
  },
  {
   "cell_type": "markdown",
   "id": "af38e26d-dbd1-4bb5-aa1f-f2575ae73f25",
   "metadata": {},
   "source": [
    "**b)**  The rectangle can be broken down into four segments.  The horizontal segments cancel each other out, so we only need to compute the line integral over the vertical ones, $C_2$ and $C_4$, which are given by:  \n",
    "\n",
    "$$ C_2: \\;(2,y)\\quad\\text{for }\\, 0\\le y\\le 1 \\quad\\quad\\text{and}\\quad\\quad C_4:\\;(0,y)\\quad\\text{for }\\, 0\\le y\\le 1$$"
   ]
  },
  {
   "cell_type": "markdown",
   "id": "2eb1b5d4-df60-4f55-8258-7aebc86a7200",
   "metadata": {},
   "source": [
    "$$ W  = \\oint_C\\mathbf{F}\\cdot\\mathrm{d}\\mathbf{r} = \\int_{C_2}\\mathbf{F}\\cdot\\mathrm{d}\\mathbf{r} + \\int_{C_4}\\mathbf{F}\\cdot\\mathrm{d}\\mathbf{r}$$"
   ]
  },
  {
   "cell_type": "markdown",
   "id": "09ea020c-efeb-4941-8421-45c6594bf821",
   "metadata": {},
   "source": [
    "$$ \\int_{C_2}\\mathbf{F}\\cdot\\mathrm{d}\\mathbf{r} = \\int_0^1 4\\,\\mathrm{d}y = 4$$"
   ]
  },
  {
   "cell_type": "markdown",
   "id": "9f447965-3a8a-4eaa-88d9-204a060a153b",
   "metadata": {},
   "source": [
    "$$ \\int_{C_4}\\mathbf{F}\\cdot\\mathrm{d}\\mathbf{r} = -\\int_0^1 0\\,\\mathrm{d}y = 0$$"
   ]
  },
  {
   "cell_type": "markdown",
   "id": "1ec5b622-80ba-4138-a2a8-951d0b8d841e",
   "metadata": {},
   "source": [
    "Finally,  \n",
    "\n",
    "$$ W = 4$$"
   ]
  },
  {
   "cell_type": "markdown",
   "id": "0b730b61-80d3-4bbd-9507-c0d99d7e6fee",
   "metadata": {},
   "source": [
    "Now, via Green's Theorem.  \n",
    "\n",
    "$$ \\mathrm{curl }\\,\\mathbf{F} = 2x - 0 = 2x$$"
   ]
  },
  {
   "cell_type": "markdown",
   "id": "2976cf6c-19bc-40e4-9b68-f01b566865a1",
   "metadata": {},
   "source": [
    "$$ W = \\int\\!\\int_R 2x\\,\\mathrm{d}A = \\int_0^2\\int_0^1 2x\\,\\mathrm{d}y\\,\\mathrm{d}x$$"
   ]
  },
  {
   "cell_type": "markdown",
   "id": "cfc0e3af-2e85-4756-9601-a22b4ddfdc29",
   "metadata": {},
   "source": [
    "$$ = \\int_0^2 2x\\,\\mathrm{d}x = 4$$"
   ]
  },
  {
   "cell_type": "markdown",
   "id": "107edc06-90cf-46c4-b020-d17c6a47f7d3",
   "metadata": {},
   "source": [
    "**c)**  Via computing the line integral.  \n",
    "\n",
    "$$ W = \\oint_C\\mathbf{F}\\cdot\\mathrm{d}\\mathbf{r} = \\int_{C_1}\\mathbf{F}\\cdot\\mathrm{d}\\mathbf{r} + \\int_{C_2}\\mathbf{F}\\cdot\\mathrm{d}\\mathbf{r}$$"
   ]
  },
  {
   "cell_type": "markdown",
   "id": "b2bbfc1e-b2d3-41e0-a629-30207763ce89",
   "metadata": {},
   "source": [
    "where $C_1$ and $C_2$ are given by:  \n",
    "\n",
    "$$ C_1:\\; \\big(x,x^2\\big)\\quad\\text{for }\\, 0\\le x\\le 1 \\quad\\quad\\text{and}\\quad\\quad C_2:\\;(x,x)\\quad\\text{for }\\, 0\\le x \\le 1$$"
   ]
  },
  {
   "cell_type": "markdown",
   "id": "e51a0233-be24-4ea7-9af0-1bc91fc11009",
   "metadata": {},
   "source": [
    "$$ \\int_{C_1}\\mathbf{F}\\cdot\\mathrm{d}\\mathbf{r} = \\int_{C_1} x^3\\,\\mathrm{d}x + x^4\\,\\mathrm{d}y$$"
   ]
  },
  {
   "cell_type": "markdown",
   "id": "266a68ae-34ed-480e-81cb-348824a026ae",
   "metadata": {},
   "source": [
    "$$ \\mathrm{d}y = 2x\\,\\mathrm{d}x$$"
   ]
  },
  {
   "cell_type": "markdown",
   "id": "acf404e9-a896-4951-b2b0-e367c4d4ec25",
   "metadata": {},
   "source": [
    "Thus,  \n",
    "\n",
    "$$ \\int_{C_1}\\mathbf{F}\\cdot\\mathrm{d}\\mathbf{r} = \\int_0^1\\big(x^3 + 2x^5\\big)\\,\\mathrm{d}x$$"
   ]
  },
  {
   "cell_type": "markdown",
   "id": "40eadf8b-c889-487b-ad3c-872230c49f20",
   "metadata": {},
   "source": [
    "$$ = \\left.\\left(\\frac{x^4}{4} + \\frac{x^6}{3}\\right)\\right]_{\\,0}^{\\,1}$$"
   ]
  },
  {
   "cell_type": "markdown",
   "id": "7ea6fdbd-5280-4e88-8c1c-108d386b255f",
   "metadata": {},
   "source": [
    "$$ = \\frac{1}{4} + \\frac{1}{3} = \\frac{7}{12}$$"
   ]
  },
  {
   "cell_type": "markdown",
   "id": "286c91b7-9f42-4179-9877-410b63f89c19",
   "metadata": {},
   "source": [
    "As for the other line integral:  \n",
    "\n",
    "$$ \\int_{C_2}\\mathbf{F}\\cdot\\mathrm{d}\\mathbf{r} = \\int_{C_2}x^2\\,\\mathrm{d}x + x^2\\,\\mathrm{d}x$$"
   ]
  },
  {
   "cell_type": "markdown",
   "id": "c4526c44-bef1-47f8-a2d4-2df2a9ed99ca",
   "metadata": {},
   "source": [
    "$$ = 2\\int_1^0x^2\\,\\mathrm{d}x = -2\\int_0^1x^2\\,\\mathrm{d}x = -\\left.\\frac{2x^3}{3}\\right]_{\\,0}^{\\,1}$$"
   ]
  },
  {
   "cell_type": "markdown",
   "id": "e5e681ad-386c-45a1-bc03-f437b3ad2005",
   "metadata": {},
   "source": [
    "$$ -\\frac{2}{3}$$"
   ]
  },
  {
   "cell_type": "markdown",
   "id": "fb31f7d4-08b5-49bb-9a69-c42c296b8995",
   "metadata": {},
   "source": [
    "Finally,  \n",
    "\n",
    "$$ W = \\oint_C\\mathbf{F}\\cdot\\mathrm{d}\\mathbf{r} = \\frac{7}{12} - \\frac{2}{3} = \\frac{7-8}{12} = -\\frac{1}{12}$$"
   ]
  },
  {
   "cell_type": "markdown",
   "id": "0581c8c5-4ce6-40b4-99f2-08c477bb906b",
   "metadata": {},
   "source": [
    "Now, via Green's theorem.  \n",
    "\n",
    "$$ \\mathrm{curl }\\,\\mathbf{F} = - x$$"
   ]
  },
  {
   "cell_type": "markdown",
   "id": "bbf2d829-78a4-40ac-a5d5-f0411e3aba95",
   "metadata": {},
   "source": [
    "$$ W = -\\int\\!\\int_R x\\,\\mathrm{d}A = -\\int_0^1\\int_{x^2}^x x\\,\\mathrm{d}y\\,\\mathrm{d}x$$"
   ]
  },
  {
   "cell_type": "markdown",
   "id": "a510bc80-4d8c-49a4-bbfc-a67cce6a6259",
   "metadata": {},
   "source": [
    "$$ = -\\int_0^1\\big(x^2 - x^3\\big)\\,\\mathrm{d}x$$"
   ]
  },
  {
   "cell_type": "markdown",
   "id": "96ceaa54-b867-45e7-a20a-2f26f777aa53",
   "metadata": {},
   "source": [
    "$$ = -\\frac{1}{3} +\\frac{1}{4} = \\frac{3-4}{12} = -\\frac{1}{12}$$"
   ]
  },
  {
   "cell_type": "markdown",
   "id": "671f0e94-911c-4147-aa44-2dc0e8c42512",
   "metadata": {},
   "source": [
    "#### $\\S\\,4\\mathrm{D} : 2$  \n",
    "\n",
    "$$ \\mathbf{F} = 4x^3y\\,\\mathbf{i} + x^4\\,\\mathbf{j}$$"
   ]
  },
  {
   "cell_type": "markdown",
   "id": "78fd83a8-fa63-44eb-81e9-14e4e2ac88c1",
   "metadata": {},
   "source": [
    "Our task is to show that $\\mathbf{F}$ is conservative.  \n",
    "\n",
    "$$ \\mathrm{curl }\\,\\mathbf{F} = 4x^3 - 4x^3 = 0$$"
   ]
  },
  {
   "cell_type": "markdown",
   "id": "4c16d25d-c1ec-48f2-9338-1a3db9a6e0cd",
   "metadata": {},
   "source": [
    "Via the above equation, the fact that $\\mathbf{F}$ is continuously differentiable throughout the $x,y$-plane, and Green's theorem, our field is indeed conservative."
   ]
  },
  {
   "cell_type": "markdown",
   "id": "bba414d3-bd99-4acd-ba7e-fa15b2ced6f8",
   "metadata": {},
   "source": [
    "#### $\\S\\,4\\mathrm{D} : 3$\n",
    "\n",
    "Let $C$ be the positively oriented curve that bounds $R$, the region inside the aforementioned hypocycloid.  \n",
    "\n",
    "$$ C:\\; \\sqrt[3]{x^2} + \\sqrt[3]{y^2} = 1$$"
   ]
  },
  {
   "cell_type": "markdown",
   "id": "92dff7fc-0754-4e60-b2d3-32c6a311c76e",
   "metadata": {},
   "source": [
    "Let $\\mathbf{r}$ be the position vector that tracks $C$.  \n",
    "\n",
    "$$ \\mathbf{r} := \\mathbf{r}(t) = \\langle x(t),y(t)\\rangle$$"
   ]
  },
  {
   "cell_type": "markdown",
   "id": "bd12a244-5455-4723-beaa-318ce7da7407",
   "metadata": {},
   "source": [
    "$$ x:=x(t) = \\cos^3 t\\quad\\quad\\text{and}\\quad\\quad y:=y(t)=\\sin^3 t$$"
   ]
  },
  {
   "cell_type": "markdown",
   "id": "7a988353-30c2-48f8-a2b6-4973267d0391",
   "metadata": {},
   "source": [
    "The above of course parametrizes $C$.  To apply Green's theorem to the problem, we must first find a vector field $\\mathbf{F}$ such that:  \n",
    "\n",
    "$$ \\mathrm{curl }\\,\\mathbf{F} = N_x  -M_y = 1$$"
   ]
  },
  {
   "cell_type": "markdown",
   "id": "1099098e-4a72-4c49-9c6e-c8c26f039640",
   "metadata": {},
   "source": [
    "Via the above assumption and Green's theorem,  \n",
    "\n",
    "$$ \\oint_C \\mathbf{F}\\cdot\\mathrm{d}\\mathbf{r}  = \\int\\!\\int_R \\,\\mathrm{d}A$$"
   ]
  },
  {
   "cell_type": "markdown",
   "id": "af57d0ff-2590-426c-b24e-e909a746ca47",
   "metadata": {},
   "source": [
    "$$ \\oint_C\\mathbf{F}\\cdot\\mathrm{d}\\mathbf{r} = \\oint_CM\\,\\mathrm{d}x + N\\,\\mathrm{d}y$$"
   ]
  },
  {
   "cell_type": "markdown",
   "id": "9c77a55a-c45f-4ef1-b0c2-4401546c3928",
   "metadata": {},
   "source": [
    "$$ x'(t) = -3\\cos^2 t\\sin t \\quad\\therefore\\quad \\mathrm{d}x = -3\\cos^2 t\\sin t\\,\\mathrm{d}t$$"
   ]
  },
  {
   "cell_type": "markdown",
   "id": "f71dfeec-3b2a-4e99-8ce5-c3efebcb3035",
   "metadata": {},
   "source": [
    "$$ y'(t) = 3\\sin^2 t\\cos t \\quad\\therefore\\quad \\mathrm{d}y = 3\\sin^2 t\\cos t\\,\\mathrm{d}t$$"
   ]
  },
  {
   "cell_type": "markdown",
   "id": "6b4b8e25-6270-4b9e-9ae0-6479103120f7",
   "metadata": {},
   "source": [
    "The simplest solution to the assumption is:  \n",
    "\n",
    "$$ \\mathbf{F} = \\langle y,2x\\rangle$$"
   ]
  },
  {
   "cell_type": "markdown",
   "id": "c0097d24-b3d2-4a22-af41-8d93ea53c6fb",
   "metadata": {},
   "source": [
    "Thus, the line integral is:  \n",
    "\n",
    "$$\\oint_C\\mathbf{F}\\cdot\\mathrm{d}\\mathbf{r} =  \\int_{t_1}^{t_2}\\big(6\\sin^2 t\\cos^4 t -3\\cos^2 t\\sin^4 t\\big)\\,\\mathrm{d}t$$"
   ]
  },
  {
   "cell_type": "markdown",
   "id": "ee5d0ee8-e545-426a-a3bb-1babbcfd896c",
   "metadata": {},
   "source": [
    "It might be helpful to reformulate the above line integral in terms of $x$.  First, let's solve for $y$ in terms of $x$ using the equation that gives $C$ in terms $x$ and $y$.  \n",
    "\n",
    "$$ y^2 = \\big(1-\\sqrt[3]{x^2}\\big)^3\\quad\\therefore\\quad y = \\pm\\sqrt{\\big(1-\\sqrt[3]{x^2}\\big)^3}$$"
   ]
  },
  {
   "cell_type": "markdown",
   "id": "f7757b7e-3a6e-4dbe-911f-a69c3a1b70bf",
   "metadata": {},
   "source": [
    "As it turns out, it probably is best to work with the line integral in terms of $t$;  However, the above proposition can be used to find the $x$-intercepts of $C$.  \n",
    "\n",
    "$$ 1-\\sqrt[3]{x^2} \\ge 0 \\quad\\therefore\\quad x^2 \\le 1 \\quad\\therefore $$"
   ]
  },
  {
   "cell_type": "markdown",
   "id": "f9d7284d-1a91-4f31-8346-81a3d2a0cd20",
   "metadata": {},
   "source": [
    "$$ -1 \\le x \\le 1 $$"
   ]
  },
  {
   "cell_type": "markdown",
   "id": "0ccdcca2-9d17-477a-ae23-4b3807ae49d1",
   "metadata": {},
   "source": [
    "The above, in conjunction with the parametrization of $C$, implies that:  \n",
    "\n",
    "$$ t_1 = 0 \\quad\\quad\\text{and}\\quad\\quad t_2 = 2\\pi$$"
   ]
  },
  {
   "cell_type": "markdown",
   "id": "4f01cb6f-9e18-491d-bb79-1abd241c4b6e",
   "metadata": {},
   "source": [
    "Now, let's find the primitive integral of the formulation of the line integral in terms of $t$.  \n",
    "\n",
    "$$ \\int\\mathbf{F}(t)\\cdot\\mathrm{d}\\mathbf{r}(t) = 3\\int\\sin^2 t\\cos^4 t\\,\\mathrm{d}t + 3\\int\\big(\\sin^2 t\\cos^4 t - \\cos^2\\sin^4 t\\big)\\,\\mathrm{d}t$$"
   ]
  },
  {
   "cell_type": "markdown",
   "id": "1e0333a4-a943-4f09-82e1-78d02e0fb895",
   "metadata": {},
   "source": [
    "To find the right hand primitive integral let $g(t)$ be defined as:  \n",
    "\n",
    "$$ g(t) := \\sin^3 t\\cos^3 t $$"
   ]
  },
  {
   "cell_type": "markdown",
   "id": "5ed06bfb-ef0b-4700-8983-cb490d7489af",
   "metadata": {},
   "source": [
    "$$ g'(t) = 3\\sin^2 t\\cos^4 t - 3\\cos^2 t\\sin^4 t$$"
   ]
  },
  {
   "cell_type": "markdown",
   "id": "42ca86c1-f0e8-4eb8-8c14-5c3ef2ab9750",
   "metadata": {},
   "source": [
    "Thus,  \n",
    "\n",
    "$$ \\int\\mathbf{F}(t)\\cdot\\mathrm{d}\\mathbf{r}(t) = 3\\int\\sin^2 t\\cos^4 t\\,\\mathrm{d}t + \\sin^3 t\\cos^3 t$$"
   ]
  },
  {
   "cell_type": "markdown",
   "id": "65413a33-0d94-4bc9-acac-49f6893be27a",
   "metadata": {},
   "source": [
    "To find the left hand primtive integral of the right hand side of the above equations, first note that:  \n",
    "\n",
    "$$ \\sin^2 t \\cos^4 t = 0.25\\sin^2 2t\\cos^2 t = \\frac{1}{8}\\,\\sin^2 2t\\big(\\cos 2t + 1\\big)$$"
   ]
  },
  {
   "cell_type": "markdown",
   "id": "c3afba9d-3caf-4b26-9a63-ce015c83824f",
   "metadata": {},
   "source": [
    "Thus,  \n",
    "\n",
    "$$ 3\\int\\sin^2 t\\cos^4 t\\,\\mathrm{d}t = \\frac{3}{8}\\int\\sin^2 2t\\,\\cos 2t\\,\\mathrm{d}t + \\frac{3}{8}\\int\\sin^2 2t\\,\\mathrm{d}t$$"
   ]
  },
  {
   "cell_type": "markdown",
   "id": "975fc27d-9742-4e1f-86a4-54616c122071",
   "metadata": {},
   "source": [
    "To find the primitive integral of the left hand integral on the hand side of the above equation, let $h(t)$ be defined as:  \n",
    "\n",
    "$$ h(t) := \\sin^3 2t$$"
   ]
  },
  {
   "cell_type": "markdown",
   "id": "5b0d8cf6-7442-43cb-adbb-0aba761c0b19",
   "metadata": {},
   "source": [
    "$$ h'(t) = 6\\sin^2 2t\\cos 2t$$"
   ]
  },
  {
   "cell_type": "markdown",
   "id": "b10387f5-6479-4014-b8ca-ec1f2030a40c",
   "metadata": {},
   "source": [
    "Thus,  \n",
    "\n",
    "$$ 3\\int\\sin^2 t\\cos^4 t\\,\\mathrm{d}t = \\frac{h(t)}{16} + \\frac{3}{8}\\int\\sin^2 t\\,\\mathrm{d}t$$"
   ]
  },
  {
   "cell_type": "markdown",
   "id": "babdda51-fcc1-4f32-add1-225af8bfae2a",
   "metadata": {},
   "source": [
    "To find the other primtive integral, note that:  \n",
    "\n",
    "$$ \\sin^2 2t = 1 - \\cos^2 2t = 0.5 - 0.5\\cos 4t$$"
   ]
  },
  {
   "cell_type": "markdown",
   "id": "49ad3758-f7fa-4445-8a00-d7c570e3fa15",
   "metadata": {},
   "source": [
    "Thus,  \n",
    "\n",
    "$$ 3\\int\\sin^2 t\\cos^4 t\\,\\mathrm{d}t = \\frac{\\sin^2 2t}{16} + \\frac{3t}{16} - \\frac{3}{16}\\int\\cos 4t\\,\\mathrm{d}t$$"
   ]
  },
  {
   "cell_type": "markdown",
   "id": "3a09f307-baf8-4c79-b153-28b425c597a1",
   "metadata": {},
   "source": [
    "#### $\\S\\,4\\mathrm{D} : 4$"
   ]
  },
  {
   "cell_type": "markdown",
   "id": "83b25e05-60ce-4f64-84cf-7c531636a308",
   "metadata": {},
   "source": [
    "#### $\\S\\,4\\mathrm{D} : 5$"
   ]
  }
 ],
 "metadata": {
  "kernelspec": {
   "display_name": "Python 3 (ipykernel)",
   "language": "python",
   "name": "python3"
  },
  "language_info": {
   "codemirror_mode": {
    "name": "ipython",
    "version": 3
   },
   "file_extension": ".py",
   "mimetype": "text/x-python",
   "name": "python",
   "nbconvert_exporter": "python",
   "pygments_lexer": "ipython3",
   "version": "3.10.12"
  }
 },
 "nbformat": 4,
 "nbformat_minor": 5
}
