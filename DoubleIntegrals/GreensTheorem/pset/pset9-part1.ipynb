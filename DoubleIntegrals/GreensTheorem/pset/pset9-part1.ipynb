{
 "cells": [
  {
   "cell_type": "markdown",
   "id": "907c8cbd-508d-4173-817e-f7dc17ef0c6d",
   "metadata": {},
   "source": [
    "# Problem Set 9  "
   ]
  },
  {
   "cell_type": "code",
   "execution_count": 1,
   "id": "3d60fd87-aff7-4192-a8d4-b07c3a32edb8",
   "metadata": {
    "jupyter": {
     "source_hidden": true
    }
   },
   "outputs": [],
   "source": [
    "import numpy as np\n",
    "import matplotlib.pyplot as plt\n",
    "import matplotlib as mpl\n",
    "import sympy as sp"
   ]
  },
  {
   "cell_type": "markdown",
   "id": "b89dc21b-d75c-4c07-a1fe-8ca45b1b39ed",
   "metadata": {},
   "source": [
    "## Part I  \n",
    "\n",
    "### Green's Theorem"
   ]
  },
  {
   "cell_type": "markdown",
   "id": "58916b63-25fb-441b-b651-3bbdefea304e",
   "metadata": {},
   "source": [
    "#### $\\S\\,4\\mathrm{D} : 1$\n",
    "\n",
    "**a)**  \n",
    "\n",
    "Via direct calculation of the line integral:  \n",
    "\n",
    "$$ \\mathbf{F} = \\langle 2y,x\\rangle \\quad\\quad\\text{C: }\\; x^2+y^2=1$$"
   ]
  },
  {
   "cell_type": "markdown",
   "id": "de1709c6-2b90-4c38-8497-235d5bfdc790",
   "metadata": {},
   "source": [
    "$$ \\mathbf{r} := \\mathbf{r}(t) = \\langle x(t),y(t)\\rangle$$"
   ]
  },
  {
   "cell_type": "markdown",
   "id": "9af4db6c-e36b-41f6-8d6a-ef5bcc51e742",
   "metadata": {},
   "source": [
    "$$ x:=x(t) = \\cos t \\quad\\quad\\text{and}\\quad\\quad y:=y(t) = \\sin t$$"
   ]
  },
  {
   "cell_type": "markdown",
   "id": "aed05c22-e82c-4d8c-9cdf-406c0020d159",
   "metadata": {},
   "source": [
    "$$ W = \\oint_C \\mathbf{F}\\cdot\\mathrm{d}\\mathbf{r} = \\int_C2y\\,\\mathrm{d}x + x\\,\\mathrm{d}y$$"
   ]
  },
  {
   "cell_type": "markdown",
   "id": "731a8503-fc7f-4deb-bd6c-db5382fb3aee",
   "metadata": {},
   "source": [
    "$$ x'(t) = -\\sin t \\quad\\therefore\\quad \\mathrm{d}x = -\\sin t\\,\\mathrm{d}t$$"
   ]
  },
  {
   "cell_type": "markdown",
   "id": "274d728f-10cd-49bf-aa48-8a9e6721e708",
   "metadata": {},
   "source": [
    "$$ y'(t) = \\cos t \\quad\\therefore\\quad \\mathrm{d}y = \\cos t\\,\\mathrm{d}t$$"
   ]
  },
  {
   "attachments": {},
   "cell_type": "markdown",
   "id": "adc7f3de-64d9-4b62-aec4-a48aa12391e5",
   "metadata": {},
   "source": [
    "Finally,  \n",
    "\n",
    "$$ W = \\int_C x\\cos t\\,\\mathrm{d}t -2y\\sin t\\,\\mathrm{d}t = \\int_0^{2\\pi}\\big(\\cos^2 t -2\\sin^2 t\\big)\\,\\mathrm{d}t$$"
   ]
  },
  {
   "attachments": {},
   "cell_type": "markdown",
   "id": "15f2ebc0-72a3-4cd2-9e2a-843248f4dfe2",
   "metadata": {},
   "source": [
    "$$ = \\int_0^{2\\pi}\\big(3\\cos^2 t - 2\\big)\\,\\mathrm{d}t  = 3\\int_0^{2\\pi}\\cos^2 t\\,\\mathrm{d}t - 4\\pi$$"
   ]
  },
  {
   "cell_type": "markdown",
   "id": "2a9df1cf-07af-444b-8caf-6753299b76f9",
   "metadata": {},
   "source": [
    "To compute $\\displaystyle \\int\\cos^2 t\\,\\mathrm{d}t$ first note that:  \n",
    "\n",
    "$$ \\frac{\\mathrm{d}\\cos^2 t}{\\mathrm{d}t} = -2\\cos t \\sin t = -\\sin 2t$$"
   ]
  },
  {
   "cell_type": "markdown",
   "id": "4815bb8f-97f6-488f-8309-1b9d2c89fdd7",
   "metadata": {},
   "source": [
    "$$ -\\int \\sin 2t\\,\\mathrm{d}t = 0.5\\cos 2t + K$$"
   ]
  },
  {
   "cell_type": "markdown",
   "id": "cb4fdb86-0d11-4407-a37a-f378511c4574",
   "metadata": {},
   "source": [
    "Via the above two equations,  \n",
    "\n",
    "$$ \\cos^2 t = 0.5\\cos 2t + K$$"
   ]
  },
  {
   "cell_type": "markdown",
   "id": "d1327cad-0352-4d67-954a-e47161d9aa1c",
   "metadata": {},
   "source": [
    "$$ \\cos^2 0 = 0.5\\cos 0 + K \\quad\\therefore\\quad 1 = 0.5 + K \\quad\\therefore$$ "
   ]
  },
  {
   "cell_type": "markdown",
   "id": "e3a49730-e638-4755-bedc-91767c1ecff8",
   "metadata": {},
   "source": [
    "$$ \\cos^2 t = 0.5\\cos2t + 0.5$$"
   ]
  },
  {
   "cell_type": "markdown",
   "id": "32209329-f472-4314-b328-a0595c991cd1",
   "metadata": {},
   "source": [
    "Now we can compute the primitive integral.  \n",
    "\n",
    "$$ \\int\\cos^2 t\\,\\mathrm{d}t = 0.5\\int\\cos 2t\\,\\mathrm{d}t + \\int 0.5\\,\\mathrm{d}t = 0.25\\sin 2t + 0.5 t + c$$"
   ]
  },
  {
   "cell_type": "markdown",
   "id": "f0658142-c3b9-4584-bd3a-dea4d5b09fff",
   "metadata": {},
   "source": [
    "Thus,  \n",
    "\n",
    "$$ 3\\int_0^{2\\pi}\\cos^2 t\\,\\mathrm{d}t = 3\\big(0.25\\sin 4\\pi + \\pi\\big) = 3\\pi$$"
   ]
  },
  {
   "cell_type": "markdown",
   "id": "0bfe2ef9-4415-48d8-907a-ee5300700f77",
   "metadata": {},
   "source": [
    "Finally,  \n",
    "\n",
    "$$ W = \\oint_C\\mathbf{F}\\cdot\\mathrm{d}\\mathbf{r} = -\\pi$$"
   ]
  },
  {
   "cell_type": "markdown",
   "id": "249d1e75-56c6-413c-b1c6-2e8a25469340",
   "metadata": {},
   "source": [
    "Via Green's theorem:  \n",
    "\n",
    "$$ \\oint_C\\mathbf{F}\\cdot\\mathrm{d}\\mathbf{r} = \\int\\!\\int_R\\mathrm{curl }\\,\\mathbf{F}\\,\\mathrm{d}A$$"
   ]
  },
  {
   "cell_type": "markdown",
   "id": "014f3f3b-5896-4e24-a73d-4f2965793efd",
   "metadata": {},
   "source": [
    "$$ \\mathrm{curl }\\,\\mathbf{F} = N_x - M_y = 1 - 2 = -1$$"
   ]
  },
  {
   "cell_type": "markdown",
   "id": "57dea619-93dc-4d11-95c9-2e183e8d206a",
   "metadata": {},
   "source": [
    "Thus,  \n",
    "\n",
    "$$ W = \\oint_C\\mathbf{F}\\cdot\\mathrm{d}\\mathbf{r} = -\\int\\!\\int_R\\,\\mathrm{d}A = -\\pi$$"
   ]
  },
  {
   "cell_type": "markdown",
   "id": "af38e26d-dbd1-4bb5-aa1f-f2575ae73f25",
   "metadata": {},
   "source": [
    "**b)**  The rectangle can be broken down into four segments.  The horizontal segments cancel each other out, so we only need to compute the line integral over the vertical ones, $C_2$ and $C_4$, which are given by:  \n",
    "\n",
    "$$ C_2: \\;(2,y)\\quad\\text{for }\\, 0\\le y\\le 1 \\quad\\quad\\text{and}\\quad\\quad C_4:\\;(0,y)\\quad\\text{for }\\, 0\\le y\\le 1$$"
   ]
  },
  {
   "cell_type": "markdown",
   "id": "2eb1b5d4-df60-4f55-8258-7aebc86a7200",
   "metadata": {},
   "source": [
    "$$ W  = \\oint_C\\mathbf{F}\\cdot\\mathrm{d}\\mathbf{r} = \\int_{C_2}\\mathbf{F}\\cdot\\mathrm{d}\\mathbf{r} + \\int_{C_4}\\mathbf{F}\\cdot\\mathrm{d}\\mathbf{r}$$"
   ]
  },
  {
   "cell_type": "markdown",
   "id": "09ea020c-efeb-4941-8421-45c6594bf821",
   "metadata": {},
   "source": [
    "$$ \\int_{C_2}\\mathbf{F}\\cdot\\mathrm{d}\\mathbf{r} = \\int_0^1 4\\,\\mathrm{d}y = 4$$"
   ]
  },
  {
   "cell_type": "markdown",
   "id": "9f447965-3a8a-4eaa-88d9-204a060a153b",
   "metadata": {},
   "source": [
    "$$ \\int_{C_4}\\mathbf{F}\\cdot\\mathrm{d}\\mathbf{r} = -\\int_0^1 0\\,\\mathrm{d}y = 0$$"
   ]
  },
  {
   "cell_type": "markdown",
   "id": "1ec5b622-80ba-4138-a2a8-951d0b8d841e",
   "metadata": {},
   "source": [
    "Finally,  \n",
    "\n",
    "$$ W = 4$$"
   ]
  },
  {
   "cell_type": "markdown",
   "id": "0b730b61-80d3-4bbd-9507-c0d99d7e6fee",
   "metadata": {},
   "source": [
    "Now, via Green's Theorem.  \n",
    "\n",
    "$$ \\mathrm{curl }\\,\\mathbf{F} = 2x - 0 = 2x$$"
   ]
  },
  {
   "cell_type": "markdown",
   "id": "2976cf6c-19bc-40e4-9b68-f01b566865a1",
   "metadata": {},
   "source": [
    "$$ W = \\int\\!\\int_R 2x\\,\\mathrm{d}A = \\int_0^2\\int_0^1 2x\\,\\mathrm{d}y\\,\\mathrm{d}x$$"
   ]
  },
  {
   "cell_type": "markdown",
   "id": "cfc0e3af-2e85-4756-9601-a22b4ddfdc29",
   "metadata": {},
   "source": [
    "$$ = \\int_0^2 2x\\,\\mathrm{d}x = 4$$"
   ]
  },
  {
   "cell_type": "markdown",
   "id": "107edc06-90cf-46c4-b020-d17c6a47f7d3",
   "metadata": {},
   "source": [
    "**c)**  Via computing the line integral.  \n",
    "\n",
    "$$ W = \\oint_C\\mathbf{F}\\cdot\\mathrm{d}\\mathbf{r} = \\int_{C_1}\\mathbf{F}\\cdot\\mathrm{d}\\mathbf{r} + \\int_{C_2}\\mathbf{F}\\cdot\\mathrm{d}\\mathbf{r}$$"
   ]
  },
  {
   "cell_type": "markdown",
   "id": "b2bbfc1e-b2d3-41e0-a629-30207763ce89",
   "metadata": {},
   "source": [
    "where $C_1$ and $C_2$ are given by:  \n",
    "\n",
    "$$ C_1:\\; \\big(x,x^2\\big)\\quad\\text{for }\\, 0\\le x\\le 1 \\quad\\quad\\text{and}\\quad\\quad C_2:\\;(x,x)\\quad\\text{for }\\, 0\\le x \\le 1$$"
   ]
  },
  {
   "cell_type": "markdown",
   "id": "e51a0233-be24-4ea7-9af0-1bc91fc11009",
   "metadata": {},
   "source": [
    "$$ \\int_{C_1}\\mathbf{F}\\cdot\\mathrm{d}\\mathbf{r} = \\int_{C_1} x^3\\,\\mathrm{d}x + x^4\\,\\mathrm{d}y$$"
   ]
  },
  {
   "cell_type": "markdown",
   "id": "266a68ae-34ed-480e-81cb-348824a026ae",
   "metadata": {},
   "source": [
    "$$ \\mathrm{d}y = 2x\\,\\mathrm{d}x$$"
   ]
  },
  {
   "cell_type": "markdown",
   "id": "acf404e9-a896-4951-b2b0-e367c4d4ec25",
   "metadata": {},
   "source": [
    "Thus,  \n",
    "\n",
    "$$ \\int_{C_1}\\mathbf{F}\\cdot\\mathrm{d}\\mathbf{r} = \\int_0^1\\big(x^3 + 2x^5\\big)\\,\\mathrm{d}x$$"
   ]
  },
  {
   "cell_type": "markdown",
   "id": "40eadf8b-c889-487b-ad3c-872230c49f20",
   "metadata": {},
   "source": [
    "$$ = \\left.\\left(\\frac{x^4}{4} + \\frac{x^6}{3}\\right)\\right]_{\\,0}^{\\,1}$$"
   ]
  },
  {
   "cell_type": "markdown",
   "id": "7ea6fdbd-5280-4e88-8c1c-108d386b255f",
   "metadata": {},
   "source": [
    "$$ = \\frac{1}{4} + \\frac{1}{3} = \\frac{7}{12}$$"
   ]
  },
  {
   "cell_type": "markdown",
   "id": "286c91b7-9f42-4179-9877-410b63f89c19",
   "metadata": {},
   "source": [
    "As for the other line integral:  \n",
    "\n",
    "$$ \\int_{C_2}\\mathbf{F}\\cdot\\mathrm{d}\\mathbf{r} = \\int_{C_2}x^2\\,\\mathrm{d}x + x^2\\,\\mathrm{d}x$$"
   ]
  },
  {
   "cell_type": "markdown",
   "id": "c4526c44-bef1-47f8-a2d4-2df2a9ed99ca",
   "metadata": {},
   "source": [
    "$$ = 2\\int_1^0x^2\\,\\mathrm{d}x = -2\\int_0^1x^2\\,\\mathrm{d}x = -\\left.\\frac{2x^3}{3}\\right]_{\\,0}^{\\,1}$$"
   ]
  },
  {
   "cell_type": "markdown",
   "id": "e5e681ad-386c-45a1-bc03-f437b3ad2005",
   "metadata": {},
   "source": [
    "$$ -\\frac{2}{3}$$"
   ]
  },
  {
   "cell_type": "markdown",
   "id": "fb31f7d4-08b5-49bb-9a69-c42c296b8995",
   "metadata": {},
   "source": [
    "Finally,  \n",
    "\n",
    "$$ W = \\oint_C\\mathbf{F}\\cdot\\mathrm{d}\\mathbf{r} = \\frac{7}{12} - \\frac{2}{3} = \\frac{7-8}{12} = -\\frac{1}{12}$$"
   ]
  },
  {
   "cell_type": "markdown",
   "id": "0581c8c5-4ce6-40b4-99f2-08c477bb906b",
   "metadata": {},
   "source": [
    "Now, via Green's theorem.  \n",
    "\n",
    "$$ \\mathrm{curl }\\,\\mathbf{F} = - x$$"
   ]
  },
  {
   "cell_type": "markdown",
   "id": "bbf2d829-78a4-40ac-a5d5-f0411e3aba95",
   "metadata": {},
   "source": [
    "$$ W = -\\int\\!\\int_R x\\,\\mathrm{d}A = -\\int_0^1\\int_{x^2}^x x\\,\\mathrm{d}y\\,\\mathrm{d}x$$"
   ]
  },
  {
   "cell_type": "markdown",
   "id": "a510bc80-4d8c-49a4-bbfc-a67cce6a6259",
   "metadata": {},
   "source": [
    "$$ = -\\int_0^1\\big(x^2 - x^3\\big)\\,\\mathrm{d}x$$"
   ]
  },
  {
   "cell_type": "markdown",
   "id": "96ceaa54-b867-45e7-a20a-2f26f777aa53",
   "metadata": {},
   "source": [
    "$$ = -\\frac{1}{3} +\\frac{1}{4} = \\frac{3-4}{12} = -\\frac{1}{12}$$"
   ]
  },
  {
   "cell_type": "markdown",
   "id": "671f0e94-911c-4147-aa44-2dc0e8c42512",
   "metadata": {},
   "source": [
    "#### $\\S\\,4\\mathrm{D} : 2$  \n",
    "\n",
    "$$ \\mathbf{F} = 4x^3y\\,\\mathbf{i} + x^4\\,\\mathbf{j}$$"
   ]
  },
  {
   "cell_type": "markdown",
   "id": "78fd83a8-fa63-44eb-81e9-14e4e2ac88c1",
   "metadata": {},
   "source": [
    "Our task is to show that $\\mathbf{F}$ is conservative.  \n",
    "\n",
    "$$ \\mathrm{curl }\\,\\mathbf{F} = 4x^3 - 4x^3 = 0$$"
   ]
  },
  {
   "cell_type": "markdown",
   "id": "4c16d25d-c1ec-48f2-9338-1a3db9a6e0cd",
   "metadata": {},
   "source": [
    "Via the above equation, the fact that $\\mathbf{F}$ is continuously differentiable throughout the $x,y$-plane, and Green's theorem, our field is indeed conservative."
   ]
  },
  {
   "cell_type": "markdown",
   "id": "bba414d3-bd99-4acd-ba7e-fa15b2ced6f8",
   "metadata": {},
   "source": [
    "#### $\\S\\,4\\mathrm{D} : 3$\n",
    "\n",
    "Let $C$ be the positively oriented curve that bounds $R$, the region inside the aforementioned hypocycloid.  \n",
    "\n",
    "$$ C:\\; \\sqrt[3]{x^2} + \\sqrt[3]{y^2} = 1$$"
   ]
  },
  {
   "cell_type": "markdown",
   "id": "92dff7fc-0754-4e60-b2d3-32c6a311c76e",
   "metadata": {},
   "source": [
    "Let $\\mathbf{r}$ be the position vector that tracks $C$.  \n",
    "\n",
    "$$ \\mathbf{r} := \\mathbf{r}(t) = \\langle x(t),y(t)\\rangle$$"
   ]
  },
  {
   "cell_type": "markdown",
   "id": "bd12a244-5455-4723-beaa-318ce7da7407",
   "metadata": {},
   "source": [
    "$$ x:=x(t) = \\cos^3 t\\quad\\quad\\text{and}\\quad\\quad y:=y(t)=\\sin^3 t$$"
   ]
  },
  {
   "cell_type": "markdown",
   "id": "7a988353-30c2-48f8-a2b6-4973267d0391",
   "metadata": {},
   "source": [
    "The above of course parametrizes $C$.  To apply Green's theorem to the problem, we must first find a vector field $\\mathbf{F}$ such that:  \n",
    "\n",
    "$$ \\mathrm{curl }\\,\\mathbf{F} = N_x  -M_y = 1$$"
   ]
  },
  {
   "cell_type": "markdown",
   "id": "1099098e-4a72-4c49-9c6e-c8c26f039640",
   "metadata": {},
   "source": [
    "Via the above assumption and Green's theorem,  \n",
    "\n",
    "$$ \\oint_C \\mathbf{F}\\cdot\\mathrm{d}\\mathbf{r}  = \\int\\!\\int_R \\,\\mathrm{d}A$$"
   ]
  },
  {
   "cell_type": "markdown",
   "id": "af57d0ff-2590-426c-b24e-e909a746ca47",
   "metadata": {},
   "source": [
    "$$ \\oint_C\\mathbf{F}\\cdot\\mathrm{d}\\mathbf{r} = \\oint_CM\\,\\mathrm{d}x + N\\,\\mathrm{d}y$$"
   ]
  },
  {
   "cell_type": "markdown",
   "id": "9c77a55a-c45f-4ef1-b0c2-4401546c3928",
   "metadata": {},
   "source": [
    "$$ x'(t) = -3\\cos^2 t\\sin t \\quad\\therefore\\quad \\mathrm{d}x = -3\\cos^2 t\\sin t\\,\\mathrm{d}t$$"
   ]
  },
  {
   "cell_type": "markdown",
   "id": "f71dfeec-3b2a-4e99-8ce5-c3efebcb3035",
   "metadata": {},
   "source": [
    "$$ y'(t) = 3\\sin^2 t\\cos t \\quad\\therefore\\quad \\mathrm{d}y = 3\\sin^2 t\\cos t\\,\\mathrm{d}t$$"
   ]
  },
  {
   "cell_type": "markdown",
   "id": "6b4b8e25-6270-4b9e-9ae0-6479103120f7",
   "metadata": {},
   "source": [
    "The simplest solution to the assumption is:  \n",
    "\n",
    "$$ \\mathbf{F} = \\langle y,2x\\rangle$$"
   ]
  },
  {
   "cell_type": "markdown",
   "id": "c0097d24-b3d2-4a22-af41-8d93ea53c6fb",
   "metadata": {},
   "source": [
    "Thus, the line integral is:  \n",
    "\n",
    "$$\\oint_C\\mathbf{F}\\cdot\\mathrm{d}\\mathbf{r} =  \\int_{t_1}^{t_2}\\big(6\\sin^2 t\\cos^4 t -3\\cos^2 t\\sin^4 t\\big)\\,\\mathrm{d}t$$"
   ]
  },
  {
   "cell_type": "markdown",
   "id": "ee5d0ee8-e545-426a-a3bb-1babbcfd896c",
   "metadata": {},
   "source": [
    "It might be helpful to reformulate the above line integral in terms of $x$.  First, let's solve for $y$ in terms of $x$ using the equation that gives $C$ in terms $x$ and $y$.  \n",
    "\n",
    "$$ y^2 = \\big(1-\\sqrt[3]{x^2}\\big)^3\\quad\\therefore\\quad y = \\pm\\sqrt{\\big(1-\\sqrt[3]{x^2}\\big)^3}$$"
   ]
  },
  {
   "cell_type": "markdown",
   "id": "f7757b7e-3a6e-4dbe-911f-a69c3a1b70bf",
   "metadata": {},
   "source": [
    "As it turns out, it probably is best to work with the line integral in terms of $t$;  However, the above proposition can be used to find the $x$-intercepts of $C$.  \n",
    "\n",
    "$$ 1-\\sqrt[3]{x^2} \\ge 0 \\quad\\therefore\\quad x^2 \\le 1 \\quad\\therefore $$"
   ]
  },
  {
   "cell_type": "markdown",
   "id": "f9d7284d-1a91-4f31-8346-81a3d2a0cd20",
   "metadata": {},
   "source": [
    "$$ -1 \\le x \\le 1 $$"
   ]
  },
  {
   "cell_type": "markdown",
   "id": "0ccdcca2-9d17-477a-ae23-4b3807ae49d1",
   "metadata": {},
   "source": [
    "The above, in conjunction with the parametrization of $C$, implies that:  \n",
    "\n",
    "$$ t_1 = 0 \\quad\\quad\\text{and}\\quad\\quad t_2 = 2\\pi$$"
   ]
  },
  {
   "cell_type": "markdown",
   "id": "4f01cb6f-9e18-491d-bb79-1abd241c4b6e",
   "metadata": {},
   "source": [
    "Now, let's find the primitive integral of the formulation of the line integral in terms of $t$.  \n",
    "\n",
    "$$ \\int\\mathbf{F}(t)\\cdot\\mathrm{d}\\mathbf{r}(t) = 3\\int\\sin^2 t\\cos^4 t\\,\\mathrm{d}t + 3\\int\\big(\\sin^2 t\\cos^4 t - \\cos^2\\sin^4 t\\big)\\,\\mathrm{d}t$$"
   ]
  },
  {
   "cell_type": "markdown",
   "id": "1e0333a4-a943-4f09-82e1-78d02e0fb895",
   "metadata": {},
   "source": [
    "To find the right hand primitive integral let $g(t)$ be defined as:  \n",
    "\n",
    "$$ g(t) := \\sin^3 t\\cos^3 t $$"
   ]
  },
  {
   "cell_type": "markdown",
   "id": "5ed06bfb-ef0b-4700-8983-cb490d7489af",
   "metadata": {},
   "source": [
    "$$ g'(t) = 3\\sin^2 t\\cos^4 t - 3\\cos^2 t\\sin^4 t$$"
   ]
  },
  {
   "cell_type": "markdown",
   "id": "42ca86c1-f0e8-4eb8-8c14-5c3ef2ab9750",
   "metadata": {},
   "source": [
    "Thus,  \n",
    "\n",
    "$$ \\int\\mathbf{F}(t)\\cdot\\mathrm{d}\\mathbf{r}(t) = 3\\int\\sin^2 t\\cos^4 t\\,\\mathrm{d}t + \\sin^3 t\\cos^3 t$$"
   ]
  },
  {
   "cell_type": "markdown",
   "id": "65413a33-0d94-4bc9-acac-49f6893be27a",
   "metadata": {},
   "source": [
    "To find the left hand primtive integral of the right hand side of the above equations, first note that:  \n",
    "\n",
    "$$ \\sin^2 t \\cos^4 t = 0.25\\sin^2 2t\\cos^2 t = \\frac{1}{8}\\,\\sin^2 2t\\big(\\cos 2t + 1\\big)$$"
   ]
  },
  {
   "cell_type": "markdown",
   "id": "c3afba9d-3caf-4b26-9a63-ce015c83824f",
   "metadata": {},
   "source": [
    "Thus,  \n",
    "\n",
    "$$ 3\\int\\sin^2 t\\cos^4 t\\,\\mathrm{d}t = \\frac{3}{8}\\int\\sin^2 2t\\,\\cos 2t\\,\\mathrm{d}t + \\frac{3}{8}\\int\\sin^2 2t\\,\\mathrm{d}t$$"
   ]
  },
  {
   "cell_type": "markdown",
   "id": "975fc27d-9742-4e1f-86a4-54616c122071",
   "metadata": {},
   "source": [
    "To find the primitive integral of the left hand integral on the right hand side of the above equation, let $h(t)$ be defined as:  \n",
    "\n",
    "$$ h(t) := \\sin^3 2t$$"
   ]
  },
  {
   "cell_type": "markdown",
   "id": "5b0d8cf6-7442-43cb-adbb-0aba761c0b19",
   "metadata": {},
   "source": [
    "$$ h'(t) = 6\\sin^2 2t\\cos 2t$$"
   ]
  },
  {
   "cell_type": "markdown",
   "id": "b10387f5-6479-4014-b8ca-ec1f2030a40c",
   "metadata": {},
   "source": [
    "Thus,  \n",
    "\n",
    "$$ 3\\int\\sin^2 t\\cos^4 t\\,\\mathrm{d}t = \\frac{h(t)}{16} + \\frac{3}{8}\\int\\sin^2 t\\,\\mathrm{d}t$$"
   ]
  },
  {
   "cell_type": "markdown",
   "id": "babdda51-fcc1-4f32-add1-225af8bfae2a",
   "metadata": {},
   "source": [
    "To find the other primtive integral, note that:  \n",
    "\n",
    "$$ \\sin^2 2t = 1 - \\cos^2 2t = 0.5 - 0.5\\cos 4t$$"
   ]
  },
  {
   "cell_type": "markdown",
   "id": "49ad3758-f7fa-4445-8a00-d7c570e3fa15",
   "metadata": {},
   "source": [
    "Thus,  \n",
    "\n",
    "$$ 3\\int\\sin^2 t\\cos^4 t\\,\\mathrm{d}t = \\frac{\\sin^2 2t}{16} + \\frac{3t}{16} - \\frac{3}{16}\\int\\cos 4t\\,\\mathrm{d}t$$"
   ]
  },
  {
   "cell_type": "markdown",
   "id": "411355e3-d63c-49bc-a41e-6f260e8c6fc0",
   "metadata": {},
   "source": [
    "$$ = \\frac{\\sin^2 2t + 3t}{16} - \\frac{3\\sin 4t}{64} + c$$"
   ]
  },
  {
   "cell_type": "markdown",
   "id": "871bca27-0f96-4f24-9327-989d0cd286d6",
   "metadata": {},
   "source": [
    "where $c\\in\\mathbb{R}$ is an arbitrary constant of integration.  Finally, we have found the primitive integral we were initially looking for.  \n",
    "\n",
    "$$ \\int\\mathbf{F}(t)\\cdot\\mathrm{d}\\mathbf{r}(t) = \\frac{\\sin^2 2t + 3t}{16} - \\frac{3\\sin 4t}{64} + \\sin^3 t\\cos^3 t + c$$"
   ]
  },
  {
   "cell_type": "markdown",
   "id": "9ff01a97-5957-4cb8-8633-fadd25c1d5d0",
   "metadata": {},
   "source": [
    "And finally, the area of our hypocycloid is given by:    \n",
    "\n",
    "$$ \\int\\!\\int_R\\,\\mathrm{d}A = \\frac{3\\pi}{8}$$"
   ]
  },
  {
   "cell_type": "code",
   "execution_count": 3,
   "id": "c563a93e-9d82-482e-8b37-237ed776bb40",
   "metadata": {},
   "outputs": [
    {
     "data": {
      "text/plain": [
       "[<matplotlib.lines.Line2D at 0x70ebfddf06d0>,\n",
       " <matplotlib.lines.Line2D at 0x70ebfddf07c0>]"
      ]
     },
     "execution_count": 3,
     "metadata": {},
     "output_type": "execute_result"
    },
    {
     "data": {
      "image/png": "[encoded data removed]",
      "text/plain": [
       "<Figure size 500x500 with 1 Axes>"
      ]
     },
     "metadata": {},
     "output_type": "display_data"
    }
   ],
   "source": [
    "# Create the domain.\n",
    "t = np.linspace(0,2*np.pi,num=200)\n",
    "x = np.linspace(-1,1,num=200)\n",
    "\n",
    "# Define the functions that give C.\n",
    "f = np.sqrt((1-(x**2)**(1/3))**3)\n",
    "r = (r_x,r_y) = (np.cos(t)**3,np.sin(t)**3)\n",
    "\n",
    "# Create the figure and axes.\n",
    "fig, ax = plt.subplots(figsize=(5,5))\n",
    "ax.set_title('Hypocycloid',size=14)\n",
    "ax.set_xlabel('x-axis')\n",
    "ax.set_ylabel('y-axis')\n",
    "ax.grid()\n",
    "\n",
    "# Plot the curve C.\n",
    "ax.plot(*r,color='tab:blue')\n",
    "ax.plot(x,f,x,-f,color='tab:red',ls='--')"
   ]
  },
  {
   "cell_type": "code",
   "execution_count": 4,
   "id": "db1fdd6b-a616-47ce-9ceb-ffaef7cc076a",
   "metadata": {},
   "outputs": [
    {
     "data": {
      "text/plain": [
       "1.1780972450961724"
      ]
     },
     "execution_count": 4,
     "metadata": {},
     "output_type": "execute_result"
    }
   ],
   "source": [
    "3*np.pi/8"
   ]
  },
  {
   "cell_type": "markdown",
   "id": "3a09f307-baf8-4c79-b153-28b425c597a1",
   "metadata": {},
   "source": [
    "#### $\\S\\,4\\mathrm{D} : 4$  \n",
    "\n",
    "Show that the value of $\\displaystyle \\oint_C-y^3\\,\\mathrm{d}x + x^3\\,\\mathrm{d}y$ around any positively oriented simples closed curve $C$ is always positive."
   ]
  },
  {
   "cell_type": "markdown",
   "id": "19c64c9d-4da8-47f3-ba13-02bcf7f4057f",
   "metadata": {},
   "source": [
    "Let $\\mathbf{F}$ be defined as:  \n",
    "\n",
    "$$\\mathbf{F} = \\langle -y^3,x^3\\rangle \\quad\\therefore\\quad \\mathrm{curl }\\,\\mathbf{F} = 3x^2 + 3y^2 \\ge 0 \\quad\\forall (x,y)\\in\\mathbb{R}^2 $$"
   ]
  },
  {
   "cell_type": "markdown",
   "id": "5e43bb3f-a208-4d0f-aa2d-c056e141e929",
   "metadata": {},
   "source": [
    "Moreover, $\\mathrm{curl }\\,\\mathbf{F} = 0$ only at origin, elsewhere $\\mathrm{curl }\\,\\mathbf{F}$ is positive.  \n",
    "\n",
    "$$ \\mathrm{curl }\\,\\mathbf{F} = 0 \\quad\\iff\\quad (x,y) = (0,0) $$ \n",
    "\n",
    "and,  \n",
    "\n",
    "$$\\mathrm{curl }\\,\\mathbf{F} > 0 \\quad \\forall (x,y)\\in\\mathbb{R}^2\\setminus\\{(0,0)\\}$$"
   ]
  },
  {
   "cell_type": "markdown",
   "id": "90813faa-69df-4f28-940f-0f844769cd0f",
   "metadata": {},
   "source": [
    "Finally, via Green's theorem and the above two premises,  \n",
    "\n",
    "$$ \\oint_C\\mathbf{F}\\cdot\\mathrm{d}\\mathbf{r} = \\int\\!\\int_R \\mathrm{curl }\\,\\mathbf{F}\\,\\mathrm{d}A > 0$$"
   ]
  },
  {
   "cell_type": "markdown",
   "id": "83b25e05-60ce-4f64-84cf-7c531636a308",
   "metadata": {},
   "source": [
    "#### $\\S\\,4\\mathrm{D} : 5$  \n",
    "\n",
    "Show that the value of $\\displaystyle \\oint_Cxy^2\\,\\mathrm{d}x + \\big(x^2y + 2x\\big)\\,\\mathrm{d}y$ around any sqaure $C$ in the $x,y$-plane depends only on the size of the square, and not upon it's position."
   ]
  },
  {
   "cell_type": "markdown",
   "id": "5dac87c9-23fd-4901-bbaa-1993c7d5992f",
   "metadata": {},
   "source": [
    "$$ \\mathbf{F} = xy^2\\,\\mathbf{i} + \\big(x^2y+2x\\big)\\,\\mathbf{j} = \\langle M,N\\rangle$$"
   ]
  },
  {
   "cell_type": "markdown",
   "id": "28f40d97-3161-412f-9264-25c37537adbb",
   "metadata": {},
   "source": [
    "$$ \\mathrm{curl }\\,\\mathbf{F} = 2xy + 2 - 2xy = 2$$"
   ]
  },
  {
   "cell_type": "markdown",
   "id": "ccc449d2-e60f-4e78-8d20-6eec0d1f2a43",
   "metadata": {},
   "source": [
    "Via the above equation and Green's theorem,  \n",
    "\n",
    "$$ \\oint_C\\mathbf{F}\\cdot\\mathrm{d}\\mathbf{r} = \\int\\!\\int_R 2\\,\\mathrm{d}A = 2\\cdot\\mathrm{area }\\,R$$"
   ]
  },
  {
   "cell_type": "markdown",
   "id": "2e12aa38-a0ac-4af5-b0da-107048b6c73d",
   "metadata": {},
   "source": [
    "Of course the area of the square bounding $R$ does not depend on it's position, only it's size."
   ]
  },
  {
   "cell_type": "markdown",
   "id": "330bb79b-47d2-476d-a32d-1fc5a257fe0c",
   "metadata": {},
   "source": [
    "### Green's Theorem in Normal Form  \n",
    "\n",
    "#### $\\S 4\\mathrm{E} : 1$  \n",
    "\n",
    "**a)**  $$ \\Phi = \\oint_C\\mathbf{F}\\cdot\\mathbf{n}\\,\\mathrm{d}s = 0$$"
   ]
  },
  {
   "cell_type": "markdown",
   "id": "eddcd60b-15f6-45e4-8774-032451374278",
   "metadata": {},
   "source": [
    "**b)**  $$ \\Phi = 0$$"
   ]
  },
  {
   "cell_type": "markdown",
   "id": "6a94e93b-673a-4e06-9ca3-7f72b747f49e",
   "metadata": {},
   "source": [
    "**c)**  $$ \\Phi = -\\int_0^1 x\\,\\mathrm{d}x = -0.5$$"
   ]
  },
  {
   "cell_type": "markdown",
   "id": "4fbf17d6-c715-44bc-8341-50bcf26994e7",
   "metadata": {},
   "source": [
    "#### $\\S 4\\mathrm{E} : 2$"
   ]
  },
  {
   "cell_type": "markdown",
   "id": "477900f8-2078-468c-9849-7595c85e6acf",
   "metadata": {},
   "source": [
    "**a)**  The tail at origin and the head at $(-1/\\sqrt{2},1/\\sqrt{2})$"
   ]
  },
  {
   "cell_type": "markdown",
   "id": "e8c96028-c38f-48e7-8859-bd420a96d32f",
   "metadata": {},
   "source": [
    "**b)**  The same as in a) but in the oppositive direction."
   ]
  },
  {
   "cell_type": "markdown",
   "id": "57f94936-b141-4527-9b7d-ecc574b88708",
   "metadata": {},
   "source": [
    "**c)** Tail at origin and perpendicular to either a) or b)."
   ]
  },
  {
   "cell_type": "markdown",
   "id": "c269aa55-0412-4fbe-9a2d-ebf619e389f8",
   "metadata": {},
   "source": [
    "**d)** With the tail at origin and a direction of $\\theta$ where,  \n",
    "\n",
    "$$ \\sqrt{2}\\cos\\big(\\theta - 90^\\circ - 45^\\circ\\big) = -1 \\quad\\therefore$$"
   ]
  },
  {
   "cell_type": "markdown",
   "id": "5b49f774-66e8-45e1-9268-08278766148a",
   "metadata": {},
   "source": [
    "$$ \\theta = 180^\\circ \\pm 45^\\circ + 135^\\circ = -45^\\circ\\pm45^\\circ$$"
   ]
  },
  {
   "cell_type": "markdown",
   "id": "a9d6eea7-d806-4114-a6f0-b8482b60d3e4",
   "metadata": {},
   "source": [
    "$$ \\theta = \\{-90^\\circ,0^\\circ\\}$$"
   ]
  },
  {
   "cell_type": "markdown",
   "id": "f3e40568-5522-4154-b133-15e27ee23815",
   "metadata": {},
   "source": [
    "**e)**  $$ \\pm\\sqrt{2}$$"
   ]
  },
  {
   "cell_type": "markdown",
   "id": "8a8b8de9-b4e3-417b-97a2-865df5758bbb",
   "metadata": {},
   "source": [
    "#### $\\S 4\\mathrm{E} : 3$  \n",
    "\n",
    "Let $\\mathbf{F} = x^2\\,\\mathbf{i} + xy\\,\\mathbf{j}$.  Evaluate $\\displaystyle \\int_C\\mathbf{F}\\cdot\\mathbf{n}\\,\\mathrm{d}s$ if $C$ is given by $\\mathbf{r}:=\\mathbf{r}(t) = (t+1)\\mathbf{i} + t^2\\mathbf{j}$ for $0\\le t \\le 1$;  The positive direction on $C$ is the direction of increasing $t$."
   ]
  },
  {
   "cell_type": "markdown",
   "id": "29ea0d89-3314-46dd-ab71-47cb0a8db8ec",
   "metadata": {},
   "source": [
    "$$ \\mathbf{F} = \\langle x^2,xy\\rangle \\quad\\quad\\text{and}\\quad\\quad \\mathbf{r}(t) = \\langle x(t),y(t)\\rangle$$"
   ]
  },
  {
   "cell_type": "markdown",
   "id": "4757d6c8-13d6-4dbf-8443-bdd8991629a7",
   "metadata": {},
   "source": [
    "$$ x:=x(t) = t+1\\quad\\quad\\text{and}\\quad\\quad y:=y(t) = t^2$$"
   ]
  },
  {
   "cell_type": "markdown",
   "id": "088e4829-3995-4bd4-b3bd-1daabb0259e1",
   "metadata": {},
   "source": [
    "$$ \\Phi = \\int_C x^2\\,\\mathrm{d}y - xy\\,\\mathrm{d}x$$"
   ]
  },
  {
   "cell_type": "markdown",
   "id": "06fc5ad9-391e-4291-ac11-4596e9afd71b",
   "metadata": {},
   "source": [
    "$$ x'(t) = 1 \\quad\\therefore\\quad \\mathrm{d}x = \\mathrm{d}t$$"
   ]
  },
  {
   "cell_type": "markdown",
   "id": "7aee0ad6-67c2-402c-bc6a-93b38c73fb6a",
   "metadata": {},
   "source": [
    "$$ y'(t) = 2t \\quad\\therefore\\quad \\mathrm{d}y = 2t\\,\\mathrm{d}t$$"
   ]
  },
  {
   "cell_type": "markdown",
   "id": "a176524f-a908-4c4c-97ba-f1f3a0999702",
   "metadata": {},
   "source": [
    "Thus,  \n",
    "\n",
    "$$ \\Phi = \\int_0^1 \\big((t+1)^2 2t - (t+1)t^2\\big)\\,\\mathrm{d}t$$"
   ]
  },
  {
   "cell_type": "markdown",
   "id": "8f1dc1dc-b227-4c10-9d67-4859334ee36f",
   "metadata": {},
   "source": [
    "The integrand of the above is given by:  \n",
    "\n",
    "$$ (t+1)\\big(2t^2 + 2t - t^2\\big) = (t+1)\\big(t^2+2t\\big)$$"
   ]
  },
  {
   "cell_type": "markdown",
   "id": "016e0911-29b2-41db-8fbf-e60efb2674c9",
   "metadata": {},
   "source": [
    "$$  = t^3 + t^2 + 2t^2 + 2t = t^3 + 3t^2 + 2t$$"
   ]
  },
  {
   "cell_type": "markdown",
   "id": "72c08c79-fa9e-4446-a23e-0bd0437fc6a7",
   "metadata": {},
   "source": [
    "Finally,  \n",
    "\n",
    "$$ \\Phi = \\left.\\left(\\frac{t^4}{4} + t^3 + t^2\\right)\\right]_{\\,0}^{\\,1} = 2.25$$"
   ]
  },
  {
   "cell_type": "markdown",
   "id": "8a643f1e-d0d9-413e-9cb5-88dfe0a6f0c2",
   "metadata": {},
   "source": [
    "#### $\\S 4\\mathrm{E} : 4$    \n",
    "\n",
    "$$ \\Phi = -\\int\\!\\int\\mathrm{div }\\,\\mathbf{F}\\,\\mathrm{d}A$$"
   ]
  },
  {
   "cell_type": "markdown",
   "id": "ee0ffd86-4326-4e4f-a075-d7ec048108a9",
   "metadata": {},
   "source": [
    "$$ \\mathrm{div }\\,\\mathbf{F} = 2$$"
   ]
  },
  {
   "cell_type": "markdown",
   "id": "bd4fabca-6fa0-4666-8d3c-d14a9655eee2",
   "metadata": {},
   "source": [
    "$$ \\Phi = -\\int_0^1\\int_0^1 2\\,\\mathrm{d}A = -2$$"
   ]
  },
  {
   "cell_type": "markdown",
   "id": "6608a6aa-ec8c-48e1-8217-23b2e21c1c3e",
   "metadata": {},
   "source": [
    "#### $\\S 4\\mathrm{E} : 5$  \n",
    "\n",
    "**a)**  $$ \\Phi = 2\\pi a^{m+1}$$"
   ]
  },
  {
   "cell_type": "markdown",
   "id": "d7eed06d-1801-4c97-97b0-870c5194d223",
   "metadata": {},
   "source": [
    "**b)**  $$ m = -1$$"
   ]
  },
  {
   "cell_type": "markdown",
   "id": "66e89ffa-11f2-4d7e-9df3-40b1351b2e9f",
   "metadata": {},
   "source": [
    "#### $\\S 4\\mathrm{F} : 1$    \n",
    "\n",
    "**a)**  $$ \\mathrm{div }\\,\\mathbf{F} = \\mathrm{curl }\\,\\mathbf{F} = 0$$"
   ]
  },
  {
   "cell_type": "markdown",
   "id": "93b8f91a-191b-44e9-b522-1aa3d48fd0bc",
   "metadata": {},
   "source": [
    "**b)**  $$ \\mathrm{div }\\,\\mathbf{F} = 2x + 2y \\quad\\quad \\mathrm{curl }\\,\\mathbf{F} = 0$$"
   ]
  },
  {
   "cell_type": "markdown",
   "id": "937d968a-69ce-4c5f-b07c-241db0c72e3b",
   "metadata": {},
   "source": [
    "**c)**  $$ \\mathrm{div }\\,\\mathbf{F} = x + y \\quad\\quad \\mathrm{curl }\\,\\mathbf{F} = y - x$$"
   ]
  },
  {
   "cell_type": "markdown",
   "id": "b2dd919a-0a72-4315-a1ba-12d23b70c48e",
   "metadata": {},
   "source": [
    "#### $\\S 4\\mathrm{F} : 2$    \n",
    "\n",
    "**a)**  $$ \\mathrm{curl }\\,\\mathbf{F} = 2\\omega\\quad\\quad \\mathrm{div }\\,\\mathbf{F} = 0$$"
   ]
  },
  {
   "cell_type": "markdown",
   "id": "ba7823a4-e501-4a54-b89f-092c64c9badd",
   "metadata": {},
   "source": [
    "**b)**  The fluid flows neither outwards or inwards, but rather rotates around a point.  In other words, there is no source or sink rate, meaning that the flux across any closed curve is equal to zero."
   ]
  },
  {
   "cell_type": "markdown",
   "id": "792df928-e7a0-4463-ae3f-f62c98416f25",
   "metadata": {},
   "source": [
    "**c)**  Let $\\mathbf{r}$ be a position vector that tracks the circle $C$ of radius $a$ centered at origin.  \n",
    "\n",
    "$$ \\mathbf{r} := \\mathbf{r}(t) = \\langle x(t),y(t)\\rangle$$"
   ]
  },
  {
   "cell_type": "markdown",
   "id": "e2daa7ba-3273-443f-9080-5d8ad80c3c5c",
   "metadata": {},
   "source": [
    "$$ x:=x(t) = a\\cos\\omega t \\quad\\quad\\text{and}\\quad\\quad y:=y(t) = a\\sin\\omega t$$"
   ]
  },
  {
   "cell_type": "markdown",
   "id": "dc929fae-a955-4b69-b035-cab02647923d",
   "metadata": {},
   "source": [
    "$$ \\mathbf{r}'(t) := \\mathbf{v} = -a\\omega \\sin \\omega t\\,\\mathbf{i} + a\\omega\\cos\\omega t\\,\\mathbf{j} = \\omega\\langle -y,x\\rangle$$"
   ]
  },
  {
   "attachments": {},
   "cell_type": "markdown",
   "id": "4d6caf61-5104-48e4-86bf-4ff3cfb8b464",
   "metadata": {},
   "source": [
    "Thus,  \n",
    "\n",
    "$$ \\mathbf{v} := \\mathbf{v}(t) = \\mathbf{F}(\\mathbf{r}) \\quad\\quad\\text{and}\\quad\\quad|\\mathbf{v}| = |\\mathbf{F}(\\mathbf{r})| = \\omega a$$"
   ]
  },
  {
   "cell_type": "markdown",
   "id": "7562ed1c-32a0-4b87-a496-83bd7d4e365a",
   "metadata": {},
   "source": [
    "$$ \\mathbf{T} = \\frac{\\mathbf{v}}{|\\mathbf{v}|} = \\frac{\\langle -y,x\\rangle}{a} = \\frac{\\langle -y,x\\rangle}{r}$$"
   ]
  },
  {
   "cell_type": "markdown",
   "id": "9e9495e7-3c97-49fc-82be-6d31552c3d5e",
   "metadata": {},
   "source": [
    "$$ \\oint_C \\mathbf{F}\\cdot\\mathrm{d}\\mathbf{r} = \\omega^2\\int_0^{2\\pi}\\langle-y,x\\rangle\\cdot\\langle -y,x\\rangle\\,\\mathrm{d}t$$"
   ]
  },
  {
   "cell_type": "markdown",
   "id": "4593c5d3-d899-4145-8533-546800eca25a",
   "metadata": {},
   "source": [
    "$$ = 2\\pi\\omega^2r^2$$"
   ]
  },
  {
   "cell_type": "markdown",
   "id": "63ecd386-38e7-448d-a4b5-7bc25555bda8",
   "metadata": {},
   "source": [
    "Now, note that  \n",
    "\n",
    "$$ \\mathbf{F} = \\frac{\\mathrm{d}x}{\\mathrm{d}t}\\,\\mathbf{i} + \\frac{\\mathrm{d}y}{\\mathrm{d}t}\\,\\mathbf{j} = \\langle x'(t),y'(t) \\rangle = \\omega\\langle -y,x\\rangle$$"
   ]
  },
  {
   "cell_type": "markdown",
   "id": "a97cbd67-70a8-4bf1-8ab9-2ea609c0f2d4",
   "metadata": {},
   "source": [
    "Thus,  \n",
    "\n",
    "$$ \\mathrm{d}x = -\\omega y\\,\\mathrm{d}t \\quad\\quad\\text{and}\\quad\\quad \\mathrm{d}y = \\omega x\\,\\mathrm{d}t$$"
   ]
  },
  {
   "cell_type": "markdown",
   "id": "9838efc3-530b-4987-83f9-3b70985abe68",
   "metadata": {},
   "source": [
    "#### $\\S 4\\mathrm{F} : 3$  \n",
    "\n",
    "Green's theorem in the normal form says that:  \n",
    "\n",
    "$$ \\Phi = \\oint_C \\mathbf{F}\\cdot\\mathbf{n}\\,\\mathrm{d}s = \\int\\!\\int_R \\mathrm{div }\\,\\mathbf{F}\\,\\mathrm{d}A$$"
   ]
  },
  {
   "cell_type": "markdown",
   "id": "5b2754ee-7a11-43eb-b40c-3b11e7f2acab",
   "metadata": {},
   "source": [
    "First we compute the double integral.  \n",
    "\n",
    "$$ \\Phi = 2\\cdot\\text{area }\\,R = \\pi$$"
   ]
  },
  {
   "cell_type": "markdown",
   "id": "a8579f34-c4ed-4b44-a94d-d9ef012bf886",
   "metadata": {},
   "source": [
    "Now, we compute the line integral.  \n",
    "\n",
    "$$ \\Phi = \\oint_C x\\,\\mathrm{d}y - y\\,\\mathrm{d}x = \\int_{C_1}\\mathbf{F}\\cdot\\mathbf{n}\\,\\mathrm{d}s + \\int_{C_2}\\mathbf{F}\\cdot\\mathbf{n}\\,\\mathrm{d}s$$"
   ]
  },
  {
   "cell_type": "markdown",
   "id": "706f2149-8bed-48b6-ad7b-e9c1f19a858a",
   "metadata": {},
   "source": [
    "where $C_1$ is the $x$-axis interval and $C_2$ is the upper half of the unit circle.  \n",
    "\n",
    "$$ \\int_{C_1}\\mathbf{F}\\cdot\\mathbf{n}\\,\\mathrm{d}s = 0$$"
   ]
  },
  {
   "cell_type": "markdown",
   "id": "89e7f9fe-5891-4e9a-a839-8e67a246777d",
   "metadata": {},
   "source": [
    "$$ \\int_{C_2}\\mathbf{F}\\cdot\\mathbf{n}\\,\\mathrm{d}s = \\int_{C_2}\\cos t\\,\\mathrm{d}y - \\sin t\\,\\mathrm{d}x$$"
   ]
  },
  {
   "cell_type": "markdown",
   "id": "e8572580-2f53-4eb5-a976-5a6a58f77431",
   "metadata": {},
   "source": [
    "Here,  \n",
    "\n",
    "$$ y:= y(t) = \\sin t \\quad \\therefore\\quad \\mathrm{d}y = \\cos t\\,\\mathrm{d}t$$"
   ]
  },
  {
   "cell_type": "markdown",
   "id": "c6b6792e-dd19-45a1-91d9-8cf313d750d1",
   "metadata": {},
   "source": [
    "$$ x:= x(t) = \\cos t \\quad\\therefore\\quad \\mathrm{d}x = -\\sin t\\,\\mathrm{d}t$$"
   ]
  },
  {
   "cell_type": "markdown",
   "id": "7ae5876b-8311-4a54-995a-a215a2cfe38a",
   "metadata": {},
   "source": [
    "Thus,  \n",
    "\n",
    "$$ \\int_{C_2}\\mathbf{F}\\cdot\\mathbf{n}\\,\\mathrm{d}s = \\int_0^\\pi\\big(\\cos^2 t + \\sin^2 t\\big)\\,\\mathrm{d}t = \\pi$$"
   ]
  },
  {
   "cell_type": "markdown",
   "id": "50db19a4-bb0d-45ed-a638-2ef40093775c",
   "metadata": {},
   "source": [
    "Finally,  \n",
    "\n",
    "$$ \\Phi = \\oint_C\\mathbf{F}\\cdot\\mathbf{n}\\,\\mathrm{d}s = \\pi$$"
   ]
  },
  {
   "cell_type": "markdown",
   "id": "cc57c5f3-a6af-41d9-a9db-1cad0d7f603d",
   "metadata": {},
   "source": [
    "#### $\\S 4\\mathrm{F} : 4$  \n",
    "\n",
    "First, we compute the double integral.  \n",
    "\n",
    "$$ \\Phi = \\int\\!\\int_R\\mathrm{div }\\,\\mathbf{F}\\,\\mathrm{d}A$$"
   ]
  },
  {
   "cell_type": "markdown",
   "id": "4f9cfa68-6def-4d79-b798-36951088e180",
   "metadata": {},
   "source": [
    "$$ \\mathrm{div }\\,\\mathbf{F} = 2x + x = 3x$$"
   ]
  },
  {
   "cell_type": "markdown",
   "id": "a53c25df-f34b-4dfa-9102-100fe42d7145",
   "metadata": {},
   "source": [
    "Thus,  \n",
    "\n",
    "$$ \\Phi = \\int_0^1\\int_0^1 3x\\,\\mathrm{d}y\\,\\mathrm{d}x = \\int_0^1 3x\\,\\mathrm{d}x = \\frac{3}{2}$$"
   ]
  },
  {
   "cell_type": "markdown",
   "id": "20dfda95-f495-41f0-9ca7-7f0c32cc3198",
   "metadata": {},
   "source": [
    "Next, we compute the line integral.  \n",
    "\n",
    "$$ \\Phi_1 = \\int_{C_1}x^2\\,\\mathrm{d}y - xy\\,\\mathrm{d}x = 0$$"
   ]
  },
  {
   "cell_type": "markdown",
   "id": "f1130d2c-a4ee-4f13-805d-ca171b362c7f",
   "metadata": {},
   "source": [
    "$$ \\Phi_2 = \\int_{C_2}x^2\\,\\mathrm{d}y - xy\\,\\mathrm{d}x = \\int_0^1\\,\\mathrm{d}y = 1$$"
   ]
  },
  {
   "cell_type": "markdown",
   "id": "8dc722dd-4f60-46ae-a5f4-9e1ea7960343",
   "metadata": {},
   "source": [
    "$$ \\Phi_3 = \\int_0^1 x\\,\\mathrm{d}x = 0.5$$"
   ]
  },
  {
   "cell_type": "markdown",
   "id": "284c26d1-0638-44b7-9e0d-f7b3d5c4c4b3",
   "metadata": {},
   "source": [
    "$$ \\Phi_4  = 0$$"
   ]
  },
  {
   "cell_type": "markdown",
   "id": "2d0c30bf-65c7-4061-8eca-7fb16cd1065c",
   "metadata": {},
   "source": [
    "Finally,  \n",
    "\n",
    "$$ \\Phi = \\oint_C\\mathbf{F}\\cdot\\mathbf{n}\\,\\mathrm{d}s = 1.5$$"
   ]
  }
 ],
 "metadata": {
  "kernelspec": {
   "display_name": "Python 3 (ipykernel)",
   "language": "python",
   "name": "python3"
  },
  "language_info": {
   "codemirror_mode": {
    "name": "ipython",
    "version": 3
   },
   "file_extension": ".py",
   "mimetype": "text/x-python",
   "name": "python",
   "nbconvert_exporter": "python",
   "pygments_lexer": "ipython3",
   "version": "3.10.12"
  }
 },
 "nbformat": 4,
 "nbformat_minor": 5
}
