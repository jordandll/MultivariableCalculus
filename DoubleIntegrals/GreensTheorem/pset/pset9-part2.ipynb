{
 "cells": [
  {
   "cell_type": "markdown",
   "id": "97f75426-ca70-496b-9c23-c7aeb03d7ba8",
   "metadata": {},
   "source": [
    "# Problem Set 9\n",
    "\n",
    "## Part II  "
   ]
  },
  {
   "cell_type": "code",
   "execution_count": 1,
   "id": "4db4602b-21aa-4b20-9fab-b40fe9ce3d51",
   "metadata": {
    "jupyter": {
     "source_hidden": true
    }
   },
   "outputs": [],
   "source": [
    "import numpy as np\n",
    "import matplotlib.pyplot as plt\n",
    "import matplotlib as mpl\n",
    "import sympy as sp"
   ]
  },
  {
   "cell_type": "markdown",
   "id": "ded36e87-ad87-4540-9be1-4a40f621a5f4",
   "metadata": {},
   "source": [
    "### Problem 1  \n",
    "\n",
    "$$ \\mathbf{F}(x,y) = \\big(y^3-6y\\big)\\,\\mathbf{i} + \\big(6x - x^3\\big)\\,\\mathbf{j}$$  "
   ]
  },
  {
   "cell_type": "markdown",
   "id": "0d36e40c-3f3b-48dc-b429-3091a9b53631",
   "metadata": {},
   "source": [
    "**a)**  Using Green's theorem, find the simple close curve $C$ for which the integral $\\displaystyle \\oint_C\\mathbf{F}\\cdot\\mathrm{d}\\mathbf{r}$ (with positive oritentation) will have the largest positive value.  "
   ]
  },
  {
   "cell_type": "markdown",
   "id": "da0cbd70-1224-47b8-9a35-a429d7a75760",
   "metadata": {},
   "source": [
    "$$ \\mathrm{curl }\\,\\mathbf{F} = 6-3x^2 - 3y^2 + 6 = 12 - 3\\big(x^2+y^2\\big) $$"
   ]
  },
  {
   "cell_type": "markdown",
   "id": "112852fb-323f-4a29-ae3d-09f050291ef7",
   "metadata": {},
   "source": [
    "$$ \\mathrm{curl }\\,\\mathbf{F} = 12 - 3r^2$$"
   ]
  },
  {
   "cell_type": "markdown",
   "id": "3b430c89-bba1-47d3-aa11-a2db25828bbe",
   "metadata": {},
   "source": [
    "Via Green's theorem,  \n",
    "\n",
    "$$ \\oint_C\\mathbf{F}\\cdot\\mathrm{d}\\mathbf{r} = \\int\\!\\int_R 12\\,\\mathrm{d}A - 3\\int\\!\\int_R r^2\\,\\mathrm{d}A$$"
   ]
  },
  {
   "cell_type": "markdown",
   "id": "04680bb2-098a-4856-8ad8-077d3587ad49",
   "metadata": {},
   "source": [
    "Suppose $R$ is bounded by a circle $C$ with a radius of $a$ centered at origin.  \n",
    "\n",
    "$$ \\int\\!\\int_R\\mathrm{curl }\\,\\mathbf{F}\\,\\mathrm{d}A = 12\\pi a^2 - 3\\int\\!\\int_R r^2\\,\\mathrm{d}A$$"
   ]
  },
  {
   "cell_type": "markdown",
   "id": "882d5a8a-165e-4a4c-ab0d-3aa617cdafcb",
   "metadata": {},
   "source": [
    "$$ 3\\int\\!\\int_R r^2\\,\\mathrm{d}A = 3\\int_0^{2\\pi}\\int_0^a r^3\\,\\mathrm{d}r\\,\\mathrm{d}\\theta$$"
   ]
  },
  {
   "cell_type": "markdown",
   "id": "d1a48cd0-3329-4a2d-a4cb-50b4c651a981",
   "metadata": {},
   "source": [
    "$$ = \\frac{3}{4}\\int_0^{2\\pi}a^4\\,\\mathrm{d}\\theta = a^4\\frac{3\\pi}{2}$$"
   ]
  },
  {
   "cell_type": "markdown",
   "id": "8223475e-337a-40bc-ba26-db22eb19a93d",
   "metadata": {},
   "source": [
    "Thus,  \n",
    "\n",
    "$$ \\oint_C\\mathbf{F}\\cdot\\mathrm{d}\\mathbf{r} = 12\\pi a^2 - a^4\\frac{3\\pi}{2}$$"
   ]
  },
  {
   "cell_type": "markdown",
   "id": "c445d1c2-cfe6-4e37-b011-8997808936a1",
   "metadata": {},
   "source": [
    "Now, let  \n",
    "\n",
    "$$ W:=W(a) = \\oint_C\\mathbf{F}\\cdot\\mathrm{d}\\mathbf{r}$$"
   ]
  },
  {
   "cell_type": "markdown",
   "id": "d8e8b951-1a10-4d31-8f0d-b853f1f75bc4",
   "metadata": {},
   "source": [
    "To find the max value of $W$, denoted as $W_\\max$, we must find the roots of $W'(a)$.  \n",
    "\n",
    "$$ W'(a) = 24\\pi a - 6\\pi a^3$$"
   ]
  },
  {
   "cell_type": "markdown",
   "id": "cb339013-8322-4955-9b9d-a239d5ec218d",
   "metadata": {},
   "source": [
    "$$ W'(a_e) = 0 \\quad\\implies\\quad 4 - a_e^2 = 0  \\quad\\implies$$"
   ]
  },
  {
   "cell_type": "markdown",
   "id": "abef8d0d-f8b7-4fb2-9c67-30809031b22a",
   "metadata": {},
   "source": [
    "$$ a_e^2 = 4 \\quad\\implies\\quad a = 2$$"
   ]
  },
  {
   "cell_type": "code",
   "execution_count": 2,
   "id": "dcdee7aa-da36-497a-852d-fce5293f6598",
   "metadata": {
    "jupyter": {
     "source_hidden": true
    }
   },
   "outputs": [],
   "source": [
    "def dW(a): \n",
    "    return 24*np.pi*a - 6*np.pi*a**3\n",
    "\n",
    "def W(a):\n",
    "    return 12*np.pi*a**2 - (a**4)*3*np.pi/2"
   ]
  },
  {
   "cell_type": "code",
   "execution_count": 14,
   "id": "9637fc50-04fa-4f22-85bc-733dbf22544a",
   "metadata": {},
   "outputs": [
    {
     "data": {
      "text/plain": [
       "75.39822368615503"
      ]
     },
     "execution_count": 14,
     "metadata": {},
     "output_type": "execute_result"
    }
   ],
   "source": [
    "W(2)"
   ]
  },
  {
   "cell_type": "markdown",
   "id": "3f40b373-2588-4c4c-a202-bc9c74b5b582",
   "metadata": {},
   "source": [
    "Finally, $W=W_\\max$ if and only if $C$ is a circle with a radius of $2$ centered at origin.  \n",
    "\n",
    "$$ W_\\max = W(2) = 48\\pi - 24\\pi = 24\\pi$$"
   ]
  },
  {
   "cell_type": "code",
   "execution_count": 15,
   "id": "df4824b5-62bb-4c6b-b8c6-5f16b21652e9",
   "metadata": {},
   "outputs": [
    {
     "data": {
      "text/plain": [
       "75.39822368615503"
      ]
     },
     "execution_count": 15,
     "metadata": {},
     "output_type": "execute_result"
    }
   ],
   "source": [
    "24*np.pi"
   ]
  },
  {
   "cell_type": "markdown",
   "id": "4134cae9-d1e1-4b58-ba73-dc50ad109cca",
   "metadata": {},
   "source": [
    "**b)**  Compute this largest positive value."
   ]
  },
  {
   "cell_type": "markdown",
   "id": "f1879982-cd10-407c-b4c8-1c9f48506a5e",
   "metadata": {},
   "source": [
    "As has been stated,  \n",
    "\n",
    "$$ W_\\max = W(2) = 24\\pi \\approxeq 75.4$$"
   ]
  },
  {
   "cell_type": "markdown",
   "id": "885e10dc-eeea-45eb-bf71-aa2242fda4ed",
   "metadata": {},
   "source": [
    "### Problem 2\n",
    "\n",
    "**a)**  $$ \\mathbf{F} = \\rho\\mathbf{v} = \\rho\\,\\frac{\\mathrm{d}x}{\\mathrm{d}t}\\,\\mathbf{i} + \\rho \\frac{\\mathrm{d}y}{\\mathrm{d}t}\\,\\mathbf{j} = \\rho\\langle x'(t),y'(t)\\rangle$$"
   ]
  },
  {
   "cell_type": "markdown",
   "id": "aee3d75e-eb31-4943-a5cc-4e7518dac0be",
   "metadata": {},
   "source": [
    "$$ \\mathrm{div }\\,\\mathbf{F} = \\frac{\\partial \\rho}{\\partial x}\\frac{\\mathrm{d}x}{\\mathrm{d}t} + \\rho\\frac{\\partial x'(t)}{\\partial x} + \\frac{\\partial \\rho}{\\partial y}\\frac{\\mathrm{d}y}{\\mathrm{d}t} + \\rho\\frac{\\partial y'(t)}{\\partial y}$$"
   ]
  },
  {
   "cell_type": "markdown",
   "id": "a9c31694-8f89-4075-a14b-9754f9fa74eb",
   "metadata": {},
   "source": [
    "Integrating throughout the continuity equation over an arbitrary region $R$ bounded by $C$, a positively oriented simple closed curve, gives:  \n",
    "\n",
    "$$ \\int\\!\\int_R \\frac{\\partial \\rho}{\\partial t}\\,\\mathrm{d}A + \\int\\!\\int_R\\mathrm{div }\\,\\mathbf{F}\\,\\mathrm{d}A = 0$$"
   ]
  },
  {
   "cell_type": "markdown",
   "id": "bb4cc7a6-8c88-4e9f-9ea6-e7f366a975e1",
   "metadata": {},
   "source": [
    "$$ \\Phi := \\Phi(t) = \\oint_C \\mathbf{F}\\cdot\\mathbf{n}\\,\\mathrm{d}s = \\oint_C \\rho v_x\\,\\mathrm{d}y - \\rho v_y\\,\\mathrm{d}x$$"
   ]
  },
  {
   "attachments": {},
   "cell_type": "markdown",
   "id": "c70b942f-7491-42e6-8d99-e1e1228cb5f8",
   "metadata": {},
   "source": [
    "$$ \\mathrm{div }\\,\\mathbf{F} = \\frac{\\partial \\rho}{\\partial x}\\frac{\\mathrm{d}x}{\\mathrm{d}t} + \\frac{\\partial \\rho}{\\partial y}\\frac{\\mathrm{d}y}{\\mathrm{d}t} = \\frac{\\mathrm{d}\\rho}{\\mathrm{d}t}$$"
   ]
  },
  {
   "cell_type": "markdown",
   "id": "9665fa84-32a7-4b4d-9cc0-72baf7b085f0",
   "metadata": {},
   "source": [
    "$$ \\mathrm{d}\\rho = \\rho_x\\,\\mathrm{d}x + \\rho_y\\,\\mathrm{d}y = \\nabla \\rho \\cdot\\mathrm{d}\\mathbf{r}$$"
   ]
  },
  {
   "cell_type": "markdown",
   "id": "63141b47-a230-42e4-beb6-0798121a1076",
   "metadata": {},
   "source": [
    "where  \n",
    "\n",
    "$$ \\mathbf{r} := \\mathbf{r}(t) = \\langle x(t),y(t)\\rangle $$"
   ]
  },
  {
   "cell_type": "markdown",
   "id": "690d6f9a-0d23-4a43-a74b-6c81b09e5bfb",
   "metadata": {},
   "source": [
    "Thus,  \n",
    "\n",
    "$$ \\rho'(t) = \\nabla \\rho \\cdot \\mathbf{r}'(t) = \\nabla \\rho \\cdot \\mathbf{v}(t)$$"
   ]
  },
  {
   "cell_type": "markdown",
   "id": "5cd5be6c-df5f-4c39-b170-4207dd2abe17",
   "metadata": {},
   "source": [
    "$$ \\int\\!\\int_R\\frac{\\partial \\rho}{\\partial t}\\,\\mathrm{d}A = \\int_a^b\\int_{g_1(x)}^{g_2(x)}\\partial \\rho \\,\\frac{\\mathrm{d}y\\,\\mathrm{d}x}{\\partial t}$$"
   ]
  },
  {
   "cell_type": "markdown",
   "id": "e438d77b-8ccc-4a88-a265-65ad3a0ba3c9",
   "metadata": {},
   "source": [
    "$$ = \\int_a^b\\rho\\big(x,g_2(x),t\\big)\\,\\frac{\\mathrm{d}A}{\\partial t} - \\int_a^b\\rho\\big(x,g_1(x),t\\big)\\,\\frac{\\mathrm{d}A}{\\partial t} $$"
   ]
  }
 ],
 "metadata": {
  "kernelspec": {
   "display_name": "Python 3 (ipykernel)",
   "language": "python",
   "name": "python3"
  },
  "language_info": {
   "codemirror_mode": {
    "name": "ipython",
    "version": 3
   },
   "file_extension": ".py",
   "mimetype": "text/x-python",
   "name": "python",
   "nbconvert_exporter": "python",
   "pygments_lexer": "ipython3",
   "version": "3.10.12"
  }
 },
 "nbformat": 4,
 "nbformat_minor": 5
}
