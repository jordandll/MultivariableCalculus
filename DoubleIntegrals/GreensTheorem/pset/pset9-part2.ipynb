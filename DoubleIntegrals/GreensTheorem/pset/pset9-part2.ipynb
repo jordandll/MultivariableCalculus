{
 "cells": [
  {
   "cell_type": "markdown",
   "id": "97f75426-ca70-496b-9c23-c7aeb03d7ba8",
   "metadata": {},
   "source": [
    "# Problem Set 9\n",
    "\n",
    "## Part II  "
   ]
  },
  {
   "cell_type": "code",
   "execution_count": 1,
   "id": "4db4602b-21aa-4b20-9fab-b40fe9ce3d51",
   "metadata": {},
   "outputs": [],
   "source": [
    "import numpy as np\n",
    "import matplotlib.pyplot as plt\n",
    "import matplotlib as mpl\n",
    "import sympy as sp"
   ]
  },
  {
   "cell_type": "markdown",
   "id": "ded36e87-ad87-4540-9be1-4a40f621a5f4",
   "metadata": {},
   "source": [
    "### Problem 1  \n",
    "\n",
    "$$ \\mathbf{F}(x,y) = \\big(y^3-6y\\big)\\,\\mathbf{i} + \\big(6x - x^3\\big)\\,\\mathbf{j}$$  "
   ]
  },
  {
   "cell_type": "markdown",
   "id": "0d36e40c-3f3b-48dc-b429-3091a9b53631",
   "metadata": {},
   "source": [
    "**a)**  Using Green's theorem, find the simple closed curve $C$ for which the integral $\\displaystyle \\oint_C\\mathbf{F}\\cdot\\mathrm{d}\\mathbf{r}$ (with positive oritentation) will have the largest positive value.  "
   ]
  },
  {
   "cell_type": "markdown",
   "id": "da0cbd70-1224-47b8-9a35-a429d7a75760",
   "metadata": {},
   "source": [
    "$$ \\mathrm{curl }\\,\\mathbf{F} = 6-3x^2 - 3y^2 + 6 = 12 - 3\\big(x^2+y^2\\big) $$"
   ]
  },
  {
   "cell_type": "markdown",
   "id": "112852fb-323f-4a29-ae3d-09f050291ef7",
   "metadata": {},
   "source": [
    "$$ \\mathrm{curl }\\,\\mathbf{F} = 12 - 3r^2$$"
   ]
  },
  {
   "cell_type": "markdown",
   "id": "3b430c89-bba1-47d3-aa11-a2db25828bbe",
   "metadata": {},
   "source": [
    "Via Green's theorem,  \n",
    "\n",
    "$$ \\oint_C\\mathbf{F}\\cdot\\mathrm{d}\\mathbf{r} = \\int\\!\\int_R 12\\,\\mathrm{d}A - 3\\int\\!\\int_R r^2\\,\\mathrm{d}A$$"
   ]
  },
  {
   "cell_type": "markdown",
   "id": "04680bb2-098a-4856-8ad8-077d3587ad49",
   "metadata": {},
   "source": [
    "Suppose $R$ is bounded by a circle $C$ with a radius of $a$ centered at origin.  \n",
    "\n",
    "$$ \\int\\!\\int_R\\mathrm{curl }\\,\\mathbf{F}\\,\\mathrm{d}A = 12\\pi a^2 - 3\\int\\!\\int_R r^2\\,\\mathrm{d}A$$"
   ]
  },
  {
   "cell_type": "markdown",
   "id": "882d5a8a-165e-4a4c-ab0d-3aa617cdafcb",
   "metadata": {},
   "source": [
    "$$ 3\\int\\!\\int_R r^2\\,\\mathrm{d}A = 3\\int_0^{2\\pi}\\int_0^a r^3\\,\\mathrm{d}r\\,\\mathrm{d}\\theta$$"
   ]
  },
  {
   "cell_type": "markdown",
   "id": "d1a48cd0-3329-4a2d-a4cb-50b4c651a981",
   "metadata": {},
   "source": [
    "$$ = \\frac{3}{4}\\int_0^{2\\pi}a^4\\,\\mathrm{d}\\theta = a^4\\frac{3\\pi}{2}$$"
   ]
  },
  {
   "cell_type": "markdown",
   "id": "8223475e-337a-40bc-ba26-db22eb19a93d",
   "metadata": {},
   "source": [
    "Thus,  \n",
    "\n",
    "$$ \\oint_C\\mathbf{F}\\cdot\\mathrm{d}\\mathbf{r} = 12\\pi a^2 - a^4\\frac{3\\pi}{2}$$"
   ]
  },
  {
   "cell_type": "markdown",
   "id": "c445d1c2-cfe6-4e37-b011-8997808936a1",
   "metadata": {},
   "source": [
    "Now, let  \n",
    "\n",
    "$$ W:=W(a) = \\oint_C\\mathbf{F}\\cdot\\mathrm{d}\\mathbf{r}$$"
   ]
  },
  {
   "cell_type": "markdown",
   "id": "d8e8b951-1a10-4d31-8f0d-b853f1f75bc4",
   "metadata": {},
   "source": [
    "To find the max value of $W$, denoted as $W_\\max$, we must find the roots of $W'(a)$.  \n",
    "\n",
    "$$ W'(a) = 24\\pi a - 6\\pi a^3$$"
   ]
  },
  {
   "cell_type": "markdown",
   "id": "cb339013-8322-4955-9b9d-a239d5ec218d",
   "metadata": {},
   "source": [
    "$$ W'(a_e) = 0 \\quad\\implies\\quad 4 - a_e^2 = 0  \\quad\\implies$$"
   ]
  },
  {
   "cell_type": "markdown",
   "id": "abef8d0d-f8b7-4fb2-9c67-30809031b22a",
   "metadata": {},
   "source": [
    "$$ a_e^2 = 4 \\quad\\implies\\quad a = 2$$"
   ]
  },
  {
   "cell_type": "code",
   "execution_count": 2,
   "id": "dcdee7aa-da36-497a-852d-fce5293f6598",
   "metadata": {
    "jupyter": {
     "source_hidden": true
    }
   },
   "outputs": [],
   "source": [
    "def dW(a): \n",
    "    return 24*np.pi*a - 6*np.pi*a**3\n",
    "\n",
    "def W(a):\n",
    "    return 12*np.pi*a**2 - (a**4)*3*np.pi/2"
   ]
  },
  {
   "cell_type": "code",
   "execution_count": 14,
   "id": "9637fc50-04fa-4f22-85bc-733dbf22544a",
   "metadata": {},
   "outputs": [
    {
     "data": {
      "text/plain": [
       "75.39822368615503"
      ]
     },
     "execution_count": 14,
     "metadata": {},
     "output_type": "execute_result"
    }
   ],
   "source": [
    "W(2)"
   ]
  },
  {
   "cell_type": "markdown",
   "id": "3f40b373-2588-4c4c-a202-bc9c74b5b582",
   "metadata": {},
   "source": [
    "Finally, $W=W_\\max$ if and only if $C$ is a circle with a radius of $2$ centered at origin.  \n",
    "\n",
    "$$ W_\\max = W(2) = 48\\pi - 24\\pi = 24\\pi$$"
   ]
  },
  {
   "cell_type": "code",
   "execution_count": 15,
   "id": "df4824b5-62bb-4c6b-b8c6-5f16b21652e9",
   "metadata": {},
   "outputs": [
    {
     "data": {
      "text/plain": [
       "75.39822368615503"
      ]
     },
     "execution_count": 15,
     "metadata": {},
     "output_type": "execute_result"
    }
   ],
   "source": [
    "24*np.pi"
   ]
  },
  {
   "cell_type": "markdown",
   "id": "4134cae9-d1e1-4b58-ba73-dc50ad109cca",
   "metadata": {},
   "source": [
    "**b)**  Compute this largest positive value."
   ]
  },
  {
   "cell_type": "markdown",
   "id": "f1879982-cd10-407c-b4c8-1c9f48506a5e",
   "metadata": {},
   "source": [
    "As has been stated,  \n",
    "\n",
    "$$ W_\\max = W(2) = 24\\pi \\approxeq 75.4$$"
   ]
  },
  {
   "attachments": {},
   "cell_type": "markdown",
   "id": "c987ac27-ffed-4677-b386-4e57ffb30624",
   "metadata": {},
   "source": [
    "### Problem 2\n",
    "\n",
    "**a)**  Integrating throughout the continuity equation over an arbitrary region $R$ bounded by $C$, a positively oriented simple closed curve, gives:  \n",
    "\n",
    "$$ \\int\\!\\int_R \\frac{\\partial \\rho}{\\partial t}\\,\\mathrm{d}A + \\int\\!\\int_R\\mathrm{div }\\,\\mathbf{F}\\,\\mathrm{d}A = 0$$"
   ]
  },
  {
   "cell_type": "markdown",
   "id": "4b0ba2b0-4d6b-4ad1-9a07-616a354a80d8",
   "metadata": {},
   "source": [
    "And, via the above equation and Green's theorem in normal form,  \n",
    "\n",
    "\\begin{equation}\\tag{2.2}\n",
    "    \\int\\!\\int_R \\frac{\\partial \\rho}{\\partial t}\\,\\mathrm{d}A + \\oint_C \\mathbf{F}\\cdot\\mathbf{n}\\,\\mathrm{d}s = 0\n",
    "\\end{equation}"
   ]
  },
  {
   "cell_type": "markdown",
   "id": "3cc8b1e0-dad3-452e-a0e5-5beb1b7f7dae",
   "metadata": {},
   "source": [
    "It is important to note that the continuity equation seems to assume there is no external source of mass, which in this case means no external source of fluid (e.g. there is no water being poured onto a plane holding a shallow or -- ideally speaking -- 2D body of fluid.  Nor is there a sink carrying fluid out of the system.)  "
   ]
  },
  {
   "cell_type": "markdown",
   "id": "e0e0673a-69bc-4ec1-bfdc-cd6d7b9c64a7",
   "metadata": {},
   "source": [
    "In the case of a steady flow, this means that $\\mathrm{div }\\,\\mathbf{F}= 0$, which means that, via Green's theorem in normal form, the rate of mass transport across any closed curve is equal to zero.  Such a condition can be realized a number of ways;  For example, a body of fluid at rest ($\\mathbf{v} = \\mathbf{0} \\;\\implies\\; \\mathbf{F}=\\mathbf{0}$) or a body of fluid that rotates around origin satisfies $\\mathrm{div }\\,\\mathbf{F} = 0$, where $\\mathbf{F}$ is the flow field that applies to this body of fluid."
   ]
  },
  {
   "cell_type": "markdown",
   "id": "ba406aa7-79e3-43d1-b486-28496ecb04e6",
   "metadata": {},
   "source": [
    "In the case of a non-steady flow, the continuity equation is still satisfied when $\\displaystyle \\frac{\\partial \\rho}{\\partial t} = \\mathrm{div }\\,\\mathbf{F}=0$, but there are other conditions that satisfy said equation;  Suppose that $\\mathrm{div }\\,\\mathbf{F} \\ne 0$.  Then the rate of mass transport (flux) across a closed curve $C$ is either positive (net flow away from the enclosed region $R$) or negative (net flow into $R$).  This can occur when the source (or sink) rate is not equal to zero (e.g. when fluid is being poured into the system from an external source), in which case the continuity equation does *not* apply.  It can also occur when the net change in density over time over or in $R$ is enough to explain the flux across $C$.  To understand this, one must understand the following:  "
   ]
  },
  {
   "cell_type": "markdown",
   "id": "05020c2e-cfea-4bd9-9f42-5372327b71f2",
   "metadata": {},
   "source": [
    "$$\\frac{\\partial \\rho}{\\partial t}(x,y,t)\\,\\mathrm{d}A $$"
   ]
  },
  {
   "cell_type": "markdown",
   "id": "8ba58219-cade-4b9a-852a-a1f708b6d1b6",
   "metadata": {},
   "source": [
    "is equal to the instantaneous change in mass over time at $(x,y,t)$.  The double integral of the above over $R$ is equal to the instantaneous change in the total mass over or in $R$ over time at $t$.  Moreover, according to equation (2.2) and ultimately the continuity equation, this quantity must cancel out the rate of mass transport across $C$.  What this means is that a positive flux across $C$ (i.e. a net outward flow of fluid from $R$) must be accompanied by a decrease in the total mass over $R$, and vice versa, in order for the continuity equation to be satisfied.  Furthermore, if it is not satisfied, then, due to conversvation of mass, a source or sink adding or subtracting fluid to or from the system is at least partly responsible for the flux across $C$."
   ]
  },
  {
   "cell_type": "markdown",
   "id": "2e74a264-3b7b-4cb5-92c8-abfb498735c1",
   "metadata": {},
   "source": [
    "**b)**  $$ \\mathrm{div}(g\\mathbf{G}) = \\frac{\\partial g}{\\partial x}M + g\\frac{\\partial M}{\\partial x} + g_yN + gN_y $$"
   ]
  },
  {
   "cell_type": "markdown",
   "id": "b90b732f-582b-4923-9fed-fe1f91492daa",
   "metadata": {},
   "source": [
    "$$ = g\\,\\mathrm{div }\\,\\mathbf{G} + \\nabla g\\cdot\\mathbf{G}$$"
   ]
  },
  {
   "cell_type": "markdown",
   "id": "bd75f689-b3e0-42a8-898e-c6bad38ea26b",
   "metadata": {},
   "source": [
    "**c)**  Let $f$ and $\\mathbf{r}$ be defined as:  \n",
    "\n",
    "$$ f:=f(x,y,t) \\quad\\quad\\text{and}\\quad\\quad \\mathbf{r}:=\\mathbf{r}(t) = \\langle x(t),y(t)\\rangle $$  "
   ]
  },
  {
   "cell_type": "markdown",
   "id": "9fa67ec5-0aaf-4703-ba30-24a140bf7557",
   "metadata": {},
   "source": [
    "Recall that:  \n",
    "\n",
    "$$ \\frac{\\mathrm{D}f}{\\mathrm{D}t} = \\frac{\\mathrm{d}}{\\mathrm{d}t}f\\big(\\mathbf{r}(t),t\\big)$$"
   ]
  },
  {
   "cell_type": "markdown",
   "id": "9db487e8-278a-4141-9dfe-ecdc8a23c2f5",
   "metadata": {},
   "source": [
    "The total differential of $f$ is:  \n",
    "\n",
    "$$ \\mathrm{d}f = f_x\\,\\mathrm{d}x + f_y\\,\\mathrm{d}y + f_t\\mathrm{d}t$$"
   ]
  },
  {
   "cell_type": "markdown",
   "id": "3d56b344-2948-493d-a216-f0ed5a3697c2",
   "metadata": {},
   "source": [
    "Dividing throughout the above equation by $\\mathrm{d}t$ gives:  \n",
    "\n",
    "$$ \\frac{\\mathrm{d}f}{\\mathrm{d}t} = f_x x'(t) + f_y y'(t) + f_t$$"
   ]
  },
  {
   "cell_type": "markdown",
   "id": "ae57a255-014c-4a9b-b075-ff214fda5142",
   "metadata": {},
   "source": [
    "And, when $f$ is contrained to the curve tracked by $\\mathbf{r}$, as is the case in the definition of the convective derivative of $f$ with respect to time, we get:  \n",
    "\n",
    "$$ \\frac{\\mathrm{D}f}{\\mathrm{D}t} = \\frac{\\mathrm{d}}{\\mathrm{d}t}f\\big(\\mathbf{r}(t),t\\big) = \\frac{\\partial f}{\\partial t}\\big(\\mathbf{r}(t),t\\big) + \\mathbf{v}\\cdot\\nabla f\\big(\\mathbf{r}(t),t\\big)$$"
   ]
  },
  {
   "cell_type": "markdown",
   "id": "217bf091-e838-42b7-ba70-dc3903c854dd",
   "metadata": {},
   "source": [
    "where  \n",
    "\n",
    "$$ \\mathbf{r}'(t) = \\langle x'(t),y'(t)\\rangle := \\mathbf{v}$$"
   ]
  },
  {
   "cell_type": "markdown",
   "id": "0d2a8901-b08b-4cca-a79e-63bd70270d5d",
   "metadata": {},
   "source": [
    "According to pset5 #3:  \n",
    "\n",
    "$$ \\frac{\\partial \\rho}{\\partial t} = 0 \\quad\\implies\\quad \\frac{\\mathrm{D}\\rho}{\\mathrm{D}t} = 0$$"
   ]
  },
  {
   "cell_type": "markdown",
   "id": "9bad52c1-92ca-44ea-b4e5-f071b5ef88cb",
   "metadata": {},
   "source": [
    "That is, if the density is constant in all variables or $\\rho(x,y,t) = \\mathit{const}$ then the fluid flow is incompressible.  The converse, however, is not true, as it lacks consistency;  Even if $\\rho(x,y,t)\\ne \\mathit{const}$, the fluid flow may still be incompressible.  For a generic example of an exception to the aforementioned converse, suppose the density varies only with distance from origin while the fluid rotates around origin.  \n",
    "\n",
    "$$ \\rho := \\rho(r) \\quad\\quad \\text{where }\\, r = \\sqrt{x^2+y^2}$$"
   ]
  },
  {
   "cell_type": "markdown",
   "id": "6863b6aa-7e6f-4fe2-aa26-b803d9d7c828",
   "metadata": {},
   "source": [
    "$$ \\mathbf{F} = \\rho\\mathbf{v} = \\rho\\langle -y,x\\rangle$$"
   ]
  },
  {
   "cell_type": "markdown",
   "id": "32f27835-a571-407c-a39a-d0a22c00d4c1",
   "metadata": {},
   "source": [
    "In this case, the gradient of the density field will be perpendicular to the flow field.  \n",
    "\n",
    "$$ \\nabla \\rho = \\langle \\rho_x, \\rho_y\\rangle\\quad\\quad\\text{where }\\,\\rho_x, \\rho_y = \\frac{\\partial \\rho}{\\partial x},\\, \\frac{\\partial \\rho}{\\partial y}$$"
   ]
  },
  {
   "cell_type": "markdown",
   "id": "60b0ce27-dacd-4de6-b854-4c8605e2c422",
   "metadata": {},
   "source": [
    "Via the chain rule,  \n",
    "\n",
    "$$  \\rho_x = \\frac{\\partial \\rho}{\\partial r}\\,\\frac{x}{r}\\quad\\quad\\text{and}\\quad\\quad \\rho_y = \\frac{\\partial \\rho}{\\partial r}\\,\\frac{y}{r}$$"
   ]
  },
  {
   "cell_type": "markdown",
   "id": "df84d156-95be-45a9-beb0-4921c7b7de81",
   "metadata": {},
   "source": [
    "Thus, the gradient of the density radiates outward from origin.  \n",
    "\n",
    "$$ \\nabla \\rho = \\frac{\\partial \\rho}{\\partial r}(r)\\,\\frac{\\langle x,y\\rangle}{r}$$"
   ]
  },
  {
   "cell_type": "markdown",
   "id": "ad513b9a-bf70-4d9d-ace5-e9ccdc6667e2",
   "metadata": {},
   "source": [
    "Finally,  \n",
    "\n",
    "$$ \\nabla \\rho \\cdot \\mathbf{F} = \\frac{\\partial \\rho(r)}{\\partial r}\\frac{\\rho(r)}{r}\\,\\big(xy-xy\\big) = 0 \\quad\\therefore$$"
   ]
  },
  {
   "cell_type": "markdown",
   "id": "6a8542ac-04fd-44a0-81f6-6b3c487eb58c",
   "metadata": {},
   "source": [
    "$$ \\nabla \\rho \\;\\perp\\;\\mathbf{F}$$"
   ]
  },
  {
   "cell_type": "markdown",
   "id": "40ad5af6-80ee-4500-879f-6d3fe1979799",
   "metadata": {},
   "source": [
    "**Proposition**:  The flow field $\\mathbf{F} = \\rho(x,y,t)\\mathbf{v}(x,y,t)$ is incompressible if and only if the divergence of the velocity field $\\mathbf{v}(x,y,t)$ is equal to zero.  \n",
    "\n",
    "$$ \\frac{\\mathrm{D}\\rho}{\\mathrm{D}t} = 0 \\quad\\iff\\quad \\mathrm{div }\\,\\mathbf{v} = 0$$"
   ]
  },
  {
   "cell_type": "markdown",
   "id": "394154f7-04c3-4102-9e7a-d6f9f2075f62",
   "metadata": {},
   "source": [
    "**Proof**:  Recall that:  \n",
    "\n",
    "$$ \\frac{\\mathrm{D}\\rho}{\\mathrm{D}t} = \\frac{\\mathrm{d}}{\\mathrm{d}t}\\rho(x,y,t)$$"
   ]
  },
  {
   "cell_type": "markdown",
   "id": "469dedcf-f2fa-469b-9b9e-f900e0e3cf23",
   "metadata": {},
   "source": [
    "$$ \\mathrm{d}\\rho = \\rho_x\\,\\mathrm{d}x + \\rho_y\\,\\mathrm{d}y + \\rho_t\\,\\mathrm{d}t$$"
   ]
  },
  {
   "cell_type": "markdown",
   "id": "de8d025b-8b78-49c6-a56e-db5b5aa4c2cc",
   "metadata": {},
   "source": [
    "$$ \\frac{\\mathrm{d}\\rho}{\\mathrm{d}t} = \\rho_x x'(t) + \\rho_y y'(t) + \\rho_t$$"
   ]
  },
  {
   "cell_type": "markdown",
   "id": "15fdbcc4-624f-48a2-b95d-859cfcdc0366",
   "metadata": {},
   "source": [
    "\\begin{equation}\\tag{2c.1}\n",
    "    \\frac{\\mathrm{D}\\rho}{\\mathrm{D}t} = \\nabla \\rho \\cdot \\mathbf{v} + \\frac{\\partial \\rho}{\\partial t}\n",
    "\\end{equation}"
   ]
  },
  {
   "cell_type": "markdown",
   "id": "15c0d6fd-f480-4888-8c21-d08046256a61",
   "metadata": {},
   "source": [
    "Thus,  \n",
    "\n",
    "$$ \\frac{\\mathrm{D}\\rho}{\\mathrm{D}t} = 0 \\quad\\iff\\quad \\nabla \\rho\\cdot\\mathbf{v} + \\frac{\\partial \\rho}{\\partial t} = 0$$"
   ]
  },
  {
   "cell_type": "markdown",
   "id": "320df8ad-3ae5-4a79-92b8-cef7ca27775b",
   "metadata": {},
   "source": [
    "Via what was stated in part b) of this problem,  \n",
    "\n",
    "\\begin{equation}\\tag{2c.2}\n",
    "    \\mathrm{div }\\,\\mathbf{F} = \\rho\\,\\mathrm{div }\\,\\mathbf{v} + \\nabla \\rho\\cdot\\mathbf{v}\n",
    "\\end{equation}"
   ]
  },
  {
   "cell_type": "markdown",
   "id": "eab090ef-b267-4f37-8062-e519bf7f3d5c",
   "metadata": {},
   "source": [
    "Via the assumption that $\\mathrm{div }\\,\\mathbf{v}=0$ and the above,  \n",
    "\n",
    "$$ \\mathrm{div }\\,\\mathbf{F} = \\nabla \\rho \\cdot \\mathbf{v}$$"
   ]
  },
  {
   "cell_type": "markdown",
   "id": "8aacbee2-6cd9-4279-a639-cab9bbde4755",
   "metadata": {},
   "source": [
    "Thus,  \n",
    "\n",
    "$$ \\mathrm{div }\\,\\mathbf{v} = 0 \\quad\\iff\\quad \\mathrm{div }\\,\\mathbf{F} = \\nabla \\rho \\cdot \\mathbf{v}$$"
   ]
  },
  {
   "cell_type": "markdown",
   "id": "8bb07ae3-effa-4221-a66a-eef8f167b7d3",
   "metadata": {},
   "source": [
    "Via the continuity equation and equation (2c.2),  \n",
    "\n",
    "$$ \\frac{\\partial \\rho}{\\partial t} + \\rho\\,\\mathrm{div }\\,\\mathbf{v} + \\nabla \\rho \\cdot \\mathbf{v} = 0$$"
   ]
  },
  {
   "cell_type": "markdown",
   "id": "639b990b-97b9-492e-aac4-2a9c7d0fda38",
   "metadata": {},
   "source": [
    "Via the above and equation (2c.1),  \n",
    "\n",
    "$$ \\rho\\,\\mathrm{div }\\,\\mathbf{v} + \\frac{\\mathrm{D}\\rho}{\\mathrm{D}t} = 0 \\quad\\therefore\\quad \\rho\\,\\mathrm{div }\\,\\mathbf{v} = -\\frac{\\mathrm{D}\\rho}{\\mathrm{D}t}$$"
   ]
  },
  {
   "cell_type": "markdown",
   "id": "4c84baf3-cbc9-4838-bad6-d02470612690",
   "metadata": {},
   "source": [
    "Q.E.D."
   ]
  },
  {
   "cell_type": "markdown",
   "id": "725519f7-b628-46f4-b7f5-546116a3d0dc",
   "metadata": {},
   "source": [
    "Note that the proposition assumes that the density is never equal to zero throughout the $x,y$-plane.  \n",
    "\n",
    "$$ \\rho(x,y,t) \\ne 0 \\quad \\forall (x,y)\\in\\mathbb{R}^2 \\;\\land\\; \\forall t \\in \\mathbb{R}\\;:\\; t\\ge 0$$"
   ]
  },
  {
   "cell_type": "markdown",
   "id": "1a84a564-216e-43f7-8a04-d8b59e0aeb22",
   "metadata": {},
   "source": [
    "To ellaborate, the notion that the divergence of $\\mathbf{v}$ being equal to zero implies that the flow is incompressable does *not* rely on the above assumption.\n",
    "\n",
    "$$ \\mathrm{div }\\,\\mathbf{v} = 0 \\quad\\implies\\quad \\frac{\\mathrm{D}\\rho}{\\mathrm{D}t} = 0$$"
   ]
  },
  {
   "cell_type": "markdown",
   "id": "513f6aec-c103-4086-8d19-32ef5d64447f",
   "metadata": {},
   "source": [
    "But, the converse of the above *does* rely on said assumption;  Even if there exists a point $(x,y,t)$ where the divergence of $\\mathbf{v}$ is not equal to zero, the convective derivative of the density with respect to time at that point may still be equal to zero if the density is equal to zero at that point."
   ]
  },
  {
   "cell_type": "markdown",
   "id": "c4060d10-49f4-4125-bfb2-a5207d2c2de4",
   "metadata": {},
   "source": [
    "### Problem 3  \n",
    "\n",
    "Note that, in some cases, instead of sketching the flow fields, I will textually describe them.  \n",
    "\n",
    "**i**) \n",
    "\n",
    "$$ \\mathbf{v}:= \\mathbf{v}(x,y,t) = t\\langle -y,x\\rangle\\quad\\quad\\text{and}\\quad\\quad \\rho := \\rho(x,y,t) = \\sqrt{x^2+y^2} = r$$\n",
    "\n",
    "The density radiates outward from origin and is equal to the distance from origin, denoted as $r$.  The flow rotates around origin in the counterclockwise direction with an angular speed that increases proportionally with time.  Moreover, the linear speed of the flow radiates outward from origin, independently of time, or, to put it another way, at any given moment in time $t$, the aforementioned fact holds true, and is equal to the product of the time $t$ and distance from origin.  \n",
    "\n",
    "Since $\\mathrm{div }\\,\\mathbf{v} = 0$ the flow is incompressible.  Moreover, it is stratified."
   ]
  },
  {
   "cell_type": "markdown",
   "id": "f6299384-c4bc-4f8f-a811-7ed8ba11c2a6",
   "metadata": {},
   "source": [
    "Via the fact that the density does not change over time, equation (2c.2), the fact that the gradient of the density is perpendicular to the flow, and the fact that the flow is incompressible, the continuity equation is satisfied."
   ]
  },
  {
   "cell_type": "markdown",
   "id": "05a4f98b-798f-4285-82e0-4be68f4a92c1",
   "metadata": {},
   "source": [
    "**ii**)  \n",
    "\n",
    "$$ \\mathbf{v} := \\mathbf{v}(x,y,t) = \\frac{\\langle x,-y\\rangle}{1+t}\\quad\\quad\\text{and}\\quad\\quad \\rho := \\rho(x,y,t) = xy$$"
   ]
  },
  {
   "cell_type": "markdown",
   "id": "8bf1902b-ddb5-4f04-8499-2376b95765bb",
   "metadata": {
    "jupyter": {
     "source_hidden": true
    }
   },
   "source": [
    "The surface given by the graph of the density forms a saddle centered at the origin.  Found below is a sketch of the velocity field at $t=0$.  \n",
    "\n",
    "![velocity-sketch](Part2-Prob3(ii).svg)"
   ]
  },
  {
   "cell_type": "markdown",
   "id": "dc71fb5f-6339-4f86-b3d3-160e66147f18",
   "metadata": {},
   "source": [
    "The flow satisfies the continuity equation and is incompressible.  Via the fact that the flow is incompressible and the fact that the density does no very with time, the flow is also stratified.  This seems to also go hand in hand with the fact that the gradient of the density is perpendicular to the flow field, which seems to go hand in hand with the fact that, for every level curve $C$ of $\\rho$ there exists a flow line given by the flow map that applies to the flow that is parallel to $C$ and vice versa."
   ]
  },
  {
   "cell_type": "markdown",
   "id": "ced87b54-6ed2-4aae-8650-fb25c98b7097",
   "metadata": {},
   "source": [
    "**iii**)  $$\\mathbf{v} := \\mathbf{v}(x,y,t) = t\\langle x,y \\rangle \\quad\\quad\\text{and}\\quad\\quad \\rho:=\\rho(x,y,t) = e^{-t^2}$$  "
   ]
  },
  {
   "cell_type": "markdown",
   "id": "43f7bece-5466-4eae-9196-65a5d724bc42",
   "metadata": {},
   "source": [
    "The density only varies with time, decreasing exponentially from an ititial value of one unit of mass per unit area.  The velocity field radiates outward from origin, except at $t=0$.  At any given point on the plane other than origin, the magnitude of $\\mathbf{v}$ is proportional to time.  Moreover, at any given time $t\\ne 0$, the magnitude of the velocity radiates outward from origin."
   ]
  },
  {
   "cell_type": "markdown",
   "id": "86cb1025-8a4a-45e8-960a-200f63d13bdb",
   "metadata": {},
   "source": [
    "### Bonus  \n",
    "\n",
    "Suppose that $\\varphi:=\\varphi(x,y,t)$ is the flow map that the plane velocity field $\\mathbf{v}:=\\mathbf{v}(x,y,t)$ is derived from.  The flow field $\\mathbf{F}$ is the product of $\\mathbf{v}$ and the density of the flow, which may vary with time.  Assuming the flow is stratified, the flow field is perpendicular to the gradient of the density, which goes hand in hand with the each flow line given by $\\varphi$ resting on a level curve of the surface given by the graph of the density.  \n",
    "\n",
    "$$ \\left(\\frac{\\mathrm{D}\\rho}{\\mathrm{D}t} = 0 \\;\\land\\; \\frac{\\partial \\rho}{\\partial t}  = 0\\right)\\quad\\implies\\quad \\nabla \\rho \\cdot \\mathbf{v} = 0  \\quad\\iff\\quad \\nabla \\rho \\perp \\mathbf{v}$$"
   ]
  },
  {
   "cell_type": "markdown",
   "id": "5e60f906-ac0b-47e1-8d82-718d7fc5935a",
   "metadata": {},
   "source": [
    "$$ \\iff\\quad \\mathbf{v} = \\pm g(x,y,t)\\langle -\\rho_y, \\rho_x\\rangle$$"
   ]
  },
  {
   "cell_type": "markdown",
   "id": "d3c70dfc-c4f3-4c10-9c38-a647dca3406d",
   "metadata": {},
   "source": [
    "where  \n",
    "\n",
    "$$ \\rho_x =  \\frac{\\partial \\rho}{\\partial x} \\quad\\quad\\text{and}\\quad\\quad \\rho_y = \\frac{\\partial \\rho}{\\partial y}$$"
   ]
  },
  {
   "cell_type": "markdown",
   "id": "8c5d3f19-2686-4f50-bae0-60f955879867",
   "metadata": {},
   "source": [
    "and $g(x,y,t)$ is an arbitrary function of $x$, $y$, and $t$.  Note that the first (from left to right) logical connection in the above series of logical connections assumes the continuity equation."
   ]
  },
  {
   "cell_type": "markdown",
   "id": "000fae6b-2f7b-4b95-a1a5-5b5767cc3291",
   "metadata": {},
   "source": [
    "Let's use [problem 3](#Problem-3) part ii) as an example of this principle.  Any level curve of the density is given by:  \n",
    "\n",
    "\\begin{equation}\\tag{1}\n",
    "    y := f(x,y) = \\frac{c}{x} \\quad\\quad\\text{where }\\, c > 0\n",
    "\\end{equation}"
   ]
  },
  {
   "cell_type": "markdown",
   "id": "eb291bb4-1732-4fb9-9cf8-d0b7d8cdee9e",
   "metadata": {},
   "source": [
    "Note that $c$ is an arbitrary constant in the set of positive real numbers.  The gradient of the density is:  \n",
    "\n",
    "$$ \\nabla \\rho = \\langle y,x\\rangle \\quad\\quad \\text{and}\\quad\\quad\\mathbf{v} = -g(x,y,t)\\langle -x,y\\rangle = \\frac{\\langle x,-y\\rangle}{1+t}$$"
   ]
  },
  {
   "cell_type": "markdown",
   "id": "03330185-dafe-4e45-b94a-bd275b21e9ea",
   "metadata": {},
   "source": [
    "One example of a flow line that rests on a level curve of $\\rho$ is track by:  \n",
    "\n",
    "\\begin{equation}\\tag{1.1}\n",
    "    \\mathbf{r}:=\\mathbf{r}(t) =  \\langle X(t),Y(t)\\rangle\n",
    "\\end{equation}"
   ]
  },
  {
   "cell_type": "markdown",
   "id": "f8c49497-fb5a-4f79-8c4d-394c76582876",
   "metadata": {},
   "source": [
    "where  \n",
    "\n",
    "\\begin{equation}\\tag{1.1a,b}\n",
    "    X:=X(t) = 1 + t \\quad\\quad\\text{and}\\quad\\quad Y:=Y(t) = \\frac{1}{X(t)}\n",
    "\\end{equation}"
   ]
  },
  {
   "cell_type": "markdown",
   "id": "09fcf6c0-40e8-4ae4-8178-cb6913cefac1",
   "metadata": {},
   "source": [
    "In this case, $c=1$.  Consistent with equation (2), we have:  \n",
    "\n",
    "$$ x = x_0 := X(0) = 1 \\quad\\quad\\text{and}\\quad\\quad y= y_0:=Y(0) =1$$"
   ]
  },
  {
   "cell_type": "markdown",
   "id": "92fbf23c-c37a-46e6-9d12-a63ec9ca5e5d",
   "metadata": {},
   "source": [
    "Thus, in this case,  \n",
    "\n",
    "$$ \\mathbf{r} = \\mathbf{r}(t\\vert 1,1) = \\langle \\varphi(1,1,t)\\rangle$$"
   ]
  },
  {
   "cell_type": "markdown",
   "id": "0ace5f6d-3e8c-4f8c-8da2-9316e187dd74",
   "metadata": {},
   "source": [
    "For a broader example,  \n",
    "\n",
    "\\begin{equation}\\tag{1.2a,b}\n",
    "    X(t) = x_0 + t \\quad\\quad\\text{and}\\quad\\quad Y(t) = \\frac{c}{X(t)}\n",
    "\\end{equation}"
   ]
  },
  {
   "cell_type": "markdown",
   "id": "1c7e836f-5ad8-45af-b838-559784fde1eb",
   "metadata": {},
   "source": [
    "$$ y_0 = Y(0) = \\frac{c}{x_0} \\quad\\therefore\\quad c = x_0y_0$$"
   ]
  },
  {
   "cell_type": "markdown",
   "id": "463f178c-ec61-4311-ab4a-586fa85d9d63",
   "metadata": {},
   "source": [
    "Thus,  \n",
    "\n",
    "\\begin{equation}\\tag{1.2b}\n",
    "    Y(t) = \\frac{x_0y_0}{x_0+t}\n",
    "\\end{equation}"
   ]
  },
  {
   "cell_type": "markdown",
   "id": "ceecd998-2a50-4609-9f98-1bb1d73f6d13",
   "metadata": {},
   "source": [
    "Finally,  \n",
    "\n",
    "\\begin{equation}\\tag{1.2}\n",
    "    \\mathbf{r}:=\\mathbf{r}(t\\vert x_0,y_0) = \\left\\langle x_0+t,\\frac{x_0y_0}{x_0+t}\\right\\rangle\n",
    "\\end{equation}"
   ]
  },
  {
   "cell_type": "markdown",
   "id": "29c56c35-824e-47e0-b30a-af39e96ba274",
   "metadata": {},
   "source": [
    "where  \n",
    "\n",
    "$$ x_0y_0=c > 0 \\quad\\quad \\text{and}\\quad\\quad x_0,y_0\\ne 0$$"
   ]
  },
  {
   "cell_type": "markdown",
   "id": "efecb180-976d-45e3-83b9-aa2616bede93",
   "metadata": {},
   "source": [
    "And, for an example of a flow map that only gives flows line that rest on a level curve of the density:  \n",
    "\n",
    "$$ \\varphi:=\\varphi(x,y,t) = \\big(X(x,y,t), Y(x,y,t)\\big)$$"
   ]
  },
  {
   "cell_type": "markdown",
   "id": "1113b810-fa1b-4188-a356-09bd66323f7f",
   "metadata": {},
   "source": [
    "where  \n",
    "\n",
    "$$ X:=X(x,y,t) = x + t \\quad\\quad\\text{and}\\quad\\quad Y:=Y(x,y,t) = \\frac{xy}{x+t}$$"
   ]
  },
  {
   "cell_type": "markdown",
   "id": "f9dedbfb-709f-4728-a892-637e3995e35f",
   "metadata": {},
   "source": [
    "Now, let's derive the velocity field $\\mathbf{v}$ from $\\varphi$.  \n",
    "\n",
    "$$ \\frac{\\mathrm{d}\\mathbf{r}}{\\mathrm{d}t} = \\mathbf{r}'(t) = \\mathbf{i} - \\frac{x_0y_0}{\\big(x_0+t)^2}\\,\\mathbf{j}$$"
   ]
  },
  {
   "cell_type": "markdown",
   "id": "a485b44c-8333-4a16-a556-6046c0dcecac",
   "metadata": {},
   "source": [
    "$$ \\mathbf{v} := \\mathbf{v}(x,y,t) = \\mathbf{r}'(t)$$"
   ]
  },
  {
   "cell_type": "markdown",
   "id": "d116f5e5-1cc6-4c64-9819-ef04b3f36140",
   "metadata": {},
   "source": [
    "where,  \n",
    "\n",
    "$$ x = x_0 + t \\quad\\quad \\text{and}\\quad\\quad y = \\frac{x_0y_0}{x_0+t}$$"
   ]
  },
  {
   "cell_type": "markdown",
   "id": "d31f5ea8-5a15-4a08-8c83-5519e1bc07be",
   "metadata": {},
   "source": [
    "$$ xy=x_0y_0$$"
   ]
  },
  {
   "cell_type": "markdown",
   "id": "81a2f30d-dd22-4a63-b4a8-28eb2c567bd9",
   "metadata": {},
   "source": [
    "Finally, our velocity field, in terms of $x$ and $y$, is  \n",
    "\n",
    "$$ \\mathbf{v} = \\mathbf{v}(x,y,t) = \\mathbf{i} - \\frac{xy}{x^2}\\,\\mathbf{j}$$"
   ]
  },
  {
   "cell_type": "markdown",
   "id": "42e1aaf5-f69f-4db3-9ad2-6dbc1a38eded",
   "metadata": {},
   "source": [
    "$$ \\mathbf{v} = \\left\\langle 1,-\\frac{y}{x}\\right\\rangle$$"
   ]
  },
  {
   "cell_type": "markdown",
   "id": "a2178968-113d-4c7a-a6b7-b139ca2a33f9",
   "metadata": {},
   "source": [
    "Now, let's verify that the grandient of the density is perpendicular to the velocity field.  \n",
    "\n",
    "$$ \\nabla \\rho \\cdot \\mathbf{v} = y - y = 0 \\quad\\therefore\\quad \\nabla \\rho \\perp \\mathbf{v}$$"
   ]
  },
  {
   "cell_type": "code",
   "execution_count": 19,
   "id": "6a5e5850-8734-425c-9e82-34b11d03b858",
   "metadata": {
    "jupyter": {
     "source_hidden": true
    }
   },
   "outputs": [
    {
     "data": {
      "text/plain": [
       "<matplotlib.quiver.Barbs at 0x7131836d6d70>"
      ]
     },
     "execution_count": 19,
     "metadata": {},
     "output_type": "execute_result"
    },
    {
     "data": {
      "image/png": "[encoded data removed]",
      "text/plain": [
       "<Figure size 640x480 with 2 Axes>"
      ]
     },
     "metadata": {},
     "output_type": "display_data"
    }
   ],
   "source": [
    "# Create the domain of the density field, denoted as rho.\n",
    "X = np.linspace(0.25,3,num=50)\n",
    "Y = np.linspace(0,3,num=50)\n",
    "X, Y = np.meshgrid(X,Y)\n",
    "\n",
    "# Create the domain of the position vector r.\n",
    "t = np.linspace(0,3,num=100)\n",
    "\n",
    "# Create the domain of the velocity field v.\n",
    "X_v = np.linspace(0.5,2.75,num=5)\n",
    "Y_v = np.linspace(0,3,num=5)\n",
    "X_v, Y_v = np.meshgrid(X_v,Y_v)\n",
    "\n",
    "# Define the functions.\n",
    "rho = X*Y\n",
    "v = (np.ones(X_v.shape),-Y_v/X_v)\n",
    "rho_F = X_v*Y_v\n",
    "F = (rho_F*v[0],rho_F*v[1])\n",
    "\n",
    "# Create the figure and axes.\n",
    "fig, ax = plt.subplots()\n",
    "ax.set_title('Flow',size=16)\n",
    "ax.set_xlabel('x-axis')\n",
    "ax.set_ylabel('y-axis')\n",
    "xlim = ax.set_xlim(0,3)\n",
    "ylim = ax.set_ylim(0,3)\n",
    "ax.grid()\n",
    "\n",
    "# Plot the fields and motion(s).\n",
    "cmap = mpl.colormaps['ocean']\n",
    "cs = ax.contour(X,Y,rho,levels=6,cmap=cmap)\n",
    "cb = fig.colorbar(cs)\n",
    "\n",
    "ax.quiver(X_v,Y_v,*v,angles='uv',scale=4,scale_units='inches', \\\n",
    "          width = 0.005,units='width',color='tab:blue')\n",
    "ax.barbs(X_v,Y_v,*F)"
   ]
  },
  {
   "cell_type": "markdown",
   "id": "64b845ad-f8a4-4c6d-b649-e14a32ee52e5",
   "metadata": {},
   "source": [
    "Now, how do we derive $\\varphi$ from $\\mathbf{v}$?  First, let:  \n",
    "\n",
    "$$ \\big(X(x,y,t),Y(x,y,t)\\big) := \\varphi(x,y,t) \\quad\\quad \\text{and}\\quad\\quad \\mathbf{r}(t\\vert x_0,y_0) := \\big\\langle X(x_0,y_0,t),Y(x_0,y_0,t)\\big\\rangle = \\langle \\varphi(x_0,y_0,t)\\rangle$$"
   ]
  },
  {
   "cell_type": "markdown",
   "id": "04b47806-1361-4dbe-94e0-90df6f9c275f",
   "metadata": {},
   "source": [
    "Here $\\mathbf{r}(t\\vert x,y)$ is the position vector that tracks the movement of a particle of the flow that starts at $(x,y)$ at a time of $t=0$.  It might be useful to recall that, assuming continuity,  \n",
    "\n",
    "\\begin{equation}\\tag{2}\n",
    "    \\varphi(x,y,0) = (x,y)\n",
    "\\end{equation}"
   ]
  },
  {
   "cell_type": "markdown",
   "id": "23c12529-e882-4be0-98b5-438094689d47",
   "metadata": {},
   "source": [
    "Let $\\mathbf{r}:=\\mathbf{r}(t\\vert x_0,y_0)$.  \n",
    "\n",
    "$$ \\frac{\\mathrm{d}\\mathbf{r}}{\\mathrm{d} t} = \\mathbf{r}'(t\\vert x,y) = \\mathbf{v}(\\mathbf{r},t) =$$"
   ]
  },
  {
   "cell_type": "markdown",
   "id": "956b6c28-b3ef-47ec-808d-f8197da7478d",
   "metadata": {},
   "source": [
    "where  \n",
    "\n",
    "$$ X := X(x,y,t) \\quad\\quad\\text{and}\\quad\\quad Y:=Y(x,y,t)$$"
   ]
  }
 ],
 "metadata": {
  "kernelspec": {
   "display_name": "Python 3 (ipykernel)",
   "language": "python",
   "name": "python3"
  },
  "language_info": {
   "codemirror_mode": {
    "name": "ipython",
    "version": 3
   },
   "file_extension": ".py",
   "mimetype": "text/x-python",
   "name": "python",
   "nbconvert_exporter": "python",
   "pygments_lexer": "ipython3",
   "version": "3.10.12"
  }
 },
 "nbformat": 4,
 "nbformat_minor": 5
}
