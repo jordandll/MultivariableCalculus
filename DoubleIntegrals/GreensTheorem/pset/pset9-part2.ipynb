{
 "cells": [
  {
   "cell_type": "markdown",
   "id": "97f75426-ca70-496b-9c23-c7aeb03d7ba8",
   "metadata": {},
   "source": [
    "# Problem Set 9\n",
    "\n",
    "## Part II  "
   ]
  },
  {
   "cell_type": "code",
   "execution_count": 1,
   "id": "4db4602b-21aa-4b20-9fab-b40fe9ce3d51",
   "metadata": {},
   "outputs": [],
   "source": [
    "import numpy as np\n",
    "import matplotlib.pyplot as plt\n",
    "import matplotlib as mpl\n",
    "import sympy as sp"
   ]
  },
  {
   "cell_type": "markdown",
   "id": "ded36e87-ad87-4540-9be1-4a40f621a5f4",
   "metadata": {},
   "source": [
    "### Problem 1  \n",
    "\n",
    "$$ \\mathbf{F}(x,y) = \\big(y^3-6y\\big)\\,\\mathbf{i} + \\big(6x - x^3\\big)\\,\\mathbf{j}$$  "
   ]
  },
  {
   "cell_type": "markdown",
   "id": "0d36e40c-3f3b-48dc-b429-3091a9b53631",
   "metadata": {},
   "source": [
    "**a)**  Using Green's theorem, find the simple closed curve $C$ for which the integral $\\displaystyle \\oint_C\\mathbf{F}\\cdot\\mathrm{d}\\mathbf{r}$ (with positive oritentation) will have the largest positive value.  "
   ]
  },
  {
   "cell_type": "markdown",
   "id": "da0cbd70-1224-47b8-9a35-a429d7a75760",
   "metadata": {},
   "source": [
    "$$ \\mathrm{curl }\\,\\mathbf{F} = 6-3x^2 - 3y^2 + 6 = 12 - 3\\big(x^2+y^2\\big) $$"
   ]
  },
  {
   "cell_type": "markdown",
   "id": "112852fb-323f-4a29-ae3d-09f050291ef7",
   "metadata": {},
   "source": [
    "$$ \\mathrm{curl }\\,\\mathbf{F} = 12 - 3r^2$$"
   ]
  },
  {
   "cell_type": "markdown",
   "id": "3b430c89-bba1-47d3-aa11-a2db25828bbe",
   "metadata": {},
   "source": [
    "Via Green's theorem,  \n",
    "\n",
    "$$ \\oint_C\\mathbf{F}\\cdot\\mathrm{d}\\mathbf{r} = \\int\\!\\int_R 12\\,\\mathrm{d}A - 3\\int\\!\\int_R r^2\\,\\mathrm{d}A$$"
   ]
  },
  {
   "cell_type": "markdown",
   "id": "04680bb2-098a-4856-8ad8-077d3587ad49",
   "metadata": {},
   "source": [
    "Suppose $R$ is bounded by a circle $C$ with a radius of $a$ centered at origin.  \n",
    "\n",
    "$$ \\int\\!\\int_R\\mathrm{curl }\\,\\mathbf{F}\\,\\mathrm{d}A = 12\\pi a^2 - 3\\int\\!\\int_R r^2\\,\\mathrm{d}A$$"
   ]
  },
  {
   "cell_type": "markdown",
   "id": "882d5a8a-165e-4a4c-ab0d-3aa617cdafcb",
   "metadata": {},
   "source": [
    "$$ 3\\int\\!\\int_R r^2\\,\\mathrm{d}A = 3\\int_0^{2\\pi}\\int_0^a r^3\\,\\mathrm{d}r\\,\\mathrm{d}\\theta$$"
   ]
  },
  {
   "cell_type": "markdown",
   "id": "d1a48cd0-3329-4a2d-a4cb-50b4c651a981",
   "metadata": {},
   "source": [
    "$$ = \\frac{3}{4}\\int_0^{2\\pi}a^4\\,\\mathrm{d}\\theta = a^4\\frac{3\\pi}{2}$$"
   ]
  },
  {
   "cell_type": "markdown",
   "id": "8223475e-337a-40bc-ba26-db22eb19a93d",
   "metadata": {},
   "source": [
    "Thus,  \n",
    "\n",
    "$$ \\oint_C\\mathbf{F}\\cdot\\mathrm{d}\\mathbf{r} = 12\\pi a^2 - a^4\\frac{3\\pi}{2}$$"
   ]
  },
  {
   "cell_type": "markdown",
   "id": "c445d1c2-cfe6-4e37-b011-8997808936a1",
   "metadata": {},
   "source": [
    "Now, let  \n",
    "\n",
    "$$ W:=W(a) = \\oint_C\\mathbf{F}\\cdot\\mathrm{d}\\mathbf{r}$$"
   ]
  },
  {
   "cell_type": "markdown",
   "id": "d8e8b951-1a10-4d31-8f0d-b853f1f75bc4",
   "metadata": {},
   "source": [
    "To find the max value of $W$, denoted as $W_\\max$, we must find the roots of $W'(a)$.  \n",
    "\n",
    "$$ W'(a) = 24\\pi a - 6\\pi a^3$$"
   ]
  },
  {
   "cell_type": "markdown",
   "id": "cb339013-8322-4955-9b9d-a239d5ec218d",
   "metadata": {},
   "source": [
    "$$ W'(a_e) = 0 \\quad\\implies\\quad 4 - a_e^2 = 0  \\quad\\implies$$"
   ]
  },
  {
   "cell_type": "markdown",
   "id": "abef8d0d-f8b7-4fb2-9c67-30809031b22a",
   "metadata": {},
   "source": [
    "$$ a_e^2 = 4 \\quad\\implies\\quad a = 2$$"
   ]
  },
  {
   "cell_type": "code",
   "execution_count": 2,
   "id": "dcdee7aa-da36-497a-852d-fce5293f6598",
   "metadata": {
    "jupyter": {
     "source_hidden": true
    }
   },
   "outputs": [],
   "source": [
    "def dW(a): \n",
    "    return 24*np.pi*a - 6*np.pi*a**3\n",
    "\n",
    "def W(a):\n",
    "    return 12*np.pi*a**2 - (a**4)*3*np.pi/2"
   ]
  },
  {
   "cell_type": "code",
   "execution_count": 14,
   "id": "9637fc50-04fa-4f22-85bc-733dbf22544a",
   "metadata": {},
   "outputs": [
    {
     "data": {
      "text/plain": [
       "75.39822368615503"
      ]
     },
     "execution_count": 14,
     "metadata": {},
     "output_type": "execute_result"
    }
   ],
   "source": [
    "W(2)"
   ]
  },
  {
   "cell_type": "markdown",
   "id": "3f40b373-2588-4c4c-a202-bc9c74b5b582",
   "metadata": {},
   "source": [
    "Finally, $W=W_\\max$ if and only if $C$ is a circle with a radius of $2$ centered at origin.  \n",
    "\n",
    "$$ W_\\max = W(2) = 48\\pi - 24\\pi = 24\\pi$$"
   ]
  },
  {
   "cell_type": "code",
   "execution_count": 15,
   "id": "df4824b5-62bb-4c6b-b8c6-5f16b21652e9",
   "metadata": {},
   "outputs": [
    {
     "data": {
      "text/plain": [
       "75.39822368615503"
      ]
     },
     "execution_count": 15,
     "metadata": {},
     "output_type": "execute_result"
    }
   ],
   "source": [
    "24*np.pi"
   ]
  },
  {
   "cell_type": "markdown",
   "id": "4134cae9-d1e1-4b58-ba73-dc50ad109cca",
   "metadata": {},
   "source": [
    "**b)**  Compute this largest positive value."
   ]
  },
  {
   "cell_type": "markdown",
   "id": "f1879982-cd10-407c-b4c8-1c9f48506a5e",
   "metadata": {},
   "source": [
    "As has been stated,  \n",
    "\n",
    "$$ W_\\max = W(2) = 24\\pi \\approxeq 75.4$$"
   ]
  },
  {
   "attachments": {},
   "cell_type": "markdown",
   "id": "c987ac27-ffed-4677-b386-4e57ffb30624",
   "metadata": {},
   "source": [
    "### Problem 2\n",
    "\n",
    "**a)**  Integrating throughout the continuity equation over an arbitrary region $R$ bounded by $C$, a positively oriented simple closed curve, gives:  \n",
    "\n",
    "$$ \\int\\!\\int_R \\frac{\\partial \\rho}{\\partial t}\\,\\mathrm{d}A + \\int\\!\\int_R\\mathrm{div }\\,\\mathbf{F}\\,\\mathrm{d}A = 0$$"
   ]
  },
  {
   "cell_type": "markdown",
   "id": "4b0ba2b0-4d6b-4ad1-9a07-616a354a80d8",
   "metadata": {},
   "source": [
    "And, via the above equation and Green's theorem in normal form,  \n",
    "\n",
    "\\begin{equation}\\tag{2.2}\n",
    "    \\int\\!\\int_R \\frac{\\partial \\rho}{\\partial t}\\,\\mathrm{d}A + \\oint_C \\mathbf{F}\\cdot\\mathbf{n}\\,\\mathrm{d}s = 0\n",
    "\\end{equation}"
   ]
  },
  {
   "cell_type": "markdown",
   "id": "3cc8b1e0-dad3-452e-a0e5-5beb1b7f7dae",
   "metadata": {},
   "source": [
    "It is important to note that the continuity equation seems to assume there is no external source of mass, which in this case means no external source of fluid (e.g. there is no water being poured onto a plane holding a shallow or -- ideally speaking -- 2D body of fluid.  Nor is there a sink carrying fluid out of the system.)  "
   ]
  },
  {
   "cell_type": "markdown",
   "id": "e0e0673a-69bc-4ec1-bfdc-cd6d7b9c64a7",
   "metadata": {},
   "source": [
    "In the case of a steady flow, this means that $\\mathrm{div }\\,\\mathbf{F}= 0$, which means that, via Green's theorem in normal form, the rate of mass transport across any closed curve is equal to zero.  Such a condition can be realized a number of ways;  For example, a body of fluid at rest ($\\mathbf{v} = \\mathbf{0} \\;\\implies\\; \\mathbf{F}=\\mathbf{0}$) or a body of fluid that rotates around origin satisfies $\\mathrm{div }\\,\\mathbf{F} = 0$, where $\\mathbf{F}$ is the flow field that applies to this body of fluid."
   ]
  },
  {
   "cell_type": "markdown",
   "id": "ba406aa7-79e3-43d1-b486-28496ecb04e6",
   "metadata": {},
   "source": [
    "In the case of a non-steady flow, the continuity equation is still satisfied when $\\displaystyle \\frac{\\partial \\rho}{\\partial t} = \\mathrm{div }\\,\\mathbf{F}=0$, but there are other conditions that satisfy said equation;  Suppose that $\\mathrm{div }\\,\\mathbf{F} \\ne 0$.  Then the rate of mass transport (flux) across a closed curve $C$ is either positive (net flow away from the enclosed region $R$) or negative (net flow into $R$).  This can occur when the source (or sink) rate is not equal to zero (e.g. when fluid is being poured into the system from an external source), in which case the continuity equation does *not* apply.  It can also occur when the net change in density over time over or in $R$ is enough to explain the flux across $C$.  To understand this, one must understand the following:  "
   ]
  },
  {
   "cell_type": "markdown",
   "id": "05020c2e-cfea-4bd9-9f42-5372327b71f2",
   "metadata": {},
   "source": [
    "$$\\frac{\\partial \\rho}{\\partial t}(x,y,t)\\,\\mathrm{d}A $$"
   ]
  },
  {
   "cell_type": "markdown",
   "id": "8ba58219-cade-4b9a-852a-a1f708b6d1b6",
   "metadata": {},
   "source": [
    "is equal to the instantaneous change in mass over time at $(x,y,t)$.  The double integral of the above over $R$ is equal to the instantaneous change in the total mass over or in $R$ over time at $t$.  Moreover, according to equation (2.2) and ultimately the continuity equation, this quantity must cancel out the rate of mass transport across $C$.  What this means is that a positive flux across $C$ (i.e. a net outward flow of fluid from $R$) must be accompanied by a decrease in the total mass over $R$, and vice versa, in order for the continuity equation to be satisfied.  Furthermore, if it is not satisfied, then, due to conversvation of mass, a source or sink adding or subtracting fluid to or from the system is at least partly responsible for the flux across $C$."
   ]
  },
  {
   "cell_type": "markdown",
   "id": "2e74a264-3b7b-4cb5-92c8-abfb498735c1",
   "metadata": {},
   "source": [
    "**b)**  $$ \\mathrm{div}(g\\mathbf{G}) = \\frac{\\partial g}{\\partial x}M + g\\frac{\\partial M}{\\partial x} + g_yN + gN_y $$"
   ]
  },
  {
   "cell_type": "markdown",
   "id": "b90b732f-582b-4923-9fed-fe1f91492daa",
   "metadata": {},
   "source": [
    "$$ = g\\,\\mathrm{div }\\,\\mathbf{G} + \\nabla g\\cdot\\mathbf{G}$$"
   ]
  },
  {
   "cell_type": "markdown",
   "id": "bd75f689-b3e0-42a8-898e-c6bad38ea26b",
   "metadata": {},
   "source": [
    "**c)**  Let $f$ and $\\mathbf{r}$ be defined as:  \n",
    "\n",
    "$$ f:=f(x,y,t) \\quad\\quad\\text{and}\\quad\\quad \\mathbf{r}:=\\mathbf{r}(t) = \\langle x(t),y(t)\\rangle $$  "
   ]
  },
  {
   "cell_type": "markdown",
   "id": "9fa67ec5-0aaf-4703-ba30-24a140bf7557",
   "metadata": {},
   "source": [
    "Recall that:  \n",
    "\n",
    "$$ \\frac{\\mathrm{D}f}{\\mathrm{D}t} = \\frac{\\mathrm{d}}{\\mathrm{d}t}f\\big(\\mathbf{r}(t),t\\big)$$"
   ]
  },
  {
   "cell_type": "markdown",
   "id": "1f1d7452-e9be-4758-9afb-bf17b7a47e31",
   "metadata": {},
   "source": [
    "Also recall the chain rule.  Let $g:=g(s)$ and $s:=s(t)$.  Via the chain rule\n",
    "\n",
    "$$ \\frac{\\mathrm{d}g(s(t))}{\\mathrm{d}t} = \\frac{\\mathrm{d} g\\circ s}{\\mathrm{d}t} = \\frac{\\mathrm{d}g}{\\mathrm{d}s}\\frac{\\mathrm{d}s}{\\mathrm{d}t}$$"
   ]
  },
  {
   "cell_type": "markdown",
   "id": "9db487e8-278a-4141-9dfe-ecdc8a23c2f5",
   "metadata": {},
   "source": [
    "The total differential of $f$ is:  \n",
    "\n",
    "$$ \\mathrm{d}f = f_x\\,\\mathrm{d}x + f_y\\,\\mathrm{d}y + f_t\\mathrm{d}t$$"
   ]
  },
  {
   "cell_type": "markdown",
   "id": "3d56b344-2948-493d-a216-f0ed5a3697c2",
   "metadata": {},
   "source": [
    "Dividing throughout the above equation by $\\mathrm{d}t$ gives:  \n",
    "\n",
    "$$ \\frac{\\mathrm{d}f}{\\mathrm{d}t} = f_x x'(t) + f_y y'(t) + f_t$$"
   ]
  },
  {
   "cell_type": "markdown",
   "id": "ae57a255-014c-4a9b-b075-ff214fda5142",
   "metadata": {},
   "source": [
    "And, when $f$ is contrained to the curve tracked by $\\mathbf{r}$, as is the case in the definition of the convective derivative of $f$ with respect to time, we get:  \n",
    "\n",
    "$$ \\frac{\\mathrm{D}f}{\\mathrm{D}t} = \\frac{\\mathrm{d}}{\\mathrm{d}t}f\\big(\\mathbf{r}(t),t\\big) = \\frac{\\partial f}{\\partial t}\\big(\\mathbf{r}(t),t\\big) + \\mathbf{v}\\cdot\\nabla f\\big(\\mathbf{r}(t),t\\big)$$"
   ]
  },
  {
   "cell_type": "markdown",
   "id": "217bf091-e838-42b7-ba70-dc3903c854dd",
   "metadata": {},
   "source": [
    "where  \n",
    "\n",
    "$$ \\mathbf{r}'(t) = \\langle x'(t),y'(t)\\rangle := \\mathbf{v}$$"
   ]
  }
 ],
 "metadata": {
  "kernelspec": {
   "display_name": "Python 3 (ipykernel)",
   "language": "python",
   "name": "python3"
  },
  "language_info": {
   "codemirror_mode": {
    "name": "ipython",
    "version": 3
   },
   "file_extension": ".py",
   "mimetype": "text/x-python",
   "name": "python",
   "nbconvert_exporter": "python",
   "pygments_lexer": "ipython3",
   "version": "3.10.12"
  }
 },
 "nbformat": 4,
 "nbformat_minor": 5
}
