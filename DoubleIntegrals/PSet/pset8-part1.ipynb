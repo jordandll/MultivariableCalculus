{
 "cells": [
  {
   "cell_type": "markdown",
   "id": "2607a092-19c6-4d91-abf6-8ed86f55bdb9",
   "metadata": {},
   "source": [
    "# Problem Set 8\n",
    "\n",
    "## Part I  \n",
    "\n",
    "### Vector Fields And Line Integrals"
   ]
  },
  {
   "cell_type": "markdown",
   "id": "6c1d96ab-581c-4669-a705-9e26781f2fa0",
   "metadata": {},
   "source": [
    "#### $\\S 4\\mathrm{A} : 1$"
   ]
  },
  {
   "cell_type": "markdown",
   "id": "85ee6ced-95c3-46fa-b42f-eff79b685bf1",
   "metadata": {},
   "source": [
    "The fields are continuously differentiable throughout the $xy$-plane."
   ]
  },
  {
   "cell_type": "markdown",
   "id": "962a9ed0-72d8-4cf4-9f1a-b6ae6565dbb8",
   "metadata": {},
   "source": [
    "**b)**  A flow that flows inward to the origin and has a magnitude that increases with it's distance from said origin accordingly;  It is like water flowing down a drain."
   ]
  },
  {
   "cell_type": "markdown",
   "id": "ba826203-7e4f-48c7-a540-c40745858db0",
   "metadata": {},
   "source": [
    "**d** A flow with a uniform magnitude of one -- i.e. a field of unit vectors -- that circles origin in the clockwise direction."
   ]
  },
  {
   "cell_type": "markdown",
   "id": "8433faeb-da89-462b-b8fa-b60396ebd30a",
   "metadata": {},
   "source": [
    "#### $\\S 4\\mathrm{A} : 2$\n",
    "\n",
    "**a)**  $$ \\nabla w = \\langle a, b\\rangle$$"
   ]
  },
  {
   "cell_type": "markdown",
   "id": "18409867-fd09-49d0-8b36-87f75f4fb4b5",
   "metadata": {},
   "source": [
    "**b)**  $$ \\nabla w = \\frac{\\langle x,y \\rangle}{r^2}$$"
   ]
  },
  {
   "cell_type": "markdown",
   "id": "ae86d57d-1898-4143-aaf7-c06b901d038d",
   "metadata": {},
   "source": [
    "**c)**  $$ \\nabla w = \\langle w_x, w_y\\rangle$$"
   ]
  },
  {
   "cell_type": "markdown",
   "id": "19211c9d-ae9d-45e6-bce0-a564cc32dad2",
   "metadata": {},
   "source": [
    "where  \n",
    "\n",
    "$$ \\frac{\\partial w}{\\partial x} = \\frac{\\partial f}{\\partial x} = \\frac{\\partial f}{\\partial r}\\,\\frac{\\partial r}{\\partial x}$$"
   ]
  },
  {
   "cell_type": "markdown",
   "id": "96dae618-04bc-4fac-9497-3559070ff7cf",
   "metadata": {},
   "source": [
    "$$ r_x = \\frac{\\partial r}{\\partial x} = \\frac{x}{r}\\quad\\quad\\text{and}\\quad\\quad r_y = \\frac{\\partial r}{\\partial y} = \\frac{y}{r}$$"
   ]
  },
  {
   "cell_type": "markdown",
   "id": "95e884c1-0028-403e-8953-4d8164f99c05",
   "metadata": {},
   "source": [
    "Thus,  \n",
    "\n",
    "$$ \\nabla w = \\frac{f_r}{r}\\,\\langle x,y\\rangle $$"
   ]
  },
  {
   "cell_type": "markdown",
   "id": "8200607e-6f6e-4371-b36c-7b5d1d9305bc",
   "metadata": {},
   "source": [
    "#### $\\S 4\\mathrm{A} : 3$\n",
    "\n",
    "**a)**  $$ \\langle 1,2\\rangle$$"
   ]
  },
  {
   "cell_type": "markdown",
   "id": "fc448e32-de3a-42d1-9a2d-143053f026a1",
   "metadata": {},
   "source": [
    "**b)**  $$-r\\langle x,y\\rangle$$"
   ]
  },
  {
   "cell_type": "markdown",
   "id": "6b107336-a731-43ad-8a49-5c559a617efb",
   "metadata": {},
   "source": [
    "**c)**  $$ \\frac{\\langle y,-x\\rangle}{r^3}$$"
   ]
  },
  {
   "cell_type": "markdown",
   "id": "9be4185e-b541-464c-a613-f271a0e5b1cf",
   "metadata": {},
   "source": [
    "**d)**  $$ e^{-r}\\,\\langle 1,1\\rangle$$"
   ]
  },
  {
   "cell_type": "markdown",
   "id": "33c4c344-b9ab-4f35-b7a4-b623353ea98e",
   "metadata": {},
   "source": [
    "#### $\\S 4\\mathrm{A} : 4$  \n",
    "\n",
    "$$ \\mathbf{F} = k\\,\\frac{\\langle -y,x\\rangle}{r^2}$$"
   ]
  },
  {
   "cell_type": "markdown",
   "id": "6c793b5b-932e-42c0-af09-666da68cde4b",
   "metadata": {},
   "source": [
    "#### $\\S 4\\mathrm{B} : 1$  \n",
    "\n",
    "**a)**  $$ M_y = -1 \\quad\\quad\\text{and}\\quad\\quad N_x = 2 $$"
   ]
  },
  {
   "cell_type": "markdown",
   "id": "cd793a42-6186-4ee5-b350-17f0d41da5b9",
   "metadata": {},
   "source": [
    "therefore there is no path independence;  We must find the line integral for each path."
   ]
  },
  {
   "cell_type": "markdown",
   "id": "6c8d27fb-e29b-403d-83d4-28ef7608fd65",
   "metadata": {},
   "source": [
    "$$ \\int_{C_1}\\mathbf{F}\\cdot\\mathrm{d}\\mathbf{r} = \\int_{-1}^1 x^2\\,\\mathrm{d}x = \\left.\\frac{x^3}{3}\\right]_{\\,-1}^{\\,1}$$"
   ]
  },
  {
   "cell_type": "markdown",
   "id": "5b17393b-3541-4433-8de8-94eaf2aae6b6",
   "metadata": {},
   "source": [
    "$$ = \\frac{2}{3}$$"
   ]
  },
  {
   "cell_type": "markdown",
   "id": "7b8d4c08-72a8-4fb6-ad46-e60c9e4cbe5a",
   "metadata": {},
   "source": [
    "As for the other path:  \n",
    "\n",
    "$$ \\int_{C_2}\\mathbf{F}\\cdot\\mathrm{d}\\mathbf{r} = \\int_{C_2}\\big(x^2-y\\big)\\,\\mathrm{d}x + 2x\\,\\mathrm{d}y$$"
   ]
  },
  {
   "cell_type": "markdown",
   "id": "00ffde3a-9e25-49cb-bba6-192cd7ac0f26",
   "metadata": {},
   "source": [
    "$$ \\mathrm{d}y = \\big(1-x^2\\big)\\,\\mathrm{d}x$$"
   ]
  },
  {
   "cell_type": "markdown",
   "id": "a47e20ce-0209-4f11-88ea-8d689b70b133",
   "metadata": {},
   "source": [
    "$$ \\int_{C_2}\\mathbf{F}\\cdot\\mathrm{d}\\mathbf{r} = \\int_{-1}^1\\big(2x^2-1\\big)\\,\\mathrm{d}x + 2x\\big(1-x^2\\big)\\,\\mathrm{d}x$$"
   ]
  },
  {
   "attachments": {},
   "cell_type": "markdown",
   "id": "1174ac66-7d88-411e-8efe-25a331543101",
   "metadata": {},
   "source": [
    "$$ = \\int_{-1}^1\\big(2x^2 - 2x^3 + 2x - 1\\big)\\,\\mathrm{d}x  = \\left.\\left(\\frac{2x^3}{3} - \\frac{x^4}{2} + x^2 - x \\right)\\right]_{\\,-1}^{\\,1}$$"
   ]
  },
  {
   "cell_type": "markdown",
   "id": "84713834-3039-4540-9198-08131af178c9",
   "metadata": {},
   "source": [
    "$$ = \\frac{4}{3} + 1 -2 = \\frac{4}{3} - 1 = \\frac{1}{3}$$"
   ]
  },
  {
   "cell_type": "markdown",
   "id": "f5124d7f-6554-4288-92ba-d6cf4559997d",
   "metadata": {},
   "source": [
    "**b)**  \n",
    "\n",
    "**c)**  \n",
    "\n",
    "**d)**"
   ]
  },
  {
   "cell_type": "markdown",
   "id": "1aa49114-b530-46e8-9070-86003bdda076",
   "metadata": {},
   "source": [
    "#### $\\S4\\mathrm{B} : 2$\n",
    "\n",
    "**a)**  \n",
    "\n",
    "**b)**"
   ]
  },
  {
   "cell_type": "markdown",
   "id": "752c2250-8aba-4f0b-b0f4-5236433f62cb",
   "metadata": {},
   "source": [
    "#### $\\S 4\\mathrm{B} : 3$"
   ]
  }
 ],
 "metadata": {
  "kernelspec": {
   "display_name": "Python 3 (ipykernel)",
   "language": "python",
   "name": "python3"
  },
  "language_info": {
   "codemirror_mode": {
    "name": "ipython",
    "version": 3
   },
   "file_extension": ".py",
   "mimetype": "text/x-python",
   "name": "python",
   "nbconvert_exporter": "python",
   "pygments_lexer": "ipython3",
   "version": "3.10.12"
  }
 },
 "nbformat": 4,
 "nbformat_minor": 5
}
