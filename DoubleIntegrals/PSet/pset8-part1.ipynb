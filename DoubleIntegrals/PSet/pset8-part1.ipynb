{
 "cells": [
  {
   "cell_type": "markdown",
   "id": "2607a092-19c6-4d91-abf6-8ed86f55bdb9",
   "metadata": {},
   "source": [
    "# Problem Set 8\n",
    "\n",
    "## Part I  \n",
    "\n",
    "### Vector Fields And Line Integrals"
   ]
  },
  {
   "cell_type": "markdown",
   "id": "6c1d96ab-581c-4669-a705-9e26781f2fa0",
   "metadata": {},
   "source": [
    "#### $\\S 4\\mathrm{A} : 1$"
   ]
  },
  {
   "cell_type": "markdown",
   "id": "85ee6ced-95c3-46fa-b42f-eff79b685bf1",
   "metadata": {},
   "source": [
    "The fields are continuously differentiable throughout the $xy$-plane."
   ]
  },
  {
   "cell_type": "markdown",
   "id": "962a9ed0-72d8-4cf4-9f1a-b6ae6565dbb8",
   "metadata": {},
   "source": [
    "**b)**  A flow that flows inward to the origin and has a magnitude that increases with it's distance from said origin accordingly;  It is like water flowing down a drain."
   ]
  },
  {
   "cell_type": "markdown",
   "id": "ba826203-7e4f-48c7-a540-c40745858db0",
   "metadata": {},
   "source": [
    "**d** A flow with a uniform magnitude of one -- i.e. a field of unit vectors -- that circles origin in the clockwise direction."
   ]
  },
  {
   "cell_type": "markdown",
   "id": "8433faeb-da89-462b-b8fa-b60396ebd30a",
   "metadata": {},
   "source": [
    "#### $\\S 4\\mathrm{A} : 2$\n",
    "\n",
    "**a)**  $$ \\nabla w = \\langle a, b\\rangle$$"
   ]
  },
  {
   "cell_type": "markdown",
   "id": "18409867-fd09-49d0-8b36-87f75f4fb4b5",
   "metadata": {},
   "source": [
    "**b)**  $$ \\nabla w = \\frac{\\langle x,y \\rangle}{r^2}$$"
   ]
  },
  {
   "cell_type": "markdown",
   "id": "ae86d57d-1898-4143-aaf7-c06b901d038d",
   "metadata": {},
   "source": [
    "**c)**  $$ \\nabla w = \\langle w_x, w_y\\rangle$$"
   ]
  },
  {
   "cell_type": "markdown",
   "id": "19211c9d-ae9d-45e6-bce0-a564cc32dad2",
   "metadata": {},
   "source": [
    "where  \n",
    "\n",
    "$$ \\frac{\\partial w}{\\partial x} = \\frac{\\partial f}{\\partial x} = \\frac{\\partial f}{\\partial r}\\,\\frac{\\partial r}{\\partial x}$$"
   ]
  },
  {
   "cell_type": "markdown",
   "id": "96dae618-04bc-4fac-9497-3559070ff7cf",
   "metadata": {},
   "source": [
    "$$ r_x = \\frac{\\partial r}{\\partial x} = \\frac{x}{r}\\quad\\quad\\text{and}\\quad\\quad r_y = \\frac{\\partial r}{\\partial y} = \\frac{y}{r}$$"
   ]
  },
  {
   "cell_type": "markdown",
   "id": "95e884c1-0028-403e-8953-4d8164f99c05",
   "metadata": {},
   "source": [
    "Thus,  \n",
    "\n",
    "$$ \\nabla w = \\frac{f_r}{r}\\,\\langle x,y\\rangle $$"
   ]
  },
  {
   "cell_type": "markdown",
   "id": "8200607e-6f6e-4371-b36c-7b5d1d9305bc",
   "metadata": {},
   "source": [
    "#### $\\S 4\\mathrm{A} : 3$\n",
    "\n",
    "**a)**  $$ \\langle 1,2\\rangle$$"
   ]
  },
  {
   "cell_type": "markdown",
   "id": "fc448e32-de3a-42d1-9a2d-143053f026a1",
   "metadata": {},
   "source": [
    "**b)**  $$-r\\langle x,y\\rangle$$"
   ]
  },
  {
   "cell_type": "markdown",
   "id": "6b107336-a731-43ad-8a49-5c559a617efb",
   "metadata": {},
   "source": [
    "**c)**  $$ \\frac{\\langle y,-x\\rangle}{r^3}$$"
   ]
  },
  {
   "cell_type": "markdown",
   "id": "9be4185e-b541-464c-a613-f271a0e5b1cf",
   "metadata": {},
   "source": [
    "**d)**  $$ e^{-r}\\,\\langle 1,1\\rangle$$"
   ]
  },
  {
   "cell_type": "markdown",
   "id": "33c4c344-b9ab-4f35-b7a4-b623353ea98e",
   "metadata": {},
   "source": [
    "#### $\\S 4\\mathrm{A} : 4$  \n",
    "\n",
    "$$ \\mathbf{F} = k\\,\\frac{\\langle -y,x\\rangle}{r^2}$$"
   ]
  },
  {
   "cell_type": "markdown",
   "id": "6c793b5b-932e-42c0-af09-666da68cde4b",
   "metadata": {},
   "source": [
    "#### $\\S 4\\mathrm{B} : 1$  \n",
    "\n",
    "**a)**  Whereas  \n",
    "\n",
    "$$ M_y = -1 \\quad\\quad\\text{and}\\quad\\quad N_x = 2 $$"
   ]
  },
  {
   "cell_type": "markdown",
   "id": "cd793a42-6186-4ee5-b350-17f0d41da5b9",
   "metadata": {},
   "source": [
    "therefore there is no path independence;  We must compute the line integral for each path."
   ]
  },
  {
   "cell_type": "markdown",
   "id": "6c8d27fb-e29b-403d-83d4-28ef7608fd65",
   "metadata": {},
   "source": [
    "$$ \\int_{C_1}\\mathbf{F}\\cdot\\mathrm{d}\\mathbf{r} = \\int_{-1}^1 x^2\\,\\mathrm{d}x = \\left.\\frac{x^3}{3}\\right]_{\\,-1}^{\\,1}$$"
   ]
  },
  {
   "cell_type": "markdown",
   "id": "5b17393b-3541-4433-8de8-94eaf2aae6b6",
   "metadata": {},
   "source": [
    "$$ = \\frac{2}{3}$$"
   ]
  },
  {
   "cell_type": "markdown",
   "id": "7b8d4c08-72a8-4fb6-ad46-e60c9e4cbe5a",
   "metadata": {},
   "source": [
    "As for the other path:  \n",
    "\n",
    "$$ \\int_{C_2}\\mathbf{F}\\cdot\\mathrm{d}\\mathbf{r} = \\int_{C_2}\\big(x^2-y\\big)\\,\\mathrm{d}x + 2x\\,\\mathrm{d}y$$"
   ]
  },
  {
   "cell_type": "markdown",
   "id": "00ffde3a-9e25-49cb-bba6-192cd7ac0f26",
   "metadata": {},
   "source": [
    "$$ \\mathrm{d}y = -2x\\,\\mathrm{d}x$$"
   ]
  },
  {
   "cell_type": "markdown",
   "id": "a47e20ce-0209-4f11-88ea-8d689b70b133",
   "metadata": {},
   "source": [
    "$$ \\int_{C_2}\\mathbf{F}\\cdot\\mathrm{d}\\mathbf{r} = \\int_{-1}^1\\big(2x^2-1\\big)\\,\\mathrm{d}x - 4x^2\\,\\mathrm{d}x$$"
   ]
  },
  {
   "attachments": {},
   "cell_type": "markdown",
   "id": "1174ac66-7d88-411e-8efe-25a331543101",
   "metadata": {},
   "source": [
    "$$ = -\\int_{-1}^1\\big(2x^2 + 1\\big)\\,\\mathrm{d}x  = -\\left.\\left(\\frac{2x^3}{3} - x\\right)\\right]_{\\,-1}^{\\,1}$$"
   ]
  },
  {
   "cell_type": "markdown",
   "id": "84713834-3039-4540-9198-08131af178c9",
   "metadata": {},
   "source": [
    "$$ = -\\frac{4}{3}  +2  = \\frac{2}{3}$$"
   ]
  },
  {
   "cell_type": "markdown",
   "id": "bdf3057a-6201-4af6-a90c-103dfda01aa9",
   "metadata": {},
   "source": [
    "**b)**   Let $\\mathbf{r}$ be the position vector that tracks a motion along the path.  \n",
    "\n",
    "$$ \\mathbf{r} := \\mathbf{r}(\\theta) = \\big\\langle \\cos(90^\\circ - \\theta\\big), \\sin(90^\\circ - \\theta)\\big\\rangle \\quad\\quad\\text{where }\\, 0 \\le \\theta \\le 90^\\circ$$"
   ]
  },
  {
   "cell_type": "markdown",
   "id": "4690a7c1-be6e-4f54-806f-07084418efc2",
   "metadata": {},
   "source": [
    "$$ \\mathbf{r}(\\theta) = \\langle \\sin\\theta,\\cos\\theta\\rangle = \\langle x, y\\rangle$$"
   ]
  },
  {
   "cell_type": "markdown",
   "id": "b71fb94e-9d58-4f85-9bfe-3d13af982767",
   "metadata": {},
   "source": [
    "where,  \n",
    "\n",
    "$$ x := x(\\theta) = \\sin\\theta \\quad\\quad\\text{and}\\quad\\quad y:=y(\\theta) = \\cos\\theta$$"
   ]
  },
  {
   "cell_type": "markdown",
   "id": "a02d56e4-dd44-4b2e-b3da-e64b105021c5",
   "metadata": {},
   "source": [
    "$$ \\int_C \\mathbf{F}\\cdot\\mathrm{d}\\mathbf{r} = \\int_C xy\\,\\mathrm{d}x - x^2\\,\\mathrm{d}y$$"
   ]
  },
  {
   "cell_type": "markdown",
   "id": "3312d088-4f54-443e-996a-d9605853ed7b",
   "metadata": {},
   "source": [
    "$$ x'(\\theta) = \\cos\\theta \\quad\\therefore\\quad \\mathrm{d}x = \\cos\\theta\\,\\mathrm{d}\\theta$$"
   ]
  },
  {
   "cell_type": "markdown",
   "id": "fa810642-c7ae-4dc8-b395-0a7ce2b44dd6",
   "metadata": {},
   "source": [
    "$$ y'(\\theta) = -\\sin\\theta\\quad\\therefore\\quad \\mathrm{d}y = -\\sin\\theta\\,\\mathrm{d}\\theta$$"
   ]
  },
  {
   "cell_type": "markdown",
   "id": "70ac3ebe-32e2-40a4-9a2f-98daf90bef81",
   "metadata": {},
   "source": [
    "Thus,  \n",
    "\n",
    "$$ \\int_C\\mathbf{F}\\cdot\\mathrm{d}\\mathbf{r} = \\int_0^{90^\\circ}\\sin\\theta\\cos^2\\theta\\,\\mathrm{d}\\theta + \\int_0^{90^\\circ}\\sin^3\\theta\\,\\mathrm{d}\\theta$$"
   ]
  },
  {
   "cell_type": "markdown",
   "id": "37b19e60-8a67-4e53-98d9-1bd5b23350eb",
   "metadata": {},
   "source": [
    "$$ = \\int_0^{90^\\circ}\\sin\\theta\\,\\mathrm{d}\\theta = 1$$"
   ]
  },
  {
   "cell_type": "markdown",
   "id": "66e6ed7a-b6c9-4d10-9dcf-1b4d29a2af08",
   "metadata": {},
   "source": [
    "**c)**  $$ \\int_C\\mathbf{F}\\cdot\\mathrm{d}\\mathbf{r} = \\int_{C_1}\\mathbf{F}\\cdot\\mathrm{d}\\mathbf{r} + \\int_{C_2}\\mathbf{F}\\cdot\\mathrm{d}\\mathbf{r} + \\int_{C_3}\\mathbf{F}\\cdot\\mathrm{d}\\mathbf{r}$$"
   ]
  },
  {
   "cell_type": "markdown",
   "id": "03543a97-321a-45a9-be13-e1aa73a2d80a",
   "metadata": {},
   "source": [
    "where  \n",
    "\n",
    "\n",
    "$$ C_1:\\quad\\text{from }\\,(0,0)\\, \\text{ to }\\,(0,1)\\quad\\text{on }(0,y)$$"
   ]
  },
  {
   "cell_type": "markdown",
   "id": "77ea3171-9091-4487-b7de-037a9d1fcd4c",
   "metadata": {},
   "source": [
    "$$ \\int_{C_1}\\mathbf{F}\\cdot\\mathrm{d}\\mathbf{r} = 0$$"
   ]
  },
  {
   "cell_type": "markdown",
   "id": "f6c220c1-1fc2-49c8-bb3c-fb744c7aacf5",
   "metadata": {},
   "source": [
    "$$ C_2:\\quad\\text{from }\\,(0,1)\\, \\text{ to }\\,(1,0)\\quad\\text{on }\\quad y = 1-x\\quad\\quad\\text{where }\\, 0\\le x \\le 1$$"
   ]
  },
  {
   "cell_type": "markdown",
   "id": "6e362f41-3c3d-4eb7-8010-5b90554bff5d",
   "metadata": {},
   "source": [
    "$$ \\int_{C_2}\\mathbf{F}\\cdot\\mathrm{d}\\mathbf{r} = \\int_{C_2}y\\,\\mathrm{d}x - x\\,\\mathrm{d}y$$"
   ]
  },
  {
   "cell_type": "markdown",
   "id": "165d7993-823b-4398-84a1-7c85fcccef05",
   "metadata": {},
   "source": [
    "$$ \\mathrm{d}y = -\\mathrm{d}x$$"
   ]
  },
  {
   "cell_type": "markdown",
   "id": "e91869d0-b8ce-4695-a028-aa0912d18283",
   "metadata": {},
   "source": [
    "$$ \\int_{C_2}\\mathbf{F}\\cdot\\mathrm{d}\\mathbf{r} = \\int_0^1(1-x)\\,\\mathrm{d}x + x\\,\\mathrm{d}x = 1$$"
   ]
  },
  {
   "cell_type": "markdown",
   "id": "08a082af-e4b3-445a-b3bb-49b9aaa751dc",
   "metadata": {},
   "source": [
    "$$ C_3:\\quad\\text{from }\\,(1,0)\\, \\text{ to }\\,(0,1)\\quad\\text{on }(x,0)$$"
   ]
  },
  {
   "cell_type": "markdown",
   "id": "e9d95803-8aec-4729-a2e4-19e7b4244e0d",
   "metadata": {},
   "source": [
    "$$ \\int_{C_3}\\mathbf{F}\\cdot\\mathrm{d}\\mathbf{r} = 0$$"
   ]
  },
  {
   "cell_type": "markdown",
   "id": "b0cc922f-3647-44d2-80fc-e72b056452c4",
   "metadata": {},
   "source": [
    "Finally,  \n",
    "\n",
    "$$ \\int_C\\mathbf{F}\\cdot\\mathrm{d}\\mathbf{r} = 1$$"
   ]
  },
  {
   "cell_type": "markdown",
   "id": "97cb2016-9bfa-4466-ac6c-22067d7df67c",
   "metadata": {},
   "source": [
    "**d)**  $$ \\int_C\\mathbf{F}\\cdot\\mathrm{d}\\mathbf{r} = \\int_C y\\,\\mathrm{d}x$$"
   ]
  },
  {
   "cell_type": "markdown",
   "id": "fc99e9f9-46bc-40f0-b0b0-c8ac546197e2",
   "metadata": {},
   "source": [
    "$$ x'(t) = -2\\sin t \\quad\\therefore\\quad \\mathrm{d}x = -2\\sin t\\,\\mathrm{d}t$$"
   ]
  },
  {
   "cell_type": "markdown",
   "id": "16c22bdc-ba23-486b-8f1f-3ead0c42d0e6",
   "metadata": {},
   "source": [
    "Thus,  \n",
    "\n",
    "$$ \\int_C y \\,\\mathrm{d}x = -2\\int_0^{2\\pi}\\sin^2 t\\,\\mathrm{d}t = -2\\int_0^{2\\pi}\\,\\mathrm{d}t + 2\\int_0^{2\\pi}\\cos^2 t\\,\\mathrm{d}t$$"
   ]
  },
  {
   "cell_type": "markdown",
   "id": "2d1107c2-c9b7-479d-a40e-b54b18591ad8",
   "metadata": {},
   "source": [
    "$$ = -4\\pi + \\int_0^{2\\pi}\\big(\\cos2 t + 1\\big)\\,\\mathrm{d}t = \\int_0^{2\\pi}\\cos2t\\,\\mathrm{d}t - 2\\pi$$"
   ]
  },
  {
   "cell_type": "markdown",
   "id": "5f1783d3-87c7-461f-8cc0-072622db6523",
   "metadata": {},
   "source": [
    "$$ = \\left.0.5\\sin2t\\right]_{\\,0}^{\\,2\\pi} - 2\\pi = -2\\pi$$"
   ]
  },
  {
   "cell_type": "markdown",
   "id": "5e3753d4-14ed-4fb0-9455-d4529626cf05",
   "metadata": {},
   "source": [
    "To check our work, let's verify the following premise thereof:  \n",
    "\n",
    "$$ 2\\cos^2 t = \\cos2t + 1$$"
   ]
  },
  {
   "cell_type": "markdown",
   "id": "d5d47aed-f64b-4735-b1b2-02c8a51b3293",
   "metadata": {},
   "source": [
    "Differentiating throughout the above equation with respect to $t$ gives:  \n",
    "\n",
    "$$ -4\\cos t\\sin t = -2\\sin2t = -2\\sin 2 t$$"
   ]
  },
  {
   "cell_type": "markdown",
   "id": "71a9f402-55eb-46f2-b973-77073905e971",
   "metadata": {},
   "source": [
    "#### $\\S4\\mathrm{B} : 2$\n",
    "\n",
    "**a)**  Whereas the field is perpendicular to the curve therefore $$ \\int_C\\mathbf{F}\\cdot\\mathrm{d}\\mathbf{r} =0$$"
   ]
  },
  {
   "cell_type": "markdown",
   "id": "e0d0e188-2336-4463-bc48-3ec314e03f62",
   "metadata": {},
   "source": [
    "**b)**  The field opposes $C$ therefore the component of $\\mathbf{F}$ in the direction of $\\mathrm{d}\\mathbf{r}$ is equal to $a$, throughout $C$."
   ]
  },
  {
   "cell_type": "markdown",
   "id": "d4a87264-021b-446a-a37c-4fe0b3be3b82",
   "metadata": {},
   "source": [
    "$$ \\mathbf{F}\\cdot\\frac{\\mathrm{d}\\mathbf{r}}{|\\mathrm{d}\\mathbf{r}|} = -a \\quad\\quad\\text{where }\\,|\\mathbf{F}|=a \\quad\\therefore$$"
   ]
  },
  {
   "cell_type": "markdown",
   "id": "a0c0d9da-a4b1-4183-a3f4-5c44ec2d7670",
   "metadata": {},
   "source": [
    "$$ \\mathbf{F}\\cdot\\mathrm{d}\\mathbf{r} = -a|\\mathrm{d}\\mathbf{r}| \\quad\\quad\\text{where }\\,|\\mathbf{F}|=a$$"
   ]
  },
  {
   "cell_type": "markdown",
   "id": "aad99096-1410-4a1c-9c72-80ade7092d60",
   "metadata": {},
   "source": [
    "Note that the caveat of the above equation gives the circle that our path rests on.  Finally,  \n",
    "\n",
    "$$ \\int_C\\mathbf{F}\\cdot\\mathrm{d}\\mathbf{r} = -a\\int_C|\\mathrm{d}\\mathbf{r}| = -2\\pi a^2$$"
   ]
  },
  {
   "cell_type": "markdown",
   "id": "752c2250-8aba-4f0b-b0f4-5236433f62cb",
   "metadata": {},
   "source": [
    "#### $\\S 4\\mathrm{B} : 3$"
   ]
  },
  {
   "cell_type": "markdown",
   "id": "00063b18-6a18-4f60-aea0-9297c0f4f338",
   "metadata": {},
   "source": [
    "**a)**  Parallel to the field in the same direction."
   ]
  },
  {
   "cell_type": "markdown",
   "id": "9dcb6dd3-27a3-43cb-9c9a-bb993ca74d16",
   "metadata": {},
   "source": [
    "**b)**  Parallel to the field in the oppositive direction."
   ]
  },
  {
   "cell_type": "markdown",
   "id": "d26ebd93-3966-4120-be8a-3f8f0c829306",
   "metadata": {},
   "source": [
    "**c)**  Perpendicular to the field."
   ]
  },
  {
   "cell_type": "markdown",
   "id": "7315e547-bb90-4059-a91a-5cac9285cc74",
   "metadata": {},
   "source": [
    "**d)**  $ \\pm\\sqrt{2}$"
   ]
  },
  {
   "cell_type": "markdown",
   "id": "b983b44a-6319-44a8-8b58-0d6ea190827e",
   "metadata": {},
   "source": [
    "### Fundamental Theorem and Path Independence  \n",
    "\n",
    "Herein are some problems related with the Fundamental Theorem for Line Integrals and path independence."
   ]
  },
  {
   "cell_type": "markdown",
   "id": "fba42a46-2608-4ec0-82b7-bbd3a6301346",
   "metadata": {},
   "source": [
    "#### $\\S 4\\mathrm{C} : 1$  \n",
    "\n",
    "Let $f(x,y) = x^3y + y^3$ and $C$ be $y^2=x$, between $(1,-1)$ and $(1,1)$, directed upwards."
   ]
  },
  {
   "cell_type": "markdown",
   "id": "ab369487-9efb-46d5-a7e3-b52eaec8f754",
   "metadata": {},
   "source": [
    "**a)**  $$ \\mathbf{F} = \\nabla f = 3x^2y\\,\\mathbf{i} + \\big(x^3 + 3y^2\\big)\\,\\mathbf{j}$$"
   ]
  },
  {
   "cell_type": "markdown",
   "id": "30421e8d-f0cd-41b8-a3fc-ef6a12139154",
   "metadata": {},
   "source": [
    "**b)**  Calculate the line integral $\\displaystyle \\int_C\\mathbf{F}\\cdot\\mathrm{d}\\mathbf{r}$ three different ways."
   ]
  },
  {
   "cell_type": "markdown",
   "id": "3604d816-1a79-4b0c-a8a9-f544a9355c8c",
   "metadata": {},
   "source": [
    "*i)*  directly.  \n",
    "\n",
    "$$ \\int_C\\mathbf{F}\\cdot\\mathrm{d}\\mathbf{r} = \\int_C 3x^2y\\,\\mathrm{d}x + \\big(x^3+3y^2\\big)\\,\\mathrm{d}y$$"
   ]
  },
  {
   "cell_type": "markdown",
   "id": "3512a2c0-b34a-497e-902d-e6a05a808d82",
   "metadata": {},
   "source": [
    "$$ \\mathrm{d}x = 2y\\,\\mathrm{d}y$$"
   ]
  },
  {
   "cell_type": "markdown",
   "id": "3b26a404-f8f2-48b0-9e4f-7e20a1f88e12",
   "metadata": {},
   "source": [
    "Via the above two equations and substitution,  \n",
    "\n",
    "$$ \\int_C\\mathbf{F}\\cdot\\mathrm{d}\\mathbf{r} = \\int_{-1}^1 6y^6\\,\\mathrm{d}y + \\big(y^6 + 3y^2\\big)\\,\\mathrm{d}y$$"
   ]
  },
  {
   "cell_type": "markdown",
   "id": "d2f773c7-4f32-4bbc-a837-6e04bdb31575",
   "metadata": {},
   "source": [
    "$$ = \\int_{-1}^1\\big(7y^6 + 3y^2\\big)\\,\\mathrm{d}y = \\left.\\big(y^7 + y^3\\big)\\right]_{\\,-1}^{\\,1}$$"
   ]
  },
  {
   "cell_type": "markdown",
   "id": "f121baaa-1400-4934-b72d-e72c69cd2592",
   "metadata": {},
   "source": [
    "$$= 4$$"
   ]
  },
  {
   "cell_type": "markdown",
   "id": "b1d5b8d1-1188-4524-91db-712788d0bbc4",
   "metadata": {},
   "source": [
    "*ii)*  by using path-independence to replace $C$ with a simpler path."
   ]
  },
  {
   "cell_type": "markdown",
   "id": "9267e230-25a0-4487-b27a-8121a96d6736",
   "metadata": {},
   "source": [
    "Let $L$ be a directed line segment between the endpoints of $C$, directed upwards.  This line segment rests on $(1,y)$ where $ -1 < y < 1$."
   ]
  },
  {
   "cell_type": "markdown",
   "id": "2857daae-5a1d-4404-89b8-568b30e8ea1e",
   "metadata": {},
   "source": [
    "Via path independence,  \n",
    "\n",
    "$$ \\int_C\\mathbf{F}\\cdot\\mathrm{d}\\mathbf{r} = \\int_L\\mathbf{F}\\cdot\\mathrm{d}\\mathbf{r} = \\int_{-1}^1\\big(1+3y^2\\big)\\,\\mathrm{d}y$$"
   ]
  },
  {
   "cell_type": "markdown",
   "id": "15e7f75f-4f4e-40d8-9a87-b4878c6f6c30",
   "metadata": {},
   "source": [
    "$$ = \\left.\\big(1 + y^3\\big)\\right]_{\\,-1}^{\\,1} = 4$$"
   ]
  },
  {
   "cell_type": "markdown",
   "id": "9d8bc0db-5781-411e-beaf-466e0331ceaf",
   "metadata": {},
   "source": [
    "*iii)*  using the Fundamental Theorem for Line Integrals."
   ]
  },
  {
   "cell_type": "markdown",
   "id": "39764e14-aba6-4a7e-a598-2242ffbd61bd",
   "metadata": {},
   "source": [
    "$$ \\int_C\\mathbf{F}\\cdot\\mathrm{d}\\mathbf{r} = f(1,1) - f(1,-1) = 2 + 2 = 4$$"
   ]
  },
  {
   "cell_type": "markdown",
   "id": "3fa13257-0507-4476-8320-283bdfd74e26",
   "metadata": {},
   "source": [
    "#### $\\S 4\\mathrm{C} : 2$\n",
    "\n",
    "Let $f(x,y)=xe^{xy}$ and $C$ be the path on $y=1/x$ from $(1,1)$ to $(0,\\infty)$."
   ]
  },
  {
   "cell_type": "markdown",
   "id": "81838514-0039-48da-bff8-39904441a8e0",
   "metadata": {},
   "source": [
    "**a)**  $$ \\mathbf{F} = \\nabla f = \\big(e^{xy} + xye^{xy}\\big)\\,\\mathbf{i} + x^2e^{xy}\\,\\mathbf{j}$$"
   ]
  },
  {
   "cell_type": "markdown",
   "id": "0d6618c6-6adc-4d0b-a2cf-52e8e8e4f896",
   "metadata": {},
   "source": [
    "**b)**  Calculate the integral $\\displaystyle \\int_C\\mathbf{F}\\cdot\\mathrm{d}\\mathbf{r}$:  \n",
    "\n",
    "*i)* directly."
   ]
  },
  {
   "cell_type": "markdown",
   "id": "fb7ab5d1-72b6-40fa-8e52-f4b6e923a44d",
   "metadata": {},
   "source": [
    "$$ \\int_C\\mathbf{F}\\cdot\\mathrm{d}\\mathbf{r} = \\int_C\\big(e^{xy}+ xye^{xy}\\big)\\,\\mathrm{d}x + x^2e^{xy}\\,\\mathrm{d}y$$"
   ]
  },
  {
   "cell_type": "markdown",
   "id": "a2c54bf2-574c-483f-b313-4505156527f5",
   "metadata": {},
   "source": [
    "$$ \\mathrm{d}y = - \\frac{\\mathrm{d}x}{x^2}$$"
   ]
  },
  {
   "cell_type": "markdown",
   "id": "95cfcb9c-f262-402a-9f88-845b250a4bfa",
   "metadata": {},
   "source": [
    "Thus,  \n",
    "\n",
    "$$ \\int_C\\mathbf{F}\\cdot\\mathrm{d}\\mathbf{r} = \\int_1^0 2e\\,\\mathrm{d}x - e\\,\\mathrm{d}x = \\int_1^0 e\\,\\mathrm{d}x$$"
   ]
  },
  {
   "cell_type": "markdown",
   "id": "402b7930-8e06-4722-8ab3-89579b715f49",
   "metadata": {},
   "source": [
    "$$ = -e$$"
   ]
  },
  {
   "cell_type": "markdown",
   "id": "8e879f8c-07fb-486a-b63a-f633a017235e",
   "metadata": {},
   "source": [
    "*ii)*  Via the Fundamental Theorem for line integrals,  \n",
    "\n",
    "$$ \\int_C\\mathbf{F}\\cdot\\mathrm{d}\\mathbf{r} = f(0,\\infty) - f(1,1) = 0 - e = -e$$"
   ]
  }
 ],
 "metadata": {
  "kernelspec": {
   "display_name": "Python 3 (ipykernel)",
   "language": "python",
   "name": "python3"
  },
  "language_info": {
   "codemirror_mode": {
    "name": "ipython",
    "version": 3
   },
   "file_extension": ".py",
   "mimetype": "text/x-python",
   "name": "python",
   "nbconvert_exporter": "python",
   "pygments_lexer": "ipython3",
   "version": "3.10.12"
  }
 },
 "nbformat": 4,
 "nbformat_minor": 5
}
