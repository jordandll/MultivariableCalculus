{
 "cells": [
  {
   "cell_type": "markdown",
   "id": "51f2a283-6947-45b0-a007-d780f19b47de",
   "metadata": {},
   "source": [
    "## Problems: Two Dimensional Curl\n",
    "\n",
    "Imagine a flat arrangement of particles covering the plane. Suppose all the particles are\n",
    "moving in counterclockwise circles about the origin with constant angular speed $\\omega$.  \n",
    "\n",
    "Let $\\mathbf{F}(x, y)$ be the velocity field described by the velocity of the particles at point $(x, y)$.  \n",
    "\n",
    "Find $\\mathbf{F}$ and show that $\\mathrm{curl}(\\mathbf{F}) = 2\\omega$."
   ]
  },
  {
   "cell_type": "markdown",
   "id": "f0d8e033-6c0b-48e9-a3fd-8ccbfa689f84",
   "metadata": {},
   "source": [
    "Each particle maintains a constant distance of $r$ from the origin throughout it's journey.  Let $\\mathbf{r}$ be the position vector that tracks any particle on the plane.  \n",
    "\n",
    "$$ \\mathbf{r} := \\mathbf{r}(t) = r\\big\\langle\\cos(\\omega t + \\varphi), \\sin(\\omega t + \\varphi)\\big\\rangle$$"
   ]
  },
  {
   "cell_type": "markdown",
   "id": "7dadde75-7a4d-4c16-b183-5eca4f9cda43",
   "metadata": {},
   "source": [
    "Where $\\varphi$ is the initial angle of the position vector.  Note that:  \n",
    "\n",
    "$$ \\mathbf{r}(t) = \\langle x(t), y(t)\\rangle = \\langle x,y\\rangle$$"
   ]
  },
  {
   "cell_type": "markdown",
   "id": "d285a25b-3f79-413d-9376-c286e9410c11",
   "metadata": {},
   "source": [
    "The velocity and speed of a particle tracked by $\\mathbf{r}$ are given by:  \n",
    "\n",
    "$$ \\mathbf{r}'(t)= \\omega r\\big\\langle -\\sin(\\omega t+\\varphi),\\cos(\\omega t + \\varphi)\\big\\rangle \\quad\\quad\\text{and}\\quad\\quad |\\mathbf{r}'(t)| = \\omega r$$"
   ]
  },
  {
   "cell_type": "markdown",
   "id": "c1361e38-42ff-4791-830c-7546ea26dbab",
   "metadata": {},
   "source": [
    "$$ \\mathbf{r}'(t) := \\mathbf{v}(t) := \\mathbf{v} = \\omega r\\langle -y,x\\rangle$$"
   ]
  },
  {
   "cell_type": "markdown",
   "id": "21593b06-de63-4da8-b9fd-3ee24b80b19c",
   "metadata": {},
   "source": [
    "The velocity field, which is equal to the speed (magnitude of the velocity) times the direction of velocity at $(x,y)$ is thus,  \n",
    "\n",
    "$$ \\mathbf{F} = \\omega r \\cdot \\mathrm{dir}(\\mathbf{v}) = \\omega r \\cdot \\frac{\\langle-y,x\\rangle}{\\sqrt{x^2+y^2}} = \\omega \\langle -y,x\\rangle$$"
   ]
  },
  {
   "cell_type": "markdown",
   "id": "7701c5ba-d2e4-4c32-8a54-2d89813dc436",
   "metadata": {},
   "source": [
    "And,  \n",
    "\n",
    "$$ \\mathrm{curl}(\\mathbf{F}) = \\omega(1 + 1) = 2\\omega$$"
   ]
  }
 ],
 "metadata": {
  "kernelspec": {
   "display_name": "Python 3 (ipykernel)",
   "language": "python",
   "name": "python3"
  },
  "language_info": {
   "codemirror_mode": {
    "name": "ipython",
    "version": 3
   },
   "file_extension": ".py",
   "mimetype": "text/x-python",
   "name": "python",
   "nbconvert_exporter": "python",
   "pygments_lexer": "ipython3",
   "version": "3.10.12"
  }
 },
 "nbformat": 4,
 "nbformat_minor": 5
}
