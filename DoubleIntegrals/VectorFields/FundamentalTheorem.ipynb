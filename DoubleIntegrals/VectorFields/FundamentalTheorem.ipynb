{
 "cells": [
  {
   "cell_type": "markdown",
   "id": "696fa104-d4e5-4d1c-9716-f419fb6b5e0b",
   "metadata": {},
   "source": [
    "# Fundamental Theorem \n",
    "## for Line Integrals"
   ]
  },
  {
   "cell_type": "markdown",
   "id": "e1ef42a1-003d-4352-a4cc-e6035c98d697",
   "metadata": {},
   "source": [
    "### Gradient Fields and Potential Functions\n",
    "\n",
    "Earlier we learned about the gradient of a scalar valued function.  \n",
    "\n",
    "$$ \\nabla f(x,y) = \\langle f_x, f_y\\rangle$$"
   ]
  },
  {
   "cell_type": "markdown",
   "id": "45eea1dd-f811-410a-8c5e-b2c7514005fc",
   "metadata": {},
   "source": [
    "For example, $\\nabla x^3y^4 = \\langle 3x^2y^4, 4x^3y^3\\rangle$.  \n",
    "\n",
    "Now that we know about vector fields, we recognize as a special case.  We will call it a *gradient field*.  The function $f$ will be called a *potential function* for the field.  \n",
    "\n",
    "For gradient fields, we get the following theorem, which you should recognize as being similar to the fundamental theorem of calculus."
   ]
  },
  {
   "cell_type": "markdown",
   "id": "d27ef380-78ff-49a4-8c5f-cd171f4e5a00",
   "metadata": {},
   "source": [
    "### Theorem  \n",
    "\n",
    "(Fundamental Theorem for Line Integrals)   \n",
    "\n",
    "If $\\mathbf{F} = \\nabla f$ is a gradient field and $C$ is *any* (open) curve with endpoints $P_0 = (x_0,y_0)$ and $P_1=(x_1,y_1)$  \n",
    "\n",
    "$$ \\int_C\\mathbf{F}\\cdot\\mathrm{d}\\mathbf{r} = f(x,y)\\Big|_{\\,P_0}^{\\,P_1} = f(x_1,y_1) - f(x_0,y_0)$$"
   ]
  },
  {
   "cell_type": "markdown",
   "id": "04e640b4-7ae5-4997-b8fc-79c030fb5029",
   "metadata": {
    "jupyter": {
     "source_hidden": true
    }
   },
   "source": [
    "![fundamental-theorem](Fundamental.png)"
   ]
  },
  {
   "cell_type": "markdown",
   "id": "0e9bdf19-8506-4436-8368-ccababe539f0",
   "metadata": {},
   "source": [
    "#### Example 1  \n",
    "\n",
    "Let $f(x,y) = xy^3 + x^2 \\quad\\implies\\quad \\mathbf{F} = \\nabla f = \\langle y^3+2x, 3xy^2\\rangle$.  \n",
    "\n",
    "And let $C$ be the curve shown.  Compute $\\displaystyle I = \\int_C\\mathbf{F}\\cdot\\mathrm{d}\\mathbf{r}$.  \n",
    "\n",
    "Do this both directly (as in the previous session/topic) and using the above formula."
   ]
  },
  {
   "cell_type": "markdown",
   "id": "89b1e197-52d8-4a1f-954e-ed24e410e719",
   "metadata": {},
   "source": [
    "$$ P_0 = (x_0,y_0) = (0,0) \\quad\\quad\\text{and}\\quad\\quad P_1 = (x_1,y_1) = (1,2)$$"
   ]
  },
  {
   "cell_type": "markdown",
   "id": "d98c8524-f39a-4c23-8fb9-a8e27bee9055",
   "metadata": {},
   "source": [
    "Method 1:  \n",
    "\n",
    "The curve $C$ is given by:  \n",
    "\n",
    "$$ C:\\quad \\big(x,g(x)\\big)\\quad\\quad\\text{where }\\,y:=g(x) = 2x$$"
   ]
  },
  {
   "cell_type": "markdown",
   "id": "2c1006c3-692c-4218-9193-4dce2065ed73",
   "metadata": {},
   "source": [
    "$$ I = \\int_C \\big(y^3+2x\\big)\\,\\mathrm{d}x + 3xy^2\\,\\mathrm{d}y$$"
   ]
  },
  {
   "cell_type": "markdown",
   "id": "02c3d6ca-29f7-44ff-abcf-8ff07afb3808",
   "metadata": {},
   "source": [
    "$$ = \\int_C \\big(8x^3 + 2x\\big)\\,\\mathrm{d}x + 24x^3\\,\\mathrm{d}x$$"
   ]
  },
  {
   "cell_type": "markdown",
   "id": "70613f7e-9e45-44cd-8575-882d30586f3f",
   "metadata": {},
   "source": [
    "$$ = \\int_0^1\\big(32x^3+2x\\big)\\,\\mathrm{d}x$$"
   ]
  },
  {
   "cell_type": "markdown",
   "id": "ab3db7ff-7d17-44e7-b197-e994271a4d61",
   "metadata": {},
   "source": [
    "$$ = 8 + 1 = 9$$"
   ]
  },
  {
   "cell_type": "markdown",
   "id": "cd7d2bcf-8e9b-4db0-bda9-a2e1f1068a71",
   "metadata": {},
   "source": [
    "Method 2:  \n",
    "\n",
    "Via the fundamental [theorem](#Theorem) of line integrals,  \n",
    "\n",
    "$$ I = \\int_C\\nabla f\\cdot\\mathrm{d}\\mathbf{r} = f(1,2) - f(0,0) = f(1,2) = 1 + 8 = 9$$"
   ]
  },
  {
   "cell_type": "markdown",
   "id": "de7d1907-01dd-47e0-91a6-d00a59a59f8b",
   "metadata": {},
   "source": [
    "## Problems"
   ]
  },
  {
   "cell_type": "code",
   "execution_count": 1,
   "id": "5cfa0dce-8f08-4d43-b83d-b8aad213b615",
   "metadata": {},
   "outputs": [],
   "source": [
    "import numpy as np\n",
    "import matplotlib.pyplot as plt\n",
    "import matplotlib as mpl"
   ]
  },
  {
   "cell_type": "markdown",
   "id": "15d51ab0-89a5-486f-b68f-d03f9d22f28c",
   "metadata": {},
   "source": [
    "### Problem 1  \n",
    "\n",
    "Let $f := f(x,y) = xy + e^x$.  "
   ]
  },
  {
   "cell_type": "markdown",
   "id": "d288e74f-5a42-4a00-8264-55ad6d3abff1",
   "metadata": {},
   "source": [
    "**a)**  Compute $\\mathbf{F} = \\nabla f$."
   ]
  },
  {
   "cell_type": "markdown",
   "id": "0500c2e9-b706-4957-9411-699e7907c650",
   "metadata": {},
   "source": [
    "$$ \\mathbf{F} = \\langle y+e^x, x\\rangle$$"
   ]
  },
  {
   "cell_type": "markdown",
   "id": "be0d4f4d-d80d-4887-94fd-26ff51411c2f",
   "metadata": {},
   "source": [
    "**b)**  Compute $\\displaystyle \\int_C\\mathbf{F}\\cdot\\mathrm{d}\\mathbf{r}$ for each of the following paths from $(0,0)$ to $(2,1)$."
   ]
  },
  {
   "cell_type": "markdown",
   "id": "f30f96d3-1eef-493d-8621-41aaed197cd8",
   "metadata": {},
   "source": [
    "$$ \\int_C\\mathbf{F}\\cdot\\mathrm{d}\\mathbf{r} = \\int_C\\big(y+e^x\\big)\\,\\mathrm{d}x + x\\,\\mathrm{d}y$$"
   ]
  },
  {
   "cell_type": "markdown",
   "id": "50ed8640-7e88-4c28-8603-97186cd7d77e",
   "metadata": {},
   "source": [
    "**i)**  The path consisting of a horizontal segment following by a vertical segment."
   ]
  },
  {
   "cell_type": "markdown",
   "id": "56a3d41c-828b-4fda-a0da-ac4a6ffd8ba4",
   "metadata": {},
   "source": [
    "$$ \\int_C\\mathbf{F}\\cdot\\mathrm{d}\\mathbf{r} = \\int_{C_1}\\mathbf{F}\\cdot\\mathrm{d}\\mathbf{r} + \\int_{C_2}\\mathbf{F}\\cdot\\mathrm{d}\\mathbf{r}$$"
   ]
  },
  {
   "cell_type": "markdown",
   "id": "729b0db2-b18a-43ef-8ce7-18304bf0e25a",
   "metadata": {},
   "source": [
    "The first segment $C_1$ is given by:  \n",
    "\n",
    "$$ C_1:\\quad (x,0)\\quad\\text{for }\\, 0\\le x\\le 2$$\n",
    "$$ $$\n",
    "$$ \\int_{C_1}\\mathbf{F}\\cdot\\mathrm{d}\\mathbf{r} = \\int_0^2\\big(y+e^x\\big)\\,\\mathrm{d}x = \\int_0^2e^x\\,\\mathrm{d}x = e^2 - 1$$"
   ]
  },
  {
   "cell_type": "markdown",
   "id": "c74fec7e-7d66-4c5e-a0d0-30ae76000262",
   "metadata": {},
   "source": [
    "And, the second segment $C_2$ is given by:  \n",
    "\n",
    "$$ C_2:\\quad (2,y) \\quad\\text{for }\\, 0\\le y \\le 1$$"
   ]
  },
  {
   "cell_type": "markdown",
   "id": "89478880-c958-468d-a0b1-03fe5b6e7a93",
   "metadata": {},
   "source": [
    "$$ \\int_{C_2}\\mathbf{F}\\cdot\\mathrm{d}\\mathbf{r} = \\int_0^1x\\,\\mathrm{d}y = \\int_0^1 2\\,\\mathrm{d}y = 2$$"
   ]
  },
  {
   "cell_type": "markdown",
   "id": "3a05c981-bb9a-4560-9aca-101a9137e0ad",
   "metadata": {},
   "source": [
    "Finally,  \n",
    "\n",
    "$$ \\int_C\\mathbf{F}\\cdot\\mathrm{d}\\mathbf{r} = 2+e^2-1 = 1+e^2$$"
   ]
  },
  {
   "cell_type": "markdown",
   "id": "99585fbd-7154-4def-b6ba-2435be2b8b0b",
   "metadata": {},
   "source": [
    "**ii)**  The path consisting of a vertical segment followed by a horizontal segment."
   ]
  },
  {
   "cell_type": "markdown",
   "id": "6226a55a-f231-405a-ba13-299f7aa937cd",
   "metadata": {},
   "source": [
    "The solution to this is same as the above via commutation with respect to addition."
   ]
  },
  {
   "cell_type": "markdown",
   "id": "1132da94-e052-4e78-b97b-c243d6f84f0c",
   "metadata": {},
   "source": [
    "**iii)** The straight line from $(0,0)$ to $(2,1)$."
   ]
  },
  {
   "cell_type": "markdown",
   "id": "1da71a34-95b4-48c2-be40-83a7f3eeb1ea",
   "metadata": {},
   "source": [
    "The line segment $C$ is given by:  \n",
    "\n",
    "$$ C:\\quad (x,0.5x) \\quad\\text{for }\\, 0\\le x\\le 2$$"
   ]
  },
  {
   "cell_type": "markdown",
   "id": "e108bb39-dd36-41b0-adeb-c4ea3544f4a5",
   "metadata": {},
   "source": [
    "$$ \\int_C\\mathbf{F}\\cdot\\mathrm{d}\\mathbf{r} = \\int_C\\big(0.5x^2+e^x\\big)\\,\\mathrm{d}x + 0.5x\\,\\mathrm{d}x$$"
   ]
  },
  {
   "attachments": {},
   "cell_type": "markdown",
   "id": "fcf7f336-6250-4809-b23e-d0205e9698cc",
   "metadata": {},
   "source": [
    "$$ = \\int_0^2\\big(0.5x+ 0.5x + e^x\\big)\\,\\mathrm{d}x = \\left.\\big(0.5x^2 + e^x\\big)\\right]_{\\,0}^{\\,2}$$"
   ]
  },
  {
   "cell_type": "markdown",
   "id": "c88ebabf-129f-4efb-8ef6-75723401066d",
   "metadata": {},
   "source": [
    "$$ = 2 + e^2 - 1 = 1+e^2$$"
   ]
  },
  {
   "cell_type": "markdown",
   "id": "fce5ea0c-7b05-4ae4-9eda-6177d09d33f9",
   "metadata": {},
   "source": [
    "**c)**  The field $\\mathbf{F}$ is path independent since it's potential $f$ exists.  In other words, $\\mathbf{F}$ is a conservative field.  Via the fundamental theorem of line integrals,  \n",
    "\n",
    "$$ \\int_C\\mathbf{F}\\cdot\\mathrm{d}\\mathbf{r} = f(2,1)-f(0,0) = 2 + e^2-1 = 1+e^2 \\approxeq$$"
   ]
  },
  {
   "cell_type": "code",
   "execution_count": 2,
   "id": "4b280e10-2a76-4347-bc9a-c98c1cab0f2b",
   "metadata": {},
   "outputs": [
    {
     "data": {
      "text/plain": [
       "8.389056098930649"
      ]
     },
     "execution_count": 2,
     "metadata": {},
     "output_type": "execute_result"
    }
   ],
   "source": [
    "1+np.e**2"
   ]
  }
 ],
 "metadata": {
  "kernelspec": {
   "display_name": "Python 3 (ipykernel)",
   "language": "python",
   "name": "python3"
  },
  "language_info": {
   "codemirror_mode": {
    "name": "ipython",
    "version": 3
   },
   "file_extension": ".py",
   "mimetype": "text/x-python",
   "name": "python",
   "nbconvert_exporter": "python",
   "pygments_lexer": "ipython3",
   "version": "3.10.12"
  }
 },
 "nbformat": 4,
 "nbformat_minor": 5
}
