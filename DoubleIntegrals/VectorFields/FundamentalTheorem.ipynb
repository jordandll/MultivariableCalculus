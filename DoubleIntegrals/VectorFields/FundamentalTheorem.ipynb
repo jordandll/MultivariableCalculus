{
 "cells": [
  {
   "cell_type": "markdown",
   "id": "696fa104-d4e5-4d1c-9716-f419fb6b5e0b",
   "metadata": {},
   "source": [
    "# Fundamental Theorem \n",
    "## for Line Integrals"
   ]
  },
  {
   "cell_type": "markdown",
   "id": "1df4ce4d-31cb-42ff-aa11-b14ed55b97e1",
   "metadata": {},
   "source": [
    "### Gradient Fields and Potential Functions\n",
    "Earlier we learned about the gradient of a scalar valued function  \n",
    "\n",
    "$$ \\nabla f = \\langle f_x,f_y\\rangle$$"
   ]
  },
  {
   "attachments": {},
   "cell_type": "markdown",
   "id": "b8cabb4c-07ab-4980-b786-5dedbab4d732",
   "metadata": {},
   "source": [
    "Now that we know about vector fields, we recognize this as a special case. We will call it a\n",
    "gradient field. The function f will be called a potential function for the field.\n",
    "\n",
    "The following is my own contribution:  It is a foundational principle of our terminology that a (plane vector) field $\\mathbf{F}$ is a *gradient* field if and only if there exists a (plane scalar) function $f$ (also known as the *potential* of $\\mathbf{F}$) such that $\\mathbf{F} = \\nabla f$.  \n",
    "\n",
    "For gradient fields we get the following theorem, which you should recognize as being similar\n",
    "to the fundamental theorem of calculus."
   ]
  },
  {
   "cell_type": "markdown",
   "id": "2a83e76b-6836-4568-9833-900838f16857",
   "metadata": {},
   "source": [
    "#### Theorem \n",
    "(Fundamental Theorem for Line Integrals)  \n",
    "\n",
    "If $\\mathbf{F}=\\nabla f$, $C$ is *any* curve or path with endpoints $P_0=(x_0,y_0)$ and $P_1=(x_1,y_1)$, and $\\mathbf{r}$ is the position vector that tracks said curve then  \n",
    "\n",
    "$$ \\int_C\\mathbf{F}\\cdot\\mathrm{d}\\mathbf{r} = f(P_1) - f(P_0)$$"
   ]
  },
  {
   "cell_type": "markdown",
   "id": "f77d4fd9-9bcd-4c6d-af48-65260a2dbe9a",
   "metadata": {},
   "source": [
    "Whereas $\\mathbf{F}=\\nabla f$ implies the above equation and $f(P_1) - f(P_0)$ implies path-independence therefore, for gradient fields, the line integral is path independent;  I.e. it only depends on the endpoints of $C$.  Now, what about the converse?  In other words, is path independence exclusive to gradient fields?"
   ]
  },
  {
   "cell_type": "markdown",
   "id": "78adae5a-d411-4335-95f6-ebf337f29f08",
   "metadata": {},
   "source": [
    "#### Proof\n",
    "\n",
    "Let $\\mathbf{F}:=\\langle M,N\\rangle$ where $M:=M(x,y)$ and $N:=N(x,y)$ are function of $x$ and $y$.\n",
    "\n",
    "$$ \\int_C\\mathbf{F}\\cdot\\mathrm{d}\\mathbf{r} = \\int_C M\\,\\mathrm{d}x + N\\,\\mathrm{d}y$$"
   ]
  },
  {
   "cell_type": "markdown",
   "id": "81ddcbde-03e8-4ba7-9ff7-05d419ae93fc",
   "metadata": {},
   "source": [
    "Via the assumption that $\\mathbf{F}$ is a gradient field whose potential is $f:=f(x,y)$ and the above equation,  \n",
    "\n",
    "$$ \\int_C\\mathbf{F}\\cdot\\mathrm{d}\\mathbf{r} = \\int_C f_x\\,\\mathrm{d}x + f_y\\,\\mathrm{d}y = \\int_{t_0}^{t_1}\\left(f_x\\big(x(t),y(t)\\big)\\,\\frac{\\mathrm{d}x}{\\mathrm{d}t} + f_y\\big(x(t),y(t)\\big)\\,\\frac{\\mathrm{d}y}{\\mathrm{d}t}\\right)\\,\\mathrm{d}t$$"
   ]
  },
  {
   "cell_type": "markdown",
   "id": "356a484b-be88-453e-8dbb-bb739cfef6c0",
   "metadata": {},
   "source": [
    "$$ = \\int_{t_0}^{t_1}\\frac{\\mathrm{d}f\\big(x(t),y(t)\\big)}{\\mathrm{d}t}\\,\\mathrm{d}t = \\int_{t_0}^{t_1}f'(t)\\,\\mathrm{d}t = \\int_{t_0}^{t_1}\\mathrm{d}f(t)$$"
   ]
  },
  {
   "cell_type": "markdown",
   "id": "7011d5df-9c10-424f-968a-4007291aa8aa",
   "metadata": {},
   "source": [
    "$$ f(t)]_{\\,t_0}^{\\,t_1} = f(t_1) - f(t_0) = f(P_1) - f(P_0)$$"
   ]
  },
  {
   "cell_type": "markdown",
   "id": "969c4c4e-67be-484c-9e61-0c721eadc212",
   "metadata": {},
   "source": [
    "Q.E.D.  Note that the third equality of the above equation follows from the chain rule.  To ellaborate, the total derivative of $f$ is given by:  \n",
    "\n",
    "$$ \\mathrm{d}f = f_x\\,\\mathrm{d}x + f_y\\,\\mathrm{d}y$$"
   ]
  },
  {
   "cell_type": "markdown",
   "id": "8d4e25ea-1599-4d60-9200-4f7429d88d65",
   "metadata": {},
   "source": [
    "In other words, $\\mathrm{d}f$ is the integrand of our line integral.  Now, dividing throughout the above equation by $\\mathrm{d}t$ gives:  \n",
    "\n",
    "$$ \\frac{\\mathrm{d}f}{\\mathrm{d}t} = f_x\\,\\frac{\\mathrm{d}x}{\\mathrm{d}t} + f_y\\,\\frac{\\mathrm{d}y}{\\mathrm{d}t}$$"
   ]
  },
  {
   "cell_type": "markdown",
   "id": "6f7cb57d-763f-4401-b0f9-b747f2720a74",
   "metadata": {},
   "source": [
    "Now, assume that $f:=f(x,y)$ is constrained by:  \n",
    "\n",
    "$$ \\mathbf{r} := \\mathbf{r}(t) = \\langle x(t),y(t)\\rangle$$"
   ]
  },
  {
   "cell_type": "markdown",
   "id": "eeb4127d-7bc6-427d-8ff5-49099b1cc9ca",
   "metadata": {},
   "source": [
    "$$ x:=x(t)\\quad\\quad\\text{and}\\quad\\quad y:=y(t)$$"
   ]
  },
  {
   "cell_type": "markdown",
   "id": "269c34c3-7d33-4a85-a92f-c0e7191f6cd8",
   "metadata": {},
   "source": [
    "Via the above and function composition,  \n",
    "\n",
    "$$ f = f(t) = f\\big(x(t),y(t)\\big) = f(*\\mathbf{r})$$"
   ]
  },
  {
   "cell_type": "markdown",
   "id": "1b20f38b-1414-44e4-8967-4a18ef9913b4",
   "metadata": {},
   "source": [
    "And, via the chain rule,  \n",
    "\n",
    "$$ f'(t) = f_x(t)x'(t) + f_y(t)y'(t)$$"
   ]
  },
  {
   "cell_type": "markdown",
   "id": "6eeb896d-d816-4c5c-93b0-3558cd77fc07",
   "metadata": {},
   "source": [
    "Which is the same equation that was obtained by dividing throughout the identity of $\\mathrm{d}f$ by $\\mathrm{d}t$."
   ]
  },
  {
   "cell_type": "markdown",
   "id": "f0e24ead-16df-4167-98fc-6b7a8fa75efa",
   "metadata": {},
   "source": [
    "Note that:  \n",
    "\n",
    "$$ f_x(t) = f_x\\big(x(t),y(t)\\big)\\quad\\quad\\text{and}\\quad\\quad f_y(t) = f_y\\big(x(t),y(t)\\big)$$"
   ]
  },
  {
   "cell_type": "markdown",
   "id": "df97d364-0bfe-4816-9dcd-05f717847807",
   "metadata": {},
   "source": [
    "#### Significance of the Fundamental Theorem\n",
    "For gradient fields $\\mathbf{F}$ the work integral $\\displaystyle \\int_C\\mathbf{F}\\cdot\\mathrm{d}\\mathbf{r}$ depends only on the endpoints of the path $C$.\n",
    "We call such a line integral *path independent*.  \n",
    "\n",
    "The special case of this for closed curves $C$ gives the following theorem:    \n",
    "\n",
    "$$ \\mathbf{F} = \\nabla f \\quad\\implies\\quad \\oint_C \\mathbf{F}\\cdot\\mathrm{d}\\mathbf{r} = 0$$"
   ]
  },
  {
   "cell_type": "markdown",
   "id": "e87f1009-2398-4441-a59d-6884f1ae37ee",
   "metadata": {},
   "source": [
    "The following is my own contribution:  It is a foundational principle of our terminology that a field $\\mathbf{F}$ is *consevative* if and only if $\\displaystyle\\oint_C \\mathbf{F}\\cdot\\mathrm{d}\\mathbf{r}=0$ for any closed path or loop $C$.  The above formalizes the notion that gradient fields are conservative.  The proof for this is so straight forward that I won't get into it;  But, what about the converse?  Are conservative fields gradient fields?  We'll hopefully answer that later."
   ]
  },
  {
   "cell_type": "markdown",
   "id": "2a149b1e-e4cf-416b-abf1-6ff728caedd0",
   "metadata": {},
   "source": [
    "Following physics, where a conservative force does no work around a closed loop, we say\n",
    "$\\mathbf{F} = \\nabla f$ is a *conservative* field."
   ]
  },
  {
   "cell_type": "markdown",
   "id": "03d66246-c0f0-428a-8eea-bcfbde03a6ee",
   "metadata": {},
   "source": [
    "Here is another **theorem** that relates path independence with consevative fields :  $\\displaystyle \\int_C\\mathbf{F}\\cdot\\mathrm{d}\\mathbf{r}$, where $C$ is any path, is path independent if and only if $\\mathbf{F}$ is conservative."
   ]
  },
  {
   "cell_type": "markdown",
   "id": "e9ae42c6-f1ed-4002-b73b-8bc5880bd263",
   "metadata": {},
   "source": [
    "The **proof**:  \n",
    "\n",
    "First we prove that the aforementioned line integral being path independent implies that $\\mathbf{F}$ is conservative.  To do this, we assume that the path independence of said line integral implies that $\\mathbf{F}$ is a gradient field.  Via this assumption, the Fundamental Theorem for line integrals, and the law of distributed middle, path independence implies that:  \n",
    "\n",
    "$$ \\oint_L\\mathbf{F}\\cdot\\mathrm{d}\\mathbf{r_l} = f(P_1) - f(P_0) = f(P_0)-f(P_0) = 0$$"
   ]
  },
  {
   "cell_type": "markdown",
   "id": "e1ef42a1-003d-4352-a4cc-e6035c98d697",
   "metadata": {},
   "source": [
    "### Gradient Fields and Potential Functions\n",
    "\n",
    "Earlier we learned about the gradient of a scalar valued function.  \n",
    "\n",
    "$$ \\nabla f(x,y) = \\langle f_x, f_y\\rangle$$"
   ]
  },
  {
   "cell_type": "markdown",
   "id": "45eea1dd-f811-410a-8c5e-b2c7514005fc",
   "metadata": {},
   "source": [
    "For example, $\\nabla x^3y^4 = \\langle 3x^2y^4, 4x^3y^3\\rangle$.  \n",
    "\n",
    "Now that we know about vector fields, we recognize as a special case.  We will call it a *gradient field*.  The function $f$ will be called a *potential function* for the field.  \n",
    "\n",
    "For gradient fields, we get the following theorem, which you should recognize as being similar to the fundamental theorem of calculus."
   ]
  },
  {
   "cell_type": "markdown",
   "id": "d27ef380-78ff-49a4-8c5f-cd171f4e5a00",
   "metadata": {},
   "source": [
    "### Theorem  \n",
    "\n",
    "(Fundamental Theorem for Line Integrals)   \n",
    "\n",
    "If $\\mathbf{F} = \\nabla f$ is a gradient field and $C$ is *any* (open) curve with endpoints $P_0 = (x_0,y_0)$ and $P_1=(x_1,y_1)$  \n",
    "\n",
    "$$ \\int_C\\mathbf{F}\\cdot\\mathrm{d}\\mathbf{r} = f(x,y)\\Big|_{\\,P_0}^{\\,P_1} = f(x_1,y_1) - f(x_0,y_0)$$"
   ]
  },
  {
   "cell_type": "markdown",
   "id": "04e640b4-7ae5-4997-b8fc-79c030fb5029",
   "metadata": {
    "jupyter": {
     "source_hidden": true
    }
   },
   "source": [
    "![fundamental-theorem](Fundamental.png)"
   ]
  },
  {
   "cell_type": "markdown",
   "id": "0e9bdf19-8506-4436-8368-ccababe539f0",
   "metadata": {},
   "source": [
    "#### Example 1  \n",
    "\n",
    "Let $f(x,y) = xy^3 + x^2 \\quad\\implies\\quad \\mathbf{F} = \\nabla f = \\langle y^3+2x, 3xy^2\\rangle$.  \n",
    "\n",
    "And let $C$ be the curve shown.  Compute $\\displaystyle I = \\int_C\\mathbf{F}\\cdot\\mathrm{d}\\mathbf{r}$.  \n",
    "\n",
    "Do this both directly (as in the previous session/topic) and using the above formula."
   ]
  },
  {
   "cell_type": "markdown",
   "id": "89b1e197-52d8-4a1f-954e-ed24e410e719",
   "metadata": {},
   "source": [
    "$$ P_0 = (x_0,y_0) = (0,0) \\quad\\quad\\text{and}\\quad\\quad P_1 = (x_1,y_1) = (1,2)$$"
   ]
  },
  {
   "cell_type": "markdown",
   "id": "d98c8524-f39a-4c23-8fb9-a8e27bee9055",
   "metadata": {},
   "source": [
    "Method 1:  \n",
    "\n",
    "The curve $C$ is given by:  \n",
    "\n",
    "$$ C:\\quad \\big(x,g(x)\\big)\\quad\\quad\\text{where }\\,y:=g(x) = 2x$$"
   ]
  },
  {
   "cell_type": "markdown",
   "id": "2c1006c3-692c-4218-9193-4dce2065ed73",
   "metadata": {},
   "source": [
    "$$ I = \\int_C \\big(y^3+2x\\big)\\,\\mathrm{d}x + 3xy^2\\,\\mathrm{d}y$$"
   ]
  },
  {
   "cell_type": "markdown",
   "id": "02c3d6ca-29f7-44ff-abcf-8ff07afb3808",
   "metadata": {},
   "source": [
    "$$ = \\int_C \\big(8x^3 + 2x\\big)\\,\\mathrm{d}x + 24x^3\\,\\mathrm{d}x$$"
   ]
  },
  {
   "cell_type": "markdown",
   "id": "70613f7e-9e45-44cd-8575-882d30586f3f",
   "metadata": {},
   "source": [
    "$$ = \\int_0^1\\big(32x^3+2x\\big)\\,\\mathrm{d}x$$"
   ]
  },
  {
   "cell_type": "markdown",
   "id": "ab3db7ff-7d17-44e7-b197-e994271a4d61",
   "metadata": {},
   "source": [
    "$$ = 8 + 1 = 9$$"
   ]
  },
  {
   "cell_type": "markdown",
   "id": "cd7d2bcf-8e9b-4db0-bda9-a2e1f1068a71",
   "metadata": {},
   "source": [
    "Method 2:  \n",
    "\n",
    "Via the fundamental [theorem](#Theorem) of line integrals,  \n",
    "\n",
    "$$ I = \\int_C\\nabla f\\cdot\\mathrm{d}\\mathbf{r} = f(1,2) - f(0,0) = f(1,2) = 1 + 8 = 9$$"
   ]
  },
  {
   "cell_type": "markdown",
   "id": "de7d1907-01dd-47e0-91a6-d00a59a59f8b",
   "metadata": {},
   "source": [
    "## Problems"
   ]
  },
  {
   "cell_type": "code",
   "execution_count": 1,
   "id": "5cfa0dce-8f08-4d43-b83d-b8aad213b615",
   "metadata": {},
   "outputs": [],
   "source": [
    "import numpy as np\n",
    "import matplotlib.pyplot as plt\n",
    "import matplotlib as mpl"
   ]
  },
  {
   "cell_type": "markdown",
   "id": "15d51ab0-89a5-486f-b68f-d03f9d22f28c",
   "metadata": {},
   "source": [
    "### Problem 1  \n",
    "\n",
    "Let $f := f(x,y) = xy + e^x$.  "
   ]
  },
  {
   "cell_type": "markdown",
   "id": "d288e74f-5a42-4a00-8264-55ad6d3abff1",
   "metadata": {},
   "source": [
    "**a)**  Compute $\\mathbf{F} = \\nabla f$."
   ]
  },
  {
   "cell_type": "markdown",
   "id": "0500c2e9-b706-4957-9411-699e7907c650",
   "metadata": {},
   "source": [
    "$$ \\mathbf{F} = \\langle y+e^x, x\\rangle$$"
   ]
  },
  {
   "cell_type": "markdown",
   "id": "be0d4f4d-d80d-4887-94fd-26ff51411c2f",
   "metadata": {},
   "source": [
    "**b)**  Compute $\\displaystyle \\int_C\\mathbf{F}\\cdot\\mathrm{d}\\mathbf{r}$ for each of the following paths from $(0,0)$ to $(2,1)$."
   ]
  },
  {
   "cell_type": "markdown",
   "id": "f30f96d3-1eef-493d-8621-41aaed197cd8",
   "metadata": {},
   "source": [
    "$$ \\int_C\\mathbf{F}\\cdot\\mathrm{d}\\mathbf{r} = \\int_C\\big(y+e^x\\big)\\,\\mathrm{d}x + x\\,\\mathrm{d}y$$"
   ]
  },
  {
   "cell_type": "markdown",
   "id": "50ed8640-7e88-4c28-8603-97186cd7d77e",
   "metadata": {},
   "source": [
    "**i)**  The path consisting of a horizontal segment following by a vertical segment."
   ]
  },
  {
   "cell_type": "markdown",
   "id": "56a3d41c-828b-4fda-a0da-ac4a6ffd8ba4",
   "metadata": {},
   "source": [
    "$$ \\int_C\\mathbf{F}\\cdot\\mathrm{d}\\mathbf{r} = \\int_{C_1}\\mathbf{F}\\cdot\\mathrm{d}\\mathbf{r} + \\int_{C_2}\\mathbf{F}\\cdot\\mathrm{d}\\mathbf{r}$$"
   ]
  },
  {
   "cell_type": "markdown",
   "id": "729b0db2-b18a-43ef-8ce7-18304bf0e25a",
   "metadata": {},
   "source": [
    "The first segment $C_1$ is given by:  \n",
    "\n",
    "$$ C_1:\\quad (x,0)\\quad\\text{for }\\, 0\\le x\\le 2$$\n",
    "$$ $$\n",
    "$$ \\int_{C_1}\\mathbf{F}\\cdot\\mathrm{d}\\mathbf{r} = \\int_0^2\\big(y+e^x\\big)\\,\\mathrm{d}x = \\int_0^2e^x\\,\\mathrm{d}x = e^2 - 1$$"
   ]
  },
  {
   "cell_type": "markdown",
   "id": "c74fec7e-7d66-4c5e-a0d0-30ae76000262",
   "metadata": {},
   "source": [
    "And, the second segment $C_2$ is given by:  \n",
    "\n",
    "$$ C_2:\\quad (2,y) \\quad\\text{for }\\, 0\\le y \\le 1$$"
   ]
  },
  {
   "cell_type": "markdown",
   "id": "89478880-c958-468d-a0b1-03fe5b6e7a93",
   "metadata": {},
   "source": [
    "$$ \\int_{C_2}\\mathbf{F}\\cdot\\mathrm{d}\\mathbf{r} = \\int_0^1x\\,\\mathrm{d}y = \\int_0^1 2\\,\\mathrm{d}y = 2$$"
   ]
  },
  {
   "cell_type": "markdown",
   "id": "3a05c981-bb9a-4560-9aca-101a9137e0ad",
   "metadata": {},
   "source": [
    "Finally,  \n",
    "\n",
    "$$ \\int_C\\mathbf{F}\\cdot\\mathrm{d}\\mathbf{r} = 2+e^2-1 = 1+e^2$$"
   ]
  },
  {
   "cell_type": "markdown",
   "id": "99585fbd-7154-4def-b6ba-2435be2b8b0b",
   "metadata": {},
   "source": [
    "**ii)**  The path consisting of a vertical segment followed by a horizontal segment."
   ]
  },
  {
   "cell_type": "markdown",
   "id": "6226a55a-f231-405a-ba13-299f7aa937cd",
   "metadata": {},
   "source": [
    "The solution to this is same as the above via commutation with respect to addition."
   ]
  },
  {
   "cell_type": "markdown",
   "id": "1132da94-e052-4e78-b97b-c243d6f84f0c",
   "metadata": {},
   "source": [
    "**iii)** The straight line from $(0,0)$ to $(2,1)$."
   ]
  },
  {
   "cell_type": "markdown",
   "id": "1da71a34-95b4-48c2-be40-83a7f3eeb1ea",
   "metadata": {},
   "source": [
    "The line segment $C$ is given by:  \n",
    "\n",
    "$$ C:\\quad (x,0.5x) \\quad\\text{for }\\, 0\\le x\\le 2$$"
   ]
  },
  {
   "cell_type": "markdown",
   "id": "e108bb39-dd36-41b0-adeb-c4ea3544f4a5",
   "metadata": {},
   "source": [
    "$$ \\int_C\\mathbf{F}\\cdot\\mathrm{d}\\mathbf{r} = \\int_C\\big(0.5x^2+e^x\\big)\\,\\mathrm{d}x + 0.5x\\,\\mathrm{d}x$$"
   ]
  },
  {
   "attachments": {},
   "cell_type": "markdown",
   "id": "fcf7f336-6250-4809-b23e-d0205e9698cc",
   "metadata": {},
   "source": [
    "$$ = \\int_0^2\\big(0.5x+ 0.5x + e^x\\big)\\,\\mathrm{d}x = \\left.\\big(0.5x^2 + e^x\\big)\\right]_{\\,0}^{\\,2}$$"
   ]
  },
  {
   "cell_type": "markdown",
   "id": "c88ebabf-129f-4efb-8ef6-75723401066d",
   "metadata": {},
   "source": [
    "$$ = 2 + e^2 - 1 = 1+e^2$$"
   ]
  },
  {
   "cell_type": "markdown",
   "id": "fce5ea0c-7b05-4ae4-9eda-6177d09d33f9",
   "metadata": {},
   "source": [
    "**c)**  The field $\\mathbf{F}$ is path independent since it's potential $f$ exists.  In other words, $\\mathbf{F}$ is a conservative field.  Via the fundamental theorem of line integrals,  \n",
    "\n",
    "$$ \\int_C\\mathbf{F}\\cdot\\mathrm{d}\\mathbf{r} = f(2,1)-f(0,0) = 2 + e^2-1 = 1+e^2 \\approxeq$$"
   ]
  },
  {
   "cell_type": "code",
   "execution_count": 2,
   "id": "4b280e10-2a76-4347-bc9a-c98c1cab0f2b",
   "metadata": {},
   "outputs": [
    {
     "data": {
      "text/plain": [
       "8.389056098930649"
      ]
     },
     "execution_count": 2,
     "metadata": {},
     "output_type": "execute_result"
    }
   ],
   "source": [
    "1+np.e**2"
   ]
  }
 ],
 "metadata": {
  "kernelspec": {
   "display_name": "Python 3 (ipykernel)",
   "language": "python",
   "name": "python3"
  },
  "language_info": {
   "codemirror_mode": {
    "name": "ipython",
    "version": 3
   },
   "file_extension": ".py",
   "mimetype": "text/x-python",
   "name": "python",
   "nbconvert_exporter": "python",
   "pygments_lexer": "ipython3",
   "version": "3.10.12"
  }
 },
 "nbformat": 4,
 "nbformat_minor": 5
}
