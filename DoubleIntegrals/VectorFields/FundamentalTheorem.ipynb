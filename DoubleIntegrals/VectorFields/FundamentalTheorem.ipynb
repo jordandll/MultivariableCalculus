{
 "cells": [
  {
   "cell_type": "markdown",
   "id": "696fa104-d4e5-4d1c-9716-f419fb6b5e0b",
   "metadata": {},
   "source": [
    "# Fundamental Theorem \n",
    "## for Line Integrals"
   ]
  },
  {
   "cell_type": "markdown",
   "id": "e1ef42a1-003d-4352-a4cc-e6035c98d697",
   "metadata": {},
   "source": [
    "### Gradient Fields and Potential Functions\n",
    "\n",
    "Earlier we learned about the gradient of a scalar valued function.  \n",
    "\n",
    "$$ \\nabla f(x,y) = \\langle f_x, f_y\\rangle$$"
   ]
  },
  {
   "cell_type": "markdown",
   "id": "45eea1dd-f811-410a-8c5e-b2c7514005fc",
   "metadata": {},
   "source": [
    "For example, $\\nabla x^3y^4 = \\langle 3x^2y^4, 4x^3y^3\\rangle$.  \n",
    "\n",
    "Now that we know about vector fields, we recognize as a special case.  We will call it a *gradient field*.  The function $f$ will be called a *potential function* for the field.  \n",
    "\n",
    "For gradient fields, we get the following theorem, which you should recognize as being similar to the fundamental theorem of calculus."
   ]
  },
  {
   "cell_type": "markdown",
   "id": "d27ef380-78ff-49a4-8c5f-cd171f4e5a00",
   "metadata": {},
   "source": [
    "### Theorem  \n",
    "\n",
    "(Fundamental Theorem for Line Integrals)   \n",
    "\n",
    "If $\\mathbf{F} = \\nabla f$ is a gradient field and $C$ is *any* (open) curve with endpoints $P_0 = (x_0,y_0)$ and $P_1=(x_1,y_1)$  \n",
    "\n",
    "$$ \\int_C\\mathbf{F}\\cdot\\mathrm{d}\\mathbf{r} = f(x,y)\\Big|_{\\,P_0}^{\\,P_1} = f(x_1,y_1) - f(x_0,y_0)$$"
   ]
  },
  {
   "cell_type": "markdown",
   "id": "04e640b4-7ae5-4997-b8fc-79c030fb5029",
   "metadata": {
    "jupyter": {
     "source_hidden": true
    }
   },
   "source": [
    "![fundamental-theorem](Fundamental.png)"
   ]
  },
  {
   "cell_type": "markdown",
   "id": "0e9bdf19-8506-4436-8368-ccababe539f0",
   "metadata": {},
   "source": [
    "#### Example 1  \n",
    "\n",
    "Let $f(x,y) = xy^3 + x^2 \\quad\\implies\\quad \\mathbf{F} = \\nabla f = \\langle y^3+2x, 3xy^2\\rangle$.  \n",
    "\n",
    "And let $C$ be the curve shown.  Compute $\\displaystyle I = \\int_C\\mathbf{F}\\cdot\\mathrm{d}\\mathbf{r}$.  \n",
    "\n",
    "Do this both directly (as in the previous session/topic) and using the above formula."
   ]
  },
  {
   "cell_type": "markdown",
   "id": "89b1e197-52d8-4a1f-954e-ed24e410e719",
   "metadata": {},
   "source": [
    "$$ P_0 = (x_0,y_0) = (0,0) \\quad\\quad\\text{and}\\quad\\quad P_1 = (x_1,y_1) = (1,2)$$"
   ]
  },
  {
   "cell_type": "markdown",
   "id": "d98c8524-f39a-4c23-8fb9-a8e27bee9055",
   "metadata": {},
   "source": [
    "Method 1:  \n",
    "\n",
    "The curve $C$ is given by:  \n",
    "\n",
    "$$ C:\\quad \\big(x,g(x)\\big)\\quad\\quad\\text{where }\\,y:=g(x) = 2x$$"
   ]
  },
  {
   "cell_type": "markdown",
   "id": "2c1006c3-692c-4218-9193-4dce2065ed73",
   "metadata": {},
   "source": [
    "$$ I = \\int_C \\big(y^3+2x\\big)\\,\\mathrm{d}x + 3xy^2\\,\\mathrm{d}y$$"
   ]
  },
  {
   "cell_type": "markdown",
   "id": "02c3d6ca-29f7-44ff-abcf-8ff07afb3808",
   "metadata": {},
   "source": [
    "$$ = \\int_C \\big(8x^3 + 2x\\big)\\,\\mathrm{d}x + 24x^3\\,\\mathrm{d}x$$"
   ]
  },
  {
   "cell_type": "markdown",
   "id": "70613f7e-9e45-44cd-8575-882d30586f3f",
   "metadata": {},
   "source": [
    "$$ = \\int_0^1\\big(32x^3+2x\\big)\\,\\mathrm{d}x$$"
   ]
  },
  {
   "cell_type": "markdown",
   "id": "ab3db7ff-7d17-44e7-b197-e994271a4d61",
   "metadata": {},
   "source": [
    "$$ = 8 + 1 = 9$$"
   ]
  },
  {
   "cell_type": "markdown",
   "id": "cd7d2bcf-8e9b-4db0-bda9-a2e1f1068a71",
   "metadata": {},
   "source": [
    "Method 2:  \n",
    "\n",
    "Via the fundamental [theorem](#Theorem) of line integrals,  \n",
    "\n",
    "$$ I = \\int_C\\nabla f\\cdot\\mathrm{d}\\mathbf{r} = f(1,2) - f(0,0) = f(1,2) = 1 + 8 = 9$$"
   ]
  }
 ],
 "metadata": {
  "kernelspec": {
   "display_name": "Python 3 (ipykernel)",
   "language": "python",
   "name": "python3"
  },
  "language_info": {
   "codemirror_mode": {
    "name": "ipython",
    "version": 3
   },
   "file_extension": ".py",
   "mimetype": "text/x-python",
   "name": "python",
   "nbconvert_exporter": "python",
   "pygments_lexer": "ipython3",
   "version": "3.10.12"
  }
 },
 "nbformat": 4,
 "nbformat_minor": 5
}
