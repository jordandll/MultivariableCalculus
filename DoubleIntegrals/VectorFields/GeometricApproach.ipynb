{
 "cells": [
  {
   "cell_type": "markdown",
   "id": "bcb605b3-8cec-40e0-a2c5-8e60c0f6ddc3",
   "metadata": {},
   "source": [
    "# Geometric Approach\n",
    "\n",
    "## Problems\n",
    "\n",
    "#### Problem 1\n",
    "\n",
    "The force field is perpendicular to the path which means that the component of the force in the direction of any displacement along this path is equal to zero."
   ]
  },
  {
   "cell_type": "markdown",
   "id": "b73dfca2-d171-47ba-bb88-3283fa450d6f",
   "metadata": {},
   "source": [
    "#### Problem 2\n",
    "\n",
    "Value of the line integral is zero since the field is, per the definition of a gradient, perpendicular to the level curve $C$ of $g(x,y)$.  Thus, the same principle described in my answer to problem 1 applies here."
   ]
  }
 ],
 "metadata": {
  "kernelspec": {
   "display_name": "Python 3 (ipykernel)",
   "language": "python",
   "name": "python3"
  },
  "language_info": {
   "codemirror_mode": {
    "name": "ipython",
    "version": 3
   },
   "file_extension": ".py",
   "mimetype": "text/x-python",
   "name": "python",
   "nbconvert_exporter": "python",
   "pygments_lexer": "ipython3",
   "version": "3.10.12"
  }
 },
 "nbformat": 4,
 "nbformat_minor": 5
}
