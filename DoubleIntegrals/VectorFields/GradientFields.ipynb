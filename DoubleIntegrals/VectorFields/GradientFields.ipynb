{
 "cells": [
  {
   "cell_type": "markdown",
   "id": "ae5798a9-8444-4d8c-9b64-011741e757cb",
   "metadata": {},
   "source": [
    "# Gradient Fields"
   ]
  },
  {
   "cell_type": "markdown",
   "id": "48dc4028-5c13-41fd-80fc-8eb2d3dd262a",
   "metadata": {},
   "source": [
    "### Example 1  \n",
    "For which value(s), if any, of the constants $a,b$ will $\\mathbf{F}:=axy\\mathbf{i} + \\big(x^2+by\\big)\\mathbf{j}$ be a gradient field?"
   ]
  },
  {
   "cell_type": "markdown",
   "id": "d3303107-776f-489e-98b6-0263785bc58a",
   "metadata": {},
   "source": [
    "$$ M_y = ax \\quad\\quad\\text{and}\\quad\\quad N_x = 2x$$"
   ]
  },
  {
   "cell_type": "markdown",
   "id": "f735ae78-964c-47b3-b979-f9efe9df101b",
   "metadata": {},
   "source": [
    "Via the above,  \n",
    "\n",
    "$$ M_y = N_x \\quad\\iff\\quad a=2$$"
   ]
  },
  {
   "cell_type": "markdown",
   "id": "de388e99-4efb-4465-b002-eeda8b785089",
   "metadata": {},
   "source": [
    "Via the above, equations (2) and (4), the fact that $\\mathbf{F}$ is continuously differentiable throughout it's domain, $\\mathbf{F}$ is a gradient field if and only if $a=2$, while $b$ can be any number.  \n",
    "\n",
    "$$ \\mathbf{F} = \\nabla f \\quad\\text{for some }f(x,y)\\quad\\iff\\quad a=2\\;\\land\\;b\\in\\mathbb{R}$$"
   ]
  },
  {
   "cell_type": "markdown",
   "id": "c19f8475-f602-427f-894c-3433aec79f9e",
   "metadata": {},
   "source": [
    "### Example 2  \n",
    "\n",
    "Are the fields $\\displaystyle \\mathbf{F} = \\frac{x\\mathbf{i} + y\\mathbf{j}}{x^2+y^2}$, $\\displaystyle \\mathbf{G} = \\frac{-y\\mathbf{i} + x\\mathbf{j}}{x^2+y^2}$ conservative?"
   ]
  },
  {
   "cell_type": "markdown",
   "id": "58dd8347-928d-41ad-9235-2a11e360b885",
   "metadata": {},
   "source": [
    "$$ \\mathbf{F} = \\frac{\\langle x,y\\rangle}{r^2}\\quad\\quad\\text{and}\\quad\\quad \\mathbf{G} = \\frac{\\langle -y,x\\rangle}{r^2}$$  "
   ]
  },
  {
   "cell_type": "markdown",
   "id": "5ab2f1a0-2dcd-4710-9e78-ec4ad3c01d1e",
   "metadata": {},
   "source": [
    "$$ F_{1,y} := M_y = -\\frac{2xy}{r^4} \\quad\\quad\\text{and}\\quad\\quad F_{2,x} := N_x = -\\frac{2xy}{r^4} $$  "
   ]
  },
  {
   "cell_type": "markdown",
   "id": "f191b8a4-1907-4d8a-a956-027793c418c1",
   "metadata": {},
   "source": [
    "$$ M_y =  N_y \\quad\\therefore\\quad \\oint_C\\mathbf{F}\\cdot\\mathrm{d}\\mathbf{r} = 0$$"
   ]
  },
  {
   "cell_type": "markdown",
   "id": "e8d58c98-4f3e-4b02-b2db-14358868684a",
   "metadata": {},
   "source": [
    "In other words, $\\mathbf{F}$ is a conservative field."
   ]
  },
  {
   "cell_type": "markdown",
   "id": "aae0d473-79da-4982-9e9f-0c88383e06b2",
   "metadata": {},
   "source": [
    "Now, for $\\mathbf{G}$, we will redefine $M$ and $N$.  \n",
    "\n",
    "$$G_{1,y} := M_y = -\\frac{1}{r^2} + \\frac{2y^2}{r^4} = \\frac{2y^2-x^2-y^2}{r^4} = \\frac{y^2-x^2}{r^4}$$"
   ]
  },
  {
   "cell_type": "markdown",
   "id": "97e6091e-6faf-4a11-8259-e063383a966f",
   "metadata": {},
   "source": [
    "$$ G_{2,x} := N_x = \\frac{1}{r^2} - \\frac{2x^2}{r^4} = \\frac{x^2+y^2-2x^2}{r^4} = \\frac{y^2-x^2}{r^4}$$"
   ]
  },
  {
   "cell_type": "markdown",
   "id": "4559a938-5404-43f9-a2b9-192e74790cdf",
   "metadata": {},
   "source": [
    "Whereas $M_y=N_x$ therefore $\\mathbf{G}$ is a conservative field."
   ]
  },
  {
   "cell_type": "markdown",
   "id": "83557b25-ecf3-43b7-9543-a19b406f243e",
   "metadata": {},
   "source": [
    "## Problems  \n",
    "\n",
    "Herein we identify gradient fields and exact differentials.  "
   ]
  },
  {
   "cell_type": "markdown",
   "id": "021885d9-ccd8-4500-accb-17b9af016747",
   "metadata": {},
   "source": [
    "#### Problem 1  \n",
    "\n",
    "Determine whether each of the vector fields below is conservative."
   ]
  },
  {
   "cell_type": "markdown",
   "id": "06f83dd2-a6f3-4f89-a494-84993184693d",
   "metadata": {},
   "source": [
    "**a)**  $\\mathbf{F} = \\langle xe^x + y,x\\rangle$"
   ]
  },
  {
   "cell_type": "markdown",
   "id": "c1e0fc0a-f5a7-4ef9-923c-7ffe26c7909e",
   "metadata": {},
   "source": [
    "$$ M_y = 1 \\quad\\quad\\text{and}\\quad\\quad N_x = 1$$"
   ]
  },
  {
   "cell_type": "markdown",
   "id": "62eb69d8-9e95-4fa2-b866-0ef8dab20fff",
   "metadata": {},
   "source": [
    "Whereas $M_y=N_x$ therefore $\\mathbf{F}$ is conservative."
   ]
  },
  {
   "cell_type": "markdown",
   "id": "512d772c-f6a4-4632-bc3b-8149e392d608",
   "metadata": {},
   "source": [
    "**b)** $\\mathbf{F} = \\langle xe^x + y, x+2\\rangle$"
   ]
  },
  {
   "cell_type": "markdown",
   "id": "af246093-26d3-4cb1-8ee0-6e86184bd1ca",
   "metadata": {},
   "source": [
    "Same as above."
   ]
  },
  {
   "cell_type": "markdown",
   "id": "9f92fa67-7112-4962-b534-c1d556fb7c9f",
   "metadata": {},
   "source": [
    "**c)** $\\mathbf{F} = \\langle xe^x + y + x,x\\rangle$"
   ]
  },
  {
   "cell_type": "markdown",
   "id": "2b9ee619-e456-4784-bf79-e2bcc4a39526",
   "metadata": {},
   "source": [
    "Same as a)."
   ]
  },
  {
   "cell_type": "markdown",
   "id": "2bb88184-3d1e-47fc-9b46-82e3054fb4b9",
   "metadata": {},
   "source": [
    "#### Problem 2\n",
    "\n",
    "Show that $\\big(xe^x + y\\big)\\,\\mathrm{d}x + x\\,\\mathrm{d}y$ is an exact differential."
   ]
  },
  {
   "cell_type": "markdown",
   "id": "b067c4ae-ca6b-4281-80a6-e4e7cce78f4f",
   "metadata": {},
   "source": [
    "Let $\\mathbf{F}$ and $\\mathbf{r}$ be defined as:  \n",
    "\n",
    "$$ \\mathbf{F} := \\langle xe^x + y,x\\rangle\\quad\\quad\\text{and}\\quad\\quad \\mathbf{r}:=\\mathbf{r}(t):=\\langle x(t),y(t)\\rangle$$"
   ]
  },
  {
   "cell_type": "markdown",
   "id": "937f3d63-818f-4df9-b51d-0e5af2fb0d78",
   "metadata": {},
   "source": [
    "$\\mathbf{F}\\cdot\\mathrm{d}\\mathbf{r}$ is an exact differential because $\\mathbf{F}$ is a conservative field.  \n",
    "\n",
    "$$ \\mathbf{F} = \\nabla f \\quad\\text{for some }f(x,y)\\quad\\therefore\\quad \\mathrm{d}f = \\nabla f \\cdot \\mathrm{d}\\mathbf{r} = \\big(xe^x+y\\big)\\,\\mathrm{d}x + x\\,\\mathrm{d}y$$"
   ]
  },
  {
   "cell_type": "markdown",
   "id": "ffad8090-2b2c-440e-9076-0becb40cd826",
   "metadata": {},
   "source": [
    "Moreover,  \n",
    "\n",
    "$$ f := f(x,y) = \\int\\mathbf{F}\\cdot\\mathrm{d}\\mathbf{r} = (x-1)e^x + xy$$"
   ]
  },
  {
   "cell_type": "markdown",
   "id": "2130d625-a86c-4ba2-953f-37a79301913c",
   "metadata": {},
   "source": [
    "#### Problem 3  \n",
    "\n",
    "Compute the two dimensional curl of $\\mathbf{F}$ for each of the vector fields below.  "
   ]
  },
  {
   "cell_type": "markdown",
   "id": "4d895bdc-9aad-4868-a4e5-ca3bf886cb33",
   "metadata": {},
   "source": [
    "**a)** $\\mathbf{F} = \\langle x,xe^x + y\\rangle$"
   ]
  },
  {
   "cell_type": "markdown",
   "id": "e90e29b6-4956-42c3-9de5-5f13e92d1c2d",
   "metadata": {},
   "source": [
    "$$ M_y = 0 \\quad\\text{and}\\quad N_x = e^x + xe^x \\quad\\therefore\\quad \\text{curl }\\mathbf{F} = -e^x(1+x)$$"
   ]
  },
  {
   "cell_type": "markdown",
   "id": "5c773c28-048e-4237-9f83-a071655059eb",
   "metadata": {},
   "source": [
    "**b)** $\\mathbf{F} = \\langle 1,1\\rangle$"
   ]
  },
  {
   "cell_type": "markdown",
   "id": "fbcd1816-b74f-45d0-8072-f725d054ff55",
   "metadata": {},
   "source": [
    "$$ \\text{curl }\\mathbf{F} = 0$$"
   ]
  },
  {
   "cell_type": "markdown",
   "id": "87f4b807-00fb-4dcc-828d-b971c20f8b83",
   "metadata": {},
   "source": [
    "Moreover,  \n",
    "\n",
    "$$ \\mathbf{F} = \\nabla f \\quad\\quad\\text{where }\\,f:=f(x,y)=x+y + K$$"
   ]
  },
  {
   "cell_type": "markdown",
   "id": "8f9a840e-4585-433e-bce0-bc079c47db99",
   "metadata": {},
   "source": [
    "**c)** $\\mathbf{F}=\\langle xy^2,x^2y\\rangle$"
   ]
  },
  {
   "cell_type": "markdown",
   "id": "025fe05e-6691-4c97-b6e3-3aa9e947ccd0",
   "metadata": {},
   "source": [
    "$$ M_y = 2yx \\quad\\text{and}\\quad N_x = 2xy \\quad\\therefore\\quad \\text{curl }\\mathbf{F} = 0$$"
   ]
  },
  {
   "cell_type": "markdown",
   "id": "925b5c7e-eb4b-4fa8-90cb-b0aaf749ccb1",
   "metadata": {},
   "source": [
    "Moreover,  \n",
    "\n",
    "$$ \\mathbf{F} = \\nabla f \\quad\\quad\\text{where }\\,f:=f(x,y) = \\frac{(xy)^2}{2} + K$$"
   ]
  }
 ],
 "metadata": {
  "kernelspec": {
   "display_name": "Python 3 (ipykernel)",
   "language": "python",
   "name": "python3"
  },
  "language_info": {
   "codemirror_mode": {
    "name": "ipython",
    "version": 3
   },
   "file_extension": ".py",
   "mimetype": "text/x-python",
   "name": "python",
   "nbconvert_exporter": "python",
   "pygments_lexer": "ipython3",
   "version": "3.10.12"
  }
 },
 "nbformat": 4,
 "nbformat_minor": 5
}
