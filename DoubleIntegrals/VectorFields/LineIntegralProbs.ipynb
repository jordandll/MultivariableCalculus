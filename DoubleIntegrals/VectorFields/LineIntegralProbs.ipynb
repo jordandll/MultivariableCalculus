{
 "cells": [
  {
   "cell_type": "markdown",
   "id": "26768016-4e49-485c-a72a-fa44ed948ae8",
   "metadata": {},
   "source": [
    "## Line Integrals of Vector Fields  \n",
    "\n",
    "In lecture, Professor Auroux discussed the non-conservative vector field  \n",
    "\n",
    "$$ \\mathbf{F} = \\langle -y,x\\rangle$$"
   ]
  },
  {
   "cell_type": "markdown",
   "id": "b72dd71e-23e9-4e25-ae6e-4ccdaffc2ba4",
   "metadata": {},
   "source": [
    "$$ \\int_C\\mathbf{F}\\cdot\\mathrm{d}\\mathbf{r} = \\int_C-y\\,\\mathrm{d}x + x\\,\\mathrm{d}y$$"
   ]
  },
  {
   "cell_type": "markdown",
   "id": "d8d97ccc-3443-45d0-9dd6-f64fcc67f007",
   "metadata": {},
   "source": [
    "For this field:\n",
    "\n",
    "#### Problem 1\n",
    "Compute the line integral along the path that goes from $(0, 0)$ to $(1, 1)$ by first going\n",
    "along the $x$-axis to $(1, 0)$ and then going up one unit to $(1, 1)$.  "
   ]
  },
  {
   "cell_type": "markdown",
   "id": "c52e0ccd-a4b8-4346-bc17-191357273d70",
   "metadata": {},
   "source": [
    "\\begin{align*}\n",
    "    \\int_C\\mathbf{F}\\cdot\\mathrm{d}\\mathbf{r} &= \\int_{C_1}\\mathbf{F}\\cdot\\mathrm{d}\\mathbf{r} + \\int_{C_2}\\mathbf{F}\\cdot\\mathrm{d}\\mathbf{r} \\\\ \\\\\n",
    "         &= \\int_C -y\\,\\mathrm{d}x + x\\,\\mathrm{d}y\n",
    "\\end{align*}"
   ]
  },
  {
   "cell_type": "markdown",
   "id": "617481b1-7065-4693-a3bb-12281f289fdc",
   "metadata": {},
   "source": [
    "$$ C_1:\\quad (x,0)\\quad\\text{for }\\, 0\\le x\\le 1$$"
   ]
  },
  {
   "cell_type": "markdown",
   "id": "19c11360-9210-4f06-a345-703535c381e9",
   "metadata": {},
   "source": [
    "$$ \\int_{C_1}\\mathbf{F}\\cdot\\mathrm{d}\\mathbf{r} = 0$$"
   ]
  },
  {
   "cell_type": "markdown",
   "id": "bf3bf703-f9d0-4f2f-98d0-7e84984268fc",
   "metadata": {},
   "source": [
    "$$ C_2:\\quad (1,y)\\quad\\text{for }\\, 0\\le y \\le 1$$"
   ]
  },
  {
   "cell_type": "markdown",
   "id": "15b3ad0c-a92c-425e-94ac-fd4a57e2cd7b",
   "metadata": {},
   "source": [
    "$$ \\int_{C_2}\\mathbf{F}\\cdot\\mathrm{d}\\mathbf{r} = \\int_0^1 \\,\\mathrm{d}y = 1$$"
   ]
  },
  {
   "cell_type": "markdown",
   "id": "e38eaaef-00cb-4132-9e35-846f494ff24b",
   "metadata": {},
   "source": [
    "Finally,  \n",
    "\n",
    "$$ \\int_C\\mathbf{F}\\cdot\\mathrm{d}\\mathbf{r} = 1$$"
   ]
  },
  {
   "cell_type": "markdown",
   "id": "dd7df03e-0c9e-4a2f-8508-a40a79f4d0e0",
   "metadata": {},
   "source": [
    "#### Problem 2\n",
    "Compute the line integral along the path from $(0, 0)$ to $(1, 1)$ that first goes up the $y$-axis\n",
    "to $(0, 1)$.  "
   ]
  },
  {
   "cell_type": "markdown",
   "id": "3e42fb29-27be-4000-b92a-54c4cb1d12cf",
   "metadata": {},
   "source": [
    "$$ C_1:\\quad (0,y)\\quad\\text{for }\\, 0\\le y\\le 1$$"
   ]
  },
  {
   "cell_type": "markdown",
   "id": "a4c0adf3-9af9-491c-81c8-6abe84c69bd9",
   "metadata": {},
   "source": [
    "$$ \\int_{C_1}\\mathbf{F}\\cdot\\mathrm{d}\\mathbf{r} = 0$$"
   ]
  },
  {
   "cell_type": "markdown",
   "id": "315d3ec3-348f-4e4c-9c33-b486eb917075",
   "metadata": {},
   "source": [
    "$$ C_2:\\quad (x,1)\\quad\\text{for }\\, 0\\le x\\le 1$$"
   ]
  },
  {
   "cell_type": "markdown",
   "id": "72cb305f-40f3-4934-a079-67bb047dd89a",
   "metadata": {},
   "source": [
    "$$ \\int_{C_2}\\mathbf{F}\\cdot\\mathrm{d}\\mathbf{r} = \\int_0^1-\\,\\mathrm{d}x = -1$$"
   ]
  },
  {
   "cell_type": "markdown",
   "id": "f78d4799-d05a-4b2c-86be-dab8783fcb93",
   "metadata": {},
   "source": [
    "Finally,  \n",
    "\n",
    "$$ \\int_C\\mathbf{F}\\cdot\\mathrm{d}\\mathbf{r} = -1$$"
   ]
  },
  {
   "cell_type": "markdown",
   "id": "968e70ef-6e47-40e2-9381-00b34c5520ff",
   "metadata": {},
   "source": [
    "#### Problem 3\n",
    "Should you expect your answers to the preceding problems to be the same? Why or why\n",
    "not?  \n",
    "\n",
    "No, because, since the field $\\mathbf{F}$ has no potential, which implies it is non-conservative, there is no reason to believe path independence."
   ]
  },
  {
   "cell_type": "markdown",
   "id": "7b4bc54a-a14f-47ee-a7f4-90040043ea8e",
   "metadata": {},
   "source": [
    "#### Problem 4\n",
    "Compute the line integral of $\\mathbf{F}$ along a path that runs counterclockwise around the unit\n",
    "circle."
   ]
  },
  {
   "cell_type": "markdown",
   "id": "aa65c646-3371-45ae-acac-8f6b16d9135e",
   "metadata": {},
   "source": [
    "$$ C:\\quad \\mathbf{r}:=\\mathbf{r}(t) = \\langle x(t),y(t)\\rangle \\quad\\text{for }\\, 0\\le t \\le 2\\pi$$"
   ]
  },
  {
   "cell_type": "markdown",
   "id": "20e94624-56dc-445d-9ebb-8ef2739785e1",
   "metadata": {},
   "source": [
    "where  \n",
    "\n",
    "$$ x:=x(t) = \\cos t \\quad\\quad\\text{and}\\quad\\quad y:= y(t) = \\sin t$$"
   ]
  },
  {
   "cell_type": "markdown",
   "id": "504742e5-7377-4dbc-aa89-0625a7e451bd",
   "metadata": {},
   "source": [
    "$$ \\mathrm{d}x = -\\sin t\\,\\mathrm{d}t \\quad\\quad\\text{and}\\quad\\quad \\mathrm{d}y = \\cos t\\,\\mathrm{d}t$$"
   ]
  },
  {
   "cell_type": "markdown",
   "id": "8c5668a4-f0ad-4b3a-a5da-d58718bd5ff4",
   "metadata": {},
   "source": [
    "$$ \\int_C\\mathbf{F}\\cdot\\mathrm{d}\\mathbf{r} = \\int_C-\\sin t\\,\\mathrm{d}x + \\cos t\\,\\mathrm{d}y $$"
   ]
  },
  {
   "cell_type": "markdown",
   "id": "ec0f934f-0f87-483d-a990-3597a867b687",
   "metadata": {},
   "source": [
    "$$ = \\int_0^{2\\pi}\\big(\\sin^2 t +\\cos^2t\\big)\\,\\mathrm{d}t = \\int_0^{2\\pi}\\,\\mathrm{d}t = 2\\pi$$"
   ]
  },
  {
   "cell_type": "markdown",
   "id": "113628db-3a12-42e9-8d2c-250283e11330",
   "metadata": {},
   "source": [
    "#### Problem 5\n",
    "Should your answer to the previous problem be zero? Why or why not?"
   ]
  },
  {
   "cell_type": "markdown",
   "id": "e90a7744-60ab-40c0-816b-f0cc8765d144",
   "metadata": {},
   "source": [
    "No, because we should only expect, via the fundamental theorem of line integrals, the line integral of a field along a closed curve, like the one found in the previous problem, to be equal to zero when the field in question is conservative, but this one is non-conservative (it has no potential)."
   ]
  },
  {
   "cell_type": "markdown",
   "id": "251b3de0-a0e5-4e7e-9fc7-b4823fad39c8",
   "metadata": {},
   "source": [
    "Answer the following questions for the field"
   ]
  },
  {
   "cell_type": "markdown",
   "id": "09154c98-542e-4d9f-b812-c49a2554fbb4",
   "metadata": {},
   "source": [
    "$$ \\mathbf{F} = \\langle 0,x\\rangle$$"
   ]
  },
  {
   "cell_type": "markdown",
   "id": "f1367d0a-5263-4847-9743-226cd2f24e45",
   "metadata": {},
   "source": [
    "$$ \\int_C \\mathbf{F}\\cdot\\mathrm{d}\\mathbf{r} = \\int_C x\\,\\mathrm{d}y$$"
   ]
  },
  {
   "cell_type": "markdown",
   "id": "1c702e4c-1626-44cd-93e8-ff39c4d7c2dd",
   "metadata": {},
   "source": [
    "#### Problem 6\n",
    "Compute the line integral along the path that goes from $(0, 0)$ to $(1, 1)$ by first going\n",
    "along the $x$-axis to $(1, 0)$ and then going up one unit to $(1, 1)$.  "
   ]
  },
  {
   "cell_type": "markdown",
   "id": "0184e8be-4cef-4f97-8ef0-52f9ed9730fa",
   "metadata": {},
   "source": [
    "$$ \\int_C\\mathbf{F}\\cdot\\mathrm{d}\\mathbf{r} = \\int_{C_1}\\mathbf{F}\\cdot\\mathrm{d}\\mathbf{r} + \\int_{C_2}\\mathbf{F}\\cdot\\mathrm{d}\\mathbf{r}$$"
   ]
  },
  {
   "cell_type": "markdown",
   "id": "ff17287a-7265-4cc4-83be-5c9d8780108f",
   "metadata": {},
   "source": [
    "$$ C_1:\\quad (x,0)\\quad\\text{for }\\, 0\\le x\\le 1$$"
   ]
  },
  {
   "cell_type": "markdown",
   "id": "30a82636-8f9b-4233-b422-168cd525dc2f",
   "metadata": {},
   "source": [
    "$$ \\int_{C_1}\\mathbf{F}\\cdot\\mathbf{d}\\mathbf{r} = 0$$"
   ]
  },
  {
   "cell_type": "markdown",
   "id": "12e6bdfe-6006-4571-9a51-e6b159a01e35",
   "metadata": {},
   "source": [
    "$$ C_2:\\quad (1,y)\\quad\\text{for }\\, 0\\le y\\le 1$$"
   ]
  },
  {
   "cell_type": "markdown",
   "id": "2ef27d31-a0df-4ad5-9327-eb67ce1f519e",
   "metadata": {},
   "source": [
    "$$ \\int_{C_2}\\mathbf{F}\\cdot\\mathrm{d}\\mathbf{r} = \\int_0^1\\,\\mathrm{d}y = 1$$"
   ]
  },
  {
   "cell_type": "markdown",
   "id": "23e7b0b9-be18-443a-be99-6a2a74a9f7e5",
   "metadata": {},
   "source": [
    "Finally,  \n",
    "\n",
    "$$ \\int_C\\mathbf{F}\\cdot\\mathrm{d}\\mathbf{r} = 1$$"
   ]
  },
  {
   "cell_type": "markdown",
   "id": "3835815f-bb38-4a16-a6b1-95382e8170ba",
   "metadata": {},
   "source": [
    "#### Problem 7\n",
    "Compute the line integral along the path from $(0, 0)$ to $(1, 1)$ which first goes up the\n",
    "$y$-axis to $(0, 1)$.  "
   ]
  },
  {
   "cell_type": "markdown",
   "id": "01780929-f8f1-45dc-a4e3-2e2d7b5e240d",
   "metadata": {},
   "source": [
    "$$ \\int_C\\mathbf{F}\\cdot\\mathrm{d}\\mathbf{r} = \\int_{C_1}\\mathbf{F}\\cdot\\mathrm{d}\\mathbf{r} + \\int_{C_2}\\mathbf{F}\\cdot\\mathrm{d}\\mathbf{r}$$"
   ]
  },
  {
   "cell_type": "markdown",
   "id": "56230922-df4a-4700-8c6c-97f6fed6b456",
   "metadata": {},
   "source": [
    "$$ C_1:\\quad (0,y)\\quad\\text{for }\\, 0\\le y\\le 1$$"
   ]
  },
  {
   "cell_type": "markdown",
   "id": "c94a882d-ac76-4983-a635-1c6681238ae2",
   "metadata": {},
   "source": [
    "$$ \\int_{C_1}\\mathbf{F}\\cdot\\mathrm{d}\\mathbf{r} = 0$$"
   ]
  },
  {
   "cell_type": "markdown",
   "id": "b41951ac-cf0d-4591-9fbd-0b5efc05bdd7",
   "metadata": {},
   "source": [
    "$$ C_2:\\quad (x,1) \\quad\\text{for }\\, 0\\le x\\le 1$$"
   ]
  },
  {
   "cell_type": "markdown",
   "id": "6c8168c4-a513-4af1-b063-dced2762f154",
   "metadata": {},
   "source": [
    "$$ \\int_{C_2}\\mathbf{F}\\cdot\\mathrm{d}\\mathbf{r} = 0$$"
   ]
  },
  {
   "cell_type": "markdown",
   "id": "58f90883-63ca-4afb-bfd0-661e51dd0939",
   "metadata": {},
   "source": [
    "Finally,  \n",
    "\n",
    "$$\\int_C\\mathbf{F}\\cdot\\mathrm{d}\\mathbf{r} = 0 $$"
   ]
  },
  {
   "cell_type": "markdown",
   "id": "1454bf6f-1fe2-4d97-a502-a9f4ef9e977c",
   "metadata": {},
   "source": [
    "#### Problem 8\n",
    "Compute the line integral of $\\mathbf{F}$ along the line segment from $(0, 0)$ to $(1, 1)$."
   ]
  },
  {
   "cell_type": "markdown",
   "id": "ea4b744d-ae76-4bdf-b1b2-0b8e8cacbdf0",
   "metadata": {},
   "source": [
    "$$ C:\\quad (x,x)\\quad\\text{for }\\, 0\\le x\\le 1$$"
   ]
  },
  {
   "cell_type": "markdown",
   "id": "2ac367ee-011b-4ef0-a043-4b9617f8994a",
   "metadata": {},
   "source": [
    "$$ \\int_C\\mathbf{F}\\cdot\\mathrm{d}\\mathbf{r} = \\int_0^1x\\,\\mathrm{d}x = 0.5$$"
   ]
  },
  {
   "cell_type": "markdown",
   "id": "00cf0b41-61fb-419a-ab71-3e7510fd5fea",
   "metadata": {},
   "source": [
    "#### Problem 9\n",
    "Is the vector field $\\mathbf{F} = \\langle 0, x\\rangle$ conservative? How do you know?"
   ]
  },
  {
   "cell_type": "markdown",
   "id": "fc7dd4ed-62df-45ac-84c3-2732d5eee479",
   "metadata": {},
   "source": [
    "No, because the answers to the previous problems differ, even though they involve paths with the same beginning and end."
   ]
  }
 ],
 "metadata": {
  "kernelspec": {
   "display_name": "Python 3 (ipykernel)",
   "language": "python",
   "name": "python3"
  },
  "language_info": {
   "codemirror_mode": {
    "name": "ipython",
    "version": 3
   },
   "file_extension": ".py",
   "mimetype": "text/x-python",
   "name": "python",
   "nbconvert_exporter": "python",
   "pygments_lexer": "ipython3",
   "version": "3.10.12"
  }
 },
 "nbformat": 4,
 "nbformat_minor": 5
}
