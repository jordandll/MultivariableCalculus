{
 "cells": [
  {
   "cell_type": "markdown",
   "id": "3721fa78-6e04-44e8-bde9-39c2b697938e",
   "metadata": {},
   "source": [
    "# Work and Line Integrals"
   ]
  },
  {
   "cell_type": "markdown",
   "id": "d6be6682-26b7-405d-8367-566dd89e2e73",
   "metadata": {},
   "source": [
    "## Line Integrals\n",
    "\n",
    "Also called *path integrals*.  \n",
    "\n",
    "Ingredients:  \n",
    "\n",
    "Field  \n",
    "\n",
    "$$ \\mathbf{F} = M\\mathbf{i} + N\\mathbf{j} = \\langle M,N\\rangle$$"
   ]
  },
  {
   "cell_type": "markdown",
   "id": "e9d02476-80ed-4ba7-bced-a2b4c0a50e08",
   "metadata": {},
   "source": [
    "Curve  \n",
    "\n",
    "$$ C : \\quad \\mathbf{r}(t) = x(t)\\mathbf{i} + y(t)\\mathbf{j} = \\langle x,y\\rangle \\quad\\implies\\quad \\mathrm{d}\\mathbf{r} = \\langle \\mathrm{d}x,\\mathrm{d}y\\rangle$$"
   ]
  },
  {
   "cell_type": "markdown",
   "id": "c24a5b34-0e68-4a55-b08d-95c35b650d14",
   "metadata": {},
   "source": [
    "*Line integral*:  \n",
    "\n",
    "$$ \\int_C\\mathbf{F}\\cdot\\mathrm{d}\\mathbf{r} = \\int_C\\langle M,N\\rangle\\cdot\\langle \\mathrm{d}x,\\mathrm{d}y\\rangle = \\int_C M\\,\\mathrm{d}x + N\\,\\mathrm{d}y$$"
   ]
  },
  {
   "cell_type": "markdown",
   "id": "a16d4758-4895-4ad3-ae5d-113b193df4d3",
   "metadata": {},
   "source": [
    "We need to discuss:  \n",
    "a) What this notation means and how line integrals arise.  \n",
    "b) How to compute them.  \n",
    "c) Their properties and notation."
   ]
  },
  {
   "cell_type": "markdown",
   "id": "70ca725a-b492-4767-bdd5-690afb13bb61",
   "metadata": {},
   "source": [
    "### a) How line integrals arise  \n",
    "\n",
    "The figure on the left shows a force $\\mathbf{F}$ being applied over a displacement $\\Delta \\mathbf{r}$.  Work is force times distance, but only the component of the force in the direction of the displacement does any work.  So, the work $W$ done on the object being displaced by $\\Delta \\mathbf{r}$ is given by:  \n",
    "\n",
    "$$ W = |\\mathbf{F}|\\cos\\theta|\\Delta \\mathbf{r}| = \\mathbf{F} \\cdot \\Delta \\mathbf{r} $$"
   ]
  },
  {
   "cell_type": "markdown",
   "id": "4813bd9c-3ab3-4571-a3d8-166fd6a0b1a3",
   "metadata": {},
   "source": [
    "To elaborate on the above, let ${F}_{\\Delta \\mathbf{r}}$ denote the component of $\\mathbf{F}$ in the direction of $\\Delta \\mathbf{r}$.  \n",
    "\n",
    "$$ F_{\\Delta \\mathbf{r}} = \\mathbf{F} \\cdot \\frac{\\Delta \\mathbf{r}}{|\\Delta \\mathbf{r}|} = |\\mathbf{F}|\\cos\\theta$$"
   ]
  },
  {
   "cell_type": "markdown",
   "id": "61f35521-e11c-40ae-aeeb-2ae6da602025",
   "metadata": {},
   "source": [
    "As is shown in the figure, $\\theta$ is the degree of seperation between $\\mathbf{F}$ and $\\Delta \\mathbf{r}$.  Of course, work is given by  \n",
    "\n",
    "$$ W = F_{\\Delta \\mathbf{r}} |\\Delta \\mathbf{r}| = \\mathbf{F}\\cdot\\Delta \\mathbf{r}$$"
   ]
  },
  {
   "cell_type": "markdown",
   "id": "19ec5082-6ca0-4bca-bdd0-d59220a9cc63",
   "metadata": {},
   "source": [
    "For a variable force applied over a curve, the total work is found by 'summing' the infinitesimal pieces.  We call this a line integral and denote it:  \n",
    "\n",
    "$$ \\int_C\\mathbf{F}\\cdot\\mathrm{d}\\mathbf{r}$$"
   ]
  },
  {
   "cell_type": "markdown",
   "id": "7f56e30e-2b9a-4b7d-b89c-30ecb397beaf",
   "metadata": {},
   "source": [
    "It is illustrated in the above figure on the right.  \n",
    "\n",
    "### b) Computing line integrals  \n",
    "\n",
    "We show this by steps by example.  \n",
    "\n",
    "#### Example 1  \n",
    "\n",
    "Evaluate $\\displaystyle I = \\int_Cx^2y\\,\\mathrm{d}x + (x-2y)\\,\\mathrm{d}y$ over the part of the parabola $y=x^2$ frm $(0,0)$ to $(1,1)$"
   ]
  },
  {
   "cell_type": "markdown",
   "id": "50e53e11-039f-44d9-b795-aa7383feafad",
   "metadata": {},
   "source": [
    "Of cource the field is:  \n",
    "\n",
    "$$ \\mathbf{F} := \\langle M,N\\rangle = \\langle x^2y, x-2y\\rangle$$"
   ]
  },
  {
   "cell_type": "markdown",
   "id": "f7d07441-c721-41ec-9edf-14cccd46908f",
   "metadata": {},
   "source": [
    "And, the parabola is tracked (or plotted) by:  \n",
    "\n",
    "$$ \\mathbf{r}(t) = \\langle x(t),y(t)\\rangle$$"
   ]
  },
  {
   "cell_type": "markdown",
   "id": "6f92c78d-1b66-4e4f-b8a6-666dc9d9e211",
   "metadata": {},
   "source": [
    "where,  \n",
    "\n",
    "$$ x:=x(t) = t \\quad\\quad\\text{and}\\quad\\quad y:=y(t) = t^2$$"
   ]
  },
  {
   "cell_type": "markdown",
   "id": "ee90bf35-775c-4c46-9c49-112ca0b902b1",
   "metadata": {},
   "source": [
    "The line integral we must evaluate is:  \n",
    "\n",
    "$$ I = \\int_C\\mathbf{F}\\cdot\\mathrm{d}\\mathbf{r}$$"
   ]
  },
  {
   "cell_type": "markdown",
   "id": "44040b0b-99cf-4f60-977c-cad3a5bfa60f",
   "metadata": {},
   "source": [
    "Now, let's find $M$ and $N$ in terms of $t$.  \n",
    "\n",
    "$$ M := M(t) = t^4 \\quad\\quad\\text{and}\\quad\\quad N:=N(t) = t-2t^2$$"
   ]
  },
  {
   "cell_type": "markdown",
   "id": "7cc8c143-dec4-4605-868c-8bc12a52ecee",
   "metadata": {},
   "source": [
    "$$ x'(t) = 1 \\quad\\therefore \\quad \\mathrm{d}x = \\mathrm{d}t \\quad\\quad\\text{and}\\quad\\quad y'(t) = 2t \\quad\\therefore\\quad \\mathrm{d}y = 2t\\,\\mathrm{d}t$$"
   ]
  },
  {
   "cell_type": "markdown",
   "id": "62419c03-fd80-47f0-90b9-ac939cae7c77",
   "metadata": {},
   "source": [
    "Thus,  \n",
    "\n",
    "$$ I = \\int_{t_1}^{t_2} t^4\\,\\mathrm{d}t + 2t\\big(t-2t^2\\big)\\,\\mathrm{d}t$$"
   ]
  },
  {
   "cell_type": "markdown",
   "id": "8fc52df3-3145-44e9-ae10-6618a8ce5769",
   "metadata": {},
   "source": [
    "$$ = \\int_{t_1}^{t_2}\\big(t^4 - 4t^3 + 2t^2\\big)\\,\\mathrm{d}t$$"
   ]
  },
  {
   "cell_type": "markdown",
   "id": "0b35c55b-a13f-4b02-9942-6e05a4839ec0",
   "metadata": {},
   "source": [
    "where  \n",
    "\n",
    "$$ t_1 = 0 \\quad\\quad\\text{and}\\quad\\quad t_2 = 1$$"
   ]
  },
  {
   "cell_type": "markdown",
   "id": "3e625f9c-163d-44b9-829c-e89aa4136366",
   "metadata": {},
   "source": [
    "The primitive integral of the integrand of the integral in terms of $t$ is:  \n",
    "\n",
    "$$ \\int\\big(t^4-4t^3+2t^2\\big)\\,\\mathrm{d}t = \\frac{t^5}{5} - t^4 + \\frac{2t^3}{3} + K$$"
   ]
  },
  {
   "cell_type": "markdown",
   "id": "42ed6c09-eee3-47ed-9d32-44c89dece13b",
   "metadata": {},
   "source": [
    "Finally,  \n",
    "\n",
    "$$ I = \\frac{1}{5} - 1 + \\frac{2}{3}$$"
   ]
  },
  {
   "cell_type": "markdown",
   "id": "a4e6d077-f010-46c6-bd6d-ca0e1e6cc10a",
   "metadata": {},
   "source": [
    "$$ = \\frac{3-15+10}{15} = -\\frac{2}{15}$$"
   ]
  }
 ],
 "metadata": {
  "kernelspec": {
   "display_name": "Python 3 (ipykernel)",
   "language": "python",
   "name": "python3"
  },
  "language_info": {
   "codemirror_mode": {
    "name": "ipython",
    "version": 3
   },
   "file_extension": ".py",
   "mimetype": "text/x-python",
   "name": "python",
   "nbconvert_exporter": "python",
   "pygments_lexer": "ipython3",
   "version": "3.10.12"
  }
 },
 "nbformat": 4,
 "nbformat_minor": 5
}
