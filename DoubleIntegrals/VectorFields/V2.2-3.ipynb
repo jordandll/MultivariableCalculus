{
 "cells": [
  {
   "cell_type": "markdown",
   "id": "2ec9a3cd-1df5-44e5-839e-1b44d9b22809",
   "metadata": {},
   "source": [
    "### Gradient Fields and Exact Differentials"
   ]
  },
  {
   "cell_type": "markdown",
   "id": "c5f5e18d-4325-4768-8bf6-fd3906c9215a",
   "metadata": {},
   "source": [
    "### Finding the Potential Function\n",
    "\n",
    "In [example 2](GradientFields.ipynb#Example-2) of the previous reading we saw that:  \n",
    "\n",
    "$$ \\mathbf{F} = \\frac{x\\,\\mathbf{i} + y\\,\\mathbf{j}}{x^2+y^2} = \\nabla \\log\\sqrt{x^2+y^2} = \\nabla \\log r\\quad\\quad\\text{where }\\,r = \\sqrt{x^2+y^2}$$"
   ]
  },
  {
   "cell_type": "markdown",
   "id": "57aebff9-1fb7-461e-9bc5-6bff3c126673",
   "metadata": {},
   "source": [
    "Or, to put it another way, let $f:=f(x,y):=0.5\\log\\big(x^2+y^2\\big)$.  The potential of $\\mathbf{F}$ is $f$, implying that $\\mathbf{F}$ is a convervative or gradient field.  \n",
    "\n",
    "$$ \\mathbf{F} = \\nabla f$$"
   ]
  },
  {
   "cell_type": "markdown",
   "id": "982c1866-93bb-43e7-9d2b-41ce39ed5036",
   "metadata": {},
   "source": [
    "This raise the question of how we found the function $0.5\\log\\big(x^2+y^2\\big)$.  More generally, if we know that $\\mathbf{F} = \\nabla f$ -- for example if $\\mathrm{curl }\\,\\mathbf{F} = 0$ throughout the entire $xy$-plane -- how do we find the function $f(x,y)$?  There are two methods."
   ]
  },
  {
   "cell_type": "markdown",
   "id": "555c17be-1db8-420a-8903-264b6fd64b39",
   "metadata": {},
   "source": [
    "#### Method 1  \n",
    "\n",
    "Suppose $\\mathbf{F} = \\nabla f$.  By the Fundamental Theorem for line integrals,  \n",
    "\n",
    "\\begin{equation}\\tag{5}\n",
    "    \\int_{(x_0,y_0)}^{(x,y)} \\mathbf{F}\\cdot\\mathrm{d}\\mathbf{r} = f(x,y) - f(x_0,y_0)\n",
    "\\end{equation}"
   ]
  },
  {
   "cell_type": "markdown",
   "id": "4a2c85a4-b103-4a22-99bb-083127653741",
   "metadata": {},
   "source": [
    "Read from left to right, equation (5) gives us an easy way of finding the line integral in terms of $f(x,y)$.  But, read from right to left, it gives us a way of finding $f(x,y)$ by using the line integral.  \n",
    "\n",
    "\\begin{equation}\\tag{5'}\n",
    "    f(x,y) = \\int_{(x_0,y_0)}^{(x,y)}\\mathbf{F}\\cdot\\mathrm{d}\\mathbf{r} + c\n",
    "\\end{equation}"
   ]
  },
  {
   "cell_type": "markdown",
   "id": "eabfc356-c9c9-4ee8-a210-18d9d4e4296f",
   "metadata": {},
   "source": [
    "Here, $c$ is an arbitrary constant of integration;  As equation (5') shows, $c=f(x_0,y_0)$."
   ]
  },
  {
   "cell_type": "markdown",
   "id": "6f9622d0-f9de-479d-a687-0b2ba204611f",
   "metadata": {},
   "source": [
    "#### Example 3  \n",
    "\n",
    "Let $\\mathbf{F} = \\big(x^2+y^2\\big)\\mathbf{i} + \\big(2xy + 3y^2\\big)\\mathbf{j}$.  Verify that $\\mathbf{F}$ satisfies the criterion (2) from session V2.1 and use method 1 above to find the potential function $f(x,y)$."
   ]
  },
  {
   "cell_type": "markdown",
   "id": "2c1847f8-a843-428b-9e43-9807e992db11",
   "metadata": {},
   "source": [
    "First, to verify criterion (2), note that, since $\\mathbf{F}$ is continuously differentiable for all $(x,y)$, $D$, as it is defined in the aforementioned criterion, is the entire $xy$-plane.  \n",
    "\n",
    "$$ M_y = 2y \\quad\\quad\\text{and}\\quad\\quad N_x = 2y \\quad\\therefore\\quad M_y = N_x$$"
   ]
  },
  {
   "cell_type": "markdown",
   "id": "e0df4352-6816-4fd0-90de-b812918e6c92",
   "metadata": {},
   "source": [
    "Thus, the criterion is satisfied, implying that [method 1](#Method-1) applies.  Via equation (5'),  \n",
    "\n",
    "\\begin{equation}\\tag{6}\n",
    "    f(x_1,y_1) = \\int_{(0,0)}^{(x_1,y_1)}\\big(x+y^2\\big)\\,\\mathrm{d}x + \\big(2xy+3y^2\\big)\\mathrm{d}y\n",
    "\\end{equation}"
   ]
  },
  {
   "cell_type": "markdown",
   "id": "b736aae0-f801-4f4b-8cd8-f75e505fec52",
   "metadata": {},
   "source": [
    "The point $(x_0,y_0)$ can be any convenient starting point;  $(0,0)$ is the usual choice, if the integrand is defined there.  Note that we subscripted the variables with a $1$ to avoid confusion with the variables of integration, but we didn't have to."
   ]
  },
  {
   "cell_type": "markdown",
   "id": "58bfece7-dd54-4bff-8cc3-155427d08496",
   "metadata": {},
   "source": [
    "The path we are integrating over, denoted as '$C$', is from $(0,0)$ to $(x_1,y_1)$, where $(x_1,y_1)$ can be any point in the domain of $\\mathbf{F}$.  Since the integral is path-independent, we can choose any path we like.  The usual choice is to break down the path into two line segments, $C_1$ and $C_2$, which are given below.  \n",
    "\n",
    "$$ f(x_1,y_1) = \\int_C\\mathbf{F}\\cdot\\mathrm{d}\\mathbf{r} = \\int_{C_1}\\mathbf{F}\\cdot\\mathrm{d}\\mathbf{r} + \\int_{C_2}\\mathbf{F}\\cdot\\mathrm{d}\\mathbf{r} $$"
   ]
  },
  {
   "attachments": {},
   "cell_type": "markdown",
   "id": "d896ff11-8b60-4cc9-aebb-ac9962572e3b",
   "metadata": {},
   "source": [
    "The first line segment $C_1$ is from $(0,0)$ to $(x_1,0)$ on the line given by $(x,0)$.  The fact that $y=0$ throughout this line means that $\\mathrm{d}y=0$ throughout $C_1$;  The line integral over which is given by:  \n",
    "\n",
    "$$ \\int_{C_1}\\mathbf{F}\\cdot\\mathrm{d}\\mathbf{r} = \\int_0^{x_1}x\\,\\mathrm{d}x = 0.5x_1^2$$"
   ]
  },
  {
   "cell_type": "markdown",
   "id": "5e16bd17-1350-42c5-8eb0-204e910fbd45",
   "metadata": {},
   "source": [
    "The second line segment $C_2$ is from $(x_1,0)$ to $(x_1,y_1)$ on the line given by $(x_1,y)$.  The fact that $x=x_1=\\mathit{const}$ -- i.e. $x$ does not change -- throughout this line means that $\\mathrm{d}x=0$.  The line integral over this line segment is given by:  \n",
    "\n",
    "$$ \\int_{C_2}\\mathbf{F}\\cdot\\mathrm{d}\\mathbf{r} = \\int_0^{y_1}\\big(2x_1y + 3y^2\\big)\\,\\mathrm{d}y = x_1y_1^2 + y_1^3$$"
   ]
  },
  {
   "cell_type": "markdown",
   "id": "dadf9caf-e6ea-492e-aaad-feb75eeef900",
   "metadata": {},
   "source": [
    "Thus,  \n",
    "\n",
    "$$ f(x_1,y_1) = 0.5x_1^2 + x_1y_1^2 + y_1^3$$"
   ]
  },
  {
   "cell_type": "markdown",
   "id": "65414d1b-fb09-4411-a685-8f4a8db8a3bd",
   "metadata": {},
   "source": [
    "And, finally, dropping the subscripts and adding the arbitrary constant of integration $c$ we get:  \n",
    "\n",
    "$$ f(x,y) = 0.5x^2 + xy^2 + y^3 + c$$"
   ]
  },
  {
   "cell_type": "markdown",
   "id": "13be86bc-5c9e-4a63-a16f-cb8edb97c305",
   "metadata": {},
   "source": [
    "#### Method 2  \n",
    "\n",
    "Once again suppose that $\\mathbf{F} = \\nabla f$, which implies that $\\mathbf{F} = M\\mathbf{i} + N\\mathbf{j} = f_x\\mathbf{i} + f_y\\,\\mathbf{j}$.  It follows that:  \n",
    "\n",
    "\\begin{equation}\\tag{7}\n",
    "    f_x = M \\quad\\quad\\text{and}\\quad\\quad f_y = N\n",
    "\\end{equation}"
   ]
  },
  {
   "cell_type": "markdown",
   "id": "1574d738-7eca-4d36-9b70-40d4f9324dca",
   "metadata": {},
   "source": [
    "The are two equations involving partial derivatives, which we can solve simultaneously by integration.  We will illustrate using the previous example:  $\\mathbf{F} = \\big(x+y^2\\big)\\mathbf{i} + \\big(2xy+3y^2\\big)\\mathbf{j}$.  Via equation (7),  \n",
    "\n",
    "$$ \\frac{\\partial f}{\\partial x} = x+y^2 \\quad\\therefore\\quad f = \\int\\big(x+y^2\\big)\\,\\mathrm{d}x$$"
   ]
  },
  {
   "cell_type": "markdown",
   "id": "daf85523-7407-4d74-abbd-87caffd24f83",
   "metadata": {},
   "source": [
    "Holding $y$ fixed and integrating with respect to $x$ gives:  \n",
    "\n",
    "\\begin{equation}\\tag{8}\n",
    "    f = 0.5x^2 + xy^2 + g(y)\n",
    "\\end{equation}"
   ]
  },
  {
   "cell_type": "markdown",
   "id": "ac60ca31-c3e8-48c6-b0d7-7c9ef5623960",
   "metadata": {},
   "source": [
    "where $g(y)$ is an arbitrary function of $y$, which we can find by calculating $f_y$ in two ways;  One of which is by partially differentiating throughout equation (8) with respect to $y$.  \n",
    "\n",
    "$$ f_y = 2yx + g'(y)$$"
   ]
  },
  {
   "cell_type": "markdown",
   "id": "9da43d59-fa50-406e-b5f5-ab799ab61a75",
   "metadata": {},
   "source": [
    "The other is from equation (7) and substitution.  \n",
    "\n",
    "$$ f_y = 2xy + 3y^2$$"
   ]
  },
  {
   "cell_type": "markdown",
   "id": "dcec02c3-0c94-43d1-b40a-7c0df14c74b6",
   "metadata": {},
   "source": [
    "Via the above two equations and equivalence principle,  \n",
    "\n",
    "$$ g'(y) = 3y^2 \\quad\\therefore\\quad g(y) = \\int 3y^2\\,\\mathrm{d}y$$"
   ]
  },
  {
   "cell_type": "markdown",
   "id": "a67b8a06-4f91-4a6f-b23b-62628c042b05",
   "metadata": {},
   "source": [
    "Thus,  \n",
    "\n",
    "$$ g(y) = y^3 + c$$"
   ]
  },
  {
   "cell_type": "markdown",
   "id": "b25528c0-392c-4493-a377-c464806332d5",
   "metadata": {},
   "source": [
    "And, finally, via the above equation, equation (8) and substitution,  \n",
    "\n",
    "$$ f(x,y) = 0.5x^2 + xy^2 + y^3 + c$$"
   ]
  },
  {
   "cell_type": "markdown",
   "id": "2c5e2e1a-6b13-4cd6-9379-68e3425053fa",
   "metadata": {},
   "source": [
    "### Problems"
   ]
  },
  {
   "attachments": {},
   "cell_type": "markdown",
   "id": "25ce3fcc-3b41-431a-9262-0323a92c3165",
   "metadata": {},
   "source": [
    "#### Problem 1\n",
    "\n",
    "Show $\\mathbf{F} = \\big\\langle3x^2+6xy,3x^2+6y\\big\\rangle$ is conservative and find the potential function $f$ such that $\\mathbf{F}=\\nabla f$.  "
   ]
  },
  {
   "cell_type": "markdown",
   "id": "a8d34488-339f-4955-b8ed-41b693e5c667",
   "metadata": {},
   "source": [
    "$$ M_y = 6x \\quad\\quad\\text{and}\\quad\\quad N_x = 6x \\quad\\therefore\\quad \\mathbf{F} = \\nabla f$$"
   ]
  },
  {
   "cell_type": "markdown",
   "id": "41ab3094-bc69-4915-a37a-9b72810882d4",
   "metadata": {},
   "source": [
    "Note that $\\mathbf{F}$ is continuously differentiable for all $(x,y)$ therefore the assumption for the normal criterion for conservative fields is satisfied.  To find the potential of $\\mathbf{F}$ we will use [method 2](#Method-2).  \n",
    "\n",
    "$$ \\mathbf{F} = \\langle f_x,f_y\\rangle \\quad\\therefore\\quad f_x = 3x^2 + 6xy \\quad\\therefore$$"
   ]
  },
  {
   "cell_type": "markdown",
   "id": "54ff952b-8520-41a6-9806-92131445c1e7",
   "metadata": {},
   "source": [
    "$$ f = \\int\\big(3x^2+6xy\\big)\\,\\mathrm{d}x = x^3 + 3x^2y + g(y)$$"
   ]
  },
  {
   "attachments": {},
   "cell_type": "markdown",
   "id": "6af97ebd-d84b-4db9-9b0c-f9ab3775adac",
   "metadata": {},
   "source": [
    "$$ f_y = 3x^2 + 6y \\quad\\quad\\text{and}\\quad\\quad f_y = 3x^2 + g'(y)$$"
   ]
  },
  {
   "cell_type": "markdown",
   "id": "6f74e567-a314-4fb1-9656-c6ae00fd8041",
   "metadata": {},
   "source": [
    "$$ g'(y) = 6y\\quad\\therefore\\quad g(y) = 3y^2 + c$$"
   ]
  },
  {
   "cell_type": "markdown",
   "id": "62852852-c291-442b-b225-d74c4e3429fd",
   "metadata": {},
   "source": [
    "Finally,  \n",
    "\n",
    "$$ f(x,y) = x^3 + 3x^2y + 3y^2 + c$$"
   ]
  },
  {
   "cell_type": "markdown",
   "id": "594742f3-0441-4cc4-9b65-d65ed452e0f7",
   "metadata": {},
   "source": [
    "To verify the above:  \n",
    "\n",
    "$$ \\nabla f = \\big\\langle 3x^2 + 6xy, 3x^2 + 6y\\big\\rangle$$"
   ]
  },
  {
   "cell_type": "markdown",
   "id": "45692799-ae50-41ef-b547-22d4c5df087d",
   "metadata": {},
   "source": [
    "#### Problem 2\n",
    "\n",
    "Let $\\mathbf{F} = \\big(x+xy^2\\big)\\mathbf{i} + \\big(x^2y+3y^2\\big)\\mathbf{j}$.  Show $\\mathbf{F}$ is a gradient field and find the potential function using both methods."
   ]
  },
  {
   "cell_type": "markdown",
   "id": "cc3cb5b7-fb9a-441f-bea9-319df62603cf",
   "metadata": {},
   "source": [
    "$$ M_y = 2xy \\quad\\quad\\text{and}\\quad\\quad N_x = 2xy\\quad\\therefore\\quad \\mathbf{F} = \\nabla f$$"
   ]
  },
  {
   "cell_type": "markdown",
   "id": "c0186236-0783-46c5-9c4d-0a71ef912e88",
   "metadata": {},
   "source": [
    "Using **method 1**:  \n",
    "\n",
    "$$ f(x_1,y_1) = \\int_C \\mathbf{F}\\cdot\\mathrm{d}\\mathbf{r} = \\int_{C_1}\\mathbf{F}\\cdot\\mathrm{d}\\mathbf{r} + \\int_{C_2}\\mathbf{F}\\cdot\\mathrm{d}\\mathbf{r}$$"
   ]
  },
  {
   "cell_type": "markdown",
   "id": "095d03f4-a658-4f36-a695-0f49553531c6",
   "metadata": {},
   "source": [
    "where $C$ is any path from $(0,0)$ to $(x_1,y_1)$, $C_1$ is the line segment from $(0,0)$ to $(x_1,0)$ on the line given by $(x,0)$, and $C_2$ is the line segment from $(x_1,0)$ to $(x_1,y_1)$ on the line given by $(x_1,y)$.  Note that $x_1$ and $y_1$ are arbitrary constants."
   ]
  },
  {
   "cell_type": "markdown",
   "id": "41bd1a10-0365-494c-b003-ea36f07eba59",
   "metadata": {},
   "source": [
    "$$ \\int_C\\mathbf{F}\\cdot\\mathrm{d}\\mathbf{r} = \\int_C\\big(x+xy^2\\big)\\,\\mathrm{d}x + \\big(x^2y+3y^2\\big)\\,\\mathrm{d}y$$"
   ]
  },
  {
   "cell_type": "markdown",
   "id": "2aaac78a-8c3b-48df-b4eb-6306483023cd",
   "metadata": {},
   "source": [
    "Throughout $C_1$, the first line segment, $y=0$, implying that $\\mathrm{d}y=0$ throughout this segment.  Thus,  \n",
    "\n",
    "$$ \\int_{C_1}\\mathbf{F}\\cdot\\mathrm{d}\\mathbf{r} = \\int_0^{x_1}x\\,\\mathrm{d}x = 0.5x_1^2$$"
   ]
  },
  {
   "attachments": {},
   "cell_type": "markdown",
   "id": "c0d77548-5c36-4d54-9e4d-8448df3c30df",
   "metadata": {},
   "source": [
    "Throughout $C_2$, the second line segment, $x=x_1=\\mathit{const}$, implying that $\\mathrm{d}x=0$ throughout this segment.  Thus,  \n",
    "\n",
    "$$ \\int_{C_2}\\mathbf{F}\\cdot\\mathrm{d}\\mathbf{r} = \\int_0^{y_1}\\big(x_1^2 y + 3y^2\\big)\\,\\mathrm{d}y = 0.5x_1^2y_1^2 + y_1^3$$"
   ]
  },
  {
   "cell_type": "markdown",
   "id": "b496fdbb-d6f8-448e-be15-9baa2b406a5a",
   "metadata": {},
   "source": [
    "Finally,  \n",
    "\n",
    "$$ f(x,y) = 0.5x^2 + 0.5x^2y^2 + y^3 + c$$"
   ]
  },
  {
   "cell_type": "markdown",
   "id": "769af43b-d065-46a8-b397-d719039d533f",
   "metadata": {},
   "source": [
    "To verify the above:  \n",
    "\n",
    "$$ \\nabla f = \\big\\langle x + xy^2, x^2y + 3y^2\\big\\rangle$$"
   ]
  },
  {
   "cell_type": "markdown",
   "id": "8b705c84-6dae-4899-81c8-4491df31e3aa",
   "metadata": {},
   "source": [
    "Using **method 2**:  \n",
    "\n",
    "$$ f_x = x + xy^2 \\quad\\therefore\\quad f = 0.5x^2 + 0.5x^2y^2 + g(y)$$"
   ]
  },
  {
   "cell_type": "markdown",
   "id": "c18ccf4a-dc05-47b8-9e08-07e2e096da35",
   "metadata": {},
   "source": [
    "$$ f_y = x^2y + 3y^2 \\quad\\quad\\text{and}\\quad\\quad f_y = x^2y + g'(y)$$"
   ]
  },
  {
   "cell_type": "markdown",
   "id": "4be14f31-3ea4-48fc-acfd-c117a3fe04e9",
   "metadata": {},
   "source": [
    "$$ g'(y) = 3y^2 \\quad\\therefore\\quad g(y) = y^3 + c$$"
   ]
  },
  {
   "cell_type": "markdown",
   "id": "d0454b87-7b44-490b-8aa4-bc1c34d94e1d",
   "metadata": {},
   "source": [
    "Finally,  \n",
    "\n",
    "$$ f(x,y) = 0.5x^2 + 0.5x^2y^2 + y^3 + c$$"
   ]
  }
 ],
 "metadata": {
  "kernelspec": {
   "display_name": "Python 3 (ipykernel)",
   "language": "python",
   "name": "python3"
  },
  "language_info": {
   "codemirror_mode": {
    "name": "ipython",
    "version": 3
   },
   "file_extension": ".py",
   "mimetype": "text/x-python",
   "name": "python",
   "nbconvert_exporter": "python",
   "pygments_lexer": "ipython3",
   "version": "3.10.12"
  }
 },
 "nbformat": 4,
 "nbformat_minor": 5
}
