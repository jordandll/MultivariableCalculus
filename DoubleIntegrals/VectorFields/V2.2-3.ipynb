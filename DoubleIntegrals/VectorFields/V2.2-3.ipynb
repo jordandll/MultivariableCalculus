{
 "cells": [
  {
   "cell_type": "markdown",
   "id": "2ec9a3cd-1df5-44e5-839e-1b44d9b22809",
   "metadata": {},
   "source": [
    "### Gradient Fields and Exact Differentials"
   ]
  },
  {
   "cell_type": "markdown",
   "id": "c5f5e18d-4325-4768-8bf6-fd3906c9215a",
   "metadata": {},
   "source": [
    "### Finding the Potential Function\n",
    "\n",
    "In [example 2](GradientFields.ipynb#Example-2) of the previous reading we saw that:  \n",
    "\n",
    "$$ \\mathbf{F} = \\frac{x\\mathbf{i} + y\\mathbf{j}}{x^2+y^2} = \\nabla \\log\\sqrt{x^2+y^2} = \\nabla \\log r\\quad\\quad\\text{where }\\,r = \\sqrt{x^2+y^2}$$"
   ]
  },
  {
   "cell_type": "markdown",
   "id": "57aebff9-1fb7-461e-9bc5-6bff3c126673",
   "metadata": {},
   "source": [
    "Or, to put it another way, let $f:=f(x,y):=0.5\\log\\big(x^2+y^2\\big)$.  The potential of $\\mathbf{F}$ is $f$, implying that $\\mathbf{F}$ is a convervative or gradient field.  \n",
    "\n",
    "$$ \\mathbf{F} = \\nabla f$$"
   ]
  },
  {
   "cell_type": "markdown",
   "id": "982c1866-93bb-43e7-9d2b-41ce39ed5036",
   "metadata": {},
   "source": [
    "This raise the question of how we found the function $0.5\\log\\big(x^2+y^2\\big)$.  More generally, if we know that $\\mathbf{F} = \\nabla f$ -- for example if $\\mathrm{curl }\\,\\mathbf{F} = 0$ throughout the entire $xy$-plane -- how do we find the function $f(x,y)$?  There are two methods."
   ]
  },
  {
   "cell_type": "markdown",
   "id": "555c17be-1db8-420a-8903-264b6fd64b39",
   "metadata": {},
   "source": [
    "#### Method 1  \n",
    "\n",
    "Suppose $\\mathbf{F} = \\nabla f$.  By the Fundamental Theorem for line integrals,  \n",
    "\n",
    "\\begin{equation}\\tag{5}\n",
    "    \\int_{(x_0,y_0)}^{(x,y)} \\mathbf{F}\\cdot\\mathrm{d}r = f(x,y) - f(x_0,y_0)\n",
    "\\end{equation}"
   ]
  },
  {
   "cell_type": "markdown",
   "id": "4a2c85a4-b103-4a22-99bb-083127653741",
   "metadata": {},
   "source": [
    "Read from left to right, equation (5) gives us an easy way of finding the line integral in terms of $f(x,y)$.  But, read from right to left, it gives us a way of finding $f(x,y)$ by using the line integral.  \n",
    "\n",
    "\\begin{equation}\\tag{5'}\n",
    "    f(x,y) = \\int_{(x_0,y_0)}^{(x,y)}\\mathbf{F}\\cdot\\mathrm{d}r + c\n",
    "\\end{equation}"
   ]
  },
  {
   "cell_type": "markdown",
   "id": "eabfc356-c9c9-4ee8-a210-18d9d4e4296f",
   "metadata": {},
   "source": [
    "Here, $c$ is an arbitrary constant of integration;  As equation (5') shows, $c=f(x_0,y_0)$."
   ]
  },
  {
   "cell_type": "markdown",
   "id": "6f9622d0-f9de-479d-a687-0b2ba204611f",
   "metadata": {},
   "source": [
    "#### Example 3  \n",
    "\n",
    "Let $\\mathbf{F} = \\big(x^2+y^2\\big)\\mathbf{i} + \\big(2xy + 3y^2\\big)\\mathbf{j}$.  Verify that $\\mathbf{F}$ satisfies the criterion (2) from session V2.1 and use method 1 above to find the potential function $f(x,y)$."
   ]
  },
  {
   "cell_type": "markdown",
   "id": "2c1847f8-a843-428b-9e43-9807e992db11",
   "metadata": {},
   "source": [
    "First, to verify criterion (2), note that, since $\\mathbf{F}$ is continuously differentiable for all $(x,y)$, $D$, as it is defined in the aforementioned criterion, is the entire $xy$-plane.  \n",
    "\n",
    "$$ M_y = 2y \\quad\\quad\\text{and}\\quad\\quad N_x = 2y \\quad\\therefore\\quad M_y = N_x$$"
   ]
  },
  {
   "cell_type": "markdown",
   "id": "e0df4352-6816-4fd0-90de-b812918e6c92",
   "metadata": {},
   "source": [
    "Thus, the criterion is satisfied, implying that [method 1](#Method-1) applies.  Via equation (5'),  \n",
    "\n",
    "\\begin{equation}\\tag{6}\n",
    "    f(x_1,y_1) = \\int_{(0,0)}^{(x_1,y_1)}\\big(x+y^2\\big)\\,\\mathrm{d}x + \\big(2xy+3y^2\\big)\\mathrm{d}y\n",
    "\\end{equation}"
   ]
  },
  {
   "cell_type": "markdown",
   "id": "b736aae0-f801-4f4b-8cd8-f75e505fec52",
   "metadata": {},
   "source": [
    "The point $(x_0,y_0)$ can be any convenient starting point;  $(0,0)$ is the usual choice, if the integrand is defined there.  Note that we subscripted the variables with a $1$ to avoid confusion with the variables of integration, but we didn't have to."
   ]
  },
  {
   "cell_type": "markdown",
   "id": "58bfece7-dd54-4bff-8cc3-155427d08496",
   "metadata": {},
   "source": [
    "The path we are integrating over, denoted as '$C$', is from $(0,0)$ to $(x_1,y_1)$, where $(x_1,y_1)$ can be any point in the domain of $\\mathbf{F}$.  Since the integral is path-independent, we can choose any path we like.  The usual choice is to break down the path into two line segments, $C_1$ and $C_2$, which are given below.  \n",
    "\n",
    "$$ f(x_1,y_1) = \\int_C\\mathbf{F}\\cdot\\mathrm{d}\\mathbf{r} = \\int_{C_1}\\mathbf{F}\\cdot\\mathrm{d}\\mathbf{r} + \\int_{C_2}\\mathbf{F}\\cdot\\mathrm{d}\\mathbf{r} $$"
   ]
  },
  {
   "attachments": {},
   "cell_type": "markdown",
   "id": "d896ff11-8b60-4cc9-aebb-ac9962572e3b",
   "metadata": {},
   "source": [
    "The first line segment $C_1$ is from $(0,0)$ to $(x_1,0)$ on the line given by $(x,0)$.  The fact that $y=0$ throughout this line means that $\\mathrm{d}y=0$ throughout $C_1$;  The line integral over which is given by:  \n",
    "\n",
    "$$ \\int_{C_1}\\mathbf{F}\\cdot\\mathrm{d}\\mathbf{r} = \\int_0^{x_1}x\\,\\mathrm{d}x = 0.5x_1^2$$"
   ]
  },
  {
   "cell_type": "markdown",
   "id": "5e16bd17-1350-42c5-8eb0-204e910fbd45",
   "metadata": {},
   "source": [
    "The second line segment $C_2$ is from $(x_1,0)$ to $(x_1,y_1)$ on the line given by $(x_1,y)$.  The fact that $x=x_1=\\mathit{const}$ -- i.e. $x$ does not change -- throughout this line means that $\\mathrm{d}x=0$.  The line integral over this line segment is given by:  \n",
    "\n",
    "$$ \\int_{C_2}\\mathbf{F}\\cdot\\mathrm{d}\\mathbf{r} = \\int_0^{y_1}\\big(2x_1y + 3y^2\\big)\\,\\mathrm{d}y = x_1y_1^2 + y_1^3$$"
   ]
  },
  {
   "cell_type": "markdown",
   "id": "dadf9caf-e6ea-492e-aaad-feb75eeef900",
   "metadata": {},
   "source": [
    "Thus,  \n",
    "\n",
    "$$ f(x_1,y_1) = 0.5x_1^2 + x_1y_1^2 + y_1^3$$"
   ]
  },
  {
   "cell_type": "markdown",
   "id": "65414d1b-fb09-4411-a685-8f4a8db8a3bd",
   "metadata": {},
   "source": [
    "And, finally, dropping the subscripts and adding the arbitrary constant of integration $c$ we get:  \n",
    "\n",
    "$$ f(x,y) = 0.5x^2 + xy^2 + y^3 + c$$"
   ]
  },
  {
   "cell_type": "code",
   "execution_count": null,
   "id": "36fe4a3c-ddbd-4ff8-8b9c-0fc5dba7c3be",
   "metadata": {},
   "outputs": [],
   "source": []
  }
 ],
 "metadata": {
  "kernelspec": {
   "display_name": "Python 3 (ipykernel)",
   "language": "python",
   "name": "python3"
  },
  "language_info": {
   "codemirror_mode": {
    "name": "ipython",
    "version": 3
   },
   "file_extension": ".py",
   "mimetype": "text/x-python",
   "name": "python",
   "nbconvert_exporter": "python",
   "pygments_lexer": "ipython3",
   "version": "3.10.12"
  }
 },
 "nbformat": 4,
 "nbformat_minor": 5
}
