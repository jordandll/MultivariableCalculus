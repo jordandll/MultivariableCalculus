{
 "cells": [
  {
   "cell_type": "markdown",
   "id": "ae77f358-2eda-4287-8f7e-f897e46fa4ab",
   "metadata": {},
   "source": [
    "## Exam 2\n",
    "\n",
    "### Problem 1  \n",
    "\n",
    "\\begin{equation}\\tag{1.1}\n",
    "    f(x,y) = x^2y^2 - x\n",
    "\\end{equation}"
   ]
  },
  {
   "cell_type": "markdown",
   "id": "680a91ae-3c52-44e0-b207-8f65e58b98d7",
   "metadata": {},
   "source": [
    "$$ \\nabla f = \\langle 2xy^2 - 1, 2x^2y\\rangle$$"
   ]
  },
  {
   "cell_type": "markdown",
   "id": "5b20d0d8-1d46-48fd-9eac-0c9a0d062649",
   "metadata": {},
   "source": [
    "**a)**  $$ \\nabla f(2,1) = \\langle 3,8\\rangle$$"
   ]
  },
  {
   "cell_type": "markdown",
   "id": "8ffc4ec7-3e54-4dde-ac53-7307469bf2b6",
   "metadata": {},
   "source": [
    "**b)**  $$ f = 2 + 3(x-2) + 8(y-1) = 3x + 8y - 12$$"
   ]
  },
  {
   "cell_type": "markdown",
   "id": "ef2388db-4dcd-4b23-b6c7-3cd9c824f6c6",
   "metadata": {},
   "source": [
    "**c)**  The linear approximation of $f$ at (2,1) is given by:  \n",
    "\n",
    "$$ f\\approxeq 2 + f_x(2,1)\\Delta x + f_y(2,1)\\Delta y$$"
   ]
  },
  {
   "cell_type": "markdown",
   "id": "83d5712d-5fa9-4637-84b0-fc2fae10d4ac",
   "metadata": {},
   "source": [
    "$$ = 2 + 3\\Delta x + 8\\Delta y$$"
   ]
  },
  {
   "cell_type": "markdown",
   "id": "b3babdc6-d6e6-45e0-8514-4431bd1df73d",
   "metadata": {},
   "source": [
    "$$ = 2 + 3(x-2) + 8(y-1)$$"
   ]
  },
  {
   "cell_type": "markdown",
   "id": "d49b1d5d-7f3b-4a96-baf0-9ef24e63fa96",
   "metadata": {},
   "source": [
    "$$ = 3x + 8y -4 - 8 = 3x + 8y -12$$"
   ]
  },
  {
   "cell_type": "markdown",
   "id": "96b090b8-5176-4660-9a76-08e9482b5106",
   "metadata": {},
   "source": [
    "Thus,  \n",
    "\n",
    "$$ f(1.9,1.1) \\approxeq 3\\cdot 1.9 + 8\\cdot 1.1 - 12$$"
   ]
  },
  {
   "cell_type": "code",
   "execution_count": 1,
   "id": "dc4deea0-b742-4ce6-b79e-dc311621328a",
   "metadata": {
    "tags": []
   },
   "outputs": [
    {
     "data": {
      "text/plain": [
       "2.5"
      ]
     },
     "execution_count": 1,
     "metadata": {},
     "output_type": "execute_result"
    }
   ],
   "source": [
    "3*1.9 + 8*1.1 - 12"
   ]
  },
  {
   "cell_type": "markdown",
   "id": "e56370e9-8f63-4323-a00a-0a931a51e6ca",
   "metadata": {},
   "source": [
    "**d)**  Find the directional derivative of $f$ at $P=(2, 1)$ in the direction of $\\mathbf{u} = −\\mathbf{i} + \\mathbf{j}$."
   ]
  },
  {
   "cell_type": "markdown",
   "id": "93685986-dd54-4026-b81f-d8ac513075f3",
   "metadata": {},
   "source": [
    "To find $\\displaystyle \\left(\\frac{\\mathrm{d}f}{\\mathrm{d}s}\\right)_{\\big\\vert P, \\mathbf{u}}$ we must first find the parametric equation that gives the line through $P$ that is parallel to $\\mathbf{u}$, the direction of our directional derivative.  To do so, let $\\mathbf{r}(s)$ be defined as:  \n",
    "\n",
    "$$ \\mathbf{r} := \\mathbf{r}(s) = \\langle 2,1\\rangle + s\\frac{\\mathbf{u}}{|\\mathbf{u}|} = \\langle 2,1\\rangle + s\\,\\frac{\\langle -1,1\\rangle}{\\sqrt{2}}$$"
   ]
  },
  {
   "cell_type": "markdown",
   "id": "de6adfe4-5a12-421f-b9df-5dec00f07e5a",
   "metadata": {},
   "source": [
    "The above defines the position vector $\\mathbf{r}$ of a motion along this line as a function of $s$.  Thus, said line is given by the following parametric equations:  \n",
    "\n",
    "\\begin{equation}\\tag{1.2a,b}\n",
    "    x = 2 - \\frac{s}{\\sqrt{2}} \\quad\\quad\\text{and}\\quad\\quad y = 1 + \\frac{s}{\\sqrt{2}}\n",
    "\\end{equation}"
   ]
  },
  {
   "cell_type": "markdown",
   "id": "510c432c-aa7f-43a7-8150-a6aeb655e178",
   "metadata": {},
   "source": [
    "\\begin{equation}\\tag{1.3a,b}\n",
    "    x^2 = 4 - 2\\sqrt{2}s + 0.5s^2 \\quad\\quad\\text{and}\\quad\\quad y^2 = 1 + \\sqrt{2}s + 0.5s^2\n",
    "\\end{equation}"
   ]
  },
  {
   "cell_type": "markdown",
   "id": "1cfd7858-bb4a-4d80-8db4-44c3b15c3c06",
   "metadata": {},
   "source": [
    "Via the above two equations, equations (1.2a) and (1.1) and substitution,  \n",
    "\n",
    "$$ f(s)_{\\big\\vert P,\\mathbf{u}} := f(x(s),y(s)) = \\big(4-2\\sqrt{2}s + 0.5s^2\\big)\\big(1 + \\sqrt{2}s + 0.5s^2\\big) - 2 + \\frac{s}{\\sqrt{2}}$$"
   ]
  },
  {
   "cell_type": "markdown",
   "id": "f0f7de1f-8320-4ab5-8f9d-45a6256f579e",
   "metadata": {},
   "source": [
    "Differentiating the above with respect to $s$ gives:  \n",
    "\n",
    "$$\\left(\\frac{\\mathrm{d}f}{\\mathrm{d}s}\\right)_{\\big\\vert P,\\mathbf{u}} = f'(s)_{\\big\\vert P,\\mathbf{u}} = \\frac{1}{\\sqrt{2}} + \\big(1+\\sqrt{2}s + 0.5s^2\\big)\\big(s - 2\\sqrt{2}\\big) + \\big(4-2\\sqrt{2}s + 0.5s^2\\big)\\big(s + \\sqrt{2}\\big) $$"
   ]
  },
  {
   "cell_type": "markdown",
   "id": "6554e20f-3c0c-4811-985b-dc21d39b85d0",
   "metadata": {},
   "source": [
    "And, via the above equation, the fact that $x=2$, which implies that $s=0$,  \n",
    "\n",
    "$$ f'(s)_{\\big\\vert P,\\mathbf{u}} = \\frac{1}{\\sqrt{2}} - 2\\sqrt{2} + 4\\sqrt{2} = \\frac{1}{\\sqrt{2}} + 2\\sqrt{2}$$"
   ]
  },
  {
   "cell_type": "markdown",
   "id": "97c497e0-0dd9-41e1-898a-8065d644c982",
   "metadata": {},
   "source": [
    "\\begin{equation}\\tag{1.4}\n",
    "    f'(s)_{\\big\\vert P,\\mathbf{u}} = \\frac{5}{\\sqrt{2}}\n",
    "\\end{equation}"
   ]
  },
  {
   "cell_type": "code",
   "execution_count": 3,
   "id": "9bbd1433-1b08-4e7f-a160-32499ace0be4",
   "metadata": {
    "tags": []
   },
   "outputs": [],
   "source": [
    "import numpy as np\n",
    "import sympy as sp"
   ]
  },
  {
   "cell_type": "code",
   "execution_count": 3,
   "id": "eeb55241-282c-4b93-91e1-a507e486158b",
   "metadata": {
    "tags": []
   },
   "outputs": [
    {
     "data": {
      "text/plain": [
       "44.99999999999999"
      ]
     },
     "execution_count": 3,
     "metadata": {},
     "output_type": "execute_result"
    }
   ],
   "source": [
    "theta_u = np.arcsin(1/np.sqrt(2)); np.degrees(theta_u)"
   ]
  },
  {
   "cell_type": "markdown",
   "id": "66cc0c46-5e52-4353-935b-9d4c80880247",
   "metadata": {},
   "source": [
    "Now let's try **another method** of finding the directional derivative at $P$ in the direction of $\\mathbf{u}$.  Let $\\mathbf{G}$ be defined as:  \n",
    "\n",
    "$$ \\mathbf{G}:=\\nabla f(P) = \\langle 3,8\\rangle$$"
   ]
  },
  {
   "cell_type": "markdown",
   "id": "73e1e0c8-6dce-47dc-9971-01b872386064",
   "metadata": {},
   "source": [
    "Our directional derivative is given by:  \n",
    "\n",
    "$$ f'(s)_{\\big\\vert P,\\mathbf{u}} = |\\mathbf{G}|\\cos\\theta$$"
   ]
  },
  {
   "cell_type": "markdown",
   "id": "0f1f47a5-e032-4c30-ae64-3d2e5ee14fb0",
   "metadata": {},
   "source": [
    "where $\\theta$ is the angle between $\\mathbf{G}$ and $\\mathbf{u}$.  \n",
    "\n",
    "$$ \\frac{\\mathbf{G}}{|\\mathbf{G}|} = \\frac{\\langle 3,8\\rangle}{\\sqrt{73}} \\approxeq \\langle \\cos 69^\\circ, \\sin 69^\\circ\\rangle \\quad\\quad \\text{and}\\quad\\quad \\frac{\\mathbf{u}}{|\\mathbf{u}|} = \\frac{\\langle-1,1\\rangle}{\\sqrt{2}} = \\langle \\cos135^\\circ,\\sin135\\rangle$$"
   ]
  },
  {
   "cell_type": "code",
   "execution_count": 4,
   "id": "92bb524c-f4f3-4c39-998b-10249fdd142b",
   "metadata": {
    "tags": []
   },
   "outputs": [
    {
     "data": {
      "text/plain": [
       "69.44395478041653"
      ]
     },
     "execution_count": 4,
     "metadata": {},
     "output_type": "execute_result"
    }
   ],
   "source": [
    "theta_G = np.arccos(3/np.sqrt(73)); np.degrees(theta_G)"
   ]
  },
  {
   "cell_type": "code",
   "execution_count": 5,
   "id": "de0fca08-7a52-4eeb-8875-e433544e77f3",
   "metadata": {
    "tags": []
   },
   "outputs": [
    {
     "data": {
      "text/plain": [
       "69.44395478041655"
      ]
     },
     "execution_count": 5,
     "metadata": {},
     "output_type": "execute_result"
    }
   ],
   "source": [
    "np.degrees(np.arcsin(8/np.sqrt(73)))"
   ]
  },
  {
   "cell_type": "code",
   "execution_count": 10,
   "id": "8a7a5aa1-6bb1-4edf-bc54-9602efb89648",
   "metadata": {
    "tags": []
   },
   "outputs": [
    {
     "data": {
      "text/plain": [
       "65.55604521958347"
      ]
     },
     "execution_count": 10,
     "metadata": {},
     "output_type": "execute_result"
    }
   ],
   "source": [
    "theta = np.radians(135)-theta_G; np.degrees(theta)"
   ]
  },
  {
   "cell_type": "markdown",
   "id": "1a49e618-6b1d-453c-9a2c-4c93b5d48d82",
   "metadata": {},
   "source": [
    "Thus,  \n",
    "\n",
    "$$ f'(s)_{\\big\\vert P,\\mathbf{u}} \\approxeq \\sqrt{73}\\cos66^\\circ\\approxeq \\frac{5}{\\sqrt{2}}$$"
   ]
  },
  {
   "cell_type": "code",
   "execution_count": 11,
   "id": "84cbf32a-9ab3-44e9-b435-9e8f0045fc64",
   "metadata": {
    "tags": []
   },
   "outputs": [
    {
     "data": {
      "text/plain": [
       "3.5355339059327378"
      ]
     },
     "execution_count": 11,
     "metadata": {},
     "output_type": "execute_result"
    }
   ],
   "source": [
    "np.sqrt(73)*np.cos(theta)"
   ]
  },
  {
   "cell_type": "code",
   "execution_count": 9,
   "id": "faae8edb-976c-4428-b515-db7f482836d3",
   "metadata": {
    "tags": []
   },
   "outputs": [
    {
     "data": {
      "text/plain": [
       "3.5355339059327373"
      ]
     },
     "execution_count": 9,
     "metadata": {},
     "output_type": "execute_result"
    }
   ],
   "source": [
    "5/np.sqrt(2)"
   ]
  },
  {
   "cell_type": "markdown",
   "id": "fd2d8720-8238-4406-81cf-c7b213ddc1a5",
   "metadata": {},
   "source": [
    "### Problem 2\n",
    "![map](exam2.svg)"
   ]
  },
  {
   "cell_type": "markdown",
   "id": "449006e1-c691-4613-adb8-e7f3da54903b",
   "metadata": {},
   "source": [
    "### Problem 3\n",
    "\n",
    "Let  \n",
    "\n",
    "$$ w :=f(x,y)=-3x^2 - 4xy - y^2 - 12y + 16x$$"
   ]
  },
  {
   "cell_type": "markdown",
   "id": "4725190e-892b-4592-b6ed-91ee184e27a5",
   "metadata": {},
   "source": [
    "**a)** $$ w_x = -6x - 4y + 16 \\quad\\quad\\text{and}\\quad\\quad w_y = -4x - 2y - 12$$"
   ]
  },
  {
   "cell_type": "markdown",
   "id": "63b1587c-c7c8-49b6-934b-6e3a3c1116ea",
   "metadata": {},
   "source": [
    "We must find $x$ and $y$ such that:  \n",
    "\n",
    "$$ 3x+2y = 8 \\quad\\quad\\text{and}\\quad\\quad 2x + y = -6$$"
   ]
  },
  {
   "cell_type": "markdown",
   "id": "0508808b-babe-41ea-b636-ba65dd6a5f6a",
   "metadata": {},
   "source": [
    "\\begin{equation}\\tag{3.1}\n",
    "    y = -6-2x\n",
    "\\end{equation}"
   ]
  },
  {
   "cell_type": "markdown",
   "id": "e58522fb-b838-4415-8e14-bea33ba9f1f0",
   "metadata": {},
   "source": [
    "$$ 3x -12 - 4x = 8 \\quad\\therefore\\quad x = -20$$"
   ]
  },
  {
   "cell_type": "markdown",
   "id": "57c47d74-2b79-41f0-98ad-6d5f06a7f07f",
   "metadata": {},
   "source": [
    "Thus,  \n",
    "\n",
    "$$ y = 34$$"
   ]
  },
  {
   "cell_type": "markdown",
   "id": "7f58f8a1-9bc1-4bdc-9b9a-88e1d7d02a2b",
   "metadata": {},
   "source": [
    "The only critical point is:  \n",
    "\n",
    "$$ \\mathbf{a} = (-20,34)$$"
   ]
  },
  {
   "cell_type": "markdown",
   "id": "755b7716-d3a6-4d8a-a7ec-9f7028a6d3cf",
   "metadata": {},
   "source": [
    "Without using the second derivative test, this seems like a maximum since the coefficient of the most significant terms of the definition of $w$ are negative.  Using the second derivative test:  \n",
    "\n",
    "$$ w_{xx} = -6 \\quad\\quad w_{xy} = -4\\quad\\quad w_{yy} = -2$$"
   ]
  },
  {
   "cell_type": "markdown",
   "id": "9cff4ce5-4a74-4e97-bc56-16b1ca18bd0d",
   "metadata": {},
   "source": [
    "Whereas $w_{xx}w_{yy} = 12 < 16 = w_{xy}^2$ therefore $\\mathbf{a}$ is a saddle point."
   ]
  },
  {
   "cell_type": "markdown",
   "id": "15795314-ac5f-4603-a2b9-d2952c886b5c",
   "metadata": {},
   "source": [
    "**b)**  Since all terms with $y$ as a factor have a negative coefficient, the max of $w$ on the first quadrant exists on the $x$-axis.  \n",
    "\n",
    "$$ g(x):= f(x,0) = -3x^2 + 16x$$"
   ]
  },
  {
   "cell_type": "markdown",
   "id": "3335f3be-29dc-40fe-ad82-f95e757b40ed",
   "metadata": {},
   "source": [
    "$$ g'(x) = -6x + 16$$"
   ]
  },
  {
   "cell_type": "markdown",
   "id": "25ddc54c-8c3f-4145-85a7-659e908805d0",
   "metadata": {},
   "source": [
    "$$ g'(x) = 0 \\quad\\implies\\quad x = \\frac{8}{3}$$"
   ]
  },
  {
   "cell_type": "markdown",
   "id": "46be0792-1bc1-46b0-9d9e-358a8269988e",
   "metadata": {},
   "source": [
    "Thus, the max of $w$ exists at:  \n",
    "\n",
    "$$ P = \\left(\\frac{8}{3},0\\right) $$"
   ]
  },
  {
   "cell_type": "markdown",
   "id": "691981aa-6a8c-4dbf-b994-5cbbe7708e95",
   "metadata": {},
   "source": [
    "Moreover,  \n",
    "\n",
    "$$ w_\\max = f(P) = -\\frac{64}{3} + 16\\cdot\\frac{8}{3} = \\frac{128-64}{3} = \\frac{64}{3}$$"
   ]
  },
  {
   "cell_type": "code",
   "execution_count": 1,
   "id": "69e750b6-7c82-446e-9a19-579926a80a3f",
   "metadata": {
    "tags": []
   },
   "outputs": [],
   "source": [
    "import matplotlib.pyplot as plt"
   ]
  },
  {
   "cell_type": "code",
   "execution_count": 4,
   "id": "96778a57-bac6-4211-b5b2-98c3f6492b54",
   "metadata": {
    "tags": []
   },
   "outputs": [
    {
     "data": {
      "image/png": "[encoded data removed]",
      "text/plain": [
       "<Figure size 640x480 with 2 Axes>"
      ]
     },
     "metadata": {},
     "output_type": "display_data"
    }
   ],
   "source": [
    "x = np.linspace(-60,30,num=100)\n",
    "y = np.linspace(-20,80,num=100)\n",
    "x, y = np.meshgrid(x,y)\n",
    "\n",
    "w = f = -3*x**2 - 4*x*y - y**2 - 12*y + 16*x\n",
    "\n",
    "fig, ax = plt.subplots()\n",
    "ax.set_xlabel('x-axis')\n",
    "ax.set_ylabel('y-axis')\n",
    "ax.grid()\n",
    "\n",
    "cs = ax.contour(x,y,f,levels=12)\n",
    "cb = fig.colorbar(cs)"
   ]
  },
  {
   "cell_type": "code",
   "execution_count": 7,
   "id": "a7ac1813-31d2-4b20-8cc5-a86a77856a3c",
   "metadata": {
    "tags": []
   },
   "outputs": [
    {
     "data": {
      "text/plain": [
       "100"
      ]
     },
     "execution_count": 7,
     "metadata": {},
     "output_type": "execute_result"
    }
   ],
   "source": [
    "len(w[99])"
   ]
  },
  {
   "cell_type": "markdown",
   "id": "5b60a0bb-06b3-49db-8764-44e03b0bae2f",
   "metadata": {},
   "source": [
    "### Problem 4  \n",
    "\n",
    "$$ w=w(u,v) \\quad\\quad u = \\frac{y}{x} \\quad\\quad v = x^2+y^2$$"
   ]
  },
  {
   "cell_type": "markdown",
   "id": "0f21bb14-9123-4beb-bbcd-c2419bd75fce",
   "metadata": {},
   "source": [
    "**a)**  Via the chain rule and the above equations:  \n",
    "\n",
    "$$ w_x = w_uu_x + w_vv_x = 2w_vx-w_u\\,\\frac{y}{x^2}$$"
   ]
  },
  {
   "cell_type": "markdown",
   "id": "721475ac-b889-4d91-aa64-5756266e4463",
   "metadata": {},
   "source": [
    "$$ w_y = w_uu_y + w_vv_y = \\frac{w_u}{x} + 2w_vy$$"
   ]
  },
  {
   "cell_type": "markdown",
   "id": "21afa325-82df-425a-b29e-e9167fa5fb1f",
   "metadata": {},
   "source": [
    "**b)**  $$ xw_x + yw_y = 2w_vx^2 - w_u\\,\\frac{y}{x} + w_u\\,\\frac{y}{x} + 2w_vy^2 = 2w_v\\big(x^2+y^2\\big) = 2w_vv$$"
   ]
  },
  {
   "cell_type": "markdown",
   "id": "70890ec0-27f2-451a-bca3-cb6b6658aecd",
   "metadata": {},
   "source": [
    "**c)**  $$ xw_x + yw_y = 10v^5 \\quad\\quad\\text{where } w=v^5$$"
   ]
  },
  {
   "cell_type": "markdown",
   "id": "05f78854-5ddb-4fbf-b582-8006d2db4c6c",
   "metadata": {},
   "source": [
    "### Problem 5  \n",
    "\n",
    "Let $f(x,y,z)$ be any function of $x$, $y$ and $z$ and let $g(x,y,z)$ be defined as:  \n",
    "\n",
    "\\begin{equation}\\tag{5.1}\n",
    "    g(x,y,z):=x^4 + y^4 +z^4 + xy + yz + zx = 6\n",
    "\\end{equation}"
   ]
  },
  {
   "cell_type": "markdown",
   "id": "64a371de-7041-44be-8bd4-5fa52d85c8dc",
   "metadata": {},
   "source": [
    "**a)**  The critical points of $f$ under the above constrainment  are given by \n",
    "\n",
    "$$ \\nabla f = \\lambda \\nabla g \\quad\\quad\\text{and}\\quad\\quad g(x,y,z) = 6$$"
   ]
  },
  {
   "cell_type": "markdown",
   "id": "67caebdc-d573-4224-b3ff-0179a1bedce0",
   "metadata": {},
   "source": [
    "$$ \\nabla g = \\big\\langle 4x^3 + y + z, 4y^3+x+z,4z^3 + y + x\\big\\rangle$$"
   ]
  },
  {
   "cell_type": "markdown",
   "id": "645d57d1-0666-4592-bf99-205648f9c964",
   "metadata": {},
   "source": [
    "Let $P=(x_0,y_0,z_0)$ be the point on the surface given by equation (5.1) at which $x$ is at it's greatest."
   ]
  },
  {
   "cell_type": "markdown",
   "id": "1139ac29-95ad-4a36-bb61-1a4edbae5180",
   "metadata": {},
   "source": [
    "The Lagrange multiplier equations at $P$ are:  \n",
    "\n",
    "$$ \\nabla f(P) = \\lambda \\nabla g(P) \\quad\\quad\\text{and}\\quad\\quad g(P) = 6$$"
   ]
  },
  {
   "cell_type": "markdown",
   "id": "81ffe347-0f17-40c1-acf4-9fdee55fc914",
   "metadata": {},
   "source": [
    "or,  \n",
    "\n",
    "\\begin{equation}\\tag{5.2a,b}\n",
    "    \\langle f_x,0,0\\rangle = \\lambda \\big\\langle 4x_0^3 + y_0 + z_0, 0,0 \\big\\rangle \\quad\\quad\\text{and}\\quad\\quad g(P)  = 6\n",
    "\\end{equation}"
   ]
  },
  {
   "cell_type": "markdown",
   "id": "8061e646-e649-4583-9d6c-f6d6d08fa5c7",
   "metadata": {},
   "source": [
    "Thus,  \n",
    "\n",
    "\\begin{equation}\\tag{5.3}\n",
    "    f_x = \\lambda \\big(4x_0^3 + y_0 + z_0\\big)\n",
    "\\end{equation}"
   ]
  },
  {
   "cell_type": "markdown",
   "id": "392b52f3-5fe8-492b-a6e8-39540c825707",
   "metadata": {},
   "source": [
    "Via equations (5.2a,b), (5.3), and (5.4) and substitution,  \n",
    "\n",
    "\\begin{equation}\\tag{5.2b}\n",
    "    x_0^4 + 2y_0^4 + 2x_0y_0 + y_0^2 = 6\n",
    "\\end{equation}"
   ]
  },
  {
   "cell_type": "markdown",
   "id": "567ba0d9-6db1-4284-8dbb-373c33225a43",
   "metadata": {},
   "source": [
    "and,  \n",
    "\n",
    "\\begin{equation}\\tag{5.3}\n",
    "    f_x = \\lambda \\big(4x_0^3 + 2y_0\\big)\n",
    "\\end{equation}"
   ]
  },
  {
   "cell_type": "markdown",
   "id": "c5159365-c202-44e3-bd7d-9ad0e51d5c65",
   "metadata": {},
   "source": [
    "Tt appears that $y_0,z_0=0$.  Now let's test this. Differentiating throughout equation (5.2b) with respect to $y_0$ gives:  \n",
    "\n",
    "$$ 4x_0^3\\,\\frac{\\mathrm{d}x_0}{\\mathrm{d}y_0} + 8y_0^3 + 2x_0 + 2y_0\\frac{\\mathrm{d}x_0}{\\mathrm{d}y_0} + 2y_0 = 0$$"
   ]
  },
  {
   "cell_type": "markdown",
   "id": "2313103a-2650-4d89-b0b5-33d99ee47fed",
   "metadata": {},
   "source": [
    "Zeroing out the derivatives in the above equation gives:  \n",
    "\n",
    "\\begin{equation}\\tag{5.6}\n",
    "    x_0 = - y_0 - 4y_0^3\n",
    "\\end{equation}"
   ]
  },
  {
   "cell_type": "markdown",
   "id": "6d41f6c2-773d-4d3f-ad40-cc512273d646",
   "metadata": {},
   "source": [
    "Via the above equation and equation (5.2b) and substitution,  \n",
    "\n",
    "$$ y_0^4\\big(16y_0^4 + 8y_0^2 + 1\\big)^2 - 6y_0^4 - y_0^2 = 6$$"
   ]
  },
  {
   "cell_type": "markdown",
   "id": "e4a586b6-aa7d-476c-89a0-9a71714f9b9a",
   "metadata": {},
   "source": [
    "Let $u:=y_0^2$.  \n",
    "\n",
    "$$ u^2\\big(4u + 1\\big)^4 - 6u^2 - u = 6$$"
   ]
  },
  {
   "cell_type": "markdown",
   "id": "455d9300-81dd-466a-88ae-3024c9068e66",
   "metadata": {},
   "source": [
    "$$ u^2\\big(16u^2 + 8u + 1\\big)^2 - 6u^2 - u = 6$$"
   ]
  },
  {
   "cell_type": "markdown",
   "id": "6298be03-bfb9-410a-9b61-8a30f3696125",
   "metadata": {},
   "source": [
    "$$ u^2\\big(256u^4 + 64u^2 + 1 + 256u^3 + 16u + 32u^2\\big) - 6u^2 - u = 6$$"
   ]
  },
  {
   "cell_type": "markdown",
   "id": "83c1c263-e354-476a-ab22-d3b83d79d558",
   "metadata": {},
   "source": [
    "$$ 256u^8 + 96u^4 -5u^2 + 256u^5 + 16u^3 - u = 6$$"
   ]
  },
  {
   "cell_type": "markdown",
   "id": "caa6e276-9b56-4fe8-a21a-2ab727a216cc",
   "metadata": {},
   "source": [
    "Differentiating throughout equation (5.1) with respect to $y$ with $z$ as the independent variable and $x$ as the dependent variable gives:  \n",
    "\n",
    "$$ 4x^3\\,\\left(\\frac{\\partial x}{\\partial y}\\right)_z + 4y^3 + y\\,\\left(\\frac{\\partial x}{\\partial y}\\right)_z + x + z + z\\,\\left(\\frac{\\partial x}{\\partial y}\\right)_z = 0$$"
   ]
  },
  {
   "cell_type": "markdown",
   "id": "438d4799-edaa-44eb-8026-34efcb981b6c",
   "metadata": {},
   "source": [
    "And, doing the same with respect to $z$ with $y$ as the independent variables gives:  \n",
    "\n",
    "$$ 4x^3\\,\\left(\\frac{\\partial x}{\\partial z}\\right)_y + 4z^3 + y + y\\left(\\frac{\\partial x}{\\partial z}\\right)_y+ x + z\\,\\left(\\frac{\\partial x}{\\partial z}\\right)_y = 0$$"
   ]
  },
  {
   "cell_type": "markdown",
   "id": "ea08810b-341a-48b0-aa5d-345a4c69e7e0",
   "metadata": {},
   "source": [
    "Via the above two equation and the fact that, when $(x,y,z)=P$, the partial derivatives found therein are equal to zero,  \n",
    "\n",
    "$$ 4y_0^3 + x_0 + z_0 = 0 \\quad\\quad\\text{and}\\quad\\quad 4z_0^3 + y_0 + x_0 = 0$$"
   ]
  },
  {
   "cell_type": "markdown",
   "id": "e0637cb7-4cb4-47ec-b198-10553b117c18",
   "metadata": {},
   "source": [
    "Via the above two equations and equivalence principle,  \n",
    "\n",
    "$$ 4y_0^3 + z_0 = 4z_0^3 + y_0 \\quad\\therefore$$"
   ]
  },
  {
   "cell_type": "markdown",
   "id": "1da317a3-23a1-4a05-86f0-929bf915ef2b",
   "metadata": {},
   "source": [
    "\\begin{equation}\\tag{5.4}\n",
    "    y_0=z_0\n",
    "\\end{equation}"
   ]
  },
  {
   "cell_type": "markdown",
   "id": "a4d0a03e-c30d-4e2a-8a5b-ceb7748d695a",
   "metadata": {},
   "source": [
    "**b)**  \n",
    "\n",
    "$$ \\Delta g = g_x\\Delta x + g_y\\Delta y + g_z\\Delta = 0$$"
   ]
  },
  {
   "cell_type": "markdown",
   "id": "cea60357-eb20-407f-9f74-1b6ae1bc0d23",
   "metadata": {},
   "source": [
    "$$ g_x(P)\\Delta x = 0 \\quad\\therefore$$"
   ]
  },
  {
   "cell_type": "markdown",
   "id": "74bc143b-62bd-4812-8927-d25ec983d634",
   "metadata": {},
   "source": [
    "$$ \\big(4x_0^3 + 2y_0\\big)(x - x_0) = 0$$"
   ]
  },
  {
   "cell_type": "markdown",
   "id": "29f9cbea-c45b-4e59-8561-73b1616ab452",
   "metadata": {},
   "source": [
    "\\begin{equation}\\tag{5.5}\n",
    "    x = x_0 = -\\sqrt[3]{0.5y_0}\n",
    "\\end{equation}"
   ]
  },
  {
   "cell_type": "markdown",
   "id": "212838f5-7ba8-448e-a1f2-e50dbcadcd97",
   "metadata": {},
   "source": [
    "### Problem 6    \n",
    "\n",
    "\\begin{equation}\\tag{6.0a,b}\n",
    "    x^2+y^3-z^4=1\\quad\\quad\\text{and}\\quad\\quad z^3+zx + xy = 3\n",
    "\\end{equation}"
   ]
  },
  {
   "cell_type": "markdown",
   "id": "705bba21-af84-4965-b62d-607a1af6720e",
   "metadata": {},
   "source": [
    "**a)**  $$ 2x\\mathrm{d}x + 3y^2\\mathrm{d}y - 4z^3\\mathrm{d}z = 0$$"
   ]
  },
  {
   "cell_type": "markdown",
   "id": "eb58f42e-fab9-405a-9773-2879c9d79840",
   "metadata": {},
   "source": [
    "\\begin{equation}\\tag{6.1}\n",
    "    \\mathrm{d}z = \\frac{x}{2z^3}\\,\\mathrm{d}x + \\frac{3y^2}{4z^3}\\,\\mathrm{d}y\n",
    "\\end{equation}"
   ]
  },
  {
   "cell_type": "markdown",
   "id": "a381a4e9-4762-4867-9824-a9f669cb587c",
   "metadata": {},
   "source": [
    "$$ (z+y)\\mathrm{d}x + x\\mathrm{d}y + \\big(3z^2+x\\big)\\mathrm{d}z = 0$$"
   ]
  },
  {
   "cell_type": "markdown",
   "id": "4a488131-44e7-413e-b87b-1b280b9f2caf",
   "metadata": {},
   "source": [
    "\\begin{equation}\\tag{6.2}\n",
    "    \\mathrm{d}z = -\\frac{z+y}{3z^2+x}\\,\\mathrm{d}x - \\frac{x}{3z^2 + x}\\,\\mathrm{d}y\n",
    "\\end{equation}"
   ]
  },
  {
   "cell_type": "markdown",
   "id": "92e1b137-db82-49d5-9705-cc3fce9caa9b",
   "metadata": {},
   "source": [
    "**b)**  Via equations (6.1) and (6.2) and equivalence principle,  \n",
    "\n",
    "$$ \\left(\\frac{1}{2x^2} + \\frac{z+y}{3x^2+x}\\right)\\,\\mathrm{d}x + \\left(\\frac{3y^2}{4x^3} + \\frac{1}{3x+1}\\right)\\,\\mathrm{d}y = 0$$"
   ]
  },
  {
   "cell_type": "markdown",
   "id": "e4b97c71-d39e-4b0b-91fc-8178b553d198",
   "metadata": {},
   "source": [
    "$$ \\frac{3x+1+2xz + 2xy}{2x^2(3x+1)}\\,\\mathrm{d}x + \\frac{3y^2(3x+1)+4x^3}{4x^3(3x+1)}\\,\\mathrm{d}y = 0$$"
   ]
  },
  {
   "cell_type": "markdown",
   "id": "b4085f9e-c84d-483f-a4b4-5f50619bb714",
   "metadata": {},
   "source": [
    "$$ \\frac{\\mathrm{d}y}{\\mathrm{d}x}:=\\frac{\\mathrm{d}y}{\\mathrm{d}x}(x,y,z) = - \\frac{2x\\big(3x+1+2xz+2xy\\big)}{\\big(3y^2(3x+1)+4x^3\\big)}$$"
   ]
  },
  {
   "cell_type": "markdown",
   "id": "d274608d-5eef-4b28-939d-451a29590cf9",
   "metadata": {},
   "source": [
    "Finally,  \n",
    "\n",
    "\\begin{equation}\\tag{6.3}\n",
    "    \\frac{\\mathrm{d}y}{\\mathrm{d}x}(1,1,1) = -\\frac{16}{16} = -1\n",
    "\\end{equation}"
   ]
  },
  {
   "cell_type": "markdown",
   "id": "5df1acba-c4e7-4d63-9954-ef538e68dc43",
   "metadata": {},
   "source": [
    "**Trying another method**,  via equations (6.0a,b),  and substitution,  \n",
    "\n",
    "$$ \\sqrt[4]{\\big(x^2+y^3-1\\big)^3} + \\sqrt[4]{x^2+y^3-1}x + xy = 3$$"
   ]
  },
  {
   "cell_type": "markdown",
   "id": "92617d31-ea74-461f-a695-79743ab251c6",
   "metadata": {},
   "source": [
    "Differentiating throughout the above equation with respect to $x$ gives:  \n",
    "\n",
    "$$ \\frac{3}{4\\sqrt[4]{x^2+y^3-1}}\\,\\left(2x + 3y^2\\,\\frac{\\mathrm{d}y}{\\mathrm{d}x}\\right) + \\sqrt[4]{x^2+y^3-1} + \\frac{x}{4\\sqrt[4]{\\big(x^2+y^3-1\\big)^3}}\\,\\left(2x+3y^2\\,\\frac{\\mathrm{d}y}{\\mathrm{d}x}\\right) + y + x\\,\\frac{\\mathrm{d}y}{\\mathrm{d}x} = 0$$"
   ]
  },
  {
   "cell_type": "markdown",
   "id": "c4d2d3c5-cd24-40f9-97d2-a6cbf2ffe450",
   "metadata": {},
   "source": [
    "Assuming $(x,y,z)=(1,1,1)$,  \n",
    "\n",
    "$$ \\frac{3}{4}\\,\\big(2+3y'(x)\\big) + 1 + \\frac{1}{4}\\,\\big(2+3y'(x)\\big) + 1 + y'(x) = 0$$"
   ]
  },
  {
   "cell_type": "markdown",
   "id": "815fd31c-af5f-4ccb-8923-7d005c0e32b1",
   "metadata": {},
   "source": [
    "$$ 2+3y'(x) + 2 + y'(x) = 0$$"
   ]
  },
  {
   "cell_type": "markdown",
   "id": "0a574962-6ded-4dbe-8975-f3f5d7a0f8ef",
   "metadata": {},
   "source": [
    "Thus,  \n",
    "\n",
    "$$ \\frac{\\mathrm{d}y}{\\mathrm{d}x}(1,1,1) = -1$$"
   ]
  }
 ],
 "metadata": {
  "kernelspec": {
   "display_name": "Python 3 (ipykernel)",
   "language": "python",
   "name": "python3"
  },
  "language_info": {
   "codemirror_mode": {
    "name": "ipython",
    "version": 3
   },
   "file_extension": ".py",
   "mimetype": "text/x-python",
   "name": "python",
   "nbconvert_exporter": "python",
   "pygments_lexer": "ipython3",
   "version": "3.10.12"
  }
 },
 "nbformat": 4,
 "nbformat_minor": 5
}
