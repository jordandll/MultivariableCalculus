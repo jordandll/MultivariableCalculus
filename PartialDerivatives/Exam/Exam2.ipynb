{
 "cells": [
  {
   "cell_type": "markdown",
   "id": "ae77f358-2eda-4287-8f7e-f897e46fa4ab",
   "metadata": {},
   "source": [
    "## Exam 2\n",
    "\n",
    "### Problem 1  \n",
    "\n",
    "\\begin{equation}\\tag{1.1}\n",
    "    f(x,y) = x^2y^2 - x\n",
    "\\end{equation}"
   ]
  },
  {
   "cell_type": "markdown",
   "id": "680a91ae-3c52-44e0-b207-8f65e58b98d7",
   "metadata": {},
   "source": [
    "$$ \\nabla f = \\langle 2xy^2 - 1, 2x^2y\\rangle$$"
   ]
  },
  {
   "cell_type": "markdown",
   "id": "5b20d0d8-1d46-48fd-9eac-0c9a0d062649",
   "metadata": {},
   "source": [
    "**a)**  $$ \\nabla f(2,1) = \\langle 3,8\\rangle$$"
   ]
  },
  {
   "cell_type": "markdown",
   "id": "8ffc4ec7-3e54-4dde-ac53-7307469bf2b6",
   "metadata": {},
   "source": [
    "**b)**  $$ f = 2 + 3(x-2) + 8(y-1) = 3x + 8y - 12$$"
   ]
  },
  {
   "cell_type": "markdown",
   "id": "ef2388db-4dcd-4b23-b6c7-3cd9c824f6c6",
   "metadata": {},
   "source": [
    "**c)**  The linear approximation of $f$ at (2,1) is given by:  \n",
    "\n",
    "$$ f\\approxeq 2 + f_x(2,1)\\Delta x + f_y(2,1)\\Delta y$$"
   ]
  },
  {
   "cell_type": "markdown",
   "id": "83d5712d-5fa9-4637-84b0-fc2fae10d4ac",
   "metadata": {},
   "source": [
    "$$ = 2 + 3\\Delta x + 8\\Delta y$$"
   ]
  },
  {
   "cell_type": "markdown",
   "id": "b3babdc6-d6e6-45e0-8514-4431bd1df73d",
   "metadata": {},
   "source": [
    "$$ = 2 + 3(x-2) + 8(y-1)$$"
   ]
  },
  {
   "cell_type": "markdown",
   "id": "d49b1d5d-7f3b-4a96-baf0-9ef24e63fa96",
   "metadata": {},
   "source": [
    "$$ = 3x + 8y -4 - 8 = 3x + 8y -12$$"
   ]
  },
  {
   "cell_type": "markdown",
   "id": "96b090b8-5176-4660-9a76-08e9482b5106",
   "metadata": {},
   "source": [
    "Thus,  \n",
    "\n",
    "$$ f(1.9,1.1) \\approxeq 3\\cdot 1.9 + 8\\cdot 1.1 - 12$$"
   ]
  },
  {
   "cell_type": "code",
   "execution_count": 1,
   "id": "dc4deea0-b742-4ce6-b79e-dc311621328a",
   "metadata": {
    "tags": []
   },
   "outputs": [
    {
     "data": {
      "text/plain": [
       "2.5"
      ]
     },
     "execution_count": 1,
     "metadata": {},
     "output_type": "execute_result"
    }
   ],
   "source": [
    "3*1.9 + 8*1.1 - 12"
   ]
  },
  {
   "cell_type": "markdown",
   "id": "e56370e9-8f63-4323-a00a-0a931a51e6ca",
   "metadata": {},
   "source": [
    "**d)**  Find the directional derivative of $f$ at $P=(2, 1)$ in the direction of $\\mathbf{u} = −\\mathbf{i} + \\mathbf{j}$."
   ]
  },
  {
   "cell_type": "markdown",
   "id": "93685986-dd54-4026-b81f-d8ac513075f3",
   "metadata": {},
   "source": [
    "To find $\\displaystyle \\left(\\frac{\\mathrm{d}f}{\\mathrm{d}s}\\right)_{\\big\\vert P, \\mathbf{u}}$ we must first find the parametric equation that gives the line through $P$ that is parallel to $\\mathbf{u}$, the direction of our directional derivative.  To do so, let $\\mathbf{r}(s)$ be defined as:  \n",
    "\n",
    "$$ \\mathbf{r} := \\mathbf{r}(s) = \\langle 2,1\\rangle + s\\frac{\\mathbf{u}}{|\\mathbf{u}|} = \\langle 2,1\\rangle + s\\,\\frac{\\langle -1,1\\rangle}{\\sqrt{2}}$$"
   ]
  },
  {
   "cell_type": "markdown",
   "id": "de6adfe4-5a12-421f-b9df-5dec00f07e5a",
   "metadata": {},
   "source": [
    "The above defines the position vector $\\mathbf{r}$ of a motion along this line as a function of $s$.  Thus, said line is given by the following parametric equations:  \n",
    "\n",
    "\\begin{equation}\\tag{1.2a,b}\n",
    "    x = 2 - \\frac{s}{\\sqrt{2}} \\quad\\quad\\text{and}\\quad\\quad y = 1 + \\frac{s}{\\sqrt{2}}\n",
    "\\end{equation}"
   ]
  },
  {
   "cell_type": "markdown",
   "id": "510c432c-aa7f-43a7-8150-a6aeb655e178",
   "metadata": {},
   "source": [
    "\\begin{equation}\\tag{1.3a,b}\n",
    "    x^2 = 4 - 2\\sqrt{2}s + 0.5s^2 \\quad\\quad\\text{and}\\quad\\quad y^2 = 1 + \\sqrt{2}s + 0.5s^2\n",
    "\\end{equation}"
   ]
  },
  {
   "cell_type": "markdown",
   "id": "1cfd7858-bb4a-4d80-8db4-44c3b15c3c06",
   "metadata": {},
   "source": [
    "Via the above two equations, equations (1.2a) and (1.1) and substitution,  \n",
    "\n",
    "$$ f(s)_{\\big\\vert P,\\mathbf{u}} := f(x(s),y(s)) = \\big(4-2\\sqrt{2}s + 0.5s^2\\big)\\big(1 + \\sqrt{2}s + 0.5s^2\\big) - 2 + \\frac{s}{\\sqrt{2}}$$"
   ]
  },
  {
   "cell_type": "markdown",
   "id": "f0f7de1f-8320-4ab5-8f9d-45a6256f579e",
   "metadata": {},
   "source": [
    "Differentiating the above with respect to $s$ gives:  \n",
    "\n",
    "$$\\left(\\frac{\\mathrm{d}f}{\\mathrm{d}s}\\right)_{\\big\\vert P,\\mathbf{u}} = f'(s)_{\\big\\vert P,\\mathbf{u}} = \\frac{1}{\\sqrt{2}} + \\big(1+\\sqrt{2}s + 0.5s^2\\big)\\big(s - 2\\sqrt{2}\\big) + \\big(4-2\\sqrt{2}s + 0.5s^2\\big)\\big(s + \\sqrt{2}\\big) $$"
   ]
  },
  {
   "cell_type": "markdown",
   "id": "6554e20f-3c0c-4811-985b-dc21d39b85d0",
   "metadata": {},
   "source": [
    "And, via the above equation, the fact that $x=2$, which implies that $s=0$,  \n",
    "\n",
    "$$ f'(s)_{\\big\\vert P,\\mathbf{u}} = \\frac{1}{\\sqrt{2}} - 2\\sqrt{2} + 4\\sqrt{2} = \\frac{1}{\\sqrt{2}} + 2\\sqrt{2}$$"
   ]
  },
  {
   "cell_type": "markdown",
   "id": "97c497e0-0dd9-41e1-898a-8065d644c982",
   "metadata": {},
   "source": [
    "\\begin{equation}\\tag{1.4}\n",
    "    f'(s)_{\\big\\vert P,\\mathbf{u}} = \\frac{5}{\\sqrt{2}}\n",
    "\\end{equation}"
   ]
  },
  {
   "cell_type": "code",
   "execution_count": 2,
   "id": "9bbd1433-1b08-4e7f-a160-32499ace0be4",
   "metadata": {
    "tags": []
   },
   "outputs": [],
   "source": [
    "import numpy as np\n",
    "import sympy as sp"
   ]
  },
  {
   "cell_type": "code",
   "execution_count": 3,
   "id": "eeb55241-282c-4b93-91e1-a507e486158b",
   "metadata": {
    "tags": []
   },
   "outputs": [
    {
     "data": {
      "text/plain": [
       "44.99999999999999"
      ]
     },
     "execution_count": 3,
     "metadata": {},
     "output_type": "execute_result"
    }
   ],
   "source": [
    "theta_u = np.arcsin(1/np.sqrt(2)); np.degrees(theta_u)"
   ]
  }
 ],
 "metadata": {
  "kernelspec": {
   "display_name": "Python 3 (ipykernel)",
   "language": "python",
   "name": "python3"
  },
  "language_info": {
   "codemirror_mode": {
    "name": "ipython",
    "version": 3
   },
   "file_extension": ".py",
   "mimetype": "text/x-python",
   "name": "python",
   "nbconvert_exporter": "python",
   "pygments_lexer": "ipython3",
   "version": "3.10.12"
  }
 },
 "nbformat": 4,
 "nbformat_minor": 5
}
