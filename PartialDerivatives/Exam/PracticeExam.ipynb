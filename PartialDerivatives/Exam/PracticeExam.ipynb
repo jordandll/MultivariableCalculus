{
 "cells": [
  {
   "cell_type": "markdown",
   "id": "b2fb1921-0858-43a7-a573-709f8cb21eba",
   "metadata": {},
   "source": [
    "## Practice Exam 2A"
   ]
  },
  {
   "cell_type": "markdown",
   "id": "6a5aecb0-9bac-4707-b66b-bbca82ff9b40",
   "metadata": {},
   "source": [
    "### Problem 1  \n",
    "\n",
    "$$ f(x,y) = xy-x^4$$"
   ]
  },
  {
   "cell_type": "markdown",
   "id": "f6d63eb8-1efe-4878-b01c-4e39d28ef676",
   "metadata": {},
   "source": [
    "**a)** $$ \\nabla f = \\langle y-4x^3, x\\rangle $$"
   ]
  },
  {
   "cell_type": "markdown",
   "id": "4e15eb4c-b6de-48d6-885a-3399a8c58d77",
   "metadata": {},
   "source": [
    "$$ \\nabla f(P) = \\langle -3,1\\rangle$$"
   ]
  },
  {
   "cell_type": "markdown",
   "id": "55719c0f-3200-49b7-afe4-fd67cb4fbd8a",
   "metadata": {},
   "source": [
    "**b)** Let $w:=f(x,y)$.  The linear approximation of $w$ at $P$ is given by:  \n",
    "\n",
    "$$ \\Delta w \\approxeq w_x\\Delta x + w_y\\Delta y$$"
   ]
  },
  {
   "cell_type": "markdown",
   "id": "76259860-b735-4884-a894-e312d66a4b33",
   "metadata": {},
   "source": [
    "$$ = \\big(y - 4x^3\\big)\\Delta x + x\\Delta y$$"
   ]
  },
  {
   "cell_type": "markdown",
   "id": "97b0a740-a9d7-496b-b5e2-4cd46099a052",
   "metadata": {},
   "source": [
    "$$ w \\approxeq -3(x-1) + y - 1 = y-3x + 2$$"
   ]
  },
  {
   "cell_type": "markdown",
   "id": "fa68a9c9-9d33-4c81-b933-dc8563f79b01",
   "metadata": {},
   "source": [
    "### Problem 2\n"
   ]
  },
  {
   "cell_type": "markdown",
   "id": "b5f1dd1b-8cae-40b6-83d9-fb3271d9540d",
   "metadata": {},
   "source": [
    "![map-P2](prac2A-P2.svg)"
   ]
  },
  {
   "cell_type": "markdown",
   "id": "37eb0b00-a0c1-4abc-ad3e-bd680f746fbf",
   "metadata": {},
   "source": [
    "**a)**  \n",
    "\n",
    "$$ \\left(\\frac{\\mathrm{d}h}{\\mathrm{d}s}\\right)_{\\big\\vert P,\\mathrm{u}} \\approxeq 0.2$$"
   ]
  },
  {
   "cell_type": "markdown",
   "id": "8c2c81f0-10de-46b6-b0b8-dc05d3647fd7",
   "metadata": {},
   "source": [
    "**b)**  $$ \\left(\\frac{\\partial h}{\\partial y}\\right)_{\\big\\vert Q} \\approxeq \\frac{1}{3}$$"
   ]
  },
  {
   "cell_type": "markdown",
   "id": "1bf21262-65ad-47d7-98d9-c4397e6648ef",
   "metadata": {},
   "source": [
    "### Problem 3\n",
    "\n",
    "Let $f(x,y,z)$ be defined as:  \n",
    "\n",
    "$$ f(x,y,z):=x^3y+z^2$$"
   ]
  },
  {
   "cell_type": "markdown",
   "id": "7e312981-e39e-4bc2-b15f-4aaad826f010",
   "metadata": {},
   "source": [
    "$$ \\nabla f = \\langle 3x^2z, x^3, 2z\\rangle$$"
   ]
  },
  {
   "cell_type": "markdown",
   "id": "0dbdf034-b20c-4c09-b00f-3640e822a519",
   "metadata": {},
   "source": [
    "$$ \\nabla f(-1,1,2) = \\langle 6,-1,4\\rangle$$"
   ]
  },
  {
   "cell_type": "markdown",
   "id": "3dd017a0-0944-4a61-8a40-1a616bb08a5d",
   "metadata": {},
   "source": [
    "The tangent plane at $(-1,1,2)$ is given by:  \n",
    "\n",
    "$$ 6(x+1) - (y-1) + 4(z-2) = 0$$"
   ]
  },
  {
   "cell_type": "markdown",
   "id": "453675c7-b968-413e-9a31-b8a48338d7ae",
   "metadata": {},
   "source": [
    "### Problem 4\n",
    "\n",
    "$$ V := f(x,y,z) = xyz \\quad\\quad\\text{and}\\quad\\quad g(x,y,z):=x^2+y^2+z=1$$"
   ]
  },
  {
   "cell_type": "markdown",
   "id": "337abd84-db25-45d7-a870-7a5e47105485",
   "metadata": {},
   "source": [
    "The box of least volume that satisfies the constrainment lies on the boundaries.  Thus, the max volume occurs at the critical point(s) of $f$ on the constrainment surface (the paraboloid).  Said critical points are given by:  \n",
    "\n",
    "$$ \\nabla f = \\lambda \\nabla g \\quad\\quad \\text{where } g(x,y,z) = 1$$"
   ]
  },
  {
   "cell_type": "markdown",
   "id": "c5482d72-0c45-44ab-bbd2-020913149fd4",
   "metadata": {},
   "source": [
    "$$ \\nabla f = \\langle yz, xz, xy\\rangle \\quad\\quad\\text{and}\\quad\\quad \\nabla g = \\langle 2x,2y,1\\rangle$$"
   ]
  },
  {
   "cell_type": "markdown",
   "id": "94bd8f26-923a-48b1-8c8d-9d2007ed8195",
   "metadata": {},
   "source": [
    "Thus,  \n",
    "\n",
    "$$ \\frac{yz}{2x} = \\frac{xz}{2y} = xy$$"
   ]
  },
  {
   "cell_type": "markdown",
   "id": "c911bd68-dca0-4658-82e7-e135c9094452",
   "metadata": {},
   "source": [
    "Multiplying throughout the above equation by $4xy$ gives:  \n",
    "\n",
    "$$ 2y^2z = 2x^2z = 4(xy)^2$$"
   ]
  },
  {
   "cell_type": "markdown",
   "id": "1f0c2adb-2d52-4144-aecb-ad2bd62c2faa",
   "metadata": {},
   "source": [
    "$$ y = x \\quad\\quad z = 2y^2 =2x^2$$"
   ]
  },
  {
   "cell_type": "markdown",
   "id": "eb5def41-4086-4a82-aa1d-82548f1f9b10",
   "metadata": {},
   "source": [
    "$$ 4x^2 = 1 \\quad\\therefore\\quad x = 0.5 = y = z$$"
   ]
  },
  {
   "cell_type": "markdown",
   "id": "5343f9bb-fdef-4554-bf42-b774c21552c1",
   "metadata": {},
   "source": [
    "The max volume is thus:  \n",
    "\n",
    "$$ V_\\max = (0.5)^3 = \\frac{1}{8}$$"
   ]
  },
  {
   "cell_type": "markdown",
   "id": "c73c9008-d8f2-4819-bdd3-5f38f6832f67",
   "metadata": {},
   "source": [
    "**a)**  Using a different method we substitute $z$ in the equation that gives the volume with it's definition in terms of $x$ and $y$ given by the constrainment equation.  \n",
    "\n",
    "$$ V = f(x,y) := f(x,y,z(x,y)) = xy\\big(1-x^2-y^2\\big) = xy - x^3y - xy^3$$"
   ]
  },
  {
   "cell_type": "markdown",
   "id": "b6218848-f624-4ab0-8952-2b0d475b4d8d",
   "metadata": {},
   "source": [
    "The critical points of the above function are given by:  \n",
    "\n",
    "\\begin{equation}\\tag{4.1}\n",
    "    f_x = y - 3x^2y - y^3 = 0\n",
    "\\end{equation}"
   ]
  },
  {
   "cell_type": "markdown",
   "id": "730eb94b-6517-432e-a989-16854190b653",
   "metadata": {},
   "source": [
    "\\begin{equation}\\tag{4.2}\n",
    "    f_y = x - x^3 - 3xy^2 = 0\n",
    "\\end{equation}"
   ]
  },
  {
   "cell_type": "markdown",
   "id": "2a0e9ff0-597d-4b5f-8882-9c72f3a22b60",
   "metadata": {},
   "source": [
    "One solution to the above system is $P = (0,0)$."
   ]
  },
  {
   "cell_type": "markdown",
   "id": "d3f97e84-9467-46b2-bbf3-4b9c997dd770",
   "metadata": {},
   "source": [
    "The other solutions are also the solutions to the following:  \n",
    "\n",
    "\\begin{equation}\\tag{4.1}\n",
    "    1 - 3x^2 - y^2 = 0\n",
    "\\end{equation}"
   ]
  },
  {
   "cell_type": "markdown",
   "id": "3db6b5cb-6595-48b4-ba1c-a4349058fea2",
   "metadata": {},
   "source": [
    "\\begin{equation}\\tag{4.2}\n",
    "    1 - x^2 - 3y^2 = 0\n",
    "\\end{equation}"
   ]
  },
  {
   "cell_type": "markdown",
   "id": "c319531d-c4f3-49ae-898e-c941e665f1fb",
   "metadata": {},
   "source": [
    "**b)**  Via equations (4.1) and (4.2) and substitution,  \n",
    "\n",
    "$$ 1 - x^2 - 3\\big(1-3x^2\\big) = 0$$"
   ]
  },
  {
   "cell_type": "markdown",
   "id": "7c27625b-1122-4e48-8a99-c050875e2168",
   "metadata": {},
   "source": [
    "$$ 8x^2= 2 \\quad\\therefore\\quad x^2 = 0.25 \\quad\\therefore$$"
   ]
  },
  {
   "cell_type": "markdown",
   "id": "d4268bb9-4b8a-4133-8b96-fb4ac44bae28",
   "metadata": {},
   "source": [
    "\\begin{equation}\\tag{4.3}\n",
    "    x = 0.5\n",
    "\\end{equation}"
   ]
  },
  {
   "cell_type": "markdown",
   "id": "682ddf7d-ce57-40ff-b91e-dc2574ea83a1",
   "metadata": {},
   "source": [
    "Via the above equation and equation (4.1) and substitution,  \n",
    "\n",
    "$$ y^2 = 0.25 \\quad\\therefore\\quad y = 0.5$$"
   ]
  },
  {
   "cell_type": "markdown",
   "id": "8a80775e-28f0-4797-bbb3-b66ab5b47a89",
   "metadata": {},
   "source": [
    "**c)**  \n",
    "\n",
    "$$ f_{xx} = -6xy \\quad\\quad f_{yy} = -6xy \\quad\\quad f_{xy} = 1 - 3y^2 - 3x^2$$"
   ]
  },
  {
   "cell_type": "markdown",
   "id": "7d38dc85-299a-45ab-8b40-660bd7f08480",
   "metadata": {},
   "source": [
    "$$ A := f_{xx}(0.5,0.5) = -\\frac{3}{2} = f_{yy}(0.5,0.5) := C \\quad\\quad \\text{and}\\quad\\quad B:= f_{x,y}(0.5,0.5) = 1 - \\frac{3}{2} = -0.5$$"
   ]
  },
  {
   "cell_type": "markdown",
   "id": "612ed537-d15c-4470-be51-5c341104dd00",
   "metadata": {},
   "source": [
    "Whereas $\\displaystyle AC = \\frac{9}{4} > \\frac{1}{4} = B^2$ and $A < 0$ therefore $(0.5,0.5)$ is a maximum point."
   ]
  },
  {
   "cell_type": "markdown",
   "id": "a32ba098-c8ac-4703-94b0-80bf9d5b8c8b",
   "metadata": {},
   "source": [
    "**d)**  Via the constrainment equation and the solution found in part b),  \n",
    "\n",
    "$$ z := z(0.5,0.5) = 1-0.25-0.25 = 0.5$$"
   ]
  },
  {
   "cell_type": "markdown",
   "id": "d735d15e-da7c-457b-8334-9b33855c38e8",
   "metadata": {},
   "source": [
    "  \n",
    "\n",
    "$$ f_\\max = f(0.5,0.5) = 0.25 - 0.125 = 0.125 = \\frac{1}{8}$$"
   ]
  },
  {
   "cell_type": "markdown",
   "id": "c797d633-bd3d-4456-a97e-7e1f0dd57fc7",
   "metadata": {},
   "source": [
    "### Problem 5  \n",
    "\n",
    "Already did this in problem 4.\n",
    "\n",
    "### Problem 6\n",
    "\n",
    "$$ w_x = w_uu_x + w_vv_x = f_uy + f_v\\,\\frac{1}{y}$$"
   ]
  },
  {
   "cell_type": "markdown",
   "id": "db04749c-801d-4464-b43f-521ab6b74005",
   "metadata": {},
   "source": [
    "$$ w_y = f_uu_y + f_vv_y = f_ux - f_v\\frac{x}{y^2}$$"
   ]
  },
  {
   "cell_type": "markdown",
   "id": "acac1ba5-15b2-4107-b08d-b703e3774cb0",
   "metadata": {},
   "source": [
    "### Problem 7\n",
    "\n",
    "$$ \\left(\\frac{\\partial w}{\\partial z}\\right)_y = 3x^2y\\left(\\frac{\\partial x}{\\partial z}\\right)_y$$"
   ]
  },
  {
   "cell_type": "markdown",
   "id": "34a362d9-006a-445b-8606-37a6fcefbe69",
   "metadata": {},
   "source": [
    "$$ 2xy\\left(\\frac{\\partial x}{\\partial z}\\right)_y + \\left(\\frac{\\partial x}{\\partial z}\\right)_yz^2 = 5$$"
   ]
  },
  {
   "cell_type": "markdown",
   "id": "2ac7b972-af8b-499c-96fb-9d7388e19293",
   "metadata": {},
   "source": [
    "$$ \\left(\\frac{\\partial x}{\\partial z}\\right)_y = \\frac{5}{2xy+z^2}$$"
   ]
  },
  {
   "cell_type": "markdown",
   "id": "8c88f8c9-444f-47c7-adb7-1affeddfd9cb",
   "metadata": {},
   "source": [
    "Thus,  \n",
    "\n",
    "$$ \\left(\\frac{\\partial w}{\\partial z}\\right)_y = 3x^2y\\frac{5}{2xy+z^2}$$"
   ]
  },
  {
   "cell_type": "markdown",
   "id": "7a24200d-691f-4491-ac0d-2336fd51efbb",
   "metadata": {},
   "source": [
    "And, assuming $(x,y,z) = (1,1,2)$,  \n",
    "\n",
    "$$ \\left(\\frac{\\partial w}{\\partial z}\\right)_y = \\frac{15}{6} = \\frac{5}{2}$$"
   ]
  }
 ],
 "metadata": {
  "kernelspec": {
   "display_name": "Python 3 (ipykernel)",
   "language": "python",
   "name": "python3"
  },
  "language_info": {
   "codemirror_mode": {
    "name": "ipython",
    "version": 3
   },
   "file_extension": ".py",
   "mimetype": "text/x-python",
   "name": "python",
   "nbconvert_exporter": "python",
   "pygments_lexer": "ipython3",
   "version": "3.10.12"
  }
 },
 "nbformat": 4,
 "nbformat_minor": 5
}
