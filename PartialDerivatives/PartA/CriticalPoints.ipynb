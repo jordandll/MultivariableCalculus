{
 "cells": [
  {
   "cell_type": "markdown",
   "id": "ec1c4115-2612-45b5-acf8-844dccf281ca",
   "metadata": {},
   "source": [
    "# Critical Points \n",
    "\n",
    "## Examples\n",
    "\n",
    "#### Example 1  \n",
    "\n",
    "Making a box with minimum material.\n",
    "A box is made of cardboard with double thick sides, a triple thick bottom, single thick front\n",
    "and back and no top. It’s volume = $3$.\n",
    "What dimensions use the least amount of cardboard?"
   ]
  },
  {
   "cell_type": "markdown",
   "id": "09f00c31-0065-4768-8aed-b5375798b2ad",
   "metadata": {},
   "source": [
    "$$ V := V(d,w,h) = dwh = 3$$"
   ]
  },
  {
   "cell_type": "markdown",
   "id": "040bdc8e-716d-4c2c-8c3b-02c73af39528",
   "metadata": {},
   "source": [
    "Let $A$, $B$, and $C$ denote the amount of cardboard for the two double think sides, the single thick front and back, and the triple thick bottom respectively.  \n",
    "\n",
    "$$ A = 4dh \\quad\\quad B = 2wh \\quad\\quad C = 3dw$$"
   ]
  },
  {
   "cell_type": "markdown",
   "id": "2c920b8d-f3ea-4c1f-a8fd-53b4e389d424",
   "metadata": {},
   "source": [
    "The total amount of cardboard, denoted as $T$, is given by:  \n",
    "\n",
    "$$ T = 4dh + 2wh + 3dw$$"
   ]
  },
  {
   "cell_type": "markdown",
   "id": "69a8566e-8362-4ca8-982c-670c58ec73ea",
   "metadata": {},
   "source": [
    "$$ T_d = 4h + 3w \\quad\\quad T_h = 4d + 2w \\quad\\quad T_w = 2h + 3d$$"
   ]
  },
  {
   "cell_type": "markdown",
   "id": "c710d5a9-c040-4340-a208-3e97e24cca4c",
   "metadata": {},
   "source": [
    "We need to find dimension such that $T_d, T_h, T_w = 0$.  \n",
    "\n",
    "$$ h = -0.75 w \\quad\\quad d = -0.5w \\quad\\quad h = - 1.5d$$"
   ]
  },
  {
   "cell_type": "markdown",
   "id": "48e1de69-a5d8-4c4f-bdbe-8b5dade3bfbe",
   "metadata": {},
   "source": [
    "Via the first two of the above three equations,  \n",
    "\n",
    "$$ w = - 2d$$"
   ]
  },
  {
   "cell_type": "markdown",
   "id": "da73984e-7f21-40c2-8333-a6d7c5aab140",
   "metadata": {},
   "source": [
    "$$ h = -\\frac{3}{4}\\,w = \\frac{3}{2}\\,d$$"
   ]
  }
 ],
 "metadata": {
  "kernelspec": {
   "display_name": "Python 3 (ipykernel)",
   "language": "python",
   "name": "python3"
  },
  "language_info": {
   "codemirror_mode": {
    "name": "ipython",
    "version": 3
   },
   "file_extension": ".py",
   "mimetype": "text/x-python",
   "name": "python",
   "nbconvert_exporter": "python",
   "pygments_lexer": "ipython3",
   "version": "3.10.12"
  }
 },
 "nbformat": 4,
 "nbformat_minor": 5
}
