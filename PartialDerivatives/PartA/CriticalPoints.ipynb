{
 "cells": [
  {
   "cell_type": "markdown",
   "id": "ec1c4115-2612-45b5-acf8-844dccf281ca",
   "metadata": {},
   "source": [
    "# Critical Points \n",
    "\n",
    "## Examples\n",
    "\n",
    "#### Example 1  \n",
    "\n",
    "Making a box with minimum material.\n",
    "A box is made of cardboard with double thick sides, a triple thick bottom, single thick front\n",
    "and back and no top. It’s volume = $3$.\n",
    "What dimensions use the least amount of cardboard?"
   ]
  },
  {
   "cell_type": "markdown",
   "id": "09f00c31-0065-4768-8aed-b5375798b2ad",
   "metadata": {},
   "source": [
    "$$ V := V(d,w,h) = dwh = 3$$"
   ]
  },
  {
   "cell_type": "markdown",
   "id": "040bdc8e-716d-4c2c-8c3b-02c73af39528",
   "metadata": {},
   "source": [
    "Let $A$, $B$, and $C$ denote the amount of cardboard for the two double think sides, the single thick front and back, and the triple thick bottom respectively.  \n",
    "\n",
    "$$ A = 4dh \\quad\\quad B = 2wh \\quad\\quad C = 3dw$$"
   ]
  },
  {
   "cell_type": "markdown",
   "id": "2c920b8d-f3ea-4c1f-a8fd-53b4e389d424",
   "metadata": {},
   "source": [
    "The total amount of cardboard, denoted as $T$, is given by:  \n",
    "\n",
    "$$ T = 4dh + 2wh + 3dw$$"
   ]
  },
  {
   "cell_type": "markdown",
   "id": "181ff790-b158-4564-b56e-4f996a28daee",
   "metadata": {},
   "source": [
    "$$T = \\frac{12}{w} + \\frac{6}{d} + 3dw$$"
   ]
  },
  {
   "cell_type": "markdown",
   "id": "52165d42-e012-4a68-9d5d-df657031e599",
   "metadata": {},
   "source": [
    "$$ T_w = -\\frac{12}{w^2} + 3d \\quad\\quad T_h = 0 \\quad\\quad T_d =3w -\\frac{6}{d^2}$$"
   ]
  },
  {
   "cell_type": "markdown",
   "id": "e7e7e474-0735-4ae9-935f-0de7ddd674e7",
   "metadata": {},
   "source": [
    "Now we need to find $d$ and $w$ such that $T_w, T_d = 0$,  \n",
    "\n",
    "$$ d = \\frac{4}{w^2} \\quad\\implies\\quad w = \\pm\\sqrt{\\frac{4}{d}} = \\pm\\frac{2}{\\sqrt{d}}$$"
   ]
  },
  {
   "cell_type": "markdown",
   "id": "4c86ba89-08e2-427a-bafb-0849074c323a",
   "metadata": {},
   "source": [
    "$$ 3w = \\frac{6}{d^2} = \\frac{6w^4}{16} \\quad\\implies\\quad 1 = \\frac{w^3}{8} \\quad\\implies$$"
   ]
  },
  {
   "cell_type": "markdown",
   "id": "a666e8af-abc5-4f8d-b4b0-66b796ccd641",
   "metadata": {},
   "source": [
    "$$ w = 2$$"
   ]
  },
  {
   "cell_type": "markdown",
   "id": "01867b84-1489-427f-8847-86c118a7bf4d",
   "metadata": {},
   "source": [
    "$$ d = 1 $$ "
   ]
  },
  {
   "cell_type": "markdown",
   "id": "3385bbd9-38bd-460c-9e75-d061103f817c",
   "metadata": {},
   "source": [
    "$$ h = 1.5$$"
   ]
  }
 ],
 "metadata": {
  "kernelspec": {
   "display_name": "Python 3 (ipykernel)",
   "language": "python",
   "name": "python3"
  },
  "language_info": {
   "codemirror_mode": {
    "name": "ipython",
    "version": 3
   },
   "file_extension": ".py",
   "mimetype": "text/x-python",
   "name": "python",
   "nbconvert_exporter": "python",
   "pygments_lexer": "ipython3",
   "version": "3.10.12"
  }
 },
 "nbformat": 4,
 "nbformat_minor": 5
}
