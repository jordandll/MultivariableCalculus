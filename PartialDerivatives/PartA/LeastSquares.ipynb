{
 "cells": [
  {
   "cell_type": "markdown",
   "id": "6c2b05eb-d00f-4d27-86da-d3a41af0806f",
   "metadata": {},
   "source": [
    "# Least Squares Interpolation\n",
    "\n",
    "## The Least-Squares Line  \n",
    "Suppose you have a large number $n$ of experimentally determined points, through which\n",
    "you want to pass a curve. There is a formula (the Lagrange interpolation formula) producing\n",
    "a polynomial curve of degree $n − 1$ which goes through the points exactly. But normally one\n",
    "wants to find a simple curve, like a line, parabola, or exponential, which goes approximately\n",
    "through the points, rather than a high-degree polynomial which goes exactly through them.\n",
    "The reason is that the location of the points is to some extent determined by experimental\n",
    "error, so one wants a smooth-looking curve which averages out these errors, not a wiggly\n",
    "polynomial which takes them seriously.  "
   ]
  },
  {
   "cell_type": "markdown",
   "id": "45e9ab4a-d109-4bf2-a222-2867b5dbec57",
   "metadata": {},
   "source": [
    "In this section, we consider the most common case — finding a line which\n",
    "goes approximately through a set of data points.  \n",
    "\n",
    "Suppose the data points are  \n",
    "\n",
    "$$ (x_1,y_1),(x_2,y_2), \\dotsc , (x_n,y_n)$$"
   ]
  },
  {
   "cell_type": "markdown",
   "id": "be48e855-e14d-4d6f-b25e-ba5b39a9d6c0",
   "metadata": {},
   "source": [
    "and, we want to find the line:  \n",
    "\n",
    "\\begin{equation}\\tag{1}\n",
    "    y := f(x) = ax + b\n",
    "\\end{equation}"
   ]
  },
  {
   "cell_type": "markdown",
   "id": "36345397-4dbb-4d9c-ba93-98709d9285a8",
   "metadata": {},
   "source": [
    "which “best” passes through them. Assuming our errors in measurement are distributed\n",
    "randomly according to the usual bell-shaped curve (the so-called “Gaussian distribution”),\n",
    "it can be shown that the right choice of $a$ and $b$ is the one for which the sum $D$ of the\n",
    "squares of the deviations  \n",
    "\n",
    "\\begin{equation}\\tag{2}\n",
    "\tD = \\sum_{i=1}^n\\big(y_i - (ax_i + b)\\big)^2\n",
    "\\end{equation}"
   ]
  },
  {
   "cell_type": "markdown",
   "id": "6c540fcd-97b6-402a-bb97-8d6e054a569c",
   "metadata": {},
   "source": [
    "is at a minimum.  To expand on equation (2):  "
   ]
  },
  {
   "cell_type": "markdown",
   "id": "3a9597a3-5423-4d56-966f-9716171fbb96",
   "metadata": {},
   "source": [
    "$$ D = \\sum_{i=1}^ny_i^2 + \\sum_{i=1}^n(ax_i+b)^2 - 2\\sum_{i=1}^ny_i(ax_i+b)$$"
   ]
  },
  {
   "cell_type": "markdown",
   "id": "7acff54c-922f-45f6-a9ee-610c70702a78",
   "metadata": {},
   "source": [
    "$$ = \\sum_{i=1}^ny_i^2 + a^2\\sum_{i=1}^nx_i^2 + nb^2 + 2ab\\sum_{i=1}^nx_i - 2a\\sum_{i=1}^nx_iy_i - 2b\\sum_{i=1}^ny_i$$"
   ]
  },
  {
   "cell_type": "markdown",
   "id": "d9a87e19-90d8-4853-a36e-6c86de0080ee",
   "metadata": {},
   "source": [
    "$$ = c_6 + c_1a^2 + nb^2 + 2a\\left(b\\sum_{i=1}^nx_i - \\sum_{i=1}^nx_iy_i\\right) - 2bc_5$$"
   ]
  },
  {
   "cell_type": "markdown",
   "id": "a153176d-a318-4280-9a43-ea3c956ec486",
   "metadata": {},
   "source": [
    "$$ = c_1a^2 + nb^2 + 2a\\sum_{i=1}^nx_i(b-y_i) - 2c_5b + c_6$$"
   ]
  },
  {
   "cell_type": "markdown",
   "id": "ab5eaa8f-5110-4db5-88ad-ca7ee0c31bfc",
   "metadata": {},
   "source": [
    "The above equation is of the form:  \n",
    "\n",
    "\\begin{equation}\\tag{2a}\n",
    "    D = c_1a^2 + nb^2 + 2abc_3 - 2ac_4 - 2bc_5 + c_6\n",
    "\\end{equation}"
   ]
  },
  {
   "cell_type": "markdown",
   "id": "e489947c-f0a2-4e09-b4c2-48248d843dc6",
   "metadata": {},
   "source": [
    "Assuming all of the coefficients of the above equation are not equal to zero, the curve given by said equation is a 3D parabola that has undergone some arbitrary shifts and rotations.  However, our initial assumption that the error in measurments are distributed randomly according to the \"Gaussian distribution\" implies that:  \n",
    "\n",
    "$$ \\sum_{i=1}^n y_i \\approxeq a\\sum_{i=1}^nx_i + nb \\quad\\implies \\quad c_5 \\approxeq ac_3 + nb \\quad\\implies $$"
   ]
  },
  {
   "cell_type": "markdown",
   "id": "cabfda5b-15f5-47c2-9fed-6a397e6b5858",
   "metadata": {},
   "source": [
    "\\begin{equation}\\tag{2b}\n",
    "    ac_3 \\approxeq c_5 - nb\n",
    "\\end{equation}"
   ]
  },
  {
   "cell_type": "markdown",
   "id": "74468b8e-0c09-48d1-949c-9aa943f099bd",
   "metadata": {},
   "source": [
    "Via equation (2a,b),  \n",
    "\n",
    "$$ D  \\approxeq c_1a^2 + nb^2 + 2b(c_5-nb) - 2ac_4 - 2bc_5 + c_6  $$"
   ]
  },
  {
   "cell_type": "markdown",
   "id": "6ba0b664-b98d-4918-9017-890a96cbf78a",
   "metadata": {},
   "source": [
    "$$ \\approxeq c_1a^2  -nb^2 -2ac_4 + c_6$$"
   ]
  },
  {
   "cell_type": "markdown",
   "id": "308d7b5d-6d6f-4a0d-9ecc-72e610e21771",
   "metadata": {},
   "source": [
    "The above approximates a conic parabola which of course has one critical point at which the minimum value of $D$ exists.  Now, let $g(a,b)$ be defined as the function that gives said conic parabola.  To find the critical point of $g(a,b)$ we must find $a$ and $b$ such that $g_a, g_b = 0$.  \n",
    "\n",
    "$$ g_a = \\frac{\\partial g}{\\partial a} = 2c_1a - 2c_4 $$"
   ]
  },
  {
   "cell_type": "markdown",
   "id": "90cf6fb4-33c4-4c86-b771-fae539236425",
   "metadata": {},
   "source": [
    "$$ g_b = -2nb$$"
   ]
  },
  {
   "cell_type": "markdown",
   "id": "8d18ef4d-4d95-46d7-a0a8-9955fdeeab35",
   "metadata": {},
   "source": [
    "The critical point of $g(a,b)$ is thus,  \n",
    "\n",
    "$$ a = \\frac{c_4}{c_1}  \\quad\\quad \\text{and}\\quad\\quad b = 0$$"
   ]
  },
  {
   "cell_type": "markdown",
   "id": "fe932796-e64e-4c87-9bcc-00c7b93f556f",
   "metadata": {},
   "source": [
    "In the formula (2), the quantities in parentheses (shown by\n",
    "dotted lines in the picture) are the deviations between the observed values $y_i$ and the ones predicted by $f(x_i)$, the function defined in equation (1).  \n",
    "\n",
    "The deviations are squared for theoretical reasons connected with the assumed Gaussian\n",
    "error distribution; note however that the effect is to ensure that we sum only positive\n",
    "quantities; this is important, since we do not want deviations of opposite sign to cancel each\n",
    "other out. It also weights more heavily the larger deviations, keeping experimenters honest,\n",
    "since they tend to ignore large deviations (“I had a headache that day”).\n",
    "This prescription for finding the line (1) is called the method of least squares, and the\n",
    "resulting line (1) is called the least-squares line or the regression line.  \n",
    "\n",
    "To calculate the values of $a$ and $b$ which make $D$ a minimum, we see where the two partial\n",
    "derivatives are zero:  \n",
    "\n",
    "\\begin{equation}\\tag{3a}\n",
    "    D_a = \\frac{\\partial D}{\\partial a} = -2\\sum_{i=1}^n \\big(y_i-(ax_i+b)\\big)x_i = 0\n",
    "\\end{equation}\n",
    "\n",
    "\\begin{equation}\\tag{3b}\n",
    "    D_b = \\frac{\\partial D}{\\partial b} = -2\\sum_{i=1}^n\\big(y_i-(ax_i + b)\\big) = 0\n",
    "\\end{equation}"
   ]
  },
  {
   "cell_type": "markdown",
   "id": "f0bbe08a-ebeb-4b2c-a526-b23ac256f479",
   "metadata": {},
   "source": [
    "Dividing throughout equation (3a) by $-2$ and expanding the result gives:  \n",
    "\n",
    "$$ \\sum_{i=1}^nx_iy_i  = \\sum_{i=1}^nx_i(ax_i+b) = a\\sum_{i=1}^nx_i^2 + b\\sum_{i=1}^nx_i$$"
   ]
  },
  {
   "cell_type": "markdown",
   "id": "d4459302-818d-406b-b5e1-681e646a833f",
   "metadata": {},
   "source": [
    "Doing the same to equation (3b) gives:  \n",
    "\n",
    "$$ \\sum_{i=1}^n y_i = a\\sum_{i=1}^nx_i + nb$$"
   ]
  },
  {
   "cell_type": "markdown",
   "id": "73064966-ce68-43e6-92fe-a0a96b1ddc05",
   "metadata": {},
   "source": [
    "And, dividing throughout both of the above equations by $n$ gives:  \n",
    "\n",
    "\\begin{equation}\\tag{4a}\n",
    "    \\frac{1}{n}\\sum_{i=1}^nx_iy_i = a\\bar{s} + b\\bar{x} = \\bar{p}\n",
    "\\end{equation}"
   ]
  },
  {
   "cell_type": "markdown",
   "id": "935e3437-f1db-4b46-a71b-8dbde89bfeba",
   "metadata": {},
   "source": [
    "and  \n",
    "\n",
    "\\begin{equation}\\tag{4b}\n",
    "    \\bar{y} = a\\bar{x} + b\n",
    "\\end{equation}"
   ]
  },
  {
   "cell_type": "markdown",
   "id": "2004b6b2-f78e-4c7a-8196-b728649821a1",
   "metadata": {},
   "source": [
    "where $\\bar{s}$, $\\bar{x}$, $\\bar{p}$, and $\\bar{y}$ are equal to the average values of $x_i^2$, $x_i$, $x_iy_i$, and $y_i$ respectively."
   ]
  },
  {
   "cell_type": "markdown",
   "id": "2238b50e-2abb-48ad-8155-9d52ab8c8e39",
   "metadata": {},
   "source": [
    "Via equations (4a,b),  \n",
    "\n",
    "$$ a\\bar{s} + \\bar{x}\\big(\\bar{y} - a\\bar{x}\\big) = \\bar{p}$$"
   ]
  },
  {
   "cell_type": "markdown",
   "id": "4ea99e6e-299d-4b13-9307-87e2f973ac21",
   "metadata": {},
   "source": [
    "$$ a\\big(\\bar{s} - \\bar{x}^2\\big) = \\bar{p} - \\bar{x}\\bar{y}$$"
   ]
  },
  {
   "cell_type": "markdown",
   "id": "a1f480dd-3e16-488f-9acb-76ebf551791b",
   "metadata": {},
   "source": [
    "\\begin{equation}\\tag{4.1}\n",
    "    a = \\frac{\\bar{p} - \\bar{x}\\bar{y}}{\\bar{s} - \\bar{x}^2}\n",
    "\\end{equation}"
   ]
  },
  {
   "cell_type": "markdown",
   "id": "9f2a6c30-b13c-462b-b559-803ef2683887",
   "metadata": {},
   "source": [
    "And, via the above equation and equation (4b),  \n",
    "\n",
    "\\begin{equation}\\tag{4.2}\n",
    "    b = \\bar{y} - \\bar{x}\\,\\frac{\\bar{p}-\\bar{x}\\bar{y}}{\\bar{s}-\\bar{x}^2}\n",
    "\\end{equation}"
   ]
  },
  {
   "cell_type": "markdown",
   "id": "e4c110fc-da33-449d-8cc5-7e5362067db7",
   "metadata": {},
   "source": [
    "## Examples  \n",
    "\n",
    "#### Example 1\n",
    "\n",
    "Use the method of least squares to fit a line to the three data points  \n",
    "\n",
    "$$ (0, 0),\\;(1, 2),\\;(2, 1) $$"
   ]
  },
  {
   "cell_type": "markdown",
   "id": "d8fa86d4-6fb9-4d91-9e38-0e322914a20c",
   "metadata": {},
   "source": [
    "The line is given by:  \n",
    "\n",
    "$$ y:=f(x) = ax + b $$"
   ]
  },
  {
   "cell_type": "markdown",
   "id": "dd86ef39-3adb-4744-b657-8cfd4fae9d33",
   "metadata": {},
   "source": [
    "The relavent averages are:  \n",
    "\n",
    "$$ \\bar{p} = \\frac{4}{3}\\quad\\quad\\bar{s} = \\frac{5}{3}\\quad\\quad \\bar{x} = 1 \\quad\\quad \\bar{y} = 1$$"
   ]
  },
  {
   "cell_type": "markdown",
   "id": "b362caa5-8b14-48dd-9146-71612ce6405a",
   "metadata": {},
   "source": [
    "where, via equations (4.1) and (4.2),   \n",
    "\n",
    "$$ a = \\frac{1}{3}\\,\\frac{3}{2} = 0.5$$"
   ]
  },
  {
   "cell_type": "markdown",
   "id": "601db329-94a3-445e-b1ff-43a4ae205897",
   "metadata": {},
   "source": [
    "and  \n",
    "\n",
    "$$ b = 1 - 0.5 = 0.5$$"
   ]
  },
  {
   "cell_type": "markdown",
   "id": "d48ea281-2cc2-4e70-ace0-02cddc2174c8",
   "metadata": {},
   "source": [
    "Thus,  \n",
    "\n",
    "$$ y = f(x) = 0.5(x+1)$$"
   ]
  },
  {
   "cell_type": "code",
   "execution_count": 1,
   "id": "08fbcd6f-1bd8-4e10-9815-b46840138f76",
   "metadata": {
    "jupyter": {
     "source_hidden": true
    },
    "tags": []
   },
   "outputs": [],
   "source": [
    "import numpy as np\n",
    "import sympy as sp\n",
    "import matplotlib.pyplot as plt"
   ]
  },
  {
   "cell_type": "code",
   "execution_count": 2,
   "id": "1a103bae-0ff1-459d-8c97-0d1ab4f37493",
   "metadata": {
    "jupyter": {
     "source_hidden": true
    },
    "tags": []
   },
   "outputs": [
    {
     "data": {
      "text/plain": [
       "[<matplotlib.lines.Line2D at 0x7f0dab6f65f0>]"
      ]
     },
     "execution_count": 2,
     "metadata": {},
     "output_type": "execute_result"
    },
    {
     "data": {
      "image/png": "[encoded data removed]",
      "text/plain": [
       "<Figure size 640x480 with 1 Axes>"
      ]
     },
     "metadata": {},
     "output_type": "display_data"
    }
   ],
   "source": [
    "x = np.linspace(0,2,num=20)\n",
    "y = 0.5*(x+1)\n",
    "\n",
    "fig, ax = plt.subplots()\n",
    "ax.set_title('Linear Regression', size=13)\n",
    "ax.set_xlabel('x-axis')\n",
    "ax.set_ylabel('y-axis')\n",
    "ax.grid()\n",
    "\n",
    "ax.plot([0,1,2],[0,2,1],'.')\n",
    "ax.plot(x,y)"
   ]
  }
 ],
 "metadata": {
  "kernelspec": {
   "display_name": "Python 3 (ipykernel)",
   "language": "python",
   "name": "python3"
  },
  "language_info": {
   "codemirror_mode": {
    "name": "ipython",
    "version": 3
   },
   "file_extension": ".py",
   "mimetype": "text/x-python",
   "name": "python",
   "nbconvert_exporter": "python",
   "pygments_lexer": "ipython3",
   "version": "3.10.12"
  }
 },
 "nbformat": 4,
 "nbformat_minor": 5
}
