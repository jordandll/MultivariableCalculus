{
 "cells": [
  {
   "cell_type": "markdown",
   "id": "e5bb385c-4748-4989-ad6f-10938df9d9eb",
   "metadata": {},
   "source": [
    "# Partial Derivatives\n",
    "\n",
    "## Problems \n",
    "\n",
    "#### Problem 1  \n",
    "\n",
    "**a**  \n",
    "\n",
    "$$ \\frac{\\partial f}{\\partial x} = 2xe^{x^2+y^2} + 2x + y$$"
   ]
  },
  {
   "cell_type": "markdown",
   "id": "cba8be10-9c2e-4cab-a289-f3d100ffcf5c",
   "metadata": {},
   "source": [
    "$$ \\frac{\\partial f}{\\partial y} = 2ye^{x^2+y^2} + 2y + x + 2$$"
   ]
  },
  {
   "cell_type": "markdown",
   "id": "69f7d147-8074-405a-b265-d1aca0ca84e2",
   "metadata": {},
   "source": [
    "**b)** $$\\frac{\\partial^2 f}{\\partial x\\partial y} = 4xye^{x^2+y^2} + 1  $$"
   ]
  },
  {
   "cell_type": "markdown",
   "id": "8208fba0-8229-4a59-9166-bdcd8f0777e0",
   "metadata": {},
   "source": [
    "$$ \\frac{\\partial^2 f}{\\partial y\\partial x} = 4xye^{x^2+y^2} + 1$$"
   ]
  },
  {
   "cell_type": "markdown",
   "id": "95d144c5-d650-41d4-9f4c-3d9f50486a61",
   "metadata": {},
   "source": [
    "**c)**  $$ 2e^{10} + 2 + 3$$"
   ]
  }
 ],
 "metadata": {
  "kernelspec": {
   "display_name": "Python 3 (ipykernel)",
   "language": "python",
   "name": "python3"
  },
  "language_info": {
   "codemirror_mode": {
    "name": "ipython",
    "version": 3
   },
   "file_extension": ".py",
   "mimetype": "text/x-python",
   "name": "python",
   "nbconvert_exporter": "python",
   "pygments_lexer": "ipython3",
   "version": "3.10.12"
  }
 },
 "nbformat": 4,
 "nbformat_minor": 5
}
