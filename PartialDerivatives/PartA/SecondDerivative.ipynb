{
 "cells": [
  {
   "cell_type": "markdown",
   "id": "002a0788-2078-43f7-93fa-b5208a65fb90",
   "metadata": {},
   "source": [
    "# Second Derivative Test\n",
    "## The Second Derivative Test\n",
    "We begin by recalling the situation for twice differentiable functions $f(x)$ of one variable.\n",
    "To find their local (or “relative”) maxima and minima, we\n",
    "1. find the critical points, i.e., the solutions of $f ′(x) = 0$;\n",
    "2. apply the second derivative test to each critical point $x_0$"
   ]
  },
  {
   "cell_type": "markdown",
   "id": "a9558363-09cf-4b46-9a84-837f91546e2e",
   "metadata": {},
   "source": [
    "\\begin{align*}\n",
    "    f′′(x_0) > 0 &\\quad\\implies\\quad x_0\\,\\text{ is a local minimum point;} \\\\\n",
    "    f′′(x_0) < 0 &\\quad\\implies\\quad x_0\\,\\text{ is a local maximum point.}\n",
    "\\end{align*}"
   ]
  },
  {
   "cell_type": "markdown",
   "id": "5c282642-5b43-468b-a26d-220ffe34dc23",
   "metadata": {},
   "source": [
    "The idea behind it is: at $x_0$ the slope $f ′(x_0) = 0$; if $f ′′(x_0) > 0,$ then $f′(x)$ is strictly\n",
    "increasing for $x$ near $x_0$, so that the slope is negative to the left of $x_0$ and positive to the\n",
    "right, which shows that $x_0$ is a minimum point. The reasoning for the maximum point is\n",
    "similar.  \n",
    "\n",
    "If $f′′(x_0) = 0$, the test fails and one has to investigate further, by taking more derivatives, or getting more information about the graph. Besides being a maximum or minimum, such a point could also be a horizontal point of inflection.  \n",
    "\n",
    "The analogous test for maxima and minima of functions of two variables $f(x, y)$ is a\n",
    "little more complicated, since there are several equations to satisfy, several derivatives to be\n",
    "taken into account, and another important geometric possibility for a critical point, namely\n",
    "a **saddle point**. This is a local minimax point; around such a point the graph of $f(x, y)$\n",
    "looks like the central part of a saddle, or the region around the highest point of a mountain\n",
    "pass. In the neighborhood of a saddle point, the graph of the function lies both above and\n",
    "below its horizontal tangent plane at the point.  \n",
    "\n",
    "The second-derivative test for maxima, minima, and saddle points has two steps"
   ]
  },
  {
   "cell_type": "markdown",
   "id": "d1061959-67f4-4683-bc63-d051526cd8da",
   "metadata": {},
   "source": [
    "Find the critical points by solving the simultaneous equations $\\displaystyle \\begin{cases} f_x(x,y) =0, \\\\ f_y(x,y)=0.\\end{cases}$"
   ]
  },
  {
   "cell_type": "markdown",
   "id": "9caef7a6-2183-4087-ba99-328cd9a7bff2",
   "metadata": {},
   "source": [
    "Since a critical point $(x_0, y_0)$ is a solution to both equations, both partial derivatives are zero there, so that the tangent plane to the graph of $f(x, y)$ is horizontal.  \n",
    "\n",
    "2. To test such a point to see if it is a local maximum or minimum point, we calculate\n",
    "the three second derivatives at the point (we use subscript 0 to denote evaluation at $(x_0, y_0)$,\n",
    "so for example $(f )_0 = f(x_0, y_0))$, and denote the values by $A$, $B$, and $C$:  \n",
    "\n",
    "\\begin{equation}\\tag{1}\n",
    "\tA = (f_{xx})_0 = f_{xx}(x_0,y_0) \\quad\\quad B = (f_{xy})_0 = (f_{yx})_0 \\quad\\quad C = (f_{yy})_0\n",
    "\\end{equation}\n",
    "\n",
    "(we are assuming the derivatives exist and are continuous)."
   ]
  },
  {
   "cell_type": "markdown",
   "id": "77806bfb-68b9-4951-a297-4016b67865b0",
   "metadata": {},
   "source": [
    "**Second-derivative test**. Let $(x_0, y_0)$ be a critical point of $f(x, y)$, and $A$, $B$, and $C$ be as in (1). Then  \n",
    "\n",
    "\\begin{align*}\n",
    "\tAC - B^2 > 0 \\quad\\quad\\text{where } A > 0 \\,\\text{ or }\\, C>0 &\\quad\\implies\\quad (x_0,y_0)\\,\\text{ is a minimum point;} \\\\\n",
    "\tAC - B^2 > 0 \\quad\\quad\\text{where } A < 0 \\,\\text{ or }\\, C < 0 &\\quad\\implies\\quad (x_0,y_0)\\,\\text{ is a maximum point;} \\\\\n",
    "\tAC - B^2 < 0 &\\quad\\implies\\quad (x_0,y_0) \\,\\text{ is a saddle point.}\n",
    "\\end{align*}"
   ]
  },
  {
   "cell_type": "markdown",
   "id": "c1a650dd-e058-4682-941f-a227fa964b3c",
   "metadata": {},
   "source": [
    "If $AC − B^2 = 0$, the test fails and more investigation is needed.  Note that if $AC − B^2 > 0$, then $AC > 0$, so that $A$ and $C$ must have the same sign."
   ]
  },
  {
   "cell_type": "markdown",
   "id": "a8fe25cf-9a30-4db2-a4d4-a86cb747cc04",
   "metadata": {},
   "source": [
    "## Examples\n",
    "\n",
    "#### Example 1\n",
    "\n",
    "Find the critical points of $w = 12x^2 + y^3 − 12xy$ and determine their type."
   ]
  },
  {
   "cell_type": "markdown",
   "id": "8d2037b3-6713-4d12-a501-a1a1b9db37f8",
   "metadata": {},
   "source": [
    "The first partial derivatives are:  \n",
    "\n",
    "$$ w_x = 24x - 12y \\quad\\quad\\text{and}\\quad\\quad w_y = 3y^2 - 12x$$ "
   ]
  },
  {
   "cell_type": "markdown",
   "id": "0eb8c972-71fd-4678-a6d4-0fa84d0573fb",
   "metadata": {},
   "source": [
    "And, the second partial derivatives are:  \n",
    "\n",
    "$$ w_{xx} = 24 \\quad\\quad w_{xy} = w_{yx} = -12\\quad\\quad w_{yy} = 6y$$"
   ]
  },
  {
   "cell_type": "markdown",
   "id": "9fe4a79a-75df-4b6e-a0f3-9c8ddc824527",
   "metadata": {},
   "source": [
    "To find the critical points, we must find $x_0$ and $y_0$ such that:  \n",
    "\n",
    "$$ 24x_0 = 12y_0 \\quad\\quad\\text{and}\\quad\\quad 3y_0^2 = 12x_0$$"
   ]
  },
  {
   "cell_type": "markdown",
   "id": "8fb0cd14-0961-40fd-a30c-416fbd6eec09",
   "metadata": {},
   "source": [
    "$$ x_0 = 0.5y_0 \\quad\\quad\\text{and}\\quad\\quad y_0^2 = 4x_0$$"
   ]
  },
  {
   "cell_type": "markdown",
   "id": "fa45479a-c07e-4e81-bbf6-182900ebfbee",
   "metadata": {},
   "source": [
    "$$ y_0^2 = 2y_0 \\quad\\implies\\quad y_0 = 2$$"
   ]
  },
  {
   "cell_type": "markdown",
   "id": "66211b49-d894-4002-97e0-73455d656f4c",
   "metadata": {},
   "source": [
    "And,  \n",
    "\n",
    "$$ x_0 = 1$$"
   ]
  },
  {
   "cell_type": "markdown",
   "id": "aca87162-4ecb-44d9-9a13-50940b8a53cf",
   "metadata": {},
   "source": [
    "As for their types:  \n",
    "\n",
    "$$ A = w_{xx}(1,2) = 24\\quad\\quad B = -12 \\quad\\quad C = 12$$"
   ]
  },
  {
   "cell_type": "markdown",
   "id": "bd4f5c8b-128b-4b4d-98ff-2a22f2c2cfef",
   "metadata": {},
   "source": [
    "Whereas $AC>B^2$ and $A>0$ therefore the critical point is a minimum point."
   ]
  },
  {
   "cell_type": "markdown",
   "id": "da72464f-bb8d-46b0-9765-04bc35381ca6",
   "metadata": {},
   "source": [
    "#### Example 2\n",
    "\n",
    "Find and classify all the critical points of  \n",
    "\n",
    "$$ f (x, y) := f(\\mathbf{x}) := z = x^6 + y^3 + 6x − 12y + 7$$ "
   ]
  },
  {
   "cell_type": "markdown",
   "id": "baa90d63-ada9-4a76-9339-ea07c0109656",
   "metadata": {},
   "source": [
    "The first partial derivatives are:  \n",
    "\n",
    "$$ f_x = 6x^5 + 6 \\quad\\quad f_y = 3y^2 - 12 = 3\\big(y^2-4\\big) = 3(y+2)(y-2)$$"
   ]
  },
  {
   "cell_type": "markdown",
   "id": "5af17eb5-8ca2-4cdf-9921-dd6624b31cde",
   "metadata": {},
   "source": [
    "And, the second partial derivatives are:  \n",
    "\n",
    "$$ f_{xx} = 30x^4 \\quad\\quad f_{xy} = f_{yx} = 0 \\quad\\quad f_{yy} = 6y$$"
   ]
  },
  {
   "cell_type": "markdown",
   "id": "dd0dc803-063a-4e45-887b-20eec92ecc18",
   "metadata": {},
   "source": [
    "To find the critical point(s), we shall find $\\mathbf{a}=(a_x,a_y)$ such that:  \n",
    "\n",
    "$$ f_x(\\mathbf{a}) = 0 \\quad\\quad\\text{and}\\quad\\quad f_y(\\mathbf{a}) = 0$$"
   ]
  },
  {
   "cell_type": "markdown",
   "id": "e1ce22a5-21e7-4d2e-a492-24d695826de1",
   "metadata": {},
   "source": [
    "$$ a_x^5 = -1 \\quad\\implies\\quad a_x = -1$$"
   ]
  },
  {
   "cell_type": "markdown",
   "id": "2c8b9253-42a1-41ed-bda8-2d9c3565cbce",
   "metadata": {},
   "source": [
    "$$ a_y^2 = 4 \\quad\\implies\\quad a_y = \\pm 2$$"
   ]
  },
  {
   "cell_type": "markdown",
   "id": "9b49a431-97b6-4305-a83a-d2826326f534",
   "metadata": {},
   "source": [
    "Thus, the critical points are:   \n",
    "\n",
    "$$ \\mathbf{a} = (-1,\\pm 2)$$"
   ]
  },
  {
   "cell_type": "markdown",
   "id": "ac7fecba-ce82-4309-b990-dc5319538d13",
   "metadata": {},
   "source": [
    "For easier reference, let $\\mathbf{b}$ and $\\mathbf{c}$ be defined as:  \n",
    "\n",
    "$$ \\mathbf{b} = (-1,2) \\quad\\quad\\text{and}\\quad\\quad \\mathbf{c} = (-1,-2)$$"
   ]
  },
  {
   "cell_type": "markdown",
   "id": "8a039700-fff0-4ae2-a82f-e507dc26834f",
   "metadata": {},
   "source": [
    "To classify $\\mathbf{b}$:  \n",
    "\n",
    "$$ A = 30 \\quad\\quad B = 0 \\quad\\quad C = 12$$"
   ]
  },
  {
   "cell_type": "markdown",
   "id": "6caaba47-423f-4905-b28f-cf3d8a94492b",
   "metadata": {},
   "source": [
    "Whereas $AC>B^2$ and $A>0$ therefore $\\mathbf{b}$ is a minimum."
   ]
  },
  {
   "cell_type": "markdown",
   "id": "206ec90b-ea4b-43fb-bda0-268e0f3a8bcb",
   "metadata": {},
   "source": [
    "And $\\mathbf{c}$ is a saddle point."
   ]
  },
  {
   "cell_type": "markdown",
   "id": "5bc9a033-5bb9-49e6-b14d-dc7c8932b7ec",
   "metadata": {},
   "source": [
    "## Problems\n",
    "#### Problem 1\n",
    "Find and classify all the critical points of  \n",
    "\n",
    "$$ w = \\big(x^3 + 1\\big)\\big(y^3 + 1\\big)$$"
   ]
  },
  {
   "cell_type": "markdown",
   "id": "09ead2af-64fd-4b17-8a6e-e16db3196ff2",
   "metadata": {},
   "source": [
    "The first partial derivatives are:  \n",
    "\n",
    "$$ w_x  = 3x^2\\big(y^3+1\\big) \\quad\\quad\\text{and}\\quad\\quad w_y = 3y^2\\big(x^3+1\\big)$$"
   ]
  },
  {
   "cell_type": "markdown",
   "id": "ae5a0eeb-caab-469c-bf01-1bcb5a970ad7",
   "metadata": {},
   "source": [
    "And, the second partial derivatives are:  \n",
    "\n",
    "$$ w_{xx} = 6x\\big(y^3+1\\big)\\quad\\quad w_{xy}=w_{yx} = 9x^2y^2 = (3xy)^2 \\quad\\quad w_{yy} = 6y\\big(x^3+1\\big)$$"
   ]
  },
  {
   "cell_type": "markdown",
   "id": "71a7a219-9913-49be-ab1c-1bde8cf35e52",
   "metadata": {},
   "source": [
    "To find the critical points, we must find $\\mathbf{a}$ such that:  \n",
    "\n",
    "$$ w:=f(x,y):=f(\\mathbf{x}) \\quad\\quad f_x(\\mathbf{a}) = 0 \\quad\\quad f_y(\\mathbf{a}) = 0$$"
   ]
  },
  {
   "cell_type": "markdown",
   "id": "301b801a-c6df-453c-a5f1-57b4a135d5f3",
   "metadata": {},
   "source": [
    "Via the above,  \n",
    "\n",
    "$$ \\mathbf{a} = \\big\\{(0,0),(-1,-1)\\big\\}$$"
   ]
  },
  {
   "cell_type": "markdown",
   "id": "44b6ccbb-6b7f-4c60-82bf-1ebb4a1ead70",
   "metadata": {},
   "source": [
    "The critical point $(0,0)$ appears to be an inflection point since the second derivative test fails.  \n",
    "\n",
    "As for the other critical point:  \n",
    "\n",
    "$$ A = 0\\quad\\quad B = 9 \\quad\\quad C = 0$$"
   ]
  },
  {
   "cell_type": "markdown",
   "id": "97678e1f-398d-44d1-9783-244ec31eb82f",
   "metadata": {},
   "source": [
    "Whereas $AC<B^2$ therefore the critical point $(-1,-1)$ is a saddle point."
   ]
  }
 ],
 "metadata": {
  "kernelspec": {
   "display_name": "Python 3 (ipykernel)",
   "language": "python",
   "name": "python3"
  },
  "language_info": {
   "codemirror_mode": {
    "name": "ipython",
    "version": 3
   },
   "file_extension": ".py",
   "mimetype": "text/x-python",
   "name": "python",
   "nbconvert_exporter": "python",
   "pygments_lexer": "ipython3",
   "version": "3.10.12"
  }
 },
 "nbformat": 4,
 "nbformat_minor": 5
}
