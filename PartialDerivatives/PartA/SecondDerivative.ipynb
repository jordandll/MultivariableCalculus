{
 "cells": [
  {
   "cell_type": "markdown",
   "id": "002a0788-2078-43f7-93fa-b5208a65fb90",
   "metadata": {},
   "source": [
    "# Second Derivative Test\n",
    "## The Second Derivative Test\n",
    "We begin by recalling the situation for twice differentiable functions $f(x)$ of one variable.\n",
    "To find their local (or “relative”) maxima and minima, we\n",
    "1. find the critical points, i.e., the solutions of $f ′(x) = 0$;\n",
    "2. apply the second derivative test to each critical point $x_0$"
   ]
  },
  {
   "cell_type": "markdown",
   "id": "a9558363-09cf-4b46-9a84-837f91546e2e",
   "metadata": {},
   "source": [
    "\\begin{align*}\n",
    "    f′′(x_0) > 0 &\\quad\\implies\\quad x_0\\,\\text{ is a local minimum point;} \\\\\n",
    "    f′′(x_0) < 0 &\\quad\\implies\\quad x_0\\,\\text{ is a local maximum point.}\n",
    "\\end{align*}"
   ]
  },
  {
   "cell_type": "markdown",
   "id": "5c282642-5b43-468b-a26d-220ffe34dc23",
   "metadata": {},
   "source": [
    "The idea behind it is: at $x_0$ the slope $f ′(x_0) = 0$; if $f ′′(x_0) > 0,$ then $f′(x)$ is strictly\n",
    "increasing for $x$ near $x_0$, so that the slope is negative to the left of $x_0$ and positive to the\n",
    "right, which shows that $x_0$ is a minimum point. The reasoning for the maximum point is\n",
    "similar.  \n",
    "\n",
    "If $f′′(x_0) = 0$, the test fails and one has to investigate further, by taking more derivatives, or getting more information about the graph. Besides being a maximum or minimum, such a point could also be a horizontal point of inflection.  \n",
    "\n",
    "The analogous test for maxima and minima of functions of two variables $f(x, y)$ is a\n",
    "little more complicated, since there are several equations to satisfy, several derivatives to be\n",
    "taken into account, and another important geometric possibility for a critical point, namely\n",
    "a **saddle point**. This is a local minimax point; around such a point the graph of $f(x, y)$\n",
    "looks like the central part of a saddle, or the region around the highest point of a mountain\n",
    "pass. In the neighborhood of a saddle point, the graph of the function lies both above and\n",
    "below its horizontal tangent plane at the point.  \n",
    "\n",
    "The second-derivative test for maxima, minima, and saddle points has two steps"
   ]
  },
  {
   "cell_type": "markdown",
   "id": "d1061959-67f4-4683-bc63-d051526cd8da",
   "metadata": {},
   "source": [
    "Find the critical points by solving the simultaneous equations $\\displaystyle \\begin{cases} f_x(x,y) =0, \\\\ f_y(x,y)=0.\\end{cases}$"
   ]
  },
  {
   "cell_type": "markdown",
   "id": "9caef7a6-2183-4087-ba99-328cd9a7bff2",
   "metadata": {},
   "source": [
    "Since a critical point $(x_0, y_0)$ is a solution to both equations, both partial derivatives are zero there, so that the tangent plane to the graph of $f(x, y)$ is horizontal.  \n",
    "\n",
    "2. To test such a point to see if it is a local maximum or minimum point, we calculate\n",
    "the three second derivatives at the point (we use subscript 0 to denote evaluation at $(x_0, y_0)$,\n",
    "so for example $(f )_0 = f(x_0, y_0))$, and denote the values by $A$, $B$, and $C$:  \n",
    "\n",
    "\\begin{equation}\\tag{1}\n",
    "\tA = (f_{xx})_0 = f_{xx}(x_0,y_0) \\quad\\quad B = (f_{xy})_0 = (f_{yx})_0 \\quad\\quad C = (f_{yy})_0\n",
    "\\end{equation}\n",
    "\n",
    "(we are assuming the derivatives exist and are continuous)."
   ]
  },
  {
   "cell_type": "markdown",
   "id": "77806bfb-68b9-4951-a297-4016b67865b0",
   "metadata": {},
   "source": [
    "**Second-derivative test**. Let $(x_0, y_0)$ be a critical point of $f(x, y)$, and $A$, $B$, and $C$ be as in (1). Then  \n",
    "\n",
    "\\begin{align*}\n",
    "\tAC - B^2 > 0 \\quad\\quad\\text{where } A > 0 \\,\\text{ or }\\, C>0 &\\quad\\implies\\quad (x_0,y_0)\\,\\text{ is a minimum point;} \\\\\n",
    "\tAC - B^2 > 0 \\quad\\quad\\text{where } A < 0 \\,\\text{ or }\\, C < 0 &\\quad\\implies\\quad (x_0,y_0)\\,\\text{ is a maximum point;} \\\\\n",
    "\tAC - B^2 < 0 &\\quad\\implies\\quad (x_0,y_0) \\,\\text{ is a saddle point.}\n",
    "\\end{align*}"
   ]
  },
  {
   "cell_type": "markdown",
   "id": "c1a650dd-e058-4682-941f-a227fa964b3c",
   "metadata": {},
   "source": [
    "If $AC − B^2 = 0$, the test fails and more investigation is needed.  Note that if $AC − B^2 > 0$, then $AC > 0$, so that $A$ and $C$ must have the same sign."
   ]
  },
  {
   "cell_type": "markdown",
   "id": "a8fe25cf-9a30-4db2-a4d4-a86cb747cc04",
   "metadata": {},
   "source": [
    "## Examples\n",
    "\n",
    "#### Example 1\n",
    "\n",
    "Find the critical points of $w = 12x^2 + y^3 − 12xy$ and determine their type."
   ]
  },
  {
   "cell_type": "markdown",
   "id": "8d2037b3-6713-4d12-a501-a1a1b9db37f8",
   "metadata": {},
   "source": [
    "The first partial derivatives are:  \n",
    "\n",
    "$$ w_x = 24x - 12y \\quad\\quad\\text{and}\\quad\\quad w_y = 3y^2 - 12x$$ "
   ]
  },
  {
   "cell_type": "markdown",
   "id": "0eb8c972-71fd-4678-a6d4-0fa84d0573fb",
   "metadata": {},
   "source": [
    "And, the second partial derivatives are:  \n",
    "\n",
    "$$ w_{xx} = 24 \\quad\\quad w_{xy} = w_{yx} = -12\\quad\\quad w_{yy} = 6y$$"
   ]
  },
  {
   "cell_type": "markdown",
   "id": "9fe4a79a-75df-4b6e-a0f3-9c8ddc824527",
   "metadata": {},
   "source": [
    "To find the critical points, we must find $x_0$ and $y_0$ such that:  \n",
    "\n",
    "$$ 24x_0 = 12y_0 \\quad\\quad\\text{and}\\quad\\quad 3y_0^2 = 12x_0$$"
   ]
  },
  {
   "cell_type": "markdown",
   "id": "8fb0cd14-0961-40fd-a30c-416fbd6eec09",
   "metadata": {},
   "source": [
    "$$ x_0 = 0.5y_0 \\quad\\quad\\text{and}\\quad\\quad y_0^2 = 4x_0$$"
   ]
  },
  {
   "cell_type": "markdown",
   "id": "fa45479a-c07e-4e81-bbf6-182900ebfbee",
   "metadata": {},
   "source": [
    "$$ y_0^2 = 2y_0 \\quad\\implies\\quad y_0 = 2$$"
   ]
  },
  {
   "cell_type": "markdown",
   "id": "66211b49-d894-4002-97e0-73455d656f4c",
   "metadata": {},
   "source": [
    "And,  \n",
    "\n",
    "$$ x_0 = 1$$"
   ]
  },
  {
   "cell_type": "markdown",
   "id": "aca87162-4ecb-44d9-9a13-50940b8a53cf",
   "metadata": {},
   "source": [
    "As for their types:  \n",
    "\n",
    "$$ A = w_{xx}(1,2) = 24\\quad\\quad B = -12 \\quad\\quad C = 12$$"
   ]
  },
  {
   "cell_type": "markdown",
   "id": "bd4f5c8b-128b-4b4d-98ff-2a22f2c2cfef",
   "metadata": {},
   "source": [
    "Whereas $AC>B^2$ and $A>0$ therefore the critical point is a minimum point."
   ]
  }
 ],
 "metadata": {
  "kernelspec": {
   "display_name": "Python 3 (ipykernel)",
   "language": "python",
   "name": "python3"
  },
  "language_info": {
   "codemirror_mode": {
    "name": "ipython",
    "version": 3
   },
   "file_extension": ".py",
   "mimetype": "text/x-python",
   "name": "python",
   "nbconvert_exporter": "python",
   "pygments_lexer": "ipython3",
   "version": "3.10.12"
  }
 },
 "nbformat": 4,
 "nbformat_minor": 5
}
