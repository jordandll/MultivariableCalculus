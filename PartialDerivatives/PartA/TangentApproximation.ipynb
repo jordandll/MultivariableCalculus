{
 "cells": [
  {
   "cell_type": "markdown",
   "id": "1dabc471-c756-4f96-afe5-7b1dbcde3d7c",
   "metadata": {},
   "source": [
    "# Tangent Approximation\n",
    "## Tangent Plane\n",
    "\n",
    "Suppose we have a curve $\\mathcal{C}$ given by $w = f(x,y)$.  The plane that is tangent to $\\mathcal{C}$, denoted as '$\\mathcal{P}$', at $(x_0,y_0,w_0)$ is given by the equation:  \n",
    "\n",
    "\\begin{align*}\\tag{1}\n",
    "    w - w_0 &= a(x-x_0) + b(y-y_0) \\\\\n",
    "    \\Delta w &= a\\Delta x + b\\Delta y\n",
    "\\end{align*}"
   ]
  },
  {
   "cell_type": "markdown",
   "id": "0434c653-e5d7-4619-b374-6b81e1383c22",
   "metadata": {},
   "source": [
    "where,  \n",
    "\n",
    "$$ a = f_x(x_0,y_0) \\quad\\quad\\text{and}\\quad\\quad b = f_y(x_0,y_0)$$  \n",
    "\n",
    "$$ \\Delta x = x-x_0 \\quad\\quad \\text{and}\\quad\\quad \\Delta y = y-y_0$$"
   ]
  },
  {
   "cell_type": "markdown",
   "id": "365a366b-e279-45ae-9940-1258d1e190da",
   "metadata": {},
   "source": [
    "and  \n",
    "\n",
    "$$ w_0 = f(x_0,y_0)$$"
   ]
  },
  {
   "cell_type": "markdown",
   "id": "af2eae05-315e-46c8-ad42-12d521976ab4",
   "metadata": {},
   "source": [
    "Note that:  \n",
    "\n",
    "$$ f_x(x,y) = \\frac{\\partial f}{\\partial x} = \\frac{\\partial w}{\\partial x}$$"
   ]
  },
  {
   "cell_type": "markdown",
   "id": "6a2f50f4-b0ea-4706-bfd2-58eea0190fac",
   "metadata": {},
   "source": [
    "Now let $g(x,y)$ denote the function that gives the tangent plane.  \n",
    "\n",
    "\\begin{align*}\\tag{2}\n",
    "    g(x,y) &= w_0 + a(x-x_0) + b(y-y_0) \\\\ \n",
    "     &= f(x_0,y_0) + f_x(x_0,y_0)\\Delta x + f_y(x_0,y_0)\\Delta y\n",
    "\\end{align*}"
   ]
  },
  {
   "cell_type": "markdown",
   "id": "bc9647c0-a1f6-4e96-b0fb-28a07cccb4c0",
   "metadata": {},
   "source": [
    "## Approximation Formula\n",
    "\n",
    "Within a small area around $(x_0,y_0)$,  \n",
    "\n",
    "\\begin{align*}\\tag{3}\n",
    "    f(x,y) &\\approxeq g(x,y) \\\\\n",
    "    \\Delta w &\\approxeq a\\Delta x + b\\Delta y \\quad\\quad\\text{where }\\Delta x,\\Delta y \\approxeq 0\n",
    "\\end{align*}"
   ]
  },
  {
   "cell_type": "markdown",
   "id": "45ac0261-e986-4bc7-ab90-80b715ef483f",
   "metadata": {},
   "source": [
    "## Examples\n",
    "\n",
    "#### Example 1\n",
    "\n",
    "Give a reasonable square, centered at $(1, 1)$, over which the value of\n",
    "$w = x^3y^4$ will not vary by more than $\\pm 1$."
   ]
  },
  {
   "cell_type": "markdown",
   "id": "f7d8707d-9b4c-4657-8163-3d23ba660ece",
   "metadata": {},
   "source": [
    "$$ f(x,y) = x^3y^4 \\quad\\quad w_0 = f(1,1) = 1 \\quad \\quad a = f_x(1,1) = 3 \\quad\\quad b = f_y(1,1) = 4$$"
   ]
  },
  {
   "cell_type": "markdown",
   "id": "9e34f5c5-c083-40c9-89d5-f580e4b30e69",
   "metadata": {},
   "source": [
    "Thus,  \n",
    "\n",
    "$$ g(x,y) = 1 + 3(x-1) + 4(y-1)$$"
   ]
  },
  {
   "cell_type": "markdown",
   "id": "784dfd33-90fe-4464-8ac7-e4e0be578e87",
   "metadata": {},
   "source": [
    "We need "
   ]
  }
 ],
 "metadata": {
  "kernelspec": {
   "display_name": "Python 3 (ipykernel)",
   "language": "python",
   "name": "python3"
  },
  "language_info": {
   "codemirror_mode": {
    "name": "ipython",
    "version": 3
   },
   "file_extension": ".py",
   "mimetype": "text/x-python",
   "name": "python",
   "nbconvert_exporter": "python",
   "pygments_lexer": "ipython3",
   "version": "3.10.12"
  }
 },
 "nbformat": 4,
 "nbformat_minor": 5
}
