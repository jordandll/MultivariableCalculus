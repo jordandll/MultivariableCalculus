{
 "cells": [
  {
   "cell_type": "markdown",
   "id": "66e6e689-ca3e-44de-befd-ed30ccd517dd",
   "metadata": {},
   "source": [
    "# Problem Set 6\n",
    "\n",
    "## Part II"
   ]
  },
  {
   "cell_type": "code",
   "execution_count": 1,
   "id": "2df32da9-d08e-41ba-b5ea-4f3357e08294",
   "metadata": {
    "tags": []
   },
   "outputs": [],
   "source": [
    "import matplotlib.pyplot as plt\n",
    "import numpy as np\n",
    "import sympy as sp"
   ]
  },
  {
   "cell_type": "markdown",
   "id": "33368c92-682b-411d-ab89-98637c44f30d",
   "metadata": {},
   "source": [
    "### Problem 1  "
   ]
  },
  {
   "cell_type": "code",
   "execution_count": null,
   "id": "84d6e12b-e336-4491-a03e-c112f4c361da",
   "metadata": {},
   "outputs": [],
   "source": []
  },
  {
   "cell_type": "markdown",
   "id": "4e776052-51a3-4bf1-8c0e-c899500ef223",
   "metadata": {},
   "source": [
    "$$ f(x,y) = x^2-y^2 \\quad\\quad\\text{and}\\quad\\quad g(x,y) = x^2+y^2$$"
   ]
  },
  {
   "cell_type": "markdown",
   "id": "bd9f252c-977d-46cf-b3e8-0ee9d099768e",
   "metadata": {},
   "source": [
    "$$ \\nabla f = 2\\langle x,-y\\rangle \\quad\\quad\\text{and}\\quad\\quad \\nabla g = 2\\langle x,y\\rangle$$"
   ]
  },
  {
   "cell_type": "markdown",
   "id": "a91c0759-2730-4e80-97a3-b76e1a4af092",
   "metadata": {},
   "source": [
    "**a)**  $$ \\lambda = \\{1,-1\\}$$"
   ]
  },
  {
   "cell_type": "markdown",
   "id": "ab167a36-41df-44fb-8497-9668056e7927",
   "metadata": {},
   "source": [
    "The gradients are proportional (parallel?) if and only if $\\lambda=1$ and $P=(x,0)$ or $\\lambda=-1$ and $P=(0,y)$."
   ]
  },
  {
   "cell_type": "markdown",
   "id": "1fe5b93c-e0a0-440c-a890-8348a8ccf938",
   "metadata": {},
   "source": [
    "$$ \\nabla f \\parallel \\nabla g \\quad\\iff\\quad \\nabla f \\propto \\nabla g \\quad\\iff\\quad \\lambda = 1\\;\\land\\;P=(x,0)\\;\\lor\\;\\lambda = -1\\;\\land\\;P=(0,y)$$"
   ]
  }
 ],
 "metadata": {
  "kernelspec": {
   "display_name": "Python 3 (ipykernel)",
   "language": "python",
   "name": "python3"
  },
  "language_info": {
   "codemirror_mode": {
    "name": "ipython",
    "version": 3
   },
   "file_extension": ".py",
   "mimetype": "text/x-python",
   "name": "python",
   "nbconvert_exporter": "python",
   "pygments_lexer": "ipython3",
   "version": "3.10.12"
  }
 },
 "nbformat": 4,
 "nbformat_minor": 5
}
