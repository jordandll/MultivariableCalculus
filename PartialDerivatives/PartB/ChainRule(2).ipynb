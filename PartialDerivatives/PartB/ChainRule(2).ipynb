{
 "cells": [
  {
   "cell_type": "markdown",
   "id": "b0e66fdf-b145-40db-ad19-16efd1b400a9",
   "metadata": {},
   "source": [
    "# Chain rule  \n",
    "\n",
    "Now we will formulate the chain rule when there is more than one independent variable.\n",
    "We suppose $w$ is a function of $x$, $y$ and that $x$, $y$ are functions of $u$, $v$. That is,  \n",
    "\n",
    "$$ w = f(x,y) \\quad\\quad\\text{and}\\quad\\quad x = x(u,v),\\quad y = y(u,v)$$  \n",
    "\n",
    "The use of the term chain comes because to compute w we need to do a chain of computa\n",
    "tions  \n",
    "\n",
    "$$ (u,v)\\to(x,y)\\to w$$  \n",
    "\n",
    "We will say $w$ is a *dependent* variable, $u$ and $v$ are *independent* variables and $x$ and $y$ are *intermediate* variables.  \n",
    "\n",
    "Since $w$ is a function of $x$ and $y$ it has partial derivatives $\\displaystyle \\frac{\\partial w}{\\partial x}$ and $\\displaystyle \\frac{\\partial w}{\\partial y}$.  \n",
    "\n",
    "Since, ultimately, $w$ is a function of $u$ and $v$ we can also compute the partial derivatives \n",
    "$\\displaystyle \\frac{\\partial w}{\\partial u}$ and $\\displaystyle \\frac{\\partial w}{\\partial v}$. The chain rule relates these derivatives by the following formulas.  \n",
    "\n",
    "$$ \\frac{\\partial w}{\\partial u} = \\frac{\\partial w }{\\partial x }\\frac{\\partial x }{\\partial u} + \\frac{\\partial w}{\\partial y}\\frac{\\partial y}{\\partial u}$$  \n",
    "\n",
    "or, to put it another way,  \n",
    "\n",
    "$$ w_u = w_xx_u + w_yy_u$$  \n",
    "\n",
    "and  \n",
    "\n",
    "$$ w_v = w_xx_v + w_yy_v$$"
   ]
  },
  {
   "cell_type": "markdown",
   "id": "f600491b-cfb2-406a-b349-2c398ed22ca8",
   "metadata": {},
   "source": [
    "## Examples\n",
    "\n",
    "#### Example 1\n",
    "\n",
    "Given $w = x^2y + y^2 + x$, $x=u^2v$, and $y=uv^2$, find $w_u$."
   ]
  },
  {
   "cell_type": "markdown",
   "id": "cce1976d-d5e5-4aef-99f3-39c8dee35a4a",
   "metadata": {},
   "source": [
    "$$ w = x^2y + y^2 + x\\quad\\quad x = u^2v \\quad\\quad y = uv^2$$"
   ]
  },
  {
   "cell_type": "markdown",
   "id": "83a3fca5-0f13-4c26-8e2f-53e3acb00f5e",
   "metadata": {},
   "source": [
    "The first partial derivatives of $w$ with respect to $x$ and $y$ are,  \n",
    "\n",
    "$$ w_x = 2xy + 1\\quad\\quad\\text{and}\\quad\\quad w_y = x^2 + 2y$$"
   ]
  },
  {
   "cell_type": "markdown",
   "id": "27e57e34-3741-402a-9525-5bcdae9a2338",
   "metadata": {},
   "source": [
    "And, the partial derivatives of the intermediate variables with respect to the independent variables are:  \n",
    "\n",
    "$$ x_u = 2uv \\quad\\quad x_v = u^2 \\quad\\quad y_u = v^2 \\quad\\quad y_v = 2uv$$"
   ]
  },
  {
   "cell_type": "markdown",
   "id": "4dd67371-3fd9-4730-bf84-2ab3af5508e3",
   "metadata": {},
   "source": [
    "Which leaves us with :  \n",
    "\n",
    "$$ w_u = 2w_xuv + w_yv^2$$"
   ]
  },
  {
   "cell_type": "markdown",
   "id": "8adfe08c-aed1-47fd-9c81-d597267bf54e",
   "metadata": {},
   "source": [
    "$$ w_x(u,v) = 2u^3v^3 + 1 \\quad\\quad\\text{and}\\quad\\quad w_y(u,v) = u^4v^2 + 2uv^2$$"
   ]
  },
  {
   "cell_type": "markdown",
   "id": "8cb49ace-77fe-47d6-9414-fd6180fcaead",
   "metadata": {},
   "source": [
    "Finally,  \n",
    "\n",
    "$$ w_u = 2\\big(2u^3v^3 + 1\\big)uv + \\big(2+u^3\\big)uv^4$$"
   ]
  },
  {
   "cell_type": "markdown",
   "id": "77fe2f54-16c6-45b4-b16a-e85ad321aecd",
   "metadata": {},
   "source": [
    "#### Example 2\n",
    "Let $w=xyz$, $x=u^2v$, $y=uv^2$, and $z=u^2+v^2$.  "
   ]
  },
  {
   "cell_type": "markdown",
   "id": "edbcb35d-9cdb-4dbf-8a5a-c68e131efbe7",
   "metadata": {},
   "source": [
    "$$ w = xyz \\quad\\quad x = u^2v \\quad\\quad y = uv^2 \\quad\\quad z = u^2 + v^2$$"
   ]
  },
  {
   "cell_type": "code",
   "execution_count": null,
   "id": "dc0c27b7-6dfd-4c7c-af70-99c55347d738",
   "metadata": {},
   "outputs": [],
   "source": []
  },
  {
   "cell_type": "markdown",
   "id": "e4e467c4-bb2d-4827-bc8b-395a89a4f369",
   "metadata": {},
   "source": [
    "The partial derivatives of $w$ with respect to the intermediate variables are:  \n",
    "\n",
    "$$ w_x = yz \\quad\\quad w_y = xz \\quad\\quad w_z = xy$$"
   ]
  },
  {
   "cell_type": "markdown",
   "id": "a77d6269-630d-40a9-acae-4bfa038a739f",
   "metadata": {},
   "source": [
    "And, the partial derivatives of the intermediate variables with respect to the independent variables are:  \n",
    "\n",
    "$$ x_u = 2uv \\quad\\quad \\text{and}\\quad\\quad x_v = u^2$$"
   ]
  },
  {
   "cell_type": "markdown",
   "id": "86bf0a69-0713-40cc-b6be-acf661cc9131",
   "metadata": {},
   "source": [
    "$$ y_u = v^2\\quad\\quad\\text{and}\\quad\\quad y_v = 2uv$$"
   ]
  },
  {
   "cell_type": "markdown",
   "id": "71995c3f-1ec7-4db2-8e7d-75444afb106b",
   "metadata": {},
   "source": [
    "$$ z_u = 2u \\quad\\quad\\text{and}\\quad\\quad z_v = 2v$$"
   ]
  },
  {
   "cell_type": "markdown",
   "id": "2e860fa0-cea6-4934-9a78-cf496d070224",
   "metadata": {},
   "source": [
    "**a)**  Use the chain rule to find $w_u$.  "
   ]
  },
  {
   "cell_type": "markdown",
   "id": "8c13f44a-9d09-4f7e-bfd0-bf5083a69037",
   "metadata": {},
   "source": [
    "$$ w_u = 2w_xuv + w_yv^2 + 2w_zu$$"
   ]
  },
  {
   "cell_type": "markdown",
   "id": "fa2ca9e5-5e27-4173-b35a-7842870e1168",
   "metadata": {},
   "source": [
    "$$ w_x(u,v) = uv^2\\big(u^2+v^2\\big)\\quad\\quad w_y(u,v) = u^2v\\big(u^2+v^2\\big)\\quad\\quad w_z(u,v) = (uv)^3$$"
   ]
  },
  {
   "cell_type": "markdown",
   "id": "4c45354d-08ef-4517-ab52-5d79a49e932f",
   "metadata": {},
   "source": [
    "$$ w_u = u^2v^3\\Big(3\\big(u^2+v^2\\big) + 2u^2\\Big)$$"
   ]
  },
  {
   "cell_type": "markdown",
   "id": "e9693bb8-677d-44c4-8c66-acc71849cba6",
   "metadata": {},
   "source": [
    "**b)**  Fine the total differential $\\mathrm{d}w$ in terms of $\\mathrm{d}u$ and $\\mathrm{d}v$.  "
   ]
  },
  {
   "cell_type": "markdown",
   "id": "da7d7698-a9a2-42cd-83d4-d3ca4fcb956c",
   "metadata": {},
   "source": [
    "$$ w_v = w_xu^2 + 2w_yuv + 2w_zv$$"
   ]
  },
  {
   "cell_type": "markdown",
   "id": "7df4bd9b-271b-4a7d-a551-3a941aac254f",
   "metadata": {},
   "source": [
    "$$ \\mathrm{d}w = w_u\\mathrm{d}u + w_v\\mathrm{d}v$$"
   ]
  },
  {
   "cell_type": "markdown",
   "id": "19532298-f013-4103-a119-8dbb17448c93",
   "metadata": {},
   "source": [
    "**c)**  Find $w_u$ at the point $(u,v) = (1,2)$."
   ]
  },
  {
   "cell_type": "markdown",
   "id": "1518b53a-260a-4b8c-8544-19fa679f9805",
   "metadata": {},
   "source": [
    "$$ w_u = 136$$"
   ]
  },
  {
   "cell_type": "code",
   "execution_count": 4,
   "id": "8da54c2e-5a7f-4925-a4c7-4ab9d754c6c2",
   "metadata": {
    "tags": []
   },
   "outputs": [],
   "source": [
    "def w_u(u,v):\n",
    "    return u**2*v**3*(3*(u**2+v**2) + 2*u**2)"
   ]
  },
  {
   "cell_type": "code",
   "execution_count": 5,
   "id": "0d4ea2b6-dbae-4a9c-a8c4-177b3369a012",
   "metadata": {
    "tags": []
   },
   "outputs": [
    {
     "data": {
      "text/plain": [
       "136"
      ]
     },
     "execution_count": 5,
     "metadata": {},
     "output_type": "execute_result"
    }
   ],
   "source": [
    "w_u(1,2)"
   ]
  },
  {
   "cell_type": "markdown",
   "id": "736178c7-0314-48bb-92b5-4eb9cef8797f",
   "metadata": {},
   "source": [
    "## Problems\n",
    "\n",
    "#### Problem 1  \n",
    "\n",
    "One application of the chain rule is to problems in which you are given a function of $x$\n",
    "and $y$ with inputs in polar coordinates. For example, let $w = (x^2 + y^2)xy$, $x = r \\cos\\theta$ and $y = r \\sin\\theta$.  "
   ]
  },
  {
   "cell_type": "markdown",
   "id": "3f4e7b34-64ed-451b-ae21-c4b81ee2cd9f",
   "metadata": {},
   "source": [
    "$$ w = xy\\big(x^2 + y^2\\big) \\quad\\quad x = r\\cos\\theta \\quad\\quad y = r\\sin\\theta$$"
   ]
  },
  {
   "cell_type": "markdown",
   "id": "99b13dbb-9903-495e-9a38-aa9b5aec8aea",
   "metadata": {},
   "source": [
    "**a)**  Use the chain rule to find $w_r$.  "
   ]
  },
  {
   "cell_type": "markdown",
   "id": "bbe921f5-39bf-41fe-865b-55840ac30fde",
   "metadata": {},
   "source": [
    "$$ w_x = y\\big(x^2+y^2\\big) + 2x^2y \\quad\\quad\\text{and}\\quad\\quad w_y = x\\big(x^2+y^2\\big) + 2xy^2$$"
   ]
  },
  {
   "cell_type": "markdown",
   "id": "9caaca75-5567-431b-a3fb-cf70f4958b08",
   "metadata": {},
   "source": [
    "$$ w_r = w_x\\cos\\theta + w_y\\sin\\theta$$"
   ]
  },
  {
   "cell_type": "markdown",
   "id": "12f39059-3192-439c-aa7b-64af1c9c5a0b",
   "metadata": {},
   "source": [
    "**b)**  Find the total differential $\\mathrm{d}w$ in terms of $\\mathrm{d}r$ and $\\mathrm{d}\\theta$.  "
   ]
  },
  {
   "cell_type": "markdown",
   "id": "0f832611-545f-45c9-baa0-be49870752e7",
   "metadata": {},
   "source": [
    "$$ \\mathrm{d}x = \\cos\\theta\\mathrm{d}r - r\\sin\\theta\\mathrm{d}\\theta$$"
   ]
  },
  {
   "cell_type": "markdown",
   "id": "f8bdc58c-9b89-482a-b89f-c422b364accd",
   "metadata": {},
   "source": [
    "$$ \\mathrm{d}y = y_r\\mathrm{d}r + y_\\theta\\mathrm{d}\\theta = \\sin\\theta\\mathrm{d}r + r\\cos\\theta\\mathrm{d}\\theta$$"
   ]
  },
  {
   "cell_type": "markdown",
   "id": "d2e3f928-9ff7-4171-bc51-91ef7be21ee0",
   "metadata": {},
   "source": [
    "$$ \\mathrm{d}w = w_x\\mathrm{d}x + w_y\\mathrm{d}y = w_x\\cos\\theta\\mathrm{d}r - w_xr\\sin\\theta\\mathrm{d}\\theta + w_y\\sin\\theta\\mathrm{d}r + w_yr\\cos\\theta\\mathrm{d}\\theta$$"
   ]
  },
  {
   "cell_type": "markdown",
   "id": "e69bf814-2946-4970-99a4-5387b80eae77",
   "metadata": {},
   "source": [
    "$$ = (w_x\\cos\\theta + w_y\\sin\\theta)\\mathrm{d}r + (w_yr\\cos\\theta - w_xr\\sin\\theta)\\mathrm{d}\\theta$$"
   ]
  },
  {
   "cell_type": "markdown",
   "id": "584ee79d-54a0-485e-ad76-c3ad1a4bd023",
   "metadata": {},
   "source": [
    "**c)**  Find $w_r$ at the point $(r,\\theta) = (2,0.25\\pi)$."
   ]
  },
  {
   "cell_type": "code",
   "execution_count": 7,
   "id": "2d2422b2-ec6a-4013-937f-125d510358a9",
   "metadata": {
    "tags": []
   },
   "outputs": [],
   "source": [
    "import numpy as np\n",
    "import sympy as sp"
   ]
  },
  {
   "cell_type": "code",
   "execution_count": 8,
   "id": "961892a4-c745-43ae-a9d5-1d89d1ec0dac",
   "metadata": {
    "tags": []
   },
   "outputs": [],
   "source": [
    "pi = np.pi; cos = np.cos; sin = np.sin"
   ]
  },
  {
   "cell_type": "code",
   "execution_count": 9,
   "id": "0c787f0d-1e02-44ca-86a0-c3db5a36574e",
   "metadata": {
    "tags": []
   },
   "outputs": [
    {
     "data": {
      "text/plain": [
       "15.999999999999998"
      ]
     },
     "execution_count": 9,
     "metadata": {},
     "output_type": "execute_result"
    }
   ],
   "source": [
    "r = 2; theta = 0.25*pi\n",
    "x = r*cos(theta)\n",
    "y = r*sin(theta)\n",
    "w_x = y*(x**2+y**2) + 2*x**2*y\n",
    "w_y = x*(x**2+y**2)+2*x*y**2\n",
    "w_r = w_x*cos(theta) + w_y*sin(theta); w_r"
   ]
  }
 ],
 "metadata": {
  "kernelspec": {
   "display_name": "Python 3 (ipykernel)",
   "language": "python",
   "name": "python3"
  },
  "language_info": {
   "codemirror_mode": {
    "name": "ipython",
    "version": 3
   },
   "file_extension": ".py",
   "mimetype": "text/x-python",
   "name": "python",
   "nbconvert_exporter": "python",
   "pygments_lexer": "ipython3",
   "version": "3.10.12"
  }
 },
 "nbformat": 4,
 "nbformat_minor": 5
}
