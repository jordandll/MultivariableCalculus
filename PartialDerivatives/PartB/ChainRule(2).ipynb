{
 "cells": [
  {
   "cell_type": "markdown",
   "id": "b0e66fdf-b145-40db-ad19-16efd1b400a9",
   "metadata": {},
   "source": [
    "# Chain rule  \n",
    "\n",
    "Now we will formulate the chain rule when there is more than one independent variable.\n",
    "We suppose $w$ is a function of $x$, $y$ and that $x$, $y$ are functions of $u$, $v$. That is,  \n",
    "\n",
    "$$ w = f(x,y) \\quad\\quad\\text{and}\\quad\\quad x = x(u,v),\\quad y = y(u,v)$$  \n",
    "\n",
    "The use of the term chain comes because to compute w we need to do a chain of computa\n",
    "tions  \n",
    "\n",
    "$$ (u,v)\\to(x,y)\\to w$$  \n",
    "\n",
    "We will say $w$ is a *dependent* variable, $u$ and $v$ are *independent* variables and $x$ and $y$ are *intermediate* variables.  \n",
    "\n",
    "Since $w$ is a function of $x$ and $y$ it has partial derivatives $\\displaystyle \\frac{\\partial w}{\\partial x}$ and $\\displaystyle \\frac{\\partial w}{\\partial y}$.  \n",
    "\n",
    "Since, ultimately, $w$ is a function of $u$ and $v$ we can also compute the partial derivatives \n",
    "$\\displaystyle \\frac{\\partial w}{\\partial u}$ and $\\displaystyle \\frac{\\partial w}{\\partial v}$. The chain rule relates these derivatives by the following formulas.  \n",
    "\n",
    "$$ \\frac{\\partial w}{\\partial u} = \\frac{\\partial w }{\\partial x }\\frac{\\partial x }{\\partial u} + \\frac{\\partial w}{\\partial y}\\frac{\\partial y}{\\partial u}$$  \n",
    "\n",
    "or, to put it another way,  \n",
    "\n",
    "$$ w_u = w_xx_u + w_yy_u$$  \n",
    "\n",
    "and  \n",
    "\n",
    "$$ w_v = w_xx_v + w_yy_v$$"
   ]
  },
  {
   "cell_type": "markdown",
   "id": "f600491b-cfb2-406a-b349-2c398ed22ca8",
   "metadata": {},
   "source": [
    "## Examples\n",
    "\n",
    "#### Example 1\n",
    "\n",
    "Given $w = x^2y + y^2 + x$, $x=u^2v$, and $y=uv^2$, find $w_u$."
   ]
  },
  {
   "cell_type": "markdown",
   "id": "cce1976d-d5e5-4aef-99f3-39c8dee35a4a",
   "metadata": {},
   "source": [
    "$$ w = x^2y + y^2 + x\\quad\\quad x = u^2v \\quad\\quad y = uv^2$$"
   ]
  },
  {
   "cell_type": "markdown",
   "id": "83a3fca5-0f13-4c26-8e2f-53e3acb00f5e",
   "metadata": {},
   "source": [
    "The first partial derivatives of $w$ with respect to $x$ and $y$ are,  \n",
    "\n",
    "$$ w_x = 2xy + 1\\quad\\quad\\text{and}\\quad\\quad w_y = x^2 + 2y$$"
   ]
  },
  {
   "cell_type": "markdown",
   "id": "27e57e34-3741-402a-9525-5bcdae9a2338",
   "metadata": {},
   "source": [
    "And, the partial derivatives of the intermediate variables with respect to the independent variables are:  \n",
    "\n",
    "$$ x_u = 2uv \\quad\\quad x_v = u^2 \\quad\\quad y_u = v^2 \\quad\\quad y_v = 2uv$$"
   ]
  },
  {
   "cell_type": "markdown",
   "id": "4dd67371-3fd9-4730-bf84-2ab3af5508e3",
   "metadata": {},
   "source": [
    "Which leaves us with :  \n",
    "\n",
    "$$ w_u = 2w_xuv + w_yv^2$$"
   ]
  },
  {
   "cell_type": "markdown",
   "id": "8adfe08c-aed1-47fd-9c81-d597267bf54e",
   "metadata": {},
   "source": [
    "$$ w_x(u,v) = 2u^3v^3 + 1 \\quad\\quad\\text{and}\\quad\\quad w_y(u,v) = u^4v^2 + 2uv^2$$"
   ]
  },
  {
   "cell_type": "markdown",
   "id": "8cb49ace-77fe-47d6-9414-fd6180fcaead",
   "metadata": {},
   "source": [
    "Finally,  \n",
    "\n",
    "$$ w_u = 2\\big(2u^3v^3 + 1\\big)uv + \\big(2+u^3\\big)uv^4$$"
   ]
  }
 ],
 "metadata": {
  "kernelspec": {
   "display_name": "Python 3 (ipykernel)",
   "language": "python",
   "name": "python3"
  },
  "language_info": {
   "codemirror_mode": {
    "name": "ipython",
    "version": 3
   },
   "file_extension": ".py",
   "mimetype": "text/x-python",
   "name": "python",
   "nbconvert_exporter": "python",
   "pygments_lexer": "ipython3",
   "version": "3.10.12"
  }
 },
 "nbformat": 4,
 "nbformat_minor": 5
}
