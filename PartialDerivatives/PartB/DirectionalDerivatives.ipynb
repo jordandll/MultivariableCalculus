{
 "cells": [
  {
   "cell_type": "markdown",
   "id": "2b3d4525-13bc-4dc5-afc6-4ef4fd4c9828",
   "metadata": {},
   "source": [
    "# Directional Derivatives"
   ]
  },
  {
   "cell_type": "markdown",
   "id": "50da67d9-415f-4171-9ce9-f03eeb365cd1",
   "metadata": {},
   "source": [
    "## Examples\n",
    "\n",
    "#### Example 1  \n",
    "\n",
    "(Algebraic example) Let  \n",
    "\n",
    "\\begin{equation}\\tag{1.1}\n",
    "    w := g(x,y) = x^3 + 3y^2\n",
    "\\end{equation}\n",
    "\n",
    "Compute $\\displaystyle \\frac{\\mathrm{d}w}{\\mathrm{d}s}$ at $P_0 = (1,2)$ in the direction of $\\mathbf{v} = 3\\mathbf{i} + 4\\mathbf{j}$."
   ]
  },
  {
   "cell_type": "markdown",
   "id": "ee46dd91-22e1-431f-a10d-c256eb777979",
   "metadata": {},
   "source": [
    "$$ \\nabla w = \\langle 3x^2, 6y\\rangle \\quad\\quad \\text{and}\\quad\\quad \\mathbf{u} = \\frac{\\mathbf{v}}{|\\mathbf{v}|} = \\frac{\\langle 3,4\\rangle}{5}$$"
   ]
  },
  {
   "cell_type": "markdown",
   "id": "17603b7b-ae59-4212-a76d-6ea7ae9af166",
   "metadata": {},
   "source": [
    "$$ \\nabla w (P_0) \\cdot \\mathbf{u} = \\frac{1}{5}\\,\\langle 3,12\\rangle\\cdot \\langle 3,4\\rangle = \\frac{3}{5}\\,(3 + 16) = $$"
   ]
  },
  {
   "cell_type": "code",
   "execution_count": 1,
   "id": "4a335531-99da-4272-972e-3d026982174d",
   "metadata": {
    "tags": []
   },
   "outputs": [
    {
     "data": {
      "text/plain": [
       "57"
      ]
     },
     "execution_count": 1,
     "metadata": {},
     "output_type": "execute_result"
    }
   ],
   "source": [
    "3*19"
   ]
  },
  {
   "cell_type": "markdown",
   "id": "276ea264-64e9-40ce-bfea-aa70670fa55a",
   "metadata": {},
   "source": [
    "\\begin{equation}\\tag{1.4}\n",
    "    \\frac{\\mathrm{d}w}{\\mathrm{d}s}\\,(P_0,\\mathbf{u}) = \\frac{57}{5}\n",
    "\\end{equation}"
   ]
  },
  {
   "cell_type": "markdown",
   "id": "87ba6e01-f740-469e-86a5-3362cbd94c40",
   "metadata": {},
   "source": [
    "Now, what about $w(s)$ -- that is -- $w$ as a function of $s$.  The line that goes through $P_0$ and has the slope of $\\mathbf{u}$ is given by:  \n",
    "\n",
    "$$ \\mathbf{r} = \\mathbf{r}(s) = \\langle *P_0\\rangle + s\\mathbf{u}$$"
   ]
  },
  {
   "cell_type": "markdown",
   "id": "e67593bc-e781-4ebb-9e05-48124b5f5cd3",
   "metadata": {},
   "source": [
    "Thus,  \n",
    "\n",
    "$$x= x(s) = r_x = \\frac{3}{5}\\,s + 1 \\quad\\quad\\text{and}\\quad\\quad y = y(s) = \\frac{4}{5}\\,s  + 2$$"
   ]
  },
  {
   "cell_type": "markdown",
   "id": "1e05378a-b4fb-4e91-b6d8-cb174e9ee361",
   "metadata": {},
   "source": [
    "Via the above two equation, equation (1.1) and substitution,  \n",
    "\n",
    "$$ w := w(s) := g\\big((x(s),y(s)\\big) = \\left(\\frac{3}{5}\\,s+1\\right)^3 + 3\\left(\\frac{4}{5}\\,s + 2\\right)^2$$"
   ]
  },
  {
   "cell_type": "markdown",
   "id": "b8d0848e-3185-4df6-9040-4b87d2cae801",
   "metadata": {},
   "source": [
    "$$ w'(s) = \\frac{9}{5}\\,\\left(\\frac{3}{5}\\,s + 1\\right)^2 + \\frac{24}{5}\\,\\left(\\frac{4}{5}\\,s + 2\\right)$$"
   ]
  },
  {
   "cell_type": "markdown",
   "id": "da0f56da-3b07-431a-a428-27854b8bce17",
   "metadata": {},
   "source": [
    "**Using alternative method**:  There is another way of find the directional derivative that involves first finding $w(s)$, where $s$ is of course the magnitude of a variable vector with a constant direction of $\\mathbf{u}$.  To do so, let's find the function $f(x)$ that gives a line through $P_0$ that has the slope of $\\mathbf{v}$.  \n",
    "\n",
    "$$ y := f(x) = \\frac{4}{3}\\,x + b \\quad\\quad\\text{where } f(1) = 2$$"
   ]
  },
  {
   "cell_type": "markdown",
   "id": "bfe9bb85-9623-494d-9e2f-03eab2304b34",
   "metadata": {},
   "source": [
    "$$ b = 2 - \\frac{4}{3} = \\frac{2}{3}$$"
   ]
  },
  {
   "cell_type": "markdown",
   "id": "219fb415-416f-47f3-9a01-4912e8e4a0c6",
   "metadata": {},
   "source": [
    "Thus, our linear function is:  \n",
    "\n",
    "\\begin{equation}\\tag{1.2}\n",
    "    y = f(x) = \\frac{4x + 2}{3} = \\frac{2}{3}\\,(2x+1)\n",
    "\\end{equation}"
   ]
  },
  {
   "cell_type": "markdown",
   "id": "9aaf97c1-1d3c-4b27-93e0-0b3f55f327ee",
   "metadata": {
    "jupyter": {
     "source_hidden": true
    },
    "tags": []
   },
   "source": [
    "Subsitution $y$ in equation (1.1) with the identity of $y$ in equation (1.2) gives:  \n",
    "\n",
    "\\begin{equation}\\tag{1.3}\n",
    "    w = g(x) := g\\big(x,f(x)\\big) = x^3 + \\frac{4}{3}\\,(2x+1)^2\n",
    "\\end{equation}"
   ]
  },
  {
   "cell_type": "markdown",
   "id": "1432d2f6-10a2-4065-8b5b-29234a7f89fa",
   "metadata": {},
   "source": [
    "## Problems \n",
    "\n",
    "The function $T = x^2 + 2y^2 + 2z^2$ gives the temperature at each point in space.  "
   ]
  },
  {
   "cell_type": "markdown",
   "id": "3393d181-4f52-4fde-87e8-ba7dc30dda17",
   "metadata": {},
   "source": [
    "$$ \\nabla T = \\langle 2x,4y,4z\\rangle$$"
   ]
  },
  {
   "cell_type": "markdown",
   "id": "5b9a26dc-332e-49ce-8708-43bcdf3d663b",
   "metadata": {},
   "source": [
    "#### Problem 1\n",
    "1. At the point $P = (1, 1, 1)$, in which direction should you go to get the most rapid decrease in $T$ ? What is the directional derivative in this direction?  "
   ]
  },
  {
   "cell_type": "markdown",
   "id": "f5d59c1b-fe1b-4f48-a6b5-b6a0e6bd8a94",
   "metadata": {},
   "source": [
    "In the direction of:  \n",
    "\n",
    "$$ \\mathbf{u} = -\\frac{\\nabla T(P)}{|\\nabla T(P)|} $$"
   ]
  },
  {
   "cell_type": "markdown",
   "id": "2d671433-3580-40fa-899d-2e2e9f79b00d",
   "metadata": {},
   "source": [
    "Here,  \n",
    "\n",
    "$$ \\nabla T(P) = 2\\langle 1,2,2\\rangle \\quad\\quad\\text{and}\\quad\\quad |\\nabla T(P)| = 6$$"
   ]
  },
  {
   "cell_type": "markdown",
   "id": "923d6644-ded5-4f70-81b3-0ad363d201e3",
   "metadata": {},
   "source": [
    "Thus,  \n",
    "\n",
    "$$ \\mathbf{u} = -\\frac{\\langle 1,2,2\\rangle}{3}$$"
   ]
  },
  {
   "cell_type": "markdown",
   "id": "3bf568aa-e0ca-48db-b3e5-7c987bbf25ec",
   "metadata": {},
   "source": [
    "The directional derivative in this direction is:  \n",
    "\n",
    "$$ \\frac{\\mathrm{d}T}{\\mathrm{d}s}(P,\\mathbf{u}) = -|\\nabla T(P)| = -6$$"
   ]
  },
  {
   "cell_type": "markdown",
   "id": "c970b0f2-431c-4630-b6af-f2454d9b5d5c",
   "metadata": {},
   "source": [
    "#### Problem 2\n",
    "2. At $P$ , about how far should you go in the direction found in part (1) to get a decrease\n",
    "of $0.3$?"
   ]
  },
  {
   "cell_type": "markdown",
   "id": "c901a73a-a15f-4317-98de-976953a5ccd7",
   "metadata": {},
   "source": [
    "Let  \n",
    "\n",
    "$$ D := \\frac{\\mathrm{d}T}{\\mathrm{d}s}(P,\\mathbf{u})$$"
   ]
  },
  {
   "cell_type": "markdown",
   "id": "336c00fd-f6b8-49d6-8d6c-b0ee652e6e83",
   "metadata": {},
   "source": [
    "We must find $\\Delta s$ such that:  \n",
    "\n",
    "$$D\\Delta s \\approxeq -0.3\\$$"
   ]
  },
  {
   "cell_type": "markdown",
   "id": "d4a32d7a-336c-49a6-bb43-299c2174ceab",
   "metadata": {},
   "source": [
    "$$ \\Delta s \\approxeq \\frac{3}{10 \\cdot 6} = \\frac{1}{20}$$"
   ]
  }
 ],
 "metadata": {
  "kernelspec": {
   "display_name": "Python 3 (ipykernel)",
   "language": "python",
   "name": "python3"
  },
  "language_info": {
   "codemirror_mode": {
    "name": "ipython",
    "version": 3
   },
   "file_extension": ".py",
   "mimetype": "text/x-python",
   "name": "python",
   "nbconvert_exporter": "python",
   "pygments_lexer": "ipython3",
   "version": "3.10.12"
  }
 },
 "nbformat": 4,
 "nbformat_minor": 5
}
