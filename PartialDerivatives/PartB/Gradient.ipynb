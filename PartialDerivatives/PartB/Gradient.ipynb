{
 "cells": [
  {
   "cell_type": "markdown",
   "id": "0fa0d51d-f404-4895-8932-d16480482a78",
   "metadata": {},
   "source": [
    "# Gradient  \n",
    "\n",
    "## Definition\n",
    "\n",
    "If $w = f (x, y)$, then $w_x$ and $w_y$ are the rates of change of $w$ in the $\\mathbf{i}$ and $\\mathbf{j}$ directions.  It will be quite useful to put these two derivatives together in a vector called the *gradient* of $w$.  \n",
    "\n",
    "$$ \\mathrm{grad }\\,w = \\left\\langle \\frac{\\partial w}{\\partial x}, \\frac{\\partial w}{\\partial y}\\right\\rangle = \\langle w_x, w_y\\rangle $$"
   ]
  },
  {
   "cell_type": "markdown",
   "id": "ae48d0af-c0a2-43e0-81c5-59558f5b1ade",
   "metadata": {},
   "source": [
    "We will also use the symbol $\\mathbf{\\nabla} w$ to denote the gradient. (You read this as ’gradient of $w$’ or ’$\\mathrm{grad }\\, w$’.)  \n",
    "\n",
    "Of course, if we specify a point $P_0 = (x_0, y_0)$, we can evaluate the gradient at that point. We will use several notations for this"
   ]
  },
  {
   "cell_type": "markdown",
   "id": "9812a4ca-0528-43f0-ad9c-c2876462683f",
   "metadata": {},
   "source": [
    "$$ \\mathrm{grad }\\,w(P_0) = \\mathrm{grad }\\, w(x_0,y_0) = \\nabla w(P_0) = \\langle w_x(P_0), w_y(P_0)\\rangle$$"
   ]
  },
  {
   "cell_type": "markdown",
   "id": "378618e3-9e3a-4097-938a-85b11df67781",
   "metadata": {},
   "source": [
    "The gradient has many geometric properties. In the next session we will prove that for\n",
    "$w = f(x, y)$ the gradient is perpendicular to the level curves $f(x, y) = c$.  To ellaborate, the gradient of $w$ at $P_0=(x_0,y_0)$ is perpendicular to the tangent vector of the level curve given by $f(x,y)=c$ at $P_0$."
   ]
  },
  {
   "cell_type": "markdown",
   "id": "476b1433-c7f4-47e2-b69c-0c95bdd915d1",
   "metadata": {},
   "source": [
    "We can show this by direct computation in the following example."
   ]
  },
  {
   "cell_type": "markdown",
   "id": "4b1bd06c-d19f-414d-a7c8-524ee6ce6743",
   "metadata": {},
   "source": [
    "## Examples\n",
    "\n",
    "#### Example 1\n",
    "\n",
    "Compute the gradient of $w = (x^2 + y^2)/3$ and show that the gradient at\n",
    "$(x_0, y_0) = (1, 2)$ is perpendicular to the level curve through that point."
   ]
  },
  {
   "cell_type": "markdown",
   "id": "c6a85ab0-4862-4ae1-97cb-381ac350ed00",
   "metadata": {},
   "source": [
    "$$ w = \\frac{x^2+y^2}{3}\\quad\\quad w_x = \\frac{2x}{3} \\quad\\quad w_y = \\frac{2y}{3}$$"
   ]
  },
  {
   "cell_type": "markdown",
   "id": "77fb712a-0e04-4edf-9481-ca300f438c92",
   "metadata": {},
   "source": [
    "$$ \\nabla w = \\frac{2}{3}\\,\\langle x,y\\rangle$$"
   ]
  },
  {
   "cell_type": "markdown",
   "id": "9a4b2dae-6991-4259-92b8-8f60e2e17ace",
   "metadata": {},
   "source": [
    "The level curve of $w$ at $c$ is given by:  \n",
    "\n",
    "$$ y^2 = 3c -x^2 \\quad\\implies\\quad y := f(x\\vert c) = \\pm\\sqrt{3c - x^2}$$"
   ]
  },
  {
   "cell_type": "markdown",
   "id": "9578bc8d-a0b0-4282-8912-276c9adaaac0",
   "metadata": {},
   "source": [
    "Said level curve is a circle of radius $\\sqrt{3c}$ centered at origin.  At $P_0=(1,2)$ the parameter of the radius, $c$ is:  \n",
    "\n",
    "$$ c = \\frac{5}{3}$$"
   ]
  },
  {
   "cell_type": "markdown",
   "id": "0e62a532-17b4-4bc3-bbe6-bbfa839d4cd3",
   "metadata": {},
   "source": [
    "Thus, the level curve of $w$ at $c=5/3$ is:  \n",
    "\n",
    "$$ y = f(x) = f(x|5/3) = \\pm \\sqrt{5-x^2}$$"
   ]
  },
  {
   "cell_type": "markdown",
   "id": "baddbd0f-21f2-4ba1-9398-c7a07c9b1c1a",
   "metadata": {},
   "source": [
    "The parameterization of the above equation is:  \n",
    "\n",
    "$$ \\mathbf{p} := \\mathbf{p}(t) = \\Big\\langle t, \\pm\\sqrt{5-t^2}\\Big\\rangle$$"
   ]
  },
  {
   "cell_type": "markdown",
   "id": "d7311c56-caef-4839-a965-505448b2eb8b",
   "metadata": {},
   "source": [
    "$$ \\mathbf{v} = \\mathbf{p}'(t) = \\left\\langle 1, \\pm \\frac{-t}{p_y}\\right\\rangle\\quad\\quad |\\mathbf{v}| = \\sqrt{1 + \\frac{t^2}{p_y^2}} = \\frac{1}{p_y}\\,\\sqrt{p_y^2+t^2} = \\frac{\\sqrt{5}}{p_y} \\quad\\quad\\text{where }t \\ne \\sqrt{5}$$"
   ]
  },
  {
   "cell_type": "markdown",
   "id": "40cffa79-13cd-4a04-b3ab-b62f3be2e65d",
   "metadata": {},
   "source": [
    "The tengent vector of $\\mathbf{p}$ is:  \n",
    "\n",
    "$$ \\mathbf{T} = \\frac{\\mathbf{v}}{|\\mathbf{v}|} = \\frac{p_y}{\\sqrt{5}}\\,\\left\\langle 1,\\pm\\frac{-t}{p_y}\\right\\rangle $$"
   ]
  },
  {
   "cell_type": "markdown",
   "id": "9224984e-1db9-431d-9082-7d4df0003a9f",
   "metadata": {},
   "source": [
    "$$ \\mathbf{T} = \\left\\langle\\frac{p_y}{\\sqrt{5}},\\pm\\frac{-t}{\\sqrt{5}}\\right\\rangle $$"
   ]
  },
  {
   "cell_type": "markdown",
   "id": "55d9e21c-d53a-4e89-ae7d-49f65638b123",
   "metadata": {},
   "source": [
    "At $P_0$,  \n",
    "\n",
    "$$ \\mathbf{v}_{|P_0} = \\langle 1, -0.5\\rangle \\quad\\quad\\text{and}\\quad\\quad |\\mathbf{v}|_{|P_0} = \\sqrt{1+0.25} = \\frac{\\sqrt{5}}{2}$$"
   ]
  },
  {
   "cell_type": "markdown",
   "id": "a185f350-256a-4fc9-a410-bc6eb6b98df1",
   "metadata": {},
   "source": [
    "$$ \\implies\\quad \\mathbf{T}_{|P_0} = \\frac{\\langle 2, -1\\rangle}{\\sqrt{5}}$$"
   ]
  },
  {
   "cell_type": "markdown",
   "id": "82b3c7e7-217e-4c6c-b844-cfb3333ba2cd",
   "metadata": {},
   "source": [
    "And,  \n",
    "\n",
    "$$ \\nabla w(P_0) = \\frac{2}{3}\\,\\langle 1,2\\rangle$$"
   ]
  },
  {
   "cell_type": "markdown",
   "id": "6e9eb6bc-9abf-416e-a1bc-c9ef435f3366",
   "metadata": {},
   "source": [
    "$$ \\mathbf{T}_{|P_0}\\cdot\\nabla w(P_0) = \\frac{2}{3\\sqrt{5}}\\,(2 - 2) = 0 \\;\\therefore\\; \\mathbf{T}_{|P_0}\\perp \\nabla w(P_0)$$"
   ]
  },
  {
   "cell_type": "markdown",
   "id": "88b25b44-5310-42fd-b049-1967e667f44d",
   "metadata": {},
   "source": [
    "Q.E.D."
   ]
  },
  {
   "cell_type": "markdown",
   "id": "8bbabdda-0796-4c35-974d-336fb370322c",
   "metadata": {},
   "source": [
    "## Problems\n",
    "#### Problem 1\n",
    "\n",
    "Compute the gradient of $w = x^2+5y^2$.  "
   ]
  },
  {
   "cell_type": "markdown",
   "id": "d2afc4f0-54eb-4ea4-ae3b-bdf0ae24507a",
   "metadata": {},
   "source": [
    "$$ \\nabla w = \\langle 2x, 10y\\rangle = 2\\langle x, 5y\\rangle$$"
   ]
  },
  {
   "cell_type": "markdown",
   "id": "26a2b562-f284-4013-9fe8-7ee2873988b4",
   "metadata": {},
   "source": [
    "#### Problem 2\n",
    "\n",
    "Show that $\\nabla w$ is perpendicular to the level curves of $w$ at the points $(x_0,0)$."
   ]
  },
  {
   "cell_type": "markdown",
   "id": "32740fbc-52d3-43f4-9385-806eba2b11f3",
   "metadata": {},
   "source": [
    "$$ \\nabla w(x_0,0)\\cdot \\mathbf{T}(x_0,0) = 0 \\;\\iff\\; \\mathbf{T}(x_0,0) \\perp \\nabla w(x_0,0)$$"
   ]
  },
  {
   "cell_type": "markdown",
   "id": "646a67f8-953f-499d-9814-1e1df0d17d60",
   "metadata": {},
   "source": [
    "Whereas $\\nabla w(x_0,0) = \\langle 2x_0,0\\rangle$ therefore we only need to show that $T_1(x_0,0)$ -- or the $x$-compliment of $\\mathbf{T}(x_0,0)$ -- is equal to zero to show that the two vectors are perpendicular."
   ]
  },
  {
   "cell_type": "markdown",
   "id": "58b2c287-fb84-40d5-b0da-a6cc3e041b4f",
   "metadata": {},
   "source": [
    "The level curve of $w$ at a level of $c$ is given by:  \n",
    "\n",
    "$$ x^2+5y^2 = c \\quad\\implies\\quad x = \\pm \\sqrt{c - 5y^2}$$"
   ]
  },
  {
   "cell_type": "markdown",
   "id": "0de041a4-e3c9-4e04-891c-bedb52d37420",
   "metadata": {},
   "source": [
    "$$ \\mathbf{p}:=\\mathbf{p}(t) = \\Big\\langle\\pm\\sqrt{c-5t^2}, t\\Big\\rangle$$"
   ]
  },
  {
   "cell_type": "markdown",
   "id": "1ec001c5-0f89-4019-891c-259c9c0861f1",
   "metadata": {},
   "source": [
    "$$ \\mathbf{v}:=\\mathbf{v}(t) = \\mathbf{p}'(t) = \\left\\langle \\pm \\frac{-5t}{p_x},1\\right\\rangle$$"
   ]
  },
  {
   "cell_type": "markdown",
   "id": "449237c3-7a34-4da3-9dd2-d9783610e48f",
   "metadata": {},
   "source": [
    "Whereas $y=t=0$ therefore when $y=0$, $t=0$.  Whereas $y=0$ therefore $t=0$ therefore $v_1=0$ at $(x,y) = (x_0,0)$ therefore $T_1=0$ at the same point therefore $\\mathbf{T}(x_0,0)\\perp\\nabla w(x_0,0)$.  Q.E.D."
   ]
  }
 ],
 "metadata": {
  "kernelspec": {
   "display_name": "Python 3 (ipykernel)",
   "language": "python",
   "name": "python3"
  },
  "language_info": {
   "codemirror_mode": {
    "name": "ipython",
    "version": 3
   },
   "file_extension": ".py",
   "mimetype": "text/x-python",
   "name": "python",
   "nbconvert_exporter": "python",
   "pygments_lexer": "ipython3",
   "version": "3.10.12"
  }
 },
 "nbformat": 4,
 "nbformat_minor": 5
}
