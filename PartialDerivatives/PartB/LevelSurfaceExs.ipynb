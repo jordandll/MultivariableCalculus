{
 "cells": [
  {
   "cell_type": "markdown",
   "id": "b0db20dc-bc1f-4b9d-b0d2-b181afeb671b",
   "metadata": {},
   "source": [
    "# Tangent Plane to a Level Surface  \n",
    "\n",
    "## Examples\n",
    "\n",
    "#### Example 1\n",
    "Find the tangent plane to the surface $x^2 + 2y^2 + 3z^2 = 36$ at the point $P = (1, 2, 3)$."
   ]
  },
  {
   "cell_type": "markdown",
   "id": "d7595211-2391-4183-ad9d-b23ac74c7e57",
   "metadata": {},
   "source": [
    "First, we will use the *old* method."
   ]
  },
  {
   "cell_type": "markdown",
   "id": "57d8a7bb-8697-4e22-81c6-456f80879eed",
   "metadata": {},
   "source": [
    "$$ z := g(x,y)= \\sqrt{\\frac{36 -x^2-2y^2}{3}}$$"
   ]
  },
  {
   "cell_type": "markdown",
   "id": "5a6ea0be-a7ad-4944-929d-ef101ceda318",
   "metadata": {},
   "source": [
    "The first partial derivatives of $z$ are:  \n",
    "\n",
    "$$ z_x = -\\frac{x}{3g} \\quad\\quad\\text{and}\\quad\\quad z_y = -\\frac{2y}{3g}$$"
   ]
  },
  {
   "cell_type": "markdown",
   "id": "b2dbd54c-96d8-4f04-b44e-51810a9ac264",
   "metadata": {},
   "source": [
    "Let $\\mathbf{x}:=\\langle x,y,z\\rangle$ and $\\mathbf{p}:=\\langle *P\\rangle$.  The tangent plane is given by:  \n",
    "\n",
    "$$ \\Delta z = z_x\\Delta x + z_y \\Delta y \\quad\\quad\\text{where } \\Delta \\mathbf{x} = \\mathbf{x} - \\mathbf{a}$$"
   ]
  },
  {
   "cell_type": "markdown",
   "id": "6242fa35-412f-4544-82eb-9a9659776001",
   "metadata": {},
   "source": [
    "Now, let $\\mathbf{a}:= \\langle p_1, p_2\\rangle$.  \n",
    "\n",
    "$$ z = 3 + z_x(\\mathbf{a})(x-1) + z_y(\\mathbf{a})(y-2)$$"
   ]
  },
  {
   "cell_type": "markdown",
   "id": "cf8cd728-24e9-4e39-9642-011529d2225d",
   "metadata": {},
   "source": [
    "$$ = 3 - \\frac{x-1}{9} - \\frac{4}{9}\\,(y-2) \\quad\\implies$$"
   ]
  },
  {
   "cell_type": "markdown",
   "id": "5a87f2d3-f2ca-46f0-8190-2293a70e82cb",
   "metadata": {},
   "source": [
    "$$ 9z - 27 + x - 1 + 4y - 8 = 9z + x + 4y - 36 = 0 \\quad\\implies $$"
   ]
  },
  {
   "cell_type": "markdown",
   "id": "cc941618-868c-4932-87a3-7c4357ebe1b9",
   "metadata": {},
   "source": [
    "\\begin{equation}\\tag{1.1}\n",
    "    x + 4y + 9z = 36\n",
    "\\end{equation}"
   ]
  },
  {
   "cell_type": "markdown",
   "id": "adb95004-7f48-490f-ab6b-59daa000648d",
   "metadata": {},
   "source": [
    "The above equation gives the tangent plane."
   ]
  },
  {
   "cell_type": "markdown",
   "id": "1adbe3b9-3fc8-4eee-b706-719416496a84",
   "metadata": {},
   "source": [
    "Now, we will use the *new* method, involving a gradient.  Let $w$ be defined as:  \n",
    "\n",
    "\\begin{equation}\\tag{1.2}\n",
    "    w:= f(x,y,z) := x^2+2y^2+3z^2\n",
    "\\end{equation}"
   ]
  },
  {
   "cell_type": "markdown",
   "id": "e8a861b5-257b-4941-bc1b-cee3cd50e74e",
   "metadata": {},
   "source": [
    "The aforementioned surface is a level surface to $w$ at a level of $c=36$.  \n",
    "\n",
    "\\begin{equation}\\tag{1.3}\n",
    "    f(x,y,z) = 36\n",
    "\\end{equation}"
   ]
  },
  {
   "cell_type": "markdown",
   "id": "27a02890-c367-432e-85d0-867e4a56f7d1",
   "metadata": {},
   "source": [
    "The first partial derivatives of $w$ are:  \n",
    "\n",
    "$$ w_x = 2x \\quad\\quad w_y = 4y \\quad\\quad w_z = 6z$$"
   ]
  },
  {
   "cell_type": "markdown",
   "id": "8c5fff37-22e4-4a45-9690-7dd56263640e",
   "metadata": {},
   "source": [
    "The gradient of $w$ is thus,  \n",
    "\n",
    "\\begin{equation}\\tag{1.4}\n",
    "    \\nabla w = \\langle 2x,4y,6z\\rangle\n",
    "\\end{equation}"
   ]
  },
  {
   "cell_type": "markdown",
   "id": "a53b8c5d-d632-4121-8789-37c618ba2d60",
   "metadata": {},
   "source": [
    "The total derivative of $w$ is given by:  \n",
    "\n",
    "\\begin{equation}\\tag{1.5}\n",
    "    \\mathrm{d}w = 2x\\mathrm{d}x + 4y\\mathrm{d}y + 6z\\mathrm{d}z\n",
    "\\end{equation}"
   ]
  },
  {
   "cell_type": "markdown",
   "id": "cae01683-0ab0-44bc-921d-27ebe934e11e",
   "metadata": {},
   "source": [
    "Now let $\\mathbf{r}(t)$ be the position vector that plots a curve that rests on our level surface given by equation (1.2).  \n",
    "\n",
    "$$ \\mathbf{r}:=\\mathbf{r}(t) = \\langle x(t),y(t),z(t)\\rangle$$"
   ]
  },
  {
   "cell_type": "markdown",
   "id": "452841c1-dd48-4fd8-99dd-4120d5b392a8",
   "metadata": {},
   "source": [
    "It follows that:  \n",
    "\n",
    "$$ f(\\mathbf{r}) = 36 \\quad\\quad\\text{and}\\quad\\quad w(t) = f\\big(\\mathbf{r}(t)\\big) = 36$$"
   ]
  },
  {
   "cell_type": "markdown",
   "id": "2045efb1-cf69-48f9-9ccd-df8de867f742",
   "metadata": {},
   "source": [
    "Dividing throughout equation (1.5) by $\\mathrm{d}t$ gives:  \n",
    "\n",
    "$$ w'(t) = 2x(t)x'(t) + 4y(t)y'(t) + 6z(t)z'(t) = 0$$"
   ]
  },
  {
   "cell_type": "markdown",
   "id": "5977274c-786c-40ca-81b0-0919089bf1dc",
   "metadata": {},
   "source": [
    "Now, let $\\mathbf{r}(t_0):=\\mathbf{p}$.  \n",
    "\n",
    "$$ w'(t_0) = 2x'(t_0) + 8y'(t_0) + 18z'(t_0) = 0$$"
   ]
  },
  {
   "cell_type": "markdown",
   "id": "77253b56-65b4-45fe-9f65-c77cc0de1166",
   "metadata": {},
   "source": [
    "Dividing throughout the above equation by $2$ gives:  \n",
    "\n",
    "$$ x'(t_0) + 4y'(t_0) + 9z'(t_0) = 0.5w'(t_0)$$"
   ]
  },
  {
   "cell_type": "markdown",
   "id": "e573eedb-7759-4dda-9064-ee498646a05a",
   "metadata": {},
   "source": [
    "Let's verify that $\\nabla w(\\mathbf{p})$ is parallel to the normal of the tangent plane, which implies that said gradient is perpendicular to said plane.  \n",
    "\n",
    "$$ \\nabla w(\\mathbf{p}) \\parallel \\langle 1,4,9\\rangle \\;\\iff\\; \\nabla w(\\mathbf{p}) \\times \\langle 1,4,9\\rangle = 0$$"
   ]
  },
  {
   "cell_type": "markdown",
   "id": "05ca45b1-bd53-4481-be8e-c08ff2e4af3e",
   "metadata": {},
   "source": [
    "$$ \\nabla w(\\mathbf{p}) = \\langle 2,8,18\\rangle = 2\\langle 1,4,9\\rangle$$"
   ]
  },
  {
   "cell_type": "markdown",
   "id": "5db53512-e3cf-4c77-aa01-e2dd619c3647",
   "metadata": {},
   "source": [
    "Whereas $2\\langle 1,4,9\\rangle\\times\\langle 1,4,9\\rangle = 0$ therefore $\\nabla w(\\mathbf{p})\\parallel \\langle 1,4,9\\rangle$ therefore the gradient of $w$ at $P$ is perpendicular to our tangent plane."
   ]
  },
  {
   "cell_type": "markdown",
   "id": "be24685d-a639-48df-8d66-6480504eab16",
   "metadata": {},
   "source": [
    "#### Example 2\n",
    "Use gradients and level surfaces to find the normal to the tangent plane of the graph of\n",
    "$z = f (x, y)$ at $P = (x_0, y_0, z_0)$."
   ]
  },
  {
   "cell_type": "markdown",
   "id": "b39c4aab-efb6-4430-bec0-a36fc78150c9",
   "metadata": {},
   "source": [
    "Let $w$ be defined as:  \n",
    "\n",
    "\\begin{equation}\\tag{2.1}\n",
    "    w:=g(x,y,z) := z - f(x,y)\n",
    "\\end{equation}"
   ]
  },
  {
   "cell_type": "markdown",
   "id": "9a4af008-606d-443a-813f-98ec6b81445a",
   "metadata": {},
   "source": [
    "The gragh of $z=f(x,y)$ is the level surface of $w$ at a level of $c=0$.  \n",
    "\n",
    "\\begin{equation}\\tag{2.2}\n",
    "    g(x,y,z) = 0\n",
    "\\end{equation}"
   ]
  },
  {
   "cell_type": "markdown",
   "id": "3976569e-6233-444d-8382-96887868e565",
   "metadata": {},
   "source": [
    "The gradient of $w$ is:  \n",
    "\n",
    "\\begin{equation}\\tag{2.3}\n",
    "    \\nabla w = \\langle -f_x, -f_y, 1\\rangle\n",
    "\\end{equation}"
   ]
  },
  {
   "cell_type": "markdown",
   "id": "80ac8b57-6455-4092-aa0b-f4413a9874b1",
   "metadata": {},
   "source": [
    "Let $\\mathbf{x}:=\\langle x,y,z\\rangle$ and $\\mathbf{p}:=\\langle *P\\rangle$.  The tangent plane is given by:  \n",
    "\n",
    "$$ \\Delta z = f_x\\Delta x + f_y\\Delta y \\quad\\quad\\text{where }\\Delta \\mathbf{x} = \\mathbf{x} - \\mathbf{p}$$"
   ]
  },
  {
   "cell_type": "markdown",
   "id": "107e4e02-a521-459f-8e9e-15db53a72b95",
   "metadata": {},
   "source": [
    "In term of the gradient of $w$, the tangent plane is given by:  \n",
    "\n",
    "$$ w_z\\Delta x + w_x\\Delta x + w_y\\Delta y = 0$$"
   ]
  },
  {
   "cell_type": "markdown",
   "id": "d84adfa5-5616-493d-93ac-42eafcff6260",
   "metadata": {},
   "source": [
    "The gradient of $w$ is thus the normal to the tangent plane.  Which is consistent with the notion that the gradient of a three variable function is perpendicular to the tangent plane of it's level surface."
   ]
  }
 ],
 "metadata": {
  "kernelspec": {
   "display_name": "Python 3 (ipykernel)",
   "language": "python",
   "name": "python3"
  },
  "language_info": {
   "codemirror_mode": {
    "name": "ipython",
    "version": 3
   },
   "file_extension": ".py",
   "mimetype": "text/x-python",
   "name": "python",
   "nbconvert_exporter": "python",
   "pygments_lexer": "ipython3",
   "version": "3.10.12"
  }
 },
 "nbformat": 4,
 "nbformat_minor": 5
}
