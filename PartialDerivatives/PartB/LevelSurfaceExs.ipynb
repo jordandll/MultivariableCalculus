{
 "cells": [
  {
   "cell_type": "markdown",
   "id": "b0db20dc-bc1f-4b9d-b0d2-b181afeb671b",
   "metadata": {},
   "source": [
    "# Tangent Plane to a Level Surface  \n",
    "\n",
    "## Examples\n",
    "\n",
    "#### Example 1\n",
    "Find the tangent plane to the surface $x^2 + 2y^2 + 3z^2 = 36$ at the point $P = (1, 2, 3)$."
   ]
  },
  {
   "cell_type": "markdown",
   "id": "d7595211-2391-4183-ad9d-b23ac74c7e57",
   "metadata": {},
   "source": [
    "First, we will use the *old* method."
   ]
  },
  {
   "cell_type": "markdown",
   "id": "57d8a7bb-8697-4e22-81c6-456f80879eed",
   "metadata": {},
   "source": [
    "$$ z := g(x,y)= \\sqrt{\\frac{36 -x^2-2y^2}{3}}$$"
   ]
  },
  {
   "cell_type": "markdown",
   "id": "5a6ea0be-a7ad-4944-929d-ef101ceda318",
   "metadata": {},
   "source": [
    "The first partial derivatives of $z$ are:  \n",
    "\n",
    "$$ z_x = -\\frac{x}{g} \\quad\\quad\\text{and}\\quad\\quad z_y = -\\frac{2y}{g}$$"
   ]
  },
  {
   "cell_type": "markdown",
   "id": "b2dbd54c-96d8-4f04-b44e-51810a9ac264",
   "metadata": {},
   "source": [
    "Let $\\mathbf{x}:=\\langle x,y,z\\rangle$ and $\\mathbf{p}:=\\langle *P\\rangle$.  The tangent plane is given by:  \n",
    "\n",
    "$$ \\Delta z = z_x\\Delta x + z_y \\Delta y \\quad\\quad\\text{where } \\Delta \\mathbf{x} = \\mathbf{x} - \\mathbf{a}$$"
   ]
  },
  {
   "cell_type": "markdown",
   "id": "6242fa35-412f-4544-82eb-9a9659776001",
   "metadata": {},
   "source": [
    "Now, let $\\mathbf{a}:= \\langle p_1, p_2\\rangle$.  \n",
    "\n",
    "$$ z = 3 + z_x(\\mathbf{a})(x-1) + z_y(\\mathbf{a})(y-2)$$"
   ]
  },
  {
   "cell_type": "markdown",
   "id": "cf8cd728-24e9-4e39-9642-011529d2225d",
   "metadata": {},
   "source": [
    "$$ = 3 - \\frac{x-1}{3} - \\frac{4}{3}\\,(y-2) \\quad\\implies$$"
   ]
  },
  {
   "cell_type": "markdown",
   "id": "5a87f2d3-f2ca-46f0-8190-2293a70e82cb",
   "metadata": {},
   "source": [
    "$$ 3z - 9 + x - 1 + 4y - 8 = 3z + x + 4y - 18 = 0 \\quad\\implies $$"
   ]
  },
  {
   "cell_type": "markdown",
   "id": "cc941618-868c-4932-87a3-7c4357ebe1b9",
   "metadata": {},
   "source": [
    "\\begin{equation}\\tag{1.1}\n",
    "    x + 4y + 3z = 18\n",
    "\\end{equation}"
   ]
  },
  {
   "cell_type": "markdown",
   "id": "1adbe3b9-3fc8-4eee-b706-719416496a84",
   "metadata": {},
   "source": [
    "Now, we will use the *new* method, involving a gradient.  Let $w$ be defined as:  \n",
    "\n",
    "\\begin{equation}\\tag{1.2}\n",
    "    w:= f(x,y,z) := x^2+2y^2+3z^2\n",
    "\\end{equation}"
   ]
  },
  {
   "cell_type": "markdown",
   "id": "e8a861b5-257b-4941-bc1b-cee3cd50e74e",
   "metadata": {},
   "source": [
    "The aforementioned surface is a level surface to $w$ at a level of $c=36$.  \n",
    "\n",
    "\\begin{equation}\\tag{1.3}\n",
    "    f(x,y,z) = 36\n",
    "\\end{equation}"
   ]
  },
  {
   "cell_type": "markdown",
   "id": "27a02890-c367-432e-85d0-867e4a56f7d1",
   "metadata": {},
   "source": [
    "The first partial derivatives of $w$ are:  \n",
    "\n",
    "$$ w_x = 2x \\quad\\quad w_y = 4y \\quad\\quad w_z = 6z$$"
   ]
  },
  {
   "cell_type": "markdown",
   "id": "8c5fff37-22e4-4a45-9690-7dd56263640e",
   "metadata": {},
   "source": [
    "The gradient of $w$ is thus,  \n",
    "\n",
    "$$ \\nabla w = \\langle 2x,4y,6z\\rangle$$"
   ]
  }
 ],
 "metadata": {
  "kernelspec": {
   "display_name": "Python 3 (ipykernel)",
   "language": "python",
   "name": "python3"
  },
  "language_info": {
   "codemirror_mode": {
    "name": "ipython",
    "version": 3
   },
   "file_extension": ".py",
   "mimetype": "text/x-python",
   "name": "python",
   "nbconvert_exporter": "python",
   "pygments_lexer": "ipython3",
   "version": "3.10.12"
  }
 },
 "nbformat": 4,
 "nbformat_minor": 5
}
