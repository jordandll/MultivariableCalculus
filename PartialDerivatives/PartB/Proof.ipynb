{
 "cells": [
  {
   "cell_type": "markdown",
   "id": "6aa39701-bffd-4d2b-8f92-e5f7231eb2f0",
   "metadata": {},
   "source": [
    "# Proof\n",
    "\n",
    "## Problem\n",
    "\n",
    "Here is a challenging problem. Use the chain rule to show the slope of the gradient is\n",
    "the negative reciprocal of the slope of the level curves. (This is another way of saying the\n",
    "gradient is perpendicular to the level curves.)  \n",
    "\n",
    "Note, this problem is strictly about 2D functions $w = f (x, y)$ and their gradients and level\n",
    "curves. Also note, for a 2D vector $\\langle a, b\\rangle$ the slope is $b/a$."
   ]
  },
  {
   "cell_type": "markdown",
   "id": "a6eeb428-9d5e-4b88-b658-003c114e1062",
   "metadata": {},
   "source": [
    "The gradient of $w$ and the level curve of $w$ at a level of $c$ are given by:  \n",
    "\n",
    "\\begin{equation}\\tag{1}\n",
    "    \\text{a: }\\;\\nabla w = \\left\\langle \\frac{\\partial w}{\\partial x}, \\frac{\\partial w}{\\partial y}\\right\\rangle = \\langle f_x, f_y\\rangle \\quad\\quad\\text{and}\\quad\\quad \\text{b: }\\;f(x,y) = c\n",
    "\\end{equation}"
   ]
  },
  {
   "cell_type": "markdown",
   "id": "a56f4181-4d79-45ea-a440-42f28055ef77",
   "metadata": {},
   "source": [
    "respectevely."
   ]
  },
  {
   "cell_type": "markdown",
   "id": "61e566a0-ef92-409b-bbe8-4a5ccdf13bb0",
   "metadata": {},
   "source": [
    "The slope of the gradient, denoted as $m$, is of course given by:  \n",
    "\n",
    "\\begin{equation}\\tag{2}\n",
    "    m = \\frac{f_y}{f_x} = \\frac{\\partial x}{\\partial y}\n",
    "\\end{equation}"
   ]
  },
  {
   "cell_type": "markdown",
   "id": "3d436638-d11d-42b3-ade2-bf1a208231bb",
   "metadata": {},
   "source": [
    "The total derivative of $w$ is:  \n",
    "\n",
    "\\begin{equation}\\tag{3}\n",
    "    \\mathrm{d}w = f_x\\mathrm{d}x + f_y\\mathrm{d}y\n",
    "\\end{equation}"
   ]
  },
  {
   "cell_type": "markdown",
   "id": "f70c8db4-7458-43a1-ae5a-088a61a4a746",
   "metadata": {},
   "source": [
    "Now, let $\\mathbf{r}(t)$ be a position vector that plots the level curve given by equation (1b).  \n",
    "\n",
    "\\begin{equation}\\tag{5}\n",
    "    \\mathbf{r} := \\mathbf{r}(t) = \\langle x(t), y(t)\\rangle\n",
    "\\end{equation}"
   ]
  },
  {
   "cell_type": "markdown",
   "id": "97bff5cb-218d-4dfa-819d-f93f2c97cb3c",
   "metadata": {},
   "source": [
    "Dividing throughout the above equation (3) by $\\mathrm{d}t$ gives:  \n",
    "\n",
    "\\begin{equation}\\tag{4}\n",
    "    w'(t) = f_xx'(t) + f_yy'(t)\n",
    "\\end{equation}"
   ]
  },
  {
   "cell_type": "markdown",
   "id": "7cc8644d-abb6-43b0-b28b-34a75226a120",
   "metadata": {},
   "source": [
    "Note that $w'(t)=0$ because $w(t) = f\\big(x(t),y(t)\\big) = f(\\mathbf{r}) = c$.  Via the fact that $w'(t)=0$ and equation (4) and equivalence principle,  \n",
    "\n",
    "$$ f_xx'(t) = -f_yy'(t) \\quad\\therefore$$ \n",
    "\n",
    "$$ \\frac{f_y}{f_x} = -\\frac{x'(t)}{y'(t)} = -\\frac{\\mathrm{d}x}{\\mathrm{d}y}$$"
   ]
  }
 ],
 "metadata": {
  "kernelspec": {
   "display_name": "Python 3 (ipykernel)",
   "language": "python",
   "name": "python3"
  },
  "language_info": {
   "codemirror_mode": {
    "name": "ipython",
    "version": 3
   },
   "file_extension": ".py",
   "mimetype": "text/x-python",
   "name": "python",
   "nbconvert_exporter": "python",
   "pygments_lexer": "ipython3",
   "version": "3.10.12"
  }
 },
 "nbformat": 4,
 "nbformat_minor": 5
}
