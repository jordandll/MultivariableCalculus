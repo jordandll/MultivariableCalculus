{
 "cells": [
  {
   "cell_type": "markdown",
   "id": "de7d7b95-a4ca-40ed-8237-acee147082a6",
   "metadata": {},
   "source": [
    "# Problem Set 5\n",
    "\n",
    "## Part I\n",
    "\n",
    "### Differentials; Approximation\n",
    "\n",
    "#### $\\S\\,2\\mathrm{C} : 1$\n",
    "\n",
    "**a)**  $$ \\mathrm{d}w = \\frac{\\mathrm{d}x}{x} + \\frac{\\mathrm{d}y}{y} + \\frac{\\mathrm{d}z}{z}$$"
   ]
  },
  {
   "cell_type": "markdown",
   "id": "5ae7aa3b-d509-44f7-ba93-64340a0afd35",
   "metadata": {},
   "source": [
    "**b)**  $$ \\mathrm{d}w = 3x^2y^2z\\mathrm{d}x + 2x^3yz\\mathrm{d}y + x^3y^2\\mathrm{d}x$$"
   ]
  },
  {
   "cell_type": "markdown",
   "id": "7f61134b-3b68-467c-8d6c-0bd5cf1801b4",
   "metadata": {},
   "source": [
    "**c)** $$ z_x = \\frac{1}{x+y}  - \\frac{x-y}{(x+y)^2} \\quad\\quad\\text{and}\\quad\\quad z_y = -\\frac{1}{x+y} - \\frac{x-y}{(x+y)^2}$$"
   ]
  },
  {
   "cell_type": "markdown",
   "id": "75c264d8-3e84-49d2-b9ed-d9228aea175a",
   "metadata": {},
   "source": [
    "$$ z_x = \\frac{2y}{(x+y)^2} \\quad\\quad\\text{and}\\quad\\quad z_y = -\\frac{2x}{(x+y)^2}$$"
   ]
  },
  {
   "cell_type": "markdown",
   "id": "cd577203-b98e-4756-8994-d917e46fc657",
   "metadata": {},
   "source": [
    "Finally,  \n",
    "\n",
    "$$ \\mathrm{d}z = \\frac{2}{(x+y)^2}\\,\\big(y\\mathrm{d}x - x\\mathrm{d}y\\big)$$"
   ]
  },
  {
   "cell_type": "markdown",
   "id": "d44c6015-e353-4ffb-968d-fd0b110e56e1",
   "metadata": {},
   "source": [
    "**d)**  $$ u = t\\sin w \\quad\\quad u_w = t\\cos w$$"
   ]
  },
  {
   "cell_type": "markdown",
   "id": "940433e1-e9e8-4350-8460-9fa45497bd9b",
   "metadata": {},
   "source": [
    "$$ \\mathrm{d}w = w_u\\mathrm{d}u = \\frac{\\mathrm{d}u}{t\\cos w}$$"
   ]
  },
  {
   "cell_type": "markdown",
   "id": "cb75e198-56bd-463f-9323-77d370ec102d",
   "metadata": {},
   "source": [
    "#### $\\S\\,2\\mathrm{C} : 2$  \n",
    "\n",
    "$$ V = xyz \\quad\\quad\\text{and}\\quad\\quad \\mathrm{d}V = yz\\mathrm{dx} + xz\\mathrm{d}y + xy\\mathrm{d}z$$"
   ]
  },
  {
   "cell_type": "markdown",
   "id": "770b2461-7aa1-40ef-8d30-58dcd4eb875a",
   "metadata": {},
   "source": [
    "Let $P:=(5,10,20)$.  \n",
    "\n",
    "$$ \\mathrm{d}V(P) = \\pm20 \\pm 10 \\pm 5$$"
   ]
  },
  {
   "cell_type": "code",
   "execution_count": 5,
   "id": "895d1083-830e-4600-94b6-4881b85c482b",
   "metadata": {
    "tags": []
   },
   "outputs": [
    {
     "data": {
      "text/plain": [
       "0.02"
      ]
     },
     "execution_count": 5,
     "metadata": {},
     "output_type": "execute_result"
    }
   ],
   "source": [
    "0.1/5"
   ]
  },
  {
   "cell_type": "code",
   "execution_count": 6,
   "id": "cad579f4-8594-40e9-a1a5-fe160af5b6f1",
   "metadata": {
    "tags": []
   },
   "outputs": [
    {
     "data": {
      "text/plain": [
       "0.02"
      ]
     },
     "execution_count": 6,
     "metadata": {},
     "output_type": "execute_result"
    }
   ],
   "source": [
    "20/1000"
   ]
  },
  {
   "cell_type": "markdown",
   "id": "efa20d5d-2a0f-4cb6-84e3-9939c463fd88",
   "metadata": {},
   "source": [
    "#### $\\S\\,2\\mathrm{C} : 3$  \n",
    "\n",
    "$$ A = 0.5ab\\sin\\theta \\quad\\quad A_a = 0.5b\\sin\\theta \\quad\\quad A_b = 0.5a\\sin\\theta \\quad\\quad A_\\theta = 0.5ab\\cos\\theta$$"
   ]
  },
  {
   "cell_type": "markdown",
   "id": "3af97659-2b95-4ab3-b8c3-584de25dd5a0",
   "metadata": {},
   "source": [
    "**a)**  $$ \\mathrm{d}A = A_a\\mathrm{d}a + A_b\\mathrm{d}b + A_\\theta\\mathrm{d}\\theta$$"
   ]
  },
  {
   "cell_type": "markdown",
   "id": "f868bd30-4aba-4dbd-a534-2cbcd7056bf5",
   "metadata": {},
   "source": [
    "**b)**  Let $P=(a=1,b=2,\\theta=\\pi/6)$  \n",
    "\n",
    "$$ $$"
   ]
  },
  {
   "cell_type": "code",
   "execution_count": 2,
   "id": "91c8eae2-fbee-40f9-bc51-af61815ef4b4",
   "metadata": {
    "tags": []
   },
   "outputs": [],
   "source": [
    "import numpy as np\n",
    "import sympy as sp"
   ]
  },
  {
   "cell_type": "code",
   "execution_count": 3,
   "id": "ee7bb816-a1e2-4abf-9dd5-126214af33de",
   "metadata": {
    "tags": []
   },
   "outputs": [],
   "source": [
    "sin = np.sin\n",
    "cos = np.cos\n",
    "pi = np.pi"
   ]
  },
  {
   "cell_type": "code",
   "execution_count": 3,
   "id": "b3e84186-ade6-47b2-a880-1e30310cb651",
   "metadata": {
    "tags": []
   },
   "outputs": [
    {
     "data": {
      "text/plain": [
       "(0.49999999999999994, 0.24999999999999997, 0.8660254037844387)"
      ]
     },
     "execution_count": 3,
     "metadata": {},
     "output_type": "execute_result"
    }
   ],
   "source": [
    "a = 1; b = 2; theta = pi/6\n",
    "A_a = 0.5*b*sin(theta)\n",
    "A_b = 0.5*a*sin(theta)\n",
    "A_theta = 0.5*a*b*cos(theta)\n",
    "(A_a, A_b, A_theta)"
   ]
  },
  {
   "cell_type": "markdown",
   "id": "bc9827bf-7f76-41a6-baf4-973493e05775",
   "metadata": {},
   "source": [
    "The area $A$ is most sensisitive to changes in $\\theta$ and least sensitive to changes in $b$."
   ]
  },
  {
   "cell_type": "markdown",
   "id": "6b36b8ee-00b2-44fe-a49f-13ab8cc6cbfe",
   "metadata": {},
   "source": [
    "**c)**  $$ \\mathrm{d}A \\approxeq \\pm0.03$$"
   ]
  },
  {
   "cell_type": "code",
   "execution_count": 7,
   "id": "070269ad-c879-45a6-afcb-d728d6c93ac7",
   "metadata": {
    "tags": []
   },
   "outputs": [
    {
     "data": {
      "text/plain": [
       "0.03232050807568877"
      ]
     },
     "execution_count": 7,
     "metadata": {},
     "output_type": "execute_result"
    }
   ],
   "source": [
    "dA = 0.02*(A_a + A_b + A_theta); dA"
   ]
  },
  {
   "cell_type": "markdown",
   "id": "2852b92f-3c38-42c2-8153-66784d2d9d4f",
   "metadata": {},
   "source": [
    "#### $\\S\\,2\\mathrm{C} : 4$\n",
    "\n",
    "**a)**  \n",
    "\\begin{equation}\\tag{4.1}\n",
    "    \\text{a: }\\;P = k\\frac{T}{V} \\quad\\quad \\text{b: }\\;P_T = \\frac{k}{V} \\quad\\quad \\text{c: }\\;P_V = -k\\frac{T}{V^2}\n",
    "\\end{equation}"
   ]
  },
  {
   "cell_type": "markdown",
   "id": "82df5dd8-4446-4223-8fd8-4504255fbd16",
   "metadata": {},
   "source": [
    "\\begin{equation}\\tag{4.2}\n",
    "    \\mathrm{d}P = P_T\\mathrm{d}T + P_V\\mathrm{d}V = \\frac{k}{V}\\,\\big(\\mathrm{d}T - \\frac{T}{V}\\,\\mathrm{d}V\\big)\n",
    "\\end{equation}"
   ]
  },
  {
   "cell_type": "markdown",
   "id": "39c84b54-f77e-4532-b7b1-d78ff556efa4",
   "metadata": {},
   "source": [
    "**b)**  \n",
    "\\begin{equation}\\tag{4.3}\n",
    "    V\\mathrm{d}P + P\\mathrm{d}V = k\\mathrm{d}T\n",
    "\\end{equation}"
   ]
  },
  {
   "cell_type": "markdown",
   "id": "ad04d6a3-fad6-407d-977d-d6f4df48833e",
   "metadata": {},
   "source": [
    "**c)**  Multiplying throughout equation (4.2) by $V$ gives:  \n",
    "\n",
    "$$ V\\mathrm{d}P = k\\mathrm{d}T - P\\mathrm{d}V$$"
   ]
  },
  {
   "cell_type": "markdown",
   "id": "d125afe9-04e8-4fa0-b7d8-694d87a25f4a",
   "metadata": {},
   "source": [
    "#### $\\S\\,2\\mathrm{C} : 5$\n",
    "\n",
    "**a)**  $$ -\\frac{\\mathrm{d}w}{w^2} = -\\frac{\\mathrm{d}t}{t^2}-\\frac{\\mathrm{d}u}{u^2}-\\frac{\\mathrm{d}v}{v^2}$$"
   ]
  },
  {
   "cell_type": "markdown",
   "id": "315d9efc-d9d6-4c8a-92ab-633590e3eb9b",
   "metadata": {},
   "source": [
    "$$ \\mathrm{d}w = w^2\\left( \\frac{\\mathrm{d}t}{t^2}+\\frac{\\mathrm{d}u}{u^2}+\\frac{\\mathrm{d}v}{v^2}\\right)$$"
   ]
  },
  {
   "cell_type": "markdown",
   "id": "501d6ece-83cd-4835-b170-16d8b788db65",
   "metadata": {},
   "source": [
    "$$ w = \\frac{uv + tv + tu}{tuv}$$"
   ]
  },
  {
   "cell_type": "markdown",
   "id": "9b4bed54-dce6-4f7a-9a23-876749a0bfb2",
   "metadata": {},
   "source": [
    "**b)**  $$ 2u\\mathrm{d}u + 4v\\mathrm{d}v + 6w\\mathrm{d}w = 0$$"
   ]
  },
  {
   "cell_type": "markdown",
   "id": "c0ac9e52-6086-4073-a7e1-d444daca8de9",
   "metadata": {},
   "source": [
    "$$ \\mathrm{d}w = - \\frac{u\\mathrm{d}u + 2v\\mathrm{d}v}{3w}$$"
   ]
  },
  {
   "cell_type": "markdown",
   "id": "bf3bca42-eb20-4258-8433-6027109aafa3",
   "metadata": {},
   "source": [
    "$$ w = \\pm\\sqrt{\\frac{10-u^2-2v^2}{3}}$$"
   ]
  },
  {
   "cell_type": "markdown",
   "id": "342bf0e4-a050-46e7-af95-728439eee7fb",
   "metadata": {},
   "source": [
    "#### $\\S\\,2\\mathrm{E} : 1$  \n",
    "\n",
    "**a)**  $$ w = xyz \\quad\\quad\\text{and}\\quad\\quad \\mathrm{d}w = yz\\mathrm{d}x + xz\\mathrm{d}y + xy\\mathrm{d}z$$"
   ]
  },
  {
   "cell_type": "markdown",
   "id": "16ed8601-2415-4449-a607-f494b5eb8728",
   "metadata": {},
   "source": [
    "$$ x = t \\quad\\quad y = t^2 \\quad\\quad z = t^3$$"
   ]
  },
  {
   "cell_type": "markdown",
   "id": "7e87060b-4421-47e6-bc93-5629f2b4fb50",
   "metadata": {},
   "source": [
    "(i)  $$ w'(t) = yzx'(t) + xzy'(t) + xyz'(t)$$"
   ]
  },
  {
   "cell_type": "markdown",
   "id": "a4b9f250-b235-466b-8746-f4c0ed02ecd3",
   "metadata": {},
   "source": [
    "$$ x'(t) = 1 \\quad\\quad y'(t) = 2t \\quad\\quad z'(t) = 3t^2$$"
   ]
  },
  {
   "cell_type": "markdown",
   "id": "f95815a0-e757-4205-a4c8-7ca1b5b9d456",
   "metadata": {},
   "source": [
    "$$ w'(t) = yz + 2xzt + 3t^2xy$$"
   ]
  },
  {
   "cell_type": "markdown",
   "id": "b6747745-1b23-4f6a-a2da-5857232b755a",
   "metadata": {},
   "source": [
    "$$ = t^5 + 2t^5 + 3t^5 = 6t^5$$"
   ]
  },
  {
   "cell_type": "markdown",
   "id": "f0e52b33-0ff1-401f-8317-1c78556674b8",
   "metadata": {},
   "source": [
    "(ii) $$ w(t) = t^6 \\quad\\quad\\text{and}\\quad\\quad w'(t) 6t^5$$"
   ]
  },
  {
   "cell_type": "markdown",
   "id": "f401a559-aa42-4777-872e-31d050a0e2ef",
   "metadata": {},
   "source": [
    "**b)** $$ w = x^2 - y^2 \\quad\\quad\\text{and}\\quad\\quad \\mathrm{d}w  = 2x\\mathrm{d}x - 2y\\mathrm{d}y$$"
   ]
  },
  {
   "cell_type": "markdown",
   "id": "fc5893c4-2bb2-46da-a19d-c908bb53b310",
   "metadata": {},
   "source": [
    "$$ x = \\cos t \\quad\\quad\\text{and}\\quad\\quad y = \\sin t$$"
   ]
  },
  {
   "cell_type": "markdown",
   "id": "f725f694-21ab-496f-b4f2-49b5b6bf6c66",
   "metadata": {},
   "source": [
    "(i)  $$ w'(t) = -2x\\sin t - 2y\\cos t$$"
   ]
  },
  {
   "cell_type": "markdown",
   "id": "7474b5e9-9998-448b-81b1-3588d11db8a9",
   "metadata": {},
   "source": [
    "$$  = -\\sin 2t - \\sin 2t = -2\\sin2t$$"
   ]
  },
  {
   "cell_type": "markdown",
   "id": "52837cab-a979-4378-9f4f-254537afaaa9",
   "metadata": {},
   "source": [
    "(ii)  $$ w(t) = \\cos^2t - \\sin^2 t \\quad\\quad\\text{and}\\quad\\quad w'(t) = -2\\cos t\\sin t - 2\\sin t \\cos t = -2\\sin 2t$$"
   ]
  },
  {
   "cell_type": "markdown",
   "id": "12bf7fd8-46ef-47f9-8b4a-4159ab29df2a",
   "metadata": {},
   "source": [
    "**c)**  $$ w = \\log\\big(u^2+v^2\\big) \\quad\\quad \\text{and}\\quad\\quad \\mathrm{d}w = \\frac{2u\\mathrm{d}u + 2v\\mathrm{d}v}{u^2+v^2}$$"
   ]
  },
  {
   "cell_type": "markdown",
   "id": "c7030c28-73a4-4583-b822-ce4bbe364062",
   "metadata": {},
   "source": [
    "$$ u = 2\\cos t \\quad\\quad \\text{and}\\quad\\quad v = 2\\sin t$$"
   ]
  },
  {
   "cell_type": "markdown",
   "id": "d0c48eb3-1aa1-4f69-8a99-a37547c781b6",
   "metadata": {},
   "source": [
    "(i)  $$ w'(t) = \\frac{-4u\\sin t + 4v\\cos t}{u^2+v^2}$$"
   ]
  },
  {
   "cell_type": "markdown",
   "id": "49a3c6a2-8935-4fe3-a71a-6e8fa2f61976",
   "metadata": {},
   "source": [
    "$$ =0$$"
   ]
  },
  {
   "cell_type": "markdown",
   "id": "77f07cef-1802-4222-8eee-232de3b24eef",
   "metadata": {},
   "source": [
    "(ii)  $$ w(t) = \\log 4 \\quad\\quad\\text{and}\\quad\\quad w'(t) = 0$$"
   ]
  },
  {
   "cell_type": "markdown",
   "id": "98cfaf7c-704c-4917-a70f-d99502dd0c25",
   "metadata": {},
   "source": [
    "#### $\\S\\,2\\mathrm{E} : 2$  \n",
    "\n",
    "**a)**  $$ w'(0) = 2x'(0) + 3y'(0)  = 0 + 3$$"
   ]
  },
  {
   "cell_type": "markdown",
   "id": "889d2d28-deb1-4131-ab22-ddb0bb471e87",
   "metadata": {},
   "source": [
    "**b)**  $$w'(t)  = w_xx'(t) + w_yy'(t)  $$"
   ]
  },
  {
   "cell_type": "markdown",
   "id": "5550f6c9-f12e-4413-a55c-b598c4fb1d24",
   "metadata": {},
   "source": [
    "$$ w'(t) = -\\sin^2t + \\cos^2t $$"
   ]
  },
  {
   "cell_type": "markdown",
   "id": "66dd204a-d5c1-4b89-97be-d4066b0a8c86",
   "metadata": {},
   "source": [
    "We must find the roots of the above function.  \n",
    "\n",
    "$$ \\pm \\sin t = \\pm\\cos t \\quad\\implies \\quad \\pm t = \\pm(0.5\\pi - t)$$"
   ]
  },
  {
   "cell_type": "markdown",
   "id": "26c65481-6a0f-4b4d-ba54-c6d0e1237fb0",
   "metadata": {},
   "source": [
    "$$ \\implies \\quad t = \\pm 0.25\\pi$$"
   ]
  },
  {
   "cell_type": "markdown",
   "id": "d160f61e-41f4-437c-aae8-fa4194ea91ff",
   "metadata": {},
   "source": [
    "**c)**  $$ f'(1) = 1 - y'(1) + 2z'(t) = $$"
   ]
  },
  {
   "cell_type": "markdown",
   "id": "16ab6c59-3967-4331-9979-97bf7bca1e86",
   "metadata": {},
   "source": [
    "$$ 1-2 + 6 = 5$$"
   ]
  },
  {
   "cell_type": "markdown",
   "id": "908743fc-fa44-4255-97b0-70c767f1f25a",
   "metadata": {},
   "source": [
    "**d)**  $$ f'(t) = 3t^4 + (t^3+t^3)2t + 3t^2t^2 = $$"
   ]
  },
  {
   "cell_type": "markdown",
   "id": "df0f0224-7b6b-4368-bedd-67572f97ed14",
   "metadata": {},
   "source": [
    "$$  6t^4 + 4t^4 = 10t^4$$"
   ]
  },
  {
   "cell_type": "markdown",
   "id": "9b8263c8-a072-4c2b-85d3-49cdb5451630",
   "metadata": {},
   "source": [
    "#### $\\S\\,2\\mathrm{E} : 4$  \n",
    "\n",
    "$$ \\mathrm{d}w(x,y) = w_x\\mathrm{d}x + w_y\\mathrm{d}y$$"
   ]
  },
  {
   "cell_type": "markdown",
   "id": "c566f322-9cef-4270-8966-9a0736692f63",
   "metadata": {},
   "source": [
    "Let $P:=(0,1)$.  \n",
    "\n",
    "$$ \\mathrm{d}w(P) = 2\\mathrm{d}x + 3\\mathrm{d}y$$"
   ]
  },
  {
   "cell_type": "markdown",
   "id": "7d16751e-2af9-424e-96af-4aa61874591e",
   "metadata": {},
   "source": [
    "$$ \\mathrm{d}x(u,v) = x_u\\mathrm{d}u + x_v\\mathrm{d}v = 2\\mathrm{d}u - 2\\mathrm{d}v$$"
   ]
  },
  {
   "cell_type": "markdown",
   "id": "f4b2fb31-8366-4e11-abd8-a1513457a49a",
   "metadata": {},
   "source": [
    "$$ \\mathrm{d}y = \\mathrm{d}u + \\mathrm{d}v$$"
   ]
  },
  {
   "cell_type": "markdown",
   "id": "1e45ae86-619d-4558-90f0-78eba4d3ef64",
   "metadata": {},
   "source": [
    "Via the above three equations and substitution, we get the differential of $w$ in terms of $\\mathrm{d}u$ and $\\mathrm{d}v$ at $u,v=1$, which implies that $x,y = 0,1$.  \n",
    "\n",
    "$$ \\mathrm{d}w = 4\\big(\\mathrm{d}u - \\mathrm{d}v\\big) + 3\\big(\\mathrm{d}u + \\mathrm{d}v\\big)$$"
   ]
  },
  {
   "cell_type": "markdown",
   "id": "b6d59d8e-8d00-4cf2-b8bb-a6850ad2fd03",
   "metadata": {},
   "source": [
    "$$ = 7\\mathrm{d}u - \\mathrm{d}v$$"
   ]
  },
  {
   "cell_type": "markdown",
   "id": "fbcf2c95-b7ea-4780-80a4-ba643e7fea3c",
   "metadata": {},
   "source": [
    "Finally, the above implies that:  \n",
    "\n",
    "$$ w_u = 7 \\quad\\quad\\text{and}\\quad\\quad w_v = -1$$"
   ]
  },
  {
   "cell_type": "markdown",
   "id": "0670b44b-5d89-4093-86c2-439661767a99",
   "metadata": {},
   "source": [
    "#### $\\S\\,2\\mathrm{E} : 5$  \n",
    "\n",
    "**a)**  $$ \\mathrm{d}w = w_x\\big(\\cos\\theta\\mathrm{d}r - r\\sin\\theta\\mathrm{d}\\theta\\big) + w_y\\big(\\sin\\theta\\mathrm{d}r + r\\cos\\theta\\mathrm{d}\\theta\\big)$$"
   ]
  },
  {
   "cell_type": "markdown",
   "id": "d1c83d1d-5d78-4d4d-8bd8-59eee890b9a1",
   "metadata": {},
   "source": [
    "$$ = \\big(w_x\\cos\\theta + w_y\\sin\\theta\\big)\\mathrm{d}r + r\\big(w_y\\cos\\theta -w_x\\sin\\theta \\big)\\mathrm{d}\\theta$$"
   ]
  },
  {
   "cell_type": "markdown",
   "id": "ad9dd7b0-04f9-4faf-bf33-bbbbe4b2988d",
   "metadata": {},
   "source": [
    "Which implies that:  \n",
    "\n",
    "$$ w_r = w_x\\cos\\theta + w_y\\sin\\theta \\quad\\quad\\text{and}\\quad\\quad w_\\theta = r\\big(w_y\\cos\\theta - w_x\\sin\\theta\\big)$$"
   ]
  },
  {
   "cell_type": "markdown",
   "id": "9e065c43-eb24-45ba-b985-ae17abe12c9a",
   "metadata": {},
   "source": [
    "$$ w_r^2 = w_x^2\\cos^2\\theta + w_xw_y\\sin2\\theta + w_y^2\\sin^2\\theta \\quad\\quad\\text{and}\\quad\\quad w_\\theta^2 = r^2\\big(w_y^2\\cos^2\\theta - w_xw_y\\sin2\\theta + w_x^2\\sin^2\\theta\\big)$$"
   ]
  },
  {
   "cell_type": "markdown",
   "id": "f1d5023d-39e0-41b6-972f-03e3dd952651",
   "metadata": {},
   "source": [
    "$$ w_r^2 + \\frac{1}{r^2}w_\\theta^2 = \\big(w_x^2+w_y^2\\big)\\cos^2\\theta + \\big(w_x^2+w_y^2\\big)\\sin^2\\theta = w_x^2+w_y^2$$"
   ]
  },
  {
   "cell_type": "markdown",
   "id": "ed797bd6-ca71-41cc-b193-981d7b908fce",
   "metadata": {},
   "source": [
    "**b)**  At $x,y=1$,  \n",
    "\n",
    "$$ w_r = \\sqrt{2}  - \\frac{1}{\\sqrt{2}} \\quad\\quad\\text{and}\\quad\\quad w_\\theta = -\\sqrt{2}\\left(\\frac{1}{\\sqrt{2}}+\\sqrt{2}\\right)$$"
   ]
  },
  {
   "cell_type": "markdown",
   "id": "73e56c6a-af1d-425d-b865-fe0dab418240",
   "metadata": {},
   "source": [
    "$$ w_r = \\frac{1}{\\sqrt{2}} \\quad\\quad\\text{and}\\quad\\quad w_\\theta = -3$$"
   ]
  },
  {
   "cell_type": "markdown",
   "id": "3569a21d-67ab-4555-a68b-2f9696b30e49",
   "metadata": {},
   "source": [
    "And, to verify the relation in part (a) at $x,y=1$:  \n",
    "\n",
    "$$ 4 + 1 = \\frac{1}{2} + 0.5\\cdot9 = 5$$"
   ]
  },
  {
   "cell_type": "code",
   "execution_count": 5,
   "id": "00f43fac-b4d6-44ac-a771-292e2b415b89",
   "metadata": {
    "tags": []
   },
   "outputs": [
    {
     "data": {
      "text/plain": [
       "(1.4142135623730951, 1.4142135623730951)"
      ]
     },
     "execution_count": 5,
     "metadata": {},
     "output_type": "execute_result"
    }
   ],
   "source": [
    "(1/sin(0.25*pi), np.sqrt(2))"
   ]
  },
  {
   "cell_type": "markdown",
   "id": "135034e7-fdbb-4684-b8f1-e2b7a86e8d61",
   "metadata": {},
   "source": [
    "#### $\\S\\,2\\mathrm{E} : 7$  \n",
    "\n",
    "$$ \\langle f_x, f_y\\rangle \\cdot J = \\langle f_xx_u + f_yy_u, f_xx_v + f_yy_v\\rangle$$"
   ]
  },
  {
   "cell_type": "markdown",
   "id": "9c4fc872-56d0-4316-abcf-e39224e4a8ad",
   "metadata": {},
   "source": [
    "$$ \\mathrm{d}f = f_x\\mathrm{d}x + f_y\\mathrm{d}y$$"
   ]
  },
  {
   "cell_type": "markdown",
   "id": "74c027c8-1dfa-47d6-95e9-0aa4ebacf519",
   "metadata": {},
   "source": [
    "$$ \\mathrm{d}x = x_u\\mathrm{d}u + x_v\\mathrm{d}v$$"
   ]
  },
  {
   "cell_type": "markdown",
   "id": "c26341c5-7974-45fc-8560-cf9d58429d9f",
   "metadata": {},
   "source": [
    "$$ \\mathrm{d}y = y_u\\mathrm{d}u + y_v\\mathrm{d}v$$"
   ]
  },
  {
   "cell_type": "markdown",
   "id": "a375d5fd-86cb-479d-b74a-fb5c960a470a",
   "metadata": {},
   "source": [
    "Via the above three equations and substitution,  \n",
    "\n",
    "$$ \\mathrm{d}f = f_x\\big(x_u\\mathrm{d}u + x_v\\mathrm{d}v\\big) + f_y\\big(y_u\\mathrm{d}u + y_v\\mathrm{d}v\\big)$$"
   ]
  },
  {
   "cell_type": "markdown",
   "id": "a83350f9-ce86-4515-af86-ef7d9e65389f",
   "metadata": {},
   "source": [
    "$$ = \\big(f_xx_u + f_yy_u\\big)\\mathrm{d}u + \\big(f_xx_v + f_yy_v\\big)\\mathrm{d}v$$"
   ]
  },
  {
   "cell_type": "markdown",
   "id": "848a2381-095b-461e-8307-4064c3ea57d7",
   "metadata": {},
   "source": [
    "$$ = \\nabla f\\big(x(u,v),y(u,v)\\big)\\cdot\\langle \\mathrm{d}u,\\mathrm{d}v\\rangle$$"
   ]
  },
  {
   "cell_type": "markdown",
   "id": "ea7d44fc-cffd-4cd2-9ca3-a06d22f281b2",
   "metadata": {},
   "source": [
    "#### $\\S\\,2\\mathrm{E} : 8$  \n",
    "\n",
    "**a)**  $$ \\mathrm{d}u = -\\frac{y}{x^2}\\,\\mathrm{d}x + \\frac{1}{x}\\,\\mathrm{d}y$$"
   ]
  },
  {
   "cell_type": "markdown",
   "id": "5d71641e-64f4-42f6-801b-09bccdbf3cb7",
   "metadata": {},
   "source": [
    "$$ \\mathrm{d}w = \\mathrm{d}uf'(u) \\quad\\implies$$"
   ]
  },
  {
   "cell_type": "markdown",
   "id": "07e67962-9cc3-4ef5-bf9c-9f31d51b29e0",
   "metadata": {},
   "source": [
    "$$ w_x = -\\frac{yf'(u)}{x^2} \\quad\\quad\\text{and}\\quad\\quad w_y = \\frac{f'(u)}{x}$$"
   ]
  },
  {
   "cell_type": "markdown",
   "id": "16bdb72f-1653-4736-808e-a9ae3ca07278",
   "metadata": {},
   "source": [
    "$$ xw_x + yw_y = \\frac{yf'(u)}{x} - \\frac{yf'(u)}{x} = 0$$"
   ]
  },
  {
   "cell_type": "markdown",
   "id": "b110dfda-301f-4225-b98c-d04caa16760d",
   "metadata": {},
   "source": [
    "### Gradient and Directional Derivatives"
   ]
  },
  {
   "cell_type": "markdown",
   "id": "7ff9500a-f220-446f-8a8c-f552ab540206",
   "metadata": {},
   "source": [
    "#### $\\S\\,2\\mathrm{D} : 1$  \n",
    "\n",
    "**a)**  $$ \\nabla f = \\big\\langle 3x^2, 6y^2\\big\\rangle \\quad\\quad\\text{and}\\quad\\quad \\mathbf{u} = \\frac{\\langle 1,-1\\rangle}{\\sqrt{2}}$$"
   ]
  },
  {
   "cell_type": "markdown",
   "id": "a32a2c3a-24a8-41a1-a2d0-a71a9b611307",
   "metadata": {},
   "source": [
    "The directional derivative is thus:  \n",
    "\n",
    "$$ \\frac{\\mathrm{d}\\mathit{f}}{\\mathrm{d}s}(1,1\\vert \\mathbf{u}) = \\frac{3}{\\sqrt{2}}\\langle 1,2\\rangle\\cdot\\langle 1,-1\\rangle $$"
   ]
  },
  {
   "cell_type": "markdown",
   "id": "1a9cecc2-a93f-4c6c-bf3e-32fe9fcdbae5",
   "metadata": {},
   "source": [
    "$$ = \\frac{3}{\\sqrt{2}}\\,(1-2) = -\\frac{3}{\\sqrt{2}}$$"
   ]
  },
  {
   "cell_type": "markdown",
   "id": "ef836926-5a57-451b-8c44-6342fa025e87",
   "metadata": {},
   "source": [
    "**b)**  $$ \\nabla w = \\left\\langle\\frac{y}{z}, \\frac{x}{z}, -\\frac{xy}{z^2} \\right\\rangle\\quad\\quad\\text{and}\\quad\\quad\\mathbf{u} = \\frac{\\langle 1,2,-2\\rangle}{3}$$"
   ]
  },
  {
   "cell_type": "markdown",
   "id": "8f918c1c-04cf-46a6-aff0-59d320c8cd72",
   "metadata": {},
   "source": [
    "$$\\nabla w(P) = \\langle -1,2, 2\\rangle \\quad\\quad\\text{and}\\quad\\quad \\nabla w(P)\\cdot\\mathbf{u} =  \\frac{1}{3}\\,(-1+4-4) = -\\frac{1}{3}$$"
   ]
  },
  {
   "cell_type": "markdown",
   "id": "cd7099b5-0650-455e-8cd2-9ae6f1f21ad9",
   "metadata": {},
   "source": [
    "Thus,  \n",
    "\n",
    "$$ \\frac{\\mathrm{d}w}{\\mathrm{d}s}(P\\vert\\mathbf{u}) = -\\frac{1}{3}$$"
   ]
  },
  {
   "cell_type": "markdown",
   "id": "44e17cf4-08ed-4195-8697-023119f74503",
   "metadata": {},
   "source": [
    "**c)**  $$ \\nabla z = \\big\\langle \\sin y - y\\sin x, x\\cos y + \\cos x\\big\\rangle \\quad\\quad\\text{and}\\quad\\quad \\mathbf{u} = \\frac{\\langle-3,4\\rangle}{5}$$"
   ]
  },
  {
   "cell_type": "markdown",
   "id": "8ba6cc50-8eae-43ff-997b-be7c3e49968d",
   "metadata": {},
   "source": [
    "$$ \\nabla z(P) = \\langle 1, 1\\rangle \\quad\\quad\\text{and}\\quad\\quad \\nabla z(P)\\cdot\\mathbf{u} = $$"
   ]
  },
  {
   "cell_type": "markdown",
   "id": "e7eacade-a655-429b-956f-ca9b16ef149f",
   "metadata": {},
   "source": [
    "$$ = \\frac{1}{5} = \\frac{\\mathrm{d}z}{\\mathrm{d}s}(P\\vert\\mathbf{u})$$"
   ]
  },
  {
   "cell_type": "markdown",
   "id": "5c700a32-efed-40ee-9524-5b76ffe75be8",
   "metadata": {},
   "source": [
    "**d)**  $$ w_t = \\frac{2}{2t+3u} \\quad\\quad w_u = \\frac{3}{2t+3u} \\quad\\quad \\mathbf{u} = \\frac{\\langle 4,-3\\rangle}{5}$$"
   ]
  },
  {
   "cell_type": "markdown",
   "id": "2959e662-a276-4a10-9965-297c2940c426",
   "metadata": {},
   "source": [
    "$$ \\nabla w = \\frac{\\langle 2,3\\rangle}{2t+3u} \\quad\\quad \\nabla w(P) = \\langle 2,3\\rangle$$"
   ]
  },
  {
   "cell_type": "markdown",
   "id": "e445ea42-8131-4933-8563-124d5195b1e8",
   "metadata": {},
   "source": [
    "$$ \\frac{\\mathrm{d}w}{\\mathrm{d}s}(P\\vert\\mathbf{u}) = \\frac{8 - 9}{5} = - \\frac{1}{5}$$"
   ]
  },
  {
   "cell_type": "markdown",
   "id": "a273b0b4-5c5c-4776-9be0-6c33ad49de91",
   "metadata": {},
   "source": [
    "**e)**  $$ \\nabla f = 2(u+2v+3w)\\langle 1,2,3\\rangle \\quad\\quad \\mathbf{u} = \\frac{\\langle -2,2,-1\\rangle}{3}$$"
   ]
  },
  {
   "cell_type": "markdown",
   "id": "c2b3afd0-f3aa-47a1-b985-76b9a133e4a5",
   "metadata": {},
   "source": [
    "$$ \\nabla f(P) = 4\\langle 1,2,3\\rangle \\quad\\quad\\text{and}\\quad\\quad \\nabla f(P)\\cdot\\mathbf{u} = \\frac{4}{3}\\,(-2+4-3) $$"
   ]
  },
  {
   "cell_type": "markdown",
   "id": "e1f18c61-1240-426f-bea7-8d2e2a0c878a",
   "metadata": {},
   "source": [
    "$$ \\frac{\\mathrm{d}f}{\\mathrm{s}}(P\\vert\\mathbf{u}) = -\\frac{4}{3}$$"
   ]
  },
  {
   "cell_type": "markdown",
   "id": "66a107be-d1c8-49c7-a377-8fd584b5191d",
   "metadata": {},
   "source": [
    "#### $\\S\\,2\\mathrm{D} : 2$  \n",
    "\n",
    "**a)**  $$ \\nabla w = \\frac{\\langle 4,-3\\rangle}{4x-3y}  \\quad\\quad\\text{and}\\quad\\quad \\nabla w(P) = \\langle 4,-3\\rangle$$"
   ]
  },
  {
   "cell_type": "markdown",
   "id": "dbee7f9c-f1f3-4ddc-a071-a8862327f6ae",
   "metadata": {},
   "source": [
    "(i)  Let $D$ be defined as:  \n",
    "\n",
    "$$ D:= \\frac{\\mathrm{d}w}{\\mathrm{d}s}(P\\vert\\mathbf{u})$$\n",
    "\n",
    "$$ \\max D = |\\nabla w(P)| = 5 \\quad\\quad\\text{and}\\quad\\quad \\min D = -5$$"
   ]
  },
  {
   "cell_type": "markdown",
   "id": "bd51f146-1a42-439a-9139-c0bf26a10be0",
   "metadata": {},
   "source": [
    "(ii)  The max occurs when $\\mathbf{u}$ points in the same direction as $\\nabla w(P)$, while the min occurs when $\\mathbf{u}$ points in the opposite direction.  \n",
    "\n",
    "Let $G:=\\nabla w(P)$.  \n",
    "\n",
    "$$ D = \\max D \\;\\iff\\; \\mathbf{u} = \\frac{G}{|G|} = \\frac{\\langle 4,-3\\rangle}{5} = \\frac{G}{\\max D} $$"
   ]
  },
  {
   "cell_type": "markdown",
   "id": "54a0cbd9-abe6-478f-873e-52fb8bd51e31",
   "metadata": {},
   "source": [
    "$$ D = \\min D \\;\\iff\\; \\mathbf{u} = -\\frac{G}{|G|} = \\frac{G}{\\min D}$$"
   ]
  },
  {
   "cell_type": "markdown",
   "id": "54c4ca76-1762-449d-aa04-3d75fc1394f6",
   "metadata": {},
   "source": [
    "(iii) $D=0$ if and only if $\\mathbf{u}$ is perpendicular to the gradient.  \n",
    "\n",
    "$$ D = 0 \\;\\iff\\; \\mathbf{u}\\perp G \\;\\iff\\; \\mathbf{u} = \\pm \\frac{\\langle 3,4\\rangle}{5}$$"
   ]
  },
  {
   "cell_type": "markdown",
   "id": "7166053d-7f07-4d02-a39e-1045b1ae482b",
   "metadata": {},
   "source": [
    "**b)**  $$ \\nabla w = \\langle y+z, x+z, y+x\\rangle \\quad\\quad \\nabla w(P) = G = \\langle 1,3,0\\rangle  \\quad\\quad |G| = \\sqrt{10}$$"
   ]
  },
  {
   "cell_type": "markdown",
   "id": "6fc5c395-2687-4c83-a0fd-b8e34f516665",
   "metadata": {},
   "source": [
    "(i)  Let $D$ be defined as:  \n",
    "\n",
    "$$ D:= \\frac{\\mathrm{d}w}{\\mathrm{d}s}(P\\vert\\mathbf{u})$$"
   ]
  },
  {
   "cell_type": "markdown",
   "id": "251c1e42-5908-49d9-82cf-ca492b909ecd",
   "metadata": {},
   "source": [
    "$$ \\min D, \\max D = -|G|, |G|$$"
   ]
  },
  {
   "cell_type": "markdown",
   "id": "033da62d-5dbf-4582-ac77-84100186f997",
   "metadata": {},
   "source": [
    "(ii)  $$ D = \\max D \\;\\iff\\; \\mathbf{u} = \\frac{G}{\\max D}$$"
   ]
  },
  {
   "cell_type": "markdown",
   "id": "b3d8f9ef-4a9d-45e3-af87-954cc4c71ae4",
   "metadata": {},
   "source": [
    "$$ D = \\min D \\;\\iff\\; \\mathbf{u} = \\frac{G}{\\min D}$$"
   ]
  },
  {
   "cell_type": "markdown",
   "id": "3a980c67-c530-40ac-960e-07b40a1e7cc5",
   "metadata": {},
   "source": [
    "(iii)  $$ D = 0 \\;\\iff\\; \\mathbf{u} \\perp G$$"
   ]
  },
  {
   "cell_type": "markdown",
   "id": "e496f218-0a3f-4e16-8b3d-2e3b67ca65b4",
   "metadata": {},
   "source": [
    "The gradient is perpendicular to $\\mathbf{u}$ if and only if $\\mathbf{u}$ rests on the tangent plane of $w$ at $P$.  Said plane is given by:  \n",
    "\n",
    "$$ (y+z)\\Delta x+(x+z)\\Delta y + (x+y)\\Delta z = 0$$"
   ]
  },
  {
   "cell_type": "markdown",
   "id": "9ac828c6-92b2-42b9-b101-77f808b26e10",
   "metadata": {},
   "source": [
    "$$ \\Delta x + 3\\Delta y = 0$$"
   ]
  },
  {
   "cell_type": "markdown",
   "id": "b9784df6-a17e-4362-9e6c-a0556c44dd84",
   "metadata": {},
   "source": [
    "$$ x - 1 + 3(y+1) = 0 \\quad\\implies\\quad$$"
   ]
  },
  {
   "cell_type": "markdown",
   "id": "d9c9eb41-0d49-49ff-90a2-445e5de4e4dd",
   "metadata": {},
   "source": [
    "$$ x = -2-3y$$"
   ]
  },
  {
   "cell_type": "markdown",
   "id": "3093bd74-7a48-42b4-aa1d-ff5fe8bdb5af",
   "metadata": {},
   "source": [
    "Thus,  \n",
    "\n",
    "$$ D = 0 \\;\\iff\\; \\mathbf{u} = \\pm \\frac{\\langle 3,-1\\rangle}{|G|}$$"
   ]
  },
  {
   "cell_type": "markdown",
   "id": "d62fa070-2e38-402e-833e-038dbf52c413",
   "metadata": {},
   "source": [
    "**c)**  $$ \\nabla z = 2\\sin(t-u)\\langle\\cos(t-u), -\\cos(t-u)\\rangle = \\sin\\big(2(t-u)\\big)\\langle 1,-1\\rangle $$"
   ]
  },
  {
   "cell_type": "markdown",
   "id": "c38d541b-c02b-4c6d-8393-429715398abf",
   "metadata": {},
   "source": [
    "$$ G = \\nabla z(P) = \\langle 1,-1\\rangle \\quad\\quad\\text{and}\\quad\\quad |G| = \\sqrt{2}$$"
   ]
  },
  {
   "cell_type": "markdown",
   "id": "ba397f01-f22a-4998-a70c-eedea9f6f767",
   "metadata": {},
   "source": [
    "(i)  $$ \\min D, \\max D = -|G|, |G|$$"
   ]
  },
  {
   "cell_type": "markdown",
   "id": "57ee3512-a992-4995-a5bb-572664773008",
   "metadata": {},
   "source": [
    "(ii)  $$ D = \\max D \\;\\iff\\; \\mathbf{u} = \\frac{G}{\\max D} $$"
   ]
  },
  {
   "cell_type": "markdown",
   "id": "5a83ae52-de74-409d-8db9-99e76a57532a",
   "metadata": {},
   "source": [
    "$$ D = \\min D \\;\\iff\\; \\mathbf{u} = \\frac{G}{\\min D}$$"
   ]
  },
  {
   "cell_type": "markdown",
   "id": "73fe033f-2bcb-4176-a162-84d7a15feaf3",
   "metadata": {},
   "source": [
    "(iii)  $$ D = 0 \\;\\iff\\; \\mathbf{u} =  \\pm\\frac{\\langle 1,1\\rangle}{|G|}$$"
   ]
  },
  {
   "cell_type": "markdown",
   "id": "6752d1a4-1e23-4d01-8d22-3fd456adeec2",
   "metadata": {},
   "source": [
    "#### $\\S\\,2\\mathrm{D} : 3$  \n",
    "\n",
    "**a)**  $$ y^2z^3\\Delta x + 2xyz^3\\Delta y + 3xy^2z^2\\Delta z = 0$$"
   ]
  },
  {
   "cell_type": "markdown",
   "id": "4ecdb4f9-e46c-4450-8f1f-19a784e76a23",
   "metadata": {},
   "source": [
    "$$ 4(x-3) + 12(y-2) + 36(z-1) = 0 \\quad\\implies$$"
   ]
  },
  {
   "cell_type": "markdown",
   "id": "09d0d95e-b9dd-4c5a-886a-f1182e46e488",
   "metadata": {},
   "source": [
    "$$ x + 3y + 9z = 3+6+9 = 18$$"
   ]
  },
  {
   "cell_type": "markdown",
   "id": "fd402c5c-464f-48e1-89ab-22ae4fa5eccb",
   "metadata": {},
   "source": [
    "**b)**  $$ 2(x-1) + 8(y-1) + 18(z-1) = 0 \\quad\\implies$$"
   ]
  },
  {
   "cell_type": "markdown",
   "id": "306137ee-ab03-481c-99dc-a715f7123154",
   "metadata": {},
   "source": [
    "$$ x + 4y + 9z = 1 + 4 + 9 = 14$$"
   ]
  },
  {
   "cell_type": "markdown",
   "id": "1020bd13-02fc-4d1c-850c-14d651114ab7",
   "metadata": {},
   "source": [
    "**c)**  $$ 2x_0\\Delta x  + 2y_0\\Delta y - 2z_0\\Delta z = 0$$"
   ]
  },
  {
   "cell_type": "markdown",
   "id": "3ff963b8-06c5-4d3e-a1fc-f052a49fe8da",
   "metadata": {},
   "source": [
    "$$ x_0\\Delta x + y_0\\Delta y + z_0\\Delta z = 0$$"
   ]
  },
  {
   "cell_type": "markdown",
   "id": "79de7341-8ac1-4aab-867b-76cb8732a6e8",
   "metadata": {},
   "source": [
    "#### $\\S\\,2\\mathrm{D} : 4$  \n",
    "\n",
    "$$ T = \\log\\big(x^2+y^2\\big) \\quad\\quad\\text{and}\\quad\\quad \\nabla T = \\frac{\\langle 2x, 2y\\rangle}{x^2+y^2}$$"
   ]
  },
  {
   "cell_type": "markdown",
   "id": "61f1492a-2a60-4ccc-bb84-2f4b8b509b48",
   "metadata": {},
   "source": [
    "**a)**  Let $D$ and $G$ be defined as:  \n",
    "\n",
    "$$ D:= \\frac{\\mathrm{d}T}{\\mathrm{d}s}(P\\vert \\mathbf{u})\\quad\\quad\\text{and}\\quad\\quad G:= \\nabla T(P) = \\frac{2\\langle 1,2 \\rangle}{5}$$"
   ]
  },
  {
   "cell_type": "markdown",
   "id": "0cf7f709-9963-4c00-9586-0d792172ea6f",
   "metadata": {},
   "source": [
    "$$ D = \\max D \\;\\iff\\; \\mathbf{u} = \\frac{G}{|G|} = \\frac{\\langle 1,2\\rangle}{\\sqrt{5}}$$"
   ]
  },
  {
   "cell_type": "markdown",
   "id": "a7f3cc19-6272-415e-b2c1-cfc9cf8adc0f",
   "metadata": {},
   "source": [
    "**b)** We must find $\\Delta s$ such that:  \n",
    "\n",
    "$$ \\Delta s |G| \\approxeq 0.2 \\quad\\implies$$"
   ]
  },
  {
   "cell_type": "markdown",
   "id": "2a8c2b18-7695-4c2c-ac7a-7ad54eb4cac9",
   "metadata": {},
   "source": [
    "$$ \\Delta s \\approxeq \\frac{1}{5}\\cdot\\frac{\\sqrt{5}}{2} = \\frac{1}{2\\sqrt{5}}$$"
   ]
  },
  {
   "cell_type": "markdown",
   "id": "49a21702-8182-41f9-8f97-efec22f53a0f",
   "metadata": {},
   "source": [
    "**c)**  $$ \\mathbf{u} = \\frac{\\langle 1,1\\rangle}{\\sqrt{2}} \\quad\\quad\\text{and}\\quad\\quad D = G \\cdot \\mathbf{u} = \\frac{\\sqrt{2}}{5}\\langle 1,2\\rangle\\cdot\\langle 1,1\\rangle$$"
   ]
  },
  {
   "cell_type": "markdown",
   "id": "b1039bac-6e6e-4732-90c9-264e1ea77d0f",
   "metadata": {},
   "source": [
    "$$ D = \\frac{3\\sqrt{2}}{5}$$"
   ]
  },
  {
   "cell_type": "markdown",
   "id": "5588917f-09cc-444d-9aff-2b09844d6c6d",
   "metadata": {},
   "source": [
    "$$ D\\Delta s \\approxeq 0.12 \\quad\\implies$$"
   ]
  },
  {
   "cell_type": "markdown",
   "id": "1f0e0779-ac28-4767-b3b4-40d3fa47bb0f",
   "metadata": {},
   "source": [
    "$$ \\Delta s \\approxeq \\frac{3}{25}\\cdot\\frac{5}{3\\sqrt{2}} = \\frac{1}{5\\sqrt{2}}$$"
   ]
  },
  {
   "cell_type": "markdown",
   "id": "ef9da563-ae22-40d5-8443-5d78d3e647d3",
   "metadata": {},
   "source": [
    "**d)**  \n",
    "\n",
    "$$ D = 0 \\;\\iff\\; \\mathbf{u} = \\pm \\frac{\\langle -2,1\\rangle}{\\sqrt{5}}$$"
   ]
  },
  {
   "cell_type": "markdown",
   "id": "4f093792-8343-4607-b852-dd5771bac07b",
   "metadata": {},
   "source": [
    "#### $\\S\\,2\\mathrm{D} : 5$  \n",
    "\n",
    "$$ T = x^2 + 2y^2 + 2z^2  \\quad\\quad\\text{and}\\quad\\quad \\nabla T = \\langle 2x, 4y, 4z\\rangle$$"
   ]
  },
  {
   "cell_type": "markdown",
   "id": "5e2d79e1-5edb-45ab-a386-87b739286c84",
   "metadata": {},
   "source": [
    "**a)** Elliptoids"
   ]
  },
  {
   "cell_type": "markdown",
   "id": "b754dbe2-1935-464e-a501-af7cf985f311",
   "metadata": {},
   "source": [
    "**b)**  Let $D$ and $G$ be defined as:  \n",
    "\n",
    "$$ D = \\frac{\\mathrm{d}T}{\\mathrm{d}s}(P\\vert \\mathbf{u}) \\quad\\quad\\text{and}\\quad\\quad G:=\\nabla T(P) = 2\\langle 1,2,2\\rangle$$"
   ]
  },
  {
   "cell_type": "markdown",
   "id": "8f1eb305-c176-4ca1-a30a-6c0340650ebd",
   "metadata": {},
   "source": [
    "$$ D = \\min D \\;\\iff\\; \\mathbf{u} = -\\frac{G}{|G|} = -\\frac{\\langle 1,2,2\\rangle}{3}$$"
   ]
  },
  {
   "cell_type": "markdown",
   "id": "5be831ed-1482-452a-b18a-4e59baaea17a",
   "metadata": {},
   "source": [
    "**c)**  We must find $\\Delta s$ such that:  \n",
    "\n",
    "$$ D\\Delta s \\approxeq -1.2 \\quad\\implies$$"
   ]
  },
  {
   "cell_type": "markdown",
   "id": "da46e35c-0fef-43df-8bb4-b9a99ffa2138",
   "metadata": {},
   "source": [
    "$$ \\Delta s \\approxeq -\\frac{6}{5}\\cdot -\\frac{1}{6} = \\frac{1}{5}$$"
   ]
  },
  {
   "cell_type": "markdown",
   "id": "2745e152-9fcd-432d-a4cb-7b98b06b808f",
   "metadata": {},
   "source": [
    "**d)**  $$ \\mathbf{u} = \\frac{\\langle 1,-2,2\\rangle}{3} \\quad\\quad\\text{and}\\quad\\quad D = G \\cdot \\mathbf{u} = \\frac{2}{3}\\langle 1,2,2\\rangle\\cdot\\langle 1,-2,2\\rangle$$"
   ]
  },
  {
   "cell_type": "markdown",
   "id": "d4da5b4b-8a74-416f-9698-5b13a14781e6",
   "metadata": {},
   "source": [
    "$$ D = \\frac{2}{3}$$"
   ]
  },
  {
   "cell_type": "markdown",
   "id": "2230a154-e759-45b2-bc78-08d274dff714",
   "metadata": {},
   "source": [
    "Now, we must find $\\Delta s$ such that:  \n",
    "\n",
    "$$ D\\Delta s \\approxeq 0.10 \\quad\\implies$$"
   ]
  },
  {
   "cell_type": "markdown",
   "id": "dac2efa0-203d-4c92-8988-0b166c445e67",
   "metadata": {},
   "source": [
    "$$ \\Delta s \\approxeq \\frac{1}{10}\\cdot\\frac{3}{2} = \\frac{3}{20}$$"
   ]
  },
  {
   "cell_type": "markdown",
   "id": "eed77c58-268d-4263-aa13-09b59c3cbb7c",
   "metadata": {},
   "source": [
    "#### $\\S\\,2\\mathrm{D} : 8$  \n",
    "\n",
    "The level surface of $P$ at a level of $31.1$ is given by:  \n",
    "\n",
    "$$1.1 = (x+1)(y+2)e^z \\quad\\implies $$"
   ]
  },
  {
   "cell_type": "markdown",
   "id": "f9434f57-0026-47d7-8c02-8d235bbb2ada",
   "metadata": {},
   "source": [
    "$$ z = \\log 1.1 - \\log|x+1| - \\log|y+2|$$"
   ]
  },
  {
   "cell_type": "markdown",
   "id": "dd815e18-de99-4d46-90a9-6481c2b3b174",
   "metadata": {},
   "source": [
    "Now let $\\mathbf{r}$ be defined as:  \n",
    "\n",
    "$$ \\mathbf{r} := \\mathbf{r}(x,y) := \\langle x, y, \\log 1.1 - \\log|x+1| - \\log|y+2|\\rangle $$"
   ]
  },
  {
   "cell_type": "markdown",
   "id": "52a867e7-3964-4f46-942f-4e34451503f3",
   "metadata": {},
   "source": [
    "The task is to find the minima of $|\\mathbf{r}|^2$.  Let $M$ be defined as:    \n",
    "\n",
    "$$ M:= M(x,y):=|\\mathbf{r}|^2 = x^2 + y^2 + \\big(\\log1.1 - \\log|x+1| - \\log|y+2|\\big)^2$$"
   ]
  },
  {
   "cell_type": "markdown",
   "id": "a1582a6a-adb5-4756-8c04-b818c1f8658e",
   "metadata": {},
   "source": [
    "$$ M_x = 2x - \\frac{2}{x+1}\\,\\big(\\log1.1 - \\log|x+1| - \\log|y+2|\\big)$$"
   ]
  },
  {
   "cell_type": "markdown",
   "id": "07b26553-a34f-4b5e-83eb-50c94a0a1113",
   "metadata": {},
   "source": [
    "$$ M_y = 2y - \\frac{2}{y+2}\\,\\big(\\log1.1 -\\log|x+1| - \\log|y+2|\\big)$$"
   ]
  },
  {
   "cell_type": "markdown",
   "id": "05e1556b-3467-4f41-8dd3-34d877263a58",
   "metadata": {},
   "source": [
    "The min of $M$ at $x,y,z\\approxeq 0,-1, 1.1$"
   ]
  },
  {
   "cell_type": "markdown",
   "id": "4b258467-5991-49ba-9910-9b3b09124cc7",
   "metadata": {},
   "source": [
    "#### $\\S\\,2\\mathrm{D} : 9$\n",
    "\n",
    "![2D-9image](SupProbs2-2D-9(2).svg)"
   ]
  },
  {
   "cell_type": "markdown",
   "id": "47253434-f7e7-44ae-a5e3-e42a00330791",
   "metadata": {},
   "source": [
    "**a)** $$ D:=\\frac{\\Delta w}{\\Delta s}(A, \\mathbf{u}) \\approxeq |\\nabla w(A)| \\quad\\quad\\text{where }\\mathbf{u} = \\frac{\\nabla w(A)}{|\\nabla w(A)|}$$"
   ]
  },
  {
   "cell_type": "markdown",
   "id": "44f6b40c-9721-4ae2-93d7-c42ddb0e1af8",
   "metadata": {},
   "source": [
    "$$ D \\approxeq \\frac{1}{0.6} = \\frac{5}{3}$$"
   ]
  },
  {
   "cell_type": "markdown",
   "id": "4a512195-a902-4b17-b318-ef7b564da046",
   "metadata": {},
   "source": [
    "**d)**  $$ D:=\\frac{\\Delta w}{\\Delta s}(P, \\mathbf{u}) \\approxeq |\\nabla w(P)| \\quad\\quad\\text{where }\\mathbf{u} = \\frac{\\nabla w(P)}{|\\nabla w(P)|}$$"
   ]
  },
  {
   "cell_type": "markdown",
   "id": "e83acca3-07e7-413c-a8dc-519e828ddaec",
   "metadata": {},
   "source": [
    "$$ D \\approxeq \\frac{1}{0.66} = \\frac{50}{33} $$"
   ]
  },
  {
   "cell_type": "markdown",
   "id": "167746f4-5e29-4696-ada6-f28705d4a68c",
   "metadata": {},
   "source": [
    "$$ w_x \\approxeq -D\\cos72^\\circ \\approxeq 0.5 \\quad\\quad\\text{and}\\quad\\quad w_y\\approxeq -D\\sin72^\\circ \\approxeq \\sqrt{2}$$"
   ]
  },
  {
   "cell_type": "code",
   "execution_count": 6,
   "id": "1907949c-385e-461a-87cf-d659bb422861",
   "metadata": {
    "tags": []
   },
   "outputs": [
    {
     "data": {
      "text/plain": [
       "(-0.46820756723476886, -1.4409947216593235)"
      ]
     },
     "execution_count": 6,
     "metadata": {},
     "output_type": "execute_result"
    }
   ],
   "source": [
    "D = 50/33; theta = np.radians(72);\n",
    "w_x = -D*cos(theta); w_y = -D*sin(theta)\n",
    "(w_x, w_y)"
   ]
  },
  {
   "cell_type": "code",
   "execution_count": 7,
   "id": "e12a3c7a-562c-4cb9-b3fe-c7e0bf4462bb",
   "metadata": {
    "tags": []
   },
   "outputs": [
    {
     "data": {
      "text/plain": [
       "1.4142135623730951"
      ]
     },
     "execution_count": 7,
     "metadata": {},
     "output_type": "execute_result"
    }
   ],
   "source": [
    "np.sqrt(2)"
   ]
  },
  {
   "cell_type": "markdown",
   "id": "ddd8c3c1-babd-4fa9-a48f-7f1af091cb23",
   "metadata": {},
   "source": [
    "**e)**  \n",
    "\n",
    "$$ w'(s) \\approxeq \\frac{1}{0.66} = \\frac{50}{33}$$"
   ]
  },
  {
   "cell_type": "markdown",
   "id": "47a92cb4-b899-4724-a737-b60c4b1a0618",
   "metadata": {},
   "source": [
    "**f)**  \n",
    "\n",
    "$$ w'(s) \\approxeq \\frac{1}{1.66} $$"
   ]
  },
  {
   "cell_type": "markdown",
   "id": "4f525124-4ee5-4bbb-b110-16d0957c75eb",
   "metadata": {},
   "source": [
    "$$ 1.66 = 1 + \\frac{33}{50} = \\frac{83}{50}$$"
   ]
  },
  {
   "cell_type": "markdown",
   "id": "73b73303-7713-4f63-a0a4-cc671ae3f440",
   "metadata": {},
   "source": [
    "$$ w'(s) \\approxeq \\frac{50}{83}$$"
   ]
  },
  {
   "cell_type": "markdown",
   "id": "a54a5e14-99be-486a-9e57-fe713141296d",
   "metadata": {},
   "source": [
    "**g)**  The miximum which is roughly in the center of the 5'th level curve."
   ]
  }
 ],
 "metadata": {
  "kernelspec": {
   "display_name": "Python 3 (ipykernel)",
   "language": "python",
   "name": "python3"
  },
  "language_info": {
   "codemirror_mode": {
    "name": "ipython",
    "version": 3
   },
   "file_extension": ".py",
   "mimetype": "text/x-python",
   "name": "python",
   "nbconvert_exporter": "python",
   "pygments_lexer": "ipython3",
   "version": "3.10.12"
  }
 },
 "nbformat": 4,
 "nbformat_minor": 5
}
