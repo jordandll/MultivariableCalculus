{
 "cells": [
  {
   "cell_type": "markdown",
   "id": "de7d7b95-a4ca-40ed-8237-acee147082a6",
   "metadata": {},
   "source": [
    "# Problem Set 5\n",
    "\n",
    "## Part I\n",
    "\n",
    "### Differentials; Approximation\n",
    "\n",
    "#### $\\S\\,2\\mathrm{C} : 1$\n",
    "\n",
    "**a)**  $$ \\mathrm{d}w = \\frac{\\mathrm{d}x}{x} + \\frac{\\mathrm{d}y}{y} + \\frac{\\mathrm{d}z}{z}$$"
   ]
  },
  {
   "cell_type": "markdown",
   "id": "5ae7aa3b-d509-44f7-ba93-64340a0afd35",
   "metadata": {},
   "source": [
    "**b)**  $$ \\mathrm{d}w = 3x^2y^2z\\mathrm{d}x + 2x^3yz\\mathrm{d}y + x^3y^2\\mathrm{d}x$$"
   ]
  },
  {
   "cell_type": "markdown",
   "id": "7f61134b-3b68-467c-8d6c-0bd5cf1801b4",
   "metadata": {},
   "source": [
    "**c)** $$ z_x = \\frac{1}{x+y}  - \\frac{x-y}{(x+y)^2} \\quad\\quad\\text{and}\\quad\\quad z_y = -\\frac{1}{x+y} - \\frac{x-y}{(x+y)^2}$$"
   ]
  },
  {
   "cell_type": "markdown",
   "id": "75c264d8-3e84-49d2-b9ed-d9228aea175a",
   "metadata": {},
   "source": [
    "$$ z_x = \\frac{2y}{(x+y)^2} \\quad\\quad\\text{and}\\quad\\quad z_y = -\\frac{2x}{(x+y)^2}$$"
   ]
  },
  {
   "cell_type": "markdown",
   "id": "cd577203-b98e-4756-8994-d917e46fc657",
   "metadata": {},
   "source": [
    "Finally,  \n",
    "\n",
    "$$ \\mathrm{d}z = \\frac{2}{(x+y)^2}\\,\\big(y\\mathrm{d}x - x\\mathrm{d}y\\big)$$"
   ]
  },
  {
   "cell_type": "markdown",
   "id": "d44c6015-e353-4ffb-968d-fd0b110e56e1",
   "metadata": {},
   "source": [
    "**d)**  $$ u = t\\sin w \\quad\\quad u_w = t\\cos w$$"
   ]
  },
  {
   "cell_type": "markdown",
   "id": "940433e1-e9e8-4350-8460-9fa45497bd9b",
   "metadata": {},
   "source": [
    "$$ \\mathrm{d}w = w_u\\mathrm{d}u = \\frac{\\mathrm{d}u}{t\\cos w}$$"
   ]
  },
  {
   "cell_type": "markdown",
   "id": "cb75e198-56bd-463f-9323-77d370ec102d",
   "metadata": {},
   "source": [
    "#### $\\S\\,2\\mathrm{C} : 2$  \n",
    "\n",
    "$$ V = xyz \\quad\\quad\\text{and}\\quad\\quad \\mathrm{d}V = yz\\mathrm{dx} + xz\\mathrm{d}y + xy\\mathrm{d}z$$"
   ]
  },
  {
   "cell_type": "markdown",
   "id": "770b2461-7aa1-40ef-8d30-58dcd4eb875a",
   "metadata": {},
   "source": [
    "Let $P:=(5,10,20)$.  \n",
    "\n",
    "$$ \\mathrm{d}V(P) = \\pm20 \\pm 10 \\pm 5$$"
   ]
  },
  {
   "cell_type": "code",
   "execution_count": 5,
   "id": "895d1083-830e-4600-94b6-4881b85c482b",
   "metadata": {
    "tags": []
   },
   "outputs": [
    {
     "data": {
      "text/plain": [
       "0.02"
      ]
     },
     "execution_count": 5,
     "metadata": {},
     "output_type": "execute_result"
    }
   ],
   "source": [
    "0.1/5"
   ]
  },
  {
   "cell_type": "code",
   "execution_count": 6,
   "id": "cad579f4-8594-40e9-a1a5-fe160af5b6f1",
   "metadata": {
    "tags": []
   },
   "outputs": [
    {
     "data": {
      "text/plain": [
       "0.02"
      ]
     },
     "execution_count": 6,
     "metadata": {},
     "output_type": "execute_result"
    }
   ],
   "source": [
    "20/1000"
   ]
  },
  {
   "cell_type": "markdown",
   "id": "efa20d5d-2a0f-4cb6-84e3-9939c463fd88",
   "metadata": {},
   "source": [
    "#### $\\S\\,2\\mathrm{C} : 3$  \n",
    "\n",
    "$$ A = 0.5ab\\sin\\theta \\quad\\quad A_a = 0.5b\\sin\\theta \\quad\\quad A_b = 0.5a\\sin\\theta \\quad\\quad A_\\theta = 0.5ab\\cos\\theta$$"
   ]
  },
  {
   "cell_type": "markdown",
   "id": "3af97659-2b95-4ab3-b8c3-584de25dd5a0",
   "metadata": {},
   "source": [
    "**a)**  $$ \\mathrm{d}A = A_a\\mathrm{d}a + A_b\\mathrm{d}b + A_\\theta\\mathrm{d}\\theta$$"
   ]
  },
  {
   "cell_type": "markdown",
   "id": "f868bd30-4aba-4dbd-a534-2cbcd7056bf5",
   "metadata": {},
   "source": [
    "**b)**  Let $P=(a=1,b=2,\\theta=\\pi/6)$  \n",
    "\n",
    "$$ $$"
   ]
  },
  {
   "cell_type": "code",
   "execution_count": 1,
   "id": "91c8eae2-fbee-40f9-bc51-af61815ef4b4",
   "metadata": {
    "tags": []
   },
   "outputs": [],
   "source": [
    "import numpy as np\n",
    "import sympy as sp"
   ]
  },
  {
   "cell_type": "code",
   "execution_count": 2,
   "id": "ee7bb816-a1e2-4abf-9dd5-126214af33de",
   "metadata": {
    "tags": []
   },
   "outputs": [],
   "source": [
    "sin = np.sin\n",
    "cos = np.cos\n",
    "pi = np.pi"
   ]
  },
  {
   "cell_type": "code",
   "execution_count": 3,
   "id": "b3e84186-ade6-47b2-a880-1e30310cb651",
   "metadata": {
    "tags": []
   },
   "outputs": [
    {
     "data": {
      "text/plain": [
       "(0.49999999999999994, 0.24999999999999997, 0.8660254037844387)"
      ]
     },
     "execution_count": 3,
     "metadata": {},
     "output_type": "execute_result"
    }
   ],
   "source": [
    "a = 1; b = 2; theta = pi/6\n",
    "A_a = 0.5*b*sin(theta)\n",
    "A_b = 0.5*a*sin(theta)\n",
    "A_theta = 0.5*a*b*cos(theta)\n",
    "(A_a, A_b, A_theta)"
   ]
  },
  {
   "cell_type": "markdown",
   "id": "bc9827bf-7f76-41a6-baf4-973493e05775",
   "metadata": {},
   "source": [
    "The area $A$ is most sensisitive to changes in $\\theta$ and least sensitive to changes in $b$."
   ]
  },
  {
   "cell_type": "markdown",
   "id": "6b36b8ee-00b2-44fe-a49f-13ab8cc6cbfe",
   "metadata": {},
   "source": [
    "**c)**  $$ \\mathrm{d}A \\approxeq \\pm0.03$$"
   ]
  },
  {
   "cell_type": "code",
   "execution_count": 7,
   "id": "070269ad-c879-45a6-afcb-d728d6c93ac7",
   "metadata": {
    "tags": []
   },
   "outputs": [
    {
     "data": {
      "text/plain": [
       "0.03232050807568877"
      ]
     },
     "execution_count": 7,
     "metadata": {},
     "output_type": "execute_result"
    }
   ],
   "source": [
    "dA = 0.02*(A_a + A_b + A_theta); dA"
   ]
  },
  {
   "cell_type": "markdown",
   "id": "2852b92f-3c38-42c2-8153-66784d2d9d4f",
   "metadata": {},
   "source": [
    "#### $\\S\\,2\\mathrm{C} : 4$\n",
    "\n",
    "**a)**  \n",
    "\\begin{equation}\\tag{4.1}\n",
    "    \\text{a: }\\;P = k\\frac{T}{V} \\quad\\quad \\text{b: }\\;P_T = \\frac{k}{V} \\quad\\quad \\text{c: }\\;P_V = -k\\frac{T}{V^2}\n",
    "\\end{equation}"
   ]
  },
  {
   "cell_type": "markdown",
   "id": "82df5dd8-4446-4223-8fd8-4504255fbd16",
   "metadata": {},
   "source": [
    "\\begin{equation}\\tag{4.2}\n",
    "    \\mathrm{d}P = P_T\\mathrm{d}T + P_V\\mathrm{d}V = \\frac{k}{V}\\,\\big(\\mathrm{d}T - \\frac{T}{V}\\,\\mathrm{d}V\\big)\n",
    "\\end{equation}"
   ]
  },
  {
   "cell_type": "markdown",
   "id": "39c84b54-f77e-4532-b7b1-d78ff556efa4",
   "metadata": {},
   "source": [
    "**b)**  \n",
    "\\begin{equation}\\tag{4.3}\n",
    "    V\\mathrm{d}P + P\\mathrm{d}V = k\\mathrm{d}T\n",
    "\\end{equation}"
   ]
  },
  {
   "cell_type": "markdown",
   "id": "ad04d6a3-fad6-407d-977d-d6f4df48833e",
   "metadata": {},
   "source": [
    "**c)**  Multiplying throughout equation (4.2) by $V$ gives:  \n",
    "\n",
    "$$ V\\mathrm{d}P = k\\mathrm{d}T - P\\mathrm{d}V$$"
   ]
  },
  {
   "cell_type": "markdown",
   "id": "d125afe9-04e8-4fa0-b7d8-694d87a25f4a",
   "metadata": {},
   "source": [
    "#### $\\S\\,2\\mathrm{C} : 5$\n",
    "\n",
    "**a)**  $$ -\\frac{\\mathrm{d}w}{w^2} = -\\frac{\\mathrm{d}t}{t^2}-\\frac{\\mathrm{d}u}{u^2}-\\frac{\\mathrm{d}v}{v^2}$$"
   ]
  },
  {
   "cell_type": "markdown",
   "id": "315d9efc-d9d6-4c8a-92ab-633590e3eb9b",
   "metadata": {},
   "source": [
    "$$ \\mathrm{d}w = w^2\\left( \\frac{\\mathrm{d}t}{t^2}+\\frac{\\mathrm{d}u}{u^2}+\\frac{\\mathrm{d}v}{v^2}\\right)$$"
   ]
  },
  {
   "cell_type": "markdown",
   "id": "501d6ece-83cd-4835-b170-16d8b788db65",
   "metadata": {},
   "source": [
    "$$ w = \\frac{uv + tv + tu}{tuv}$$"
   ]
  },
  {
   "cell_type": "markdown",
   "id": "9b4bed54-dce6-4f7a-9a23-876749a0bfb2",
   "metadata": {},
   "source": [
    "**b)**  $$ 2u\\mathrm{d}u + 4v\\mathrm{d}v + 6w\\mathrm{d}w = 0$$"
   ]
  },
  {
   "cell_type": "markdown",
   "id": "c0ac9e52-6086-4073-a7e1-d444daca8de9",
   "metadata": {},
   "source": [
    "$$ \\mathrm{d}w = - \\frac{u\\mathrm{d}u + 2v\\mathrm{d}v}{3w}$$"
   ]
  },
  {
   "cell_type": "markdown",
   "id": "bf3bca42-eb20-4258-8433-6027109aafa3",
   "metadata": {},
   "source": [
    "$$ w = \\pm\\sqrt{\\frac{10-u^2-2v^2}{3}}$$"
   ]
  },
  {
   "cell_type": "markdown",
   "id": "7ff9500a-f220-446f-8a8c-f552ab540206",
   "metadata": {},
   "source": [
    "#### $\\S\\,2\\mathrm{D} : 1$  \n",
    "\n",
    "**a)**  $$ \\nabla f = \\big\\langle 3x^2, 6y^2\\big\\rangle \\quad\\quad\\text{and}\\quad\\quad \\mathbf{u} = \\frac{\\langle 1,-1\\rangle}{\\sqrt{2}}$$"
   ]
  },
  {
   "cell_type": "markdown",
   "id": "a32a2c3a-24a8-41a1-a2d0-a71a9b611307",
   "metadata": {},
   "source": [
    "The directional derivative is thus:  \n",
    "\n",
    "$$ \\frac{\\mathrm{d}f}{\\mathrm{d}s}(1,1\\vert \\mathbf{u}) = \\frac{3}{\\sqrt{2}}\\langle 1,2\\rangle\\cdot\\langle 1,-1\\rangle $$"
   ]
  },
  {
   "cell_type": "markdown",
   "id": "1a9cecc2-a93f-4c6c-bf3e-32fe9fcdbae5",
   "metadata": {},
   "source": [
    "$$ = \\frac{3}{\\sqrt{2}}\\,(1-2) = -\\frac{3}{\\sqrt{2}}$$"
   ]
  },
  {
   "cell_type": "markdown",
   "id": "ef836926-5a57-451b-8c44-6342fa025e87",
   "metadata": {},
   "source": [
    "**b)**  $$ \\nabla w = \\left\\langle\\frac{y}{z}, \\frac{x}{z}, -\\frac{xy}{z^2} \\right\\rangle\\quad\\quad\\text{and}\\quad\\quad\\mathbf{u} = \\frac{\\langle 1,2,-2\\rangle}{3}$$"
   ]
  },
  {
   "cell_type": "markdown",
   "id": "8f918c1c-04cf-46a6-aff0-59d320c8cd72",
   "metadata": {},
   "source": [
    "$$\\nabla w(P) = \\langle -1,2, 2\\rangle \\quad\\quad\\text{and}\\quad\\quad \\nabla w(P)\\cdot\\mathbf{u} =  \\frac{1}{3}\\,(-1+4-4) = -\\frac{1}{3}$$"
   ]
  },
  {
   "cell_type": "markdown",
   "id": "cd7099b5-0650-455e-8cd2-9ae6f1f21ad9",
   "metadata": {},
   "source": [
    "Thus,  \n",
    "\n",
    "$$ \\frac{\\mathrm{d}w}{\\mathrm{d}s}(P\\vert\\mathbf{u}) = -\\frac{1}{3}$$"
   ]
  },
  {
   "cell_type": "markdown",
   "id": "44e17cf4-08ed-4195-8697-023119f74503",
   "metadata": {},
   "source": [
    "**c)**  $$ \\nabla z = \\big\\langle \\sin y - y\\sin x, x\\cos y + \\cos x\\big\\rangle \\quad\\quad\\text{and}\\quad\\quad \\mathbf{u} = \\frac{\\langle-3,4\\rangle}{5}$$"
   ]
  },
  {
   "cell_type": "markdown",
   "id": "8ba6cc50-8eae-43ff-997b-be7c3e49968d",
   "metadata": {},
   "source": [
    "$$ \\nabla z(P) = \\langle 1, 1\\rangle \\quad\\quad\\text{and}\\quad\\quad \\nabla z(P)\\cdot\\mathbf{u} = $$"
   ]
  },
  {
   "cell_type": "markdown",
   "id": "e7eacade-a655-429b-956f-ca9b16ef149f",
   "metadata": {},
   "source": [
    "$$ = \\frac{1}{5} = \\frac{\\mathrm{d}z}{\\mathrm{d}s}(P\\vert\\mathbf{u})$$"
   ]
  },
  {
   "cell_type": "markdown",
   "id": "5c700a32-efed-40ee-9524-5b76ffe75be8",
   "metadata": {},
   "source": [
    "**d)**  $$ w_t = \\frac{2}{2t+3u} \\quad\\quad w_u = \\frac{3}{2t+3u} \\quad\\quad \\mathbf{u} = \\frac{\\langle 4,-3\\rangle}{5}$$"
   ]
  },
  {
   "cell_type": "markdown",
   "id": "2959e662-a276-4a10-9965-297c2940c426",
   "metadata": {},
   "source": [
    "$$ \\nabla w = \\frac{\\langle 2,3\\rangle}{2t+3u} \\quad\\quad \\nabla w(P) = \\langle 2,3\\rangle$$"
   ]
  },
  {
   "cell_type": "markdown",
   "id": "e445ea42-8131-4933-8563-124d5195b1e8",
   "metadata": {},
   "source": [
    "$$ \\frac{\\mathrm{d}w}{\\mathrm{d}s}(P\\vert\\mathbf{u}) = \\frac{8 - 9}{5} = - \\frac{1}{5}$$"
   ]
  },
  {
   "cell_type": "markdown",
   "id": "a273b0b4-5c5c-4776-9be0-6c33ad49de91",
   "metadata": {},
   "source": [
    "**e)**  $$ \\nabla f = 2(u+2v+3w)\\langle 1,2,3\\rangle \\quad\\quad \\mathbf{u} = \\frac{\\langle -2,2,-1\\rangle}{3}$$"
   ]
  },
  {
   "cell_type": "markdown",
   "id": "c2b3afd0-f3aa-47a1-b985-76b9a133e4a5",
   "metadata": {},
   "source": [
    "$$ \\nabla f(P) = 4\\langle 1,2,3\\rangle \\quad\\quad\\text{and}\\quad\\quad \\nabla f(P)\\cdot\\mathbf{u} = \\frac{4}{3}\\,(-2+4-3) $$"
   ]
  },
  {
   "cell_type": "markdown",
   "id": "e1f18c61-1240-426f-bea7-8d2e2a0c878a",
   "metadata": {},
   "source": [
    "$$ \\frac{\\mathrm{d}f}{\\mathrm{s}}(P\\vert\\mathbf{u}) = -\\frac{4}{3}$$"
   ]
  },
  {
   "cell_type": "markdown",
   "id": "66a107be-d1c8-49c7-a377-8fd584b5191d",
   "metadata": {},
   "source": [
    "#### $\\S\\,2\\mathrm{D} : 2$  \n",
    "\n",
    "**a)**  $$ \\nabla w = \\frac{\\langle 4,-3\\rangle}{4x-3y}  \\quad\\quad\\text{and}\\quad\\quad \\nabla w(P) = \\langle 4,-3\\rangle$$"
   ]
  },
  {
   "cell_type": "markdown",
   "id": "dbee7f9c-f1f3-4ddc-a071-a8862327f6ae",
   "metadata": {},
   "source": [
    "(i)  Let $D$ be defined as:  \n",
    "\n",
    "$$ D:= \\frac{\\mathrm{d}w}{\\mathrm{d}s}(P\\vert\\mathbf{u})$$\n",
    "\n",
    "$$ \\max D = |\\nabla w(P)| = 5 \\quad\\quad\\text{and}\\quad\\quad \\min D = -5$$"
   ]
  },
  {
   "cell_type": "markdown",
   "id": "bd51f146-1a42-439a-9139-c0bf26a10be0",
   "metadata": {},
   "source": [
    "(ii)  The max occurs when $\\mathbf{u}$ points in the same direction as $\\nabla w(P)$, while the min occurs when $\\mathbf{u}$ points in the opposite direction.  \n",
    "\n",
    "Let $G:=\\nabla w(P)$.  \n",
    "\n",
    "$$ D = \\max D \\;\\iff\\; \\mathbf{u} = \\frac{G}{|G|} = \\frac{\\langle 4,-3\\rangle}{5} = \\frac{G}{\\max D} $$"
   ]
  },
  {
   "cell_type": "markdown",
   "id": "54a0cbd9-abe6-478f-873e-52fb8bd51e31",
   "metadata": {},
   "source": [
    "$$ D = \\min D \\;\\iff\\; \\mathbf{u} = -\\frac{G}{|G|} = \\frac{G}{\\min D}$$"
   ]
  },
  {
   "cell_type": "markdown",
   "id": "54c4ca76-1762-449d-aa04-3d75fc1394f6",
   "metadata": {},
   "source": [
    "(iii) $D=0$ if and only if $\\mathbf{u}$ is perpendicular to the gradient.  \n",
    "\n",
    "$$ D = 0 \\;\\iff\\; \\mathbf{u}\\perp G \\;\\iff\\; \\mathbf{u} = \\pm \\frac{\\langle 3,4\\rangle}{5}$$"
   ]
  },
  {
   "cell_type": "markdown",
   "id": "7166053d-7f07-4d02-a39e-1045b1ae482b",
   "metadata": {},
   "source": [
    "**b)**  $$ \\nabla w = \\langle y+z, x+z, y+x\\rangle \\quad\\quad \\nabla w(P) = G = \\langle 1,3,0\\rangle  \\quad\\quad |G| = \\sqrt{10}$$"
   ]
  },
  {
   "cell_type": "markdown",
   "id": "6fc5c395-2687-4c83-a0fd-b8e34f516665",
   "metadata": {},
   "source": [
    "(i)  Let $D$ be defined as:  \n",
    "\n",
    "$$ D:= \\frac{\\mathrm{d}w}{\\mathrm{d}s}(P\\vert\\mathbf{u})$$"
   ]
  },
  {
   "cell_type": "markdown",
   "id": "251c1e42-5908-49d9-82cf-ca492b909ecd",
   "metadata": {},
   "source": [
    "$$ \\min D, \\max D = -|G|, |G|$$"
   ]
  },
  {
   "cell_type": "markdown",
   "id": "033da62d-5dbf-4582-ac77-84100186f997",
   "metadata": {},
   "source": [
    "(ii)  $$ D = \\max D \\;\\iff\\; \\mathbf{u} = \\frac{G}{\\max D}$$"
   ]
  },
  {
   "cell_type": "markdown",
   "id": "b3d8f9ef-4a9d-45e3-af87-954cc4c71ae4",
   "metadata": {},
   "source": [
    "$$ D = \\min D \\;\\iff\\; \\mathbf{u} = \\frac{G}{\\min D}$$"
   ]
  },
  {
   "cell_type": "markdown",
   "id": "3a980c67-c530-40ac-960e-07b40a1e7cc5",
   "metadata": {},
   "source": [
    "(iii)  $$ D = 0 \\;\\iff\\; \\mathbf{u} \\perp G$$"
   ]
  },
  {
   "cell_type": "markdown",
   "id": "e496f218-0a3f-4e16-8b3d-2e3b67ca65b4",
   "metadata": {},
   "source": [
    "The gradient is perpendicular to $\\mathbf{u}$ if and only if $\\mathbf{u}$ rests on the tangent plane of $w$ at $P$.  Said plane is given by:  \n",
    "\n",
    "$$ (y+z)\\Delta x+(x+z)\\Delta y + (x+y)\\Delta z = 0$$"
   ]
  },
  {
   "cell_type": "markdown",
   "id": "9ac828c6-92b2-42b9-b101-77f808b26e10",
   "metadata": {},
   "source": [
    "$$ \\Delta x + 3\\Delta y = 0$$"
   ]
  },
  {
   "cell_type": "markdown",
   "id": "b9784df6-a17e-4362-9e6c-a0556c44dd84",
   "metadata": {},
   "source": [
    "$$ x - 1 + 3(y+1) = 0 \\quad\\implies\\quad$$"
   ]
  },
  {
   "cell_type": "markdown",
   "id": "d9c9eb41-0d49-49ff-90a2-445e5de4e4dd",
   "metadata": {},
   "source": [
    "$$ x = -2-3y$$"
   ]
  },
  {
   "cell_type": "markdown",
   "id": "3093bd74-7a48-42b4-aa1d-ff5fe8bdb5af",
   "metadata": {},
   "source": [
    "Thus,  \n",
    "\n",
    "$$ D = 0 \\;\\iff\\; \\mathbf{u} = \\pm \\frac{\\langle 3,-1\\rangle}{|G|}$$"
   ]
  },
  {
   "cell_type": "markdown",
   "id": "d62fa070-2e38-402e-833e-038dbf52c413",
   "metadata": {},
   "source": [
    "**c)**  $$ \\nabla z = 2\\sin(t-u)\\langle\\cos(t-u), -\\cos(t-u)\\rangle = \\sin\\big(2(t-u)\\big)\\langle 1,-1\\rangle $$"
   ]
  },
  {
   "cell_type": "markdown",
   "id": "c38d541b-c02b-4c6d-8393-429715398abf",
   "metadata": {},
   "source": [
    "$$ G = \\nabla z(P) = \\langle 1,-1\\rangle \\quad\\quad\\text{and}\\quad\\quad |G| = \\sqrt{2}$$"
   ]
  },
  {
   "cell_type": "markdown",
   "id": "ba397f01-f22a-4998-a70c-eedea9f6f767",
   "metadata": {},
   "source": [
    "(i)  $$ \\min D, \\max D = -|G|, |G|$$"
   ]
  },
  {
   "cell_type": "markdown",
   "id": "57ee3512-a992-4995-a5bb-572664773008",
   "metadata": {},
   "source": [
    "(ii)  $$ D = \\max D \\;\\iff\\; \\mathbf{u} = \\frac{G}{\\max D} $$"
   ]
  },
  {
   "cell_type": "markdown",
   "id": "5a83ae52-de74-409d-8db9-99e76a57532a",
   "metadata": {},
   "source": [
    "$$ D = \\min D \\;\\iff\\; \\mathbf{u} = \\frac{G}{\\min D}$$"
   ]
  },
  {
   "cell_type": "markdown",
   "id": "73fe033f-2bcb-4176-a162-84d7a15feaf3",
   "metadata": {},
   "source": [
    "(iii)  $$ D = 0 \\;\\iff\\; \\mathbf{u} =  \\pm\\frac{\\langle 1,1\\rangle}{|G|}$$"
   ]
  },
  {
   "cell_type": "markdown",
   "id": "6752d1a4-1e23-4d01-8d22-3fd456adeec2",
   "metadata": {},
   "source": [
    "#### $\\S\\,2\\mathrm{D} : 3$  \n",
    "\n",
    "**a)**  $$ y^2z^3\\Delta x + 2xyz^3\\Delta y + 3xy^2z^2\\Delta z = 0$$"
   ]
  },
  {
   "cell_type": "markdown",
   "id": "4ecdb4f9-e46c-4450-8f1f-19a784e76a23",
   "metadata": {},
   "source": [
    "$$ 4(x-3) + 12(y-2) + 36(z-1) = 0 \\quad\\implies$$"
   ]
  },
  {
   "cell_type": "markdown",
   "id": "09d0d95e-b9dd-4c5a-886a-f1182e46e488",
   "metadata": {},
   "source": [
    "$$ x + 3y + 9z = 3+6+9 = 18$$"
   ]
  },
  {
   "cell_type": "markdown",
   "id": "fd402c5c-464f-48e1-89ab-22ae4fa5eccb",
   "metadata": {},
   "source": [
    "**b)**  $$ 2(x-1) + 8(y-1) + 18(z-1) = 0 \\quad\\implies$$"
   ]
  },
  {
   "cell_type": "markdown",
   "id": "306137ee-ab03-481c-99dc-a715f7123154",
   "metadata": {},
   "source": [
    "$$ x + 4y + 9z = 1 + 4 + 9 = 14$$"
   ]
  },
  {
   "cell_type": "markdown",
   "id": "1020bd13-02fc-4d1c-850c-14d651114ab7",
   "metadata": {},
   "source": [
    "**c)**"
   ]
  }
 ],
 "metadata": {
  "kernelspec": {
   "display_name": "Python 3 (ipykernel)",
   "language": "python",
   "name": "python3"
  },
  "language_info": {
   "codemirror_mode": {
    "name": "ipython",
    "version": 3
   },
   "file_extension": ".py",
   "mimetype": "text/x-python",
   "name": "python",
   "nbconvert_exporter": "python",
   "pygments_lexer": "ipython3",
   "version": "3.10.12"
  }
 },
 "nbformat": 4,
 "nbformat_minor": 5
}
