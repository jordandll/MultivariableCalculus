{
 "cells": [
  {
   "cell_type": "markdown",
   "id": "95e68664-d059-454e-8345-4c70649a72a8",
   "metadata": {},
   "source": [
    "# Total Differentials and the Chain Rule\n",
    "\n",
    "## Examples\n",
    "\n",
    "#### Example 1\n",
    "Find the total differential of $w = x^3yz + xy + z + 3$ at $(1, 2, 3)$."
   ]
  },
  {
   "cell_type": "markdown",
   "id": "1a06e7b9-5c6a-41ca-9324-bd84e544a9ac",
   "metadata": {},
   "source": [
    "The partial derivatives of $w$ are:  \n",
    "\n",
    "$$w_x = 3x^2yz + y \\quad\\quad w_y = x^3z + x \\quad\\quad w_z = x^3y + 1 $$"
   ]
  },
  {
   "cell_type": "markdown",
   "id": "701d5cc0-2e87-45f0-adde-02fbf920ebb5",
   "metadata": {},
   "source": [
    "$$ \\mathrm{d}w = 20\\mathrm{d}x + 4\\mathrm{d}y + 3\\mathrm{d}z$$"
   ]
  },
  {
   "cell_type": "markdown",
   "id": "ba0136d7-11a1-46bf-ae14-23795eda5fa3",
   "metadata": {},
   "source": [
    "#### Example 2\n",
    "Suppose $w = x^3yz + xy + z + 3 $and  \n",
    "\n",
    "$$ x := x(t) = 3 \\cos t \\quad\\quad y:=y(t) = 3 \\sin t \\quad\\quad z :=z(t) = 2t $$  \n",
    "\n",
    "Compute $\\displaystyle \\frac{\\mathrm{d}w}{\\mathrm{d}t}$ and evaluate it at $t = 0.5\\pi$."
   ]
  },
  {
   "cell_type": "markdown",
   "id": "22046cae-a105-45a5-8198-9e3d1cca3e81",
   "metadata": {},
   "source": [
    "Using the *chain rule*:  \n",
    "\n",
    "The first partial derivatives of $w$ are the same as [example 1](#Example-1), since the identity of $w$ is the same as said example.  Thus,  \n",
    "\n",
    "$$ \\mathrm{d}w = w_x\\mathrm{d}x + w_y\\mathrm{d}y + w_z\\mathrm{d}z$$"
   ]
  },
  {
   "cell_type": "markdown",
   "id": "fcf4552a-c4bf-413a-9936-724cd49a29ac",
   "metadata": {},
   "source": [
    "Dividing throughout the above equation by $\\mathrm{d}t$ and substituting $x$, $y$, and $z$ for their definition in terms of $t$ gives:  \n",
    "\n",
    "$$ w'(t) = w_x(t)x'(t) + w_y(t)y'(t) + w_z(t)z'(t)$$"
   ]
  },
  {
   "cell_type": "markdown",
   "id": "ac8af421-16d4-452f-b1eb-641cfa6b6156",
   "metadata": {},
   "source": [
    "$$ x'(t) = -3\\sin t \\quad\\quad y'(t) = 3\\cos t \\quad\\quad z'(t) = 2$$"
   ]
  },
  {
   "cell_type": "markdown",
   "id": "3465c640-1d20-48e4-8bdf-06ad739dbe2f",
   "metadata": {},
   "source": [
    "$$ w_x(t) = 6\\cdot 27t\\cos^2t\\sin t + 3\\sin t = 3\\sin t\\big(54t\\cos^2t + 1\\big)\\quad\\quad \\text{and}\\quad\\quad w_y(t) = 3\\cos t\\big(18t\\cos^2 t + 1\\big)$$"
   ]
  },
  {
   "cell_type": "markdown",
   "id": "91092751-cf9d-4131-a7c0-fc1c1017ca15",
   "metadata": {},
   "source": [
    "$$ w_z(t) = 81\\cos^3 t\\sin t + 1$$"
   ]
  },
  {
   "cell_type": "markdown",
   "id": "303b8e44-f593-4c4a-a5c8-578bb03b3460",
   "metadata": {},
   "source": [
    "$$ w_x(t) = y\\big(3x^2z + 1\\big) = 3\\sin t\\big(54 t \\cos^2 t + 1\\big)$$"
   ]
  },
  {
   "cell_type": "markdown",
   "id": "c688f5a9-d719-433a-8a31-9a5fd5096b15",
   "metadata": {},
   "source": [
    "$$w_y(t) = 2t\\cdot 27\\cos^3 t + 3\\cos t = 3\\cos t\\big(18t\\cos^2 t + 1\\big)$$"
   ]
  },
  {
   "cell_type": "markdown",
   "id": "e60ca9f5-0aa1-45ae-adb6-fcb57edcdd06",
   "metadata": {},
   "source": [
    "$$ w_z(t) = 81\\cos^3\\sin t + 1$$"
   ]
  },
  {
   "cell_type": "markdown",
   "id": "ce2f8078-2403-4869-9b0d-2d0f1cd711d9",
   "metadata": {},
   "source": [
    "Thus,  \n",
    "\n",
    "$$ w'(t) = 9\\cos^2t\\big(18t\\cos^2 t + 1\\big)-9\\sin^2t\\big(54t\\cos^2t + 1\\big) + 2\\big(81\\cos^3 t\\sin t + 1\\big)$$"
   ]
  },
  {
   "cell_type": "markdown",
   "id": "967be927-1d0e-4688-91a2-473935a92020",
   "metadata": {},
   "source": []
  },
  {
   "cell_type": "code",
   "execution_count": 1,
   "id": "19093c8c-bb7a-400c-9433-7e75ee68f62d",
   "metadata": {
    "tags": []
   },
   "outputs": [],
   "source": [
    "import numpy as np\n",
    "import sympy as sp"
   ]
  },
  {
   "cell_type": "code",
   "execution_count": 5,
   "id": "d72bebe2-bd41-467e-b2a7-99c2fb906bca",
   "metadata": {
    "tags": []
   },
   "outputs": [
    {
     "data": {
      "text/latex": [
       "$\\displaystyle 9 \\cdot \\left(18 t \\cos^{2}{\\left(t \\right)} + 1\\right) \\cos^{2}{\\left(t \\right)} - 9 \\cdot \\left(54 t \\cos^{2}{\\left(t \\right)} + 1\\right) \\sin^{2}{\\left(t \\right)} + 162 \\sin{\\left(t \\right)} \\cos^{3}{\\left(t \\right)} + 2$"
      ],
      "text/plain": [
       "9*(18*t*cos(t)**2 + 1)*cos(t)**2 - 9*(54*t*cos(t)**2 + 1)*sin(t)**2 + 162*sin(t)*cos(t)**3 + 2"
      ]
     },
     "execution_count": 5,
     "metadata": {},
     "output_type": "execute_result"
    }
   ],
   "source": [
    "t = sp.symbols('t')\n",
    "cos = sp.cos\n",
    "sin = sp.sin\n",
    "w_t = 9*cos(t)**2*(18*t*cos(t)**2 + 1) - 9*sin(t)**2*(54*t*cos(t)**2 + 1) + 2*(81*cos(t)**3*sin(t) + 1); w_t"
   ]
  },
  {
   "cell_type": "code",
   "execution_count": 6,
   "id": "a45012fb-a300-426f-a918-7e08c892100b",
   "metadata": {
    "tags": []
   },
   "outputs": [
    {
     "data": {
      "text/latex": [
       "$\\displaystyle - 486 t \\sin^{2}{\\left(t \\right)} \\cos^{2}{\\left(t \\right)} + 162 t \\cos^{4}{\\left(t \\right)} - 9 \\sin^{2}{\\left(t \\right)} + 162 \\sin{\\left(t \\right)} \\cos^{3}{\\left(t \\right)} + 9 \\cos^{2}{\\left(t \\right)} + 2$"
      ],
      "text/plain": [
       "-486*t*sin(t)**2*cos(t)**2 + 162*t*cos(t)**4 - 9*sin(t)**2 + 162*sin(t)*cos(t)**3 + 9*cos(t)**2 + 2"
      ]
     },
     "execution_count": 6,
     "metadata": {},
     "output_type": "execute_result"
    }
   ],
   "source": [
    "w_t.expand()"
   ]
  },
  {
   "cell_type": "code",
   "execution_count": 8,
   "id": "cba2cc40-6bc9-43e1-b5c9-2795c06f209d",
   "metadata": {
    "tags": []
   },
   "outputs": [
    {
     "data": {
      "text/latex": [
       "$\\displaystyle -7.0$"
      ],
      "text/plain": [
       "-7.00000000000000"
      ]
     },
     "execution_count": 8,
     "metadata": {},
     "output_type": "execute_result"
    }
   ],
   "source": [
    "w_t.subs(t,0.5*np.pi)"
   ]
  },
  {
   "cell_type": "markdown",
   "id": "9845dc48-f449-48de-b8f4-5b017e1f0076",
   "metadata": {},
   "source": [
    "$$ w'(0.5\\pi) = -9+2 = -7$$"
   ]
  },
  {
   "cell_type": "markdown",
   "id": "718acb24-1092-4c52-902c-021039df24d3",
   "metadata": {},
   "source": [
    "Without using the chain rule:  \n",
    "\n",
    "$$ w(t) = 162t\\cos^3 t\\sin t + 9 \\cos t\\sin t + 2t + 3$$"
   ]
  },
  {
   "cell_type": "markdown",
   "id": "7d7e87f5-4167-4637-8885-f6a3a5a3c4cc",
   "metadata": {},
   "source": [
    "$$ w'(t) = 162\\cos^3t\\sin t + 162t\\big(\\cos^4 t-3\\cos^2 t\\sin^2 t \\big) + 9\\cos^2 t - 9\\sin^2 t + 2$$"
   ]
  },
  {
   "cell_type": "code",
   "execution_count": 4,
   "id": "69b23dac-d64d-4239-927f-473e882b8173",
   "metadata": {
    "tags": []
   },
   "outputs": [
    {
     "data": {
      "text/latex": [
       "$\\displaystyle - 486 t \\sin^{2}{\\left(t \\right)} \\cos^{2}{\\left(t \\right)} + 162 t \\cos^{4}{\\left(t \\right)} - 9 \\sin^{2}{\\left(t \\right)} + 162 \\sin{\\left(t \\right)} \\cos^{3}{\\left(t \\right)} + 9 \\cos^{2}{\\left(t \\right)} + 2$"
      ],
      "text/plain": [
       "-486*t*sin(t)**2*cos(t)**2 + 162*t*cos(t)**4 - 9*sin(t)**2 + 162*sin(t)*cos(t)**3 + 9*cos(t)**2 + 2"
      ]
     },
     "execution_count": 4,
     "metadata": {},
     "output_type": "execute_result"
    }
   ],
   "source": [
    "w_t2 = 162*cos(t)**3*sin(t) + 162*t*(cos(t)**4-3*cos(t)**2*sin(t)**2)+9*cos(t)**2 - 9*sin(t)**2 + 2; w_t2.expand()"
   ]
  },
  {
   "cell_type": "markdown",
   "id": "78ba14e6-98aa-4213-9b7a-9bfb55d56851",
   "metadata": {},
   "source": [
    "#### Example 3\n",
    "Show how the tangent approximation formula leads to the chain rule that was used in\n",
    "the previous problem.  "
   ]
  },
  {
   "cell_type": "markdown",
   "id": "0c3e2409-3ffa-4c40-afe3-9c6828721cea",
   "metadata": {},
   "source": [
    "Let  \n",
    "\n",
    "$$ \\mathbf{a}:=(x_0,y_0,z_0) \\quad\\quad w_0 := w(\\mathbf{a}) \\quad\\quad \\Delta w := w - w_0 $$  \n",
    "\n",
    "$$ \\Delta x = x-x_0 \\quad\\quad \\Delta y = y-y_0 \\quad\\quad \\Delta z = z-z_0$$  "
   ]
  },
  {
   "cell_type": "markdown",
   "id": "fba9bddb-6941-4abf-a2df-7d4e11cab76d",
   "metadata": {},
   "source": [
    "The tangent (linear) approximation of $w$ at $\\mathbf{a}$ is:  \n",
    "\n",
    "$$ \\Delta w \\approxeq w_x(\\mathbf{a})\\Delta x + w_y(\\mathbf{a})\\Delta y + w_z(\\mathbf{a})\\Delta z \\quad \\text{for }\\Delta x,\\Delta y,\\Delta z \\approxeq 0$$"
   ]
  },
  {
   "cell_type": "markdown",
   "id": "370325fe-d91f-4dce-bc63-4ec127930388",
   "metadata": {},
   "source": [
    "Now let $\\mathbf{x}:=\\langle x,y,z\\rangle$ and $\\Delta\\mathbf{x} := \\mathbf{x} - \\mathbf{a}$.\n",
    "\n",
    "$$ \\lim_{\\Delta\\mathbf{x}\\to \\mathbf{0}} \\Delta w = w_x(\\mathbf{a})\\Delta x + w_y(\\mathbf{a})\\Delta y + w_z(\\mathbf{a})\\Delta z$$"
   ]
  },
  {
   "cell_type": "markdown",
   "id": "22283462-6234-4467-8f64-2f05de5c76a8",
   "metadata": {},
   "source": [
    "Of course, as $\\Delta\\mathbf{x}$ approaches $\\mathbf{0}$, $\\mathbf{x} = \\mathbf{a} + \\mathbf{\\mathrm{d}x}$, which means:  \n",
    "\n",
    "$$ \\lim_{\\Delta\\mathbf{x}\\to\\mathbf{0}}\\Delta w  = w(\\mathbf{a}+\\mathrm{d}\\mathbf{x}) - w(\\mathbf{a})= w_x(\\mathbf{a})\\mathrm{d}x + w_y(\\mathbf{a})\\mathrm{d}y + w_z(\\mathbf{a})\\mathrm{d}z$$"
   ]
  },
  {
   "cell_type": "markdown",
   "id": "78eb6933-b9c2-4995-bf52-0aa83ac624b5",
   "metadata": {},
   "source": [
    "Substituting $\\mathbf{a}$ for $\\mathbf{x}$ in the above equations gives:  \n",
    "\n",
    "$$ w(\\mathbf{x}+\\mathrm{d}\\mathbf{x}) - w = \\mathrm{d}w = w_x\\mathrm{d}x + w_y\\mathrm{d}y + w_z\\mathrm{d}z$$"
   ]
  },
  {
   "cell_type": "markdown",
   "id": "b0eef8d5-d55a-48dd-aa00-7fea884b50a1",
   "metadata": {},
   "source": [
    "## Problems \n",
    "\n",
    "#### Problem 1\n",
    "\n",
    "Find the total differential of $w = ze^{x+y}$ at $(0, 0, 1)$."
   ]
  },
  {
   "cell_type": "markdown",
   "id": "f00cc4d6-652d-4e19-a62a-0dbca07e9d14",
   "metadata": {},
   "source": [
    "$$ w_x = ze^{x+y} \\quad\\quad w_y = ze^{x+y} \\quad\\quad  w_z = e^{x+y}$$"
   ]
  },
  {
   "cell_type": "markdown",
   "id": "bf3436b5-9a46-4bcc-97e4-3fb2d01bb512",
   "metadata": {},
   "source": [
    "$$ \\mathrm{d}w = \\mathrm{d}x + \\mathrm{d}y + \\mathrm{d}z$$"
   ]
  },
  {
   "cell_type": "markdown",
   "id": "9656889f-f96d-49d3-8246-ba9925e6e07b",
   "metadata": {},
   "source": [
    "#### Problem 2\n",
    "Suppose $w = ze^{x+y}$ and $x = t$, $y = t^2$, $z = t^3$. Compute $\\displaystyle \\frac{\\mathrm{d}w}{\\mathrm{d}t}$ and evaluate it whent $t = 2$."
   ]
  },
  {
   "cell_type": "markdown",
   "id": "0edf9008-51dc-45fe-b72f-08d524bae4fd",
   "metadata": {},
   "source": [
    "$$ x = t \\quad\\quad y = t^2 \\quad\\quad z = t^3$$"
   ]
  },
  {
   "cell_type": "markdown",
   "id": "35e56a32-e29b-472b-84c1-894a9d7be944",
   "metadata": {},
   "source": [
    "$$ w_x(t) = t^3e^{t+t^2} \\quad\\quad w_y(t) = w_x(t) \\quad\\quad w_z(t) = e^{t+t^2}$$"
   ]
  },
  {
   "cell_type": "markdown",
   "id": "703ae418-ac05-4db6-9d0e-b1754ef54cc4",
   "metadata": {},
   "source": [
    "$$ w'(t) = w_x(t) + 2tw_y(t) + 3t^2w_z(t)$$"
   ]
  },
  {
   "cell_type": "markdown",
   "id": "286a1a5e-39b9-4100-9668-b588e0b567dd",
   "metadata": {},
   "source": [
    "$$ = e^{t+t^2}\\big(t^3 + 2t^4 + 3t^2\\big) = t^2e^{t+t^2}\\big(t + 2t^2 + 3\\big)$$"
   ]
  },
  {
   "cell_type": "markdown",
   "id": "cfe1a5cd-1893-4270-a83e-c6cf945fe578",
   "metadata": {},
   "source": [
    "$$ w(2) = 4e^{6}(13)$$"
   ]
  },
  {
   "cell_type": "code",
   "execution_count": 9,
   "id": "00f5422e-dd3a-48b6-9caf-c616ce8a85b7",
   "metadata": {
    "tags": []
   },
   "outputs": [
    {
     "data": {
      "text/plain": [
       "20978.29726162222"
      ]
     },
     "execution_count": 9,
     "metadata": {},
     "output_type": "execute_result"
    }
   ],
   "source": [
    "4*13*np.e**6"
   ]
  },
  {
   "cell_type": "code",
   "execution_count": 11,
   "id": "026dc1a6-05e7-4898-926f-65db66604fda",
   "metadata": {
    "tags": []
   },
   "outputs": [
    {
     "data": {
      "text/plain": [
       "52"
      ]
     },
     "execution_count": 11,
     "metadata": {},
     "output_type": "execute_result"
    }
   ],
   "source": [
    "4*13"
   ]
  },
  {
   "cell_type": "markdown",
   "id": "5a41b121-c959-4341-b87a-6e4b3afe55aa",
   "metadata": {},
   "source": [
    "## Applications\n",
    "Herein are some hypothetical applications of total derivatives and the chain rule for multivariable functions.  "
   ]
  },
  {
   "cell_type": "markdown",
   "id": "80750042-0834-4e4f-9666-d5c4fc460c5e",
   "metadata": {},
   "source": [
    "#### Application 1  \n",
    "\n",
    "The temperature on a hot surface is given by  \n",
    "\n",
    "$$ T = 100e^{-(x^2+y^2)}$$\n",
    "\n",
    "A bug follows the trajectory $\\mathbf{r}(t) = \\langle t \\cos 2t, t \\sin 2t\\rangle$.  "
   ]
  },
  {
   "cell_type": "markdown",
   "id": "21558b55-e80d-49f9-b999-c6747fe4c5a9",
   "metadata": {},
   "source": [
    "**a)** What is the rate that temperature is changing as the bug moves?  "
   ]
  },
  {
   "cell_type": "markdown",
   "id": "6e37c31e-cf1b-4b2d-94f8-d629ab3f51e1",
   "metadata": {},
   "source": [
    "The task is to find $T'(t)$.  The first partial derivatives of $T$ with respect to $x$ and $y$ are:  \n",
    "\n",
    "$$ T_x = -200xe^{-(x^2+y^2)} \\quad\\quad \\text{and}\\quad\\quad T_y = -200ye^{-(x^2+y^2)}$$"
   ]
  },
  {
   "cell_type": "markdown",
   "id": "273432cd-49df-4758-ad52-bbc25fbad964",
   "metadata": {},
   "source": [
    "The total derivative of $T$ is:  \n",
    "\n",
    "$$ \\mathrm{d}T = T_x\\mathrm{d}x + T_y \\mathrm{d}y$$"
   ]
  },
  {
   "cell_type": "markdown",
   "id": "5aef3819-b8ba-46f8-88f3-0b11cb1b75d1",
   "metadata": {},
   "source": [
    "Dividing throughout the above equation by $\\mathrm{d}t$ gives:  \n",
    "\n",
    "$$ T'(t) = T_xx'(t) + T_yy'(t)$$"
   ]
  },
  {
   "cell_type": "markdown",
   "id": "cc6cbe6d-bec6-4ac3-866c-25a62adf0fea",
   "metadata": {},
   "source": [
    "$$ x'(t) = \\cos 2t - 2t\\sin 2t \\quad\\quad\\text{and}\\quad\\quad y'(t) = \\sin 2t + 2t\\cos 2t$$"
   ]
  },
  {
   "cell_type": "markdown",
   "id": "8ecb309c-68bf-4e8a-bd80-18bff9fdbfbf",
   "metadata": {},
   "source": [
    "The partial derivatives of $T$ in terms of $t$ or as a function of $t$ are:  \n",
    "\n",
    "$$ T_x = -200t\\cos 2t e^{-t^2} \\quad\\quad \\text{and}\\quad\\quad T_y = -200t\\sin2te^{-t^2}$$"
   ]
  },
  {
   "cell_type": "markdown",
   "id": "9760d808-86a3-41ee-8c98-c4a4077d3b99",
   "metadata": {},
   "source": [
    "$$ T'(t) = -200te^{-t^2}\\big(\\cos2t(\\cos2t - 2t\\sin2t) + \\sin2t(\\sin2t+2t\\cos2t)\\big)$$"
   ]
  },
  {
   "cell_type": "markdown",
   "id": "5528d9e7-f879-4af6-bf43-7731ab88d292",
   "metadata": {},
   "source": [
    "Finally,  \n",
    "\n",
    "$$ T'(t) = -200te^{-t^2}$$"
   ]
  },
  {
   "cell_type": "code",
   "execution_count": 12,
   "id": "6d39ae6f-1a8c-49a9-adab-f48831097bd2",
   "metadata": {
    "tags": []
   },
   "outputs": [],
   "source": [
    "import matplotlib.pyplot as plt"
   ]
  },
  {
   "cell_type": "code",
   "execution_count": 15,
   "id": "adcb1908-fad1-4702-aef6-f157779b0c89",
   "metadata": {
    "tags": []
   },
   "outputs": [
    {
     "data": {
      "text/plain": [
       "<matplotlib.legend.Legend at 0x7fbb570e5990>"
      ]
     },
     "execution_count": 15,
     "metadata": {},
     "output_type": "execute_result"
    },
    {
     "data": {
      "image/png": "[encoded data removed]",
      "text/plain": [
       "<Figure size 640x480 with 1 Axes>"
      ]
     },
     "metadata": {},
     "output_type": "display_data"
    }
   ],
   "source": [
    "t = np.linspace(0,5,num=200)\n",
    "T = 100*np.e**(-t**2)\n",
    "dT_dt = -200*t*np.e**(-t**2)\n",
    "\n",
    "fig, ax = plt.subplots()\n",
    "ax.set_title('Temperature of Bug', size=13)\n",
    "ax.set_xlabel(r'time ($t$)')\n",
    "ax.set_ylabel(r'temperature ($T$)')\n",
    "ax.grid()\n",
    "\n",
    "ax.plot(t,T,label=r'$T(t)$')\n",
    "ax.plot(t,dT_dt,label=r'$T\\'(t)$')\n",
    "ax.legend()"
   ]
  },
  {
   "cell_type": "markdown",
   "id": "ef77a026-b7ae-441b-a7b0-dcc4a7f1e86b",
   "metadata": {},
   "source": [
    "**b)** Draw the level curves of $T$ and sketch the bug’s trajectory."
   ]
  },
  {
   "cell_type": "markdown",
   "id": "13ff761d-b4df-4ead-98d7-e8be1d150e7a",
   "metadata": {},
   "source": [
    "Using the `axes.contour` method provided by `matplotlib`."
   ]
  },
  {
   "cell_type": "code",
   "execution_count": 18,
   "id": "145e26f5-9bbc-4334-b7f0-961f5a59f6e6",
   "metadata": {
    "jupyter": {
     "source_hidden": true
    },
    "tags": []
   },
   "outputs": [
    {
     "data": {
      "text/plain": [
       "<matplotlib.legend.Legend at 0x7fbb58299c00>"
      ]
     },
     "execution_count": 18,
     "metadata": {},
     "output_type": "execute_result"
    },
    {
     "data": {
      "image/png": "[encoded data removed]",
      "text/plain": [
       "<Figure size 640x480 with 2 Axes>"
      ]
     },
     "metadata": {},
     "output_type": "display_data"
    }
   ],
   "source": [
    "x = np.linspace(-5,5,num=50)\n",
    "X, Y = np.meshgrid(x,x)\n",
    "\n",
    "T = 100*np.e**(-(X**2+Y**2))\n",
    "\n",
    "fig, ax = plt.subplots()\n",
    "ax.set_title('Surface Temperature',size=13)\n",
    "ax.set_xlabel('x-axis')\n",
    "ax.set_ylabel('y-axis')\n",
    "\n",
    "cs = ax.contourf(X,Y,T,levels=12)\n",
    "cb = fig.colorbar(cs)\n",
    "B = ax.plot(t*np.cos(2*t),t*np.sin(2*t),label=r'$\\mathbf{r}(t)$',color='r')\n",
    "ax.legend()"
   ]
  },
  {
   "cell_type": "markdown",
   "id": "ff77c850-8c62-4c79-9324-b39215db9af6",
   "metadata": {},
   "source": [
    "*Without* using the aforementioned method:  \n",
    "\n",
    "$$ \\log T - \\log 100 = -x^2 - y^2 \\quad\\implies\\quad y^2 = \\log 100 - \\log T - x^2 $$"
   ]
  },
  {
   "cell_type": "markdown",
   "id": "066be688-4ebc-4c7c-9f3c-487f6039943d",
   "metadata": {},
   "source": [
    "$$ \\implies\\quad y = \\pm \\sqrt{\\log\\frac{100}{T} - x^2}$$"
   ]
  },
  {
   "cell_type": "markdown",
   "id": "e50cdb54-17f8-4d7b-9f13-03cf49e49548",
   "metadata": {},
   "source": [
    "Each level curve at a level of $T$ is a circle with a radius of:  \n",
    "\n",
    "$$ a = \\sqrt{\\log\\frac{100}{T}}$$"
   ]
  },
  {
   "cell_type": "markdown",
   "id": "33ed0bb3-d57b-4d2c-9957-30982b3b12a6",
   "metadata": {},
   "source": [
    "#### Application 2\n",
    "Suppose $w = f (x, y)$ and $x = t^2$, $y = t^3$. Suppose also that at $(x, y) = (1, 1)$ we have\n",
    " $\\displaystyle \\frac{\\partial w}{\\partial x} = 3$ and $\\displaystyle \\frac{\\partial w}{\\partial y}=1$.  Compute $\\displaystyle \\frac{\\mathrm{d}w}{\\mathrm{d}t}$ at $t=1$."
   ]
  },
  {
   "cell_type": "markdown",
   "id": "cdf23867-1b9a-46b8-9bf3-bd539ba5e420",
   "metadata": {},
   "source": [
    "Let $\\mathbf{a}:=\\langle 1,1\\rangle$.  \n",
    "\n",
    "$$ w_x(\\mathbf{a}) = 3 \\quad\\quad\\text{and}\\quad\\quad w_y(\\mathbf{a}) = 1$$"
   ]
  },
  {
   "cell_type": "markdown",
   "id": "caad2a2c-5d1f-4891-8c83-5be9610b1284",
   "metadata": {},
   "source": [
    "$$ x'(t) = 2t \\quad\\quad \\text{and}\\quad\\quad y'(t) = 3t^2$$"
   ]
  },
  {
   "cell_type": "markdown",
   "id": "771ee262-ad21-4178-9af1-c75cb733ca68",
   "metadata": {},
   "source": [
    "$$ x'(1) = 2 \\quad\\quad\\text{and}\\quad\\quad y'(1) = 3$$"
   ]
  },
  {
   "cell_type": "markdown",
   "id": "65460a0f-b488-46d3-b573-d2b0d4c22f9d",
   "metadata": {},
   "source": [
    "$$ w'(1) = 6 + 3 = 9$$"
   ]
  }
 ],
 "metadata": {
  "kernelspec": {
   "display_name": "Python 3 (ipykernel)",
   "language": "python",
   "name": "python3"
  },
  "language_info": {
   "codemirror_mode": {
    "name": "ipython",
    "version": 3
   },
   "file_extension": ".py",
   "mimetype": "text/x-python",
   "name": "python",
   "nbconvert_exporter": "python",
   "pygments_lexer": "ipython3",
   "version": "3.10.12"
  }
 },
 "nbformat": 4,
 "nbformat_minor": 5
}
