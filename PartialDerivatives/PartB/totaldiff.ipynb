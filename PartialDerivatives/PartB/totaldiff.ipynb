{
 "cells": [
  {
   "cell_type": "markdown",
   "id": "95e68664-d059-454e-8345-4c70649a72a8",
   "metadata": {},
   "source": [
    "# Total Differentials and the Chain Rule\n",
    "\n",
    "## Examples\n",
    "\n",
    "#### Example 1\n",
    "Find the total differential of $w = x^3yz + xy + z + 3$ at $(1, 2, 3)$."
   ]
  },
  {
   "cell_type": "markdown",
   "id": "1a06e7b9-5c6a-41ca-9324-bd84e544a9ac",
   "metadata": {},
   "source": [
    "The partial derivatives of $w$ are:  \n",
    "\n",
    "$$w_x = 3x^2yz + y \\quad\\quad w_y = x^3z + x \\quad\\quad w_z = x^3y + 1 $$"
   ]
  },
  {
   "cell_type": "markdown",
   "id": "701d5cc0-2e87-45f0-adde-02fbf920ebb5",
   "metadata": {},
   "source": [
    "$$ \\mathrm{d}w = 20\\mathrm{d}x + 4\\mathrm{d}y + 3\\mathrm{d}z$$"
   ]
  },
  {
   "cell_type": "markdown",
   "id": "ba0136d7-11a1-46bf-ae14-23795eda5fa3",
   "metadata": {},
   "source": [
    "#### Example 2\n",
    "Suppose $w = x^3yz + xy + z + 3 $and  \n",
    "\n",
    "$$ x := x(t) = 3 \\cos t \\quad\\quad y:=y(t) = 3 \\sin t \\quad\\quad z :=z(t) = 2t $$  \n",
    "\n",
    "Compute $\\displaystyle \\frac{\\mathrm{d}w}{\\mathrm{d}t}$ and evaluate it at $t = 0.5\\pi$."
   ]
  },
  {
   "cell_type": "markdown",
   "id": "22046cae-a105-45a5-8198-9e3d1cca3e81",
   "metadata": {},
   "source": [
    "Using the *chain rule*:  \n",
    "\n",
    "The first partial derivatives of $w$ are the same as [example 1](#Example-1), since the identity of $w$ is the same as said example.  Thus,  \n",
    "\n",
    "$$ \\mathrm{d}w = w_x\\mathrm{d}x + w_y\\mathrm{d}y + w_z\\mathrm{d}z$$"
   ]
  },
  {
   "cell_type": "markdown",
   "id": "fcf4552a-c4bf-413a-9936-724cd49a29ac",
   "metadata": {},
   "source": [
    "Dividing throughout the above equation by $\\mathrm{d}t$ and substituting $x$, $y$, and $z$ for their definition in terms of $t$ gives:  \n",
    "\n",
    "$$ w'(t) = w_x(t)x'(t) + w_y(t)y'(t) + w_z(t)z'(t)$$"
   ]
  },
  {
   "cell_type": "markdown",
   "id": "ac8af421-16d4-452f-b1eb-641cfa6b6156",
   "metadata": {},
   "source": [
    "$$ x'(t) = -3\\sin t \\quad\\quad y'(t) = 3\\cos t \\quad\\quad z'(t) = 2$$"
   ]
  },
  {
   "cell_type": "markdown",
   "id": "3465c640-1d20-48e4-8bdf-06ad739dbe2f",
   "metadata": {},
   "source": [
    "$$ w_x(t) = 6\\cdot 27t\\cos^2t\\sin t + 3\\sin t = 3\\sin t\\big(54t\\cos^2t + 1\\big)\\quad\\quad \\text{and}\\quad\\quad w_y(t) = 3\\cos t\\big(18t\\cos^2 t + 1\\big)$$"
   ]
  },
  {
   "cell_type": "markdown",
   "id": "91092751-cf9d-4131-a7c0-fc1c1017ca15",
   "metadata": {},
   "source": [
    "$$ w_z(t) = 81\\cos^3 t\\sin t + 1$$"
   ]
  },
  {
   "cell_type": "markdown",
   "id": "303b8e44-f593-4c4a-a5c8-578bb03b3460",
   "metadata": {},
   "source": [
    "$$ w_x(t) = y\\big(3x^2z + 1\\big) = 3\\sin t\\big(54 t \\cos^2 t + 1\\big)$$"
   ]
  },
  {
   "cell_type": "markdown",
   "id": "c688f5a9-d719-433a-8a31-9a5fd5096b15",
   "metadata": {},
   "source": [
    "$$w_y(t) = 2t\\cdot 27\\cos^3 t + 3\\cos t = 3\\cos t\\big(18t\\cos^2 t + 1\\big)$$"
   ]
  },
  {
   "cell_type": "markdown",
   "id": "e60ca9f5-0aa1-45ae-adb6-fcb57edcdd06",
   "metadata": {},
   "source": [
    "$$ w_z(t) = 81\\cos^3\\sin t + 1$$"
   ]
  },
  {
   "cell_type": "markdown",
   "id": "ce2f8078-2403-4869-9b0d-2d0f1cd711d9",
   "metadata": {},
   "source": [
    "Thus,  \n",
    "\n",
    "$$ w'(t) = 9\\cos^2t\\big(18t\\cos^2 t + 1\\big)-9\\sin^2t\\big(54t\\cos^2t + 1\\big) + 2\\big(81\\cos^3 t\\sin t + 1\\big)$$"
   ]
  },
  {
   "cell_type": "markdown",
   "id": "967be927-1d0e-4688-91a2-473935a92020",
   "metadata": {},
   "source": []
  },
  {
   "cell_type": "code",
   "execution_count": 1,
   "id": "19093c8c-bb7a-400c-9433-7e75ee68f62d",
   "metadata": {
    "tags": []
   },
   "outputs": [],
   "source": [
    "import numpy as np\n",
    "import sympy as sp"
   ]
  },
  {
   "cell_type": "code",
   "execution_count": 5,
   "id": "d72bebe2-bd41-467e-b2a7-99c2fb906bca",
   "metadata": {
    "tags": []
   },
   "outputs": [
    {
     "data": {
      "text/latex": [
       "$\\displaystyle 9 \\cdot \\left(18 t \\cos^{2}{\\left(t \\right)} + 1\\right) \\cos^{2}{\\left(t \\right)} - 9 \\cdot \\left(54 t \\cos^{2}{\\left(t \\right)} + 1\\right) \\sin^{2}{\\left(t \\right)} + 162 \\sin{\\left(t \\right)} \\cos^{3}{\\left(t \\right)} + 2$"
      ],
      "text/plain": [
       "9*(18*t*cos(t)**2 + 1)*cos(t)**2 - 9*(54*t*cos(t)**2 + 1)*sin(t)**2 + 162*sin(t)*cos(t)**3 + 2"
      ]
     },
     "execution_count": 5,
     "metadata": {},
     "output_type": "execute_result"
    }
   ],
   "source": [
    "t = sp.symbols('t')\n",
    "cos = sp.cos\n",
    "sin = sp.sin\n",
    "w_t = 9*cos(t)**2*(18*t*cos(t)**2 + 1) - 9*sin(t)**2*(54*t*cos(t)**2 + 1) + 2*(81*cos(t)**3*sin(t) + 1); w_t"
   ]
  },
  {
   "cell_type": "code",
   "execution_count": 6,
   "id": "a45012fb-a300-426f-a918-7e08c892100b",
   "metadata": {
    "tags": []
   },
   "outputs": [
    {
     "data": {
      "text/latex": [
       "$\\displaystyle - 486 t \\sin^{2}{\\left(t \\right)} \\cos^{2}{\\left(t \\right)} + 162 t \\cos^{4}{\\left(t \\right)} - 9 \\sin^{2}{\\left(t \\right)} + 162 \\sin{\\left(t \\right)} \\cos^{3}{\\left(t \\right)} + 9 \\cos^{2}{\\left(t \\right)} + 2$"
      ],
      "text/plain": [
       "-486*t*sin(t)**2*cos(t)**2 + 162*t*cos(t)**4 - 9*sin(t)**2 + 162*sin(t)*cos(t)**3 + 9*cos(t)**2 + 2"
      ]
     },
     "execution_count": 6,
     "metadata": {},
     "output_type": "execute_result"
    }
   ],
   "source": [
    "w_t.expand()"
   ]
  },
  {
   "cell_type": "code",
   "execution_count": 8,
   "id": "cba2cc40-6bc9-43e1-b5c9-2795c06f209d",
   "metadata": {
    "tags": []
   },
   "outputs": [
    {
     "data": {
      "text/latex": [
       "$\\displaystyle -7.0$"
      ],
      "text/plain": [
       "-7.00000000000000"
      ]
     },
     "execution_count": 8,
     "metadata": {},
     "output_type": "execute_result"
    }
   ],
   "source": [
    "w_t.subs(t,0.5*np.pi)"
   ]
  },
  {
   "cell_type": "markdown",
   "id": "9845dc48-f449-48de-b8f4-5b017e1f0076",
   "metadata": {},
   "source": [
    "$$ w'(0.5\\pi) = -9+2 = -7$$"
   ]
  },
  {
   "cell_type": "markdown",
   "id": "718acb24-1092-4c52-902c-021039df24d3",
   "metadata": {},
   "source": [
    "Without using the chain rule:  \n",
    "\n",
    "$$ w(t) = 162t\\cos^3 t\\sin t + 9 \\cos t\\sin t + 2t + 3$$"
   ]
  },
  {
   "cell_type": "markdown",
   "id": "7d7e87f5-4167-4637-8885-f6a3a5a3c4cc",
   "metadata": {},
   "source": [
    "$$ w'(t) = 162\\cos^3t\\sin t + 162t\\big(\\cos^4 t-3\\cos^2 t\\sin^2 t \\big) + 9\\cos^2 t - 9\\sin^2 t + 2$$"
   ]
  },
  {
   "cell_type": "code",
   "execution_count": 4,
   "id": "69b23dac-d64d-4239-927f-473e882b8173",
   "metadata": {
    "tags": []
   },
   "outputs": [
    {
     "data": {
      "text/latex": [
       "$\\displaystyle - 486 t \\sin^{2}{\\left(t \\right)} \\cos^{2}{\\left(t \\right)} + 162 t \\cos^{4}{\\left(t \\right)} - 9 \\sin^{2}{\\left(t \\right)} + 162 \\sin{\\left(t \\right)} \\cos^{3}{\\left(t \\right)} + 9 \\cos^{2}{\\left(t \\right)} + 2$"
      ],
      "text/plain": [
       "-486*t*sin(t)**2*cos(t)**2 + 162*t*cos(t)**4 - 9*sin(t)**2 + 162*sin(t)*cos(t)**3 + 9*cos(t)**2 + 2"
      ]
     },
     "execution_count": 4,
     "metadata": {},
     "output_type": "execute_result"
    }
   ],
   "source": [
    "w_t2 = 162*cos(t)**3*sin(t) + 162*t*(cos(t)**4-3*cos(t)**2*sin(t)**2)+9*cos(t)**2 - 9*sin(t)**2 + 2; w_t2.expand()"
   ]
  },
  {
   "cell_type": "markdown",
   "id": "78ba14e6-98aa-4213-9b7a-9bfb55d56851",
   "metadata": {},
   "source": [
    "#### Example 3\n",
    "Show how the tangent approximation formula leads to the chain rule that was used in\n",
    "the previous problem.  "
   ]
  },
  {
   "cell_type": "markdown",
   "id": "0c3e2409-3ffa-4c40-afe3-9c6828721cea",
   "metadata": {},
   "source": [
    "Let  \n",
    "\n",
    "$$ \\mathbf{a}:=(x_0,y_0,z_0) \\quad\\quad w_0 := w(\\mathbf{a}) \\quad\\quad \\Delta w := w - w_0 $$  \n",
    "\n",
    "$$ \\Delta x = x-x_0 \\quad\\quad \\Delta y = y-y_0 \\quad\\quad \\Delta z = z-z_0$$  "
   ]
  },
  {
   "cell_type": "markdown",
   "id": "fba9bddb-6941-4abf-a2df-7d4e11cab76d",
   "metadata": {},
   "source": [
    "The tangent (linear) approximation of $w$ at $\\mathbf{a}$ is:  \n",
    "\n",
    "$$ \\Delta w \\approxeq w_x(\\mathbf{a})\\Delta x + w_y(\\mathbf{a})\\Delta y + w_z(\\mathbf{a})\\Delta z \\quad \\text{for }\\Delta x,\\Delta y,\\Delta z \\approxeq 0$$"
   ]
  },
  {
   "cell_type": "markdown",
   "id": "370325fe-d91f-4dce-bc63-4ec127930388",
   "metadata": {},
   "source": [
    "Now let $\\mathbf{x}:=\\langle x,y,z\\rangle$ and $\\Delta\\mathbf{x} := \\mathbf{x} - \\mathbf{a}$.\n",
    "\n",
    "$$ \\lim_{\\mathbf{\\Delta x}\\to \\mathbf{0}} \\Delta w = w_x(\\mathbf{a})\\Delta x + w_y(\\mathbf{a})\\Delta y + w_z(\\mathbf{a})\\Delta z$$"
   ]
  },
  {
   "cell_type": "markdown",
   "id": "22283462-6234-4467-8f64-2f05de5c76a8",
   "metadata": {},
   "source": [
    "Of course, as $\\Delta\\mathbf{x}$ approaches $\\mathbf{0}$, $\\mathbf{x} = \\mathbf{a} + \\mathbf{\\mathrm{d}x}$, which means:  \n",
    "\n",
    "$$ \\lim_{\\Delta\\mathbf{x}\\to\\mathbf{0}}\\Delta w  = w(\\mathbf{a}+\\mathrm{d}\\mathbf{x}) - w(\\mathbf{a})= w_x(\\mathbf{a})\\mathrm{d}x + w_y(\\mathbf{a})\\mathrm{d}y + w_z(\\mathbf{a})\\mathrm{d}z$$"
   ]
  },
  {
   "cell_type": "markdown",
   "id": "78eb6933-b9c2-4995-bf52-0aa83ac624b5",
   "metadata": {},
   "source": [
    "Substituting $\\mathbf{a}$ for $\\mathbf{x}$ in the above equations gives:  \n",
    "\n",
    "$$ w(\\mathbf{x}+\\mathrm{d}\\mathbf{x}) - w = \\mathrm{d}w = w_x\\mathrm{d}x + w_y\\mathrm{d}y + w_z\\mathrm{d}z$$"
   ]
  }
 ],
 "metadata": {
  "kernelspec": {
   "display_name": "Python 3 (ipykernel)",
   "language": "python",
   "name": "python3"
  },
  "language_info": {
   "codemirror_mode": {
    "name": "ipython",
    "version": 3
   },
   "file_extension": ".py",
   "mimetype": "text/x-python",
   "name": "python",
   "nbconvert_exporter": "python",
   "pygments_lexer": "ipython3",
   "version": "3.10.12"
  }
 },
 "nbformat": 4,
 "nbformat_minor": 5
}
