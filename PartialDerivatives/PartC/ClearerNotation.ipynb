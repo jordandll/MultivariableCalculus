{
 "cells": [
  {
   "cell_type": "markdown",
   "id": "6ed07800-83a7-409c-86ce-c9b016331b3a",
   "metadata": {},
   "source": [
    "# Clearer Notation\n",
    "\n",
    "## Abstract Partial Differentiation  \n",
    "\n",
    "Often in applications, the function $w$ is not given explicitly, nor are the equations con\n",
    "necting the variables. Thus you need to be able to work with functions and equations just\n",
    "given abstractly. The previous ideas work perfectly well, as we will illustrate. However, we\n",
    "will need (as in section 2) to distinguish between  \n",
    "\n",
    "*formal* partial derivatives, written here $f_x, f_y, \\dotsc$ (calculated as if all the variables were independent), and  \n",
    "\n",
    "*actual* partial derivatives, written $\\displaystyle \\frac{\\partial f }{ \\partial x}, \\frac{\\partial f}{\\partial y}, \\dotsc$, which take account of any relations between the variables.  \n",
    "\n",
    "#### Example 5\n",
    "If $f(x,y,z) = xy^2z^4$, where $z=2x+3y$, the three formal partial derivatives are  "
   ]
  },
  {
   "cell_type": "markdown",
   "id": "263d0e1c-46f2-43e3-a15f-acd3d10ba251",
   "metadata": {},
   "source": [
    "$$ f_x = y^2z^4 \\quad\\quad f_y = 2xyz^4 \\quad\\quad f_z = 4xy^2z^3$$"
   ]
  },
  {
   "cell_type": "markdown",
   "id": "d4dcf467-882f-4d87-8eae-4fbae315a8fd",
   "metadata": {},
   "source": [
    "And, three of the many possible actual partial derivatives are:  \n",
    "\n",
    "\\begin{equation}\\tag{5.1}\n",
    "    \\left(\\frac{\\partial f}{\\partial x}\\right)_y = y^2z^4 + 4xy^2z^3\\,\\left(\\frac{\\partial z}{\\partial x}\\right)_y = f_x + f_z\\,\\left(\\frac{\\partial z}{\\partial x}\\right)_y = f_x + 2f_z\n",
    "\\end{equation}"
   ]
  },
  {
   "cell_type": "markdown",
   "id": "101e2d2d-0cb6-4781-b308-cedc7c1eea81",
   "metadata": {},
   "source": [
    "\\begin{equation}\\tag{5.2}\n",
    "    \\left(\\frac{\\partial f}{\\partial y}\\right)_x = 2yxz^4 + 4xy^2z^3\\,\\left(\\frac{\\partial z}{\\partial y}\\right)_x = f_y + 3f_z\n",
    "\\end{equation}"
   ]
  },
  {
   "cell_type": "markdown",
   "id": "acca63ea-66cc-462b-b024-ba3c0167399e",
   "metadata": {},
   "source": [
    "\\begin{equation}\\tag{5.3}\n",
    "    \\left(\\frac{\\partial f}{\\partial z}\\right)_x = f_z + f_y\\,\\left(\\frac{\\partial y}{\\partial z}\\right)_x = f_z + \\frac{f_y}{3}\n",
    "\\end{equation}"
   ]
  },
  {
   "cell_type": "markdown",
   "id": "1856f8c1-f541-4749-9727-c617207e9730",
   "metadata": {},
   "source": [
    "Note that there is another way to find the actual partial derivatives.  This way does not make reference to the definition of any function invoked therein.  Let  \n",
    "\n",
    "$$ g(x,y,z) := 2x + 3y - z = 0$$"
   ]
  },
  {
   "cell_type": "markdown",
   "id": "f06de73e-042d-4a5c-9587-6f4e268ac974",
   "metadata": {},
   "source": [
    "The function $f(x,y,z)$ is constrained by the above equation.  \n",
    "\n",
    "$$ \\nabla g = \\langle g_x,g_y,g_z\\rangle = \\langle 2, 3, -1\\rangle $$"
   ]
  },
  {
   "cell_type": "markdown",
   "id": "fe66e647-1d81-44b4-ab8b-1739c8f0ea35",
   "metadata": {},
   "source": [
    "\\begin{equation}\\tag{1}\n",
    "    \\mathrm{d}g = 2\\mathrm{d}x + 3\\mathrm{d}y - \\mathrm{d}z = \\nabla g \\cdot \\mathrm{d}\\mathbf{x} = 0 \\quad\\quad\\text{where }\\mathrm{d}\\mathbf{x} = \\langle \\mathrm{d}x, \\mathrm{d}y, \\mathrm{d}z\\rangle\n",
    "\\end{equation}"
   ]
  },
  {
   "cell_type": "markdown",
   "id": "c7fdc471-7965-4258-ad86-67ac7b97b4a2",
   "metadata": {},
   "source": [
    "\\begin{equation}\\tag{2}\n",
    "    \\mathrm{d}f = \\nabla f\\cdot\\mathrm{d}\\mathbf{x}\n",
    "\\end{equation}"
   ]
  },
  {
   "cell_type": "markdown",
   "id": "81c21879-3c46-4edd-8778-39fd853e8c28",
   "metadata": {},
   "source": [
    "Now, suppose, with $y$ and $x$ as the independent variables, we want to find the actual partial derivative of $f$ with respect to $x$.  To do this, we shall use the substitution method.  Via equation (1),  \n",
    "\n",
    "$$ g_z\\mathrm{d}z = g_x\\mathrm{d}x + g_y\\mathrm{d}y \\quad\\implies\\quad \\mathrm{d}z = \\frac{g_x}{g_z}\\,\\mathrm{d}x + \\frac{g_y}{g_z}\\,\\mathrm{d}y = \\left(\\frac{\\partial z}{\\partial x}\\right)_y\\mathrm{d}x + \\left(\\frac{\\partial z}{\\partial y}\\right)_x\\mathrm{d}y$$"
   ]
  },
  {
   "cell_type": "markdown",
   "id": "2f0c0397-3eef-4e75-9010-6e7ed9a48e74",
   "metadata": {},
   "source": [
    "Via the above equation and equation (2) and substitution,  \n",
    "\n",
    "$$ \\mathrm{d}f = f_x\\mathrm{d}x + f_y\\mathrm{d}y + \\frac{f_z}{g_z}\\,(g_x\\mathrm{d}x + g_y\\mathrm{d}y)$$"
   ]
  },
  {
   "cell_type": "markdown",
   "id": "04b7a2d6-574d-4666-aee9-c83a6c914f94",
   "metadata": {},
   "source": [
    "$$ = \\left(f_x + f_z\\,\\frac{g_x}{g_z}\\right)\\mathrm{d}x + \\left(f_y + f_z\\,\\frac{g_y}{g_z}\\right)\\mathrm{d}y$$"
   ]
  },
  {
   "cell_type": "markdown",
   "id": "78176067-9f33-44fa-a87b-fe0350a454c7",
   "metadata": {},
   "source": [
    "Thus,  \n",
    "\n",
    "\\begin{equation}\\tag{5.3}\n",
    "    \\left(\\frac{\\partial f}{\\partial x}\\right)_y = f_x + f_z\\,\\left(\\frac{\\partial z}{\\partial x}\\right)_y \\quad\\quad\\text{and}\\quad\\quad \\left(\\frac{\\partial f}{\\partial y}\\right)_x = f_y + f_z\\,\\left(\\frac{\\partial z}{\\partial y}\\right)_x\n",
    "\\end{equation}"
   ]
  },
  {
   "cell_type": "markdown",
   "id": "91da4935-76d9-47a8-a2ba-9b6f261f7079",
   "metadata": {},
   "source": [
    "The above is consistent with equations (5.1) and (5.2)."
   ]
  },
  {
   "cell_type": "markdown",
   "id": "4b38f1df-1b4c-45ee-8108-9c925864ffa8",
   "metadata": {},
   "source": [
    "Now, let's find the partial derivative of $f$ with respect to $y$, with $y$ and $z$ being the independent variables.  Via equation (1),  \n",
    "\n",
    "$$ \\mathrm{d}x = \\frac{g_z}{g_x}\\mathrm{d}z - \\frac{g_y}{g_x}\\mathrm{d}y = \\left(\\frac{\\partial x}{\\partial z}\\right)_y\\mathrm{d}z + \\left(\\frac{\\partial x}{\\partial y}\\right)_z\\mathrm{d}y$$"
   ]
  },
  {
   "cell_type": "markdown",
   "id": "c38c2bac-a50a-42bd-83c0-8e5af4dd94eb",
   "metadata": {},
   "source": [
    "$$ \\mathrm{d}f = \\frac{f_x}{g_x}(g_z\\mathrm{d}z - g_y\\mathrm{d}y)+ f_y\\mathrm{d}y + f_z\\mathrm{d}z$$"
   ]
  },
  {
   "cell_type": "markdown",
   "id": "c346122f-ca7b-4c6c-a4eb-e73f303cf3be",
   "metadata": {},
   "source": [
    "$$ = \\left(f_y - f_x\\,\\frac{g_y}{g_x}\\right)\\mathrm{d}y + \\left(f_z + f_x\\,\\frac{g_z}{g_x}\\right)\\mathrm{d}z$$"
   ]
  },
  {
   "cell_type": "markdown",
   "id": "64cc14fb-d3f3-4189-8f52-7cd533ae89e9",
   "metadata": {},
   "source": [
    "Thus,  \n",
    "\n",
    "\\begin{equation}\\tag{5.4}\n",
    "    \\left(\\frac{\\partial f}{\\partial y}\\right)_z = f_y + f_x\\,\\left(\\frac{\\partial x}{\\partial y}\\right)_z \\quad\\quad\\text{and}\\quad\\quad \\left(\\frac{\\partial f}{\\partial z}\\right)_y = f_z + f_x\\,\\left(\\frac{\\partial x}{\\partial z}\\right)_y\n",
    "\\end{equation}"
   ]
  },
  {
   "cell_type": "markdown",
   "id": "cd83f0c9-5c4a-4ca1-b5db-d8fcbdf51802",
   "metadata": {},
   "source": [
    "Now, let's find the partial derivative of $f$ with respect to $x$ with $x$ and $z$ being the independent variables.  \n",
    "\n",
    "$$ \\mathrm{d}y = \\frac{g_z}{g_y}\\mathrm{d}z - \\frac{g_x}{g_y}\\mathrm{d}x = \\left(\\frac{\\partial y}{\\partial z}\\right)_x\\mathrm{d}z + \\left(\\frac{\\partial y}{\\partial x}\\right)_z\\mathrm{d}x$$"
   ]
  },
  {
   "cell_type": "markdown",
   "id": "3f88541a-8b2c-493f-8cbe-0684ee2256db",
   "metadata": {},
   "source": [
    "$$ \\mathrm{d}f = f_x\\mathrm{d}x + \\frac{f_y}{g_y}(g_z\\mathrm{d}z - g_x\\mathrm{d}x) + f_z\\mathrm{d}z$$"
   ]
  },
  {
   "cell_type": "markdown",
   "id": "db6e03a2-2719-421c-bdd3-5af183b730f2",
   "metadata": {},
   "source": [
    "$$ = \\left(f_x - f_y\\,\\frac{g_x}{g_y}\\right)\\mathrm{d}x + \\left(f_z + f_y\\,\\frac{g_z}{g_y}\\right)\\mathrm{d}z$$"
   ]
  },
  {
   "cell_type": "markdown",
   "id": "a5a10bb5-887f-40d3-a6c8-b2fa4bdd0566",
   "metadata": {},
   "source": [
    "Thus,  \n",
    "\n",
    "\\begin{equation}\\tag{5.5}\n",
    "    \\left(\\frac{\\partial f}{\\partial x}\\right)_z = f_x + f_y\\,\\left(\\frac{\\partial y}{\\partial x}\\right)_z \\quad\\quad\\text{and}\\quad\\quad \\left(\\frac{\\partial f}{\\partial z}\\right)_x = f_z + f_y\\,\\left(\\frac{\\partial y}{\\partial z}\\right)_x\n",
    "\\end{equation}"
   ]
  },
  {
   "cell_type": "markdown",
   "id": "69362df5-dcab-46c3-b834-5e6b6325ffcb",
   "metadata": {},
   "source": [
    "### Rules Connecting Partial Derivatives\n",
    "\n",
    "These rules are widely used in the applications, especially in thermodynamics. Here we will use them as an excuse for further practice with the chain rule and differentials.  \n",
    "\n",
    "With an eye to thermodynamics, we assume a set of variables $t, u, v, w, x, y, z,\\dotsc$ connected by several equations in such a way that  \n",
    "\n",
    "* any *two* are independent;\n",
    "* any *three* are connected by an equation.  \n",
    "\n",
    "Thus, one can choose any two of them to be the independent variables, and then each of\n",
    "the other variables can be expressed in terms of these two.  \n",
    "\n",
    "\n",
    "We give each rule in two forms—the second form is the one ordinarily used, while the\n",
    "first is easier to remember. (The first two rules are fairly simple in either form."
   ]
  },
  {
   "cell_type": "markdown",
   "id": "79386863-e6d3-4feb-84f8-918862540fba",
   "metadata": {},
   "source": [
    "\\begin{equation}\\tag{8a,b}\n",
    "\t\\left(\\frac{\\partial x}{\\partial y}\\right)_z\\,\\left(\\frac{\\partial y}{\\partial x}\\right)_z = 1 \\quad\\quad\\text{and}\\quad\\quad \\left(\\frac{\\partial x}{\\partial y}\\right)_z = \\frac{1}{(\\partial y/\\partial x)_z}\\quad\\mathbf{reciprocal}\\, \\mathbf{rule}\n",
    "\\end{equation}"
   ]
  },
  {
   "cell_type": "markdown",
   "id": "ee176a65-9cf9-4343-8f85-721c915d872d",
   "metadata": {},
   "source": [
    "\\begin{equation}\\tag{9a,b}\n",
    "\t\\left(\\frac{\\partial x}{\\partial y}\\right)_z\\,\\left(\\frac{\\partial y}{\\partial t}\\right)_z = \\left(\\frac{\\partial x}{\\partial t}\\right)_z \\quad\\quad\\text{and}\\quad\\quad \\left(\\frac{\\partial x}{\\partial y}\\right)_z = \\frac{(\\partial x/\\partial t)_z}{(\\partial y/\\partial t)_z}\\quad\\mathbf{chain} \\,\\mathbf{rule}\n",
    "\\end{equation}"
   ]
  },
  {
   "cell_type": "markdown",
   "id": "3a72df4b-e8a0-483b-8a8f-349925afba73",
   "metadata": {},
   "source": [
    "\\begin{equation}\\tag{10a,b}\n",
    "\t\\left(\\frac{\\partial x}{\\partial y}\\right)_z\\,\\left(\\frac{\\partial y}{\\partial z}\\right)_x\\,\\left(\\frac{\\partial z}{\\partial x}\\right)_y = -1 \\quad\\quad\\text{and}\\quad\\quad \\left(\\frac{\\partial x}{\\partial y}\\right)_z = - \\frac{(\\partial x/\\partial z)_y}{(\\partial y/\\partial z)_x}\\quad\\mathbf{cyclic}\\, \\mathbf{rule}\n",
    "\\end{equation}"
   ]
  },
  {
   "cell_type": "markdown",
   "id": "02821498-941d-4789-bee7-b85645fa8e01",
   "metadata": {},
   "source": [
    "Note how the successive factors in the cyclic rule are formed: the variables are used in the\n",
    "successive orders $x, y, z$; $y, z, x$; $z, x, y$; one says they are permuted cyclically, and this explains the name."
   ]
  },
  {
   "cell_type": "markdown",
   "id": "98d9214e-8c4e-420b-95a3-79506a0f7fcc",
   "metadata": {},
   "source": [
    "### Proof of the Rules\n",
    "\n",
    "The first two rules are simple: since $z$ is being held fixed throughout,\n",
    "each variable becomes a function of just one other variable, and (9) is just the one-variable\n",
    "chain rule. Then (8) is just the special case of (9) where $x = t$.  \n",
    "\n",
    "The cyclic rule is less obvious — on the right side it looks almost like the chain rule, but\n",
    "different variables are being held constant in each of the differentiations, and this changes it\n",
    "entirely. To prove it, we suppose $f (x, y, z) = 0$ is the equation satisfied by $x, y, z$; taking $y$ and $z$ as the independent variables and differentiating $f (x, y, z) = 0$ with respect to $y$ gives:  \n",
    "\n",
    "\\begin{equation}\\tag{11}\n",
    "\tf_x\\,\\left(\\frac{\\partial x}{\\partial y}\\right)_z + f_y = 0 \\quad\\therefore\\quad \\left(\\frac{\\partial x}{\\partial y}\\right)_z = -\\frac{f_y}{f_x}\n",
    "\\end{equation}"
   ]
  },
  {
   "cell_type": "markdown",
   "id": "da28206d-d8cf-4a4b-a070-d4dbced6a16c",
   "metadata": {},
   "source": [
    "The minor premise of (11) follows from equation (5.4).  Here, $f$ is self-constrained by the equation that gives the level surface of $f$ at a level of $c=0$.  Basically, as the theory behind equation (5.4) applies here, $g(x,y,z)=f(x,y,z)=0$.  Equation (11) can be rewritten as:  \n",
    "\n",
    "\\begin{equation}\\tag{11a}\n",
    "    \\left(\\frac{\\partial f}{\\partial y}\\right)_z = f_x\\left(\\frac{\\partial x}{\\partial y}\\right)_z + f_y = 0\\quad\\therefore\\quad \\left(\\frac{\\partial x}{\\partial y}\\right)_z = -\\frac{f_y}{f_x}\n",
    "\\end{equation}"
   ]
  },
  {
   "cell_type": "markdown",
   "id": "9575de96-e2bd-4319-961f-cb0583ad4a4b",
   "metadata": {},
   "source": [
    "The other actual partial derivatives of $f$ that are relavent to the cycle rule (10a,b) are, via equation (5.3):    \n",
    "\n",
    "\\begin{equation}\\tag{11b}\n",
    "    \\left(\\frac{\\partial f}{\\partial x}\\right)_y = f_x + f_z\\,\\left(\\frac{\\partial z}{\\partial x}\\right)_y \\quad\\therefore\\quad \\left(\\frac{\\partial z}{\\partial x}\\right)_y = -\\frac{f_x}{f_z}\n",
    "\\end{equation}"
   ]
  },
  {
   "cell_type": "markdown",
   "id": "2dabc824-54cc-4928-a8d0-ef5e5911654e",
   "metadata": {},
   "source": [
    "and, via equation (5.5),  \n",
    "\n",
    "\\begin{equation}\\tag{11c}\n",
    "    \\left(\\frac{\\partial f}{\\partial z}\\right)_x = f_z + f_y\\,\\left(\\frac{\\partial y}{\\partial z}\\right)_x = 0 \\quad\\therefore\\quad \\left(\\frac{\\partial y}{\\partial z}\\right)_x = - \\frac{f_z}{f_y}\n",
    "\\end{equation}"
   ]
  },
  {
   "cell_type": "markdown",
   "id": "79228e26-4f20-44d7-9870-21675d2a1e9e",
   "metadata": {},
   "source": [
    "Finally, via the propositions of (11a,b,c) and substitution,  \n",
    "\n",
    "\\begin{equation}\\tag{10a}\n",
    "    \\left(\\frac{\\partial x}{\\partial y}\\right)_z\\,\\left(\\frac{\\partial y}{\\partial z}\\right)_x\\,\\left(\\frac{\\partial z}{\\partial x}\\right)_y = -\\frac{f_y}{f_x}\\cdot - \\frac{f_z}{f_y}\\cdot-\\frac{f_x}{f_z} =  -1\n",
    "\\end{equation}"
   ]
  },
  {
   "cell_type": "markdown",
   "id": "4269e05e-ac9b-4e4f-9348-98b898037616",
   "metadata": {},
   "source": [
    "#### Example 6\n",
    "Suppose $w = w(x, r)$, with $r = r(x, \\theta)$. Give an expression for $\\displaystyle \\left(\\frac{\\partial w}{\\partial r}\\right)_\\theta$ in terms of formal partial derivatives of $w$ and $r$."
   ]
  },
  {
   "cell_type": "markdown",
   "id": "2b6df550-318e-43e2-85c0-a9e3deb80cd2",
   "metadata": {},
   "source": [
    "$$ \\mathrm{d}w = w_x\\mathrm{d}x + w_r\\mathrm{d}r \\quad\\quad\\text{and}\\quad\\quad \\mathrm{d}r = r_x\\mathrm{d}x + r_\\theta\\mathrm{d}\\theta$$"
   ]
  },
  {
   "cell_type": "markdown",
   "id": "6b9b073f-39bc-4bec-a6e9-b5e119685d78",
   "metadata": {},
   "source": [
    "$$ \\mathrm{d}x = \\frac{1}{r_x}\\mathrm{d}r - \\frac{r_\\theta}{r_x}\\mathrm{d}\\theta$$"
   ]
  },
  {
   "cell_type": "markdown",
   "id": "06c7f747-e1b8-41d2-b2e5-927171b16b35",
   "metadata": {},
   "source": [
    "$$ \\mathrm{d}w = \\frac{w_x}{r_x}\\big(\\mathrm{d}r - r_\\theta\\mathrm{d}\\theta\\big) + w_r\\mathrm{d}r$$"
   ]
  },
  {
   "cell_type": "markdown",
   "id": "1c75d2ea-f7c7-46e2-907e-6e911d1c637d",
   "metadata": {},
   "source": [
    "$$ = \\left(w_r + \\frac{w_x}{r_x}\\right)\\mathrm{d}r  - w_x\\,\\frac{r_\\theta}{r_w}\\mathrm{d}\\theta$$"
   ]
  },
  {
   "cell_type": "markdown",
   "id": "d6ba17da-848b-4a91-8c3f-76d95fd07b38",
   "metadata": {},
   "source": [
    "Thus,  \n",
    "\n",
    "$$\\left(\\frac{\\partial w}{\\partial r}\\right)_\\theta = w_r + \\frac{w_x}{r_x}$$"
   ]
  },
  {
   "cell_type": "markdown",
   "id": "030835db-2cdc-454d-b6dd-7932124d9a18",
   "metadata": {},
   "source": [
    "## Problems\n",
    "\n",
    "Suppose $w = u^3 − uv^2$ , $u = xy$ and $v = u + x$."
   ]
  },
  {
   "cell_type": "markdown",
   "id": "1a870625-e2b8-4dde-8396-806749abd5e6",
   "metadata": {},
   "source": [
    "\\begin{equation}\\tag{P1a,b,c}\n",
    "    w = u^3 - uv^2 \\quad\\quad u=xy \\quad\\quad v= u+x\n",
    "\\end{equation}"
   ]
  },
  {
   "cell_type": "markdown",
   "id": "de4ca3e3-765e-4f41-bde2-2e0fe2888690",
   "metadata": {},
   "source": [
    "#### Problem 1\n",
    "\n",
    "Find $\\displaystyle \\left(\\frac{\\partial w}{\\partial u}\\right)_x$ and $\\displaystyle \\left(\\frac{\\partial w}{\\partial x}\\right)_u$ using the chain rule."
   ]
  },
  {
   "cell_type": "markdown",
   "id": "22e4c5c2-8ccb-4897-9705-bb8653ba7577",
   "metadata": {},
   "source": [
    "$$ \\left(\\frac{\\partial w}{\\partial u}\\right)_x = 3u^2 - v^2 - 2uv\\,\\left(\\frac{\\partial v}{\\partial u}\\right)_x$$"
   ]
  },
  {
   "cell_type": "markdown",
   "id": "b6da51fc-b303-4851-9b83-a5fa51af727f",
   "metadata": {},
   "source": [
    "$$ \\left(\\frac{\\partial v}{\\partial u}\\right)_x = 1$$"
   ]
  },
  {
   "cell_type": "markdown",
   "id": "a7a3f7c6-0388-43d9-b057-1d36d8febc85",
   "metadata": {},
   "source": [
    "Thus, in terms of $x$ and $y$,  \n",
    "\n",
    "$$ \\left(\\frac{\\partial w}{\\partial u}\\right)_x = 3(xy)^2 - \\big(xy+x\\big)^2 - 2xy(xy+x)$$"
   ]
  },
  {
   "cell_type": "markdown",
   "id": "8f340387-2855-4ce7-b122-bbf7ef9c8507",
   "metadata": {},
   "source": [
    "$$ = 3(xy)^2 - x^2(y+1)^2 - 2x^2y(y+1)$$"
   ]
  },
  {
   "cell_type": "markdown",
   "id": "75e9ab43-d79b-4ad1-b1ad-05436c1de634",
   "metadata": {},
   "source": [
    "$$ = 3(xy)^2 - x^2\\big(y^2 + 2y + 1\\big) - 2(xy)^2 - 2x^2y$$"
   ]
  },
  {
   "cell_type": "markdown",
   "id": "5cbde9a4-e1b7-42a0-877b-49bcf61d3d36",
   "metadata": {},
   "source": [
    "$$ = -4x^2y - x^2 = -x^2(4y+1)$$"
   ]
  },
  {
   "cell_type": "markdown",
   "id": "250beb4b-434f-4caa-a14d-61bec83afb91",
   "metadata": {},
   "source": [
    "As for the other actual partial derivative of $w$:  \n",
    "\n",
    "$$ \\left(\\frac{\\partial w}{\\partial x}\\right)_u = - 2uv $$"
   ]
  },
  {
   "cell_type": "markdown",
   "id": "568836d4-f244-411e-8337-e70ec0fbe212",
   "metadata": {},
   "source": [
    "#### Problem 2\n",
    "\n",
    "Find $\\displaystyle \\left(\\frac{\\partial w}{\\partial u}\\right)_x$ and $\\displaystyle \\left(\\frac{\\partial w}{\\partial x}\\right)_u$ using differentials."
   ]
  },
  {
   "cell_type": "markdown",
   "id": "9cc43103-e222-4165-9d02-bc09a3da78b9",
   "metadata": {},
   "source": [
    "$$ \\mathrm{d}w = w_u\\mathrm{d}u + w_v\\mathrm{d}v \\quad\\quad \\mathrm{d}u = u_x\\mathrm{d}x + u_y\\mathrm{y} \\quad\\quad \\mathrm{d}v = v_u\\mathrm{d}u + v_x\\mathrm{d}x$$"
   ]
  },
  {
   "cell_type": "markdown",
   "id": "7723f346-7f92-4f40-8ed6-b54ea8f0565e",
   "metadata": {},
   "source": [
    "$$ \\mathrm{d}w = w_u\\mathrm{d}u + w_v(v_u\\mathrm{d}u + v_x\\mathrm{d}x)$$"
   ]
  },
  {
   "cell_type": "markdown",
   "id": "f00c920e-3626-4386-afdf-5423a2571b74",
   "metadata": {},
   "source": [
    "\\begin{equation}\\tag{E2.1}\n",
    "    \\mathrm{d}w = (w_u + w_vv_u)\\mathrm{d}u + w_vv_x\\mathrm{d}x\n",
    "\\end{equation}"
   ]
  },
  {
   "cell_type": "markdown",
   "id": "bb108ad1-c166-449b-8166-7fda80d62c26",
   "metadata": {},
   "source": [
    "$$ w_u = 3u^2 - v^2 \\quad\\quad w_v = -2uv \\quad\\quad v_u = 1$$"
   ]
  },
  {
   "cell_type": "markdown",
   "id": "1c96ebac-ff1b-4b0e-bfef-6f189d506cd7",
   "metadata": {},
   "source": [
    "Thus,  \n",
    "\n",
    "\\begin{equation}\\tag{E2.2}\n",
    "    \\left(\\frac{\\partial w}{\\partial u}\\right)_x = 3u^2-v^2-2uv\n",
    "\\end{equation}"
   ]
  },
  {
   "cell_type": "markdown",
   "id": "c9b9fd12-49a6-4840-96fc-bdd4b76be713",
   "metadata": {},
   "source": [
    "And  \n",
    "\n",
    "\\begin{equation}\\tag{E2.3}\n",
    "    \\left(\\frac{\\partial w}{\\partial x}\\right)_u = -2uv\n",
    "\\end{equation}"
   ]
  },
  {
   "cell_type": "markdown",
   "id": "e0edd721-52c8-4e19-aa14-8cdba513b961",
   "metadata": {},
   "source": [
    "The above two equations are consistent with the solution to [problem 1](#Problem-1)."
   ]
  }
 ],
 "metadata": {
  "kernelspec": {
   "display_name": "Python 3 (ipykernel)",
   "language": "python",
   "name": "python3"
  },
  "language_info": {
   "codemirror_mode": {
    "name": "ipython",
    "version": 3
   },
   "file_extension": ".py",
   "mimetype": "text/x-python",
   "name": "python",
   "nbconvert_exporter": "python",
   "pygments_lexer": "ipython3",
   "version": "3.10.12"
  },
  "toc-showtags": false
 },
 "nbformat": 4,
 "nbformat_minor": 5
}
