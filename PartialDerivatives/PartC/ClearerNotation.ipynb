{
 "cells": [
  {
   "cell_type": "markdown",
   "id": "6ed07800-83a7-409c-86ce-c9b016331b3a",
   "metadata": {},
   "source": [
    "# Clearer Notation\n",
    "\n",
    "## Abstract Partial Differentiation  \n",
    "\n",
    "Often in applications, the function $w$ is not given explicitly, nor are the equations con\n",
    "necting the variables. Thus you need to be able to work with functions and equations just\n",
    "given abstractly. The previous ideas work perfectly well, as we will illustrate. However, we\n",
    "will need (as in section 2) to distinguish between  \n",
    "\n",
    "*formal* partial derivatives, written here $f_x, f_y, \\dotsc$ (calculated as if all the variables were independent), and  \n",
    "\n",
    "*actual* partial derivatives, written $\\displaystyle \\frac{\\partial f }{ \\partial x}, \\frac{\\partial f}{\\partial y}, \\dotsc$, which take account of any relations between the variables.  \n",
    "\n",
    "#### Example 5\n",
    "If $f(x,y,z) = xy^2z^4$, where $z=2x+3y$, the three formal partial derivatives are  "
   ]
  },
  {
   "cell_type": "markdown",
   "id": "263d0e1c-46f2-43e3-a15f-acd3d10ba251",
   "metadata": {},
   "source": [
    "$$ f_x = y^2z^4 \\quad\\quad f_y = 2xyz^4 \\quad\\quad f_z = 4xy^2z^3$$"
   ]
  },
  {
   "cell_type": "markdown",
   "id": "d4dcf467-882f-4d87-8eae-4fbae315a8fd",
   "metadata": {},
   "source": [
    "And, three of the many possible actual partial derivatives are:  \n",
    "\n",
    "\\begin{equation}\\tag{5.1}\n",
    "    \\left(\\frac{\\partial f}{\\partial x}\\right)_y = y^2z^4 + 4xy^2z^3\\,\\left(\\frac{\\partial z}{\\partial x}\\right)_y = f_x + f_z\\,\\left(\\frac{\\partial z}{\\partial x}\\right)_y = f_x + 2f_z\n",
    "\\end{equation}"
   ]
  },
  {
   "cell_type": "markdown",
   "id": "101e2d2d-0cb6-4781-b308-cedc7c1eea81",
   "metadata": {},
   "source": [
    "\\begin{equation}\\tag{5.2}\n",
    "    \\left(\\frac{\\partial f}{\\partial y}\\right)_x = 2yxz^4 + 4xy^2z^3\\,\\left(\\frac{\\partial z}{\\partial y}\\right)_x = f_y + 3f_z\n",
    "\\end{equation}"
   ]
  },
  {
   "cell_type": "markdown",
   "id": "acca63ea-66cc-462b-b024-ba3c0167399e",
   "metadata": {},
   "source": [
    "\\begin{equation}\\tag{5.3}\n",
    "    \\left(\\frac{\\partial f}{\\partial z}\\right)_x = f_z + f_y\\,\\left(\\frac{\\partial y}{\\partial z}\\right)_x = f_z + \\frac{f_y}{3}\n",
    "\\end{equation}"
   ]
  },
  {
   "cell_type": "markdown",
   "id": "1856f8c1-f541-4749-9727-c617207e9730",
   "metadata": {},
   "source": [
    "Note that there is another way to find the actual partial derivatives.  This way does not make reference to the definition of any function invoked therein.  Let  \n",
    "\n",
    "$$ g(x,y,z) := 2x + 3y - z = 0$$"
   ]
  },
  {
   "cell_type": "markdown",
   "id": "f06de73e-042d-4a5c-9587-6f4e268ac974",
   "metadata": {},
   "source": [
    "The function $f(x,y,z)$ is constrained by the above equation.  \n",
    "\n",
    "$$ \\nabla g = \\langle g_x,g_y,g_z\\rangle = \\langle 2, 3, -1\\rangle $$"
   ]
  },
  {
   "cell_type": "markdown",
   "id": "fe66e647-1d81-44b4-ab8b-1739c8f0ea35",
   "metadata": {},
   "source": [
    "\\begin{equation}\\tag{1}\n",
    "    \\mathrm{d}g = 2\\mathrm{d}x + 3\\mathrm{d}y - \\mathrm{d}z = \\nabla g \\cdot \\mathrm{d}\\mathbf{x} = 0 \\quad\\quad\\text{where }\\mathrm{d}\\mathbf{x} = \\langle \\mathrm{d}x, \\mathrm{d}y, \\mathrm{d}z\\rangle\n",
    "\\end{equation}"
   ]
  },
  {
   "cell_type": "markdown",
   "id": "c7fdc471-7965-4258-ad86-67ac7b97b4a2",
   "metadata": {},
   "source": [
    "\\begin{equation}\\tag{2}\n",
    "    \\mathrm{d}f = \\nabla f\\cdot\\mathrm{d}\\mathbf{x}\n",
    "\\end{equation}"
   ]
  },
  {
   "cell_type": "markdown",
   "id": "81c21879-3c46-4edd-8778-39fd853e8c28",
   "metadata": {},
   "source": [
    "Now, suppose, with $y$ and $x$ as the independent variables, we want to find the actual partial derivative of $f$ with respect to $x$.  To do this, we shall use the substitution method.  Via equation (1),  \n",
    "\n",
    "$$ g_z\\mathrm{d}z = g_x\\mathrm{d}x + g_y\\mathrm{d}y \\quad\\implies\\quad \\mathrm{d}z = \\frac{g_x}{g_z}\\,\\mathrm{d}x + \\frac{g_y}{g_z}\\,\\mathrm{d}y = \\left(\\frac{\\partial z}{\\partial x}\\right)_y\\mathrm{d}x + \\left(\\frac{\\partial z}{\\partial y}\\right)_x\\mathrm{d}y$$"
   ]
  },
  {
   "cell_type": "markdown",
   "id": "2f0c0397-3eef-4e75-9010-6e7ed9a48e74",
   "metadata": {},
   "source": [
    "Via the above equation and equation (2) and substitution,  \n",
    "\n",
    "$$ \\mathrm{d}f = f_x\\mathrm{d}x + f_y\\mathrm{d}y + \\frac{f_z}{g_z}\\,(g_x\\mathrm{d}x + g_y\\mathrm{d}y)$$"
   ]
  },
  {
   "cell_type": "markdown",
   "id": "04b7a2d6-574d-4666-aee9-c83a6c914f94",
   "metadata": {},
   "source": [
    "$$ = \\left(f_x + f_z\\,\\frac{g_x}{g_z}\\right)\\mathrm{d}x + \\left(f_y + f_z\\,\\frac{g_y}{g_z}\\right)\\mathrm{d}y$$"
   ]
  },
  {
   "cell_type": "markdown",
   "id": "78176067-9f33-44fa-a87b-fe0350a454c7",
   "metadata": {},
   "source": [
    "Thus,  \n",
    "\n",
    "\\begin{equation}\\tag{5.3}\n",
    "    \\left(\\frac{\\partial f}{\\partial x}\\right)_y = f_x + f_z\\,\\left(\\frac{\\partial z}{\\partial x}\\right)_y \\quad\\quad\\text{and}\\quad\\quad \\left(\\frac{\\partial f}{\\partial y}\\right)_x = f_y + f_z\\,\\left(\\frac{\\partial z}{\\partial y}\\right)_x\n",
    "\\end{equation}"
   ]
  },
  {
   "cell_type": "markdown",
   "id": "91da4935-76d9-47a8-a2ba-9b6f261f7079",
   "metadata": {},
   "source": [
    "The above is consistent with equations (5.1) and (5.2)."
   ]
  },
  {
   "cell_type": "markdown",
   "id": "4b38f1df-1b4c-45ee-8108-9c925864ffa8",
   "metadata": {},
   "source": [
    "Now, let's find the partial derivative of $f$ with respect to $y$, with $y$ and $z$ being the independent variables.  Via equation (1),  \n",
    "\n",
    "$$ \\mathrm{d}x = \\frac{g_z}{g_x}\\mathrm{d}z - \\frac{g_y}{g_x}\\mathrm{d}y = \\left(\\frac{\\partial x}{\\partial z}\\right)_y\\mathrm{d}z + \\left(\\frac{\\partial x}{\\partial y}\\right)_z\\mathrm{d}y$$"
   ]
  },
  {
   "cell_type": "markdown",
   "id": "c38c2bac-a50a-42bd-83c0-8e5af4dd94eb",
   "metadata": {},
   "source": [
    "$$ \\mathrm{d}f = \\frac{f_x}{g_x}(g_z\\mathrm{d}z - g_y\\mathrm{d}y)+ f_y\\mathrm{d}y + f_z\\mathrm{d}z$$"
   ]
  },
  {
   "cell_type": "markdown",
   "id": "c346122f-ca7b-4c6c-a4eb-e73f303cf3be",
   "metadata": {},
   "source": [
    "$$ = \\left(f_y - f_x\\,\\frac{g_y}{g_x}\\right)\\mathrm{d}y + \\left(f_z + f_x\\,\\frac{g_z}{g_x}\\right)\\mathrm{d}z$$"
   ]
  },
  {
   "cell_type": "markdown",
   "id": "64cc14fb-d3f3-4189-8f52-7cd533ae89e9",
   "metadata": {},
   "source": [
    "Thus,  \n",
    "\n",
    "\\begin{equation}\\tag{5.4}\n",
    "    \\left(\\frac{\\partial f}{\\partial y}\\right)_z = f_y + f_x\\,\\left(\\frac{\\partial x}{\\partial y}\\right)_z \\quad\\quad\\text{and}\\quad\\quad \\left(\\frac{\\partial f}{\\partial z}\\right)_y = f_z + f_x\\,\\left(\\frac{\\partial x}{\\partial z}\\right)_y\n",
    "\\end{equation}"
   ]
  }
 ],
 "metadata": {
  "kernelspec": {
   "display_name": "Python 3 (ipykernel)",
   "language": "python",
   "name": "python3"
  },
  "language_info": {
   "codemirror_mode": {
    "name": "ipython",
    "version": 3
   },
   "file_extension": ".py",
   "mimetype": "text/x-python",
   "name": "python",
   "nbconvert_exporter": "python",
   "pygments_lexer": "ipython3",
   "version": "3.10.12"
  }
 },
 "nbformat": 4,
 "nbformat_minor": 5
}
