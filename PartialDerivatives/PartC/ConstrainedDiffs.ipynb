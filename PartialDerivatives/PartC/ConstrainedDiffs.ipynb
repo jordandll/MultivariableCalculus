{
 "cells": [
  {
   "cell_type": "markdown",
   "id": "0b4852e9-76af-4010-99ea-1d28c0cae7dd",
   "metadata": {},
   "source": [
    "# Constrained Differentials\n",
    "\n",
    "## Problems  \n",
    "\n",
    "#### Problem 1\n",
    "\n",
    "Find the total differential for $w=zxe^y + xe^z + ye^z$.  "
   ]
  },
  {
   "cell_type": "markdown",
   "id": "dd618470-f70a-43c8-a656-a640d5e12112",
   "metadata": {},
   "source": [
    "\\begin{equation}\\tag{1}\n",
    "    \\mathrm{d}w = \\big(ze^y + e^z\\big)\\mathrm{d}x + \\big(zxe^y + e^z\\big)\\mathrm{d}y + \\big(xe^y + xe^z + ye^z\\big)\\mathrm{d}z\n",
    "\\end{equation}"
   ]
  },
  {
   "cell_type": "markdown",
   "id": "43e96f64-4721-411c-afa4-c46d29495012",
   "metadata": {},
   "source": [
    "#### Problem 2\n",
    "\n",
    "With $w$ as above, suppose we have $x=t$, $y=t^2$ and $z=t^3$.  Write $\\mathrm{d}w$ in terms of $\\mathrm{d}t$.  "
   ]
  },
  {
   "cell_type": "markdown",
   "id": "61684229-b9b8-47b2-a4d4-85a84dc512ab",
   "metadata": {},
   "source": [
    "$$ \\mathrm{d}w = w_x\\mathrm{d}t + w_y2t\\mathrm{d}t + w_z3t^2\\mathrm{d}t$$"
   ]
  },
  {
   "cell_type": "markdown",
   "id": "4a16f361-2e33-41fb-be3d-237650f380d8",
   "metadata": {},
   "source": [
    "#### Problem 3\n",
    "\n",
    "Now suppose $w$ is as above and $x^2y+y^2x=1$.  Assuming $x$ is the independent variable, find $\\displaystyle \\frac{\\partial w}{\\partial x}$."
   ]
  },
  {
   "cell_type": "markdown",
   "id": "4474cb4c-e01e-423c-a3ad-801636d719a1",
   "metadata": {},
   "source": [
    "$$ \\frac{\\partial w}{\\partial x} = z\\left(e^y + xe^y\\,\\frac{\\mathrm{d}y}{\\mathrm{d}x}\\right) + e^z + \\frac{\\mathrm{d}y}{\\mathrm{d}x}\\,e^z$$"
   ]
  },
  {
   "cell_type": "markdown",
   "id": "a365578a-1241-4971-91a2-99ad0777b220",
   "metadata": {},
   "source": [
    "Differentiating throughout the constraint with respect to $x$ gives:  \n",
    "\n",
    "$$ 2xy + x^2\\,\\frac{\\mathrm{d}y}{\\mathrm{d}x} + y^2 + 2yx\\,\\frac{\\mathrm{d}y}{\\mathrm{d}x} = 0$$"
   ]
  },
  {
   "cell_type": "markdown",
   "id": "48668306-e0ad-46fb-a871-8cd8b0ff876a",
   "metadata": {},
   "source": [
    "\\begin{equation}\\tag{2}\n",
    "    \\frac{\\mathrm{d}y}{\\mathrm{d}x} = - \\frac{y^2 + 2xy}{x^2+2xy}\n",
    "\\end{equation}"
   ]
  },
  {
   "cell_type": "markdown",
   "id": "94f1f6be-914c-40d4-906a-87fb7807dd20",
   "metadata": {},
   "source": [
    "The above equation can be rewritten in terms of $t$ using the parametric equations found in [problem 2](#Problem-2).  \n",
    "\n",
    "$$ 2t^3 + 2t^3 + t^4 + 4t^4 = 0$$"
   ]
  },
  {
   "cell_type": "markdown",
   "id": "b0c09d26-ccfe-48d3-ac67-17c83fcf8d6a",
   "metadata": {},
   "source": [
    "$$ 4 + 5t = 0 \\quad\\implies\\quad t = -\\frac{4}{5}$$"
   ]
  },
  {
   "cell_type": "markdown",
   "id": "3d17986e-f015-438f-bc76-c5547f3971d4",
   "metadata": {},
   "source": [
    "Now, let's test the above against the equation obtained via the aforementioned parametric equations and the constraint given in this problem and substitution,  \n",
    "\n",
    "$$ t^4 + t^5 = t^4(1+t)= 1 \\quad\\implies\\quad \\left(\\frac{4}{5}\\right)^4\\left(1 - \\frac{4}{5}\\right) = 1 $$"
   ]
  },
  {
   "cell_type": "markdown",
   "id": "c6bc06df-d0f4-4a7c-af6a-3370de598930",
   "metadata": {},
   "source": [
    "Finally,  \n",
    "\n",
    "$$ \\frac{\\partial w}{\\partial x} = z\\left(e^y - e^y\\frac{y^2+2xy}{x+2y}\\right) + e^z\\left(1-\\frac{y^2+2xy}{x^2+2xy}\\right)$$"
   ]
  },
  {
   "cell_type": "markdown",
   "id": "6ae2e297-211f-4a71-a06e-d61758713f2d",
   "metadata": {},
   "source": [
    "$$ = ze^y\\frac{x+2y - y^2-2xy}{x+2y} + e^z\\,\\frac{x^2-y^2}{x^2+2xy}$$"
   ]
  },
  {
   "cell_type": "markdown",
   "id": "2d8f7194-6bca-4464-b2cf-723a73315c1a",
   "metadata": {},
   "source": [
    "**Using another method**:  Via equations (1) and (2) and substitution,  \n",
    "\n",
    "$$ \\mathrm{d}w = \\big(ze^y + e^z\\big)\\mathrm{d}x - \\big(zxe^y + e^z\\big)\\frac{y^2+2xy}{x^2+2xy}\\mathrm{d}x + \\big(xe^y + xe^z + ye^z\\big)\\mathrm{d}z$$"
   ]
  }
 ],
 "metadata": {
  "kernelspec": {
   "display_name": "Python 3 (ipykernel)",
   "language": "python",
   "name": "python3"
  },
  "language_info": {
   "codemirror_mode": {
    "name": "ipython",
    "version": 3
   },
   "file_extension": ".py",
   "mimetype": "text/x-python",
   "name": "python",
   "nbconvert_exporter": "python",
   "pygments_lexer": "ipython3",
   "version": "3.10.12"
  }
 },
 "nbformat": 4,
 "nbformat_minor": 5
}
