{
 "cells": [
  {
   "cell_type": "markdown",
   "id": "8a4f7907-fa27-48c3-9f1a-ddc0242d69a5",
   "metadata": {},
   "source": [
    "# Example\n",
    "\n",
    "## Chain Rule with Constraints\n",
    "\n",
    "Let $P=(1,2,3)$ and assume $f(x,y,z)$ is a differentiable function with $\\nabla f = \\langle 1,-2,3\\rangle$ at $P$.  Also assume that $x$, $y$ and $z$ satisfy the relation $x^3-y^2+z=0$.  \n",
    "\n",
    "Take $x$ and $y$ to be the independent variables and let $g(x,y) = f(x,y,z(x,y))$.  Find $\\nabla g$ at the point $(1,2)$."
   ]
  },
  {
   "cell_type": "markdown",
   "id": "18e3f5b4-2b56-4811-914f-6d01e510ec87",
   "metadata": {},
   "source": [
    "\\begin{equation}\\tag{1}\n",
    "    \\nabla f(P) = \\langle 1,-2,3\\rangle\\quad\\therefore\\quad \\mathrm{d}f(P) = \\mathrm{d}x - 2\\mathrm{d}y + 3\\mathrm{d}z\n",
    "\\end{equation}"
   ]
  },
  {
   "cell_type": "markdown",
   "id": "f1055a31-2d66-446a-8bc0-ebe1fb09937f",
   "metadata": {},
   "source": [
    "Via the equation that constrains $f$,  \n",
    "\n",
    "$$ z = y^2-x^3 \\quad\\therefore\\quad \\mathrm{d}z = -3x^2\\mathrm{d}x + 2y\\mathrm{d}y $$"
   ]
  },
  {
   "cell_type": "markdown",
   "id": "64626ecd-3e05-4086-8a80-1e72edd7ae8d",
   "metadata": {},
   "source": [
    "\\begin{equation}\\tag{2}\n",
    "    \\mathrm{d}z(P) = -3\\mathrm{d}x + 4\\mathrm{d}y\n",
    "\\end{equation}"
   ]
  },
  {
   "cell_type": "markdown",
   "id": "2df39801-a9a7-433c-85d2-cc579870f72f",
   "metadata": {},
   "source": [
    "And, via the proposition of (1) and equation (2) and substitution,  \n",
    "\n",
    "\\begin{equation}\\tag{3}\n",
    "    \\mathrm{d}f(P) = -8\\mathrm{d}x + 10\\mathrm{d}y\n",
    "\\end{equation}"
   ]
  },
  {
   "cell_type": "markdown",
   "id": "f2dbabdd-569e-48ce-a56e-43daa0a7b97e",
   "metadata": {},
   "source": [
    "Thus,  \n",
    "\n",
    "$$ \\nabla g(P) = \\langle -8. 10\\rangle$$"
   ]
  }
 ],
 "metadata": {
  "kernelspec": {
   "display_name": "Python 3 (ipykernel)",
   "language": "python",
   "name": "python3"
  },
  "language_info": {
   "codemirror_mode": {
    "name": "ipython",
    "version": 3
   },
   "file_extension": ".py",
   "mimetype": "text/x-python",
   "name": "python",
   "nbconvert_exporter": "python",
   "pygments_lexer": "ipython3",
   "version": "3.10.12"
  }
 },
 "nbformat": 4,
 "nbformat_minor": 5
}
