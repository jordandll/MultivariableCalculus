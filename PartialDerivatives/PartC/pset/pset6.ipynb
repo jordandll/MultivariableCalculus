{
 "cells": [
  {
   "cell_type": "markdown",
   "id": "b8637235-ef59-419d-abba-da83ab420253",
   "metadata": {},
   "source": [
    "# Problem Set 6\n",
    "\n",
    "## Part I  \n",
    "\n",
    "### Lagrange Multipliers\n",
    "\n",
    "#### $\\S\\,2\\mathrm{I} : 1$"
   ]
  },
  {
   "cell_type": "markdown",
   "id": "1a920da9-470d-4342-a328-d601b5b42e87",
   "metadata": {},
   "source": [
    "**a)**  $$ f(x,y,z) = x+2y+3z = 18 = c \\quad\\quad \\text{and}\\quad\\quad V = xyz$$"
   ]
  },
  {
   "cell_type": "markdown",
   "id": "088bcd10-6b69-417e-8121-91a75a569a33",
   "metadata": {},
   "source": [
    "The critical points of $V$ under the constrainment of $f(x,y,z)=c$ are given by:  \n",
    "\n",
    "$$ \\nabla V = \\lambda \\nabla f \\quad\\quad\\text{and}\\quad\\quad f(x,y,z)=c$$"
   ]
  },
  {
   "cell_type": "markdown",
   "id": "940fa5f3-ff22-45cc-bf6e-ff5661929009",
   "metadata": {},
   "source": [
    "$$ \\nabla V = \\langle yz, xz, xy\\rangle \\quad\\quad \\text{and}\\quad\\quad \\nabla f = \\langle 1, 2, 3\\rangle$$"
   ]
  },
  {
   "cell_type": "markdown",
   "id": "c38a5256-7aba-4d1e-860e-25f7cc000081",
   "metadata": {},
   "source": [
    "Thus,  \n",
    "\n",
    "$$ yz = 0.5xz = \\frac{xy}{3} \\quad\\implies$$"
   ]
  },
  {
   "cell_type": "markdown",
   "id": "3e1c3a55-4dcb-46b0-991f-6e6ea08f0fc2",
   "metadata": {},
   "source": [
    "$$ y = 0.5x \\quad\\quad z = \\frac{2}{3}\\,y \\quad\\quad z = \\frac{x}{3}$$"
   ]
  },
  {
   "cell_type": "markdown",
   "id": "630ba91b-d744-4ace-87ea-7e5598b4c3af",
   "metadata": {},
   "source": [
    "Via the above and the constrainment,  \n",
    "\n",
    "$$ x + x + x = 18 \\quad\\therefore\\quad x = 6 \\;\\land\\; y = 3 \\;\\land\\; z = 2$$"
   ]
  },
  {
   "cell_type": "markdown",
   "id": "3f1d8816-e0a5-4774-974a-f5b1e6fef076",
   "metadata": {},
   "source": [
    "$$ V_\\max = V(P) \\quad\\quad\\text{where } P = (6,3,2)$$"
   ]
  },
  {
   "cell_type": "markdown",
   "id": "2e207a55-3811-426a-a833-77415bb648a2",
   "metadata": {},
   "source": [
    "The maximum exists either at a critical point or on the boundary, and since the boundary cases give a volume of zero that leaves us with only the critical point of $P$ at which the max volume exists."
   ]
  },
  {
   "cell_type": "markdown",
   "id": "7669d023-20a3-4cec-be6b-2c9b40e501b2",
   "metadata": {},
   "source": [
    "**b)**  The critical points of $V$ on the ellipsoid are given by:  \n",
    "\n",
    "$$ \\nabla V = \\lambda \\nabla f \\quad\\quad x^2 + 2y^2 + 4z^2 = 12$$"
   ]
  },
  {
   "cell_type": "markdown",
   "id": "a135da0b-c75f-4d3f-9006-812ed399cc81",
   "metadata": {},
   "source": [
    "$$ \\nabla f = \\langle 2x,4y,8z\\rangle$$"
   ]
  },
  {
   "cell_type": "markdown",
   "id": "a9f8b679-9b18-4bbd-abd5-0dded45b5425",
   "metadata": {},
   "source": [
    "Thus,  \n",
    "\n",
    "$$ \\frac{yz}{2x} = \\frac{xz}{4y} = \\frac{xy}{8z} \\quad\\therefore\\quad \\frac{yz}{x} = \\frac{xz}{2y} = \\frac{xy}{4z}$$"
   ]
  },
  {
   "cell_type": "markdown",
   "id": "38b1b4b8-4593-40c3-8547-2de5a9226f00",
   "metadata": {},
   "source": [
    "Therefore,  \n",
    "\n",
    "$$ (2yz)^2 = 2(xz)^2 = (xy)^2$$"
   ]
  },
  {
   "cell_type": "markdown",
   "id": "f39f2715-0d70-4414-849f-89f5061dfcf6",
   "metadata": {},
   "source": [
    "$$ y = \\sqrt{2}z\\quad\\quad x = \\sqrt{2}y \\quad\\quad x = 2z$$"
   ]
  },
  {
   "cell_type": "markdown",
   "id": "fed66657-e687-4ff4-98de-635c188c2da5",
   "metadata": {},
   "source": [
    "$$ 2y^2 + 2y^2 + 2y^2 = 12 \\quad\\therefore \\quad y^2 = 2 \\quad\\therefore \\quad y = \\sqrt{2}$$"
   ]
  },
  {
   "cell_type": "markdown",
   "id": "2c0bd4ed-87f7-4f27-a939-75fb6d5da2b2",
   "metadata": {},
   "source": [
    "Thus,  \n",
    "\n",
    "$$ V_\\max = V(P) \\quad\\quad\\text{where }P = \\big(2,\\sqrt{2},1\\big)$$"
   ]
  },
  {
   "cell_type": "markdown",
   "id": "8f25232d-55d8-44ca-932e-812d5c9f3a39",
   "metadata": {},
   "source": [
    "The max volume is at the critical point $P$ since the max volume is either at $P$ or on the boundary, and, since the min volume of zero exists on the boundary, the max must be at the critical point."
   ]
  },
  {
   "cell_type": "markdown",
   "id": "96cc9560-5169-4212-87ec-924a708f0845",
   "metadata": {},
   "source": [
    "#### $\\S\\,2\\mathrm{I} : 2$"
   ]
  },
  {
   "cell_type": "markdown",
   "id": "b37d5c81-09c0-48b1-a7b6-4639af4ac74b",
   "metadata": {},
   "source": [
    "Let  \n",
    "\n",
    "$$ f(x,y,z):= |OP|^2 = x^2+y^2+z^2 \\quad\\quad\\text{and}\\quad\\quad g(x,y,z):=x^3y^2z=6\\sqrt{3}$$"
   ]
  },
  {
   "cell_type": "markdown",
   "id": "75da1664-7811-4e5e-8cae-07b5e32abdad",
   "metadata": {},
   "source": [
    "Our task is to find $P$ such that:  \n",
    "\n",
    "$$ f_\\min = f(P) \\quad\\quad\\text{where } x,y,z \\ge 0$$"
   ]
  },
  {
   "cell_type": "markdown",
   "id": "d2cfd369-ccbe-4c82-af76-817737350368",
   "metadata": {},
   "source": [
    "The critical points of $f$ under the constrainment are given by:  \n",
    "\n",
    "$$ \\nabla f = \\lambda \\nabla g \\quad\\quad g(x,y,z)=6\\sqrt{3}$$"
   ]
  },
  {
   "cell_type": "markdown",
   "id": "1c0e26b2-253a-4105-ab7a-cfd6e1ef86ae",
   "metadata": {},
   "source": [
    "$$ \\nabla g = \\langle 3x^2y^2z, 2x^3yz, x^3y^2\\rangle\\quad\\quad \\nabla f = 2\\langle x,y,z\\rangle$$"
   ]
  },
  {
   "cell_type": "markdown",
   "id": "6082cd25-1981-4a6a-a2c5-926a825bc601",
   "metadata": {},
   "source": [
    "$$ 3xy^2z = 2x^3z = \\frac{x^3y^2}{z} \\quad\\therefore\\quad 3y^2z^2 = 2x^2z^2 = x^2y^2$$"
   ]
  },
  {
   "cell_type": "markdown",
   "id": "97367005-825a-453b-beae-906ce1b56a92",
   "metadata": {},
   "source": [
    "Therefore,  \n",
    "\n",
    "$$ 3y^2 = 2x^2 \\quad\\quad y = \\sqrt{2}z \\quad\\quad x = \\sqrt{3}z$$"
   ]
  },
  {
   "cell_type": "markdown",
   "id": "d41ef556-abb4-483d-bee2-bb24cb2bb62b",
   "metadata": {},
   "source": [
    "Via the above three equations, the constrainment, and substitution,  \n",
    "\n",
    "$$ x^3\\cdot\\frac{2}{3}\\,x^2\\cdot x = 18$$"
   ]
  },
  {
   "cell_type": "markdown",
   "id": "e44665db-876f-4e0b-83f6-2adc62c9b082",
   "metadata": {},
   "source": [
    "$$ x^6 = 27 \\quad\\therefore \\quad x = \\sqrt{3}$$"
   ]
  },
  {
   "cell_type": "markdown",
   "id": "56f24dd9-aee8-4d1d-af62-86c404c41327",
   "metadata": {},
   "source": [
    "And,  \n",
    "\n",
    "$$ y = \\sqrt{2} \\quad\\quad \\text{and}\\quad\\quad z = 1$$"
   ]
  },
  {
   "cell_type": "markdown",
   "id": "2cf70aec-c0d8-4e5e-aacc-ea137e10dc75",
   "metadata": {},
   "source": [
    "Thus,  \n",
    "\n",
    "$$ f_\\min  = f(P) \\quad\\quad\\text{where } P = \\left(\\sqrt{3},\\sqrt{2},1\\right)$$"
   ]
  },
  {
   "cell_type": "markdown",
   "id": "061b3f4f-d60c-48ac-b801-049cae9691ed",
   "metadata": {},
   "source": [
    "The min occurs at the critical point $P$ because the max occurs at the boundaries."
   ]
  },
  {
   "cell_type": "markdown",
   "id": "e9c03af1-cec7-4bfb-9b82-0fe0329d19c5",
   "metadata": {},
   "source": [
    "#### $\\S\\,2\\mathrm{I} : 3$"
   ]
  },
  {
   "cell_type": "markdown",
   "id": "741c4bb7-1f05-455f-9f27-c7515ac1cdc6",
   "metadata": {},
   "source": [
    "$$ T:= f(x,y,z) = 2yz + 4xz + 3xy \\quad\\quad V:=g(x,y,z)=xyz=1$$"
   ]
  },
  {
   "cell_type": "markdown",
   "id": "6854fbf8-02ec-4013-a913-5970e7fc9815",
   "metadata": {},
   "source": [
    "We need to find $P$ such that $T_\\min = f(P)$.  Since the $T_\\max$ occurs at the boundaries, $P$ is a critical point that is given by:  \n",
    "\n",
    "$$ \\nabla f = \\lambda \\nabla g \\quad\\quad V =xyz= 1$$"
   ]
  },
  {
   "cell_type": "markdown",
   "id": "77d8d357-0b57-46cc-8c49-87211e8d8080",
   "metadata": {},
   "source": [
    "$$ \\nabla f = \\langle 4z+3y, 2z + 3x, 2y + 4x\\rangle \\quad\\quad \\nabla g = \\langle yz, xz, xy\\rangle$$"
   ]
  },
  {
   "cell_type": "markdown",
   "id": "bd9cedca-353c-4e3d-9e52-bb82cc8b4e3e",
   "metadata": {},
   "source": [
    "$$ \\frac{4z + 3y}{yz} = \\frac{2z+3x}{xz} = \\frac{2y+4x}{xy}$$"
   ]
  },
  {
   "cell_type": "markdown",
   "id": "e12476d0-c90f-466a-9e26-ba999993ad31",
   "metadata": {},
   "source": [
    "$$ \\therefore \\quad \\frac{4}{y} + \\frac{3}{z} = \\frac{2}{x} + \\frac{3}{z} = \\frac{2}{x} + \\frac{4}{y}$$"
   ]
  },
  {
   "cell_type": "markdown",
   "id": "34090afc-b5ce-4ae4-8fd3-508e574be976",
   "metadata": {},
   "source": [
    "$$ \\therefore\\quad \\frac{2}{y} = \\frac{1}{x} \\quad\\text{and}\\quad \\frac{3}{z} = \\frac{4}{y} \\quad\\text{and}\\quad \\frac{3}{z} = \\frac{2}{x}$$"
   ]
  },
  {
   "cell_type": "markdown",
   "id": "cac58430-142a-4d5a-aea9-8dd80b4cc9a7",
   "metadata": {},
   "source": [
    "$$ \\therefore\\quad 2x = y \\quad\\text{and}\\quad y = \\frac{4}{3}\\,z \\quad\\text{and}\\quad x = \\frac{2}{3}\\,z$$"
   ]
  },
  {
   "cell_type": "markdown",
   "id": "75f87b36-3439-4efa-b10f-e01c2c49a0d3",
   "metadata": {},
   "source": [
    "$$ \\frac{8}{9}\\,z^3 = 1 \\quad\\therefore\\quad z^3 = \\frac{9}{8} \\quad\\therefore\\quad z = \\frac{\\sqrt[3]{9}}{2}$$"
   ]
  },
  {
   "cell_type": "markdown",
   "id": "953ac97b-ebe3-487b-9aa7-69c959e8cbf4",
   "metadata": {},
   "source": [
    "$$ P = \\left(\\frac{1}{\\sqrt[3]{3}}, \\frac{2}{\\sqrt[3]{3}},\\frac{\\sqrt[3]{9}}{2}\\right)$$"
   ]
  },
  {
   "cell_type": "markdown",
   "id": "a0dd86c7-3557-4aa8-a75e-e8be1b2065c4",
   "metadata": {},
   "source": [
    "The proportions are thus,  \n",
    "\n",
    "$$ x:2x:\\frac{3}{2}\\,x$$"
   ]
  },
  {
   "cell_type": "markdown",
   "id": "dc488f60-3870-4049-9abb-1be264d9b757",
   "metadata": {},
   "source": [
    "#### $\\S\\,2\\mathrm{I} : 4$  \n",
    "\n",
    "The capacitive volume $V$ and total cost $T$ are given by:  \n",
    "\n",
    "$$ V:=g(x,y,z) = xyz \\quad\\quad T:=f(x,y,z)=4yz + 6xz + xy $$"
   ]
  },
  {
   "cell_type": "markdown",
   "id": "a74be731-c293-424c-9f69-3368b7936f82",
   "metadata": {},
   "source": [
    "$$ \\nabla g = \\langle yz,xz,xy\\rangle\\quad\\quad \\nabla f = \\langle 6z + y, 4z + x, 4y + 6x\\rangle$$"
   ]
  },
  {
   "cell_type": "markdown",
   "id": "59d4f29c-5cdb-417a-a46c-5f6b79c963e7",
   "metadata": {},
   "source": [
    "**a)**  We must find $P$ such that $V_\\max = g(P)$ and $f(P) = 72$."
   ]
  },
  {
   "cell_type": "markdown",
   "id": "57ce62a1-47de-41f4-84a7-efaf324d09fe",
   "metadata": {},
   "source": [
    "The min exists at the boundaries.  The critical point of $V$ under the cost based constrainment, is given by:  \n",
    "\n",
    "$$ \\nabla g = \\lambda \\nabla f \\quad\\quad T = 72 $$"
   ]
  },
  {
   "cell_type": "markdown",
   "id": "db50f6ec-b4ba-4a30-b7ca-6548ed1544ff",
   "metadata": {},
   "source": [
    "$$ \\frac{6}{y} + \\frac{1}{z} = \\frac{4}{x} + \\frac{1}{z} = \\frac{4}{x} + \\frac{6}{y}$$"
   ]
  },
  {
   "cell_type": "markdown",
   "id": "70a5fd78-5d4a-412e-97c3-cb4bd4c16007",
   "metadata": {},
   "source": [
    "$$ \\frac{3}{y} = \\frac{2}{x} \\quad\\quad \\frac{1}{z} = \\frac{6}{y}\\quad\\quad \\frac{4}{x} = \\frac{1}{z}$$"
   ]
  },
  {
   "cell_type": "markdown",
   "id": "bbaef0c4-51af-4532-a257-d3cc7bf5e553",
   "metadata": {},
   "source": [
    "$$ x = \\frac{2}{3}\\,y \\quad\\quad y = 6z\\quad\\quad z = 0.25x$$"
   ]
  },
  {
   "cell_type": "markdown",
   "id": "9412e706-559f-44ff-b3ce-0a4ce466cf7e",
   "metadata": {},
   "source": [
    "$$ P = (4,6,1)$$"
   ]
  },
  {
   "cell_type": "markdown",
   "id": "29a19844-c3e7-4d8d-8fc8-0ac32dc362b5",
   "metadata": {},
   "source": [
    "**b)**  Here, we must find $P$ such that $T_\\min = T(P)$ and $V=24$.  $T_\\max$ exists at the boundaries.  The critical point of $f(x,y,z)$ under the volume based constrainment is given by:  \n",
    "\n",
    "$$ \\nabla f = \\lambda \\nabla g \\quad\\quad V = 24$$"
   ]
  },
  {
   "cell_type": "markdown",
   "id": "54d9c684-f785-435e-9fb6-4209a9581849",
   "metadata": {},
   "source": [
    "### Non-independent Variables\n",
    "\n",
    "#### $\\S\\,2\\mathrm{J} : 1$  \n",
    "\n",
    "Example 1 (the referenced example) states:  \n",
    "\n",
    "$$ w = x^2+y^2+z^2 \\quad\\quad z = x^2+y^2$$"
   ]
  },
  {
   "cell_type": "markdown",
   "id": "688c7ceb-5b5c-4ac5-9e9b-31812ee58060",
   "metadata": {},
   "source": [
    "Via the above two equations and substitution,  \n",
    "\n",
    "$$ w = z + z^2$$"
   ]
  },
  {
   "cell_type": "markdown",
   "id": "9fa8986e-28eb-411e-8250-2c5a95c39887",
   "metadata": {},
   "source": [
    "$$ \\left(\\frac{\\partial w}{\\partial y}\\right)_z = 0 \\quad\\quad \\left(\\frac{\\partial w}{\\partial z}\\right)_y = 2z+1$$"
   ]
  },
  {
   "cell_type": "markdown",
   "id": "f1fadd1b-2655-40ec-a02b-8fe5cf601e7b",
   "metadata": {},
   "source": [
    "#### $\\S\\,2\\mathrm{J} : 2$"
   ]
  },
  {
   "cell_type": "markdown",
   "id": "b91a78fe-c07e-4984-9bd4-7bc53a31cca9",
   "metadata": {},
   "source": [
    "(i)  $$ \\left(\\frac{\\partial w}{\\partial y}\\right)_z = \\left(\\frac{\\partial x^2}{\\partial y}\\right)_z + 2y$$"
   ]
  },
  {
   "cell_type": "markdown",
   "id": "c1ab2666-42d8-42b7-87e1-68ed87299560",
   "metadata": {},
   "source": [
    "$$ \\left(\\frac{\\partial x^2}{\\partial y}\\right)_z = -2y$$"
   ]
  },
  {
   "cell_type": "markdown",
   "id": "8fd34246-fc0c-4a3a-91e9-53e6f4caf01d",
   "metadata": {},
   "source": [
    "Via the above two equations and substitution,  \n",
    "\n",
    "$$ \\left(\\frac{\\partial w}{\\partial y}\\right)_z = 0$$"
   ]
  },
  {
   "cell_type": "markdown",
   "id": "34a6e6ee-4993-4db5-9e4e-5843db1985a6",
   "metadata": {},
   "source": [
    "$$ \\left(\\frac{\\partial w}{\\partial z}\\right)_y = \\left(\\frac{\\partial x^2}{\\partial z}\\right)_y + 2z$$"
   ]
  },
  {
   "cell_type": "markdown",
   "id": "ae788550-c44b-4da7-82f2-e2aa12b75ed0",
   "metadata": {},
   "source": [
    "$$ \\left(\\frac{\\partial x^2}{\\partial z}\\right)_y = 1$$"
   ]
  },
  {
   "cell_type": "markdown",
   "id": "41d97d25-154b-4f58-a38b-cd8fdde0405a",
   "metadata": {},
   "source": [
    "Via the above two equations and substitution,  \n",
    "\n",
    "$$ \\left(\\frac{\\partial w}{\\partial z}\\right)_y = 2z+1$$"
   ]
  },
  {
   "cell_type": "markdown",
   "id": "f43271c2-4231-49bc-bcf2-d6fb2f21f36d",
   "metadata": {},
   "source": [
    "(ii)  $$ \\mathrm{d}w = 2\\big(x\\mathrm{d}x + y\\mathrm{d}y + z\\mathrm{d}z\\big) \\quad\\quad \\mathrm{d}z = 2\\big(x\\mathrm{d}x + y\\mathrm{d}y\\big)$$"
   ]
  },
  {
   "cell_type": "markdown",
   "id": "8c1b98a4-4299-4da0-a0a7-08031e5f62f8",
   "metadata": {},
   "source": [
    "$$ \\mathrm{d}y = -\\frac{x}{y}\\mathrm{d}x+\\frac{1}{2y}\\mathrm{d}z \\quad\\quad \\mathrm{d}x = - \\frac{y}{x}\\mathrm{d}y+\\frac{1}{2x}\\mathrm{d}z$$"
   ]
  },
  {
   "cell_type": "markdown",
   "id": "dfec942f-4e4b-49c1-bbd5-7fe9424be8bf",
   "metadata": {},
   "source": [
    "$$ \\mathrm{d}w = 2\\big(0.5\\mathrm{d}z + z\\mathrm{d}z\\big) = (1+2z)\\mathrm{d}z$$"
   ]
  },
  {
   "cell_type": "markdown",
   "id": "41a6bcf5-e91d-4a9d-a601-09dfeb2e1baf",
   "metadata": {},
   "source": [
    "#### $\\S\\,2\\mathrm{J} : 3$"
   ]
  },
  {
   "cell_type": "markdown",
   "id": "2fdc8afc-0b02-429f-b77b-fb63d550b0c0",
   "metadata": {},
   "source": [
    "Example 2 (the referenced example) states that:  \n",
    "\n",
    "$$ w = x^3y-z^2t \\quad\\quad\\text{and}\\quad\\quad xy=zt$$"
   ]
  },
  {
   "cell_type": "markdown",
   "id": "fffa6b3d-3090-46b2-a3e8-0ae081d613a9",
   "metadata": {},
   "source": [
    "**a)**  $$ \\left(\\frac{\\partial w}{\\partial t}\\right)_{x,z} = x^3\\,\\left(\\frac{\\partial y}{\\partial t}\\right)_{x,z} - z^2$$"
   ]
  },
  {
   "cell_type": "markdown",
   "id": "b93e3403-2aca-498d-a801-18bd9725c2ad",
   "metadata": {},
   "source": [
    "$$ \\left(\\frac{\\partial y}{\\partial t}\\right)_{x,z} = \\frac{z}{x}$$"
   ]
  },
  {
   "cell_type": "markdown",
   "id": "a46eea84-08d6-4e96-8bd5-e61e92eb7b64",
   "metadata": {},
   "source": [
    "Thus,  \n",
    "\n",
    "$$ \\left(\\frac{\\partial w}{\\partial t}\\right)_{x,z} = x^2z - z^2$$"
   ]
  },
  {
   "cell_type": "markdown",
   "id": "0aac6920-ceb0-4aa7-9cd7-e52e06eb69db",
   "metadata": {},
   "source": [
    "**b)**  \n",
    "\n",
    "$$ \\left(\\frac{\\partial w}{\\partial z}\\right)_{x,y} = - 2zt - z^2\\,\\left(\\frac{\\partial t}{\\partial z}\\right)_{x,y}$$"
   ]
  },
  {
   "cell_type": "markdown",
   "id": "511d45aa-bcb4-4cb5-b75a-bc7a65bb3666",
   "metadata": {},
   "source": [
    "$$ \\left(\\frac{\\partial t}{\\partial z}\\right)_{x,y} = - \\frac{xy}{z^2}$$"
   ]
  },
  {
   "cell_type": "markdown",
   "id": "e9df086b-3ab0-4dae-9ebb-e1259d80ee24",
   "metadata": {},
   "source": [
    "Thus,  \n",
    "\n",
    "$$ \\left(\\frac{\\partial w}{\\partial z}\\right)_{x,y}= xy - 2zt = -zt$$"
   ]
  },
  {
   "cell_type": "markdown",
   "id": "3e5a6e93-c972-41ba-bb52-5570cc47b40e",
   "metadata": {},
   "source": [
    "#### $\\S\\,2\\mathrm{J} : 4$"
   ]
  },
  {
   "cell_type": "markdown",
   "id": "7ad67cc9-054c-4265-8be5-ebae2264c2cf",
   "metadata": {},
   "source": [
    "Recall that, as stated by the referenced example,  \n",
    "\n",
    "$$ w = x^3y - z^2t \\quad\\quad\\text{and}\\quad\\quad xy=zt$$"
   ]
  },
  {
   "cell_type": "markdown",
   "id": "146ffbd7-7351-41f3-8d8b-6fab2a08e1f9",
   "metadata": {},
   "source": [
    "\\begin{equation}\\tag{4.1}\n",
    "    \\mathrm{d}w = 3x^2y\\,\\mathrm{d}x + x^3\\mathrm{d}y - 2zt\\,\\mathrm{d}z - z^2\\mathrm{d}t\n",
    "\\end{equation}"
   ]
  },
  {
   "cell_type": "markdown",
   "id": "9cd73852-8b1d-41d2-894e-64d22c8087e9",
   "metadata": {},
   "source": [
    "**a)**  $$ \\mathrm{d}y = -\\frac{zt}{x^2}\\,\\mathrm{d}x + \\frac{t}{x}\\,\\mathrm{d}z + \\frac{z}{x}\\,\\mathrm{d}t$$"
   ]
  },
  {
   "cell_type": "markdown",
   "id": "7d26dfc2-28d1-48d6-8ffc-2ad690448a2d",
   "metadata": {},
   "source": [
    "\\begin{equation}\\tag{4.2}\n",
    "    \\mathrm{d}y = \\frac{1}{x}\\,\\left(t\\,\\mathrm{d}z + z\\,\\mathrm{d}t - \\frac{zt}{x}\\,\\mathrm{d}x\\right)\n",
    "\\end{equation}"
   ]
  },
  {
   "cell_type": "markdown",
   "id": "f2150b91-f12f-4401-87fb-0c7905256039",
   "metadata": {},
   "source": [
    "Via equations (4.1) and (4.2) and substitution,  \n",
    "\n",
    "$$ \\mathrm{d}w = 3x^2y\\,\\mathrm{d}x + x^2\\left(t\\,\\mathrm{d}z + z\\,\\mathrm{d}t - \\frac{zt}{x}\\,\\mathrm{d}x\\right) - 2zt\\,\\mathrm{d}z - z^2\\mathrm{d}t$$"
   ]
  },
  {
   "cell_type": "markdown",
   "id": "b134bb2e-9718-41a3-b097-ab293e8c1678",
   "metadata": {},
   "source": [
    "Thus,  \n",
    "\n",
    "$$ \\left(\\frac{\\partial w}{\\partial t}\\right)_{x,z}  = x^2z-z^2$$"
   ]
  },
  {
   "cell_type": "markdown",
   "id": "f80eeeb6-c55d-4904-add5-5190318962fc",
   "metadata": {},
   "source": [
    "**b)**  $$ \\mathrm{d}t = \\frac{y}{z}\\,\\mathrm{d}x + \\frac{x}{z}\\,\\mathrm{d}y - \\frac{xy}{z^2}\\,\\mathrm{d}z$$"
   ]
  },
  {
   "cell_type": "markdown",
   "id": "bb259d2c-2d37-4583-acb7-336504e593c2",
   "metadata": {},
   "source": [
    "\\begin{equation}\\tag{4.3}\n",
    "    \\mathrm{d}t = \\frac{1}{z}\\,\\left(y\\,\\mathrm{d}x + z\\,\\mathrm{d}y - \\frac{xy}{z}\\,\\mathrm{d}z\\right)\n",
    "\\end{equation}"
   ]
  },
  {
   "cell_type": "markdown",
   "id": "74b81cd6-673b-4ac8-bd8c-682676f273e9",
   "metadata": {},
   "source": [
    "Via equations (4.1) and (4.3) and substitution,  \n",
    "\n",
    "$$ \\mathrm{d}w = 3x^2\\,\\mathrm{d}x + x^3\\,\\mathrm{d}y - 2zt\\,\\mathrm{d}z - z\\left(y\\,\\mathrm{d}z + z\\mathrm{d}y - \\frac{xy}{z}\\,\\mathrm{d}z\\right)$$"
   ]
  },
  {
   "cell_type": "markdown",
   "id": "af508577-3851-4560-9139-21fe7dcabf3b",
   "metadata": {},
   "source": [
    "Thus,  \n",
    "\n",
    "$$ \\left(\\frac{\\partial w}{\\partial z}\\right)_{x,y} = xy - 2zt$$"
   ]
  },
  {
   "cell_type": "markdown",
   "id": "73d7eaa6-38c0-42f3-8bd0-9b8274fcca79",
   "metadata": {},
   "source": [
    "#### $\\S\\,2\\mathrm{J} : 5$"
   ]
  },
  {
   "cell_type": "markdown",
   "id": "4b3fd30c-32b8-4291-9b8f-c806d8ff07fb",
   "metadata": {},
   "source": [
    "Recall the ideal gas law.  \n",
    "\n",
    "\\begin{equation}\\tag{1}\n",
    "    pv = nRT \\quad\\quad\\text{where }n,R = \\mathit{const}\n",
    "\\end{equation}"
   ]
  },
  {
   "cell_type": "markdown",
   "id": "6988da45-25a6-4295-ae26-69fe27d386d7",
   "metadata": {},
   "source": [
    "The total differential of $S$ is:  \n",
    "\n",
    "\\begin{equation}\\tag{5.1}\n",
    "    \\mathrm{d}S = S_p\\mathrm{d}p + S_v\\mathrm{d}v + S_T\\mathrm{d}T\n",
    "\\end{equation}"
   ]
  },
  {
   "cell_type": "markdown",
   "id": "8f9d096e-b108-4ff0-a201-8ea112f146e2",
   "metadata": {},
   "source": [
    "**a)**  \n",
    "\\begin{equation}\\tag{5.2}\n",
    "    \\mathrm{d}T = \\frac{1}{nR}\\,\\big(v\\,\\mathrm{d}p + p\\,\\mathrm{d}v\\big)\n",
    "\\end{equation}"
   ]
  },
  {
   "cell_type": "markdown",
   "id": "170917ba-6738-435a-8e23-9bab783ceffe",
   "metadata": {},
   "source": [
    "Via equations (5.2) and (5.1) and substitution,  \n",
    "\n",
    "$$ \\mathrm{d}S = S_p\\mathrm{d}p + S_v\\mathrm{d}v + \\frac{S_T}{nR}\\,\\big(v\\,\\mathrm{d}p + p\\,\\mathrm{d}v\\big)$$"
   ]
  },
  {
   "cell_type": "markdown",
   "id": "971727b6-05eb-4911-9481-45e1c6918fed",
   "metadata": {},
   "source": [
    "Thus,  \n",
    "\n",
    "$$ \\left(\\frac{\\partial S}{\\partial p}\\right)_v = S_p + \\frac{vS_T}{nR}$$"
   ]
  },
  {
   "cell_type": "markdown",
   "id": "414b0d2e-80d3-453f-a5b6-af46f6033ca4",
   "metadata": {},
   "source": [
    "**b)**  \n",
    "\\begin{equation}\\tag{5.3}\n",
    "    \\mathrm{d}p = \\frac{nR}{v}\\,\\left(\\mathrm{d}T - \\frac{T}{v}\\,\\mathrm{d}v\\right)\n",
    "\\end{equation}"
   ]
  },
  {
   "cell_type": "markdown",
   "id": "8f72ecc3-b20e-4311-8147-e6a8a7b93dcd",
   "metadata": {},
   "source": [
    "Via equations (5.3) and (5.1) and substitution,  \n",
    "\n",
    "$$ \\mathrm{d}S = S_p\\,\\frac{nR}{v}\\,\\left(\\mathrm{d}T - \\frac{T}{v}\\,\\mathrm{d}v\\right) + S_v\\mathrm{d}v + S_T\\mathrm{d}T$$"
   ]
  },
  {
   "cell_type": "markdown",
   "id": "26c7b654-9499-4a9c-98b8-d966855196e9",
   "metadata": {},
   "source": [
    "Thus,  \n",
    "\n",
    "$$ \\left(\\frac{\\partial S}{\\partial T}\\right)_v = S_p\\,\\frac{nR}{v} + S_T$$"
   ]
  },
  {
   "cell_type": "markdown",
   "id": "d21dd757-38b1-4be2-9c0e-35710693537b",
   "metadata": {},
   "source": [
    "#### $\\S\\,2\\mathrm{J} : 6$"
   ]
  },
  {
   "cell_type": "markdown",
   "id": "cab8cbd7-ac83-43a7-9c45-9d0cf5569815",
   "metadata": {},
   "source": [
    "$$ w = u^3 - uv^2 \\quad\\quad u = xy \\quad\\quad v = u+x$$"
   ]
  },
  {
   "cell_type": "markdown",
   "id": "5d33282b-de90-4dd5-a633-d176d05a1c2b",
   "metadata": {},
   "source": [
    "**a)**  $$ \\left(\\frac{\\partial w}{\\partial u}\\right)_x = 3u^2 - v^2 - 2uv\\left(\\frac{\\partial v}{\\partial u}\\right)_x $$"
   ]
  },
  {
   "cell_type": "markdown",
   "id": "b6b94485-4b7f-4735-b767-27ea516b9bea",
   "metadata": {},
   "source": [
    "$$ \\left(\\frac{\\partial w}{\\partial u}\\right)_x = 3u^2 - (u+x)^2 - 2u(u+x)$$"
   ]
  },
  {
   "cell_type": "markdown",
   "id": "875d3c6f-7540-4dab-a2fc-b6f4db762ae8",
   "metadata": {},
   "source": [
    "\\begin{equation}\\tag{6.1}\n",
    "    \\left(\\frac{\\partial w}{\\partial u}\\right)_x = - 4ux - x^2\n",
    "\\end{equation}"
   ]
  },
  {
   "cell_type": "markdown",
   "id": "d699f20d-0dbb-45c1-bc8a-56a595a2109d",
   "metadata": {},
   "source": [
    "$$ \\left(\\frac{\\partial w}{\\partial x}\\right)_u = -2uv\\,\\left(\\frac{\\partial v}{\\partial x}\\right)_u $$"
   ]
  },
  {
   "cell_type": "markdown",
   "id": "4a651777-2196-4aca-821a-9417af58bfa1",
   "metadata": {},
   "source": [
    "\\begin{equation}\\tag{6.2}\n",
    "    \\left(\\frac{\\partial w}{\\partial x}\\right)_u = -2u(u+x)\n",
    "\\end{equation}"
   ]
  },
  {
   "cell_type": "markdown",
   "id": "58ecc47b-daed-4bca-af5b-9d92bdc52f86",
   "metadata": {},
   "source": [
    "**b)**  \n",
    "\\begin{equation}\\tag{6.3}\n",
    "    \\mathrm{d}w = \\big(3u^2 - v^2\\big)\\mathrm{d}u - 2uv\\,\\mathrm{d}v\n",
    "\\end{equation}"
   ]
  },
  {
   "cell_type": "markdown",
   "id": "c27db25c-4e06-43c9-be64-697ad445ec07",
   "metadata": {},
   "source": [
    "\\begin{equation}\\tag{6.4a,b}\n",
    "    \\mathrm{d}u = y\\,\\mathrm{d}x + x\\,\\mathrm{d}y  \\quad\\quad \\text{and}\\quad\\quad \\mathrm{d}v = \\mathrm{d}u + \\mathrm{d}x\n",
    "\\end{equation}"
   ]
  },
  {
   "cell_type": "markdown",
   "id": "dfd8ae9c-6410-4fc3-a321-316f441c2126",
   "metadata": {},
   "source": [
    "Via equations (6.4b) and (6.3) and substitution,  \n",
    "\n",
    "$$ \\mathrm{d}w = \\big(3u^2 - u^2 - 2ux - x^2\\big)\\mathrm{d}u - 2u(u+x)\\big(\\mathrm{d}u + \\mathrm{d}x\\big)$$"
   ]
  },
  {
   "cell_type": "markdown",
   "id": "c70f26e1-40b4-4d6b-a4e2-e4f4375142e0",
   "metadata": {},
   "source": [
    "Thus, equations (6.1) and (6.2)"
   ]
  },
  {
   "cell_type": "markdown",
   "id": "f060cef3-e6a6-4b94-b755-a0c0a50fd26f",
   "metadata": {},
   "source": [
    "#### $\\S\\,2\\mathrm{J} : 7$"
   ]
  },
  {
   "cell_type": "markdown",
   "id": "f45a0aa1-fe5a-4cc9-b9d8-3bc2eb996b30",
   "metadata": {},
   "source": [
    "The total differential are:  \n",
    "\n",
    "$$\\mathrm{d}f(P) = 2\\mathrm{d}x + \\mathrm{d}y - 3\\mathrm{d}z \\quad\\quad\\text{and}\\quad\\quad \\mathrm{d}z = 2x\\,\\mathrm{d}x + \\mathrm{d}y$$"
   ]
  },
  {
   "cell_type": "markdown",
   "id": "378d94ba-402b-4918-9244-f74b29cbbc31",
   "metadata": {},
   "source": [
    "$$ \\mathrm{d}z(P) = 2\\mathrm{d}x + \\mathrm{d}y$$"
   ]
  },
  {
   "cell_type": "markdown",
   "id": "ecfdbea2-7262-4e51-827b-dd5150507df7",
   "metadata": {},
   "source": [
    "Via the above equations and substitution, with $y$ as a non-independent variable,  \n",
    "\n",
    "$$ \\mathrm{d}f(P) = -2\\mathrm{d}z$$"
   ]
  },
  {
   "cell_type": "markdown",
   "id": "20479751-8058-433a-8c74-75f267841495",
   "metadata": {},
   "source": [
    "Thus,  \n",
    "\n",
    "$$ \\nabla g(P) = \\langle 0, -2\\rangle$$"
   ]
  }
 ],
 "metadata": {
  "kernelspec": {
   "display_name": "Python 3 (ipykernel)",
   "language": "python",
   "name": "python3"
  },
  "language_info": {
   "codemirror_mode": {
    "name": "ipython",
    "version": 3
   },
   "file_extension": ".py",
   "mimetype": "text/x-python",
   "name": "python",
   "nbconvert_exporter": "python",
   "pygments_lexer": "ipython3",
   "version": "3.10.12"
  }
 },
 "nbformat": 4,
 "nbformat_minor": 5
}
