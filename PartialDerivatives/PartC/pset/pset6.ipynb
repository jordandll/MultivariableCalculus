{
 "cells": [
  {
   "cell_type": "markdown",
   "id": "b8637235-ef59-419d-abba-da83ab420253",
   "metadata": {},
   "source": [
    "# Problem Set 6\n",
    "\n",
    "## Part I  \n",
    "\n",
    "### Lagrange Multipliers\n",
    "\n",
    "#### $\\S\\,2\\mathrm{I} : 1$"
   ]
  },
  {
   "cell_type": "markdown",
   "id": "1a920da9-470d-4342-a328-d601b5b42e87",
   "metadata": {},
   "source": [
    "**a)**  $$ f(x,y,z) = x+2y+3z = 18 = c \\quad\\quad \\text{and}\\quad\\quad V = xyz$$"
   ]
  },
  {
   "cell_type": "markdown",
   "id": "088bcd10-6b69-417e-8121-91a75a569a33",
   "metadata": {},
   "source": [
    "The critical points of $V$ under the constrainment of $f(x,y,z)=c$ are given by:  \n",
    "\n",
    "$$ \\nabla V = \\lambda \\nabla f \\quad\\quad\\text{and}\\quad\\quad f(x,y,z)=c$$"
   ]
  },
  {
   "cell_type": "markdown",
   "id": "940fa5f3-ff22-45cc-bf6e-ff5661929009",
   "metadata": {},
   "source": [
    "$$ \\nabla V = \\langle yz, xz, xy\\rangle \\quad\\quad \\text{and}\\quad\\quad \\nabla f = \\langle 1, 2, 3\\rangle$$"
   ]
  },
  {
   "cell_type": "markdown",
   "id": "c38a5256-7aba-4d1e-860e-25f7cc000081",
   "metadata": {},
   "source": [
    "Thus,  \n",
    "\n",
    "$$ yz = 0.5xz = \\frac{xy}{3} \\quad\\implies$$"
   ]
  },
  {
   "cell_type": "markdown",
   "id": "3e1c3a55-4dcb-46b0-991f-6e6ea08f0fc2",
   "metadata": {},
   "source": [
    "$$ y = 0.5x \\quad\\quad z = \\frac{2}{3}\\,y \\quad\\quad z = \\frac{x}{3}$$"
   ]
  },
  {
   "cell_type": "markdown",
   "id": "630ba91b-d744-4ace-87ea-7e5598b4c3af",
   "metadata": {},
   "source": [
    "Via the above and the constrainment,  \n",
    "\n",
    "$$ x + x + x = 18 \\quad\\therefore\\quad x = 6 \\;\\land\\; y = 3 \\;\\land\\; z = 2$$"
   ]
  },
  {
   "cell_type": "markdown",
   "id": "3f1d8816-e0a5-4774-974a-f5b1e6fef076",
   "metadata": {},
   "source": [
    "$$ V_\\max = V(P) \\quad\\quad\\text{where } P = (6,3,2)$$"
   ]
  },
  {
   "cell_type": "markdown",
   "id": "2e207a55-3811-426a-a833-77415bb648a2",
   "metadata": {},
   "source": [
    "The maximum exists either at a critical point or on the boundary, and since the boundary cases give a volume of zero that leaves us with only the critical point of $P$ at which the max volume exists."
   ]
  },
  {
   "cell_type": "markdown",
   "id": "7669d023-20a3-4cec-be6b-2c9b40e501b2",
   "metadata": {},
   "source": [
    "**b)**  The critical points of $V$ on the ellipsoid are given by:  \n",
    "\n",
    "$$ \\nabla V = \\lambda \\nabla f \\quad\\quad x^2 + 2y^2 + 4z^2 = 12$$"
   ]
  },
  {
   "cell_type": "markdown",
   "id": "a135da0b-c75f-4d3f-9006-812ed399cc81",
   "metadata": {},
   "source": [
    "$$ \\nabla f = \\langle 2x,4y,8z\\rangle$$"
   ]
  },
  {
   "cell_type": "markdown",
   "id": "a9f8b679-9b18-4bbd-abd5-0dded45b5425",
   "metadata": {},
   "source": [
    "Thus,  \n",
    "\n",
    "$$ \\frac{yz}{2x} = \\frac{xz}{4y} = \\frac{xy}{8z} \\quad\\therefore\\quad \\frac{yz}{x} = \\frac{xz}{2y} = \\frac{xy}{4z}$$"
   ]
  },
  {
   "cell_type": "markdown",
   "id": "38b1b4b8-4593-40c3-8547-2de5a9226f00",
   "metadata": {},
   "source": [
    "Therefore,  \n",
    "\n",
    "$$ (2yz)^2 = 2(xz)^2 = (xy)^2$$"
   ]
  },
  {
   "cell_type": "markdown",
   "id": "f39f2715-0d70-4414-849f-89f5061dfcf6",
   "metadata": {},
   "source": [
    "$$ y = \\sqrt{2}z\\quad\\quad x = \\sqrt{2}y \\quad\\quad x = 2z$$"
   ]
  },
  {
   "cell_type": "markdown",
   "id": "fed66657-e687-4ff4-98de-635c188c2da5",
   "metadata": {},
   "source": [
    "$$ 2y^2 + 2y^2 + 2y^2 = 12 \\quad\\therefore \\quad y^2 = 2 \\quad\\therefore \\quad y = \\sqrt{2}$$"
   ]
  },
  {
   "cell_type": "markdown",
   "id": "2c0bd4ed-87f7-4f27-a939-75fb6d5da2b2",
   "metadata": {},
   "source": [
    "Thus,  \n",
    "\n",
    "$$ V_\\max = V(P) \\quad\\quad\\text{where }P = \\big(2,\\sqrt{2},1\\big)$$"
   ]
  },
  {
   "cell_type": "markdown",
   "id": "96cc9560-5169-4212-87ec-924a708f0845",
   "metadata": {},
   "source": [
    "#### $\\S\\,2\\mathrm{I} : 2$"
   ]
  },
  {
   "cell_type": "markdown",
   "id": "e9c03af1-cec7-4bfb-9b82-0fe0329d19c5",
   "metadata": {},
   "source": [
    "#### $\\S\\,2\\mathrm{I} : 3$"
   ]
  },
  {
   "cell_type": "markdown",
   "id": "17853b9d-dc9c-496f-a1dd-a3909bafcfc6",
   "metadata": {},
   "source": [
    "#### $\\S\\,2\\mathrm{I} : 4$"
   ]
  },
  {
   "cell_type": "markdown",
   "id": "54d9c684-f785-435e-9fb6-4209a9581849",
   "metadata": {},
   "source": [
    "### Non-independent Variables\n",
    "\n",
    "#### $\\S\\,2\\mathrm{J} : 1$"
   ]
  },
  {
   "cell_type": "markdown",
   "id": "f1fadd1b-2655-40ec-a02b-8fe5cf601e7b",
   "metadata": {},
   "source": [
    "#### $\\S\\,2\\mathrm{J} : 2$"
   ]
  },
  {
   "cell_type": "markdown",
   "id": "41a6bcf5-e91d-4a9d-a601-09dfeb2e1baf",
   "metadata": {},
   "source": [
    "#### $\\S\\,2\\mathrm{J} : 3$"
   ]
  },
  {
   "cell_type": "markdown",
   "id": "3e5a6e93-c972-41ba-bb52-5570cc47b40e",
   "metadata": {},
   "source": [
    "#### $\\S\\,2\\mathrm{J} : 4$"
   ]
  },
  {
   "cell_type": "markdown",
   "id": "73d7eaa6-38c0-42f3-8bd0-9b8274fcca79",
   "metadata": {},
   "source": [
    "#### $\\S\\,2\\mathrm{J} : 5$"
   ]
  },
  {
   "cell_type": "markdown",
   "id": "d21dd757-38b1-4be2-9c0e-35710693537b",
   "metadata": {},
   "source": [
    "#### $\\S\\,2\\mathrm{J} : 6$"
   ]
  },
  {
   "cell_type": "markdown",
   "id": "f060cef3-e6a6-4b94-b755-a0c0a50fd26f",
   "metadata": {},
   "source": [
    "#### $\\S\\,2\\mathrm{J} : 7$"
   ]
  }
 ],
 "metadata": {
  "kernelspec": {
   "display_name": "Python 3 (ipykernel)",
   "language": "python",
   "name": "python3"
  },
  "language_info": {
   "codemirror_mode": {
    "name": "ipython",
    "version": 3
   },
   "file_extension": ".py",
   "mimetype": "text/x-python",
   "name": "python",
   "nbconvert_exporter": "python",
   "pygments_lexer": "ipython3",
   "version": "3.10.12"
  }
 },
 "nbformat": 4,
 "nbformat_minor": 5
}
