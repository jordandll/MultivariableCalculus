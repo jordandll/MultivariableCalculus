{
 "cells": [
  {
   "cell_type": "markdown",
   "id": "cbedc3c6-ef3f-42a6-beaf-8a268c0b425b",
   "metadata": {},
   "source": [
    "# Surface Area\n",
    "\n",
    "Herein we explore how to find the surface area of a few surfaces/shapes.\n",
    "\n",
    "## Spheres  \n",
    "\n",
    "Suppose we have a sphere $S$ with a radius of $a$ centered at origin.  Our shere is given by, in $(\\rho,\\phi,\\theta)$- spherical coordinates:  \n",
    "\n",
    "$$ S:\\;(a,\\phi,\\theta)$$"
   ]
  },
  {
   "cell_type": "markdown",
   "id": "26554ce5-aaae-4d79-aa91-bdf0499fab57",
   "metadata": {},
   "source": [
    "The projection of $S$ onto the $(r,\\theta)$ or $(x,y)$ plane is a circle $R$ of radius $a$ centered at origin.  Below is a map from the top half of $S$ in spherical coordinates to $R$ in polar coordinates.  \n",
    "\n",
    "$$ R:\\;\\theta = \\theta \\quad\\quad\\text{and}\\quad\\quad r = a\\sin\\phi$$"
   ]
  },
  {
   "cell_type": "markdown",
   "id": "93754ee1-7142-4cab-8e21-ca2d6843e11e",
   "metadata": {},
   "source": [
    "The area of a small segment of $R$ is given by:  \n",
    "\n",
    "$$ \\Delta A = \\Delta A_2 - \\Delta A_1 = 0.5\\theta a^2$$"
   ]
  }
 ],
 "metadata": {
  "kernelspec": {
   "display_name": "Python 3 (ipykernel)",
   "language": "python",
   "name": "python3"
  },
  "language_info": {
   "codemirror_mode": {
    "name": "ipython",
    "version": 3
   },
   "file_extension": ".py",
   "mimetype": "text/x-python",
   "name": "python",
   "nbconvert_exporter": "python",
   "pygments_lexer": "ipython3",
   "version": "3.10.12"
  }
 },
 "nbformat": 4,
 "nbformat_minor": 5
}
