{
 "cells": [
  {
   "cell_type": "markdown",
   "id": "4be0646d-d878-4193-93b4-bdc3c4d3bfb5",
   "metadata": {},
   "source": [
    "# Del Notation\n",
    "### Definition  \n",
    "\n",
    "In an $x,y,z$-coordinate system, the **del operator**, denoted as $\\nabla$, is a vector operator whose $x,y,z$ compliments are the partial derivative operators, $\\displaystyle \\frac{\\partial }{\\partial x}, \\frac{\\partial }{\\partial y}, \\frac{\\partial }{\\partial z}$.    \n",
    "\n",
    "\\begin{equation}\\tag{1a}\n",
    "    \\nabla = \\frac{\\partial }{\\partial x}\\,\\mathbf{i} + \\frac{\\partial }{\\partial y}\\,\\mathbf{j} + \\frac{\\partial }{\\partial z}\\,\\mathbf{k}\n",
    "\\end{equation}"
   ]
  },
  {
   "cell_type": "markdown",
   "id": "dc691cb3-3ff8-4990-9bc2-4dd823e6c3d2",
   "metadata": {},
   "source": [
    "In general, in the Cartesian coordinate system, $\\mathbb{R}^n$, with $x_1,x_2,\\dotsc,x_n$ coordinates and standard basis $\\{\\mathbf{e}_1, \\mathbf{e}_2,\\dotsc,\\mathbf{e}_n\\}$, the del operator $\\nabla$ is a vector operator, whose $x_1,x_2,\\dotsc,x_n$ compliments are the partial derivative operators, $\\displaystyle \\frac{\\partial }{\\partial x_1},\\frac{\\partial }{\\partial x_2},\\dotsc,\\frac{\\partial }{\\partial x_n}$.  \n",
    "\n",
    "\\begin{equation}\\tag{1}\n",
    "    \\nabla = \\sum_{i=1}^n \\frac{\\partial }{\\partial x_i}\\,\\mathbf{e}_i = \\left\\langle\\frac{\\partial }{\\partial x_1},\\frac{\\partial }{\\partial x_2},\\dotsc,\\frac{\\partial }{\\partial x_n} \\right\\rangle\n",
    "\\end{equation}"
   ]
  },
  {
   "cell_type": "markdown",
   "id": "cff348a0-3d54-4bd2-b7bf-946151986670",
   "metadata": {},
   "source": [
    "When the argument to the del operator is a scalar function of one variable, $x$, we are operating within an $x$-coordinate system, and $\\nabla$ is simply defined as the derivative operator $\\displaystyle \\frac{\\mathrm{d}}{\\mathrm{d}x}$.  \n",
    "\n",
    "$$ \\nabla f(x) = f'(x)$$"
   ]
  },
  {
   "cell_type": "markdown",
   "id": "5a6016be-a522-446a-b63e-f3df8587c389",
   "metadata": {},
   "source": [
    "## Gradient \n",
    "\n",
    "$$ \\nabla f(x,y,z) = \\langle f_x,f_y,f_z\\rangle$$"
   ]
  },
  {
   "cell_type": "markdown",
   "id": "ade8c4bd-2052-49f8-8f4b-f76181b53f37",
   "metadata": {},
   "source": [
    "### Product Rule  \n",
    "\n",
    "#### Scalar\n",
    "\\begin{equation}\\tag{2}\n",
    "    \\nabla (fg) = \\nabla f \\cdot g + f\\,\\nabla g = g\\,\\nabla f + f\\,\\nabla g\n",
    "\\end{equation}"
   ]
  },
  {
   "cell_type": "markdown",
   "id": "150b8792-da10-4c65-9814-10d9918c9abc",
   "metadata": {},
   "source": [
    "Proof:  \n",
    "\n",
    "Assuming $g:= g(x)$ and $f:=(x)$, this is the product rule for derivatives of single variable functions.  \n",
    "\n",
    "Assuming $g$ and $f$ are functions of two variables,  \n",
    "\n",
    "$$ \\nabla \\big(f(x,y)\\cdot g(x,y)\\big) = \\left(\\frac{\\partial }{\\partial x}\\,\\mathbf{i} + \\frac{\\partial }{\\partial y}\\,\\mathbf{j}\\right)(fg) = \\frac{\\partial (fg)}{\\partial x}\\,\\mathbf{i} + \\frac{\\partial (fg)}{\\partial y}\\,\\mathbf{j}$$"
   ]
  },
  {
   "cell_type": "markdown",
   "id": "fdd831ec-d4e9-4572-aff0-d709a46f2171",
   "metadata": {},
   "source": [
    "$$ = (f_x \\,g + g_x \\,f)\\,\\mathbf{i} + (f_y \\,g + g_y\\,f)\\,\\mathbf{j}$$"
   ]
  },
  {
   "cell_type": "markdown",
   "id": "897c7bd2-0a20-4ba9-84df-ffe33790eb4e",
   "metadata": {},
   "source": [
    "$$ = g\\langle f_x,f_y\\rangle + f\\langle g_x, g_y\\rangle = g\\,\\nabla f + f\\,\\nabla g$$"
   ]
  },
  {
   "cell_type": "markdown",
   "id": "41540dd4-cec8-4294-92f4-91cc002ffcb9",
   "metadata": {},
   "source": [
    "Assuming $g$ and $f$ are functions of three variables,  \n",
    "\n",
    "$$ \\nabla (fg) = \\frac{\\partial (fg)}{\\partial x}\\,\\mathbf{i} + \\frac{\\partial (fg)}{\\partial y}\\,\\mathbf{j} + \\frac{\\partial (fg)}{\\partial z}\\,\\mathbf{k}$$"
   ]
  },
  {
   "cell_type": "markdown",
   "id": "9e4f3b11-699a-4c5f-8f2c-e5d4a455b06d",
   "metadata": {},
   "source": [
    "$$ = (f_x\\,g + g_x\\,f)\\,\\mathbf{i} + (f_y\\,g + g_y\\,f)\\,\\mathbf{j} + (f_z\\,g + g_z\\,f)\\,\\mathbf{k}$$"
   ]
  },
  {
   "cell_type": "markdown",
   "id": "45dced96-5e4e-435e-9b58-cd3e18317bd4",
   "metadata": {},
   "source": [
    "$$ = f\\langle g_x, g_y, g_z\\rangle + g\\langle f_x,f_y,f_z\\rangle = f\\,\\nabla g + g\\,\\nabla f$$"
   ]
  },
  {
   "cell_type": "markdown",
   "id": "f726908b-7e45-449f-827e-6ec82309811d",
   "metadata": {},
   "source": [
    "To put it another way,  \n",
    "\n",
    "$$ \\nabla (fg) = \\frac{\\partial (fg)}{\\partial x_1}\\,\\mathbf{e}_1 + \\frac{\\partial (fg)}{\\partial x_2}\\,\\mathbf{e}_2 + \\frac{\\partial (fg)}{\\partial x_3}\\,\\mathbf{e}_3$$"
   ]
  },
  {
   "cell_type": "markdown",
   "id": "fe2f315f-3c45-4dc9-8301-9c8899bf4a50",
   "metadata": {},
   "source": [
    "$$ = \\left(g\\,\\frac{\\partial f}{\\partial x_1} + f\\,\\frac{\\partial g}{\\partial x_1}\\right)\\,\\mathbf{e}_1 + \\left(g\\,\\frac{\\partial f}{\\partial x_2} + f\\,\\frac{\\partial g}{\\partial x_2}\\right)\\,\\mathbf{e}_2 + \\left(g\\,\\frac{\\partial f}{\\partial x_3} + f\\,\\frac{\\partial g}{\\partial x_3}\\right)\\,\\mathbf{e}_3$$"
   ]
  },
  {
   "cell_type": "markdown",
   "id": "3541559b-c6df-416b-9065-0ae17f5c92dd",
   "metadata": {},
   "source": [
    "$$= g\\left\\langle \\frac{\\partial f}{\\partial x_1},\\frac{\\partial f}{\\partial x_2},\\frac{\\partial f}{\\partial x_3}\\right\\rangle + f\\,\\left\\langle \\frac{\\partial g}{\\partial x_1},\\frac{\\partial g}{\\partial x_2},\\frac{\\partial g}{\\partial x_3}\\right\\rangle$$"
   ]
  },
  {
   "cell_type": "markdown",
   "id": "93882160-1eab-42a0-9351-baa5e8ba982f",
   "metadata": {},
   "source": [
    "$$ = g\\,\\nabla f + f\\,\\nabla g$$"
   ]
  },
  {
   "attachments": {},
   "cell_type": "markdown",
   "id": "a6ec85cc-17c9-4eda-867b-f373fcb28bd3",
   "metadata": {},
   "source": [
    "To put it yet another way,  \n",
    "\n",
    "$$ \\nabla (fg) = \\sum_{i=1}^3 \\frac{\\partial (fg)}{\\partial x_i}\\,\\mathbf{e}_i = \\sum_{i=1}^3 \\left(g\\,\\frac{\\partial f}{\\partial x_i} + f\\,\\frac{\\partial g}{\\partial x_i}\\right)\\,\\mathbf{e}_i$$"
   ]
  },
  {
   "cell_type": "markdown",
   "id": "8bb134f6-134d-4499-803b-8580be7b384a",
   "metadata": {},
   "source": [
    "$$ = g\\,\\sum_{i=1}^3 \\frac{\\partial f}{\\partial x_i}\\,\\mathbf{e}_i + f\\,\\sum_{i=1}^3\\frac{\\partial g}{\\partial x_i}\\,\\mathbf{e}_i$$"
   ]
  },
  {
   "cell_type": "markdown",
   "id": "53da5f55-1770-432a-a6da-08e226512b66",
   "metadata": {},
   "source": [
    "$$ = g\\,\\nabla f + f\\,\\nabla g$$"
   ]
  },
  {
   "cell_type": "markdown",
   "id": "cf901516-ba7c-4ac0-ad91-faf65c814523",
   "metadata": {},
   "source": [
    "#### Dot Product Rule\n",
    "\n",
    "$$ \\mathbf{F} = \\nabla (\\mathbf{u} \\cdot \\mathbf{v})$$"
   ]
  },
  {
   "cell_type": "markdown",
   "id": "d7626d86-18c0-4d87-8f58-93fd70f4a2e9",
   "metadata": {},
   "source": [
    "Assuming we are operating in a coordinate system $\\mathbb{R}^2$, with $x,y$ coordinates and standard basis $\\{\\mathbf{i},\\mathbf{j}\\}$,  \n",
    "\n",
    "\\begin{equation}\\tag{3.1.1}\n",
    "    \\nabla (\\mathbf{u}\\cdot\\mathbf{v}) = \\nabla (u_xv_x + u_yv_y) = \\nabla (u_1v_1 + u_2v_2)\n",
    "\\end{equation}"
   ]
  },
  {
   "cell_type": "markdown",
   "id": "3208baff-1b98-45f6-9390-8f547c5b403f",
   "metadata": {},
   "source": [
    "Here $u_x$ and $v_x$ denote the $x$-compliment of $u$ and $v$ respectively, as opposed to the partial derivative of $u$ and $v$ with respect to $x$, which is another common notation.  Via the above and distribution,  \n",
    "\n",
    "$$ \\mathbf{F} = \\left(\\frac{\\partial (u_1v_1)}{\\partial x} + \\frac{\\partial (u_2v_2)}{\\partial x}\\right)\\,\\mathbf{i} + \\left(\\frac{\\partial (u_1v_1)}{\\partial y}+\\frac{\\partial (u_2v_2)}{\\partial y}\\right)\\,\\mathbf{j}$$"
   ]
  },
  {
   "cell_type": "markdown",
   "id": "77fd7ef3-b0b8-46b0-baca-c2046c8da7c5",
   "metadata": {},
   "source": [
    "$$ F_1 = v_1\\,\\frac{\\partial u_1}{\\partial x} + u_1\\,\\frac{\\partial v_1}{\\partial x} + v_2\\,\\frac{\\partial u_2}{\\partial x} + u_2\\,\\frac{\\partial v_2}{\\partial x}  $$"
   ]
  },
  {
   "cell_type": "markdown",
   "id": "72ab50a8-a7f9-4564-aa62-17bbb1795362",
   "metadata": {},
   "source": [
    "$$ F_2 = v_1\\,\\frac{\\partial u_1}{\\partial y} + u_1\\,\\frac{\\partial v_1}{\\partial y} + v_2\\,\\frac{\\partial u_2}{\\partial y} + u_2\\,\\frac{\\partial v_2}{\\partial y}$$"
   ]
  },
  {
   "cell_type": "markdown",
   "id": "4c4e5eb8-f953-45c7-af65-b617a25b2f4c",
   "metadata": {},
   "source": [
    "Via equation (3.1.1), distribution, and the version of the product rule found in equation (2),  \n",
    "\n",
    "$$ \\mathbf{F} = \\nabla (u_1v_1) + \\nabla(v_2u_2) = v_1\\,\\nabla u_1 + u_1\\,\\nabla v_1 + v_2\\,\\nabla u_2 + u_2\\,\\nabla v_2 $$"
   ]
  },
  {
   "cell_type": "markdown",
   "id": "7471c08c-4166-409c-b638-775a40b5dff7",
   "metadata": {},
   "source": [
    "### Divergence  \n",
    "\n",
    "$$ \\nabla \\cdot \\mathbf{F} = \\mathrm{div }\\,\\mathbf{F} $$"
   ]
  },
  {
   "cell_type": "markdown",
   "id": "bf9fdba3-c243-4e29-bb5a-980dff928e80",
   "metadata": {},
   "source": [
    "#### Product Rule  \n",
    "\n",
    "Assuming the coordinate system $\\mathbb{R}$, with $x$ as the coordinate, we just have the normal product rule for derivatives of single variable functions.  \n",
    "\n",
    "$$ \\nabla \\cdot \\big(f(x)\\mathbf{F}(x)\\big) = f\\,\\nabla \\mathbf{F} + \\mathbf{F}\\,\\nabla f$$"
   ]
  },
  {
   "cell_type": "markdown",
   "id": "501edf1b-13d0-4b4b-8705-fc333cd52be2",
   "metadata": {},
   "source": [
    "Assuming the coordinate systen $\\mathbb{R}^2$, with $x,y$ coordinates and standard basis $\\{\\mathbf{i},\\mathbf{j}\\}$,  \n",
    "\n",
    "$$ \\nabla (f\\mathbf{F}) = \\frac{\\partial (fF_1)}{\\partial x} + \\frac{\\partial (fF_2)}{\\partial y}$$"
   ]
  },
  {
   "cell_type": "markdown",
   "id": "99a59df4-8752-404c-8c5d-85d41b040115",
   "metadata": {},
   "source": [
    "$$ = F_1\\,\\frac{\\partial f}{\\partial x} + f\\,\\frac{\\partial F_1}{\\partial x} + f\\,\\frac{\\partial F_2}{\\partial y} + F_2\\,\\frac{\\partial f}{\\partial y}$$"
   ]
  },
  {
   "cell_type": "markdown",
   "id": "3f7e5fd7-2039-4427-b96e-f6e40f541397",
   "metadata": {},
   "source": [
    "$$ =f\\,\\big(\\nabla \\cdot \\mathbf{F}\\big) + \\mathbf{F}\\cdot\\big(\\nabla f\\big)$$"
   ]
  },
  {
   "attachments": {},
   "cell_type": "markdown",
   "id": "980b127e-83ad-4e91-85af-58e1904cd929",
   "metadata": {},
   "source": [
    "Assuming the coordinate system $\\mathbb{R}^3$, with $x_1,x_2,x_3$ coordinates and standard basis $\\{\\mathbf{e}_1,\\mathbf{e}_2,\\mathbf{e}_3\\}$, henceforth the standard 3d case,    \n",
    "\n",
    "$$ \\nabla (f\\mathbf{F}) = \\sum_{i=1}^3 \\frac{\\partial (fF_i)}{\\partial x_i} = \\sum_{i=1}^3 \\left(f\\,\\frac{\\partial F_i}{\\partial x_i} + F_i\\,\\frac{\\partial f}{\\partial x_i}\\right) $$"
   ]
  },
  {
   "cell_type": "markdown",
   "id": "1e621ac7-fb13-4a64-8479-da3e6b39fb81",
   "metadata": {},
   "source": [
    "$$=  f\\,\\sum_{i=1}^3\\frac{\\partial F_i}{\\partial x_i} + \\sum_{i=1}^3 F_i\\,\\frac{\\partial f}{\\partial x_i}$$"
   ]
  },
  {
   "cell_type": "markdown",
   "id": "5512b0e2-8970-4b86-b6dd-56015ab2d354",
   "metadata": {},
   "source": [
    "$$= f\\big(\\nabla \\cdot \\mathbf{F}\\big) + \\mathbf{F}\\cdot\\big(\\nabla f\\big)$$"
   ]
  },
  {
   "cell_type": "markdown",
   "id": "01603827-8e5a-4e2b-90d0-6e72ca94b7a6",
   "metadata": {},
   "source": [
    "#### Vector Product Rule  \n",
    "\n",
    "Assuming the coordinate system $\\mathbb{R}$, with $x$ as the coordinate and standard basis $\\{\\mathbf{i}\\}$,  \n",
    "\n",
    "$$ \\nabla \\cdot (\\mathbf{a}\\times\\mathbf{b}) = 0$$"
   ]
  },
  {
   "cell_type": "markdown",
   "id": "ba287590-bdab-478b-8c55-c93fa7410238",
   "metadata": {},
   "source": [
    "Assuming the coordinate system $\\mathbb{R}^2$, with $x,y$ coordinates and standard basis $\\{\\mathbf{i},\\mathbf{j}\\}$, henceforth the 2d case,  \n",
    "\n",
    "$$ \\nabla \\cdot (\\mathbf{a}\\times\\mathbf{b}) = 0$$"
   ]
  },
  {
   "cell_type": "markdown",
   "id": "01d178ca-16eb-4718-ad6f-7bd6476b6518",
   "metadata": {},
   "source": [
    "Assuming the coordinate system $\\mathbb{R}^3$, with $x_1,x_2,x_3$ coordinates and standard basis $\\{\\mathbf{i},\\mathbf{j},\\mathbf{k}\\}$,  \n",
    "\n",
    "$$ \\nabla \\cdot (\\mathbf{a}\\times\\mathbf{b}) = \\nabla \\cdot \\left|\\begin{matrix}\\mathbf{i} & \\mathbf{j} & \\mathbf{k} \\\\ a_1 & a_2 & a_3 \\\\ b_1 & b_2 & b_3\\end{matrix}\\right|$$"
   ]
  },
  {
   "cell_type": "markdown",
   "id": "7a50aee3-cd5b-4a82-8447-837a1b98404a",
   "metadata": {},
   "source": [
    "$$ \\nabla \\cdot \\big((a_2b_3 - a_3b_2)\\,\\mathbf{i} - (a_1b_3 - a_3b_1)\\,\\mathbf{j}  + (a_1b_2 - a_2b_1)\\,\\mathbf{k}\\big)$$"
   ]
  },
  {
   "cell_type": "markdown",
   "id": "5b620f80-0e10-4a62-9545-07ac1fe9d019",
   "metadata": {},
   "source": [
    "$$ \\frac{\\partial (a_2b_3)}{\\partial x_1}$$"
   ]
  },
  {
   "cell_type": "markdown",
   "id": "cbe94f78-932d-4a1f-be0b-b9d3aaa36319",
   "metadata": {},
   "source": [
    "### Curl  \n",
    "\n",
    "$$ |\\nabla \\times \\mathbf{F}(x,y)| = \\mathrm{curl }\\,\\mathbf{F} = \\frac{\\partial F_2}{\\partial x} - \\frac{\\partial F_1}{\\partial y}$$"
   ]
  },
  {
   "cell_type": "markdown",
   "id": "9fdb2bac-3b11-4508-8a1b-d2daca259c7e",
   "metadata": {},
   "source": [
    "where $\\mathbf{F} = \\langle F_1,F_2\\rangle$.  "
   ]
  },
  {
   "cell_type": "markdown",
   "id": "c8e19f7d-5305-4533-880f-1da5eceb1fcf",
   "metadata": {},
   "source": [
    "The proof for the above:  \n",
    "\n",
    "$$ \\nabla \\times \\mathbf{F}(x,y) = \\left|\\begin{matrix}\\mathbf{i} & \\mathbf{j} & \\mathbf{k} \\\\ \\frac{\\partial }{\\partial x} & \\frac{\\partial }{\\partial y} & 0 \\\\ F_1 & F_2 & 0\\end{matrix}\\right|$$"
   ]
  },
  {
   "cell_type": "markdown",
   "id": "f6f03e1c-3d54-4703-ae46-a3c58b507c80",
   "metadata": {},
   "source": [
    "$$ = \\left(\\frac{\\partial F_2}{\\partial x} - \\frac{\\partial F_1}{\\partial y}\\right)\\,\\mathbf{k} = (\\mathrm{curl }\\,\\mathbf{F})\\,\\mathbf{k}$$"
   ]
  },
  {
   "cell_type": "markdown",
   "id": "60e72afd-a519-4b3c-a92f-1bbffb47499b",
   "metadata": {},
   "source": [
    "When $\\mathbf{F}$ is a vector field of three variables, the curl thereof is:  \n",
    "\n",
    "$$ \\mathrm{curl }\\,\\mathbf{F}(x,y,z) = \\nabla \\times \\mathbf{F} = \\left|\\begin{matrix} \\mathbf{i} & \\mathbf{j} & \\mathbf{k} \\\\ \\frac{\\partial }{\\partial x} & \\frac{\\partial }{\\partial y} & \\frac{\\partial }{\\partial z} \\\\ F_1 & F_2 & F_3\\end{matrix}\\right|$$"
   ]
  },
  {
   "cell_type": "markdown",
   "id": "ed1bad2a-9fab-4a75-b263-ceb90840d0d7",
   "metadata": {},
   "source": [
    "$$ = \\left(\\frac{\\partial F_3}{\\partial y} - \\frac{\\partial F_2}{\\partial z}\\right)\\,\\mathbf{i} - \\left(\\frac{\\partial F_3}{\\partial x} - \\frac{\\partial F_1}{\\partial z}\\right)\\,\\mathbf{j} + \\left(\\frac{\\partial F_2}{\\partial x} - \\frac{\\partial F_1}{\\partial y}\\right)\\,\\mathbf{k}$$"
   ]
  }
 ],
 "metadata": {
  "kernelspec": {
   "display_name": "Python 3 (ipykernel)",
   "language": "python",
   "name": "python3"
  },
  "language_info": {
   "codemirror_mode": {
    "name": "ipython",
    "version": 3
   },
   "file_extension": ".py",
   "mimetype": "text/x-python",
   "name": "python",
   "nbconvert_exporter": "python",
   "pygments_lexer": "ipython3",
   "version": "3.10.12"
  }
 },
 "nbformat": 4,
 "nbformat_minor": 5
}
