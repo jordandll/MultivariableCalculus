{
 "cells": [
  {
   "cell_type": "markdown",
   "id": "4be0646d-d878-4193-93b4-bdc3c4d3bfb5",
   "metadata": {},
   "source": [
    "# Del Notation\n",
    "### Definition  \n",
    "\n",
    "In an $x,y,z$-coordinate system, the **del operator**, denoted as $\\nabla$, is a vector operator whose $x,y,z$ compliments are the partial derivative operators, $\\displaystyle \\frac{\\partial }{\\partial x}, \\frac{\\partial }{\\partial y}, \\frac{\\partial }{\\partial z}$.    \n",
    "\n",
    "\\begin{equation}\\tag{1a}\n",
    "    \\nabla = \\frac{\\partial }{\\partial x}\\,\\mathbf{i} + \\frac{\\partial }{\\partial y}\\,\\mathbf{j} + \\frac{\\partial }{\\partial z}\\,\\mathbf{k}\n",
    "\\end{equation}"
   ]
  },
  {
   "cell_type": "markdown",
   "id": "dc691cb3-3ff8-4990-9bc2-4dd823e6c3d2",
   "metadata": {},
   "source": [
    "In general, in the Cartesian coordinate system, $\\mathbb{R}^n$, with $x_1,x_2,\\dotsc,x_n$ coordinates and standard basis $\\{\\mathbf{e}_1, \\mathbf{e}_2,\\dotsc,\\mathbf{e}_n\\}$, the del operator $\\nabla$ is a vector operator, whose $x_1,x_2,\\dotsc,x_n$ compliments are the partial derivative operators, $\\displaystyle \\frac{\\partial }{\\partial x_1},\\frac{\\partial }{\\partial x_2},\\dotsc,\\frac{\\partial }{\\partial x_n}$.  \n",
    "\n",
    "\\begin{equation}\\tag{1}\n",
    "    \\nabla = \\sum_{i=1}^n \\frac{\\partial }{\\partial x_i}\\,\\mathbf{e}_i = \\left\\langle\\frac{\\partial }{\\partial x_1},\\frac{\\partial }{\\partial x_2},\\dotsc,\\frac{\\partial }{\\partial x_n} \\right\\rangle\n",
    "\\end{equation}"
   ]
  },
  {
   "cell_type": "markdown",
   "id": "cff348a0-3d54-4bd2-b7bf-946151986670",
   "metadata": {},
   "source": [
    "When the argument to the del operator is a scalar function of one variable, $x$, we are operating within an $x$-coordinate system, and $\\nabla$ is simply defined as the derivative operator $\\displaystyle \\frac{\\mathrm{d}}{\\mathrm{d}x}$.  \n",
    "\n",
    "$$ \\nabla f(x) = f'(x)$$"
   ]
  },
  {
   "cell_type": "markdown",
   "id": "5a6016be-a522-446a-b63e-f3df8587c389",
   "metadata": {},
   "source": [
    "## Gradient \n",
    "\n",
    "$$ \\nabla f(x,y,z) = \\langle f_x,f_y,f_z\\rangle$$"
   ]
  },
  {
   "cell_type": "markdown",
   "id": "ade8c4bd-2052-49f8-8f4b-f76181b53f37",
   "metadata": {},
   "source": [
    "### Product Rule  \n",
    "\n",
    "#### Scalar\n",
    "\\begin{equation}\\tag{2}\n",
    "    \\nabla (fg) = \\nabla f \\cdot g + f\\,\\nabla g = g\\,\\nabla f + f\\,\\nabla g\n",
    "\\end{equation}"
   ]
  },
  {
   "cell_type": "markdown",
   "id": "150b8792-da10-4c65-9814-10d9918c9abc",
   "metadata": {},
   "source": [
    "Proof:  \n",
    "\n",
    "Assuming $g:= g(x)$ and $f:=(x)$, this is the product rule for derivatives of single variable functions.  \n",
    "\n",
    "Assuming $g$ and $f$ are functions of two variables,  \n",
    "\n",
    "$$ \\nabla \\big(f(x,y)\\cdot g(x,y)\\big) = \\left(\\frac{\\partial }{\\partial x}\\,\\mathbf{i} + \\frac{\\partial }{\\partial y}\\,\\mathbf{j}\\right)(fg) = \\frac{\\partial (fg)}{\\partial x}\\,\\mathbf{i} + \\frac{\\partial (fg)}{\\partial y}\\,\\mathbf{j}$$"
   ]
  },
  {
   "cell_type": "markdown",
   "id": "fdd831ec-d4e9-4572-aff0-d709a46f2171",
   "metadata": {},
   "source": [
    "$$ = (f_x \\,g + g_x \\,f)\\,\\mathbf{i} + (f_y \\,g + g_y\\,f)\\,\\mathbf{j}$$"
   ]
  },
  {
   "cell_type": "markdown",
   "id": "897c7bd2-0a20-4ba9-84df-ffe33790eb4e",
   "metadata": {},
   "source": [
    "$$ = g\\langle f_x,f_y\\rangle + f\\langle g_x, g_y\\rangle = g\\,\\nabla f + f\\,\\nabla g$$"
   ]
  },
  {
   "cell_type": "markdown",
   "id": "41540dd4-cec8-4294-92f4-91cc002ffcb9",
   "metadata": {},
   "source": [
    "Assuming $g$ and $f$ are functions of three variables,  \n",
    "\n",
    "$$ \\nabla (fg) = \\frac{\\partial (fg)}{\\partial x}\\,\\mathbf{i} + \\frac{\\partial (fg)}{\\partial y}\\,\\mathbf{j} + \\frac{\\partial (fg)}{\\partial z}\\,\\mathbf{k}$$"
   ]
  },
  {
   "cell_type": "markdown",
   "id": "9e4f3b11-699a-4c5f-8f2c-e5d4a455b06d",
   "metadata": {},
   "source": [
    "$$ = (f_x\\,g + g_x\\,f)\\,\\mathbf{i} + (f_y\\,g + g_y\\,f)\\,\\mathbf{j} + (f_z\\,g + g_z\\,f)\\,\\mathbf{k}$$"
   ]
  },
  {
   "cell_type": "markdown",
   "id": "45dced96-5e4e-435e-9b58-cd3e18317bd4",
   "metadata": {},
   "source": [
    "$$ = f\\langle g_x, g_y, g_z\\rangle + g\\langle f_x,f_y,f_z\\rangle = f\\,\\nabla g + g\\,\\nabla f$$"
   ]
  },
  {
   "cell_type": "markdown",
   "id": "f726908b-7e45-449f-827e-6ec82309811d",
   "metadata": {},
   "source": [
    "To put it another way,  \n",
    "\n",
    "$$ \\nabla (fg) = \\frac{\\partial (fg)}{\\partial x_1}\\,\\mathbf{e}_1 + \\frac{\\partial (fg)}{\\partial x_2}\\,\\mathbf{e}_2 + \\frac{\\partial (fg)}{\\partial x_3}\\,\\mathbf{e}_3$$"
   ]
  },
  {
   "cell_type": "markdown",
   "id": "fe2f315f-3c45-4dc9-8301-9c8899bf4a50",
   "metadata": {},
   "source": [
    "$$ = \\left(g\\,\\frac{\\partial f}{\\partial x_1} + f\\,\\frac{\\partial g}{\\partial x_1}\\right)\\,\\mathbf{e}_1 + \\left(g\\,\\frac{\\partial f}{\\partial x_2} + f\\,\\frac{\\partial g}{\\partial x_2}\\right)\\,\\mathbf{e}_2 + \\left(g\\,\\frac{\\partial f}{\\partial x_3} + f\\,\\frac{\\partial g}{\\partial x_3}\\right)\\,\\mathbf{e}_3$$"
   ]
  },
  {
   "cell_type": "markdown",
   "id": "3541559b-c6df-416b-9065-0ae17f5c92dd",
   "metadata": {},
   "source": [
    "$$= g\\left\\langle \\frac{\\partial f}{\\partial x_1},\\frac{\\partial f}{\\partial x_2},\\frac{\\partial f}{\\partial x_3}\\right\\rangle + f\\,\\left\\langle \\frac{\\partial g}{\\partial x_1},\\frac{\\partial g}{\\partial x_2},\\frac{\\partial g}{\\partial x_3}\\right\\rangle$$"
   ]
  },
  {
   "cell_type": "markdown",
   "id": "93882160-1eab-42a0-9351-baa5e8ba982f",
   "metadata": {},
   "source": [
    "$$ = g\\,\\nabla f + f\\,\\nabla g$$"
   ]
  },
  {
   "attachments": {},
   "cell_type": "markdown",
   "id": "a6ec85cc-17c9-4eda-867b-f373fcb28bd3",
   "metadata": {},
   "source": [
    "To put it yet another way,  \n",
    "\n",
    "$$ \\nabla (fg) = \\sum_{i=1}^3 \\frac{\\partial (fg)}{\\partial x_i}\\,\\mathbf{e}_i = \\sum_{i=1}^3 \\left(g\\,\\frac{\\partial f}{\\partial x_i} + f\\,\\frac{\\partial g}{\\partial x_i}\\right)\\,\\mathbf{e}_i$$"
   ]
  },
  {
   "cell_type": "markdown",
   "id": "8bb134f6-134d-4499-803b-8580be7b384a",
   "metadata": {},
   "source": [
    "$$ = g\\,\\sum_{i=1}^3 \\frac{\\partial f}{\\partial x_i}\\,\\mathbf{e}_i + f\\,\\sum_{i=1}^3\\frac{\\partial g}{\\partial x_i}\\,\\mathbf{e}_i$$"
   ]
  },
  {
   "cell_type": "markdown",
   "id": "53da5f55-1770-432a-a6da-08e226512b66",
   "metadata": {},
   "source": [
    "$$ = g\\,\\nabla f + f\\,\\nabla g$$"
   ]
  },
  {
   "cell_type": "markdown",
   "id": "cf901516-ba7c-4ac0-ad91-faf65c814523",
   "metadata": {},
   "source": [
    "#### Dot Product Rule\n",
    "\n",
    "$$ \\mathbf{F} = \\nabla (\\mathbf{u} \\cdot \\mathbf{v})$$"
   ]
  },
  {
   "cell_type": "markdown",
   "id": "d7626d86-18c0-4d87-8f58-93fd70f4a2e9",
   "metadata": {},
   "source": [
    "Assuming we are operating in a coordinate system $\\mathbb{R}^2$, with $x,y$ coordinates and standard basis $\\{\\mathbf{i},\\mathbf{j}\\}$,  \n",
    "\n",
    "\\begin{equation}\\tag{3.1.1}\n",
    "    \\nabla (\\mathbf{u}\\cdot\\mathbf{v}) = \\nabla (u_xv_x + u_yv_y) = \\nabla (u_1v_1 + u_2v_2)\n",
    "\\end{equation}"
   ]
  },
  {
   "cell_type": "markdown",
   "id": "3208baff-1b98-45f6-9390-8f547c5b403f",
   "metadata": {},
   "source": [
    "Here $u_x$ and $v_x$ denote the $x$-compliment of $u$ and $v$ respectively, as opposed to the partial derivative of $u$ and $v$ with respect to $x$, which is another common notation.  Via the above and distribution,  \n",
    "\n",
    "$$ \\mathbf{F} = \\left(\\frac{\\partial (u_1v_1)}{\\partial x} + \\frac{\\partial (u_2v_2)}{\\partial x}\\right)\\,\\mathbf{i} + \\left(\\frac{\\partial (u_1v_1)}{\\partial y}+\\frac{\\partial (u_2v_2)}{\\partial y}\\right)\\,\\mathbf{j}$$"
   ]
  },
  {
   "cell_type": "markdown",
   "id": "77fd7ef3-b0b8-46b0-baca-c2046c8da7c5",
   "metadata": {},
   "source": [
    "$$ F_1 = v_1\\,\\frac{\\partial u_1}{\\partial x} + u_1\\,\\frac{\\partial v_1}{\\partial x} + v_2\\,\\frac{\\partial u_2}{\\partial x} + u_2\\,\\frac{\\partial v_2}{\\partial x}  $$"
   ]
  },
  {
   "cell_type": "markdown",
   "id": "72ab50a8-a7f9-4564-aa62-17bbb1795362",
   "metadata": {},
   "source": [
    "$$ F_2 = v_1\\,\\frac{\\partial u_1}{\\partial y} + u_1\\,\\frac{\\partial v_1}{\\partial y} + v_2\\,\\frac{\\partial u_2}{\\partial y} + u_2\\,\\frac{\\partial v_2}{\\partial y}$$"
   ]
  },
  {
   "cell_type": "markdown",
   "id": "4c4e5eb8-f953-45c7-af65-b617a25b2f4c",
   "metadata": {},
   "source": [
    "Via equation (3.1.1), distribution, and the version of the product rule found in equation (2),  \n",
    "\n",
    "$$ \\mathbf{F} = \\nabla (u_1v_1) + \\nabla(v_2u_2) = v_1\\,\\nabla u_1 + u_1\\,\\nabla v_1 + v_2\\,\\nabla u_2 + u_2\\,\\nabla v_2 $$"
   ]
  },
  {
   "cell_type": "markdown",
   "id": "454297e2-6eb5-4748-b262-deb7a3f9b766",
   "metadata": {},
   "source": [
    "It might be important to note that:  \n",
    "\n",
    "$$ \\mathbf{w} := \\mathbf{u}\\times(\\mathbf{u}\\times\\mathbf{v}) = |\\mathbf{u}|^2|\\mathbf{v}|\\sin\\theta\\,\\mathbf{\\hat{w}}$$"
   ]
  },
  {
   "cell_type": "markdown",
   "id": "337100aa-301b-4686-b88c-3162dfb0d141",
   "metadata": {},
   "source": [
    "where $\\theta$ is the angle between $\\mathbf{u}$ and $\\mathbf{v}$ and  \n",
    "\n",
    "$$\\mathbf{\\hat{w}} = \\langle -\\hat{u}_y,\\hat{u}_x\\rangle$$"
   ]
  },
  {
   "cell_type": "markdown",
   "id": "aa421bd2-efcc-4e66-bb9e-f95b1cac037e",
   "metadata": {},
   "source": [
    "The component of $\\mathbf{v}$ in the direction of $\\mathbf{u}$ and $\\mathbf{w}$, respectively, is  \n",
    "\n",
    "$$ \\mathbf{v} \\cdot \\mathbf{\\hat{u}} = |\\mathbf{v}|\\cos\\theta\\quad\\quad\\text{and}\\quad\\quad \\mathbf{v}\\cdot\\mathbf{\\hat{w}} = |\\mathbf{v}|\\sin\\theta$$"
   ]
  },
  {
   "cell_type": "markdown",
   "id": "7471c08c-4166-409c-b638-775a40b5dff7",
   "metadata": {},
   "source": [
    "### Divergence  \n",
    "\n",
    "$$ \\nabla \\cdot \\mathbf{F} = \\mathrm{div }\\,\\mathbf{F} $$"
   ]
  },
  {
   "cell_type": "markdown",
   "id": "bf9fdba3-c243-4e29-bb5a-980dff928e80",
   "metadata": {},
   "source": [
    "#### Product Rule  \n",
    "\n",
    "Assuming the coordinate system $\\mathbb{R}$, with $x$ as the coordinate, we just have the normal product rule for derivatives of single variable functions.  \n",
    "\n",
    "$$ \\nabla \\cdot \\big(f(x)\\mathbf{F}(x)\\big) = f\\,\\nabla \\mathbf{F} + \\mathbf{F}\\,\\nabla f$$"
   ]
  },
  {
   "cell_type": "markdown",
   "id": "501edf1b-13d0-4b4b-8705-fc333cd52be2",
   "metadata": {},
   "source": [
    "Assuming the coordinate systen $\\mathbb{R}^2$, with $x,y$ coordinates and standard basis $\\{\\mathbf{i},\\mathbf{j}\\}$,  \n",
    "\n",
    "$$ \\nabla (f\\mathbf{F}) = \\frac{\\partial (fF_1)}{\\partial x} + \\frac{\\partial (fF_2)}{\\partial y}$$"
   ]
  },
  {
   "cell_type": "markdown",
   "id": "99a59df4-8752-404c-8c5d-85d41b040115",
   "metadata": {},
   "source": [
    "$$ = F_1\\,\\frac{\\partial f}{\\partial x} + f\\,\\frac{\\partial F_1}{\\partial x} + f\\,\\frac{\\partial F_2}{\\partial y} + F_2\\,\\frac{\\partial f}{\\partial y}$$"
   ]
  },
  {
   "cell_type": "markdown",
   "id": "3f7e5fd7-2039-4427-b96e-f6e40f541397",
   "metadata": {},
   "source": [
    "$$ =f\\,\\big(\\nabla \\cdot \\mathbf{F}\\big) + \\mathbf{F}\\cdot\\big(\\nabla f\\big)$$"
   ]
  },
  {
   "attachments": {},
   "cell_type": "markdown",
   "id": "980b127e-83ad-4e91-85af-58e1904cd929",
   "metadata": {},
   "source": [
    "Assuming the coordinate system $\\mathbb{R}^3$, with $x_1,x_2,x_3$ coordinates and standard basis $\\{\\mathbf{e}_1,\\mathbf{e}_2,\\mathbf{e}_3\\}$, henceforth the standard 3d case,    \n",
    "\n",
    "$$ \\nabla (f\\mathbf{F}) = \\sum_{i=1}^3 \\frac{\\partial (fF_i)}{\\partial x_i} = \\sum_{i=1}^3 \\left(f\\,\\frac{\\partial F_i}{\\partial x_i} + F_i\\,\\frac{\\partial f}{\\partial x_i}\\right) $$"
   ]
  },
  {
   "cell_type": "markdown",
   "id": "1e621ac7-fb13-4a64-8479-da3e6b39fb81",
   "metadata": {},
   "source": [
    "$$=  f\\,\\sum_{i=1}^3\\frac{\\partial F_i}{\\partial x_i} + \\sum_{i=1}^3 F_i\\,\\frac{\\partial f}{\\partial x_i}$$"
   ]
  },
  {
   "cell_type": "markdown",
   "id": "5512b0e2-8970-4b86-b6dd-56015ab2d354",
   "metadata": {},
   "source": [
    "$$= f\\big(\\nabla \\cdot \\mathbf{F}\\big) + \\mathbf{F}\\cdot\\big(\\nabla f\\big)$$"
   ]
  },
  {
   "cell_type": "markdown",
   "id": "01603827-8e5a-4e2b-90d0-6e72ca94b7a6",
   "metadata": {},
   "source": [
    "#### Vector Product Rule  \n",
    "\n",
    "Assuming the coordinate system $\\mathbb{R}$, with $x$ as the coordinate and standard basis $\\{\\mathbf{i}\\}$,  \n",
    "\n",
    "$$ \\nabla \\cdot (\\mathbf{a}\\times\\mathbf{b}) = 0$$"
   ]
  },
  {
   "cell_type": "markdown",
   "id": "ba287590-bdab-478b-8c55-c93fa7410238",
   "metadata": {},
   "source": [
    "Assuming the coordinate system $\\mathbb{R}^2$, with $x,y$ coordinates and standard basis $\\{\\mathbf{i},\\mathbf{j}\\}$, henceforth the 2d case,  \n",
    "\n",
    "$$ \\nabla \\cdot (\\mathbf{a}\\times\\mathbf{b}) = 0$$"
   ]
  },
  {
   "cell_type": "markdown",
   "id": "01d178ca-16eb-4718-ad6f-7bd6476b6518",
   "metadata": {},
   "source": [
    "Assuming the coordinate system $\\mathbb{R}^3$, with $x_1,x_2,x_3$ coordinates and standard basis $\\{\\mathbf{i},\\mathbf{j},\\mathbf{k}\\}$,  \n",
    "\n",
    "$$ \\nabla \\cdot (\\mathbf{a}\\times\\mathbf{b}) = \\nabla \\cdot \\left|\\begin{matrix}\\mathbf{i} & \\mathbf{j} & \\mathbf{k} \\\\ a_1 & a_2 & a_3 \\\\ b_1 & b_2 & b_3\\end{matrix}\\right|$$"
   ]
  },
  {
   "cell_type": "markdown",
   "id": "7a50aee3-cd5b-4a82-8447-837a1b98404a",
   "metadata": {},
   "source": [
    "$$ \\nabla \\cdot \\big((a_2b_3 - a_3b_2)\\,\\mathbf{i} - (a_1b_3 - a_3b_1)\\,\\mathbf{j}  + (a_1b_2 - a_2b_1)\\,\\mathbf{k}\\big)$$"
   ]
  },
  {
   "cell_type": "markdown",
   "id": "5b620f80-0e10-4a62-9545-07ac1fe9d019",
   "metadata": {},
   "source": [
    "$$ \\frac{\\partial (a_2b_3)}{\\partial x_1}$$"
   ]
  },
  {
   "cell_type": "markdown",
   "id": "cbe94f78-932d-4a1f-be0b-b9d3aaa36319",
   "metadata": {},
   "source": [
    "### Curl  \n",
    "\n",
    "$$ |\\nabla \\times \\mathbf{F}(x,y)| = \\mathrm{curl }\\,\\mathbf{F} = \\frac{\\partial F_2}{\\partial x} - \\frac{\\partial F_1}{\\partial y}$$"
   ]
  },
  {
   "cell_type": "markdown",
   "id": "9fdb2bac-3b11-4508-8a1b-d2daca259c7e",
   "metadata": {},
   "source": [
    "where $\\mathbf{F} = \\langle F_1,F_2\\rangle$.  "
   ]
  },
  {
   "cell_type": "markdown",
   "id": "c8e19f7d-5305-4533-880f-1da5eceb1fcf",
   "metadata": {},
   "source": [
    "The proof for the above:  \n",
    "\n",
    "$$ \\nabla \\times \\mathbf{F}(x,y) = \\left|\\begin{matrix}\\mathbf{i} & \\mathbf{j} & \\mathbf{k} \\\\ \\frac{\\partial }{\\partial x} & \\frac{\\partial }{\\partial y} & 0 \\\\ F_1 & F_2 & 0\\end{matrix}\\right|$$"
   ]
  },
  {
   "cell_type": "markdown",
   "id": "f6f03e1c-3d54-4703-ae46-a3c58b507c80",
   "metadata": {},
   "source": [
    "$$ = \\left(\\frac{\\partial F_2}{\\partial x} - \\frac{\\partial F_1}{\\partial y}\\right)\\,\\mathbf{k} = (\\mathrm{curl }\\,\\mathbf{F})\\,\\mathbf{k}$$"
   ]
  },
  {
   "cell_type": "markdown",
   "id": "60e72afd-a519-4b3c-a92f-1bbffb47499b",
   "metadata": {},
   "source": [
    "When $\\mathbf{F}$ is a vector field of three variables, the curl thereof is:  \n",
    "\n",
    "$$ \\mathrm{curl }\\,\\mathbf{F}(x,y,z) = \\nabla \\times \\mathbf{F} = \\left|\\begin{matrix} \\mathbf{i} & \\mathbf{j} & \\mathbf{k} \\\\ \\frac{\\partial }{\\partial x} & \\frac{\\partial }{\\partial y} & \\frac{\\partial }{\\partial z} \\\\ F_1 & F_2 & F_3\\end{matrix}\\right|$$"
   ]
  },
  {
   "cell_type": "markdown",
   "id": "ed1bad2a-9fab-4a75-b263-ceb90840d0d7",
   "metadata": {},
   "source": [
    "$$ = \\left(\\frac{\\partial F_3}{\\partial y} - \\frac{\\partial F_2}{\\partial z}\\right)\\,\\mathbf{i} - \\left(\\frac{\\partial F_3}{\\partial x} - \\frac{\\partial F_1}{\\partial z}\\right)\\,\\mathbf{j} + \\left(\\frac{\\partial F_2}{\\partial x} - \\frac{\\partial F_1}{\\partial y}\\right)\\,\\mathbf{k}$$"
   ]
  },
  {
   "attachments": {},
   "cell_type": "markdown",
   "id": "5078781b-e036-4b8f-b9de-0110ee7b928f",
   "metadata": {},
   "source": [
    "#### Product Rule  \n",
    "\n",
    "Assuming the 2d case,  \n",
    "\n",
    "$$ \\nabla \\times (f\\mathbf{F}) = \\left|\\begin{matrix}\\mathbf{i} & \\mathbf{j} & \\mathbf{k} \\\\ \\frac{\\partial }{\\partial x} & \\frac{\\partial }{\\partial y} & 0 \\\\ fF_1 & fF_2 & 0\\end{matrix}\\right| = \\left(\\frac{\\partial (fF_2)}{\\partial x} - \\frac{\\partial (fF_1)}{\\partial y}\\right)\\,\\mathbf{k}$$"
   ]
  },
  {
   "cell_type": "markdown",
   "id": "5f9d23c6-3438-4433-98dc-abfed271970b",
   "metadata": {},
   "source": [
    "$$ = \\left(F_2\\,\\frac{\\partial f}{\\partial x} + f\\,\\frac{\\partial F_2}{\\partial x} - F_1\\,\\frac{\\partial f}{\\partial y} - f\\,\\frac{\\partial F_1}{\\partial y}\\right)\\,\\mathbf{k}$$"
   ]
  },
  {
   "cell_type": "markdown",
   "id": "1e40192d-bf49-4633-aad4-297267804185",
   "metadata": {},
   "source": [
    "$$ = f\\,\\big(\\nabla \\times \\mathbf{F}\\big) + \\left(F_2\\,\\frac{\\partial f}{\\partial x} - F_1\\,\\frac{\\partial f}{\\partial y}\\right)\\,\\mathbf{k}$$"
   ]
  },
  {
   "attachments": {},
   "cell_type": "markdown",
   "id": "4d08527f-ab80-4e13-82c4-1deb4e1d6271",
   "metadata": {},
   "source": [
    "$$ \\mathbf{F}\\times(\\nabla f) = \\left|\\begin{matrix}\\mathbf{i} & \\mathbf{j} & \\mathbf{k} \\\\ F_1 & F_2 & 0 \\\\ \\frac{\\partial f}{\\partial x} & \\frac{\\partial f}{\\partial y} & 0\\end{matrix}\\right| = \\left(F_1\\,\\frac{\\partial f}{\\partial y} - F_2\\,\\frac{\\partial f}{\\partial x}\\right)\\,\\mathbf{k}$$"
   ]
  },
  {
   "cell_type": "markdown",
   "id": "aed4ebe1-7acb-46d5-9dd1-51f8b1582909",
   "metadata": {},
   "source": [
    "Finally,  \n",
    "\n",
    "$$ \\nabla \\times \\big(f\\mathbf{F}\\big) = f\\big(\\nabla \\times \\mathbf{F}\\big) - \\mathbf{F} \\times (\\nabla f) = f\\big(\\nabla \\times \\mathbf{F}\\big) + (\\nabla f)\\times\\mathbf{F}$$"
   ]
  },
  {
   "cell_type": "markdown",
   "id": "21b4684a-2378-4131-9ac7-f298eb68eb50",
   "metadata": {},
   "source": [
    "## Problems  \n",
    "\n",
    "#### Problem 1  \n",
    "\n",
    "$$ \\Phi = \\iint_S \\mathbf{F}\\cdot\\mathrm{d}\\mathbf{S} \\quad\\quad\\text{where }\\,\\mathbf{F} = \\langle x,y,z\\rangle$$"
   ]
  },
  {
   "cell_type": "markdown",
   "id": "7671c357-e5d8-47ad-9330-5a331e35d9bc",
   "metadata": {},
   "source": [
    "Via Divergence Theorem,  \n",
    "\n",
    "$$ \\Phi = \\iiint_D \\nabla \\cdot \\mathbf{F} \\,\\mathrm{d}V$$"
   ]
  },
  {
   "cell_type": "markdown",
   "id": "4ae04c9d-e301-43cd-aac8-c34f6fec6864",
   "metadata": {},
   "source": [
    "where $D$ is the solid cube enclosed by $S$.  \n",
    "\n",
    "$$ \\Phi = 3\\iiint_D\\,\\mathrm{d}V = 3$$"
   ]
  },
  {
   "cell_type": "markdown",
   "id": "553ebb79-9c19-45ca-a100-76b5e218227a",
   "metadata": {},
   "source": [
    "Our surface $S$ consists of 6 faces.  Assume each face is parallel to one of the coordinate planes.  The top and bottom of the cube, that is, the faces that are parallel to the $xy$-plane, are given by:  \n",
    "\n",
    "$$ S_1:\\; F_1(x,y,z) = z = 0 \\quad\\quad\\text{and}\\quad\\quad S_2:\\; F_2(x,y,z) = z-1 = 0$$"
   ]
  },
  {
   "cell_type": "markdown",
   "id": "77a53c30-a917-4508-8396-7ec935ed2799",
   "metadata": {},
   "source": [
    "The normal vector across each of these faces is:  \n",
    "\n",
    "$$ \\mathrm{d}\\mathbf{S}_1 = \\mathrm{d}\\mathbf{S}_2 = \\mathbf{k}\\,\\mathrm{d}x\\,\\mathrm{d}y$$"
   ]
  },
  {
   "cell_type": "markdown",
   "id": "b3dbf846-cbe3-4c32-8af2-74d2fff012af",
   "metadata": {},
   "source": [
    "The normal vector across the faces parallel to the $xz$-plane are:  \n",
    "\n",
    "$$ \\mathrm{d}\\mathbf{S}_3 = \\mathrm{d}\\mathbf{S}_4 = \\mathbf{j}\\,\\mathrm{d}x\\,\\mathrm{d}z$$"
   ]
  },
  {
   "cell_type": "markdown",
   "id": "9cf50c66-4edc-4618-9499-d5e545e59e72",
   "metadata": {},
   "source": [
    "And, the normal vector across the faces parallel to the $yz$-plane are:  \n",
    "\n",
    "$$ \\mathrm{d}\\mathbf{S}_5 = \\mathrm{d}\\mathbf{S}_6 = \\mathbf{i}\\,\\mathrm{d}y\\,\\mathrm{d}z $$"
   ]
  },
  {
   "cell_type": "markdown",
   "id": "031d02ec-1d88-45e4-93a3-afee40d00008",
   "metadata": {},
   "source": [
    "The flux across $S$ is of course equal to the sum of the fluxes across each of these faces.  \n",
    "\n",
    "$$ \\Phi = \\sum_{i=1}^6\\iint_{S_i}\\mathbf{F}\\cdot\\mathrm{d}\\mathbf{S}_i = \\sum_{i=1}^6 \\Phi_i$$"
   ]
  },
  {
   "cell_type": "markdown",
   "id": "08c3f428-5eb6-4119-9e12-3d524ea4182d",
   "metadata": {},
   "source": [
    "$$ \\Phi_1 = \\iint_{S_1}\\mathbf{F}(x,y,0)\\cdot\\mathbf{k}\\,\\mathrm{d}x\\,\\mathrm{d}y = 0$$"
   ]
  },
  {
   "cell_type": "markdown",
   "id": "06c57aeb-64d8-4b2c-bdab-389ab8a85b3d",
   "metadata": {},
   "source": [
    "$$ \\Phi_2 = \\iint_{S_2}\\mathbf{F}(x,y,1)\\cdot\\mathbf{k}\\,\\mathrm{d}x\\,\\mathrm{d}y = \\iint_{S_2}\\,\\mathrm{d}x\\,\\mathrm{d}y = 1$$"
   ]
  },
  {
   "cell_type": "markdown",
   "id": "f8f17145-aca0-47f6-bbb1-4ca6ac4a59a1",
   "metadata": {},
   "source": [
    "$$ \\Phi_3 = \\iint_{S_3}\\mathbf{F}(x,0,z)\\cdot\\mathbf{j}\\,\\mathrm{d}x\\,\\mathrm{d}z = 0$$"
   ]
  },
  {
   "cell_type": "markdown",
   "id": "d5f7c308-b484-48da-94f1-e1a2a38e9aed",
   "metadata": {},
   "source": [
    "$$ \\Phi_4 = \\iint_{S_4}\\mathbf{F}(x,1,z)\\cdot\\mathbf{j}\\,\\mathrm{d}x\\,\\mathrm{d}z = 1$$"
   ]
  },
  {
   "cell_type": "markdown",
   "id": "8d3e8dd0-74bd-4c83-8b94-3bc14fc1b491",
   "metadata": {},
   "source": [
    "$$ \\Phi_5 = \\iint_{S_5}\\mathbf{F}(0,y,z)\\cdot\\mathbf{i}\\,\\mathrm{d}y\\,\\mathrm{d}z = 0$$"
   ]
  },
  {
   "cell_type": "markdown",
   "id": "ad1c7ee6-30ef-4f49-b632-1679a85bf311",
   "metadata": {},
   "source": [
    "$$ \\Phi_6 = \\iint_{S_6}\\mathbf{F}(1,y,z)\\cdot\\mathbf{i}\\,\\mathrm{d}y\\,\\mathrm{d}z = 1$$"
   ]
  },
  {
   "cell_type": "markdown",
   "id": "1aebf1b4-3012-428d-9aa3-fe18429f9706",
   "metadata": {},
   "source": [
    "Finally,  \n",
    "\n",
    "$$ \\Phi = 3$$"
   ]
  },
  {
   "cell_type": "markdown",
   "id": "fa190290-ad0f-41fa-ac2c-2bc730768a74",
   "metadata": {},
   "source": [
    "#### Problem 2  \n",
    "\n",
    "$$ \\frac{1}{2}\\,\\nabla (\\mathbf{F}\\cdot\\mathbf{F}) = \\frac{1}{2}\\,\\nabla |\\mathbf{F}|^2 = \\frac{1}{2}\\,\\nabla\\big(F_1^2 + F_2^2 + F_3^2\\big) = \\mathbf{G}$$"
   ]
  },
  {
   "cell_type": "markdown",
   "id": "faeb5e43-34c6-4ad8-a9eb-979aeaba66d0",
   "metadata": {},
   "source": [
    "$$ 2G_1 = 2F_1\\,\\frac{\\partial F_1}{\\partial x} + 2F_2\\,\\frac{F_2}{\\partial x} + 2F_3\\,\\frac{\\partial F_3}{\\partial x}$$"
   ]
  },
  {
   "cell_type": "markdown",
   "id": "7f1a9633-a704-491b-982f-d4575acf2611",
   "metadata": {},
   "source": [
    "$$ G_1 = \\mathbf{F}\\cdot \\frac{\\partial \\mathbf{F}}{\\partial x}$$"
   ]
  },
  {
   "cell_type": "markdown",
   "id": "ae52c3ce-61e4-42fa-9108-5f702a3ade55",
   "metadata": {},
   "source": [
    "$$ G_2 = \\mathbf{F}\\cdot\\frac{\\partial \\mathbf{F}}{\\partial y} \\quad\\quad\\text{and}\\quad\\quad G_3 = \\mathbf{F}\\cdot\\frac{\\partial \\mathbf{F}}{\\partial z}$$"
   ]
  },
  {
   "cell_type": "markdown",
   "id": "9f305752-6a0e-4611-9a6d-7ced38e2c6e2",
   "metadata": {},
   "source": [
    "Now, let $x_1,x_2,x_3:=x,y,z$ and $\\mathbf{e}_1,\\mathbf{e}_2,\\mathbf{e}_3:=\\mathbf{i},\\mathbf{j},\\mathbf{k}$.  $G_i$ and $F_i$ are the $x_i$ compliment of $\\mathbf{G}$ and $\\mathbf{F}$ respectively.  Moreover,  \n",
    "\n",
    "$$ G_i = \\mathbf{F}\\cdot\\frac{\\partial \\mathbf{F}}{\\partial x_i} \\quad\\forall i \\in \\{1,2,3\\}$$"
   ]
  },
  {
   "cell_type": "markdown",
   "id": "406c6994-d467-46e5-93b1-4754512c8654",
   "metadata": {},
   "source": [
    "Or  \n",
    "\n",
    "$$ \\mathbf{G} = \\sum_{i=1}^3 \\mathbf{F}\\cdot\\frac{\\partial \\mathbf{F}}{\\partial x_i}\\,\\mathbf{e}_i$$"
   ]
  },
  {
   "cell_type": "markdown",
   "id": "3206d400-91d2-44cf-906b-f78af268e490",
   "metadata": {},
   "source": [
    "Now let,  \n",
    "\n",
    "$$ \\mathbf{H} = \\mathbf{W} + \\mathbf{U} $$"
   ]
  },
  {
   "cell_type": "markdown",
   "id": "c3493910-4f3a-4f16-b886-6690dd7a8ad6",
   "metadata": {},
   "source": [
    "where,  \n",
    "\n",
    "$$ \\mathbf{W} = \\mathbf{F}\\times\\big(\\nabla \\times \\mathbf{F}\\big) \\quad\\quad\\text{and}\\quad\\quad \\mathbf{U} = \\big(\\mathbf{F}\\cdot\\nabla\\big)\\,\\mathbf{F}$$"
   ]
  },
  {
   "cell_type": "markdown",
   "id": "8b043052-1b97-4690-b71a-66e49ee2d8dc",
   "metadata": {},
   "source": [
    "**Proposition**:  \n",
    "\n",
    "$$ \\mathbf{H} = \\mathbf{G}$$"
   ]
  },
  {
   "cell_type": "markdown",
   "id": "c9081e35-b179-4501-a939-81c9c45d52f8",
   "metadata": {},
   "source": [
    "**Proof**:  \n",
    "\n",
    "$$ \\nabla \\times \\mathbf{F} = \\mathrm{curl }\\,\\mathbf{F} = \\left(\\frac{\\partial F_3}{\\partial y} - \\frac{\\partial F_2}{\\partial z}\\right)\\,\\mathbf{i} - \\left(\\frac{\\partial F_3}{\\partial x} - \\frac{\\partial F_1}{\\partial z}\\right)\\,\\mathbf{j} + \\left(\\frac{\\partial  F_2}{\\partial x} - \\frac{\\partial F_1}{\\partial y}\\right)\\,\\mathbf{k}$$"
   ]
  },
  {
   "cell_type": "markdown",
   "id": "1dbb3db2-a757-4815-87af-4c992686f5b3",
   "metadata": {},
   "source": [
    "$$ W_1 = F_2\\left(\\frac{\\partial F_2}{\\partial x_1} - \\frac{\\partial F_1}{\\partial x_2}\\right) + F_3\\left(\\frac{\\partial F_3}{\\partial x_1} - \\frac{\\partial F_1}{\\partial x_3}\\right)$$"
   ]
  },
  {
   "cell_type": "markdown",
   "id": "ddc9d1e0-639f-4f5e-9397-aa5ded33930f",
   "metadata": {},
   "source": [
    "$$ W_2 = -F_1\\left(\\frac{\\partial F_2}{\\partial x_1} - \\frac{\\partial F_1}{\\partial x_2}\\right) + F_3\\left(\\frac{\\partial F_3}{\\partial x_2} - \\frac{\\partial F_2}{\\partial x_3}\\right)$$"
   ]
  },
  {
   "cell_type": "markdown",
   "id": "2a39734e-0d35-4db3-b019-9842b4dedde6",
   "metadata": {},
   "source": [
    "$$ W_3 = -F_1\\left(\\frac{\\partial F_3}{\\partial x_1} - \\frac{\\partial F_1}{\\partial x_3}\\right) - F_2\\left(\\frac{\\partial F_3}{\\partial x_2} - \\frac{\\partial F_2}{\\partial x_3}\\right)$$"
   ]
  },
  {
   "cell_type": "markdown",
   "id": "90513786-e4c6-4e75-8cd2-bb8043e7571d",
   "metadata": {},
   "source": [
    "$$ U_1 = \\big(\\mathbf{F}\\cdot\\nabla\\big)F_1 = \\mathbf{F}\\cdot\\big(\\nabla F_1\\big)$$"
   ]
  },
  {
   "cell_type": "markdown",
   "id": "501a3c88-58f4-45e8-adb4-2d98bb7803e9",
   "metadata": {},
   "source": [
    "$$ U_2 = \\mathbf{F}\\cdot\\big(\\nabla F_2\\big) \\quad\\quad\\text{and}\\quad\\quad U_3 = \\mathbf{F}\\cdot\\big(\\nabla F_3\\big)$$"
   ]
  },
  {
   "cell_type": "markdown",
   "id": "a41d7a3e-104b-4a75-b1c1-011da36b2b50",
   "metadata": {},
   "source": [
    "Finally,  \n",
    "\n",
    "$$ H_1 = F_1\\,\\frac{\\partial F_1}{\\partial x_1} + F_2\\,\\frac{\\partial F_2}{\\partial x_1} + F_3\\,\\frac{\\partial F_3}{\\partial x_1}$$"
   ]
  },
  {
   "cell_type": "markdown",
   "id": "3c7faedf-f672-454d-a54f-0e0a5f92bcd5",
   "metadata": {},
   "source": [
    "$$ = \\mathbf{F} \\cdot \\frac{\\partial \\mathbf{F}}{\\partial x_1}$$"
   ]
  },
  {
   "cell_type": "markdown",
   "id": "57ce4a2a-431d-496d-9466-6e7301494203",
   "metadata": {},
   "source": [
    "$$ H_2 = W_2 + U_2 = F_1\\,\\frac{\\partial F_1}{\\partial x_2} + F_3\\,\\frac{\\partial F_3}{\\partial x_2} + F_1\\,\\frac{\\partial F_2}{\\partial x_1} - F_1\\,\\frac{\\partial F_2}{\\partial x_1} + F_2\\,\\frac{\\partial F_2}{\\partial x_2} + F_3\\,\\frac{\\partial F_2}{\\partial x_3} - F_3\\,\\frac{\\partial F_2}{\\partial x_3}$$"
   ]
  },
  {
   "cell_type": "markdown",
   "id": "4b5c9269-e385-458a-bbc8-529fdcb26657",
   "metadata": {},
   "source": [
    "$$ = \\mathbf{F}\\cdot\\frac{\\partial \\mathbf{F}}{\\partial x_2}$$"
   ]
  },
  {
   "cell_type": "markdown",
   "id": "6af1e4d1-4aaf-4f2d-9975-fddca019714f",
   "metadata": {},
   "source": [
    "$$ H_3 = W_3 + U_3 = F_1\\,\\frac{\\partial F_3}{\\partial x_1} + F_2\\,\\frac{\\partial F_3}{\\partial x_2} + F_3\\,\\frac{\\partial F_3}{\\partial x_3} - F_1\\,\\frac{\\partial F_3}{\\partial x_1} + F_1\\,\\frac{\\partial F_1}{\\partial x_3} - F_2\\,\\frac{\\partial F_3}{\\partial x_2} + F_2\\,\\frac{\\partial F_2}{\\partial x_3}$$"
   ]
  },
  {
   "cell_type": "markdown",
   "id": "6b6a5aba-8e72-4885-baff-3c9a7b1f8db6",
   "metadata": {},
   "source": [
    "$$= F_3\\,\\frac{\\partial F_3}{\\partial x_3} + F_1\\,\\frac{\\partial F_1}{\\partial x_3} + F_2\\,\\frac{\\partial F_2}{\\partial x_3}$$"
   ]
  },
  {
   "cell_type": "markdown",
   "id": "581432e0-1429-4cf9-b1fc-5c5258e79e53",
   "metadata": {},
   "source": [
    "$$ = \\mathbf{F}\\cdot\\frac{\\partial \\mathbf{F}}{\\partial x_3}$$"
   ]
  },
  {
   "cell_type": "markdown",
   "id": "15d1e985-1f0a-480a-a48e-3b52befd1997",
   "metadata": {},
   "source": [
    "Q.E.D."
   ]
  }
 ],
 "metadata": {
  "kernelspec": {
   "display_name": "Python 3 (ipykernel)",
   "language": "python",
   "name": "python3"
  },
  "language_info": {
   "codemirror_mode": {
    "name": "ipython",
    "version": 3
   },
   "file_extension": ".py",
   "mimetype": "text/x-python",
   "name": "python",
   "nbconvert_exporter": "python",
   "pygments_lexer": "ipython3",
   "version": "3.10.12"
  }
 },
 "nbformat": 4,
 "nbformat_minor": 5
}
