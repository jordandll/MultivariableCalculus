{
 "cells": [
  {
   "cell_type": "markdown",
   "id": "ce90caf2-9e33-41e5-939d-835d78519b02",
   "metadata": {},
   "source": [
    "# Divergence Theorem Proof"
   ]
  },
  {
   "cell_type": "markdown",
   "id": "74f7e6e2-90f6-4b23-9664-84a3f5379be2",
   "metadata": {},
   "source": [
    "Let \n",
    "\n",
    "$$ \\mathbf{F}:=\\mathbf{F}(x,y,z) := \\langle M,N,P\\rangle $$"
   ]
  },
  {
   "cell_type": "markdown",
   "id": "4c749a5b-c57e-45e5-b93d-f2ce329c24de",
   "metadata": {},
   "source": [
    "where,  \n",
    "\n",
    "$$ M:= M(x,y,z)\\quad\\quad N:=N(x,y,z) \\quad\\quad P:=P(x,y,z)$$"
   ]
  },
  {
   "cell_type": "markdown",
   "id": "2cb68cc6-716b-496b-941b-d67c2c3431ce",
   "metadata": {},
   "source": [
    "The  integrand of the surface integeral $\\displaystyle \\iint_S \\mathbf{F}\\cdot \\mathbf{n}\\,\\mathrm{d}S$ breaks down to:  \n",
    "\n",
    "$$ \\mathbf{F}\\cdot \\mathbf{n}\\,\\mathrm{d}S = \\big(Mn_1 + Nn_2 + Pn_3\\big)\\,\\mathrm{d}S$$"
   ]
  },
  {
   "cell_type": "markdown",
   "id": "ff9b797b-a7f8-4ac9-8a9e-ef98e427d601",
   "metadata": {},
   "source": [
    "$$ = \\big(M\\,\\mathbf{i}\\cdot\\mathbf{n} + N\\,\\mathbf{j}\\cdot\\mathbf{n} + P\\,\\mathbf{k}\\cdot\\mathbf{n}\\big)\\,\\mathrm{d}S$$"
   ]
  },
  {
   "cell_type": "markdown",
   "id": "1f75c3f4-b483-47b5-8c1a-a7a4733e369a",
   "metadata": {},
   "source": [
    "where $S$ is a closed surface.  Thus,  \n",
    "\n",
    "\\begin{equation}\\tag{2}\n",
    "    \\iint_S \\mathbf{F}\\cdot\\mathrm{d}\\mathbf{S} = \\iint_S M\\,\\mathbf{i}\\cdot\\mathbf{n}\\,\\mathrm{d}S + \\iint_S N\\,\\mathbf{j}\\cdot\\mathbf{n}\\,\\mathrm{d}S + \\iint_S P\\,\\mathbf{k}\\cdot\\mathbf{n}\\,\\mathrm{d}S\n",
    "\\end{equation}"
   ]
  },
  {
   "cell_type": "markdown",
   "id": "0e9576c0-62c5-4b1c-925f-c48dddd7dd9b",
   "metadata": {},
   "source": [
    "Of course, we have the triple integral:  \n",
    "\n",
    "\\begin{equation}\\tag{3}\n",
    "    \\iiint_D \\mathrm{div }\\,\\mathbf{F}\\,\\mathrm{d}V = \\iiint_D \\frac{\\partial M}{\\partial x}\\,\\mathrm{d}V + \\iiint_D \\frac{\\partial N}{\\partial y}\\,\\mathrm{d}V + \\iiint_D \\frac{\\partial P}{\\partial z}\\,\\mathrm{d}V\n",
    "\\end{equation}"
   ]
  },
  {
   "cell_type": "markdown",
   "id": "577e5d01-b95e-4662-9112-d103a9890774",
   "metadata": {},
   "source": [
    "where $D$ is the region enclosed by $S$.  And, via Divergence Theorem,  \n",
    "\n",
    "$$ \\iint_S \\mathbf{F}\\cdot\\mathrm{d}\\mathbf{S} = \\iiint_D \\mathrm{div }\\,\\mathbf{F}\\,\\mathrm{d}V$$"
   ]
  },
  {
   "cell_type": "markdown",
   "id": "ac06ff27-48ff-4b9e-823f-44c474558aa1",
   "metadata": {},
   "source": [
    "Now, let $\\mathbf{M}$, and $\\mathbf{N}$ and $\\mathbf{P}$ be defined as:  \n",
    "\n",
    "$$ \\mathbf{M} = \\big(\\mathbf{F}\\cdot \\mathbf{i}\\big)\\,\\mathbf{i} = M\\,\\mathbf{i} \\quad\\quad \\mathbf{N} = \\big(\\mathbf{F}\\cdot\\mathbf{j}\\big)\\,\\mathbf{j} = N\\,\\mathbf{j} \\quad\\quad \\mathbf{P} = \\big(\\mathbf{F}\\cdot\\mathbf{k}\\big)\\,\\mathbf{k} = P\\,\\mathbf{k}$$"
   ]
  },
  {
   "cell_type": "markdown",
   "id": "13836970-1b3a-48f7-99d3-8db03803afe0",
   "metadata": {},
   "source": [
    "It now follows that:  \n",
    "\n",
    "\\begin{equation}\\tag{1a,b}\n",
    "    \\mathbf{F} = \\mathbf{M} + \\mathbf{N} + \\mathbf{P}\\quad\\quad\\text{and}\\quad\\quad \\nabla \\cdot \\mathbf{F} = \\nabla \\cdot \\mathbf{M} + \\nabla \\cdot \\mathbf{N} + \\nabla \\cdot \\mathbf{P}\n",
    "\\end{equation}"
   ]
  },
  {
   "cell_type": "markdown",
   "id": "ee58e264-d25a-4049-9ae4-e473339bd443",
   "metadata": {},
   "source": [
    "Of course, via the above two equations,  \n",
    "\n",
    "\\begin{equation}\\tag{2}\n",
    "    \\iint_S \\mathbf{F}\\cdot\\mathrm{d}\\mathbf{S} = \\iint_S \\mathbf{M}\\cdot\\mathrm{d}\\mathbf{S} + \\iint_S \\mathbf{N}\\cdot\\mathrm{d}\\mathbf{S} + \\iint_S \\mathbf{P}\\cdot\\mathrm{d}\\mathbf{S}\n",
    "\\end{equation}"
   ]
  },
  {
   "cell_type": "markdown",
   "id": "278c7344-5352-4b41-80b2-64dc78290bdc",
   "metadata": {},
   "source": [
    "And,  \n",
    "\n",
    "\\begin{equation}\\tag{3}\n",
    "    \\iiint_D \\mathrm{div }\\,\\mathbf{F}\\,\\mathrm{d}V  = \\iiint_D \\nabla \\cdot \\mathbf{M}\\,\\mathrm{d}V + \\iiint_D \\nabla \\cdot \\mathbf{N}\\,\\mathrm{d}V  + \\iiint_D \\nabla \\cdot \\mathbf{P}\\,\\mathrm{d}V\n",
    "\\end{equation}"
   ]
  },
  {
   "cell_type": "markdown",
   "id": "5a297341-cc04-4fa3-8cbe-794f63855283",
   "metadata": {},
   "source": [
    "#### The $z$-compliment of $\\mathbf{F}$  \n",
    "\n",
    "To prove Divergence Theorem, let's first prove that:  \n",
    "\n",
    "\\begin{equation}\\tag{4}\n",
    "    \\iint_S \\mathbf{P}\\cdot\\mathrm{d}\\mathbf{S} = \\iiint_D \\frac{\\partial P}{\\partial z}\\,\\mathrm{d}V\n",
    "\\end{equation}"
   ]
  },
  {
   "cell_type": "markdown",
   "id": "8f48a144-3d7f-4cda-a287-7dd8fb49dfdb",
   "metadata": {},
   "source": [
    "Let $R$ be the projection of $S$ onto the $xy$-plane.  It now follows that the outer double integral of the triple integral found in equation (4) may be over $R$.  The inner integral of said triple integral is from $g(x,y)$ to $h(x,y)$ and is with respect to $z$.  Here, the upper surface $S_2$ is given by $z=h(x,y)$, while the lower surface $S_1$ is given by $z=g(x,y)$.  Of course $S$ may consist of vertical surfaces (i.e. surfaces that are parallel to the $z$-axis) -- say, a cylinder, whose central axis is parallel to the $z$-axis, for example -- but these surfaces can be ignored since the flux of $\\mathbf{P}$ across any vertical surface is equal to zero, which is due to such surfaces being parallel to $\\mathbf{P}$."
   ]
  },
  {
   "cell_type": "markdown",
   "id": "33d0c8b7-7e96-4638-8651-ae9d0651173e",
   "metadata": {},
   "source": [
    "$$ S_1:\\; z=g(x,y) \\quad\\quad\\text{and}\\quad\\quad S_2:\\; z=h(x,y)$$"
   ]
  },
  {
   "cell_type": "markdown",
   "id": "e8a8d085-1171-468b-be0d-396842372ac0",
   "metadata": {},
   "source": [
    "$$ \\iiint_D \\frac{\\partial P}{\\partial z}\\,\\mathrm{d}V = \\iint_R \\int_{g(x,y)}^{h(x,y)}\\frac{\\partial P}{\\partial z}\\,\\mathrm{d}z\\,\\mathrm{d}A$$"
   ]
  },
  {
   "cell_type": "markdown",
   "id": "3ffcfbc3-b6c7-4bcd-ae59-a554b361129a",
   "metadata": {},
   "source": [
    "$$ = \\iint_R \\Big(P\\big(x,y,h(x,y)\\big) - P\\big(x,y,g(x,y)\\big)\\Big)\\,\\mathrm{d}A$$"
   ]
  },
  {
   "cell_type": "markdown",
   "id": "babddb99-463a-497a-b950-fc77cc9896f4",
   "metadata": {},
   "source": [
    "\\begin{equation}\\tag{5}\n",
    "    = \\iint_R P\\big(x,y,h(x,y)\\big)\\,\\mathrm{d}A - \\iint_R P\\big(x,y,g(x,y)\\big)\\,\\mathrm{d}A\n",
    "\\end{equation}"
   ]
  },
  {
   "cell_type": "markdown",
   "id": "531d3a8c-39a9-4e32-b7f8-ced9549e3ef5",
   "metadata": {},
   "source": [
    "Now, let's consider the surface integral found in equation (4).  \n",
    "\n",
    "\\begin{equation}\\tag{6}\n",
    "    \\iint_S \\mathbf{P}\\cdot\\mathrm{d}\\mathbf{S} = \\iint_{S_1} \\mathbf{P}\\cdot\\mathrm{d}\\mathbf{S}_1 + \\iint_{S_2}\\mathbf{P}\\cdot\\mathrm{d}\\mathbf{S}_2\n",
    "\\end{equation}"
   ]
  },
  {
   "cell_type": "markdown",
   "id": "57fbd92d-d33a-4663-9535-946335d16e2c",
   "metadata": {},
   "source": [
    "The normal vectors are:  \n",
    "\n",
    "$$ -\\mathrm{d}\\mathbf{S}_1 = \\left\\langle -\\frac{\\partial g(x,y)}{\\partial x},-\\frac{\\partial g(x,y)}{\\partial y},1\\right\\rangle\\,\\mathrm{d}x\\,\\mathrm{d}y$$"
   ]
  },
  {
   "cell_type": "markdown",
   "id": "d9c9fdbf-f762-4f9f-bc3f-ada288498395",
   "metadata": {},
   "source": [
    "$$ \\mathrm{d}\\mathbf{S}_2 = \\left\\langle -\\frac{\\partial h(x,y)}{\\partial x}, -\\frac{\\partial h(x,y)}{\\partial y},1\\right\\rangle\\,\\mathrm{d}x\\,\\mathrm{d}y$$"
   ]
  },
  {
   "cell_type": "markdown",
   "id": "0873918d-8837-4650-9fa7-6952ddb78075",
   "metadata": {},
   "source": [
    "Note the negation of $\\mathrm{d}\\mathbf{S}_1$ on the left hand side of the equation above the above equation.  This is due to the fact that, in order to satisfy the outward or positive orientation of $S$, the orientation of $S_1$ must be negative (i.e. pointing down or towards the negative end of the $z$-axis instead of up)."
   ]
  },
  {
   "cell_type": "markdown",
   "id": "1f0198e6-316f-4acf-b74a-745f05d0a9d9",
   "metadata": {},
   "source": [
    "The integrands are:  \n",
    "\n",
    "$$ \\mathbf{P}\\cdot\\mathrm{d}\\mathbf{S}_1 = P\\,\\mathbf{k}\\cdot\\mathrm{d}\\mathbf{S}_1 = -P(x,y,z)\\,\\mathrm{d}x\\,\\mathrm{d}y = -P\\,\\mathrm{d}A$$"
   ]
  },
  {
   "cell_type": "markdown",
   "id": "564265ed-1f81-4c18-8e5b-d0e83ec00fc7",
   "metadata": {},
   "source": [
    "$$ \\mathbf{P}\\cdot\\mathrm{d}\\mathbf{S}_2 = P\\,\\mathbf{k}\\cdot\\mathrm{d}\\mathbf{S}_2 = P\\,\\mathrm{d}x\\,\\mathrm{d}y = P(x,y,z)\\,\\mathrm{d}A$$"
   ]
  },
  {
   "cell_type": "markdown",
   "id": "216d4f82-a346-481e-902e-fcfa91c9b3cb",
   "metadata": {},
   "source": [
    "Of course, the region $R$ is equal to the projection of both $S_1$ and $S_2$ onto the $xy$-plane.  Thus,  \n",
    "\n",
    "\\begin{equation}\\tag{6a}\n",
    "    \\iint_{S_1}\\mathbf{P}\\cdot\\mathrm{d}\\mathbf{S}_1 = -\\iint_R P\\big(x,y,g(x,y)\\big)\\,\\mathrm{d}A\n",
    "\\end{equation}"
   ]
  },
  {
   "cell_type": "markdown",
   "id": "a00d359e-a590-4e92-a0d0-dbcdfa186451",
   "metadata": {},
   "source": [
    "\\begin{equation}\\tag{6b}\n",
    "    \\iint_{S_2}\\mathbf{P}\\cdot\\mathrm{d}\\mathbf{S}_2 = \\iint_R P\\big(x,y,h(x,y)\\big)\\,\\mathrm{d}A\n",
    "\\end{equation}"
   ]
  },
  {
   "cell_type": "markdown",
   "id": "1b469a03-c1ec-4fe8-b003-be45a92507f1",
   "metadata": {},
   "source": [
    "Finally, via equations (5), (6), (6a), and (6b), we get equation (4)."
   ]
  },
  {
   "cell_type": "markdown",
   "id": "a1c6587b-1938-4a07-8655-bcd0e4b73b8f",
   "metadata": {},
   "source": [
    "#### The $x$-compliment of $\\mathbf{F}$"
   ]
  },
  {
   "cell_type": "markdown",
   "id": "13a05f16-7846-4811-a696-7f543c60386d",
   "metadata": {},
   "source": [
    "Next, we prove that  \n",
    "\n",
    "\\begin{equation}\\tag{7}\n",
    "    \\iint_S \\mathbf{M}\\cdot\\mathrm{d}\\mathbf{S} = \\iiint_D \\frac{\\partial M}{\\partial x}\\,\\mathrm{d}V\n",
    "\\end{equation}"
   ]
  },
  {
   "cell_type": "markdown",
   "id": "39232323-16eb-4698-843e-e86b6a8d5687",
   "metadata": {},
   "source": [
    "Let $R$ be the projection of $S$ onto the $yz$-plane.  The inner integral of the triple integral in equation (7) is from $g(y,z)$ to $h(y,z)$ and is with respect to $x$.  Obviously, the outer double integral of said triple integral is over $R$.  "
   ]
  },
  {
   "cell_type": "markdown",
   "id": "02881a15-33a0-4f38-84f8-1520d0c031d1",
   "metadata": {},
   "source": [
    "Let $S_1$ be the left hand surface of $S$ (i.e. the part of $S$ where the outside or positive side of $S$ faces the negative end of the $x$-axis) and $S_2$ be the right hand surface of $S$ (i.e. the part of $S$ where the outside of $S$ faces the positive end of the $x$-axis).  Segments of $S$ that are parallel to the $x$-axis can be ignored since the flux of $\\mathbf{M}$ across these segments is equal to zero, which is due to the fact that these segments are parallel to $\\mathbf{M}$.  Of course, $S_1$ is given by $x=g(y,z)$ and $S_2$ is given by $x=h(y,z)$.  "
   ]
  },
  {
   "cell_type": "markdown",
   "id": "03e67667-269a-4bd2-bba2-388ac86b3895",
   "metadata": {},
   "source": [
    "$$ S_1:\\; x = g(y,z)\\quad\\quad\\text{and}\\quad\\quad S_2:\\; x = h(y,z)$$"
   ]
  },
  {
   "cell_type": "markdown",
   "id": "675a0ba4-659f-4647-b50f-44c637ef6795",
   "metadata": {},
   "source": [
    "$$ \\iiint_D\\frac{\\partial M}{\\partial x}\\,\\mathrm{d}V = \\iint_R \\int_{g(y,z)}^{h(y,z)}\\frac{\\partial M}{\\partial x}\\,\\mathrm{d}x\\,\\mathrm{d}A$$"
   ]
  },
  {
   "cell_type": "markdown",
   "id": "214d05c0-9eca-4af3-9292-c6908415dabd",
   "metadata": {},
   "source": [
    "\\begin{equation}\\tag{8}\n",
    "    = \\iint_R M\\big(h(y,z),y,z\\big)\\,\\mathrm{d}A - \\iint_R M\\big(g(y,z),y,z\\big)\\,\\mathrm{d}A\n",
    "\\end{equation}"
   ]
  },
  {
   "cell_type": "markdown",
   "id": "64bec651-ee74-4ee9-95c2-ea01c94b8fcd",
   "metadata": {},
   "source": [
    "Now, let's consider the surface integral found in equation (7).  \n",
    "\n",
    "\\begin{equation}\\tag{9}\n",
    "    \\iint_S \\mathbf{M}\\cdot\\mathrm{d}\\mathbf{S} = \\iint_{S_1}\\mathbf{M}\\cdot\\mathrm{d}\\mathbf{S}_1 + \\iint_{S_2}\\mathbf{M}\\cdot\\mathrm{d}\\mathbf{S}_2\n",
    "\\end{equation}"
   ]
  },
  {
   "cell_type": "markdown",
   "id": "94ea28f6-9d1f-4e19-9614-bc5094742c55",
   "metadata": {},
   "source": [
    "The normal vectors are:  \n",
    "\n",
    "$$ -\\mathrm{d}\\mathbf{S}_1 = \\left\\langle 1,-\\frac{\\partial g(y,z)}{\\partial y},-\\frac{\\partial g(y,z)}{\\partial z}\\right\\rangle\\,\\mathrm{d}y\\,\\mathrm{d}z$$"
   ]
  },
  {
   "cell_type": "markdown",
   "id": "7ae02491-44bf-43d7-be2f-1ba248aa47b6",
   "metadata": {},
   "source": [
    "$$ \\mathrm{d}\\mathbf{S}_2 = \\left\\langle 1,-\\frac{\\partial h(y,z)}{\\partial y},-\\frac{\\partial h(y,z)}{\\partial z}\\right\\rangle\\,\\mathrm{d}y\\,\\mathrm{d}z$$"
   ]
  },
  {
   "cell_type": "markdown",
   "id": "d2992a9d-3560-4077-8c07-4772c55ec95b",
   "metadata": {},
   "source": [
    "To prove the above, let $\\mathcal{S}$ be an infinitismal segment of $S_2$ and $\\mathcal{R}$ be the projection of $\\mathcal{S}$ onto the $yz$-plane.  It follows that $\\mathcal{R}$ is an infinitismal rectangular segment of the $yz$-plane with vertices of:  \n",
    "\n",
    "$$ (0,y_0,z_0)\\quad\\quad (0,y_0+\\mathrm{d}y,z_0)\\quad\\quad (0,y_0+\\mathrm{d}y,z_0+\\mathrm{d}z)\\quad\\quad (0,y_0,z_0+\\mathrm{d}z)$$"
   ]
  },
  {
   "cell_type": "markdown",
   "id": "43ad7a56-a82c-4c72-beee-0c5e34bef384",
   "metadata": {},
   "source": [
    "Here $(y_0,z_0)\\in\\mathbb{R}^2$.  More specifically,  \n",
    "\n",
    "$$ \\mathcal{R}\\subset R \\quad\\quad \\mathcal{S}\\subset S_2 \\quad\\quad (0,y_0,z_0)\\in R$$"
   ]
  },
  {
   "cell_type": "markdown",
   "id": "18576f6b-35d4-4364-b836-bf4e07592369",
   "metadata": {},
   "source": [
    "The areas of $\\mathcal{R}$ and $\\mathcal{S}$, respectively, are:  \n",
    "\n",
    "$$ \\iint_\\mathcal{R}\\,\\mathrm{d}A = \\mathrm{d}A = \\mathrm{d}y\\,\\mathrm{d}z \\quad\\quad\\text{and}\\quad\\quad \\iint_\\mathcal{S} \\,\\mathrm{d}S_2 = \\mathrm{d}S_2$$"
   ]
  },
  {
   "attachments": {},
   "cell_type": "markdown",
   "id": "ffb24075-4c6f-42c7-bc0d-3837b5ea90f1",
   "metadata": {},
   "source": [
    "Now, let:  \n",
    "\n",
    "$$\\mathbf{A} := \\big\\langle h(y_0,z_0+\\mathrm{d}z),y_0,z_0+\\mathrm{d}z\\big\\rangle - \\big\\langle h(y_0,z_0),y_0,z_0\\big\\rangle$$"
   ]
  },
  {
   "cell_type": "markdown",
   "id": "1a9a1ec6-ff1a-40c4-833d-131248efe5c6",
   "metadata": {},
   "source": [
    "$$ = \\big\\langle h(y_0,z_0+\\mathrm{d}z) - h(y_0,z_0), 0, \\mathrm{d}z\\big\\rangle$$"
   ]
  },
  {
   "cell_type": "markdown",
   "id": "2bec3198-d331-4377-b9ac-320933f442fe",
   "metadata": {},
   "source": [
    "$$= \\left\\langle \\frac{\\partial h(y,z)}{\\partial z},0,1\\right\\rangle\\,\\mathrm{d}z$$"
   ]
  },
  {
   "cell_type": "markdown",
   "id": "a006ba11-dee9-451d-a1ba-890a919d1da3",
   "metadata": {},
   "source": [
    "The last equality of the above equation follows from the total derivative formula.  \n",
    "\n",
    "$$ h(y,z+\\mathrm{d}z) - h(y,z) = \\mathrm{d}h = \\frac{\\partial h}{\\partial y}\\,\\mathrm{d}y + \\frac{\\partial h}{\\partial z}\\,\\mathrm{d}z$$"
   ]
  },
  {
   "cell_type": "markdown",
   "id": "c88aca29-fc86-403a-8be5-7be8e9f1f271",
   "metadata": {},
   "source": [
    "And, since $y$ is held constant, $\\mathrm{d}y=0$.  Thus,  \n",
    "\n",
    "$$ \\mathrm{d}h = \\frac{\\partial h(y,z)}{\\partial z}\\,\\mathrm{d}z$$"
   ]
  },
  {
   "cell_type": "markdown",
   "id": "88aece7e-3723-4cea-bacf-9a5731d09d75",
   "metadata": {},
   "source": [
    "Let  \n",
    "\n",
    "$$ \\mathbf{B} := \\big\\langle h(y_0+\\mathrm{d}y,z_0),y_0+\\mathrm{d}y,z_0\\big\\rangle - \\big\\langle h(y_0,z_0),y_0,z_0\\big\\rangle$$"
   ]
  },
  {
   "cell_type": "markdown",
   "id": "cee1b873-a48f-42c5-bbcf-887ff651bf45",
   "metadata": {},
   "source": [
    "$$ = \\langle h(y_0+\\mathrm{d}y,z_0) - h(y_0,z_0),\\mathrm{d}y,0\\big\\rangle$$"
   ]
  },
  {
   "cell_type": "markdown",
   "id": "24ec0754-f7c2-40c9-9d87-4e69829fb780",
   "metadata": {},
   "source": [
    "$$= \\left\\langle \\frac{\\partial h(y,z)}{\\partial y},1,0\\right\\rangle\\,\\mathrm{d}y$$"
   ]
  },
  {
   "cell_type": "markdown",
   "id": "13e048ce-37cf-432e-ae29-0231d219990a",
   "metadata": {},
   "source": [
    "The vectors $\\mathbf{A}$ and $\\mathbf{B}$ span a paralellogram that approximates (or is equal to?) $\\mathcal{S}$ and thus, it's area is equal to $\\mathrm{d}S_2$.  Therefore,  \n",
    "\n",
    "$$ \\mathrm{d}\\mathbf{S}_2 = \\mathbf{A}\\times\\mathbf{B}$$"
   ]
  },
  {
   "cell_type": "markdown",
   "id": "13c0caef-f367-424b-a200-b61b2dec64e9",
   "metadata": {},
   "source": [
    "$$ = \\left|\\begin{matrix}\\mathbf{i} & \\mathbf{j} & \\mathbf{k} \\\\ h_z & 0 & 1 \\\\ h_y & 1 & 0\\end{matrix}\\right|\\,\\mathrm{d}y\\,\\mathrm{d}z$$"
   ]
  },
  {
   "cell_type": "markdown",
   "id": "877736ab-98f7-4c76-a523-66e488f41ff1",
   "metadata": {},
   "source": [
    "$$ = \\big(\\mathbf{i} + h_y\\,\\mathbf{j} + h_z\\,\\mathbf{k}\\big)\\,\\mathrm{d}y\\,\\mathrm{d}z$$"
   ]
  }
 ],
 "metadata": {
  "kernelspec": {
   "display_name": "Python 3 (ipykernel)",
   "language": "python",
   "name": "python3"
  },
  "language_info": {
   "codemirror_mode": {
    "name": "ipython",
    "version": 3
   },
   "file_extension": ".py",
   "mimetype": "text/x-python",
   "name": "python",
   "nbconvert_exporter": "python",
   "pygments_lexer": "ipython3",
   "version": "3.10.12"
  }
 },
 "nbformat": 4,
 "nbformat_minor": 5
}
