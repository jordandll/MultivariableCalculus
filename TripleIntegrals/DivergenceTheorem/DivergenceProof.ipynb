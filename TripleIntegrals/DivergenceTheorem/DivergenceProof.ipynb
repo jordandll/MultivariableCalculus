{
 "cells": [
  {
   "cell_type": "markdown",
   "id": "ce90caf2-9e33-41e5-939d-835d78519b02",
   "metadata": {},
   "source": [
    "# Divergence Theorem Proof"
   ]
  },
  {
   "cell_type": "markdown",
   "id": "74f7e6e2-90f6-4b23-9664-84a3f5379be2",
   "metadata": {},
   "source": [
    "Let \n",
    "\n",
    "$$ \\mathbf{F}:=\\mathbf{F}(x,y,z) := \\langle M,N,P\\rangle $$"
   ]
  },
  {
   "cell_type": "markdown",
   "id": "4c749a5b-c57e-45e5-b93d-f2ce329c24de",
   "metadata": {},
   "source": [
    "where,  \n",
    "\n",
    "$$ M:= M(x,y,z)\\quad\\quad N:=N(x,y,z) \\quad\\quad P:=P(x,y,z)$$"
   ]
  },
  {
   "cell_type": "markdown",
   "id": "2cb68cc6-716b-496b-941b-d67c2c3431ce",
   "metadata": {},
   "source": [
    "The  integrand of the surface integeral $\\displaystyle \\iint_S \\mathbf{F}\\cdot \\mathbf{n}\\,\\mathrm{d}S$ breaks down to:  \n",
    "\n",
    "$$ \\mathbf{F}\\cdot \\mathbf{n}\\,\\mathrm{d}S = \\big(Mn_1 + Nn_2 + Pn_3\\big)\\,\\mathrm{d}S$$"
   ]
  },
  {
   "cell_type": "markdown",
   "id": "ff9b797b-a7f8-4ac9-8a9e-ef98e427d601",
   "metadata": {},
   "source": [
    "$$ = \\big(M\\,\\mathbf{i}\\cdot\\mathbf{n} + N\\,\\mathbf{j}\\cdot\\mathbf{n} + P\\,\\mathbf{k}\\cdot\\mathbf{n}\\big)\\,\\mathrm{d}S$$"
   ]
  },
  {
   "cell_type": "markdown",
   "id": "1f75c3f4-b483-47b5-8c1a-a7a4733e369a",
   "metadata": {},
   "source": [
    "where $S$ is a closed surface.  Thus,  \n",
    "\n",
    "\\begin{equation}\\tag{2}\n",
    "    \\iint_S \\mathbf{F}\\cdot\\mathrm{d}\\mathbf{S} = \\iint_S M\\,\\mathbf{i}\\cdot\\mathbf{n}\\,\\mathrm{d}S + \\iint_S N\\,\\mathbf{j}\\cdot\\mathbf{n}\\,\\mathrm{d}S + \\iint_S P\\,\\mathbf{k}\\cdot\\mathbf{n}\\,\\mathrm{d}S\n",
    "\\end{equation}"
   ]
  },
  {
   "cell_type": "markdown",
   "id": "0e9576c0-62c5-4b1c-925f-c48dddd7dd9b",
   "metadata": {},
   "source": [
    "Of course, we have the triple integral:  \n",
    "\n",
    "\\begin{equation}\\tag{3}\n",
    "    \\iiint_D \\mathrm{div }\\,\\mathbf{F}\\,\\mathrm{d}V = \\iiint_D \\frac{\\partial M}{\\partial x}\\,\\mathrm{d}V + \\iiint_D \\frac{\\partial N}{\\partial y}\\,\\mathrm{d}V + \\iiint_D \\frac{\\partial P}{\\partial z}\\,\\mathrm{d}V\n",
    "\\end{equation}"
   ]
  },
  {
   "cell_type": "markdown",
   "id": "577e5d01-b95e-4662-9112-d103a9890774",
   "metadata": {},
   "source": [
    "where $D$ is the region enclosed by $S$.  And, via Divergence Theorem,  \n",
    "\n",
    "$$ \\iint_S \\mathbf{F}\\cdot\\mathrm{d}\\mathbf{S} = \\iiint_D \\mathrm{div }\\,\\mathbf{F}\\,\\mathrm{d}V$$"
   ]
  },
  {
   "cell_type": "markdown",
   "id": "ac06ff27-48ff-4b9e-823f-44c474558aa1",
   "metadata": {},
   "source": [
    "Now, let $\\mathbf{M}$, and $\\mathbf{N}$ and $\\mathbf{P}$ be defined as:  \n",
    "\n",
    "$$ \\mathbf{M} = \\big(\\mathbf{F}\\cdot \\mathbf{i}\\big)\\,\\mathbf{i} = M\\,\\mathbf{i} \\quad\\quad \\mathbf{N} = \\big(\\mathbf{F}\\cdot\\mathbf{j}\\big)\\,\\mathbf{j} = N\\,\\mathbf{j} \\quad\\quad \\mathbf{P} = \\big(\\mathbf{F}\\cdot\\mathbf{k}\\big)\\,\\mathbf{k} = P\\,\\mathbf{k}$$"
   ]
  },
  {
   "cell_type": "markdown",
   "id": "13836970-1b3a-48f7-99d3-8db03803afe0",
   "metadata": {},
   "source": [
    "It now follows that:  \n",
    "\n",
    "\\begin{equation}\\tag{1a,b}\n",
    "    \\mathbf{F} = \\mathbf{M} + \\mathbf{N} + \\mathbf{P}\\quad\\quad\\text{and}\\quad\\quad \\nabla \\cdot \\mathbf{F} = \\nabla \\cdot \\mathbf{M} + \\nabla \\cdot \\mathbf{N} + \\nabla \\cdot \\mathbf{P}\n",
    "\\end{equation}"
   ]
  },
  {
   "cell_type": "markdown",
   "id": "ee58e264-d25a-4049-9ae4-e473339bd443",
   "metadata": {},
   "source": [
    "Of course, via the above two equations,  \n",
    "\n",
    "\\begin{equation}\\tag{2}\n",
    "    \\iint_S \\mathbf{F}\\cdot\\mathrm{d}\\mathbf{S} = \\iint_S \\mathbf{M}\\cdot\\mathrm{d}\\mathbf{S} + \\iint_S \\mathbf{N}\\cdot\\mathrm{d}\\mathbf{S} + \\iint_S \\mathbf{P}\\cdot\\mathrm{d}\\mathbf{S}\n",
    "\\end{equation}"
   ]
  },
  {
   "cell_type": "markdown",
   "id": "278c7344-5352-4b41-80b2-64dc78290bdc",
   "metadata": {},
   "source": [
    "And,  \n",
    "\n",
    "\\begin{equation}\\tag{3}\n",
    "    \\iiint_D \\mathrm{div }\\,\\mathbf{F}\\,\\mathrm{d}V  = \\iiint_D \\nabla \\cdot \\mathbf{M}\\,\\mathrm{d}V + \\iiint_D \\nabla \\cdot \\mathbf{N}\\,\\mathrm{d}V  + \\iiint_D \\nabla \\cdot \\mathbf{P}\\,\\mathrm{d}V\n",
    "\\end{equation}"
   ]
  },
  {
   "cell_type": "markdown",
   "id": "5a297341-cc04-4fa3-8cbe-794f63855283",
   "metadata": {},
   "source": [
    "To prove Divergence Theorem, let's first start be proving:  \n",
    "\n",
    "\\begin{equation}\\tag{4}\n",
    "    \\iint_S \\mathbf{P}\\cdot\\mathrm{d}\\mathbf{S} = \\iiint_D \\frac{\\partial P}{\\partial z}\\,\\mathrm{d}V\n",
    "\\end{equation}"
   ]
  }
 ],
 "metadata": {
  "kernelspec": {
   "display_name": "Python 3 (ipykernel)",
   "language": "python",
   "name": "python3"
  },
  "language_info": {
   "codemirror_mode": {
    "name": "ipython",
    "version": 3
   },
   "file_extension": ".py",
   "mimetype": "text/x-python",
   "name": "python",
   "nbconvert_exporter": "python",
   "pygments_lexer": "ipython3",
   "version": "3.10.12"
  }
 },
 "nbformat": 4,
 "nbformat_minor": 5
}
