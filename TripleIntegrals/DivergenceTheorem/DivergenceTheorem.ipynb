{
 "cells": [
  {
   "cell_type": "markdown",
   "id": "905e54f7-f02e-4a81-93be-1ed00492932a",
   "metadata": {},
   "source": [
    "# Divergence Theorem\n",
    "\n",
    "### Introduction\n",
    "\n",
    "The divergence theorem is about closed surfaces, so let’s start there. By a **closed** surface\n",
    "$S$ we will mean a surface consisting of one connected piece which doesn’t intersect itself, and\n",
    "which completely encloses a single finite region D of space called its interior. The closed\n",
    "surface $S$ is then said to be the *boundary* of $D$; we include $S$ in $D$. A sphere, cube, and\n",
    "torus (an inflated bicycle inner tube) are all examples of closed surfaces. On the other hand,\n",
    "these are not closed surfaces: a plane, a sphere with one point removed, a tin can whose\n",
    "cross-section looks like a figure-8 (it intersects itself), an infinite cylinder.  \n",
    "\n",
    "A closed surface always has two sides, and it has a natural positive\n",
    "direction — the one for which $\\mathbf{n}$ points away from the interior, i.e., points\n",
    "toward the outside. We shall always understand that the closed surface has\n",
    "been oriented this way (i.e. positively oriented), unless otherwise specified."
   ]
  },
  {
   "cell_type": "markdown",
   "id": "9b09b8a8-d4e3-45ad-821f-85163823904c",
   "metadata": {},
   "source": [
    "We now generalize to 3d-space the normal form of Green's theorem ([Section V4](../../DoubleIntegrals/GreensTheorem/GT-NormalForm.ipynb))."
   ]
  },
  {
   "cell_type": "markdown",
   "id": "9d26f143-52e1-4370-a1d2-a54345f9569d",
   "metadata": {},
   "source": [
    "#### Definition\n",
    "\n",
    "Let $\\mathbf{F}(x,y,z) = M\\,\\mathbf{i} + N\\,\\mathbf{j} + P\\,\\mathbf{k}$ be a vector field continuously differentiable in some region $D$.  By the **divergence** of $\\mathbf{F}$, we mean the scalar function $\\mathrm{div }\\,\\mathbf{F}$ of three variables defined in $D$.  \n",
    "\n",
    "\\begin{equation}\\tag{1}\n",
    "    \\mathrm{div }\\,\\mathbf{F} = \\frac{\\partial M}{\\partial x} + \\frac{\\partial N}{\\partial y} + \\frac{\\partial P}{\\partial z}\n",
    "\\end{equation}"
   ]
  },
  {
   "cell_type": "markdown",
   "id": "2c429759-7e12-474f-801a-9cc2c5f1b31c",
   "metadata": {},
   "source": [
    "### The Divergence Theorem  \n",
    "\n",
    "Let $S$ be a positively oriented closed surface with interior $D$, and let $\\mathbf{F}$ be a vector field continuously differentiable in a domain containing $D$.  Then  \n",
    "\n",
    "\\begin{equation}\\tag{2}\n",
    "    \\iint_S\\mathbf{F}\\cdot\\mathrm{d}\\mathbf{S} = \\iiint_D\\mathrm{div }\\,\\mathbf{F}\\,\\mathrm{d}V\n",
    "\\end{equation}"
   ]
  },
  {
   "cell_type": "markdown",
   "id": "ab71503b-2762-4a99-9a38-905e39568811",
   "metadata": {},
   "source": [
    "We write $\\mathrm{d}V$ on the right side, rather than $\\mathrm{d}x\\,\\mathrm{d}y\\,\\mathrm{d}z$ since the triple integral is\n",
    "often calculated in other coordinate systems, particularly spherical coordinates.\n",
    "The theorem is sometimes called **Gauss’ theorem**."
   ]
  },
  {
   "cell_type": "markdown",
   "id": "b7a23928-9bec-4a34-9bb9-1010cf119298",
   "metadata": {},
   "source": [
    "### Example 1\n",
    "\n",
    "$$\\Phi =  \\iint_S \\mathbf{F}\\cdot\\mathrm{d}\\mathbf{S} \\quad\\quad\\text{where }\\,\\mathbf{F} = \\langle x,y,z\\rangle$$"
   ]
  },
  {
   "cell_type": "markdown",
   "id": "335ebd47-b835-4184-86de-f9a39be717bf",
   "metadata": {},
   "source": [
    "$$ \\mathrm{d}\\mathbf{S} = \\frac{\\mathbf{F}}{\\mathbf{F}\\cdot\\mathbf{k}}\\,\\mathrm{d}x\\,\\mathrm{d}y = \\left\\langle \\frac{x}{z},\\frac{y}{z},1\\right\\rangle\\,\\mathrm{d}x\\,\\mathrm{d}y$$"
   ]
  },
  {
   "cell_type": "markdown",
   "id": "0428eb4e-8e80-42b7-80fd-9e8d8d88dc21",
   "metadata": {},
   "source": [
    "$$ \\mathbf{F}\\cdot\\mathrm{d}\\mathbf{S} = \\frac{|\\mathbf{F}|^2}{z}\\,\\mathrm{d}x\\,\\mathrm{d}y$$"
   ]
  },
  {
   "cell_type": "markdown",
   "id": "71b23204-25f2-491a-bc08-976441672c6a",
   "metadata": {},
   "source": [
    "$$ y = r\\sin\\theta$$"
   ]
  },
  {
   "cell_type": "markdown",
   "id": "10a71a6e-df12-46a4-aba6-083fbd6ac874",
   "metadata": {},
   "source": [
    "$$ \\mathrm{d}y = \\sin\\theta\\,\\mathrm{d}r$$"
   ]
  },
  {
   "cell_type": "markdown",
   "id": "0d932348-f570-4207-9f67-fd064ba54756",
   "metadata": {},
   "source": [
    "$$ \\mathrm{d}x = -r\\sin\\theta\\,\\mathrm{d}\\theta$$"
   ]
  },
  {
   "cell_type": "markdown",
   "id": "11c3c61a-743e-445b-8082-43a67ccbb1b3",
   "metadata": {},
   "source": [
    "$$ z = \\rho\\cos\\phi = a\\cos\\phi \\quad\\quad x = r\\cos\\theta = a\\sin\\phi\\cos\\theta\\quad\\quad y = a\\sin\\phi\\sin\\theta$$"
   ]
  },
  {
   "cell_type": "markdown",
   "id": "aa2482a8-0b8a-41ce-865f-8965dfde866a",
   "metadata": {},
   "source": [
    "$$ |\\mathbf{F}|^2 = a^2$$"
   ]
  },
  {
   "cell_type": "markdown",
   "id": "f454f88a-f722-43e6-90ed-5dc6ceaa6a2e",
   "metadata": {},
   "source": [
    "$$ \\mathbf{F}\\cdot\\mathrm{d}\\mathbf{S} = \\frac{a}{\\cos\\phi}\\,\\mathrm{d}x\\,\\mathrm{d}y$$"
   ]
  },
  {
   "cell_type": "markdown",
   "id": "f9d76027-8402-445e-ac6c-548512fe551c",
   "metadata": {},
   "source": [
    "$$ \\frac{\\mathrm{d}x}{\\mathrm{d}\\theta} = -a\\sin\\phi\\sin\\theta \\quad\\quad\\text{and}\\quad\\quad \\frac{\\mathrm{d}y}{\\mathrm{d}\\phi} = a\\cos\\phi\\sin\\theta$$"
   ]
  },
  {
   "cell_type": "markdown",
   "id": "e228760c-b311-420e-af36-168d11599ca4",
   "metadata": {},
   "source": [
    "$$ \\mathrm{d}x = -a\\sin\\phi\\sin\\theta\\,\\mathrm{d}\\theta \\quad\\quad\\text{and}\\quad\\quad\\mathrm{d}y = a\\cos\\phi\\sin\\theta\\,\\mathrm{d}\\phi$$"
   ]
  },
  {
   "cell_type": "markdown",
   "id": "ef8b9b83-20b1-42d4-a08e-d744e677d40c",
   "metadata": {},
   "source": [
    "$$ \\mathbf{F}\\cdot\\mathrm{d}\\mathbf{S} = -a^3\\sin\\phi\\sin^2\\theta\\,\\mathrm{d}\\phi\\,\\mathrm{d}\\theta$$"
   ]
  },
  {
   "cell_type": "markdown",
   "id": "e0518269-9d50-4333-8cee-e057e193f545",
   "metadata": {},
   "source": [
    "$$ \\Phi_1 = -a^3\\iint_{S_1} \\mathbf{F}\\cdot\\mathrm{d}\\mathbf{S} = -a^3\\int_0^{2\\pi}\\int_0^{0.5\\pi}\\sin^2\\theta\\sin\\phi\\,\\mathrm{d}\\phi\\,\\mathrm{d}\\theta$$"
   ]
  },
  {
   "cell_type": "markdown",
   "id": "167a83d3-5d41-4964-82a4-34f93e715461",
   "metadata": {},
   "source": [
    "Here $\\Phi_1$ is the flux of $\\mathbf{F}$ across $S_1$, the top half of our sphere."
   ]
  },
  {
   "cell_type": "markdown",
   "id": "c84eece9-65a1-482d-831a-a659c04d3796",
   "metadata": {},
   "source": [
    "$$ g(\\phi) := \\int\\sin^2\\theta\\sin\\phi\\,\\mathrm{d}\\phi = K-\\cos\\phi\\sin^2\\theta$$"
   ]
  },
  {
   "cell_type": "markdown",
   "id": "7f23b503-054c-4303-a8cd-eeeff79e2eaf",
   "metadata": {},
   "source": [
    "$$ \\int_0^{0.5\\pi}\\sin^2\\theta\\sin\\phi\\,\\mathrm{d}\\phi = g(0.5\\pi) - g(0) = \\sin^2\\theta$$"
   ]
  },
  {
   "cell_type": "markdown",
   "id": "d1921219-d905-41a8-9f53-0dd697cf1d19",
   "metadata": {},
   "source": [
    "$$ \\Phi_1 = -a^3\\int_0^{2\\pi}\\sin^2\\phi\\,\\mathrm{d}\\theta$$"
   ]
  },
  {
   "cell_type": "markdown",
   "id": "31c0e064-ff7b-48de-a814-e43ac0b3a6ff",
   "metadata": {},
   "source": [
    "$$ \\sin^2\\theta = 1-\\cos^2\\theta = 1-0.5\\cos2\\theta - 0.5 = 0.5-0.5\\cos2\\theta$$"
   ]
  },
  {
   "cell_type": "markdown",
   "id": "e4130818-9908-41ec-a61f-1d31b65c4ec3",
   "metadata": {},
   "source": [
    "$$ \\Phi_1 = -\\frac{a^3}{2}\\int_0^{2\\pi}(1-\\cos2\\theta)\\,\\mathrm{d}\\theta$$"
   ]
  },
  {
   "cell_type": "markdown",
   "id": "1d42f5e3-15b5-47de-b53b-9c98adfde59a",
   "metadata": {},
   "source": [
    "$$ = \\frac{a^3}{2}\\int_0^{2\\pi}\\cos 2\\theta\\,\\mathrm{d}\\theta-\\pi a^3 $$"
   ]
  },
  {
   "cell_type": "markdown",
   "id": "71c4bc74-edfa-495d-9853-18f09625d8fd",
   "metadata": {},
   "source": [
    "$$ = -\\pi a^3$$"
   ]
  },
  {
   "cell_type": "markdown",
   "id": "6f4edc09-3eb8-4a92-b5a1-aa92c083a8fc",
   "metadata": {},
   "source": [
    "Via symmetry,  \n",
    "\n",
    "$$ \\Phi = 2\\pi a^3$$"
   ]
  },
  {
   "cell_type": "markdown",
   "id": "1e9b3469-3363-47e3-8a7d-b8de4bedab63",
   "metadata": {},
   "source": [
    "Let's try a different method.  The top half of our sphere is given by:  \n",
    "\n",
    "$$ z:=z_1(x,y) = \\sqrt{a^2-x^2-y^2}$$"
   ]
  },
  {
   "cell_type": "markdown",
   "id": "25485465-c5ac-463e-9461-a883e2ff2809",
   "metadata": {},
   "source": [
    "$$ z_x = -\\frac{x}{z} \\quad\\quad z_y = $$"
   ]
  },
  {
   "cell_type": "markdown",
   "id": "0059e947-4bd5-4fb1-a92c-5b5df44b0630",
   "metadata": {},
   "source": [
    "$$ \\mathbf{F}\\cdot\\mathbf{n} = a \\quad\\quad\\text{and}\\quad\\quad \\mathrm{d}S = a^2\\sin\\phi\\,\\mathrm{d}\\phi\\,\\mathrm{d}\\theta$$"
   ]
  },
  {
   "cell_type": "markdown",
   "id": "4ffcc1c7-5e18-4c1e-9e18-d6cf1e88b7e1",
   "metadata": {},
   "source": [
    "Now, let's cross reference this against the triple integral.  Via Divergence Theorem,  \n",
    "\n",
    "$$ \\Phi = \\iiint_D \\mathrm{div }\\,\\mathbf{F}\\,\\mathrm{d}V$$"
   ]
  },
  {
   "cell_type": "markdown",
   "id": "ca00ccb7-164f-4db1-8cda-54f0a19ad844",
   "metadata": {},
   "source": [
    "$$ \\mathrm{div }\\,\\mathbf{F} = 3$$"
   ]
  },
  {
   "cell_type": "markdown",
   "id": "84cd5c84-e8bf-40e5-82b8-d22a91952bb8",
   "metadata": {},
   "source": [
    "Thus, $\\Phi$ is equal to three times the volume of our sphere.  \n",
    "\n",
    "$$ \\Phi = 4\\pi a^3$$"
   ]
  }
 ],
 "metadata": {
  "kernelspec": {
   "display_name": "Python 3 (ipykernel)",
   "language": "python",
   "name": "python3"
  },
  "language_info": {
   "codemirror_mode": {
    "name": "ipython",
    "version": 3
   },
   "file_extension": ".py",
   "mimetype": "text/x-python",
   "name": "python",
   "nbconvert_exporter": "python",
   "pygments_lexer": "ipython3",
   "version": "3.10.12"
  }
 },
 "nbformat": 4,
 "nbformat_minor": 5
}
