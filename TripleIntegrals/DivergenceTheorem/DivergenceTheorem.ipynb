{
 "cells": [
  {
   "cell_type": "markdown",
   "id": "905e54f7-f02e-4a81-93be-1ed00492932a",
   "metadata": {},
   "source": [
    "# Divergence Theorem\n",
    "\n",
    "### Introduction\n",
    "\n",
    "The divergence theorem is about closed surfaces, so let’s start there. By a **closed** surface\n",
    "$S$ we will mean a surface consisting of one connected piece which doesn’t intersect itself, and\n",
    "which completely encloses a single finite region D of space called its interior. The closed\n",
    "surface $S$ is then said to be the *boundary* of $D$; we include $S$ in $D$. A sphere, cube, and\n",
    "torus (an inflated bicycle inner tube) are all examples of closed surfaces. On the other hand,\n",
    "these are not closed surfaces: a plane, a sphere with one point removed, a tin can whose\n",
    "cross-section looks like a figure-8 (it intersects itself), an infinite cylinder.  \n",
    "\n",
    "A closed surface always has two sides, and it has a natural positive\n",
    "direction — the one for which $\\mathbf{n}$ points away from the interior, i.e., points\n",
    "toward the outside. We shall always understand that the closed surface has\n",
    "been oriented this way (i.e. positively oriented), unless otherwise specified."
   ]
  },
  {
   "cell_type": "markdown",
   "id": "9b09b8a8-d4e3-45ad-821f-85163823904c",
   "metadata": {},
   "source": [
    "We now generalize to 3d-space the normal form of Green's theorem ([Section V4](../../DoubleIntegrals/GreensTheorem/GT-NormalForm.ipynb))."
   ]
  },
  {
   "cell_type": "markdown",
   "id": "9d26f143-52e1-4370-a1d2-a54345f9569d",
   "metadata": {},
   "source": [
    "#### Definition\n",
    "\n",
    "Let $\\mathbf{F}(x,y,z) = M\\,\\mathbf{i} + N\\,\\mathbf{j} + P\\,\\mathbf{k}$ be a vector field continuously differentiable in some region $D$.  By the **divergence** of $\\mathbf{F}$, we mean the scalar function $\\mathrm{div }\\,\\mathbf{F}$ of three variables defined in $D$.  \n",
    "\n",
    "\\begin{equation}\\tag{1}\n",
    "    \\mathrm{div }\\,\\mathbf{F} = \\frac{\\partial M}{\\partial x} + \\frac{\\partial N}{\\partial y} + \\frac{\\partial P}{\\partial z}\n",
    "\\end{equation}"
   ]
  },
  {
   "cell_type": "markdown",
   "id": "2c429759-7e12-474f-801a-9cc2c5f1b31c",
   "metadata": {},
   "source": [
    "### The Divergence Theorem  \n",
    "\n",
    "Let $S$ be a positively oriented closed surface with interior $D$, and let $\\mathbf{F}$ be a vector field continuously differentiable in a domain containing $D$.  Then  \n",
    "\n",
    "\\begin{equation}\\tag{2}\n",
    "    \\iint_S\\mathbf{F}\\cdot\\mathrm{d}\\mathbf{S} = \\iiint_D\\mathrm{div }\\,\\mathbf{F}\\,\\mathrm{d}V\n",
    "\\end{equation}"
   ]
  },
  {
   "cell_type": "markdown",
   "id": "ab71503b-2762-4a99-9a38-905e39568811",
   "metadata": {},
   "source": [
    "We write $\\mathrm{d}V$ on the right side, rather than $\\mathrm{d}x\\,\\mathrm{d}y\\,\\mathrm{d}z$ since the triple integral is\n",
    "often calculated in other coordinate systems, particularly spherical coordinates.\n",
    "The theorem is sometimes called **Gauss’ theorem**."
   ]
  },
  {
   "cell_type": "markdown",
   "id": "b7a23928-9bec-4a34-9bb9-1010cf119298",
   "metadata": {},
   "source": [
    "### Example 1\n",
    "Verify the theorem when $\\mathbf{F} = x\\,\\mathbf{i} + y\\,\\mathbf{j} + z\\,\\mathbf{k}$ and $S$ is the sphere given by, in spherical coordinates, $\\rho=a$.  \n",
    "\n",
    "$$\\Phi =  \\iint_S \\mathbf{F}\\cdot\\mathrm{d}\\mathbf{S} \\quad\\quad\\text{where }\\,\\mathbf{F} = \\langle x,y,z\\rangle$$"
   ]
  },
  {
   "cell_type": "markdown",
   "id": "335ebd47-b835-4184-86de-f9a39be717bf",
   "metadata": {},
   "source": [
    "$$ \\mathrm{d}\\mathbf{S} = \\frac{\\mathbf{F}}{\\mathbf{F}\\cdot\\mathbf{k}}\\,\\mathrm{d}x\\,\\mathrm{d}y = \\left\\langle \\frac{x}{z},\\frac{y}{z},1\\right\\rangle\\,\\mathrm{d}x\\,\\mathrm{d}y$$"
   ]
  },
  {
   "cell_type": "markdown",
   "id": "0428eb4e-8e80-42b7-80fd-9e8d8d88dc21",
   "metadata": {},
   "source": [
    "$$ \\mathbf{F}\\cdot\\mathrm{d}\\mathbf{S} = \\frac{|\\mathbf{F}|^2}{z}\\,\\mathrm{d}x\\,\\mathrm{d}y$$"
   ]
  },
  {
   "cell_type": "markdown",
   "id": "aa2482a8-0b8a-41ce-865f-8965dfde866a",
   "metadata": {},
   "source": [
    "$$ |\\mathbf{F}|^2 = a^2$$"
   ]
  },
  {
   "cell_type": "markdown",
   "id": "11c3c61a-743e-445b-8082-43a67ccbb1b3",
   "metadata": {},
   "source": [
    "\\begin{equation}\\tag{1.1a,b,c}\n",
    "    z = \\rho\\cos\\phi = a\\cos\\phi \\quad\\quad x = r\\cos\\theta = a\\sin\\phi\\cos\\theta\\quad\\quad y = a\\sin\\phi\\sin\\theta\n",
    "\\end{equation}"
   ]
  },
  {
   "cell_type": "markdown",
   "id": "f454f88a-f722-43e6-90ed-5dc6ceaa6a2e",
   "metadata": {},
   "source": [
    "$$ \\mathbf{F}\\cdot\\mathrm{d}\\mathbf{S} = \\frac{a}{\\cos\\phi}\\,\\mathrm{d}x\\,\\mathrm{d}y$$"
   ]
  },
  {
   "attachments": {},
   "cell_type": "markdown",
   "id": "57f9c9a0-40d5-4af9-a489-8df8e17964b9",
   "metadata": {},
   "source": [
    "Let $S_1$ be the top half of our sphere and $\\Phi_1$ be the flux across $S_1$.  Now, let $z_1(x,y)$ be the function that gives $S_1$.  \n",
    "\n",
    "$$ S_1:\\; z:=z_1(x,y) = \\sqrt{a^2-x^2-y^2}$$  \n",
    "\n",
    "The projection, denoted as $R$, of $S$ onto the $xy$-plane is a circle with a radius of $a$.  In polar coordinates,  \n",
    "\n",
    "$$ \\Phi_1 = \\iint_{S_1} \\mathbf{F}\\cdot\\mathrm{d}\\mathbf{S} = \\iint_R\\frac{a^2}{z_1(x,y)}\\,\\mathrm{d}A$$\n",
    "\n",
    "$$ = \\int_0^{2\\pi}\\int_0^a \\frac{a^2r}{\\sqrt{a^2-r^2}}\\,\\mathrm{d}r\\,\\mathrm{d}\\theta$$"
   ]
  },
  {
   "cell_type": "markdown",
   "id": "d0dbf6ca-d3ca-4dd5-a1c9-2f56ccac2e16",
   "metadata": {},
   "source": [
    "The primitive integral is:  \n",
    "\n",
    "$$ g(r):= a^2\\int \\frac{r}{\\sqrt{a^2-r^2}}\\,\\mathrm{d}r = K-a^2\\sqrt{a^2-r^2}$$"
   ]
  },
  {
   "cell_type": "markdown",
   "id": "ca2838fb-68e1-46d9-a3b4-f14cdb749728",
   "metadata": {},
   "source": [
    "Thus, the inner integral is:  \n",
    "\n",
    "$$ \\int_0^a\\frac{a^2 r}{\\sqrt{a^2-r^2}}\\,\\mathrm{d}r = g(a) - g(0) = a^3$$"
   ]
  },
  {
   "cell_type": "markdown",
   "id": "915b92ae-ad5a-40de-8d92-28515e2ba5da",
   "metadata": {},
   "source": [
    "Therefore,  \n",
    "\n",
    "$$ \\Phi_1 = 2\\pi a^3$$"
   ]
  },
  {
   "cell_type": "markdown",
   "id": "5ddd4ebb-9f4d-435f-87ae-b3b587b3aecb",
   "metadata": {},
   "source": [
    "Finally, via the above equation and symmetry,  \n",
    "\n",
    "$$ \\Phi = 4\\pi a^3$$"
   ]
  },
  {
   "cell_type": "markdown",
   "id": "3ccc338c-de2c-49fd-a9e4-d6703c3c5811",
   "metadata": {},
   "source": [
    "Now, let's try a different method, involving a double integral in term of $\\phi$ and $\\theta$ instead of polar coordinates.  \n",
    "\n",
    "$$ r = a\\sin\\phi \\quad\\therefore\\quad \\mathrm{d}r = a\\cos\\phi\\,\\mathrm{d}\\phi = z\\,\\mathrm{d}\\phi$$"
   ]
  },
  {
   "cell_type": "markdown",
   "id": "79fe8a71-3ce1-49b4-a310-817266774353",
   "metadata": {},
   "source": [
    "$$ \\Phi_1 = \\iint_{S_1}\\mathbf{F}\\cdot\\mathrm{d}\\mathbf{S} = a^3\\int_0^{2\\pi}\\int_0^{0.5\\pi}\\sin\\phi\\,\\mathrm{d}\\phi\\,\\mathrm{d}\\theta$$"
   ]
  },
  {
   "cell_type": "markdown",
   "id": "ec342f00-c937-402a-97a2-c0818e0e5fa1",
   "metadata": {},
   "source": [
    "$$ = 2\\pi a^3$$"
   ]
  },
  {
   "cell_type": "markdown",
   "id": "1edb7b34-fd18-4e2c-932a-8fcb9fbfc8de",
   "metadata": {},
   "source": [
    "Now, let's try yet another method!  \n",
    "\n",
    "$$ \\Phi_1 = a\\int_0^a\\int_0^{\\sqrt{a^2-x^2}}\\sec\\phi\\,\\mathrm{d}y\\,\\mathrm{d}x$$"
   ]
  },
  {
   "cell_type": "markdown",
   "id": "ec61f335-2349-4939-8b15-a5f6174d98b4",
   "metadata": {},
   "source": [
    "The limit of $R$ with respect to $\\phi$ is from $\\phi_1=0$ to $\\phi_2$, where  \n",
    "\n",
    "$$ a\\sin\\phi_2\\sin\\theta = \\sqrt{a^2-x^2}$$"
   ]
  },
  {
   "cell_type": "markdown",
   "id": "a66523d6-1e5e-4484-a5e0-9dc6ad4e1a1e",
   "metadata": {},
   "source": [
    "Via the above equation and equation (1.1b),  \n",
    "\n",
    "$$ a\\sin\\phi_2\\sin\\theta = a\\sqrt{1 - \\sin^2\\phi_2\\cos^2\\theta}$$"
   ]
  },
  {
   "cell_type": "markdown",
   "id": "8e2050cb-beeb-4fd6-83fe-da7f74a5b5e8",
   "metadata": {},
   "source": [
    "$$ \\sin^2\\phi_2\\sin^2\\theta = 1 - \\sin^2\\phi_2\\cos^2\\theta $$"
   ]
  },
  {
   "cell_type": "markdown",
   "id": "57113f3c-4bcd-444f-98e0-7e500e9faf6e",
   "metadata": {},
   "source": [
    "$$ \\sin^2\\phi_2 = 1$$"
   ]
  },
  {
   "cell_type": "markdown",
   "id": "f9d76027-8402-445e-ac6c-548512fe551c",
   "metadata": {},
   "source": [
    "$$ \\frac{\\mathrm{d}x}{\\mathrm{d}\\theta} = -a\\sin\\phi\\sin\\theta \\quad\\quad\\text{and}\\quad\\quad \\frac{\\mathrm{d}y}{\\mathrm{d}\\phi} = a\\cos\\phi\\sin\\theta$$"
   ]
  },
  {
   "cell_type": "markdown",
   "id": "e228760c-b311-420e-af36-168d11599ca4",
   "metadata": {},
   "source": [
    "$$ \\mathrm{d}x = -a\\sin\\phi\\sin\\theta\\,\\mathrm{d}\\theta \\quad\\quad\\text{and}\\quad\\quad\\mathrm{d}y = a\\cos\\phi\\sin\\theta\\,\\mathrm{d}\\phi$$"
   ]
  },
  {
   "cell_type": "markdown",
   "id": "c84eece9-65a1-482d-831a-a659c04d3796",
   "metadata": {},
   "source": [
    "$$ g(\\phi) := \\int\\sin^2\\theta\\sin\\phi\\,\\mathrm{d}\\phi = K-\\cos\\phi\\sin^2\\theta$$"
   ]
  },
  {
   "cell_type": "markdown",
   "id": "7f23b503-054c-4303-a8cd-eeeff79e2eaf",
   "metadata": {},
   "source": [
    "$$ \\int_0^{0.5\\pi}\\sin^2\\theta\\sin\\phi\\,\\mathrm{d}\\phi = g(0.5\\pi) - g(0) = \\sin^2\\theta$$"
   ]
  },
  {
   "cell_type": "markdown",
   "id": "d1921219-d905-41a8-9f53-0dd697cf1d19",
   "metadata": {},
   "source": [
    "$$ \\Phi_1 = -a^3\\int_0^{2\\pi}\\sin^2\\phi\\,\\mathrm{d}\\theta$$"
   ]
  },
  {
   "cell_type": "markdown",
   "id": "31c0e064-ff7b-48de-a814-e43ac0b3a6ff",
   "metadata": {},
   "source": [
    "$$ \\sin^2\\theta = 1-\\cos^2\\theta = 1-0.5\\cos2\\theta - 0.5 = 0.5-0.5\\cos2\\theta$$"
   ]
  },
  {
   "cell_type": "markdown",
   "id": "e4130818-9908-41ec-a61f-1d31b65c4ec3",
   "metadata": {},
   "source": [
    "$$ \\Phi_1 = -\\frac{a^3}{2}\\int_0^{2\\pi}(1-\\cos2\\theta)\\,\\mathrm{d}\\theta$$"
   ]
  },
  {
   "cell_type": "markdown",
   "id": "1d42f5e3-15b5-47de-b53b-9c98adfde59a",
   "metadata": {},
   "source": [
    "$$ = \\frac{a^3}{2}\\int_0^{2\\pi}\\cos 2\\theta\\,\\mathrm{d}\\theta-\\pi a^3 $$"
   ]
  },
  {
   "cell_type": "markdown",
   "id": "71c4bc74-edfa-495d-9853-18f09625d8fd",
   "metadata": {},
   "source": [
    "$$ = -\\pi a^3$$"
   ]
  },
  {
   "cell_type": "markdown",
   "id": "6f4edc09-3eb8-4a92-b5a1-aa92c083a8fc",
   "metadata": {},
   "source": [
    "Via symmetry,  \n",
    "\n",
    "$$ \\Phi = 2\\pi a^3$$"
   ]
  },
  {
   "cell_type": "markdown",
   "id": "0059e947-4bd5-4fb1-a92c-5b5df44b0630",
   "metadata": {},
   "source": [
    "Now, let's try a different method.  \n",
    "\n",
    "$$ \\mathbf{F}\\cdot\\mathbf{n} = a \\quad\\quad\\text{and}\\quad\\quad \\mathrm{d}S = a^2\\sin\\phi\\,\\mathrm{d}\\phi\\,\\mathrm{d}\\theta$$"
   ]
  },
  {
   "cell_type": "markdown",
   "id": "c08f80da-1edb-4811-b888-daf52d7b0d52",
   "metadata": {},
   "source": [
    "Thus,  \n",
    "\n",
    "$$ \\Phi_1 = \\iint_{S_1} \\mathbf{F}\\cdot\\mathbf{n}\\,\\mathrm{d}S = a^3\\int_0^{2\\pi}\\int_0^{0.5\\pi}\\sin\\phi\\,\\mathrm{d}\\phi\\,\\mathrm{d}\\theta$$"
   ]
  },
  {
   "cell_type": "markdown",
   "id": "2b229f33-8dcb-4bd4-9b17-3517ea71a879",
   "metadata": {},
   "source": [
    "$$ = 2\\pi a^3$$"
   ]
  },
  {
   "cell_type": "markdown",
   "id": "37acaf0e-9184-41cb-80c0-5a752e3aea09",
   "metadata": {},
   "source": [
    "Via symmetry,  \n",
    "\n",
    "$$ \\Phi = 4\\pi a^3$$"
   ]
  },
  {
   "cell_type": "markdown",
   "id": "4ffcc1c7-5e18-4c1e-9e18-d6cf1e88b7e1",
   "metadata": {},
   "source": [
    "Now, let's cross reference this against the triple integral.  Via Divergence Theorem,  \n",
    "\n",
    "$$ \\Phi = \\iiint_D \\mathrm{div }\\,\\mathbf{F}\\,\\mathrm{d}V$$"
   ]
  },
  {
   "cell_type": "markdown",
   "id": "ca00ccb7-164f-4db1-8cda-54f0a19ad844",
   "metadata": {},
   "source": [
    "$$ \\mathrm{div }\\,\\mathbf{F} = 3$$"
   ]
  },
  {
   "cell_type": "markdown",
   "id": "84cd5c84-e8bf-40e5-82b8-d22a91952bb8",
   "metadata": {},
   "source": [
    "Thus, $\\Phi$ is equal to three times the volume of our sphere.  \n",
    "\n",
    "$$ \\Phi = 4\\pi a^3$$"
   ]
  },
  {
   "cell_type": "markdown",
   "id": "75257cea-1c1b-49ca-a205-58059819a44d",
   "metadata": {},
   "source": [
    "### Example 2  \n",
    "\n",
    "Use Divergence Theorem to evaluate the flux of $\\mathbf{F} = x^3\\,\\mathbf{i} + y^3\\,\\mathbf{j} + z^3\\,\\mathbf{k}$ across the sphere $\\rho=a$."
   ]
  },
  {
   "cell_type": "markdown",
   "id": "13fdbce2-a06b-463f-a672-8db3e1c0f577",
   "metadata": {},
   "source": [
    "$$ \\Phi = \\iint_S \\mathbf{F}\\cdot\\mathrm{d}\\mathbf{S} \\quad\\quad\\text{where }\\,\\mathbf{F} = \\big\\langle x^3,y^3,z^3\\big\\rangle$$"
   ]
  },
  {
   "cell_type": "markdown",
   "id": "1566cde8-9a92-4a8c-9c52-7f7899e56832",
   "metadata": {},
   "source": [
    "$$ \\mathrm{div }\\,\\mathbf{F} = 3x^2 + 3y^2 + 3z^2 = 3\\rho^2$$"
   ]
  },
  {
   "cell_type": "markdown",
   "id": "cfabf4fe-7136-4868-87e0-86609b700e01",
   "metadata": {},
   "source": [
    "Via Divergence Theorem,  \n",
    "\n",
    "$$ \\Phi = 3\\iiint_D \\rho^2\\,\\mathrm{d}V = 3\\int_0^{2\\pi}\\int_0^\\pi\\int_0^a \\rho^4\\sin\\phi\\,\\mathrm{d}\\rho\\,\\mathrm{d}\\phi\\,\\mathrm{d}\\theta$$"
   ]
  },
  {
   "cell_type": "markdown",
   "id": "d4c67dad-1a6c-4c94-9679-223d2875febf",
   "metadata": {},
   "source": [
    "$$ \\frac{3a^5}{5}\\int_0^{2\\pi}\\int_0^\\pi \\sin\\phi\\,\\mathrm{d}\\phi\\,\\mathrm{d}\\theta $$"
   ]
  },
  {
   "cell_type": "markdown",
   "id": "881e33c9-5ffe-4d56-add5-56988f0b0ed2",
   "metadata": {},
   "source": [
    "$$= \\frac{12\\pi a^5}{5}$$"
   ]
  },
  {
   "cell_type": "markdown",
   "id": "8df859f0-1d08-45de-b537-cb2325418ee4",
   "metadata": {},
   "source": [
    "### Example 3  \n",
    "\n",
    "Let $S_1$ be that portion of the surface of the paraboloid $z = 1 − x^2 − y^2$\n",
    "lying above the $xy$-plane, and let $S_2$ be the part of the $xy$-plane lying inside the unit circle,\n",
    "directed so the normal $\\mathbf{n}$ points upwards. Take $\\mathbf{F} = yz\\,\\mathbf{i} + xz\\,\\mathbf{j} + xy\\,\\mathbf{k}$ ; evaluate the flux of\n",
    "$\\mathbf{F}$ across $S_1$ by using the divergence theorem to relate it to the flux across $S_2$."
   ]
  },
  {
   "cell_type": "markdown",
   "id": "acb5f26b-4e37-4618-a65d-b61757ba71fe",
   "metadata": {},
   "source": [
    "$$ S_1:\\; z:=z(x,y) = 1-x^2-y^2 \\quad\\quad\\text{and}\\quad\\quad S_2:\\; y := y(x) = \\sqrt{1-x^2}$$"
   ]
  },
  {
   "cell_type": "markdown",
   "id": "084368de-a3a4-4c73-bef1-1308aa928cad",
   "metadata": {},
   "source": [
    "In cylindrical and polar coordinates respectively,  \n",
    "\n",
    "$$ S_1:\\;z:=z(r,\\theta) = 1-r^2\\quad\\quad\\text{and}\\quad\\quad S_2:\\; r:=r(\\theta) = 1$$"
   ]
  },
  {
   "cell_type": "markdown",
   "id": "c985e32a-b803-40b9-ab5d-ae0074060231",
   "metadata": {},
   "source": [
    "Let $\\Phi_1$ and $\\Phi_2$ be the positively oriented flux across $S_1$ and $S_2$ respectively.  And, let $S = S_1 + S_2$ and $\\Phi$ be the flux across $S$ in the outward direction (i.e. positively oriented).  \n",
    "\n",
    "$$ \\Phi = \\Phi_1- \\Phi_2 = \\iint_S \\mathbf{F}\\cdot\\mathrm{d}\\mathbf{S} \\quad\\quad\\text{where }\\,\\mathbf{F}  = \\langle yz,xz,xy\\rangle$$"
   ]
  },
  {
   "cell_type": "markdown",
   "id": "16647253-de56-484e-bbc1-006c727ea348",
   "metadata": {},
   "source": [
    "Via the above equation and Divergence Theorem,  \n",
    "\n",
    "$$ \\Phi_1 = \\iiint_D \\mathrm{div }\\,\\mathbf{F}\\,\\mathrm{d}V + \\Phi_2$$"
   ]
  },
  {
   "cell_type": "markdown",
   "id": "5a8d88b3-2383-42ef-a8c5-27a1d829d617",
   "metadata": {},
   "source": [
    "where $D$ is the interior of $S$.  It might be worth noting that $S_2$ is the projection of $S_1$ onto the $xy$-plane."
   ]
  },
  {
   "cell_type": "markdown",
   "id": "5c75b9df-4b6c-4430-b192-5416e582f491",
   "metadata": {},
   "source": [
    "$$ \\mathrm{div }\\,\\mathbf{F} = 0 $$"
   ]
  },
  {
   "cell_type": "markdown",
   "id": "8f658c89-86a0-4c54-8a88-be5ebfc79c52",
   "metadata": {},
   "source": [
    "Via the above two equations,  \n",
    "\n",
    "$$ \\Phi_1 = \\Phi_2 = \\iint_{S_2}\\mathbf{F}\\cdot\\mathbf{n}\\,\\mathrm{d}S_2 $$"
   ]
  },
  {
   "cell_type": "markdown",
   "id": "81307691-df5f-47be-92a9-135487fd6f38",
   "metadata": {},
   "source": [
    "$$ \\mathbf{n}\\,\\mathrm{d}S_2 = \\langle 0,0,1\\rangle\\,\\mathrm{d}x\\,\\mathrm{d}y$$"
   ]
  },
  {
   "cell_type": "markdown",
   "id": "d827cf33-e987-4b3e-9f29-7caa6f2ca21b",
   "metadata": {},
   "source": [
    "$$ \\mathbf{F}\\cdot\\mathbf{n}\\,\\mathrm{d}S_2 = xy\\,\\mathrm{d}x\\,\\mathrm{d}y$$"
   ]
  },
  {
   "cell_type": "markdown",
   "id": "5eb6efe9-fbda-4137-8809-ced04d6c2c38",
   "metadata": {},
   "source": [
    "Therefore,  \n",
    "\n",
    "$$ \\Phi_1 = \\iint_{S_2}xy\\,\\mathrm{d}A = \\int_{-1}^1\\int_0^\\sqrt{1-x^2}xy\\,\\mathrm{d}y\\,\\mathrm{d}x + \\int_{-1}^1\\int_{-\\sqrt{1-x^2}}^0 xy\\,\\mathrm{d}y\\,\\mathrm{d}x$$"
   ]
  },
  {
   "cell_type": "markdown",
   "id": "ae072d5d-2bd6-4872-8f22-51a6bc904aae",
   "metadata": {},
   "source": [
    "$$ = 0.5\\int_{-1}^1 \\big(x-x^3\\big)\\,\\mathrm{d}x - 0.5\\int_{-1}^1\\big(x-x^3\\big)\\,\\mathrm{d}x$$ "
   ]
  },
  {
   "cell_type": "markdown",
   "id": "cd0e1f07-d342-4385-86ef-5731461e2bc0",
   "metadata": {},
   "source": [
    "$$ = 0$$"
   ]
  }
 ],
 "metadata": {
  "kernelspec": {
   "display_name": "Python 3 (ipykernel)",
   "language": "python",
   "name": "python3"
  },
  "language_info": {
   "codemirror_mode": {
    "name": "ipython",
    "version": 3
   },
   "file_extension": ".py",
   "mimetype": "text/x-python",
   "name": "python",
   "nbconvert_exporter": "python",
   "pygments_lexer": "ipython3",
   "version": "3.10.12"
  }
 },
 "nbformat": 4,
 "nbformat_minor": 5
}
