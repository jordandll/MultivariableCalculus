{
 "cells": [
  {
   "cell_type": "markdown",
   "id": "905e54f7-f02e-4a81-93be-1ed00492932a",
   "metadata": {},
   "source": [
    "# Divergence Theorem\n",
    "\n",
    "## Introduction\n",
    "\n",
    "The divergence theorem is about closed surfaces, so let’s start there. By a **closed** surface\n",
    "$S$ we will mean a surface consisting of one connected piece which doesn’t intersect itself, and\n",
    "which completely encloses a single finite region D of space called its interior. The closed\n",
    "surface $S$ is then said to be the *boundary* of $D$; we include $S$ in $D$. A sphere, cube, and\n",
    "torus (an inflated bicycle inner tube) are all examples of closed surfaces. On the other hand,\n",
    "these are not closed surfaces: a plane, a sphere with one point removed, a tin can whose\n",
    "cross-section looks like a figure-8 (it intersects itself), an infinite cylinder.  \n",
    "\n",
    "A closed surface always has two sides, and it has a natural positive\n",
    "direction — the one for which $\\mathbf{n}$ points away from the interior, i.e., points\n",
    "toward the outside. We shall always understand that the closed surface has\n",
    "been oriented this way (i.e. positively oriented), unless otherwise specified."
   ]
  },
  {
   "cell_type": "markdown",
   "id": "9b09b8a8-d4e3-45ad-821f-85163823904c",
   "metadata": {},
   "source": [
    "We now generalize to 3d-space the normal form of Green's theorem ([Section V4](../../DoubleIntegrals/GreensTheorem/GT-NormalForm.ipynb))."
   ]
  },
  {
   "cell_type": "markdown",
   "id": "9d26f143-52e1-4370-a1d2-a54345f9569d",
   "metadata": {},
   "source": [
    "#### Definition\n",
    "\n",
    "Let $\\mathbf{F}(x,y,z) = M\\,\\mathbf{i} + N\\,\\mathbf{j} + P\\,\\mathbf{k}$ be a vector field continuously differentiable in some region $D$.  By the **divergence** of $\\mathbf{F}$, we mean the scalar function $\\mathrm{div }\\,\\mathbf{F}$ of three variables defined in $D$.  \n",
    "\n",
    "\\begin{equation}\\tag{1}\n",
    "    \\mathrm{div }\\,\\mathbf{F} = \\frac{\\partial M}{\\partial x} + \\frac{\\partial N}{\\partial y} + \\frac{\\partial P}{\\partial z}\n",
    "\\end{equation}"
   ]
  },
  {
   "cell_type": "markdown",
   "id": "2c429759-7e12-474f-801a-9cc2c5f1b31c",
   "metadata": {},
   "source": [
    "## The Divergence Theorem  \n",
    "\n",
    "Let $S$ be a positively oriented closed surface with interior $D$, and let $\\mathbf{F}$ be a vector field continuously differentiable in a domain containing $D$.  Then  \n",
    "\n",
    "\\begin{equation}\\tag{2}\n",
    "    \\iint_S\\mathbf{F}\\cdot\\mathrm{d}\\mathbf{S} = \\iiint_D\\mathrm{div }\\,\\mathbf{F}\\,\\mathrm{d}V\n",
    "\\end{equation}"
   ]
  },
  {
   "cell_type": "markdown",
   "id": "ab71503b-2762-4a99-9a38-905e39568811",
   "metadata": {},
   "source": [
    "We write $\\mathrm{d}V$ on the right side, rather than $\\mathrm{d}x\\,\\mathrm{d}y\\,\\mathrm{d}z$ since the triple integral is\n",
    "often calculated in other coordinate systems, particularly spherical coordinates.\n",
    "The theorem is sometimes called **Gauss’ theorem**."
   ]
  }
 ],
 "metadata": {
  "kernelspec": {
   "display_name": "Python 3 (ipykernel)",
   "language": "python",
   "name": "python3"
  },
  "language_info": {
   "codemirror_mode": {
    "name": "ipython",
    "version": 3
   },
   "file_extension": ".py",
   "mimetype": "text/x-python",
   "name": "python",
   "nbconvert_exporter": "python",
   "pygments_lexer": "ipython3",
   "version": "3.10.12"
  }
 },
 "nbformat": 4,
 "nbformat_minor": 5
}
