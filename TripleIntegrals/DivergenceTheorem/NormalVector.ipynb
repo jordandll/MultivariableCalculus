{
 "cells": [
  {
   "cell_type": "markdown",
   "id": "d513d7d1-5051-4582-8b3d-08be8ff6031f",
   "metadata": {},
   "source": [
    "## General Formula for $\\mathbf{n}\\,\\mathrm{d}S$  \n",
    "\n",
    "Suppose $S$ is a surface parametrized by $x$ and $y$ and that $\\mathbf{N}$ is any vector normal to $S$ (no necessarily a unit vector).  Then $\\displaystyle \\mathbf{n}\\,\\mathrm{d}S = \\frac{\\mathbf{N}}{\\mathbf{N}\\cdot\\mathbf{k}}\\,\\mathrm{d}x\\,\\mathrm{d}y$.  Here $\\mathbf{n}$ is the upward unit normal."
   ]
  },
  {
   "cell_type": "markdown",
   "id": "51437818-2935-4e27-afd1-82a857db66d9",
   "metadata": {},
   "source": [
    "### Example  \n",
    "\n",
    "For the sphere given by $x^2+y^2+z^2 = a^2$ with $\\mathbf{N} = \\langle x,y,z\\rangle$, find $\\mathbf{n}\\,\\mathrm{d}S$."
   ]
  },
  {
   "cell_type": "markdown",
   "id": "adfcdc8d-bafc-4b98-b295-e2eefde9a1aa",
   "metadata": {},
   "source": [
    "$$ \\mathbf{n}\\,\\mathrm{d}S = \\frac{\\langle x,y,z\\rangle}{z}\\,\\mathrm{d}x\\,\\mathrm{d}y = \\left\\langle \\frac{x}{z},\\frac{y}{z},1\\right\\rangle\\,\\mathrm{d}x\\,\\mathrm{d}y$$"
   ]
  },
  {
   "cell_type": "markdown",
   "id": "e982654f-f75b-4c72-a66b-06b903bde3a9",
   "metadata": {},
   "source": [
    "### Problem  \n",
    "\n",
    "Consider the paraboloid given by $z := z(x,y)= x^2+y^2$.  Let $S$ be the portion of this paraboloid that lies below the plane given by $z=1$.  Let $\\mathbf{F} = x\\,\\mathbf{i} + y\\,\\mathbf{j} + (1-2z)\\,\\mathbf{k}$."
   ]
  },
  {
   "cell_type": "markdown",
   "id": "c72fe37b-f9a0-4f9c-b511-337d3525db75",
   "metadata": {},
   "source": [
    "Calculate the flux of $\\mathbf{F}$ across $S$ using the outward normal (the normal points away from the $z$-axis)."
   ]
  },
  {
   "cell_type": "markdown",
   "id": "ecd43b2a-e8ea-4d55-a082-c6771425fea4",
   "metadata": {},
   "source": [
    "$$ \\Phi = \\int\\!\\int_S\\mathbf{F}\\cdot\\mathbf{n}\\,\\mathrm{d}S \\quad\\quad\\text{where }\\,\\mathbf{F} = \\langle x,y,1-2z\\rangle$$"
   ]
  },
  {
   "cell_type": "markdown",
   "id": "b0e3c92d-83f1-49b4-bda6-7a0accf44b53",
   "metadata": {},
   "source": [
    "$$ \\mathrm{d}\\mathbf{S} = \\langle z_x,z_y,-1\\rangle\\,\\mathrm{d}x\\,\\mathrm{d}y$$"
   ]
  },
  {
   "cell_type": "markdown",
   "id": "0be9f5e1-dfb1-4b75-81ce-8495b2728af5",
   "metadata": {},
   "source": [
    "$$ z_x = 2x \\quad\\quad\\text{and}\\quad\\quad z_y = 2y$$"
   ]
  },
  {
   "cell_type": "markdown",
   "id": "0f5266b5-b511-4658-9df9-a4f8f3514ff0",
   "metadata": {},
   "source": [
    "$$ \\mathrm{d}\\mathbf{S} = \\langle 2x,2y,-1\\rangle\\,\\mathrm{d}x\\,\\mathrm{d}y$$"
   ]
  },
  {
   "cell_type": "markdown",
   "id": "4d735fad-f39d-4d3e-ba03-e99c9185f8f4",
   "metadata": {},
   "source": [
    "The integrand is:  \n",
    "\n",
    "$$ \\mathbf{F}\\cdot\\mathrm{d}\\mathbf{S} = \\big(2x^2 + 2y^2 + 2z - 1\\big)\\,\\mathrm{d}x\\,\\mathrm{d}y$$"
   ]
  },
  {
   "cell_type": "markdown",
   "id": "c6f2aa76-51ea-4c9e-ad6e-c6eadb30584d",
   "metadata": {},
   "source": [
    "$$ = \\big(4x^2 + 4y^2 - 1\\big)\\,\\mathrm{d}x\\,\\mathrm{d}y$$"
   ]
  },
  {
   "cell_type": "markdown",
   "id": "b77dd755-746d-4715-8019-7c3bc9fa7735",
   "metadata": {},
   "source": [
    "The projection $R$ of $S$ onto the $xy$-plane is:  \n",
    "\n",
    "$$R:\\; x^2+y^2 = 1$$"
   ]
  },
  {
   "cell_type": "markdown",
   "id": "015a1fd3-4d92-4c13-9cf3-9d4c8f52a8bc",
   "metadata": {},
   "source": [
    "Which is the unit circle.  In polar coordinates:  \n",
    "\n",
    "$$ \\mathbf{F} \\cdot\\mathrm{d}\\mathbf{S} = r\\big(4r^2-1\\big)\\,\\mathrm{d}r\\,\\mathrm{d}\\theta$$"
   ]
  },
  {
   "cell_type": "markdown",
   "id": "d4ee41ef-7ffb-4584-a532-adeefb25a1d2",
   "metadata": {},
   "source": [
    "Thus,  \n",
    "\n",
    "$$ \\Phi = \\int_0^{2\\pi}\\int_0^1\\big(4r^3 - r\\big)\\,\\mathrm{d}r\\,\\mathrm{d}\\theta$$"
   ]
  },
  {
   "attachments": {},
   "cell_type": "markdown",
   "id": "8b050bfb-1583-4e82-9734-4656bfc31ff9",
   "metadata": {},
   "source": [
    "$$ = \\int_0^1\\big(4r^3-r\\big)\\,\\mathrm{d}r = \\big.\\big(r^4 - 0.5r^2\\big)\\big]_0^1 = 0.5$$"
   ]
  },
  {
   "cell_type": "markdown",
   "id": "5f7cc920-90c3-423b-b1a0-83df0aa64a9b",
   "metadata": {},
   "source": [
    "$$ \\Phi = \\pi$$"
   ]
  }
 ],
 "metadata": {
  "kernelspec": {
   "display_name": "Python 3 (ipykernel)",
   "language": "python",
   "name": "python3"
  },
  "language_info": {
   "codemirror_mode": {
    "name": "ipython",
    "version": 3
   },
   "file_extension": ".py",
   "mimetype": "text/x-python",
   "name": "python",
   "nbconvert_exporter": "python",
   "pygments_lexer": "ipython3",
   "version": "3.10.12"
  }
 },
 "nbformat": 4,
 "nbformat_minor": 5
}
