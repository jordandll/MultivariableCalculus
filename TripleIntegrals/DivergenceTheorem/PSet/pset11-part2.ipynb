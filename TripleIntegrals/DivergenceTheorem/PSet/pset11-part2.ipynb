{
 "cells": [
  {
   "cell_type": "markdown",
   "id": "5fc074b7-d20d-47b8-8972-243eda3e6549",
   "metadata": {},
   "source": [
    "# Problem Set 11  \n",
    "\n",
    "## Part II"
   ]
  },
  {
   "cell_type": "code",
   "execution_count": 1,
   "id": "61a7a32e-6b35-434e-a4bd-b3bcde002eea",
   "metadata": {},
   "outputs": [],
   "source": [
    "import numpy as np\n",
    "import matplotlib.pyplot as plt\n",
    "import matplotlib as mpl"
   ]
  },
  {
   "cell_type": "markdown",
   "id": "9f6c921f-47f1-42ed-85ca-5f29b9823c74",
   "metadata": {},
   "source": [
    "### Problem 1   \n",
    "\n",
    "Suppose our sphere $S$ is centered at origin, and, in $x,y,z$-coordinates, our fixed point, henceforth $A$, is the north pole of our sphere while $B$ is any point resting on $S$.    \n",
    "\n",
    "$$ A = (0,0,a) \\quad\\quad\\text{and}\\quad\\quad B = (x,y,z)$$"
   ]
  },
  {
   "cell_type": "markdown",
   "id": "d2373720-a2c8-4d87-a097-f569cb00319b",
   "metadata": {},
   "source": [
    "where,  \n",
    "\n",
    "$$ x^2 + y^2 + z^2 = a^2$$"
   ]
  },
  {
   "cell_type": "markdown",
   "id": "562b4fb5-13fe-4727-bf21-a627744c0a90",
   "metadata": {},
   "source": [
    "It follows that the average distance $\\overline{d}$ between $A$ and $B$ is given by:  \n",
    "\n",
    "$$ \\overline{d} = \\text{avg. }|\\overline{AB}| = \\frac{\\iint_S |\\overline{AB}|\\,\\mathrm{d}S}{\\iint_S \\,\\mathrm{d}S}$$"
   ]
  },
  {
   "cell_type": "markdown",
   "id": "f82ab03e-07a0-497c-9946-352648c81005",
   "metadata": {},
   "source": [
    "Now, let  \n",
    "\n",
    "$$ \\mathbf{A}:= \\langle 0,0,a\\rangle \\quad\\quad\\text{and}\\quad\\quad \\mathbf{B} := \\mathbf{B}(x,y) = \\big\\langle x,y,\\pm\\sqrt{a^2-x^2-y^2}\\big\\rangle$$"
   ]
  },
  {
   "cell_type": "markdown",
   "id": "8cc2e384-22d9-422d-b512-e170409e08cd",
   "metadata": {},
   "source": [
    "$$ \\mathbf{F} = \\mathbf{B}- \\mathbf{A} = \\langle x,y,z-a\\rangle$$"
   ]
  },
  {
   "cell_type": "markdown",
   "id": "b31667e3-cd27-4cd3-b0cc-d14dcd4200b8",
   "metadata": {},
   "source": [
    "$$ |\\overline{AB}| = |\\mathbf{F}| = \\sqrt{x^2+y^2 + z^2 - 2za + a^2}$$"
   ]
  },
  {
   "cell_type": "markdown",
   "id": "122803cd-05d3-4bb4-9b1a-7fd286465b57",
   "metadata": {},
   "source": [
    "$$ = \\sqrt{2a^2 - 2za} = \\sqrt{2a(a-z)}$$"
   ]
  },
  {
   "cell_type": "markdown",
   "id": "6a71bb7a-5857-4624-b8bc-6a80f98a25d4",
   "metadata": {},
   "source": [
    "In spherical coordinates:  \n",
    "\n",
    "$$ |\\mathbf{F}| = \\sqrt{2a(a-\\rho\\cos\\phi)} = \\sqrt{2a(a-a\\cos\\phi)} = a\\sqrt{2(1-\\cos\\phi)}$$"
   ]
  },
  {
   "cell_type": "markdown",
   "id": "65f37316-a16a-4d24-8692-df3303893a21",
   "metadata": {},
   "source": [
    "The surface area element is given by:  \n",
    "\n",
    "$$ \\mathrm{d}S = \\rho^2\\sin\\phi\\,\\mathrm{d}\\phi\\,\\mathrm{d}\\theta = a^2\\sin\\phi\\,\\mathrm{d}\\phi\\,\\mathrm{d}\\theta$$"
   ]
  },
  {
   "cell_type": "markdown",
   "id": "8e7f9dce-3ec0-4017-a13e-5463c20b4005",
   "metadata": {},
   "source": [
    "The surface area of $S$ is given by:  \n",
    "\n",
    "$$ \\iint_S\\mathrm{d}S = \\int_0^{2\\pi}\\int_0^\\pi a^2\\sin\\phi\\,\\mathrm{d}\\phi\\,\\mathrm{d}\\theta$$"
   ]
  },
  {
   "cell_type": "markdown",
   "id": "4b4b38b8-60fd-4525-891a-a16941f6cbd4",
   "metadata": {},
   "source": [
    "$$ \\int_0^\\pi\\sin\\phi\\,\\mathrm{d}\\phi = -\\cos\\phi]_0^\\pi =  \\cos 0-\\cos\\pi = 2$$"
   ]
  },
  {
   "cell_type": "markdown",
   "id": "7bd398be-93bb-402e-b422-d42efd0a5a6c",
   "metadata": {},
   "source": [
    "$$ \\iint_S\\,\\mathrm{d}S = 2a^2\\int_0^{2\\pi}\\mathrm{d}\\theta = 4\\pi a^2$$"
   ]
  },
  {
   "cell_type": "markdown",
   "id": "16c73803-5d56-4e73-99de-9374e57e2c2e",
   "metadata": {},
   "source": [
    "Thus,  \n",
    "\n",
    "$$ \\overline{d} = \\frac{\\iint_S |\\mathbf{F}|\\,\\mathrm{d}S}{4\\pi a^2}$$"
   ]
  },
  {
   "cell_type": "markdown",
   "id": "d117dafd-3bbd-4c49-af15-ed63738b7268",
   "metadata": {},
   "source": [
    "$$ \\iint_S|\\mathbf{F}|\\,\\mathrm{d}S = a^3\\sqrt{2}\\int_0^{2\\pi}\\int_0^\\pi\\sqrt{1-\\cos\\phi}\\sin\\phi\\,\\mathrm{d}\\phi\\,\\mathrm{d}\\theta $$"
   ]
  },
  {
   "cell_type": "markdown",
   "id": "0c24cfdb-62c3-447b-9645-91848cdb9635",
   "metadata": {},
   "source": [
    "$$ f(\\phi) := \\int\\sqrt{1-\\cos\\phi}\\sin\\phi\\,\\mathrm{d}\\phi = \\frac{2}{3}\\sqrt{(1-\\cos\\phi)^3} + K$$"
   ]
  },
  {
   "cell_type": "markdown",
   "id": "7884656e-a991-494d-9894-3b53a228e1d4",
   "metadata": {},
   "source": [
    "$$ \\int_0^\\pi\\sqrt{1-\\cos\\phi}\\sin\\phi\\,\\mathrm{d}\\phi = f(\\pi) - f(0) = \\frac{2}{3}\\sqrt{8} = \\frac{4\\sqrt{2}}{3}$$"
   ]
  },
  {
   "cell_type": "markdown",
   "id": "b867fdca-d593-4467-af3b-dcbc5fd6da57",
   "metadata": {},
   "source": [
    "Thus,  \n",
    "\n",
    "$$ \\iint_S|\\mathbf{F}|\\,\\mathrm{d}S = \\frac{8a^3}{3}\\int_0^{2\\pi}\\mathrm{d}\\theta = \\frac{16\\pi a^3}{3}$$"
   ]
  },
  {
   "cell_type": "markdown",
   "id": "a4a5033f-e0d9-4fc4-abc2-aeb8bb268b74",
   "metadata": {},
   "source": [
    "Finally,  \n",
    "\n",
    "$$ \\overline{d} = \\frac{16\\pi a^3}{3}\\,\\frac{1}{4\\pi a^2} = \\frac{4 a}{3}$$"
   ]
  },
  {
   "cell_type": "markdown",
   "id": "14927077-68a7-48d7-9f2c-911632b0f798",
   "metadata": {},
   "source": [
    "### Problem 2  \n",
    "\n",
    "Consider a solid $D$ in the shape of an ice-cream cone.  It's bounded above by (part of) a sphere of radius $a$ centered at origin.  It's bounded below by the cone with vertex at origin and a vertex angle of $2\\phi_0$."
   ]
  },
  {
   "cell_type": "markdown",
   "id": "3329c053-4c38-4993-8a1d-87c49547aac2",
   "metadata": {},
   "source": [
    "Find the gravitational force on a unit test mass placed at origin.  Assume the density $\\delta$ of $D$ is equal to $1$."
   ]
  },
  {
   "cell_type": "markdown",
   "id": "b8860058-eadc-4403-b1c3-1ab3b685ae2a",
   "metadata": {},
   "source": [
    "Via equation (3) of [Gravity.ipynb](../../TripleIntegrals/Gravity.ipynb), the gravitational force, henceforth $\\mathbf{F}$, is given by:  \n",
    "\n",
    "$$ \\mathbf{F} = G\\iiint_D \\frac{\\mathbf{r}}{|\\mathbf{R}|^2}\\,\\mathrm{d}V$$"
   ]
  },
  {
   "cell_type": "markdown",
   "id": "b0b4dd40-a30b-4d24-89e9-37ca6c4a49fa",
   "metadata": {},
   "source": [
    "where $G=\\mathit{const}$ is the gravitational potential (?), $\\mathbf{R}$ is the position vector of any point in $D$ and $\\mathbf{r}$ is the direction of $\\mathbf{R}$.  \n",
    "\n",
    "$$ \\mathbf{r} = \\frac{\\mathbf{R}}{|\\mathbf{R}|} $$"
   ]
  },
  {
   "cell_type": "markdown",
   "id": "a1669c6e-b66a-440f-afca-92a8e1caa2fa",
   "metadata": {},
   "source": [
    "In polar coordinates:  \n",
    "\n",
    "$$ x = r\\cos\\theta \\quad\\quad\\text{and}\\quad\\quad y = r\\sin\\theta$$"
   ]
  },
  {
   "cell_type": "markdown",
   "id": "9895b8c0-f9b2-4dd1-83de-fa67bab06619",
   "metadata": {},
   "source": [
    "In spherical coordinates:  \n",
    "\n",
    "$$ r = \\rho\\sin\\phi \\quad\\quad z = \\rho\\cos\\phi \\quad\\quad x = \\rho\\sin\\phi\\cos\\theta \\quad\\quad y = \\rho\\sin\\phi\\sin\\theta$$"
   ]
  },
  {
   "cell_type": "markdown",
   "id": "3c31b0a0-f570-4dcd-8979-ba3d34ef70f6",
   "metadata": {},
   "source": [
    "$$ \\mathbf{r} = \\sin\\phi\\cos\\theta\\,\\mathbf{i} + \\sin\\phi\\sin\\theta\\,\\mathbf{j} + \\cos\\phi\\,\\mathbf{k}$$"
   ]
  },
  {
   "cell_type": "markdown",
   "id": "5407dfd0-aa36-4caf-8ea8-977530cfd4fd",
   "metadata": {},
   "source": [
    "$$\\mathbf{F} = G\\iiint_D \\frac{\\mathbf{r}}{\\rho^2}\\,\\mathrm{d}V = G\\int_0^{2\\pi}\\int_0^{\\phi_0}\\int_0^a \\mathbf{r}\\,\\sin\\phi\\,\\mathrm{d}\\rho\\,\\mathrm{d}\\phi\\,\\mathrm{d}\\theta$$"
   ]
  },
  {
   "cell_type": "markdown",
   "id": "1228f006-4c07-479b-bea2-5eae032a23fb",
   "metadata": {},
   "source": [
    "The $x$-compliment of $\\mathbf{F}$ is given by:  \n",
    "\n",
    "$$ F_1 = G\\int_0^{2\\pi}\\int_0^{\\phi_0}\\int_0^a \\sin^2\\!\\phi\\cos\\theta\\,\\mathrm{d}\\rho\\,\\mathrm{d}\\phi\\,\\mathrm{d}\\theta$$"
   ]
  },
  {
   "cell_type": "markdown",
   "id": "d3e588e8-75ca-4264-8d50-9ea0a0f6d70e",
   "metadata": {},
   "source": [
    "$$ = aG\\int_0^{2\\pi}\\int_0^{\\phi_0}\\sin^2\\!\\phi\\cos\\theta\\,\\mathrm{d}\\phi\\,\\mathrm{d}\\theta$$"
   ]
  },
  {
   "cell_type": "markdown",
   "id": "7a8a2321-66c3-42ca-8764-6391142d96d2",
   "metadata": {},
   "source": [
    "The integrand of the above double integral can be rewritten.  \n",
    "\n",
    "$$ \\sin^2\\!\\phi\\cos\\theta = \\big(1-\\cos^2\\!\\phi\\big)\\cos\\theta = \\big(1-0.5\\cos2\\phi - 0.5\\big)\\cos\\theta $$"
   ]
  },
  {
   "cell_type": "markdown",
   "id": "6bfe4490-502c-4a19-87b0-8920e2c721f4",
   "metadata": {},
   "source": [
    "$$ = 0.5(1-\\cos2\\phi)\\cos\\theta$$"
   ]
  },
  {
   "cell_type": "markdown",
   "id": "a9b80877-79ea-42d5-8fbe-19c32e42737b",
   "metadata": {},
   "source": [
    "Thus, the inner integral of said double integral is:  \n",
    "\n",
    "$$ \\int_0^{\\phi_0}\\sin^2\\!\\phi\\cos\\theta\\,\\mathrm{d}\\phi = 0.5\\int_0^{\\phi_0}(1-\\cos2\\phi)\\cos\\theta\\,\\mathrm{d}\\phi$$"
   ]
  },
  {
   "cell_type": "markdown",
   "id": "8889eb6b-84e6-4c22-9e49-980a6350c66f",
   "metadata": {},
   "source": [
    "$$ = 0.5\\int_0^{\\phi_0}\\cos\\theta\\,\\mathrm{d}\\phi - 0.5\\int_0^{\\phi_0}\\cos\\theta\\cos2\\phi\\,\\mathrm{d}\\phi$$"
   ]
  },
  {
   "cell_type": "markdown",
   "id": "a4219490-1337-4b24-a0d3-4568bf4934c9",
   "metadata": {},
   "source": [
    "$$ = 0.5\\phi_0\\cos\\theta - 0.5\\int_0^{\\phi_0}\\cos\\theta\\cos2\\phi\\,\\mathrm{d}\\phi$$"
   ]
  },
  {
   "cell_type": "markdown",
   "id": "850a892d-7676-4ab4-b89d-04939c1eb4f4",
   "metadata": {},
   "source": [
    "$$ = 0.5\\phi_0\\cos\\theta - \\frac{\\cos\\theta}{4}\\big.\\sin2\\phi\\big]_0^{\\phi_0}$$"
   ]
  },
  {
   "cell_type": "markdown",
   "id": "1ee4e6f6-79cd-46ed-82a3-1b3b13ffad1c",
   "metadata": {},
   "source": [
    "$$ = 0.5\\phi_0\\cos\\theta - \\frac{\\cos\\theta}{4}\\sin2\\phi_0$$"
   ]
  },
  {
   "cell_type": "markdown",
   "id": "0e82c8cf-5fea-470f-a885-c71f371a6b66",
   "metadata": {},
   "source": [
    "Due to symmetry,  \n",
    "\n",
    "$$ F_1,F_2 = 0$$"
   ]
  },
  {
   "cell_type": "markdown",
   "id": "d8322b00-cb37-42a4-92d6-9cdbf3c28b79",
   "metadata": {},
   "source": [
    "That leaves us with the $z$-compliment.  \n",
    "\n",
    "$$ F_3 = aG\\int_0^{2\\pi}\\int_0^{\\phi_0}\\cos\\phi\\sin\\phi\\,\\mathrm{d}\\phi\\,\\mathrm{d}\\theta$$"
   ]
  },
  {
   "cell_type": "markdown",
   "id": "d7883aff-7b1b-4165-87ad-d5fb4230a53b",
   "metadata": {},
   "source": [
    "The inner integral of the above double integral is:  \n",
    "\n",
    "$$ \\int_0^{\\phi_0}\\cos\\phi\\sin\\phi\\,\\mathrm{d}\\phi = 0.5\\int_0^{\\phi_0}\\sin2\\phi\\,\\mathrm{d}\\phi$$"
   ]
  },
  {
   "attachments": {},
   "cell_type": "markdown",
   "id": "9aeef1e7-e4d8-49ae-9550-825c0e407b09",
   "metadata": {},
   "source": [
    "$$ = -\\frac{1}{4}\\big.\\cos2\\phi\\big]_0^{\\phi_0} = \\frac{1}{4}(1-\\cos2\\phi_0)$$"
   ]
  },
  {
   "cell_type": "markdown",
   "id": "d296afd2-3425-490f-b318-fe7dad5ed3b8",
   "metadata": {},
   "source": [
    "Finally,  \n",
    "\n",
    "$$ F_3 = \\frac{a\\pi G}{2}(1-\\cos2\\phi_0)$$"
   ]
  },
  {
   "cell_type": "markdown",
   "id": "356ee8ca-c759-4b53-8f5b-5313e3a8a38e",
   "metadata": {},
   "source": [
    "### Problem 3  \n",
    "\n",
    "$$ a = \\sqrt{2} \\quad\\quad \\phi_0 = \\frac{\\pi}{4}\\quad\\quad \\mathbf{F} = z\\,\\mathbf{k}$$"
   ]
  },
  {
   "cell_type": "markdown",
   "id": "e45b3dde-3783-4616-8a70-aa7aca5bf476",
   "metadata": {},
   "source": [
    "**a)**  The radius of $T$, denoted as $b$, is:  \n",
    "\n",
    "$$ \\sin\\phi_0 = \\frac{b}{a} \\quad\\therefore\\quad b = \\sqrt{2}\\sin \\frac{\\pi}{4} = \\frac{\\sqrt{2}}{\\sqrt{2}}= 1$$"
   ]
  },
  {
   "cell_type": "markdown",
   "id": "7b10dad2-d655-4007-a5e4-3a90d6654c8a",
   "metadata": {},
   "source": [
    "Via Pythagorean's theorem, the height of $T$, denoted as $h$, is given by:  \n",
    "\n",
    "$$ h^2 + b^2 = a^2 \\quad\\therefore\\quad h^2 = 2 - 1 = 1 \\quad\\therefore$$"
   ]
  },
  {
   "cell_type": "markdown",
   "id": "23319a74-4e8a-4561-9dea-6920ed2f21c9",
   "metadata": {},
   "source": [
    "$$ h = 1$$"
   ]
  },
  {
   "cell_type": "markdown",
   "id": "7ccedc86-2d53-4dbd-9310-ec3e0cf30a8a",
   "metadata": {},
   "source": [
    "Finally,  \n",
    "\n",
    "$$ \\Phi = \\iint_T \\mathbf{F}\\cdot \\mathbf{n}\\,\\mathrm{d}T = \\iint_T \\,\\mathrm{d}T$$"
   ]
  },
  {
   "cell_type": "markdown",
   "id": "5f224b7c-f5b3-4949-b029-dcc3c6e2c0ee",
   "metadata": {},
   "source": [
    "$$ = \\pi b^2 = \\pi$$"
   ]
  },
  {
   "cell_type": "markdown",
   "id": "4461da9b-e519-461d-8b79-cd59505113c4",
   "metadata": {},
   "source": [
    "**b)**  Let $\\mathcal{U}$ be the part of the cone that is bounded by the vertex and the intersection between said cone and our sphere.  And, let $\\mathcal{S}$ be the part of the sphere bounded by said sphere and intersection.  It now follows that:  \n",
    "\n",
    "$$\\iint_U \\mathbf{F}\\cdot\\mathrm{d}\\mathbf{U} = \\iint_T \\mathrm{d}T - \\iint_\\mathcal{U} \\mathbf{F}\\cdot\\mathbf{n}_\\mathcal{U}\\,\\mathrm{d}\\mathcal{U}$$"
   ]
  },
  {
   "cell_type": "markdown",
   "id": "bc665c19-0976-4f13-956b-3473e4574185",
   "metadata": {},
   "source": [
    "and  \n",
    "\n",
    "$$ \\iint_S \\mathbf{F}\\cdot\\mathrm{d}\\mathbf{S} = \\iint_\\mathcal{S} \\mathbf{F}\\cdot \\mathbf{n}_\\mathcal{S}\\,\\mathrm{d}\\mathcal{S}-\\iint_T\\mathrm{d}T$$"
   ]
  },
  {
   "cell_type": "markdown",
   "id": "2e2ad795-6284-405e-b885-13c4f4d9a0bf",
   "metadata": {},
   "source": [
    "Via the above two equations and Divergence theorem,  \n",
    "\n",
    "$$ \\iint_\\mathcal{U}\\mathbf{F}\\cdot\\mathbf{n}_\\mathcal{U}\\,\\mathrm{d}\\mathcal{U} = \\pi - \\iiint_{D_U}\\nabla \\cdot \\mathbf{F}\\,\\mathrm{d}V$$"
   ]
  },
  {
   "cell_type": "markdown",
   "id": "80cfe9f6-b88c-4f72-b22b-81b4b79196f5",
   "metadata": {},
   "source": [
    "and,  \n",
    "\n",
    "$$ \\iint_\\mathcal{S} \\mathbf{F}\\cdot\\mathbf{n}_\\mathcal{S}\\,\\mathrm{d}\\mathcal{S} = \\iiint_{D_S}\\nabla \\cdot \\mathbf{F}\\,\\mathrm{d}V - \\pi$$"
   ]
  },
  {
   "cell_type": "markdown",
   "id": "43a9fda1-299c-451a-88a2-7e594d47b968",
   "metadata": {},
   "source": [
    "where $D_U$ and $D_S$ are the regions enclosed by $U$ and $S$ respectively.  The divergence of $\\mathbf{F}$ is:  \n",
    "\n",
    "$$ \\nabla \\cdot \\mathbf{F} = 1$$"
   ]
  },
  {
   "cell_type": "markdown",
   "id": "6a5e2392-e83e-48fc-aa5e-040202c715d8",
   "metadata": {},
   "source": [
    "Thus,  \n",
    "\n",
    "$$ \\iint_\\mathcal{U}\\mathbf{F}\\cdot\\mathbf{n}_\\mathcal{U}\\,\\mathrm{d}\\mathcal{U} = \\pi - \\text{vol. } D_U $$"
   ]
  },
  {
   "cell_type": "markdown",
   "id": "a7481818-0769-404d-9997-732c0d0f14dc",
   "metadata": {},
   "source": [
    "The volume of the solid cone, $D_U$, is given by:  \n",
    "\n",
    "$$ \\text{vol. }D_U = \\int_0^{2\\pi}\\int_0^1\\int_r^1 r\\,\\mathrm{d}z\\,\\mathrm{d}r\\,\\mathrm{d}\\theta$$"
   ]
  },
  {
   "cell_type": "markdown",
   "id": "1ce87375-d823-46de-aa43-9c91fc7ad792",
   "metadata": {},
   "source": [
    "$$ = \\int_0^{2\\pi}\\int_0^1 \\big(r-r^2\\big)\\,\\mathrm{d}r\\,\\mathrm{d}\\theta = \\frac{1}{6}\\int_0^{2\\pi}\\mathrm{d}\\theta = \\frac{\\pi}{3}$$"
   ]
  },
  {
   "cell_type": "markdown",
   "id": "5ae0e239-c596-495d-abc0-9bdfda4a3f8a",
   "metadata": {},
   "source": [
    "Thus,  \n",
    "\n",
    "$$ \\iint_\\mathcal{U}\\mathbf{F}\\cdot\\mathbf{n}_\\mathcal{U}\\,\\mathrm{d}\\mathcal{U} = \\frac{2\\pi}{3}$$"
   ]
  },
  {
   "cell_type": "markdown",
   "id": "84302421-3a0b-42db-b5de-0403891f7c05",
   "metadata": {},
   "source": [
    "The upward flux of $\\mathbf{F}$ across $U$, denoted as $\\Phi_U$, is given by:  \n",
    "\n",
    "$$ \\Phi_U = \\iint_T\\mathrm{d}T + \\iint_\\mathcal{U}\\mathbf{F}\\cdot\\mathbf{n}_\\mathcal{U}\\,\\mathrm{d}\\mathcal{U} = \\pi + \\frac{2\\pi}{3} = \\frac{5\\pi}{3}$$"
   ]
  },
  {
   "cell_type": "markdown",
   "id": "63c5da9a-c927-474b-ad6a-cee8d0cc8016",
   "metadata": {},
   "source": [
    "Now, let's cross reference the volume of $D_U$ that we found via a triple integral against the one we find using a different method.  Let $A(z)$ be defined as:  \n",
    "\n",
    "$$ A(z) = \\pi a^2(z) \\quad\\quad\\text{where }\\, \\tan\\phi_0 = \\frac{a(z)}{z}\\quad\\text{or}\\quad a(z) = z$$"
   ]
  },
  {
   "cell_type": "markdown",
   "id": "458c4d56-a7f0-41a8-9cf4-130ec6f6c48f",
   "metadata": {},
   "source": [
    "or,  \n",
    "\n",
    "$$ A := A(z) = \\pi z^2$$"
   ]
  },
  {
   "cell_type": "markdown",
   "id": "450ada12-ad8b-4c4c-a505-bdcad28f2be6",
   "metadata": {},
   "source": [
    "The volume of said cone is given by:  \n",
    "\n",
    "$$ \\text{vol. } D_U = \\int_0^1 A(z)\\,\\mathrm{d}z = \\int_0^1\\pi z^2\\,\\mathrm{d}z$$"
   ]
  },
  {
   "cell_type": "markdown",
   "id": "e49289dd-54d7-4cd5-88c6-5a0b58dcb0f7",
   "metadata": {},
   "source": [
    "$$ = \\frac{\\pi}{3}$$"
   ]
  },
  {
   "cell_type": "markdown",
   "id": "1c34db7c-28b5-46f6-a154-62d7f0ef8662",
   "metadata": {},
   "source": [
    "Now, regarding the upward flux of $\\mathbf{F}$ across $S$,  \n",
    "\n",
    "$$ \\iint_\\mathcal{S} \\mathbf{F}\\cdot\\mathbf{n}_\\mathcal{S}\\mathrm{d}\\mathcal{S} = \\text{vol. }D_S - \\pi$$"
   ]
  },
  {
   "cell_type": "markdown",
   "id": "54a6c6a5-489e-459d-a921-d2b79e71d1d1",
   "metadata": {},
   "source": [
    "The volume of our spherical cap, $D_S$, is given by:  \n",
    "\n",
    "$$ \\text{vol. }D_S = \\int_0^{2\\pi}\\int_0^{0.25\\pi}\\int_{\\rho(\\phi)}^\\sqrt{2} \\rho^2\\sin\\phi\\,\\mathrm{d}\\rho\\,\\mathrm{d}\\phi\\,\\mathrm{d}\\theta$$"
   ]
  },
  {
   "cell_type": "markdown",
   "id": "00a0d88b-fb28-4598-8b91-0e54feaa5637",
   "metadata": {},
   "source": [
    "where the lower limit of the innermost integral of the above triple integral is given by:  \n",
    "\n",
    "$$ \\cos\\phi = \\frac{1}{\\rho(\\phi)} \\quad\\therefore\\quad \\rho(\\phi) = \\sec\\phi$$"
   ]
  },
  {
   "cell_type": "markdown",
   "id": "9da6d961-2c1d-4231-9d91-5802f82291af",
   "metadata": {},
   "source": [
    "Thus,  \n",
    "\n",
    "$$ \\int_{\\sec\\phi}^\\sqrt{2} \\rho^2\\sin\\phi\\,\\mathrm{d}\\rho = \\sin\\phi\\left(\\frac{2\\sqrt{2}}{3} - \\frac{\\sec^3\\phi}{3}\\right)$$"
   ]
  }
 ],
 "metadata": {
  "kernelspec": {
   "display_name": "Python 3 (ipykernel)",
   "language": "python",
   "name": "python3"
  },
  "language_info": {
   "codemirror_mode": {
    "name": "ipython",
    "version": 3
   },
   "file_extension": ".py",
   "mimetype": "text/x-python",
   "name": "python",
   "nbconvert_exporter": "python",
   "pygments_lexer": "ipython3",
   "version": "3.10.12"
  }
 },
 "nbformat": 4,
 "nbformat_minor": 5
}
