{
 "cells": [
  {
   "cell_type": "markdown",
   "id": "5fc074b7-d20d-47b8-8972-243eda3e6549",
   "metadata": {},
   "source": [
    "# Problem Set 11  \n",
    "\n",
    "## Part II"
   ]
  },
  {
   "cell_type": "code",
   "execution_count": 1,
   "id": "61a7a32e-6b35-434e-a4bd-b3bcde002eea",
   "metadata": {},
   "outputs": [],
   "source": [
    "import numpy as np\n",
    "import matplotlib.pyplot as plt\n",
    "import matplotlib as mpl"
   ]
  },
  {
   "cell_type": "markdown",
   "id": "9f6c921f-47f1-42ed-85ca-5f29b9823c74",
   "metadata": {},
   "source": [
    "### Problem 1   \n",
    "\n",
    "Suppose our sphere $S$ is centered at origin, and, our fixed point, henceforth $A$, is the north pole of our sphere while $B$ is any point resting on $S$.  In $x,y,z$-coordinates,  \n",
    "\n",
    "$$ A = (0,0,a) \\quad\\quad\\text{and}\\quad\\quad B = (x,y,z)$$"
   ]
  },
  {
   "cell_type": "markdown",
   "id": "d2373720-a2c8-4d87-a097-f569cb00319b",
   "metadata": {},
   "source": [
    "where,  \n",
    "\n",
    "$$ x^2 + y^2 + z^2 = a^2$$"
   ]
  },
  {
   "cell_type": "markdown",
   "id": "562b4fb5-13fe-4727-bf21-a627744c0a90",
   "metadata": {},
   "source": [
    "It follows that the average distance $\\overline{d}$ between $A$ and $B$ is given by:  \n",
    "\n",
    "$$ \\overline{d} = \\text{avg. }|\\overline{AB}| = \\frac{\\iint_S |\\overline{AB}|\\,\\mathrm{d}S}{\\iint_S \\,\\mathrm{d}S}$$"
   ]
  },
  {
   "cell_type": "markdown",
   "id": "f82ab03e-07a0-497c-9946-352648c81005",
   "metadata": {},
   "source": [
    "Now, let  \n",
    "\n",
    "$$ \\mathbf{A}:= \\langle 0,0,a\\rangle \\quad\\quad\\text{and}\\quad\\quad \\mathbf{B} := \\mathbf{B}(x,y) = \\big\\langle x,y,\\pm\\sqrt{a^2-x^2-y^2}\\big\\rangle$$"
   ]
  },
  {
   "cell_type": "markdown",
   "id": "8cc2e384-22d9-422d-b512-e170409e08cd",
   "metadata": {},
   "source": [
    "$$ \\mathbf{F} = \\mathbf{B}- \\mathbf{A} = \\langle x,y,z-a\\rangle$$"
   ]
  },
  {
   "cell_type": "markdown",
   "id": "b31667e3-cd27-4cd3-b0cc-d14dcd4200b8",
   "metadata": {},
   "source": [
    "$$ |\\overline{AB}| = |\\mathbf{F}| = \\sqrt{x^2+y^2 + z^2 - 2za + a^2}$$"
   ]
  },
  {
   "cell_type": "markdown",
   "id": "122803cd-05d3-4bb4-9b1a-7fd286465b57",
   "metadata": {},
   "source": [
    "$$ = \\sqrt{2a^2 - 2za} = \\sqrt{2a(a-z)}$$"
   ]
  },
  {
   "cell_type": "markdown",
   "id": "6a71bb7a-5857-4624-b8bc-6a80f98a25d4",
   "metadata": {},
   "source": [
    "In spherical coordinates:  \n",
    "\n",
    "$$ |\\mathbf{F}| = \\sqrt{2a(a-\\rho\\cos\\phi)} = \\sqrt{2a(a-a\\cos\\phi)} = a\\sqrt{2(1-\\cos\\phi)}$$"
   ]
  },
  {
   "cell_type": "markdown",
   "id": "65f37316-a16a-4d24-8692-df3303893a21",
   "metadata": {},
   "source": [
    "The surface area element is given by:  \n",
    "\n",
    "$$ \\mathrm{d}S = \\rho^2\\sin\\phi\\,\\mathrm{d}\\phi\\,\\mathrm{d}\\theta = a^2\\sin\\phi\\,\\mathrm{d}\\phi\\,\\mathrm{d}\\theta$$"
   ]
  },
  {
   "cell_type": "markdown",
   "id": "8e7f9dce-3ec0-4017-a13e-5463c20b4005",
   "metadata": {},
   "source": [
    "The surface area of $S$ is given by:  \n",
    "\n",
    "$$ \\iint_S\\mathrm{d}S = \\int_0^{2\\pi}\\int_0^\\pi a^2\\sin\\phi\\,\\mathrm{d}\\phi\\,\\mathrm{d}\\theta$$"
   ]
  },
  {
   "cell_type": "markdown",
   "id": "4b4b38b8-60fd-4525-891a-a16941f6cbd4",
   "metadata": {},
   "source": [
    "$$ \\int_0^\\pi\\sin\\phi\\,\\mathrm{d}\\phi = -\\big.\\cos\\phi\\big]_0^\\pi =  \\cos 0-\\cos\\pi = 2$$"
   ]
  },
  {
   "cell_type": "markdown",
   "id": "7bd398be-93bb-402e-b422-d42efd0a5a6c",
   "metadata": {},
   "source": [
    "$$ \\iint_S\\,\\mathrm{d}S = 2a^2\\int_0^{2\\pi}\\mathrm{d}\\theta = 4\\pi a^2$$"
   ]
  },
  {
   "cell_type": "markdown",
   "id": "16c73803-5d56-4e73-99de-9374e57e2c2e",
   "metadata": {},
   "source": [
    "Thus,  \n",
    "\n",
    "$$ \\overline{d} = \\frac{\\iint_S |\\mathbf{F}|\\,\\mathrm{d}S}{4\\pi a^2}$$"
   ]
  },
  {
   "cell_type": "markdown",
   "id": "d117dafd-3bbd-4c49-af15-ed63738b7268",
   "metadata": {},
   "source": [
    "$$ \\iint_S|\\mathbf{F}|\\,\\mathrm{d}S = a^3\\sqrt{2}\\int_0^{2\\pi}\\int_0^\\pi\\sqrt{1-\\cos\\phi}\\sin\\phi\\,\\mathrm{d}\\phi\\,\\mathrm{d}\\theta $$"
   ]
  },
  {
   "cell_type": "markdown",
   "id": "0c24cfdb-62c3-447b-9645-91848cdb9635",
   "metadata": {},
   "source": [
    "$$ f(\\phi) := \\int\\sqrt{1-\\cos\\phi}\\sin\\phi\\,\\mathrm{d}\\phi = \\frac{2}{3}\\sqrt{(1-\\cos\\phi)^3} + K$$"
   ]
  },
  {
   "cell_type": "markdown",
   "id": "7884656e-a991-494d-9894-3b53a228e1d4",
   "metadata": {},
   "source": [
    "$$ \\int_0^\\pi\\sqrt{1-\\cos\\phi}\\sin\\phi\\,\\mathrm{d}\\phi = f(\\pi) - f(0) = \\frac{2}{3}\\sqrt{8} = \\frac{4\\sqrt{2}}{3}$$"
   ]
  },
  {
   "cell_type": "markdown",
   "id": "b867fdca-d593-4467-af3b-dcbc5fd6da57",
   "metadata": {},
   "source": [
    "Thus,  \n",
    "\n",
    "$$ \\iint_S|\\mathbf{F}|\\,\\mathrm{d}S = \\frac{8a^3}{3}\\int_0^{2\\pi}\\mathrm{d}\\theta = \\frac{16\\pi a^3}{3}$$"
   ]
  },
  {
   "cell_type": "markdown",
   "id": "a4a5033f-e0d9-4fc4-abc2-aeb8bb268b74",
   "metadata": {},
   "source": [
    "Finally,  \n",
    "\n",
    "$$ \\overline{d} = \\frac{16\\pi a^3}{3}\\,\\frac{1}{4\\pi a^2} = \\frac{4 a}{3}$$"
   ]
  },
  {
   "cell_type": "markdown",
   "id": "14927077-68a7-48d7-9f2c-911632b0f798",
   "metadata": {},
   "source": [
    "### Problem 2  \n",
    "\n",
    "Consider a solid $D$ in the shape of an ice-cream cone.  It's bounded above by (part of) a sphere of radius $a$ centered at origin.  It's bounded below by the cone with vertex at origin and a vertex angle of $2\\phi_0$."
   ]
  },
  {
   "cell_type": "markdown",
   "id": "3329c053-4c38-4993-8a1d-87c49547aac2",
   "metadata": {},
   "source": [
    "Find the gravitational force on a unit test mass placed at origin.  Assume the density $\\delta$ of $D$ is equal to $1$."
   ]
  },
  {
   "cell_type": "markdown",
   "id": "b8860058-eadc-4403-b1c3-1ab3b685ae2a",
   "metadata": {},
   "source": [
    "Via equation (3) of [Gravity.ipynb](../../TripleIntegrals/Gravity.ipynb), the gravitational force, henceforth $\\mathbf{F}$, is given by:  \n",
    "\n",
    "$$ \\mathbf{F} = G\\iiint_D \\frac{\\mathbf{r}}{|\\mathbf{R}|^2}\\,\\mathrm{d}V$$"
   ]
  },
  {
   "cell_type": "markdown",
   "id": "b0b4dd40-a30b-4d24-89e9-37ca6c4a49fa",
   "metadata": {},
   "source": [
    "where $G=\\mathit{const}$ is the gravitational potential (?), $\\mathbf{R}$ is the position vector of any point in $D$ and $\\mathbf{r}$ is the direction of $\\mathbf{R}$.  \n",
    "\n",
    "$$ \\mathbf{r} = \\frac{\\mathbf{R}}{|\\mathbf{R}|} $$"
   ]
  },
  {
   "cell_type": "markdown",
   "id": "a1669c6e-b66a-440f-afca-92a8e1caa2fa",
   "metadata": {},
   "source": [
    "In polar coordinates:  \n",
    "\n",
    "$$ x = r\\cos\\theta \\quad\\quad\\text{and}\\quad\\quad y = r\\sin\\theta$$"
   ]
  },
  {
   "cell_type": "markdown",
   "id": "9895b8c0-f9b2-4dd1-83de-fa67bab06619",
   "metadata": {},
   "source": [
    "In spherical coordinates:  \n",
    "\n",
    "$$ r = \\rho\\sin\\phi \\quad\\quad z = \\rho\\cos\\phi \\quad\\quad x = \\rho\\sin\\phi\\cos\\theta \\quad\\quad y = \\rho\\sin\\phi\\sin\\theta$$"
   ]
  },
  {
   "cell_type": "markdown",
   "id": "3c31b0a0-f570-4dcd-8979-ba3d34ef70f6",
   "metadata": {},
   "source": [
    "$$ \\mathbf{r} = \\sin\\phi\\cos\\theta\\,\\mathbf{i} + \\sin\\phi\\sin\\theta\\,\\mathbf{j} + \\cos\\phi\\,\\mathbf{k}$$"
   ]
  },
  {
   "cell_type": "markdown",
   "id": "5407dfd0-aa36-4caf-8ea8-977530cfd4fd",
   "metadata": {},
   "source": [
    "$$\\mathbf{F} = G\\iiint_D \\frac{\\mathbf{r}}{\\rho^2}\\,\\mathrm{d}V = G\\int_0^{2\\pi}\\int_0^{\\phi_0}\\int_0^a \\mathbf{r}\\,\\sin\\phi\\,\\mathrm{d}\\rho\\,\\mathrm{d}\\phi\\,\\mathrm{d}\\theta$$"
   ]
  },
  {
   "cell_type": "markdown",
   "id": "1228f006-4c07-479b-bea2-5eae032a23fb",
   "metadata": {},
   "source": [
    "The $x$-compliment of $\\mathbf{F}$ is given by:  \n",
    "\n",
    "$$ F_1 = G\\int_0^{2\\pi}\\int_0^{\\phi_0}\\int_0^a \\sin^2\\!\\phi\\cos\\theta\\,\\mathrm{d}\\rho\\,\\mathrm{d}\\phi\\,\\mathrm{d}\\theta$$"
   ]
  },
  {
   "cell_type": "markdown",
   "id": "d3e588e8-75ca-4264-8d50-9ea0a0f6d70e",
   "metadata": {},
   "source": [
    "$$ = aG\\int_0^{2\\pi}\\int_0^{\\phi_0}\\sin^2\\!\\phi\\cos\\theta\\,\\mathrm{d}\\phi\\,\\mathrm{d}\\theta$$"
   ]
  },
  {
   "cell_type": "markdown",
   "id": "7a8a2321-66c3-42ca-8764-6391142d96d2",
   "metadata": {},
   "source": [
    "The integrand of the above double integral can be rewritten.  \n",
    "\n",
    "$$ \\sin^2\\!\\phi\\cos\\theta = \\big(1-\\cos^2\\!\\phi\\big)\\cos\\theta = \\big(1-0.5\\cos2\\phi - 0.5\\big)\\cos\\theta $$"
   ]
  },
  {
   "cell_type": "markdown",
   "id": "6bfe4490-502c-4a19-87b0-8920e2c721f4",
   "metadata": {},
   "source": [
    "$$ = 0.5(1-\\cos2\\phi)\\cos\\theta$$"
   ]
  },
  {
   "cell_type": "markdown",
   "id": "a9b80877-79ea-42d5-8fbe-19c32e42737b",
   "metadata": {},
   "source": [
    "Thus, the inner integral of said double integral is:  \n",
    "\n",
    "$$ \\int_0^{\\phi_0}\\sin^2\\!\\phi\\cos\\theta\\,\\mathrm{d}\\phi = 0.5\\int_0^{\\phi_0}(1-\\cos2\\phi)\\cos\\theta\\,\\mathrm{d}\\phi$$"
   ]
  },
  {
   "cell_type": "markdown",
   "id": "8889eb6b-84e6-4c22-9e49-980a6350c66f",
   "metadata": {},
   "source": [
    "$$ = 0.5\\int_0^{\\phi_0}\\cos\\theta\\,\\mathrm{d}\\phi - 0.5\\int_0^{\\phi_0}\\cos\\theta\\cos2\\phi\\,\\mathrm{d}\\phi$$"
   ]
  },
  {
   "cell_type": "markdown",
   "id": "a4219490-1337-4b24-a0d3-4568bf4934c9",
   "metadata": {},
   "source": [
    "$$ = 0.5\\phi_0\\cos\\theta - 0.5\\int_0^{\\phi_0}\\cos\\theta\\cos2\\phi\\,\\mathrm{d}\\phi$$"
   ]
  },
  {
   "cell_type": "markdown",
   "id": "850a892d-7676-4ab4-b89d-04939c1eb4f4",
   "metadata": {},
   "source": [
    "$$ = 0.5\\phi_0\\cos\\theta - \\frac{\\cos\\theta}{4}\\big.\\sin2\\phi\\big]_0^{\\phi_0}$$"
   ]
  },
  {
   "cell_type": "markdown",
   "id": "1ee4e6f6-79cd-46ed-82a3-1b3b13ffad1c",
   "metadata": {},
   "source": [
    "$$ = 0.5\\phi_0\\cos\\theta - \\frac{\\cos\\theta}{4}\\sin2\\phi_0$$"
   ]
  },
  {
   "cell_type": "markdown",
   "id": "0e82c8cf-5fea-470f-a885-c71f371a6b66",
   "metadata": {},
   "source": [
    "Due to symmetry,  \n",
    "\n",
    "$$ F_1,F_2 = 0$$"
   ]
  },
  {
   "cell_type": "markdown",
   "id": "d8322b00-cb37-42a4-92d6-9cdbf3c28b79",
   "metadata": {},
   "source": [
    "That leaves us with the $z$-compliment.  \n",
    "\n",
    "$$ F_3 = aG\\int_0^{2\\pi}\\int_0^{\\phi_0}\\cos\\phi\\sin\\phi\\,\\mathrm{d}\\phi\\,\\mathrm{d}\\theta$$"
   ]
  },
  {
   "cell_type": "markdown",
   "id": "d7883aff-7b1b-4165-87ad-d5fb4230a53b",
   "metadata": {},
   "source": [
    "The inner integral of the above double integral is:  \n",
    "\n",
    "$$ \\int_0^{\\phi_0}\\cos\\phi\\sin\\phi\\,\\mathrm{d}\\phi = 0.5\\int_0^{\\phi_0}\\sin2\\phi\\,\\mathrm{d}\\phi$$"
   ]
  },
  {
   "attachments": {},
   "cell_type": "markdown",
   "id": "9aeef1e7-e4d8-49ae-9550-825c0e407b09",
   "metadata": {},
   "source": [
    "$$ = -\\frac{1}{4}\\big.\\cos2\\phi\\big]_0^{\\phi_0} = \\frac{1}{4}(1-\\cos2\\phi_0)$$"
   ]
  },
  {
   "cell_type": "markdown",
   "id": "d296afd2-3425-490f-b318-fe7dad5ed3b8",
   "metadata": {},
   "source": [
    "Finally,  \n",
    "\n",
    "$$ F_3 = \\frac{a\\pi G}{2}(1-\\cos2\\phi_0)$$"
   ]
  },
  {
   "cell_type": "markdown",
   "id": "356ee8ca-c759-4b53-8f5b-5313e3a8a38e",
   "metadata": {},
   "source": [
    "### Problem 3  \n",
    "\n",
    "$$ a = \\sqrt{2} \\quad\\quad \\phi_0 = \\frac{\\pi}{4}\\quad\\quad \\mathbf{F} = z\\,\\mathbf{k}$$"
   ]
  },
  {
   "cell_type": "markdown",
   "id": "e45b3dde-3783-4616-8a70-aa7aca5bf476",
   "metadata": {},
   "source": [
    "**a)**  The radius of $T$, denoted as $b$, is:  \n",
    "\n",
    "$$ \\sin\\phi_0 = \\frac{b}{a} \\quad\\therefore\\quad b = \\sqrt{2}\\sin \\frac{\\pi}{4} = \\frac{\\sqrt{2}}{\\sqrt{2}}= 1$$"
   ]
  },
  {
   "cell_type": "markdown",
   "id": "7b10dad2-d655-4007-a5e4-3a90d6654c8a",
   "metadata": {},
   "source": [
    "Via Pythagorean's theorem, the height of $T$, denoted as $h$, is given by:  \n",
    "\n",
    "$$ h^2 + b^2 = a^2 \\quad\\therefore\\quad h^2 = 2 - 1 = 1 \\quad\\therefore$$"
   ]
  },
  {
   "cell_type": "markdown",
   "id": "23319a74-4e8a-4561-9dea-6920ed2f21c9",
   "metadata": {},
   "source": [
    "$$ h = 1$$"
   ]
  },
  {
   "cell_type": "markdown",
   "id": "7ccedc86-2d53-4dbd-9310-ec3e0cf30a8a",
   "metadata": {},
   "source": [
    "Finally,  \n",
    "\n",
    "$$ \\Phi = \\iint_T \\mathbf{F}\\cdot \\mathbf{n}\\,\\mathrm{d}T = \\iint_T \\,\\mathrm{d}T$$"
   ]
  },
  {
   "cell_type": "markdown",
   "id": "5f224b7c-f5b3-4949-b029-dcc3c6e2c0ee",
   "metadata": {},
   "source": [
    "$$ = \\pi b^2 = \\pi$$"
   ]
  },
  {
   "cell_type": "markdown",
   "id": "4461da9b-e519-461d-8b79-cd59505113c4",
   "metadata": {},
   "source": [
    "**b)**  Let $\\mathcal{U}$ be the part of the cone that is bounded by the vertex and the intersection between said cone and our sphere.  And, let $\\mathcal{S}$ be the part of the sphere bounded by said sphere and intersection.  It now follows that:  \n",
    "\n",
    "$$\\iint_U \\mathbf{F}\\cdot\\mathrm{d}\\mathbf{U} = \\iint_T \\mathrm{d}T - \\iint_\\mathcal{U} \\mathbf{F}\\cdot\\mathbf{n}_\\mathcal{U}\\,\\mathrm{d}\\mathcal{U}$$"
   ]
  },
  {
   "cell_type": "markdown",
   "id": "bc665c19-0976-4f13-956b-3473e4574185",
   "metadata": {},
   "source": [
    "and  \n",
    "\n",
    "$$ \\iint_S \\mathbf{F}\\cdot\\mathrm{d}\\mathbf{S} = \\iint_\\mathcal{S} \\mathbf{F}\\cdot \\mathbf{n}_\\mathcal{S}\\,\\mathrm{d}\\mathcal{S}-\\iint_T\\mathrm{d}T$$"
   ]
  },
  {
   "cell_type": "markdown",
   "id": "2e2ad795-6284-405e-b885-13c4f4d9a0bf",
   "metadata": {},
   "source": [
    "Via the above two equations and Divergence theorem,  \n",
    "\n",
    "$$ \\iint_\\mathcal{U}\\mathbf{F}\\cdot\\mathbf{n}_\\mathcal{U}\\,\\mathrm{d}\\mathcal{U} = \\pi - \\iiint_{D_U}\\nabla \\cdot \\mathbf{F}\\,\\mathrm{d}V$$"
   ]
  },
  {
   "cell_type": "markdown",
   "id": "80cfe9f6-b88c-4f72-b22b-81b4b79196f5",
   "metadata": {},
   "source": [
    "and,  \n",
    "\n",
    "$$ \\iint_\\mathcal{S} \\mathbf{F}\\cdot\\mathbf{n}_\\mathcal{S}\\,\\mathrm{d}\\mathcal{S} = \\iiint_{D_S}\\nabla \\cdot \\mathbf{F}\\,\\mathrm{d}V + \\pi$$"
   ]
  },
  {
   "cell_type": "markdown",
   "id": "43a9fda1-299c-451a-88a2-7e594d47b968",
   "metadata": {},
   "source": [
    "where $D_U$ and $D_S$ are the regions enclosed by $U$ and $S$ respectively.  The divergence of $\\mathbf{F}$ is:  \n",
    "\n",
    "$$ \\nabla \\cdot \\mathbf{F} = 1$$"
   ]
  },
  {
   "cell_type": "markdown",
   "id": "6a5e2392-e83e-48fc-aa5e-040202c715d8",
   "metadata": {},
   "source": [
    "Thus,  \n",
    "\n",
    "$$ \\iint_\\mathcal{U}\\mathbf{F}\\cdot\\mathbf{n}_\\mathcal{U}\\,\\mathrm{d}\\mathcal{U} = \\pi - \\text{vol. } D_U $$"
   ]
  },
  {
   "cell_type": "markdown",
   "id": "a7481818-0769-404d-9997-732c0d0f14dc",
   "metadata": {},
   "source": [
    "The volume of the solid cone, $D_U$, is given by:  \n",
    "\n",
    "$$ \\text{vol. }D_U = \\int_0^{2\\pi}\\int_0^1\\int_r^1 r\\,\\mathrm{d}z\\,\\mathrm{d}r\\,\\mathrm{d}\\theta$$"
   ]
  },
  {
   "cell_type": "markdown",
   "id": "1ce87375-d823-46de-aa43-9c91fc7ad792",
   "metadata": {},
   "source": [
    "$$ = \\int_0^{2\\pi}\\int_0^1 \\big(r-r^2\\big)\\,\\mathrm{d}r\\,\\mathrm{d}\\theta = \\frac{1}{6}\\int_0^{2\\pi}\\mathrm{d}\\theta = \\frac{\\pi}{3}$$"
   ]
  },
  {
   "cell_type": "markdown",
   "id": "5ae0e239-c596-495d-abc0-9bdfda4a3f8a",
   "metadata": {},
   "source": [
    "Thus,  \n",
    "\n",
    "$$ \\iint_\\mathcal{U}\\mathbf{F}\\cdot\\mathbf{n}_\\mathcal{U}\\,\\mathrm{d}\\mathcal{U} = \\frac{2\\pi}{3}$$"
   ]
  },
  {
   "cell_type": "markdown",
   "id": "84302421-3a0b-42db-b5de-0403891f7c05",
   "metadata": {},
   "source": [
    "The upward flux of $\\mathbf{F}$ across $U$, denoted as $\\Phi_U$, is given by:  \n",
    "\n",
    "$$ \\Phi_U = \\iint_T\\mathrm{d}T + \\iint_\\mathcal{U}\\mathbf{F}\\cdot\\mathbf{n}_\\mathcal{U}\\,\\mathrm{d}\\mathcal{U} = \\pi + \\frac{2\\pi}{3} = \\frac{5\\pi}{3}$$"
   ]
  },
  {
   "cell_type": "markdown",
   "id": "63c5da9a-c927-474b-ad6a-cee8d0cc8016",
   "metadata": {},
   "source": [
    "Now, let's cross reference the volume of $D_U$ that we found via a triple integral against the one we find using a different method.  Let $A(z)$ be defined as:  \n",
    "\n",
    "$$ A(z) = \\pi a^2(z) \\quad\\quad\\text{where }\\, \\tan\\phi_0 = \\frac{a(z)}{z}\\quad\\text{or}\\quad a(z) = z$$"
   ]
  },
  {
   "cell_type": "markdown",
   "id": "458c4d56-a7f0-41a8-9cf4-130ec6f6c48f",
   "metadata": {},
   "source": [
    "or,  \n",
    "\n",
    "$$ A := A(z) = \\pi z^2$$"
   ]
  },
  {
   "cell_type": "markdown",
   "id": "450ada12-ad8b-4c4c-a505-bdcad28f2be6",
   "metadata": {},
   "source": [
    "The volume of said cone is given by:  \n",
    "\n",
    "$$ \\text{vol. } D_U = \\int_0^1 A(z)\\,\\mathrm{d}z = \\int_0^1\\pi z^2\\,\\mathrm{d}z$$"
   ]
  },
  {
   "cell_type": "markdown",
   "id": "e49289dd-54d7-4cd5-88c6-5a0b58dcb0f7",
   "metadata": {},
   "source": [
    "$$ = \\frac{\\pi}{3}$$"
   ]
  },
  {
   "cell_type": "markdown",
   "id": "1c34db7c-28b5-46f6-a154-62d7f0ef8662",
   "metadata": {},
   "source": [
    "Now, regarding the upward flux of $\\mathbf{F}$ across $S$,  \n",
    "\n",
    "$$ \\iint_\\mathcal{S} \\mathbf{F}\\cdot\\mathbf{n}_\\mathcal{S}\\,\\mathrm{d}\\mathcal{S} = \\text{vol. }D_S + \\pi$$"
   ]
  },
  {
   "cell_type": "markdown",
   "id": "54a6c6a5-489e-459d-a921-d2b79e71d1d1",
   "metadata": {},
   "source": [
    "The volume of our spherical cap, $D_S$, is given by:  \n",
    "\n",
    "$$ \\text{vol. }D_S = \\int_0^{2\\pi}\\int_0^{0.25\\pi}\\int_{\\rho(\\phi)}^\\sqrt{2} \\rho^2\\sin\\phi\\,\\mathrm{d}\\rho\\,\\mathrm{d}\\phi\\,\\mathrm{d}\\theta$$"
   ]
  },
  {
   "cell_type": "markdown",
   "id": "00a0d88b-fb28-4598-8b91-0e54feaa5637",
   "metadata": {},
   "source": [
    "where the lower limit of the innermost integral of the above triple integral is given by:  \n",
    "\n",
    "$$ \\cos\\phi = \\frac{1}{\\rho(\\phi)} \\quad\\therefore\\quad \\rho(\\phi) = \\sec\\phi$$"
   ]
  },
  {
   "cell_type": "markdown",
   "id": "9da6d961-2c1d-4231-9d91-5802f82291af",
   "metadata": {},
   "source": [
    "Thus,  \n",
    "\n",
    "$$ \\int_{\\sec\\phi}^\\sqrt{2} \\,\\rho^2\\sin\\phi\\,\\mathrm{d}\\rho = \\sin\\phi\\left(\\frac{2\\sqrt{2}}{3} - \\frac{\\sec^3\\!\\phi}{3}\\right)$$"
   ]
  },
  {
   "cell_type": "markdown",
   "id": "13ea0b02-d078-4f12-8a88-f2c8e1097222",
   "metadata": {},
   "source": [
    "Instead of finding $\\text{vol. } D_S$ by evaluating the above triple integral, let's try a different approach.  Let $A(z)$ be redefined as:  \n",
    "\n",
    "$$ A(z) = \\pi a^2(z) \\quad\\quad\\text{where }\\, a^2(z) + z^2 = a^2 \\quad\\text{or}\\quad a(z) = \\sqrt{2 - z^2}$$"
   ]
  },
  {
   "cell_type": "markdown",
   "id": "2225edb6-cf77-43cf-8257-4f5cf4394268",
   "metadata": {},
   "source": [
    "or  \n",
    "\n",
    "$$ A(z) = \\pi\\big(2-z^2\\big)$$"
   ]
  },
  {
   "cell_type": "markdown",
   "id": "df604b0e-8250-40b2-b3c2-1b99c901315c",
   "metadata": {},
   "source": [
    "The volume of our spherical cap is alternatively given by:  \n",
    "\n",
    "$$ \\text{vol. }D_S = \\int_1^\\sqrt{2} A(z)\\,\\mathrm{d}z = \\int_1^\\sqrt{2}2\\pi\\,\\mathrm{d}z - \\int_1^\\sqrt{2} \\pi z^2\\,\\mathrm{d}z$$"
   ]
  },
  {
   "attachments": {},
   "cell_type": "markdown",
   "id": "ce64b398-76e5-4339-8250-35591dd9aa33",
   "metadata": {},
   "source": [
    "$$ = 2\\pi\\Big(\\sqrt{2}-1\\Big) - \\frac{\\pi}{3}\\Big.z^3\\Big]_1^\\sqrt{2} = 2\\pi\\Big(\\sqrt{2}-1\\Big) + \\frac{\\pi}{3}\\Big(1 - 2\\sqrt{2}\\Big)$$"
   ]
  },
  {
   "attachments": {},
   "cell_type": "markdown",
   "id": "8197dd89-5f10-4281-8aac-72e40b49ab79",
   "metadata": {},
   "source": [
    "$$ = 2\\pi\\Big(\\sqrt{2}-1\\Big) - \\frac{\\pi}{3}\\Big(2\\sqrt{2}-1\\Big) = \\frac{4}{3}\\sqrt{2}\\pi + \\pi\\left(\\frac{1}{3}-2\\right)$$"
   ]
  },
  {
   "cell_type": "markdown",
   "id": "d66a622f-1c3e-47ed-a72b-9cd77b8c3cd8",
   "metadata": {},
   "source": [
    "$$ = \\pi\\left(\\frac{4\\sqrt{2}}{3} - \\frac{5}{3}\\right)$$"
   ]
  },
  {
   "cell_type": "markdown",
   "id": "7d242351-e27f-41cf-86e2-a4e37be6e9f5",
   "metadata": {},
   "source": [
    "$$ = \\frac{\\pi}{3}\\Big(4\\sqrt{2}-5\\Big)$$"
   ]
  },
  {
   "cell_type": "markdown",
   "id": "2091b40b-867e-4bde-8cf6-f1d22e9bb599",
   "metadata": {},
   "source": [
    "Thus, the flux of $\\mathbf{F}$ across $\\mathcal{S}$ is:  \n",
    "\n",
    "$$ \\iint_\\mathcal{S} \\mathbf{F}\\cdot\\mathbf{n}_\\mathcal{S}\\,\\mathrm{d}\\mathcal{S} = \\frac{\\pi}{3}\\Big(4\\sqrt{2}-5\\Big) + \\pi$$"
   ]
  },
  {
   "cell_type": "markdown",
   "id": "a39c5b0c-e4cd-4570-b7ec-a884f263894f",
   "metadata": {},
   "source": [
    "Finally, the the upward flux of $\\mathbf{F}$ across $S$, denoted as $\\Phi_S$, is:  \n",
    "\n",
    "$$ \\Phi_S = \\iint_\\mathcal{S}\\mathbf{F}\\cdot\\mathbf{n}_\\mathcal{S}\\,\\mathrm{d}\\mathcal{S} + \\iint_T \\mathrm{d}T = \\frac{\\pi}{3}\\Big(4\\sqrt{2}-5\\Big) + 2\\pi$$"
   ]
  },
  {
   "cell_type": "markdown",
   "id": "fd2af860-cda7-42b2-9f63-499f9bd00de3",
   "metadata": {},
   "source": [
    "### Problem 4  \n",
    "\n",
    "$$ f(x,y,z) = \\frac{1}{\\rho} = \\frac{1}{\\sqrt{x^2+y^2+z^2}}$$"
   ]
  },
  {
   "cell_type": "markdown",
   "id": "6b523075-835c-4dd6-9792-365b1dadbbf2",
   "metadata": {},
   "source": [
    "**a)**  \n",
    "\n",
    "$$ \\mathbf{F} = \\nabla f $$"
   ]
  },
  {
   "cell_type": "markdown",
   "id": "95585f88-cf39-44fd-8289-8c3ea6caf891",
   "metadata": {},
   "source": [
    "The $x$-compliment of $\\mathbf{F}$ is given by:  \n",
    "\n",
    "$$ f_x = \\frac{\\partial f}{\\partial x} = -\\frac{1}{2}\\,\\frac{2x}{\\sqrt{\\big(x^2+y^2+z^2\\big)^3}}$$"
   ]
  },
  {
   "cell_type": "markdown",
   "id": "68a171eb-02e7-4185-b0bd-9ceab461d20a",
   "metadata": {},
   "source": [
    "$$ = -\\frac{x}{\\rho^3} = -\\frac{r\\cos\\theta}{\\rho^3} = -\\frac{\\sin\\phi\\cos\\theta}{\\rho^2}$$"
   ]
  },
  {
   "cell_type": "markdown",
   "id": "08bd0b29-0a34-4e69-baa8-776076704588",
   "metadata": {},
   "source": [
    "Moreover, the $y$ and $z$ compliments of $\\mathbf{F}$ are:  \n",
    "\n",
    "$$ f_y,f_z = -\\frac{y}{\\rho^3}, -\\frac{z}{\\rho^3} \\quad\\therefore$$"
   ]
  },
  {
   "cell_type": "markdown",
   "id": "760fc63d-6dfd-48e4-8d01-9f7e6d92aca8",
   "metadata": {},
   "source": [
    "$$ f_y = -\\frac{\\sin\\phi\\sin\\theta}{\\rho^2} \\quad\\quad\\text{and}\\quad\\quad f_z = -\\frac{\\cos\\phi}{\\rho^2}$$"
   ]
  },
  {
   "cell_type": "markdown",
   "id": "81562135-76a0-47b8-837e-290f37f424e0",
   "metadata": {},
   "source": [
    "Thus,  \n",
    "\n",
    "$$ \\mathbf{F} = -\\frac{\\langle x,y,z\\rangle}{\\rho^3} = -\\frac{1}{\\rho^2}\\Big(\\sin\\phi\\cos\\theta\\,\\mathbf{i} + \\sin\\phi\\sin\\theta\\,\\mathbf{j} + \\cos\\phi\\,\\mathbf{k}\\Big)$$"
   ]
  },
  {
   "cell_type": "markdown",
   "id": "8a0e6c7e-3e3c-4f7d-8bf8-70fda3f508a0",
   "metadata": {},
   "source": [
    "The divergence of $\\mathbf{F}$ is given by  \n",
    "\n",
    "$$ \\nabla \\cdot \\mathbf{F} = \\nabla^2 f = f_{xx} + f_{yy} + f_{zz}$$"
   ]
  },
  {
   "cell_type": "markdown",
   "id": "494a966b-a3ca-46c9-8a52-a2b2443baac8",
   "metadata": {},
   "source": [
    "$$ f_{xx} = \\frac{\\partial^2 f}{\\partial x^2} = -\\frac{1}{\\rho^3} + \\frac{3}{2}\\frac{2x^2}{\\rho^5}$$"
   ]
  },
  {
   "cell_type": "markdown",
   "id": "2b1f3a0a-d85d-46b3-9fa1-7b27b54c8e30",
   "metadata": {},
   "source": [
    "$$ = \\frac{3x^2 - \\rho^2}{\\rho^5}$$"
   ]
  },
  {
   "cell_type": "markdown",
   "id": "ea504190-38dc-4c55-80ca-1dadcca30531",
   "metadata": {},
   "source": [
    "$$ = \\frac{2x^2 - y^2 - z^2}{\\rho^5}$$"
   ]
  },
  {
   "cell_type": "markdown",
   "id": "7bc0921f-e11e-42cc-9f3e-b70f3c1728bb",
   "metadata": {},
   "source": [
    "$$ f_{yy} = \\frac{2y^2 - x^2 - z^2}{\\rho^5} \\quad\\quad\\text{and}\\quad\\quad f_{zz} = \\frac{2z^2 - x^2 - y^2}{\\rho^5}$$"
   ]
  },
  {
   "cell_type": "markdown",
   "id": "e5e77bd9-7b10-483e-81fa-b7995d91d96e",
   "metadata": {},
   "source": [
    "Finally, via the above four equations,  \n",
    "\n",
    "$$ \\nabla \\cdot \\mathbf{F} = \\frac{2x^2 - 2x^2 + 2y^2 - 2y^2 + 2z^2 - 2z^2}{\\rho^5} = 0$$"
   ]
  },
  {
   "cell_type": "markdown",
   "id": "a112cfa4-c1fa-415c-825b-1f6c2a1f6053",
   "metadata": {},
   "source": [
    "**b)**  Let $S$ be our sphere.  The outward flux of $\\mathbf{F}$ across $S$ is given by:  \n",
    "\n",
    "$$ \\Phi = \\iint_S \\mathbf{F}\\cdot \\mathbf{n}\\,\\mathrm{d}S $$"
   ]
  },
  {
   "cell_type": "markdown",
   "id": "adfdb0b3-4531-4c46-875f-bddf6e5493da",
   "metadata": {},
   "source": [
    "where,  \n",
    "\n",
    "$$\\mathbf{n} = \\frac{\\langle x,y,z\\rangle}{\\rho} \\quad\\quad\\text{and}\\quad\\quad \\mathrm{d}S = \\rho^2\\sin\\phi\\,\\mathrm{d}\\phi\\,\\mathrm{d}\\theta $$"
   ]
  },
  {
   "cell_type": "markdown",
   "id": "72d90c2b-8b1e-4174-8a28-7dc4ed246186",
   "metadata": {},
   "source": [
    "Recall that  \n",
    "\n",
    "$$ \\mathbf{F} = -\\frac{\\langle x,y,z\\rangle}{\\rho^3}$$"
   ]
  },
  {
   "cell_type": "markdown",
   "id": "18cd7482-9723-4296-9394-baace8164e92",
   "metadata": {},
   "source": [
    "The component of $\\mathbf{F}$ in the direction that is normal to $S$ is given by:  \n",
    "\n",
    "$$ \\mathbf{F}\\cdot \\mathbf{n} = - \\frac{\\rho^2}{\\rho^4} = -\\frac{1}{\\rho^2}$$"
   ]
  },
  {
   "cell_type": "markdown",
   "id": "fdaabd76-23d7-4779-a0db-aaebc673eb0c",
   "metadata": {},
   "source": [
    "Thus,  \n",
    "\n",
    "$$ \\mathbf{F}\\cdot\\mathbf{n}\\,\\mathrm{d}S = -\\sin\\phi\\,\\mathrm{d}\\phi\\,\\mathrm{d}\\theta$$"
   ]
  },
  {
   "cell_type": "markdown",
   "id": "8067017a-0667-4786-a720-f9ee00fe82d6",
   "metadata": {},
   "source": [
    "$$ \\Phi = -\\int_0^{2\\pi}\\int_0^\\pi\\sin\\phi\\,\\mathrm{d}\\phi\\,\\mathrm{d}\\theta$$"
   ]
  },
  {
   "cell_type": "markdown",
   "id": "7a80ef0b-b347-44f1-b6cd-540dd4214417",
   "metadata": {},
   "source": [
    "$$ - 4\\pi$$"
   ]
  },
  {
   "cell_type": "markdown",
   "id": "b0233cd3-b0e9-48d9-bf81-147a1f835823",
   "metadata": {},
   "source": [
    "Said flux not being equal to zero does not contradict Divergence theorem because said theorem does not apply, since $f$ is undefined at origin which is enclosed by $S$.  Ultimately, Divergence theorem assumes something that isn't satisfied by the described system or structure."
   ]
  },
  {
   "cell_type": "markdown",
   "id": "29a62d29-9d49-4ab4-a848-090be26d9033",
   "metadata": {},
   "source": [
    "**c)**  First we start with the 2d case, which applies Extended Green's theorem.  Then we move on to 3d case, which applies Extended Divergence theorem.  Both cases and theorems are analogous to one another."
   ]
  },
  {
   "cell_type": "markdown",
   "id": "27dc2323-b0b1-4a22-9de3-640911219e3c",
   "metadata": {},
   "source": [
    "#### Extended Green's Theorem  \n",
    "\n",
    "Let $U$ be a curve enclosing origin and $C$ be a circle with a radius of $a$ enclosing $U$.  Both curves are positvely oriented.  Also let:  \n",
    "\n",
    "$$ f(x,y) = \\frac{1}{r} = \\frac{1}{\\sqrt{x^2+y^2}} \\quad\\quad\\text{and}\\quad\\quad \\mathbf{F} = \\nabla f$$"
   ]
  },
  {
   "cell_type": "markdown",
   "id": "fdd9a4ce-c551-46c7-984b-b4d2762accfe",
   "metadata": {},
   "source": [
    "The $x$ and $y$ compliments of $\\mathbf{F}$ are given by:  \n",
    "\n",
    "$$ f_x = \\frac{\\partial f}{\\partial x} = -\\frac{1}{2}\\frac{2x}{r^3} = -\\frac{x}{r^3}$$"
   ]
  },
  {
   "cell_type": "markdown",
   "id": "6ede6a85-faca-451b-bb6f-3d584abb3385",
   "metadata": {},
   "source": [
    "$$ f_y = -\\frac{y}{r^3} = -\\frac{\\sin\\theta}{r^2}$$"
   ]
  },
  {
   "cell_type": "markdown",
   "id": "c0f422e2-845e-4da8-be19-45f2eea62d81",
   "metadata": {},
   "source": [
    "Thus,  \n",
    "\n",
    "$$ \\mathbf{F} = - \\frac{\\langle x,y\\rangle}{r^3} = -\\frac{1}{r^2}\\Big(\\cos\\theta\\,\\mathbf{i} + \\sin\\theta\\,\\mathbf{j}\\Big)$$"
   ]
  },
  {
   "cell_type": "markdown",
   "id": "89053859-c4eb-43f9-80c0-a7c0a3a52c2a",
   "metadata": {},
   "source": [
    "The flux of $\\mathbf{F}$ across $C$ is given by:  \n",
    "\n",
    "$$ \\Phi = \\int_C \\mathbf{F}\\cdot\\mathbf{n}\\,\\mathrm{d}s $$"
   ]
  },
  {
   "cell_type": "markdown",
   "id": "e8e1169e-1dae-4af1-b75d-25ce2fc52b2b",
   "metadata": {},
   "source": [
    "$$\\mathbf{n} = \\frac{\\langle x.y\\rangle}{r}\\quad\\quad\\text{and}\\quad\\quad \\mathbf{F}\\cdot\\mathbf{n} = -\\frac{1}{r^4}\\cdot r^2 = - \\frac{1}{r^2}$$"
   ]
  },
  {
   "cell_type": "markdown",
   "id": "12f2435a-0552-43f4-a99d-b58bd85d5185",
   "metadata": {},
   "source": [
    "$$ \\mathrm{d}s = r\\,\\mathrm{d}\\theta$$"
   ]
  },
  {
   "cell_type": "markdown",
   "id": "1479d0b1-1f1c-4416-86b7-a0e3f26b9346",
   "metadata": {},
   "source": [
    "Thus,  \n",
    "\n",
    "$$ \\Phi = -\\frac{1}{a}\\int_0^{2\\pi}\\mathrm{d}\\theta = -\\frac{2\\pi}{a}$$"
   ]
  },
  {
   "cell_type": "markdown",
   "id": "8da86359-1584-44cc-983c-735b1a96f6a4",
   "metadata": {},
   "source": [
    "The divergence of $\\mathbf{F}$ is given by:  \n",
    "\n",
    "$$ \\nabla \\cdot \\mathbf{F} = f_{xx} + f_{yy}$$"
   ]
  },
  {
   "cell_type": "markdown",
   "id": "37e5d0ba-fd2c-46eb-bb9a-d02c3338e174",
   "metadata": {},
   "source": [
    "$$ f_{xx} = -\\frac{1}{r^3} + \\frac{3}{2}\\,\\frac{2x^2}{r^5} = \\frac{3x^2 - r^2}{r^5} = \\frac{2x^2 - y^2}{r^5}$$"
   ]
  },
  {
   "cell_type": "markdown",
   "id": "c5a9db20-7005-4eef-9d48-26c7de808eb3",
   "metadata": {},
   "source": [
    "$$ f_{yy} = \\frac{2y^2-x^2}{r^5}$$"
   ]
  },
  {
   "cell_type": "markdown",
   "id": "53ec5d87-dd03-4f13-b6cb-178d079092bd",
   "metadata": {},
   "source": [
    "#### Extended Divergence Theorem  \n",
    "\n",
    "Let $S$ be a sphere of radius $a$ that encloses origin and  \n",
    "\n",
    "$$ f(x,y,z) = \\frac{1}{\\rho}\\quad\\quad\\text{and}\\quad\\quad \\mathbf{F} = \\nabla f$$"
   ]
  },
  {
   "cell_type": "markdown",
   "id": "e5003420-7327-40c9-b4b9-6f27574d5b9a",
   "metadata": {},
   "source": [
    "**Proposition**:  \n",
    "\n",
    "$$ \\iint_U \\mathbf{F}\\cdot \\mathbf{n}_U\\,\\mathrm{d}U = \\iint_S \\mathbf{F}\\cdot\\mathbf{n}\\,\\mathrm{d}S = -4\\pi$$"
   ]
  },
  {
   "cell_type": "markdown",
   "id": "bd4d5fb9-5acd-46e9-ba82-ea4f1156d236",
   "metadata": {},
   "source": [
    "for any surface $U$ the encloses origin.  Note that it is presupposed that $a$ is such that $S$ fully encloses $U$."
   ]
  },
  {
   "cell_type": "markdown",
   "id": "beedfea0-5a61-4334-a343-d9321e3775c9",
   "metadata": {},
   "source": [
    "**Proof**:  Let $D$ be the region that is bounded by $S$ and $U$ and $Q$ be the portion of the plane through the origin that connect $S$ to $U$.  Said plane divides $D$ into two parts, $D_1$ and $D_2$.  The orientation of $Q$ is such that it's 'positive' side faces $D_2$, which means that it's unit normal, $\\mathbf{n}_Q$, always points towards $D_2$."
   ]
  },
  {
   "cell_type": "markdown",
   "id": "ac0010c7-1d14-4d71-839f-9aaa59646123",
   "metadata": {},
   "source": [
    "Also, let $S_1$ and $U_1$ be the portions of $S$ and $U$ respectively that abbut $D_1$ and let $S_2$ and $U_2$ be the portions of $S$ and $U$ that abbut $D_2$.  The orientation of $S_1$ and $S_2$ is the same as $S$, while the orientation of $U_1$ and $U_2$ is the opposite of $U$."
   ]
  },
  {
   "cell_type": "markdown",
   "id": "a2dc9a21-3bb1-41dd-8725-b52aa3caf76f",
   "metadata": {},
   "source": [
    "Via Divergence Theorem,  \n",
    "\n",
    "$$ \\iint_{S_1}\\mathbf{F}\\cdot\\mathbf{n}\\,\\mathrm{d}S + \\iint_Q \\mathbf{F}\\cdot\\mathbf{n}_Q\\,\\mathrm{d}Q - \\iint_{U_1}\\mathbf{F}\\cdot\\mathbf{n}_U\\,\\mathrm{d}U = \\iiint_{D_1}\\nabla \\cdot \\mathbf{F}\\,\\mathrm{d}V $$"
   ]
  },
  {
   "cell_type": "markdown",
   "id": "3255d83d-b44c-468a-8727-ddaa11960a2b",
   "metadata": {},
   "source": [
    "Via the above and the fact that the potential of $\\mathbf{F}$ is harmonic,  \n",
    "\n",
    "\\begin{equation}\\tag{P1}\n",
    "    \\iint_Q\\mathbf{F}\\cdot\\mathbf{n}_Q\\,\\mathrm{Q} = \\iint_{U_1}\\mathbf{F}\\cdot\\mathbf{n}_U\\,\\mathrm{d}U - \\iint_{S_1}\\mathbf{F}\\cdot\\mathbf{n}\\,\\mathrm{d}S\n",
    "\\end{equation}"
   ]
  },
  {
   "cell_type": "markdown",
   "id": "a328a544-7836-4d19-8b20-8e304e96f718",
   "metadata": {},
   "source": [
    "Via Divergence Theorem,  \n",
    "\n",
    "$$ \\iint_{S_2}\\mathbf{F}\\cdot\\mathbf{n}\\,\\mathrm{d}S - \\iint_Q \\mathbf{F}\\cdot\\mathbf{n}_Q\\,\\mathrm{d}Q - \\iint_{U_2}\\mathbf{F}\\cdot\\mathbf{n}_U\\,\\mathrm{d}U = \\iiint_{D_2}\\nabla \\cdot \\mathbf{F}\\,\\mathrm{d}V$$"
   ]
  },
  {
   "cell_type": "markdown",
   "id": "e21e18a0-34a6-4d84-bcd7-8acacc582caa",
   "metadata": {},
   "source": [
    "Via the above and the fact that the potential of $\\mathbf{F}$ is harmonic,  \n",
    "\n",
    "\\begin{equation}\\tag{P2}\n",
    "    \\iint_Q \\mathbf{F}\\cdot\\mathbf{n}_Q\\,\\mathrm{d}Q = \\iint_{S_2}\\mathbf{F}\\cdot\\mathbf{n}\\,\\mathrm{d}S - \\iint_{U_2}\\mathbf{F}\\cdot\\mathbf{n}_U\\,\\mathrm{d}U\n",
    "\\end{equation}"
   ]
  },
  {
   "cell_type": "markdown",
   "id": "40c30857-8bbb-440f-a41c-1f5bce37116f",
   "metadata": {},
   "source": [
    "Via equation (P1) and (P2),  \n",
    "\n",
    "$$ \\iint_{S_1}\\mathbf{F}\\cdot\\mathbf{n}\\,\\mathrm{d}S + \\iint_{S_2}\\mathbf{F}\\cdot \\mathbf{n}\\,\\mathrm{d}S = \\iint_{U_1}\\mathbf{F}\\cdot\\mathbf{n}_U\\,\\mathrm{d}U + \\iint_{U_2}\\mathbf{F}\\cdot\\mathbf{n}_U\\,\\mathrm{d}U$$"
   ]
  },
  {
   "cell_type": "markdown",
   "id": "77b7bcda-186e-46cf-8c88-52f05cf9aa64",
   "metadata": {},
   "source": [
    "Therefore our proposition.  Q.E.D."
   ]
  },
  {
   "cell_type": "markdown",
   "id": "be31e4ef-35ed-4260-ad81-e7153f5ae116",
   "metadata": {},
   "source": [
    "### Problem 5  \n",
    "\n",
    "The Laplacian of a function of three variables is defined by $\\displaystyle \\nabla^2 f = f_{xx} + f_{yy} + f_{zz}$.  Suppose that the simple closed surface $S$ is the iso-surface of some smooth function $f(x,y,z)$, that is, the set of points in 3-space satisfying $f(x,y,z)=c$ for some constant $c$.  Use Divergence theorem to show that if $g$ is the interior of $S$, then  \n",
    "\n",
    "$$ \\iint_S |\\nabla f|\\,\\mathrm{d}S = \\pm \\iiint_G \\nabla^2 f\\,\\mathrm{d}V$$"
   ]
  },
  {
   "cell_type": "markdown",
   "id": "a8a0a380-b9fa-49bf-b721-70ec3aa745e2",
   "metadata": {},
   "source": [
    "**Proof**:  Our surface is given by:  \n",
    "\n",
    "$$ S:\\; f(x,y,z) = c = \\mathit{const}$$"
   ]
  },
  {
   "cell_type": "markdown",
   "id": "5dd470c8-32f4-4ecf-887a-55ddb35c3d4d",
   "metadata": {},
   "source": [
    "Let $\\mathbf{F}$ be the gradient of $f(x,y,z)$.  \n",
    "\n",
    "\\begin{equation}\\tag{5.1}\n",
    "    \\mathbf{F} = \\nabla f \\quad\\therefore\\quad \\nabla \\cdot \\mathbf{F} = \\nabla ^2 f\n",
    "\\end{equation}"
   ]
  },
  {
   "cell_type": "markdown",
   "id": "2a53b0e2-a3c5-4c11-aa57-b883e067a613",
   "metadata": {},
   "source": [
    "It follows that the Laplacian of $f$ is equal to the divergence of $\\mathbf{F}$.  The gradient of $f$ is perpendicular to any level curve of $f$.  Therefore,  \n",
    "\n",
    "\\begin{equation}\\tag{5.2}\n",
    "    \\mathbf{F}\\cdot\\mathbf{n} = \\pm |\\mathbf{F}|\n",
    "\\end{equation}"
   ]
  },
  {
   "cell_type": "markdown",
   "id": "4f78102e-99b2-49a2-b4c1-470c0aefc31b",
   "metadata": {},
   "source": [
    "where $n$ is the unit normal of $S$ and is oriented such that it always points away from $G$.  Via Divergence Theorem,  \n",
    "\n",
    "$$ \\iint_S \\mathbf{F}\\cdot\\mathbf{n}\\,\\mathrm{d}S = \\iiint_G \\nabla \\cdot \\mathbf{F} \\,\\mathrm{d}V$$"
   ]
  },
  {
   "cell_type": "markdown",
   "id": "0a6d27e7-97b9-42f7-810b-abd9cdea4219",
   "metadata": {},
   "source": [
    "Via the above two equations and both the minor premise and proposition of (5.1), we have our proposition."
   ]
  }
 ],
 "metadata": {
  "kernelspec": {
   "display_name": "Python 3 (ipykernel)",
   "language": "python",
   "name": "python3"
  },
  "language_info": {
   "codemirror_mode": {
    "name": "ipython",
    "version": 3
   },
   "file_extension": ".py",
   "mimetype": "text/x-python",
   "name": "python",
   "nbconvert_exporter": "python",
   "pygments_lexer": "ipython3",
   "version": "3.10.12"
  }
 },
 "nbformat": 4,
 "nbformat_minor": 5
}
