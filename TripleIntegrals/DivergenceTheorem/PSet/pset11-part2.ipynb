{
 "cells": [
  {
   "cell_type": "markdown",
   "id": "5fc074b7-d20d-47b8-8972-243eda3e6549",
   "metadata": {},
   "source": [
    "# Problem Set 11  \n",
    "\n",
    "## Part II"
   ]
  },
  {
   "cell_type": "code",
   "execution_count": 1,
   "id": "61a7a32e-6b35-434e-a4bd-b3bcde002eea",
   "metadata": {},
   "outputs": [],
   "source": [
    "import numpy as np\n",
    "import matplotlib.pyplot as plt\n",
    "import matplotlib as mpl"
   ]
  },
  {
   "cell_type": "markdown",
   "id": "9f6c921f-47f1-42ed-85ca-5f29b9823c74",
   "metadata": {},
   "source": [
    "### Problem 1   \n",
    "\n",
    "Suppose our sphere $S$ is centered at origin, and, in $x,y,z$-coordinates, our fixed point, henceforth $A$, is the north pole of our sphere while $B$ is any point resting on $S$.    \n",
    "\n",
    "$$ A = (0,0,a) \\quad\\quad\\text{and}\\quad\\quad B = (x,y,z)$$"
   ]
  },
  {
   "cell_type": "markdown",
   "id": "d2373720-a2c8-4d87-a097-f569cb00319b",
   "metadata": {},
   "source": [
    "where,  \n",
    "\n",
    "$$ x^2 + y^2 + z^2 = a^2$$"
   ]
  },
  {
   "cell_type": "markdown",
   "id": "562b4fb5-13fe-4727-bf21-a627744c0a90",
   "metadata": {},
   "source": [
    "It follows that the average distance $\\overline{d}$ between $A$ and $B$ is given by:  \n",
    "\n",
    "$$ \\overline{d} = \\text{avg. }|\\overline{AB}| = \\frac{\\iint_S |\\overline{AB}|\\,\\mathrm{d}S}{\\iint_S \\,\\mathrm{d}S}$$"
   ]
  },
  {
   "cell_type": "markdown",
   "id": "f82ab03e-07a0-497c-9946-352648c81005",
   "metadata": {},
   "source": [
    "Now, let  \n",
    "\n",
    "$$ \\mathbf{A}:= \\langle 0,0,a\\rangle \\quad\\quad\\text{and}\\quad\\quad \\mathbf{B} := \\mathbf{B}(x,y) = \\big\\langle x,y,\\pm\\sqrt{a^2-x^2-y^2}\\big\\rangle$$"
   ]
  },
  {
   "cell_type": "markdown",
   "id": "8cc2e384-22d9-422d-b512-e170409e08cd",
   "metadata": {},
   "source": [
    "$$ \\mathbf{F} = \\mathbf{B}- \\mathbf{A} = \\langle x,y,z-a\\rangle$$"
   ]
  },
  {
   "cell_type": "markdown",
   "id": "b31667e3-cd27-4cd3-b0cc-d14dcd4200b8",
   "metadata": {},
   "source": [
    "$$ |\\overline{AB}| = |\\mathbf{F}| = \\sqrt{x^2+y^2 + z^2 - 2za + a^2}$$"
   ]
  },
  {
   "cell_type": "markdown",
   "id": "122803cd-05d3-4bb4-9b1a-7fd286465b57",
   "metadata": {},
   "source": [
    "$$ = \\sqrt{2a^2 - 2za} = \\sqrt{2a(a-z)}$$"
   ]
  },
  {
   "cell_type": "markdown",
   "id": "6a71bb7a-5857-4624-b8bc-6a80f98a25d4",
   "metadata": {},
   "source": [
    "In spherical coordinates:  \n",
    "\n",
    "$$ |\\mathbf{F}| = \\sqrt{2a(a-\\rho\\cos\\phi)} = \\sqrt{2a(a-a\\cos\\phi)} = a\\sqrt{2(1-\\cos\\phi)}$$"
   ]
  },
  {
   "cell_type": "markdown",
   "id": "65f37316-a16a-4d24-8692-df3303893a21",
   "metadata": {},
   "source": [
    "The surface area element is given by:  \n",
    "\n",
    "$$ \\mathrm{d}S = \\rho^2\\sin\\phi\\,\\mathrm{d}\\phi\\,\\mathrm{d}\\theta = a^2\\sin\\phi\\,\\mathrm{d}\\phi\\,\\mathrm{d}\\theta$$"
   ]
  },
  {
   "cell_type": "markdown",
   "id": "8e7f9dce-3ec0-4017-a13e-5463c20b4005",
   "metadata": {},
   "source": [
    "The surface area of $S$ is given by:  \n",
    "\n",
    "$$ \\iint_S\\mathrm{d}S = \\int_0^{2\\pi}\\int_0^\\pi a^2\\sin\\phi\\,\\mathrm{d}\\phi\\,\\mathrm{d}\\theta$$"
   ]
  },
  {
   "cell_type": "markdown",
   "id": "4b4b38b8-60fd-4525-891a-a16941f6cbd4",
   "metadata": {},
   "source": [
    "$$ \\int_0^\\pi\\sin\\phi\\,\\mathrm{d}\\phi = -\\cos\\phi]_0^\\pi =  \\cos 0-\\cos\\pi = 2$$"
   ]
  },
  {
   "cell_type": "markdown",
   "id": "7bd398be-93bb-402e-b422-d42efd0a5a6c",
   "metadata": {},
   "source": [
    "$$ \\iint_S\\,\\mathrm{d}S = 2a^2\\int_0^{2\\pi}\\mathrm{d}\\theta = 4\\pi a^2$$"
   ]
  },
  {
   "cell_type": "markdown",
   "id": "16c73803-5d56-4e73-99de-9374e57e2c2e",
   "metadata": {},
   "source": [
    "Thus,  \n",
    "\n",
    "$$ \\overline{d} = \\frac{\\iint_S |\\mathbf{F}|\\,\\mathrm{d}S}{4\\pi a^2}$$"
   ]
  },
  {
   "cell_type": "markdown",
   "id": "d117dafd-3bbd-4c49-af15-ed63738b7268",
   "metadata": {},
   "source": [
    "$$ \\iint_S|\\mathbf{F}|\\,\\mathrm{d}S = a^3\\sqrt{2}\\int_0^{2\\pi}\\int_0^\\pi\\sqrt{1-\\cos\\phi}\\sin\\phi\\,\\mathrm{d}\\phi\\,\\mathrm{d}\\theta $$"
   ]
  },
  {
   "cell_type": "markdown",
   "id": "0c24cfdb-62c3-447b-9645-91848cdb9635",
   "metadata": {},
   "source": [
    "$$ f(\\phi) := \\int\\sqrt{1-\\cos\\phi}\\sin\\phi\\,\\mathrm{d}\\phi = \\frac{2}{3}\\sqrt{(1-\\cos\\phi)^3} + K$$"
   ]
  },
  {
   "cell_type": "markdown",
   "id": "7884656e-a991-494d-9894-3b53a228e1d4",
   "metadata": {},
   "source": [
    "$$ \\int_0^\\pi\\sqrt{1-\\cos\\phi}\\sin\\phi\\,\\mathrm{d}\\phi = f(\\pi) - f(0) = \\frac{2}{3}\\sqrt{8} = \\frac{4\\sqrt{2}}{3}$$"
   ]
  },
  {
   "cell_type": "markdown",
   "id": "b867fdca-d593-4467-af3b-dcbc5fd6da57",
   "metadata": {},
   "source": [
    "Thus,  \n",
    "\n",
    "$$ \\iint_S|\\mathbf{F}|\\,\\mathrm{d}S = \\frac{8a^3}{3}\\int_0^{2\\pi}\\mathrm{d}\\theta = \\frac{16\\pi a^3}{3}$$"
   ]
  },
  {
   "cell_type": "markdown",
   "id": "a4a5033f-e0d9-4fc4-abc2-aeb8bb268b74",
   "metadata": {},
   "source": [
    "Finally,  \n",
    "\n",
    "$$ \\overline{d} = \\frac{16\\pi a^3}{3}\\,\\frac{1}{4\\pi a^2} = \\frac{4 a}{3}$$"
   ]
  }
 ],
 "metadata": {
  "kernelspec": {
   "display_name": "Python 3 (ipykernel)",
   "language": "python",
   "name": "python3"
  },
  "language_info": {
   "codemirror_mode": {
    "name": "ipython",
    "version": 3
   },
   "file_extension": ".py",
   "mimetype": "text/x-python",
   "name": "python",
   "nbconvert_exporter": "python",
   "pygments_lexer": "ipython3",
   "version": "3.10.12"
  }
 },
 "nbformat": 4,
 "nbformat_minor": 5
}
