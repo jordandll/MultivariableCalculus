{
 "cells": [
  {
   "cell_type": "markdown",
   "id": "86cde738-8b20-4f6d-9928-aa07d4994de7",
   "metadata": {},
   "source": [
    "# Problem Set 11\n",
    "\n",
    "## Part I  "
   ]
  },
  {
   "cell_type": "code",
   "execution_count": 1,
   "id": "41e1d9db-41b0-42cd-bf75-b18d9792df87",
   "metadata": {},
   "outputs": [],
   "source": [
    "import numpy as np\n",
    "import matplotlib.pyplot as plt\n",
    "import matplotlib as mpl"
   ]
  },
  {
   "cell_type": "markdown",
   "id": "d84ed33c-0ee4-4eac-9237-1a48694bd620",
   "metadata": {},
   "source": [
    "### Surface Integrals and Flux  "
   ]
  },
  {
   "cell_type": "markdown",
   "id": "6a7988ec-75d2-4b6d-bf16-ac55334b7490",
   "metadata": {},
   "source": [
    "#### $\\S 6\\mathrm{A} : 1$  \n",
    "\n",
    "**a)**  A field of unit vectors that radiates outward from origin.  \n",
    "\n",
    "**b)**  A field of vectors that are parallel to the $xz$-plane and thus are perpendicular to $y$-axis.  The field radiates inward toward the $y$-axis and has a magnitude that is equal to the distance from said axis."
   ]
  },
  {
   "cell_type": "markdown",
   "id": "27bb24e3-7e70-40e5-a8f4-d37432a55da5",
   "metadata": {},
   "source": [
    "#### $\\S 6\\mathrm{A} : 2$  \n",
    "\n",
    "$$ \\mathbf{F} = -0.5\\langle x,y,z\\rangle$$"
   ]
  },
  {
   "cell_type": "markdown",
   "id": "2d4275f9-3abb-463d-914e-79f4097f917f",
   "metadata": {},
   "source": [
    "#### $\\S 6\\mathrm{A} : 3$  \n",
    "\n",
    "$$ \\mathbf{F} = \\omega\\langle 0,-z,y\\rangle$$"
   ]
  },
  {
   "cell_type": "markdown",
   "id": "df47bb17-69a2-452a-aeb6-96f6969512d8",
   "metadata": {},
   "source": [
    "#### $\\S 6\\mathrm{A} : 4$  \n",
    "\n",
    "$$ S:\\; 3x-4y + z = 2$$"
   ]
  },
  {
   "cell_type": "markdown",
   "id": "32c5d205-67bf-43d6-83e4-6cbbf6fa6237",
   "metadata": {},
   "source": [
    "For a vector field $\\mathbf{F}$ to be parallel to $S$, the following must hold true:  \n",
    "\n",
    "$$ \\mathbf{F} \\cdot \\langle 3,-4,1\\rangle = 3F_x - 4F_y + F_z = 0$$"
   ]
  },
  {
   "cell_type": "markdown",
   "id": "91bf61d7-8445-4eb9-9728-cd6b2db2be8e",
   "metadata": {},
   "source": [
    "$$ F_z = 4F_y - 3F_x $$"
   ]
  },
  {
   "cell_type": "markdown",
   "id": "22cb1db8-2501-4d59-92fe-6092effc1868",
   "metadata": {},
   "source": [
    "Thus,  \n",
    "\n",
    "$$ \\mathbf{F} = \\langle M,N,P\\rangle$$"
   ]
  },
  {
   "cell_type": "markdown",
   "id": "5d01d69a-1e80-4619-8a1b-a5da30c88794",
   "metadata": {},
   "source": [
    "where, $M:=M(x,y,z)$ and $N:=N(x,y,z)$ are arbitrary functions of $x$, $y$, and $z$ and  \n",
    "\n",
    "$$ P := P(x,y,z) = 4N - 3M$$"
   ]
  },
  {
   "cell_type": "markdown",
   "id": "9d0f581d-5444-4220-b445-233a89d9d824",
   "metadata": {},
   "source": [
    "#### $\\S 6\\mathrm{B} : 1$  \n",
    "\n",
    "$$ \\Phi = 4\\pi a^3$$"
   ]
  },
  {
   "cell_type": "markdown",
   "id": "ae5d53ae-10f8-418c-8688-2b2d47a3074b",
   "metadata": {},
   "source": [
    "#### $\\S 6\\mathrm{B} : 2$  \n",
    "\n",
    "$$ \\Phi = 0$$"
   ]
  },
  {
   "cell_type": "markdown",
   "id": "16eac1c8-8aea-40f0-93cd-25d3dc5e482b",
   "metadata": {},
   "source": [
    "#### $\\S 6\\mathrm{B} : 3$  \n",
    "\n",
    "$$ \\mathbf{i}\\cdot \\mathbf{n} = \\frac{1}{\\sqrt{3}}\\$$"
   ]
  },
  {
   "cell_type": "markdown",
   "id": "b171c06d-f522-4edd-a28a-2d4a0aba93f6",
   "metadata": {},
   "source": [
    "Said portion $S$ is a triangle with vertices,  \n",
    "\n",
    "$$ A = (1,0,0) \\quad\\quad B = (0,1,0) \\quad\\quad C = (0,0,1)$$"
   ]
  },
  {
   "cell_type": "markdown",
   "id": "46b29236-d367-41b4-9af1-964f3360d3e3",
   "metadata": {},
   "source": [
    "And edge lengths of:  \n",
    "\n",
    "$$ |\\overline{AB}| = |B-A| = \\sqrt{(-1)^2 + 1^2 + 0} = \\sqrt{2} $$"
   ]
  },
  {
   "cell_type": "markdown",
   "id": "51c941c2-3d67-450d-b551-8f1e1da0c431",
   "metadata": {},
   "source": [
    "$$ |\\overline{BC}| = |C-B| = \\sqrt{0 + (-1)^2 + 1^2} = \\sqrt{2} $$"
   ]
  },
  {
   "cell_type": "markdown",
   "id": "27f5b0dc-e40f-41fe-94f7-0e33832e8cd8",
   "metadata": {},
   "source": [
    "$$ |\\overline{AC}| = |C-A| = \\sqrt{2}$$"
   ]
  },
  {
   "cell_type": "markdown",
   "id": "2cb198bf-4e68-4518-8c59-3728e4c5b377",
   "metadata": {},
   "source": [
    "The area of $S$ is:  \n",
    "\n",
    "$$ \\text{area } S = 0.5 b h = \\frac{\\sqrt{2}}{2} h$$"
   ]
  },
  {
   "cell_type": "markdown",
   "id": "a3b10ad0-5942-481b-b3be-3cf46ae55b6d",
   "metadata": {},
   "source": [
    "Via the Pythagorean theorem,  \n",
    "\n",
    "$$ h^2 + \\frac{b^2}{4} = h^2 + 0.5 = 2 \\quad\\therefore$$"
   ]
  },
  {
   "cell_type": "markdown",
   "id": "e23d5b72-eaf8-4e16-bc82-afe669e9e5d1",
   "metadata": {},
   "source": [
    "$$ h^2 = \\frac{3}{2} \\quad\\therefore\\quad h = \\sqrt{\\frac{3}{2}}$$"
   ]
  },
  {
   "cell_type": "markdown",
   "id": "71b77580-223f-4ee9-8289-9187e47e8954",
   "metadata": {},
   "source": [
    "Thus,  \n",
    "\n",
    "$$ \\text{area }S = \\frac{\\sqrt{3}}{2}$$"
   ]
  },
  {
   "cell_type": "markdown",
   "id": "142e8a33-4577-4859-90ca-c3a15969d4fc",
   "metadata": {},
   "source": [
    "Finally,  \n",
    "\n",
    "$$ \\Phi = \\mathbf{i}\\cdot\\mathbf{n}\\cdot\\text{area }S = 0.5$$"
   ]
  },
  {
   "cell_type": "markdown",
   "id": "90c3eeeb-ca3e-4abb-b410-78249a985a71",
   "metadata": {},
   "source": [
    "#### $\\S 6\\mathrm{B} : 4$  \n",
    "\n",
    "$$ \\Phi = \\iint_S \\mathbf{F}\\cdot \\mathbf{n}\\,\\mathrm{d}S $$"
   ]
  },
  {
   "cell_type": "markdown",
   "id": "b93f7240-825a-4113-9f90-12319e7536d0",
   "metadata": {},
   "source": [
    "$$ \\mathbf{n}\\,\\mathrm{d}S = \\mathrm{d}\\mathbf{S} = \\langle x,y,z\\rangle a\\sin\\phi\\,\\mathrm{d}\\phi\\,\\mathrm{d}\\theta$$"
   ]
  },
  {
   "cell_type": "markdown",
   "id": "efbde223-fbaa-4229-8569-d70bfa8a825e",
   "metadata": {},
   "source": [
    "$$ \\mathbf{F}\\cdot\\mathrm{d}\\mathbf{S} = y^2 a\\sin\\phi\\,\\mathrm{d}\\phi\\,\\mathrm{d}\\theta$$"
   ]
  },
  {
   "cell_type": "markdown",
   "id": "9423c8fb-222d-4f8f-8ff0-81a745b209c2",
   "metadata": {},
   "source": [
    "$$ y = r\\sin\\theta = a\\sin\\phi\\sin\\theta $$"
   ]
  },
  {
   "cell_type": "markdown",
   "id": "feafe446-1a61-4699-b19d-fc14b762396b",
   "metadata": {},
   "source": [
    "$$ \\mathbf{F}\\cdot\\mathrm{d}\\mathbf{S} = a^3\\sin^3\\phi\\sin^2\\theta\\,\\mathrm{d}\\phi\\,\\mathrm{d}\\theta$$"
   ]
  },
  {
   "cell_type": "markdown",
   "id": "f5af7c4e-15e0-4ff4-8cd1-b00edbfa0c71",
   "metadata": {},
   "source": [
    "Let $\\mathbf{r}$ be the position vector of any point on $S$.  $\\theta$ is the angle between the projection of $\\mathbf{r}$ onto the $xz$-plane and the positive end of the $x$-axis.  $\\phi$ is the angle between $\\mathbf{r}$ and the positive end of the $y$-axis.  \n",
    "\n",
    "$$ \\Phi = a^3\\int_0^{2\\pi}\\int_0^{0.5\\pi}\\sin^3\\phi\\sin^2\\theta\\,\\mathrm{d}\\phi\\,\\mathrm{d}\\theta$$"
   ]
  },
  {
   "cell_type": "markdown",
   "id": "6175cc73-6b15-4565-9d8f-80b6dea0f3e5",
   "metadata": {},
   "source": [
    "Let  \n",
    "\n",
    "$$ g(\\phi) := -\\cos\\phi\\sin^2\\phi$$"
   ]
  },
  {
   "cell_type": "markdown",
   "id": "b57078a0-4b6d-4c47-a4ba-fd10937187c3",
   "metadata": {},
   "source": [
    "$$ g'(\\phi) = \\sin^3\\phi - 2\\cos^2\\phi\\sin\\phi$$"
   ]
  },
  {
   "cell_type": "markdown",
   "id": "761a495e-d4ef-4839-b4c3-9e07a966e7e4",
   "metadata": {},
   "source": [
    "$$ f(\\phi) = g(\\phi) - \\frac{2}{3}\\cos^3\\phi$$"
   ]
  },
  {
   "cell_type": "markdown",
   "id": "9ebb98bc-d73d-412c-8fcb-70aaa3679245",
   "metadata": {},
   "source": [
    "$$ f'(\\phi) = g'(\\phi) + 2\\cos^2\\phi\\sin\\phi = \\sin^3\\phi$$"
   ]
  },
  {
   "cell_type": "markdown",
   "id": "0e2f2bdc-4adf-4d69-a68f-c056b34440c2",
   "metadata": {},
   "source": [
    "$$ \\int\\sin^3\\phi\\,\\mathrm{d}\\phi = f(\\phi)$$"
   ]
  },
  {
   "cell_type": "markdown",
   "id": "cb2f9993-b75a-4bfb-9d71-86c4ce3f7e8c",
   "metadata": {},
   "source": [
    "$$ = -\\cos\\phi\\left(\\sin^2\\phi + \\frac{2}{3}\\cos^2\\phi\\right)$$"
   ]
  },
  {
   "cell_type": "markdown",
   "id": "736fdeb3-9b6b-4b69-953e-aa3794017849",
   "metadata": {},
   "source": [
    "THe inner integral is:  \n",
    "\n",
    "$$ \\int_0^{0.5\\pi}\\sin^3\\phi\\sin^2\\theta\\,\\mathrm{d}\\phi = \\sin^2\\theta\\big(f(0.5\\pi) - f(0)\\big)$$"
   ]
  },
  {
   "cell_type": "markdown",
   "id": "0949f07d-bbad-43a0-87b9-43ee6771a3b9",
   "metadata": {},
   "source": [
    "$$ = \\frac{2}{3}\\,\\sin^2\\theta$$"
   ]
  },
  {
   "cell_type": "markdown",
   "id": "1d1fc27e-c2a0-47d4-81a8-7dcd3c84f406",
   "metadata": {},
   "source": [
    "Thus,  \n",
    "\n",
    "$$ \\Phi = \\frac{2a^3}{3}\\int_0^{2\\pi}\\sin^2\\theta\\,\\mathrm{d}\\theta$$"
   ]
  },
  {
   "cell_type": "markdown",
   "id": "90a0da8b-d117-407a-83e7-50186566d3b4",
   "metadata": {},
   "source": [
    "$$ \\int \\sin^2\\theta\\,\\mathrm{d}\\theta = \\int\\big(1 - \\cos^2\\theta\\big)\\,\\mathrm{d}\\theta = 0.5\\int\\big(1-\\cos 2\\theta\\big)\\,\\mathrm{d}\\theta$$"
   ]
  },
  {
   "cell_type": "markdown",
   "id": "86d44d5c-d49d-4f6c-9c0c-a5c72ae07620",
   "metadata": {},
   "source": [
    "$$ = 0.5\\theta - 0.5\\int\\cos2\\theta\\,\\mathrm{d}\\theta$$"
   ]
  },
  {
   "cell_type": "markdown",
   "id": "95cedee4-d847-4917-84cd-b72eb5aac67a",
   "metadata": {},
   "source": [
    "$$ = 0.5\\theta - 0.25\\sin2\\theta + K$$"
   ]
  },
  {
   "cell_type": "markdown",
   "id": "02a3d80e-2b31-433a-80c8-341cebbc6fbb",
   "metadata": {},
   "source": [
    "Finally,  \n",
    "\n",
    "$$ \\Phi = \\frac{2 \\pi a^3}{3}$$"
   ]
  },
  {
   "cell_type": "markdown",
   "id": "6f07d76f-4d4e-4ae2-a236-6b2807bdd8d6",
   "metadata": {},
   "source": [
    "#### $\\S 6\\mathrm{A} : 6$  "
   ]
  },
  {
   "cell_type": "markdown",
   "id": "ec7b4941-2eb5-45bb-8db7-951e8d552a91",
   "metadata": {},
   "source": [
    "Let $R$ be the projection of $S$ onto the $xy$-plane.  $R$ is a circle of radius $1$ centered at origin.  \n",
    "\n",
    "$$\\Phi = \\iint_S \\mathbf{F}\\cdot\\mathrm{d}\\mathbf{S} \\quad\\quad\\text{where }\\,\\mathbf{F} = \\langle x,y,z\\rangle $$"
   ]
  },
  {
   "cell_type": "markdown",
   "id": "0ca5055e-b5e5-4ebc-98c0-fce43d9d35fd",
   "metadata": {},
   "source": [
    "$$ \\mathrm{d}\\mathbf{S} = \\langle -z_x,-z_y,1\\rangle\\,\\mathrm{d}x\\,\\mathrm{d}y$$"
   ]
  },
  {
   "cell_type": "markdown",
   "id": "be3b871c-7f4c-47ed-abaa-85a417a5c92e",
   "metadata": {},
   "source": [
    "$$ z_x = 2x \\quad\\quad\\text{and}\\quad\\quad z_y = 2y$$"
   ]
  },
  {
   "cell_type": "markdown",
   "id": "65b3c05e-f09d-4d1e-97ce-88a12f156fda",
   "metadata": {},
   "source": [
    "$$ \\mathrm{d}\\mathbf{S} = \\langle -2x,-2y,1\\rangle\\,\\mathrm{d}A$$"
   ]
  },
  {
   "cell_type": "markdown",
   "id": "c1c5a875-8eea-4abc-b24c-1a8ff84c57e1",
   "metadata": {},
   "source": [
    "$$ \\mathbf{F}\\cdot\\mathrm{d}\\mathbf{S} = \\big(-2x^2 - 2y^2 + z\\big)\\,\\mathrm{d}A$$"
   ]
  },
  {
   "cell_type": "markdown",
   "id": "a45fd89d-ade2-4ffc-bd15-5d82d01ea86b",
   "metadata": {},
   "source": [
    "Constrained to $S$, the above becomes,  \n",
    "\n",
    "$$ \\mathbf{F}\\cdot\\mathrm{d}\\mathbf{S} = \\big(-x^2-y^2\\big)\\,\\mathrm{d}A$$"
   ]
  },
  {
   "cell_type": "markdown",
   "id": "8b8aa274-f543-433a-bf16-d8db7ee6f9d7",
   "metadata": {},
   "source": [
    "In polar coordinates:  \n",
    "\n",
    "$$ \\mathbf{F}\\cdot\\mathrm{d}\\mathbf{S} = -r^2\\,\\mathrm{d}A = -r^3\\,\\mathrm{d}r\\,\\mathrm{d}\\theta$$"
   ]
  },
  {
   "cell_type": "markdown",
   "id": "9050ed36-a4e3-4f2f-a2d1-0df76214fde7",
   "metadata": {},
   "source": [
    "Thus,  \n",
    "\n",
    "$$ \\Phi = \\int_0^{2\\pi}\\int_0^1 -r^3\\,\\mathrm{d}r\\,\\mathrm{d}\\theta$$"
   ]
  },
  {
   "cell_type": "markdown",
   "id": "fa289916-a5a1-4bf6-aba1-ce40f0e016d6",
   "metadata": {},
   "source": [
    "$$ = \\int_0^{2\\pi}-\\frac{1}{4}\\,\\mathrm{d}\\theta$$"
   ]
  },
  {
   "cell_type": "markdown",
   "id": "26165cd9-26c5-470b-a7ef-e48377e71741",
   "metadata": {},
   "source": [
    "$$ = -\\frac{\\pi}{2}$$"
   ]
  },
  {
   "cell_type": "markdown",
   "id": "52efb84f-7bb9-46ef-a0d5-1fc612466c9a",
   "metadata": {},
   "source": [
    "Geometrically, the reason the answer is negative is because $\\mathbf{n}$ tends to point towards the $z$-axis, while $\\mathbf{F}$, over $S$, tends to point away from the $z$-axis."
   ]
  }
 ],
 "metadata": {
  "kernelspec": {
   "display_name": "Python 3 (ipykernel)",
   "language": "python",
   "name": "python3"
  },
  "language_info": {
   "codemirror_mode": {
    "name": "ipython",
    "version": 3
   },
   "file_extension": ".py",
   "mimetype": "text/x-python",
   "name": "python",
   "nbconvert_exporter": "python",
   "pygments_lexer": "ipython3",
   "version": "3.10.12"
  }
 },
 "nbformat": 4,
 "nbformat_minor": 5
}
