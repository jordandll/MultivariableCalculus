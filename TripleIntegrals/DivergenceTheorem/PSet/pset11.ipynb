{
 "cells": [
  {
   "cell_type": "markdown",
   "id": "86cde738-8b20-4f6d-9928-aa07d4994de7",
   "metadata": {},
   "source": [
    "# Problem Set 11\n",
    "\n",
    "## Part I  "
   ]
  },
  {
   "cell_type": "code",
   "execution_count": 1,
   "id": "41e1d9db-41b0-42cd-bf75-b18d9792df87",
   "metadata": {},
   "outputs": [],
   "source": [
    "import numpy as np\n",
    "import matplotlib.pyplot as plt\n",
    "import matplotlib as mpl"
   ]
  },
  {
   "cell_type": "markdown",
   "id": "d84ed33c-0ee4-4eac-9237-1a48694bd620",
   "metadata": {},
   "source": [
    "### Surface Integrals and Flux  "
   ]
  },
  {
   "cell_type": "markdown",
   "id": "6a7988ec-75d2-4b6d-bf16-ac55334b7490",
   "metadata": {},
   "source": [
    "#### $\\S 6\\mathrm{A} : 1$  \n",
    "\n",
    "**a)**  A field of unit vectors that radiates outward from origin.  \n",
    "\n",
    "**b)**  A field of vectors that are parallel to the $xz$-plane and thus are perpendicular to $y$-axis.  The field radiates inward toward the $y$-axis and has a magnitude that is equal to the distance from said axis."
   ]
  },
  {
   "cell_type": "markdown",
   "id": "27bb24e3-7e70-40e5-a8f4-d37432a55da5",
   "metadata": {},
   "source": [
    "#### $\\S 6\\mathrm{A} : 2$  \n",
    "\n",
    "$$ \\mathbf{F} = -0.5\\langle x,y,z\\rangle$$"
   ]
  },
  {
   "cell_type": "markdown",
   "id": "2d4275f9-3abb-463d-914e-79f4097f917f",
   "metadata": {},
   "source": [
    "#### $\\S 6\\mathrm{A} : 3$  \n",
    "\n",
    "$$ \\mathbf{F} = \\omega\\langle 0,-z,y\\rangle$$"
   ]
  },
  {
   "cell_type": "markdown",
   "id": "df47bb17-69a2-452a-aeb6-96f6969512d8",
   "metadata": {},
   "source": [
    "#### $\\S 6\\mathrm{A} : 4$  \n",
    "\n",
    "$$ S:\\; 3x-4y + z = 2$$"
   ]
  },
  {
   "cell_type": "markdown",
   "id": "32c5d205-67bf-43d6-83e4-6cbbf6fa6237",
   "metadata": {},
   "source": [
    "For a vector field $\\mathbf{F}$ to be parallel to $S$, the following must hold true:  \n",
    "\n",
    "$$ \\mathbf{F} \\cdot \\langle 3,-4,1\\rangle = 3F_x - 4F_y + F_z = 0$$"
   ]
  },
  {
   "cell_type": "markdown",
   "id": "91bf61d7-8445-4eb9-9728-cd6b2db2be8e",
   "metadata": {},
   "source": [
    "$$ F_z = 4F_y - 3F_x $$"
   ]
  },
  {
   "cell_type": "markdown",
   "id": "22cb1db8-2501-4d59-92fe-6092effc1868",
   "metadata": {},
   "source": [
    "Thus,  \n",
    "\n",
    "$$ \\mathbf{F} = \\langle M,N,P\\rangle$$"
   ]
  },
  {
   "cell_type": "markdown",
   "id": "5d01d69a-1e80-4619-8a1b-a5da30c88794",
   "metadata": {},
   "source": [
    "where, $M:=M(x,y,z)$ and $N:=N(x,y,z)$ are arbitrary functions of $x$, $y$, and $z$ and  \n",
    "\n",
    "$$ P := P(x,y,z) = 4N - 3M$$"
   ]
  },
  {
   "cell_type": "markdown",
   "id": "9d0f581d-5444-4220-b445-233a89d9d824",
   "metadata": {},
   "source": [
    "#### $\\S 6\\mathrm{B} : 1$  \n",
    "\n",
    "$$ \\Phi = 4\\pi a^3$$"
   ]
  },
  {
   "cell_type": "markdown",
   "id": "ae5d53ae-10f8-418c-8688-2b2d47a3074b",
   "metadata": {},
   "source": [
    "#### $\\S 6\\mathrm{B} : 2$  \n",
    "\n",
    "$$ \\Phi = 0$$"
   ]
  },
  {
   "cell_type": "markdown",
   "id": "16eac1c8-8aea-40f0-93cd-25d3dc5e482b",
   "metadata": {},
   "source": [
    "#### $\\S 6\\mathrm{B} : 3$  \n",
    "\n",
    "$$ \\mathbf{i}\\cdot \\mathbf{n} = \\frac{1}{\\sqrt{3}}\\$$"
   ]
  },
  {
   "cell_type": "markdown",
   "id": "b171c06d-f522-4edd-a28a-2d4a0aba93f6",
   "metadata": {},
   "source": [
    "Said portion $S$ is a triangle with vertices,  \n",
    "\n",
    "$$ A = (1,0,0) \\quad\\quad B = (0,1,0) \\quad\\quad C = (0,0,1)$$"
   ]
  },
  {
   "cell_type": "markdown",
   "id": "46b29236-d367-41b4-9af1-964f3360d3e3",
   "metadata": {},
   "source": [
    "And edge lengths of:  \n",
    "\n",
    "$$ |\\overline{AB}| = |B-A| = \\sqrt{(-1)^2 + 1^2 + 0} = \\sqrt{2} $$"
   ]
  },
  {
   "cell_type": "markdown",
   "id": "51c941c2-3d67-450d-b551-8f1e1da0c431",
   "metadata": {},
   "source": [
    "$$ |\\overline{BC}| = |C-B| = \\sqrt{0 + (-1)^2 + 1^2} = \\sqrt{2} $$"
   ]
  },
  {
   "cell_type": "markdown",
   "id": "27f5b0dc-e40f-41fe-94f7-0e33832e8cd8",
   "metadata": {},
   "source": [
    "$$ |\\overline{AC}| = |C-A| = \\sqrt{2}$$"
   ]
  },
  {
   "cell_type": "markdown",
   "id": "2cb198bf-4e68-4518-8c59-3728e4c5b377",
   "metadata": {},
   "source": [
    "The area of $S$ is:  \n",
    "\n",
    "$$ \\text{area } S = 0.5 b h = \\frac{\\sqrt{2}}{2} h$$"
   ]
  },
  {
   "cell_type": "markdown",
   "id": "a3b10ad0-5942-481b-b3be-3cf46ae55b6d",
   "metadata": {},
   "source": [
    "Via the Pythagorean theorem,  \n",
    "\n",
    "$$ h^2 + \\frac{b^2}{4} = h^2 + 0.5 = 2 \\quad\\therefore$$"
   ]
  },
  {
   "cell_type": "markdown",
   "id": "e23d5b72-eaf8-4e16-bc82-afe669e9e5d1",
   "metadata": {},
   "source": [
    "$$ h^2 = \\frac{3}{2} \\quad\\therefore\\quad h = \\sqrt{\\frac{3}{2}}$$"
   ]
  },
  {
   "cell_type": "markdown",
   "id": "71b77580-223f-4ee9-8289-9187e47e8954",
   "metadata": {},
   "source": [
    "Thus,  \n",
    "\n",
    "$$ \\text{area }S = \\frac{\\sqrt{3}}{2}$$"
   ]
  },
  {
   "cell_type": "markdown",
   "id": "142e8a33-4577-4859-90ca-c3a15969d4fc",
   "metadata": {},
   "source": [
    "Finally,  \n",
    "\n",
    "$$ \\Phi = \\mathbf{i}\\cdot\\mathbf{n}\\cdot\\text{area }S = 0.5$$"
   ]
  },
  {
   "cell_type": "markdown",
   "id": "90c3eeeb-ca3e-4abb-b410-78249a985a71",
   "metadata": {},
   "source": [
    "#### $\\S 6\\mathrm{B} : 4$  \n",
    "\n",
    "$$ \\Phi = \\iint_S \\mathbf{F}\\cdot \\mathbf{n}\\,\\mathrm{d}S $$"
   ]
  },
  {
   "cell_type": "markdown",
   "id": "b93f7240-825a-4113-9f90-12319e7536d0",
   "metadata": {},
   "source": [
    "$$ \\mathbf{n}\\,\\mathrm{d}S = \\mathrm{d}\\mathbf{S} = \\langle x,y,z\\rangle a\\sin\\phi\\,\\mathrm{d}\\phi\\,\\mathrm{d}\\theta$$"
   ]
  },
  {
   "cell_type": "markdown",
   "id": "efbde223-fbaa-4229-8569-d70bfa8a825e",
   "metadata": {},
   "source": [
    "$$ \\mathbf{F}\\cdot\\mathrm{d}\\mathbf{S} = y^2 a\\sin\\phi\\,\\mathrm{d}\\phi\\,\\mathrm{d}\\theta$$"
   ]
  },
  {
   "cell_type": "markdown",
   "id": "9423c8fb-222d-4f8f-8ff0-81a745b209c2",
   "metadata": {},
   "source": [
    "$$ y = r\\sin\\theta = a\\sin\\phi\\sin\\theta $$"
   ]
  },
  {
   "cell_type": "markdown",
   "id": "feafe446-1a61-4699-b19d-fc14b762396b",
   "metadata": {},
   "source": [
    "$$ \\mathbf{F}\\cdot\\mathrm{d}\\mathbf{S} = a^3\\sin^3\\phi\\sin^2\\theta\\,\\mathrm{d}\\phi\\,\\mathrm{d}\\theta$$"
   ]
  },
  {
   "cell_type": "markdown",
   "id": "f5af7c4e-15e0-4ff4-8cd1-b00edbfa0c71",
   "metadata": {},
   "source": [
    "Let $\\mathbf{r}$ be the position vector of any point on $S$.  $\\theta$ is the angle between the projection of $\\mathbf{r}$ onto the $xz$-plane and the positive end of the $x$-axis.  $\\phi$ is the angle between $\\mathbf{r}$ and the positive end of the $y$-axis.  \n",
    "\n",
    "$$ \\Phi = a^3\\int_0^{2\\pi}\\int_0^{0.5\\pi}\\sin^3\\phi\\sin^2\\theta\\,\\mathrm{d}\\phi\\,\\mathrm{d}\\theta$$"
   ]
  },
  {
   "cell_type": "markdown",
   "id": "6175cc73-6b15-4565-9d8f-80b6dea0f3e5",
   "metadata": {},
   "source": [
    "Let  \n",
    "\n",
    "$$ g(\\phi) := -\\cos\\phi\\sin^2\\phi$$"
   ]
  },
  {
   "cell_type": "markdown",
   "id": "b57078a0-4b6d-4c47-a4ba-fd10937187c3",
   "metadata": {},
   "source": [
    "$$ g'(\\phi) = \\sin^3\\phi - 2\\cos^2\\phi\\sin\\phi$$"
   ]
  },
  {
   "cell_type": "markdown",
   "id": "761a495e-d4ef-4839-b4c3-9e07a966e7e4",
   "metadata": {},
   "source": [
    "$$ f(\\phi) = g(\\phi) - \\frac{2}{3}\\cos^3\\phi$$"
   ]
  },
  {
   "cell_type": "markdown",
   "id": "9ebb98bc-d73d-412c-8fcb-70aaa3679245",
   "metadata": {},
   "source": [
    "$$ f'(\\phi) = g'(\\phi) + 2\\cos^2\\phi\\sin\\phi = \\sin^3\\phi$$"
   ]
  },
  {
   "cell_type": "markdown",
   "id": "0e2f2bdc-4adf-4d69-a68f-c056b34440c2",
   "metadata": {},
   "source": [
    "$$ \\int\\sin^3\\phi\\,\\mathrm{d}\\phi = f(\\phi)$$"
   ]
  },
  {
   "cell_type": "markdown",
   "id": "cb2f9993-b75a-4bfb-9d71-86c4ce3f7e8c",
   "metadata": {},
   "source": [
    "$$ = -\\cos\\phi\\left(\\sin^2\\phi + \\frac{2}{3}\\cos^2\\phi\\right)$$"
   ]
  },
  {
   "cell_type": "markdown",
   "id": "736fdeb3-9b6b-4b69-953e-aa3794017849",
   "metadata": {},
   "source": [
    "THe inner integral is:  \n",
    "\n",
    "$$ \\int_0^{0.5\\pi}\\sin^3\\phi\\sin^2\\theta\\,\\mathrm{d}\\phi = \\sin^2\\theta\\big(f(0.5\\pi) - f(0)\\big)$$"
   ]
  },
  {
   "cell_type": "markdown",
   "id": "0949f07d-bbad-43a0-87b9-43ee6771a3b9",
   "metadata": {},
   "source": [
    "$$ = \\frac{2}{3}\\,\\sin^2\\theta$$"
   ]
  },
  {
   "cell_type": "markdown",
   "id": "1d1fc27e-c2a0-47d4-81a8-7dcd3c84f406",
   "metadata": {},
   "source": [
    "Thus,  \n",
    "\n",
    "$$ \\Phi = \\frac{2a^3}{3}\\int_0^{2\\pi}\\sin^2\\theta\\,\\mathrm{d}\\theta$$"
   ]
  },
  {
   "cell_type": "markdown",
   "id": "90a0da8b-d117-407a-83e7-50186566d3b4",
   "metadata": {},
   "source": [
    "$$ \\int \\sin^2\\theta\\,\\mathrm{d}\\theta = \\int\\big(1 - \\cos^2\\theta\\big)\\,\\mathrm{d}\\theta = 0.5\\int\\big(1-\\cos 2\\theta\\big)\\,\\mathrm{d}\\theta$$"
   ]
  },
  {
   "cell_type": "markdown",
   "id": "86d44d5c-d49d-4f6c-9c0c-a5c72ae07620",
   "metadata": {},
   "source": [
    "$$ = 0.5\\theta - 0.5\\int\\cos2\\theta\\,\\mathrm{d}\\theta$$"
   ]
  },
  {
   "cell_type": "markdown",
   "id": "95cedee4-d847-4917-84cd-b72eb5aac67a",
   "metadata": {},
   "source": [
    "$$ = 0.5\\theta - 0.25\\sin2\\theta + K$$"
   ]
  },
  {
   "cell_type": "markdown",
   "id": "02a3d80e-2b31-433a-80c8-341cebbc6fbb",
   "metadata": {},
   "source": [
    "Finally,  \n",
    "\n",
    "$$ \\Phi = \\frac{2 \\pi a^3}{3}$$"
   ]
  },
  {
   "cell_type": "markdown",
   "id": "6f07d76f-4d4e-4ae2-a236-6b2807bdd8d6",
   "metadata": {},
   "source": [
    "#### $\\S 6\\mathrm{A} : 6$  "
   ]
  },
  {
   "cell_type": "markdown",
   "id": "ec7b4941-2eb5-45bb-8db7-951e8d552a91",
   "metadata": {},
   "source": [
    "Let $R$ be the projection of $S$ onto the $xy$-plane.  $R$ is a circle of radius $1$ centered at origin.  \n",
    "\n",
    "$$\\Phi = \\iint_S \\mathbf{F}\\cdot\\mathrm{d}\\mathbf{S} \\quad\\quad\\text{where }\\,\\mathbf{F} = \\langle x,y,z\\rangle $$"
   ]
  },
  {
   "cell_type": "markdown",
   "id": "0ca5055e-b5e5-4ebc-98c0-fce43d9d35fd",
   "metadata": {},
   "source": [
    "$$ \\mathrm{d}\\mathbf{S} = \\langle -z_x,-z_y,1\\rangle\\,\\mathrm{d}x\\,\\mathrm{d}y$$"
   ]
  },
  {
   "cell_type": "markdown",
   "id": "be3b871c-7f4c-47ed-abaa-85a417a5c92e",
   "metadata": {},
   "source": [
    "$$ z_x = 2x \\quad\\quad\\text{and}\\quad\\quad z_y = 2y$$"
   ]
  },
  {
   "cell_type": "markdown",
   "id": "65b3c05e-f09d-4d1e-97ce-88a12f156fda",
   "metadata": {},
   "source": [
    "$$ \\mathrm{d}\\mathbf{S} = \\langle -2x,-2y,1\\rangle\\,\\mathrm{d}A$$"
   ]
  },
  {
   "cell_type": "markdown",
   "id": "c1c5a875-8eea-4abc-b24c-1a8ff84c57e1",
   "metadata": {},
   "source": [
    "$$ \\mathbf{F}\\cdot\\mathrm{d}\\mathbf{S} = \\big(-2x^2 - 2y^2 + z\\big)\\,\\mathrm{d}A$$"
   ]
  },
  {
   "cell_type": "markdown",
   "id": "a45fd89d-ade2-4ffc-bd15-5d82d01ea86b",
   "metadata": {},
   "source": [
    "Constrained to $S$, the above becomes,  \n",
    "\n",
    "$$ \\mathbf{F}\\cdot\\mathrm{d}\\mathbf{S} = \\big(-x^2-y^2\\big)\\,\\mathrm{d}A$$"
   ]
  },
  {
   "cell_type": "markdown",
   "id": "8b8aa274-f543-433a-bf16-d8db7ee6f9d7",
   "metadata": {},
   "source": [
    "In polar coordinates:  \n",
    "\n",
    "$$ \\mathbf{F}\\cdot\\mathrm{d}\\mathbf{S} = -r^2\\,\\mathrm{d}A = -r^3\\,\\mathrm{d}r\\,\\mathrm{d}\\theta$$"
   ]
  },
  {
   "cell_type": "markdown",
   "id": "9050ed36-a4e3-4f2f-a2d1-0df76214fde7",
   "metadata": {},
   "source": [
    "Thus,  \n",
    "\n",
    "$$ \\Phi = \\int_0^{2\\pi}\\int_0^1 -r^3\\,\\mathrm{d}r\\,\\mathrm{d}\\theta$$"
   ]
  },
  {
   "cell_type": "markdown",
   "id": "fa289916-a5a1-4bf6-aba1-ce40f0e016d6",
   "metadata": {},
   "source": [
    "$$ = \\int_0^{2\\pi}-\\frac{1}{4}\\,\\mathrm{d}\\theta$$"
   ]
  },
  {
   "cell_type": "markdown",
   "id": "26165cd9-26c5-470b-a7ef-e48377e71741",
   "metadata": {},
   "source": [
    "$$ = -\\frac{\\pi}{2}$$"
   ]
  },
  {
   "cell_type": "markdown",
   "id": "52efb84f-7bb9-46ef-a0d5-1fc612466c9a",
   "metadata": {},
   "source": [
    "Geometrically, the reason the answer is negative is because $\\mathbf{n}$ tends to point towards the $z$-axis, while $\\mathbf{F}$, over $S$, tends to point away from the $z$-axis."
   ]
  },
  {
   "cell_type": "markdown",
   "id": "93b16e95-ed61-4e04-97fb-d532511e7773",
   "metadata": {},
   "source": [
    "#### $\\S 6\\mathrm{B} : 8$  \n",
    "\n",
    "$$ \\Phi = \\iint_S \\mathbf{F}\\cdot\\mathrm{d}\\mathbf{S} \\quad\\quad\\text{where }\\,\\mathbf{F} = \\langle 0,y,0\\rangle$$"
   ]
  },
  {
   "cell_type": "markdown",
   "id": "05cc6077-5cef-4dbf-87b0-69a5858ec24f",
   "metadata": {},
   "source": [
    "$$ S:\\; x^2+y^2=a^2 \\quad\\text{for }\\quad 0\\le y \\le a \\quad\\text{and}\\quad  0\\le z \\le h$$"
   ]
  },
  {
   "cell_type": "markdown",
   "id": "bf8bed01-cca0-4cda-bc5b-a90a09827fd9",
   "metadata": {},
   "source": [
    "$$ \\mathrm{d}S = r\\,\\mathrm{d}z\\,\\mathrm{d}\\theta$$"
   ]
  },
  {
   "cell_type": "markdown",
   "id": "bb6808a8-2175-4894-b06d-1b8cf59970ca",
   "metadata": {},
   "source": [
    "$$ \\mathbf{n} = \\frac{\\langle x,y,0\\rangle}{r} = \\frac{\\langle r\\cos\\theta,r\\sin\\theta,0\\rangle}{r} = \\langle \\cos\\theta,\\sin\\theta,0\\rangle$$"
   ]
  },
  {
   "cell_type": "markdown",
   "id": "f588ef2e-a045-4af4-a99f-019b1c962e9b",
   "metadata": {},
   "source": [
    "$$ \\mathrm{d}\\mathbf{S} = r\\langle \\cos\\theta,\\sin\\theta,0\\rangle\\,\\mathrm{d}z\\,\\mathrm{d}\\theta$$"
   ]
  },
  {
   "cell_type": "markdown",
   "id": "ebccc4bf-636a-4acc-8bd9-8f7e589ff85f",
   "metadata": {},
   "source": [
    "$$ \\mathbf{F} \\cdot\\mathrm{d}\\mathbf{S} = ry\\sin\\theta\\,\\mathrm{d}z\\,\\mathrm{d}\\theta = r^2\\sin^2\\theta\\,\\mathrm{d}z\\,\\mathrm{d}\\theta$$"
   ]
  },
  {
   "cell_type": "markdown",
   "id": "d90aacf9-e8c3-4d80-ad3f-2b380d1756fd",
   "metadata": {},
   "source": [
    "Constrained to $S$, the above becomes,  \n",
    "\n",
    "$$ \\mathbf{F}\\cdot\\mathrm{d}\\mathbf{S} = a^2\\sin^2\\theta\\,\\mathrm{d}z\\,\\mathrm{d}\\theta$$"
   ]
  },
  {
   "cell_type": "markdown",
   "id": "2a798480-09dc-4f91-b766-4fdd10e37957",
   "metadata": {},
   "source": [
    "Thus,  \n",
    "\n",
    "$$ \\Phi = a^2\\int_0^\\pi\\int_0^h \\sin^2\\theta\\,\\mathrm{d}z\\,\\mathrm{d}\\theta$$"
   ]
  },
  {
   "cell_type": "markdown",
   "id": "9075bd93-4331-4692-b8f2-f1e675dbce25",
   "metadata": {},
   "source": [
    "$$ = a^2h\\int_0^\\pi\\sin^2\\theta\\,\\mathrm{d}\\theta$$"
   ]
  },
  {
   "cell_type": "markdown",
   "id": "4f91ca5a-d43e-4138-b9c0-f8bf7897f8c6",
   "metadata": {},
   "source": [
    "$$ = \\frac{\\pi a^2 h}{2}$$"
   ]
  },
  {
   "cell_type": "markdown",
   "id": "4c0aaeb1-204a-426e-bdda-37eb586b23b4",
   "metadata": {},
   "source": [
    "#### $\\S 6\\mathrm{B} : 12$  \n",
    "\n",
    "Let $\\overline{z}$ be the average height in question and $S$ be the surface given by\n",
    "\n",
    "$$ z:= f(x,y) = \\sqrt{a^2 - x^2 - y^2}$$"
   ]
  },
  {
   "cell_type": "markdown",
   "id": "ba980d2a-b44a-4148-a576-45996a209069",
   "metadata": {},
   "source": [
    "$$ \\overline{z} = \\frac{1}{2\\pi a^2}\\iint_S f(x,y)\\,\\mathrm{d}S$$"
   ]
  },
  {
   "cell_type": "markdown",
   "id": "c5f7987a-483d-4eeb-802d-804fe6353464",
   "metadata": {},
   "source": [
    "$$ x = r\\cos\\theta = a\\sin\\phi\\cos\\theta \\quad\\quad\\text{and}\\quad\\quad y = a\\sin\\phi\\sin\\theta$$"
   ]
  },
  {
   "cell_type": "markdown",
   "id": "907f67e7-d689-470b-bb1b-2c8a2b7eee17",
   "metadata": {},
   "source": [
    "$$ z = f(x,y)= a\\sqrt{1 - \\sin^2\\phi\\cos^2\\theta - \\sin^2\\phi\\sin^2\\theta}$$"
   ]
  },
  {
   "cell_type": "markdown",
   "id": "9de5f466-b30e-4c11-a05e-501bf08a5ee6",
   "metadata": {},
   "source": [
    "$$ = a\\sqrt{1 - \\sin^2\\phi} = a\\cos\\phi$$"
   ]
  },
  {
   "cell_type": "markdown",
   "id": "e8f7e734-8aa9-4887-8a37-f96873c446d0",
   "metadata": {},
   "source": [
    "$$ \\mathrm{d}S = a^2\\sin\\phi\\,\\mathrm{d}\\phi\\,\\mathrm{d}\\theta$$"
   ]
  },
  {
   "cell_type": "markdown",
   "id": "a8e836ab-63ab-4810-b837-43a62dc7f261",
   "metadata": {},
   "source": [
    "$$ f(x,y)\\,\\mathrm{d}S = a^3\\sin\\phi\\cos\\phi\\,\\mathrm{d}\\phi\\,\\mathrm{d}\\theta$$"
   ]
  },
  {
   "cell_type": "markdown",
   "id": "140f6e10-7c26-4019-b51d-fecc8b2c8a09",
   "metadata": {},
   "source": [
    "$$ = 0.5a^3\\sin2\\phi\\,\\mathrm{d}\\phi\\,\\mathrm{d}\\theta$$"
   ]
  },
  {
   "cell_type": "markdown",
   "id": "44d110b2-5eb9-4051-abcd-15f848a87754",
   "metadata": {},
   "source": [
    "Thus,  \n",
    "\n",
    "$$ \\overline{z} = \\frac{a}{4\\pi}\\int_0^{2\\pi}\\int_0^{0.5\\pi}\\sin 2\\phi\\,\\mathrm{d}\\phi\\,\\mathrm{d}\\theta$$"
   ]
  },
  {
   "cell_type": "markdown",
   "id": "424e1341-6cac-423c-a7d1-d92ae6eeb07d",
   "metadata": {},
   "source": [
    "$$ \\int_0^{0.5\\pi}\\sin2\\phi\\,\\mathrm{d}\\phi = \\big.-0.5\\cos2\\phi\\big]_0^{0.5\\pi}$$"
   ]
  },
  {
   "cell_type": "markdown",
   "id": "dfcd347e-f93f-4e17-807c-a4088cfaeebc",
   "metadata": {},
   "source": [
    "$$ = 0.5(1 + 1) = 1$$"
   ]
  },
  {
   "cell_type": "markdown",
   "id": "bccd680d-b8f3-48d5-812f-9b244b3ebec1",
   "metadata": {},
   "source": [
    "$$ \\overline{z} = \\frac{a}{4\\pi}\\int_0^{2\\pi}\\mathrm{d}\\theta = \\frac{a}{2}$$"
   ]
  },
  {
   "cell_type": "markdown",
   "id": "80c7a3dc-e32d-483d-8865-9b366f1e1c57",
   "metadata": {},
   "source": [
    "### Divergence Theorem"
   ]
  },
  {
   "cell_type": "markdown",
   "id": "4a5b84f9-8114-4307-8cd0-096e3bbbf6f3",
   "metadata": {},
   "source": [
    "#### $\\S 6\\mathrm{C} : 1$\n",
    "\n",
    "**a)**\n",
    "$$ \\nabla \\cdot \\mathbf{F} = 2xy + x  + x = 2xy + 2x$$"
   ]
  },
  {
   "cell_type": "markdown",
   "id": "f8760d8a-593d-4a80-b3e7-6376b2b4c82f",
   "metadata": {},
   "source": [
    "#### $\\S 6\\mathrm{C} : 2$  \n",
    "\n",
    "$$ \\rho = \\sqrt{x^2+y^2+z^2} \\quad\\therefore$$"
   ]
  },
  {
   "cell_type": "markdown",
   "id": "11dcd023-6d19-4dde-b3e1-680a8f99202c",
   "metadata": {},
   "source": [
    "$$ \\rho_x = \\frac{\\partial \\rho }{\\partial x} = \\frac{x}{\\rho} \\quad\\quad \\rho_y = \\frac{y}{\\rho} \\quad\\quad \\rho_z = \\frac{z}{\\rho}$$"
   ]
  },
  {
   "cell_type": "markdown",
   "id": "2fdcdf33-eb76-442b-a420-d6f062b2e8c6",
   "metadata": {},
   "source": [
    "Via the chain rule,  \n",
    "\n",
    "$$\\frac{\\partial \\big(\\rho^n\\big)}{\\partial x} =  \\frac{\\partial \\big(\\rho^n\\big)}{\\partial \\rho}\\,\\frac{\\partial \\rho}{\\partial x} = n\\rho^{n-1}\\,\\frac{x}{\\rho} = n\\rho^{n-2}x$$"
   ]
  },
  {
   "cell_type": "markdown",
   "id": "5ec14684-6df6-4dcd-9f2d-fc2d9617837d",
   "metadata": {},
   "source": [
    "Let $x,y,z := x_1,x_2,x_3$.  \n",
    "\n",
    "$$ \\frac{\\partial \\big( \\rho^n\\big)}{\\partial x_i} = n\\rho^{n-2} x_i \\quad\\forall i\\in\\{1,2,3\\}$$"
   ]
  },
  {
   "cell_type": "markdown",
   "id": "6c176e6a-4500-4eb6-bab6-f9e2a5c91588",
   "metadata": {},
   "source": [
    "$$ \\mathbf{F} = \\rho^n\\langle x,y,z\\rangle$$"
   ]
  },
  {
   "cell_type": "markdown",
   "id": "2a006a3c-4176-4c2a-b726-27ed6750420c",
   "metadata": {},
   "source": [
    "Now, let $\\mathbf{i},\\mathbf{j},\\mathbf{k}:= \\mathbf{e}_1, \\mathbf{e}_2, \\mathbf{e}_3$.  \n",
    "\n",
    "$$ \\mathbf{F} = \\rho^n \\sum_{i=1}^3 x_i\\mathbf{e}_i \\quad\\forall i\\in\\{1,2,3\\}$$"
   ]
  },
  {
   "cell_type": "markdown",
   "id": "a217a31e-f79a-4360-ae55-a13efa877fd5",
   "metadata": {},
   "source": [
    "$$ \\nabla \\cdot \\mathbf{F} = n\\rho^{n-2}x^2 + \\rho^n + n\\rho^{n-2}y^2 + \\rho^n + n\\rho^{n-2}z^2 + \\rho^n$$"
   ]
  },
  {
   "cell_type": "markdown",
   "id": "cce1065c-4b76-4073-9ad8-5b1c833d3f2a",
   "metadata": {},
   "source": [
    "$$= n\\rho^{n-2}\\big(x^2+y^2+z^2\\big) + 3\\rho^n$$"
   ]
  },
  {
   "cell_type": "markdown",
   "id": "5ae8680c-a8b6-4887-a0f9-f8902970a37c",
   "metadata": {},
   "source": [
    "$$ = n\\rho^n + 3\\rho^n = \\rho^n(n+3)$$"
   ]
  },
  {
   "cell_type": "markdown",
   "id": "94b4a9b7-7d60-4a71-a66a-31fdde11b650",
   "metadata": {},
   "source": [
    "$$ \\rho^n(n+3) = 0 \\quad\\implies \\quad n = -3$$"
   ]
  },
  {
   "cell_type": "markdown",
   "id": "eeba86a7-98ae-4d2f-bce1-5d617c21098b",
   "metadata": {},
   "source": [
    "Finally,  \n",
    "\n",
    "$$ \\nabla \\cdot \\mathbf{F} = 0 \\quad\\iff\\quad n = -3$$"
   ]
  },
  {
   "cell_type": "markdown",
   "id": "6b2e44a3-fe29-439e-81a4-95f4ce405dad",
   "metadata": {},
   "source": [
    "#### $\\S 6\\mathrm{C} : 3$  \n",
    "\n",
    "\n",
    "$$ \\Phi = \\iint_S \\mathbf{F}\\cdot\\mathrm{d}\\mathbf{S} \\quad\\quad\\text{where }\\,\\mathbf{F} = \\langle x,y,z\\rangle$$"
   ]
  },
  {
   "cell_type": "markdown",
   "id": "6a0a3f4e-4393-40c2-b672-fe035727484e",
   "metadata": {},
   "source": [
    "$$ S: \\; x^2 + y^2 + z^2 = a^2 \\quad \\text{for } 0\\le z \\le a \\quad\\quad\\text{and}\\quad\\quad x^2 + y^2 = a^2$$"
   ]
  },
  {
   "cell_type": "markdown",
   "id": "258e2389-3ec8-409b-8c12-93c8cbbec388",
   "metadata": {},
   "source": [
    "According to Divergence Theorem,  \n",
    "\n",
    "$$ \\iint_S \\mathbf{F}\\cdot\\mathrm{d}\\mathbf{S} = \\iiint_D \\nabla \\cdot \\mathbf{F} \\,\\mathrm{d}V$$"
   ]
  },
  {
   "cell_type": "markdown",
   "id": "b91ff353-ec69-4577-a722-02b58986126c",
   "metadata": {},
   "source": [
    "where $D$ is the region enclosed by $S$.  Let $S_1$ be the bottom part of $S$, that is, the disc of radius $a$ and $S_2$ be the top part of $S$, the upper half of the sphere.  \n",
    "\n",
    "$$ S_1:\\; x^2 + y^2 = a^2$$"
   ]
  },
  {
   "cell_type": "markdown",
   "id": "38995b29-23ea-49e7-b7b1-bd10bf10c0d9",
   "metadata": {},
   "source": [
    "$$ S_2:\\; x^2 + y^2 + z^2 = a^2 \\quad\\text{for } 0\\le z\\le a$$"
   ]
  },
  {
   "cell_type": "markdown",
   "id": "88b09c8a-5871-42c0-8161-757e5b479c32",
   "metadata": {},
   "source": [
    "The surface area elements are:  \n",
    "\n",
    "$$ \\mathrm{d}S_1 = \\mathrm{d}x\\,\\mathrm{d}y$$"
   ]
  },
  {
   "cell_type": "markdown",
   "id": "ba102937-6c56-4b54-86b3-5c33763cc69e",
   "metadata": {},
   "source": [
    "$$ \\mathrm{d}S_2 = a^2\\sin\\phi\\,\\mathrm{d}\\phi\\,\\mathrm{d}\\theta$$"
   ]
  },
  {
   "cell_type": "markdown",
   "id": "1f010fe0-00b3-43be-b0ae-2f4662eee674",
   "metadata": {},
   "source": [
    "The unit normal for $S_1$ and $S_2$, respectively, are:  \n",
    "\n",
    "$$ \\mathbf{n}_1 = -\\mathbf{k}  $$"
   ]
  },
  {
   "cell_type": "markdown",
   "id": "62e83fcf-d70e-41c5-80b8-9f962af32e5b",
   "metadata": {},
   "source": [
    "$$ \\mathbf{n}_2 = \\frac{\\langle x,y,z\\rangle}{a}$$"
   ]
  },
  {
   "cell_type": "markdown",
   "id": "d13ab3cf-bc24-48a0-b459-2ba41f8815d8",
   "metadata": {},
   "source": [
    "The integrands are:  \n",
    "\n",
    "$$ \\mathbf{F}\\cdot \\mathbf{n}_1 = 0 $$"
   ]
  },
  {
   "cell_type": "markdown",
   "id": "c38e6e63-8525-448d-b321-6567e936c8b2",
   "metadata": {},
   "source": [
    "$$ \\mathbf{F}\\cdot\\mathbf{n}_2 = \\frac{x^2+y^2+z^2}{a} = a$$"
   ]
  },
  {
   "cell_type": "markdown",
   "id": "6b7ad86c-9a4d-4d4f-b8c7-639eea5aa100",
   "metadata": {},
   "source": [
    "Thus,  \n",
    "\n",
    "$$ \\iint_S \\mathbf{F}\\cdot\\mathrm{d}\\mathbf{S} = \\iint_{S_2}\\mathbf{F}\\cdot\\mathbf{n}_2\\,\\mathrm{d}S_2 = \\iint_{S_2}\\mathbf{F}\\cdot\\mathrm{d}\\mathbf{S}_2$$"
   ]
  },
  {
   "cell_type": "markdown",
   "id": "f597523e-1e57-4067-be79-b9fb42bf544d",
   "metadata": {},
   "source": [
    "$$ = \\int_0^{2\\pi}\\int_0^{0.5\\pi}a^3\\sin\\phi\\,\\mathrm{d}\\phi\\,\\mathrm{d}\\theta$$"
   ]
  },
  {
   "cell_type": "markdown",
   "id": "9c813e2d-ab1f-41b6-ba0f-7553d8c6752c",
   "metadata": {},
   "source": [
    "\\begin{equation}\\tag{3.1}\n",
    "    = a^3\\int_0^{2\\pi}\\mathrm{d}\\theta = 2\\pi a^3\n",
    "\\end{equation}"
   ]
  },
  {
   "cell_type": "markdown",
   "id": "9d4ff0d9-6a0f-4a33-a702-7af46773ed7f",
   "metadata": {},
   "source": [
    "Now, for the triple integral:  \n",
    "\n",
    "$$ \\iiint_D \\nabla \\cdot \\mathbf{F}\\,\\mathrm{d}V = 3\\iiint_D \\mathrm{d}V = 3\\cdot\\text{vol. } S$$"
   ]
  },
  {
   "cell_type": "markdown",
   "id": "b444ed0b-4c71-4081-96bd-c58ee75ad1af",
   "metadata": {},
   "source": [
    "$$ = 3\\int_0^{2\\pi}\\int_0^{0.5\\pi}\\int_0^a \\rho^2\\sin\\phi\\,\\mathrm{d}\\rho\\,\\mathrm{d}\\phi\\,\\mathrm{d}\\theta$$"
   ]
  },
  {
   "cell_type": "markdown",
   "id": "9276c505-b453-4c13-ad43-e0d8cadf1277",
   "metadata": {},
   "source": [
    "$$ = a^3\\int_0^{2\\pi}\\int_0^{0.5\\pi}\\sin\\phi\\,\\mathrm{d}\\phi\\,\\mathrm{d}\\theta $$"
   ]
  },
  {
   "cell_type": "markdown",
   "id": "6e7f62e1-1930-43f8-a6d0-674faf2539dd",
   "metadata": {},
   "source": [
    "$$ = 2\\pi a^3$$"
   ]
  },
  {
   "cell_type": "markdown",
   "id": "6c692d50-f5fc-40a1-a1f7-8490cb880bd8",
   "metadata": {},
   "source": [
    "Via the above equation and equation (3.1) we have Divergence Theorem as it applies to this circumstance, thus verifying said theorem."
   ]
  },
  {
   "cell_type": "markdown",
   "id": "001a1a0b-875e-4f0a-afae-e6fa3239ee5a",
   "metadata": {},
   "source": [
    "#### $\\S 6\\mathrm{C} : 5$  \n",
    "\n",
    "Let $S$ be the tetrahedron and $D$ be the region enclosed by $S$.  $D$ is bounded by the coordinate planes and the plane given by:  \n",
    "\n",
    "$$  x+y+z = 1\\quad\\quad\\text{or}\\quad\\quad z:=f(x,y) = 1-x-y$$"
   ]
  },
  {
   "cell_type": "markdown",
   "id": "96d9f670-1cf7-477d-9f8f-7ea7de5b4510",
   "metadata": {},
   "source": [
    "Via Divergence Theorem,  \n",
    "\n",
    "$$ \\Phi = \\iiint_D \\nabla \\cdot \\mathbf{F}\\,\\mathrm{d}V \\quad\\quad\\text{where }\\,\\mathbf{F} = \\langle x,z^2,y^2\\rangle$$"
   ]
  },
  {
   "cell_type": "markdown",
   "id": "4e0aff63-6162-4dea-82e3-2be1ed55a3c8",
   "metadata": {},
   "source": [
    "$$ \\nabla \\cdot \\mathbf{F} = 1 $$"
   ]
  },
  {
   "cell_type": "markdown",
   "id": "86fcccc8-a878-4321-aa14-e02224ebf2d2",
   "metadata": {},
   "source": [
    "Thus, the flux is equal to the volume of our tetrahedron.  \n",
    "\n",
    "$$ \\Phi = \\iiint_D \\mathrm{d}V = \\int_0^1\\int_0^{f(x)}\\int_0^{f(x,y)} \\mathrm{d}z\\,\\mathrm{d}y\\,\\mathrm{d}x$$"
   ]
  },
  {
   "cell_type": "markdown",
   "id": "fb2bd9fc-ee11-465b-a9e4-92c27d450557",
   "metadata": {},
   "source": [
    "$$ = \\int_0^1\\int_0^{f(x)} (1-x-y)\\,\\mathrm{d}y\\,\\mathrm{d}x$$"
   ]
  },
  {
   "cell_type": "markdown",
   "id": "8bb6088d-a2fb-441a-9cfe-c8fe30dff98e",
   "metadata": {},
   "source": [
    "where  \n",
    "\n",
    "$$y:= f(x) = 1-x$$"
   ]
  },
  {
   "cell_type": "markdown",
   "id": "15266aa1-535c-4913-b517-f2398341df7f",
   "metadata": {},
   "source": [
    "The inner integral is:  \n",
    "\n",
    "$$ \\int_0^{f(x)}(1-x-y)\\,\\mathrm{d}y = f(x) - xf(x) - 0.5f^2(x) $$"
   ]
  },
  {
   "cell_type": "markdown",
   "id": "732e10f2-4022-4207-8275-24f53fbb2a6c",
   "metadata": {},
   "source": [
    "$$ = f^2(x) - 0.5f^2(x) = 0.5f^2(x) = \\frac{(1-x)^2}{2}$$"
   ]
  },
  {
   "cell_type": "markdown",
   "id": "05c4b1a4-838d-4135-806b-37cdeb15af22",
   "metadata": {},
   "source": [
    "$$ = \\frac{x^2 - 2x + 1}{2}$$"
   ]
  },
  {
   "cell_type": "markdown",
   "id": "68d38a05-dc87-4b06-b716-b75d90eff9fc",
   "metadata": {},
   "source": [
    "Finally,  \n",
    "\n",
    "$$ \\Phi = \\frac{1}{2}\\int_0^1\\big(x^2-2x+1\\big)\\,\\mathrm{d}x $$"
   ]
  },
  {
   "cell_type": "markdown",
   "id": "18e734af-9594-4601-8949-ae5ba069daff",
   "metadata": {},
   "source": [
    "$$ = \\frac{1}{2}\\left(\\frac{1}{3} - 1 + 1\\right) = \\frac{1}{6}$$"
   ]
  },
  {
   "cell_type": "markdown",
   "id": "c163bd45-b27e-470f-a24c-2645f4f37a02",
   "metadata": {},
   "source": [
    "#### $\\S 6\\mathrm{C} : 6$  \n",
    "\n",
    "Via Divergence Theorem,  \n",
    "\n",
    "$$ \\Phi = \\iiint_D \\nabla\\cdot\\mathbf{F}\\,\\mathrm{d}V \\quad\\quad\\text{where }\\,\\mathbf{F} = \\langle 0,0,z\\rangle$$"
   ]
  },
  {
   "cell_type": "markdown",
   "id": "3552c27d-7e53-469e-b4ec-6adb6da4ab8f",
   "metadata": {},
   "source": [
    "$$ \\nabla \\cdot \\mathbf{F} = 1$$"
   ]
  },
  {
   "cell_type": "markdown",
   "id": "a512f755-c45a-4548-9426-324b859ce4ac",
   "metadata": {},
   "source": [
    "Thus,  \n",
    "\n",
    "$$ \\Phi = \\iiint_D \\,\\mathrm{d}V$$"
   ]
  },
  {
   "cell_type": "markdown",
   "id": "d6d842e7-ddbc-444b-8f46-a5766b8f2498",
   "metadata": {},
   "source": [
    "where $D$ is the region enclosed by $S$, a cone with a height of $1$ and a vertex angle of $90^\\circ$.  The flux of $\\mathbf{F}$ across $S$ is, according to the above equation, equal to the volume of said cone.  \n",
    "\n",
    "$$ \\Phi = \\int_0^{2\\pi}\\int_0^1\\int_r^1 r\\,\\mathrm{d}z\\,\\mathrm{d}r\\,\\mathrm{d}\\theta$$"
   ]
  },
  {
   "cell_type": "markdown",
   "id": "fff29dab-a418-4383-acdb-c89f38fb7b66",
   "metadata": {},
   "source": [
    "$$ = \\int_0^{2\\pi}\\int_0^1 \\big(r - r^2\\big)\\,\\mathrm{d}r\\,\\mathrm{d}\\theta$$"
   ]
  },
  {
   "cell_type": "markdown",
   "id": "74dc1d88-7e24-4fbe-bce4-cf76ccef09c6",
   "metadata": {},
   "source": [
    "$$ = \\int_0^{2\\pi}\\left(\\frac{1}{2}-\\frac{1}{3}\\right)\\,\\mathrm{d}\\theta$$"
   ]
  },
  {
   "cell_type": "markdown",
   "id": "80a8c83c-0c0c-4560-a1fa-dd96d5760dc6",
   "metadata": {},
   "source": [
    "$$ = \\pi - \\frac{2\\pi}{3}$$"
   ]
  },
  {
   "cell_type": "markdown",
   "id": "3411f05b-cdc7-4ca6-852e-562a8abae3b9",
   "metadata": {},
   "source": [
    "$$ = \\frac{\\pi}{3}$$"
   ]
  },
  {
   "cell_type": "markdown",
   "id": "051079e9-aad6-4b4a-a5b3-70c3c7478fbe",
   "metadata": {},
   "source": [
    "#### $\\S 6\\mathrm{C} : 7$\n",
    "**a)**  \n",
    "\n",
    "Since $\\mathbf{F}$ is parallel to the top and bottom portions of $S$,  \n",
    "\n",
    "$$ \\iint_S \\mathbf{F}\\cdot\\mathbf{n}\\,\\mathrm{d}S = \\iint_{S_2}\\mathbf{F}\\cdot\\mathbf{n}_2\\,\\mathrm{d}S_2$$"
   ]
  },
  {
   "cell_type": "markdown",
   "id": "ce5433e1-a4f5-4c9d-80be-76c349dce1fc",
   "metadata": {},
   "source": [
    "where,  \n",
    "\n",
    "$$ S_2:\\; x^2+y^2 = 1 \\quad\\quad\\text{or}\\quad\\quad r = 1$$"
   ]
  },
  {
   "cell_type": "markdown",
   "id": "509e9435-7bed-44b9-935e-597d52fd21f8",
   "metadata": {},
   "source": [
    "$$ \\mathrm{d}S_2 = r\\,\\mathrm{d}\\theta\\,\\mathrm{d}z\\quad\\quad\\text{and}\\quad\\quad \\mathbf{n}_2 = \\langle x,y,0\\rangle = \\langle \\cos\\theta,\\sin\\theta,0\\rangle$$"
   ]
  },
  {
   "cell_type": "markdown",
   "id": "36fd48c0-65b7-4d14-872d-f76c6191a026",
   "metadata": {},
   "source": [
    "$$ \\iint_{S_2}\\mathbf{F}\\cdot\\mathbf{n}_2\\,\\mathrm{d}S_2 = \\int_0^{2\\pi}\\int_0^1 \\big(\\cos^3\\theta + \\cos\\theta\\sin^2\\theta\\big)\\,\\mathrm{d}z\\,\\mathrm{d}\\theta$$"
   ]
  },
  {
   "cell_type": "markdown",
   "id": "61e23df9-47e5-4f5e-ac63-500910e38877",
   "metadata": {},
   "source": [
    "$$ = \\int_0^{2\\pi}\\int_0^1 \\cos\\theta\\,\\mathrm{d}z\\,\\mathrm{d}\\theta = \\int_0^{2\\pi}\\cos\\theta\\,\\mathrm{d}\\theta$$"
   ]
  },
  {
   "cell_type": "markdown",
   "id": "ae6b81a4-fc9d-4c0d-9840-4176b1feb013",
   "metadata": {},
   "source": [
    "$$ = 0 $$"
   ]
  },
  {
   "cell_type": "markdown",
   "id": "c238fd3b-b3f9-4f81-9f00-4149449371f3",
   "metadata": {},
   "source": [
    "$$ \\iiint_D \\nabla \\cdot \\mathbf{F}\\,\\mathrm{d}V = \\int_0^{2\\pi}\\int_0^1\\int_0^1 \\big(2x + x\\big)r\\,\\mathrm{d}z\\,\\mathrm{d}r\\,\\mathrm{d}\\theta$$"
   ]
  },
  {
   "cell_type": "markdown",
   "id": "b53f3b42-a9c6-4561-891e-6a75cb959542",
   "metadata": {},
   "source": [
    "$$ =3 \\int_0^{2\\pi}\\int_0^1\\int_0^1 r^2\\cos\\theta\\,\\mathrm{d}z\\,\\mathrm{d}r\\,\\mathrm{d}\\theta = 3\\int_0^{2\\pi}\\int_0^1 r^2\\cos\\theta\\,\\mathrm{d}r\\,\\mathrm{d}\\theta$$"
   ]
  },
  {
   "cell_type": "markdown",
   "id": "edf99808-9417-4813-bf6c-9d1e9afe4c3d",
   "metadata": {},
   "source": [
    "$$ = \\int_0^{2\\pi}\\cos\\theta\\,\\mathrm{d}\\theta = 0$$"
   ]
  },
  {
   "cell_type": "markdown",
   "id": "0d16fbd8-92ef-4967-862c-0af17392320b",
   "metadata": {},
   "source": [
    "Therefore,  \n",
    "\n",
    "$$ \\iint_S \\mathbf{F}\\cdot\\mathrm{d}\\mathbf{S} = \\iiint_D \\nabla \\cdot \\mathbf{F}\\,\\mathrm{d}V$$"
   ]
  },
  {
   "cell_type": "markdown",
   "id": "3aa82c12-10ab-437c-b5b1-5313a335c300",
   "metadata": {},
   "source": [
    "#### $\\S 6\\mathrm{C} : 8$  \n",
    "\n",
    "**a)**\n",
    "Let $S$ be the unit sphere with positive orientation and $D$ be the region enclosed thereby.  Via Divergence Theorem,  \n",
    "\n",
    "$$ \\iint_S \\mathbf{F}\\cdot\\mathrm{d}\\mathbf{S} = \\iiint_D\\nabla \\cdot \\mathbf{F}\\,\\mathrm{d}V = 0$$"
   ]
  },
  {
   "cell_type": "markdown",
   "id": "79fae163-c639-436b-a482-6e0717aeb45c",
   "metadata": {},
   "source": [
    "$$ \\iint_{S_1} \\mathbf{F}\\cdot\\mathrm{n}_1\\,\\mathrm{d}S = \\iint_{S_1}\\mathbf{F}\\cdot\\mathbf{n}\\,\\mathrm{d}S$$"
   ]
  },
  {
   "cell_type": "markdown",
   "id": "c7e453af-90c7-4e76-8175-8be8094daa1b",
   "metadata": {},
   "source": [
    "$$ \\iint_{S_2}\\mathbf{F}\\cdot\\mathbf{n}_2\\,\\mathrm{d}S = -\\iint_{S_2}\\mathbf{F}\\cdot\\mathbf{n}\\,\\mathrm{d}S$$"
   ]
  },
  {
   "cell_type": "markdown",
   "id": "f42b3198-e053-4380-9262-a2d246e413df",
   "metadata": {},
   "source": [
    "Via the above three equations,  \n",
    "\n",
    "$$ \\iint_S \\mathbf{F}\\cdot\\mathrm{d}\\mathbf{S} = \\iint_{S_1}\\mathbf{F}\\cdot\\mathbf{n}\\,\\mathrm{d}S + \\iint_{S_2}\\mathbf{F}\\cdot\\mathbf{n}\\,\\mathrm{d}S = 0$$"
   ]
  },
  {
   "cell_type": "markdown",
   "id": "91e8ae4d-eed5-43aa-81a8-3989de0e4347",
   "metadata": {},
   "source": [
    "$$ \\therefore\\quad \\iint_{S_1}\\mathbf{F}\\cdot\\mathrm{d}\\mathbf{S} = -\\iint_{S_2}\\mathbf{F}\\cdot\\mathrm{d}\\mathbf{S}\\quad\\therefore$$"
   ]
  },
  {
   "cell_type": "markdown",
   "id": "2aa9f38d-aee5-4c58-9aa6-c531b3b48f2f",
   "metadata": {},
   "source": [
    "$$ \\iint_{S_1}\\mathbf{F}\\cdot\\mathrm{d}\\mathbf{S} = \\iint_{S_2}\\mathbf{F}\\cdot\\mathbf{n}_2\\,\\mathrm{d}S$$"
   ]
  },
  {
   "cell_type": "markdown",
   "id": "1331ac30-7394-4e4d-b751-336e12d11d33",
   "metadata": {},
   "source": [
    "To put it another way, assuming $\\mathbf{F}$ is a flow field, the flux of $\\mathbf{F}$ across $S_1$ is equal to the flux of $\\mathbf{F}$ across $S_2$.  In other words, for each arbitrary unit -- it could be a unit of mass or charge -- that flows across $S_2$ in the upward direction, a unit of equal magnitude flows across $S_1$ in the upward direction, resulting in no net inflows or outflows into the sphere."
   ]
  },
  {
   "cell_type": "markdown",
   "id": "c5f21eb7-7c5e-45c9-bf75-053d9e292cff",
   "metadata": {},
   "source": [
    "**b)**  The flux of $\\mathbf{F}$ across $S$ is equal to zero.  Moreover, $\\mathbf{F}$ is incompressible."
   ]
  },
  {
   "cell_type": "markdown",
   "id": "6d35eb49-37da-4095-8cad-f5852376ff18",
   "metadata": {},
   "source": [
    "#### $\\S 6\\mathrm{C} : 10$  \n",
    "\n",
    "The flow field $\\mathbf{F}$ is *incompressible* if and only if $\\displaystyle \\iint_S\\mathbf{F}\\cdot\\mathrm{d}\\mathbf{S} = 0$.  Via Divergence Theorem,  \n",
    "\n",
    "$$ \\iint_S \\mathbf{F}\\cdot\\mathrm{d}\\mathbf{S} = 0 \\quad\\iff\\quad \\iiint_D \\nabla \\cdot \\mathbf{F}\\,\\mathrm{d}V = 0$$"
   ]
  },
  {
   "cell_type": "markdown",
   "id": "df54f472-5de4-46ca-bb0a-f4a6466c8712",
   "metadata": {},
   "source": [
    "Of course, it is intuitive that:  \n",
    "\n",
    "$$ \\iiint_D \\nabla \\cdot \\mathbf{F} \\,\\mathrm{d}V \\quad\\iff\\quad \\nabla \\cdot \\mathbf{F} = 0$$"
   ]
  },
  {
   "cell_type": "markdown",
   "id": "0c7db2d4-9759-401c-9a98-ab969d944ce9",
   "metadata": {},
   "source": [
    "Via the above two premises and distributed middle,  \n",
    "\n",
    "$$ \\iint_S\\mathbf{F}\\cdot\\mathrm{d}\\mathbf{S} = 0 \\quad\\iff\\quad \\nabla \\cdot \\mathbf{F} = 0$$"
   ]
  },
  {
   "cell_type": "markdown",
   "id": "224f9646-842f-408c-858b-872c7a6d7230",
   "metadata": {},
   "source": [
    "Finally, via the above, the first premise of this proof and distributed middle, we have the proposition.  Q.E.D."
   ]
  }
 ],
 "metadata": {
  "kernelspec": {
   "display_name": "Python 3 (ipykernel)",
   "language": "python",
   "name": "python3"
  },
  "language_info": {
   "codemirror_mode": {
    "name": "ipython",
    "version": 3
   },
   "file_extension": ".py",
   "mimetype": "text/x-python",
   "name": "python",
   "nbconvert_exporter": "python",
   "pygments_lexer": "ipython3",
   "version": "3.10.12"
  }
 },
 "nbformat": 4,
 "nbformat_minor": 5
}
