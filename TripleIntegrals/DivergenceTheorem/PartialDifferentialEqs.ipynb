{
 "cells": [
  {
   "cell_type": "markdown",
   "id": "c9973977-fa81-4678-a0ac-8959bfd04d2f",
   "metadata": {},
   "source": [
    "## Partial Differential Equations  \n",
    "\n",
    "A **partial differential equation**, PDE for short, is an equation involving some unkown function of several variables and one or more of its partial derivatives.  For example,  \n",
    "\n",
    "$$ x\\,\\frac{\\partial w}{\\partial x} - y\\,\\frac{\\partial w}{\\partial y} = 0$$"
   ]
  },
  {
   "cell_type": "markdown",
   "id": "9c65757a-9541-45f9-849b-b846ba57260d",
   "metadata": {},
   "source": [
    "is such an equation.  Evidently, the unknown function is of two variables.  Said function is $f(x,y)$, where \n",
    "\n",
    "$$w = f(x,y)$$"
   ]
  },
  {
   "cell_type": "markdown",
   "id": "d9b3fcb3-5e01-4780-bb90-e09413341c9f",
   "metadata": {},
   "source": [
    "Moreover, the dependent variable is of course $w$, while the independent or interdependent variales are $x$ and $y$.  We infer this from the fact that the partial derivative of $w$ with respect to $x$ and $y$ is found the equation."
   ]
  },
  {
   "cell_type": "markdown",
   "id": "03161dc1-2d46-4df6-a200-29ee37537e5e",
   "metadata": {},
   "source": [
    "In general, a **solution** to a partial differential equation is a differentiable function that satisfies it.  As for the above example, the functions:  \n",
    "\n",
    "$$ w = x^ny^n \\quad\\forall n\\in\\mathbb{R}$$"
   ]
  },
  {
   "cell_type": "markdown",
   "id": "f1e0ce25-91b1-4b67-bc07-ad5c3816f7dd",
   "metadata": {},
   "source": [
    "are all solutions to the equation.  A PDE may have many solutions, in some cases, far too many to find all of them.  The set of solutions may be constrained by some extra condition(s), usually either a boundary or initial value condition, depending on the nature of the issue/problem."
   ]
  },
  {
   "cell_type": "markdown",
   "id": "bb132dab-ee2e-4cf1-9ab4-5d742424242a",
   "metadata": {},
   "source": [
    "### Laplace Equation  \n",
    "\n",
    "Our first important PDE is the **Laplace equation** in three dimensions.  \n",
    "\n",
    "\\begin{equation}\\tag{1}\n",
    "    \\frac{\\partial^2 w}{\\partial x^2} + \\frac{\\partial^2 w}{\\partial y^2} + \\frac{\\partial^2 w}{\\partial z^2} = 0\n",
    "\\end{equation}"
   ]
  },
  {
   "cell_type": "markdown",
   "id": "78eeaea2-0cf0-4d75-ba91-bbaaefd17662",
   "metadata": {},
   "source": [
    "Which can be rewritten as:  \n",
    "\n",
    "$$ \\nabla ^2 w = 0 \\quad\\quad\\text{where }\\,\\nabla ^2 = \\nabla \\cdot \\nabla $$"
   ]
  },
  {
   "cell_type": "markdown",
   "id": "5adb608f-1def-49f2-8651-778616d478be",
   "metadata": {},
   "source": [
    "Ultimately, the Laplace equation says that the divergence of the gradient of $w$ is equal to zero throughout it's domain.  \n",
    "\n",
    "$$ \\nabla ^2 w = \\nabla \\cdot (\\nabla w) = \\mathrm{div }\\,\\mathbf{W} = 0$$"
   ]
  },
  {
   "cell_type": "markdown",
   "id": "2d5e5218-1479-4ae9-b3ec-bb739d024d29",
   "metadata": {},
   "source": [
    "where  $\\mathbf{W} = \\nabla w$ is the gradient of $w$."
   ]
  },
  {
   "cell_type": "markdown",
   "id": "199895e8-ed02-46b1-8d82-0c44b0dd3f5d",
   "metadata": {},
   "source": [
    "Any steady-state temperature distribution in 3d-space satisfies the Laplace equation.  \n",
    "\n",
    "\\begin{equation}\\tag{2}\n",
    "    w = T(x,y,z)\n",
    "\\end{equation}"
   ]
  },
  {
   "cell_type": "markdown",
   "id": "2a4bc3dc-4eb9-4142-a4a7-573640bf6a52",
   "metadata": {},
   "source": [
    "where $T:=T(x,y,z)$ is the temperature at $(x,y,z)$.  Here, *steady-state* means that it is unchanging over time.  In the case of equation (2), the steady-state nature of the temperature distribution is indicated by the lack of $t$ or time as a variable of the function $T$ that gives the temperature distribution."
   ]
  },
  {
   "cell_type": "markdown",
   "id": "15114d14-3db4-4c1e-b399-10e75a06f62b",
   "metadata": {},
   "source": [
    "It might be worth noting that the flux of $\\mathbf{W}$ across any closed surface $S$ is equal to zero, meaning there is no net source or sink rate withing the region enclosed by $S$.  Another example is the *gravitational potential*,  \n",
    "\n",
    "$$ w = \\phi(x,y,z)$$"
   ]
  }
 ],
 "metadata": {
  "kernelspec": {
   "display_name": "Python 3 (ipykernel)",
   "language": "python",
   "name": "python3"
  },
  "language_info": {
   "codemirror_mode": {
    "name": "ipython",
    "version": 3
   },
   "file_extension": ".py",
   "mimetype": "text/x-python",
   "name": "python",
   "nbconvert_exporter": "python",
   "pygments_lexer": "ipython3",
   "version": "3.10.12"
  }
 },
 "nbformat": 4,
 "nbformat_minor": 5
}
