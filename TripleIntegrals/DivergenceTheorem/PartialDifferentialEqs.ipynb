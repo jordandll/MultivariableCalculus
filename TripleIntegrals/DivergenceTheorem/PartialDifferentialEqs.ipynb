{
 "cells": [
  {
   "cell_type": "markdown",
   "id": "c9973977-fa81-4678-a0ac-8959bfd04d2f",
   "metadata": {},
   "source": [
    "## Partial Differential Equations  \n",
    "\n",
    "A **partial differential equation**, PDE for short, is an equation involving some unkown function of several variables and one or more of its partial derivatives.  For example,  \n",
    "\n",
    "$$ x\\,\\frac{\\partial w}{\\partial x} - y\\,\\frac{\\partial w}{\\partial y} = 0$$"
   ]
  },
  {
   "cell_type": "markdown",
   "id": "9c65757a-9541-45f9-849b-b846ba57260d",
   "metadata": {},
   "source": [
    "is such an equation.  Evidently, the unknown function is of two variables.  Said function is $f(x,y)$, where \n",
    "\n",
    "$$w = f(x,y)$$"
   ]
  },
  {
   "cell_type": "markdown",
   "id": "d9b3fcb3-5e01-4780-bb90-e09413341c9f",
   "metadata": {},
   "source": [
    "Moreover, the dependent variable is of course $w$, while the independent or interdependent variales are $x$ and $y$.  We infer this from the fact that the partial derivative of $w$ with respect to $x$ and $y$ is found the equation."
   ]
  },
  {
   "cell_type": "markdown",
   "id": "03161dc1-2d46-4df6-a200-29ee37537e5e",
   "metadata": {},
   "source": [
    "In general, a **solution** to a partial differential equation is a differentiable function that satisfies it.  As for the above example, the functions:  \n",
    "\n",
    "$$ w = x^ny^n \\quad\\forall n\\in\\mathbb{R}$$"
   ]
  },
  {
   "cell_type": "markdown",
   "id": "f1e0ce25-91b1-4b67-bc07-ad5c3816f7dd",
   "metadata": {},
   "source": [
    "are all solutions to the equation.  A PDE may have many solutions, in some cases, far too many to find all of them.  The set of solutions may be constrained by some extra condition(s), usually either a boundary or initial value condition, depending on the nature of the issue/problem."
   ]
  },
  {
   "cell_type": "markdown",
   "id": "bb132dab-ee2e-4cf1-9ab4-5d742424242a",
   "metadata": {},
   "source": [
    "### Laplace Equation  \n",
    "\n",
    "Our first important PDE is the **Laplace equation** in three dimensions.  \n",
    "\n",
    "\\begin{equation}\\tag{1}\n",
    "    \\frac{\\partial^2 w}{\\partial x^2} + \\frac{\\partial^2 w}{\\partial y^2} + \\frac{\\partial^2 w}{\\partial z^2} = 0\n",
    "\\end{equation}"
   ]
  },
  {
   "cell_type": "markdown",
   "id": "78eeaea2-0cf0-4d75-ba91-bbaaefd17662",
   "metadata": {},
   "source": [
    "Which can be rewritten as:  \n",
    "\n",
    "$$ \\nabla ^2 w = 0 \\quad\\quad\\text{where }\\,\\nabla ^2 = \\nabla \\cdot \\nabla $$"
   ]
  },
  {
   "cell_type": "markdown",
   "id": "5adb608f-1def-49f2-8651-778616d478be",
   "metadata": {},
   "source": [
    "Ultimately, the Laplace equation says that the divergence of the gradient of $w$ is equal to zero throughout it's domain.  \n",
    "\n",
    "$$ \\nabla ^2 w = \\nabla \\cdot (\\nabla w) = \\mathrm{div }\\,\\mathbf{W} = 0$$"
   ]
  },
  {
   "cell_type": "markdown",
   "id": "2d5e5218-1479-4ae9-b3ec-bb739d024d29",
   "metadata": {},
   "source": [
    "where  $\\mathbf{W} = \\nabla w$ is the gradient of $w$."
   ]
  },
  {
   "cell_type": "markdown",
   "id": "199895e8-ed02-46b1-8d82-0c44b0dd3f5d",
   "metadata": {},
   "source": [
    "Any steady-state temperature distribution in 3d-space satisfies the Laplace equation.  \n",
    "\n",
    "\\begin{equation}\\tag{2}\n",
    "    w = T(x,y,z)\n",
    "\\end{equation}"
   ]
  },
  {
   "cell_type": "markdown",
   "id": "2a4bc3dc-4eb9-4142-a4a7-573640bf6a52",
   "metadata": {},
   "source": [
    "where $T:=T(x,y,z)$ is the temperature at $(x,y,z)$.  Here, *steady-state* means that it is unchanging over time.  In the case of equation (2), the steady-state nature of the temperature distribution is indicated by the lack of $t$ or time as a variable of the function $T$ that gives the temperature distribution."
   ]
  },
  {
   "cell_type": "markdown",
   "id": "15114d14-3db4-4c1e-b399-10e75a06f62b",
   "metadata": {},
   "source": [
    "It might be worth noting that the flux of $\\mathbf{W}$ across any simple closed surface $S$ is equal to zero, meaning there is no net source or sink rate withing the region enclosed by $S$.  Another example is the *gravitational potential*,  \n",
    "\n",
    "$$ w = \\phi(x,y,z)$$"
   ]
  },
  {
   "cell_type": "markdown",
   "id": "5fa0a378-6f38-4dd8-ab28-e526e03aef5f",
   "metadata": {},
   "source": [
    "## Harmonic Functions"
   ]
  },
  {
   "cell_type": "markdown",
   "id": "62296384-d63f-4e02-8fbd-0ce460b4bf67",
   "metadata": {},
   "source": [
    "A function $u$ is *harmonic* if it satisfies the Laplace equation (i.e. if $\\nabla^2 u = 0$).  In this problem we will see that the average value of a harmonic function over any sphere is exactly its value at the center of the sphere.  \n",
    "\n",
    "For simplicity, we'll take the center to be origin and show that the average is $u(0,0,0)$."
   ]
  },
  {
   "cell_type": "markdown",
   "id": "1ebd16df-264b-40fd-8d54-d24da1a16d72",
   "metadata": {},
   "source": [
    "Let $u$ be a harmonic function and $S$ be a sphere of radius $a$ centered at origin.  The average value of $u$ over $S$, denoted as $\\overline{u}$, is given by:  \n",
    "\n",
    "\\begin{equation}\\tag{3}\n",
    "    \\overline{u} = \\frac{1}{A}\\,\\iint_S u\\,\\mathrm{d}S\\quad\\quad\\text{where }\\,A = \\text{area }\\,S = \\iint_S \\,\\mathrm{d}S\n",
    "\\end{equation}"
   ]
  },
  {
   "cell_type": "markdown",
   "id": "7d87e800-fa87-4e87-981a-89d25680c3b0",
   "metadata": {},
   "source": [
    "Of course, the surface area element $\\mathrm{d}S$ is given by:  \n",
    "\n",
    "$$ \\mathrm{d}S = \\rho^2\\sin\\phi\\,\\mathrm{d}\\phi\\,\\mathrm{d}\\theta = a^2\\sin\\phi\\,\\mathrm{d}\\phi\\,\\mathrm{d}\\theta$$"
   ]
  },
  {
   "cell_type": "markdown",
   "id": "e4dc3ec0-d9b2-4c71-a078-6d7bc694f756",
   "metadata": {},
   "source": [
    "And the surface area $A$ is given by:  \n",
    "\n",
    "$$ A = 2a^2\\int_0^{2\\pi}\\int_0^{0.5\\pi}\\sin\\phi\\,\\mathrm{d}\\phi\\,\\mathrm{d}\\theta$$"
   ]
  },
  {
   "cell_type": "markdown",
   "id": "a44dac69-47e1-4e38-b1dc-119ecaf09e02",
   "metadata": {},
   "source": [
    "\\begin{equation}\\tag{3a}\n",
    "    = 4\\pi a^2\n",
    "\\end{equation}"
   ]
  },
  {
   "cell_type": "markdown",
   "id": "f7a97ce1-252f-4157-83a9-c54e9605cb74",
   "metadata": {},
   "source": [
    "#### Problem 1\n",
    "Thus,  \n",
    "\n",
    "\\begin{equation}\\tag{4}\n",
    "    \\overline{u} = \\frac{1}{4\\pi}\\int_0^{2\\pi}\\int_0^{\\pi} u(a,\\phi,\\theta)\\sin\\phi\\,\\mathrm{d}\\phi\\,\\mathrm{d}\\theta\n",
    "\\end{equation}"
   ]
  },
  {
   "cell_type": "markdown",
   "id": "6baa3656-8be8-454a-9a8e-20bbd70bd13c",
   "metadata": {},
   "source": [
    "#### Problem 2  \n",
    "\n",
    "\\begin{equation}\\tag{5}\n",
    "    \\frac{\\mathrm{d}\\overline{u}}{\\mathrm{d}a} = \\frac{1}{4\\pi a^2}\\iint_S \\frac{\\mathrm{d}u}{\\mathrm{d}a}\\,\\mathrm{d}S - \\frac{1}{2\\pi a^3}\\iint_S u\\,\\mathrm{d}S\n",
    "\\end{equation}"
   ]
  },
  {
   "cell_type": "markdown",
   "id": "ba54b833-5b26-4399-99ec-41764c63af6b",
   "metadata": {},
   "source": [
    "Now, let's rewrite the above double integral in $xy$-coordinates.  \n",
    "\n",
    "$$ \\mathbf{n}\\cdot \\mathrm{d}S = \\left(-\\frac{\\partial z}{\\partial x}\\,\\mathbf{i} - \\frac{\\partial z}{\\partial y}\\,\\mathbf{j} + \\mathbf{k}\\right)\\,\\mathrm{d}x\\,\\mathrm{d}y$$"
   ]
  },
  {
   "cell_type": "markdown",
   "id": "b03ce479-f92e-47d6-946d-c4d20f925236",
   "metadata": {},
   "source": [
    "where  \n",
    "\n",
    "$$ z:= f(x,y) = \\sqrt{a^2 - x^2 - y^2}$$"
   ]
  },
  {
   "cell_type": "markdown",
   "id": "77573904-e650-4397-a242-ed5fba78f3c2",
   "metadata": {},
   "source": [
    "$$ \\frac{\\partial z}{\\partial x} = -\\frac{x}{\\sqrt{a^2-x^2-y^2}} \\quad\\quad\\text{and}\\quad\\quad \\frac{\\partial z}{\\partial y} = -\\frac{y}{\\sqrt{a^2-x^2-y^2}}$$"
   ]
  },
  {
   "cell_type": "markdown",
   "id": "e0b2a94e-7873-44bd-8254-9593fb7de712",
   "metadata": {},
   "source": [
    "Thus,  \n",
    "\n",
    "$$ \\mathrm{d}\\mathbf{S} = \\left(\\frac{x}{z}\\,\\mathbf{i} + \\frac{y}{z}\\,\\mathbf{j} + \\mathbf{k}\\right)\\,\\mathrm{d}x\\,\\mathrm{d}y $$"
   ]
  },
  {
   "cell_type": "markdown",
   "id": "04a648b9-f1c5-4b6c-acd9-a09e1657ad90",
   "metadata": {},
   "source": [
    "$$ \\mathrm{d}S = |\\mathrm{d}\\mathbf{S}| = \\frac{\\sqrt{x^2+y^2+z^2}}{z}\\,\\mathrm{d}A = \\frac{a}{z}\\,\\mathrm{d}A = \\frac{a}{z}\\,\\mathrm{d}x\\,\\mathrm{d}y$$"
   ]
  },
  {
   "cell_type": "markdown",
   "id": "cdd522f2-89ee-4713-8c56-bff9f3b6085f",
   "metadata": {},
   "source": [
    "$$ \\iint_S u\\,\\mathrm{d}S = \\iint_R u\\big(x,y,f(x,y)\\big)\\,\\frac{a}{z}\\,\\mathrm{d}A + \\iint_R u\\big(x,y,-f(x,y)\\big)\\,\\frac{a}{z}\\,\\mathrm{d}A $$"
   ]
  },
  {
   "cell_type": "markdown",
   "id": "60880d08-daf6-4f45-af41-4e024a49161d",
   "metadata": {},
   "source": [
    "where $R$ is the projection of $S$ onto the $xy$-plane, which is a circle of radius $a$ resting on the $xy$-plane centered at origin.  \n",
    "\n",
    "$$ R:\\; \\big(x,\\pm f(x), 0\\big) \\quad\\text{for }\\, -a \\le x \\le a \\quad\\quad\\text{where }\\, f(x) = \\sqrt{a^2-x^2}$$"
   ]
  },
  {
   "cell_type": "markdown",
   "id": "1d705d80-bd9a-4f49-91db-ad2a4e48db4a",
   "metadata": {},
   "source": [
    "$$ \\iint_S u\\,\\mathrm{d}S = \\int_{-a}^a\\int_{-f(x,y)}^{f(x)} u\\big((x,y,f(x,y)\\big)\\,\\frac{a}{\\sqrt{a^2-x^2-y^2}}\\,\\mathrm{d}y\\,\\mathrm{d}x + \\int_{-a}^a\\int_{-f(x,y)}^{f(x,y)} u\\big(x,y,-f(x,y)\\big)\\,\\frac{a}{\\sqrt{a^2-x^2-y^2}}\\,\\mathrm{d}y\\,\\mathrm{d}x $$"
   ]
  },
  {
   "cell_type": "markdown",
   "id": "e333dffc-c46a-41cc-9f85-dec2bdd3715c",
   "metadata": {},
   "source": [
    "In polar coordinates:  \n",
    "\n",
    "$$ \\iint_S u\\,\\mathrm{d}S = \\int_0^{2\\pi}\\int_0^a u\\,\\frac{ar}{\\sqrt{a^2-r^2}}\\,\\mathrm{d}r\\,\\mathrm{d}\\theta$$"
   ]
  },
  {
   "cell_type": "markdown",
   "id": "916f51dc-2e15-48cb-9db1-5c842d91be5b",
   "metadata": {},
   "source": [
    "Via Divergence Theorem,  \n",
    "\n",
    "\\begin{equation}\\tag{6}\n",
    "    \\iint_S \\mathbf{U}\\cdot\\mathrm{d}\\mathbf{S} = 0 \\quad\\quad\\text{where }\\,\\mathbf{U} = \\nabla u\n",
    "\\end{equation}"
   ]
  },
  {
   "cell_type": "markdown",
   "id": "154016e8-eb40-4fc8-8298-0fa0040b0471",
   "metadata": {},
   "source": [
    "\\begin{equation}\\tag{6a}\n",
    "    \\mathrm{d}\\mathbf{S} = \\mathbf{n}\\,\\mathrm{d}x\\,\\mathrm{d}y = \\frac{\\langle x,y,z\\rangle}{a}\\,\\mathrm{d}x\\,\\mathrm{d}y\n",
    "\\end{equation}"
   ]
  },
  {
   "cell_type": "markdown",
   "id": "0ea06a4e-726c-489c-8a6a-8a233af61206",
   "metadata": {},
   "source": [
    "Via the product rule,  \n",
    "\n",
    "$$ \\frac{\\mathrm{d}\\big(\\nabla u\\cdot \\mathbf{n}\\big)}{\\mathrm{d}a} = \\frac{\\mathrm{d}\\nabla u}{\\mathrm{d}a}\\cdot \\mathbf{n} + \\nabla u \\cdot \\frac{\\mathrm{d}\\mathbf{n}}{\\mathrm{d}a}$$"
   ]
  },
  {
   "cell_type": "markdown",
   "id": "46269e01-5477-484f-9469-220dd6c36c34",
   "metadata": {},
   "source": [
    "$$ x = r\\cos\\theta\\quad\\quad y = r\\sin\\theta \\quad\\quad z = \\rho\\cos\\phi$$"
   ]
  },
  {
   "cell_type": "markdown",
   "id": "f474dac6-9fea-46fa-a12e-8c0827c991cc",
   "metadata": {},
   "source": [
    "$$ r = \\rho\\sin\\phi \\quad\\quad x = \\rho\\sin\\phi\\,\\cos\\theta \\quad\\quad y = \\rho\\sin\\phi\\sin\\theta$$"
   ]
  },
  {
   "cell_type": "markdown",
   "id": "b3105b25-c0c2-4ea4-85ed-62a926e1bc34",
   "metadata": {},
   "source": [
    "Thus,  \n",
    "\n",
    "\\begin{equation}\\tag{6b.1}\n",
    "    \\mathbf{n} = \\sin\\phi\\,\\cos\\theta\\,\\mathbf{i} + \\sin\\phi\\,\\sin\\theta\\,\\mathbf{j} + \\cos\\phi\\mathbf{k}\n",
    "\\end{equation}"
   ]
  },
  {
   "cell_type": "markdown",
   "id": "fa5d0b66-a4b2-4f65-ab17-2e021d305060",
   "metadata": {},
   "source": [
    "In spherical coordinates the normal vector is:  \n",
    "\n",
    "\\begin{equation}\\tag{6b}\n",
    "    \\mathrm{d}\\mathbf{S} = a^2\\sin\\phi\\mathbf{n}\\,\\mathrm{d}\\phi\\,\\mathrm{d}\\theta\n",
    "\\end{equation}"
   ]
  },
  {
   "cell_type": "markdown",
   "id": "a2d0f341-441b-42f5-a646-37febe7e0684",
   "metadata": {},
   "source": [
    "The integrand is:  \n",
    "\n",
    "$$\\mathbf{U} \\cdot \\mathrm{d}\\mathbf{S} = \\left(\\frac{\\partial u}{\\partial x}\\,x + \\frac{\\partial u}{\\partial y}\\,y + \\frac{\\partial u}{\\partial z}\\,z\\right)\\,\\frac{\\mathrm{d}x\\,\\mathrm{d}y}{a} $$"
   ]
  },
  {
   "cell_type": "markdown",
   "id": "139b6915-3fc0-41df-8f1f-a3609093d70a",
   "metadata": {},
   "source": [
    "$$ \\nabla u \\cdot \\mathbf{n} = \\left(\\frac{\\partial u}{\\partial x}\\,x + \\frac{\\partial u}{\\partial y}\\, y + \\frac{\\partial u}{\\partial z}\\,z\\right)\\frac{1}{a}$$"
   ]
  },
  {
   "cell_type": "markdown",
   "id": "e5cad721-19e8-4c73-818c-b33c13f97b14",
   "metadata": {},
   "source": [
    "\\begin{equation}\\tag{7}\n",
    "    \\mathrm{d}u = \\frac{\\partial u}{\\partial x}\\,\\mathrm{d}x + \\frac{\\partial u}{\\partial y}\\,\\mathrm{d}y + \\frac{\\partial u}{\\partial z}\\,\\mathrm{d}z = (\\nabla u \\cdot \\mathrm{d}\\mathbf{n}) a\n",
    "\\end{equation}"
   ]
  },
  {
   "cell_type": "markdown",
   "id": "96152847-4fee-4263-8471-39820e2dccff",
   "metadata": {},
   "source": [
    "$$ \\mathrm{d}z = \\frac{\\partial z}{\\partial x}\\,\\mathrm{d}x + \\frac{\\partial z}{\\partial y}\\,\\mathrm{d}y$$"
   ]
  },
  {
   "cell_type": "markdown",
   "id": "fb1b987b-dac6-4b54-86ef-4eaf5c5c60d3",
   "metadata": {},
   "source": [
    "For the top half of $S$,  \n",
    "\n",
    "$$\\mathrm{d}z = -\\frac{x}{\\sqrt{a^2-x^2-y^2}}\\,\\mathrm{d}x - \\frac{y}{\\sqrt{a^2-x^2-y^2}}\\,\\mathrm{d}y $$"
   ]
  },
  {
   "cell_type": "markdown",
   "id": "e44640c2-5362-4635-9411-cdf11ecdd7fb",
   "metadata": {},
   "source": [
    "$$ -\\mathrm{d}z = \\frac{x}{\\sqrt{a^2-r^2}}\\,\\mathrm{d}x + \\frac{y}{\\sqrt{a^2-r^2}}\\,\\mathrm{d}y$$"
   ]
  },
  {
   "cell_type": "markdown",
   "id": "b6b7cdee-c9a6-4fc8-b106-49f2e0b47f11",
   "metadata": {},
   "source": [
    "$$\\mathrm{d}a = \\frac{\\partial a}{\\partial x}\\,\\mathrm{d}x + \\frac{\\partial a}{\\partial y}\\,\\mathrm{d}y + \\frac{\\partial a}{\\partial z}\\,\\mathrm{d}z $$"
   ]
  },
  {
   "cell_type": "markdown",
   "id": "f7ea6bb6-f2e5-4d82-bb64-dce2354934a2",
   "metadata": {},
   "source": [
    "$$ = \\partial a\\,\\frac{\\partial z\\partial y\\,\\mathrm{d}x + \\partial x\\partial z\\,\\mathrm{d}y + \\partial x\\partial y\\,\\mathrm{d}z}{\\partial x\\partial y\\partial z}$$"
   ]
  },
  {
   "cell_type": "markdown",
   "id": "f2d67c61-3760-4098-bc72-233c47f6ed5d",
   "metadata": {},
   "source": [
    "$$ \\mathrm{d}u = \\partial u\\,\\frac{\\partial z\\partial y\\,\\mathrm{d}x + \\partial x\\partial z\\,\\mathrm{d}y + \\partial x\\partial y\\,\\mathrm{d}z}{\\partial x\\partial y\\partial z}$$"
   ]
  },
  {
   "cell_type": "markdown",
   "id": "7abc02f2-49d9-4183-ac23-cdbbcd242927",
   "metadata": {},
   "source": [
    "$$ \\frac{\\partial x}{\\partial \\rho} = \\sin\\phi\\cos\\theta \\quad\\quad \\frac{\\partial y}{\\partial \\rho} = \\sin\\phi\\sin\\theta\\quad\\quad \\frac{\\partial z}{\\partial \\rho} = \\cos\\phi$$"
   ]
  },
  {
   "cell_type": "markdown",
   "id": "5fa6d988-10cd-44d7-9e23-2b3aebad4164",
   "metadata": {},
   "source": [
    "Via the above three equations and the chain rule,  \n",
    "\n",
    "$$ \\frac{\\partial u}{\\partial x} = \\frac{\\partial u}{\\partial \\rho}\\csc\\phi\\sec\\theta \\quad\\quad \\frac{\\partial u}{\\partial y} = \\frac{\\partial u}{\\partial \\rho}\\csc\\phi\\csc\\theta \\quad\\quad \\frac{\\partial u}{\\partial z} = \\frac{\\partial u}{\\partial \\rho}\\sec\\theta$$"
   ]
  },
  {
   "cell_type": "markdown",
   "id": "e7227419-3a8b-470a-8df0-32e0f40da471",
   "metadata": {},
   "source": [
    "THus,  \n",
    "\n",
    "$$ \\mathbf{U}\\cdot\\mathrm{d}\\mathbf{S} = 3\\,\\frac{\\partial u}{\\partial a}\\,\\mathrm{d}S $$"
   ]
  },
  {
   "cell_type": "markdown",
   "id": "9f2b1fa0-af5b-4810-b371-198a73c9aa9d",
   "metadata": {},
   "source": [
    "\\begin{equation}\\tag{7}\n",
    "    \\iint_S \\frac{\\partial u}{\\partial a}\\,\\mathrm{d}S = 0\n",
    "\\end{equation}"
   ]
  },
  {
   "cell_type": "markdown",
   "id": "b277752a-b32c-4268-b700-f401b09f94bd",
   "metadata": {},
   "source": [
    "$$ \\iiint_D \\nabla^2 u\\,\\mathrm{d}V = \\iiint_D \\frac{\\partial^2 u}{\\partial x^2}\\,\\mathrm{d}V + \\iiint_D \\frac{\\partial^2 u}{\\partial y^2}\\,\\mathrm{d}V + \\iiint_D \\frac{\\partial^2 u}{\\partial z^2}\\,\\mathrm{d}V $$"
   ]
  },
  {
   "cell_type": "markdown",
   "id": "ac170a1e-54a9-4dc1-be71-73fa1681c330",
   "metadata": {},
   "source": [
    "$$ \\iiint_D \\frac{\\partial^2 u}{\\partial x^2}\\,\\mathrm{d}V = \\int_{-a}^a\\int_{-\\sqrt{a^2-z^2}}^\\sqrt{a^2-z^2}\\int_{-\\sqrt{a^2-y^2-z^2}}^\\sqrt{a^2-y^2-z^2}\\frac{\\partial^2 u}{\\partial x^2}\\,\\mathrm{d}x\\mathrm{d}y\\mathrm{d}z$$"
   ]
  },
  {
   "cell_type": "markdown",
   "id": "2eafc332-c6b5-4041-9add-b7441425490a",
   "metadata": {},
   "source": [
    "$$ = \\int_{-a}^a\\int_{-\\sqrt{a^2-z^2}}^\\sqrt{a^2-z^2}\\left(\\frac{\\partial u}{\\partial x}\\big(\\sqrt{a^2-r_x^2},y,z\\big) - \\frac{\\partial u}{\\partial x}\\big(\\sqrt{a^2-r_x^2},y,z\\big)\\right)\\,\\mathrm{d}y\\,\\mathrm{d}z$$"
   ]
  },
  {
   "cell_type": "markdown",
   "id": "2a8ce130-1660-492a-89bf-bcbabd26d86b",
   "metadata": {},
   "source": [
    "where  \n",
    "\n",
    "$$ r_x = \\sqrt{y^2+z^2}$$"
   ]
  }
 ],
 "metadata": {
  "kernelspec": {
   "display_name": "Python 3 (ipykernel)",
   "language": "python",
   "name": "python3"
  },
  "language_info": {
   "codemirror_mode": {
    "name": "ipython",
    "version": 3
   },
   "file_extension": ".py",
   "mimetype": "text/x-python",
   "name": "python",
   "nbconvert_exporter": "python",
   "pygments_lexer": "ipython3",
   "version": "3.10.12"
  }
 },
 "nbformat": 4,
 "nbformat_minor": 5
}
