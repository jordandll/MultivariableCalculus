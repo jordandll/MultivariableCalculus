{
 "cells": [
  {
   "cell_type": "markdown",
   "id": "8f41a912-d9dc-4901-ade8-bd3bc84bd041",
   "metadata": {},
   "source": [
    "## Vector Fields in Space "
   ]
  },
  {
   "cell_type": "markdown",
   "id": "1f5b7818-3c62-4f08-855a-ce1a585fc88d",
   "metadata": {},
   "source": [
    "Just as in Section V1 we considered vector fields in the plane, so now we consider vector\n",
    "fields in three-space. These are fields given by a vector function of the type  \n",
    "\n",
    "\\begin{equation}\\tag{1}\n",
    "    \\mathbf{F}(x,y,z) = M(x,y,z)\\,\\mathbf{i} + N(x,y,z)\\,\\mathbf{j} + P(x,y,z)\\,\\mathbf{k}\n",
    "\\end{equation}"
   ]
  },
  {
   "cell_type": "markdown",
   "id": "839d49b7-5a02-481a-8b3c-4c240bdc2f9e",
   "metadata": {},
   "source": [
    "Such a function assigns the vector $\\mathbf{F}(x_0, y_0, z_0)$ to a point $(x_0, y_0, z_0)$ where $M$, $N$ , and $P$\n",
    "are all defined. We place the vector so its tail is at $(x_0, y_0, z_0)$, and in this way get the vector\n",
    "field. Such a field in space looks a little like the interior of a haystack.  \n",
    "\n",
    "As before, we say $\\mathbf{F}$ is *continuous* in some domain $D$ of 3-space (we will usually use\n",
    "“domain” rather than “region” , when referring to a portion of 3-space) if $M$, $N$, and $P$ are\n",
    "continuous in that domain. Moreover, we say $\\mathbf{F}$ is *continuously differentiable* in the domain $D$ if all\n",
    "nine first partial derivatives of the three $x,y,z$ compliments of $\\mathbf{F}$ exist and are continuous in $D$.  \n",
    "\n",
    "Again, as before, we give two physical interpretations for such a vector field.  "
   ]
  },
  {
   "cell_type": "markdown",
   "id": "c22ef64e-55ec-4c26-a915-e56ee79b706a",
   "metadata": {},
   "source": [
    "The three-dimensional **force fields** of different sorts -- gravitational, electrostatic, electromagnetic, etc. -- all give rise to such a vector field: at the point $(x_0,y_0,z_0)$ we place the vector having the direction and magnitude of the force which the field would exert on a unit test particle placed at the point."
   ]
  },
  {
   "cell_type": "markdown",
   "id": "229e7433-dbcc-4a77-a910-2a7f8b30db8a",
   "metadata": {},
   "source": [
    "The three-dimensional **flow fields** and **velocity fields** arising from the motion of a fluid in space are the other standard examples.  We assume the motion is steady-state (i.e., the direction and magnitude of the flow at any point does not change over time).  We will call this a *three-dimensional flow*."
   ]
  },
  {
   "cell_type": "markdown",
   "id": "f8e83cb3-a072-435b-b94f-307a208e10e4",
   "metadata": {},
   "source": [
    "As before, we allow sources and sinks -- places where fluid is being added to or removed from the flow.  Obviously, we can no longer appeal to people standing overhead, pouring fluid in at various points, but we could think of thin pipes inserted into the domain at various points, adding or removing fluid."
   ]
  },
  {
   "cell_type": "markdown",
   "id": "3c43f4ba-7693-4c76-96fb-f4192111fa26",
   "metadata": {},
   "source": [
    "The velocity field of such a flow is defined just as it was previously:  $\\mathbf{v}(x,y,z)$ gives the direction and magnitude (speed) of the flow at $(x,y,z)$."
   ]
  },
  {
   "cell_type": "markdown",
   "id": "ab330e5b-5bf8-4b94-a722-518a3d11b80f",
   "metadata": {},
   "source": [
    "The flow field $\\mathbf{F} = \\delta \\mathbf{v}$ , where $\\delta := \\delta(x,y,z)$ is the density, may be similarly interpreted:  \n",
    "\n",
    "* $\\mathrm{dir }\\,\\mathbf{F}$ is the direction of the flow\n",
    "* $|\\mathbf{F}|$ is the rate of mass transport per unit area across a surface that is perpendicular to $\\mathrm{dir }\\,\\mathbf{F}$ at $(x,y,z)\\quad\\quad (2)$"
   ]
  },
  {
   "cell_type": "markdown",
   "id": "b0cee4f2-a005-48de-821f-1ad4b24d1813",
   "metadata": {},
   "source": [
    "The deriviation of this interpretation is found in the [plane vector fields](../../DoubleIntegrals/VectorFields/PlaneVectorFields.ipynb#Flow-and-Velocity-Fields) notebook, except the small line segment $\\Delta l$ is replaced by a small plane area $\\Delta A$ that is perpendicular to the flow and the $\\Delta A$ found in the aforementioned sections is replace by a small space domain or volume $\\Delta V$."
   ]
  },
  {
   "cell_type": "markdown",
   "id": "7af9df5a-f89e-44b8-a109-53772884e8e0",
   "metadata": {},
   "source": [
    "To ellaborate,  \n",
    "\n",
    "$$ |\\mathbf{F}|\\Delta A\\Delta t = \\delta |\\mathbf{v}|\\Delta A \\Delta t = \\text{mass in }\\Delta V$$"
   ]
  },
  {
   "cell_type": "markdown",
   "id": "14534996-a6e1-4bce-90ef-d7d9fa005f4c",
   "metadata": {},
   "source": [
    "### Example 1\n",
    "\n",
    "Find the three-dimensional electrostatic force field $\\mathbf{F}$ arising from a unit\n",
    "positive charge placed at the origin, given that, in suitable units, $\\mathbf{F}$ is directed radially outward\n",
    "from the origin and has magnitude $1/\\rho^2$, where $\\rho$ is the distance from the origin."
   ]
  },
  {
   "cell_type": "markdown",
   "id": "0e237a3f-712f-4f71-aa60-137f8132c879",
   "metadata": {},
   "source": [
    "$$ \\mathbf{F} = A\\langle x,y,z\\rangle \\quad\\quad\\text{where }\\, |\\mathbf{F}| = \\frac{1}{\\rho^2}$$"
   ]
  },
  {
   "cell_type": "markdown",
   "id": "db8631a6-1ed8-4bc1-af49-49481ce81ae2",
   "metadata": {},
   "source": [
    "Via the above caveat,  \n",
    "\n",
    "$$ A\\rho = \\frac{1}{\\rho^2} \\quad\\therefore\\quad A = \\frac{1}{\\rho^3}\\quad\\therefore$$"
   ]
  },
  {
   "cell_type": "markdown",
   "id": "b8229203-c032-4dc3-a12e-6db026e9bb38",
   "metadata": {},
   "source": [
    "$$ \\mathbf{F} = \\frac{\\langle x,y,z\\rangle}{\\rho^3}$$"
   ]
  },
  {
   "cell_type": "markdown",
   "id": "b36c692e-5d72-4601-bb05-b080cb75dfae",
   "metadata": {},
   "source": [
    "### Example 2\n",
    "a) Find the velocity field of a fluid rotating with constant angular velocity\n",
    "$\\omega$ around the $z$-axis, in the direction given by the right-hand rule (right-hand fingers curl\n",
    "in direction of flow when thumb points in the $\\mathbf{k}$ -direction).\n",
    "\n",
    "b) Find the analogous field if the flow is rotating about the $y$-axis."
   ]
  },
  {
   "cell_type": "markdown",
   "id": "422bdd69-4786-4b47-8bcd-6ec085d00e51",
   "metadata": {},
   "source": [
    "**a)**  $$ \\mathbf{r} := \\mathbf{r}(t) = \\langle r_x(t),r_y(t),0\\rangle $$"
   ]
  },
  {
   "cell_type": "markdown",
   "id": "fc18149d-9ea2-4d94-bb6d-45c83a0f0809",
   "metadata": {},
   "source": [
    "where \n",
    "\n",
    "$$ r_x:= r_x(t) = r \\cos (\\omega t) \\quad\\quad\\text{and}\\quad\\quad r_y := r_y(t) = r \\sin (\\omega t)$$"
   ]
  },
  {
   "cell_type": "markdown",
   "id": "c0579fdd-001a-4d43-a1d5-d1e17dcfb89a",
   "metadata": {},
   "source": [
    "$$ r = \\sqrt{x^2 + y^2}$$"
   ]
  },
  {
   "cell_type": "markdown",
   "id": "7d3057d7-d913-499f-a2d0-06e5336409b9",
   "metadata": {},
   "source": [
    "$$ \\mathbf{r}'(t) := \\mathbf{v} = \\langle r_x'(t),r_y'(t), 0\\rangle$$"
   ]
  },
  {
   "cell_type": "markdown",
   "id": "839826b6-641e-4c03-a3f2-59d0dfd39d90",
   "metadata": {},
   "source": [
    "$$ r_x'(t) = -r \\omega \\sin(\\omega t) = -\\omega r_y \\quad\\quad\\text{and}\\quad\\quad r_y'(t) = r\\omega\\cos(\\omega t) = \\omega r_x$$"
   ]
  },
  {
   "cell_type": "markdown",
   "id": "b7ec22c2-a19b-4f1b-9949-e08ec392489d",
   "metadata": {},
   "source": [
    "Now let $x:=r_x$ and $y:=r_y$.  \n",
    "\n",
    "$$ \\mathbf{v} = \\omega\\langle -y,x,0\\rangle$$"
   ]
  },
  {
   "cell_type": "markdown",
   "id": "bb8d0830-46e8-4380-aecb-1d07c0fd46f9",
   "metadata": {},
   "source": [
    "**b)**  $$ \\mathbf{v} = \\omega\\langle -z,0,x\\rangle$$"
   ]
  },
  {
   "cell_type": "markdown",
   "id": "42dd2b4d-018e-49df-9d2e-080be2fe2762",
   "metadata": {},
   "source": [
    "Note that the above follows the left hand rule.  Following the right hand rule:  \n",
    "\n",
    "$$ \\mathbf{v} = \\omega\\langle z,0,-x\\rangle$$"
   ]
  },
  {
   "cell_type": "markdown",
   "id": "d61f832b-b71f-4f31-89e3-39956276493b",
   "metadata": {},
   "source": [
    "### Example 3\n",
    "\n",
    "Find the three-dimensional flow field of a gas streaming radially outward\n",
    "with constant velocity from a source at the origin of constant strength."
   ]
  },
  {
   "cell_type": "markdown",
   "id": "4669b040-d194-4006-a4ce-96ecaac123e8",
   "metadata": {},
   "source": [
    "Note that when they say \"constant velocity\", they mean that not only does the velocity, henceforth $\\mathbf{v}$, not vary with time, it also does not vary with spatial position.  Moreover, the notion that there exists only one source with constant strength at origin means that the flux (rate of mass transport) accross any closed surface enclosing origin does not vary with time nor with which of the surface enclosing origin that we're talking about;  To put it another way:  The flux accross all surfaces enclosing origin are equal to one another."
   ]
  },
  {
   "cell_type": "markdown",
   "id": "42aade13-7d9a-4fa4-b1b0-d46823b09cc8",
   "metadata": {},
   "source": [
    "To satisfy the above conditions,  \n",
    "\n",
    "$$ \\mathbf{v} = c_1\\frac{\\langle x,y,z\\rangle}{\\rho}$$"
   ]
  },
  {
   "cell_type": "markdown",
   "id": "2a24ba91-a4d4-4a65-96a0-9c3585c8125c",
   "metadata": {},
   "source": [
    "where $c_1\\in\\mathbb{R}$ is an arbitrary constant.  Which leaves us with the density.  To find a satisfactory density, henceforth $\\delta$, first note the relationship between a sphere's surface area and it's radius.  The length of an arc with a radius of $\\rho$ and an angle of $90$ degrees is:  \n",
    "\n",
    "$$ L = 0.5\\pi \\rho$$"
   ]
  },
  {
   "cell_type": "markdown",
   "id": "8aac2d9e-82cf-491e-b576-8930af52db5f",
   "metadata": {},
   "source": [
    "And, the area of a circle with a radius of $L$ is:  \n",
    "\n",
    "$$ A = \\pi L^2 = 0.25 \\pi^3 \\rho^2$$"
   ]
  },
  {
   "cell_type": "markdown",
   "id": "22131fe3-6966-4968-bd76-d86600195df6",
   "metadata": {},
   "source": [
    "Therefore the surface area of a sphere with a radius of $\\rho$ is:  \n",
    "\n",
    "$$ 2A = 0.5\\pi^3\\rho^2$$"
   ]
  },
  {
   "cell_type": "markdown",
   "id": "e1b8b5a0-b58a-4ead-a61f-ea0ea3136b36",
   "metadata": {},
   "source": [
    "The rate of transport across a surface with that is perpendicular to direction of the flow per unit area is:  \n",
    "\n",
    "$$ |\\mathbf{F}| = \\delta |\\mathbf{v}| = c_1 \\delta$$"
   ]
  },
  {
   "cell_type": "markdown",
   "id": "58ef3be1-c8da-4e0a-9908-b305675265c9",
   "metadata": {},
   "source": [
    "Since any sphere centered at origin is perpendicular to the field, the total flux across a such a sphere with a radius of $\\rho$ is:  \n",
    "\n",
    "$$ \\Phi := \\Phi(\\rho)= |\\mathbf{F}|2A = 0.5\\pi^3c_1\\rho^2\\delta$$"
   ]
  },
  {
   "cell_type": "markdown",
   "id": "7881103a-5ddc-452e-b5c3-a4d1b02dbe36",
   "metadata": {},
   "source": [
    "Note that the above assumes that $\\delta$ varies only with $\\rho$ and no other spherical coordinate.  Now we must find $\\delta$ such that $\\Phi$ is constant."
   ]
  },
  {
   "cell_type": "markdown",
   "id": "92d0daa2-c34f-4761-a861-8be3964279e1",
   "metadata": {},
   "source": [
    "$$ \\Phi = \\mathit{const} = c_2\\quad\\implies\\quad \\delta = \\frac{2c_2}{c_1\\pi^3\\rho^2} = \\frac{c_2}{\\rho^2}$$"
   ]
  },
  {
   "cell_type": "markdown",
   "id": "7b16728a-5ba6-40ee-bc2c-f573ed202908",
   "metadata": {},
   "source": [
    "Note that the constant factors $2$ and $1/(c_1\\pi^3)$ can be \"arbitrated away\"."
   ]
  },
  {
   "cell_type": "markdown",
   "id": "f504e03c-ff39-4489-8d3a-230e57177fa8",
   "metadata": {},
   "source": [
    "Finally,  \n",
    "\n",
    "$$ \\mathbf{F} = \\frac{c_2c_1\\langle x,y,z\\rangle}{\\rho^3} = c\\,\\frac{\\langle x,y,z\\rangle}{\\rho^3}$$"
   ]
  },
  {
   "cell_type": "markdown",
   "id": "b0436dd0-fb25-40a8-9671-e85f46116bd3",
   "metadata": {},
   "source": [
    "## Problems\n",
    "\n",
    "#### Problem 1  \n",
    "\n",
    "Find the gravitional attraction exerted by the upper half of a solid sphere $D$ of radius $a$ centered at origin on a mass of $m_0$ at origin.  Assume that the density is $\\delta = z$.  "
   ]
  },
  {
   "cell_type": "markdown",
   "id": "23be0862-5f6e-491b-ab90-2b3b99cac922",
   "metadata": {},
   "source": [
    "Via symmetry,  \n",
    "\n",
    "$$ F_x,F_y = 0,0$$"
   ]
  },
  {
   "cell_type": "markdown",
   "id": "73ac8bb0-27ce-44bf-9374-fb56837ee1a1",
   "metadata": {},
   "source": [
    "That leaves with the $z$-compliment of $\\mathbf{F}$."
   ]
  },
  {
   "cell_type": "markdown",
   "id": "84d4b6d9-7aa8-4bf3-a4d9-538929e2fce2",
   "metadata": {},
   "source": [
    "In polar coordinates:  \n",
    "\n",
    "$$ \\delta := \\delta(\\rho,\\phi,\\theta) = \\rho\\cos\\phi$$"
   ]
  },
  {
   "cell_type": "markdown",
   "id": "8ccbb5f5-d1fe-4bd8-9d66-46fbb75da0f1",
   "metadata": {},
   "source": [
    "and  \n",
    "\n",
    "$$ \\mathbf{r}\\cdot\\mathbf{k} = r_z = \\cos\\phi$$"
   ]
  },
  {
   "cell_type": "markdown",
   "id": "d860b41f-7df5-4a9d-b921-907b5df9e9c9",
   "metadata": {},
   "source": [
    "Therefore,  \n",
    "\n",
    "$$ F_z = G\\iiint_D \\frac{\\cos^2\\phi}{\\rho}\\,\\mathrm{d}V$$"
   ]
  },
  {
   "cell_type": "markdown",
   "id": "03ad16c3-0a40-4781-9ea4-cbe26727ebf1",
   "metadata": {},
   "source": [
    "$$ = G\\int_0^{2\\pi}\\int_0^{0.5\\pi}\\int_0^a\\rho\\cos^2\\phi\\sin\\phi\\,\\mathrm{d}\\rho\\,\\mathrm{d}\\phi\\,\\mathrm{d}\\theta$$"
   ]
  },
  {
   "cell_type": "markdown",
   "id": "f502ab93-8e44-4a76-95b4-838807c7742d",
   "metadata": {},
   "source": [
    "$$ = \\frac{a^2G}{2}\\int_0^{2\\pi}\\int_0^{0.5\\pi}\\cos^2\\phi\\sin\\phi\\,\\mathrm{d}\\phi\\,\\mathrm{d}\\theta$$"
   ]
  },
  {
   "cell_type": "markdown",
   "id": "7eed2d43-0a13-43ce-9b3f-af4e51f387ff",
   "metadata": {},
   "source": [
    "The inner integral of the above is:  \n",
    "\n",
    "$$ \\int_0^{0.5\\pi}\\cos^2\\phi\\sin\\phi\\,\\mathrm{d}\\phi = -\\left.\\frac{\\cos^3\\phi}{3}\\right]_0^{0.5\\pi} = \\frac{1}{3}$$"
   ]
  },
  {
   "cell_type": "markdown",
   "id": "5641e605-f7cb-4a20-a56d-7787a2442e26",
   "metadata": {},
   "source": [
    "Therefore,  \n",
    "\n",
    "$$ F_z = \\frac{\\pi a^2G}{3}$$"
   ]
  }
 ],
 "metadata": {
  "kernelspec": {
   "display_name": "Python 3 (ipykernel)",
   "language": "python",
   "name": "python3"
  },
  "language_info": {
   "codemirror_mode": {
    "name": "ipython",
    "version": 3
   },
   "file_extension": ".py",
   "mimetype": "text/x-python",
   "name": "python",
   "nbconvert_exporter": "python",
   "pygments_lexer": "ipython3",
   "version": "3.10.12"
  }
 },
 "nbformat": 4,
 "nbformat_minor": 5
}
