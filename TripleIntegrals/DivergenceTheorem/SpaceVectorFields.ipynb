{
 "cells": [
  {
   "cell_type": "markdown",
   "id": "ac7d0330-fc6f-43f0-8009-705e9943bf1f",
   "metadata": {},
   "source": [
    "## Vector Fields in Space \n",
    "\n",
    "### Example 1\n",
    "\n",
    "Find the three-dimensional electrostatic force field $\\mathbf{F}$ arising from a unit\n",
    "positive charge placed at the origin, given that, in suitable units, $\\mathbf{F}$ is directed radially outward\n",
    "from the origin and has magnitude $1/\\rho^2$, where $\\rho$ is the distance from the origin."
   ]
  },
  {
   "cell_type": "markdown",
   "id": "0e237a3f-712f-4f71-aa60-137f8132c879",
   "metadata": {},
   "source": [
    "$$ \\mathbf{F} = A\\langle x,y,z\\rangle \\quad\\quad\\text{where }\\, |\\mathbf{F}| = \\frac{1}{\\rho^2}$$"
   ]
  },
  {
   "cell_type": "markdown",
   "id": "db8631a6-1ed8-4bc1-af49-49481ce81ae2",
   "metadata": {},
   "source": [
    "Via the above caveat,  \n",
    "\n",
    "$$ A\\rho = \\frac{1}{\\rho^2} \\quad\\therefore\\quad A = \\frac{1}{\\rho^3}\\quad\\therefore$$"
   ]
  },
  {
   "cell_type": "markdown",
   "id": "b8229203-c032-4dc3-a12e-6db026e9bb38",
   "metadata": {},
   "source": [
    "$$ \\mathbf{F} = \\frac{\\langle x,y,z\\rangle}{\\rho^3}$$"
   ]
  },
  {
   "cell_type": "markdown",
   "id": "b36c692e-5d72-4601-bb05-b080cb75dfae",
   "metadata": {},
   "source": [
    "### Example 2\n",
    "a) Find the velocity field of a fluid rotating with constant angular velocity\n",
    "$\\omega$ around the $z$-axis, in the direction given by the right-hand rule (right-hand fingers curl\n",
    "in direction of flow when thumb points in the $\\mathbf{k}$ -direction).\n",
    "\n",
    "b) Find the analogous field if the flow is rotating about the $y$-axis."
   ]
  },
  {
   "cell_type": "markdown",
   "id": "422bdd69-4786-4b47-8bcd-6ec085d00e51",
   "metadata": {},
   "source": [
    "**a)**  $$ \\mathbf{r} := \\mathbf{r}(t) = \\langle r_x(t),r_y(t),0\\rangle $$"
   ]
  },
  {
   "cell_type": "markdown",
   "id": "fc18149d-9ea2-4d94-bb6d-45c83a0f0809",
   "metadata": {},
   "source": [
    "where \n",
    "\n",
    "$$ r_x:= r_x(t) = r \\cos (\\omega t) \\quad\\quad\\text{and}\\quad\\quad r_y := r_y(t) = r \\sin (\\omega t)$$"
   ]
  },
  {
   "cell_type": "markdown",
   "id": "c0579fdd-001a-4d43-a1d5-d1e17dcfb89a",
   "metadata": {},
   "source": [
    "$$ r = \\sqrt{x^2 + y^2}$$"
   ]
  },
  {
   "cell_type": "markdown",
   "id": "7d3057d7-d913-499f-a2d0-06e5336409b9",
   "metadata": {},
   "source": [
    "$$ \\mathbf{r}'(t) := \\mathbf{v} = \\langle r_x'(t),r_y'(t), 0\\rangle$$"
   ]
  },
  {
   "cell_type": "markdown",
   "id": "839826b6-641e-4c03-a3f2-59d0dfd39d90",
   "metadata": {},
   "source": [
    "$$ r_x'(t) = -r \\omega \\sin(\\omega t) = -\\omega r_y \\quad\\quad\\text{and}\\quad\\quad r_y'(t) = r\\omega\\cos(\\omega t) = \\omega r_x$$"
   ]
  },
  {
   "cell_type": "markdown",
   "id": "b7ec22c2-a19b-4f1b-9949-e08ec392489d",
   "metadata": {},
   "source": [
    "Now let $x:=r_x$ and $y:=r_y$.  \n",
    "\n",
    "$$ \\mathbf{v} = \\omega\\langle -y,x,0\\rangle$$"
   ]
  },
  {
   "cell_type": "markdown",
   "id": "bb8d0830-46e8-4380-aecb-1d07c0fd46f9",
   "metadata": {},
   "source": [
    "**b)**  $$ \\mathbf{v} = \\omega\\langle -z,0,x\\rangle$$"
   ]
  },
  {
   "cell_type": "markdown",
   "id": "42dd2b4d-018e-49df-9d2e-080be2fe2762",
   "metadata": {},
   "source": [
    "Note that the above follows the left hand rule.  Following the right hand rule:  \n",
    "\n",
    "$$ \\mathbf{v} = \\omega\\langle z,0,-x\\rangle$$"
   ]
  },
  {
   "cell_type": "markdown",
   "id": "d61f832b-b71f-4f31-89e3-39956276493b",
   "metadata": {},
   "source": [
    "### Example 3\n",
    "\n",
    "Find the three-dimensional flow field of a gas streaming radially outward\n",
    "with constant velocity from a source at the origin of constant strength."
   ]
  },
  {
   "cell_type": "markdown",
   "id": "8589060e-3da3-4490-a318-ac58038e7350",
   "metadata": {},
   "source": [
    "$$ \\mathbf{F} = A\\langle x,y,z\\rangle$$"
   ]
  },
  {
   "cell_type": "markdown",
   "id": "796b5312-f5dd-4d31-8341-dbf15209315c",
   "metadata": {},
   "source": [
    "where $A\\in\\mathbb{R}$ is an arbitrary constant."
   ]
  }
 ],
 "metadata": {
  "kernelspec": {
   "display_name": "Python 3 (ipykernel)",
   "language": "python",
   "name": "python3"
  },
  "language_info": {
   "codemirror_mode": {
    "name": "ipython",
    "version": 3
   },
   "file_extension": ".py",
   "mimetype": "text/x-python",
   "name": "python",
   "nbconvert_exporter": "python",
   "pygments_lexer": "ipython3",
   "version": "3.10.12"
  }
 },
 "nbformat": 4,
 "nbformat_minor": 5
}
