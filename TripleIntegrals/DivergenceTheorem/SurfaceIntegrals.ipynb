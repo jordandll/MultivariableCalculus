{
 "cells": [
  {
   "cell_type": "markdown",
   "id": "dc3f6084-4e30-49d6-9a21-cb4ec3fdae6e",
   "metadata": {},
   "source": [
    "# Surface Integrals  \n",
    "\n",
    "Surface integrals are a natural generalization of line integrals: instead of integrating over\n",
    "a curve, we integrate over a surface in 3-space. Such integrals are important in any of the\n",
    "subjects that deal with continuous media (solids, fluids, gases), as well as subjects that deal\n",
    "with force fields, like electromagnetic or gravitational fields.  \n",
    "\n",
    "Though most of our work will be spent seeing how surface integrals can be calculated and\n",
    "what they are used for, we first want to indicate briefly how they are defined. The surface\n",
    "integral of the (continuous) function $f (x, y, z)$ over the surface $S$ is denoted by  \n",
    "\n",
    "\\begin{equation}\\tag{1}\n",
    "    \\int\\!\\int_S f(x,y,z)\\,\\mathrm{d}S\n",
    "\\end{equation}"
   ]
  },
  {
   "cell_type": "markdown",
   "id": "39cf0182-57fb-41cf-a57a-8f08edcee13f",
   "metadata": {},
   "source": [
    "You can think of $\\mathrm{d}S$ as the area of an infinitesimal piece of the surface $S$. To define the\n",
    "integral (1), we subdivide the surface $S$ into small pieces having area $\\Delta S_i$, pick a point\n",
    "$(x_i, y_i, z_i)$ in the $i$-th piece, and form the Riemann sum  \n",
    "\n",
    "\\begin{equation}\\tag{2}\n",
    "    \\sum f(x_i,y_i,z_i)\\,\\Delta S_i\n",
    "\\end{equation}"
   ]
  },
  {
   "cell_type": "markdown",
   "id": "3304fb14-fa25-45d9-949c-8f294eb4dfef",
   "metadata": {},
   "source": [
    "As the subdivision of S gets finer and finer, the corresponding sums (2) approach a limit\n",
    "which does not depend on the choice of the points or how the surface was subdivided. The\n",
    "surface integral (1) is defined to be this limit. (The surface has to be smooth and not infinite\n",
    "in extent, and the subdivisions have to be made reasonably, otherwise the limit may not\n",
    "exist, or it may not be unique."
   ]
  },
  {
   "cell_type": "markdown",
   "id": "50cf1807-92f7-4bda-991e-293c5457234f",
   "metadata": {},
   "source": [
    "## Surface Integrals for Flux  \n",
    "\n",
    "The most important type of surface integral is the one which calculates the flux of a\n",
    "vector field across $S$. Earlier, we calculated the flux of a plane vector field $\\mathbf{F}(x, y)$ across a\n",
    "directed curve in the $xy$-plane. What we are doing now is the analog of this in space.  \n",
    "\n",
    "We assume that $S$ is *oriented*: this means that $S$ has two sides and one of them has been\n",
    "designated to be the *positive side*. At each point of $S$ there are two unit normal vectors,\n",
    "pointing in opposite directions; the *positively directed* unit normal vector, denoted by $\\mathbf{n}$, is\n",
    "the one standing with its base (i.e., tail) on the positive side. If $S$ is a closed surface, like\n",
    "a sphere or cube — that is, a surface with no boundaries, so that it completely encloses a\n",
    "portion of 3-space — then by convention it is oriented so that the outer side is the positive\n",
    "one, i.e., so that $\\mathbf{n}$ always points towards the outside of $S$.  "
   ]
  },
  {
   "cell_type": "markdown",
   "id": "dc75022d-fbfd-4d1e-83ef-0586ec13764e",
   "metadata": {},
   "source": [
    "Let $\\mathbf{F}(x,y,z)$ be a continuous vector field in space, $S$ be an oriented surface, and $\\Phi$ be the flux of $\\mathbf{F}$ through $S$.  \n",
    "\n",
    "\\begin{equation}\\tag{3}\n",
    "    \\Phi = \\int\\!\\int_S(\\mathbf{F}\\cdot\\mathbf{n})\\,\\mathrm{d}S = \\int\\!\\int_S \\mathbf{F}\\cdot\\mathrm{d}\\mathbf{S}\n",
    "\\end{equation}"
   ]
  },
  {
   "cell_type": "markdown",
   "id": "5e7ef637-c694-4829-9602-b8ccf69f49d8",
   "metadata": {},
   "source": [
    "The two integrals are the same, but the second is written using the common and suggestive abbreviation $\\mathrm{d}\\mathbf{S} = \\mathbf{n}\\,\\mathrm{d}S$.  \n",
    "\n",
    "If $\\mathbf{F}$ represents the velocity field for the flow of an incompressible fluid of density $1$, then\n",
    "$\\mathbf{F} \\cdot \\mathbf{n}$ represents the component of the velocity in the positive perpendicular direction to the\n",
    "surface, and $\\mathbf{F} \\cdot \\mathbf{n}\\,\\mathrm{d}S$ represents the flow rate across the little infinitesimal piece of surface having area $\\mathrm{d}S$.  The integral in (3) adds up these flows across the surface so that we may interpret equation (3) as saying that $\\Phi$ is the net flow rate across $S$.  Moreover, we count flow in the direction of $\\mathbf{n}$ as positive and flow in the opposite direction as negative.  Note, however, that this assumes that $\\mathbf{F}$ is a velocity field, which is normally denoted as $\\mathbf{v}$."
   ]
  },
  {
   "cell_type": "markdown",
   "id": "de40381b-b92f-4417-bd71-7d3aa00ed705",
   "metadata": {},
   "source": [
    "It is important to note that if the density of a flow field is uniform -- i.e. does not change with position --, atleast throughout $S$, then the rate of mass transport can be computed by multiplying this uniform density by the net flow rate across $S$.  Of course, if $\\mathbf{F}$ is a flow field, then the flux being computed from the surface integral is the rate of mass transport."
   ]
  },
  {
   "cell_type": "markdown",
   "id": "2a4b5e4e-df7d-4adb-b1f2-197cf75da080",
   "metadata": {},
   "source": [
    "Lastly, if $\\mathbf{F}$ is a force field, then nothing is physically flowing across the surface;  One just uses the term \"flux\" to denoted the surface integral, as in equation (3)."
   ]
  },
  {
   "cell_type": "markdown",
   "id": "a19124a0-2ac8-4de1-b046-2f7a050fa480",
   "metadata": {},
   "source": [
    "## Problems\n",
    "\n",
    "#### Problem 1\n",
    "\n",
    "$$ \\Phi = A = 2\\pi$$"
   ]
  },
  {
   "cell_type": "markdown",
   "id": "5b459c4d-8ae1-4a78-ace0-c8b72e959988",
   "metadata": {},
   "source": [
    "#### Problem 2\n",
    "\n",
    "$$ \\Phi = 0 $$"
   ]
  }
 ],
 "metadata": {
  "kernelspec": {
   "display_name": "Python 3 (ipykernel)",
   "language": "python",
   "name": "python3"
  },
  "language_info": {
   "codemirror_mode": {
    "name": "ipython",
    "version": 3
   },
   "file_extension": ".py",
   "mimetype": "text/x-python",
   "name": "python",
   "nbconvert_exporter": "python",
   "pygments_lexer": "ipython3",
   "version": "3.10.12"
  }
 },
 "nbformat": 4,
 "nbformat_minor": 5
}
