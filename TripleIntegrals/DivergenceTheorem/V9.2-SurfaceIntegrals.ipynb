{
 "cells": [
  {
   "cell_type": "markdown",
   "id": "f7102838-42ef-41cf-a657-6bc151ebd438",
   "metadata": {},
   "source": [
    "# Surface Integrals\n",
    "\n",
    "Herein we study flux through a  \n",
    "\n",
    "## Cylinder and Sphere\n",
    "\n",
    "We now show how to calculate the flux integral, beginning with two surfaces where $\\mathbf{n}$\n",
    "and $\\mathrm{d}S$ are easy to calculate — the cylinder and the sphere."
   ]
  },
  {
   "cell_type": "markdown",
   "id": "9c8b5535-f9a9-4db7-a8a4-21bc0cf4f0b5",
   "metadata": {},
   "source": [
    "### Example 1  \n",
    "\n",
    "Find the flux of $\\mathbf{F} = z\\,\\mathbf{i} + x\\,\\mathbf{j} + y\\,\\mathbf{k}$ outward through the portion of the cylinder $x^2+y^2=a^2$ in the first octant and below the plane $z=h$."
   ]
  },
  {
   "cell_type": "markdown",
   "id": "ba4fa159-36f1-4c03-bc18-9a2061edd852",
   "metadata": {},
   "source": [
    "#### Solution  \n",
    "\n",
    "The flux is:  \n",
    "\n",
    "$$ \\Phi = \\int\\!\\int_S\\mathbf{F}\\cdot\\mathbf{n}\\,\\mathrm{d}S$$  \n",
    "\n",
    "where $S$ is the surface of the aforementioned portion of the cylinder."
   ]
  },
  {
   "cell_type": "markdown",
   "id": "9d500b7a-8be8-4c9d-8c71-283d0f289703",
   "metadata": {},
   "source": [
    "The piece of cylinder is pictured. The word “outward” suggests\n",
    "that we orient the cylinder so that $\\mathbf{n}$ points outward, i.e., away from the $z$-\n",
    "axis. Since by inspection $\\mathbf{n}$ is radially outward and horizontal,  \n",
    "\n",
    "\\begin{equation}\\tag{5}\n",
    "    \\mathbf{n} = \\frac{x\\,\\mathbf{i} + y\\,\\mathbf{j}}{a}\n",
    "\\end{equation}"
   ]
  },
  {
   "cell_type": "markdown",
   "id": "328897d4-f053-47b6-8f7b-f0debf0be582",
   "metadata": {},
   "source": [
    "To get $\\mathrm{d}S$, the infinitesimal element of surface area, we use cylindrical coordinates to\n",
    "parametrize the cylinder:  \n",
    "\n",
    "\\begin{equation}\\tag{6}\n",
    "    x = a\\cos\\theta\\quad\\quad y = a\\sin\\theta\\quad\\quad z=z\n",
    "\\end{equation}"
   ]
  },
  {
   "cell_type": "markdown",
   "id": "4eba2df8-27c7-48e2-b9a2-4c304e5c2410",
   "metadata": {},
   "source": [
    "As the parameters $\\theta$ and $z$ vary, the whole cylinder is traced out ; the piece we want satisfies\n",
    "$0 \\le \\theta \\le \\pi/2\\,$ and $\\,0 \\le z \\le h$ . The natural way to subdivide the cylinder is to use little pieces\n",
    "of curved rectangle like the one shown, bounded by two horizontal circles and two vertical\n",
    "lines on the surface. Its area dS is the product of its height and width:  \n",
    "\n",
    "\\begin{equation}\\tag{7}\n",
    "    \\mathrm{d}S = \\mathrm{d}z\\cdot a\\,\\mathrm{d}\\theta\n",
    "\\end{equation}"
   ]
  },
  {
   "cell_type": "markdown",
   "id": "f854021c-efeb-4c67-850d-96aa2a9e1c68",
   "metadata": {},
   "source": [
    "Having obtained $\\mathbf{n}$ and $\\mathrm{d}S$, the rest of the work is routine. We express the integrand of\n",
    "our surface integral (3) in terms of $z$ and $\\theta$:  \n",
    "\n",
    "$$ \\mathbf{F} \\cdot \\mathbf{n}\\,\\mathrm{d}S = (xz + xy)\\,\\mathrm{d}z\\,\\mathrm{d}\\theta$$"
   ]
  },
  {
   "cell_type": "markdown",
   "id": "7ceec0a4-c324-4032-8357-83727cddc878",
   "metadata": {},
   "source": [
    "Via the above equation and equations (6)  \n",
    "\n",
    "$$ \\mathbf{F}\\cdot\\mathbf{n}\\,\\mathrm{d}S = \\big(az\\cos\\theta + 0.5a^2\\sin2\\theta\\big)\\,\\mathrm{d}z\\,\\mathrm{d}\\theta$$"
   ]
  },
  {
   "cell_type": "markdown",
   "id": "63c24bf1-5866-44ad-87ff-f21d6745e088",
   "metadata": {},
   "source": [
    "This last step is essential, since the $\\mathrm{d}z$ and $\\mathrm{d}\\theta$ tell us the surface integral will be calculated\n",
    "in terms of $z$ and $\\theta$, and therefore the integrand must use these variables also. We can now\n",
    "calculate the flux through $S$:  \n",
    "\n",
    "$$ \\Phi = \\int_0^{0.5\\pi}\\int_0^h\\big(az\\cos\\theta + 0.5a^2\\sin2\\theta\\big)\\,\\mathrm{d}z\\,\\mathrm{d}\\theta$$"
   ]
  },
  {
   "cell_type": "markdown",
   "id": "cae4c4e3-ee74-4ff0-99d7-1746967ad389",
   "metadata": {},
   "source": [
    "$$ = 0.5ah^2\\int_0^{0.5\\pi}\\cos\\theta\\,\\mathrm{d}\\theta + 0.5a^2 h\\int_0^{0.5\\pi}\\sin2\\theta\\,\\mathrm{d}\\theta$$"
   ]
  },
  {
   "cell_type": "markdown",
   "id": "4613d97b-10c1-4d8d-a642-4b8636127432",
   "metadata": {},
   "source": [
    "$$ = 0.5ah^2 + 0.5a^2h$$"
   ]
  },
  {
   "cell_type": "markdown",
   "id": "73ca329b-a989-4592-985a-8d0d506d4b7b",
   "metadata": {},
   "source": [
    "Note that another way of obtaining equation (7) is the notion that the volume element $\\mathrm{d}V$ is the product of the area and thickness of an infinitismal segment of the domain/region.  In cylindrical coordinates, the volume element is:  \n",
    "\n",
    "$$ \\mathrm{d}V = r\\,\\mathrm{d}z\\,\\mathrm{d}r\\,\\mathrm{d}\\theta = \\mathrm{d}S\\,\\mathrm{d}r = \\mathrm{d}S\\,\\mathrm{d}z$$"
   ]
  },
  {
   "cell_type": "markdown",
   "id": "31f841e7-326a-4a3e-8527-671ba0170110",
   "metadata": {},
   "source": [
    "Since $r=a=\\mathit{const}$, we want to find $\\mathrm{d}S$ in terms of $z$ and $\\theta$.  To do so we divide the above by $\\mathrm{d}r$.  \n",
    "\n",
    "$$ \\mathrm{d}S = r\\,\\mathrm{d}z\\,\\mathrm{d}\\theta = a\\,\\mathrm{d}z\\,\\mathrm{d}\\theta$$"
   ]
  },
  {
   "cell_type": "markdown",
   "id": "96db02eb-5691-4a1f-81d0-02eade4ba121",
   "metadata": {},
   "source": [
    "### Example 2  \n",
    "\n",
    "Find the flux of $\\mathbf{F} = xz\\,\\mathbf{i} + yz\\,\\mathbf{j} + z^2\\,\\mathbf{k}$ outward through the part of the sphere $x^2+y^2+z^2=a^2$ lying in the first octant ($x,y,z\\ge 0$)"
   ]
  },
  {
   "cell_type": "markdown",
   "id": "d3b38597-9fd0-4520-90e4-bf94ce800e56",
   "metadata": {},
   "source": [
    "The flux is  \n",
    "\n",
    "$$ \\Phi = \\int\\!\\int_S \\mathbf{F}\\cdot\\mathbf{n}\\,\\mathrm{d}S\\quad\\quad\\text{where }\\,\\mathbf{F} = \\big\\langle xz,yz,z^2\\big\\rangle$$"
   ]
  },
  {
   "cell_type": "markdown",
   "id": "7fa65f3d-a99f-432e-aadb-a96689228eac",
   "metadata": {},
   "source": [
    "The unit normal throughout the sphere is:  \n",
    "\n",
    "$$ \\mathbf{n} = \\frac{\\langle x,y,z\\rangle}{a}$$"
   ]
  },
  {
   "cell_type": "markdown",
   "id": "4c3b045d-b07d-40d2-8801-72cd929cd9f4",
   "metadata": {},
   "source": [
    "The volume element, in spherical coordinates, is:  \n",
    "\n",
    "$$ \\mathrm{d}V = \\rho^2\\sin\\phi\\,\\mathrm{d}\\rho\\,\\mathrm{d}\\phi\\,\\mathrm{d}\\theta = \\mathrm{d}S\\,\\mathrm{d}\\rho$$"
   ]
  },
  {
   "cell_type": "markdown",
   "id": "946644ea-32c3-4f05-bf53-ce882da7afca",
   "metadata": {},
   "source": [
    "Since $\\rho=a=\\mathit{const}$, we want to find $\\mathrm{d}S$ in terms of $\\phi$ and $\\theta$.  To do so, we divide the above by $\\mathrm{d}\\rho$.  \n",
    "\n",
    "$$ \\mathrm{d}S = \\rho^2\\sin\\phi\\,\\mathrm{d}\\phi\\,\\mathrm{d}\\theta = a^2\\sin\\phi\\,\\mathrm{d}\\phi\\,\\mathrm{d}\\theta$$"
   ]
  },
  {
   "cell_type": "markdown",
   "id": "96f356b2-3a0f-4b4f-99e4-cc12d7fe0c1d",
   "metadata": {},
   "source": [
    "The integrand is:  \n",
    "\n",
    "$$ \\mathbf{F}\\cdot\\mathbf{n}\\,\\mathrm{d}S = \\big(x^2z + y^2z + z^3\\big)a\\sin\\phi\\,\\mathrm{d}\\phi\\,\\mathrm{d}\\theta$$"
   ]
  },
  {
   "cell_type": "markdown",
   "id": "28c40416-51db-461e-92cd-b0e7b2b6cf69",
   "metadata": {},
   "source": [
    "The change in variables from $x,y,z$ to $\\rho,\\phi,\\theta$ is:  \n",
    "\n",
    "$$ x = \\rho\\sin\\phi\\cos\\theta \\quad\\quad y = \\rho\\sin\\phi\\sin\\theta \\quad\\quad z = \\rho\\cos\\phi$$"
   ]
  },
  {
   "cell_type": "markdown",
   "id": "c1010dc5-ba8e-4744-8dfb-a89add40f168",
   "metadata": {},
   "source": [
    "Therefore,  \n",
    "\n",
    "$$ \\mathbf{F}\\cdot\\mathbf{n}\\,\\mathrm{d}S = \\big(\\rho^3\\sin^2\\phi\\cos^2\\theta\\cos\\phi + \\rho^3\\sin^2\\phi\\sin^2\\theta\\cos\\phi + \\rho^3\\cos^3\\phi\\big)a\\sin\\phi\\,\\mathrm{d}\\phi\\,\\mathrm{d}\\theta$$"
   ]
  },
  {
   "cell_type": "markdown",
   "id": "eaf4e695-48d4-4ae0-8a8b-ff69b321ea57",
   "metadata": {},
   "source": [
    "$$ = \\big(\\sin^2\\phi\\cos\\phi + \\cos^3\\phi\\big)a^4\\sin\\phi\\,\\mathrm{d}\\phi\\,\\mathrm{d}\\theta$$"
   ]
  },
  {
   "cell_type": "markdown",
   "id": "bc79d132-fcf5-482c-9298-f4905f088471",
   "metadata": {},
   "source": [
    "The flux is thus,  \n",
    "\n",
    "$$ \\Phi = a^4\\int_0^{0.5\\pi}\\int_0^{0.5\\pi}\\big(\\sin^3\\phi\\cos\\phi + \\cos^3\\phi\\sin\\phi\\big)\\,\\mathrm{d}\\phi\\,\\mathrm{d}\\theta$$"
   ]
  },
  {
   "cell_type": "markdown",
   "id": "4bd4605b-4f8d-4946-afac-7704ef36f3dc",
   "metadata": {},
   "source": [
    "$$ = \\frac{a^4}{4}\\int_0^{0.5\\pi}\\,\\mathrm{d}\\theta + \\frac{a^4}{4}\\int_0^{0.5\\pi}\\,\\mathrm{d}\\theta$$"
   ]
  },
  {
   "cell_type": "markdown",
   "id": "2fe889c0-604c-49eb-b729-17c23db3bb65",
   "metadata": {},
   "source": [
    "$$ = \\frac{a^4 \\pi}{8} + \\frac{a^4\\pi}{8} = \\frac{\\pi a^4}{4}$$"
   ]
  },
  {
   "cell_type": "markdown",
   "id": "9a39d771-e62a-4ece-983e-0ebb65c6f717",
   "metadata": {},
   "source": [
    "## Problems  \n",
    "\n",
    "#### Problem 1  \n",
    "\n",
    "$$ \\mathbf{n} = \\langle 0,0,1\\rangle\\quad\\quad\\text{and}\\quad\\quad \\mathrm{d}S = \\mathrm{d}x\\,\\mathrm{d}y$$"
   ]
  },
  {
   "cell_type": "markdown",
   "id": "8a83f9fc-0730-4a2f-9351-32a4d5c81e0a",
   "metadata": {},
   "source": [
    "$$ \\Phi = \\int\\!\\int_S \\mathbf{F}\\cdot\\mathbf{n}\\,\\mathrm{d}S = \\int_0^1\\int_0^1 z\\,\\mathrm{d}x\\,\\mathrm{d}y = 0$$"
   ]
  },
  {
   "cell_type": "markdown",
   "id": "5b841ec3-0fb8-43ec-b2f7-d136f487e8f9",
   "metadata": {},
   "source": [
    "#### Problem 2\n",
    "\n",
    "$$ \\Phi = \\int_0^1\\int_0^1 \\,\\mathrm{d}x\\,\\mathrm{d}y = 1$$"
   ]
  },
  {
   "cell_type": "markdown",
   "id": "d9c70fec-871a-4582-9574-550cd0f099cd",
   "metadata": {},
   "source": [
    "#### Problem 3\n",
    "\n",
    "$$ \\mathbf{n} = \\langle x,y,0\\rangle \\quad\\quad \\text{and}\\quad\\quad\\mathrm{d}V = r\\,\\mathrm{d}z\\,\\mathrm{d}r\\,\\mathrm{d}\\theta$$"
   ]
  },
  {
   "cell_type": "markdown",
   "id": "918e2449-a968-4975-bad9-a2c5909785c6",
   "metadata": {},
   "source": [
    "$$\\mathrm{d}S = \\mathrm{d}z\\,\\mathrm{d}\\theta $$"
   ]
  },
  {
   "cell_type": "markdown",
   "id": "3daf1f9a-4e9b-40d0-91d1-7d9e1e3d80a5",
   "metadata": {},
   "source": [
    "$$ \\mathbf{F}\\cdot\\mathbf{n}\\,\\mathrm{d}S = \\big(x^2+y^2\\big)\\,\\mathrm{d}z\\,\\mathrm{d}\\theta$$"
   ]
  },
  {
   "cell_type": "markdown",
   "id": "4461f2f3-19ff-4172-8c42-eb5632804015",
   "metadata": {},
   "source": [
    "$$ x = r\\cos\\theta = \\cos\\theta \\quad\\quad\\text{and}\\quad\\quad y = r\\sin\\theta = \\sin\\theta$$"
   ]
  },
  {
   "cell_type": "markdown",
   "id": "585a026c-5e5d-458f-ac0f-6bcf88f3aea6",
   "metadata": {},
   "source": [
    "$$ \\Phi = \\int_0^{2\\pi}\\int_0^1\\,\\mathrm{d}z\\,\\mathrm{d}\\theta = 2\\pi$$"
   ]
  }
 ],
 "metadata": {
  "kernelspec": {
   "display_name": "Python 3 (ipykernel)",
   "language": "python",
   "name": "python3"
  },
  "language_info": {
   "codemirror_mode": {
    "name": "ipython",
    "version": 3
   },
   "file_extension": ".py",
   "mimetype": "text/x-python",
   "name": "python",
   "nbconvert_exporter": "python",
   "pygments_lexer": "ipython3",
   "version": "3.10.12"
  }
 },
 "nbformat": 4,
 "nbformat_minor": 5
}
