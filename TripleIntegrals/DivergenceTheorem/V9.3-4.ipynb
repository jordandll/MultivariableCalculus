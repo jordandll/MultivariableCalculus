{
 "cells": [
  {
   "cell_type": "markdown",
   "id": "6189aab0-a104-412b-b3bf-84f187e0564b",
   "metadata": {},
   "source": [
    "# $\\mathrm{V }9.3$-$4$ Surface Integrals\n",
    "\n",
    "## Flux Through General Surfaces\n",
    "\n",
    "For a general surface, we will use $xyz$-coordinates. It turns out that here it is simpler\n",
    "to calculate the infinitesimal vector $\\mathrm{d}\\mathbf{S} = \\mathbf{n} \\mathrm{d}S$ directly, rather than calculate $\\mathbf{n}$ and $\\mathrm{d}S$\n",
    "separately and multiply them, as we did in the previous section. Below are the two standard\n",
    "forms for the equation of a surface, and the corresponding expressions for $\\mathrm{d}\\mathbf{S}$.  In the first\n",
    "we use $z$ both for the dependent variable and the function which gives its dependence on $x$\n",
    "and $y$; you can use $f (x, y)$ for the function if you prefer, but that’s one more letter to keep\n",
    "track of.\n"
   ]
  },
  {
   "cell_type": "markdown",
   "id": "12b9b300-3e2f-4d1e-a8d5-e23a5e667e85",
   "metadata": {},
   "source": [
    "\\begin{equation}\\tag{11a}\n",
    "    z = z(x,y) \\quad\\quad \\mathrm{d}\\mathbf{S} = (-z_x\\,\\mathbf{i} - z_y\\,\\mathbf{j} + \\mathbf{k})\\,\\mathrm{d}x\\,\\mathrm{d}y\\quad\\quad\\text{( }\\mathbf{n}\\text{ points \"up\")}\n",
    "\\end{equation}"
   ]
  },
  {
   "cell_type": "markdown",
   "id": "5a636590-5f9e-4fd3-bd99-faae0d802edf",
   "metadata": {},
   "source": [
    "\\begin{equation}\\tag{11b}\n",
    "    F(x,y,z) = c\\quad\\quad \\mathrm{d}\\mathbf{S} = \\pm\\frac{\\nabla F}{F_z}\\,\\mathrm{d}x\\,\\mathrm{d}y\\quad\\quad \\text{(choose the right sign)}\n",
    "\\end{equation}"
   ]
  },
  {
   "cell_type": "markdown",
   "id": "23d5691b-3f82-4e0f-9842-418f46853e3b",
   "metadata": {},
   "source": [
    "### Derivation of the Formulae for $\\mathrm{d}\\mathbf{S}$  \n",
    "\n",
    "Refer to the illustration on the right.  The surface $S$ lies over it's projection $R$, a region in the $xy$-plane.  We divide up $R$ into infinitismal rectangles having area $\\mathrm{d}x\\,\\mathrm{d}y$ and sides parallel to the $xy$-axes -- one of these is shown.  Over it lies a piece $\\mathrm{d}S$ of the surface, which is approximately a parallelogram, sinces its sides are approximately parallel.  \n",
    "\n",
    "The infinitismal vector $\\mathrm{d}\\mathbf{S} = \\mathbf{n}\\,\\mathrm{d}S$ we are looking for has:\n",
    "* *direction*: perpendicular to the surface, in the \"up\" direction;\n",
    "* *magnitude*: the area $\\mathrm{d}S$ of the infinitismal parallelogram."
   ]
  },
  {
   "cell_type": "markdown",
   "id": "0776ed4a-e442-4fe6-9ebc-1094d018834f",
   "metadata": {},
   "source": [
    "This shows our infinitismal vector is the cross-product:  \n",
    "\n",
    "$$ \\mathrm{d}\\mathbf{S} = \\mathbf{A}\\times\\mathbf{B}$$"
   ]
  },
  {
   "cell_type": "markdown",
   "id": "f01c9434-ab86-4304-8946-cb6a07d051a2",
   "metadata": {},
   "source": [
    "where $\\mathbf{A}$ and $\\mathbf{B}$ are two infinitismal vectors forming adjacent sides of the parallelogram.  To calculate these vectors, from the definition of the partial derivative let $z:=f(x,y)$ be the function that gives the surface $S$.  \n",
    "\n",
    "$\\mathbf{A}$ lies over the vector $\\mathrm{d}x\\,\\mathbf{i}$ and has a slope of $f_x$ in the direction of $\\mathbf{i}$, so  \n",
    "\n",
    "$$ \\mathbf{A} = \\mathrm{d}x\\,\\mathbf{i} + f_x\\,\\mathrm{d}x\\,\\mathbf{k} = \\langle \\mathrm{d}x,0,f_x\\mathrm{d}x\\rangle = \\mathrm{d}x\\langle 1,0,f_x\\rangle$$"
   ]
  },
  {
   "cell_type": "markdown",
   "id": "398c5673-f334-4570-bd0f-336c9b110537",
   "metadata": {},
   "source": [
    "And $\\mathbf{B}$ lies over the vector $\\mathrm{d}y\\,\\mathbf{j}$ and has a slope of $f_y$ in the direction of $\\mathbf{j}$, so  \n",
    "\n",
    "$$ \\mathbf{B} = \\mathrm{d}y\\,\\mathbf{j} + f_y\\,\\mathrm{d}y\\,\\mathbf{k} = \\langle 0,\\mathrm{d}y,f_y\\,\\mathrm{d}y\\rangle = \\mathrm{d}y\\langle 0,1,f_y\\rangle$$"
   ]
  },
  {
   "cell_type": "markdown",
   "id": "30850e79-d9a4-4166-a49f-e094e405beaa",
   "metadata": {},
   "source": [
    "The ellaborate on the above, the total derivative of $f$ and thus $z$ is:  \n",
    "\n",
    "\\begin{equation}\\tag{1}\n",
    "    \\mathrm{d}z = z_x\\,\\mathrm{d}x + z_y\\,\\mathrm{d}y \\quad\\quad\\text{or}\\quad\\quad \\mathrm{d}f = f_x\\,\\mathrm{d}x + f_y\\,\\mathrm{d}y\n",
    "\\end{equation}"
   ]
  },
  {
   "cell_type": "markdown",
   "id": "a8938b5d-1fbd-4107-bc8c-ae895d5be625",
   "metadata": {},
   "source": [
    "In the case of $\\mathbf{A}$, $\\mathrm{d}y = 0 $, therefore,  \n",
    "\n",
    "$$ a_3 = \\mathrm{d}z = z_x\\,\\mathrm{d}x = f_x\\,\\mathrm{d}x$$"
   ]
  },
  {
   "cell_type": "markdown",
   "id": "074645f0-f953-4c69-a08c-59aaff8abbca",
   "metadata": {},
   "source": [
    "Note that $a_3$ is the $z$-compliment or $\\mathbf{k}$-component of $\\mathbf{A}$.  We use the subscript $3$ instead of $z$ since the latter might be confused with the partial derivative of $\\mathbf{A}$ with respect to $z$."
   ]
  },
  {
   "cell_type": "markdown",
   "id": "4e21bff8-2ae0-4385-8dcf-edb60b150d91",
   "metadata": {},
   "source": [
    "And, in the case of $\\mathbf{B}$, $\\mathrm{d}x=0$, therefore,  \n",
    "\n",
    "$$ b_3 = \\mathrm{d}z = z_y\\,\\mathrm{d}y = f_y\\,\\mathrm{d}y$$"
   ]
  },
  {
   "cell_type": "markdown",
   "id": "51b1cff5-a0b3-463e-8ddc-d35fa4be35f6",
   "metadata": {},
   "source": [
    "In general, any infinitismal 3d space vector is equal to $\\langle \\mathrm{d}x,\\mathrm{d}y,\\mathrm{d}z\\rangle$.  With $z$ being the dependent variable, according to equation (1), the formula for total derivatives, the value of $\\mathrm{d}z$ may vary with the independent variables."
   ]
  },
  {
   "cell_type": "markdown",
   "id": "cf5dff7a-0050-431f-ba55-6e70066b1db4",
   "metadata": {},
   "source": [
    "$$ \\mathbf{A}\\times\\mathbf{B} = \\left|\\begin{matrix}\\mathbf{i} & \\mathbf{j} & \\mathbf{k} \\\\ \\mathrm{d}x & 0 & f_x\\,\\mathrm{d}x \\\\ 0 & \\mathrm{d}y & f_y\\,\\mathrm{d}y\\end{matrix}\\right|$$"
   ]
  },
  {
   "cell_type": "markdown",
   "id": "5df2a268-0dea-4620-9720-c4be63a7105a",
   "metadata": {},
   "source": [
    "$$ = -f_x\\,\\mathrm{d}x\\mathrm{d}y,\\mathbf{i} - f_y\\,\\mathrm{d}x\\mathrm{d}y\\,\\mathbf{j} + \\mathrm{d}x\\mathrm{d}y\\,\\mathbf{k} = (-f_x\\,\\mathbf{i} - f_y\\,\\mathbf{j} + \\mathbf{k})\\,\\mathrm{d}x\\mathrm{d}y$$"
   ]
  },
  {
   "cell_type": "markdown",
   "id": "d35205e9-9902-4bcd-a584-5ffcbd13acb1",
   "metadata": {},
   "source": [
    "The above is equation (11a).  \n",
    "\n",
    "To get equation (11b) from (11a), note that our surface $S$ is given by:  \n",
    "\n",
    "\\begin{equation}\\tag{12}\n",
    "    F(x,y,z) = c\\quad\\quad\\text{or}\\quad\\quad z=z(x,y)\n",
    "\\end{equation}  \n",
    "\n",
    "where the right-hand equation is the result of solving for $z$ in terms of the independent variables $x$ and $y$ in the left-hand equation."
   ]
  },
  {
   "cell_type": "markdown",
   "id": "0419dc46-540d-4aba-9467-fdc0110cf2c9",
   "metadata": {},
   "source": [
    "We differentiate the left-hand equation in (12) with respect to the independent variables $x$ and $y$, via the chain rule and the fact that $z=z(x,y)$,  \n",
    "\n",
    "$$ F(x,y,z) = c \\quad\\therefore\\quad F_x\\,\\frac{\\partial x}{\\partial x} + F_y\\,\\frac{\\partial y}{\\partial x} + F_z\\,\\frac{\\partial z}{\\partial x} = 0 \\quad\\therefore$$"
   ]
  },
  {
   "cell_type": "markdown",
   "id": "7d0b99f0-e88c-48c0-883d-91bf70cdcb62",
   "metadata": {},
   "source": [
    "$$F_x + F_z\\,\\frac{\\partial z}{\\partial x} = 0\\quad\\therefore\\quad \\frac{\\partial z}{\\partial x} = -\\frac{F_x}{F_z}$$"
   ]
  },
  {
   "cell_type": "markdown",
   "id": "dcfc2cc6-8807-4ab7-a40f-0b1c25f1d987",
   "metadata": {},
   "source": [
    "To ellaborate on the above line of reasoning, first note that $F:=F(x,y,z)$.  We partially differentiate throughout the left-hand equation of (12) with respect to $x$ to get,  \n",
    "\n",
    "$$ F_x = \\frac{\\partial F}{\\partial x} = 0$$"
   ]
  },
  {
   "cell_type": "markdown",
   "id": "d0e05b91-fdf5-4dd4-8178-a7a4070e31e1",
   "metadata": {},
   "source": [
    "Via the chain rule,  \n",
    "\n",
    "$$ F_x = F_y\\,\\frac{\\partial y}{\\partial x} = F_z\\,\\frac{\\partial z}{\\partial x}$$"
   ]
  },
  {
   "cell_type": "markdown",
   "id": "88a9e775-9c6a-47ca-b735-8334f27bb54d",
   "metadata": {},
   "source": [
    "And, finally, the sum of three zeros is zero.  Now, partially differentiating throughout the left-hand equation of (12) with respect to $y$ gives:  \n",
    "\n",
    "$$ F_y = 0$$"
   ]
  },
  {
   "cell_type": "markdown",
   "id": "df26b2d4-e787-45e1-8329-28e5ce0f9391",
   "metadata": {},
   "source": [
    "Via the chain rule,  \n",
    "\n",
    "$$ F_y = F_x\\,\\frac{\\partial x}{\\partial y} = F_z\\, \\frac{\\partial z}{\\partial y}$$"
   ]
  },
  {
   "cell_type": "markdown",
   "id": "6e39af31-41d2-4c01-81a4-40d6fa11205a",
   "metadata": {},
   "source": [
    "$$ F(x,y,z) = c \\quad\\therefore\\quad F_y\\,\\frac{\\partial y}{\\partial y} + F_x\\,\\frac{\\partial x}{\\partial y} + F_z\\,\\frac{\\partial z}{\\partial y} = 0 \\quad\\therefore$$"
   ]
  },
  {
   "cell_type": "markdown",
   "id": "5c1bf3d9-2283-4592-a560-1902ac6b985c",
   "metadata": {},
   "source": [
    "$$ F_y + F_z\\,\\frac{\\partial z}{\\partial y} = 0 \\quad\\therefore\\quad \\frac{\\partial z}{\\partial y} = -\\frac{F_y}{F_z}$$"
   ]
  },
  {
   "cell_type": "markdown",
   "id": "66d70ae5-57eb-4851-9bc9-ba6942f56874",
   "metadata": {},
   "source": [
    "Finally, via the fact that:  \n",
    "\n",
    "$$ z_x = -\\frac{F_x}{F_z} \\quad\\quad\\text{and}\\quad\\quad z_y = -\\frac{F_y}{F_z} $$"
   ]
  },
  {
   "cell_type": "markdown",
   "id": "93e3af70-252e-4d1f-bf22-252f2399d731",
   "metadata": {},
   "source": [
    "and equation (11a),  \n",
    "\n",
    "$$ \\mathrm{d}\\mathbf{S} = \\left(\\frac{F_x}{F_z}\\,\\mathbf{i} + \\frac{F_y}{F_z}\\,\\mathbf{j} + \\frac{F_z}{F_z}\\,\\mathbf{k}\\right)\\,\\mathrm{d}x\\mathrm{d}y$$"
   ]
  },
  {
   "cell_type": "markdown",
   "id": "0e6e1aab-e92e-42f1-bcee-c535ca4a7513",
   "metadata": {},
   "source": [
    "$$ = \\frac{\\nabla F}{F_z}\\,\\mathrm{d}x\\mathrm{d}y$$"
   ]
  },
  {
   "cell_type": "markdown",
   "id": "3bf010bc-2766-4ac5-b021-5f057eb05ef3",
   "metadata": {},
   "source": [
    "### Example 3\n",
    "\n",
    "The portion of the plane given by $2x-2y+z=1$ lying in the $(+,-,+)$ octant forms a triangle denoted as $S$.  Find the flux of $\\mathbf{F} = \\langle x,y,z\\rangle$ through $S$, taking the positive side of $S$ as the one where the normal points \"up\"."
   ]
  },
  {
   "cell_type": "markdown",
   "id": "7d73559e-c2a0-4a75-b664-b8aa610590b2",
   "metadata": {},
   "source": [
    "The flux is:  \n",
    "\n",
    "$$ \\Phi = \\int\\!\\int_S\\mathbf{F}\\cdot\\mathbf{n}\\,\\mathrm{d}S \\quad\\quad \\text{where }\\, \\mathbf{F} = \\langle x,y,z\\rangle$$"
   ]
  },
  {
   "cell_type": "markdown",
   "id": "78659152-6125-4450-9f87-35d042336b11",
   "metadata": {},
   "source": [
    "It might be trivial to note that the edges of $S$ lie in each coordinate plane.  The edges of $S$ in the $xy$, $xz$, and $yz$ planes are, respectively, given by:  \n",
    "\n",
    "$$L_1 :\\; y = x - 0.5 \\quad\\quad L_2:\\; z = 1-2x\\quad\\quad L_3:\\;z = 1 + 2y$$"
   ]
  },
  {
   "cell_type": "markdown",
   "id": "7fe163d8-8f37-46a7-9842-de66ad2c37a7",
   "metadata": {},
   "source": [
    "Moreover, the vertices of $S$ are:  \n",
    "\n",
    "$$ A = (0,0,1)\\quad\\quad B = (0.5,0,0)\\quad\\quad C = (0,-0.5,0)$$"
   ]
  },
  {
   "cell_type": "markdown",
   "id": "01fbacb4-003a-41d2-9782-c2b765ce5683",
   "metadata": {},
   "source": [
    "The projection $R$ of $S$ onto the $xy$-plane is bounded by:  \n",
    "\n",
    "$$ R:\\; (0,y)\\quad\\quad (x,0)\\quad\\quad (x,x-0.5)$$"
   ]
  },
  {
   "cell_type": "markdown",
   "id": "bb93678e-78fc-481f-9107-1bfe681dc3da",
   "metadata": {},
   "source": [
    "The normal vector is:  \n",
    "\n",
    "$$ \\mathrm{d}\\mathbf{S} = \\mathbf{n}\\,\\mathrm{d}S = \\langle 2,-2,1\\rangle\\,\\mathrm{d}x\\mathrm{d}y$$"
   ]
  },
  {
   "cell_type": "markdown",
   "id": "872d4bf9-353c-44fc-8c88-2966f804b84c",
   "metadata": {},
   "source": [
    "The integrand is:  \n",
    "\n",
    "$$ \\mathbf{F}\\cdot\\mathrm{d}\\mathbf{S} = (2x - 2y + z)\\,\\mathrm{d}x\\mathrm{d}y$$"
   ]
  },
  {
   "cell_type": "markdown",
   "id": "6f5b65e3-5849-4103-94a2-08e90c6215eb",
   "metadata": {},
   "source": [
    "Finally,  \n",
    "\n",
    "$$ \\Phi = \\int_0^{0.5}\\int_{x-0.5}^0(2x-2y+1-2x + 2y)\\,\\mathrm{d}y\\mathrm{d}x = \\int_0^{0.5}\\int_{x-0.5}^0\\mathrm{d}y\\mathrm{d}x$$"
   ]
  },
  {
   "attachments": {},
   "cell_type": "markdown",
   "id": "9d0f15f1-16cb-41eb-93a3-57a169393248",
   "metadata": {},
   "source": [
    "$$ =\\int_0^{0.5}(0.5-x)\\mathrm{d}x = \\big.\\big(0.5x - 0.5x^2\\big)\\big]_0^{0.5}$$"
   ]
  },
  {
   "cell_type": "markdown",
   "id": "7848a02f-0c23-42d6-b1d3-f26c3775e72d",
   "metadata": {},
   "source": [
    "$$ = 0.5\\big(0.5-0.25\\big) = \\frac{1}{8}$$"
   ]
  },
  {
   "cell_type": "markdown",
   "id": "11f6253e-d9b8-4797-890a-88e6597cb039",
   "metadata": {},
   "source": [
    "### Example 4  \n",
    "\n",
    "Set up a double integral in the $xy$-plane which gives the flux of the field $\\mathbf{F} = \\langle x,y,z\\rangle$ through the portion of the ellipsoid given by $4x^2 + y^2 + 4z^2 = 4$ lying in the first octant, taking $\\mathbf{n}$ in the \"up\" direction."
   ]
  },
  {
   "cell_type": "markdown",
   "id": "60e29e74-aa5b-4fb8-8380-7ac1abdaa6a4",
   "metadata": {},
   "source": [
    "The surface $S$ is bounded by the ellipsoid and the first quandrants of the three coordinate planes.  The projection of the ellipsoid onto the $xy$-plane is:  \n",
    "\n",
    "$$ C:\\; 4x^2 + y^2 = 4$$"
   ]
  },
  {
   "cell_type": "markdown",
   "id": "37dc36de-d5a1-4bfe-8a43-a2293ff64c07",
   "metadata": {},
   "source": [
    "And, the projection of $S$ onto the $xy$-plane is:  \n",
    "\n",
    "$$ R:\\; (x,0)\\quad\\quad (0,y)\\quad\\quad \\big(x,f(x)\\big) \\quad\\text{for }x,y \\ge 0\\quad\\quad\\text{where }\\,y:=f(x)=2\\sqrt{1-x^2}$$"
   ]
  },
  {
   "cell_type": "markdown",
   "id": "9cbc92cd-c068-42dd-afd8-7992cf47b12e",
   "metadata": {},
   "source": [
    "The normal vector is:  \n",
    "\n",
    "$$ \\mathrm{d}\\mathbf{S} = \\frac{\\langle 8x,2y,8z\\rangle}{8z}\\,\\mathrm{d}x\\mathrm{d}y $$"
   ]
  },
  {
   "cell_type": "markdown",
   "id": "8769f5f7-b907-4f1d-803b-8a3a2f96b6a8",
   "metadata": {},
   "source": [
    "The integrand is:  \n",
    "\n",
    "$$ \\mathbf{F}\\cdot\\mathrm{d}\\mathbf{S} = \\frac{8x^2 + 2y^2 + 8z^2}{8z}\\,\\mathrm{d}y\\mathrm{d}x$$"
   ]
  },
  {
   "cell_type": "markdown",
   "id": "f060ce16-ac7e-481a-af3e-32ef56a5e746",
   "metadata": {},
   "source": [
    "Now let:  \n",
    "\n",
    "$$ z:=z(x,y) = \\frac{\\sqrt{4-4x^2-y^2}}{2}$$"
   ]
  },
  {
   "cell_type": "markdown",
   "id": "c5274534-3faa-4c20-a8d0-9be1ec8806da",
   "metadata": {},
   "source": [
    "Via the above two equations,  \n",
    "\n",
    "$$ \\mathbf{F}\\cdot\\mathrm{d}\\mathbf{S} = \\frac{8x^2 + 2y^2 + 2\\big(4-4x^2-y^2\\big)}{8z}\\,\\mathrm{d}y\\mathrm{d}x$$"
   ]
  },
  {
   "cell_type": "markdown",
   "id": "ee7c7b47-fab2-464f-8210-c2ee9a2cb2f1",
   "metadata": {},
   "source": [
    "$$ = \\frac{\\mathrm{d}y\\mathrm{d}x}{z} = \\frac{2\\,\\mathrm{d}y\\mathrm{d}x}{\\sqrt{4-4x^2-y^2}}$$"
   ]
  },
  {
   "cell_type": "markdown",
   "id": "1eaac2ab-dda0-4c60-a879-cbff2d6628c3",
   "metadata": {},
   "source": [
    "The flux is:  \n",
    "\n",
    "$$ \\Phi = \\int_0^1\\int_0^{f(x)}\\frac{\\mathrm{d}y\\mathrm{d}x}{z(x,y)}$$"
   ]
  },
  {
   "cell_type": "markdown",
   "id": "15fa49f4-0cf4-405d-947d-80ec4beb6b21",
   "metadata": {},
   "source": [
    "To find the flux let's perform as change in variables from $x,y$ to $r,\\theta$ coordinates.  \n",
    "\n",
    "$$ x = r\\cos\\theta \\quad\\quad\\text{and}\\quad\\quad y = r\\sin\\theta$$"
   ]
  },
  {
   "cell_type": "markdown",
   "id": "670b667d-5855-424f-b749-9bd6e52c0e4f",
   "metadata": {},
   "source": [
    "Thus,  \n",
    "\n",
    "$$ z:=z(r,\\theta) = z(x,y) = \\frac{\\sqrt{4-4r^2\\cos^2\\theta - r^2\\sin^2\\theta}}{2}$$"
   ]
  },
  {
   "cell_type": "markdown",
   "id": "818f51cf-7e15-4f68-84fc-c8a7dc1368f8",
   "metadata": {},
   "source": [
    "$$ = \\frac{\\sqrt{4-r^2\\big(4\\cos^2\\theta + \\sin^2\\theta\\big)}}{2}$$"
   ]
  },
  {
   "cell_type": "markdown",
   "id": "02869ffd-3134-4c3a-a9b8-cb89423ffb47",
   "metadata": {},
   "source": [
    "$$ = \\frac{\\sqrt{4-r^2\\big(3\\cos^2\\theta + 1\\big)}}{2}$$"
   ]
  },
  {
   "cell_type": "markdown",
   "id": "ac04a49a-b930-4549-b5a3-ce7d73994689",
   "metadata": {},
   "source": [
    "And the top half of $C$ is given by, in polar coordinates:  \n",
    "\n",
    "$$ r^2\\sin^2\\theta = 4 - 4r^2\\cos^2\\theta$$"
   ]
  },
  {
   "cell_type": "markdown",
   "id": "0a03a1f7-7530-479a-b5e8-3785a8512057",
   "metadata": {},
   "source": [
    "$$ r^2\\big(1 + 3\\cos^2\\theta\\big) = 4$$"
   ]
  },
  {
   "cell_type": "markdown",
   "id": "a53fbc61-fdbe-444e-8991-bb6a73eb7b5f",
   "metadata": {},
   "source": [
    "$$ r := r(\\theta) = \\frac{2}{\\sqrt{1+3\\cos^2\\theta}}$$"
   ]
  },
  {
   "cell_type": "markdown",
   "id": "6b49f4b4-d2f3-4e63-9d0e-b355c93f6f52",
   "metadata": {},
   "source": [
    "The flux, in polar coordinates, is:  \n",
    "\n",
    "$$ \\Phi = \\int_0^{0.5\\pi}\\int_0^{r(\\theta)}\\frac{r}{z(r,\\theta)}\\,\\mathrm{d}r\\,\\mathrm{d}\\theta$$"
   ]
  },
  {
   "cell_type": "markdown",
   "id": "cbbad98c-728c-456e-80b3-9d9d486a5469",
   "metadata": {},
   "source": [
    "The primitive integral is:  \n",
    "\n",
    "$$ \\int\\frac{r}{z(r,\\theta)}\\,\\mathrm{d}r = \\int \\frac{2r}{\\sqrt{4-r^2\\big(3\\cos^2\\theta + 1\\big)}}\\,\\mathrm{d}r$$"
   ]
  },
  {
   "cell_type": "markdown",
   "id": "21c3109b-c010-467d-80cf-09c5ac27eb40",
   "metadata": {},
   "source": [
    "$$ = K - \\frac{2\\sqrt{4-r^2\\big(3\\cos^2\\theta+1\\big)}}{3\\cos^2\\theta+1}$$"
   ]
  },
  {
   "cell_type": "markdown",
   "id": "91a1a2f9-f8c6-42ca-957d-382e0f4bdac4",
   "metadata": {},
   "source": [
    "The inner integral is:  \n",
    "\n",
    "$$ \\int_0^{r(\\theta)}\\frac{r}{z(r,\\theta)}\\,\\mathrm{d}r = -\\left.\\frac{2\\sqrt{4-r^2\\big(3\\cos^2\\theta+1\\big)}}{3\\cos^2\\theta+1}\\right]_0^{r(\\theta)}$$"
   ]
  },
  {
   "cell_type": "markdown",
   "id": "ad6a2d9e-c71d-4f61-969a-fb3152d6e30d",
   "metadata": {},
   "source": [
    "$$= \\frac{4}{3\\cos^2\\theta+1} - \\frac{2\\sqrt{4-4}}{3\\cos^2\\theta+1}$$"
   ]
  },
  {
   "cell_type": "markdown",
   "id": "658d1b15-9174-41a1-a83d-68e7bff4d7f5",
   "metadata": {},
   "source": [
    "$$ = \\frac{4}{3\\cos^2\\theta + 1}$$"
   ]
  },
  {
   "cell_type": "markdown",
   "id": "0a1acd1d-e9d1-4c6c-9dce-776a2d16279d",
   "metadata": {},
   "source": [
    "# General Surface Integrals*  \n",
    "\n",
    "The surface integral $\\displaystyle \\int\\!\\int_S f(x,y,z)\\,\\mathrm{d}S$ that we introduced at the beginning of this notebook can be used to calculate things other than flux.  "
   ]
  },
  {
   "cell_type": "markdown",
   "id": "82db14ba-5cbd-42a9-944b-7944cdf49d95",
   "metadata": {},
   "source": [
    "#### Surface Area  \n",
    "\n",
    "Let $f(x,y,z)=1$.  The area of $S$ is  \n",
    "\n",
    "$$ \\text{area }\\,S = \\int\\!\\int_S\\mathrm{d}S$$"
   ]
  },
  {
   "cell_type": "markdown",
   "id": "f87195f9-b447-4625-84a1-2e2a4cb790b3",
   "metadata": {},
   "source": [
    "#### Mass, Moments, Charge\n",
    "\n",
    "If $S$ is a thin shel of material of uniform thickness and density (in unit mass per unit *area*) given by $\\delta(x,y,z)$ then  \n",
    "\n",
    "\\begin{equation}\\tag{13}\n",
    "    M = \\int\\!\\int_S\\delta(x,y,z)\\,\\mathrm{d}S\n",
    "\\end{equation}  \n",
    "\n",
    "where $M$ is the mass of $S$."
   ]
  },
  {
   "cell_type": "markdown",
   "id": "0e94b7e2-24bb-452e-989f-631156acf6ff",
   "metadata": {},
   "source": [
    "The $x$-component of the center of mass of $S$ is:  \n",
    "\n",
    "\\begin{equation}\\tag{14a}\n",
    "    \\overline{x} = \\frac{1}{M}\\int\\!\\int_S x\\cdot\\delta(x,y,z)\\,\\mathrm{d}S\n",
    "\\end{equation}"
   ]
  },
  {
   "cell_type": "markdown",
   "id": "9e021046-d75c-4909-ab86-22dfff207a7d",
   "metadata": {},
   "source": [
    "Moreover, the center of mass of $S$, denoted as $\\overline{\\mathbf{x}}$, is:  \n",
    "\n",
    "\\begin{equation}\\tag{14}\n",
    "    \\overline{\\mathbf{x}} = \\frac{1}{M}\\int\\!\\int_S \\mathbf{x}\\cdot\\delta(x,y,z)\\,\\mathrm{d}S \\quad\\quad\\text{where }\\,\\mathbf{x} = \\langle x,y,z\\rangle\n",
    "\\end{equation}"
   ]
  },
  {
   "cell_type": "markdown",
   "id": "696ce8f2-a1e9-434a-8967-1a8a6e1a01cd",
   "metadata": {},
   "source": [
    "If $\\delta(x,y,z)$ represent electric charge density, then the surface integral in equation (13) will give the total charge on $S$."
   ]
  },
  {
   "cell_type": "markdown",
   "id": "63b583b2-98ed-4605-bf3d-48e64e223d5f",
   "metadata": {},
   "source": [
    "#### Average Value\n",
    "\n",
    "The average value of a function $f(x,y,z)$ over the surface $S$ can be calculated by the surface integral:  \n",
    "\n",
    "\\begin{equation}\\tag{15}\n",
    "    \\text{avg. }\\,f(x,y,z) = \\frac{1}{\\text{area }\\,S}\\int\\!\\int_S f(x,y,z)\\,\\mathrm{d}S\n",
    "\\end{equation}"
   ]
  },
  {
   "cell_type": "markdown",
   "id": "269622f8-8439-45e2-be84-bd23f06126c4",
   "metadata": {},
   "source": [
    "## Finding $\\mathrm{d}S$  \n",
    "\n",
    "To evaluate general surface integrals, we need to know what $\\mathrm{d}S$ is for the surface.  For a sphere or cylinder, we can use the methods in section 2 of this chapter."
   ]
  },
  {
   "cell_type": "markdown",
   "id": "e4fe041c-13e4-401c-bf4e-1f057d71bc9c",
   "metadata": {},
   "source": [
    "For a cyclinder:  \n",
    "\n",
    "$$ \\mathrm{d}S \\cdot \\mathrm{d}r = \\mathrm{d}V = r\\mathrm{d}z\\,\\mathrm{d}r\\,\\mathrm{d}\\theta\\quad\\therefore\\quad\\mathrm{d}S = r\\,\\mathrm{d}z\\,\\mathrm{d}\\theta$$"
   ]
  },
  {
   "cell_type": "markdown",
   "id": "d4f4e8ff-f40e-45f6-a4ca-7e670e6248da",
   "metadata": {},
   "source": [
    "And, for a sphere,  \n",
    "\n",
    "$$ \\mathrm{d}S\\cdot\\mathrm{d}\\rho = \\mathrm{d}V = \\rho^2\\sin\\phi\\,\\mathrm{d}\\rho\\,\\mathrm{d}\\phi\\,\\mathrm{d}\\theta\\quad\\therefore\\quad \\mathrm{d}S = \\rho^2\\sin\\phi\\,\\mathrm{d}\\phi\\,\\mathrm{d}\\theta$$"
   ]
  },
  {
   "cell_type": "markdown",
   "id": "db010847-804b-4591-b9ac-9957e0d75a04",
   "metadata": {},
   "source": [
    "### Example 5  \n",
    "\n",
    "Find the average distance along the earth of the points in the northern hemisphere from the north pole.  (Assume the earth is a sphere of radius $a$)."
   ]
  },
  {
   "cell_type": "markdown",
   "id": "44270524-5ec6-4cd2-9b93-625d372e7449",
   "metadata": {},
   "source": [
    "Our sphere, which is the surface of the earth, is given by:  \n",
    "\n",
    "$$ x^2 + y^2 + z^2 = a^2$$"
   ]
  },
  {
   "cell_type": "markdown",
   "id": "fc1c86b9-6857-4403-967b-41e2cf2fa850",
   "metadata": {},
   "source": [
    "The top half of our sphere, denoted as $S$, is given by:  \n",
    "\n",
    "$$ S:\\; z:= z(x,y) = \\sqrt{a^2-x^2-y^2}$$"
   ]
  },
  {
   "cell_type": "markdown",
   "id": "5f9ab690-a76e-4c10-8485-2d405a8fd8b8",
   "metadata": {},
   "source": [
    "Let $\\mathbf{A}$ be defined as:  \n",
    "\n",
    "$$ \\langle 0,0,a\\rangle + \\mathbf{A} = \\langle x,y,z(x,y)\\rangle $$"
   ]
  },
  {
   "cell_type": "markdown",
   "id": "55de327e-7ced-4e44-b9ac-3e3341b496a5",
   "metadata": {},
   "source": [
    "$$ \\mathbf{A} = \\langle x,y,z(x,y)-a\\rangle$$"
   ]
  },
  {
   "cell_type": "markdown",
   "id": "5405fe63-ad7f-421a-8aca-ab65b73cb5eb",
   "metadata": {},
   "source": [
    "The distance is:  \n",
    "\n",
    "$$ f(x,y,z) := |\\mathbf{A}| = \\sqrt{x^2 + y^2 + \\big(z-a\\big)^2}$$"
   ]
  },
  {
   "cell_type": "markdown",
   "id": "e7ba5c47-6650-4ef0-9b93-93267d8cab55",
   "metadata": {},
   "source": [
    "In spherical coordinates:  \n",
    "\n",
    "$$ f(\\rho,\\phi,\\theta) = f(x,y,z) = \\sqrt{a^2\\sin^2\\phi + a^2\\big(\\cos\\phi - 1\\big)^2}$$"
   ]
  },
  {
   "cell_type": "markdown",
   "id": "d1710ddd-60b5-4ffe-926c-730d15bfd635",
   "metadata": {},
   "source": [
    "$$ = a\\sqrt{\\sin^2\\phi + \\cos^2\\phi - 2\\cos\\phi + 1}$$"
   ]
  },
  {
   "cell_type": "markdown",
   "id": "a59aee41-7588-425a-b0a1-0d9aaeb5c4c7",
   "metadata": {},
   "source": [
    "$$ = a\\sqrt{2(1-\\cos\\phi)}$$"
   ]
  },
  {
   "cell_type": "markdown",
   "id": "99380b77-b107-4b72-8ce3-56ae16737c7e",
   "metadata": {},
   "source": [
    "Now, let $f(x,y)$ be defined as:  \n",
    "\n",
    "$$ f(x,y) := f(x,y,z(x,y)) = \\sqrt{x^2+y^2 + \\big(\\sqrt{a^2-x^2-y^2}-a\\big)^2}$$"
   ]
  },
  {
   "cell_type": "markdown",
   "id": "8b6c252f-c069-4f70-8ca4-c861bc184552",
   "metadata": {},
   "source": [
    "Via equation (15) and the above,  \n",
    "\n",
    "$$ \\text{avg. }\\,f(x,y,z) = \\frac{1}{\\text{area }S}\\int\\!\\int_S f(x,y)\\,\\mathrm{d}S$$"
   ]
  },
  {
   "cell_type": "markdown",
   "id": "d9155ef7-c48f-478a-85c4-07e6f468d2d4",
   "metadata": {},
   "source": [
    "The area of $S$ is:  \n",
    "\n",
    "$$ \\text{area }S = \\int\\!\\int_S \\mathrm{d}S = \\int\\!\\int_S a^2\\sin\\phi\\,\\mathrm{d}\\phi\\,\\mathrm{d}\\theta$$"
   ]
  },
  {
   "cell_type": "markdown",
   "id": "1566c66d-786e-40c8-871b-3d16e89e4ee5",
   "metadata": {},
   "source": [
    "The projection, denoted as $R$, of $S$ onto the $xy$-plane is a circle of radius $a$.  Therefore the limits of the double integral above, in polar coordiantes, are from $0$ to $a$ with respect to $r$, and from $0$ to $2\\pi$ with respect to $\\theta$.  Now we must perform a change in variables from spherical coordinates to cylindrical coordinates to find the area of $S$."
   ]
  },
  {
   "cell_type": "markdown",
   "id": "161a3252-a9ad-4f80-b40e-6025c552f54f",
   "metadata": {},
   "source": [
    "$$ z = a\\cos\\phi \\quad\\quad r = a\\sin\\phi $$"
   ]
  },
  {
   "cell_type": "markdown",
   "id": "a13d2c43-facb-4de7-8142-0a1c42943642",
   "metadata": {},
   "source": [
    "Differentiating throughout the right hand equation above with respect to $\\phi$ gives:  \n",
    "\n",
    "$$ \\mathrm{d}r = a\\cos\\phi\\,\\mathrm{d}\\phi \\quad\\therefore\\quad \\mathrm{d}\\phi = \\frac{\\mathrm{d}r}{a\\cos\\phi}$$"
   ]
  },
  {
   "cell_type": "markdown",
   "id": "13791715-6182-406d-b621-6969d022eded",
   "metadata": {},
   "source": [
    "Therefore,  \n",
    "\n",
    "$$ \\text{area }S = \\int_0^{2\\pi}\\int_0^a a\\tan\\phi\\,\\mathrm{d}r\\,\\mathrm{d}\\theta$$"
   ]
  },
  {
   "cell_type": "markdown",
   "id": "59fc90bf-b528-4008-bbaf-b69de254dd5a",
   "metadata": {},
   "source": [
    "$$ = \\int_0^{2\\pi}\\int_0^a \\frac{ar}{z}\\,\\mathrm{d}r\\,\\mathrm{d}\\theta = \\int_0^{2\\pi}\\int_0^a \\frac{ar}{\\sqrt{a^2-r^2}}\\,\\mathrm{d}r\\,\\mathrm{d}\\theta$$"
   ]
  },
  {
   "cell_type": "markdown",
   "id": "f804c1ff-f67a-4ed1-aabb-831ebf7abf0d",
   "metadata": {},
   "source": [
    "The primitive integral is:  \n",
    "\n",
    "$$ \\int\\frac{ar}{\\sqrt{a^2-r^2}}\\,\\mathrm{d}r = K - a\\sqrt{a^2-r^2}$$"
   ]
  },
  {
   "cell_type": "markdown",
   "id": "6d80d3fc-bc9c-49f9-95c4-269d731698ae",
   "metadata": {},
   "source": [
    "The inner integral is:  \n",
    "\n",
    "$$ \\int_0^a \\frac{ar}{\\sqrt{a^2-r^2}}\\,\\mathrm{d}r = a^2$$"
   ]
  },
  {
   "cell_type": "markdown",
   "id": "d89cc8be-5ed3-4681-b285-6aae817d15e5",
   "metadata": {},
   "source": [
    "Finally,  \n",
    "\n",
    "$$ \\text{area }S = 2\\pi a^2$$"
   ]
  },
  {
   "cell_type": "markdown",
   "id": "ad028e37-18a5-4387-8626-7b7385b15261",
   "metadata": {},
   "source": [
    "Of course the surface area element is, in polar coordinates is:  \n",
    "\n",
    "$$ \\mathrm{d}S = \\frac{ar}{\\sqrt{a^2-r^2}}\\,\\mathrm{d}r\\,\\mathrm{d}\\theta$$"
   ]
  },
  {
   "cell_type": "markdown",
   "id": "ca6b817f-1d8d-4572-903d-3cf1ed0e71b8",
   "metadata": {},
   "source": [
    "And $f(x,y)$ in polar coordinates is:  \n",
    "\n",
    "$$ f(r,\\theta) = f(x,y) = \\sqrt{r^2-\\big(\\sqrt{a^2-r^2}-a\\big)^2}$$"
   ]
  },
  {
   "cell_type": "markdown",
   "id": "53649bd1-14bf-4173-989f-3a14111815c8",
   "metadata": {},
   "source": [
    "$$ = \\sqrt{r^2 - a^2 + r^2 + 2\\sqrt{a^2-r^2} - a^2}$$"
   ]
  },
  {
   "cell_type": "markdown",
   "id": "fbc8638b-61e4-4b27-b182-7976c658627c",
   "metadata": {},
   "source": [
    "$$ = \\sqrt{2\\big(r^2-a^2 + \\sqrt{a^2-r^2}\\big)}$$"
   ]
  },
  {
   "cell_type": "markdown",
   "id": "f486f138-87f1-4ddf-9618-5474821310c9",
   "metadata": {},
   "source": [
    "The integrand is:  \n",
    "\n",
    "$$ f(r,\\theta)\\,\\mathrm{d}S = ar\\,\\sqrt{2\\,\\frac{r^2-a^2+\\sqrt{a^2-r^2}}{a^2-r^2}}\\,\\mathrm{d}r\\,\\mathrm{d}\\theta$$"
   ]
  },
  {
   "cell_type": "markdown",
   "id": "9bb4862d-909b-4cd4-accf-c4a0840b7307",
   "metadata": {},
   "source": [
    "$$ = ar\\,\\sqrt{2\\left(\\frac{1}{\\sqrt{a^2-r^2}}-1\\right)}\\,\\mathrm{d}r\\,\\mathrm{d}\\theta$$"
   ]
  },
  {
   "cell_type": "markdown",
   "id": "1cc3a998-ec29-4ea7-a9fc-6f39a4e885f5",
   "metadata": {},
   "source": [
    "Let's try spherical coordinates instead.  The integrand is:  \n",
    "\n",
    "$$ f(\\rho,\\phi,\\theta)\\,\\mathrm{d}S = a^3\\sin\\phi\\sqrt{2\\big(1-\\cos\\phi\\big)}\\,\\mathrm{d}\\phi\\,\\mathrm{d}\\theta$$"
   ]
  },
  {
   "cell_type": "markdown",
   "id": "3158a5cc-1953-47cf-bd76-a8400d09f400",
   "metadata": {},
   "source": [
    "Therefore, the average distance is:  \n",
    "\n",
    "$$ \\text{avg. }\\,f(\\rho,\\phi,\\theta) = \\frac{1}{2\\pi}\\int_0^{2\\pi}\\int_0^{0.5\\pi}a\\sin\\phi\\sqrt{2\\big(1-\\cos\\phi\\big)}\\,\\mathrm{d}\\phi\\,\\mathrm{d}\\theta$$"
   ]
  },
  {
   "cell_type": "markdown",
   "id": "eeaba867-7a34-4a76-a12c-ee420b612a6c",
   "metadata": {},
   "source": [
    "The primitive integral is:  \n",
    "\n",
    "$$ a\\int\\sin\\phi\\sqrt{2\\big(1-\\cos\\phi\\big)}\\,\\mathrm{d}\\phi = \\frac{a\\sqrt{2\\big(1-\\cos\\phi\\big)^3}}{3} + K$$"
   ]
  },
  {
   "cell_type": "markdown",
   "id": "9b04979e-4f7c-4958-92a1-798062bfd60c",
   "metadata": {},
   "source": [
    "The inner integral is:  \n",
    "\n",
    "$$ \\int_0^{0.5\\pi}a\\sin\\phi\\sqrt{2\\big(1-\\cos\\phi\\big)}\\,\\mathrm{d}\\phi =  \\frac{a\\sqrt{2}}{3}$$"
   ]
  },
  {
   "cell_type": "markdown",
   "id": "24da8aa9-29fc-4739-a2e7-77787a7a5e5c",
   "metadata": {},
   "source": [
    "Finally,  \n",
    "\n",
    "$$ \\text{avg. }\\,f(\\rho,\\phi,\\theta) = \\frac{a\\sqrt{2}}{3}$$"
   ]
  },
  {
   "cell_type": "markdown",
   "id": "f863e57c-5920-44d4-9ec9-ca09a9257e2a",
   "metadata": {},
   "source": [
    "Now, let $f(x,y,z)$ be redefined such that it is equal to the distance along the surface of the earth between the north pole a point at $(x,y,z(x,y))$ on the surface of the earth.  Note that this differs from the previous definition in that it is the length of an arc resting on $S$ connecting said point and the north pole as opposed to a straight line segment.  \n",
    "\n",
    "$$ f(x,y,z) = f(\\rho,\\phi,\\theta) = a\\phi$$"
   ]
  },
  {
   "cell_type": "markdown",
   "id": "76b90838-69fd-4386-8952-4c9895f015f2",
   "metadata": {},
   "source": [
    "The average distance is thus,  \n",
    "\n",
    "$$ \\text{avg. }\\,f(\\rho,\\phi,\\theta) = \\frac{1}{2\\pi a^2}\\int\\!\\int_S a\\phi\\,\\mathrm{d}S$$"
   ]
  },
  {
   "cell_type": "markdown",
   "id": "f29453a9-5934-4733-bb05-87d521a25381",
   "metadata": {},
   "source": [
    "$$ = \\frac{1}{2\\pi a^2}\\int_0^{2\\pi}\\int_0^{0.5\\pi}a^3\\phi\\sin\\phi\\,\\mathrm{d}\\phi\\,\\mathrm{d}\\theta$$"
   ]
  },
  {
   "cell_type": "markdown",
   "id": "c9432d31-5c09-4566-9d28-74e6aeb1d968",
   "metadata": {},
   "source": [
    "$$ = \\frac{a}{2\\pi}\\int_0^{2\\pi}\\int_0^{0.5\\pi}\\phi\\sin\\phi\\,\\mathrm{d}\\phi\\,\\mathrm{d}\\theta$$"
   ]
  },
  {
   "cell_type": "markdown",
   "id": "f3cb1667-0de6-4eeb-917b-104939e7f8cf",
   "metadata": {},
   "source": [
    "To find the primitive integral:  \n",
    "\n",
    "$$ g(\\phi) := \\int \\phi\\sin\\phi\\,\\mathrm{d}\\phi = K+\\sin\\phi -\\phi\\cos\\phi$$"
   ]
  },
  {
   "cell_type": "markdown",
   "id": "bf805236-223b-490d-acb2-b3deb4cd6c29",
   "metadata": {},
   "source": [
    "$$ g'(\\phi) = \\cos\\phi - \\cos\\phi + \\phi\\sin\\phi = \\phi\\sin\\phi$$"
   ]
  },
  {
   "cell_type": "markdown",
   "id": "6f06dae0-3f88-4b0a-b179-b6cd3246ea69",
   "metadata": {},
   "source": [
    "$$ = (\\phi + A + 1)\\cos\\phi +(1 - \\phi - A)\\sin\\phi$$"
   ]
  }
 ],
 "metadata": {
  "kernelspec": {
   "display_name": "Python 3 (ipykernel)",
   "language": "python",
   "name": "python3"
  },
  "language_info": {
   "codemirror_mode": {
    "name": "ipython",
    "version": 3
   },
   "file_extension": ".py",
   "mimetype": "text/x-python",
   "name": "python",
   "nbconvert_exporter": "python",
   "pygments_lexer": "ipython3",
   "version": "3.10.12"
  }
 },
 "nbformat": 4,
 "nbformat_minor": 5
}
