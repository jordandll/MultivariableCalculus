{
 "cells": [
  {
   "cell_type": "markdown",
   "id": "6189aab0-a104-412b-b3bf-84f187e0564b",
   "metadata": {},
   "source": [
    "# $\\mathrm{V }9.3$-$4$ Surface Integrals\n",
    "\n",
    "## Flux Through General Surfaces\n",
    "\n",
    "For a general surface, we will use $xyz$-coordinates. It turns out that here it is simpler\n",
    "to calculate the infinitesimal vector $\\mathrm{d}\\mathbf{S} = \\mathbf{n} \\mathrm{d}S$ directly, rather than calculate $\\mathbf{n}$ and $\\mathrm{d}S$\n",
    "separately and multiply them, as we did in the previous section. Below are the two standard\n",
    "forms for the equation of a surface, and the corresponding expressions for $\\mathrm{d}\\mathbf{S}$.  In the first\n",
    "we use $z$ both for the dependent variable and the function which gives its dependence on $x$\n",
    "and $y$; you can use $f (x, y)$ for the function if you prefer, but that’s one more letter to keep\n",
    "track of.\n"
   ]
  },
  {
   "cell_type": "markdown",
   "id": "12b9b300-3e2f-4d1e-a8d5-e23a5e667e85",
   "metadata": {},
   "source": [
    "\\begin{equation}\\tag{11a}\n",
    "    z = z(x,y) \\quad\\quad \\mathrm{d}\\mathbf{S} = (-z_x\\,\\mathbf{i} - z_y\\,\\mathbf{j} + \\mathbf{k})\\,\\mathrm{d}x\\,\\mathrm{d}y\\quad\\quad\\text{( }\\mathbf{n}\\text{ points \"up\")}\n",
    "\\end{equation}"
   ]
  },
  {
   "cell_type": "markdown",
   "id": "5a636590-5f9e-4fd3-bd99-faae0d802edf",
   "metadata": {},
   "source": [
    "\\begin{equation}\\tag{11b}\n",
    "    F(x,y,z) = c\\quad\\quad \\mathrm{d}\\mathbf{S} = \\pm\\frac{\\nabla F}{F_z}\\,\\mathrm{d}x\\,\\mathrm{d}y\\quad\\quad \\text{(choose the right sign)}\n",
    "\\end{equation}"
   ]
  },
  {
   "cell_type": "markdown",
   "id": "23d5691b-3f82-4e0f-9842-418f46853e3b",
   "metadata": {},
   "source": [
    "### Derivation of the Formulae for $\\mathrm{d}\\mathbf{S}$  \n",
    "\n",
    "Refer to the illustration on the right.  The surface $S$ lies over it's projection $R$, a region in the $xy$-plane.  We divide up $R$ into infinitismal rectangles having area $\\mathrm{d}x\\,\\mathrm{d}y$ and sides parallel to the $xy$-axes -- one of these is shown.  Over it lies a piece $\\mathrm{d}S$ of the surface, which is approximately a parallelogram, sinces its sides are approximately parallel.  \n",
    "\n",
    "The infinitismal vector $\\mathrm{d}\\mathbf{S} = \\mathbf{n}\\,\\mathrm{d}S$ we are looking for has:\n",
    "* *direction*: perpendicular to the surface, in the \"up\" direction;\n",
    "* *magnitude*: the area $\\mathrm{d}S$ of the infinitismal parallelogram."
   ]
  },
  {
   "cell_type": "markdown",
   "id": "0776ed4a-e442-4fe6-9ebc-1094d018834f",
   "metadata": {},
   "source": [
    "This shows our infinitismal vector is the cross-product:  \n",
    "\n",
    "$$ \\mathrm{d}\\mathbf{S} = \\mathbf{A}\\times\\mathbf{B}$$"
   ]
  },
  {
   "cell_type": "markdown",
   "id": "f01c9434-ab86-4304-8946-cb6a07d051a2",
   "metadata": {},
   "source": [
    "where $\\mathbf{A}$ and $\\mathbf{B}$ are two infinitismal vectors forming adjacent sides of the parallelogram.  To calculate these vectors, from the definition of the partial derivative let $z:=f(x,y)$ be the function that gives the surface $S$.  \n",
    "\n",
    "$\\mathbf{A}$ lies over the vector $\\mathrm{d}x\\,\\mathbf{i}$ and has a slope of $f_x$ in the direction of $\\mathbf{i}$, so  \n",
    "\n",
    "$$ \\mathbf{A} = \\mathrm{d}x\\,\\mathbf{i} + f_x\\,\\mathrm{d}x\\,\\mathbf{k} = \\langle \\mathrm{d}x,0,f_x\\mathrm{d}x\\rangle = \\mathrm{d}x\\langle 1,0,f_x\\rangle$$"
   ]
  },
  {
   "cell_type": "markdown",
   "id": "398c5673-f334-4570-bd0f-336c9b110537",
   "metadata": {},
   "source": [
    "And $\\mathbf{B}$ lies over the vector $\\mathrm{d}y\\,\\mathbf{j}$ and has a slope of $f_y$ in the direction of $\\mathbf{j}$, so  \n",
    "\n",
    "$$ \\mathbf{B} = \\mathrm{d}y\\,\\mathbf{j} + f_y\\,\\mathrm{d}y\\,\\mathbf{k} = \\langle 0,\\mathrm{d}y,f_y\\,\\mathrm{d}y\\rangle = \\mathrm{d}y\\langle 0,1,f_y\\rangle$$"
   ]
  },
  {
   "cell_type": "markdown",
   "id": "30850e79-d9a4-4166-a49f-e094e405beaa",
   "metadata": {},
   "source": [
    "The ellaborate on the above, the total derivative of $f$ and thus $z$ is:  \n",
    "\n",
    "\\begin{equation}\\tag{1}\n",
    "    \\mathrm{d}z = z_x\\,\\mathrm{d}x + z_y\\,\\mathrm{d}y \\quad\\quad\\text{or}\\quad\\quad \\mathrm{d}f = f_x\\,\\mathrm{d}x + f_y\\,\\mathrm{d}y\n",
    "\\end{equation}"
   ]
  },
  {
   "cell_type": "markdown",
   "id": "a8938b5d-1fbd-4107-bc8c-ae895d5be625",
   "metadata": {},
   "source": [
    "In the case of $\\mathbf{A}$, $\\mathrm{d}y = 0 $, therefore,  \n",
    "\n",
    "$$ a_3 = \\mathrm{d}z = z_x\\,\\mathrm{d}x = f_x\\,\\mathrm{d}x$$"
   ]
  },
  {
   "cell_type": "markdown",
   "id": "074645f0-f953-4c69-a08c-59aaff8abbca",
   "metadata": {},
   "source": [
    "Note that $a_3$ is the $z$-compliment or $\\mathbf{k}$-component of $\\mathbf{A}$.  We use the subscript $3$ instead of $z$ since the latter might be confused with the partial derivative of $\\mathbf{A}$ with respect to $z$."
   ]
  },
  {
   "cell_type": "markdown",
   "id": "4e21bff8-2ae0-4385-8dcf-edb60b150d91",
   "metadata": {},
   "source": [
    "And, in the case of $\\mathbf{B}$, $\\mathrm{d}x=0$, therefore,  \n",
    "\n",
    "$$ b_3 = \\mathrm{d}z = z_y\\,\\mathrm{d}y = f_y\\,\\mathrm{d}y$$"
   ]
  },
  {
   "cell_type": "markdown",
   "id": "51b1cff5-a0b3-463e-8ddc-d35fa4be35f6",
   "metadata": {},
   "source": [
    "In general, any infinitismal 3d space vector is equal to $\\langle \\mathrm{d}x,\\mathrm{d}y,\\mathrm{d}z\\rangle$.  With $z$ being the dependent variable, according to equation (1), the formula for total derivatives, the value of $\\mathrm{d}z$ may vary with the independent variables."
   ]
  }
 ],
 "metadata": {
  "kernelspec": {
   "display_name": "Python 3 (ipykernel)",
   "language": "python",
   "name": "python3"
  },
  "language_info": {
   "codemirror_mode": {
    "name": "ipython",
    "version": 3
   },
   "file_extension": ".py",
   "mimetype": "text/x-python",
   "name": "python",
   "nbconvert_exporter": "python",
   "pygments_lexer": "ipython3",
   "version": "3.10.12"
  }
 },
 "nbformat": 4,
 "nbformat_minor": 5
}
