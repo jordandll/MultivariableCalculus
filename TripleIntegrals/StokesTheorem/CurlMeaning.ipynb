{
 "cells": [
  {
   "cell_type": "markdown",
   "id": "ff5e2074-1264-44af-b9e4-3e2aef73a00f",
   "metadata": {},
   "source": [
    "# Physical Meaning of Curl  \n",
    "\n",
    "## Interpretation of $\\mathrm{curl }\\,\\mathbf{F}$"
   ]
  },
  {
   "cell_type": "markdown",
   "id": "4911ea41-097a-49ad-aa32-fd627287cd1d",
   "metadata": {},
   "source": [
    "## Problems  \n",
    "\n",
    "#### Problem 1  \n",
    "\n",
    "Let $\\mathbf{F} = \\langle x,y,z\\rangle$.  Calculate and interpret $\\mathrm{curl }\\,\\mathbf{F}$."
   ]
  },
  {
   "attachments": {},
   "cell_type": "markdown",
   "id": "3e2ef268-51e1-44db-8c23-cf2e68c82d11",
   "metadata": {},
   "source": [
    "The field $\\mathbf{F}$ radiates outward away from origin.  \n",
    "\n",
    "$$ \\nabla \\times \\mathbf{F} = \\mathrm{curl }\\,\\mathbf{F} = \\left|\\begin{matrix}\\mathbf{i} & \\mathbf{j} & \\mathbf{k} \\\\ \\partial_x & \\partial_y & \\partial_z \\\\ x & y & z\\end{matrix}\\right|= \\mathbf{0}$$"
   ]
  },
  {
   "cell_type": "markdown",
   "id": "1c0baf61-1498-42f5-88b7-65b8b7ecac37",
   "metadata": {},
   "source": [
    "What the above means in physical terms is that, assuming $\\mathbf{F}$ is a velocity field, our field has no \"vorticty\" -- i.e., it has no tendency to rotate a suitable test object around any axis of rotation."
   ]
  },
  {
   "cell_type": "markdown",
   "id": "5bd2bb78-1cdc-473a-a54b-925ce1265ded",
   "metadata": {},
   "source": [
    "#### Problem 2  \n",
    "\n",
    "Let $\\mathbf{F} = \\langle y,0,0\\rangle$.  Calculate and interpret the curl of $\\mathbf{F}$.  \n",
    "\n",
    "$$ \\nabla \\times \\mathbf{F} = \\langle 0 , 0, -1\\rangle = -\\mathbf{k}$$"
   ]
  },
  {
   "cell_type": "markdown",
   "id": "3705721a-71b3-470e-bbd2-ef1e74d2c623",
   "metadata": {},
   "source": [
    "What the above means in phyical terms is that, assuming $\\mathbf{F}$ is a velocity field, a infinitismally small paddle wheel with $-\\mathbf{k}$ as it's axis of rotation will be spun or rotated by $\\mathbf{F}$ with an angular velocity $\\omega$ of $0.5$.  Moreover,  \n",
    "\n",
    "$$ 2\\omega = \\nabla \\times \\mathbf{F} \\cdot \\mathbf{n} = \\cos\\theta$$"
   ]
  },
  {
   "cell_type": "markdown",
   "id": "cee7ebce-1ef4-492f-993b-6cce79166d3a",
   "metadata": {},
   "source": [
    "where $\\mathbf{n}$ is the axis of rotation of our paddle wheel and $\\theta$ is the angle between $-\\mathbf{k}$ and $\\mathbf{n}$."
   ]
  }
 ],
 "metadata": {
  "kernelspec": {
   "display_name": "Python 3 (ipykernel)",
   "language": "python",
   "name": "python3"
  },
  "language_info": {
   "codemirror_mode": {
    "name": "ipython",
    "version": 3
   },
   "file_extension": ".py",
   "mimetype": "text/x-python",
   "name": "python",
   "nbconvert_exporter": "python",
   "pygments_lexer": "ipython3",
   "version": "3.10.12"
  }
 },
 "nbformat": 4,
 "nbformat_minor": 5
}
