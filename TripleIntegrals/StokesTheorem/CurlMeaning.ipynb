{
 "cells": [
  {
   "cell_type": "markdown",
   "id": "ff5e2074-1264-44af-b9e4-3e2aef73a00f",
   "metadata": {},
   "source": [
    "# Physical Meaning of Curl  \n",
    "\n",
    "## Interpretation of $\\mathrm{curl }\\,\\mathbf{F}$  \n",
    "\n",
    "We will start by looking at the two dimensional curl in the $xy$-plane. Our interpretation\n",
    "will be that the curl at a point represents twice the angular velocity of a small paddle wheel\n",
    "at that point. At the very end we will indicate how to extend this interpretation to 3\n",
    "dimensions"
   ]
  },
  {
   "cell_type": "markdown",
   "id": "c42a3c06-9a69-4cae-beda-ad6a6eb61878",
   "metadata": {},
   "source": [
    "The function $\\mathrm{curl }\\,\\mathbf{F}$ can be thought of as measuring the tendency of $\\mathbf{F}$ to produce rotation.\n",
    "Interpreting $\\mathbf{F}$ either as a force field or a velocity field, $\\mathbf{F}$ will make a suitable test object\n",
    "placed at a point $P_0$ spin about a vertical axis (i.e., one in the $\\mathbf{k}$ -direction), and the angular\n",
    "velocity of the spin will be proportional to $(\\mathrm{curl }\\,\\mathbf{F})_0 = (\\mathrm{curl }\\,\\mathbf{F})(P_0)$."
   ]
  },
  {
   "cell_type": "markdown",
   "id": "43345ac8-c4cb-4005-a5b8-dc5dbfc4821d",
   "metadata": {},
   "source": [
    "To see this for the velocity field $\\mathbf{v}$ of a flowing\n",
    "liquid, place a paddle wheel of radius $a$ so its center\n",
    "is at $(x_0, y_0)$, and its axis is vertical. We ask how\n",
    "rapidly the flow spins the wheel."
   ]
  },
  {
   "cell_type": "markdown",
   "id": "091a7a15-c5c9-4062-86db-662683ddc20e",
   "metadata": {},
   "source": [
    "If the wheel had only one blade, the velocity of the blade would be $\\mathbf{F}\\cdot\\mathbf{t}$, the component of $\\mathbf{F}$ perpendicular to the blade (i.e. the component of $\\mathbf{F}$ that is tangent to the circle of radius $a$ traced by the blade."
   ]
  },
  {
   "cell_type": "markdown",
   "id": "f44ebe5d-7e3b-4571-95f2-d7b3e4546d51",
   "metadata": {},
   "source": [
    "If $\\mathbf{F} \\cdot \\mathbf{t}$ is not constant along this circle and the wheel has only one blade then it will\n",
    "spin around at an uneven rate. But if the wheel has many blades, this unevenness will be\n",
    "averaged out, and it will spin around at approximately the average value of the tangential\n",
    "velocity $\\mathbf{F} \\cdot \\mathbf{t}$ over the circle. Like the average value of any function defined along a curve,\n",
    "this average tangential velocity can be found by integrating $\\mathbf{F}\\cdot \\mathbf{t}$ over the circle, and dividing\n",
    "by the length of the circle. Thus,  \n",
    "\n",
    "$$ \\frac{\\mathrm{d}s}{\\mathrm{d}t} = \\frac{1}{2\\pi a}\\,\\oint_C \\mathbf{F}\\cdot\\mathbf{t}\\,\\mathrm{d}s = \\frac{1}{2\\pi a}\\,\\oint_C\\mathbf{F}\\cdot\\mathrm{d}\\mathbf{r}$$"
   ]
  },
  {
   "cell_type": "markdown",
   "id": "e17448e0-7aab-424a-be57-bea292cd2fbe",
   "metadata": {},
   "source": [
    "Where $s:=s(t)$ is the length of the path traced by one of the blades of the paddle wheel and thus $s'(t)$ (i.e. the derivative of $s$ with respect to time) is the linear or tangential speed of the paddle wheel.  Via the above equation and Green's theorem,  "
   ]
  },
  {
   "cell_type": "markdown",
   "id": "8ec31ac2-86e4-4ca6-93e9-2e7425b24868",
   "metadata": {},
   "source": [
    "$$s'(t)  = \\frac{1}{2\\pi a}\\,\\iint_R \\mathrm{curl }\\,\\mathbf{F}\\,\\mathrm{d}A \\approxeq \\frac{1}{2 \\pi a}\\,\\iint_R (\\mathrm{curl }\\,\\mathbf{F})_0\\,\\mathrm{d}A $$"
   ]
  },
  {
   "cell_type": "markdown",
   "id": "ce93c521-fb1b-4356-94ab-ff7792b56173",
   "metadata": {},
   "source": [
    "$$ = \\frac{(\\mathrm{curl }\\,\\mathbf{F})_0}{2 \\pi a}\\,\\iint_R\\,\\mathrm{d}A = \\frac{(\\mathrm{curl }\\,\\mathbf{F})_0}{2\\pi a}\\,\\pi a^2$$"
   ]
  },
  {
   "cell_type": "markdown",
   "id": "1f1813b3-83a6-45d9-81e1-fbb89f33187d",
   "metadata": {},
   "source": [
    "Finally,  \n",
    "\n",
    "\\begin{equation}\\tag{9}\n",
    "    \\frac{\\mathrm{d}s}{\\mathrm{d}t} \\approxeq \\frac{a}{2}\\,(\\mathrm{curl }\\,\\mathbf{F})_0\n",
    "\\end{equation}"
   ]
  },
  {
   "cell_type": "markdown",
   "id": "62ccebde-cf2b-49cd-bece-42c76ef1bc2f",
   "metadata": {},
   "source": [
    "As has been stated already, $(\\mathrm{curl }\\,\\mathbf{F})_0$ is value of $\\mathrm{curl }\\,\\mathbf{F}$ at $(x_0,y_0)$ (i.e. the center of our cirlce $C$).  The justification for the approximate equality in the proof of equation (9) is that, assuming a small $C$, $\\mathrm{curl }\\,\\mathbf{F} \\approxeq (\\mathrm{curl }\\,\\mathbf{F})_0$ within the interior of $C$, denoted as $R$.  "
   ]
  },
  {
   "cell_type": "markdown",
   "id": "ad47b327-9c21-4cae-92dd-c9a96ddaad6e",
   "metadata": {},
   "source": [
    "Now, to get the relationship between $\\mathrm{curl }\\,\\mathbf{F}$ and the angular velocity of the paddle wheel from equatoon (9), first note that:  \n",
    "\n",
    "$$ \\theta a = s \\quad\\therefore\\quad \\frac{\\mathrm{d}\\theta}{\\mathrm{d}t}\\,a = \\omega a = \\frac{\\mathrm{d}s}{\\mathrm{d}t}$$"
   ]
  },
  {
   "cell_type": "markdown",
   "id": "9b094415-199e-4727-958a-aca42e4ad2d7",
   "metadata": {},
   "source": [
    "Via the proposition of the above line of reasoning and equation (9),  \n",
    "\n",
    "\\begin{equation}\\tag{10}\n",
    "    \\omega_0 a \\approxeq \\frac{a}{2}(\\mathrm{curl }\\,\\mathbf{F})_0 \\quad\\therefore\\quad 2\\omega_0 \\approxeq (\\mathrm{curl }\\,\\mathbf{F})_0\n",
    "\\end{equation}"
   ]
  },
  {
   "cell_type": "markdown",
   "id": "f3fb5c63-bdcd-498e-8304-be903b084765",
   "metadata": {},
   "source": [
    "where $\\omega_0$ is the angular velocity of the paddle wheel centered at $(x_0,y_0)$.  As the radius of the paddle wheel gets smaller, the approximation becomes more exact, and, passing to the limit as $a\\to 0$, we conclude that, for a two-dimensional velocity field $\\mathbf{F}$,  \n",
    "\n",
    "\\begin{equation}\\tag{11}\n",
    "    \\mathrm{curl }\\,\\mathbf{F} = 2\\omega\n",
    "\\end{equation}"
   ]
  },
  {
   "cell_type": "markdown",
   "id": "3c1797e7-335b-4247-a51b-7f790f46365a",
   "metadata": {},
   "source": [
    "where $\\omega$ is the angular velocity of an infinitismally small paddle wheel at $(x,y)$."
   ]
  },
  {
   "cell_type": "markdown",
   "id": "74a51326-90a5-4d10-b488-0746bd7a5221",
   "metadata": {},
   "source": [
    "The curl thus measures the “vorticity” of the fluid flow — its tendency to produce rotation.  \n",
    "\n",
    "A consideration of $\\mathrm{curl }\\, \\mathbf{F}$ for a force field would be similar, interpreting $\\mathbf{F}$ as exerting a\n",
    "torque on a spinnable object — a little dumbbell with two unit masses for a gravitational\n",
    "field, or with two unit positive charges for an electrostatic force field."
   ]
  },
  {
   "cell_type": "markdown",
   "id": "a01aaa65-f797-470b-84d9-af6c311cd8d9",
   "metadata": {},
   "source": [
    "### Example 1  \n",
    "\n",
    "Calculate and interpret $\\mathrm{curl }\\,\\mathbf{F}$ for (a) $x\\,\\mathbf{i} + y\\,\\mathbf{j}$ and (b) $\\omega(-y\\,\\mathbf{i} + x\\,\\mathbf{j})$"
   ]
  },
  {
   "attachments": {},
   "cell_type": "markdown",
   "id": "3b731ae2-d13a-4522-8867-667e54aa1f47",
   "metadata": {},
   "source": [
    "**a)**  \n",
    "\n",
    "$$ \\mathbf{F} = \\langle x,y\\rangle \\quad\\quad\\text{and}\\quad\\quad\\mathrm{curl }\\,\\mathbf{F} = 0$$"
   ]
  },
  {
   "cell_type": "markdown",
   "id": "acf8556f-0ce6-43e5-b849-9e0d7d304ec0",
   "metadata": {},
   "source": [
    "Our field $\\mathbf{F}$ radiates outwards from origin with a magnitude that is equal to the distance from origin.  The vorticity is equal to zero."
   ]
  },
  {
   "cell_type": "markdown",
   "id": "c5848bc5-db0b-4af5-bf5b-229d0ddad8d0",
   "metadata": {},
   "source": [
    "**b)**  \n",
    "\n",
    "$$ \\mathbf{F} = \\omega\\langle -y,x\\rangle \\quad\\quad\\text{and}\\quad\\quad \\mathrm{curl }\\,\\mathbf{F} = \\omega + \\omega = 2\\omega$$"
   ]
  },
  {
   "cell_type": "markdown",
   "id": "9343db54-f032-4f4d-bbe7-badcf7b68608",
   "metadata": {},
   "source": [
    "The field $\\mathbf{F}$ rotates around origin in the counter clockwise direction with a magnitude or speed that is equal to $\\omega$ times the distance from origin.  A circlular motion around origin in the counter clockwise direction with a radius of $a$ will have a tangential speed of $\\omega a$ and an angular velocity of $\\omega$.  The angular velocity of an infinitismal paddle wheel placed anywhere in the flow will be equal to $\\omega$."
   ]
  },
  {
   "cell_type": "markdown",
   "id": "bc203e70-2a72-4947-9659-6f1d3483e7eb",
   "metadata": {},
   "source": [
    "## Three Dimensions  \n",
    "\n",
    "To extend this interpretation to three dimensions\n",
    "note that any component of the flow of $\\mathbf{F}$ in the $\\mathbf{k}$ direction will not have any effect on a\n",
    "paddle wheel in the $xy$-plane. In fact, for any plane with normal $\\mathbf{n}$ the component of $\\mathbf{F}$ in\n",
    "the direction of n has no effect on a paddle wheel in the plane. This leads to the following\n",
    "interpretation of the three dimensional curl:  \n",
    "\n",
    "For any plane with unit normal $\\mathbf{n}$, assuming $\\mathbf{F}$ is a velocity field, $(\\mathrm{curl }\\,\\mathbf{F})\\cdot\\mathbf{n}$ -- i.e. the component of $\\mathrm{curl }\\,\\mathbf{F}$ in the direction of $\\mathbf{n}$ -- at $(x,y,z)$ is equal to twice the angular velocity of a infinitismally small paddle wheel in the plane centered at that point.  \n",
    "\n",
    "We could force through a proof along the lines of the 2D proof above. Once we learn\n",
    "Stokes Theorem we can make a much simpler argument."
   ]
  },
  {
   "cell_type": "markdown",
   "id": "4911ea41-097a-49ad-aa32-fd627287cd1d",
   "metadata": {},
   "source": [
    "## Problems  \n",
    "\n",
    "#### Problem 1  \n",
    "\n",
    "Let $\\mathbf{F} = \\langle x,y,z\\rangle$.  Calculate and interpret $\\mathrm{curl }\\,\\mathbf{F}$."
   ]
  },
  {
   "attachments": {},
   "cell_type": "markdown",
   "id": "3e2ef268-51e1-44db-8c23-cf2e68c82d11",
   "metadata": {},
   "source": [
    "The field $\\mathbf{F}$ radiates outward away from origin.  \n",
    "\n",
    "$$ \\nabla \\times \\mathbf{F} = \\mathrm{curl }\\,\\mathbf{F} = \\left|\\begin{matrix}\\mathbf{i} & \\mathbf{j} & \\mathbf{k} \\\\ \\partial_x & \\partial_y & \\partial_z \\\\ x & y & z\\end{matrix}\\right|= \\mathbf{0}$$"
   ]
  },
  {
   "cell_type": "markdown",
   "id": "1c0baf61-1498-42f5-88b7-65b8b7ecac37",
   "metadata": {},
   "source": [
    "What the above means in physical terms is that, assuming $\\mathbf{F}$ is a velocity field, our field has no \"vorticty\" -- i.e., it has no tendency to rotate a suitable test object around any axis of rotation."
   ]
  },
  {
   "cell_type": "markdown",
   "id": "5bd2bb78-1cdc-473a-a54b-925ce1265ded",
   "metadata": {},
   "source": [
    "#### Problem 2  \n",
    "\n",
    "Let $\\mathbf{F} = \\langle y,0,0\\rangle$.  Calculate and interpret the curl of $\\mathbf{F}$.  \n",
    "\n",
    "$$ \\nabla \\times \\mathbf{F} = \\langle 0 , 0, -1\\rangle = -\\mathbf{k}$$"
   ]
  },
  {
   "cell_type": "markdown",
   "id": "3705721a-71b3-470e-bbd2-ef1e74d2c623",
   "metadata": {},
   "source": [
    "What the above means in phyical terms is that, assuming $\\mathbf{F}$ is a velocity field, a infinitismally small paddle wheel with $-\\mathbf{k}$ as it's axis of rotation will be spun or rotated by $\\mathbf{F}$ with an angular velocity $\\omega$ of $0.5$.  Moreover,  \n",
    "\n",
    "$$ 2\\omega = \\nabla \\times \\mathbf{F} \\cdot \\mathbf{n} = \\cos\\theta$$"
   ]
  },
  {
   "cell_type": "markdown",
   "id": "cee7ebce-1ef4-492f-993b-6cce79166d3a",
   "metadata": {},
   "source": [
    "where $\\mathbf{n}$ is the axis of rotation of our paddle wheel and $\\theta$ is the angle between $-\\mathbf{k}$ and $\\mathbf{n}$."
   ]
  }
 ],
 "metadata": {
  "kernelspec": {
   "display_name": "Python 3 (ipykernel)",
   "language": "python",
   "name": "python3"
  },
  "language_info": {
   "codemirror_mode": {
    "name": "ipython",
    "version": 3
   },
   "file_extension": ".py",
   "mimetype": "text/x-python",
   "name": "python",
   "nbconvert_exporter": "python",
   "pygments_lexer": "ipython3",
   "version": "3.10.12"
  }
 },
 "nbformat": 4,
 "nbformat_minor": 5
}
