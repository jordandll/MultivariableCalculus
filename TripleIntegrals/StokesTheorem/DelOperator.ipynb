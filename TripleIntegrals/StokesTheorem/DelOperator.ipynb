{
 "cells": [
  {
   "cell_type": "markdown",
   "id": "22f8da16-08f9-418b-895c-2b2bc952b722",
   "metadata": {},
   "source": [
    "# Del Operator  \n",
    "\n",
    "### Symbolic Notation:  The Del Operator  \n",
    "\n",
    "For the sake of conciseness, wide use is made of the symbolic operator \"del\" (some call it \"nabla\", which is the name of the token associated with it's denoting symbol '$\\nabla$' in the markup language, Latex)"
   ]
  },
  {
   "cell_type": "markdown",
   "id": "a64370a1-a846-4729-9b03-e2bfec30f57a",
   "metadata": {},
   "source": [
    "\\begin{equation}\\tag{1}\n",
    "    \\nabla = \\frac{\\partial }{\\partial x}\\,\\mathbf{i} + \\frac{\\partial }{\\partial y}\\,\\mathbf{j} + \\frac{\\partial }{\\partial z}\\,\\mathbf{k}\n",
    "\\end{equation}"
   ]
  },
  {
   "cell_type": "markdown",
   "id": "99f065bd-3fa8-49a3-b58c-ec21082ac55a",
   "metadata": {},
   "source": [
    "Note that we call this operator \"symbolic\" because it is a domain error to pass an operator as an argument to another operator, like the dot product or vector product operators;  Recall that the \"product\" of $\\partial_x$ and the function $M(x,y,z)$ is understood to be $M_x$.  Note that following notation that is used throughout this section.  \n",
    "\n",
    "$$ \\partial_x = \\frac{\\partial }{\\partial x}\\quad\\quad \\text{and}\\quad\\quad M_x = \\frac{\\partial M}{\\partial x}$$"
   ]
  },
  {
   "cell_type": "markdown",
   "id": "d8730253-74a3-423a-934b-7d52c8617032",
   "metadata": {},
   "source": [
    "The gradient of $f(x,y,z)$ is given by:  \n",
    "\n",
    "\\begin{equation}\\tag{2}\n",
    "    \\mathrm{grad }\\,f = \\nabla f = \\langle f_x,f_y,f_z\\rangle\n",
    "\\end{equation}"
   ]
  },
  {
   "cell_type": "markdown",
   "id": "5e29df44-f2d1-4bdd-bac5-848347bc964c",
   "metadata": {},
   "source": [
    "Let $\\mathbf{F}:= \\langle M,N,P\\rangle$.  The divergence of $\\mathbf{F}$ is equal to the symbolic dot product of $\\nabla$ and $\\mathbf{F}$.  \n",
    "\n",
    "\\begin{equation}\\tag{3}\n",
    "    \\mathrm{div }\\,\\mathbf{F} = \\nabla \\cdot \\mathbf{F} = M_x + N_y + P_z\n",
    "\\end{equation}"
   ]
  },
  {
   "cell_type": "markdown",
   "id": "7cdc634d-3726-4933-bf7b-296a9ccb528d",
   "metadata": {},
   "source": [
    "while the curl of $\\mathbf{F}$, as we have noted already, is a symbolic cross-product:  \n",
    "\n",
    "$$ \\mathrm{curl }\\,\\mathbf{F} = \\nabla \\times \\mathbf{F} = \\left|\\begin{matrix}\\mathbf{i} & \\mathbf{j} & \\mathbf{k} \\\\ \\partial_x & \\partial_y & \\partial_z \\\\ M & N & P\\end{matrix}\\right|$$"
   ]
  },
  {
   "cell_type": "markdown",
   "id": "1b37b646-86c9-4aae-9674-27407cf72050",
   "metadata": {},
   "source": [
    "Notice how this notation reminds you that the $\\nabla \\cdot \\mathbf{F}$, like any dot product, a scalar function, while $\\nabla \\times \\mathbf{F}$ is a vector function.  \n",
    "\n",
    "We may also speak of the Laplace operator $\\nabla^2$, defined by:  \n",
    "\n",
    "\\begin{equation}\\tag{5}\n",
    "    \\mathrm{lap }\\, f = \\nabla^2 f = f_{xx} + f_{yy} + f_{zz}\n",
    "\\end{equation}"
   ]
  },
  {
   "cell_type": "markdown",
   "id": "09216ffa-3754-48f3-b1d5-e801bf1333b5",
   "metadata": {},
   "source": [
    "where,  \n",
    "\n",
    "\\begin{equation}\\tag{5a}\n",
    "    \\nabla^2 = \\nabla \\cdot \\nabla = \\partial_{xx} + \\partial_{yy} + \\partial_{zz}\n",
    "\\end{equation}"
   ]
  },
  {
   "cell_type": "markdown",
   "id": "f42fedfb-4a0c-4321-b1e3-dabbfedd7c80",
   "metadata": {},
   "source": [
    "Moreover, the Laplacian of $f$, denoted as $\\mathrm{lat }\\, f$, is equal to the divergence of the gradient of $f$.  Thus, Laplace's equation may be written:  $\\nabla^2 f=0$.  A function or field that satisfies said equation is said to be **harmonic**.  Examples of harmonic functions are the potential function of an electrostatic field, in any region of space where there are no charges; or for a gravitational field, in a region of space where there are no masses.  \n",
    "\n",
    "Using this notation, the divergence theorem and Stokes' theorem are, respectively,  \n",
    "\n",
    "\\begin{equation}\\tag{6}\n",
    "    \\iint_S \\mathbf{F} \\cdot\\mathrm{d} \\mathbf{S} = \\iiint_D \\nabla \\cdot \\mathbf{F}\\,\\mathrm{d}V \\quad\\quad \\text{and}\\quad\\quad \\oint_C \\mathbf{F} \\cdot\\mathrm{d}\\mathbf{r} = \\iint_S \\nabla \\times \\mathbf{F}\\cdot\\mathrm{d}\\mathbf{S}\n",
    "\\end{equation}"
   ]
  },
  {
   "cell_type": "markdown",
   "id": "f149e2e6-8d83-4a04-b4b3-48f3c28cdd91",
   "metadata": {},
   "source": [
    "Two important relations involving the symbolic operator are:  \n",
    "\n",
    "\\begin{equation}\\tag{7}\n",
    "    \\mathrm{curl }\\,(\\mathrm{grad }\\,f) = \\mathbf{0} \\quad\\quad\\text{and}\\quad\\quad \\mathrm{div }\\,\\mathrm{curl }\\,\\mathbf{F} = 0\n",
    "\\end{equation}"
   ]
  },
  {
   "cell_type": "markdown",
   "id": "63198f4e-15e0-4947-8c26-9b795fd1c1c9",
   "metadata": {},
   "source": [
    "\\begin{equation}\\tag{7'}\n",
    "    \\nabla \\times \\nabla f = \\mathbf{0} \\quad\\quad\\text{and}\\quad\\quad \\nabla \\cdot \\nabla \\times \\mathbf{F} = 0\n",
    "\\end{equation}"
   ]
  },
  {
   "cell_type": "markdown",
   "id": "15b2b525-784f-439a-8842-c60f4a9ab5f1",
   "metadata": {},
   "source": [
    "The first we have proved (it was part of the criterion for gradient fields);  The second is an easy exercies.  Note, however, how the symbolic notation suggests the answer, since we know that for any vector $\\mathbf{A}$,  \n",
    "\n",
    "$$ \\mathbf{A}\\times\\mathbf{A} = \\mathbf{0} \\quad\\quad\\text{and}\\quad\\quad \\mathbf{A}\\cdot\\mathbf{A}\\times\\mathbf{F} = 0 $$"
   ]
  },
  {
   "cell_type": "markdown",
   "id": "23f729c3-2b9c-44bd-9d74-f1ce531e2070",
   "metadata": {},
   "source": [
    "Multiplying throughout the left hand equation found above by the scalar function $f$ gives:  \n",
    "\n",
    "$$ \\mathbf{A} \\times \\mathbf{A} f = \\mathbf{0}$$"
   ]
  },
  {
   "cell_type": "markdown",
   "id": "a6c94c9a-071e-433d-8756-a989aa52e74b",
   "metadata": {},
   "source": [
    "Equation (7') says this is true for the symbolic vector operator $\\nabla$ as well."
   ]
  },
  {
   "cell_type": "markdown",
   "id": "2d1c0cf3-61ce-4211-ae6e-4c56880ca392",
   "metadata": {},
   "source": []
  }
 ],
 "metadata": {
  "kernelspec": {
   "display_name": "Python 3 (ipykernel)",
   "language": "python",
   "name": "python3"
  },
  "language_info": {
   "codemirror_mode": {
    "name": "ipython",
    "version": 3
   },
   "file_extension": ".py",
   "mimetype": "text/x-python",
   "name": "python",
   "nbconvert_exporter": "python",
   "pygments_lexer": "ipython3",
   "version": "3.10.12"
  }
 },
 "nbformat": 4,
 "nbformat_minor": 5
}
