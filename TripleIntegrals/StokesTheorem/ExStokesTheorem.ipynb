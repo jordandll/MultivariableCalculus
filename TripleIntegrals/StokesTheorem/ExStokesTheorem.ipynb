{
 "cells": [
  {
   "cell_type": "markdown",
   "id": "12329d60-3843-45c4-980c-ef6c01e452d3",
   "metadata": {},
   "source": [
    "# Extended Stoke's Theorem  \n",
    "\n",
    "This theorem is the generalization of Extended Green's theorem to 3d-space."
   ]
  },
  {
   "cell_type": "markdown",
   "id": "ebbaa4d3-aa56-495d-a2c7-93101a74b4dd",
   "metadata": {},
   "source": [
    "## Extended Green's Theorem  \n",
    "\n",
    "Suppose the positively oriented simple closed curves $C_1$ and $C_2$ enclose the plane regions $R_1$ and $R_2$ respectively, where $C_1$ fully encloses $C_2$, implying that $C_1$ does not intersect $C_2$.  Now, let $R$ be the region enclosed by $C_1$ and $C_2$.   \n",
    "\n",
    "$$ R = R_1 - R_2\\quad\\quad R_2 \\subset  R_1 \\quad\\quad C_1 \\cap C_2 = \\emptyset$$"
   ]
  },
  {
   "cell_type": "markdown",
   "id": "e25143a7-99b2-45fe-9ee5-1287a7614855",
   "metadata": {},
   "source": [
    "According to extended Green's theorem,  \n",
    "\n",
    "$$ \\iint_R \\mathrm{curl }\\,\\mathbf{F}\\,\\mathrm{d}A  = \\oint_{C_1}\\mathbf{F}\\cdot\\mathrm{d}\\mathbf{r} - \\oint_{C_2}\\mathbf{F}\\cdot\\mathrm{d}\\mathbf{r}$$"
   ]
  },
  {
   "cell_type": "markdown",
   "id": "c6a91ab2-0683-413c-9f4c-821228f77d08",
   "metadata": {},
   "source": [
    "where $\\mathbf{F}$ is an arbitrary vector field.  "
   ]
  },
  {
   "cell_type": "markdown",
   "id": "263d2b64-cdd9-400a-8d94-bd0c0e077a65",
   "metadata": {},
   "source": [
    "### Proof  \n",
    "\n",
    "Let $L_1$ and $L_2$ be directed line segments connecting $C_2$ to $C_1$ and $C_1$ to $C_2$ respectively.  $L_1$ is from $A$ to $B$ and $L_2$ is from $C$ to $D$.  Both of these line segments divide $R$ into two subregions, $\\mathcal{R}_1$ and $\\mathcal{R}_2$, which are bounded by $\\mathcal{C}_1$ and $\\mathcal{C}_2$ respectively, where,  \n",
    "\n",
    "$$ \\oint_{\\mathcal{C}_1} \\mathbf{F}\\cdot\\mathrm{d}\\mathbf{r} = \\int_{L_1}\\mathbf{F}\\cdot\\mathrm{d}\\mathbf{r} + \\int_{\\mathbf{r}_1(t_0)}^{\\mathbf{r}_1(t_1)} \\mathbf{F}\\cdot\\mathrm{d}\\mathbf{r}_1 + \\int_{L_2}\\mathbf{F}\\cdot\\mathrm{d}\\mathbf{r} + \\int_{\\mathbf{r}_2(t_1)}^{\\mathbf{r}_2(t_0)} \\mathbf{F}\\cdot\\mathrm{d}\\mathbf{r}_2$$"
   ]
  },
  {
   "cell_type": "markdown",
   "id": "d83d90a7-648f-4ac6-8fb3-c676b7b5d24c",
   "metadata": {},
   "source": [
    "$$ \\oint_{\\mathcal{C}_2}\\mathbf{F}\\cdot\\mathrm{d}\\mathbf{r} = \\int_{\\mathbf{r}_1(t_1)}^{\\mathbf{r}_1(t_2)} \\mathbf{F}\\cdot\\mathrm{d}\\mathbf{r}_1-\\int_{L_1}\\mathbf{F}\\cdot\\mathrm{d}\\mathbf{r} - \\int_{L_2}\\mathbf{F}\\cdot\\mathrm{d}\\mathbf{r} + \\int_{\\mathbf{r}_2(t_2)}^{\\mathbf{r}_2(t_1)} \\mathbf{F}\\cdot\\mathrm{d}\\mathbf{r}_2$$"
   ]
  },
  {
   "cell_type": "markdown",
   "id": "a3b66d56-9a19-4ae0-bddc-1f1f5ff09abf",
   "metadata": {},
   "source": [
    "and $\\mathbf{r}_1:=\\mathbf{r}_1(t)$ and $\\mathbf{r}_2:=\\mathbf{r}_2(t)$ track $C_1$ and $C_2$ respectively.  \n",
    "\n",
    "$$ \\mathbf{r}_1(t_0) = \\mathbf{r}_1(t_2) = B \\quad\\quad \\mathbf{r}_1(t_1) = C \\quad\\quad t_0<t_1<t_2$$"
   ]
  },
  {
   "cell_type": "markdown",
   "id": "955fbcca-c192-4188-9696-13d795fb8856",
   "metadata": {},
   "source": [
    "$$ \\mathbf{r}_2(t_0) = \\mathbf{r}_2(t_2) = A \\quad\\quad\\text{and}\\quad\\quad \\mathbf{r}_2(t_1) = D$$"
   ]
  },
  {
   "cell_type": "markdown",
   "id": "d6f82c46-41bb-4acb-b331-ae7181f305e8",
   "metadata": {},
   "source": [
    "## Generalization to 3D-Space  \n",
    "\n",
    "Say we have a positively oriented surface $\\mathcal{S}$ given by $z=f(x,y)$.  And we have two other surfaces such that:  \n",
    "\n",
    "$$ S_2 \\subset S_1 \\subseteq \\mathcal{S}$$"
   ]
  },
  {
   "cell_type": "markdown",
   "id": "285d7da2-2f12-46f7-8eed-8589e955eae0",
   "metadata": {},
   "source": [
    "The positively oriented space curves $C_1$ and $C_2$ bound $S_1$ and $S_2$ respectively.  Extended Stoke's theorem should state that:  \n",
    "\n",
    "$$ \\iint_S \\nabla \\times \\mathbf{F} \\cdot \\mathrm{d}\\mathbf{S} = \\oint_{C_1} \\mathbf{F}\\cdot\\mathrm{d}\\mathbf{r} - \\oint_{C_2}\\mathbf{F}\\cdot\\mathrm{d}\\mathbf{r}$$"
   ]
  },
  {
   "cell_type": "markdown",
   "id": "2303fcee-b72d-4d12-b4df-a0238b760817",
   "metadata": {},
   "source": [
    "where $S$ is the portion of $S_1$ bounded by both $C_1$ and $C_2$. \n",
    "\n",
    "$$ S = S_1 \\setminus S_2\\quad\\quad\\text{or}\\quad\\quad S = S_1 - S_2$$"
   ]
  },
  {
   "cell_type": "markdown",
   "id": "29404c5d-09e2-40c8-9914-a0dcc6f093fc",
   "metadata": {},
   "source": [
    "## Examples  \n",
    "\n",
    "### Example 1  \n",
    "\n",
    "Let $\\mathbf{F} = (2xz+2y)\\,\\mathbf{i} + (2yz + 2yx)\\,\\mathbf{j} + \\big(x^2+y^2+z^2\\big)\\,\\mathbf{k}$.  Take $C_1$ and $C_2$ as two curves going around a circular cylinder of radius $a$.  Show that $\\displaystyle \\oint_{C_1}\\mathbf{F}\\cdot\\mathrm{d}\\mathbf{r} = \\oint_{C_2}\\mathbf{F}\\cdot\\mathrm{d}\\mathbf{r}$."
   ]
  },
  {
   "cell_type": "markdown",
   "id": "b5a89086-a25f-4cf2-892e-591adf529ca3",
   "metadata": {},
   "source": [
    "Assuming our cylinder is centered at origin,  \n",
    "\n",
    "$$ C_1:\\; x:=x(t) = a\\cos t \\quad\\quad y:=y(t) = a\\sin t \\quad\\quad z:=z(t) = A $$"
   ]
  },
  {
   "cell_type": "markdown",
   "id": "fb45ad3e-1f83-4ea6-b519-4f5bb5b82aa4",
   "metadata": {},
   "source": [
    "$$ C_2 :\\; x:=x(t) = a\\cos t \\quad\\quad y :=y(t) = a\\sin t \\quad\\quad z:=z(t) = B$$"
   ]
  },
  {
   "cell_type": "markdown",
   "id": "f50873c2-5440-42e3-860b-477cb2f2569f",
   "metadata": {},
   "source": [
    "$$ C':\\; x:=x(t) = a\\cos t \\quad\\quad y:=y(t) a\\sin t$$"
   ]
  },
  {
   "cell_type": "markdown",
   "id": "0a4022e2-4cd0-4d83-a594-a522eb615ec8",
   "metadata": {},
   "source": [
    "where $C'$ is the projection of both $C_1$ and $C_2$ onto the $xy$-plane, $A\\ne B$, and $A,B\\in \\mathbb{R}$ are arbitrary constants."
   ]
  },
  {
   "cell_type": "markdown",
   "id": "5e768c0b-2c1b-45d4-948a-daeb2534d5fe",
   "metadata": {},
   "source": [
    "#### Method 1\n",
    "\n",
    "First, let's try to prove the equality through direct computation of the line integrals.  "
   ]
  },
  {
   "cell_type": "markdown",
   "id": "efce0153-610d-4ccb-b962-deabf3e3c8d0",
   "metadata": {},
   "source": [
    "$$ \\oint_{C_1} \\mathbf{F}\\cdot\\mathrm{d}\\mathbf{r} = \\oint_{C_1} M\\,\\mathrm{d}x + N\\,\\mathrm{d}y + P\\,\\mathrm{d}z \\quad\\quad\\text{where } \\,\\mathbf{F} = \\langle M,N,P\\rangle$$"
   ]
  },
  {
   "cell_type": "markdown",
   "id": "3ed780da-1db5-41e4-979b-abad2423260b",
   "metadata": {},
   "source": [
    "$$ \\mathrm{d}x = -a\\sin t \\,\\mathrm{d}t \\quad\\quad \\mathrm{d}y = a\\cos t \\,\\mathrm{d}t \\quad\\quad \\mathrm{d}z = 0$$"
   ]
  },
  {
   "cell_type": "markdown",
   "id": "11a1d2c9-2f6b-422a-9fd0-7d676e7656fd",
   "metadata": {},
   "source": [
    "$$ \\oint_{C_1}\\mathbf{F}\\cdot\\mathrm{d}\\mathbf{r} = \\int_0^{2\\pi}-aM\\sin t\\,\\mathrm{d}t + Na\\cos t\\,\\mathrm{d}t $$"
   ]
  },
  {
   "cell_type": "markdown",
   "id": "8bffd997-18fb-4265-9e62-69d49d18db1a",
   "metadata": {},
   "source": [
    "$$ = a\\int_0^{2\\pi}(N\\cos t - M\\sin t)\\,\\mathrm{d}t $$"
   ]
  },
  {
   "cell_type": "markdown",
   "id": "d33c53c2-10de-4514-b3d1-8c019deb7447",
   "metadata": {},
   "source": [
    "$$ M = 2(xz + y) = 2(aA\\cos t + a\\sin t) = 2a(A\\cos t + \\sin t)$$"
   ]
  },
  {
   "cell_type": "markdown",
   "id": "2ccff710-fff5-46be-a08e-4104953f791e",
   "metadata": {},
   "source": [
    "$$ N = 2y(z+x) = 2a\\sin t(a\\cos t + A)$$"
   ]
  },
  {
   "cell_type": "markdown",
   "id": "73f6379f-b6a0-4ce2-851c-faebfde95003",
   "metadata": {},
   "source": [
    "Thus,  \n",
    "\n",
    "$$ \\oint_{C_1}\\mathbf{F}\\cdot\\mathrm{d}\\mathbf{r} = 2a^2\\int_0^{2\\pi}\\big(\\cos t\\sin t(a\\cos t + A) - \\sin t(A\\cos t + \\sin t)\\big)\\,\\mathrm{d}t$$"
   ]
  },
  {
   "cell_type": "markdown",
   "id": "2d626e62-97f1-4f91-bc84-f183046deb0a",
   "metadata": {},
   "source": [
    "$$ = 2a^2\\int_0^{2\\pi} \\big(a\\cos^2 t\\sin t - \\sin^2 t\\big)\\,\\mathrm{d}t$$"
   ]
  },
  {
   "cell_type": "markdown",
   "id": "68d4d73a-c490-47b0-85b2-20e4eb0b0981",
   "metadata": {},
   "source": [
    "$$ = 2a^2\\int_0^{2\\pi}\\cos^2 t\\,\\mathrm{d}t - \\frac{2a^2}{3}\\big.\\cos^3 t\\big]_0^{2\\pi} - 4\\pi a^2$$"
   ]
  },
  {
   "cell_type": "markdown",
   "id": "62df9673-e7d1-408e-b48e-7bb854a6412d",
   "metadata": {},
   "source": [
    "$$ \\cos^2 t = 0.5\\cos 2t + 0.5 $$"
   ]
  },
  {
   "cell_type": "markdown",
   "id": "bf7a1f5e-cdcd-40d8-b391-dde3bc41e18a",
   "metadata": {},
   "source": [
    "Therefore,  \n",
    "\n",
    "$$ 2a^2\\int_0^{2\\pi}\\cos^2 t\\,\\mathrm{d}t = 2\\pi a^2 + a^2\\int_0^{2\\pi}\\cos 2t\\,\\mathrm{d}t$$"
   ]
  },
  {
   "cell_type": "markdown",
   "id": "f849dbe1-baca-4d5f-84fb-79ebb0d03fea",
   "metadata": {},
   "source": [
    "$$ = 2\\pi a^2$$"
   ]
  },
  {
   "cell_type": "markdown",
   "id": "904cabf5-25a2-4983-a6ee-a2895cac8c6b",
   "metadata": {},
   "source": [
    "Therefore, finally,  \n",
    "\n",
    "$$ \\oint_{C_1}\\mathbf{F}\\cdot\\mathrm{d}\\mathbf{r} = -2\\pi a^2$$"
   ]
  },
  {
   "cell_type": "markdown",
   "id": "bc16fee4-3a1d-4d71-8abd-5fe53adfca7a",
   "metadata": {},
   "source": [
    "As for the other curve,  \n",
    "\n",
    "$$ \\oint_{C_2}\\mathbf{F}\\cdot\\mathrm{d}\\mathbf{r} = \\oint_{C_2}M\\,\\mathrm{d}x + N\\,\\mathrm{d}y \\quad\\quad\\text{where }\\,\\mathbf{F} = \\langle M,N,P\\rangle$$"
   ]
  },
  {
   "cell_type": "markdown",
   "id": "0c29b55d-4d50-4be6-ae52-935e6d0b67c2",
   "metadata": {},
   "source": [
    "Recall that:  \n",
    "\n",
    "$$ M = 2(xz+y) \\quad\\quad N = 2y(x+z) \\quad\\quad P = x^2+y^2+z^2  $$"
   ]
  },
  {
   "cell_type": "markdown",
   "id": "fc85ef01-b328-4ec7-8653-4cd630a1a853",
   "metadata": {},
   "source": [
    "$$\\mathrm{d}x = -a\\sin t \\,\\mathrm{d}t \\quad\\quad \\mathrm{d}y = a\\cos t \\,\\mathrm{d}t \\quad\\quad \\mathrm{d}z = 0$$"
   ]
  },
  {
   "cell_type": "markdown",
   "id": "572001bf-bba5-4cd1-ae30-39f7462085c3",
   "metadata": {},
   "source": [
    "The equality is obvious, given that the field of the above line integral is the same, the differentials in the case of the position vector that tracks $C_2$ are the same as in $C_1$ with respect to $t$, and the endpoints of the integral with respect to $t$ are the same."
   ]
  },
  {
   "cell_type": "markdown",
   "id": "a1129d6a-648b-40bc-87b1-c43f30181b22",
   "metadata": {},
   "source": [
    "#### Method 2  \n",
    "\n",
    "Now, let's try proving the equality through direct computation of the surface integrals that Stoke's theorem relates the line integrals to.  Via Stoke's theorem,  \n",
    "\n",
    "$$ \\oint_{C_1}\\mathbf{F}\\cdot\\mathrm{d}\\mathbf{r} = \\iint_{S_1}\\nabla \\times \\mathbf{F}\\cdot\\mathbf{n}\\,\\mathrm{d}S_1$$"
   ]
  },
  {
   "cell_type": "markdown",
   "id": "96365ed6-7b26-4172-a3cd-7e65a9a8b46d",
   "metadata": {},
   "source": [
    "where $S_1$ is the circlular disc enclosed by $C_1$.  \n",
    "\n",
    "$$ S_1:\\; x^2+y^2 = a^2 \\quad\\quad\\text{and}\\quad\\quad z = A$$"
   ]
  },
  {
   "cell_type": "markdown",
   "id": "e76827b7-c076-4137-b3d3-687a11ed8f94",
   "metadata": {},
   "source": [
    "The curl of $\\mathbf{F}$ is given by:  \n",
    "\n",
    "$$ \\nabla \\times \\mathbf{F} = \\left|\\begin{matrix} \\mathbf{i} & \\mathbf{j} & \\mathbf{k} \\\\ \\partial_x & \\partial_y & \\partial_z \\\\ M & N & P\\end{matrix}\\right| $$"
   ]
  },
  {
   "cell_type": "markdown",
   "id": "f9321799-ea7b-4700-a2d3-aabcd50329c7",
   "metadata": {},
   "source": [
    "$$ = (2y-2y)\\,\\mathbf{i} - (2x-2x)\\,\\mathbf{j} + (2y-2)\\,\\mathbf{k} = 2(y-1)\\,\\mathbf{k}$$"
   ]
  },
  {
   "cell_type": "markdown",
   "id": "c7ed7f5e-4544-4338-bdb0-cd348ba946fe",
   "metadata": {},
   "source": [
    "The integrand to the surface integral is:  \n",
    "\n",
    "$$ \\nabla \\times \\mathbf{F} \\cdot \\mathbf{n} = \\nabla \\times \\mathbf{F} \\cdot \\mathbf{k} = 2|y-1|$$"
   ]
  },
  {
   "cell_type": "markdown",
   "id": "e394cf1b-6133-45be-8862-a2e5a44620ea",
   "metadata": {},
   "source": [
    "The projection of $S_1$ onto the $xy$-plane is a circular disk $R$ of radius $a$ centered at origin.  \n",
    "\n",
    "$$ \\oint_{C_1}\\mathbf{F}\\cdot\\mathrm{d}\\mathbf{r} = 2\\iint_R |y-1|\\,\\mathrm{d}A$$"
   ]
  },
  {
   "cell_type": "markdown",
   "id": "30155aed-ea1a-4e79-9d06-5b234f3629bf",
   "metadata": {},
   "source": [
    "As for $C_2$:  \n",
    "\n",
    "$$ \\oint_{C_2}\\mathbf{F}\\cdot\\mathrm{d}\\mathbf{r} = \\iint_{S_2}\\nabla \\times \\mathbf{F}\\cdot\\mathbf{n}\\,\\mathrm{d}S_2 $$"
   ]
  },
  {
   "cell_type": "markdown",
   "id": "6a8f5a91-210f-4b37-9a27-d7e040b6f9ab",
   "metadata": {},
   "source": [
    "where $S_2$ is the circular disk enclosed by $C_2$.  Whereas the the integrands and area elements of both surface integrals are equal to one another in conjunction with the projections of both $S_1$ and $S_2$ onto the $xy$-plane being $R$, therefore the equality found in the problem statement.  Q.E.D."
   ]
  },
  {
   "cell_type": "markdown",
   "id": "80109055-ee35-469a-96e0-5b7ca40075fe",
   "metadata": {},
   "source": [
    "Note that [method 2](#Method-2) does not rely on the same assumption as [method 1](#Method-1);  That being that the cylinder is centered out origin.  This in addition to the fact that it is more concise than method 1 makes it a better approach to proving the equality."
   ]
  },
  {
   "cell_type": "markdown",
   "id": "ecb20dfb-476b-4893-834a-f229bd754702",
   "metadata": {},
   "source": [
    "## Problems  \n",
    "\n",
    "### Problem 1  \n",
    "\n",
    "Let $\\mathbf{F} = (2xz + y)\\,\\mathbf{i} + (2yz + 3x)\\,\\mathbf{j} + \\big(x^2+y^2+5\\big)\\,\\mathbf{k}$.  Use Stoke's theorem to compute $\\displaystyle \\oint_C \\mathbf{F}\\cdot\\mathrm{d}\\mathbf{r}$, where $C$ is the curve shown on the surface of the circular cylinder of radius $1$."
   ]
  },
  {
   "cell_type": "markdown",
   "id": "40b3cd32-d7d4-491b-819b-6f243f8306db",
   "metadata": {},
   "source": [
    "$$ C:\\; x:=x(t) = \\cos t \\quad\\quad y:=y(t) = \\sin t \\quad\\quad z:= z(t) \\quad\\text{for }\\, 0 \\le t \\le 2\\pi$$"
   ]
  },
  {
   "cell_type": "markdown",
   "id": "6ecb0669-3653-45b7-9ac4-6c546e01be47",
   "metadata": {},
   "source": [
    "$$ \\mathbf{r} := \\mathbf{r}(t) = \\big\\langle x(t),y(t),z(t)\\big\\rangle$$"
   ]
  },
  {
   "cell_type": "markdown",
   "id": "1bf324b7-895c-4934-88fd-b853d0d920fb",
   "metadata": {},
   "source": [
    "The projection of $C$ onto the $xy$-plane is a circle of radius $1$ centered at origin.  Let $C'$ be said projection and $\\mathbf{q}$ be the position vector that tracks it.  \n",
    "\n",
    "$$ C' :\\; x := x(t) = \\cos t \\quad\\quad y:= y(t) = \\sin t \\quad\\quad z := z(t) = 0 \\quad\\text{for }\\, 0 \\le t \\le 2\\pi$$"
   ]
  },
  {
   "cell_type": "markdown",
   "id": "1e6a0a65-2826-43d8-a407-9c766580764a",
   "metadata": {},
   "source": [
    "Via Extended Stoke's theorem,  \n",
    "\n",
    "$$ \\iint_S \\nabla \\times \\mathbf{F} \\cdot \\mathrm{d}\\mathbf{S} = \\oint_{C'}\\mathbf{F}\\cdot\\mathrm{d}\\mathbf{q} - \\oint_C \\mathbf{F}\\cdot\\mathrm{d}\\mathbf{r}$$"
   ]
  },
  {
   "cell_type": "markdown",
   "id": "ac1064a4-144d-4303-a3ef-58d9ed4d247e",
   "metadata": {},
   "source": [
    "where $S$ is the portion of the cylinder bounded by $C$ and $C'$.  \n",
    "\n",
    "$$ \\nabla \\times \\mathbf{F} = \\left| \\begin{matrix} \\mathbf{i} & \\mathbf{j} & \\mathbf{k} \\\\ \\partial_x & \\partial_y & \\partial_z \\\\ M & N & P \\end{matrix}\\right|\\quad\\quad\\text{where }\\,\\mathbf{F} = \\langle M,N,P \\rangle$$"
   ]
  },
  {
   "cell_type": "markdown",
   "id": "8765969b-3183-471a-8704-d9882c4ac866",
   "metadata": {},
   "source": [
    "$$ \\mathrm{curl }\\,\\mathbf{F} = (P_y - N_z)\\,\\mathbf{i} - (P_x - M_z)\\,\\mathbf{j} + (N_x - M_y)\\,\\mathbf{k}$$"
   ]
  },
  {
   "cell_type": "markdown",
   "id": "f28c53d3-442e-4f7c-9c06-5578e9d16583",
   "metadata": {},
   "source": [
    "$$ = (2y - 2y)\\,\\mathbf{i} - (2x - 2x)\\,\\mathbf{j} + (3 - 1)\\,\\mathbf{k} = 2\\,\\mathbf{k}$$"
   ]
  },
  {
   "cell_type": "markdown",
   "id": "7bab2321-2d7a-4463-a98f-87ebf1715d2c",
   "metadata": {},
   "source": [
    "Since the normal of $S$ is always perpendicular to $\\mathbf{k}$,  \n",
    "\n",
    "$$ \\iint_S \\nabla \\times \\mathbf{F}\\cdot\\mathrm{d}\\mathbf{S} = 0 \\quad\\therefore\\quad \\oint_C \\mathbf{F}\\cdot\\mathrm{d}\\mathbf{r} = \\oint_{C'} \\mathbf{F}\\cdot\\mathrm{d}\\mathbf{q} $$"
   ]
  },
  {
   "cell_type": "markdown",
   "id": "464d5f84-3645-4fb5-b557-4a4375a93860",
   "metadata": {},
   "source": [
    "$$ \\oint_{C'}\\mathbf{F}\\cdot\\mathrm{d}\\mathbf{q} = \\int_0^{2\\pi}M\\,\\mathrm{d}x + N\\,\\mathrm{d}y$$"
   ]
  },
  {
   "cell_type": "markdown",
   "id": "b5b46675-01c2-4781-8d66-65d486768dbe",
   "metadata": {},
   "source": [
    "$$ M\\,\\mathrm{d}x = -\\sin^2 t\\,\\mathrm{d}t \\quad\\quad\\text{and}\\quad\\quad N\\,\\mathrm{d}y = 3\\cos^2 t\\,\\mathrm{d}t$$"
   ]
  },
  {
   "cell_type": "markdown",
   "id": "c303ac5b-050a-4518-97d1-2ab4bad761d9",
   "metadata": {},
   "source": [
    "$$ \\oint_{C}\\mathbf{F}\\cdot\\mathrm{d}\\mathbf{r} = \\int_0^{2\\pi}\\big(3\\cos^2t - \\sin^2 t\\big)\\,\\mathrm{d}t$$"
   ]
  },
  {
   "attachments": {},
   "cell_type": "markdown",
   "id": "2b8d1b69-894c-44f4-9404-7bd3abe0f4f0",
   "metadata": {},
   "source": [
    "$$ = \\int_0^{2\\pi}\\big(4\\cos^2 t  - 1\\big)\\,\\mathrm{d}t = 4\\int_0^{2\\pi}\\cos^2 t\\,\\mathrm{d}t - 2\\pi$$"
   ]
  },
  {
   "cell_type": "markdown",
   "id": "f2cd92e9-e57b-4dbe-985d-cfa900569e53",
   "metadata": {},
   "source": [
    "$$ = 2\\int_0^{2\\pi}\\cos 2t\\,\\mathrm{d}t + 2\\pi = 2\\pi$$"
   ]
  }
 ],
 "metadata": {
  "kernelspec": {
   "display_name": "Python 3 (ipykernel)",
   "language": "python",
   "name": "python3"
  },
  "language_info": {
   "codemirror_mode": {
    "name": "ipython",
    "version": 3
   },
   "file_extension": ".py",
   "mimetype": "text/x-python",
   "name": "python",
   "nbconvert_exporter": "python",
   "pygments_lexer": "ipython3",
   "version": "3.10.12"
  }
 },
 "nbformat": 4,
 "nbformat_minor": 5
}
