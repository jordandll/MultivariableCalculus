{
 "cells": [
  {
   "cell_type": "markdown",
   "id": "9aefc1da-f767-469e-9a93-41bacd90a7a7",
   "metadata": {},
   "source": [
    "# Gradient Fields in Space  \n",
    "\n",
    "## Criterion:  The Curl in Space  \n",
    "\n",
    "We now seek to generalize to space our earlier criterion ([Section V2](../../DoubleIntegrals/VectorFields/V2.1.pdf))  for gradient fields in the plane.  \n",
    "\n",
    "### Criterion for a Gradient Field  \n",
    "\n",
    "Let $\\mathbf{F} = M\\,\\mathbf{i} + N\\,\\mathbf{j} + P\\,\\mathbf{k}$ be a continuously differentiable vector field.  Then  \n",
    "\n",
    "\\begin{equation}\\tag{1}\n",
    "    \\mathbf{F} = \\nabla f \\quad\\implies\\quad M_y = N_x \\quad\\land\\quad M_z = P_x \\quad\\land\\quad N_z = P_y\n",
    "\\end{equation}"
   ]
  },
  {
   "cell_type": "markdown",
   "id": "2f2a48aa-d967-461c-b212-9435bf3e6180",
   "metadata": {},
   "source": [
    "for some potential function $f(x,y,z)$.  Note that in the above equation, and maybe throughout this notebook, we use the notation,  \n",
    "\n",
    "$$ M_x = \\frac{\\partial M}{\\partial x} \\quad\\quad M_{xx} = \\frac{\\partial^2 M}{\\partial x^2}$$"
   ]
  },
  {
   "cell_type": "markdown",
   "id": "8e1ae5fc-ca64-4d91-89d9-5df0b7d93bc1",
   "metadata": {},
   "source": [
    "and likewise for other -- maybe only scalar -- functions ($N$, $f$, etc.)  \n",
    "\n",
    "**Proof**:  \n",
    "\n",
    "$$ \\mathbf{F} = \\nabla f \\quad\\implies\\quad M = f_x \\quad\\land\\quad N = f_y \\quad\\land\\quad P = f_z$$"
   ]
  },
  {
   "cell_type": "markdown",
   "id": "7449e82c-8158-4f23-88fa-79f2ac5cfee3",
   "metadata": {},
   "source": [
    "Thus,  \n",
    "\n",
    "$$M=f_x \\quad\\land\\quad N=f_y\\quad\\implies\\quad  M_y = f_{xy} \\quad\\land\\quad N_x = f_{yx} \\quad\\implies\\quad M_y = N_x$$"
   ]
  },
  {
   "cell_type": "markdown",
   "id": "a86be8de-0d92-400e-86f8-69a7248da1b6",
   "metadata": {},
   "source": [
    "$$ M=f_x\\quad\\land\\quad P = f_z\\quad\\implies\\quad M_z = f_{xz} \\quad\\land\\quad P_x = f_{zx} \\quad\\implies\\quad M_z = P_x$$"
   ]
  },
  {
   "cell_type": "markdown",
   "id": "9208ee4d-deed-4730-abd1-7e4b8d1621a6",
   "metadata": {},
   "source": [
    "$$N = f_y\\quad\\land\\quad P = f_z \\quad\\implies\\quad  N_z = f_{yz}\\quad\\land\\quad P_y = f_{zy} \\quad\\implies\\quad N_z = P_y$$"
   ]
  },
  {
   "cell_type": "markdown",
   "id": "a252c3b7-9fe1-47e9-b46e-9ace9f3c79c5",
   "metadata": {},
   "source": [
    "Via the above premises and the law of distributed middle we have our proposition, the aforementioned criterion for grandient fields in space.  Q.E.D."
   ]
  },
  {
   "cell_type": "markdown",
   "id": "7be82793-97a2-48f1-a629-601ab409a562",
   "metadata": {},
   "source": [
    "Though the criterion looks more complicated to remember and to check than the one in\n",
    "two dimensions, which involves just a single equation, it is not difficult to learn and apply.\n",
    "For theoretical purposes, it can be expressed more elegantly by using the three-dimensional\n",
    "vector curl of $\\mathbf{F}$."
   ]
  },
  {
   "cell_type": "markdown",
   "id": "24ab0c4e-0d02-4b09-9793-8bb6a8122511",
   "metadata": {},
   "source": [
    "**Definition**:  Let $\\mathbf{F} = M\\,\\mathbf{i} + N\\,\\mathbf{j} + P\\,\\mathbf{k}$ be differentiable.  We define the curl of $\\mathbf{F}$ by  \n",
    "\n",
    "\\begin{equation}\\tag{3}\n",
    "    \\mathrm{curl }\\,\\mathbf{F} = (P_y-N_z)\\,\\mathbf{i} + (M_z-P_x)\\,\\mathbf{j} + (N_x-M_y)\\,\\mathbf{k}\n",
    "\\end{equation}"
   ]
  },
  {
   "cell_type": "markdown",
   "id": "a6055b00-766d-499e-99c6-a8ab711d4852",
   "metadata": {},
   "source": [
    "$$ = \\left|\\begin{matrix}\\tag{3'}\\mathbf{i} & \\mathbf{j} & \\mathbf{k} \\\\ \\partial_x & \\partial_y & \\partial_z \\\\ M & N & P\\end{matrix}\\right|\\quad\\quad\\text{(symbolic notation; }\\,\\partial_x = \\frac{\\partial }{\\partial x},\\,\\text{etc. )}$$"
   ]
  },
  {
   "cell_type": "markdown",
   "id": "c0ef864c-8dbc-4bb6-8fd0-cf6e1f163a2b",
   "metadata": {},
   "source": [
    "\\begin{equation}\\tag{3''}\n",
    "    = \\nabla \\times \\mathbf{F}\n",
    "\\end{equation}"
   ]
  },
  {
   "cell_type": "markdown",
   "id": "dc90240f-4537-4b8d-9cb3-2184ae00586b",
   "metadata": {},
   "source": [
    "By using the vector field $\\mathrm{curl }\\,\\mathbf{F}$, our criterion (1) becomes  \n",
    "\n",
    "\\begin{equation}\\tag{1'}\n",
    "    \\mathbf{F} = \\nabla f \\quad\\implies\\quad \\mathrm{curl }\\,\\mathbf{F} = \\mathbf{0}\n",
    "\\end{equation}"
   ]
  },
  {
   "cell_type": "markdown",
   "id": "f215ad87-6462-4e72-a20d-8275205a2fcb",
   "metadata": {},
   "source": [
    "Naturally, the question arises as to whether the converse of (1') is true -- if $\\mathrm{curl }\\,\\mathbf{F} = \\mathbf{0}$, is $\\mathbf{F}$ a gradient field?  As is the case with two dimensions, this requires some sort of caveat with regards to the domain, and we will return to this point after we have studies Stokes' theorem.  For now we will assume the domain is the whole real space $\\mathbb{R}^3$, in which case the aforementioned converse is true.  \n",
    "\n",
    "**Theorem**:  If $\\mathbf{F}$ is continuously differentiable over the real space, then  \n",
    "\n",
    "\\begin{equation}\\tag{4}\n",
    "    \\mathrm{curl }\\,\\mathbf{F} = \\mathbf{0} \\quad\\implies\\quad \\mathbf{F} = \\nabla f\n",
    "\\end{equation}"
   ]
  },
  {
   "cell_type": "markdown",
   "id": "7c3cc320-8327-45f4-a1cd-2f0d4b964b43",
   "metadata": {},
   "source": [
    "for some potential function $f(x,y,z)$.  We will prove this later.  If $\\mathbf{F}$ is a gradient field, we can calculate the corresponding (mathematical) potential function $f(x,y,z)$ via the three-dimensional analogue of either of the two methods described before in [Section V2](../../DoubleIntegrals/VectorFields/V2.2-3.ipynb).  We illustrate with an example."
   ]
  },
  {
   "cell_type": "markdown",
   "id": "3cf0664d-c669-4ae8-b46b-794d2cd5c776",
   "metadata": {},
   "source": [
    "### Example 1  \n",
    "\n",
    "For what value(s), if any, of $c$ will $\\mathbf{F} = y\\,\\mathbf{i} + (x+cyz)\\,\\mathbf{j} + \\big(y^2+z^2\\big)\\,\\mathbf{k}$ be a conservative (i.e., gradient) field?  For each such $c$, find a corresponding potential function $f(x,y,z)$."
   ]
  },
  {
   "cell_type": "markdown",
   "id": "a493bbe9-6c5d-443a-9987-f6e005fb6a0b",
   "metadata": {},
   "source": [
    "We want to find all $c\\in\\mathbb{R}$, such that $\\mathbf{F}$ is consevative.  According to equation (4), we need to find $c$ such that:  \n",
    "\n",
    "$$ \\nabla \\times \\mathbf{F} = \\mathbf{0} \\quad\\quad\\text{where }\\,\\mathbf{F} = \\langle M,N,P\\rangle$$"
   ]
  },
  {
   "cell_type": "markdown",
   "id": "d957a374-8a4a-4d88-80a3-1107c0501fd7",
   "metadata": {},
   "source": [
    "$$ M = y \\quad\\quad N = x+cyz \\quad\\quad P = y^2+z^2$$"
   ]
  },
  {
   "cell_type": "markdown",
   "id": "4ed56f97-df72-4e05-b252-77a65ec8f0f3",
   "metadata": {},
   "source": [
    "$$ \\nabla \\times \\mathbf{F} = \\mathbf{0} \\quad\\implies$$"
   ]
  },
  {
   "cell_type": "markdown",
   "id": "88e9dba2-6bd2-472c-8f5a-10b60a204ff0",
   "metadata": {},
   "source": [
    "$$ P_y - N_z = 2y - cy = 0\\quad\\implies\\quad c = 2 $$"
   ]
  },
  {
   "cell_type": "markdown",
   "id": "b0567d19-c47f-4ce0-bebe-3706ca80337a",
   "metadata": {},
   "source": [
    "$$ - P_x + M_z = 0  $$"
   ]
  },
  {
   "cell_type": "markdown",
   "id": "12c90e6f-87e7-41e3-a17f-a34b36a08886",
   "metadata": {},
   "source": [
    "$$ N_x - M_y = 1 - 1= 0 $$"
   ]
  },
  {
   "cell_type": "markdown",
   "id": "b1231492-0cb8-4964-8471-b57f4ba3053a",
   "metadata": {},
   "source": [
    "Thus, $\\mathbf{F}$ is conservative if and only if $c=2$."
   ]
  },
  {
   "cell_type": "markdown",
   "id": "bdddedd9-6837-4536-a5a7-53ba9b4c5f9c",
   "metadata": {},
   "source": [
    "Now, as is the case with two dimensions, there are two methods for finding the potential function of our vector field."
   ]
  },
  {
   "cell_type": "markdown",
   "id": "814dc578-7287-46a9-bafb-6dc6b6aa80d3",
   "metadata": {},
   "source": [
    "#### Method 1\n",
    "\n",
    "Via the (second) fundamental theorem for line integrals:  \n",
    "\n",
    "$$ \\int_C \\mathbf{F} \\cdot\\mathrm{d}\\mathbf{r} = f(P_1) - f(P_0)$$"
   ]
  },
  {
   "cell_type": "markdown",
   "id": "dd01263f-6fa2-41c6-9ba0-0757562b93aa",
   "metadata": {},
   "source": [
    "for any space curve $C$ from $P_0=(x_0,y_0,z_0)$ to $P_1=(x_1,y_1,z_1)$.  Let's assume that $P_0$ is origin and let $f(0,0,0):= K$.  Then, the above equation becomes:  \n",
    "\n",
    "$$f(x_1,y_1,z_1) =  \\int_{(0,0,0)}^{(x_1,y_1,z_1)} \\mathbf{F} \\cdot \\mathrm{d}\\mathbf{r} + K$$"
   ]
  },
  {
   "cell_type": "markdown",
   "id": "f5d78c19-2d98-40d7-8f89-cfebcf73181b",
   "metadata": {},
   "source": [
    "Here, $K$ is a constant of integration.  Whatever $C$ may be, there exists a path from $P_0$ to $P_1$ that consists of three directed line segments, $C_1$, $C_2$, and $C_3$, that are each parallel to a different coordinate axis.  $C_1$ is from origin to $(x_1,0,0)$.  $C_2$ is from $(x_1,0,0)$ to $(x_1,y_1,0)$.  And, $C_3$ is from $(x_1,y_1,0)$ to $(x_1,y_1,z_1)$.  To make life easier, let $W$ be the line integral over $C$.  \n",
    "\n",
    "$$ W = W_1 + W_2 + W_3$$"
   ]
  },
  {
   "cell_type": "markdown",
   "id": "876b125f-2ab5-4f9b-a3ef-ae095ac35fe3",
   "metadata": {},
   "source": [
    "where $W_1$, $W_2$, and $W_3$ are the line integrals over $C_1$, $C_2$, and $C_3$ respectively.  Let's start with $W_1$.  \n",
    "\n",
    "$$ C_1:\\; (x,0,0)\\quad\\text{for }\\, 0\\le x \\le x_1$$"
   ]
  },
  {
   "cell_type": "markdown",
   "id": "ebafb32b-b72a-4017-9a63-c49255457525",
   "metadata": {},
   "source": [
    "Recall that:  \n",
    "\n",
    "$$\\mathbf{F} = y\\,\\mathbf{i} + (x+2yz)\\,\\mathbf{j} + \\big(y^2+z^2\\big)\\,\\mathbf{k}$$"
   ]
  },
  {
   "cell_type": "markdown",
   "id": "9cdbdd63-0d23-4928-b6c0-05f05e259cda",
   "metadata": {},
   "source": [
    "$$ W_1 = \\int_{C_1}\\mathbf{F}\\cdot\\mathrm{d}\\mathbf{r} = 0$$"
   ]
  },
  {
   "cell_type": "markdown",
   "id": "f6d1716e-b35b-43bd-b1c1-bafc3213adfe",
   "metadata": {},
   "source": [
    "Now, for $W_2$.  \n",
    "\n",
    "$$ C_2:\\; (x_1,y,0) \\quad\\text{for }\\, 0\\le y \\le y_1$$"
   ]
  },
  {
   "cell_type": "markdown",
   "id": "1a8b735e-c072-42ff-8c78-b1afc53118f0",
   "metadata": {},
   "source": [
    "$$ W_2 = \\int_{C_2}\\mathbf{F}\\cdot\\mathrm{d}\\mathbf{r} = \\int_0^{y_1} x_1\\,\\mathrm{d}y$$"
   ]
  },
  {
   "cell_type": "markdown",
   "id": "807ac3bf-5cc5-41d9-bbd7-8685c2858a31",
   "metadata": {},
   "source": [
    "$$ = y_1x_1$$"
   ]
  },
  {
   "cell_type": "markdown",
   "id": "2165cc4d-051c-456a-9f7b-3c89dbaa0cc8",
   "metadata": {},
   "source": [
    "As for $W_3$.  \n",
    "\n",
    "$$ C_3:\\; (x_1,y_1,z) \\quad\\text{for }\\, 0\\le z\\le z_1$$"
   ]
  },
  {
   "cell_type": "markdown",
   "id": "b1bdd2cd-5611-415a-adb7-b03b53ffc069",
   "metadata": {},
   "source": [
    "$$ W_3 = \\int_{C_3}\\mathbf{F}\\cdot\\mathrm{d}\\mathbf{r} = \\int_0^{z_1}\\big(y_1^2 + z^2\\big)\\,\\mathrm{d}z$$"
   ]
  },
  {
   "cell_type": "markdown",
   "id": "6ccb0087-72f7-4ca7-92aa-143dc9cd6504",
   "metadata": {},
   "source": [
    "$$ = y_1^2z_1 + \\int_0^{z_1}z^2\\mathrm{d}z$$"
   ]
  },
  {
   "cell_type": "markdown",
   "id": "3545b771-d7ef-4014-a39b-af725db22581",
   "metadata": {},
   "source": [
    "$$ = y_1^2z_1 + \\frac{z_1^3}{3}$$"
   ]
  },
  {
   "cell_type": "markdown",
   "id": "c5028d3f-e56d-4d27-84a2-95e23f639c9a",
   "metadata": {},
   "source": [
    "Thus,  \n",
    "\n",
    "$$ W = x_1y_1 + y_1^2z_1 + \\frac{z_1^3}{3}$$"
   ]
  },
  {
   "cell_type": "markdown",
   "id": "df8a521f-14d9-4af5-b76d-83e2a2b56aa8",
   "metadata": {},
   "source": [
    "Swapping the arbitrary constants $(x_1,y_1,z_1)$ with the variables $(x,y,z)$, we get,  \n",
    "\n",
    "\\begin{equation}\\tag{6}\n",
    "    f(x,y,z) = xy + y^2z + \\frac{z^3}{3} + K\n",
    "\\end{equation}"
   ]
  },
  {
   "cell_type": "markdown",
   "id": "b0492fbc-19b6-4bca-89c3-9d7e75dd2573",
   "metadata": {},
   "source": [
    "#### Method 2  \n",
    "\n",
    "We must find $f(x,y,z)$ such that:  \n",
    "\n",
    "$$ \\nabla f = \\mathbf{F}\\quad\\quad\\text{or}\\quad\\quad $$"
   ]
  },
  {
   "cell_type": "markdown",
   "id": "978be624-9b46-4d78-869a-a59f0a3eedb2",
   "metadata": {},
   "source": [
    "$$ f_x = y \\quad\\quad f_y = x + 2yz \\quad\\quad f_z = y^2 + z^2$$"
   ]
  },
  {
   "cell_type": "markdown",
   "id": "1484bf47-7263-4b50-960f-48ddfd1bdfbc",
   "metadata": {},
   "source": [
    "Let's start with $f_x$.  \n",
    "\n",
    "$$ \\frac{\\partial f}{\\partial x} = y \\quad\\implies\\quad f = \\int y\\,\\mathrm{d}x = yx + g(y,z)$$"
   ]
  },
  {
   "cell_type": "markdown",
   "id": "9a9c01cf-f0db-4d6d-8478-e932263ea7ff",
   "metadata": {},
   "source": [
    "where $g(y,z)$ is an arbitrary function of $y$ and $z$.  Now we have,  \n",
    "\n",
    "$$ f_y = x + 2yz \\quad\\quad\\text{and}\\quad\\quad f_y = x + \\frac{\\partial g(y,z)}{\\partial y}$$"
   ]
  },
  {
   "cell_type": "markdown",
   "id": "1dc364a7-0b22-4f32-8e61-4f82dfc3b326",
   "metadata": {},
   "source": [
    "Via the above two equations,  \n",
    "\n",
    "$$ 2yz = \\frac{\\partial g(y,z)}{\\partial y} \\quad\\implies\\quad g(y,z) = \\int 2yz\\,\\mathrm{d}y \\quad\\implies$$"
   ]
  },
  {
   "cell_type": "markdown",
   "id": "c7500a2d-d76e-4f32-b02e-cd0b7ce003d4",
   "metadata": {},
   "source": [
    "$$ g(y,z) = y^2z + h(z)$$"
   ]
  },
  {
   "cell_type": "markdown",
   "id": "8221985d-f3a0-4be3-ac56-f0a76dc8cb31",
   "metadata": {},
   "source": [
    "where $h(z)$ is an arbitrary function of $z$.  Now, we have  \n",
    "\n",
    "$$ f = xy + y^2z + h(z)$$"
   ]
  },
  {
   "cell_type": "markdown",
   "id": "f5b07e31-c4a4-43c5-9150-28a4c5c75c2d",
   "metadata": {},
   "source": [
    "Thus,  \n",
    "\n",
    "$$ f_z = y^2 + z^2 \\quad\\quad\\text{and}\\quad\\quad f_z =  y^2 + h'(z)$$"
   ]
  },
  {
   "cell_type": "markdown",
   "id": "3dc8f403-5afd-4ad6-a7f8-662c2aab9740",
   "metadata": {},
   "source": [
    "Via the above two equations,  \n",
    "\n",
    "$$ h'(z) = z^2 \\quad\\implies\\quad h(z) = \\int z^2\\mathrm{d}z = \\frac{z^3}{z} + K$$"
   ]
  },
  {
   "cell_type": "markdown",
   "id": "63f2542e-9f7b-4fbd-9d46-697a46ae776e",
   "metadata": {},
   "source": [
    "where $K$ is an arbitrary constant of integration.  Finally,  \n",
    "\n",
    "\\begin{equation}\\tag{6}\n",
    "    f(x,y,z) = xy + y^2z + \\frac{z^3}{3} + K\n",
    "\\end{equation}"
   ]
  },
  {
   "cell_type": "markdown",
   "id": "cf323a98-317b-412e-af74-1b121e910706",
   "metadata": {},
   "source": [
    "## Exact Differentials"
   ]
  },
  {
   "cell_type": "markdown",
   "id": "30713cd0-6716-44dc-8104-86cd8f738c3d",
   "metadata": {},
   "source": [
    "### Problem 1  \n",
    "\n",
    "Is the differential $y^2z\\,\\mathrm{d}x + 2xyz\\,\\mathrm{d}y + xy^2\\mathrm{d}z$ exact?  If so, find a potential function.  If not, explain why."
   ]
  },
  {
   "cell_type": "markdown",
   "id": "f1de84f2-e74e-44d8-be44-df2b4a173926",
   "metadata": {},
   "source": [
    "Let  \n",
    "\n",
    "$$ M = y^2z \\quad\\quad N = 2xyz \\quad\\quad P = xy^2$$"
   ]
  },
  {
   "cell_type": "markdown",
   "id": "fa908ef8-0a62-4f5b-a7f7-a5ae450894f5",
   "metadata": {},
   "source": [
    "According to the criterion, $M\\,\\mathrm{d}x + N\\,\\mathrm{d}y + P\\,\\mathrm{d}z$ is exact if and only if $\\mathrm{curl }\\,\\langle M,N,P\\rangle = \\mathbf{0}$.  Recall that:  \n",
    "\n",
    "$$ \\mathrm{curl }\\,\\langle M,N,P\\rangle = \\mathbf{0} \\quad\\iff\\quad M_y = N_x \\quad\\land\\quad M_z = P_x \\quad\\land\\quad N_z = P_y$$"
   ]
  },
  {
   "cell_type": "markdown",
   "id": "a37c6e4a-58c8-4db2-ad6a-10d92aa2748c",
   "metadata": {},
   "source": [
    "$$ M_y = 2yz \\quad\\land\\quad N_x = 2yz \\quad\\therefore\\quad M_y = N_x$$"
   ]
  },
  {
   "cell_type": "markdown",
   "id": "3404ebb3-7b15-46be-8dbe-8992abc5f9a8",
   "metadata": {},
   "source": [
    "$$ M_z = y^2 \\quad\\land\\quad P_x = y^2 \\quad\\therefore\\quad P_x = M_z$$"
   ]
  },
  {
   "cell_type": "markdown",
   "id": "452ba0a1-9f12-49d8-9400-48bd768b4e52",
   "metadata": {},
   "source": [
    "$$ N_z = 2xy \\quad\\land\\quad P_y = 2xy \\quad\\therefore\\quad P_y = N_z$$"
   ]
  },
  {
   "cell_type": "markdown",
   "id": "be721b24-5d8d-4d37-ad1a-f1f0949f79d2",
   "metadata": {},
   "source": [
    "Via the above three propositions and the aforementioned criterion, our differential is exact.  Now, let's find a potential function $f(x,y,z)$, such that:  \n",
    "\n",
    "$$ \\nabla f = \\langle M,N,P\\rangle := \\mathbf{F}$$"
   ]
  },
  {
   "cell_type": "markdown",
   "id": "7104bef8-f6b0-4186-a7d8-78ae3957d721",
   "metadata": {},
   "source": [
    "We will use [method 2](#Method-2).  \n",
    "\n",
    "$$ f_x = y^2z \\quad\\quad f_y = 2xyz\\quad\\quad f_z = xy^2$$"
   ]
  },
  {
   "cell_type": "markdown",
   "id": "c18a7729-8fcb-4c00-8cd6-9d67e6331f1f",
   "metadata": {},
   "source": [
    "$$ f_x = y^2z \\quad\\implies\\quad f(x,y,z) = \\int y^2z\\,\\mathrm{d}x = xy^2 z + g(y,z)$$"
   ]
  },
  {
   "cell_type": "markdown",
   "id": "607aee65-af86-48a2-9c89-76d2ada32b2f",
   "metadata": {},
   "source": [
    "where $g(y,z)$ is an arbitrary function of $y$ and $z$.  This leaves us with:  \n",
    "\n",
    "$$ f_y = 2xyz\\quad\\quad \\text{and}\\quad\\quad f_y = 2xyz + \\frac{\\partial g}{\\partial y}$$"
   ]
  },
  {
   "cell_type": "markdown",
   "id": "1ad52af0-c16f-4770-9467-e0f397062121",
   "metadata": {},
   "source": [
    "$$ \\frac{\\partial g}{\\partial y} = 0 \\quad\\implies \\quad g(y,z) = h(z)$$"
   ]
  },
  {
   "cell_type": "markdown",
   "id": "a3b547bb-5b67-48e2-acd7-9c60eb959dae",
   "metadata": {},
   "source": [
    "$$ f(x,y,z) = xy^2 z + h(z)$$"
   ]
  },
  {
   "cell_type": "markdown",
   "id": "7df7e76e-818b-46a9-8bbb-d430240da478",
   "metadata": {},
   "source": [
    "$$ f_z = xy^2 \\quad\\quad\\text{and}\\quad \\quad f_z = xy^2 + h'(z)$$"
   ]
  },
  {
   "cell_type": "markdown",
   "id": "fdf28ed0-f30d-47e1-92bf-a713f3a4a2ac",
   "metadata": {},
   "source": [
    "$$ h'(z) = 0 \\quad\\implies\\quad h(z) = K = \\mathit{const}$$"
   ]
  },
  {
   "cell_type": "markdown",
   "id": "aad1ff4b-9284-473e-af18-c04ea960809d",
   "metadata": {},
   "source": [
    "Finally,  \n",
    "\n",
    "$$ f = xy^2 z + K$$"
   ]
  }
 ],
 "metadata": {
  "kernelspec": {
   "display_name": "Python 3 (ipykernel)",
   "language": "python",
   "name": "python3"
  },
  "language_info": {
   "codemirror_mode": {
    "name": "ipython",
    "version": 3
   },
   "file_extension": ".py",
   "mimetype": "text/x-python",
   "name": "python",
   "nbconvert_exporter": "python",
   "pygments_lexer": "ipython3",
   "version": "3.10.12"
  }
 },
 "nbformat": 4,
 "nbformat_minor": 5
}
