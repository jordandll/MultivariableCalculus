{
 "cells": [
  {
   "cell_type": "markdown",
   "id": "9aefc1da-f767-469e-9a93-41bacd90a7a7",
   "metadata": {},
   "source": [
    "# Gradient Fields in Space  \n",
    "\n",
    "## Criterion:  The Curl in Space  \n",
    "\n",
    "We now seek to generalize to space our earlier criterion (Section V2)  for gradient fields in the plane.  \n",
    "\n",
    "### Criterion for a Gradient Field  \n",
    "\n",
    "Let $\\mathbf{F} = M\\,\\mathbf{i} + N\\,\\mathbf{j} + P\\,\\mathbf{k}$ be a continuously differentiable vector field.  Then  \n",
    "\n",
    "\\begin{equation}\\tag{1}\n",
    "    \\mathbf{F} = \\nabla f \\quad\\implies\\quad M_y = N_x \\quad\\land\\quad M_z = P_x \\quad\\land\\quad N_z = P_y\n",
    "\\end{equation}"
   ]
  },
  {
   "cell_type": "markdown",
   "id": "2f2a48aa-d967-461c-b212-9435bf3e6180",
   "metadata": {},
   "source": [
    "for some potential function $f(x,y,z)$.  Note that in the above equation, and maybe throughout this notebook, we use the notation,  \n",
    "\n",
    "$$ M_x = \\frac{\\partial M}{\\partial x} \\quad\\quad M_{xx} = \\frac{\\partial^2 M}{\\partial x^2}$$"
   ]
  },
  {
   "cell_type": "markdown",
   "id": "8e1ae5fc-ca64-4d91-89d9-5df0b7d93bc1",
   "metadata": {},
   "source": [
    "and likewise for other -- maybe only scalar -- functions ($N$, $f$, etc.)  \n",
    "\n",
    "**Proof**:  \n",
    "\n",
    "$$ \\mathbf{F} = \\nabla f \\quad\\implies\\quad M = f_x \\quad\\land\\quad N = f_y \\quad\\land\\quad P = f_z$$"
   ]
  },
  {
   "cell_type": "markdown",
   "id": "7449e82c-8158-4f23-88fa-79f2ac5cfee3",
   "metadata": {},
   "source": [
    "Thus,  \n",
    "\n",
    "$$M=f_x \\quad\\land\\quad N=f_y\\quad\\implies\\quad  M_y = f_{xy} \\quad\\land\\quad N_x = f_{yx} \\quad\\implies\\quad M_y = N_x$$"
   ]
  },
  {
   "cell_type": "markdown",
   "id": "a86be8de-0d92-400e-86f8-69a7248da1b6",
   "metadata": {},
   "source": [
    "$$ M=f_x\\quad\\land\\quad P = f_z\\quad\\implies\\quad M_z = f_{xz} \\quad\\land\\quad P_x = f_{zx} \\quad\\implies\\quad M_z = P_x$$"
   ]
  },
  {
   "cell_type": "markdown",
   "id": "9208ee4d-deed-4730-abd1-7e4b8d1621a6",
   "metadata": {},
   "source": [
    "$$N = f_y\\quad\\land\\quad P = f_z \\quad\\implies\\quad  N_z = f_{yz}\\quad\\land\\quad P_y = f_{zy} \\quad\\implies\\quad N_z = P_y$$"
   ]
  },
  {
   "cell_type": "markdown",
   "id": "a252c3b7-9fe1-47e9-b46e-9ace9f3c79c5",
   "metadata": {},
   "source": [
    "Via the above premises and the law of distributed middle we have our proposition, the aforementioned criterion for grandient fields in space.  Q.E.D."
   ]
  },
  {
   "cell_type": "markdown",
   "id": "7be82793-97a2-48f1-a629-601ab409a562",
   "metadata": {},
   "source": [
    "Though the criterion looks more complicated to remember and to check than the one in\n",
    "two dimensions, which involves just a single equation, it is not difficult to learn and apply.\n",
    "For theoretical purposes, it can be expressed more elegantly by using the three-dimensional\n",
    "vector curl of $\\mathbf{F}$."
   ]
  },
  {
   "cell_type": "markdown",
   "id": "24ab0c4e-0d02-4b09-9793-8bb6a8122511",
   "metadata": {},
   "source": [
    "**Definition**:  Let $\\mathbf{F} = M\\,\\mathbf{i} + N\\,\\mathbf{j} + P\\,\\mathbf{k}$ be differentiable.  We define the curl of $\\mathbf{F}$ by  \n",
    "\n",
    "\\begin{equation}\\tag{3}\n",
    "    \\mathrm{curl }\\,\\mathbf{F} = (P_y-N_z)\\,\\mathbf{i} + (M_z-P_x)\\,\\mathbf{j} + (N_x-M_y)\\,\\mathbf{k}\n",
    "\\end{equation}"
   ]
  },
  {
   "cell_type": "markdown",
   "id": "a6055b00-766d-499e-99c6-a8ab711d4852",
   "metadata": {},
   "source": [
    "$$ = \\left|\\begin{matrix}\\tag{3'}\\mathbf{i} & \\mathbf{j} & \\mathbf{k} \\\\ \\partial_x & \\partial_y & \\partial_z \\\\ M & N & P\\end{matrix}\\right|\\quad\\quad\\text{(symbolic notation; }\\,\\partial_x = \\frac{\\partial }{\\partial x},\\,\\text{etc. )}$$"
   ]
  },
  {
   "cell_type": "markdown",
   "id": "c0ef864c-8dbc-4bb6-8fd0-cf6e1f163a2b",
   "metadata": {},
   "source": [
    "\\begin{equation}\\tag{3''}\n",
    "    = \\nabla \\times \\mathbf{F}\n",
    "\\end{equation}"
   ]
  },
  {
   "cell_type": "markdown",
   "id": "dc90240f-4537-4b8d-9cb3-2184ae00586b",
   "metadata": {},
   "source": [
    "By using the vector field $\\mathrm{curl }\\,\\mathbf{F}$, our criterion (1) becomes  \n",
    "\n",
    "\\begin{equation}\\tag{1'}\n",
    "    \\mathbf{F} = \\nabla f \\quad\\implies\\quad \\mathrm{curl }\\,\\mathbf{F} = \\mathbf{0}\n",
    "\\end{equation}"
   ]
  },
  {
   "cell_type": "markdown",
   "id": "f215ad87-6462-4e72-a20d-8275205a2fcb",
   "metadata": {},
   "source": [
    "Naturally, the question arises as to whether the converse of (1') is true -- if $\\mathrm{curl }\\,\\mathbf{F} = \\mathbf{0}$, is $\\mathbf{F}$ a gradient field?  As is the case with two dimensions, this requires some sort of caveat with regards to the domain, and we will return to this point after we have studies Stokes' theorem.  For now we will assume the domain is the whole real space $\\mathbb{R}^3$, in which case the aforementioned converse is true.  \n",
    "\n",
    "**Theorem**:  If $\\mathbf{F}$ is continuously differentiable over the real space,  \n",
    "\n",
    "\\begin{equation}\\tag{4}\n",
    "    \\mathrm{curl }\\,\\mathbf{F} = \\mathbf{0} \\quad\\implies\\quad \\mathbf{F} = \\nabla f\n",
    "\\end{equation}"
   ]
  }
 ],
 "metadata": {
  "kernelspec": {
   "display_name": "Python 3 (ipykernel)",
   "language": "python",
   "name": "python3"
  },
  "language_info": {
   "codemirror_mode": {
    "name": "ipython",
    "version": 3
   },
   "file_extension": ".py",
   "mimetype": "text/x-python",
   "name": "python",
   "nbconvert_exporter": "python",
   "pygments_lexer": "ipython3",
   "version": "3.10.12"
  }
 },
 "nbformat": 4,
 "nbformat_minor": 5
}
