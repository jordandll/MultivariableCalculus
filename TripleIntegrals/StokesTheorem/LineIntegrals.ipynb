{
 "cells": [
  {
   "cell_type": "markdown",
   "id": "647b5ec8-e171-41c0-a422-20faebbd46d5",
   "metadata": {},
   "source": [
    "# Line Integrals \n",
    "\n",
    "## Curves in Space  \n",
    "\n",
    "In order to generalize to three-space our earlier work with line integrals in the plane, we\n",
    "begin by recalling the relevant facts about parametrized space curves.\n",
    "In 3-space, a vector function of one variable is given as  \n",
    "\n",
    "\\begin{equation}\\tag{1}\n",
    "    \\mathbf{r}(t) = x(t)\\,\\mathbf{i} + y(t)\\,\\mathbf{j} + z(t)\\,\\mathbf{k}\n",
    "\\end{equation}"
   ]
  },
  {
   "cell_type": "markdown",
   "id": "a087dd43-3c4b-4874-ad35-f8bfaf07fe2e",
   "metadata": {},
   "source": [
    "It is called *continuous* or *differentiable* or *continuously differentiable* if, respectively, $x(t)$, $y(t)$, and $z(t)$ all have the corresponding property. By placing the\n",
    "vector so that its tail is at the origin, its head moves along a curve $C$ as $t$ varies.\n",
    "This curve can be described therefore either by its position vector function (1),\n",
    "or by the three parametric equations  \n",
    "\n",
    "\\begin{equation}\\tag{2}\n",
    "    x = x(t) \\quad\\quad y=y(t)\\quad\\quad z=z(t)\n",
    "\\end{equation}"
   ]
  },
  {
   "cell_type": "markdown",
   "id": "d0e217cd-bc4a-4cdc-b1ca-4b6a9bea9d7d",
   "metadata": {},
   "source": [
    "The curves we will deal with will be finite, connected, and piecewise smooth; this means\n",
    "that they have finite length, they consist of one piece, and they can be subdivided into a\n",
    "finite number of smaller pieces, each of which is given as the position vector of a continuously\n",
    "differentiable function (i.e., one whose derivative is continuous).  \n",
    "\n",
    "In addition, the curves will be *oriented*, or *directed*, meaning that an\n",
    "arrow has been placed on them to indicate which direction is considered to\n",
    "be the positive one. The curve is called *closed* if a point *P* moving on it\n",
    "always in the positive direction ultimately returns to its starting position,\n",
    "as in the accompanying picture.  \n",
    "\n",
    "The derivative of $\\mathbf{r}(t)$ is defined in terms of components by  \n",
    "\n",
    "\\begin{equation}\\tag{3}\n",
    "    \\frac{\\mathrm{d}\\mathbf{r}}{\\mathrm{d}t} = \\frac{\\mathrm{d}x}{\\mathrm{d}t}\\,\\mathbf{i} + \\frac{\\mathrm{d}y}{\\mathrm{d}t}\\,\\mathbf{i} + \\frac{\\mathrm{d}z}{\\mathrm{d}t}\\,\\mathbf{k}\n",
    "\\end{equation}"
   ]
  },
  {
   "cell_type": "markdown",
   "id": "a4e6e422-961c-4cb0-bc00-833d094cf3ea",
   "metadata": {},
   "source": [
    "If the parameter $t$ represents time then we can think of $\\mathbf{r}'(t)$ as the *velocity vector* $\\mathbf{v}$.  If $s$ is the length of $C$ from some fixed starting point in the positive direction, then in terms of $s$ the magnitude and direction of $\\mathbf{v}$ are given by  \n",
    "\n",
    "\\begin{equation}\\tag{4}\n",
    "    |\\mathbf{v}| = \\frac{|\\mathrm{d}s|}{\\mathrm{d}t} = \\frac{|\\mathrm{d}\\mathbf{r}|}{\\mathrm{d}t} \\quad\\quad\\text{and}\\quad\\quad \\text{dir }\\,\\mathbf{v} = \\hat{\\mathbf{v}} = \\frac{\\mathbf{r}}{|\\mathbf{r}|}\n",
    "\\end{equation}"
   ]
  },
  {
   "cell_type": "markdown",
   "id": "9b7cd5b4-eec6-49ff-92cd-00044c2e63bc",
   "metadata": {},
   "source": [
    "Let $\\mathbf{T}$ be the unit tangent vector (pointing in the positive direction on $C$).  \n",
    "\n",
    "\\begin{equation}\\tag{5}\n",
    "    \\mathbf{T} = \\frac{\\mathrm{d}\\mathbf{r}}{\\mathrm{d}s} = \\pm\\frac{\\mathrm{d}\\mathbf{r}}{|\\mathrm{d}\\mathbf{r}|}\n",
    "\\end{equation}\n"
   ]
  },
  {
   "cell_type": "markdown",
   "id": "d2b6ea6d-6fc9-458a-b4f6-04fa52391590",
   "metadata": {},
   "source": [
    "## Line Integrals in Space  \n",
    "\n",
    "let $\\mathbf{F} = M\\,\\mathbf{i} + N\\,\\mathbf{j} + P\\,\\mathbf{k}$ be a vector field in space, assumed to be continuous.  \n",
    "\n",
    "We define the *line integral of the tangential component of* $\\mathbf{F}$ along an oriented curve $C$ in space in the same way as for the plane.  We approximate $C$ with a sequence of directed line segments $\\Delta \\mathbf{r}_i$, inscribing $C$.  \n",
    "\n",
    "$$ \\int_C \\mathbf{F}\\cdot \\mathrm{d}\\mathbf{r} = \\lim_{k\\to \\infty}\\sum_{i=0}^k \\mathbf{F}_i \\cdot \\Delta \\mathbf{r}_i$$"
   ]
  },
  {
   "cell_type": "markdown",
   "id": "92ff6702-08fa-4989-a2f8-6e0209db5b4b",
   "metadata": {},
   "source": [
    "The line integral is calculated just like the one in two dimensions.  \n",
    "\n",
    "\\begin{equation}\\tag{6}\n",
    "    \\int_C\\mathbf{F}\\cdot\\mathrm{d}\\mathbf{r} = \\int_{t_0}^{t_1}\\mathbf{F}\\cdot \\frac{\\mathrm{d}\\mathbf{r}}{\\mathrm{d}t}\\,\\mathrm{d}t\n",
    "\\end{equation}"
   ]
  },
  {
   "cell_type": "markdown",
   "id": "c6574851-9238-475b-957c-c90b53064d77",
   "metadata": {},
   "source": [
    "where $C$ is given by the position vector $\\mathbf{r}(t)$ for $t_0 \\le t \\le t_1$.  In $x$, $y$, $z$-compliments, equation (6) is:  \n",
    "\n",
    "\\begin{equation}\\tag{6'}\n",
    "    \\int_C M\\,\\mathrm{d}x + N\\,\\mathrm{d}y + P\\,\\mathrm{d}z = \\int_{t_0}^{t_1} \\left(M\\,\\frac{\\mathrm{d}x}{\\mathrm{d}t} + N\\,\\frac{\\mathrm{d}y}{\\mathrm{d}t} + P\\,\\frac{\\mathrm{d}z}{\\mathrm{d}t}\\right)\\,\\mathrm{d}t\n",
    "\\end{equation}"
   ]
  },
  {
   "cell_type": "markdown",
   "id": "6f78894f-04aa-42d3-9982-1a4618da941a",
   "metadata": {},
   "source": [
    "If the parameter is the arclength $s$, then (6) becomes:  \n",
    "\n",
    "\\begin{equation}\\tag{7}\n",
    "    \\int_C \\mathbf{F} \\cdot\\mathrm{d}\\mathbf{r} = \\int_{s_0}^{s_1} \\mathbf{F}\\cdot \\mathbf{T}\\,\\mathrm{d}s\n",
    "\\end{equation}"
   ]
  },
  {
   "cell_type": "markdown",
   "id": "273e6b05-a855-48f2-9fca-1aa4bfd14182",
   "metadata": {},
   "source": [
    "As is the case with plane line integrals (i.e., the two dimensional case), assuming $\\mathbf{F}$ is force field, the line integral represents the work done moving a unit point mass (or charge) along $C$.  \n",
    "\n",
    "### Example 1  \n",
    "\n",
    "Find the work $W$ done by the electrostatic force field $\\mathbf{F} = y\\,\\mathbf{i} + z\\,\\mathbf{j} + x\\,\\mathbf{k}$ in carrying a positive unit point charge from $(1,1,1)$ to $(2,4,8)$ along  a) a line segment   b)  a twisted cubic curve given by $\\mathbf{r} = t\\,\\mathbf{i} + t^2\\mathbf{j} + t^3\\mathbf{k}$."
   ]
  },
  {
   "cell_type": "markdown",
   "id": "0824e674-2212-425f-92c4-fdb9aef0c3f5",
   "metadata": {},
   "source": [
    "\\begin{equation}\\tag{1.1}\n",
    "    W = \\int_C \\mathbf{F}\\cdot\\mathrm{d}\\mathbf{r} \\quad\\quad\\text{where }\\,\\mathbf{F} = \\langle y,z,x\\rangle\n",
    "\\end{equation}"
   ]
  },
  {
   "cell_type": "markdown",
   "id": "e9d4e95a-54ff-41ff-b12f-653df2564b6f",
   "metadata": {},
   "source": [
    "**a)**  The projection of $C$ onto the $x,y$-plane is given by:  \n",
    "\n",
    "$$ y = f(x) = mx + b \\quad\\quad\\text{where }\\,m = \\frac{\\Delta y}{\\Delta x}$$"
   ]
  },
  {
   "cell_type": "markdown",
   "id": "b85f640d-ea14-4c77-aa93-2ab2d39da670",
   "metadata": {},
   "source": [
    "$$ m = \\frac{3}{1}\\quad\\quad\\text{and}\\quad\\quad f(1) = 1$$"
   ]
  },
  {
   "cell_type": "markdown",
   "id": "680b4cb3-ce89-4846-b4e1-293af0c04200",
   "metadata": {},
   "source": [
    "Thus,  \n",
    "\n",
    "$$ 3 + b = 1 \\quad\\therefore\\quad b = -2\\quad\\therefore$$"
   ]
  },
  {
   "cell_type": "markdown",
   "id": "6c523384-a221-481c-af3d-aa25ef6968ad",
   "metadata": {},
   "source": [
    "\\begin{equation}\\tag{1.2}\n",
    "    y = f(x) = 3x - 2\n",
    "\\end{equation}"
   ]
  },
  {
   "cell_type": "markdown",
   "id": "e2a200a1-1104-4d59-8ab9-f2e79c343847",
   "metadata": {},
   "source": [
    "And,  \n",
    "\n",
    "\\begin{equation}\\tag{1.2a}\n",
    "    \\mathrm{d}y = 3\\,\\mathrm{d}x\n",
    "\\end{equation}"
   ]
  },
  {
   "cell_type": "markdown",
   "id": "b0c8c416-6fb7-44d9-8613-620bed4bfcb8",
   "metadata": {},
   "source": [
    "The projection of $C$ onto the $y,z$-plane is given by:  \n",
    "\n",
    "$$ z = g(y) = my + b \\quad\\quad\\text{where }\\, m = \\frac{\\Delta z}{\\Delta y}$$"
   ]
  },
  {
   "cell_type": "markdown",
   "id": "52778cd7-e76d-4db3-b0f9-8a6021a327b4",
   "metadata": {},
   "source": [
    "$$ m = \\frac{7}{3} \\quad\\quad\\text{and}\\quad\\quad g(1) = 1$$"
   ]
  },
  {
   "cell_type": "markdown",
   "id": "846d41af-b28c-41e6-ac0a-9a3e6b6e3397",
   "metadata": {},
   "source": [
    "Thus,  \n",
    "\n",
    "$$ \\frac{7}{3} + b = 1 \\quad\\therefore\\quad b = 1 - \\frac{7}{3} = - \\frac{4}{3}$$"
   ]
  },
  {
   "cell_type": "markdown",
   "id": "5edbcc66-6f2c-456b-8065-b1236adb66ad",
   "metadata": {},
   "source": [
    "Therefore,  \n",
    "\n",
    "\\begin{equation}\\tag{1.3}\n",
    "    z = g(y) = \\frac{7y - 4}{3}\n",
    "\\end{equation}"
   ]
  },
  {
   "cell_type": "markdown",
   "id": "173ee4b6-34a3-4f64-bdbe-8c36850755f4",
   "metadata": {},
   "source": [
    "And, via the above,  \n",
    "\n",
    "$$ 7y = 3z + 4 \\quad\\therefore\\quad y = \\frac{3z+4}{7}$$"
   ]
  },
  {
   "cell_type": "markdown",
   "id": "e6c5b573-01ba-442d-bc31-724d6086bcb9",
   "metadata": {},
   "source": [
    "Therefore,  \n",
    "\n",
    "\\begin{equation}\\tag{1.3a}\n",
    "    \\mathrm{d}y = \\frac{3}{7}\\,\\mathrm{d}z\n",
    "\\end{equation}"
   ]
  },
  {
   "cell_type": "markdown",
   "id": "6de7d8b3-3a30-4d4b-be7d-80f937626cbe",
   "metadata": {},
   "source": [
    "And, the projection of $C$ onto the $x,z$-plane is given by:  \n",
    "\n",
    "$$ z = h(x) = mx + b \\quad\\quad \\text{where }\\, m = \\frac{\\Delta z}{\\Delta x}$$"
   ]
  },
  {
   "cell_type": "markdown",
   "id": "56add087-d351-4ef1-8672-8136f8698d31",
   "metadata": {},
   "source": [
    "$$ m = 7 \\quad\\quad\\text{and}\\quad\\quad h(1)=1$$"
   ]
  },
  {
   "cell_type": "markdown",
   "id": "c91a2f1f-6abc-4cab-9f21-eaa34e7fc5c9",
   "metadata": {},
   "source": [
    "Thus,  \n",
    "\n",
    "$$ 7 + b = 1 \\quad\\therefore\\quad b = -6 \\quad\\therefore$$"
   ]
  },
  {
   "cell_type": "markdown",
   "id": "614b74da-9a68-4445-a134-27220f74dd8e",
   "metadata": {},
   "source": [
    "$$ z = h(x) = 7x - 6$$"
   ]
  },
  {
   "cell_type": "markdown",
   "id": "e4fdca28-2d2c-439b-b629-64c708d412ff",
   "metadata": {},
   "source": [
    "Therefore,  \n",
    "\n",
    "\\begin{equation}\\tag{1.4}\n",
    "    x := h(z) = \\frac{z + 6}{7}\n",
    "\\end{equation}"
   ]
  },
  {
   "cell_type": "markdown",
   "id": "d13b6530-3c23-40e2-89d4-240569d09f17",
   "metadata": {},
   "source": [
    "and,  \n",
    "\n",
    "\\begin{equation}\\tag{1.4a}\n",
    "    \\mathrm{d}x = \\frac{\\mathrm{d}z}{7}\n",
    "\\end{equation}"
   ]
  },
  {
   "cell_type": "markdown",
   "id": "9b241d6a-c9a9-405f-a5f0-4fc3f691a718",
   "metadata": {},
   "source": [
    "Equation (1.1), as it pertains to this case, is, in $x,y,z$-compliments:  \n",
    "\n",
    "$$ W = \\int_C y\\,\\mathrm{d}x + z\\,\\mathrm{d}y + x\\,\\mathrm{d}z$$"
   ]
  },
  {
   "cell_type": "markdown",
   "id": "703a2e4b-3867-4005-9f52-6d815c0684ae",
   "metadata": {},
   "source": [
    "\\begin{equation}\\tag{1.1a}\n",
    "    = \\int_1^2 y\\,\\mathrm{d}x + \\int_1^4 z\\,\\mathrm{d}y + \\int_1^8 x\\,\\mathrm{d}z\n",
    "\\end{equation}"
   ]
  },
  {
   "cell_type": "markdown",
   "id": "f2c0e20c-c62d-4cbb-bb27-2398e8790b31",
   "metadata": {},
   "source": [
    "The first integral of the above sum is given by:  \n",
    "\n",
    "$$ \\int_1^2 y\\,\\mathrm{d}x = \\int_1^2(3x-2)\\,\\mathrm{d}x$$"
   ]
  },
  {
   "attachments": {},
   "cell_type": "markdown",
   "id": "ddd36fbe-49e9-4012-893d-148a0639f88b",
   "metadata": {},
   "source": [
    "$$ = \\frac{3}{2}\\big.x^2\\big]_1^2 - 2x]_1^2 = \\frac{9}{2} - 2 $$"
   ]
  },
  {
   "cell_type": "markdown",
   "id": "4721a402-3cd1-485d-8910-46cc7bee94ac",
   "metadata": {},
   "source": [
    "\\begin{equation}\\tag{1.1a.1}\n",
    "    = \\frac{5}{2}\n",
    "\\end{equation}"
   ]
  },
  {
   "cell_type": "markdown",
   "id": "5e12fb3b-db12-4282-b4fb-4f5c01164282",
   "metadata": {},
   "source": [
    "The second integral is given by:  \n",
    "\n",
    "$$ \\int_1^4 z\\,\\mathrm{d}y  = \\int_1^4 \\frac{7y - 4}{3}\\,\\mathrm{d}y$$"
   ]
  },
  {
   "cell_type": "markdown",
   "id": "5f14e43c-b9cf-4fa4-b15e-8dea99c6be7f",
   "metadata": {},
   "source": [
    "$$ = \\frac{35}{2} - 4 $$"
   ]
  },
  {
   "cell_type": "markdown",
   "id": "dc8f18cd-8f50-4281-bc36-d0530e78dd13",
   "metadata": {},
   "source": [
    "\\begin{equation}\\tag{1.1a.2}\n",
    "    = \\frac{27}{2}\n",
    "\\end{equation}"
   ]
  },
  {
   "cell_type": "markdown",
   "id": "f8f9daef-9e21-4adb-b891-997a64e767b3",
   "metadata": {},
   "source": [
    "And, the third integral is given by:  \n",
    "\n",
    "$$ \\int_1^8 x\\,\\mathrm{d}z = \\int_1^8\\frac{z+6}{7}\\,\\mathrm{d}z$$"
   ]
  },
  {
   "cell_type": "markdown",
   "id": "e6612199-29f6-4543-a635-9e3a32eec7db",
   "metadata": {},
   "source": [
    "$$ = \\frac{63}{14} + 6 $$"
   ]
  },
  {
   "cell_type": "markdown",
   "id": "75667387-04ca-4293-8a8e-c02e93ba1c85",
   "metadata": {},
   "source": [
    "\\begin{equation}\\tag{1.1a.3}\n",
    "    = \\frac{21}{2}\n",
    "\\end{equation}"
   ]
  },
  {
   "cell_type": "markdown",
   "id": "9ee58735-91d2-4605-b8a5-8224c85d94a0",
   "metadata": {},
   "source": [
    "Finally,  \n",
    "\n",
    "$$ W = \\frac{5}{2} + \\frac{21}{2} + \\frac{27}{2}  = \\frac{27+ 5 + 21}{2}$$"
   ]
  },
  {
   "cell_type": "markdown",
   "id": "e15a4761-1422-4500-bfd3-d21b4381e474",
   "metadata": {},
   "source": [
    "\\begin{equation}\\tag{1.1a}\n",
    "    = \\frac{53}{2}\n",
    "\\end{equation}"
   ]
  },
  {
   "cell_type": "code",
   "execution_count": 5,
   "id": "60c7b4fb-ad1f-475b-a700-b6a0abafb3ce",
   "metadata": {},
   "outputs": [
    {
     "data": {
      "text/plain": [
       "53"
      ]
     },
     "execution_count": 5,
     "metadata": {},
     "output_type": "execute_result"
    }
   ],
   "source": [
    "(27+5+21)"
   ]
  },
  {
   "cell_type": "markdown",
   "id": "554bc529-78fc-4f9b-af8f-cf9f5c43d271",
   "metadata": {},
   "source": [
    "Another way to find $W$ is to parameterize $C$ in terms of $t$.  Let $\\mathbf{a}$ be defined as:  \n",
    "\n",
    "$$ \\mathbf{a} = \\mathbf{r}(t_1) - \\mathbf{r}(t_0) = \\langle 2,4,8\\rangle - \\langle 1,1,1\\rangle = \\langle 1,3,7\\rangle$$"
   ]
  },
  {
   "cell_type": "markdown",
   "id": "73520f61-29e2-4a15-b109-5372067eb8d8",
   "metadata": {},
   "source": [
    "where  \n",
    "\n",
    "$$ \\mathbf{r} := \\mathbf{r}(t) = \\langle 1,1,1\\rangle + t\\mathbf{a} $$"
   ]
  },
  {
   "cell_type": "markdown",
   "id": "594573a4-3ba8-4aee-b790-c22eb757f2dc",
   "metadata": {},
   "source": [
    "is the position vector that tracks $C$.  Assuming  \n",
    "\n",
    "$$ \\mathbf{r}(t) = x(t)\\,\\mathbf{i} + y(t)\\,\\mathbf{j} + z(t)\\,\\mathbf{k}$$"
   ]
  },
  {
   "cell_type": "markdown",
   "id": "524c907d-d601-449f-b35a-321f04a6396b",
   "metadata": {},
   "source": [
    "The parametric equations that give $C$ are:  \n",
    "\n",
    "$$   x(t) = t + 1 \\quad\\quad  y(t) = 3t + 1 \\quad\\quad z(t) = 7t + 1$$"
   ]
  },
  {
   "cell_type": "markdown",
   "id": "db3b1024-1e7d-42e5-b1e7-4a7c88f75ae2",
   "metadata": {},
   "source": [
    "The endpoints of $C$, in terms of $t$, are given by:  \n",
    "\n",
    "$$ \\mathbf{r}(t_0) = \\langle 1,1,1\\rangle \\quad\\quad\\text{and}\\quad\\quad \\mathbf{r}(t_1) = \\langle 2,4,8\\rangle$$"
   ]
  },
  {
   "cell_type": "markdown",
   "id": "2a5345a7-b2a9-41cd-82e5-20f7bb2511a8",
   "metadata": {},
   "source": [
    "$$ x(t_0) = 1 \\quad\\therefore\\quad t_0 + 1 = 1 \\quad\\therefore \\quad t_0 = 0$$"
   ]
  },
  {
   "cell_type": "markdown",
   "id": "1da84583-d47d-4913-bec8-e0f0d3dfa42a",
   "metadata": {},
   "source": [
    "$$ x(t_1) = 2 \\quad\\therefore\\quad t_1 + 1 = 2 \\quad\\therefore\\quad t_1 = 1$$"
   ]
  },
  {
   "cell_type": "markdown",
   "id": "14fcca2c-3666-439f-8006-46ee1856d1a2",
   "metadata": {},
   "source": [
    "Finally,  \n",
    "\n",
    "$$ W = \\int_0^1 \\big(y(t)x'(t) + z(t)y'(t) + x(t)z'(t)\\big)\\,\\mathrm{d}t$$"
   ]
  },
  {
   "cell_type": "markdown",
   "id": "8cdb2ed4-218f-4efb-bfbb-3115fec40fa4",
   "metadata": {},
   "source": [
    "$$ = \\int_0^1 \\big(3t + 1 + 3(7t+1) + 7(t+1)\\big)\\,\\mathrm{d}t$$"
   ]
  },
  {
   "cell_type": "markdown",
   "id": "523be22a-ea7c-440b-b05e-6a72e8dbf077",
   "metadata": {},
   "source": [
    "$$ = \\int_0^1(31t + 11)\\,\\mathrm{d}t$$"
   ]
  },
  {
   "cell_type": "markdown",
   "id": "bf494d6b-1b93-49a7-932c-5e3568970f63",
   "metadata": {},
   "source": [
    "$$ = \\frac{31}{2} + 11 = \\frac{31 + 22}{2} = \\frac{53}{2}$$"
   ]
  },
  {
   "cell_type": "markdown",
   "id": "624909ee-7fdb-440a-9005-46a08dd9e983",
   "metadata": {},
   "source": [
    "**b)**  Recall that:  \n",
    "\n",
    "$$ \\mathbf{F} = \\langle y,z,x\\rangle\\quad\\quad\\text{and}\\quad\\quad \\mathbf{r}(t) = \\big\\langle t,t^2,t^3\\big\\rangle$$"
   ]
  },
  {
   "cell_type": "markdown",
   "id": "d925fe4a-1b70-4841-9fe6-75fdaae43ac7",
   "metadata": {},
   "source": [
    "$$ x(t) = t \\quad\\quad y(t) = t^2 \\quad\\quad z(t) = t^3$$"
   ]
  },
  {
   "cell_type": "markdown",
   "id": "ffb8f01d-3960-4515-95f6-b0426ec716d9",
   "metadata": {},
   "source": [
    "$$ y(t_0) = 1 \\quad\\therefore \\quad t_0 = \\pm 1$$"
   ]
  },
  {
   "cell_type": "markdown",
   "id": "97032ffa-6594-419b-baa6-929e8cc7ab5c",
   "metadata": {},
   "source": [
    "$$ y(t_1) = 4 \\quad\\therefore \\quad t_1 = \\pm 2$$"
   ]
  },
  {
   "cell_type": "markdown",
   "id": "71ddec65-af34-49fd-a5e6-f6d8e1b1ee6e",
   "metadata": {},
   "source": [
    "$$ \\mathrm{d}x = \\mathrm{d}t \\quad\\quad \\mathrm{d}y = 2t\\,\\mathrm{d}t \\quad\\quad \\mathrm{d}z = 3t^2\\,\\mathrm{d}t$$"
   ]
  },
  {
   "cell_type": "markdown",
   "id": "a17ab5e9-5cf6-4222-8bcc-8186ee4e02ae",
   "metadata": {},
   "source": [
    "$$ W = \\int_C y\\,\\mathrm{d}x + z\\,\\mathrm{d}y + x\\,\\mathrm{d}z = \\int_1^2\\big(t^2 + 2t^4 + 3t^3\\big)\\mathrm{d}t$$"
   ]
  },
  {
   "cell_type": "markdown",
   "id": "d6ac411d-5cad-444f-80c9-cb952b817c99",
   "metadata": {},
   "source": [
    "$$ = \\left.\\left(\\frac{t^3}{3} + \\frac{2t^5}{5} + \\frac{3t^4}{4}\\right)\\right]_1^2$$"
   ]
  },
  {
   "cell_type": "markdown",
   "id": "813fc39b-e414-48cc-a2e7-76601c546417",
   "metadata": {},
   "source": [
    "$$ = \\frac{7}{3} + \\frac{62}{5} + \\frac{45}{4}$$"
   ]
  },
  {
   "cell_type": "markdown",
   "id": "f313043a-683a-4cfe-b1ba-2ef28a85ca26",
   "metadata": {},
   "source": [
    "$$ = \\frac{7\\cdot 20 + 62\\cdot 12 + 45\\cdot 15}{60}$$"
   ]
  },
  {
   "cell_type": "code",
   "execution_count": 8,
   "id": "02520db3-8c83-41a8-95ea-e3590c6ac99d",
   "metadata": {},
   "outputs": [
    {
     "data": {
      "text/plain": [
       "25.983333333333334"
      ]
     },
     "execution_count": 8,
     "metadata": {},
     "output_type": "execute_result"
    }
   ],
   "source": [
    "(7*20 + 62*12 + 45*15)/60"
   ]
  },
  {
   "cell_type": "code",
   "execution_count": null,
   "id": "ada3e888-cfd8-4057-97bd-f5cb5023e1a1",
   "metadata": {},
   "outputs": [],
   "source": []
  }
 ],
 "metadata": {
  "kernelspec": {
   "display_name": "Python 3 (ipykernel)",
   "language": "python",
   "name": "python3"
  },
  "language_info": {
   "codemirror_mode": {
    "name": "ipython",
    "version": 3
   },
   "file_extension": ".py",
   "mimetype": "text/x-python",
   "name": "python",
   "nbconvert_exporter": "python",
   "pygments_lexer": "ipython3",
   "version": "3.10.12"
  }
 },
 "nbformat": 4,
 "nbformat_minor": 5
}
