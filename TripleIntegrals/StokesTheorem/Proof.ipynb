{
 "cells": [
  {
   "cell_type": "markdown",
   "id": "4a51600e-4714-4f32-a85c-4f15559795e4",
   "metadata": {},
   "source": [
    "# Proof of Stoke's Theorem"
   ]
  },
  {
   "cell_type": "markdown",
   "id": "fcb4916f-6015-4e41-813b-d3e3392985c6",
   "metadata": {},
   "source": [
    "## Background Information  \n",
    "\n",
    "Before we dive into the proof, first let's prove the that the vector product operator satisfies the following.  \n",
    "\n",
    "### Theorem  \n",
    "\n",
    "\\begin{equation}\\tag{1}\n",
    "    \\mathbf{A}\\times \\mathbf{B} = \\mathbf{A}\\times b_1\\,\\mathbf{i} + \\mathbf{A}\\times b_2\\,\\mathbf{j} + \\mathbf{A}\\times b_3\\,\\mathbf{k}\n",
    "\\end{equation}"
   ]
  },
  {
   "cell_type": "markdown",
   "id": "2aace161-3b3a-433d-a227-3b20ee1a509c",
   "metadata": {},
   "source": [
    "### Proof  \n",
    "\n",
    "$$ \\mathbf{A}\\times\\mathbf{B} = \\left|\\begin{matrix}\\mathbf{i} & \\mathbf{j} & \\mathbf{k} \\\\ a_1 & a_2 & a_3 \\\\ b_1 & b_2 & b_3 \\end{matrix}\\right|$$"
   ]
  },
  {
   "cell_type": "markdown",
   "id": "d4fc6995-5349-440a-9e9f-f0fe4b280b0a",
   "metadata": {},
   "source": [
    "$$= (a_2b_3 - a_3b_2)\\,\\mathbf{i} - (a_1b_3 - a_3b_1)\\,\\mathbf{j} + (a_1b_2 - a_2b_1)\\,\\mathbf{k}$$"
   ]
  },
  {
   "attachments": {},
   "cell_type": "markdown",
   "id": "a360d397-862b-46c5-8411-e55c0a677441",
   "metadata": {},
   "source": [
    "$$ \\mathbf{A} \\times b_1\\,\\mathbf{i} = \\left|\\begin{matrix} \\mathbf{i} & \\mathbf{j} & \\mathbf{k} \\\\ a_1 & a_2 & a_3 \\\\ b_1 & 0 & 0\\end{matrix}\\right| = a_3b_1\\,\\mathbf{j} - a_2b_1\\,\\mathbf{k}$$"
   ]
  },
  {
   "attachments": {},
   "cell_type": "markdown",
   "id": "18ab3942-ab57-40ef-8538-84c28849cb71",
   "metadata": {},
   "source": [
    "$$ \\mathbf{A} \\times b_2\\,\\mathbf{j} = \\left|\\begin{matrix} \\mathbf{i} & \\mathbf{j} & \\mathbf{k} \\\\ a_1 & a_2 & a_3 \\\\ 0 & b_2 & 0 \\end{matrix}\\right| = -a_3b_2\\,\\mathbf{i} + a_1b_2\\,\\mathbf{k}$$"
   ]
  },
  {
   "attachments": {},
   "cell_type": "markdown",
   "id": "30fc1322-d405-4826-ac70-6a3f439e7351",
   "metadata": {},
   "source": [
    "\\begin{equation}\\tag{1.4}\n",
    "    \\mathbf{A} \\times b_3\\,\\mathbf{k} = \\left|\\begin{matrix} \\mathbf{i} & \\mathbf{j} & \\mathbf{k} \\\\ a_1 & a_2 & a_3 \\\\ 0 & 0 & b_3\\end{matrix}\\right|  = a_2b_3\\,\\mathbf{i} - a_1b_3\\,\\mathbf{j}\n",
    "\\end{equation}"
   ]
  },
  {
   "cell_type": "markdown",
   "id": "3ac9857c-6181-4210-860e-8a90e9ec6f93",
   "metadata": {},
   "source": [
    "Via the above four equations we have equation (1).  Q.E.D."
   ]
  },
  {
   "cell_type": "markdown",
   "id": "27819abe-af8d-48fd-b868-f05e4b115b9b",
   "metadata": {},
   "source": [
    "## First Premise  \n",
    "\n",
    "We will prove Stoke's theorem for a vector field of the form $P(x,y,z)\\,\\mathbf{k}$.  That is, we will show, with the usual notations,  \n",
    "\n",
    "\\begin{equation}\\tag{3}\n",
    "    \\oint_C P(x,y,z)\\,\\mathrm{d}z = \\iint_S \\mathrm{curl }(P\\,\\mathbf{k}) \\cdot \\mathbf{n} \\,\\mathrm{d}S\n",
    "\\end{equation}"
   ]
  },
  {
   "cell_type": "markdown",
   "id": "648082b6-ce9f-472c-a36e-bb4635891fab",
   "metadata": {},
   "source": [
    "Note that the above equation is a premise of the proof for Stoke's theorem for fields with non-zero $x$, $y$ and $z$ compliments.  \n",
    "\n",
    "We assume $S$ is given as the graph of $z=f(x,y)$ over a region $R$ of the $xy$-plane.  We let $C$ be the boundary of $S$ and $C'$ be the boundary of $R$, making $C'$ the projection of $C$ onto the $xy$-plane.  We take $\\mathbf{n}$ on $S$ to be pointing generally upwards so that $|\\mathbf{n}\\cdot\\mathbf{k}| = \\mathbf{n}\\cdot\\mathbf{k}$.  \n",
    "\n",
    "To prove equation (3), we turn the left side into a line integral over $C'$ and the right side into a double integral over $R$, with both in the $xy$-plane.  Then, we show that these two integrals are equal via Green's theorem.  \n",
    "\n",
    "To calculate the line integrals over $C$ and $C'$, we parametrize these curves.  Let  \n",
    "\n",
    "$$ C':\\, x=(t) \\quad\\quad y=y(t)\\quad\\quad\\text{where }\\, t_0 \\le t \\le t_1$$"
   ]
  },
  {
   "cell_type": "markdown",
   "id": "36016f91-8128-4ee3-a2aa-27dc8d762ab1",
   "metadata": {},
   "source": [
    "be a parametrization of $C'$ and  \n",
    "\n",
    "$$ C:\\; x=x(t) \\quad\\quad y=y(t) \\quad\\quad z=z(t)=f\\big(x(t),y(t)\\big) \\quad\\quad\\text{where }\\, t_0\\le t \\le t_1$$"
   ]
  },
  {
   "cell_type": "markdown",
   "id": "9769b2c0-c084-417c-bf8d-19e6e0cb9ab5",
   "metadata": {},
   "source": [
    "be a parametrization of $C$.  \n",
    "\n",
    "Regarding the line integral, we claim that:  \n",
    "\n",
    "\\begin{equation}\\tag{3.1}\n",
    "    \\oint_C P(x,y,z)\\,\\mathrm{d}z = \\oint_{C'}P\\big(x,y,f(x,y)\\big)(f_x\\,\\mathrm{d}x + f_y\\,\\mathrm{d}y)\n",
    "\\end{equation}"
   ]
  },
  {
   "cell_type": "markdown",
   "id": "c8a871f1-ae80-4b3a-b742-e284c7633f47",
   "metadata": {},
   "source": [
    "The right is obtained by substituting into the left side the expressions for $z$ and $\\mathrm{d}z$ in terms of $x$ and $y$:  $z=f(x,y)$ and $\\mathrm{d}z=f_x\\,\\mathrm{d}x + f_y\\,\\mathrm{d}y$.  To justify it more carefully, we use the parametrizations given above for $C$ and $C'$ to calculate the line integrals.  \n",
    "\n",
    "$$ \\oint_C P(x,y,z)\\,\\mathrm{d}z = \\int_{t_0}^{t_1} P\\big(x(t),y(t),z(t)\\big)\\,z'(t)\\,\\mathrm{d}t$$"
   ]
  },
  {
   "cell_type": "markdown",
   "id": "a3a993cb-9958-4f40-8243-820e20c34933",
   "metadata": {},
   "source": [
    "$$ = \\int_{t_0}^{t_1}P\\big(x(t),y(t),z(t)\\big)\\big(f_x x'(t) + f_y y'(t)\\big)\\,\\mathrm{d}t$$"
   ]
  },
  {
   "cell_type": "markdown",
   "id": "a6edf068-be81-4892-9114-a1b3d9400de9",
   "metadata": {},
   "source": [
    "$$ = \\oint_{C'}P\\big(x,y,f(x,y)\\big)(f_x\\,\\mathrm{d}x + f_y\\,\\mathrm{d}y)$$"
   ]
  },
  {
   "cell_type": "markdown",
   "id": "384f6ac0-7f12-4681-81cf-d8e84902d363",
   "metadata": {},
   "source": [
    "$$ = \\oint_{C'} P\\big(x,y,f(x,y)\\big)\\nabla f \\cdot \\mathrm{d}\\mathbf{r}$$"
   ]
  },
  {
   "cell_type": "markdown",
   "id": "f944dd89-25e4-4b1a-94a0-10550fa65839",
   "metadata": {},
   "source": [
    "$$ = \\oint_{C'} \\mathbf{F} \\cdot\\mathrm{d}\\mathbf{r} \\quad\\quad\\text{where }\\, \\mathbf{F} = Q \\,\\nabla f\\quad\\text{and}\\quad Q := Q(x,y) = P\\big(x,y,f(x,y)\\big)$$"
   ]
  },
  {
   "cell_type": "markdown",
   "id": "68f059c7-924b-49e6-89df-074dc023ced4",
   "metadata": {},
   "source": [
    "and $\\mathbf{r}$ tracks $C'$.  \n",
    "\n",
    "$$ \\mathbf{r} = \\mathbf{r}(t) = \\big\\langle x(t),y(t)\\big\\rangle $$"
   ]
  },
  {
   "cell_type": "markdown",
   "id": "1965a263-0793-4235-8a2c-bb761b7aa03a",
   "metadata": {},
   "source": [
    "Regarding the surface integral, our task is to prove the following:  \n",
    "\n",
    "\\begin{equation}\\tag{3.2}\n",
    "    \\iint_S \\nabla \\times P\\,\\mathbf{k} \\cdot\\mathrm{d}\\mathbf{S} = \\iint_R \\mathrm{curl }\\, \\mathbf{F} \\,\\mathrm{d}A\n",
    "\\end{equation}"
   ]
  },
  {
   "cell_type": "markdown",
   "id": "e6be0d54-a4b8-44cf-916c-df597a03dbfe",
   "metadata": {},
   "source": [
    "First, let's compute the curl of $\\mathbf{F}$.  \n",
    "\n",
    "$$ \\mathbf{F} = Q\\langle f_x,f_y\\rangle \\quad\\quad \\mathrm{curl }\\,\\mathbf{F} = Q_x f_y + Q f_{xy} - Q_y f_x - Q f_{xy}$$"
   ]
  },
  {
   "cell_type": "markdown",
   "id": "29fb7201-fdf2-40bf-adcf-081a09863e8c",
   "metadata": {},
   "source": [
    "\\begin{equation}\\tag{3.2.1}\n",
    "    \\mathrm{curl }\\,\\mathbf{F} = Q_xf_y - Q_yf_x = \\nabla Q \\cdot \\langle f_y, -f_x\\rangle\n",
    "\\end{equation}"
   ]
  },
  {
   "cell_type": "markdown",
   "id": "b8728cfb-6fb7-45ce-a953-8d160e85714d",
   "metadata": {},
   "source": [
    "The above equation implies that the curl of $\\mathbf{F}$ is equal to the dot product of the gradient of $Q$ and $\\nabla f$ rotated by $90$ degress in the clockwise direction."
   ]
  },
  {
   "cell_type": "markdown",
   "id": "13bced6c-4027-4eaa-a296-78491e0fb15a",
   "metadata": {},
   "source": [
    "Via the chain rule,  \n",
    "\n",
    "$$ Q_x = P_x\\big(x,y,f(x,y)\\big) + P_z\\big(x,y,f(x,y)\\big)f_x$$"
   ]
  },
  {
   "cell_type": "markdown",
   "id": "39ad39bf-93b5-426c-8194-998564bb1685",
   "metadata": {},
   "source": [
    "$$ Q_y = P_y\\big(x,y,f(x,y)\\big) + P_z\\big(x,y,f(x,y)\\big)f_y$$"
   ]
  },
  {
   "cell_type": "markdown",
   "id": "7fbbf0c0-f42f-4524-a70f-75dd421236b3",
   "metadata": {},
   "source": [
    "Note that the chain rule for partial derivatives follows from:  \n",
    "\n",
    "$$ \\mathrm{d}P = P_x\\,\\mathrm{d}x + P_y\\,\\mathrm{d}y + P_z\\,\\mathrm{d}z$$"
   ]
  },
  {
   "attachments": {},
   "cell_type": "markdown",
   "id": "5a3943f4-e229-485a-81d1-7b2673f4fcff",
   "metadata": {},
   "source": [
    "When $P$ is constrained to the surface given by the graph of $f(x,y)$, the above becomes:  \n",
    "\n",
    "$$ \\mathrm{d}Q= P_1\\,\\mathrm{d}x + P_2\\,\\mathrm{d}y + P_3(f_x\\,\\mathrm{d}x + f_y\\,\\mathrm{d}y)$$"
   ]
  },
  {
   "cell_type": "markdown",
   "id": "ae3374e6-db02-4163-a3fc-7b371c2f451b",
   "metadata": {},
   "source": [
    "$$ = (P_1 + P_3f_x)\\,\\mathrm{d}x + (P_2 + P_3f_y)\\,\\mathrm{d}y$$"
   ]
  },
  {
   "cell_type": "markdown",
   "id": "dcd52e68-15a1-4d23-9df8-b8c79a90b93b",
   "metadata": {},
   "source": [
    "$$ = Q_x\\,\\mathrm{d}x + Q_y\\,\\mathrm{d}y$$"
   ]
  },
  {
   "cell_type": "markdown",
   "id": "9d3a35a7-2a8b-45b4-b64d-706727c21ab8",
   "metadata": {},
   "source": [
    "where,  \n",
    "\n",
    "$$ P_1 = P_x\\big(x,y,f(x,y)\\big) \\quad\\quad P_2 = P_y\\big(x,y,f(x,y)\\big) \\quad\\quad P_3 = P_z\\big(x,y,f(x,y)\\big)$$"
   ]
  },
  {
   "cell_type": "markdown",
   "id": "ae8a0164-726f-42bc-966e-5f2661c91483",
   "metadata": {},
   "source": [
    "Via the two equations that follow from the chain rule for partial derivatives and equation (3.2.1),  \n",
    "\n",
    "$$ \\mathrm{curl }\\,\\mathbf{F} = (P_1 + P_3f_x)f_y - (P_2 + P_3f_y)f_x$$"
   ]
  },
  {
   "cell_type": "markdown",
   "id": "9fdd3524-c092-442e-a461-a1864f7d1c73",
   "metadata": {},
   "source": [
    "\\begin{equation}\\tag{3.2.2}\n",
    "    = P_1f_y - P_2f_x\n",
    "\\end{equation}"
   ]
  },
  {
   "cell_type": "markdown",
   "id": "812d151d-84d2-49f8-8779-0347788df7ac",
   "metadata": {},
   "source": [
    "Via equation (11a) in [V9.3-4](../DivergenceTheorem/V9.3-4.ipynb),  \n",
    "\n",
    "$$ \\mathrm{d}\\mathbf{S} = \\langle -f_x,-f_y,1\\rangle\\,\\mathrm{d}x\\,\\mathrm{d}y $$"
   ]
  },
  {
   "cell_type": "markdown",
   "id": "87a1a37a-6b34-4937-ad9c-4bc685acaa75",
   "metadata": {},
   "source": [
    "and, via equation (1.4),  \n",
    "\n",
    "$$ \\nabla \\times P\\,\\mathbf{k} = \\langle P_y, -P_x, 0\\rangle$$"
   ]
  },
  {
   "cell_type": "markdown",
   "id": "35b08037-bf34-4f3e-b9c6-3f7223b6bfa6",
   "metadata": {},
   "source": [
    "Via the above two equations,  \n",
    "\n",
    "$$ \\nabla \\times P\\,\\mathbf{k}\\cdot\\mathrm{d}\\mathbf{S} = (P_xf_y - P_yf_x)\\,\\mathrm{d}A$$"
   ]
  },
  {
   "cell_type": "markdown",
   "id": "f64e1e57-ba36-4858-889c-6af3b7af8d36",
   "metadata": {},
   "source": [
    "Finally,  \n",
    "\n",
    "\\begin{equation}\\tag{3.2.3}\n",
    "    \\iint_S \\nabla \\times P\\,\\mathbf{k} \\cdot\\mathrm{d}\\mathbf{S} = \\iint_R (P_1f_y - P_2 f_x)\\,\\mathrm{d}A\n",
    "\\end{equation}"
   ]
  },
  {
   "cell_type": "markdown",
   "id": "5045b612-79af-475d-99dc-b6f06d4ac421",
   "metadata": {},
   "source": [
    "Via the above equation and equation (3.2.2) we get equation (3.2).  Furthermore, via equations (3.2), (3.1) and Green's theorem, we get our first premise, equation (3).  Q.E.D. "
   ]
  }
 ],
 "metadata": {
  "kernelspec": {
   "display_name": "Python 3 (ipykernel)",
   "language": "python",
   "name": "python3"
  },
  "language_info": {
   "codemirror_mode": {
    "name": "ipython",
    "version": 3
   },
   "file_extension": ".py",
   "mimetype": "text/x-python",
   "name": "python",
   "nbconvert_exporter": "python",
   "pygments_lexer": "ipython3",
   "version": "3.10.12"
  }
 },
 "nbformat": 4,
 "nbformat_minor": 5
}
