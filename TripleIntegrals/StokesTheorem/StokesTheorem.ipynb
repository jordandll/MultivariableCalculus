{
 "cells": [
  {
   "cell_type": "markdown",
   "id": "2c779bef-89ea-41ef-906b-6000291e695a",
   "metadata": {},
   "source": [
    "# Stoke's Theorem  \n",
    "\n",
    "## Introduction  \n",
    "\n",
    "The normal form of Green’s theorem generalizes in 3-space to the divergence theorem.\n",
    "What is the generalization to space of the tangential form of Green’s theorem?  Recall that Green's theorem says:  \n",
    "\n",
    "\\begin{equation}\\tag{1}\n",
    "    \\oint_C \\mathbf{F}\\cdot\\mathrm{d}\\mathbf{r} = \\iint_R \\mathrm{curl }\\,\\mathbf{F}\\,\\mathrm{d}A\n",
    "\\end{equation}"
   ]
  },
  {
   "cell_type": "markdown",
   "id": "91c2be3e-5b5a-4134-84e5-71eb02326b09",
   "metadata": {},
   "source": [
    "where $R$ is the plane region enclosed by $C$, a simple closed curve, and $\\mathbf{r}$ is the position vector that tracks $C$.  Assuming $\\mathbf{F}$ is a force field, the left side of the above equation represents work done by $\\mathbf{F}$ moving a point mass along $C$.  The natural generalization of this to 3-space would be that the integral $\\displaystyle \\oint_C \\mathbf{F}\\cdot\\mathrm{d}\\mathbf{r}$ represents work done moving a point mass along a simple closed space curve."
   ]
  },
  {
   "cell_type": "markdown",
   "id": "d225bd62-74ee-4f47-8668-3045d006e895",
   "metadata": {},
   "source": [
    "In trying to generalize the right-hand side of equation (1), the space curve $C$ must be the boundary of a surface $S$, which of course may not be a plane.  So it is natural to look for a generalization of the form:  \n",
    "\n",
    "$$ \\oint_C \\mathbf{F}\\cdot\\mathrm{d}\\mathbf{r} = \\iint_S \\text{(something derived from }\\mathbf{F}\\text{)}\\,\\mathrm{d}S$$"
   ]
  },
  {
   "cell_type": "markdown",
   "id": "3950e943-fbb8-4afc-95c4-cb1330522681",
   "metadata": {},
   "source": [
    "The surface integral on the right should have the following properties:  \n",
    "\n",
    "* If $\\mathrm{curl }\\,\\mathbf{F} = \\mathbf{0}$ in 3-space, then the surface integral should be equal to zero, since $\\mathbf{F}$ is, via equation (4) of V12, a gradient field in that case and thus, via equation (12) in V11, the line integral on the left hand side is equal to zero.\n",
    "* If $C$ is in the $xy$-plane with $S$ as it's interior and the field $\\mathbf{F}$ does not depend on $z$ and has no $\\mathbf{k}$-component (i.e. is like a 2D field) then the surface integral should be equal to $\\displaystyle\\iint_S (N_x-M_y)\\,\\mathrm{d}S$, which is what $\\mathrm{curl }\\,\\mathbf{F}$ would be equal to if $\\mathbf{F}$ actually were a 2D field."
   ]
  },
  {
   "cell_type": "markdown",
   "id": "57ef9e90-b6f9-4241-8250-23e26f2e7a18",
   "metadata": {},
   "source": [
    "## The Theorem  \n",
    "\n",
    "These properties suggest that the theorem we are looking for is:  \n",
    "\n",
    "\\begin{equation}\\tag{2}\n",
    "    \\oint_C \\mathbf{F}\\cdot\\mathrm{d}\\mathbf{r} = \\iint_S \\mathrm{curl }\\,\\mathbf{F}\\cdot\\mathbf{n}\\,\\mathrm{d}S\n",
    "\\end{equation}"
   ]
  },
  {
   "attachments": {},
   "cell_type": "markdown",
   "id": "53be02f1-9db5-4092-a767-13aae5c8d122",
   "metadata": {},
   "source": [
    "Now, let's see if the right-hand side of equation (2) satisfies the second property mentioned above.  Let  \n",
    "\n",
    "$$ \\mathbf{F} = M\\,\\mathbf{i} + N\\,\\mathbf{j} \\quad\\quad\\text{where }\\, M = M(x,y) \\quad\\text{and}\\quad N = N(x,y)$$"
   ]
  },
  {
   "attachments": {},
   "cell_type": "markdown",
   "id": "920ad1e4-4cab-4d01-b1f4-1e62f85457a5",
   "metadata": {},
   "source": [
    "$$ \\mathrm{curl }\\,\\mathbf{F} = \\left|\\begin{matrix}\\mathbf{i} & \\mathbf{j} & \\mathbf{k} \\\\ \\partial_x & \\partial_y & \\partial_z \\\\ M & N & 0\\end{matrix}\\right|= (N_x - M_y)\\,\\mathbf{k}$$"
   ]
  },
  {
   "attachments": {},
   "cell_type": "markdown",
   "id": "a57671ab-3958-4df9-9df2-81be40b1ee4e",
   "metadata": {},
   "source": [
    "$$ \\mathrm{curl }\\,\\mathbf{F} \\cdot \\mathbf{n} = N_x - M_y$$  \n",
    "\n",
    "Therefore the second property is satisfied."
   ]
  },
  {
   "cell_type": "markdown",
   "id": "39475d5c-b747-4c44-98fb-9991ea342d7d",
   "metadata": {},
   "source": [
    "For the hypotheses, first of all $C$ should be a closed curve, since it is the boundary of $S$,\n",
    "and it should be oriented, since we have to calculate a line integral over it.  \n",
    "\n",
    "$S$ is an oriented surface, since we have to calculate the flux of $\\mathrm{curl }\\,\\mathbf{F}$ through it. This\n",
    "means that $S$ is two-sided, and one of the sides designated as positive; then the unit normal\n",
    "n is the one whose base is on the positive side. (There is no “standard” choice for positive\n",
    "side, since the surface $S$ is not closed."
   ]
  },
  {
   "cell_type": "markdown",
   "id": "c8b7044b-ae85-4b9d-b6a2-4aeb9d16db8c",
   "metadata": {},
   "source": [
    "It is important that $C$ and $S$ be compatibly oriented. By this we mean that the right-hand\n",
    "rule applies: when you walk in the positive direction on $C$, keeping $S$ to your left, then your\n",
    "head should point in the direction of $\\mathbf{n}$. The pictures give some examples.  \n",
    "\n",
    "The field $\\mathbf{F} = M\\,\\mathbf{i} + N\\, \\mathbf{j} + P\\,\\mathbf{k}$ should have continuous first partial derivatives, so that\n",
    "we will be able to integrate $\\mathrm{curl }\\, \\mathbf{F}$ . For the same reason, the piece of surface $S$ should be piecewise smooth and should be finite— i.e., not go off to infinity in any direction, and have finite area."
   ]
  },
  {
   "cell_type": "markdown",
   "id": "d5aa3aa7-6da1-4b8a-a816-b9809246eea2",
   "metadata": {},
   "source": [
    "## Examples  \n",
    "\n",
    "### Example 1  \n",
    "\n",
    "Verify the equality in Stoke's theorem when $S$ is the half of the unit sphere centered at the origin on which $y\\ge 0$, oriented so $\\mathbf{n}$ makes an acute angle iwth the positive $y$-axis.  Let $\\mathbf{F} = y\\,\\mathbf{i} + 2x\\,\\mathbf{j} + x\\,\\mathbf{k}$."
   ]
  },
  {
   "cell_type": "markdown",
   "id": "21398ad7-2720-4825-ad35-fd0f9e16e69c",
   "metadata": {},
   "source": [
    "$$ W = \\oint_C \\mathbf{F}\\cdot\\mathrm{d}\\mathbf{r} \\quad\\quad\\text{where }\\, \\mathbf{F} = \\langle y,2x,x\\rangle$$"
   ]
  },
  {
   "cell_type": "markdown",
   "id": "24658be4-0eb4-4d6a-bf1c-5f4122d04807",
   "metadata": {},
   "source": [
    "and $C$ is the boundary of $S$, is in the $xz$-plane, and is a unit circle centered at origin and is tracked by $\\mathbf{r}$.  Now let,  \n",
    "\n",
    "$$ \\mathbf{r} := \\mathbf{r}(t) = \\langle x(t), 0, z(t)\\rangle \\quad\\quad x:=x(t) = \\cos t \\quad\\quad z:=z(t) = -\\sin t$$"
   ]
  },
  {
   "cell_type": "markdown",
   "id": "21bfba10-dd50-4a91-8dd5-563bbf9c9d9b",
   "metadata": {},
   "source": [
    "The integrand of the line integral is:  \n",
    "\n",
    "$$ \\mathbf{F} \\cdot\\mathrm{d}\\mathbf{r} = y\\,\\mathrm{d}x + 2x\\,\\mathrm{d}y + x\\,\\mathrm{d}z$$"
   ]
  },
  {
   "cell_type": "markdown",
   "id": "393a85bf-0b39-4c2e-a073-2ae08f3cc91d",
   "metadata": {},
   "source": [
    "$$ \\mathrm{d}x = -\\sin t\\,\\mathrm{d}t \\quad\\quad\\text{and}\\quad\\quad \\mathrm{d}z = -\\cos t\\,\\mathrm{d}t$$"
   ]
  },
  {
   "cell_type": "markdown",
   "id": "33797106-dc36-43f9-af9a-ceb0300ce65e",
   "metadata": {},
   "source": [
    "$$ \\mathbf{F} \\cdot\\mathrm{d}\\mathbf{r} = -\\cos^2t\\,\\mathrm{d}t$$"
   ]
  },
  {
   "cell_type": "markdown",
   "id": "eaa7aa4e-b756-4363-aa4d-67171b5a2fa5",
   "metadata": {},
   "source": [
    "Finally, the line integral is:  \n",
    "\n",
    "$$ \\oint_C \\mathbf{F}\\cdot\\mathrm{d}\\mathbf{r} = -\\int_0^{2\\pi}\\cos^2 t\\,\\mathrm{d}t$$"
   ]
  },
  {
   "cell_type": "markdown",
   "id": "50812ef4-aa65-43d4-9b2e-8a65dbcd28d3",
   "metadata": {},
   "source": [
    "$$ = -0.5\\int_0^{2\\pi}\\cos 2t\\,\\mathrm{d}t - 0.5\\int_0^{2\\pi}\\,\\mathrm{d}t$$"
   ]
  },
  {
   "cell_type": "markdown",
   "id": "84252149-899a-4de5-ab3a-2689c9e0fbe2",
   "metadata": {},
   "source": [
    "$$ = -\\pi$$"
   ]
  },
  {
   "cell_type": "markdown",
   "id": "3fafcd6a-1280-4f4f-963a-298765c9e69f",
   "metadata": {},
   "source": [
    "To verify that  \n",
    "\n",
    "$$ \\cos^2t = 0.5\\cos2t + 0.5 $$"
   ]
  },
  {
   "cell_type": "markdown",
   "id": "607164ab-0912-49cf-801a-1fda7a9f8514",
   "metadata": {},
   "source": [
    "$$ \\frac{\\mathrm{d}\\cos^2 t}{\\mathrm{d}t} = -2\\cos t \\sin t = -\\sin2t$$"
   ]
  },
  {
   "cell_type": "markdown",
   "id": "6179378d-9f29-42db-a23d-fe41dfd9b07a",
   "metadata": {},
   "source": [
    "Let $f(t):= \\cos^2 t$.  \n",
    "\n",
    "$$ f'(t) = -2\\cos t\\sin t = -\\sin 2t$$"
   ]
  },
  {
   "cell_type": "markdown",
   "id": "492fefec-61ef-49d7-a23d-074e0e316adf",
   "metadata": {},
   "source": [
    "$$ f(t) = \\int f'(t)\\,\\mathrm{d}t = -\\int\\sin2 t\\,\\mathrm{d}t = 0.5\\cos 2t + K$$"
   ]
  },
  {
   "cell_type": "markdown",
   "id": "9defb3f8-ee9b-4b3f-90bf-978cfa46f8da",
   "metadata": {},
   "source": [
    "$$ f(0) = 0.5 + K = \\cos^2 0 = 1 \\quad\\therefore\\quad K = 0.5$$"
   ]
  },
  {
   "cell_type": "markdown",
   "id": "388bd0a9-c03d-4249-aa95-826d0d6a55ac",
   "metadata": {},
   "source": [
    "Finally,  \n",
    "\n",
    "$$ \\cos^2 t = 0.5\\cos 2t + 0.5$$"
   ]
  },
  {
   "cell_type": "markdown",
   "id": "ae70a72e-fa9d-41c3-9c56-afdee4ae60ed",
   "metadata": {},
   "source": [
    "As for the surface integral, note that $C$ also encloses the unit circle in the $xz$-plane centered at origin.  \n",
    "\n",
    "$$ \\mathrm{curl }\\,\\mathbf{F} = -(1)\\,\\mathbf{j} + (2 - 1)\\mathbf{k} = \\langle 0,-1,1\\rangle$$"
   ]
  },
  {
   "cell_type": "markdown",
   "id": "16c3dd12-3a28-4a56-91ef-8c6943316d39",
   "metadata": {},
   "source": [
    "$$ \\mathbf{n} = \\mathbf{j}$$"
   ]
  },
  {
   "cell_type": "markdown",
   "id": "66073c5c-505a-4e55-8bc0-aee7650239fa",
   "metadata": {},
   "source": [
    "Thus, the integrand is:  \n",
    "\n",
    "$$ \\mathrm{curl }\\,\\mathbf{F}\\cdot\\mathrm{d}\\mathbf{S} = -\\mathrm{d}z\\,\\mathrm{d}x$$"
   ]
  },
  {
   "cell_type": "markdown",
   "id": "52ca417d-6bce-4128-9d68-a64d32defa8c",
   "metadata": {},
   "source": [
    "Our surface integral is:  \n",
    "\n",
    "$$ \\iint_S \\mathrm{curl }\\,\\mathbf{F}\\cdot\\mathrm{d}\\mathbf{S} = -\\iint_R\\,\\mathrm{d}A = -\\pi$$"
   ]
  },
  {
   "cell_type": "markdown",
   "id": "53931205-8504-4b0e-9d5c-cf81ea34c680",
   "metadata": {},
   "source": [
    "where $R$ is said unit circle enclosed by $C$."
   ]
  },
  {
   "cell_type": "markdown",
   "id": "02bbc4c6-c56a-4be5-8c7a-2b4aae84154e",
   "metadata": {},
   "source": [
    "### Example 2  \n",
    "\n",
    "Suppose $\\mathbf{F} = x^2\\,\\mathbf{i} + x\\,\\mathbf{j} + z^2\\,\\mathbf{k}$ and $S$ is given by the graph of some function $z=g(x,y)$, oriented so $\\mathbf{n}$ points upwards.  \n",
    "\n",
    "Show that $\\displaystyle \\oint_C \\mathbf{F}\\cdot\\mathrm{d}\\mathbf{r}$ is equal to the area of $R$, where $C$ is the boundary of $S$, compatibly oriented, and $R$ is the projection of $S$ onto the $xy$-plane."
   ]
  },
  {
   "cell_type": "markdown",
   "id": "01530c0a-7690-43c4-ba60-f2a81a6584db",
   "metadata": {},
   "source": [
    "First note that $R$ is bounded by the projection of $C$ onto the $xy$-plane.  Said projection, henceforth $Q$, is tracked by $\\mathbf{p}$, where  \n",
    "\n",
    "$$ \\mathbf{r}:=\\mathbf{r}(t) = \\big\\langle x(t),y(t),z(t)\\big\\rangle \\quad\\quad\\text{and}\\quad\\quad \\mathbf{p} = \\big\\langle x(t),y(t),0\\big\\rangle$$"
   ]
  },
  {
   "cell_type": "markdown",
   "id": "dcb72c64-5175-4495-a9e6-535545305fec",
   "metadata": {},
   "source": [
    "Via Stoke's theorem,  \n",
    "\n",
    "$$ \\oint_C \\mathbf{F}\\cdot\\mathrm{d}\\mathbf{r} = \\iint_S \\mathrm{curl }\\,\\mathbf{F}\\cdot\\mathrm{d}\\mathbf{S} \\quad\\quad\\text{where } \\,\\mathbf{F} = \\big\\langle x^2,x,z^2\\big\\rangle$$"
   ]
  },
  {
   "cell_type": "markdown",
   "id": "424db279-cf50-4b59-8e19-594d01dc27dc",
   "metadata": {},
   "source": [
    "$$ \\mathrm{curl }\\,\\mathbf{F} = 0\\,\\mathbf{i} - 0\\,\\mathbf{j} + \\mathbf{k} = \\mathbf{k}$$"
   ]
  },
  {
   "cell_type": "markdown",
   "id": "1df7e111-6bbb-44d5-a984-a60d661a435c",
   "metadata": {},
   "source": [
    "Via equation (11a) of [V9.3-4](../DivergenceTheorem/V9.3-4.ipynb),  \n",
    "\n",
    "$$ \\mathrm{d}\\mathbf{S} = (-g_x\\,\\mathbf{i} - g_y\\,\\mathbf{j} + \\mathbf{k})\\,\\mathrm{d}x\\,\\mathrm{d}y$$"
   ]
  },
  {
   "cell_type": "markdown",
   "id": "832cf0e7-e76d-44cc-8e81-c01eb5a99414",
   "metadata": {},
   "source": [
    "Thus, the integrand is:  \n",
    "\n",
    "$$ \\mathrm{curl }\\,\\mathbf{F}\\cdot\\mathrm{d}\\mathbf{S} = \\mathrm{d}x\\,\\mathrm{d}y$$"
   ]
  },
  {
   "cell_type": "markdown",
   "id": "45718624-ce34-4710-a80e-7f4b95aee7d2",
   "metadata": {},
   "source": [
    "So,  \n",
    "\n",
    "$$ \\oint_C \\mathbf{F}\\cdot\\mathrm{d}\\mathbf{r} = \\iint_S \\mathrm{curl }\\,\\mathbf{F}\\cdot\\mathrm{d}\\mathbf{S} = \\iint_R \\,\\mathrm{d}A $$"
   ]
  },
  {
   "cell_type": "markdown",
   "id": "e45895b7-a8b6-441b-a7fd-1d1cdeaa2fc8",
   "metadata": {},
   "source": [
    "The integral on the right hand side of the above equation is equal to the area of $R$.  Q.E.D."
   ]
  },
  {
   "cell_type": "markdown",
   "id": "d97d2436-8f7b-48a2-8cef-e328037b58cb",
   "metadata": {},
   "source": [
    "## Interpretation of $\\mathrm{curl }\\,\\mathbf{F}$  \n",
    "\n",
    "Suppose now that $\\mathbf{F}$ represents the velocity vector field for a three-dimensional fluid flow.  Drawing on the interpretation we gave for the two-dimensional curl in [Section V4](CurlMeaning.ipynb), we can give the analog thereof for 3-space."
   ]
  },
  {
   "cell_type": "markdown",
   "id": "47e07d51-56b8-4844-ab43-8274b3d00dda",
   "metadata": {},
   "source": [
    "The essential step is to interpret the $\\mathbf{u}$-component of $(\\mathrm{curl }\\,\\mathbf{F})_0$, which is $\\mathrm{curl }\\,\\mathbf{F}$ at $P_0=(x_0,y_0,z_0)$, where $\\mathbf{u}$ is a unit vector placed so its tail is at $P_0$."
   ]
  },
  {
   "cell_type": "markdown",
   "id": "ac2c3645-38b8-492a-af01-dde36e4bea07",
   "metadata": {},
   "source": [
    "Place a little paddle wheel of radius $a$ in the flow so that its center is at $P_0$ and its axis of rotation points in the direction of $\\mathbf{u}$;  The tip of each paddle tracks a circular path that is compitably oriented with $\\mathbf{u}$.  By applying Stoke's theorem to this circular path, henceforth $C$, of radius $a$ and center at $P_0$, lying in the plane through $P_0$ and having normal direction $\\mathbf{u}$, we get, just as in [Section V4(p.4)](CurlMeaning.ipynb#Three-Dimensions), that"
   ]
  },
  {
   "cell_type": "markdown",
   "id": "7c6725d3-ff28-4b74-b353-457d4f7661c6",
   "metadata": {},
   "source": [
    "$$ s'(t) = \\frac{1}{2\\pi a}\\oint_C \\mathbf{F}\\cdot\\mathbf{t}\\,\\mathrm{d}s = \\frac{1}{2\\pi a}\\iint_S \\mathrm{curl }\\,\\mathbf{F}\\cdot\\mathbf{u}\\,\\mathrm{d}S$$"
   ]
  },
  {
   "cell_type": "markdown",
   "id": "170e9bc5-cc70-42da-9142-37cddcf6ce62",
   "metadata": {},
   "source": [
    "$$ \\approxeq \\frac{(\\mathrm{curl }\\,\\mathbf{F})_0\\cdot\\mathbf{u}}{2\\pi a}\\iint_S\\,\\mathrm{d}S = (\\mathrm{curl }\\,\\mathbf{F})_0\\cdot\\mathbf{u}\\,\\frac{\\pi a^2}{2\\pi a}$$"
   ]
  },
  {
   "cell_type": "markdown",
   "id": "39c64e71-21ee-4714-9911-7af9542d369f",
   "metadata": {},
   "source": [
    "$$ = \\frac{a}{2}\\,(\\mathrm{curl }\\,\\mathbf{F})_0\\cdot\\mathbf{u}$$"
   ]
  },
  {
   "cell_type": "markdown",
   "id": "a59e654c-47a0-46d1-8443-1a13c9fc23fb",
   "metadata": {},
   "source": [
    "where $s'(t)$ is the tangential velocity of the paddle wheel and $S$ is the circular disk enclosed by $C$.  Note that we could say that $S$ is an abstraction of the paddle wheel.  Of course, as the radius of the paddle wheel gets smaller, the more exact the above approximation becomes.  For an infinitismal paddle wheel:  \n",
    "\n",
    "$$ s'(t) = \\frac{a}{2}\\,(\\mathrm{curl }\\,\\mathbf{F})_0\\cdot\\mathbf{u}$$"
   ]
  },
  {
   "cell_type": "markdown",
   "id": "d3a485c3-c9b2-406d-aaa4-689523ac9c6d",
   "metadata": {},
   "source": [
    "That leaves us with:  \n",
    "\n",
    "$$ \\theta'(t) a  = \\omega_0 a= s'(t) \\quad\\therefore\\quad \\omega_0 = 0.5(\\mathrm{curl }\\,\\mathbf{F})_0\\cdot\\mathbf{u}$$"
   ]
  },
  {
   "cell_type": "markdown",
   "id": "90ef9eec-6896-449f-bf4d-fff4431c7cd3",
   "metadata": {},
   "source": [
    "Where $\\omega_0$ is the angular velocity of the infinitismal paddle wheel centered at $P_0$.  Finally,  \n",
    "\n",
    "$$ 2\\omega_0 = (\\mathrm{curl }\\,\\mathbf{F})_0 \\cdot \\mathbf{u}$$"
   ]
  },
  {
   "cell_type": "markdown",
   "id": "67826040-bcb0-4dc6-8345-11e9e0d00ebd",
   "metadata": {},
   "source": [
    "Moreover, since, assuming all that Stoke's theorem assumes, the above applies to any point in the flow that our paddle wheel may be centered,  \n",
    "\n",
    "$$ 2\\omega = \\mathrm{curl }\\,\\mathbf{F}\\cdot\\mathbf{u}$$"
   ]
  },
  {
   "cell_type": "markdown",
   "id": "bf849259-c851-463d-baa1-d1b040bb612c",
   "metadata": {},
   "source": [
    "Which is what was stated in aforementioned section."
   ]
  },
  {
   "cell_type": "markdown",
   "id": "f91c0414-1715-4440-b049-23d98c5b660e",
   "metadata": {},
   "source": [
    "## Problems  \n",
    "\n",
    "### Problem 1  \n",
    "\n",
    "Let $\\mathbf{F} = x^2\\,\\mathbf{i} + x\\,\\mathbf{j} + z^2\\,\\mathbf{k}$ and let $S$ be the graph of $z=g(x,y) = x^3 + xy^2 + y^4$ over the unit disk.  Use Stoke's theorem to compute $\\displaystyle \\oint_C \\mathbf{F}\\cdot\\mathrm{d}\\mathbf{r}$, where $C$ is the boundary of $S$."
   ]
  },
  {
   "cell_type": "markdown",
   "id": "2296f58c-77e4-40e7-b43b-2ab81dceaa09",
   "metadata": {},
   "source": [
    "The curve $C$ is tracked by $\\mathbf{r}$:  \n",
    "\n",
    "$$ \\mathbf{r}:=\\mathbf{r}(t) = \\big\\langle x(t),y(t),z(t)\\big\\rangle$$"
   ]
  },
  {
   "cell_type": "markdown",
   "id": "53637b0e-64d3-4135-bbbf-8ff59c8fc407",
   "metadata": {},
   "source": [
    "where,  \n",
    "\n",
    "$$ x:=x(t) = \\cos t \\quad\\quad y:=y(t)=\\sin t \\quad\\quad z:=z(t) = g\\big(x(t),y(t)\\big) = \\cos^3 t + \\cos t \\sin^2 t+\\sin^4 t$$"
   ]
  },
  {
   "cell_type": "markdown",
   "id": "a6e1eeb5-0569-41b7-b850-fb7dd5f6abfd",
   "metadata": {},
   "source": [
    "Computing the line integral directly might be tricky.  Thankfully, we have Stoke's theorem!  \n",
    "\n",
    "$$ \\oint_C \\mathbf{F}\\cdot\\mathrm{d}\\mathbf{r} = \\pi$$"
   ]
  },
  {
   "cell_type": "markdown",
   "id": "6449593f-d158-4155-a131-a34dccffcca6",
   "metadata": {},
   "source": [
    "The line integeral is equal to the area of the unit disk."
   ]
  },
  {
   "cell_type": "markdown",
   "id": "a4eee5c1-bc57-4823-baf1-0b3a54464889",
   "metadata": {},
   "source": [
    "### Problem 2  \n",
    "\n",
    "(a)"
   ]
  }
 ],
 "metadata": {
  "kernelspec": {
   "display_name": "Python 3 (ipykernel)",
   "language": "python",
   "name": "python3"
  },
  "language_info": {
   "codemirror_mode": {
    "name": "ipython",
    "version": 3
   },
   "file_extension": ".py",
   "mimetype": "text/x-python",
   "name": "python",
   "nbconvert_exporter": "python",
   "pygments_lexer": "ipython3",
   "version": "3.10.12"
  }
 },
 "nbformat": 4,
 "nbformat_minor": 5
}
