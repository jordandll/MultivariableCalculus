{
 "cells": [
  {
   "cell_type": "markdown",
   "id": "2c779bef-89ea-41ef-906b-6000291e695a",
   "metadata": {},
   "source": [
    "# Stoke's Theorem  \n",
    "\n",
    "## Introduction  \n",
    "\n",
    "The normal form of Green’s theorem generalizes in 3-space to the divergence theorem.\n",
    "What is the generalization to space of the tangential form of Green’s theorem?  Recall that Green's theorem says:  \n",
    "\n",
    "\\begin{equation}\\tag{1}\n",
    "    \\oint_C \\mathbf{F}\\cdot\\mathrm{d}\\mathbf{r} = \\iint_R \\mathrm{curl }\\,\\mathbf{F}\\,\\mathrm{d}A\n",
    "\\end{equation}"
   ]
  },
  {
   "cell_type": "markdown",
   "id": "91c2be3e-5b5a-4134-84e5-71eb02326b09",
   "metadata": {},
   "source": [
    "where $R$ is the plane region enclosed by $C$, a simple closed curve, and $\\mathbf{r}$ is the position vector that tracks $C$.  Assuming $\\mathbf{F}$ is a force field, the left side of the above equation represents work done by $\\mathbf{F}$ moving a point mass along $C$.  The natural generalization of this to 3-space would be that the integral $\\displaystyle \\oint_C \\mathbf{F}\\cdot\\mathrm{d}\\mathbf{r}$ represents work done moving a point mass along a simple closed space curve."
   ]
  },
  {
   "cell_type": "markdown",
   "id": "d225bd62-74ee-4f47-8668-3045d006e895",
   "metadata": {},
   "source": [
    "In trying to generalize the right-hand side of equation (1), the space curve $C$ must be the boundary of a surface $S$, which of course may not be a plane.  So it is natural to look for a generalization of the form:  \n",
    "\n",
    "$$ \\oint_C \\mathbf{F}\\cdot\\mathrm{d}\\mathbf{r} = \\iint_S \\text{(something derived from }\\mathbf{F}\\text{)}\\,\\mathrm{d}S$$"
   ]
  },
  {
   "cell_type": "markdown",
   "id": "3950e943-fbb8-4afc-95c4-cb1330522681",
   "metadata": {},
   "source": [
    "The surface integral on the right should have the following properties:  \n",
    "\n",
    "* If $\\mathrm{curl }\\,\\mathbf{F} = \\mathbf{0}$ in 3-space, then the surface integral should be equal to zero, since $\\mathbf{F}$ is, via equation (4) of V12, a gradient field in that case and thus, via equation (12) in V11, the line integral on the left hand side is equal to zero.\n",
    "* If $C$ is in the $xy$-plane with $S$ as it's interior and the field $\\mathbf{F}$ does not depend on $z$ and has no $\\mathbf{k}$-component (i.e. is like a 2D field) then the surface integral should be equal to $\\displaystyle\\iint_S (N_x-M_y)\\,\\mathrm{d}S$, which is what $\\mathrm{curl }\\,\\mathbf{F}$ would be equal to if $\\mathbf{F}$ actually were a 2D field."
   ]
  },
  {
   "cell_type": "markdown",
   "id": "57ef9e90-b6f9-4241-8250-23e26f2e7a18",
   "metadata": {},
   "source": [
    "These properties suggest that the theorem we are looking for is:  \n",
    "\n",
    "\\begin{equation}\\tag{2}\n",
    "    \\oint_C \\mathbf{F}\\cdot\\mathrm{d}\\mathbf{r} = \\iint_S \\mathrm{curl }\\,\\mathbf{F}\\cdot\\mathbf{n}\\,\\mathrm{d}S\n",
    "\\end{equation}"
   ]
  },
  {
   "attachments": {},
   "cell_type": "markdown",
   "id": "53be02f1-9db5-4092-a767-13aae5c8d122",
   "metadata": {},
   "source": [
    "Now, let's see if the right-hand side of equation (2) satisfies the second property mentioned above.  Let  \n",
    "\n",
    "$$ \\mathbf{F} = M\\,\\mathbf{i} + N\\,\\mathbf{j} \\quad\\quad\\text{where }\\, M = M(x,y) \\quad\\text{and}\\quad N = N(x,y)$$"
   ]
  },
  {
   "attachments": {},
   "cell_type": "markdown",
   "id": "920ad1e4-4cab-4d01-b1f4-1e62f85457a5",
   "metadata": {},
   "source": [
    "$$ \\mathrm{curl }\\,\\mathbf{F} = \\left|\\begin{matrix}\\mathbf{i} & \\mathbf{j} & \\mathbf{k} \\\\ \\partial_x & \\partial_y & \\partial_z \\\\ M & N & 0\\end{matrix}\\right|= (N_x - M_y)\\,\\mathbf{k}$$"
   ]
  },
  {
   "attachments": {},
   "cell_type": "markdown",
   "id": "a57671ab-3958-4df9-9df2-81be40b1ee4e",
   "metadata": {},
   "source": [
    "$$ \\mathrm{curl }\\,\\mathbf{F} \\cdot \\mathbf{n} = N_x - M_y$$  \n",
    "\n",
    "Therefore the second property is satisfied."
   ]
  }
 ],
 "metadata": {
  "kernelspec": {
   "display_name": "Python 3 (ipykernel)",
   "language": "python",
   "name": "python3"
  },
  "language_info": {
   "codemirror_mode": {
    "name": "ipython",
    "version": 3
   },
   "file_extension": ".py",
   "mimetype": "text/x-python",
   "name": "python",
   "nbconvert_exporter": "python",
   "pygments_lexer": "ipython3",
   "version": "3.10.12"
  }
 },
 "nbformat": 4,
 "nbformat_minor": 5
}
