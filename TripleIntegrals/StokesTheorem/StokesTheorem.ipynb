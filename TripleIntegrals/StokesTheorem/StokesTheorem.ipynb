{
 "cells": [
  {
   "cell_type": "markdown",
   "id": "2c779bef-89ea-41ef-906b-6000291e695a",
   "metadata": {},
   "source": [
    "# Stoke's Theorem  \n",
    "\n",
    "## Introduction  \n",
    "\n",
    "The normal form of Green’s theorem generalizes in 3-space to the divergence theorem.\n",
    "What is the generalization to space of the tangential form of Green’s theorem?  Recall that Green's theorem says:  \n",
    "\n",
    "\\begin{equation}\\tag{1}\n",
    "    \\oint_C \\mathbf{F}\\cdot\\mathrm{d}\\mathbf{r} = \\iint_R \\mathrm{curl }\\,\\mathbf{F}\\,\\mathrm{d}A\n",
    "\\end{equation}"
   ]
  },
  {
   "cell_type": "markdown",
   "id": "91c2be3e-5b5a-4134-84e5-71eb02326b09",
   "metadata": {},
   "source": [
    "where $R$ is the plane region enclosed by $C$, a simple closed curve, and $\\mathbf{r}$ is the position vector that tracks $C$.  Assuming $\\mathbf{F}$ is a force field, the left side of the above equation represents work done by $\\mathbf{F}$ moving a point mass along $C$.  The natural generalization of this to 3-space would be that the integral $\\displaystyle \\oint_C \\mathbf{F}\\cdot\\mathrm{d}\\mathbf{r}$ represents work done moving a point mass along a simple closed space curve."
   ]
  },
  {
   "cell_type": "markdown",
   "id": "d225bd62-74ee-4f47-8668-3045d006e895",
   "metadata": {},
   "source": [
    "In trying to generalize the right-hand side of equation (1), the space curve $C$ must be the boundary of a surface $S$, which of course may not be a plane.  So it is natural to look for a generalization of the form:  \n",
    "\n",
    "$$ \\oint_C \\mathbf{F}\\cdot\\mathrm{d}\\mathbf{r} = \\iint_S \\text{(something derived from }\\mathbf{F}\\text{)}\\,\\mathrm{d}S$$"
   ]
  },
  {
   "cell_type": "markdown",
   "id": "3950e943-fbb8-4afc-95c4-cb1330522681",
   "metadata": {},
   "source": [
    "The surface integral on the right should have the following properties:  \n",
    "\n",
    "* If $\\mathrm{curl }\\,\\mathbf{F} = \\mathbf{0}$ in 3-space, then the surface integral should be equal to zero, since $\\mathbf{F}$ is, via equation (4) of V12, a gradient field in that case and thus, via equation (12) in V11, the line integral on the left hand side is equal to zero.\n",
    "* If $C$ is in the $xy$-plane with $S$ as it's interior and the field $\\mathbf{F}$ does not depend on $z$ and has no $\\mathbf{k}$-component (i.e. is like a 2D field) then the surface integral should be equal to $\\displaystyle\\iint_S (N_x-M_y)\\,\\mathrm{d}S$, which is what $\\mathrm{curl }\\,\\mathbf{F}$ would be equal to if $\\mathbf{F}$ actually were a 2D field."
   ]
  },
  {
   "cell_type": "markdown",
   "id": "57ef9e90-b6f9-4241-8250-23e26f2e7a18",
   "metadata": {},
   "source": [
    "## The Theorem  \n",
    "\n",
    "These properties suggest that the theorem we are looking for is:  \n",
    "\n",
    "\\begin{equation}\\tag{2}\n",
    "    \\oint_C \\mathbf{F}\\cdot\\mathrm{d}\\mathbf{r} = \\iint_S \\mathrm{curl }\\,\\mathbf{F}\\cdot\\mathbf{n}\\,\\mathrm{d}S\n",
    "\\end{equation}"
   ]
  },
  {
   "attachments": {},
   "cell_type": "markdown",
   "id": "53be02f1-9db5-4092-a767-13aae5c8d122",
   "metadata": {},
   "source": [
    "Now, let's see if the right-hand side of equation (2) satisfies the second property mentioned above.  Let  \n",
    "\n",
    "$$ \\mathbf{F} = M\\,\\mathbf{i} + N\\,\\mathbf{j} \\quad\\quad\\text{where }\\, M = M(x,y) \\quad\\text{and}\\quad N = N(x,y)$$"
   ]
  },
  {
   "attachments": {},
   "cell_type": "markdown",
   "id": "920ad1e4-4cab-4d01-b1f4-1e62f85457a5",
   "metadata": {},
   "source": [
    "$$ \\mathrm{curl }\\,\\mathbf{F} = \\left|\\begin{matrix}\\mathbf{i} & \\mathbf{j} & \\mathbf{k} \\\\ \\partial_x & \\partial_y & \\partial_z \\\\ M & N & 0\\end{matrix}\\right|= (N_x - M_y)\\,\\mathbf{k}$$"
   ]
  },
  {
   "attachments": {},
   "cell_type": "markdown",
   "id": "a57671ab-3958-4df9-9df2-81be40b1ee4e",
   "metadata": {},
   "source": [
    "$$ \\mathrm{curl }\\,\\mathbf{F} \\cdot \\mathbf{n} = N_x - M_y$$  \n",
    "\n",
    "Therefore the second property is satisfied."
   ]
  },
  {
   "cell_type": "markdown",
   "id": "39475d5c-b747-4c44-98fb-9991ea342d7d",
   "metadata": {},
   "source": [
    "For the hypotheses, first of all $C$ should be a closed curve, since it is the boundary of $S$,\n",
    "and it should be oriented, since we have to calculate a line integral over it.  \n",
    "\n",
    "$S$ is an oriented surface, since we have to calculate the flux of $\\mathrm{curl }\\,\\mathbf{F}$ through it. This\n",
    "means that $S$ is two-sided, and one of the sides designated as positive; then the unit normal\n",
    "n is the one whose base is on the positive side. (There is no “standard” choice for positive\n",
    "side, since the surface $S$ is not closed."
   ]
  },
  {
   "cell_type": "markdown",
   "id": "c8b7044b-ae85-4b9d-b6a2-4aeb9d16db8c",
   "metadata": {},
   "source": [
    "It is important that $C$ and $S$ be compatibly oriented. By this we mean that the right-hand\n",
    "rule applies: when you walk in the positive direction on $C$, keeping $S$ to your left, then your\n",
    "head should point in the direction of $\\mathbf{n}$. The pictures give some examples.  \n",
    "\n",
    "The field $\\mathbf{F} = M\\,\\mathbf{i} + N\\, \\mathbf{j} + P\\,\\mathbf{k}$ should have continuous first partial derivatives, so that\n",
    "we will be able to integrate $\\mathrm{curl }\\, \\mathbf{F}$ . For the same reason, the piece of surface $S$ should be piecewise smooth and should be finite— i.e., not go off to infinity in any direction, and have finite area."
   ]
  },
  {
   "cell_type": "markdown",
   "id": "d5aa3aa7-6da1-4b8a-a816-b9809246eea2",
   "metadata": {},
   "source": [
    "## Examples  \n",
    "\n",
    "### Example 1  \n",
    "\n",
    "Verify the equality in Stoke's theorem when $S$ is the half of the unit sphere centered at the origin on which $y\\ge 0$, oriented so $\\mathbf{n}$ makes an acute angle iwth the positive $y$-axis.  Let $\\mathbf{F} = y\\,\\mathbf{i} + 2x\\,\\mathbf{j} + x\\,\\mathbf{k}$."
   ]
  },
  {
   "cell_type": "markdown",
   "id": "21398ad7-2720-4825-ad35-fd0f9e16e69c",
   "metadata": {},
   "source": [
    "$$ W = \\oint_C \\mathbf{F}\\cdot\\mathrm{d}\\mathbf{r} \\quad\\quad\\text{where }\\, \\mathbf{F} = \\langle y,2x,x\\rangle$$"
   ]
  },
  {
   "cell_type": "markdown",
   "id": "24658be4-0eb4-4d6a-bf1c-5f4122d04807",
   "metadata": {},
   "source": [
    "and $C$ is the projection of $S$ onto the $xz$-plane and is a unit circle centered at origin and is tracked by $\\mathbf{r}$.  Now let,  \n",
    "\n",
    "$$ \\mathbf{r} := \\mathbf{r}(t) = \\langle x(t), 0, z(t)\\rangle \\quad\\quad x:=x(t) = \\cos t \\quad\\quad z:=z(t) = -\\sin t$$"
   ]
  },
  {
   "cell_type": "markdown",
   "id": "21bfba10-dd50-4a91-8dd5-563bbf9c9d9b",
   "metadata": {},
   "source": [
    "The integrand of the line integral is:  \n",
    "\n",
    "$$ \\mathbf{F} \\cdot\\mathrm{d}\\mathbf{r} = y\\,\\mathrm{d}x + 2x\\,\\mathrm{d}y + x\\,\\mathrm{d}z$$"
   ]
  },
  {
   "cell_type": "markdown",
   "id": "393a85bf-0b39-4c2e-a073-2ae08f3cc91d",
   "metadata": {},
   "source": [
    "$$ \\mathrm{d}x = -\\sin t\\,\\mathrm{d}t \\quad\\quad\\text{and}\\quad\\quad \\mathrm{d}z = -\\cos t\\,\\mathrm{d}t$$"
   ]
  },
  {
   "cell_type": "markdown",
   "id": "33797106-dc36-43f9-af9a-ceb0300ce65e",
   "metadata": {},
   "source": [
    "$$ \\mathbf{F} \\cdot\\mathrm{d}\\mathbf{r} = -\\cos^2t\\,\\mathrm{d}t$$"
   ]
  },
  {
   "cell_type": "markdown",
   "id": "eaa7aa4e-b756-4363-aa4d-67171b5a2fa5",
   "metadata": {},
   "source": [
    "Finally, the line integral is:  \n",
    "\n",
    "$$ \\oint_C \\mathbf{F}\\cdot\\mathrm{d}\\mathbf{r} = -\\int_0^{2\\pi}\\cos^2 t\\,\\mathrm{d}t$$"
   ]
  },
  {
   "cell_type": "markdown",
   "id": "50812ef4-aa65-43d4-9b2e-8a65dbcd28d3",
   "metadata": {},
   "source": [
    "$$ = -0.5\\int_0^{2\\pi}\\cos 2t\\,\\mathrm{d}t - 0.5\\int_0^{2\\pi}\\,\\mathrm{d}t$$"
   ]
  },
  {
   "cell_type": "markdown",
   "id": "84252149-899a-4de5-ab3a-2689c9e0fbe2",
   "metadata": {},
   "source": [
    "$$ = -\\pi$$"
   ]
  },
  {
   "cell_type": "markdown",
   "id": "3fafcd6a-1280-4f4f-963a-298765c9e69f",
   "metadata": {},
   "source": [
    "To verify that  \n",
    "\n",
    "$$ \\cos^2t = 0.5\\cos2t + 0.5 $$"
   ]
  },
  {
   "cell_type": "markdown",
   "id": "607164ab-0912-49cf-801a-1fda7a9f8514",
   "metadata": {},
   "source": [
    "$$ \\frac{\\mathrm{d}\\cos^2 t}{\\mathrm{d}t} = -2\\cos t \\sin t = -\\sin2t$$"
   ]
  },
  {
   "cell_type": "markdown",
   "id": "6179378d-9f29-42db-a23d-fe41dfd9b07a",
   "metadata": {},
   "source": [
    "Let $f(t):= \\cos^2 t$.  \n",
    "\n",
    "$$ f'(t) = -2\\cos t\\sin t = -\\sin 2t$$"
   ]
  },
  {
   "cell_type": "markdown",
   "id": "492fefec-61ef-49d7-a23d-074e0e316adf",
   "metadata": {},
   "source": [
    "$$ f(t) = \\int f'(t)\\,\\mathrm{d}t = -\\int\\sin2 t\\,\\mathrm{d}t = 0.5\\cos 2t + K$$"
   ]
  },
  {
   "cell_type": "markdown",
   "id": "9defb3f8-ee9b-4b3f-90bf-978cfa46f8da",
   "metadata": {},
   "source": [
    "$$ f(0) = 0.5 + K = \\cos^2 0 = 1 \\quad\\therefore\\quad K = 0.5$$"
   ]
  },
  {
   "cell_type": "markdown",
   "id": "388bd0a9-c03d-4249-aa95-826d0d6a55ac",
   "metadata": {},
   "source": [
    "Finally,  \n",
    "\n",
    "$$ \\cos^2 t = 0.5\\cos 2t + 0.5$$"
   ]
  },
  {
   "cell_type": "markdown",
   "id": "ae70a72e-fa9d-41c3-9c56-afdee4ae60ed",
   "metadata": {},
   "source": [
    "As for the surface integral:  \n",
    "\n",
    "$$ \\mathrm{curl }\\,\\mathbf{F} = -(1)\\,\\mathbf{j} + (2 - 1)\\mathbf{k} = \\langle 0,-1,1\\rangle$$"
   ]
  },
  {
   "cell_type": "markdown",
   "id": "16c3dd12-3a28-4a56-91ef-8c6943316d39",
   "metadata": {},
   "source": [
    "$$ \\mathbf{n} = \\frac{\\langle x,y,z\\rangle}{|\\langle x,y,z\\rangle|} = \\langle x,y,z\\rangle$$"
   ]
  },
  {
   "cell_type": "markdown",
   "id": "7e11ccd4-b4aa-40eb-87fc-ffb3c672cb96",
   "metadata": {},
   "source": [
    "In spherical coordinates:  \n",
    "\n",
    "$$ x = r\\cos\\theta = \\rho\\sin\\phi\\cos\\theta\\quad\\quad y = r\\sin\\theta = \\rho\\sin\\phi\\sin\\theta\\quad\\quad z = \\rho\\cos\\phi$$"
   ]
  },
  {
   "cell_type": "markdown",
   "id": "1471edf4-8461-4e98-a0c1-06aeac0dc965",
   "metadata": {},
   "source": [
    "$$ \\mathbf{n} = \\sin\\phi\\cos\\theta\\,\\mathbf{i} + \\sin\\phi\\sin\\theta\\,\\mathbf{j} + \\cos\\phi\\,\\mathbf{k}$$"
   ]
  },
  {
   "cell_type": "markdown",
   "id": "1defc1fc-ad30-4c81-b5f6-4b632df8d02e",
   "metadata": {},
   "source": [
    "The surface area element is given by:  \n",
    "\n",
    "$$ \\mathrm{d}S = \\rho^2\\sin\\phi\\,\\mathrm{d}\\phi\\,\\mathrm{d}\\theta$$"
   ]
  },
  {
   "cell_type": "markdown",
   "id": "66073c5c-505a-4e55-8bc0-aee7650239fa",
   "metadata": {},
   "source": [
    "Thus, the integrand is:  \n",
    "\n",
    "$$ \\mathrm{curl }\\,\\mathbf{F}\\cdot\\mathrm{d}\\mathbf{S} = (\\cos\\phi-\\sin\\phi\\sin\\theta)\\rho^2\\sin\\phi\\,\\mathrm{d}\\phi\\,\\mathrm{d}\\theta$$"
   ]
  },
  {
   "cell_type": "markdown",
   "id": "52ca417d-6bce-4128-9d68-a64d32defa8c",
   "metadata": {},
   "source": [
    "Our surface integral is:  \n",
    "\n",
    "$$ \\iint_S \\mathrm{curl }\\,\\mathbf{F}\\cdot\\mathrm{d}\\mathbf{S} = \\iint_S (\\cos\\phi-\\sin\\phi\\sin\\theta)\\sin\\phi\\,\\mathrm{d}\\phi\\,\\mathrm{d}\\theta$$"
   ]
  },
  {
   "cell_type": "markdown",
   "id": "18880921-11fd-4c49-882b-4284982f6d5c",
   "metadata": {},
   "source": [
    "$$ = \\int_{-0.5\\pi}^{0.5\\pi}\\int_0^{0.5\\pi}(\\cos\\phi-\\sin\\phi\\sin\\theta)\\sin\\phi\\,\\mathrm{d}\\phi\\,\\mathrm{d}\\theta +\\int_{-0.5\\pi}^{0.5\\pi}\\int_{0.5\\pi}^\\pi(\\cos\\phi-\\sin\\phi\\sin\\theta)\\sin\\phi\\,\\mathrm{d}\\phi\\,\\mathrm{d}\\theta$$"
   ]
  },
  {
   "cell_type": "markdown",
   "id": "7461d487-0647-4b89-bac3-4f452506a1b3",
   "metadata": {},
   "source": [
    "$$ = \\int_{-0.5\\pi}^{0.5\\pi}\\int_0^\\pi(\\cos\\phi-\\sin\\phi\\sin\\theta)\\sin\\phi\\,\\mathrm{d}\\phi\\,\\mathrm{d}\\theta$$"
   ]
  },
  {
   "cell_type": "markdown",
   "id": "ce4df717-3ef4-4c15-9b90-e8836035f8c4",
   "metadata": {},
   "source": [
    "$$ \\int_0^\\pi\\big(0.5\\sin2\\phi - \\sin^2\\phi\\sin\\theta\\big)\\,\\mathrm{d}\\phi$$"
   ]
  },
  {
   "cell_type": "markdown",
   "id": "9627d7b7-07f7-4345-9c05-7bab6af04e1a",
   "metadata": {},
   "source": [
    "$$ = -\\int_0^\\pi\\sin^2\\phi\\sin\\theta\\,\\mathrm{d}\\phi = -\\int_0^\\pi\\big(1-\\cos^2\\phi\\big)\\sin\\theta\\,\\mathrm{d}\\phi$$"
   ]
  },
  {
   "cell_type": "markdown",
   "id": "680e8733-7fad-4799-b6ec-fb2da067f8e5",
   "metadata": {},
   "source": [
    "$$ = -\\pi\\sin\\theta + 0.5\\sin\\theta\\int_0^\\pi(1+\\cos2\\phi)\\,\\mathrm{d}\\phi$$"
   ]
  },
  {
   "cell_type": "markdown",
   "id": "7b6f8e5a-518f-4be7-a229-33a1f4beccd8",
   "metadata": {},
   "source": [
    "$$ = -0.5\\pi\\sin\\theta$$"
   ]
  },
  {
   "cell_type": "markdown",
   "id": "8318ac93-198c-4a2a-b88f-1e69cf08ed84",
   "metadata": {},
   "source": [
    "$$ \\iint_S \\mathrm{curl }\\,\\mathbf{F}\\cdot\\mathrm{d}\\mathbf{S} = -0.5\\pi\\int_{-0.5\\pi}^{0.5\\pi}\\sin\\theta\\,\\mathrm{d}\\theta $$"
   ]
  }
 ],
 "metadata": {
  "kernelspec": {
   "display_name": "Python 3 (ipykernel)",
   "language": "python",
   "name": "python3"
  },
  "language_info": {
   "codemirror_mode": {
    "name": "ipython",
    "version": 3
   },
   "file_extension": ".py",
   "mimetype": "text/x-python",
   "name": "python",
   "nbconvert_exporter": "python",
   "pygments_lexer": "ipython3",
   "version": "3.10.12"
  }
 },
 "nbformat": 4,
 "nbformat_minor": 5
}
