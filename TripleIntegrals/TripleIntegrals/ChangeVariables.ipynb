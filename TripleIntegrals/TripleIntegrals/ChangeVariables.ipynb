{
 "cells": [
  {
   "cell_type": "markdown",
   "id": "05ab4499-c0e1-466b-9550-3d5fb7e7a22c",
   "metadata": {},
   "source": [
    "# Change in Variables\n",
    "\n",
    "## Changing Coordinates in Triple Integrals\n",
    "\n",
    "Here the coordinate change will involve three functions:  \n",
    "\n",
    "$$ u:=u(x,y,z) \\quad\\quad v:=v(x,y,z)\\quad\\quad w:=w(x,y,z)$$"
   ]
  },
  {
   "cell_type": "markdown",
   "id": "e9763c2d-9c47-409a-a51f-a329b40dbbf3",
   "metadata": {},
   "source": [
    "but the general principles remain the same. The new coordinates $u$, $v$, and $w$ give a three-\n",
    "dimensional grid, made up of the three families of contour surfaces of $u$, $v$, and $w$. Limits\n",
    "are put in by the kind of reasoning we used for double integrals. What we still need is the\n",
    "formula for the new volume element $\\mathrm{d}V$."
   ]
  },
  {
   "cell_type": "markdown",
   "id": "8d4c45a2-dc2e-474c-880a-eccb848bd808",
   "metadata": {},
   "source": [
    "To get the volume of the little six-sided region $\\Delta V$ of space bounded by three pairs of\n",
    "these contour surfaces, we note that nearby contour surfaces are approximately parallel,\n",
    "so that $\\Delta V$ is approximately a parallelepiped, whose volume is (up to sign) the $3 \\times 3$\n",
    "determinant whose rows are the vectors forming the three edges of $\\Delta V$ meeting at a corner.\n",
    "These vectors are calculated as in section $2$; after passing to the limit we get  \n",
    "\n",
    "\\begin{equation}\\tag{24}\n",
    "    \\mathrm{d}V = \\left|\\frac{\\partial (x,y,z)}{\\partial (u,v,w)}\\right|\\,\\mathrm{d}w\\,\\mathrm{d}v\\,\\mathrm{d}u\n",
    "\\end{equation}"
   ]
  },
  {
   "cell_type": "markdown",
   "id": "a703b57b-4edc-407d-9def-7815b8fb00c3",
   "metadata": {},
   "source": [
    "where the key factor is the **Jacobian**.  \n",
    "\n",
    "\\begin{equation}\\tag{25}\n",
    "    \\frac{\\partial (x,y,z)}{\\partial (u,v,w)} = \\left|\\begin{matrix}x_u & x_v & x_w \\\\ y_u & y_v & y_w \\\\ z_u & z_v & z_w\\end{matrix}\\right|\n",
    "\\end{equation}"
   ]
  },
  {
   "cell_type": "markdown",
   "id": "d53d5ed5-4142-4214-9497-5bbd571e90cf",
   "metadata": {},
   "source": [
    "To ellaborate on the above, let's first recap the formula that gives the area element in terms of $u$ and $v$ and it's proof first."
   ]
  },
  {
   "cell_type": "markdown",
   "id": "9f6b3e06-39fa-4276-8ea8-b7794f1a1f1f",
   "metadata": {},
   "source": [
    "### Changing Coordinates in Double Integrals  \n",
    "\n",
    "Suppose we want to go from $x,y$ rectilinear coordinates to $u,v$-coordinates.  This change will involve:  \n",
    "\n",
    "$$ u:=u(x,y) \\quad\\quad\\text{and}\\quad\\quad v:=v(x,y)$$"
   ]
  },
  {
   "cell_type": "markdown",
   "id": "2d85a45e-9788-4bd2-b56f-1ea300602bd3",
   "metadata": {},
   "source": [
    "The level curves (or contours lines) that map out the above functions form a $u,v$-grid.  To find the area element in terms of the new coordinates, we will need the formula found below."
   ]
  },
  {
   "cell_type": "markdown",
   "id": "b075b639-7dd5-4876-a84e-d08a80755d79",
   "metadata": {},
   "source": [
    "**Proposition**:  \n",
    "\n",
    "$$ \\mathrm{d}A = \\left|\\frac{\\partial (x,y)}{\\partial (u,v)}\\right|\\,\\mathrm{d}v\\,\\mathrm{d}u\\quad\\quad\\text{where }\\,J(x,y):=\\frac{\\partial (x,y)}{\\partial (u,v)} = \\left|\\begin{matrix}x_u & x_v \\\\ y_u & y_v\\end{matrix}\\right|$$"
   ]
  },
  {
   "cell_type": "markdown",
   "id": "b3fb9cef-905c-4dab-8051-3a40396deb00",
   "metadata": {},
   "source": [
    "**Proof**:  Let $\\Delta A$ be the area of the region $R$ bounded by the contour lines (level curves) given by the equations:  \n",
    "\n",
    "$$ u_1 = u(x,y) \\quad\\quad u_2 = u(x,y) \\quad\\quad v_1 = v(x,y) \\quad\\quad v_2=v(x,y)$$"
   ]
  },
  {
   "cell_type": "markdown",
   "id": "65f78eb4-19f2-4b77-a5b0-8457cef83158",
   "metadata": {},
   "source": [
    "where,  \n",
    "\n",
    "$$ u_1 \\ne u_2 \\quad\\quad\\text{and}\\quad\\quad v_1 \\ne v_2$$"
   ]
  },
  {
   "cell_type": "markdown",
   "id": "fb16fae5-4dda-4cd1-bc5d-665224a7d1ec",
   "metadata": {},
   "source": [
    "The vertices or corners of $R$ are, in $u,v$ coordinates:  \n",
    "\n",
    "$$ A = (u_1,v_1) \\quad\\quad B=(u_2,v_1) \\quad\\quad C = (u_1,v_2) \\quad\\quad D = (u_2,v_2)$$"
   ]
  },
  {
   "cell_type": "markdown",
   "id": "f01dee88-8682-4b7f-8149-2996df575cad",
   "metadata": {},
   "source": [
    "Now, let $\\mathbf{a}$ and $\\mathbf{b}$ be defined as:  \n",
    "\n",
    "$$ \\mathbf{a}:= \\overrightarrow{AB} \\quad\\quad\\text{and}\\quad\\quad \\mathbf{b} := \\overrightarrow{AC}$$"
   ]
  },
  {
   "cell_type": "markdown",
   "id": "03b636c6-d72a-409b-bbe8-c1e6e50cde1d",
   "metadata": {},
   "source": [
    "The area of $R$ is approximately equal to the area of the parallogram spanned by $\\mathbf{a}$ and $\\mathbf{b}$.  \n",
    "\n",
    "$$ \\Delta A \\approxeq \\left|\\begin{matrix}a_x & a_y \\\\ b_x & b_y\\end{matrix}\\right|$$"
   ]
  },
  {
   "cell_type": "markdown",
   "id": "4f9d638f-acf7-4367-97f0-c6816addc7d3",
   "metadata": {},
   "source": [
    "The linear approximation of $u(x,y)$ at $(x_1,y_1,u_1)$ is:  \n",
    "\n",
    "\\begin{equation}\\tag{1}\n",
    "    \\Delta u \\approxeq u_x\\Delta x + u_y\\Delta y\n",
    "\\end{equation}"
   ]
  },
  {
   "cell_type": "markdown",
   "id": "bccca5f2-f8c9-4d47-8edc-2d55e9fe6674",
   "metadata": {},
   "source": [
    "where  \n",
    "\n",
    "$$ \\Delta u = u-u_1 \\quad\\quad \\Delta x = x-x_1 \\quad\\quad \\Delta y = y-y_1$$"
   ]
  },
  {
   "cell_type": "markdown",
   "id": "569382b3-8e5d-472b-8afb-22811d3bbf74",
   "metadata": {},
   "source": [
    "Note that $(x_1,y_1)$ rests on the $u_1$ grid line.  Likewise, the linear approximation of $v(x,y)$ at $(x_1,y_1,v_1)$ is:  \n",
    "\n",
    "\\begin{equation}\\tag{2}\n",
    "    \\Delta v \\approxeq v_x\\Delta x + v_y\\Delta y\n",
    "\\end{equation}"
   ]
  },
  {
   "cell_type": "markdown",
   "id": "0d65ecaf-a6da-4010-a909-6bfaec92f7db",
   "metadata": {},
   "source": [
    "As you may have noticed, $(x_1,y_1)$ is equal to the intersection of the $u_1$ and $v_1$ grid lines.  In other words, our change in coordinates maps $(x_1,y_1)$ to $(u_1,v_1)$.  Now, suppose that:  \n",
    "\n",
    "$$ u_2 = u_1 + \\Delta u \\quad\\quad\\text{or}\\quad\\quad \\Delta u = u_2-u_1$$"
   ]
  },
  {
   "cell_type": "markdown",
   "id": "6a2f1a0d-257e-4d9a-8c7d-87bff94598b4",
   "metadata": {},
   "source": [
    "$$ v_2 = v_1 + \\Delta v \\quad\\quad\\text{or}\\quad\\quad \\Delta v = v_2-v_1$$"
   ]
  },
  {
   "cell_type": "markdown",
   "id": "3205fa9f-0516-4316-a4da-19f28dd56525",
   "metadata": {},
   "source": [
    "Moving from $A$ to $B$ means that:  \n",
    "\n",
    "$$ \\Delta u \\approxeq u_x\\Delta x + u_y\\Delta y$$"
   ]
  },
  {
   "cell_type": "markdown",
   "id": "703c4322-50e1-4b43-b98a-6f55490064e5",
   "metadata": {},
   "source": [
    "$$ \\Delta v = 0 \\approxeq v_x \\Delta x + v_y\\Delta y$$"
   ]
  },
  {
   "cell_type": "markdown",
   "id": "12550f18-75b9-4672-8ba3-b61566d4222e",
   "metadata": {},
   "source": [
    "Via the above two approximations,  \n",
    "\n",
    "$$ \\Delta y \\approxeq -\\frac{v_x}{v_y}\\Delta x = -\\frac{\\partial v}{\\partial x}\\,\\frac{\\partial y}{\\partial v} \\Delta x = -\\frac{\\partial y}{\\partial x}\\Delta x$$"
   ]
  },
  {
   "cell_type": "markdown",
   "id": "b6f27880-71ac-4c23-b211-e3a270e0d1e0",
   "metadata": {},
   "source": [
    "$$ \\Delta u \\approxeq u_x\\Delta x - \\frac{\\partial u}{\\partial y}\\frac{\\partial y}{\\partial x}\\Delta x $$"
   ]
  }
 ],
 "metadata": {
  "kernelspec": {
   "display_name": "Python 3 (ipykernel)",
   "language": "python",
   "name": "python3"
  },
  "language_info": {
   "codemirror_mode": {
    "name": "ipython",
    "version": 3
   },
   "file_extension": ".py",
   "mimetype": "text/x-python",
   "name": "python",
   "nbconvert_exporter": "python",
   "pygments_lexer": "ipython3",
   "version": "3.10.12"
  }
 },
 "nbformat": 4,
 "nbformat_minor": 5
}
