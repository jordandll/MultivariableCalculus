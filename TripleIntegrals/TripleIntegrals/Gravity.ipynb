{
 "cells": [
  {
   "cell_type": "markdown",
   "id": "e5f52c86-79e9-4912-b8c2-dbe375ed91ec",
   "metadata": {},
   "source": [
    "# Gravitational Attraction\n",
    "\n",
    "We use triple integration to calculate the gravitational attraction that a solid body $V$ of\n",
    "mass $M$ exerts on a unit point mass placed at the origin.  \n",
    "\n",
    "If the solid $V$ is also a point mass, then according to Newton’s law of gravitation, the\n",
    "force it exerts is given by  \n",
    "\n",
    "\\begin{equation}\\tag{1}\n",
    "    \\mathbf{F} = \\frac{GM}{|\\mathbf{R}|^2}\\,\\mathbf{r}\n",
    "\\end{equation}\n",
    "\n",
    "where $\\mathbf{R}$ is the position vector from origin to the point $V$, and the unit vector $\\mathbf{r}$ is its direction.  \n",
    "\n",
    "\\begin{equation}\\tag{1a}\n",
    "    \\mathbf{r} = \\frac{\\mathbf{R}}{|\\mathbf{R}|}\n",
    "\\end{equation}"
   ]
  }
 ],
 "metadata": {
  "kernelspec": {
   "display_name": "Python 3 (ipykernel)",
   "language": "python",
   "name": "python3"
  },
  "language_info": {
   "codemirror_mode": {
    "name": "ipython",
    "version": 3
   },
   "file_extension": ".py",
   "mimetype": "text/x-python",
   "name": "python",
   "nbconvert_exporter": "python",
   "pygments_lexer": "ipython3",
   "version": "3.10.12"
  }
 },
 "nbformat": 4,
 "nbformat_minor": 5
}
