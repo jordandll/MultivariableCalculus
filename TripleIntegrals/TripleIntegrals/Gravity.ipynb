{
 "cells": [
  {
   "cell_type": "markdown",
   "id": "e5f52c86-79e9-4912-b8c2-dbe375ed91ec",
   "metadata": {},
   "source": [
    "# Gravitational Attraction\n",
    "\n",
    "We use triple integration to calculate the gravitational attraction that a solid body $V$ of\n",
    "mass $M$ exerts on a unit point mass placed at the origin.  \n",
    "\n",
    "If the solid $V$ is also a point mass, then according to Newton’s law of gravitation, the\n",
    "force it exerts is given by  \n",
    "\n",
    "\\begin{equation}\\tag{1}\n",
    "    \\mathbf{F} = \\frac{GM}{|\\mathbf{R}|^2}\\,\\mathbf{r}\n",
    "\\end{equation}\n",
    "\n",
    "where $\\mathbf{R}$ is the position vector from origin to the point $V$, and the unit vector $\\mathbf{r}$ is its direction.  \n",
    "\n",
    "\\begin{equation}\\tag{1a}\n",
    "    \\mathbf{r} = \\frac{\\mathbf{R}}{|\\mathbf{R}|}\n",
    "\\end{equation}"
   ]
  },
  {
   "cell_type": "markdown",
   "id": "217d2779-aac8-424b-b8bb-638981fbb70d",
   "metadata": {},
   "source": [
    "If however the solid body $V$ is not a point mass, we have to use integration. We concen\n",
    "trate on finding just the $\\mathbf{k}$ component of the gravitational attraction — all our examples\n",
    "will have the solid body $V$ placed symmetrically so that its pull is all in the $k$ direction\n",
    "anyway.  \n",
    "\n",
    "To calculate this force, we divide up the solid $V$ into small pieces having volume $\\Delta V$ and\n",
    "mass $\\Delta m$. If the density function is $\\delta := \\delta(x, y, z)$, we have for the piece containing the point\n",
    "$(x, y, z)$  \n",
    "\n",
    "\\begin{equation}\\tag{2}\n",
    "    \\Delta m \\approxeq \\delta (x,y,z)\\Delta V\n",
    "\\end{equation}"
   ]
  },
  {
   "cell_type": "markdown",
   "id": "af70b036-9152-4314-8e05-f4d4c3bcdee9",
   "metadata": {},
   "source": [
    "Thinking of this small piece as being essentially a point mass at $(x, y, z)$, the force $\\Delta \\mathbf{F}$ it\n",
    "exerts on the unit mass at the origin is given by (1), and its $\\mathbf{k}$ component $\\Delta F_z$ is therefore  \n",
    "\n",
    "$$ \\Delta F_z = G\\,\\frac{\\Delta m}{|\\mathbf{R}|^2}\\,\\mathbf{r}\\cdot\\mathbf{k}$$"
   ]
  },
  {
   "cell_type": "markdown",
   "id": "f484b66f-e600-4b5a-9ef8-69fe48a06cc2",
   "metadata": {},
   "source": [
    "which, in spherical coordinates, becomes, via equation (2) and (1a) from the [Spherical Limits](SphericalLimits.ipynb) notebook,  \n",
    "\n",
    "$$ \\Delta F_z \\approxeq G\\,\\frac{\\cos\\phi}{\\rho^2}\\,\\delta \\Delta V = G\\,\\frac{\\delta \\Delta V}{\\rho^2}\\,\\cos\\phi$$"
   ]
  },
  {
   "cell_type": "markdown",
   "id": "8b928b42-9974-46aa-95f8-e0d1ae285a0c",
   "metadata": {},
   "source": [
    "To ellaborate on the above, the position vector in spherical coordinates is, via equations (1a,b,c) from the aforementioned notebook:  \n",
    "\n",
    "$$ \\mathbf{R} := \\mathbf{R}(\\rho,\\phi,\\theta) = \\rho\\sin\\phi\\cos\\theta\\,\\mathbf{i} + \\rho\\sin\\phi\\sin\\theta\\,\\mathbf{j} + \\rho\\cos\\phi\\,\\mathbf{k} = \\rho\\langle \\sin\\phi\\cos\\theta,\\sin\\phi\\sin\\theta,\\cos\\phi\\rangle$$"
   ]
  },
  {
   "cell_type": "markdown",
   "id": "95b29c4e-2d79-44df-aa32-21a2d46a00ff",
   "metadata": {},
   "source": [
    "which means that the unit vector or direction $\\mathbf{r}$ is, in spherical coordinates:  \n",
    "\n",
    "$$ \\mathbf{r} := \\mathbf{r}(\\rho,\\phi,\\theta) = \\frac{\\mathbf{R}(\\rho,\\phi,\\theta)}{\\rho} = \\sin\\phi\\cos\\theta\\,\\mathbf{i} + \\sin\\phi\\sin\\theta\\,\\mathbf{j} + \\cos\\phi\\,\\mathbf{k}$$"
   ]
  },
  {
   "cell_type": "markdown",
   "id": "9ac5efd0-db36-4eb1-b272-fda99d9bdf76",
   "metadata": {},
   "source": [
    "finally,  \n",
    "\n",
    "$$ \\mathbf{r}\\cdot\\mathbf{k} = \\mathbf{r}(\\rho,\\phi,\\theta)\\cdot\\langle 0,0,1\\rangle = \\cos\\phi$$"
   ]
  },
  {
   "cell_type": "markdown",
   "id": "2f4077cb-179e-4c3b-9c5b-fec2a92801df",
   "metadata": {},
   "source": [
    "The total force $\\mathbf{F}$ a solid volume $V$ with a mass of $M$ occupying a region $D$ in 3d-space exerts on a unit point mass at origin is:  \n",
    "\n",
    "\\begin{equation}\\tag{3}\n",
    "    \\mathbf{F} = G\\iiint_D\\frac{\\delta \\mathbf{r}}{|\\mathbf{R}|^2}\\,\\mathrm{d}V\n",
    "\\end{equation}\n",
    "\n",
    "where $M$ is  \n",
    "\n",
    "$$ M = \\iiint_D \\delta \\,\\mathrm{d}V$$"
   ]
  },
  {
   "cell_type": "markdown",
   "id": "30e10970-8e10-4b97-b86e-231fb3767e59",
   "metadata": {},
   "source": [
    "Moreover, the $\\mathbf{k}$ component of $\\mathbf{F}$ is:  \n",
    "\n",
    "\\begin{equation}\\tag{3a}\n",
    "    F_z = G\\iiint_D \\frac{\\delta \\cos\\phi}{\\rho^2}\\,\\mathrm{d}V\n",
    "\\end{equation}"
   ]
  },
  {
   "cell_type": "markdown",
   "id": "3a156f5c-7d3a-4574-963e-7a8c507ac6eb",
   "metadata": {},
   "source": [
    "Fully expressed in spherical coordinates, the above equation becomes:  \n",
    "\n",
    "\\begin{equation}\\tag{3a}\n",
    "    F_z = G\\iiint_D \\delta \\cos\\phi\\sin\\phi\\,\\mathrm{d}\\rho\\,\\mathrm{d}\\phi\\,\\mathrm{d}\\theta \n",
    "\\end{equation}"
   ]
  },
  {
   "cell_type": "markdown",
   "id": "b28157b4-9153-4a58-a079-67c902b92412",
   "metadata": {},
   "source": [
    "$$ = \\frac{G}{2}\\iiint_D\\delta\\sin2\\phi\\,\\mathrm{d}\\rho\\,\\mathrm{d}\\phi\\,\\mathrm{d}\\theta$$"
   ]
  },
  {
   "cell_type": "markdown",
   "id": "398fb7e8-5c45-4f42-92b4-c628acbe3fa8",
   "metadata": {},
   "source": [
    "### Example 1  \n",
    "\n",
    "Find the gravitational attraction of the upper half of a solid sphere of\n",
    "radius $a$ centered at the origin, if its density is given by $\\delta = \\sqrt{x^2 + y^2}$."
   ]
  },
  {
   "cell_type": "markdown",
   "id": "c7058196-bfe6-47ae-8c8b-a66243ed20ff",
   "metadata": {},
   "source": [
    "In spherical coordinates, the density is:  \n",
    "\n",
    "$$ \\delta := \\delta(\\rho,\\phi,\\theta) = r = \\rho\\sin\\phi$$"
   ]
  },
  {
   "cell_type": "markdown",
   "id": "720dc7b2-682b-474a-ad8d-cb0dd3420d3a",
   "metadata": {},
   "source": [
    "Thus,  \n",
    "\n",
    "$$ F_z = G\\int_0^{2\\pi}\\int_0^{0.5\\pi}\\int_0^a \\rho\\cos\\phi\\sin^2\\phi\\,\\mathrm{d}\\rho\\,\\mathrm{d}\\phi\\,\\mathrm{d}\\theta$$"
   ]
  },
  {
   "cell_type": "markdown",
   "id": "acc5ad7a-dd07-4be0-9874-298529bd9020",
   "metadata": {},
   "source": [
    "$$ = \\frac{Ga^2}{2}\\int_0^{2\\pi}\\int_0^{0.5\\pi}\\cos\\phi\\sin^2\\phi\\,\\mathrm{d}\\phi\\,\\mathrm{d}\\theta$$"
   ]
  },
  {
   "cell_type": "markdown",
   "id": "15f8561f-831f-44e5-96e2-baff0b3f49e1",
   "metadata": {},
   "source": [
    "The inner integral of the above double integral is:  \n",
    "\n",
    "$$ \\int_0^{0.5\\pi}\\cos\\phi\\sin^2\\phi\\,\\mathrm{d}\\phi = \\left.\\frac{\\sin^3\\phi}{3}\\right]_0^{0.5\\pi} = \\frac{1}{3}$$"
   ]
  },
  {
   "cell_type": "markdown",
   "id": "b3b50c2c-5a0c-45fa-9b2f-2c814d5dd90d",
   "metadata": {},
   "source": [
    "Finally,  \n",
    "\n",
    "$$ F_z = \\frac{Ga^2\\pi}{3}$$"
   ]
  },
  {
   "cell_type": "markdown",
   "id": "d4bce1e0-f944-458a-a34f-eb4b5a1ea6ea",
   "metadata": {},
   "source": [
    "### Example 2  \n",
    "\n",
    "Via symmetry,  \n",
    "\n",
    "$$ F_x,F_y = 0,0$$"
   ]
  },
  {
   "cell_type": "markdown",
   "id": "f90cad76-3eb0-4c9f-b54c-3d36bf81d2e2",
   "metadata": {},
   "source": [
    "which leaves us with:  \n",
    "\n",
    "$$ F_z = G\\iiint_D \\sin2\\phi\\,\\mathrm{d}\\rho\\,\\mathrm{d}\\phi\\,\\mathrm{d}\\theta$$"
   ]
  },
  {
   "cell_type": "markdown",
   "id": "c97627f5-8981-4f3a-9e9c-2d883fa797ad",
   "metadata": {},
   "source": [
    "The limits with respect to $\\rho$ are from $\\rho_1$ to $a\\sqrt{2}$, where  \n",
    "\n",
    "$$ z = a = \\rho_1\\cos\\phi \\quad\\quad\\text{or}\\quad\\quad \\rho_1 := \\rho(\\phi,\\theta) = a\\sec\\phi$$"
   ]
  },
  {
   "cell_type": "markdown",
   "id": "a110692f-c4bc-4c81-8e7f-df3acf7ce567",
   "metadata": {},
   "source": [
    "The limits with respect to $\\phi$ are from $0$ to $\\phi_2$, where  \n",
    "\n",
    "$$ \\cos\\phi_2 = \\frac{a}{2\\sqrt{2}} = \\frac{1}{\\sqrt{2}} \\quad\\quad\\text{or}\\quad\\quad \\phi_2 := \\phi(\\theta) = 45^\\circ$$"
   ]
  },
  {
   "cell_type": "markdown",
   "id": "19069e21-b917-49b6-8f6e-5edd03acf986",
   "metadata": {},
   "source": [
    "Thus,  \n",
    "\n",
    "$$ F_z = 0.5G\\int_0^{2\\pi}\\int_0^{0.25\\pi}\\int_{a\\sec\\phi}^{a\\sqrt{2}} \\sin2\\phi\\,\\mathrm{d}\\rho\\,\\mathrm{d}\\phi\\,\\mathrm{d}\\theta$$"
   ]
  },
  {
   "cell_type": "markdown",
   "id": "e8fce3ac-28ee-478e-add3-1e154ee567da",
   "metadata": {},
   "source": [
    "$$ = aG\\int_0^{2\\pi}\\int_0^{0.25\\pi}\\big(\\sqrt{2}-\\sec\\phi\\big)\\cos\\phi\\sin\\phi\\,\\mathrm{d}\\phi\\,\\mathrm{d}\\theta$$"
   ]
  },
  {
   "cell_type": "markdown",
   "id": "5026b0ea-4a2e-47f3-9724-5961e947abd4",
   "metadata": {},
   "source": [
    "$$ = aG(F_{z1} - F_{z2})$$"
   ]
  },
  {
   "cell_type": "markdown",
   "id": "2cd2402d-6fdc-4b8a-9e77-7e460d4e0d52",
   "metadata": {},
   "source": [
    "where,  \n",
    "\n",
    "$$ F_{z1} = \\frac{1}{\\sqrt{2}}\\int_0^{2\\pi}\\int_0^{0.25\\pi}\\sin2\\phi\\,\\mathrm{d}\\phi\\,\\mathrm{d}\\theta$$"
   ]
  },
  {
   "cell_type": "markdown",
   "id": "f02a565c-8407-44d6-88ad-efd68367103f",
   "metadata": {},
   "source": [
    "The inner integral of the above double integral is:  \n",
    "\n",
    "$$ \\int_0^{0.25\\pi}\\sin2\\phi\\,\\mathrm{d}\\phi = -\\Big.0.5\\cos2\\phi\\Big]_0^{0.25\\pi} = 0.5$$"
   ]
  },
  {
   "cell_type": "markdown",
   "id": "59c3f061-a04e-41bc-8c14-ec78ca8be34c",
   "metadata": {},
   "source": [
    "Thus,  \n",
    "\n",
    "$$ F_{z1} = \\frac{\\pi}{\\sqrt{2}}$$"
   ]
  },
  {
   "cell_type": "markdown",
   "id": "ed6c71ca-3026-4397-a715-7c1a29be39e5",
   "metadata": {},
   "source": [
    "And,  \n",
    "\n",
    "$$ F_{z2} = \\int_0^{2\\pi}\\int_0^{0.25\\pi}\\sin\\phi\\,\\mathrm{d}\\phi\\,\\mathrm{d}\\theta$$"
   ]
  },
  {
   "cell_type": "markdown",
   "id": "203383e5-5b23-4dae-8f64-333b3af5c50d",
   "metadata": {},
   "source": [
    "The inner integral of the above double integral is:  \n",
    "\n",
    "$$ \\int_0^{0.25\\pi}\\sin\\phi\\,\\mathrm{d}\\phi = -\\Big.\\cos\\phi\\Big]_0^{0.25\\pi} $$"
   ]
  },
  {
   "cell_type": "markdown",
   "id": "76a36283-c364-4f47-a8bd-5070d98fb2b6",
   "metadata": {},
   "source": [
    "$$ = 1 - \\frac{1}{\\sqrt{2}} = \\frac{\\sqrt{2}-1}{\\sqrt{2}}$$"
   ]
  },
  {
   "cell_type": "markdown",
   "id": "545cb540-687a-4b4c-98a9-5d745ed78217",
   "metadata": {},
   "source": [
    "Thus,  \n",
    "\n",
    "$$ F_{z2} = \\sqrt{2}\\pi\\Big(\\sqrt{2}-1\\Big)$$"
   ]
  },
  {
   "cell_type": "markdown",
   "id": "438ac562-c1e1-4716-a79a-565f5972778d",
   "metadata": {},
   "source": [
    "Finally,  \n",
    "\n",
    "$$ F_z = aG\\left(\\frac{\\pi}{\\sqrt{2}} - 2\\pi + \\sqrt{2}\\pi\\right)$$"
   ]
  },
  {
   "cell_type": "markdown",
   "id": "e1b7b1a2-19bc-49f4-a0ae-c997ad0a5f96",
   "metadata": {},
   "source": [
    "$$ = aG\\pi\\,\\frac{1 - 2\\sqrt{2} + 2}{\\sqrt{2}} = aG\\pi\\,\\frac{3-2\\sqrt{2}}{\\sqrt{2}}$$"
   ]
  },
  {
   "cell_type": "code",
   "execution_count": 1,
   "id": "6473a228-9d1b-4cb8-bd81-d50ff39e5cef",
   "metadata": {},
   "outputs": [],
   "source": [
    "import numpy as np"
   ]
  },
  {
   "cell_type": "code",
   "execution_count": 2,
   "id": "9b067157-93bd-4cb0-adc0-9d697c20ed0c",
   "metadata": {},
   "outputs": [
    {
     "data": {
      "text/plain": [
       "2.8284271247461903"
      ]
     },
     "execution_count": 2,
     "metadata": {},
     "output_type": "execute_result"
    }
   ],
   "source": [
    "2*np.sqrt(2)"
   ]
  },
  {
   "cell_type": "markdown",
   "id": "127daaf2-0f75-47e6-a772-bc8f1171088b",
   "metadata": {},
   "source": [
    "$$ 2\\left(\\frac{3\\sqrt{2}}{4} - 1\\right) = \\frac{3\\sqrt{2}}{2} - 2 = \\frac{3}{\\sqrt{2}} - 2$$"
   ]
  },
  {
   "cell_type": "markdown",
   "id": "24c5d5d7-3094-46bb-bea6-30ca2112fe2e",
   "metadata": {},
   "source": [
    "$$ = \\frac{3-2\\sqrt{2}}{\\sqrt{2}}$$"
   ]
  },
  {
   "cell_type": "markdown",
   "id": "7b43e6e1-cc42-4975-981e-377666327db2",
   "metadata": {},
   "source": [
    "### Problems:\n",
    "#### Applications of Spherical Coordinates\n",
    "\n",
    "Find the average distance of a point in a solid sphere of radius $a$ (and a center at origin) from:  "
   ]
  },
  {
   "cell_type": "markdown",
   "id": "e378c84e-5ff2-4639-b623-6115b94f63e7",
   "metadata": {},
   "source": [
    "**a)** the center  \n",
    "\n",
    "Let $\\rho$ be the distance and $\\overline{\\rho}$ be the average distance from center or origin.  \n",
    "\n",
    "$$ \\overline{\\rho} = \\frac{1}{V}\\iiint_D \\rho\\,\\mathrm{d}V$$"
   ]
  },
  {
   "cell_type": "markdown",
   "id": "db79ad7b-1507-4e47-a4eb-122bc0ea35de",
   "metadata": {},
   "source": [
    "where $V$ is the volume of the solid sphere, denoted as $D$.  \n",
    "\n",
    "$$ V = \\iiint_D \\,\\mathrm{d}V = \\int_0^{2\\pi}\\int_0^\\pi\\int_0^a \\rho^2\\sin\\phi\\,\\mathrm{d}\\rho\\,\\mathrm{d}\\phi\\,\\mathrm{d}\\theta$$"
   ]
  },
  {
   "cell_type": "markdown",
   "id": "ada4adb2-5576-4619-82a8-62575661344f",
   "metadata": {},
   "source": [
    "$$ = \\frac{a^3}{3}\\int_0^{2\\pi}\\int_0^\\pi \\sin\\phi\\,\\mathrm{d}\\phi\\,\\mathrm{d}\\theta$$"
   ]
  },
  {
   "attachments": {},
   "cell_type": "markdown",
   "id": "f2b721cb-f790-4a74-a1ac-0b3f2bc557f5",
   "metadata": {},
   "source": [
    "The inner integral of the above double integral is:  \n",
    "\n",
    "$$ \\int_0^\\pi\\sin\\phi\\,\\mathrm{d}\\phi = -\\Big.\\cos\\phi\\Big]_0^\\pi = 1 + 1 = 2$$"
   ]
  },
  {
   "cell_type": "markdown",
   "id": "4a47099a-3ff9-47ca-b505-164e72d5b660",
   "metadata": {},
   "source": [
    "Thus,  \n",
    "\n",
    "$$ V = \\frac{4\\pi a^3}{3}$$"
   ]
  },
  {
   "cell_type": "markdown",
   "id": "3bf0bf66-435e-4f63-be8b-8e3e134070f2",
   "metadata": {},
   "source": [
    "Now, back to $\\overline{\\rho}$ we have:  \n",
    "\n",
    "$$ \\overline{\\rho} = \\frac{1}{V}\\int_0^{2\\pi}\\int_0^\\pi\\int_0^a\\rho^3\\sin\\phi\\,\\mathrm{d}\\rho\\,\\mathrm{d}\\phi\\,\\mathrm{d}\\theta$$"
   ]
  },
  {
   "attachments": {},
   "cell_type": "markdown",
   "id": "6e19325e-555c-4b18-a630-35ae0721afc9",
   "metadata": {},
   "source": [
    "$$ = \\frac{a^4}{4V}\\int_0^{2\\pi}\\int_0^\\pi\\sin\\phi\\,\\mathrm{d}\\phi\\,\\mathrm{d}\\theta = \\frac{\\pi a^4}{V}$$"
   ]
  },
  {
   "cell_type": "markdown",
   "id": "3b908485-a092-4130-8e4a-0fefd42037bd",
   "metadata": {},
   "source": [
    "$$ = \\frac{3a}{4}$$"
   ]
  },
  {
   "cell_type": "markdown",
   "id": "5e2632ba-5371-4796-ac6c-e31eb7898ccc",
   "metadata": {},
   "source": [
    "**b)**  a fixed diameter  "
   ]
  },
  {
   "cell_type": "markdown",
   "id": "856f32dd-ab1e-4c66-b256-bb4d60900e01",
   "metadata": {},
   "source": [
    "Let $d$ and $\\overline{d}$ be the distance from the fixed diameter and the average distance from the fixed diameter respectively.  Assuming the segment of the $z$-axis from $(0,0,-a)$ to $(0,0,a)$ is the fixed diameter,  \n",
    "\n",
    "$$ \\overline{d} = \\overline{r} = \\frac{1}{V}\\iiint_D r\\,\\mathrm{d}V$$"
   ]
  },
  {
   "cell_type": "markdown",
   "id": "373d9725-007b-4feb-981c-f3a93d3da770",
   "metadata": {},
   "source": [
    "In spherical coordinates:  \n",
    "\n",
    "$$ r := r(\\rho,\\phi,\\theta) = \\rho\\sin\\phi$$"
   ]
  },
  {
   "cell_type": "markdown",
   "id": "194585f2-e493-47b8-9ef3-e054308df1e3",
   "metadata": {},
   "source": [
    "Thus,  \n",
    "\n",
    "$$ \\overline{r} = \\frac{1}{V}\\int_0^{2\\pi}\\int_0^\\pi\\int_0^a \\rho^3\\sin^2\\phi\\,\\mathrm{d}\\rho\\,\\mathrm{d}\\phi\\,\\mathrm{d}\\theta$$"
   ]
  },
  {
   "cell_type": "markdown",
   "id": "c8e947e5-b816-4268-a08f-2a847fb3f198",
   "metadata": {},
   "source": [
    "$$ = \\frac{a^4}{4V}\\int_0^{2\\pi}\\int_0^\\pi\\sin^2\\phi\\,\\mathrm{d}\\phi\\,\\mathrm{d}\\theta$$"
   ]
  },
  {
   "cell_type": "markdown",
   "id": "1a33a64b-6f8e-4498-8971-f92a84924d28",
   "metadata": {},
   "source": [
    "The integrand of the above is:    \n",
    "\n",
    "$$ \\sin^2\\phi = 1 - \\cos^2\\phi = 1 - 0.5\\cos2\\phi - 0.5 = \\frac{1}{2}\\big(1 - \\cos2\\phi\\big)$$"
   ]
  },
  {
   "cell_type": "markdown",
   "id": "e737645e-7280-4899-8409-01dd8e679492",
   "metadata": {},
   "source": [
    "The inner integral of the double integral is:  \n",
    "\n",
    "$$ \\int_0^\\pi\\sin^2\\phi\\,\\mathrm{d}\\phi = \\frac{\\pi}{2} - \\frac{1}{2}\\int_0^\\pi\\cos2\\phi\\,\\mathrm{d}\\phi$$"
   ]
  },
  {
   "cell_type": "markdown",
   "id": "05c628db-2d2b-45e0-bf43-44ebc6a6a16c",
   "metadata": {},
   "source": [
    "$$ \\int_0^\\pi \\cos2\\phi\\,\\mathrm{d}\\phi = 0.5\\Big.\\sin2\\phi\\Big]_0^\\pi = 0$$"
   ]
  },
  {
   "cell_type": "markdown",
   "id": "b0d47a0b-7884-4de3-8e6b-d7cc9d228775",
   "metadata": {},
   "source": [
    "Therefore  \n",
    "\n",
    "$$ \\int_0^\\pi\\sin^2\\phi\\,\\mathrm{d}\\phi = \\frac{\\pi}{2}$$"
   ]
  },
  {
   "cell_type": "markdown",
   "id": "ea8a7f4e-7ffb-4aef-bf07-669c604dce1a",
   "metadata": {},
   "source": [
    "Thus,  \n",
    "\n",
    "$$ \\overline{r} = \\frac{\\pi^2a^4}{4V}$$"
   ]
  },
  {
   "cell_type": "markdown",
   "id": "e31ac4d5-8160-41b2-b643-07e2e939791a",
   "metadata": {},
   "source": [
    "Recall that:  \n",
    "\n",
    "$$ V = \\frac{4\\pi a^3}{3}$$"
   ]
  },
  {
   "cell_type": "markdown",
   "id": "8ff16abe-05ba-43df-bc09-09a56a0ded7b",
   "metadata": {},
   "source": [
    "Finally,  \n",
    "\n",
    "$$ \\overline{r} = \\frac{3\\pi a}{16}$$"
   ]
  },
  {
   "cell_type": "markdown",
   "id": "756acf87-23a5-423b-ba40-d4069859d5d0",
   "metadata": {},
   "source": [
    "**c)** a fixed plane through the center"
   ]
  },
  {
   "cell_type": "markdown",
   "id": "d9fa53c3-60ee-4f8f-bdad-c2385d0948d6",
   "metadata": {},
   "source": [
    "Assuming the fixed plane is the $x,y$-plane,  \n",
    "\n",
    "$$ d = z = \\rho\\cos\\phi \\quad\\quad\\text{and}\\quad\\quad \\overline{d} = \\overline{z} = \\frac{1}{V}\\iiint_D z\\,\\mathrm{d}V$$"
   ]
  },
  {
   "cell_type": "markdown",
   "id": "18f501f3-e4b3-438e-8462-6a62917cf794",
   "metadata": {},
   "source": [
    "In spherical coordinates,  \n",
    "\n",
    "$$ \\overline{d} = \\frac{1}{V}\\int_0^{2\\pi}\\int_0^\\pi\\int_0^a \\rho^3\\cos\\phi\\sin\\phi\\,\\mathrm{d}\\rho\\,\\mathrm{d}\\phi\\,\\mathrm{d}\\theta$$"
   ]
  },
  {
   "cell_type": "markdown",
   "id": "e6711df3-cc83-4ecc-aa64-c5cc4ddbcd45",
   "metadata": {},
   "source": [
    "$$ = \\frac{a^4}{8V}\\int_0^{2\\pi}\\int_0^\\pi\\sin2\\phi\\,\\mathrm{d}\\phi\\,\\mathrm{d}\\theta$$"
   ]
  },
  {
   "cell_type": "markdown",
   "id": "cb94a06a-31b5-4b59-a4f5-d7c6c0d3ba43",
   "metadata": {},
   "source": [
    "$$ \\int_0^\\pi\\sin2\\phi\\,\\mathrm{d}\\phi = -0.5\\Big.\\cos2\\phi\\Big]_0^\\pi = 0$$"
   ]
  },
  {
   "cell_type": "markdown",
   "id": "4463f94a-94ce-474f-b09b-6b721be5541a",
   "metadata": {},
   "source": [
    "Finally,  \n",
    "\n",
    "$$ \\overline{d} = 0$$"
   ]
  },
  {
   "cell_type": "markdown",
   "id": "adaea530-ac4a-4184-bbb8-d97f6637912c",
   "metadata": {},
   "source": [
    "Which makes sense because of symmetry."
   ]
  }
 ],
 "metadata": {
  "kernelspec": {
   "display_name": "Python 3 (ipykernel)",
   "language": "python",
   "name": "python3"
  },
  "language_info": {
   "codemirror_mode": {
    "name": "ipython",
    "version": 3
   },
   "file_extension": ".py",
   "mimetype": "text/x-python",
   "name": "python",
   "nbconvert_exporter": "python",
   "pygments_lexer": "ipython3",
   "version": "3.10.12"
  }
 },
 "nbformat": 4,
 "nbformat_minor": 5
}
