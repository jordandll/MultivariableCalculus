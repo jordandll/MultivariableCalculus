{
 "cells": [
  {
   "cell_type": "markdown",
   "id": "17736fad-9567-4367-98a1-3d5ebf1cf060",
   "metadata": {},
   "source": [
    "## Limits in Itererated Integrals\n",
    "\n",
    "### Triple Integrals \n",
    "in Rectangular and Cylindrical Coordinates.  \n",
    "\n",
    "Basically, we do these the same way as double integrals.  To supply limits for $\\iiint_D \\,\\mathrm{d}z\\,\\mathrm{d}y\\,\\mathrm{d}x$ over the region $D$, we integrate first with respect to $z$.  Therefore we \n",
    "\n",
    "1. Hold $x$ and $y$ fixed and let $z$ increase -- or perhaps decrease(?) (i.e. let $z$ vary?).  This gives us a vertical line.\n",
    "2. Integrate from the $z$-value where the vertical line enters the region $D$ to the $z$-value where it leaves $D$.\n",
    "3. Supply the remaining limits (in either $x,y$-coordiates or polar coordinates, which is what we would do if originally operating in cylindrical coodinates) so that all vertical lines which intersect $D$ are included.  This means that we will be integrating the remaining double integral over the region $R$ in the $x,y$-plane which $D$ projects onto.\n",
    "\n"
   ]
  },
  {
   "cell_type": "markdown",
   "id": "e142bf66-6833-42fc-b6f1-0c396b5f8f67",
   "metadata": {},
   "source": [
    "#### Example  \n",
    "\n",
    "Suppose $D$ is the region lying between the two paraboloids:  \n",
    "\n",
    "$$ z := f_1(x,y) = x^2 + y^2 \\quad\\quad\\text{and}\\quad\\quad z:=f_2(x,y) =4-x^2 - y^2$$"
   ]
  },
  {
   "cell_type": "markdown",
   "id": "033acbeb-80dc-4c16-937c-bb0899b1ba02",
   "metadata": {},
   "source": [
    "$$ V = \\iiint_D \\,\\mathrm{d}z\\,\\mathrm{d}y\\,\\mathrm{d}x = \\iint_R\\int_{f_1(x,y)}^{f_2(x,y)}\\,\\mathrm{d}z\\,\\mathrm{d}A$$"
   ]
  },
  {
   "cell_type": "markdown",
   "id": "581526af-6dce-4c14-8188-24c756d47de8",
   "metadata": {},
   "source": [
    "$$ = 2\\iint_R\\big(2 - x^2 - y^2\\big)\\,\\mathrm{d}A$$"
   ]
  },
  {
   "cell_type": "markdown",
   "id": "c517accb-ae0e-4316-af56-5e4366cb089d",
   "metadata": {},
   "source": [
    "Using polar coordinates,  \n",
    "\n",
    "$$ V = 2\\iint_R \\big(2r - r^3\\big)\\,\\mathrm{d}r\\,\\mathrm{d}\\theta$$"
   ]
  },
  {
   "cell_type": "markdown",
   "id": "fa9f0251-5b01-47bb-8075-ff5cc521273e",
   "metadata": {},
   "source": [
    "The region $R$ is bounded by:  \n",
    "\n",
    "$$ R:\\; f_1(x,y) = f_2(x,y) \\quad\\hat{=}\\quad 2-x^2-y^2 = 0$$"
   ]
  },
  {
   "cell_type": "markdown",
   "id": "6c52cb03-f6f7-456a-b400-6d9cbf3c9140",
   "metadata": {},
   "source": [
    "which is a circle with a radius of $\\sqrt{2}$ centered at origin.  Thus,  \n",
    "\n",
    "$$ V = 2\\int_0^{2\\pi}\\int_0^\\sqrt{2}\\big(2r - r^3\\big)\\,\\mathrm{d}r\\,\\mathrm{d}\\theta$$"
   ]
  },
  {
   "cell_type": "markdown",
   "id": "e2a32bc9-21bf-4e43-bad2-355c1c2275a4",
   "metadata": {},
   "source": [
    "$$ = 2\\int_0^{2\\pi}\\big(2 - 1\\big)\\,\\mathrm{d}\\theta = 4\\pi$$"
   ]
  },
  {
   "cell_type": "markdown",
   "id": "83bb63a6-1fb9-4f65-b2c1-0597053d0b69",
   "metadata": {},
   "source": [
    "#### Example 1\n",
    "\n",
    "Find the moment of inertia $I$ of the tetrahedron shown about the $z$-axis. Assume the\n",
    "tetrahedron has density $\\delta=1$.  Our tetrahedron is bounded by $x+y+z=1$ and the coordinate planes."
   ]
  },
  {
   "cell_type": "markdown",
   "id": "8b3876b2-52f3-4981-814d-eba5bfdd24ab",
   "metadata": {},
   "source": [
    "$$ I = \\iiint_D d^2\\delta\\,\\mathrm{d}V = \\iiint_D\\big(x^2+y^2\\big)\\,\\mathrm{d}V$$"
   ]
  },
  {
   "cell_type": "markdown",
   "id": "1fd62250-46cb-418a-83b8-e7b9bce89142",
   "metadata": {},
   "source": [
    "where $d = r = \\sqrt{x^2+y^2}$ is the distance from the $z$-axis, which is equal to the $r$-coordinate of the $z,r,\\theta$-cylindrical coordinate system."
   ]
  },
  {
   "cell_type": "markdown",
   "id": "1be22df9-4a2f-4188-850a-1f69f050c525",
   "metadata": {},
   "source": [
    "$$ I = \\int_0^1\\int_0^{f(x)}\\int_0^{w(x,y)}\\big(x^2+y^2\\big)\\,\\mathrm{d}z\\,\\mathrm{d}y\\,\\mathrm{d}x$$"
   ]
  },
  {
   "cell_type": "markdown",
   "id": "77e29474-e2be-4935-8a22-a7aa66ac3f5f",
   "metadata": {},
   "source": [
    "where,  \n",
    "\n",
    "$$ z:= w(x,y) = 1-x-y \\quad\\quad\\text{and}\\quad\\quad y:=f(x) = 1-x$$"
   ]
  },
  {
   "cell_type": "markdown",
   "id": "f19d8288-7a7f-425a-bbef-cbac763b6b9a",
   "metadata": {},
   "source": [
    "Thus,  \n",
    "\n",
    "$$ I = \\iint_R \\big(x^2+y^2\\big)w(x,y)\\,\\mathrm{d}A$$"
   ]
  },
  {
   "cell_type": "markdown",
   "id": "b28fdd5b-0d7b-4d7c-9a4e-5143e75a3002",
   "metadata": {},
   "source": [
    "$$ = \\iint_R\\big(x^2 - x^3 - yx^2 + y^2 - xy^2 - y^3\\big)\\,\\mathrm{d}A$$"
   ]
  },
  {
   "cell_type": "markdown",
   "id": "4adb975f-e035-49f5-a834-7a4324a8996c",
   "metadata": {},
   "source": [
    "$$ \\int_0^1\\int_0^{f(x)}\\big(x^2-x^3-yx^2+y^2 - xy^2 - y^3\\big)\\,\\mathrm{d}y\\,\\mathrm{d}x$$"
   ]
  },
  {
   "cell_type": "markdown",
   "id": "79a33445-86d7-45c4-96ae-bce7351377b9",
   "metadata": {},
   "source": [
    "The inner integral of the above integral evaluates to:  \n",
    "\n",
    "$$ g'(x):=\\left(\\left.x^2y - x^3y - 0.5y^2x^2 + \\frac{y^3}{3} - \\frac{xy^3}{3} - \\frac{y^4}{4}\\right)\\right]_0^{f(x)}$$"
   ]
  },
  {
   "cell_type": "markdown",
   "id": "76aa8ca9-7f4b-46dc-88bc-8848970258ac",
   "metadata": {},
   "source": [
    "$$ = \\big(x^2-x^3\\big)f(x) - \\frac{f^2(x)x^2}{2} + \\frac{f^3(x)(1-x)}{3} - \\frac{f^4(x)}{4}$$"
   ]
  },
  {
   "cell_type": "markdown",
   "id": "3df2b73a-eb95-4157-b820-9f4edd428e3d",
   "metadata": {},
   "source": [
    "$$ = x^2 - 2x^3 + x^4 - \\frac{f^2(x)x^2}{2} + \\frac{f^4(x)}{12}$$"
   ]
  },
  {
   "cell_type": "markdown",
   "id": "172095e2-57dc-4c83-8c36-2d77facca657",
   "metadata": {},
   "source": [
    "$$ = x^2\\big(1-2x + x^2\\big) - 0.5x^2f^2(x) + \\frac{f^4(x)}{12}$$"
   ]
  },
  {
   "attachments": {},
   "cell_type": "markdown",
   "id": "ab9bcb96-2110-42c9-be5f-c47441b1b3c0",
   "metadata": {},
   "source": [
    "$$ =0.5x^2f^2(x) + \\frac{f^4(x)}{12} = f^2(x)\\left(\\frac{x^2}{2}+\\frac{f^2(x)}{12}\\right)$$"
   ]
  },
  {
   "cell_type": "markdown",
   "id": "a1d20029-494d-4278-b4ac-118a9e38b366",
   "metadata": {},
   "source": [
    "$$ = f^2(x)\\,\\frac{6x^2 + 1 - 2x + x^2}{12}$$"
   ]
  },
  {
   "cell_type": "markdown",
   "id": "6f33c301-c3ab-40d7-b9c4-cc736b336bc3",
   "metadata": {},
   "source": [
    "$$ = 0.5\\big(x^2 - 2x^3 + x^4\\big) + \\frac{f^4(x)}{12}$$"
   ]
  },
  {
   "cell_type": "markdown",
   "id": "a40321d6-2ae4-4941-ad2d-b2cdd12b64b7",
   "metadata": {},
   "source": [
    "The primitive integral of the above is:  \n",
    "\n",
    "$$ \\int g'(x)\\,\\mathrm{d}x = g(x) = \\frac{1}{2}\\left(\\frac{x^3}{3}-\\frac{x^4}{2}+\\frac{x^5}{5}\\right)-\\frac{f^5(x)}{60}$$"
   ]
  },
  {
   "cell_type": "markdown",
   "id": "b6860705-dc45-4243-89d4-c1c213653978",
   "metadata": {},
   "source": [
    "Finally,  \n",
    "\n",
    "$$ I = g(1)-g(0) = \\frac{1}{2}\\left(\\frac{1}{3}-\\frac{1}{2}+\\frac{1}{5}\\right) + \\frac{1}{60}$$"
   ]
  },
  {
   "cell_type": "markdown",
   "id": "1513afe8-b108-41e2-9f4e-858a19b250e4",
   "metadata": {},
   "source": [
    "$$ = \\frac{1}{2}\\frac{10-15+6}{30} + \\frac{1}{60}$$"
   ]
  },
  {
   "cell_type": "markdown",
   "id": "f774ebf7-f75f-4d94-8b51-f7b2da5c709d",
   "metadata": {},
   "source": [
    "$$ = \\frac{1}{30}$$"
   ]
  },
  {
   "cell_type": "markdown",
   "id": "c8861766-0295-4f64-994a-0a554c212416",
   "metadata": {},
   "source": [
    "#### Example 2\n",
    "\n",
    "Find the mass of a cylinder centered at the $z$-axis which has height $h$, radius $a$ and\n",
    "density $\\delta = x^2 + y^2$.  Assume the base (one of the circular faces) rests on the $x,y$-plane."
   ]
  },
  {
   "cell_type": "markdown",
   "id": "727ea481-1fa4-4611-8f51-c8a0e4c1d66d",
   "metadata": {},
   "source": [
    "$$ M = \\iiint_D \\delta\\,\\mathrm{d}V = \\int_0^{2\\pi}\\int_0^a\\int_0^h r^3\\,\\mathrm{d}z\\,\\mathrm{d}r\\,\\mathrm{d}\\theta$$"
   ]
  },
  {
   "attachments": {},
   "cell_type": "markdown",
   "id": "5cd61aea-45eb-4bf9-b811-23bc27896dc2",
   "metadata": {},
   "source": [
    "$$ =h \\int_0^{2\\pi}\\int_0^a r^3\\,\\mathrm{d}r\\,\\mathrm{d}\\theta = \\frac{h}{4}\\int_0^{2\\pi}a^4\\,\\mathrm{d}\\theta$$"
   ]
  },
  {
   "cell_type": "markdown",
   "id": "f90a9ec6-3a70-4ed8-a0d4-65dc6aa11804",
   "metadata": {},
   "source": [
    "$$ = \\frac{ha^4\\pi}{2}$$"
   ]
  },
  {
   "cell_type": "markdown",
   "id": "b9fcb0db-7f97-4f9a-905f-8be937e154fb",
   "metadata": {},
   "source": [
    "## Problems\n",
    "\n",
    "#### Problem 1\n",
    "\n",
    "Set up, but do not evaluate, an integral to find the volume of the region $D$ below the plane\n",
    "$z = y$ and above the paraboloid $z = x^2 + y^2$ "
   ]
  },
  {
   "cell_type": "markdown",
   "id": "33319d8e-ed8b-4a47-a048-7ff384864e25",
   "metadata": {},
   "source": [
    "Let \n",
    "\n",
    "$$ z:=w_1(x,y) = x^2 + y^2 \\quad\\quad\\text{and}\\quad\\quad z:=w_2(x,y) = y$$"
   ]
  },
  {
   "cell_type": "markdown",
   "id": "c8f0645f-fbd6-4d6f-b69d-ebe5cf1c0fa6",
   "metadata": {},
   "source": [
    "The projection of $D$ onto the $x,y$-plane, denoted as $R$, is bounded by:  \n",
    "\n",
    "$$ x^2+y^2 - y = 0 \\quad\\quad r\\sin\\theta = r^2 \\quad\\quad r := r(\\theta) = \\sin\\theta$$"
   ]
  },
  {
   "cell_type": "markdown",
   "id": "b63d8af9-ca24-46c3-b3ae-10b06496b9c4",
   "metadata": {},
   "source": [
    "Thus,  \n",
    "\n",
    "$$ V = \\iiint_D \\,\\mathrm{d}V = \\int_0^\\pi\\int_0^{\\sin\\theta}\\int_{r^2}^{r\\sin\\theta} r\\,\\mathrm{d}z\\,\\mathrm{d}r\\,\\mathrm{d}\\theta$$"
   ]
  },
  {
   "cell_type": "markdown",
   "id": "8ff99fe2-3fef-45f5-8c71-a2e1381b0f33",
   "metadata": {},
   "source": [
    "#### Problem 2\n",
    "\n",
    "Use cylindrical coordinates to find the center of mass of the hemisphere shown. (Assume\n",
    "$\\delta = 1$.)  The hemisphere is bounded by upper half of the sphere given by:  \n",
    "\n",
    "$$ x^2 + y^2 + z^2 = 4$$"
   ]
  },
  {
   "cell_type": "markdown",
   "id": "ce4bf5e5-63e8-4611-870f-7652b64c20de",
   "metadata": {},
   "source": [
    "This sphere of course has a radius of $2$.  Via symmetry,  \n",
    "\n",
    "$$ \\langle \\overline{x},\\overline{y}\\rangle = \\mathbf{0}$$"
   ]
  },
  {
   "cell_type": "markdown",
   "id": "476364d2-921a-4352-9b35-902f52a96a77",
   "metadata": {},
   "source": [
    "Now, we only need to find $\\overline{z}$.  \n",
    "\n",
    "$$ \\overline{\\mathbf{x}} = \\frac{1}{M}\\iiint_D \\delta \\,{\\mathbf{x}}\\,\\mathrm{d}V \\quad\\quad\\text{where }\\, \\overline{\\mathbf{x}} = \\langle\\overline{x},\\overline{y},\\overline{z}\\rangle$$"
   ]
  },
  {
   "cell_type": "markdown",
   "id": "07c1e82f-221e-4739-847f-6714b8124c80",
   "metadata": {},
   "source": [
    "and the total mass $M$ is given by:  \n",
    "\n",
    "$$ M = \\text{vol. }D = \\iiint_D\\,\\mathrm{d}V = \\int_0^{2\\pi}\\int_0^2 r\\sqrt{4-r^2}\\,\\mathrm{d}r\\,\\mathrm{d}\\theta$$"
   ]
  },
  {
   "attachments": {},
   "cell_type": "markdown",
   "id": "29a9c935-ccbb-4180-8bcf-292b7f9c4ccc",
   "metadata": {},
   "source": [
    "The inner integral of the above double integral evaluates to:  \n",
    "\n",
    "$$ \\left.-\\frac{\\sqrt{\\big(4-r^2\\big)^3}}{3}\\right]_0^{2} = \\frac{\\sqrt{4^3}}{3} = \\frac{8}{3}$$"
   ]
  },
  {
   "cell_type": "markdown",
   "id": "3c9b08c5-9052-462c-ae92-dd5b589628b2",
   "metadata": {},
   "source": [
    "Thus,  \n",
    "\n",
    "$$ M = \\frac{16\\pi}{3}$$"
   ]
  },
  {
   "cell_type": "markdown",
   "id": "63a3b1fc-faef-4f35-a417-ba21df57a971",
   "metadata": {},
   "source": [
    "Finally,  \n",
    "\n",
    "$$ \\overline{z} = \\frac{1}{M}\\iint_R\\int_0^\\sqrt{4-r^2} z\\,\\mathrm{d}z\\,\\mathrm{d}A = \\frac{3}{32\\pi}\\int_0^{2\\pi}\\int_0^2 \\big(4r-r^3\\big)\\,\\mathrm{d}r\\,\\mathrm{d}\\theta$$"
   ]
  },
  {
   "cell_type": "markdown",
   "id": "8f3b65de-ddb7-47f4-adc4-6cdd8cd19722",
   "metadata": {},
   "source": [
    "$$ = \\frac{3}{8\\pi}\\int_0^{2\\pi}\\,\\mathrm{d}\\theta = \\frac{2}{M}\\int_0^{2\\pi}\\,\\mathrm{d}\\theta  = \\frac{4\\pi}{M} = \\frac{3}{4}$$"
   ]
  }
 ],
 "metadata": {
  "kernelspec": {
   "display_name": "Python 3 (ipykernel)",
   "language": "python",
   "name": "python3"
  },
  "language_info": {
   "codemirror_mode": {
    "name": "ipython",
    "version": 3
   },
   "file_extension": ".py",
   "mimetype": "text/x-python",
   "name": "python",
   "nbconvert_exporter": "python",
   "pygments_lexer": "ipython3",
   "version": "3.10.12"
  }
 },
 "nbformat": 4,
 "nbformat_minor": 5
}
