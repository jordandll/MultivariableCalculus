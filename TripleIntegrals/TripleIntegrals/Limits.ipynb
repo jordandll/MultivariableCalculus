{
 "cells": [
  {
   "cell_type": "markdown",
   "id": "17736fad-9567-4367-98a1-3d5ebf1cf060",
   "metadata": {},
   "source": [
    "## Limits in Itererated Integrals\n",
    "\n",
    "### Triple Integrals \n",
    "in Rectangular and Cylindrical Coordinates.  \n",
    "\n",
    "Basically, we do these the same way as double integrals.  To supply limits for $\\iiint_D \\,\\mathrm{d}z\\,\\mathrm{d}y\\,\\mathrm{d}x$ over the region $D$, we integrate first with respect to $z$.  Therefore we \n",
    "\n",
    "1. Hold $x$ and $y$ fixed and let $z$ increase -- or perhaps decrease(?) (i.e. let $z$ vary?).  This gives us a vertical line.\n",
    "2. Integrate from the $z$-value where the vertical line enters the region $D$ to the $z$-value where it leaves $D$.\n",
    "3. Supply the remaining limits (in either $x,y$-coordiates or polar coordinates, which is what we would do if originally operating in cylindrical coodinates) so that all vertical lines which intersect $D$ are included.  This means that we will be integrating the remaining double integral over the region $R$ in the $x,y$-plane which $D$ projects onto.\n",
    "\n"
   ]
  },
  {
   "cell_type": "markdown",
   "id": "e142bf66-6833-42fc-b6f1-0c396b5f8f67",
   "metadata": {},
   "source": [
    "#### Example  \n",
    "\n",
    "Suppose $D$ is the region lying between the two paraboloids:  \n",
    "\n",
    "$$ z := f_1(x,y) = x^2 + y^2 \\quad\\quad\\text{and}\\quad\\quad z:=f_2(x,y) =4-x^2 - y^2$$"
   ]
  },
  {
   "cell_type": "markdown",
   "id": "033acbeb-80dc-4c16-937c-bb0899b1ba02",
   "metadata": {},
   "source": [
    "$$ V = \\iiint_D \\,\\mathrm{d}z\\,\\mathrm{d}y\\,\\mathrm{d}x = \\iint_R\\int_{f_1(x,y)}^{f_2(x,y)}\\,\\mathrm{d}z\\,\\mathrm{d}A$$"
   ]
  },
  {
   "cell_type": "markdown",
   "id": "581526af-6dce-4c14-8188-24c756d47de8",
   "metadata": {},
   "source": [
    "$$ = 2\\iint_R\\big(2 - x^2 - y^2\\big)\\,\\mathrm{d}A$$"
   ]
  },
  {
   "cell_type": "markdown",
   "id": "c517accb-ae0e-4316-af56-5e4366cb089d",
   "metadata": {},
   "source": [
    "Using polar coordinates,  \n",
    "\n",
    "$$ V = 2\\iint_R \\big(2r - r^3\\big)\\,\\mathrm{d}r\\,\\mathrm{d}\\theta$$"
   ]
  },
  {
   "cell_type": "markdown",
   "id": "fa9f0251-5b01-47bb-8075-ff5cc521273e",
   "metadata": {},
   "source": [
    "The region $R$ is bounded by:  \n",
    "\n",
    "$$ R:\\; f_1(x,y) = f_2(x,y) \\quad\\hat{=}\\quad 2-x^2-y^2 = 0$$"
   ]
  },
  {
   "cell_type": "markdown",
   "id": "6c52cb03-f6f7-456a-b400-6d9cbf3c9140",
   "metadata": {},
   "source": [
    "which is a circle with a radius of $\\sqrt{2}$ centered at origin.  Thus,  \n",
    "\n",
    "$$ V = 2\\int_0^{2\\pi}\\int_0^\\sqrt{2}\\big(2r - r^3\\big)\\,\\mathrm{d}r\\,\\mathrm{d}\\theta$$"
   ]
  },
  {
   "cell_type": "markdown",
   "id": "e2a32bc9-21bf-4e43-bad2-355c1c2275a4",
   "metadata": {},
   "source": [
    "$$ = 2\\int_0^{2\\pi}\\big(2 - 1\\big)\\,\\mathrm{d}\\theta = 4\\pi$$"
   ]
  }
 ],
 "metadata": {
  "kernelspec": {
   "display_name": "Python 3 (ipykernel)",
   "language": "python",
   "name": "python3"
  },
  "language_info": {
   "codemirror_mode": {
    "name": "ipython",
    "version": 3
   },
   "file_extension": ".py",
   "mimetype": "text/x-python",
   "name": "python",
   "nbconvert_exporter": "python",
   "pygments_lexer": "ipython3",
   "version": "3.10.12"
  }
 },
 "nbformat": 4,
 "nbformat_minor": 5
}
