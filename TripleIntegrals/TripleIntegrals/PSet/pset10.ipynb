{
 "cells": [
  {
   "cell_type": "markdown",
   "id": "5d86b1df-a47b-4d3e-9c9c-5795e692d0a3",
   "metadata": {},
   "source": [
    "# Problem Set 10"
   ]
  },
  {
   "cell_type": "code",
   "execution_count": 1,
   "id": "86c961dd-0b4a-4382-b47c-0c1bbd2190bb",
   "metadata": {},
   "outputs": [],
   "source": [
    "import numpy as np\n",
    "import matplotlib.pyplot as plt\n",
    "import matplotlib as mpl"
   ]
  },
  {
   "cell_type": "markdown",
   "id": "533a1a61-c4b1-45bf-bb01-1ec63679f9b6",
   "metadata": {},
   "source": [
    "## Part I\n",
    "\n",
    "Triple Integrals in\n",
    "\n",
    "### Rectangular and Cylindrical Coordinates"
   ]
  },
  {
   "cell_type": "markdown",
   "id": "0ad04238-4f1a-4aaf-9374-dadfd81b5303",
   "metadata": {},
   "source": [
    "#### $\\S 5\\mathrm{A} : 1$\n",
    "\n",
    "**a)**  Let \n",
    "\n",
    "$$ f:=f(x,y,z) = x+y+z$$"
   ]
  },
  {
   "cell_type": "markdown",
   "id": "f515e664-8564-4737-b3d2-3046eba17913",
   "metadata": {},
   "source": [
    "$$ I := \\int_0^2\\int_{-1}^1\\int_0^1 f(x,y,z)\\,\\mathrm{d}x\\,\\mathrm{d}y\\,\\mathrm{d}z$$"
   ]
  },
  {
   "cell_type": "markdown",
   "id": "938cfbb9-0538-488a-b94f-960691cac0f0",
   "metadata": {},
   "source": [
    "$$ = \\int_0^1f\\,\\mathrm{d}x = \\frac{1}{2} + y + z$$"
   ]
  },
  {
   "cell_type": "markdown",
   "id": "65eb6317-d10a-4ce4-a59a-181955e679a9",
   "metadata": {},
   "source": [
    "Thus,  \n",
    "\n",
    "$$ I = \\int_0^2\\int_{-1}^1 \\left(\\frac{1}{2}+y+z\\right)\\,\\mathrm{d}y\\,\\mathrm{d}z$$"
   ]
  },
  {
   "cell_type": "markdown",
   "id": "84209543-8830-4087-af49-c34123e100f4",
   "metadata": {},
   "source": [
    "$$ \\int_{-1}^1\\left(\\frac{1}{2}+y+z\\right)\\,\\mathrm{d}y = \\left.\\left(\\frac{y}{2} + \\frac{y^2}{2} + zy\\right)\\right]_{-1}^1$$"
   ]
  },
  {
   "cell_type": "markdown",
   "id": "93a9414e-e54b-44f7-9ce0-9e8ab7f507bf",
   "metadata": {},
   "source": [
    "$$ = 1 + 2z$$"
   ]
  },
  {
   "cell_type": "markdown",
   "id": "b327f1da-86a6-4d91-a6d3-30fd270c6fe6",
   "metadata": {},
   "source": [
    "Thus,  \n",
    "\n",
    "$$ I = \\int_0^2(1+2z)\\,\\mathrm{d}z = \\big.\\big(z + z^2\\big)\\big]_0^2$$"
   ]
  },
  {
   "cell_type": "markdown",
   "id": "5589df6c-a8ae-4923-ba63-60d05742b9db",
   "metadata": {},
   "source": [
    "$$ = 2 + 4 =  6$$"
   ]
  },
  {
   "cell_type": "markdown",
   "id": "785cace6-7078-4c22-b720-fcfcd489c2fc",
   "metadata": {},
   "source": [
    "**b)**  Let  \n",
    "\n",
    "$$ f:=f(x,y,z) = 2xy^2z$$"
   ]
  },
  {
   "cell_type": "markdown",
   "id": "c9c24061-77af-491a-ba61-a795f2dc038d",
   "metadata": {},
   "source": [
    "$$ I := \\int_0^2\\int_0^\\sqrt{y}\\int_0^{xy} f\\,\\mathrm{d}z\\,\\mathrm{d}x\\,\\mathrm{d}y$$"
   ]
  },
  {
   "cell_type": "markdown",
   "id": "f51f7f41-2379-4964-8c64-7b36ddd4e4aa",
   "metadata": {},
   "source": [
    "$$ = \\int_0^2\\int_0^\\sqrt{y}x^3y^4\\,\\mathrm{d}x\\,\\mathrm{d}y$$"
   ]
  },
  {
   "cell_type": "markdown",
   "id": "670ae966-94a5-42ce-a619-00827fbe769c",
   "metadata": {},
   "source": [
    "$$ = \\frac{1}{4}\\int_0^2 y^6\\,\\mathrm{d}y$$"
   ]
  },
  {
   "cell_type": "markdown",
   "id": "83cc8fe2-2674-4826-a5f0-0dd4ade6f546",
   "metadata": {},
   "source": [
    "$$ = \\frac{2^7}{7\\cdot 4} = \\frac{32}{7}$$"
   ]
  },
  {
   "cell_type": "markdown",
   "id": "337a3f7b-03db-459c-ae8f-1c8bb51c7700",
   "metadata": {},
   "source": [
    "#### $\\S 5\\mathrm{A} : 2$\n",
    "\n",
    "**a)**  Our prism, henceforth $D$, has vertices:  \n",
    "\n",
    "$$ A = (0,0,0) \\quad\\quad B = (0,1,0) \\quad\\quad C = (0,0,1)$$"
   ]
  },
  {
   "cell_type": "markdown",
   "id": "8bf4a6a2-bf89-4ded-aced-0e4d8d2c4e0d",
   "metadata": {},
   "source": [
    "$$ R = A + (1,0,0) = (1,0,0) \\quad\\quad Q = B + (1,0,0) = (1,1,0) $$"
   ]
  },
  {
   "cell_type": "markdown",
   "id": "b9c9253d-ac3b-4a36-b541-f2535b761b4e",
   "metadata": {},
   "source": [
    "$$ P = C + (1,0,0) = (1,0,1)$$"
   ]
  },
  {
   "cell_type": "markdown",
   "id": "82f5af20-d30d-4398-99ea-6b27b03dbd7a",
   "metadata": {},
   "source": [
    "It has two triangular faces.  \n",
    "\n",
    "$$ \\mathcal{R}_1 = \\overline{ABC} \\quad\\quad\\text{and}\\quad\\quad \\mathcal{R}_2 = \\overline{RQP}$$"
   ]
  },
  {
   "cell_type": "markdown",
   "id": "cfdee419-4e2d-4655-8ad2-d543f2b86767",
   "metadata": {},
   "source": [
    "It also has three rectangular faces.  \n",
    "\n",
    "$$ \\mathcal{R}_3 = \\overline{ACPR} \\quad\\quad \\mathcal{R}_4 = \\overline{ABQR} \\quad\\quad \\mathcal{R}_5 = \\overline{BCPQ}$$"
   ]
  },
  {
   "cell_type": "markdown",
   "id": "4865f0d2-43a8-4462-bdce-72b92e462a9b",
   "metadata": {},
   "source": [
    "$$ V = \\iiint_D\\,\\mathrm{d}V = \\int_0^1\\int_0^1\\int_0^{1-y}\\,\\mathrm{d}z\\,\\mathrm{d}y\\,\\mathrm{d}x$$"
   ]
  },
  {
   "cell_type": "markdown",
   "id": "992c4a0f-98e6-4027-8a21-e5bf1b216453",
   "metadata": {},
   "source": [
    "$$ = \\int_0^1\\int_0^1(1-y)\\,\\mathrm{d}y\\,\\mathrm{d}x$$"
   ]
  },
  {
   "cell_type": "markdown",
   "id": "5451401b-42e3-4eea-9bdc-f9ae32c17035",
   "metadata": {},
   "source": [
    "$$ = 1 - \\frac{1}{2}\\int_0^1\\,\\mathrm{d}x = 0.5$$"
   ]
  },
  {
   "cell_type": "markdown",
   "id": "c67bcb07-30c9-4033-99d2-79b530813109",
   "metadata": {},
   "source": [
    "**c)**  The following equations relate the $x,y,z$-rectangular coordinates with the $y,r,\\theta$-cyclindrical coordinates that we will be integrating with respect to.  \n",
    "\n",
    "$$ r = \\sqrt{x^2+z^2} \\quad\\quad \\sin\\theta = \\frac{z}{r} \\quad\\quad \\cos\\theta = \\frac{x}{r}$$"
   ]
  },
  {
   "cell_type": "markdown",
   "id": "1a70289f-9aae-4cfd-91a0-5f1d02b652ff",
   "metadata": {},
   "source": [
    "$$ V = \\iiint_D \\,\\mathrm{d}V = \\int_0^{0.5\\pi}\\int_0^1\\int_0^2 \\mathrm{d}y\\,\\mathrm{d}A$$"
   ]
  },
  {
   "cell_type": "markdown",
   "id": "1c24b197-5b7e-498b-af8d-2735c0904440",
   "metadata": {},
   "source": [
    "$$ = 2\\int_0^{0.5\\pi}\\int_0^1 r\\,\\mathrm{d}r\\,\\mathrm{d}\\theta$$"
   ]
  },
  {
   "cell_type": "markdown",
   "id": "22422a64-8a57-4c8a-96a7-593e57ca8740",
   "metadata": {},
   "source": [
    "$$ = 0.5\\pi$$"
   ]
  },
  {
   "cell_type": "markdown",
   "id": "212e845e-71b4-4217-ae69-1167c2b48b2b",
   "metadata": {},
   "source": [
    "Let's cross reference the above answer against one obtained from a different approach.  \n",
    "\n",
    "$$ 4V = \\pi a^2 h = \\pi 2$$"
   ]
  },
  {
   "cell_type": "markdown",
   "id": "00ad5312-f819-4a0d-a9d0-922d8fae5384",
   "metadata": {},
   "source": [
    "**d)**  The cone and the upper half of the sphere are, respectively and in cylindrical coordinates, given by:  \n",
    "\n",
    "$$ z := f_1(r,\\theta) = r \\quad\\quad\\text{and}\\quad\\quad z:= f_2(r,\\theta) = \\sqrt{2 - r^2}$$"
   ]
  },
  {
   "cell_type": "markdown",
   "id": "9108ed1d-e4c8-49c0-b85d-b78ce7e57217",
   "metadata": {},
   "source": [
    "Thus,  \n",
    "\n",
    "$$ V = \\iiint_D \\,\\mathrm{d}V = \\int_0^{2\\pi}\\int_0^{r_2}\\int_r^{f_2(r,\\theta)} \\mathrm{d}z\\,\\mathrm{d}A$$"
   ]
  },
  {
   "cell_type": "markdown",
   "id": "4429149b-6ec1-4cce-be2f-1bfd7fd67dbe",
   "metadata": {},
   "source": [
    "where  \n",
    "\n",
    "$$ r_2^2 = 2 - r_2^2 \\quad\\therefore\\quad r_2^2 = 1 \\quad\\therefore$$"
   ]
  },
  {
   "cell_type": "markdown",
   "id": "ec5c8ada-f875-408c-a90b-2d8d3df7ec85",
   "metadata": {},
   "source": [
    "$$ r_2 = \\pm 1$$"
   ]
  },
  {
   "cell_type": "markdown",
   "id": "2509d1e9-4ea9-4f55-a2c9-9d092c792935",
   "metadata": {},
   "source": [
    "Thus,  \n",
    "\n",
    "$$ V = \\int_0^{2\\pi}\\int_0^1 r\\big(\\sqrt{2-r^2} - r\\big)\\,\\mathrm{d}r\\,\\mathrm{d}\\theta = V_1 - V_2$$"
   ]
  },
  {
   "cell_type": "markdown",
   "id": "acc0e619-0aa9-4a4f-9823-63d125f5fdf6",
   "metadata": {},
   "source": [
    "where  \n",
    "\n",
    "$$ V_1 = \\int_0^{2\\pi}\\int_0^1 r\\sqrt{2-r^2}\\,\\mathrm{d}r\\,\\mathrm{d}\\theta$$"
   ]
  },
  {
   "cell_type": "markdown",
   "id": "f48922f1-465b-47cb-bde3-94777b9c67da",
   "metadata": {},
   "source": [
    "and,  \n",
    "\n",
    "$$ V_2 = \\int_0^{2\\pi}\\int_0^1 r^2\\,\\mathrm{d}r\\,\\mathrm{d}\\theta$$"
   ]
  },
  {
   "cell_type": "markdown",
   "id": "527493ab-1b50-483e-9bb3-a3f9423a5cb1",
   "metadata": {},
   "source": [
    "The inner integral of the double integral found in the identity of $V_1$ is:  \n",
    "\n",
    "$$ \\int_0^1r\\sqrt{2-r^2}\\,\\mathrm{d}r = -\\left.\\frac{\\sqrt{\\big(2-r^2\\big)^3}}{3}\\right]_0^1$$"
   ]
  },
  {
   "cell_type": "markdown",
   "id": "86301b8a-614a-48d4-a375-783007ccee22",
   "metadata": {},
   "source": [
    "$$ = -\\frac{1}{3} + \\frac{2\\sqrt{2}}{3} = \\frac{2\\sqrt{2}-1}{3}$$"
   ]
  },
  {
   "cell_type": "markdown",
   "id": "78346874-7d10-4fd7-b0bf-963c81ccdd87",
   "metadata": {},
   "source": [
    "Thus,  \n",
    "\n",
    "$$ V_1 = 2\\pi\\,\\frac{2\\sqrt{2}-1}{3}$$"
   ]
  },
  {
   "cell_type": "markdown",
   "id": "73e324ef-6700-4f47-9ddf-45985c3f1c43",
   "metadata": {},
   "source": [
    "As for $V_2$,  \n",
    "\n",
    "$$ V_2 = \\frac{2\\pi}{3}$$"
   ]
  },
  {
   "cell_type": "markdown",
   "id": "75117598-7149-44db-bf2a-a20a55b55a0b",
   "metadata": {},
   "source": [
    "Finally,  \n",
    "\n",
    "$$ V = 4\\pi\\,\\frac{\\sqrt{2}-1}{3}$$"
   ]
  },
  {
   "cell_type": "markdown",
   "id": "1b96e231-a67d-47c6-8fac-62eaee98ae9a",
   "metadata": {},
   "source": [
    "Now, let's cross reference the above answer against the one obtained by a different approach.  With this approach, we integrate with respect to spherical coordinates.  \n",
    "\n",
    "$$ V = \\int_0^{2\\pi}\\int_0^{0.25\\pi}\\int_0^\\sqrt{2}\\rho^2\\sin\\phi\\,\\mathrm{d}\\rho\\,\\mathrm{d}\\phi\\,\\mathrm{d}\\theta$$"
   ]
  },
  {
   "cell_type": "markdown",
   "id": "5b843557-6700-490a-8806-bd3eb823cb7f",
   "metadata": {},
   "source": [
    "$$  = \\frac{2\\sqrt{2}}{3}\\int_0^{2\\pi}\\int_0^{0.25\\pi}\\sin\\phi\\,\\mathrm{d}\\phi\\,\\mathrm{d}\\theta$$"
   ]
  },
  {
   "cell_type": "markdown",
   "id": "e3d3de65-26b8-4c41-af74-b9eb98d27316",
   "metadata": {},
   "source": [
    "The inner integral of the above double integral is:  \n",
    "\n",
    "$$ \\int_0^{0.25\\pi}\\sin\\phi\\,\\mathrm{d}\\phi = -\\Big.\\cos\\phi\\Big]_0^{0.25\\pi}$$"
   ]
  },
  {
   "cell_type": "markdown",
   "id": "1553dbbf-9a42-4f6a-b333-9fa831df4e67",
   "metadata": {},
   "source": [
    "$$ 1 - \\frac{1}{\\sqrt{2}} = \\frac{\\sqrt{2}-1}{\\sqrt{2}}$$"
   ]
  },
  {
   "cell_type": "markdown",
   "id": "82196eaa-9431-4b1c-b4e6-e5e8166389e2",
   "metadata": {},
   "source": [
    "Thus,  \n",
    "\n",
    "$$ V = \\frac{2}{3}\\,\\big(\\sqrt{2}-1\\big)\\int_0^{2\\pi}\\,\\mathrm{d}\\theta$$"
   ]
  },
  {
   "cell_type": "markdown",
   "id": "5628a6f2-58e8-4639-ba0a-84fbbb71becf",
   "metadata": {},
   "source": [
    "#### $\\S 5\\mathrm{A} : 3$  \n",
    "\n",
    "\\begin{equation}\\tag{3.1}\n",
    "    \\overline{\\mathbf{r}} = \\frac{1}{V}\\iiint_D \\mathbf{r}\\,\\mathrm{d}V\n",
    "\\end{equation}"
   ]
  },
  {
   "cell_type": "markdown",
   "id": "058812f5-b7e8-4178-b130-300a1044b210",
   "metadata": {},
   "source": [
    "The tetrahedron has four vertices.  \n",
    "\n",
    "$$ O = (0,0,0) \\quad\\quad A = (1,0,0) \\quad\\quad B = (0,1,0) \\quad\\quad C (0,0,1)$$"
   ]
  },
  {
   "cell_type": "markdown",
   "id": "78236da2-141f-4d7e-802c-b18b02834734",
   "metadata": {},
   "source": [
    "And four faces, all of which are triangles.  \n",
    "\n",
    "$$ R_1 = \\overline{ABC}\\quad\\quad R_2 = \\overline{OAB} $$"
   ]
  },
  {
   "cell_type": "markdown",
   "id": "e0f695d6-9446-4a6f-91eb-ef53a39e15e8",
   "metadata": {},
   "source": [
    "The rest of the faces are trivial.  $R_1$ and $R_2$ rest on the planes given, respectively, by:  \n",
    "\n",
    "$$ R_1:\\; z := f_2(x,y) = 1 - x - y \\quad\\quad\\text{and}\\quad\\quad R_2:\\; z := f_1(x,y) = 0$$"
   ]
  },
  {
   "cell_type": "markdown",
   "id": "955e3908-5feb-4916-80cb-4b30f5865986",
   "metadata": {},
   "source": [
    "Thus,  \n",
    "\n",
    "$$ V  = \\int_0^1\\int_0^{y_1}\\int_0^{f_2(x,y)}\\mathrm{d}z\\,\\mathrm{d}y\\,\\mathrm{d}x$$"
   ]
  },
  {
   "cell_type": "markdown",
   "id": "60758a4d-1b77-4e51-8262-3291e14627d2",
   "metadata": {},
   "source": [
    "where  \n",
    "\n",
    "$$ 1-x-y_1 = 0 \\quad\\therefore\\quad y_1:=f(x) = 1-x$$"
   ]
  },
  {
   "cell_type": "markdown",
   "id": "c07cb85c-9062-4ed3-a2e3-906781ab0611",
   "metadata": {},
   "source": [
    "$$ V = \\int_0^1\\int_0^{1-x}(1-x-y)\\,\\mathrm{d}y\\,\\mathrm{d}x$$"
   ]
  },
  {
   "cell_type": "markdown",
   "id": "7ecf82cd-2072-48f3-ab49-9e884f92cd98",
   "metadata": {},
   "source": [
    "$$ \\int_0^{1-x}(1-x-y)\\,\\mathrm{d}y = 1-x - x(1-x) - \\frac{(1-x)^2}{2}$$"
   ]
  },
  {
   "cell_type": "markdown",
   "id": "9914a215-d532-4cf8-b952-429d928e30e6",
   "metadata": {},
   "source": [
    "$$= 1 - 2x + x^2 - \\frac{1 - 2x + x^2}{2}$$"
   ]
  },
  {
   "cell_type": "markdown",
   "id": "a2c1c18e-fd04-47d8-8154-5eefda181d3a",
   "metadata": {},
   "source": [
    "$$ = \\frac{(1-x)^2}{2}$$"
   ]
  },
  {
   "cell_type": "markdown",
   "id": "30d6b122-93a4-44c4-b5b9-2990a4c9bc7c",
   "metadata": {},
   "source": [
    "Thus,  \n",
    "\n",
    "$$ V = \\int_0^1\\frac{(1-x)^2}{2}\\,\\mathrm{d}x$$"
   ]
  },
  {
   "cell_type": "markdown",
   "id": "6d984a9a-b021-4961-bc12-74328e058b01",
   "metadata": {},
   "source": [
    "\\begin{equation}\\tag{3.1a}\n",
    "    = \\frac{1}{2}\\,\\left(1 - 1 + \\frac{1}{3}\\right) = \\frac{1}{6}\n",
    "\\end{equation}"
   ]
  },
  {
   "cell_type": "markdown",
   "id": "292bd75e-66b8-462c-9c5f-a8673cfd0eb6",
   "metadata": {},
   "source": [
    "Via equations (3.1) and (3.1a),  \n",
    "\n",
    "\\begin{equation}\\tag{3.2}\n",
    "    \\overline{x} = 6\\int_0^1\\int_0^{1-x}\\int_0^{1-x-y}x\\,\\mathrm{d}z\\,\\mathrm{d}y\\,\\mathrm{d}x\n",
    "\\end{equation}"
   ]
  },
  {
   "cell_type": "markdown",
   "id": "7ed0e746-6d5c-45f6-a3cc-2ded9a79aaf9",
   "metadata": {},
   "source": [
    "$$ = 6\\int_0^1\\int_0^{1-x}\\big(x-x^2-xy\\big)\\,\\mathrm{d}y\\,\\mathrm{d}x$$"
   ]
  },
  {
   "cell_type": "markdown",
   "id": "e3c4e8bd-d8a5-4af3-8472-329098de92d6",
   "metadata": {},
   "source": [
    "$$ \\int_0^{1-x}\\big(x-x^2-xy\\big)\\,\\mathrm{d}y = x - x^2 - x^2 + x^3 - \\frac{x(1-x)^2}{2}$$"
   ]
  },
  {
   "cell_type": "markdown",
   "id": "51a6d89f-c8d3-47b8-8963-8e012ce10fc1",
   "metadata": {},
   "source": [
    "$$ = x\\big(1 - 2x + x^2\\big) - \\frac{x(1-x)^2}{2}$$"
   ]
  },
  {
   "cell_type": "markdown",
   "id": "446776c3-a468-46de-84a6-8a2b2600b19f",
   "metadata": {},
   "source": [
    "$$ = \\frac{x(1-x)^2}{2}$$"
   ]
  },
  {
   "attachments": {},
   "cell_type": "markdown",
   "id": "77f8b3c9-c2f1-4484-ae1d-1470a67b3424",
   "metadata": {},
   "source": [
    "Thus,  \n",
    "\n",
    "$$ \\overline{x} = 3\\int_0^1 x(1-x)^2\\,\\mathrm{d}x = 3\\left(\\frac{1}{2} - \\frac{2}{3} + \\frac{1}{4}\\right)$$"
   ]
  },
  {
   "cell_type": "markdown",
   "id": "173de969-0fed-4984-8fba-a0fd42687f33",
   "metadata": {},
   "source": [
    "\\begin{equation}\\tag{3.2}\n",
    "    = 3\\frac{6 - 8 + 3}{12} = \\frac{1}{4}\n",
    "\\end{equation}"
   ]
  },
  {
   "cell_type": "markdown",
   "id": "fc7e3b20-6c0d-4a59-9129-af0f3ea12c0e",
   "metadata": {},
   "source": [
    "Via equation (3.1) and (3.1a),  \n",
    "\n",
    "\\begin{equation}\\tag{3.3}\n",
    "    \\overline{y} = 6\\int_0^1\\int_0^{1-x}\\int_0^{1-x-y} y\\,\\mathrm{d}z\\,\\mathrm{d}y\\,\\mathrm{d}x\n",
    "\\end{equation}"
   ]
  },
  {
   "cell_type": "markdown",
   "id": "74b17ad2-8f0a-46d6-8c10-1c9ce6930297",
   "metadata": {},
   "source": [
    "$$ = 6\\int_0^1\\int_0^{1-x}\\big(y - xy - y^2\\big)\\,\\mathrm{d}y\\,\\mathrm{d}x$$"
   ]
  },
  {
   "cell_type": "markdown",
   "id": "3154415d-c5f8-4044-8237-599d966b4afc",
   "metadata": {},
   "source": [
    "$$ \\int_0^{1-x}\\big(y-xy-y^2\\big)\\,\\mathrm{d}y = \\left.\\left(\\frac{y^2}{2} - \\frac{xy^2}{2} - \\frac{y^3}{3}\\right)\\right]_0^{1-x}$$"
   ]
  },
  {
   "attachments": {},
   "cell_type": "markdown",
   "id": "f2f59649-43f1-437c-8899-1b853bfdaf32",
   "metadata": {},
   "source": [
    "$$ = \\left.y^2\\left(\\frac{1-x}{2}-\\frac{y}{3}\\right)\\right]_0^{1-x} =(1-x)^2\\left(\\frac{1-x}{2}-\\frac{1-x}{3}\\right)$$"
   ]
  },
  {
   "cell_type": "markdown",
   "id": "457324a6-945e-4cb4-a567-ab5201c258eb",
   "metadata": {},
   "source": [
    "$$ = \\frac{1-x}{6}(1-x)^2 = \\frac{(1-x)^3}{6}$$"
   ]
  },
  {
   "cell_type": "markdown",
   "id": "435e2cb4-cd76-4036-bd8c-686ebfa58972",
   "metadata": {},
   "source": [
    "Thus,  \n",
    "\n",
    "$$ \\overline{y} = \\int_0^1(1-x)^3\\,\\mathrm{d}x$$"
   ]
  },
  {
   "cell_type": "markdown",
   "id": "63bad344-284b-4ffa-89f2-d467a08cfa90",
   "metadata": {},
   "source": [
    "$$ = \\int_0^1\\big(1-2x+x^2\\big)(1-x)\\,\\mathrm{d}x$$"
   ]
  },
  {
   "cell_type": "markdown",
   "id": "995379f7-d69d-4df5-b498-80dd03f35918",
   "metadata": {},
   "source": [
    "$$ = \\int_0^1\\big(1-x - 2x + 2x^2 + x^2 - x^3\\big)\\,\\mathrm{d}x$$"
   ]
  },
  {
   "cell_type": "markdown",
   "id": "059fc113-a8ab-434b-bcb7-f2bc9fad588b",
   "metadata": {},
   "source": [
    "$$ = \\int_0^1\\big(1 - 3x + 3x^2 - x^3\\big)\\,\\mathrm{d}x$$"
   ]
  },
  {
   "cell_type": "markdown",
   "id": "dc3305dc-2fbf-4295-ae51-16e49a9daf99",
   "metadata": {},
   "source": [
    "$$ = 1 - \\frac{3}{2} + 1 - \\frac{1}{4}$$"
   ]
  },
  {
   "cell_type": "markdown",
   "id": "338f933b-2021-420c-99de-a85be65f130c",
   "metadata": {},
   "source": [
    "$$ = \\frac{8 - 6  - 1}{4} = \\frac{1}{4}$$"
   ]
  },
  {
   "cell_type": "markdown",
   "id": "a0c09152-677c-4552-8d39-e93c33e51ab6",
   "metadata": {},
   "source": [
    "\\begin{equation}\\tag{3.3}\n",
    "    \\overline{y} = \\overline{x} = \\frac{1}{4}\n",
    "\\end{equation}"
   ]
  },
  {
   "cell_type": "markdown",
   "id": "ad2c5fbe-858e-4f95-b696-2a055fc4ba33",
   "metadata": {},
   "source": [
    "As for $z$-compliment of the center of mass:  \n",
    "\n",
    "\\begin{equation}\\tag{3.4}\n",
    "    \\overline{z} = 6\\int_0^1\\int_0^{1-x}\\int_0^{1-x-y}z\\,\\mathrm{d}z\\,\\mathrm{d}y\\,\\mathrm{d}x\n",
    "\\end{equation}"
   ]
  },
  {
   "cell_type": "markdown",
   "id": "bb204c1d-c4f0-4e91-8059-937d96b94891",
   "metadata": {},
   "source": [
    "$$ = 3\\int_0^1\\int_0^{1-x}(1-x-y)^2\\,\\mathrm{d}y\\,\\mathrm{d}x$$"
   ]
  },
  {
   "cell_type": "markdown",
   "id": "6039bab7-65a4-4ec6-825f-bd042c9cd6ee",
   "metadata": {},
   "source": [
    "The integrand of the above double integral is:  \n",
    "\n",
    "$$ (1-x-y)^2 = 1-x-y -x(1-x-y) - y(1-x-y)$$"
   ]
  },
  {
   "cell_type": "markdown",
   "id": "8cdae4a0-d6bd-4131-b6da-acd5ac6d9757",
   "metadata": {},
   "source": [
    "$$ = 1 -x-y - x + x^2 + xy - y + xy + y^2$$"
   ]
  },
  {
   "cell_type": "markdown",
   "id": "0b296227-cdde-43ea-8445-a38c404bb0da",
   "metadata": {},
   "source": [
    "$$= 1 - 2x -2y + 2xy + x^2 + y^2$$"
   ]
  },
  {
   "cell_type": "markdown",
   "id": "b789bf0e-8e0b-4434-9829-248bba66761a",
   "metadata": {},
   "source": [
    "The inner integral of the aforementioned double integral is:  \n",
    "\n",
    "$$ \\int_0^{1-x}(1-x-y)^2\\,\\mathrm{d}y = \\left.\\left(y - 2xy - y^2 + xy^2 + x^2y + \\frac{y^3}{3}\\right)\\right]_0^{1-x}$$"
   ]
  },
  {
   "cell_type": "markdown",
   "id": "6d885568-d2f3-499b-95be-4afad460e6e8",
   "metadata": {},
   "source": [
    "$$ =  \\frac{(1-x)^3}{3}$$"
   ]
  },
  {
   "cell_type": "markdown",
   "id": "293393b2-b189-48c1-aac7-dec10d56056d",
   "metadata": {},
   "source": [
    "Thus,  \n",
    "\n",
    "\\begin{equation}\\tag{3.4}\n",
    "    \\overline{z} = \\frac{1}{4}\n",
    "\\end{equation}"
   ]
  },
  {
   "cell_type": "markdown",
   "id": "aec1bcb6-a99e-4a61-9dc9-54ac780e4774",
   "metadata": {},
   "source": [
    "Finally,  \n",
    "\n",
    "\\begin{equation}\\tag{3.1}\n",
    "    \\overline{\\mathbf{r}} = \\mathbf{\\frac{1}{4}}\n",
    "\\end{equation}"
   ]
  },
  {
   "cell_type": "markdown",
   "id": "a5f2b7f5-0cd1-4339-9ef8-8fd79e1b8aef",
   "metadata": {},
   "source": [
    "#### $\\S 5\\mathrm{A} : 4$  \n",
    "\n",
    "Suppose our cone's center axis is the $z$-axis and vertex is at origin.  Our cone, henceforth $D$ is bounded by, in $z,r,\\theta$-cylindrical coordinates:  \n",
    "\n",
    "$$ D:\\; z := f_1(r,\\theta) = r \\quad\\quad\\text{and}\\quad\\quad z:=f_2(r,\\theta) = h$$"
   ]
  },
  {
   "cell_type": "markdown",
   "id": "c414cb84-9fc6-44de-bb33-8c3ff1da8be7",
   "metadata": {},
   "source": [
    "The density, denoted as $\\delta$, is:  \n",
    "\n",
    "$$ \\delta = r = \\sqrt{x^2+y^2}$$"
   ]
  },
  {
   "cell_type": "markdown",
   "id": "04ed5079-98ed-42a4-a225-123709f2aa55",
   "metadata": {},
   "source": [
    "**a)**  $$ M = \\iiint_D \\delta \\,\\mathrm{d}V = \\iint_R\\int_r^h r\\,\\mathrm{d}z\\,\\mathrm{d}A$$"
   ]
  },
  {
   "cell_type": "markdown",
   "id": "167b7057-157f-44db-90b4-4fa5a6ad1724",
   "metadata": {},
   "source": [
    "where $R$ is the projection of $D$ onto to the $x,y$ plane.  \n",
    "\n",
    "$$ M = \\int_0^{2\\pi}\\int_0^h\\big(r^2h-r^3\\big)\\,\\mathrm{d}r\\,\\mathrm{d}\\theta$$"
   ]
  },
  {
   "cell_type": "markdown",
   "id": "f3199978-86de-4418-b700-dc8d7bfb6760",
   "metadata": {},
   "source": [
    "$$ = \\int_0^{2\\pi}\\left(\\frac{h^4}{3}-\\frac{h^4}{4}\\right)\\,\\mathrm{d}\\theta$$"
   ]
  },
  {
   "cell_type": "markdown",
   "id": "332d79d4-e6d3-4c1e-95e2-9608ff8b02ba",
   "metadata": {},
   "source": [
    "$$ = 2\\pi h^4\\,\\frac{1}{12} = \\frac{\\pi h^4}{6}$$"
   ]
  },
  {
   "cell_type": "markdown",
   "id": "fb9abdcc-1201-4af6-95bf-b952bcc770fd",
   "metadata": {},
   "source": [
    "**b)**  Via symmetry,  \n",
    "\n",
    "$$ \\overline{x},\\overline{y} = 0,0$$"
   ]
  },
  {
   "cell_type": "markdown",
   "id": "388576e0-d843-4a7d-89ac-5d6c0d325bd3",
   "metadata": {},
   "source": [
    "$$ \\overline{z} = \\frac{1}{M}\\iiint_D \\delta z\\,\\mathrm{d}V = \\frac{1}{M}\\iint_R\\int_r^h zr\\,\\mathrm{d}z\\,\\mathrm{d}A$$"
   ]
  },
  {
   "cell_type": "markdown",
   "id": "0da98eb1-0c11-4ad6-a0ca-674fa76b409c",
   "metadata": {},
   "source": [
    "$$ = \\frac{1}{2M}\\int_0^{2\\pi}\\int_0^h r^2\\big(h^2-r^2\\big)\\,\\mathrm{d}r\\,\\mathrm{d}\\theta$$"
   ]
  },
  {
   "cell_type": "markdown",
   "id": "377fc10a-ae72-404d-ab61-a08145255019",
   "metadata": {},
   "source": [
    "$$ = \\frac{1}{2M}\\int_0^{2\\pi}\\left(\\frac{h^5}{3} - \\frac{h^5}{5}\\right)\\,\\mathrm{d}\\theta$$"
   ]
  },
  {
   "cell_type": "markdown",
   "id": "8c4361a6-6f75-4c0e-8fe7-f469492ae0e7",
   "metadata": {},
   "source": [
    "$$ = \\frac{\\pi h^5}{M}\\,\\frac{2}{15}$$"
   ]
  },
  {
   "cell_type": "markdown",
   "id": "94c3ec53-ad1d-43ae-a87b-2be0933da5c1",
   "metadata": {},
   "source": [
    "$$ = \\frac{12h}{15} = \\frac{4h}{5}$$"
   ]
  },
  {
   "cell_type": "markdown",
   "id": "3ab317db-0e48-4ad4-9dbf-1481dc0e63bd",
   "metadata": {},
   "source": [
    "#### $\\S 5\\mathrm{A} : 5$  \n",
    "\n",
    "Suppose $S$ is placed such that the positive $z$-axis is it's central axis and the $y$-axis is the diagonal $D$.  Let $d$ and $I$ be the distance from $D$ and the moment of inertia about $D$ respectively.  \n",
    "\n",
    "$$ I = \\iiint_S \\delta d^2\\,\\mathrm{d}V \\quad\\quad\\text{where }\\, d^2 = r^2 = x^2 + z^2$$"
   ]
  },
  {
   "cell_type": "markdown",
   "id": "ed4a95c4-d5ec-4188-93c9-dc12a68b41bf",
   "metadata": {},
   "source": [
    "Via symmetry,  \n",
    "\n",
    "\\begin{equation}\\tag{5.1}\n",
    "    I = 4\\iiint_{0.25S} \\delta d^2\\,\\mathrm{d}V\n",
    "\\end{equation}"
   ]
  },
  {
   "cell_type": "markdown",
   "id": "2b91e0e7-c760-4aae-9620-b483afc949f8",
   "metadata": {},
   "source": [
    "where $0.25S$ is the portion of the pyramid $S$ lying in the first quadrant, which is a tetrahedron with three of it's faces resting on the coordinate planes and the other resting on the plane given by:  \n",
    "\n",
    "$$ z := f(x,y) = 2-2x-2y$$"
   ]
  },
  {
   "cell_type": "markdown",
   "id": "1805d7ce-a740-4ef9-945e-a80d783cad5f",
   "metadata": {},
   "source": [
    "Thus,  \n",
    "\n",
    "$$ I = 4\\int_0^1\\int_0^{1-x}\\int_0^{2-2x-2y}\\big(x^2+z^2\\big)\\,\\mathrm{d}z\\,\\mathrm{d}y\\,\\mathrm{d}x$$"
   ]
  },
  {
   "cell_type": "markdown",
   "id": "d06d6b7b-a6dc-4849-b7f4-4d607abc7291",
   "metadata": {},
   "source": [
    "$$ = 8\\int_0^1\\int_0^{1-x}\\left(x^2(1-x-y) + \\frac{4(1-x-y)^3}{3}\\right)\\,\\mathrm{d}y\\,\\mathrm{d}x$$"
   ]
  },
  {
   "cell_type": "markdown",
   "id": "e8bd5100-1993-4234-82b2-8a6940e56012",
   "metadata": {},
   "source": [
    "$$ = I_1 + I_2$$"
   ]
  },
  {
   "cell_type": "markdown",
   "id": "9282da28-18eb-476d-8747-8e0b9730a1e3",
   "metadata": {},
   "source": [
    "where  \n",
    "\n",
    "\\begin{equation}\\tag{5.2}\n",
    "    I_1 = 8\\int_0^1\\int_0^{1-x}x^2(1-x-y)\\,\\mathrm{d}y\\,\\mathrm{d}x\n",
    "\\end{equation}"
   ]
  },
  {
   "cell_type": "markdown",
   "id": "d4fc4ed8-2cdf-44a2-af29-ceacb74897a8",
   "metadata": {},
   "source": [
    "and,  \n",
    "\n",
    "\\begin{equation}\\tag{5.3}\n",
    "    I_2 = \\frac{32}{3}\\int_0^1\\int_0^{1-x}(1-x-y)^3\\,\\mathrm{d}y\\,\\mathrm{d}x\n",
    "\\end{equation}"
   ]
  },
  {
   "cell_type": "markdown",
   "id": "9c7f0018-58d6-44bc-847f-88af818e30f7",
   "metadata": {},
   "source": [
    "The integrand of the above double integral -- the one found in equation (5.3) -- is:  \n",
    "\n",
    "$$ (1-x-y)^3 = (1-x-y)^2 - x(1-x-y)^2 - y(1-x-y)^2$$"
   ]
  },
  {
   "cell_type": "markdown",
   "id": "68d28f13-9a3f-427c-a286-0f84050dc44c",
   "metadata": {},
   "source": [
    "$$ (1-x-y)^2 = 1 - x - y -x(1-x-y) - y(1-x-y)$$"
   ]
  },
  {
   "cell_type": "markdown",
   "id": "cf16c5d0-d1a0-4a4a-b932-a165cf78ea25",
   "metadata": {},
   "source": [
    "$$ = 1-x-y-x+x^2+xy -y+xy + y^2$$"
   ]
  },
  {
   "cell_type": "markdown",
   "id": "df113ab3-88d4-4aa0-ab7e-ed61d680eeda",
   "metadata": {},
   "source": [
    "$$ = 1-2x-2y + 2xy + x^2 + y^2$$"
   ]
  },
  {
   "cell_type": "markdown",
   "id": "34bec653-f682-4a60-8361-42cc16ebf36f",
   "metadata": {},
   "source": [
    "The inner integral of the aforementioned double integral is:  \n",
    "\n",
    "$$ \\int_0^{1-x}(1-x-y)^3\\,\\mathrm{d}y = y_2 - 2xy_2 - y_2^2 + xy_2^2 + x^2y_2 + \\frac{y_2^3}{3}$$"
   ]
  },
  {
   "cell_type": "markdown",
   "id": "6c2e2a64-cad4-496e-a805-bd9af0f87ebf",
   "metadata": {},
   "source": [
    "where,  \n",
    "\n",
    "$$ y_2:=y(x) = 1-x$$"
   ]
  },
  {
   "cell_type": "markdown",
   "id": "4e2bcfd1-7717-483d-b243-8100537fdee1",
   "metadata": {},
   "source": [
    "$$ \\int_0^{y_2}(1-x-y)^3\\,\\mathrm{d}y = y_2\\left(1-2x +x^2 + xy_2 - y_2 + \\frac{y_2^2}{3}\\right) $$"
   ]
  },
  {
   "cell_type": "markdown",
   "id": "6d9807d8-4b97-4572-8879-742968879285",
   "metadata": {},
   "source": [
    "$$ = y_2\\left(y_2^2 + \\frac{y_2^2}{3} - y_2^2\\right)$$"
   ]
  },
  {
   "cell_type": "markdown",
   "id": "186dc8d5-95ad-4225-84a0-ca886a73d3f0",
   "metadata": {},
   "source": [
    "$$ = \\frac{(1-x)^3}{3}$$"
   ]
  },
  {
   "attachments": {},
   "cell_type": "markdown",
   "id": "dc457ae6-b067-46f3-bbf4-a772263582b0",
   "metadata": {},
   "source": [
    "Thus,  \n",
    "\n",
    "$$ I_2 = \\frac{32}{9}\\int_0^1(1-x)^3\\,\\mathrm{d}x = -\\left.\\frac{8}{9}(1-x)^4\\right]_0^1$$"
   ]
  },
  {
   "cell_type": "markdown",
   "id": "4af54aeb-b4e7-47c0-8606-23a4f6e685cb",
   "metadata": {},
   "source": [
    "\\begin{equation}\\tag{5.3}\n",
    "    = \\frac{8}{9}\n",
    "\\end{equation}"
   ]
  },
  {
   "attachments": {},
   "cell_type": "markdown",
   "id": "49bf17da-0440-48aa-a966-dfb1ea25c445",
   "metadata": {},
   "source": [
    "As for $I_1$, the inner integral of the double integral in equation (5.2) is:  \n",
    "\n",
    "$$ \\int_0^{1-x}\\big(x^2-x^3-x^2y\\big)\\,\\mathrm{d}y =  x^2y_2 - x^3y_2 - \\frac{x^2y_2^2}{2}$$"
   ]
  },
  {
   "attachments": {},
   "cell_type": "markdown",
   "id": "a938db98-d001-4872-94b7-f0235575252f",
   "metadata": {},
   "source": [
    "$$ = x^2y_2\\left(1-x - \\frac{y_2}{2}\\right) = x^2y_2\\,\\frac{y_2}{2} = \\frac{x^2(1-x)^2}{2}$$"
   ]
  },
  {
   "cell_type": "markdown",
   "id": "c1236d70-1fb1-49d1-a65e-6441ed90b7da",
   "metadata": {},
   "source": [
    "$$ = \\frac{x^2 - 2x^3 + x^4}{2}$$"
   ]
  },
  {
   "cell_type": "markdown",
   "id": "eb7be7ba-4f7e-429e-b889-608ded8b61c6",
   "metadata": {},
   "source": [
    "Thus,  \n",
    "\n",
    "$$ I_1 = 4\\int_0^1\\big(x^2-2x^3+ x^4\\big)\\,\\mathrm{d}x$$"
   ]
  },
  {
   "cell_type": "markdown",
   "id": "1f3f4ac1-d702-4526-8a16-f75591469c03",
   "metadata": {},
   "source": [
    "$$ = 4\\left(\\frac{1}{3} - \\frac{1}{2} + \\frac{1}{5}\\right)$$"
   ]
  },
  {
   "cell_type": "markdown",
   "id": "bf9d7c9d-e766-42e1-a9a9-5562f5ddce28",
   "metadata": {},
   "source": [
    "\\begin{equation}\\tag{5.2}\n",
    "    = 4\\,\\frac{10 - 15 + 6}{30} = \\frac{4}{30} = \\frac{2}{15}\n",
    "\\end{equation}"
   ]
  },
  {
   "cell_type": "markdown",
   "id": "b07ada77-ef27-42a2-80a4-d647f294225d",
   "metadata": {},
   "source": [
    "Finally,  \n",
    "\n",
    "\\begin{equation}\\tag{5.1}\n",
    "    I = \\frac{8}{9} + \\frac{2}{15} = \\frac{40 + 6}{45} = \\frac{46}{45}\n",
    "\\end{equation}"
   ]
  },
  {
   "cell_type": "markdown",
   "id": "fe37d590-cdfc-4b66-ad4d-233f9a6999e1",
   "metadata": {},
   "source": [
    "#### $\\S 5\\mathrm{A} : 6$  \n",
    "\n",
    "Using cylindrical coordinates, find the moment of inertia of a solid hemisphere $D$ of\n",
    "radius $a$ about the central axis perpendicular to the base of $D$. Assume $\\delta = 1$."
   ]
  },
  {
   "cell_type": "markdown",
   "id": "74e11d18-b1ac-49a7-8186-ad3131bdbf21",
   "metadata": {},
   "source": [
    "Suppose $D$ is the upper half of a solid sphere of radius $a$ centered at origin.  The central axis of $D$ is thus the positive end of the $z$-axis.  The moment of inertia $I$ of $D$ about said axis is:  \n",
    "\n",
    "$$ I = \\iiint_D \\delta r^2\\,\\mathrm{d}V = \\iint_R\\int_0^{z(r,\\theta)} r^2\\,\\mathrm{d}z\\,\\mathrm{d}A$$"
   ]
  },
  {
   "cell_type": "markdown",
   "id": "1ba84e62-f2da-4348-bb0e-1154230069c6",
   "metadata": {},
   "source": [
    "where $R$ is the projection of $D$ onto the $x,y$-plane, which is equal to a circle of radius $a$ resting on said plane, and $z(r,\\theta)$ is the function that gives the upper half of the sphere that, in conjunction with the $x,y$-plane, encloses $D$.  \n",
    "\n",
    "$$ z:=z(r,\\theta) = \\sqrt{a^2-r^2}$$"
   ]
  },
  {
   "cell_type": "markdown",
   "id": "47029f1e-923d-42bf-9176-cc3973e071eb",
   "metadata": {},
   "source": [
    "$$ I = \\int_0^{2\\pi}\\int_0^a r^3\\sqrt{a^2-r^2}\\,\\mathrm{d}r\\,\\mathrm{d}\\theta$$"
   ]
  },
  {
   "cell_type": "markdown",
   "id": "a259711a-0837-4851-943e-8e60e3e66431",
   "metadata": {},
   "source": [
    "$$ \\int r^3\\sqrt{a^2-r^2}\\,\\mathrm{d}r = -\\frac{r^2\\sqrt{\\big(a^2-r^2\\big)^3}}{3} + \\frac{2}{3}\\int r\\sqrt{\\big(a^2-r^2\\big)^3}\\,\\mathrm{d}r$$"
   ]
  },
  {
   "cell_type": "markdown",
   "id": "8bcb8312-64f8-48bd-b066-eaa38034f877",
   "metadata": {},
   "source": [
    "$$ \\int r\\sqrt{\\big(a^2-r^2\\big)^3}\\,\\mathrm{d}r = -\\frac{\\sqrt{\\big(a^2-r^2\\big)^5}}{5} + K$$"
   ]
  },
  {
   "cell_type": "markdown",
   "id": "d2f4ceb9-b3d9-44b2-bf4c-003292920cc5",
   "metadata": {},
   "source": [
    "Therefore,  \n",
    "\n",
    "$$ \\int_0^ar^3\\sqrt{a^2-r^2}\\,\\mathrm{d}r = -\\frac{1}{3}\\left.\\left(r^2\\sqrt{\\big(a^2-r^2\\big)^3} + \\frac{2\\sqrt{\\big(a^2-r^2\\big)^5}}{5}\\right)\\right]_0^a$$"
   ]
  },
  {
   "cell_type": "markdown",
   "id": "059b4235-1bd9-4247-83a6-d2753da4c31c",
   "metadata": {},
   "source": [
    "$$ = \\frac{2 a^5}{15}$$"
   ]
  },
  {
   "cell_type": "markdown",
   "id": "235728df-c876-4644-ba3c-f697a1a1e40f",
   "metadata": {},
   "source": [
    "Finally,  \n",
    "\n",
    "$$ I = \\frac{4\\pi a^5}{15}$$"
   ]
  },
  {
   "cell_type": "markdown",
   "id": "2eb75892-2b60-4c8b-93ff-d4f8942f18b3",
   "metadata": {},
   "source": [
    "#### $\\S 5\\mathrm{A} : 7$  \n",
    "\n",
    "The paraboloid $z = x^2 + y^2$ is shaped like a wine-glass, and the plane $z = 2x$ slices\n",
    "off a finite piece $D$ of the region above the paraboloid (i.e., inside the wine-glass). Find the\n",
    "moment of inertia of $D$ about the $z$-axis, assuming $\\delta = 1$."
   ]
  },
  {
   "cell_type": "markdown",
   "id": "a0871016-f1b0-44ef-a480-b7fc5c30f516",
   "metadata": {},
   "source": [
    "The region $D$ is bounded by:  \n",
    "\n",
    "$$ D:\\; z = x^2 + y^2 \\quad\\quad\\text{and}\\quad\\quad (x,y,2x)$$"
   ]
  },
  {
   "cell_type": "markdown",
   "id": "4eec1fb1-db09-4748-b0f2-8f8a3ce86274",
   "metadata": {},
   "source": [
    "In $z,r,\\theta$-cylindrical coordinates the paraboloid and plane are given by:  \n",
    "\n",
    "$$ z:=f_1(r,\\theta) = r^2 \\quad\\quad\\text{and}\\quad\\quad z:=f_2(r,\\theta) = 2r\\cos\\theta$$"
   ]
  },
  {
   "cell_type": "markdown",
   "id": "92639a65-4d34-41d2-ae55-37bfbf253c0b",
   "metadata": {},
   "source": [
    "respectively.  The aforementioned moment of inertia is:  \n",
    "\n",
    "$$ I = \\iiint_D\\delta r^2\\,\\mathrm{d}V = \\iint_R\\int_{r^2}^{2r\\cos\\theta} r^2\\,\\mathrm{d}z\\,\\mathrm{d}A$$"
   ]
  },
  {
   "cell_type": "markdown",
   "id": "60ab55ce-f436-49eb-a79a-ff6e7ac91b8b",
   "metadata": {},
   "source": [
    "where $R$ is the projection of $D$ onto the $x,y$-plane and is bounded by:  \n",
    "\n",
    "$$ R:\\; y^2 + x^2 = 2x \\quad\\quad\\text{or}\\quad\\quad r := r(\\theta) = 2\\cos\\theta \\quad\\text{for } -90^\\circ \\le \\theta \\le 90^\\circ$$"
   ]
  },
  {
   "cell_type": "markdown",
   "id": "1a5c7151-6b49-4143-b505-793ab8329e19",
   "metadata": {},
   "source": [
    "$$ I = \\int_{-0.5\\pi}^{0.5\\pi}\\int_0^{2\\cos\\theta}r^3\\big(2r\\cos\\theta - r^2\\big)\\,\\mathrm{d}r\\,\\mathrm{d}\\theta$$"
   ]
  },
  {
   "cell_type": "markdown",
   "id": "56569656-1c84-44d1-9e2e-fb7c64dac43e",
   "metadata": {},
   "source": [
    "The inner integral of the above double integral is:  \n",
    "\n",
    "$$ \\int_0^{2\\cos\\theta}\\big(2r^4\\cos\\theta - r^5\\big)\\,\\mathrm{d}r = \\left.\\left(\\frac{2r^5\\cos\\theta}{5} - \\frac{r^6}{6}\\right)\\right]_0^{2\\cos\\theta}$$"
   ]
  },
  {
   "cell_type": "markdown",
   "id": "c0b74056-d298-44ee-a6e9-8c005a2ba28a",
   "metadata": {},
   "source": [
    "$$ = \\frac{64\\cos^6\\theta}{5} - \\frac{64\\cos^6\\theta}{6} = \\frac{64\\cos^6\\theta}{30}$$"
   ]
  },
  {
   "cell_type": "markdown",
   "id": "83901832-7c77-4745-a74a-0c56c821979d",
   "metadata": {},
   "source": [
    "$$ = \\frac{32\\cos^6\\theta}{15}$$"
   ]
  },
  {
   "cell_type": "markdown",
   "id": "16a755d4-aa0a-41f3-82ff-54f8e202de0b",
   "metadata": {},
   "source": [
    "The trigonometric factor of what the aforementioned inner integral evaluates to is:  \n",
    "\n",
    "$$ \\cos^6\\theta = \\big(0.5\\cos2\\theta + 0.5\\big)^3 = \\frac{\\big(\\cos2\\theta+1\\big)^3}{8}$$"
   ]
  },
  {
   "cell_type": "markdown",
   "id": "f6bb41e4-2a64-4f67-a8ac-df935f8043e2",
   "metadata": {},
   "source": [
    "$$ =\\frac{\\cos2\\theta+1}{8}\\,\\big(\\cos^2 2\\theta + 2\\cos2\\theta + 1\\big)$$"
   ]
  },
  {
   "cell_type": "markdown",
   "id": "06c35445-873e-402b-a88c-5554cb3dcbfa",
   "metadata": {},
   "source": [
    "$$ = \\frac{1}{8}\\Big(\\cos2\\theta + 1 + 2\\cos^2 2\\theta + 2\\cos 2\\theta + \\cos^3 2\\theta + \\cos^2 2\\theta\\Big)$$"
   ]
  },
  {
   "cell_type": "markdown",
   "id": "e3924e83-a2d7-43fb-bf29-0426c2177fa6",
   "metadata": {},
   "source": [
    "$$ = \\frac{1}{8}\\big(1 + 3\\cos2\\theta + 3\\cos^2 2\\theta + \\cos^3 2\\theta\\big)$$"
   ]
  },
  {
   "cell_type": "markdown",
   "id": "e8a95aab-2aa8-4064-b584-895132a06ffa",
   "metadata": {},
   "source": [
    "$$ = \\frac{1}{8}\\left(1 + 3\\cos 2\\theta + \\frac{3}{2}\\big(\\cos 4\\theta+1\\big) + \\big(1-\\sin^2 2\\theta\\big)\\cos 2\\theta\\right)$$"
   ]
  },
  {
   "cell_type": "markdown",
   "id": "5dedb51b-6be3-435a-b8ec-8f5d79cb5acd",
   "metadata": {},
   "source": [
    "$$ = \\frac{1}{8}\\left(\\frac{5}{2} + 4\\cos 2\\theta + \\frac{3\\cos 4\\theta}{2} - \\sin^2 2\\theta \\cos2\\theta\\right)$$"
   ]
  },
  {
   "cell_type": "markdown",
   "id": "0360da34-ba44-48ed-839f-7ca5aa3a8c15",
   "metadata": {},
   "source": [
    "Therefore,  \n",
    "\n",
    "$$ I = \\frac{4}{15}\\int_{-0.5\\pi}^{0.5\\pi}\\left(\\frac{5}{2}+4\\cos2\\theta + \\frac{3\\cos 4\\theta}{2} - \\sin^2 2\\theta\\cos2\\theta\\right)\\,\\mathrm{d}\\theta$$"
   ]
  },
  {
   "cell_type": "markdown",
   "id": "8f237a81-31ba-4911-85b9-b470d1b12a4e",
   "metadata": {},
   "source": [
    "$$ = \\frac{2\\pi}{3} + \\Big.2\\sin2\\theta\\Big]_{-0.5\\pi}^{0.5\\pi} + \\left.\\frac{3\\sin 4\\theta}{8}\\right]_{-0.5\\pi}^{0.5\\pi} - \\left.\\frac{\\sin^3 2\\theta}{6}\\right]_{-0.5\\pi}^{0.5\\pi}$$"
   ]
  },
  {
   "cell_type": "markdown",
   "id": "c4acc89c-181c-46cc-9b18-e1bf9037a401",
   "metadata": {},
   "source": [
    "$$ = \\frac{2\\pi}{3}$$"
   ]
  },
  {
   "cell_type": "code",
   "execution_count": 2,
   "id": "5da61983-0f1b-4eed-825f-7b5fe3890de6",
   "metadata": {},
   "outputs": [],
   "source": [
    "pi = np.pi\n",
    "cos = np.cos; sin = np.sin\n",
    "sqrt = np.sqrt"
   ]
  },
  {
   "cell_type": "code",
   "execution_count": 4,
   "id": "822320f9-2545-4b84-914e-64b8716263bc",
   "metadata": {
    "jupyter": {
     "source_hidden": true
    }
   },
   "outputs": [
    {
     "data": {
      "text/plain": [
       "[<matplotlib.lines.Line2D at 0x76d57d1ab9a0>,\n",
       " <matplotlib.lines.Line2D at 0x76d57d1aba90>]"
      ]
     },
     "execution_count": 4,
     "metadata": {},
     "output_type": "execute_result"
    },
    {
     "data": {
      "image/png": "[encoded data removed]",
      "text/plain": [
       "<Figure size 400x380 with 1 Axes>"
      ]
     },
     "metadata": {},
     "output_type": "display_data"
    }
   ],
   "source": [
    "\"\"\" Here we plot the boundary of R, which is the projection of D onto the x,y-plane. \"\"\"\n",
    "\n",
    "# Create the domain(s).\n",
    "x = np.linspace(0,2,num=200)\n",
    "t = theta = np.linspace(-0.5*pi, 0.5*pi,num=200)\n",
    "\n",
    "# Define the curve(s).\n",
    "y = f_1 = sqrt(2*x-x**2)\n",
    "f_2 = -f_1\n",
    "r = 2*cos(t)\n",
    "\n",
    "# Create the figure and axes.\n",
    "fig, ax = plt.subplots(figsize=(4,3.8))\n",
    "ax.set_title(r'Boundary of $R$',size=15)\n",
    "ax.set_xlabel('x-axis')\n",
    "ax.set_ylabel('y-axis')\n",
    "ax.grid()\n",
    "\n",
    "# Plot the boundary of R.\n",
    "ax.plot(x,y,x,-y,color='k')"
   ]
  },
  {
   "cell_type": "markdown",
   "id": "2cadaa03-30b7-4af9-9f42-c80673dce3ab",
   "metadata": {},
   "source": [
    "As it appears from the above figure, the boundary of $R$ is a circle with a radius of $1$ centered at $(1,0)$.  \n",
    "\n",
    "$$ y^2 + (x-1)^2 = 1 \\quad\\implies$$"
   ]
  },
  {
   "cell_type": "markdown",
   "id": "aebbbb1b-be5a-4163-87b0-ee7f9c7ae459",
   "metadata": {},
   "source": [
    "$$ y^2 + x^2 -2x = 0 \\quad\\implies\\quad y^2 + x^2 = 2x$$"
   ]
  },
  {
   "cell_type": "code",
   "execution_count": 6,
   "id": "ce437acb-dd53-497f-b54a-dfd9361a4cfa",
   "metadata": {
    "collapsed": true,
    "jupyter": {
     "outputs_hidden": true,
     "source_hidden": true
    }
   },
   "outputs": [
    {
     "data": {
      "text/plain": [
       "[<matplotlib.lines.Line2D at 0x76d57cd91db0>]"
      ]
     },
     "execution_count": 6,
     "metadata": {},
     "output_type": "execute_result"
    },
    {
     "data": {
      "image/png": "[encoded data removed]",
      "text/plain": [
       "<Figure size 380x380 with 1 Axes>"
      ]
     },
     "metadata": {},
     "output_type": "display_data"
    }
   ],
   "source": [
    "# Create new figure and axes.\n",
    "fig, ax = plt.subplots(figsize=(3.8,3.8), subplot_kw=dict(projection='polar'))\n",
    "ax.set_title(r'Boundary of $R$',size=15)\n",
    "\n",
    "# Plot the boundary of R.\n",
    "ax.plot(t,r)"
   ]
  },
  {
   "cell_type": "markdown",
   "id": "82277563-9c94-48ee-a512-7a463785c30e",
   "metadata": {},
   "source": [
    "Using cylindrical coordinates appears to be arduous at best.  Let's try a different approach by using $x,y,z$-rectangular coordinates.  Persuant to such, we start off with,  \n",
    "\n",
    "$$ I = \\iint_R\\int_{x^2+y^2}^{2x}\\big(x^2+y^2\\big)\\,\\mathrm{d}z\\,\\mathrm{d}A $$"
   ]
  },
  {
   "cell_type": "markdown",
   "id": "3c21d944-119f-4bb8-ad43-09ee32da59a3",
   "metadata": {},
   "source": [
    "$$ I = \\int_0^{2}\\int_{-\\sqrt{2x-x^2}}^\\sqrt{2x-x^2}\\big(x^2+y^2\\big)\\big(2x-x^2-y^2\\big)\\,\\mathrm{d}y\\,\\mathrm{d}x$$"
   ]
  },
  {
   "cell_type": "markdown",
   "id": "fcf9c09a-3973-4c08-9c7e-104de85c4361",
   "metadata": {},
   "source": [
    "The integrand of the above double integral is:  \n",
    "\n",
    "$$ \\big(x^2+y^2\\big)\\big(2x - x^2-y^2\\big) = 2x^3 + 2xy^2 - x^4 - x^2y^2 - x^2y^2 - y^4$$"
   ]
  },
  {
   "cell_type": "markdown",
   "id": "a96dea82-6907-4536-9d66-e02cb7830e99",
   "metadata": {},
   "source": [
    "$$ = 2x^3 + 2xy^2 - 2x^2y^2 - x^4 - y^4$$"
   ]
  },
  {
   "cell_type": "markdown",
   "id": "37ddbdd1-b36d-4ae6-8184-c34b2fd33d29",
   "metadata": {},
   "source": [
    "The inner integral of the aforementioned double integral is:  \n",
    "\n",
    "$$ \\int_{-\\sqrt{2x-x^2}}^\\sqrt{2x-x^2}\\big(x^2+y^2\\big)\\big(2x-x^2-y^2\\big)\\,\\mathrm{d}y = \\left.\\left(2x^3y + \\frac{2xy^3}{3} - \\frac{2x^2y^3}{3} - x^4y - \\frac{y^5}{5}\\right)\\right]_{-\\sqrt{2x-x^2}}^\\sqrt{2x-x^2}$$"
   ]
  },
  {
   "cell_type": "markdown",
   "id": "db7fa6b6-24e7-4ac9-ba33-8be7e2f5e08d",
   "metadata": {},
   "source": [
    "$$ = \\left.\\left(x^3y(2-x) + \\frac{2xy^3}{3}(1-x) - \\frac{y^5}{5}\\right)\\right]_{-\\sqrt{2x-x^2}}^\\sqrt{2x-x^2}$$"
   ]
  },
  {
   "cell_type": "markdown",
   "id": "bf4a7e8b-d78b-41c3-b982-65538a11bbb6",
   "metadata": {},
   "source": [
    "$$ = \\left.y\\left(x^3(2-x) + \\frac{2xy^2}{3}(1-x) - \\frac{y^4}{5}\\right)\\right]_{-\\sqrt{2x-x^2}}^\\sqrt{2x-x^2}$$"
   ]
  },
  {
   "cell_type": "markdown",
   "id": "021a3e9f-4289-40b6-8e8f-79c73e491093",
   "metadata": {},
   "source": [
    "$$ = 2\\sqrt{2x-x^2}\\left(x^3(2-x) + \\frac{2x\\big(2x-x^2\\big)}{3}(1-x) - \\frac{\\big(2x-x^2\\big)^2}{5}\\right)$$"
   ]
  },
  {
   "cell_type": "markdown",
   "id": "c2b71088-bdeb-4672-9c8b-0c94674ae227",
   "metadata": {},
   "source": [
    "$$ = 2x^2\\sqrt{2x-x^2}\\left(2x - x^2 + \\frac{2}{3}(2-x)(1-x) - \\frac{(2-x)^2}{5}\\right)$$"
   ]
  },
  {
   "cell_type": "markdown",
   "id": "ce0ceb0c-82f7-40d2-9bb4-9faab6979873",
   "metadata": {},
   "source": [
    "$$ = 2x^2(2-x)\\sqrt{2x-x^2}\\left(x + \\frac{2}{3}(1-x) - \\frac{2-x}{5}\\right)$$"
   ]
  },
  {
   "cell_type": "markdown",
   "id": "fbf9923a-d3bc-4a55-82c6-86b5debda99f",
   "metadata": {},
   "source": [
    "$$ = 2x^2(2-x)\\sqrt{2x-x^2}\\left(\\frac{2}{3} - \\frac{2}{5} + x - \\frac{2x}{3} + \\frac{x}{5}\\right)$$"
   ]
  },
  {
   "cell_type": "markdown",
   "id": "b1c456e3-d5d8-4c26-aa55-2125a977da77",
   "metadata": {},
   "source": [
    "$$ = \\frac{10-6 + 15x - 10x + 3x}{15}\\,2x^2(2-x)\\sqrt{2x-x^2}$$"
   ]
  },
  {
   "cell_type": "markdown",
   "id": "4150366a-d804-4ac3-a98b-5e85027c61d9",
   "metadata": {},
   "source": [
    "$$ = \\frac{4 + 8x}{15}\\,2x^2(2-x)\\sqrt{2x-x^2}$$"
   ]
  },
  {
   "cell_type": "markdown",
   "id": "bbcd661a-b996-4b2a-aa07-9c8185490beb",
   "metadata": {},
   "source": [
    "$$ \\frac{1+2x}{15}\\,8x^2(2-x)\\sqrt{2x-x^2}$$"
   ]
  },
  {
   "cell_type": "markdown",
   "id": "51be7894-7d28-4216-8047-6bbf1c61b142",
   "metadata": {},
   "source": [
    "$$ = \\frac{1+2x}{15}\\,8x^2\\sqrt{x\\big(2-x\\big)^3}$$"
   ]
  },
  {
   "cell_type": "code",
   "execution_count": 7,
   "id": "2d1afc66-2ef3-4885-8407-cc18a11b85a1",
   "metadata": {},
   "outputs": [
    {
     "data": {
      "text/plain": [
       "[<matplotlib.lines.Line2D at 0x76d57ca70370>]"
      ]
     },
     "execution_count": 7,
     "metadata": {},
     "output_type": "execute_result"
    },
    {
     "data": {
      "image/png": "[encoded data removed]",
      "text/plain": [
       "<Figure size 640x480 with 1 Axes>"
      ]
     },
     "metadata": {},
     "output_type": "display_data"
    }
   ],
   "source": [
    "f = 8*x**2*sqrt(x*(2-x)**3)*(1+2*x)/15\n",
    "\n",
    "fig, ax = plt.subplots()\n",
    "ax.set_xlabel('x-axis')\n",
    "ax.set_ylabel('y-axis')\n",
    "ax.grid()\n",
    "\n",
    "ax.plot(x,f)"
   ]
  },
  {
   "cell_type": "code",
   "execution_count": 8,
   "id": "da8efb9a-e2e5-4f42-b2a0-9e1adb8ad0a7",
   "metadata": {},
   "outputs": [
    {
     "data": {
      "text/plain": [
       "2.0943951023931953"
      ]
     },
     "execution_count": 8,
     "metadata": {},
     "output_type": "execute_result"
    }
   ],
   "source": [
    "I = 2*pi/3; I"
   ]
  },
  {
   "cell_type": "markdown",
   "id": "45c1f15d-7efa-4230-a16f-4a2051fa8cac",
   "metadata": {},
   "source": [
    "### In Spherical Coordinates\n",
    "\n",
    "#### $\\S 5\\mathrm{B}: 1$  \n",
    "\n",
    "**a)**  Our region $D$ is bounded by the cone and sphere given by:  \n",
    "\n",
    "$$ D:\\; z^2 = x^2 + y^2 \\quad\\quad\\text{and}\\quad\\quad x^2 + y^2 + z^2 = 2$$"
   ]
  },
  {
   "cell_type": "markdown",
   "id": "55b4f064-3350-408b-82c1-aed27d6bf4a5",
   "metadata": {},
   "source": [
    "$$ V = \\iiint_D \\,\\mathrm{d}V = \\int_0^{2\\pi}\\int_0^{0.25\\pi}\\int_0^\\sqrt{2}\\rho^2\\sin\\phi\\,\\mathrm{d}\\rho\\,\\mathrm{d}\\phi\\,\\mathrm{d}\\theta$$"
   ]
  },
  {
   "cell_type": "markdown",
   "id": "126eb870-1636-436e-9087-dc3e0f09935b",
   "metadata": {},
   "source": [
    "**b)**  $\\rho$ is from $0$ to $\\infty$.  $\\phi$ is from $0$ to $0.5\\pi$.  And, $\\theta$ is from $0$ to $0.5\\pi$."
   ]
  },
  {
   "cell_type": "markdown",
   "id": "3335a69d-9b1b-4c54-8135-469000b8fdd0",
   "metadata": {},
   "source": [
    "**c)**  $\\theta$ is from $0$ to $2\\pi$.  $\\phi$ is from $0$ to $0.25\\pi$.  As for $\\rho$, first let's find an equation that gives our sphere and plane in terms of spherical coordinates.  In rectangular coordinates, our plane and sphere are given by:  \n",
    "\n",
    "$$ D:\\; (x,y,1)\\quad\\quad\\text{and}\\quad\\quad x^2 + y^2 + (z-1)^2 = 1$$"
   ]
  },
  {
   "cell_type": "markdown",
   "id": "5b574c54-464c-43ec-9502-12bea5837685",
   "metadata": {},
   "source": [
    "respectively.  In spherical coordinates, our plane is given by:  \n",
    "\n",
    "$$ z = \\rho\\cos\\phi = 1 \\quad\\therefore\\quad \\rho := \\rho_1(\\phi,\\theta) = \\sec\\phi$$"
   ]
  },
  {
   "cell_type": "markdown",
   "id": "c0c6d2f6-dc49-40ed-a51d-4f8551210bc4",
   "metadata": {},
   "source": [
    "And, our sphere is given by:    \n",
    "\n",
    "$$ \\rho^2\\sin^2\\phi + (\\rho\\cos\\phi - 1)^2 = 1 \\quad\\therefore$$"
   ]
  },
  {
   "cell_type": "markdown",
   "id": "9a315e7c-1a47-4b3f-be47-b8335a0bd9b6",
   "metadata": {},
   "source": [
    "$$ \\rho^2 - 2\\rho\\cos\\phi = 0 \\quad\\therefore \\quad \\rho := \\rho_2(\\phi,\\theta) = 2\\cos\\phi$$"
   ]
  },
  {
   "cell_type": "markdown",
   "id": "b575baef-8421-465d-9852-488b1892716d",
   "metadata": {},
   "source": [
    "Finally,  \n",
    "\n",
    "$$ V = \\int_0^{2\\pi}\\int_0^{0.25\\pi}\\int_{\\sec\\phi}^{2\\cos\\phi}\\rho^2\\sin\\phi\\,\\mathrm{d}\\rho\\,\\mathrm{d}\\phi\\,\\mathrm{d}\\theta$$"
   ]
  },
  {
   "cell_type": "markdown",
   "id": "5e377ca6-8f8b-4074-81b8-dabcdefcd0f5",
   "metadata": {},
   "source": [
    "#### $\\S 5\\mathrm{B}: 2$  \n",
    "\n",
    "The center of mass of our hemisphere $D$ is:  \n",
    "\n",
    "$$ \\overline{\\mathbf{r}} = \\frac{1}{V}\\iiint_D \\mathbf{r}\\,\\mathrm{d}V \\quad\\quad\\text{where }\\,\\mathbf{r} = \\langle x,y,z\\rangle$$"
   ]
  },
  {
   "cell_type": "markdown",
   "id": "1b15356d-a488-46cd-aa40-9cbf92529639",
   "metadata": {},
   "source": [
    "$$ V = \\iiint_D\\,\\mathrm{d}V = \\int_0^{2\\pi}\\int_0^{0.5\\pi}\\int_0^a\\rho^2\\sin\\phi\\,\\mathrm{d}\\rho\\,\\mathrm{d}\\phi,\\mathrm{d}\\theta$$"
   ]
  },
  {
   "cell_type": "markdown",
   "id": "7e856cc9-b2aa-49cd-b61c-095e80a2f9c1",
   "metadata": {},
   "source": [
    "$$ = \\frac{a^3}{3}\\int_0^{2\\pi}\\int_0^{0.5\\pi}\\sin\\phi\\,\\mathrm{d}\\phi\\,\\mathrm{d}\\theta$$"
   ]
  },
  {
   "cell_type": "markdown",
   "id": "be41e52d-143d-445c-bac5-ee88e9468d22",
   "metadata": {},
   "source": [
    "$$ = \\frac{2\\pi a^3}{3}$$"
   ]
  },
  {
   "cell_type": "markdown",
   "id": "be950684-f2fe-4de2-93a6-165bd7d6b4bc",
   "metadata": {},
   "source": [
    "Via symmetry,  \n",
    "\n",
    "$$ \\overline{x},\\overline{y} = 0,0$$"
   ]
  },
  {
   "cell_type": "markdown",
   "id": "acf3e14e-32ba-4aac-8b9d-0903a62a39aa",
   "metadata": {},
   "source": [
    "Finally,  \n",
    "\n",
    "$$ \\overline{z} = \\frac{1}{V}\\int_0^{2\\pi}\\int_0^{0.5\\pi}\\int_0^a \\rho^3\\sin\\phi\\cos\\phi\\,\\mathrm{d}\\rho\\,\\mathrm{d}\\phi\\,\\mathrm{d}\\theta$$"
   ]
  },
  {
   "attachments": {},
   "cell_type": "markdown",
   "id": "cb68ee4e-3c33-4068-968c-70869516fd99",
   "metadata": {},
   "source": [
    "$$ = \\frac{a^4}{8V}\\int_0^{2\\pi}\\int_0^{0.5\\pi}\\sin 2\\phi\\,\\mathrm{d}\\phi\\,\\mathrm{d}\\theta = \\frac{\\pi a^4}{4V}$$"
   ]
  },
  {
   "cell_type": "markdown",
   "id": "df4ccd7b-0024-4d73-a7f0-d9f3cc7d3857",
   "metadata": {},
   "source": [
    "$$ = \\frac{3a}{8}$$"
   ]
  },
  {
   "cell_type": "markdown",
   "id": "81828167-33b9-41ad-bc15-cc66c15c1d9e",
   "metadata": {},
   "source": [
    "#### $\\S 5\\mathrm{B}: 3$\n",
    "\n",
    "A solid $D$ is bounded below by a right circular cone whose generators have length\n",
    "$a$ and make an angle $\\pi/6$ with the central axis. It is bounded above by a portion of the\n",
    "sphere of radius $a$ centered at the vertex of the cone. Find its moment of inertia about its\n",
    "central axis, assuming the density $\\delta$ at a point is numerically equal to the distance of the\n",
    "point from a plane through the vertex perpendicular to the central axis"
   ]
  },
  {
   "cell_type": "markdown",
   "id": "0a2017da-bb89-4848-becc-9ff565754844",
   "metadata": {},
   "source": [
    "Assuming the vertex of the cone is at origin and it's central axis is the $z$-axis,  \n",
    "\n",
    "$$ \\delta = z = \\rho\\cos\\phi$$"
   ]
  },
  {
   "cell_type": "markdown",
   "id": "0403bc58-98a9-4124-8924-a43a0661fddb",
   "metadata": {},
   "source": [
    "$$ I = \\frac{1}{M}\\iiint_D \\delta r^2\\,\\mathrm{d}V$$"
   ]
  },
  {
   "cell_type": "markdown",
   "id": "6ee19919-7c36-4b26-a139-21e987f478c1",
   "metadata": {},
   "source": [
    "where,  \n",
    "\n",
    "$$ M = \\iiint_D \\delta \\,\\mathrm{d}V \\quad\\quad\\text{and}\\quad\\quad r^2 = x^2 + y^2 = \\rho^2\\sin^2\\phi$$"
   ]
  },
  {
   "cell_type": "markdown",
   "id": "063d9bcc-7341-4a10-aa1b-82384b23a446",
   "metadata": {},
   "source": [
    "$$ M = \\int_0^{2\\pi}\\int_0^{\\pi/6}\\int_0^a \\rho^3\\sin\\phi\\cos\\phi\\,\\mathrm{d}\\rho\\,\\mathrm{d}\\phi\\,\\mathrm{d}\\theta$$"
   ]
  },
  {
   "cell_type": "markdown",
   "id": "a62ed45d-f0a1-43c9-9fe2-de4cf3c3ef8d",
   "metadata": {},
   "source": [
    "$$ = \\frac{a^4}{8}\\int_0^{2\\pi}\\int_0^{\\pi/6}\\sin2\\phi\\,\\mathrm{d}\\phi\\,\\mathrm{d}\\theta$$"
   ]
  },
  {
   "cell_type": "markdown",
   "id": "64475160-8b7c-4334-a433-2f760b24b60a",
   "metadata": {},
   "source": [
    "The inner integral of the above double integral is:  \n",
    "\n",
    "$$ \\int_0^{\\pi/6}\\sin2\\phi\\,\\mathrm{d}\\phi = -\\Big.\\frac{1}{2}\\cos2\\phi\\Big]_0^{\\pi/6}$$"
   ]
  },
  {
   "cell_type": "markdown",
   "id": "21b3e92c-8ac8-4c93-8d1d-2bdbff556a96",
   "metadata": {},
   "source": [
    "$$ = \\frac{1}{2}\\left(1 - \\cos\\frac{\\pi}{3}\\right)$$"
   ]
  },
  {
   "cell_type": "markdown",
   "id": "edbac480-1260-4147-bb33-079ecaf5174f",
   "metadata": {},
   "source": [
    "$$ = \\frac{1}{4}$$"
   ]
  },
  {
   "cell_type": "markdown",
   "id": "43bdb01f-20bb-4402-879a-e289cff3a9d1",
   "metadata": {},
   "source": [
    "Therefore,  \n",
    "\n",
    "$$ M = \\frac{\\pi a^4}{16}$$"
   ]
  },
  {
   "cell_type": "markdown",
   "id": "c7d37383-4452-4fee-8e69-f5ba0ddfd039",
   "metadata": {},
   "source": [
    "As for the moment of inertia,  \n",
    "\n",
    "$$ I = \\frac{1}{M}\\int_0^{2\\pi}\\int_0^{\\pi/6}\\int_0^a \\rho^5\\sin^3\\phi\\cos\\phi\\,\\mathrm{d}\\rho\\,\\mathrm{d}\\phi\\,\\mathrm{d}\\theta$$"
   ]
  },
  {
   "cell_type": "markdown",
   "id": "f1547819-9610-4605-ac15-40cdb971c906",
   "metadata": {},
   "source": [
    "$$ = \\frac{a^6}{6M}\\int_0^{2\\pi}\\int_0^{\\pi/6}\\sin^3\\phi\\cos\\phi\\,\\mathrm{d}\\phi\\,\\mathrm{d}\\theta$$"
   ]
  },
  {
   "cell_type": "markdown",
   "id": "06f1d7ca-2a80-49a4-808c-32b11e5182df",
   "metadata": {},
   "source": [
    "The inner integral of the above double integral is:  \n",
    "\n"
   ]
  },
  {
   "cell_type": "code",
   "execution_count": 10,
   "id": "fedceae6-7288-4739-8ca8-cdc1713e461b",
   "metadata": {},
   "outputs": [
    {
     "data": {
      "text/plain": [
       "0.49999999999999994"
      ]
     },
     "execution_count": 10,
     "metadata": {},
     "output_type": "execute_result"
    }
   ],
   "source": [
    "sin(pi/6)"
   ]
  },
  {
   "cell_type": "markdown",
   "id": "b1debb31-86c2-442f-a12f-d297ae77d1fc",
   "metadata": {},
   "source": [
    "$$ = \\frac{\\pi a^6}{24\\cdot 8 M} = \\frac{\\pi a^6}{3\\cdot 64 M}$$"
   ]
  },
  {
   "cell_type": "markdown",
   "id": "9385e5d9-d72f-4763-bc73-8dee6077ed2f",
   "metadata": {},
   "source": [
    "$$= \\frac{a^2}{12}$$"
   ]
  },
  {
   "cell_type": "markdown",
   "id": "513ba186-7335-475f-81eb-510cc96c1a91",
   "metadata": {},
   "source": [
    "#### $\\S 5\\mathrm{B}: 4$  \n",
    "\n",
    "Find the average distance of a point in a solid sphere of radius $a$ from\n",
    "a) the center b) a fixed diameter c) a fixed plane through the center"
   ]
  },
  {
   "cell_type": "markdown",
   "id": "0130ec26-9321-4bed-8840-05c77b991869",
   "metadata": {},
   "source": [
    "**a)**  $$ \\overline{\\rho} = \\frac{1}{V}\\iiint_D \\rho\\,\\mathrm{d}V$$"
   ]
  },
  {
   "cell_type": "markdown",
   "id": "9c6f0589-ff3d-4dee-bbaa-df7c28f0eb38",
   "metadata": {},
   "source": [
    "$$ V = \\frac{4\\pi a^3}{3}$$"
   ]
  },
  {
   "cell_type": "markdown",
   "id": "927aea70-7168-41dc-9c78-fb18ccb213f1",
   "metadata": {},
   "source": [
    "$$ \\overline{\\rho} = \\frac{1}{V}\\int_0^{2\\pi}\\int_0^\\pi\\int_0^a \\rho^3\\sin\\phi\\,\\mathrm{d}\\rho\\,\\mathrm{d}\\phi\\,\\mathrm{d}\\theta$$"
   ]
  },
  {
   "cell_type": "markdown",
   "id": "bde3f451-28e3-42ec-be43-d2553a1d61c9",
   "metadata": {},
   "source": [
    "$$ = \\frac{a^4}{4V}\\int_0^{2\\pi}\\int_0^\\pi\\sin\\phi\\,\\mathrm{d}\\phi\\,\\mathrm{d}\\theta$$"
   ]
  },
  {
   "cell_type": "markdown",
   "id": "523cc263-9dd1-424b-85a2-9187315eeb45",
   "metadata": {},
   "source": [
    "$$ = \\frac{\\pi a^4}{V} = \\frac{3a}{4}$$"
   ]
  },
  {
   "cell_type": "markdown",
   "id": "05c2e6e4-2e68-4636-ab60-6b519c857116",
   "metadata": {},
   "source": [
    "**b)**  Assuming our fixed diameter is the $z$-axis,  \n",
    "\n",
    "$$ \\overline{r} = \\frac{1}{V}\\iiint_D r\\,\\mathrm{d}V = \\frac{1}{V}\\int_0^{2\\pi}\\int_0^\\pi\\int_0^a \\rho^3\\sin^2\\phi\\,\\mathrm{d}\\rho\\,\\mathrm{d}\\phi\\,\\mathrm{d}\\theta$$"
   ]
  },
  {
   "cell_type": "markdown",
   "id": "e72f2b43-2111-4b26-9e85-a2d4649d9720",
   "metadata": {},
   "source": [
    "$$ = \\frac{a^4}{4V}\\int_0^{2\\pi}\\int_0^\\pi\\big(1-\\cos^2\\phi\\big)\\,\\mathrm{d}\\phi\\,\\mathrm{d}\\theta$$"
   ]
  },
  {
   "attachments": {},
   "cell_type": "markdown",
   "id": "6c4c7da6-43f3-435e-ae50-f4dfadce92e3",
   "metadata": {},
   "source": [
    "$$ = \\frac{a^4}{8V}\\int_0^{2\\pi}\\int_0^\\pi\\big(1-\\cos 2\\phi\\big)\\,\\mathrm{d}\\phi\\,\\mathrm{d}\\theta = \\frac{\\pi^2 a^4}{4V}$$"
   ]
  },
  {
   "cell_type": "markdown",
   "id": "492f4de7-ca56-4a75-ae7e-a7722c859a8c",
   "metadata": {},
   "source": [
    "$$ = \\frac{3\\pi a}{16}$$"
   ]
  },
  {
   "cell_type": "code",
   "execution_count": 3,
   "id": "cc9bb9c1-a29d-43cb-926a-134e2ef7c569",
   "metadata": {},
   "outputs": [
    {
     "data": {
      "text/plain": [
       "0.5890486225480862"
      ]
     },
     "execution_count": 3,
     "metadata": {},
     "output_type": "execute_result"
    }
   ],
   "source": [
    "3*pi/16"
   ]
  },
  {
   "cell_type": "markdown",
   "id": "2db6fd45-38d3-4331-934c-fc2accadf235",
   "metadata": {},
   "source": [
    "**c)**  Assuming said fixed plane is the $x,y$-plane, via symmetry,   \n",
    "\n",
    "$$ \\overline{|z|} = \\frac{2}{V}\\iiint_{0.5D} \\rho\\cos\\phi\\,\\mathrm{d}V = \\frac{2}{V}\\int_0^{2\\pi}\\int_0^{0.5\\pi}\\int_0^a \\rho^3\\sin\\phi\\cos\\phi\\,\\mathrm{d}\\rho\\,\\mathrm{d}\\phi\\,\\mathrm{d}\\theta$$"
   ]
  },
  {
   "attachments": {},
   "cell_type": "markdown",
   "id": "5b0d8fb2-b0a4-4ddb-ad44-919f343e81a5",
   "metadata": {},
   "source": [
    "where $0.5D$ is the upper half of $D$.  \n",
    "\n",
    "$$ \\overline{|z|} = \\frac{a^4}{4V} \\int_0^{2\\pi}\\int_0^{0.5\\pi}\\sin 2\\phi\\,\\mathrm{d}\\phi\\,\\mathrm{d}\\theta = \\frac{\\pi a^4}{2V}$$"
   ]
  },
  {
   "cell_type": "markdown",
   "id": "46c36998-4783-49e6-bc05-0328def8c9d5",
   "metadata": {},
   "source": [
    "$$ = \\frac{3a}{8}$$"
   ]
  },
  {
   "cell_type": "markdown",
   "id": "b32cd1a7-1438-4ef8-83bf-c1e4fece8b44",
   "metadata": {},
   "source": [
    "### Gravitational Attraction  \n",
    "\n",
    "For the problems of this section, recall that:  \n",
    "\n",
    "$$ \\mathbf{F} = \\frac{GM}{|\\mathbf{R}|^2}\\,\\mathbf{r} \\quad\\quad\\text{where }\\,\\mathbf{r} = \\frac{\\mathbf{R}}{|\\mathbf{R}|}$$"
   ]
  },
  {
   "cell_type": "markdown",
   "id": "5131664f-42c0-47eb-a72e-e25d4f37bff9",
   "metadata": {},
   "source": [
    "#### $\\S 5\\mathrm{C}: 2$  \n",
    "\n",
    "Find the gravitational attraction of the region bounded above by the plane $z = 2$\n",
    "and below by the cone $z^2 = 4\\big(x^2 + y^2\\big)$, on a unit mass at the origin; take $\\delta = 1$."
   ]
  },
  {
   "cell_type": "markdown",
   "id": "db8de9c9-ca14-43c3-88a6-a411d4b902b3",
   "metadata": {},
   "source": [
    "The region $D$ is bounded by, in cylindrical coordinates:  \n",
    "\n",
    "$$ D:\\; z = 2  \\quad\\quad\\text{and}\\quad\\quad z = 2r $$"
   ]
  },
  {
   "cell_type": "markdown",
   "id": "e057cd03-e689-41b2-abd9-374f5d8f4c29",
   "metadata": {},
   "source": [
    "In spherical coordinates, our plane is given by:  \n",
    "\n",
    "$$ \\rho\\cos\\phi = 2 \\quad\\therefore\\quad \\rho := \\rho_2(\\phi,\\theta) = 2\\sec\\phi$$"
   ]
  },
  {
   "cell_type": "markdown",
   "id": "485e8bc5-bcc1-49a9-9555-f8cc52b76a44",
   "metadata": {},
   "source": [
    "Via symmetry,  \n",
    "\n",
    "$$ F_x,F_y = 0,0$$"
   ]
  },
  {
   "cell_type": "markdown",
   "id": "3132ea15-501c-442e-b799-46716d84a905",
   "metadata": {},
   "source": [
    "Which leaves us only with the $z$-compliment of $\\mathbf{F}$ to find.  \n",
    "\n",
    "$$ F_z = G\\iiint_D \\frac{\\delta}{|\\mathbf{R}|^2}\\,\\mathbf{r}\\cdot\\mathbf{k}\\,\\mathrm{d}V = G\\iiint_D \\frac{\\cos\\phi}{\\rho^2}\\,\\mathrm{d}V$$"
   ]
  },
  {
   "cell_type": "markdown",
   "id": "1d883660-c1b1-451b-b484-9565322ee1a0",
   "metadata": {},
   "source": [
    "$$ = G\\int_0^{2\\pi}\\int_0^{\\phi_2}\\int_0^{2\\sec\\phi}\\cos\\phi\\sin\\phi\\,\\mathrm{d}\\rho\\,\\mathrm{d}\\phi\\,\\mathrm{d}\\theta$$"
   ]
  },
  {
   "cell_type": "markdown",
   "id": "443eafeb-c7c3-4c9d-8665-84ebcbb6f0fe",
   "metadata": {},
   "source": [
    "where  \n",
    "\n",
    "$$ \\tan\\big(90^\\circ-\\phi_2\\big) = 2 \\quad\\quad\\text{or}\\quad\\quad \\phi_2 = 0.5\\pi - \\arctan 2$$"
   ]
  },
  {
   "cell_type": "code",
   "execution_count": 9,
   "id": "95f352b0-9b5a-4346-9ce0-ef203fa060d8",
   "metadata": {},
   "outputs": [
    {
     "data": {
      "text/plain": [
       "26.565051177077994"
      ]
     },
     "execution_count": 9,
     "metadata": {},
     "output_type": "execute_result"
    }
   ],
   "source": [
    "phi_2 = 0.5*pi-np.arctan(2); np.degrees(phi_2)"
   ]
  },
  {
   "cell_type": "markdown",
   "id": "11e074c5-74d0-4166-ac71-4fcc1af74508",
   "metadata": {},
   "source": [
    "$$ F_z = 2G\\int_0^{2\\pi}\\int_0^{\\phi_2}\\sin\\phi\\,\\mathrm{d}\\phi\\,\\mathrm{d}\\theta$$"
   ]
  },
  {
   "cell_type": "markdown",
   "id": "a368df7e-186e-4e45-9f99-8af6233cbcfa",
   "metadata": {},
   "source": [
    "$$ = 2G\\int_0^{2\\pi}\\big(1-\\cos\\phi_2\\big)\\,\\mathrm{d}\\theta$$"
   ]
  },
  {
   "cell_type": "markdown",
   "id": "3bcb844f-084c-4969-b212-c05ba0927431",
   "metadata": {},
   "source": [
    "$$ = 4\\pi G\\big(1 - \\sin\\arctan 2\\big)$$"
   ]
  },
  {
   "cell_type": "markdown",
   "id": "bf470515-a250-4ed9-a571-3a66debc5c58",
   "metadata": {},
   "source": [
    "$$ \\approxeq 4\\pi G \\cdot 0.105$$"
   ]
  },
  {
   "cell_type": "code",
   "execution_count": 10,
   "id": "8684d1dd-a04b-4abf-8fff-f4de9cd2ce53",
   "metadata": {},
   "outputs": [
    {
     "data": {
      "text/plain": [
       "0.10557280900008414"
      ]
     },
     "execution_count": 10,
     "metadata": {},
     "output_type": "execute_result"
    }
   ],
   "source": [
    "1 - np.cos(phi_2)"
   ]
  },
  {
   "cell_type": "code",
   "execution_count": null,
   "id": "a9ab2ed3-1d6e-42de-9cc3-6ad50dd664df",
   "metadata": {},
   "outputs": [],
   "source": []
  },
  {
   "cell_type": "markdown",
   "id": "9e4caeb0-e618-4c8a-a1f3-be631f19a669",
   "metadata": {},
   "source": [
    "#### $\\S 5\\mathrm{C}:3$  \n",
    "\n",
    "Find the gravitational attraction of a solid sphere of radius $1$ on a unit point mass\n",
    "$Q$ on its surface, if the density of the sphere at $P (x, y, z)$ is $|P Q|^{−1/2}$. "
   ]
  },
  {
   "cell_type": "markdown",
   "id": "eb0f377b-4640-4317-a202-f4fae68a1634",
   "metadata": {},
   "source": [
    "Assuming $Q$ is at origin and the sphere is situated on a way such that the $z$-axis is central to it,  \n",
    "\n",
    "$$ \\delta = \\frac{1}{\\sqrt{\\rho}}$$"
   ]
  },
  {
   "cell_type": "markdown",
   "id": "48d0fdcf-4ad8-4513-98c6-d92917451fe1",
   "metadata": {},
   "source": [
    "and our sphere, henceforth $D$, is bounded by:  \n",
    "\n",
    "$$ D:\\; x^2+y^2+(z-1)^2 =1 \\quad\\quad\\text{or}\\quad\\quad \\rho^2\\sin^2\\phi + \\big(\\rho\\cos\\phi - 1\\big)^2 = 1$$"
   ]
  },
  {
   "cell_type": "markdown",
   "id": "1397cd17-065d-4319-86e2-f9b2af25ed09",
   "metadata": {},
   "source": [
    "$$ \\rho^2  - 2\\rho\\cos\\phi = 0 \\quad\\therefore\\quad \\rho:=\\rho_2(\\phi,\\theta) = 2\\cos\\phi \\quad\\text{for } 0 \\le \\phi \\le 0.5\\pi$$"
   ]
  },
  {
   "cell_type": "markdown",
   "id": "0da5e306-3a5c-47ac-bbc6-a6ba21d7f9de",
   "metadata": {},
   "source": [
    "Via symmetry,  \n",
    "\n",
    "$$ F_x,F_y = 0,0$$"
   ]
  },
  {
   "cell_type": "markdown",
   "id": "1eba93b4-c246-40ac-9628-30ad1b1334b3",
   "metadata": {},
   "source": [
    "Which leaves us with:  \n",
    "\n",
    "$$ F_z = G\\iiint_D \\frac{\\delta \\cos\\phi}{\\rho^2}\\,\\mathrm{d}V$$"
   ]
  },
  {
   "cell_type": "markdown",
   "id": "bfdd85d1-7eb0-40e7-a271-27a069a90174",
   "metadata": {},
   "source": [
    "$$ = G\\int_0^{2\\pi}\\int_0^{0.5\\pi}\\int_0^{2\\cos\\phi}\\frac{\\cos\\phi\\sin\\phi}{\\sqrt{\\rho}}\\,\\mathrm{d}\\rho\\,\\mathrm{d}\\phi\\,\\mathrm{d}\\theta$$"
   ]
  },
  {
   "cell_type": "markdown",
   "id": "abe5a730-f8cf-451f-b3ce-1dca67f50423",
   "metadata": {},
   "source": [
    "$$ = 2\\sqrt{2}G\\int_0^{2\\pi}\\int_0^{0.5\\pi}\\cos^2\\phi\\sin\\phi\\,\\mathrm{d}\\phi\\,\\mathrm{d}\\theta$$"
   ]
  },
  {
   "cell_type": "markdown",
   "id": "2256bf58-2b10-492c-b4c5-00dbc1b18e81",
   "metadata": {},
   "source": [
    "$$ = \\frac{4\\sqrt{2}\\pi G}{3}$$"
   ]
  },
  {
   "cell_type": "markdown",
   "id": "7fb09aeb-154b-48a2-a590-f9993d8ffba4",
   "metadata": {},
   "source": [
    "#### $\\S 5\\mathrm{C}:4$  \n",
    "\n",
    "Find the gravitational attraction of the region which is bounded above by the sphere\n",
    "$x^2 + y^2 + z^2 = 1$ and below by the sphere $x^2 + y^2 + z^2 = 2z$, on a unit mass at the origin.\n",
    "(Take $\\delta = 1$.)"
   ]
  },
  {
   "cell_type": "markdown",
   "id": "cbd46edd-d923-428b-a331-224660a40047",
   "metadata": {},
   "source": [
    "The top sphere, in cylindrical coordinates, is given by:  \n",
    "\n",
    "$$ r^2 + z^2 = 1 \\quad\\therefore\\quad z:= z_2(r,\\theta) = \\pm \\sqrt{1-r^2}$$"
   ]
  },
  {
   "cell_type": "markdown",
   "id": "f5e9fdac-04ec-48df-ae9e-6d7268ded7b4",
   "metadata": {},
   "source": [
    "And, the bottom sphere is given by:  \n",
    "\n",
    "$$ r^2 + z^2 - 2z = 0 $$"
   ]
  },
  {
   "cell_type": "markdown",
   "id": "f7a5cb18-7da4-4283-8f39-699a83a8e639",
   "metadata": {},
   "source": [
    "Via the above and the quadratic formula,  \n",
    "\n",
    "$$ z:=z_1(r,\\theta) = \\frac{2\\pm \\sqrt{4 - 4r^2}}{2}$$"
   ]
  },
  {
   "cell_type": "markdown",
   "id": "8914fa65-65be-49ba-aa6c-65a29e4c0b01",
   "metadata": {},
   "source": [
    "$$ = 1\\pm\\sqrt{1-r^2}$$"
   ]
  },
  {
   "cell_type": "code",
   "execution_count": 14,
   "id": "3bd068c3-ab52-4789-85f9-701a962f9963",
   "metadata": {
    "jupyter": {
     "source_hidden": true
    }
   },
   "outputs": [
    {
     "data": {
      "text/plain": [
       "<matplotlib.legend.Legend at 0x7088381b8520>"
      ]
     },
     "execution_count": 14,
     "metadata": {},
     "output_type": "execute_result"
    },
    {
     "data": {
      "image/png": "[encoded data removed]",
      "text/plain": [
       "<Figure size 400x600 with 1 Axes>"
      ]
     },
     "metadata": {},
     "output_type": "display_data"
    }
   ],
   "source": [
    "# Create the domain(s).\n",
    "r = np.linspace(-1,1,num=250)\n",
    "\n",
    "# Define the curves.\n",
    "z_2 = f = np.sqrt(1-r**2)\n",
    "\n",
    "# Create the figure and axes.\n",
    "fig, ax = plt.subplots(figsize=(4,6))\n",
    "ax.set_xlabel('r-axis')\n",
    "ax.set_ylabel('z-axis')\n",
    "ax.grid()\n",
    "\n",
    "# Plot the curves.\n",
    "ax.plot(r,z_2,color='tab:blue',label=r'$z_2(r,\\theta)$')\n",
    "ax.plot(r,-z_2,color='tab:blue')\n",
    "ax.plot(r,1+f,color='tab:red',label=r'$z_1(r,\\theta)$')\n",
    "ax.plot(r,1-f,color='tab:red')\n",
    "ax.legend()"
   ]
  },
  {
   "cell_type": "markdown",
   "id": "762e727e-34c7-4198-a2a7-c6c7c0d423ea",
   "metadata": {},
   "source": [
    "The bottom sphere -- the one given by $z_1(r,\\theta)$ -- is given by, in spherical coordinates:  \n",
    "\n",
    "$$ \\rho^2\\sin^2\\phi + \\rho^2\\cos^2\\phi = 2\\rho\\cos\\phi \\quad\\quad\\text{or}\\quad\\quad \\rho := \\rho_1(\\phi,\\theta) = 2\\cos\\phi\\quad\\text{for }0\\le \\phi \\le 0.5\\pi$$"
   ]
  },
  {
   "cell_type": "markdown",
   "id": "6f8e0ad1-73eb-4285-9b27-e0890e527eab",
   "metadata": {},
   "source": [
    "The intersection between the two spheres occurs at:  \n",
    "\n",
    "$$ \\sqrt{1-r^2} = 1 - \\sqrt{1-r^2} \\quad\\quad\\text{or}\\quad\\quad 2\\sqrt{1-r^2} = 1$$"
   ]
  },
  {
   "cell_type": "markdown",
   "id": "92db445f-2f3f-4e30-a751-d23e349da07d",
   "metadata": {},
   "source": [
    "$$  1- r^2 = \\frac{1}{4} \\quad\\therefore\\quad r^2 = \\frac{3}{4} \\quad\\therefore$$"
   ]
  },
  {
   "cell_type": "markdown",
   "id": "639b4c80-5530-4676-a5df-6cadcbd7f92c",
   "metadata": {},
   "source": [
    "$$ r = \\frac{\\sqrt{3}}{2}$$"
   ]
  },
  {
   "cell_type": "markdown",
   "id": "e17a68a5-dd63-4eeb-a470-3e1225c24225",
   "metadata": {},
   "source": [
    "Therefore,  \n",
    "\n",
    "$$ \\cos\\big(0.5\\pi - \\phi_1\\big) = \\sin\\phi_1 = \\frac{\\sqrt{3}}{2}$$"
   ]
  },
  {
   "cell_type": "code",
   "execution_count": 16,
   "id": "02980b48-281e-486d-bd36-7a4f233d0bf1",
   "metadata": {},
   "outputs": [
    {
     "data": {
      "text/plain": [
       "59.99999999999999"
      ]
     },
     "execution_count": 16,
     "metadata": {},
     "output_type": "execute_result"
    }
   ],
   "source": [
    "np.degrees(np.arcsin(sqrt(3)/2))"
   ]
  },
  {
   "cell_type": "code",
   "execution_count": 18,
   "id": "1ae55750-a0a2-4b15-9364-43249cd70eb3",
   "metadata": {},
   "outputs": [
    {
     "data": {
      "text/plain": [
       "1.0471975511965976"
      ]
     },
     "execution_count": 18,
     "metadata": {},
     "output_type": "execute_result"
    }
   ],
   "source": [
    "pi/3"
   ]
  },
  {
   "cell_type": "markdown",
   "id": "1a99a69c-b56b-4e45-b833-5a950e0504ba",
   "metadata": {},
   "source": [
    "Via symmetry,  \n",
    "\n",
    "$$ F_x,F_y = 0,0$$"
   ]
  },
  {
   "cell_type": "markdown",
   "id": "f166fd58-448f-4505-a3ca-8521b69d85f3",
   "metadata": {},
   "source": [
    "Which leaves us with:  \n",
    "\n",
    "$$ F_z = G\\iiint_D \\frac{\\cos\\phi}{\\rho^2}\\,\\mathrm{d}V = G\\int_0^{2\\pi}\\int_{\\pi/3}^{0.5\\pi}\\int_{2\\cos\\phi}^1 \\sin\\phi\\cos\\phi\\,\\mathrm{d}\\rho\\,\\mathrm{d}\\phi\\,\\mathrm{d}\\theta + F_{z2}$$"
   ]
  },
  {
   "cell_type": "markdown",
   "id": "d34820b8-f6aa-4273-9278-01e1bef981e9",
   "metadata": {},
   "source": [
    "where  \n",
    "\n",
    "$$ F_{z2} = G\\int_0^{2\\pi}\\int_{0.5\\pi}^\\pi\\int_0^1\\sin\\phi\\cos\\phi\\,\\mathrm{d}\\rho\\,\\mathrm{d}\\phi\\,\\mathrm{d}\\theta$$"
   ]
  },
  {
   "cell_type": "markdown",
   "id": "4f48d1cc-e32c-4250-9d68-b0a83913622e",
   "metadata": {},
   "source": [
    "$$ = \\frac{G}{2}\\int_0^{2\\pi}\\int_{0.5\\pi}^\\pi \\sin2\\phi\\,\\mathrm{d}\\phi\\,\\mathrm{d}\\theta$$"
   ]
  },
  {
   "cell_type": "markdown",
   "id": "82837bdc-585b-4dfe-96a5-6d153365968b",
   "metadata": {},
   "source": [
    "$$= - \\pi G$$"
   ]
  },
  {
   "cell_type": "markdown",
   "id": "ba90c9e0-5d47-4112-b58d-f11ff6da7d10",
   "metadata": {},
   "source": [
    "Which leaves us with:  \n",
    "\n",
    "$$ F_{z1} = G\\int_0^{2\\pi}\\int_{\\pi/3}^{0.5\\pi}\\int_{2\\cos\\phi}^1 \\sin\\phi\\cos\\phi\\,\\mathrm{d}\\rho\\,\\mathrm{d}\\phi\\,\\mathrm{d}\\theta$$"
   ]
  },
  {
   "cell_type": "markdown",
   "id": "824befb3-6ad7-4e7c-96ca-4ec61bcd411e",
   "metadata": {},
   "source": [
    "$$ = G\\int_0^{2\\pi}\\int_{\\pi/3}^{0.5\\pi}\\big(\\sin\\phi\\cos\\phi - 2\\sin\\phi\\cos^2\\phi\\big)\\,\\mathrm{d}\\phi\\,\\mathrm{d}\\theta$$"
   ]
  },
  {
   "cell_type": "markdown",
   "id": "b9dfe3ea-4722-40f2-9ce5-39b74d024b88",
   "metadata": {},
   "source": [
    "$$ = \\frac{G}{2}\\int_0^{2\\pi}\\int_{\\pi/3}^{0.5\\pi}\\sin2\\phi\\,\\mathrm{d}\\phi\\,\\mathrm{d}\\theta - F_{z1b}$$"
   ]
  },
  {
   "cell_type": "markdown",
   "id": "c2682c39-ea72-4074-b3c2-4deabdb723f4",
   "metadata": {},
   "source": [
    "where,  \n",
    "\n",
    "$$ F_{z1b} = 2G\\int_0^{2\\pi}\\int_{\\pi/3}^{0.5\\pi}\\sin\\phi\\cos^2\\phi\\,\\mathrm{d}\\phi\\,\\mathrm{d}\\theta$$"
   ]
  },
  {
   "cell_type": "markdown",
   "id": "0cfd6312-6ab2-4b8e-9591-fa29686c3399",
   "metadata": {},
   "source": [
    "The inner integral of the above double integral is:  \n",
    "\n",
    "$$ \\int_{\\pi/3}^{0.5\\pi}\\sin\\phi\\cos^2\\phi\\,\\mathrm{d}\\phi = -\\left.\\frac{\\cos^3\\phi}{3}\\right]_{\\pi/3}^{0.5\\pi}$$"
   ]
  },
  {
   "cell_type": "markdown",
   "id": "81f765b8-32d9-46a2-93d2-c3859c6b8d57",
   "metadata": {},
   "source": [
    "$$ = \\frac{1}{3}\\cos^3\\frac{\\pi}{3} = \\frac{1}{24}$$"
   ]
  },
  {
   "cell_type": "markdown",
   "id": "03716eb1-9838-429e-933d-e3b409999e55",
   "metadata": {},
   "source": [
    "Therefore,  \n",
    "\n",
    "$$ F_{z1b} = \\frac{\\pi G}{6}$$"
   ]
  },
  {
   "cell_type": "markdown",
   "id": "60f5f29d-af5e-40be-8b00-01d3a12037d1",
   "metadata": {},
   "source": [
    "Which leaves us with:  \n",
    "\n",
    "$$ F_{z1a} = \\frac{G}{2}\\int_0^{2\\pi}\\int_{\\pi/3}^{0.5\\pi}\\sin2\\phi\\,\\mathrm{d}\\phi\\,\\mathrm{d}\\theta$$"
   ]
  },
  {
   "cell_type": "markdown",
   "id": "6c976d80-884f-4ea5-89e2-f85a63bad1ac",
   "metadata": {},
   "source": [
    "The inner integral of the above double integral is:  \n",
    "\n",
    "$$ \\int_{\\pi/3}^{0.5\\pi}\\sin2\\phi\\,\\mathrm{d}\\phi = -\\frac{1}{2}\\Big.\\cos2\\phi\\Big]_{\\pi/3}^{0.5\\pi}$$"
   ]
  },
  {
   "cell_type": "markdown",
   "id": "950aa890-1886-43e7-bf92-d6a3dc8acf90",
   "metadata": {},
   "source": [
    "$$ -\\frac{1}{2}(-1 +0.5) = \\frac{1}{4}$$"
   ]
  },
  {
   "cell_type": "markdown",
   "id": "0727c589-21bf-4bf7-8f52-52e269823baf",
   "metadata": {},
   "source": [
    "Therefore,  \n",
    "\n",
    "$$ F_{z1a} = \\frac{\\pi G}{4}$$"
   ]
  },
  {
   "cell_type": "markdown",
   "id": "c0ee6e3e-7f86-4311-9643-2754b0a769d5",
   "metadata": {},
   "source": [
    "Therefore,  \n",
    "\n",
    "$$F_{z1} = \\pi G\\left(\\frac{1}{4} - \\frac{1}{6}\\right) = \\pi G\\,\\frac{3 - 2}{12} = \\frac{\\pi G}{12}$$"
   ]
  },
  {
   "cell_type": "markdown",
   "id": "330bdc2b-f795-4ff9-9cb8-4d6e683d3139",
   "metadata": {},
   "source": [
    "Finally,  \n",
    "\n",
    "$$ F_z = \\pi G \\left(\\frac{1}{12} - 1\\right) = -\\frac{11}{12}\\pi G$$"
   ]
  },
  {
   "cell_type": "code",
   "execution_count": 19,
   "id": "d2ee263c-917c-49df-ac4a-129286aab576",
   "metadata": {},
   "outputs": [
    {
     "data": {
      "text/plain": [
       "-0.4999999999999998"
      ]
     },
     "execution_count": 19,
     "metadata": {},
     "output_type": "execute_result"
    }
   ],
   "source": [
    "cos(2*pi/3)"
   ]
  }
 ],
 "metadata": {
  "kernelspec": {
   "display_name": "Python 3 (ipykernel)",
   "language": "python",
   "name": "python3"
  },
  "language_info": {
   "codemirror_mode": {
    "name": "ipython",
    "version": 3
   },
   "file_extension": ".py",
   "mimetype": "text/x-python",
   "name": "python",
   "nbconvert_exporter": "python",
   "pygments_lexer": "ipython3",
   "version": "3.10.12"
  }
 },
 "nbformat": 4,
 "nbformat_minor": 5
}
