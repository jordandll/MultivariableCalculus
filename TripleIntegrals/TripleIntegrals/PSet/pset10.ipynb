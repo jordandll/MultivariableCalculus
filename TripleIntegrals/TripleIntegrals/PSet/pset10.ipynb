{
 "cells": [
  {
   "cell_type": "markdown",
   "id": "5d86b1df-a47b-4d3e-9c9c-5795e692d0a3",
   "metadata": {},
   "source": [
    "# Problem Set 10"
   ]
  },
  {
   "cell_type": "code",
   "execution_count": 1,
   "id": "86c961dd-0b4a-4382-b47c-0c1bbd2190bb",
   "metadata": {},
   "outputs": [],
   "source": [
    "import numpy as np\n",
    "import matplotlib.pyplot as plt\n",
    "import matplotlib as mpl"
   ]
  },
  {
   "cell_type": "markdown",
   "id": "533a1a61-c4b1-45bf-bb01-1ec63679f9b6",
   "metadata": {},
   "source": [
    "## Part I\n",
    "\n",
    "Triple Integrals in\n",
    "\n",
    "### Rectangular and Cylindrical Coordinates"
   ]
  },
  {
   "cell_type": "markdown",
   "id": "0ad04238-4f1a-4aaf-9374-dadfd81b5303",
   "metadata": {},
   "source": [
    "#### $\\S 5\\mathrm{A} : 1$\n",
    "\n",
    "**a)**  Let \n",
    "\n",
    "$$ f:=f(x,y,z) = x+y+z$$"
   ]
  },
  {
   "cell_type": "markdown",
   "id": "f515e664-8564-4737-b3d2-3046eba17913",
   "metadata": {},
   "source": [
    "$$ I := \\int_0^2\\int_{-1}^1\\int_0^1 f(x,y,z)\\,\\mathrm{d}x\\,\\mathrm{d}y\\,\\mathrm{d}z$$"
   ]
  },
  {
   "cell_type": "markdown",
   "id": "938cfbb9-0538-488a-b94f-960691cac0f0",
   "metadata": {},
   "source": [
    "$$ = \\int_0^1f\\,\\mathrm{d}x = \\frac{1}{2} + y + z$$"
   ]
  },
  {
   "cell_type": "markdown",
   "id": "65eb6317-d10a-4ce4-a59a-181955e679a9",
   "metadata": {},
   "source": [
    "Thus,  \n",
    "\n",
    "$$ I = \\int_0^2\\int_{-1}^1 \\left(\\frac{1}{2}+y+z\\right)\\,\\mathrm{d}y\\,\\mathrm{d}z$$"
   ]
  },
  {
   "cell_type": "markdown",
   "id": "84209543-8830-4087-af49-c34123e100f4",
   "metadata": {},
   "source": [
    "$$ \\int_{-1}^1\\left(\\frac{1}{2}+y+z\\right)\\,\\mathrm{d}y = \\left.\\left(\\frac{y}{2} + \\frac{y^2}{2} + zy\\right)\\right]_{-1}^1$$"
   ]
  },
  {
   "cell_type": "markdown",
   "id": "93a9414e-e54b-44f7-9ce0-9e8ab7f507bf",
   "metadata": {},
   "source": [
    "$$ = 1 + 2z$$"
   ]
  },
  {
   "cell_type": "markdown",
   "id": "b327f1da-86a6-4d91-a6d3-30fd270c6fe6",
   "metadata": {},
   "source": [
    "Thus,  \n",
    "\n",
    "$$ I = \\int_0^2(1+2z)\\,\\mathrm{d}z = \\big.\\big(z + z^2\\big)\\big]_0^2$$"
   ]
  },
  {
   "cell_type": "markdown",
   "id": "5589df6c-a8ae-4923-ba63-60d05742b9db",
   "metadata": {},
   "source": [
    "$$ = 2 + 4 =  6$$"
   ]
  },
  {
   "cell_type": "markdown",
   "id": "785cace6-7078-4c22-b720-fcfcd489c2fc",
   "metadata": {},
   "source": [
    "**b)**  Let  \n",
    "\n",
    "$$ f:=f(x,y,z) = 2xy^2z$$"
   ]
  },
  {
   "cell_type": "markdown",
   "id": "c9c24061-77af-491a-ba61-a795f2dc038d",
   "metadata": {},
   "source": [
    "$$ I := \\int_0^2\\int_0^\\sqrt{y}\\int_0^{xy} f\\,\\mathrm{d}z\\,\\mathrm{d}x\\,\\mathrm{d}y$$"
   ]
  },
  {
   "cell_type": "markdown",
   "id": "f51f7f41-2379-4964-8c64-7b36ddd4e4aa",
   "metadata": {},
   "source": [
    "$$ = \\int_0^2\\int_0^\\sqrt{y}x^3y^4\\,\\mathrm{d}x\\,\\mathrm{d}y$$"
   ]
  },
  {
   "cell_type": "markdown",
   "id": "670ae966-94a5-42ce-a619-00827fbe769c",
   "metadata": {},
   "source": [
    "$$ = \\frac{1}{4}\\int_0^2 y^6\\,\\mathrm{d}y$$"
   ]
  },
  {
   "cell_type": "markdown",
   "id": "83cc8fe2-2674-4826-a5f0-0dd4ade6f546",
   "metadata": {},
   "source": [
    "$$ = \\frac{2^7}{7\\cdot 4} = \\frac{32}{7}$$"
   ]
  },
  {
   "cell_type": "markdown",
   "id": "337a3f7b-03db-459c-ae8f-1c8bb51c7700",
   "metadata": {},
   "source": [
    "#### $\\S 5\\mathrm{A} : 2$\n",
    "\n",
    "**a)**  Our prism, henceforth $D$, has vertices:  \n",
    "\n",
    "$$ A = (0,0,0) \\quad\\quad B = (0,1,0) \\quad\\quad C = (0,0,1)$$"
   ]
  },
  {
   "cell_type": "markdown",
   "id": "8bf4a6a2-bf89-4ded-aced-0e4d8d2c4e0d",
   "metadata": {},
   "source": [
    "$$ R = A + (1,0,0) = (1,0,0) \\quad\\quad Q = B + (1,0,0) = (1,1,0) $$"
   ]
  },
  {
   "cell_type": "markdown",
   "id": "b9c9253d-ac3b-4a36-b541-f2535b761b4e",
   "metadata": {},
   "source": [
    "$$ P = C + (1,0,0) = (1,0,1)$$"
   ]
  },
  {
   "cell_type": "markdown",
   "id": "82f5af20-d30d-4398-99ea-6b27b03dbd7a",
   "metadata": {},
   "source": [
    "It has two triangular faces.  \n",
    "\n",
    "$$ \\mathcal{R}_1 = \\overline{ABC} \\quad\\quad\\text{and}\\quad\\quad \\mathcal{R}_2 = \\overline{RQP}$$"
   ]
  },
  {
   "cell_type": "markdown",
   "id": "cfdee419-4e2d-4655-8ad2-d543f2b86767",
   "metadata": {},
   "source": [
    "It also has three rectangular faces.  \n",
    "\n",
    "$$ \\mathcal{R}_3 = \\overline{ACPR} \\quad\\quad \\mathcal{R}_4 = \\overline{ABQR} \\quad\\quad \\mathcal{R}_5 = \\overline{BCPQ}$$"
   ]
  },
  {
   "cell_type": "markdown",
   "id": "4865f0d2-43a8-4462-bdce-72b92e462a9b",
   "metadata": {},
   "source": [
    "$$ V = \\iiint_D\\,\\mathrm{d}V = \\int_0^1\\int_0^1\\int_0^{1-y}\\,\\mathrm{d}z\\,\\mathrm{d}y\\,\\mathrm{d}x$$"
   ]
  },
  {
   "cell_type": "markdown",
   "id": "992c4a0f-98e6-4027-8a21-e5bf1b216453",
   "metadata": {},
   "source": [
    "$$ = \\int_0^1\\int_0^1(1-y)\\,\\mathrm{d}y\\,\\mathrm{d}x$$"
   ]
  },
  {
   "cell_type": "markdown",
   "id": "5451401b-42e3-4eea-9bdc-f9ae32c17035",
   "metadata": {},
   "source": [
    "$$ = 1 - \\frac{1}{2}\\int_0^1\\,\\mathrm{d}x = 0.5$$"
   ]
  },
  {
   "cell_type": "markdown",
   "id": "c67bcb07-30c9-4033-99d2-79b530813109",
   "metadata": {},
   "source": [
    "**c)**  The following equations relate the $x,y,z$-rectangular coordinates with the $y,r,\\theta$-cyclindrical coordinates that we will be integrating with respect to.  \n",
    "\n",
    "$$ r = \\sqrt{x^2+z^2} \\quad\\quad \\sin\\theta = \\frac{z}{r} \\quad\\quad \\cos\\theta = \\frac{x}{r}$$"
   ]
  },
  {
   "cell_type": "markdown",
   "id": "1a70289f-9aae-4cfd-91a0-5f1d02b652ff",
   "metadata": {},
   "source": [
    "$$ V = \\iiint_D \\,\\mathrm{d}V = \\int_0^{0.5\\pi}\\int_0^1\\int_0^2 \\mathrm{d}y\\,\\mathrm{d}A$$"
   ]
  },
  {
   "cell_type": "markdown",
   "id": "1c24b197-5b7e-498b-af8d-2735c0904440",
   "metadata": {},
   "source": [
    "$$ = 2\\int_0^{0.5\\pi}\\int_0^1 r\\,\\mathrm{d}r\\,\\mathrm{d}\\theta$$"
   ]
  },
  {
   "cell_type": "markdown",
   "id": "22422a64-8a57-4c8a-96a7-593e57ca8740",
   "metadata": {},
   "source": [
    "$$ = 0.5\\pi$$"
   ]
  },
  {
   "cell_type": "markdown",
   "id": "212e845e-71b4-4217-ae69-1167c2b48b2b",
   "metadata": {},
   "source": [
    "Let's cross reference the above answer against one obtained from a different approach.  \n",
    "\n",
    "$$ 4V = \\pi a^2 h = \\pi 2$$"
   ]
  },
  {
   "cell_type": "markdown",
   "id": "00ad5312-f819-4a0d-a9d0-922d8fae5384",
   "metadata": {},
   "source": [
    "**d)**  The cone and the upper half of the sphere are, respectively and in cylindrical coordinates, given by:  \n",
    "\n",
    "$$ z := f_1(r,\\theta) = r \\quad\\quad\\text{and}\\quad\\quad z:= f_2(r,\\theta) = \\sqrt{2 - r^2}$$"
   ]
  },
  {
   "cell_type": "markdown",
   "id": "9108ed1d-e4c8-49c0-b85d-b78ce7e57217",
   "metadata": {},
   "source": [
    "Thus,  \n",
    "\n",
    "$$ V = \\iiint_D \\,\\mathrm{d}V = \\int_0^{2\\pi}\\int_0^{r_2}\\int_r^{f_2(r,\\theta)} \\mathrm{d}z\\,\\mathrm{d}A$$"
   ]
  },
  {
   "cell_type": "markdown",
   "id": "4429149b-6ec1-4cce-be2f-1bfd7fd67dbe",
   "metadata": {},
   "source": [
    "where  \n",
    "\n",
    "$$ r_2^2 = 2 - r_2^2 \\quad\\therefore\\quad r_2^2 = 1 \\quad\\therefore$$"
   ]
  },
  {
   "cell_type": "markdown",
   "id": "ec5c8ada-f875-408c-a90b-2d8d3df7ec85",
   "metadata": {},
   "source": [
    "$$ r_2 = \\pm 1$$"
   ]
  },
  {
   "cell_type": "markdown",
   "id": "2509d1e9-4ea9-4f55-a2c9-9d092c792935",
   "metadata": {},
   "source": [
    "Thus,  \n",
    "\n",
    "$$ V = \\int_0^{2\\pi}\\int_0^1 r\\big(\\sqrt{2-r^2} - r\\big)\\,\\mathrm{d}r\\,\\mathrm{d}\\theta = V_1 - V_2$$"
   ]
  },
  {
   "cell_type": "markdown",
   "id": "acc0e619-0aa9-4a4f-9823-63d125f5fdf6",
   "metadata": {},
   "source": [
    "where  \n",
    "\n",
    "$$ V_1 = \\int_0^{2\\pi}\\int_0^1 r\\sqrt{2-r^2}\\,\\mathrm{d}r\\,\\mathrm{d}\\theta$$"
   ]
  },
  {
   "cell_type": "markdown",
   "id": "f48922f1-465b-47cb-bde3-94777b9c67da",
   "metadata": {},
   "source": [
    "and,  \n",
    "\n",
    "$$ V_2 = \\int_0^{2\\pi}\\int_0^1 r^2\\,\\mathrm{d}r\\,\\mathrm{d}\\theta$$"
   ]
  },
  {
   "cell_type": "markdown",
   "id": "527493ab-1b50-483e-9bb3-a3f9423a5cb1",
   "metadata": {},
   "source": [
    "The inner integral of the double integral found in the identity of $V_1$ is:  \n",
    "\n",
    "$$ \\int_0^1r\\sqrt{2-r^2}\\,\\mathrm{d}r = -\\left.\\frac{\\sqrt{\\big(2-r^2\\big)^3}}{3}\\right]_0^1$$"
   ]
  },
  {
   "cell_type": "markdown",
   "id": "86301b8a-614a-48d4-a375-783007ccee22",
   "metadata": {},
   "source": [
    "$$ = -\\frac{1}{3} + \\frac{2\\sqrt{2}}{3} = \\frac{2\\sqrt{2}-1}{3}$$"
   ]
  },
  {
   "cell_type": "markdown",
   "id": "78346874-7d10-4fd7-b0bf-963c81ccdd87",
   "metadata": {},
   "source": [
    "Thus,  \n",
    "\n",
    "$$ V_1 = 2\\pi\\,\\frac{2\\sqrt{2}-1}{3}$$"
   ]
  },
  {
   "cell_type": "markdown",
   "id": "73e324ef-6700-4f47-9ddf-45985c3f1c43",
   "metadata": {},
   "source": [
    "As for $V_2$,  \n",
    "\n",
    "$$ V_2 = \\frac{2\\pi}{3}$$"
   ]
  },
  {
   "cell_type": "markdown",
   "id": "75117598-7149-44db-bf2a-a20a55b55a0b",
   "metadata": {},
   "source": [
    "Finally,  \n",
    "\n",
    "$$ V = 4\\pi\\,\\frac{\\sqrt{2}-1}{3}$$"
   ]
  },
  {
   "cell_type": "markdown",
   "id": "1b96e231-a67d-47c6-8fac-62eaee98ae9a",
   "metadata": {},
   "source": [
    "Now, let's cross reference the above answer against the one obtained by a different approach.  With this approach, we integrate with respect to spherical coordinates.  \n",
    "\n",
    "$$ V = \\int_0^{2\\pi}\\int_0^{0.25\\pi}\\int_0^\\sqrt{2}\\rho^2\\sin\\phi\\,\\mathrm{d}\\rho\\,\\mathrm{d}\\phi\\,\\mathrm{d}\\theta$$"
   ]
  },
  {
   "cell_type": "markdown",
   "id": "5b843557-6700-490a-8806-bd3eb823cb7f",
   "metadata": {},
   "source": [
    "$$  = \\frac{2\\sqrt{2}}{3}\\int_0^{2\\pi}\\int_0^{0.25\\pi}\\sin\\phi\\,\\mathrm{d}\\phi\\,\\mathrm{d}\\theta$$"
   ]
  },
  {
   "cell_type": "markdown",
   "id": "e3d3de65-26b8-4c41-af74-b9eb98d27316",
   "metadata": {},
   "source": [
    "The inner integral of the above double integral is:  \n",
    "\n",
    "$$ \\int_0^{0.25\\pi}\\sin\\phi\\,\\mathrm{d}\\phi = -\\Big.\\cos\\phi\\Big]_0^{0.25\\pi}$$"
   ]
  },
  {
   "cell_type": "markdown",
   "id": "1553dbbf-9a42-4f6a-b333-9fa831df4e67",
   "metadata": {},
   "source": [
    "$$ 1 - \\frac{1}{\\sqrt{2}} = \\frac{\\sqrt{2}-1}{\\sqrt{2}}$$"
   ]
  },
  {
   "cell_type": "markdown",
   "id": "82196eaa-9431-4b1c-b4e6-e5e8166389e2",
   "metadata": {},
   "source": [
    "Thus,  \n",
    "\n",
    "$$ V = \\frac{2}{3}\\,\\big(\\sqrt{2}-1\\big)\\int_0^{2\\pi}\\,\\mathrm{d}\\theta$$"
   ]
  },
  {
   "cell_type": "markdown",
   "id": "5628a6f2-58e8-4639-ba0a-84fbbb71becf",
   "metadata": {},
   "source": [
    "#### $\\S 5\\mathrm{A} : 3$  \n",
    "\n",
    "\\begin{equation}\\tag{3.1}\n",
    "    \\overline{\\mathbf{r}} = \\frac{1}{V}\\iiint_D \\mathbf{r}\\,\\mathrm{d}V\n",
    "\\end{equation}"
   ]
  },
  {
   "cell_type": "markdown",
   "id": "058812f5-b7e8-4178-b130-300a1044b210",
   "metadata": {},
   "source": [
    "The tetrahedron has four vertices.  \n",
    "\n",
    "$$ O = (0,0,0) \\quad\\quad A = (1,0,0) \\quad\\quad B = (0,1,0) \\quad\\quad C (0,0,1)$$"
   ]
  },
  {
   "cell_type": "markdown",
   "id": "78236da2-141f-4d7e-802c-b18b02834734",
   "metadata": {},
   "source": [
    "And four faces, all of which are triangles.  \n",
    "\n",
    "$$ R_1 = \\overline{ABC}\\quad\\quad R_2 = \\overline{OAB} $$"
   ]
  },
  {
   "cell_type": "markdown",
   "id": "e0f695d6-9446-4a6f-91eb-ef53a39e15e8",
   "metadata": {},
   "source": [
    "The rest of the faces are trivial.  $R_1$ and $R_2$ rest on the planes given, respectively, by:  \n",
    "\n",
    "$$ R_1:\\; z := f_2(x,y) = 1 - x - y \\quad\\quad\\text{and}\\quad\\quad R_2:\\; z := f_1(x,y) = 0$$"
   ]
  },
  {
   "cell_type": "markdown",
   "id": "955e3908-5feb-4916-80cb-4b30f5865986",
   "metadata": {},
   "source": [
    "Thus,  \n",
    "\n",
    "$$ V  = \\int_0^1\\int_0^{y_1}\\int_0^{f_2(x,y)}\\mathrm{d}z\\,\\mathrm{d}y\\,\\mathrm{d}x$$"
   ]
  },
  {
   "cell_type": "markdown",
   "id": "60758a4d-1b77-4e51-8262-3291e14627d2",
   "metadata": {},
   "source": [
    "where  \n",
    "\n",
    "$$ 1-x-y_1 = 0 \\quad\\therefore\\quad y_1:=f(x) = 1-x$$"
   ]
  },
  {
   "cell_type": "markdown",
   "id": "c07cb85c-9062-4ed3-a2e3-906781ab0611",
   "metadata": {},
   "source": [
    "$$ V = \\int_0^1\\int_0^{1-x}(1-x-y)\\,\\mathrm{d}y\\,\\mathrm{d}x$$"
   ]
  },
  {
   "cell_type": "markdown",
   "id": "7ecf82cd-2072-48f3-ab49-9e884f92cd98",
   "metadata": {},
   "source": [
    "$$ \\int_0^{1-x}(1-x-y)\\,\\mathrm{d}y = 1-x - x(1-x) - \\frac{(1-x)^2}{2}$$"
   ]
  },
  {
   "cell_type": "markdown",
   "id": "9914a215-d532-4cf8-b952-429d928e30e6",
   "metadata": {},
   "source": [
    "$$= 1 - 2x + x^2 - \\frac{1 - 2x + x^2}{2}$$"
   ]
  },
  {
   "cell_type": "markdown",
   "id": "a2c1c18e-fd04-47d8-8154-5eefda181d3a",
   "metadata": {},
   "source": [
    "$$ = \\frac{(1-x)^2}{2}$$"
   ]
  },
  {
   "cell_type": "markdown",
   "id": "30d6b122-93a4-44c4-b5b9-2990a4c9bc7c",
   "metadata": {},
   "source": [
    "Thus,  \n",
    "\n",
    "$$ V = \\int_0^1\\frac{(1-x)^2}{2}\\,\\mathrm{d}x$$"
   ]
  },
  {
   "cell_type": "markdown",
   "id": "6d984a9a-b021-4961-bc12-74328e058b01",
   "metadata": {},
   "source": [
    "\\begin{equation}\\tag{3.1a}\n",
    "    = \\frac{1}{2}\\,\\left(1 - 1 + \\frac{1}{3}\\right) = \\frac{1}{6}\n",
    "\\end{equation}"
   ]
  },
  {
   "cell_type": "markdown",
   "id": "292bd75e-66b8-462c-9c5f-a8673cfd0eb6",
   "metadata": {},
   "source": [
    "Via equations (3.1) and (3.1a),  \n",
    "\n",
    "\\begin{equation}\\tag{3.2}\n",
    "    \\overline{x} = 6\\int_0^1\\int_0^{1-x}\\int_0^{1-x-y}x\\,\\mathrm{d}z\\,\\mathrm{d}y\\,\\mathrm{d}x\n",
    "\\end{equation}"
   ]
  },
  {
   "cell_type": "markdown",
   "id": "7ed0e746-6d5c-45f6-a3cc-2ded9a79aaf9",
   "metadata": {},
   "source": [
    "$$ = 6\\int_0^1\\int_0^{1-x}\\big(x-x^2-xy\\big)\\,\\mathrm{d}y\\,\\mathrm{d}x$$"
   ]
  },
  {
   "cell_type": "markdown",
   "id": "e3c4e8bd-d8a5-4af3-8472-329098de92d6",
   "metadata": {},
   "source": [
    "$$ \\int_0^{1-x}\\big(x-x^2-xy\\big)\\,\\mathrm{d}y = x - x^2 - x^2 + x^3 - \\frac{x(1-x)^2}{2}$$"
   ]
  },
  {
   "cell_type": "markdown",
   "id": "51a6d89f-c8d3-47b8-8963-8e012ce10fc1",
   "metadata": {},
   "source": [
    "$$ = x\\big(1 - 2x + x^2\\big) - \\frac{x(1-x)^2}{2}$$"
   ]
  },
  {
   "cell_type": "markdown",
   "id": "446776c3-a468-46de-84a6-8a2b2600b19f",
   "metadata": {},
   "source": [
    "$$ = \\frac{x(1-x)^2}{2}$$"
   ]
  },
  {
   "attachments": {},
   "cell_type": "markdown",
   "id": "77f8b3c9-c2f1-4484-ae1d-1470a67b3424",
   "metadata": {},
   "source": [
    "Thus,  \n",
    "\n",
    "$$ \\overline{x} = 3\\int_0^1 x(1-x)^2\\,\\mathrm{d}x = 3\\left(\\frac{1}{2} - \\frac{2}{3} + \\frac{1}{4}\\right)$$"
   ]
  },
  {
   "cell_type": "markdown",
   "id": "173de969-0fed-4984-8fba-a0fd42687f33",
   "metadata": {},
   "source": [
    "\\begin{equation}\\tag{3.2}\n",
    "    = 3\\frac{6 - 8 + 3}{12} = \\frac{1}{4}\n",
    "\\end{equation}"
   ]
  },
  {
   "cell_type": "markdown",
   "id": "a5f2b7f5-0cd1-4339-9ef8-8fd79e1b8aef",
   "metadata": {},
   "source": [
    "#### $\\S 5\\mathrm{A} : 4$"
   ]
  },
  {
   "cell_type": "markdown",
   "id": "3ab317db-0e48-4ad4-9dbf-1481dc0e63bd",
   "metadata": {},
   "source": [
    "#### $\\S 5\\mathrm{A} : 5$"
   ]
  },
  {
   "cell_type": "markdown",
   "id": "fe37d590-cdfc-4b66-ad4d-233f9a6999e1",
   "metadata": {},
   "source": [
    "#### $\\S 5\\mathrm{A} : 6$"
   ]
  },
  {
   "cell_type": "markdown",
   "id": "2eb75892-2b60-4c8b-93ff-d4f8942f18b3",
   "metadata": {},
   "source": [
    "#### $\\S 5\\mathrm{A} : 7$"
   ]
  }
 ],
 "metadata": {
  "kernelspec": {
   "display_name": "Python 3 (ipykernel)",
   "language": "python",
   "name": "python3"
  },
  "language_info": {
   "codemirror_mode": {
    "name": "ipython",
    "version": 3
   },
   "file_extension": ".py",
   "mimetype": "text/x-python",
   "name": "python",
   "nbconvert_exporter": "python",
   "pygments_lexer": "ipython3",
   "version": "3.10.12"
  }
 },
 "nbformat": 4,
 "nbformat_minor": 5
}
