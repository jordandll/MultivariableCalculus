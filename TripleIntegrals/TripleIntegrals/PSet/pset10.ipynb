{
 "cells": [
  {
   "cell_type": "markdown",
   "id": "5d86b1df-a47b-4d3e-9c9c-5795e692d0a3",
   "metadata": {},
   "source": [
    "# Problem Set 10"
   ]
  },
  {
   "cell_type": "code",
   "execution_count": 1,
   "id": "86c961dd-0b4a-4382-b47c-0c1bbd2190bb",
   "metadata": {},
   "outputs": [],
   "source": [
    "import numpy as np\n",
    "import matplotlib.pyplot as plt\n",
    "import matplotlib as mpl"
   ]
  },
  {
   "cell_type": "markdown",
   "id": "533a1a61-c4b1-45bf-bb01-1ec63679f9b6",
   "metadata": {},
   "source": [
    "## Part I\n",
    "\n",
    "Triple Integrals in\n",
    "\n",
    "### Rectangular and Cylindrical Coordinates"
   ]
  },
  {
   "cell_type": "markdown",
   "id": "0ad04238-4f1a-4aaf-9374-dadfd81b5303",
   "metadata": {},
   "source": [
    "#### $\\S 5\\mathrm{A} : 1$\n",
    "\n",
    "**a)**  Let \n",
    "\n",
    "$$ f:=f(x,y,z) = x+y+z$$"
   ]
  },
  {
   "cell_type": "markdown",
   "id": "f515e664-8564-4737-b3d2-3046eba17913",
   "metadata": {},
   "source": [
    "$$ I := \\int_0^2\\int_{-1}^1\\int_0^1 f(x,y,z)\\,\\mathrm{d}x\\,\\mathrm{d}y\\,\\mathrm{d}z$$"
   ]
  },
  {
   "cell_type": "markdown",
   "id": "938cfbb9-0538-488a-b94f-960691cac0f0",
   "metadata": {},
   "source": [
    "$$ = \\int_0^1f\\,\\mathrm{d}x = \\frac{1}{2} + y + z$$"
   ]
  },
  {
   "cell_type": "markdown",
   "id": "65eb6317-d10a-4ce4-a59a-181955e679a9",
   "metadata": {},
   "source": [
    "Thus,  \n",
    "\n",
    "$$ I = \\int_0^2\\int_{-1}^1 \\left(\\frac{1}{2}+y+z\\right)\\,\\mathrm{d}y\\,\\mathrm{d}z$$"
   ]
  },
  {
   "cell_type": "markdown",
   "id": "84209543-8830-4087-af49-c34123e100f4",
   "metadata": {},
   "source": [
    "$$ \\int_{-1}^1\\left(\\frac{1}{2}+y+z\\right)\\,\\mathrm{d}y = \\left.\\left(\\frac{y}{2} + \\frac{y^2}{2} + zy\\right)\\right]_{-1}^1$$"
   ]
  },
  {
   "cell_type": "markdown",
   "id": "93a9414e-e54b-44f7-9ce0-9e8ab7f507bf",
   "metadata": {},
   "source": [
    "$$ = 1 + 2z$$"
   ]
  },
  {
   "cell_type": "markdown",
   "id": "b327f1da-86a6-4d91-a6d3-30fd270c6fe6",
   "metadata": {},
   "source": [
    "Thus,  \n",
    "\n",
    "$$ I = \\int_0^2(1+2z)\\,\\mathrm{d}z = \\big.\\big(z + z^2\\big)\\big]_0^2$$"
   ]
  },
  {
   "cell_type": "markdown",
   "id": "5589df6c-a8ae-4923-ba63-60d05742b9db",
   "metadata": {},
   "source": [
    "$$ = 2 + 4 =  6$$"
   ]
  },
  {
   "cell_type": "markdown",
   "id": "785cace6-7078-4c22-b720-fcfcd489c2fc",
   "metadata": {},
   "source": [
    "**b)**  Let  \n",
    "\n",
    "$$ f:=f(x,y,z) = 2xy^2z$$"
   ]
  },
  {
   "cell_type": "markdown",
   "id": "c9c24061-77af-491a-ba61-a795f2dc038d",
   "metadata": {},
   "source": [
    "$$ I := \\int_0^2\\int_0^\\sqrt{y}\\int_0^{xy} f\\,\\mathrm{d}z\\,\\mathrm{d}x\\,\\mathrm{d}y$$"
   ]
  },
  {
   "cell_type": "markdown",
   "id": "f51f7f41-2379-4964-8c64-7b36ddd4e4aa",
   "metadata": {},
   "source": [
    "$$ = \\int_0^2\\int_0^\\sqrt{y}x^3y^4\\,\\mathrm{d}x\\,\\mathrm{d}y$$"
   ]
  },
  {
   "cell_type": "markdown",
   "id": "670ae966-94a5-42ce-a619-00827fbe769c",
   "metadata": {},
   "source": [
    "$$ = \\frac{1}{4}\\int_0^2 y^6\\,\\mathrm{d}y$$"
   ]
  },
  {
   "cell_type": "markdown",
   "id": "83cc8fe2-2674-4826-a5f0-0dd4ade6f546",
   "metadata": {},
   "source": [
    "$$ = \\frac{2^7}{7\\cdot 4} = \\frac{32}{7}$$"
   ]
  },
  {
   "cell_type": "markdown",
   "id": "337a3f7b-03db-459c-ae8f-1c8bb51c7700",
   "metadata": {},
   "source": [
    "#### $\\S 5\\mathrm{A} : 2$\n",
    "\n",
    "**a)**  Our prism, henceforth $D$, has vertices:  \n",
    "\n",
    "$$ A = (0,0,0) \\quad\\quad B = (0,1,0) \\quad\\quad C = (0,0,1)$$"
   ]
  },
  {
   "cell_type": "markdown",
   "id": "8bf4a6a2-bf89-4ded-aced-0e4d8d2c4e0d",
   "metadata": {},
   "source": [
    "$$ R = A + (1,0,0) = (1,0,0) \\quad\\quad Q = B + (1,0,0) = (1,1,0) $$"
   ]
  },
  {
   "cell_type": "markdown",
   "id": "b9c9253d-ac3b-4a36-b541-f2535b761b4e",
   "metadata": {},
   "source": [
    "$$ P = C + (1,0,0) = (1,0,1)$$"
   ]
  },
  {
   "cell_type": "markdown",
   "id": "82f5af20-d30d-4398-99ea-6b27b03dbd7a",
   "metadata": {},
   "source": [
    "It has two triangular faces.  \n",
    "\n",
    "$$ \\mathcal{R}_1 = \\overline{ABC} \\quad\\quad\\text{and}\\quad\\quad \\mathcal{R}_2 = \\overline{RQP}$$"
   ]
  },
  {
   "cell_type": "markdown",
   "id": "cfdee419-4e2d-4655-8ad2-d543f2b86767",
   "metadata": {},
   "source": [
    "It also has three rectangular faces.  \n",
    "\n",
    "$$ \\mathcal{R}_3 = \\overline{ACPR} \\quad\\quad \\mathcal{R}_4 = \\overline{ABQR} \\quad\\quad \\mathcal{R}_5 = \\overline{BCPQ}$$"
   ]
  },
  {
   "cell_type": "markdown",
   "id": "4865f0d2-43a8-4462-bdce-72b92e462a9b",
   "metadata": {},
   "source": [
    "$$ V = \\iiint_D\\,\\mathrm{d}V = \\int_0^1\\int_0^1\\int_0^{1-y}\\,\\mathrm{d}z\\,\\mathrm{d}y\\,\\mathrm{d}x$$"
   ]
  },
  {
   "cell_type": "markdown",
   "id": "992c4a0f-98e6-4027-8a21-e5bf1b216453",
   "metadata": {},
   "source": [
    "$$ = \\int_0^1\\int_0^1(1-y)\\,\\mathrm{d}y\\,\\mathrm{d}x$$"
   ]
  },
  {
   "cell_type": "markdown",
   "id": "5451401b-42e3-4eea-9bdc-f9ae32c17035",
   "metadata": {},
   "source": [
    "$$ = 1 - \\frac{1}{2}\\int_0^1\\,\\mathrm{d}x = 0.5$$"
   ]
  },
  {
   "cell_type": "markdown",
   "id": "c67bcb07-30c9-4033-99d2-79b530813109",
   "metadata": {},
   "source": [
    "**c)**"
   ]
  },
  {
   "cell_type": "markdown",
   "id": "00ad5312-f819-4a0d-a9d0-922d8fae5384",
   "metadata": {},
   "source": [
    "**d)**"
   ]
  },
  {
   "cell_type": "markdown",
   "id": "5628a6f2-58e8-4639-ba0a-84fbbb71becf",
   "metadata": {},
   "source": [
    "#### $\\S 5\\mathrm{A} : 3$"
   ]
  },
  {
   "cell_type": "markdown",
   "id": "a5f2b7f5-0cd1-4339-9ef8-8fd79e1b8aef",
   "metadata": {},
   "source": [
    "#### $\\S 5\\mathrm{A} : 4$"
   ]
  },
  {
   "cell_type": "markdown",
   "id": "3ab317db-0e48-4ad4-9dbf-1481dc0e63bd",
   "metadata": {},
   "source": [
    "#### $\\S 5\\mathrm{A} : 5$"
   ]
  },
  {
   "cell_type": "markdown",
   "id": "fe37d590-cdfc-4b66-ad4d-233f9a6999e1",
   "metadata": {},
   "source": [
    "#### $\\S 5\\mathrm{A} : 6$"
   ]
  },
  {
   "cell_type": "markdown",
   "id": "2eb75892-2b60-4c8b-93ff-d4f8942f18b3",
   "metadata": {},
   "source": [
    "#### $\\S 5\\mathrm{A} : 7$"
   ]
  }
 ],
 "metadata": {
  "kernelspec": {
   "display_name": "Python 3 (ipykernel)",
   "language": "python",
   "name": "python3"
  },
  "language_info": {
   "codemirror_mode": {
    "name": "ipython",
    "version": 3
   },
   "file_extension": ".py",
   "mimetype": "text/x-python",
   "name": "python",
   "nbconvert_exporter": "python",
   "pygments_lexer": "ipython3",
   "version": "3.10.12"
  }
 },
 "nbformat": 4,
 "nbformat_minor": 5
}
