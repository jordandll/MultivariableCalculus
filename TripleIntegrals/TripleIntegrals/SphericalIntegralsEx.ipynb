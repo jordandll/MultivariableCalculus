{
 "cells": [
  {
   "cell_type": "markdown",
   "id": "4fb9969a-c879-4800-b27d-5110f0e0aee1",
   "metadata": {},
   "source": [
    "## Integrals in Spherical Coordinates"
   ]
  },
  {
   "cell_type": "markdown",
   "id": "7b2bb255-6d99-453d-990a-2b51590234f9",
   "metadata": {},
   "source": [
    "### Example 1\n",
    "\n",
    "Find the volume of a sphere of radius $a$."
   ]
  },
  {
   "cell_type": "markdown",
   "id": "0a5f05f1-b544-4e95-ab78-851b18f1e5ca",
   "metadata": {},
   "source": [
    "$$ V = \\int_0^{2\\pi}\\int_0^\\pi\\int_0^a \\rho^2\\sin\\phi\\,\\mathrm{d}\\rho\\,\\mathrm{d}\\phi\\,\\mathrm{d}\\theta$$"
   ]
  },
  {
   "cell_type": "markdown",
   "id": "768dcc1b-665f-408e-85b6-33bb391f894d",
   "metadata": {},
   "source": [
    "$$ = \\frac{a^3}{3}\\int_0^{2\\pi}\\int_0^\\pi\\sin\\phi\\,\\mathrm{d}\\phi\\,\\mathrm{d}\\theta$$"
   ]
  },
  {
   "cell_type": "markdown",
   "id": "b5d1a204-6004-40a5-9bac-6104c01763f1",
   "metadata": {},
   "source": [
    "The inner integral of the above double integral is:  \n",
    "\n",
    "$$ \\int_0^\\pi\\sin\\phi\\,\\mathrm{d}\\phi = \\Big.-\\cos\\phi\\Big]_0^\\pi = 2$$"
   ]
  },
  {
   "cell_type": "markdown",
   "id": "d9f8af79-4d61-4d0f-a6fc-9c051f5fceee",
   "metadata": {},
   "source": [
    "Thus,  \n",
    "\n",
    "$$ V = \\frac{4\\pi a^3}{3}$$"
   ]
  },
  {
   "cell_type": "markdown",
   "id": "22235968-5d38-4fa4-ade9-3805b20fe41c",
   "metadata": {},
   "source": [
    "### Example 2\n",
    "Find the centroid of the region $D$ bounded by the sphere $\\rho = a$ and the\n",
    "cone $\\phi = \\alpha$."
   ]
  },
  {
   "cell_type": "markdown",
   "id": "aeceda4e-b362-4bda-98c0-cf2f56e38979",
   "metadata": {},
   "source": [
    "Via symmetry,  \n",
    "\n",
    "$$ \\overline{x}, \\overline{y} = 0,0$$"
   ]
  },
  {
   "cell_type": "markdown",
   "id": "19fae31f-5f37-40c1-9332-f671b3ee7a34",
   "metadata": {},
   "source": [
    "As for the $z$-coordinate of the centroid,   \n",
    "\n",
    "$$ \\overline{z} = \\frac{1}{V}\\iiint_D z\\,\\mathrm{d}V$$"
   ]
  },
  {
   "cell_type": "markdown",
   "id": "4b66c5cc-10e2-47c2-8bb2-79e9142001d1",
   "metadata": {},
   "source": [
    "$$ V = \\text{vol. }D = \\iiint_D\\,\\mathrm{d}V = \\int_0^{2\\pi}\\int_0^\\alpha\\int_0^a \\rho^2\\sin\\phi\\,\\mathrm{d}\\rho\\,\\mathrm{d}\\phi\\,\\mathrm{d}\\theta$$"
   ]
  },
  {
   "cell_type": "markdown",
   "id": "f6a3ee2f-995f-4975-b536-f0c6aae28254",
   "metadata": {},
   "source": [
    "$$ = \\frac{a^3}{3}\\int_0^{2\\pi}\\int_0^\\alpha \\sin\\phi\\,\\mathrm{d}\\phi\\,\\mathrm{d}\\theta$$"
   ]
  },
  {
   "attachments": {},
   "cell_type": "markdown",
   "id": "9ee6d2c2-1d97-4234-8757-38b7a4c664bd",
   "metadata": {},
   "source": [
    "The inner integral of the above double integral is:  \n",
    "\n",
    "$$ \\int_0^\\alpha\\sin\\phi\\,\\mathrm{d}\\phi = \\Big.-\\cos\\phi\\Big]_0^\\alpha = 1- \\cos\\alpha$$"
   ]
  },
  {
   "cell_type": "markdown",
   "id": "f4ca211e-0ee0-442f-b760-a2c46645506e",
   "metadata": {},
   "source": [
    "Thus,  \n",
    "\n",
    "$$ V = \\frac{2\\pi a^3}{3}(1-\\cos\\alpha)$$"
   ]
  },
  {
   "cell_type": "markdown",
   "id": "a0c2a9c6-2e0b-4d2d-819c-1220d8074926",
   "metadata": {},
   "source": [
    "Recall that:  \n",
    "\n",
    "$$ z = \\rho\\cos\\phi$$"
   ]
  },
  {
   "cell_type": "markdown",
   "id": "730547dc-8658-439f-bc6b-be7951555666",
   "metadata": {},
   "source": [
    "Thus, \n",
    "\n",
    "$$ \\overline{z} = \\frac{1}{2V}\\int_0^{2\\pi}\\int_0^\\alpha\\int_0^a \\rho^3\\sin2\\phi\\,\\mathrm{d}\\rho\\,\\mathrm{d}\\phi\\,\\mathrm{d}\\theta$$"
   ]
  },
  {
   "cell_type": "markdown",
   "id": "77b94037-a569-4515-b2c7-886e0bdb2d6b",
   "metadata": {},
   "source": [
    "$$ = \\frac{a^4}{8V}\\int_0^{2\\pi}\\int_0^\\alpha \\sin2\\phi\\,\\mathrm{d}\\phi\\,\\mathrm{d}\\theta$$"
   ]
  },
  {
   "cell_type": "markdown",
   "id": "570bb2b5-3d99-40cc-bd71-09eabb3a3c85",
   "metadata": {},
   "source": [
    "$$= \\frac{\\pi a^4}{8V}(1-\\cos2\\phi)$$"
   ]
  },
  {
   "cell_type": "markdown",
   "id": "df0e34c0-5fc8-4a69-b24e-3f97b6a32049",
   "metadata": {},
   "source": [
    "$$ = \\frac{3a}{16}\\frac{1-\\cos2\\alpha}{1-\\cos\\alpha}$$"
   ]
  },
  {
   "cell_type": "markdown",
   "id": "bb3010fb-d4f6-4a0e-9636-08e79e8bcd93",
   "metadata": {},
   "source": [
    "To simplify the above:  \n",
    "\n",
    "$$ 1 - \\cos 2\\alpha = 1 + \\cos(\\pi - 2\\alpha) = 2\\cos^2(0.5\\pi - \\alpha) = 2\\sin^2\\alpha$$"
   ]
  },
  {
   "cell_type": "markdown",
   "id": "7aa764bd-b849-439c-ad75-6b6db44ef678",
   "metadata": {},
   "source": [
    "$$V = \\frac{3a\\sin^2\\alpha}{8-8\\cos\\alpha}$$"
   ]
  },
  {
   "cell_type": "markdown",
   "id": "1ea0273f-1f3d-4777-9202-19a2296b85d2",
   "metadata": {},
   "source": [
    "$$ 1-\\cos\\alpha = 1 + \\cos(\\pi-\\alpha) = 2\\cos^2(0.5\\pi - 0.5\\alpha) = 2\\sin^20.5\\alpha$$"
   ]
  },
  {
   "cell_type": "markdown",
   "id": "6feae473-73aa-42ce-b909-560ca8348488",
   "metadata": {},
   "source": [
    "## Problems\n",
    "\n",
    "#### Problem 1 \n",
    "\n",
    "Find the volume of a solid spherical cap obtained by slicing a solid sphere of radius $a\\sqrt{2}$\n",
    " by a plane at a distance of $a$ from the center. (See picture.)"
   ]
  },
  {
   "cell_type": "markdown",
   "id": "657b2336-a3d6-4eff-93e0-93535866daa6",
   "metadata": {},
   "source": [
    "The lower limit of integral that is with respect to $\\rho$ is given by:  \n",
    "\n",
    "$$ z = \\rho\\cos\\phi = a \\quad\\quad\\text{or}\\quad\\quad \\rho := \\rho(\\phi,\\theta) = a\\sec\\phi$$"
   ]
  },
  {
   "cell_type": "markdown",
   "id": "76f2bbe0-e4dd-403b-8b0a-b0fa6c79d12f",
   "metadata": {},
   "source": [
    "Thus,  \n",
    "\n",
    "$$ V = \\int_0^{2\\pi}\\int_0^\\alpha\\int_{a\\sec\\phi}^{a\\sqrt{2}}\\rho^2\\sin\\phi\\,\\mathrm{d}\\rho\\,\\mathrm{d}\\phi\\,\\mathrm{d}\\theta$$"
   ]
  },
  {
   "cell_type": "markdown",
   "id": "5f54c729-28e8-4774-9b7f-800e9838c361",
   "metadata": {},
   "source": [
    "where $\\alpha$ is given by:  \n",
    "\n",
    "$$ \\cos\\alpha = \\frac{a}{a\\sqrt{2}} = \\frac{1}{\\sqrt{2}} \\quad\\quad\\text{or}\\quad\\quad \\alpha = 45^\\circ$$"
   ]
  },
  {
   "cell_type": "markdown",
   "id": "64aea25a-4ab9-4f6e-90e3-0e1f25ae663a",
   "metadata": {},
   "source": [
    "Thus,  \n",
    "\n",
    "$$ V = \\frac{1}{3}\\int_0^{2\\pi}\\int_0^{0.25\\pi}\\big(2\\sqrt{2}a^3-a^3\\sec^3\\phi\\big)\\sin\\phi\\,\\mathrm{d}\\phi\\,\\mathrm{d}\\theta$$"
   ]
  },
  {
   "cell_type": "markdown",
   "id": "82ad20e7-d041-4fd3-8665-6439e756f32d",
   "metadata": {},
   "source": [
    "$$ = \\frac{2\\sqrt{2}a^3}{3}\\int_0^{2\\pi}\\int_0^{0.25\\pi}\\sin\\phi\\,\\mathrm{d}\\phi\\,\\mathrm{d}\\theta - \\frac{a^3}{3}\\int_0^{2\\pi}\\int_0^{0.25\\pi}\\frac{\\sin\\phi}{\\cos^3\\phi}\\,\\mathrm{d}\\phi\\,\\mathrm{d}\\theta$$"
   ]
  },
  {
   "cell_type": "markdown",
   "id": "1f643435-175d-45c5-93c4-05d5bb9a7958",
   "metadata": {},
   "source": [
    "$$ = \\frac{2\\sqrt{2}a^3}{3}V_1 - \\frac{a^3}{3}V_2$$"
   ]
  },
  {
   "cell_type": "markdown",
   "id": "725df8ef-8ffe-433d-9810-2ff11fe0997c",
   "metadata": {},
   "source": [
    "The inner integral of the double integral that is part of $V_1$'s definition is:  \n",
    "\n",
    "$$ \\int_0^{0.25\\pi}\\sin\\phi\\,\\mathrm{d}\\phi\\,\\mathrm{d}\\theta = \\Big.-\\cos\\phi\\Big]_0^{0.25\\pi}$$"
   ]
  },
  {
   "cell_type": "markdown",
   "id": "77d8f912-e7a3-4aa7-9075-210b212bd589",
   "metadata": {},
   "source": [
    "$$ = 1 - \\frac{1}{\\sqrt{2}} = \\frac{\\sqrt{2}-1}{\\sqrt{2}}$$"
   ]
  },
  {
   "cell_type": "markdown",
   "id": "49394660-4c84-4fcc-9347-996aac1db97d",
   "metadata": {},
   "source": [
    "Thus,  \n",
    "\n",
    "$$ \\frac{2\\sqrt{2}a^3}{3}V_1 = \\frac{4\\pi a^3}{3}\\big(\\sqrt{2}-1\\big)$$"
   ]
  },
  {
   "cell_type": "markdown",
   "id": "3584f38d-2ac5-4673-a86d-0a1ef1bf55a4",
   "metadata": {},
   "source": [
    "The inner integral of the double integral that is part of $V_2$'s definition is:  \n",
    "\n",
    "$$ \\int_0^{0.25\\pi}\\frac{\\sin\\phi}{\\cos^3\\phi}\\,\\mathrm{d}\\phi = \\left.\\frac{1}{2\\cos^2\\phi}\\right]_0^{0.25\\pi} = 0.5$$"
   ]
  },
  {
   "cell_type": "markdown",
   "id": "e5a43869-7239-43db-b102-e49ab87d40fd",
   "metadata": {},
   "source": [
    "Thus,  \n",
    "\n",
    "$$ \\frac{a^3}{3}V_2 = \\frac{\\pi a^3}{3}$$"
   ]
  },
  {
   "cell_type": "markdown",
   "id": "1e70e8e4-661b-495e-a271-56e8ade35fc8",
   "metadata": {},
   "source": [
    "Finally,  \n",
    "\n",
    "$$ V = \\frac{4\\sqrt{2}\\pi a^3 -5\\pi a^3}{3}$$"
   ]
  },
  {
   "cell_type": "code",
   "execution_count": 1,
   "id": "6ec7fb2f-2e28-4484-a3f2-72e58ff362b0",
   "metadata": {},
   "outputs": [],
   "source": [
    "import numpy as np"
   ]
  },
  {
   "cell_type": "code",
   "execution_count": 2,
   "id": "b4ce581d-5ade-4020-bdc8-e29ebf71c760",
   "metadata": {},
   "outputs": [
    {
     "data": {
      "text/plain": [
       "5.656854249492381"
      ]
     },
     "execution_count": 2,
     "metadata": {},
     "output_type": "execute_result"
    }
   ],
   "source": [
    "4*np.sqrt(2)"
   ]
  },
  {
   "cell_type": "markdown",
   "id": "e390285d-f41b-49d8-a816-2f815de49cd1",
   "metadata": {},
   "source": [
    "Now, let's cross reference our answer against one obtained from a different approach.  \n",
    "\n",
    "$$ V = \\int_a^{\\sqrt{2}a}A(z)\\,\\mathrm{d}z$$"
   ]
  },
  {
   "cell_type": "markdown",
   "id": "a12ee7b1-5278-492a-a8c6-07ea6241509a",
   "metadata": {},
   "source": [
    "where,  \n",
    "\n",
    "$$ A := A(z) = \\pi r^2(z) \\quad\\quad\\text{and}\\quad\\quad r^2(z) + z^2 = 2a^2$$"
   ]
  },
  {
   "cell_type": "markdown",
   "id": "2b73fea0-9421-4f5f-b721-e2c44459ecc1",
   "metadata": {},
   "source": [
    "Thus,  \n",
    "\n",
    "$$ A = A(z) = \\pi\\big(2a^2 - z^2\\big)$$"
   ]
  },
  {
   "cell_type": "markdown",
   "id": "327ed1c7-9ffb-4e99-8eb3-1e0c401862b6",
   "metadata": {},
   "source": [
    "Finally,  \n",
    "\n",
    "$$ V = 2\\pi a^3\\big(\\sqrt{2}-1\\big) - \\pi\\int_a^{\\sqrt{2}a}z^2\\,\\mathrm{d}z$$"
   ]
  },
  {
   "cell_type": "markdown",
   "id": "aada7a28-4096-4c88-9ffc-591818e583ed",
   "metadata": {},
   "source": [
    "$$ = 2\\pi a^3\\big(\\sqrt{2}-1\\big) - \\frac{\\pi a^3}{3}\\big(2\\sqrt{2} - 1\\big)$$"
   ]
  },
  {
   "cell_type": "markdown",
   "id": "dbc18f9e-10ea-47c8-912c-194d29035196",
   "metadata": {},
   "source": [
    "$$ \\frac{6\\sqrt{2}\\pi a^3 - 6\\pi a^3 - 2\\sqrt{2} \\pi a^3 + \\pi a^3}{3}$$"
   ]
  },
  {
   "cell_type": "markdown",
   "id": "d4e08713-64c4-4e91-beeb-16aa66faafb2",
   "metadata": {},
   "source": [
    "#### Problem 2\n",
    "\n",
    "Use the Jacobian to show that the volume element in spherical coordinates is the one we’ve\n",
    "been using."
   ]
  },
  {
   "cell_type": "markdown",
   "id": "3523b700-4c20-4e4c-8e92-99170e46179e",
   "metadata": {},
   "source": [
    "$$ z = \\rho\\cos\\phi \\quad\\quad x = \\rho\\sin\\phi\\cos\\theta \\quad\\quad y = \\rho\\sin\\phi\\sin\\theta$$"
   ]
  },
  {
   "cell_type": "markdown",
   "id": "819624a0-9015-4c77-ae1e-b06164c1e358",
   "metadata": {},
   "source": [
    "$$ z_\\rho = \\cos\\phi \\quad\\quad z_\\phi = -\\rho\\sin\\phi \\quad\\quad z_\\theta = 0$$"
   ]
  },
  {
   "cell_type": "markdown",
   "id": "16d2acb2-7fdb-4eb6-adbb-49a7f6198d76",
   "metadata": {},
   "source": [
    "$$ x_\\rho = \\sin\\phi\\cos\\theta\\quad\\quad x_\\phi = \\rho\\cos\\phi\\cos\\theta\\quad\\quad x_\\theta = -\\rho\\sin\\phi\\sin\\theta$$"
   ]
  },
  {
   "cell_type": "markdown",
   "id": "f49a2daf-f8da-4ff4-bcbd-d68b89f30c16",
   "metadata": {},
   "source": [
    "$$ y_\\rho = \\sin\\phi\\sin\\theta\\quad\\quad y_\\phi = \\rho\\cos\\phi\\sin\\theta\\quad\\quad y_\\theta = \\rho\\sin\\phi\\cos\\theta$$"
   ]
  },
  {
   "cell_type": "markdown",
   "id": "1ebb98ec-ecf6-46e8-bd33-ed053ff2d208",
   "metadata": {},
   "source": [
    "The Jacobian is:  \n",
    "\n",
    "$$ \\frac{\\partial (x,y,z)}{\\partial (\\rho,\\phi,\\theta)} = \\left|\\begin{matrix} x_\\rho & x_\\phi & x_\\theta \\\\ y_\\rho & y_\\phi & y_\\theta \\\\ z_\\rho & z_\\phi & z_\\theta \\end{matrix}\\right|$$"
   ]
  },
  {
   "cell_type": "markdown",
   "id": "e4b75336-f70e-4c8a-a654-6f25cd83fae6",
   "metadata": {},
   "source": [
    "$$ =  \\rho^2\\sin^3\\phi\\cos^2\\theta + \\rho\\cos\\phi\\cos\\theta y_\\theta z_\\rho  - \\rho\\sin\\phi\\sin\\theta\\big( -\\rho\\sin^2\\phi\\sin\\theta - \\rho\\cos^2\\phi\\sin\\theta\\big)$$"
   ]
  },
  {
   "cell_type": "markdown",
   "id": "92e0b0db-4281-4df0-8b9b-4eff8691099e",
   "metadata": {},
   "source": [
    "$$ =  \\rho^2\\sin^3\\phi + \\rho^2\\sin\\phi\\cos^2\\phi\\sin^2\\theta + \\rho^2\\cos^2\\phi\\sin\\phi\\cos^2\\theta$$"
   ]
  },
  {
   "cell_type": "markdown",
   "id": "b574865b-ee5d-4523-b281-02127902dd19",
   "metadata": {},
   "source": [
    "$$= \\rho^2\\sin^3\\phi + \\rho^2\\sin\\phi\\cos^2\\phi$$"
   ]
  },
  {
   "cell_type": "markdown",
   "id": "5d5d7625-db88-4063-9682-c5350f11fd9d",
   "metadata": {},
   "source": [
    "$$ =\\rho^2\\sin\\phi$$"
   ]
  }
 ],
 "metadata": {
  "kernelspec": {
   "display_name": "Python 3 (ipykernel)",
   "language": "python",
   "name": "python3"
  },
  "language_info": {
   "codemirror_mode": {
    "name": "ipython",
    "version": 3
   },
   "file_extension": ".py",
   "mimetype": "text/x-python",
   "name": "python",
   "nbconvert_exporter": "python",
   "pygments_lexer": "ipython3",
   "version": "3.10.12"
  }
 },
 "nbformat": 4,
 "nbformat_minor": 5
}
