{
 "cells": [
  {
   "cell_type": "markdown",
   "id": "973f5426-e880-476a-bf69-679309314ade",
   "metadata": {},
   "source": [
    "## Limits in Spherical Coordinates  \n",
    "\n",
    "Suppose there exists a point $P$ in a 3d space with rectilinear (rectangular) coordinates of $P=(x,y,z)$ and that the position vector $\\mathbf{P} = \\langle x,y,z\\rangle$ points to $P$ and has a tail at origin.  The $\\rho,\\phi,\\theta$-spherical coordinates are:  \n",
    "\n",
    "* the distance $\\rho$ of $P$ from origin\n",
    "* the angle $\\phi$ between $\\mathbf{P}$ and the $z$-axis,  $0\\le \\phi \\le \\pi$\n",
    "* the angle $\\theta$ beween the $x$-axis and the projection of $\\mathbf{P}$ onto the $x,y$-plane, denoted as $\\mathbf{r}$,  $0\\le \\theta \\le 2\\pi$."
   ]
  },
  {
   "cell_type": "markdown",
   "id": "f42e69d7-69ea-4e2a-bd45-303995bb8a90",
   "metadata": {},
   "source": [
    "As you may have noticed, $\\theta$ is one of the $z,r,\\theta$-cylindrical coordinates of $P$.  Moreover, if $\\mathbf{r}$ were a plane vector, then $\\theta$ would be one of the polar coordinates of it's head.  \n",
    "\n",
    "\\begin{equation}\\tag{2a}\n",
    "    \\rho = |\\mathbf{P}| = \\sqrt{x^2+y^2+z^2}\\ge 0\n",
    "\\end{equation}"
   ]
  },
  {
   "cell_type": "markdown",
   "id": "bca0e8b9-8444-4b39-af0a-cea9e078a36c",
   "metadata": {},
   "source": [
    "$$ \\sin\\lambda = \\frac{z}{\\rho} \\quad\\quad\\text{where }\\, \\phi = 90^\\circ - \\lambda \\quad\\implies$$"
   ]
  },
  {
   "cell_type": "markdown",
   "id": "9490350b-2f33-4d4b-8c7a-1b288c9f6bf1",
   "metadata": {},
   "source": [
    "\\begin{equation}\\tag{1a}\n",
    "    z = \\rho\\sin\\big(90^\\circ - \\phi\\big) = \\rho\\cos\\phi\n",
    "\\end{equation}"
   ]
  },
  {
   "cell_type": "markdown",
   "id": "40f3ebd5-6fac-438f-b6ee-249dd08856ee",
   "metadata": {},
   "source": [
    "$$ r = |\\mathbf{r}| = \\sqrt{x^2+y^2} \\quad\\quad \\cos\\lambda = \\sin\\phi = \\frac{r}{\\rho}$$"
   ]
  },
  {
   "cell_type": "markdown",
   "id": "7580b860-0765-43c3-aaa3-5b11151ae432",
   "metadata": {},
   "source": [
    "\n",
    "$$ \\cos\\theta = \\frac{x}{r} \\quad\\quad\\text{and}\\quad\\quad \\sin\\theta = \\frac{y}{r}$$"
   ]
  },
  {
   "cell_type": "markdown",
   "id": "accee18f-45a4-40ba-b24c-65d621969a8a",
   "metadata": {},
   "source": [
    "\\begin{equation}\\tag{1b,c}\n",
    "    x = \\rho\\sin\\phi\\cos\\theta\\quad\\quad\\text{and}\\quad\\quad y = \\rho\\sin\\phi\\sin\\theta\n",
    "\\end{equation}"
   ]
  },
  {
   "cell_type": "markdown",
   "id": "65febc09-6809-4b6d-8f4e-53a9aa1c0c97",
   "metadata": {},
   "source": [
    "To go from rectilinear coordinates to spherical ones, in addition to equation (2a), we have,  \n",
    "\n",
    "\\begin{equation}\\tag{2b,c}\n",
    "    \\theta = \\arccos\\frac{x}{\\sqrt{x^2+y^2}}\\quad\\quad\\text{and}\\quad\\quad \\phi = \\arccos\\frac{z}{\\sqrt{x^2+y^2+z^2}}\n",
    "\\end{equation}"
   ]
  },
  {
   "cell_type": "markdown",
   "id": "37abb991-a076-4955-88c7-d8165e96aa05",
   "metadata": {},
   "source": [
    "### Example\n",
    "\n",
    "For an example, suppose we have a torus given by, in $z,r,\\theta$-cylindrical coordinates:  \n",
    "\n",
    "$$ z^2 + (r-1)^2 = 1$$"
   ]
  },
  {
   "cell_type": "markdown",
   "id": "817dac10-feec-4421-9df4-a94ce32af1a1",
   "metadata": {},
   "source": [
    "The volume $V$ of the region $D$ of this torus resting in the first quadrant is given by:  \n",
    "\n",
    "$$ V = \\iiint_D \\,\\mathrm{d}V = \\iint_R\\int_0^{f(r,\\theta)}\\,\\mathrm{d}z\\,\\mathrm{d}A$$"
   ]
  },
  {
   "cell_type": "markdown",
   "id": "f9550fa3-95ba-4170-9bc5-4f27176e27c4",
   "metadata": {},
   "source": [
    "where  \n",
    "\n",
    "$$ z := f(r,\\theta) = \\sqrt{1-(r-1)^2}$$"
   ]
  },
  {
   "cell_type": "markdown",
   "id": "f319b7cb-d47c-4c0b-a095-a0f2a6b65249",
   "metadata": {},
   "source": [
    "Thus,  \n",
    "\n",
    "$$ V = \\int_0^{0.5\\pi}\\int_0^2 r\\sqrt{1-(r-1)^2}\\,\\mathrm{d}r\\,\\mathrm{d}\\theta$$"
   ]
  }
 ],
 "metadata": {
  "kernelspec": {
   "display_name": "Python 3 (ipykernel)",
   "language": "python",
   "name": "python3"
  },
  "language_info": {
   "codemirror_mode": {
    "name": "ipython",
    "version": 3
   },
   "file_extension": ".py",
   "mimetype": "text/x-python",
   "name": "python",
   "nbconvert_exporter": "python",
   "pygments_lexer": "ipython3",
   "version": "3.10.12"
  }
 },
 "nbformat": 4,
 "nbformat_minor": 5
}
