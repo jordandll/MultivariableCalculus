{
 "cells": [
  {
   "cell_type": "markdown",
   "id": "973f5426-e880-476a-bf69-679309314ade",
   "metadata": {},
   "source": [
    "## Limits in Spherical Coordinates  \n",
    "\n",
    "Suppose there exists a point $P$ in a 3d space with rectilinear (rectangular) coordinates of $P=(x,y,z)$ and that the position vector $\\mathbf{P} = \\langle x,y,z\\rangle$ points to $P$ and has a tail at origin.  The $\\rho,\\phi,\\theta$-spherical coordinates are:  \n",
    "\n",
    "* the distance of $P$ from origin, denoted as $\\rho$\n",
    "* the angle between $\\mathbf{P}$ and the $z$-axis, denoted as $\\phi$,  $\\quad0\\le \\phi \\le \\pi$\n",
    "* and $\\theta$, which is the angle beween the $x$-axis and the projection of $\\mathbf{P}$ onto the $x,y$-plane, denoted as $\\mathbf{r}$,  $\\quad0\\le \\theta \\le 2\\pi$."
   ]
  },
  {
   "cell_type": "markdown",
   "id": "f42e69d7-69ea-4e2a-bd45-303995bb8a90",
   "metadata": {},
   "source": [
    "As you may have noticed, $\\theta$ is one of the $z,r,\\theta$-cylindrical coordinates of $P$.  Moreover, if $\\mathbf{r}$ were a plane vector, then $\\theta$ would be one of the polar coordinates of it's head.  \n",
    "\n",
    "\\begin{equation}\\tag{2a}\n",
    "    \\rho = |\\mathbf{P}| = \\sqrt{x^2+y^2+z^2}\\ge 0\n",
    "\\end{equation}"
   ]
  },
  {
   "cell_type": "markdown",
   "id": "bca0e8b9-8444-4b39-af0a-cea9e078a36c",
   "metadata": {},
   "source": [
    "$$ \\sin\\lambda = \\frac{z}{\\rho} \\quad\\quad\\text{where }\\, \\phi = 90^\\circ - \\lambda \\quad\\implies$$"
   ]
  },
  {
   "cell_type": "markdown",
   "id": "9490350b-2f33-4d4b-8c7a-1b288c9f6bf1",
   "metadata": {},
   "source": [
    "\\begin{equation}\\tag{1a}\n",
    "    z = \\rho\\sin\\big(90^\\circ - \\phi\\big) = \\rho\\cos\\phi\n",
    "\\end{equation}"
   ]
  },
  {
   "cell_type": "markdown",
   "id": "40f3ebd5-6fac-438f-b6ee-249dd08856ee",
   "metadata": {},
   "source": [
    "$$ r = |\\mathbf{r}| = \\sqrt{x^2+y^2} \\quad\\quad \\cos\\lambda = \\sin\\phi = \\frac{r}{\\rho}$$"
   ]
  },
  {
   "cell_type": "markdown",
   "id": "7580b860-0765-43c3-aaa3-5b11151ae432",
   "metadata": {},
   "source": [
    "\n",
    "$$ \\cos\\theta = \\frac{x}{r} \\quad\\quad\\text{and}\\quad\\quad \\sin\\theta = \\frac{y}{r}$$"
   ]
  },
  {
   "cell_type": "markdown",
   "id": "accee18f-45a4-40ba-b24c-65d621969a8a",
   "metadata": {},
   "source": [
    "\\begin{equation}\\tag{1b,c}\n",
    "    x = \\rho\\sin\\phi\\cos\\theta\\quad\\quad\\text{and}\\quad\\quad y = \\rho\\sin\\phi\\sin\\theta\n",
    "\\end{equation}"
   ]
  },
  {
   "cell_type": "markdown",
   "id": "65febc09-6809-4b6d-8f4e-53a9aa1c0c97",
   "metadata": {},
   "source": [
    "To go from rectilinear coordinates to spherical ones, in addition to equation (2a), we have,  \n",
    "\n",
    "\\begin{equation}\\tag{2b,c}\n",
    "    \\theta = \\arccos\\frac{x}{\\sqrt{x^2+y^2}}\\quad\\quad\\text{and}\\quad\\quad \\phi = \\arccos\\frac{z}{\\sqrt{x^2+y^2+z^2}}\n",
    "\\end{equation}"
   ]
  },
  {
   "cell_type": "markdown",
   "id": "37abb991-a076-4955-88c7-d8165e96aa05",
   "metadata": {},
   "source": [
    "### Example\n",
    "\n",
    "For an example, suppose we have a torus given by, in $z,r,\\theta$-cylindrical coordinates:  \n",
    "\n",
    "\\begin{equation}\\tag{3}\n",
    "    z^2 + (r-1)^2 = 1\n",
    "\\end{equation}"
   ]
  },
  {
   "cell_type": "markdown",
   "id": "817dac10-feec-4421-9df4-a94ce32af1a1",
   "metadata": {},
   "source": [
    "The volume $V$ of the region $D$ of this torus resting in the first quadrant is given by:  \n",
    "\n",
    "$$ V = \\iiint_D \\,\\mathrm{d}V = \\iint_R\\int_0^{f(r,\\theta)}\\,\\mathrm{d}z\\,\\mathrm{d}A$$"
   ]
  },
  {
   "cell_type": "markdown",
   "id": "f9550fa3-95ba-4170-9bc5-4f27176e27c4",
   "metadata": {},
   "source": [
    "where  \n",
    "\n",
    "\\begin{equation}\\tag{3a}\n",
    "    z := f(r,\\theta) = \\sqrt{1-(r-1)^2}\n",
    "\\end{equation}"
   ]
  },
  {
   "cell_type": "markdown",
   "id": "f319b7cb-d47c-4c0b-a095-a0f2a6b65249",
   "metadata": {},
   "source": [
    "Thus,  \n",
    "\n",
    "$$ V = \\int_0^{0.5\\pi}\\int_0^2 r\\sqrt{1-(r-1)^2}\\,\\mathrm{d}r\\,\\mathrm{d}\\theta$$"
   ]
  },
  {
   "cell_type": "markdown",
   "id": "98ede054-6e38-4924-a52a-77cb5e9963ca",
   "metadata": {},
   "source": [
    "Let's try a different method of finding the volume.  The volume of the upper half of the torus is given by:  \n",
    "\n",
    "$$ \\int_0^1 A(z)\\,\\mathrm{d}z $$"
   ]
  },
  {
   "cell_type": "markdown",
   "id": "76456b03-b623-4f54-97d8-4960ad1ebe1b",
   "metadata": {},
   "source": [
    "where $A:=A(z)$ is the area of the annulus bounded by the level curves given by:  \n",
    "\n",
    "$$ z = f(r,\\theta)\\quad\\quad\\text{or}\\quad\\quad (r-1)^2 = 1-z^2$$"
   ]
  },
  {
   "cell_type": "markdown",
   "id": "da1fbb6b-3839-4790-9007-38b57a854256",
   "metadata": {},
   "source": [
    "$$ r^2 - 2r + z^2 = 0$$"
   ]
  },
  {
   "cell_type": "markdown",
   "id": "931db1cf-a71d-40a5-8ee4-8ae4d355ed4e",
   "metadata": {},
   "source": [
    "Via the above equation and the quadratic formula,  \n",
    "\n",
    "$$ r = \\frac{2\\pm\\sqrt{4 - 4z^2}}{2}$$"
   ]
  },
  {
   "cell_type": "markdown",
   "id": "54398e2c-6205-4cd2-9ca1-6178e7841abf",
   "metadata": {},
   "source": [
    "$$ = 1\\pm \\sqrt{1-z^2} = \\Big\\{1 + \\sqrt{1-z^2}, 1-\\sqrt{1-z^2}\\Big\\}$$"
   ]
  },
  {
   "cell_type": "markdown",
   "id": "08f96a31-a469-4db9-8bd5-b424b9d774fd",
   "metadata": {},
   "source": [
    "$$ r_1 = 1-\\sqrt{1-z^2} \\quad\\quad\\text{and}\\quad\\quad r_2 = 1+\\sqrt{1-z^2}$$"
   ]
  },
  {
   "cell_type": "markdown",
   "id": "5032de38-3fbc-4a23-8191-24564a21ce67",
   "metadata": {},
   "source": [
    "Said area is thus,  \n",
    "\n",
    "$$ A = A(z) = A_2 - A_1 = \\pi r_2^2 - \\pi r_1^2 = \\pi\\big(r_2^2 - r_1^2\\big)  $$"
   ]
  },
  {
   "cell_type": "markdown",
   "id": "c5063ac1-e642-47a7-ad5b-8bab76e08b7e",
   "metadata": {},
   "source": [
    "$$ r_1^2 = 1 + 1-z^2 - 2\\sqrt{1-z^2} \\quad\\quad\\text{and}\\quad\\quad r_2^2 = 1 + 1-z^2 + 2\\sqrt{1-z^2}$$"
   ]
  },
  {
   "cell_type": "markdown",
   "id": "6af5e1a7-293d-4b07-823f-d5b9030384a3",
   "metadata": {},
   "source": [
    "Thus,  \n",
    "\n",
    "$$ A(z) = 4\\pi\\sqrt{1-z^2}$$"
   ]
  },
  {
   "cell_type": "markdown",
   "id": "652d085a-031e-43fa-97e3-2e5bb8d0c304",
   "metadata": {},
   "source": [
    "Via the above equation and symmetry,  \n",
    "\n",
    "$$ V = \\frac{1}{4}\\int_0^1A(z)\\,\\mathrm{d}z = \\pi\\int_0^1\\sqrt{1-z^2}\\,\\mathrm{d}z$$"
   ]
  },
  {
   "cell_type": "markdown",
   "id": "c6706cc7-c2bb-4be9-a769-e264fe4de9d8",
   "metadata": {},
   "source": [
    "Thus, $V$ is equal to the product of $\\pi$ and a area of a quarter circle with a radius of one, which is of course $0.25\\pi$.  \n",
    "\n",
    "$$ V = \\frac{\\pi^2}{4}$$"
   ]
  },
  {
   "cell_type": "markdown",
   "id": "5b570e38-b8ef-4906-9ee5-b5b7dfb6859a",
   "metadata": {},
   "source": [
    "Now, let's cross reference the above answer against one obtained by triple integrating with respect to spherical coordinates.  First, we convert equation (3) to spherical coordinates.  \n",
    "\n",
    "$$ \\rho^2\\cos^2\\phi + \\big(\\rho\\sin\\phi - 1\\big)^2 = 1 \\quad\\therefore$$"
   ]
  },
  {
   "cell_type": "markdown",
   "id": "ad9ba14d-5122-4221-b617-7441397a34c6",
   "metadata": {},
   "source": [
    "$$ \\rho^2\\cos^2\\phi + \\rho^2\\sin^2\\phi - 2\\rho\\sin\\phi = 0\\quad\\therefore$$"
   ]
  },
  {
   "cell_type": "markdown",
   "id": "bfdf3d3e-746f-474b-b3bb-1e7e07348344",
   "metadata": {},
   "source": [
    "\\begin{equation}\\tag{4}\n",
    "    \\rho := \\rho(\\phi,\\theta)  = 2\\sin\\phi\n",
    "\\end{equation}"
   ]
  },
  {
   "cell_type": "markdown",
   "id": "b01e7e7d-8207-440e-9557-51bed40cfd68",
   "metadata": {},
   "source": [
    "The innermost integral of the triple integral found in the below equation is with respect to $\\rho$ and is from $0$ to $\\rho(\\phi,\\theta)$.  \n",
    "\n",
    "$$ V = \\int_0^{0.5\\pi}\\int_0^{0.5\\pi}\\int_0^{2\\sin\\phi} \\rho^2\\sin\\phi\\,\\mathrm{d}\\rho\\,\\mathrm{d}\\phi\\,\\mathrm{d}\\theta$$"
   ]
  },
  {
   "cell_type": "markdown",
   "id": "0a5eccff-6518-48a8-9560-3d00bd316040",
   "metadata": {},
   "source": [
    "$$ = \\frac{8}{3}\\int_0^{0.5\\pi}\\int_0^{0.5\\pi}\\sin^4\\phi\\,\\mathrm{d}\\phi\\,\\mathrm{d}\\theta$$"
   ]
  },
  {
   "cell_type": "markdown",
   "id": "62fc93c8-4f2d-41cc-b379-6151e6c6f3cd",
   "metadata": {},
   "source": [
    "$$ \\sin^4\\phi = \\sin^2\\phi\\big(1-\\cos^2\\phi\\big) = \\sin^2\\phi - \\sin^2\\phi\\cos^2\\phi$$"
   ]
  },
  {
   "cell_type": "markdown",
   "id": "85319bf9-451f-4959-82a2-115600b70e6f",
   "metadata": {},
   "source": [
    "$$ = \\sin^2\\phi - \\frac{\\sin^2 2\\phi}{4} = 1 - \\cos^2\\phi - \\frac{\\sin^2 2\\phi}{4}$$"
   ]
  },
  {
   "cell_type": "markdown",
   "id": "f0dd87a4-a497-40d6-bb55-acb23536195d",
   "metadata": {},
   "source": [
    "$$ = 0.5 - 0.5\\cos 2\\phi - \\frac{1-\\cos^2 2\\phi}{4}$$"
   ]
  },
  {
   "cell_type": "markdown",
   "id": "4f1ef2e7-350d-4e86-bcd8-8e18feac302d",
   "metadata": {},
   "source": [
    "$$= \\frac{1 - \\cos2\\phi}{2} + \\frac{\\cos^2 2\\phi- 1}{4}$$"
   ]
  },
  {
   "cell_type": "markdown",
   "id": "6772245c-d052-4f12-a2e9-0b3a4b435e10",
   "metadata": {},
   "source": [
    "$$ = \\frac{4-4\\cos2\\phi + \\cos 4\\phi - 1}{8}$$"
   ]
  },
  {
   "cell_type": "markdown",
   "id": "29f7c440-e4b8-45fa-81c4-9d034d41f46b",
   "metadata": {},
   "source": [
    "$$ = \\frac{3-4\\cos 2\\phi + \\cos 4\\phi}{8}$$"
   ]
  },
  {
   "cell_type": "markdown",
   "id": "9d1b0241-a391-463a-b2ac-2225b4de5023",
   "metadata": {},
   "source": [
    "The primitive integral of the above is:  \n",
    "\n",
    "$$ g(\\phi):=\\int\\sin^4\\phi\\,\\mathrm{d}\\phi = \\int \\frac{3}{8}\\,\\mathrm{d}\\phi - \\frac{1}{2}\\int \\cos 2\\phi\\,\\mathrm{d}\\phi + \\frac{1}{8}\\int \\cos 4\\phi\\,\\mathrm{d}\\phi$$"
   ]
  },
  {
   "cell_type": "markdown",
   "id": "35a90b99-89ae-4d58-a154-466bf278c6be",
   "metadata": {},
   "source": [
    "$$ = \\frac{3\\phi}{8} - \\frac{\\sin2\\phi}{4} + \\frac{\\sin 4\\phi}{32} + K$$"
   ]
  },
  {
   "cell_type": "markdown",
   "id": "c2bd0109-a6cb-4496-83db-fc3824d243e0",
   "metadata": {},
   "source": [
    "where $K\\in\\mathbb{R}$ is an arbitrary constant of integration.  Thus, the inner integral of the double integral that was yielded by the first iteration of our triple integral is:  \n",
    "\n",
    "$$ \\int_0^{0.5\\pi} \\sin^4\\phi\\,\\mathrm{d}\\phi = g(0.5\\pi) - g(0) = \\frac{3\\pi}{16} $$"
   ]
  },
  {
   "attachments": {},
   "cell_type": "markdown",
   "id": "41a9e9b2-9a6e-4978-96be-eda1d063a1e4",
   "metadata": {},
   "source": [
    "Thus,  \n",
    "\n",
    "$$ V = \\frac{\\pi}{2}\\int_0^{0.5\\pi}\\mathrm{d}\\theta = \\frac{\\pi^2}{4}$$"
   ]
  },
  {
   "cell_type": "markdown",
   "id": "bbfaf9df-5371-42a7-8ef8-7648acf014cb",
   "metadata": {},
   "source": [
    "The two approaches are consistent with one another."
   ]
  }
 ],
 "metadata": {
  "kernelspec": {
   "display_name": "Python 3 (ipykernel)",
   "language": "python",
   "name": "python3"
  },
  "language_info": {
   "codemirror_mode": {
    "name": "ipython",
    "version": 3
   },
   "file_extension": ".py",
   "mimetype": "text/x-python",
   "name": "python",
   "nbconvert_exporter": "python",
   "pygments_lexer": "ipython3",
   "version": "3.10.12"
  }
 },
 "nbformat": 4,
 "nbformat_minor": 5
}
