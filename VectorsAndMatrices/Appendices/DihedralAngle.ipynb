{
 "cells": [
  {
   "cell_type": "markdown",
   "id": "11c7596e-4ff5-4eca-98d1-c154824fa145",
   "metadata": {},
   "source": [
    "# Dihedral Angle\n",
    "\n",
    "The dihedral angle is the angle between two planes.  Suppose there exists two planes, $\\mathcal{P}_1$ and $\\mathcal{P}_2$ with normal vectors $\\mathbf{A}$ and $\\mathbf{B}$ respectively.  These planes are of course given by:  \n",
    "\n",
    "$$ a_1x + a_2y + a_3z = d_1 $$\n",
    "$$ b_1x + b_2y + b_3z = d_2 $$\n",
    "\n",
    "**Proposition**:  The dihedral angle, denoted as $\\theta$, between these two planes is equal to the angle between the two normals $\\mathbf{A}$ and $\\mathbf{B}$.  \n",
    "\n",
    "$$ \\mathbf{A}\\cdot\\mathbf{B} = |\\mathbf{A}||\\mathbf{B}|\\cos\\theta$$"
   ]
  },
  {
   "cell_type": "markdown",
   "id": "e656b144-f000-46ca-90fe-0171c0a7621e",
   "metadata": {},
   "source": [
    "**Proof**:  \n",
    "\n",
    "Suppose there exists two vectors $\\mathbf{P}$ and $\\mathbf{Q}$ that are both perpendicular to the line of intersection between our two planes and rest on said planes.  In particular, suppose $\\mathbf{P}$ rests on $\\mathcal{P}_1$ and $\\mathbf{Q}$ rests on $\\mathcal{P}_2$.  The the dihedral angle is equal to the angle between $\\mathbf{P}$ and $\\mathbf{Q}$  \n",
    "\n",
    "$$ \\mathbf{P}\\cdot\\mathbf{Q} = |\\mathbf{P}||\\mathbf{Q}|\\cos\\theta$$"
   ]
  },
  {
   "cell_type": "markdown",
   "id": "eb6c5c9c-4b11-46c6-998a-62ae7bc46aa9",
   "metadata": {},
   "source": [
    "Thus, via the above equation, the equation of the proposition, and equivalence principle,  \n",
    "\n",
    "$$ \\frac{\\mathbf{P}\\cdot\\mathbf{Q}}{|\\mathbf{Q}||\\mathbf{P}|} = \\frac{\\mathbf{A}\\cdot\\mathbf{B}}{|\\mathbf{A}||\\mathbf{B}|}$$"
   ]
  },
  {
   "cell_type": "code",
   "execution_count": null,
   "id": "b3d05a22-3e0f-4016-8226-aadc966fc65d",
   "metadata": {},
   "outputs": [],
   "source": []
  },
  {
   "cell_type": "markdown",
   "id": "87d9f2fa-dad4-4c1f-b5d5-8efa348b13bb",
   "metadata": {},
   "source": [
    "Let $\\mathbf{R}$ be defined as the cross product of $\\mathbf{A}$ and $\\mathbf{B}$.  \n",
    "\n",
    "$$ \\mathbf{R}:=\\mathbf{A}\\times\\mathbf{B} = \\pm |\\mathbf{A}||\\mathbf{B}|\\mathbf{n}$$"
   ]
  },
  {
   "cell_type": "markdown",
   "id": "ccbcd758-7851-48c0-96df-089742c86c61",
   "metadata": {},
   "source": [
    "$$ = \\left|\\begin{matrix}\\mathbf{i} & \\mathbf{j} & \\mathbf{k}\\\\ a_1 & a_2 & a_3 \\\\ b_1 & b_2 & b_3\\end{matrix}\\right|$$"
   ]
  },
  {
   "cell_type": "markdown",
   "id": "9ec416d5-ed5c-48e0-8d6d-5117b109cb97",
   "metadata": {},
   "source": [
    "$$ = (a_2b_3 - a_3b_2)\\mathbf{i} - (a_1b_3 - a_3b_1)\\mathbf{j} + (a_1b_2 - a_2b_1)\\mathbf{k}$$"
   ]
  },
  {
   "cell_type": "markdown",
   "id": "93f8f486-3f84-41d7-ba43-97c51fb7b075",
   "metadata": {},
   "source": [
    "The vector $\\mathbf{R}$ is parallel to the line of intersection between the two planes."
   ]
  },
  {
   "cell_type": "markdown",
   "id": "ad8fa4eb-ef50-42a1-991c-5a884dad1f31",
   "metadata": {},
   "source": [
    "$$\\mathbf{P}\\perp\\mathbf{A} \\;\\land\\; \\mathbf{P}\\perp\\mathbf{R} \\quad \\iff\\quad \\mathbf{P}\\cdot\\mathbf{A} = 0 \\;\\land\\; \\mathbf{P}\\cdot\\mathbf{R} = 0$$"
   ]
  },
  {
   "cell_type": "markdown",
   "id": "7295b9a2-b7f8-4232-90b5-e771d7af8010",
   "metadata": {},
   "source": [
    "$$ \\mathbf{Q}\\perp\\mathbf{B} \\;\\land\\; \\mathbf{Q}\\perp\\mathbf{R} \\quad \\iff\\quad \\mathbf{Q}\\cdot\\mathbf{B} = 0 \\;\\land\\; \\mathbf{Q}\\cdot\\mathbf{R} = 0$$"
   ]
  },
  {
   "cell_type": "markdown",
   "id": "c3e968f5-d3bf-446d-810d-af8e9ba4793e",
   "metadata": {},
   "source": [
    "$$ p_1a_1 + p_2a_2 + p_3a_3 = 0 \\quad\\quad\\text{and}\\quad\\quad p_1(a_2)$$"
   ]
  }
 ],
 "metadata": {
  "kernelspec": {
   "display_name": "Python 3 (ipykernel)",
   "language": "python",
   "name": "python3"
  },
  "language_info": {
   "codemirror_mode": {
    "name": "ipython",
    "version": 3
   },
   "file_extension": ".py",
   "mimetype": "text/x-python",
   "name": "python",
   "nbconvert_exporter": "python",
   "pygments_lexer": "ipython3",
   "version": "3.10.12"
  }
 },
 "nbformat": 4,
 "nbformat_minor": 5
}
