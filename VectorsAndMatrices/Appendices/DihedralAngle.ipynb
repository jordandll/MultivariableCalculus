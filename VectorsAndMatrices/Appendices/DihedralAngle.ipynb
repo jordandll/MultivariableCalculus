{
 "cells": [
  {
   "cell_type": "markdown",
   "id": "11c7596e-4ff5-4eca-98d1-c154824fa145",
   "metadata": {},
   "source": [
    "# Dihedral Angle\n",
    "\n",
    "The dihedral angle is the angle between two planes.  Suppose there exists two planes, $\\mathcal{P}_1$ and $\\mathcal{P}_2$ with normal vectors $\\mathbf{A}$ and $\\mathbf{B}$ respectively.  These planes are of course given by:  \n",
    "\n",
    "$$ a_1x + a_2y + a_3z = d_1 $$\n",
    "$$ b_1x + b_2y + b_3z = d_2 $$\n",
    "\n",
    "**Proposition**:  The dihedral angle, denoted as $\\theta$, between these two planes is equal to the angle between the two normals $\\mathbf{A}$ and $\\mathbf{B}$.  \n",
    "\n",
    "$$ \\mathbf{A}\\cdot\\mathbf{B} = |\\mathbf{A}||\\mathbf{B}|\\cos\\theta$$"
   ]
  },
  {
   "cell_type": "markdown",
   "id": "e656b144-f000-46ca-90fe-0171c0a7621e",
   "metadata": {},
   "source": [
    "**Proof**:  \n",
    "\n",
    "Suppose there exists two vectors $\\mathbf{P}$ and $\\mathbf{Q}$ that are both perpendicular to the line of intersection between our two planes and rest on said planes.  In particular, suppose $\\mathbf{P}$ rests on $\\mathcal{P}_1$ and $\\mathbf{Q}$ rests on $\\mathcal{P}_2$.  The the dihedral angle is equal to the angle between $\\mathbf{P}$ and $\\mathbf{Q}$  \n",
    "\n",
    "$$ \\mathbf{P}\\cdot\\mathbf{Q} = |\\mathbf{P}||\\mathbf{Q}|\\cos\\theta$$"
   ]
  },
  {
   "cell_type": "markdown",
   "id": "eb6c5c9c-4b11-46c6-998a-62ae7bc46aa9",
   "metadata": {},
   "source": [
    "Thus, via the above equation, the equation of the proposition, and equivalence principle,  \n",
    "\n",
    "$$ \\frac{\\mathbf{P}\\cdot\\mathbf{Q}}{|\\mathbf{Q}||\\mathbf{P}|} = \\frac{\\mathbf{A}\\cdot\\mathbf{B}}{|\\mathbf{A}||\\mathbf{B}|}$$"
   ]
  },
  {
   "cell_type": "markdown",
   "id": "84cbf6b6-1a00-4891-b642-feaafafc03f2",
   "metadata": {},
   "source": [
    "Said line of intersection is given by:  \n",
    "\n",
    "$$ b_1x + b_2y + \\frac{b_3}{a_3}\\,(d_1 - a_1x - a_2y) = d_2$$"
   ]
  },
  {
   "cell_type": "markdown",
   "id": "742dd046-9bda-4f1f-943c-64692f62f473",
   "metadata": {},
   "source": [
    "$$ x\\left(b_1 -\\frac{a_1}{a_3}\\,b_3\\right) + y\\left(b_2-\\frac{a_2}{a_3}\\,b_3\\right) = d_2 - \\frac{b_3}{a_3}\\,d_1$$"
   ]
  },
  {
   "cell_type": "markdown",
   "id": "f3222588-3c59-4d0c-9aba-e2ca0c8d3526",
   "metadata": {},
   "source": [
    "$$ x\\,\\frac{a_3b_1 - a_1b_3}{a_3} + y\\,\\frac{a_3b_2 - a_2b_3}{a_3} = \\frac{a_3d_2 - b_3d_1}{a_3}$$"
   ]
  },
  {
   "cell_type": "markdown",
   "id": "ba19710a-465b-439d-ad1f-ae43e7453494",
   "metadata": {},
   "source": [
    "$$ x(a_3b_1-a_1b_3) + y(a_3b_2-a_2b_3) = a_3d_2 - b_3d_1$$"
   ]
  },
  {
   "cell_type": "markdown",
   "id": "56801b18-dc85-40c2-bf48-ce4d509e8dd3",
   "metadata": {},
   "source": [
    "Now, let $R_0$ and $R_1$ be two points on this line.  \n",
    "\n",
    "$$ R_0=\\left(0, \\frac{a_3d_2 - b_3d_1}{a_3b_2-a_2b_3}\\right) \\quad\\quad\\text{and}\\quad\\quad R_1 = \\left(\\frac{a_3d_2-b_3d_1}{a_3b_1-a_1b_3} , 0\\right)$$"
   ]
  },
  {
   "cell_type": "markdown",
   "id": "bb62e576-9cb8-45f0-91fa-a3f26fa94568",
   "metadata": {},
   "source": [
    "And let $\\mathbf{R}$ be defined as:  \n",
    "\n",
    "$$ \\mathbf{R}:=\\overrightarrow{R_0R_1} = \\left\\langle \\frac{a_3d_2-a_3d_1}{a_3b_1-a_1b_3}, - \\frac{a_3d_2-a_3d_1}{a_3b_2-a_2b_3}\\right\\rangle$$"
   ]
  },
  {
   "cell_type": "markdown",
   "id": "ad8fa4eb-ef50-42a1-991c-5a884dad1f31",
   "metadata": {},
   "source": [
    "$$\\mathbf{P}\\perp\\mathbf{A} \\;\\land\\; \\mathbf{P}\\perp\\mathbf{R} \\quad \\iff\\quad \\mathbf{P}\\cdot\\mathbf{A} = 0 \\;\\land\\; \\mathbf{P}\\cdot\\mathbf{R} = 0$$"
   ]
  },
  {
   "cell_type": "markdown",
   "id": "7295b9a2-b7f8-4232-90b5-e771d7af8010",
   "metadata": {},
   "source": [
    "$$ \\mathbf{Q}\\perp\\mathbf{B} \\;\\land\\; \\mathbf{Q}\\perp\\mathbf{R} \\quad \\iff\\quad \\mathbf{Q}\\cdot\\mathbf{B} = 0 \\;\\land\\; \\mathbf{Q}\\cdot\\mathbf{R} = 0$$"
   ]
  }
 ],
 "metadata": {
  "kernelspec": {
   "display_name": "Python 3 (ipykernel)",
   "language": "python",
   "name": "python3"
  },
  "language_info": {
   "codemirror_mode": {
    "name": "ipython",
    "version": 3
   },
   "file_extension": ".py",
   "mimetype": "text/x-python",
   "name": "python",
   "nbconvert_exporter": "python",
   "pygments_lexer": "ipython3",
   "version": "3.10.12"
  }
 },
 "nbformat": 4,
 "nbformat_minor": 5
}
