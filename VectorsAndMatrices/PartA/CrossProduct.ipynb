{
 "cells": [
  {
   "cell_type": "markdown",
   "id": "2ab3a806-1290-49d2-ae53-2ec5ea433a3b",
   "metadata": {},
   "source": [
    "# Cross Products"
   ]
  },
  {
   "cell_type": "code",
   "execution_count": 1,
   "id": "3f4c9b96-b260-47fc-ad5c-2a4aad4ed855",
   "metadata": {
    "tags": []
   },
   "outputs": [],
   "source": [
    "import sympy as sp"
   ]
  },
  {
   "cell_type": "markdown",
   "id": "81bec112-d925-4390-b63b-d010d56b2e63",
   "metadata": {},
   "source": [
    "## Problems"
   ]
  },
  {
   "cell_type": "markdown",
   "id": "8ba23b33-3d72-4c6f-8251-e4c865224817",
   "metadata": {},
   "source": [
    "#### Problem 1\n",
    "1. a) Compute $\\langle 1,3,1\\rangle\\times\\langle 2,-1,5\\rangle$"
   ]
  },
  {
   "cell_type": "markdown",
   "id": "7981f18c-17c1-4013-a7de-c4bc3ac60905",
   "metadata": {},
   "source": [
    "Let $\\mathbf{A} := \\langle 1,3,1\\rangle$ and $\\mathbf{B}:=\\langle 2,-1,5\\rangle$.  \n",
    "\n",
    "$$ \\mathbf{A}\\times\\mathbf{B} = \\left|\\begin{matrix}&\\mathbf{i}\\;&\\mathbf{j}\\;&\\mathbf{k} \\\\ &1\\;&3\\;&1 \\\\ &2\\;&-1\\;&5\\end{matrix}\\right|$$"
   ]
  },
  {
   "cell_type": "markdown",
   "id": "9a7a8917-ad17-4e97-a75b-1b0acc773e75",
   "metadata": {},
   "source": [
    "$$ = 16\\mathbf{i} - 3\\mathbf{j} - 7\\mathbf{k}$$"
   ]
  },
  {
   "cell_type": "code",
   "execution_count": 10,
   "id": "06610ffb-cf7e-45c5-b239-8096f9928051",
   "metadata": {
    "tags": []
   },
   "outputs": [
    {
     "data": {
      "text/latex": [
       "$\\displaystyle 16 i - 3 j - 7 k$"
      ],
      "text/plain": [
       "16*i - 3*j - 7*k"
      ]
     },
     "execution_count": 10,
     "metadata": {},
     "output_type": "execute_result"
    }
   ],
   "source": [
    "from sympy.abc import i,j,k\n",
    "C = sp.Matrix([[i,j,k],[1,3,1],[2,-1,5]])\n",
    "C.det()"
   ]
  },
  {
   "cell_type": "markdown",
   "id": "96625c17-a98c-4437-9da0-837e99a7830a",
   "metadata": {},
   "source": [
    "b) Compute $(\\mathbf{i}+2\\mathbf{j})\\times(2\\mathbf{i}-3\\mathbf{j})$."
   ]
  },
  {
   "cell_type": "markdown",
   "id": "34ddc874-1c33-4723-939d-756ea3319698",
   "metadata": {},
   "source": [
    "$$ -7\\mathbf{k}$$"
   ]
  },
  {
   "cell_type": "markdown",
   "id": "3435ce89-abd3-4edd-9402-381caf36ada9",
   "metadata": {},
   "source": [
    "#### Problem 2\n",
    "2. Find the area of the parallelogram shown.  \n",
    "\n",
    "$$ O = (1,2,1)\\quad\\quad A = (3,1,6)\\quad\\quad B = (2,5,2)$$"
   ]
  },
  {
   "cell_type": "markdown",
   "id": "ebe91d52-8437-48af-af13-34c7b51cef0a",
   "metadata": {},
   "source": [
    "Let $\\mathbf{A}:=\\overrightarrow{OA} = \\langle 2, -1, 5\\rangle$ and $\\mathbf{B}:=\\overrightarrow{OB} = \\langle 1, 3, 1\\rangle$.  The area is given by:  \n",
    "\n",
    "$$ |\\mathbf{A}\\times\\mathbf{B}| = \\sqrt{16^2 + 9 + 49} = \\sqrt{256+9+49}$$"
   ]
  },
  {
   "cell_type": "code",
   "execution_count": 11,
   "id": "c03e0cab-e12c-43c8-bedb-5533ba794afe",
   "metadata": {
    "tags": []
   },
   "outputs": [],
   "source": [
    "import numpy as np"
   ]
  },
  {
   "cell_type": "code",
   "execution_count": 12,
   "id": "59c125af-8eb3-4d23-b861-4f3c819443d6",
   "metadata": {
    "tags": []
   },
   "outputs": [
    {
     "data": {
      "text/plain": [
       "17.72004514666935"
      ]
     },
     "execution_count": 12,
     "metadata": {},
     "output_type": "execute_result"
    }
   ],
   "source": [
    "np.sqrt(16**2 + 9 + 49)"
   ]
  },
  {
   "cell_type": "code",
   "execution_count": 13,
   "id": "cbde8024-0a5c-406c-b296-2da5779961a2",
   "metadata": {
    "tags": []
   },
   "outputs": [
    {
     "data": {
      "text/latex": [
       "$\\displaystyle \\sqrt{314}$"
      ],
      "text/plain": [
       "sqrt(314)"
      ]
     },
     "execution_count": 13,
     "metadata": {},
     "output_type": "execute_result"
    }
   ],
   "source": [
    "sp.sqrt(16**2+9+49)"
   ]
  }
 ],
 "metadata": {
  "kernelspec": {
   "display_name": "Python 3 (ipykernel)",
   "language": "python",
   "name": "python3"
  },
  "language_info": {
   "codemirror_mode": {
    "name": "ipython",
    "version": 3
   },
   "file_extension": ".py",
   "mimetype": "text/x-python",
   "name": "python",
   "nbconvert_exporter": "python",
   "pygments_lexer": "ipython3",
   "version": "3.10.12"
  }
 },
 "nbformat": 4,
 "nbformat_minor": 5
}
