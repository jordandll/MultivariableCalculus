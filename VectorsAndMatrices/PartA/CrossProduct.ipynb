{
 "cells": [
  {
   "cell_type": "markdown",
   "id": "2ab3a806-1290-49d2-ae53-2ec5ea433a3b",
   "metadata": {},
   "source": [
    "# Cross Products\n",
    "The cross product $\\mathbf{A}\\times \\mathbf{B}$ is defined as a vector that is perpendicular (orthogonal) to both $\\mathbf{A}$ and $\\mathbf{B}$, with a direction given by the right-hand rule and a magnitude equal to the area of the parallelogram that the vectors span, or, to put it another way, the parallelogram that has two adjacent edges that fit the operands of the cross product, herein denoted as $\\mathbf{A}$ and $\\mathbf{B}$."
   ]
  },
  {
   "cell_type": "markdown",
   "id": "6319a717-d580-4da9-af86-7a0a7f3d86a3",
   "metadata": {},
   "source": [
    "## Definition\n",
    "The cross product is defined by:  \n",
    "\n",
    "\\begin{equation}\\tag{1}\n",
    "    \\mathbf{A} \\times\\mathbf{B} = |\\mathbf{A}||\\mathbf{B}|\\sin(\\theta)\\,\\mathbf{n}\n",
    "\\end{equation}"
   ]
  },
  {
   "cell_type": "markdown",
   "id": "befc202c-4922-4722-aa73-8b1ccbddb9d6",
   "metadata": {},
   "source": [
    "where,  \n",
    "\n",
    "* $\\theta$ is the angle between $\\mathbf{A}$ and $\\mathbf{B}$;\n",
    "* and $\\mathbf{n}$ is the vector that is normal to the plane that $\\mathbf{A}$ and $\\mathbf{B}$ rest on."
   ]
  },
  {
   "cell_type": "markdown",
   "id": "25e40048-ca25-4b35-b5b1-f109aa3cd7c5",
   "metadata": {},
   "source": [
    "## Right-hand Rule\n",
    "\n",
    "This rule states that the cross product of two vectors points in the direction of your thumb when you right hand's index finger points in the direction of the vector on the left hand side of the cross product operator, denoted as '$\\mathbf{A}$' in equation (1), and another finger belonging to your right hand points in the direction of the vector on the right hand side of the cross product operator, denoted as '$\\mathbf{B}$' in equation (1).  Due to the natural limitations of your fingers, you may have to rotate your hand around it's index finger by $180^\\circ$ to satisfy the rand-hand rule, in which case, your thumb should point in the opposite direction that it did before this rotation."
   ]
  },
  {
   "cell_type": "markdown",
   "id": "a04d21d2-ce08-4427-90b8-f5866750f18e",
   "metadata": {},
   "source": [
    "## Properties\n",
    "\n",
    "Herein are some algebraic facts about the cross product."
   ]
  },
  {
   "cell_type": "markdown",
   "id": "a6c86882-95f6-4b80-841c-52de8d1bda19",
   "metadata": {},
   "source": [
    "### Anticommutative\n",
    "\n",
    "\\begin{equation}\\tag{2.1}\n",
    "    \\mathbf{A}\\times\\mathbf{B} = -\\mathbf{B}\\times\\mathbf{A}\n",
    "\\end{equation}"
   ]
  },
  {
   "cell_type": "markdown",
   "id": "fa4c4fe5-2517-41aa-b32a-3e68990b204e",
   "metadata": {},
   "source": [
    "**Proof**:  This simply follows from the fact that $\\sin-\\theta = -\\sin\\theta$, equation (1), and the right hand rule."
   ]
  },
  {
   "cell_type": "markdown",
   "id": "ee18d93f-d733-49de-b185-8fdd5626a901",
   "metadata": {},
   "source": [
    "### Distributive\n",
    "\n",
    "\\begin{equation}\\tag{2.2}\n",
    "    \\mathbf{A}\\times(\\mathbf{B} + \\mathbf{C}) = \\mathbf{A}\\times\\mathbf{B} + \\mathbf{A}\\times\\mathbf{C}\n",
    "\\end{equation}"
   ]
  },
  {
   "cell_type": "markdown",
   "id": "a8b0c616-980e-4587-b84e-415479df4cf1",
   "metadata": {},
   "source": [
    "![parallelopiped](https://upload.wikimedia.org/wikipedia/commons/thumb/3/31/Parallelepiped-bf.svg/260px-Parallelepiped-bf.svg.png)"
   ]
  },
  {
   "cell_type": "markdown",
   "id": "f76b80a0-82b4-4c96-b099-fe077a3e1b89",
   "metadata": {},
   "source": [
    "**Proof**:  Let  \n",
    "\n",
    "$$ \\mathbf{Q}:=\\mathbf{B}+\\mathbf{C} \\quad\\quad \\omega:=\\angle(\\mathbf{A},\\mathbf{Q})\\quad\\quad \\beta:=\\angle(\\mathbf{A},\\mathbf{C})\\quad\\quad \\gamma:=\\angle(\\mathbf{A},\\mathbf{B})$$"
   ]
  },
  {
   "cell_type": "markdown",
   "id": "8772f0eb-2687-414f-9e14-66f2a3f8beac",
   "metadata": {},
   "source": [
    "Now, let  \n",
    "\n",
    "$$ \\mathbf{N}_\\omega:=\\mathbf{A}\\times\\mathbf{Q} \\quad\\quad \\mathbf{N}_\\gamma := \\mathbf{A}\\times\\mathbf{B}\\quad\\quad \\mathbf{N}_\\beta:=\\mathbf{A}\\times\\mathbf{C}\\quad\\quad\\alpha = \\angle(\\mathbf{B},\\mathbf{C})$$"
   ]
  },
  {
   "cell_type": "markdown",
   "id": "422bc2f9-e8cb-4a83-ae0f-674c430b1895",
   "metadata": {},
   "source": [
    "It now follows that:  \n",
    "\n",
    "\\begin{equation}\\tag{2.2}\n",
    "    \\mathbf{N}_\\omega = \\mathbf{N}_\\gamma + \\mathbf{N}_\\beta\n",
    "\\end{equation}"
   ]
  },
  {
   "cell_type": "markdown",
   "id": "9b1b2c82-4cbe-43b2-8dcf-e46408bfde9f",
   "metadata": {},
   "source": [
    "Let $\\mathbf{u}$ denote the unit vector points in the same direction as $\\mathbf{N}_\\beta$.  It now follows that:  \n",
    "\n",
    "\\begin{equation}\\tag{2.3}\n",
    "    \\text{a: }\\;|\\mathbf{N}_\\beta|\\mathbf{u} = \\mathbf{N}_\\beta \\quad\\quad\\text{and}\\quad\\quad \\text{b: }\\;\\mathbf{N}_\\gamma\\cdot\\mathbf{u} = |\\mathbf{N}_\\gamma|\\cos\\theta\n",
    "\\end{equation}"
   ]
  },
  {
   "cell_type": "markdown",
   "id": "1bd35642-9b34-4fea-9e8c-198015f1b666",
   "metadata": {},
   "source": [
    "where $\\theta$ is the angle between $\\mathbf{N}_\\gamma$ and $\\mathbf{N}_\\beta$.  Now let $\\mathbf{v}$ be defined as the unit vector such that:  \n",
    "\n",
    "\\begin{equation}\\tag{2.4}\n",
    "    \\mathbf{N}_\\gamma = |\\mathbf{N}_\\gamma|\\big(\\cos(\\theta)\\,\\mathbf{u} + \\sin(\\theta)\\,\\mathbf{v} \\big)\n",
    "\\end{equation}"
   ]
  },
  {
   "cell_type": "markdown",
   "id": "73e5add7-fe6f-4909-9b33-f296829ac352",
   "metadata": {},
   "source": [
    "It now follows that $\\mathbf{u}$ is perpendicular to $\\mathbf{v}$ and that $|\\mathbf{N}_\\gamma|\\sin\\theta$ is equal to the component of $\\mathbf{N}_\\gamma$ in the direction of $\\mathbf{v}$."
   ]
  },
  {
   "cell_type": "markdown",
   "id": "9a5fc88b-9b83-4733-b9cf-f9e93bbccc22",
   "metadata": {},
   "source": [
    "\\begin{equation}\\tag{2.5}\n",
    "    \\text{a: }\\;\\mathbf{u}\\,\\perp\\,\\mathbf{v}\\quad\\quad\\text{and}\\quad\\quad \\text{b: }\\;\\mathbf{N}_\\gamma\\cdot\\mathbf{v} = |\\mathbf{N}_\\gamma|\\sin\\theta\n",
    "\\end{equation}"
   ]
  },
  {
   "cell_type": "markdown",
   "id": "553bf54d-0d3a-4312-8b17-5e40a13d83d1",
   "metadata": {},
   "source": [
    "Via equations (2.3a) and (2.4),  \n",
    "\n",
    "\\begin{equation}\\tag{2.6}\n",
    "    |\\mathbf{N}_\\gamma + \\mathbf{N}_\\beta| = \\sqrt{\\big(|\\mathbf{N}_\\beta| + |\\mathbf{N}_\\gamma|\\cos\\theta\\big)^2 + |\\mathbf{N}_\\gamma|^2\\sin^2\\theta}\n",
    "\\end{equation}"
   ]
  },
  {
   "cell_type": "markdown",
   "id": "61971e62-ddd7-47d0-8f91-b839ad508f3b",
   "metadata": {},
   "source": [
    "$$ = \\sqrt{|\\mathbf{N}_\\beta|^2 + 2|\\mathbf{N}_\\beta||\\mathbf{N}_\\gamma|\\cos\\theta + |\\mathbf{N}_\\gamma|^2}$$"
   ]
  },
  {
   "cell_type": "markdown",
   "id": "bc97e0e8-5b85-4a50-8b2b-91f8f0931ab1",
   "metadata": {},
   "source": [
    "$$ =\\sqrt{|\\mathbf{A}|^2|\\mathbf{C}|^2\\sin^2\\beta + |\\mathbf{A}|^2|\\mathbf{B}|^2\\sin^2\\gamma + 2|\\mathbf{A}|^2|\\mathbf{B}||\\mathbf{C}|\\sin\\beta\\sin\\gamma\\cos\\theta}$$"
   ]
  },
  {
   "cell_type": "markdown",
   "id": "c851d644-1cc6-4db7-a572-1ac1a2dd844e",
   "metadata": {},
   "source": [
    "The magnitude of $\\mathbf{N}_\\alpha$ is given by:  \n",
    "\n",
    "$$ |\\mathbf{N}_\\omega| = |\\mathbf{A}||\\mathbf{Q}|\\sin\\omega = |\\mathbf{A}||\\mathbf{B}+\\mathbf{C}||\\sin\\omega|$$"
   ]
  },
  {
   "cell_type": "markdown",
   "id": "9c9e3cd6-62f1-4082-976d-1a0cd371aa7a",
   "metadata": {},
   "source": [
    "## Matrix Notation\n",
    "\n",
    "The cross product can be expressed the formal determinant:  \n",
    "\n",
    "\\begin{align*}\\tag{2}\n",
    "    \\mathbf{A}\\times\\mathbf{B} &= \\left|\\begin{matrix}&\\mathbf{i}\\;&\\mathbf{j}\\;&\\mathbf{k}\\\\&a_x\\;&a_y\\;&a_z\\\\&b_x\\;&b_y\\;&b_z\\end{matrix}\\right| \\\\ \\\\\n",
    "     &= \\left|\\begin{matrix}a_y\\quad a_z\\\\b_y\\quad b_z\\end{matrix}\\right|\\,\\mathbf{i} - \\left|\\begin{matrix}a_x\\quad a_z\\\\b_x\\quad b_z\\end{matrix}\\right|\\,\\mathbf{j} + \\left|\\begin{matrix}a_x\\quad a_y\\\\b_x\\quad b_y\\end{matrix}\\right|\\,\\mathbf{k}\n",
    "\\end{align*}"
   ]
  },
  {
   "cell_type": "code",
   "execution_count": 1,
   "id": "3f4c9b96-b260-47fc-ad5c-2a4aad4ed855",
   "metadata": {
    "tags": []
   },
   "outputs": [],
   "source": [
    "import sympy as sp"
   ]
  },
  {
   "cell_type": "markdown",
   "id": "81bec112-d925-4390-b63b-d010d56b2e63",
   "metadata": {},
   "source": [
    "## Problems"
   ]
  },
  {
   "cell_type": "markdown",
   "id": "8ba23b33-3d72-4c6f-8251-e4c865224817",
   "metadata": {},
   "source": [
    "#### Problem 1\n",
    "1. a) Compute $\\langle 1,3,1\\rangle\\times\\langle 2,-1,5\\rangle$"
   ]
  },
  {
   "cell_type": "markdown",
   "id": "7981f18c-17c1-4013-a7de-c4bc3ac60905",
   "metadata": {},
   "source": [
    "Let $\\mathbf{A} := \\langle 1,3,1\\rangle$ and $\\mathbf{B}:=\\langle 2,-1,5\\rangle$.  \n",
    "\n",
    "$$ \\mathbf{A}\\times\\mathbf{B} = \\left|\\begin{matrix}&\\mathbf{i}\\;&\\mathbf{j}\\;&\\mathbf{k} \\\\ &1\\;&3\\;&1 \\\\ &2\\;&-1\\;&5\\end{matrix}\\right|$$"
   ]
  },
  {
   "cell_type": "markdown",
   "id": "9a7a8917-ad17-4e97-a75b-1b0acc773e75",
   "metadata": {},
   "source": [
    "$$ = 16\\mathbf{i} - 3\\mathbf{j} - 7\\mathbf{k}$$"
   ]
  },
  {
   "cell_type": "code",
   "execution_count": 10,
   "id": "06610ffb-cf7e-45c5-b239-8096f9928051",
   "metadata": {
    "tags": []
   },
   "outputs": [
    {
     "data": {
      "text/latex": [
       "$\\displaystyle 16 i - 3 j - 7 k$"
      ],
      "text/plain": [
       "16*i - 3*j - 7*k"
      ]
     },
     "execution_count": 10,
     "metadata": {},
     "output_type": "execute_result"
    }
   ],
   "source": [
    "from sympy.abc import i,j,k\n",
    "C = sp.Matrix([[i,j,k],[1,3,1],[2,-1,5]])\n",
    "C.det()"
   ]
  },
  {
   "cell_type": "markdown",
   "id": "96625c17-a98c-4437-9da0-837e99a7830a",
   "metadata": {},
   "source": [
    "b) Compute $(\\mathbf{i}+2\\mathbf{j})\\times(2\\mathbf{i}-3\\mathbf{j})$."
   ]
  },
  {
   "cell_type": "markdown",
   "id": "34ddc874-1c33-4723-939d-756ea3319698",
   "metadata": {},
   "source": [
    "$$ -7\\mathbf{k}$$"
   ]
  },
  {
   "cell_type": "markdown",
   "id": "3435ce89-abd3-4edd-9402-381caf36ada9",
   "metadata": {},
   "source": [
    "#### Problem 2\n",
    "2. Find the area of the parallelogram shown.  \n",
    "\n",
    "$$ O = (1,2,1)\\quad\\quad A = (3,1,6)\\quad\\quad B = (2,5,2)$$"
   ]
  },
  {
   "cell_type": "markdown",
   "id": "ebe91d52-8437-48af-af13-34c7b51cef0a",
   "metadata": {},
   "source": [
    "Let $\\mathbf{A}:=\\overrightarrow{OA} = \\langle 2, -1, 5\\rangle$ and $\\mathbf{B}:=\\overrightarrow{OB} = \\langle 1, 3, 1\\rangle$.  The area is given by:  \n",
    "\n",
    "$$ |\\mathbf{A}\\times\\mathbf{B}| = \\sqrt{16^2 + 9 + 49} = \\sqrt{256+9+49}$$"
   ]
  },
  {
   "cell_type": "code",
   "execution_count": 11,
   "id": "c03e0cab-e12c-43c8-bedb-5533ba794afe",
   "metadata": {
    "tags": []
   },
   "outputs": [],
   "source": [
    "import numpy as np"
   ]
  },
  {
   "cell_type": "code",
   "execution_count": 12,
   "id": "59c125af-8eb3-4d23-b861-4f3c819443d6",
   "metadata": {
    "tags": []
   },
   "outputs": [
    {
     "data": {
      "text/plain": [
       "17.72004514666935"
      ]
     },
     "execution_count": 12,
     "metadata": {},
     "output_type": "execute_result"
    }
   ],
   "source": [
    "np.sqrt(16**2 + 9 + 49)"
   ]
  },
  {
   "cell_type": "code",
   "execution_count": 13,
   "id": "cbde8024-0a5c-406c-b296-2da5779961a2",
   "metadata": {
    "tags": []
   },
   "outputs": [
    {
     "data": {
      "text/latex": [
       "$\\displaystyle \\sqrt{314}$"
      ],
      "text/plain": [
       "sqrt(314)"
      ]
     },
     "execution_count": 13,
     "metadata": {},
     "output_type": "execute_result"
    }
   ],
   "source": [
    "sp.sqrt(16**2+9+49)"
   ]
  }
 ],
 "metadata": {
  "kernelspec": {
   "display_name": "Python 3 (ipykernel)",
   "language": "python",
   "name": "python3"
  },
  "language_info": {
   "codemirror_mode": {
    "name": "ipython",
    "version": 3
   },
   "file_extension": ".py",
   "mimetype": "text/x-python",
   "name": "python",
   "nbconvert_exporter": "python",
   "pygments_lexer": "ipython3",
   "version": "3.10.12"
  }
 },
 "nbformat": 4,
 "nbformat_minor": 5
}
