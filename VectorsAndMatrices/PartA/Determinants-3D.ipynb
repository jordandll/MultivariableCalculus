{
 "cells": [
  {
   "cell_type": "markdown",
   "id": "36f23c96-11d5-4bad-9704-d3816ffa0620",
   "metadata": {},
   "source": [
    "# Volumes and Determinants\n",
    "\n",
    "Suppose there exists a [parallelopiped](https://en.wikipedia.org/wiki/Parallelepiped) resting in a 3D vector space with three adjacent edges that fit the vectors, $\\mathbf{A}$, $\\mathbf{B}$, and $\\mathbf{C}$."
   ]
  },
  {
   "cell_type": "markdown",
   "id": "bf017f38-fcd8-4fc3-b38a-a137ea088056",
   "metadata": {},
   "source": [
    "**Proposition**:  The volume $V$ of this parallelopiped is equal to the absolute value of the determinant of the 3x3 square matrix of which, each row consists of the $\\mathbf{i},\\mathbf{j},$ and $\\mathbf{k}$ components of it's corresponding vector.\n",
    "\n",
    "$$ \\pm V = \\mathrm{det}(\\mathbf{A},\\mathbf{B},\\mathbf{C}) = \\left|\\begin{matrix}\\tag{V1}a_x\\;a_y\\;a_z\\\\b_x\\;b_y\\;b_z\\\\c_x\\;c_y\\;c_z\\end{matrix} \\right|$$"
   ]
  },
  {
   "cell_type": "markdown",
   "id": "93356607-fb01-4c59-88d5-87f8e229970f",
   "metadata": {},
   "source": [
    "**Proof**:  \n",
    "\n",
    "Via equation (V1) and [Leibniz formula](https://en.wikipedia.org/wiki/Determinant#Leibniz_formula),  \n",
    "\n",
    "\\begin{align*}\\tag{1.1}\n",
    "    \\pm V = \\mathrm{det}(\\mathbf{A},\\mathbf{B},\\mathbf{C}) &= a_x\\,\\left|\\begin{matrix}b_y\\quad b_z\\\\c_y\\quad c_z\\end{matrix} \\right| - a_y\\,\\left|\\begin{matrix}b_x\\quad b_z\\\\c_x\\quad c_z\\end{matrix} \\right| + a_z\\,\\left|\\begin{matrix}b_x\\quad b_y\\\\ c_x\\quad c_y\\end{matrix} \\right| \\\\ \\\\\n",
    "     &  = a_x\\,\\left|\\begin{matrix}b_y\\quad b_z\\\\c_y\\quad c_z\\end{matrix} \\right| + a_y\\,\\left|\\begin{matrix}c_x\\quad c_z\\\\ b_x\\quad b_z\\end{matrix} \\right| + a_z\\,\\left|\\begin{matrix}b_x\\quad b_y\\\\ c_x\\quad c_y\\end{matrix} \\right|\n",
    "\\end{align*}"
   ]
  },
  {
   "cell_type": "markdown",
   "id": "ce54818b-1d1a-490b-824b-5b8ff18e9787",
   "metadata": {},
   "source": [
    "Since a parallelepiped can be considered as an oblique prism with a parallelogram as base, the volume of the parallelopiped is equal to the product of the area of the base, denoted as '$b$', and the height, denoted as '$h$'.  \n",
    "\n",
    "\\begin{equation}\\tag{1.2}\n",
    "    V = b\\cdot h\n",
    "\\end{equation}"
   ]
  },
  {
   "cell_type": "markdown",
   "id": "b7048860-491d-4caf-9314-cc483bafff35",
   "metadata": {},
   "source": [
    "Assuming the base has two adjacent edges that fit $\\mathbf{A}$ and $\\mathbf{B}$,  \n",
    "\n",
    "\\begin{equation}\\tag{1.3}\n",
    "    b = |\\mathbf{B}||\\mathbf{A}|\\sin\\gamma = |\\mathbf{A}\\times\\mathbf{B}| \\quad\\quad\\text{where }\\gamma=\\angle(\\mathbf{A},\\mathbf{B})\n",
    "\\end{equation}"
   ]
  },
  {
   "cell_type": "markdown",
   "id": "efcd2c62-ff7f-4f99-bc23-0111f759dd38",
   "metadata": {},
   "source": [
    "Note that the caveat of the above equation says that $\\gamma$ is equal to the measure of the angle between $\\mathbf{A}$ and $\\mathbf{B}$.  Also note that:  \n",
    "\n",
    "$$ \\alpha = \\angle(\\mathbf{B},\\mathbf{C})\\quad\\quad\\text{and}\\quad\\quad \\beta = \\angle(\\mathbf{A},\\mathbf{C})$$"
   ]
  },
  {
   "cell_type": "markdown",
   "id": "00ab8e82-485f-4a37-a7d7-7db1eef000aa",
   "metadata": {},
   "source": [
    "And, the height is given by:  \n",
    "\n",
    "\\begin{equation}\\tag{1.4}\n",
    "    h = |\\mathbf{C}||\\cos\\theta|\n",
    "\\end{equation}"
   ]
  },
  {
   "cell_type": "markdown",
   "id": "e2d12a9e-43b5-4bc2-b5e0-dfc36052f127",
   "metadata": {},
   "source": [
    "Where $\\theta$ is the angle between $\\mathbf{C}$ and the normal or perpendicular that is dropped from $C$ to the base.  Note that said normal is a vector that points towards the base, and is thus equal to $-\\mathbf{n}$."
   ]
  },
  {
   "cell_type": "markdown",
   "id": "159194d5-8dde-4a36-8668-e573fafeb991",
   "metadata": {},
   "source": [
    "It may be worth emphasizing that $h$ is equal to the absolute value of the component of $\\mathbf{C}$ in the direction of $\\pm\\mathbf{n}$."
   ]
  },
  {
   "cell_type": "markdown",
   "id": "60bd9751-5a25-459c-a5e3-70067014554a",
   "metadata": {},
   "source": [
    "The notion that $b=|\\mathbf{A}\\times\\mathbf{B}|$ follows from the definition of the cross product, which can be found [here](#Cross-Product)."
   ]
  },
  {
   "cell_type": "markdown",
   "id": "11f304f3-48a7-4e64-8a55-a6e4ae56efc7",
   "metadata": {},
   "source": [
    "Via equations (1.4), (1.3), and (1.2) and substitution,  \n",
    "\n",
    "\\begin{equation}\\tag{1.5}\n",
    "    V = |\\mathbf{A}\\times\\mathbf{B}||\\mathbf{C}||\\cos\\theta| = |(\\mathbf{A}\\times\\mathbf{B})\\cdot\\mathbf{C}|\n",
    "\\end{equation}"
   ]
  },
  {
   "cell_type": "markdown",
   "id": "aa61b951-32ac-4756-b88e-497979db4374",
   "metadata": {},
   "source": [
    "Let $\\mathbf{A}\\times\\mathbf{B}:=\\mathbf{R}$.  The angle between $\\mathbf{A}\\times\\mathbf{B}$ and $\\mathbf{C}$ is equal to $\\pi-\\theta$, thus:  \n",
    "\n",
    "$$ \\mathbf{R}\\cdot\\mathbf{C} = |\\mathbf{R}||\\mathbf{C}|\\cos(\\pi-\\theta) = - |\\mathbf{R}||\\mathbf{C}|\\cos\\theta$$"
   ]
  },
  {
   "cell_type": "markdown",
   "id": "143e5934-0822-4c5d-ba61-6c12ecd37ef6",
   "metadata": {},
   "source": [
    "Taking the absolute value of both sides of the above equation gives:  \n",
    "\n",
    "$$ |(\\mathbf{A}\\times\\mathbf{B})\\cdot\\mathbf{C}| = \\big|-|\\mathbf{A}\\times\\mathbf{B}||\\mathbf{C}|\\cos\\theta\\big| = |\\mathbf{A}\\times\\mathbf{B}||\\mathbf{C}||\\cos\\theta|$$"
   ]
  },
  {
   "cell_type": "markdown",
   "id": "b9d8c7a7-6732-4c23-aa20-16ea5f4c1a20",
   "metadata": {},
   "source": [
    "Hence equation (1.5)."
   ]
  },
  {
   "cell_type": "markdown",
   "id": "75e05c43-e472-4c9e-9f52-ac484cadcd5d",
   "metadata": {},
   "source": [
    "Via equations (2.1) and (1.5)  \n",
    "\n",
    "$$ \\pm V = \\mathbf{C}\\cdot\\mathbf{A}\\times\\mathbf{B} = c_x\\,\\left|\\begin{matrix}a_y\\quad a_z\\\\b_y\\quad b_z\\end{matrix} \\right| - c_y\\,\\left|\\begin{matrix}a_x\\quad a_z\\\\ b_x\\quad b_z\\end{matrix} \\right| + c_z\\,\\left|\\begin{matrix}a_x\\quad a_y\\\\ b_x\\quad b_y\\end{matrix} \\right| = \\left| \\begin{matrix}c_x\\;c_y\\;c_z \\\\ a_x\\;a_y\\;a_z \\\\ b_x\\;b_y\\;b_z \\end{matrix}\\right|$$"
   ]
  },
  {
   "cell_type": "markdown",
   "id": "997b8e1b-e130-41c0-bb43-fc266ab4ec1c",
   "metadata": {},
   "source": [
    "$$ = c_x(a_yb_z - a_zb_y) + c_y(b_xa_z - a_xb_z) + c_z(a_xb_y-a_yb_x)$$"
   ]
  },
  {
   "cell_type": "markdown",
   "id": "244519ca-4746-468c-a26a-4fcc6af4722f",
   "metadata": {},
   "source": [
    "$$ = a_x(b_yc_z - c_yb_z)+a_y(b_zc_x - b_xc_z) + a_z(b_xc_y-b_yc_x)$$"
   ]
  },
  {
   "cell_type": "markdown",
   "id": "0af5ea36-4c70-4c88-9257-92251af11afc",
   "metadata": {},
   "source": [
    "$$ = a_x\\left|\\begin{matrix}b_y\\quad b_z \\\\ c_y\\quad c_z\\end{matrix}\\right| - a_y\\left|\\begin{matrix}b_x\\quad b_z \\\\ c_x\\quad c_z\\end{matrix}\\right| + a_z\\left|\\begin{matrix}b_x\\quad b_y \\\\ c_x\\quad c_y\\end{matrix}\\right|$$"
   ]
  },
  {
   "cell_type": "markdown",
   "id": "be54dfc2-b37a-4621-98fa-335e5f5516df",
   "metadata": {},
   "source": [
    "$$ =\\left|\\begin{matrix}\\tag{V1}a_x\\;a_y\\;a_z\\\\b_x\\;b_y\\;b_z\\\\c_x\\;c_y\\;c_z\\end{matrix} \\right|$$"
   ]
  },
  {
   "cell_type": "markdown",
   "id": "0f805681-171d-452a-b05e-3afa1fe62897",
   "metadata": {},
   "source": [
    "Q.E.D."
   ]
  },
  {
   "cell_type": "markdown",
   "id": "7c69f514-9be1-4793-8386-250d6a734392",
   "metadata": {},
   "source": [
    "# Appendices\n",
    "\n",
    "## Cross Product\n",
    "\n",
    "The cross product $\\mathbf{A}\\times \\mathbf{B}$ is defined as a vector that is perpendicular (orthogonal) to both $\\mathbf{A}$ and $\\mathbf{B}$, with a direction given by the right-hand rule and a magnitude equal to the area of the parallelogram that the vectors span, or, to put it another way, the parallelogram that has two adjacent edges that fit the operands of the cross product, herein denoted as $\\mathbf{A}$ and $\\mathbf{B}$."
   ]
  },
  {
   "cell_type": "markdown",
   "id": "10426b1e-4a82-4c15-ac25-4301e2515d43",
   "metadata": {},
   "source": [
    "### Definition\n",
    "The cross product is defined by:  \n",
    "\n",
    "\\begin{equation}\\tag{2}\n",
    "    \\mathbf{A} \\times\\mathbf{B} = |\\mathbf{A}||\\mathbf{B}|\\sin(\\gamma)\\,\\mathbf{n}\n",
    "\\end{equation}"
   ]
  },
  {
   "cell_type": "markdown",
   "id": "04375028-46f3-466b-9cf6-8c27ac0866f9",
   "metadata": {},
   "source": [
    "where,  \n",
    "\n",
    "* $\\gamma$ is the angle between $\\mathbf{A}$ and $\\mathbf{B}$;\n",
    "* and $\\mathbf{n}$ is the vector that is normal to the plane that $\\mathbf{A}$ and $\\mathbf{B}$ rest on."
   ]
  },
  {
   "cell_type": "markdown",
   "id": "8da9d10e-5152-48e4-97ec-8f54b2d81d96",
   "metadata": {},
   "source": [
    "### Matrix Notation\n",
    "\n",
    "The cross product can be expressed the formal determinant:  \n",
    "\n",
    "\\begin{align*}\\tag{2.1}\n",
    "    \\mathbf{A}\\times\\mathbf{B} &= \\left|\\begin{matrix}&\\mathbf{i}\\;&\\mathbf{j}\\;&\\mathbf{k}\\\\&a_x\\;&a_y\\;&a_z\\\\&b_x\\;&b_y\\;&b_z\\end{matrix}\\right| \\\\ \\\\\n",
    "     &= \\left|\\begin{matrix}a_y\\quad a_z\\\\b_y\\quad b_z\\end{matrix}\\right|\\,\\mathbf{i} - \\left|\\begin{matrix}a_x\\quad a_z\\\\b_x\\quad b_z\\end{matrix}\\right|\\,\\mathbf{j} + \\left|\\begin{matrix}a_x\\quad a_y\\\\b_x\\quad b_y\\end{matrix}\\right|\\,\\mathbf{k}\n",
    "\\end{align*}"
   ]
  }
 ],
 "metadata": {
  "kernelspec": {
   "display_name": "Python 3 (ipykernel)",
   "language": "python",
   "name": "python3"
  },
  "language_info": {
   "codemirror_mode": {
    "name": "ipython",
    "version": 3
   },
   "file_extension": ".py",
   "mimetype": "text/x-python",
   "name": "python",
   "nbconvert_exporter": "python",
   "pygments_lexer": "ipython3",
   "version": "3.10.12"
  }
 },
 "nbformat": 4,
 "nbformat_minor": 5
}
