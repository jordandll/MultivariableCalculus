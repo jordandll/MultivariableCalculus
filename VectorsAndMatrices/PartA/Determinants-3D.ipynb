{
 "cells": [
  {
   "cell_type": "markdown",
   "id": "36f23c96-11d5-4bad-9704-d3816ffa0620",
   "metadata": {},
   "source": [
    "# Volumes and Determinants\n",
    "\n",
    "Suppose there exists a [parallelopiped](https://en.wikipedia.org/wiki/Parallelepiped) resting in a 3D vector space with three adjacent edges that fit the vectors, $\\mathbf{A}$, $\\mathbf{B}$, and $\\mathbf{C}$."
   ]
  },
  {
   "cell_type": "markdown",
   "id": "bf017f38-fcd8-4fc3-b38a-a137ea088056",
   "metadata": {},
   "source": [
    "**Proposition**:  The volume $V$ of this parallelopiped is equal to the absolute value of the determinant of the 3x3 square matrix of which, each row consists of the $\\mathbf{i},\\mathbf{j},$ and $\\mathbf{k}$ components of it's corresponding vector.\n",
    "\n",
    "$$ \\pm V = \\mathrm{det}(\\mathbf{A},\\mathbf{B},\\mathbf{C}) = \\left|\\begin{matrix}\\tag{V1}a_x\\;a_y\\;a_z\\\\b_x\\;b_y\\;b_z\\\\c_x\\;c_y\\;c_z\\end{matrix} \\right|$$"
   ]
  },
  {
   "cell_type": "markdown",
   "id": "93356607-fb01-4c59-88d5-87f8e229970f",
   "metadata": {},
   "source": [
    "**Proof**:  \n",
    "\n",
    "Via equation (V1) and [Leibniz formula](https://en.wikipedia.org/wiki/Determinant#Leibniz_formula),  \n",
    "\n",
    "\\begin{align*}\\tag{1.1}\n",
    "    \\pm V = \\mathrm{det}(\\mathbf{A},\\mathbf{B},\\mathbf{C}) &= a_x\\,\\left|\\begin{matrix}b_y\\quad b_z\\\\c_y\\quad c_z\\end{matrix} \\right| - a_y\\,\\left|\\begin{matrix}b_x\\quad b_z\\\\c_x\\quad c_z\\end{matrix} \\right| + a_z\\,\\left|\\begin{matrix}b_x\\quad b_y\\\\ c_x\\quad c_y\\end{matrix} \\right| \\\\ \\\\\n",
    "     &  = a_x\\,\\left|\\begin{matrix}b_y\\quad b_z\\\\c_y\\quad c_z\\end{matrix} \\right| + a_y\\,\\left|\\begin{matrix}c_x\\quad c_z\\\\ b_x\\quad b_z\\end{matrix} \\right| + a_z\\,\\left|\\begin{matrix}b_x\\quad b_y\\\\ c_x\\quad c_y\\end{matrix} \\right|\n",
    "\\end{align*}"
   ]
  },
  {
   "cell_type": "markdown",
   "id": "ce54818b-1d1a-490b-824b-5b8ff18e9787",
   "metadata": {},
   "source": [
    "Since a parallelepiped can be considered as an oblique prism with a parallelogram as base, the volume of the parallelopiped is equal to the product of the area of the base, denoted as '$b$', and the height, denoted as '$h$'.  \n",
    "\n",
    "\\begin{equation}\\tag{1.2}\n",
    "    V = b\\cdot h\n",
    "\\end{equation}"
   ]
  },
  {
   "cell_type": "markdown",
   "id": "b7048860-491d-4caf-9314-cc483bafff35",
   "metadata": {},
   "source": [
    "Assuming the base has two adjacent edges that fit $\\mathbf{A}$ and $\\mathbf{B}$,  \n",
    "\n",
    "\\begin{equation}\\tag{1.3}\n",
    "    b = |\\mathbf{B}||\\mathbf{A}|\\sin\\gamma = |\\mathbf{A}\\times\\mathbf{B}| \\quad\\quad\\text{where }\\gamma=\\angle(\\mathbf{A},\\mathbf{B})\n",
    "\\end{equation}"
   ]
  },
  {
   "cell_type": "markdown",
   "id": "efcd2c62-ff7f-4f99-bc23-0111f759dd38",
   "metadata": {},
   "source": [
    "Note that the caveat of the above equation says that $\\gamma$ is equal to the measure of the angle between $\\mathbf{A}$ and $\\mathbf{B}$.  Also note that:  \n",
    "\n",
    "$$ \\alpha = \\angle(\\mathbf{B},\\mathbf{C})\\quad\\quad\\text{and}\\quad\\quad \\beta = \\angle(\\mathbf{A},\\mathbf{C})$$"
   ]
  },
  {
   "cell_type": "markdown",
   "id": "00ab8e82-485f-4a37-a7d7-7db1eef000aa",
   "metadata": {},
   "source": [
    "And, the height is given by:  \n",
    "\n",
    "\\begin{equation}\\tag{1.4}\n",
    "    h = |\\mathbf{C}||\\cos\\theta|\n",
    "\\end{equation}"
   ]
  },
  {
   "cell_type": "markdown",
   "id": "e2d12a9e-43b5-4bc2-b5e0-dfc36052f127",
   "metadata": {},
   "source": [
    "Where $\\theta$ is the angle between $\\mathbf{C}$ and the normal or perpendicular that is dropped from $C$ to the base.  Note that said normal is a vector that points towards the base, and is thus equal to $-\\mathbf{n}$."
   ]
  },
  {
   "cell_type": "markdown",
   "id": "159194d5-8dde-4a36-8668-e573fafeb991",
   "metadata": {},
   "source": [
    "It may be worth emphasizing that $h$ is equal to the absolute value of the component of $\\mathbf{C}$ in the direction of $\\pm\\mathbf{n}$."
   ]
  },
  {
   "cell_type": "markdown",
   "id": "60bd9751-5a25-459c-a5e3-70067014554a",
   "metadata": {},
   "source": [
    "The notion that $b=|\\mathbf{A}\\times\\mathbf{B}|$ follows from the definition of the cross product, which can be found [here](#Cross-Product)."
   ]
  },
  {
   "cell_type": "markdown",
   "id": "11f304f3-48a7-4e64-8a55-a6e4ae56efc7",
   "metadata": {},
   "source": [
    "Via equations (1.4), (1.3), and (1.2) and substitution,  \n",
    "\n",
    "\\begin{equation}\\tag{1.5}\n",
    "    V = |\\mathbf{A}\\times\\mathbf{B}||\\mathbf{C}||\\cos\\theta| = |(\\mathbf{A}\\times\\mathbf{B})\\cdot\\mathbf{C}|\n",
    "\\end{equation}"
   ]
  },
  {
   "cell_type": "markdown",
   "id": "aa61b951-32ac-4756-b88e-497979db4374",
   "metadata": {},
   "source": [
    "Let $\\mathbf{A}\\times\\mathbf{B}:=\\mathbf{R}$.  The angle between $\\mathbf{A}\\times\\mathbf{B}$ and $\\mathbf{C}$ is equal to $\\pi-\\theta$, thus:  \n",
    "\n",
    "$$ \\mathbf{R}\\cdot\\mathbf{C} = |\\mathbf{R}||\\mathbf{C}|\\cos(\\pi-\\theta) = - |\\mathbf{R}||\\mathbf{C}|\\cos\\theta$$"
   ]
  },
  {
   "cell_type": "markdown",
   "id": "143e5934-0822-4c5d-ba61-6c12ecd37ef6",
   "metadata": {},
   "source": [
    "Taking the absolute value of both sides of the above equation gives:  \n",
    "\n",
    "$$ |(\\mathbf{A}\\times\\mathbf{B})\\cdot\\mathbf{C}| = \\big|-|\\mathbf{A}\\times\\mathbf{B}||\\mathbf{C}|\\cos\\theta\\big| = |\\mathbf{A}\\times\\mathbf{B}||\\mathbf{C}||\\cos\\theta|$$"
   ]
  },
  {
   "cell_type": "markdown",
   "id": "b9d8c7a7-6732-4c23-aa20-16ea5f4c1a20",
   "metadata": {},
   "source": [
    "Hence equation (1.5)."
   ]
  },
  {
   "cell_type": "markdown",
   "id": "75e05c43-e472-4c9e-9f52-ac484cadcd5d",
   "metadata": {},
   "source": [
    "Via equations (A2.1) and (1.5)  \n",
    "\n",
    "$$ \\pm V = \\mathbf{C}\\cdot\\mathbf{A}\\times\\mathbf{B} = c_x\\,\\left|\\begin{matrix}a_y\\quad a_z\\\\b_y\\quad b_z\\end{matrix} \\right| - c_y\\,\\left|\\begin{matrix}a_x\\quad a_z\\\\ b_x\\quad b_z\\end{matrix} \\right| + c_z\\,\\left|\\begin{matrix}a_x\\quad a_y\\\\ b_x\\quad b_y\\end{matrix} \\right| = \\left| \\begin{matrix}c_x\\;c_y\\;c_z \\\\ a_x\\;a_y\\;a_z \\\\ b_x\\;b_y\\;b_z \\end{matrix}\\right|$$"
   ]
  },
  {
   "cell_type": "markdown",
   "id": "997b8e1b-e130-41c0-bb43-fc266ab4ec1c",
   "metadata": {},
   "source": [
    "$$ = c_x(a_yb_z - a_zb_y) + c_y(b_xa_z - a_xb_z) + c_z(a_xb_y-a_yb_x)$$"
   ]
  },
  {
   "cell_type": "markdown",
   "id": "244519ca-4746-468c-a26a-4fcc6af4722f",
   "metadata": {},
   "source": [
    "$$ = a_x(b_yc_z - c_yb_z)+a_y(b_zc_x - b_xc_z) + a_z(b_xc_y-b_yc_x)$$"
   ]
  },
  {
   "cell_type": "markdown",
   "id": "0af5ea36-4c70-4c88-9257-92251af11afc",
   "metadata": {},
   "source": [
    "$$ = a_x\\left|\\begin{matrix}b_y\\quad b_z \\\\ c_y\\quad c_z\\end{matrix}\\right| - a_y\\left|\\begin{matrix}b_x\\quad b_z \\\\ c_x\\quad c_z\\end{matrix}\\right| + a_z\\left|\\begin{matrix}b_x\\quad b_y \\\\ c_x\\quad c_y\\end{matrix}\\right|$$"
   ]
  },
  {
   "cell_type": "markdown",
   "id": "be54dfc2-b37a-4621-98fa-335e5f5516df",
   "metadata": {},
   "source": [
    "$$ =\\left|\\begin{matrix}\\tag{V1}a_x\\;a_y\\;a_z\\\\b_x\\;b_y\\;b_z\\\\c_x\\;c_y\\;c_z\\end{matrix} \\right|$$"
   ]
  },
  {
   "cell_type": "markdown",
   "id": "0f805681-171d-452a-b05e-3afa1fe62897",
   "metadata": {},
   "source": [
    "Q.E.D."
   ]
  },
  {
   "cell_type": "markdown",
   "id": "0fb0fc53-5c0b-4a72-8ad3-c10682b5aa69",
   "metadata": {},
   "source": [
    "## Further Reading\n"
   ]
  },
  {
   "cell_type": "markdown",
   "id": "4d549e1f-5133-427e-964f-4119195be475",
   "metadata": {},
   "source": [
    "# Determinants\n",
    "\n",
    "Suppose we have a square matrix, denoted as $\\mathbf{A}$.  Assuming $\\mathbf{A}$ is a 2x2 matrix, the determinant of $\\mathbf{A}$, denoted as '$|\\mathbf{A}|$' or '$\\mathrm{det}(\\mathbf{A})$', is given by:  \n",
    "\n",
    "$$ \\mathrm{det}(\\mathbf{A}) = \\left|\\begin{matrix}\\tag{2.1} a\\quad b\\\\ c\\quad d\\end{matrix}\\right| = ad-bc $$"
   ]
  },
  {
   "cell_type": "markdown",
   "id": "9c64c032-623b-409f-b1ed-899c5e8de7ed",
   "metadata": {},
   "source": [
    "#### Example 1.1\n",
    "Evaluate $\\displaystyle\\left|\\begin{matrix}&1\\quad &-2 \\\\ &-1\\quad &3\\end{matrix}\\right|$."
   ]
  },
  {
   "cell_type": "markdown",
   "id": "5443448f-838d-4a58-88a4-5678dabf5d20",
   "metadata": {},
   "source": [
    "**Solution**:  \n",
    "\n",
    "$$ 3 - 2 = 1$$"
   ]
  },
  {
   "cell_type": "markdown",
   "id": "9cf2cd6c-1757-4332-9037-11bac71bda55",
   "metadata": {},
   "source": [
    "## Properties\n",
    "1. The determinant of $\\mathbf{A}$ is multiplied by $-1$ if any two rows or columns are swapped.\n",
    "2. The determinant of $\\mathbf{A}$ is equal to zero if every element of one row or column is equal to zero, or if two rows or two columns are the same.\n",
    "3. The determinant of $\\mathbf{A}$ is multiplied by $c$, if every element of some row or column is multiplied by $c$.\n",
    "4. The value of $|\\mathbf{A}|$ is unchanged if we add to one row (or column) a constant multiple of another row (or column).\n",
    "\n",
    "All of these properties are easy to verify for 2x2 determinants via formula (2.1); from this,\n",
    "their truth also for 3x3 determinants will follow from the **Laplace expansion**.  "
   ]
  },
  {
   "cell_type": "markdown",
   "id": "f2757ec4-84c8-4a6d-91a3-f32a45791452",
   "metadata": {},
   "source": [
    "Though the letters $a, b, c, \\dots$ can be used for very small determinants, they can’t for\n",
    "larger ones; it’s important early on to get used to the standard notation for the entries\n",
    "of determinants. This is what the common software packages and the literature use. The\n",
    "determinants of order two and three would be written respectively:  \n",
    "\n",
    "$$ \\left|\\begin{matrix}a_{11}\\quad a_{12} \\\\ a_{21} \\quad a_{22}\\end{matrix}\\right| \\quad\\quad\\text{and}\\quad\\quad \\left|\\begin{matrix}a_{11}\\;a_{12}\\;a_{13}\\\\ a_{21}\\;a_{22}\\;a_{23}\\\\ a_{31}\\;a_{32}\\;a_{33}\\end{matrix}\\right|$$"
   ]
  },
  {
   "cell_type": "markdown",
   "id": "de2a160d-1683-4919-be0b-41ece006b18f",
   "metadata": {},
   "source": [
    "Equation (2.1) can thus be rewritten as:  \n",
    "\n",
    "$$ \\mathrm{det}(\\mathbf{A}) = \\left|\\begin{matrix}\\tag{2.1}a_{11}\\quad a_{12}\\\\ a_{21}\\quad a_{22}\\end{matrix}\\right| = a_{11}a_{22} - a_{12}a_{21}$$"
   ]
  },
  {
   "cell_type": "markdown",
   "id": "370f489e-d8d8-4f3c-ab63-1f10a9f1681f",
   "metadata": {},
   "source": [
    "In general, the $i\\!j$**-entry**, written as $a_{ij}$ , is the number or element in the $i$-th row and $j$-th column.  \n",
    "\n",
    "It's **$i\\!j$-minor**, written as $|\\mathbf{A}_{ij} |$, is the determinant that’s left after deleting from $|\\mathbf{A}|$ the row\n",
    "and column containing $a_{ij}$. "
   ]
  },
  {
   "cell_type": "markdown",
   "id": "b71dec43-7192-4335-bf55-a63feb066f72",
   "metadata": {},
   "source": [
    "And, it's $i\\!j$**-cofactor**, written as $\\mathbf{A}_{ij}$, is given by:  \n",
    "\n",
    "\\begin{equation}\\tag{2.2}\n",
    "    \\mathbf{A}_{ij} = (-1)^{i+j}|\\mathbf{A}_{ij}|\n",
    "\\end{equation}"
   ]
  },
  {
   "cell_type": "markdown",
   "id": "284694b1-a3ae-45db-beba-dafd1032778e",
   "metadata": {},
   "source": [
    "For a 3x3 matrix, it is easier to think of it as $a_{ij}$'s $i\\!j$-minor multiplied by it's corresponding sign in the following matrix:  \n",
    "\n",
    "$$\\left|\\begin{matrix}\\tag{2.2a}+\\;-\\;+\\\\ -\\; + \\; - \\\\ +\\; - \\; +\\end{matrix}\\right|$$\n",
    "    "
   ]
  },
  {
   "cell_type": "markdown",
   "id": "31d33246-0162-4b4e-ac45-d32ba01deeac",
   "metadata": {},
   "source": [
    "## Laplace Expansion by Cofactors\n",
    "\n",
    "There is another way to evaluate determinants;  The Laplace expansion applies to any square matrix.  Herein, we will apply it to a 3x3 matrix.  \n",
    "\n",
    "This method says to first select any row or column.  The sum of the product of every $i\\!j$-entry in the selected row or column and it's $i\\!j$-cofactor is equal to the determinant."
   ]
  },
  {
   "cell_type": "markdown",
   "id": "ef34aff5-eac2-4094-909a-89567e006992",
   "metadata": {},
   "source": [
    "Below is an example involving a 3x3 matrix with the first row selected.  \n",
    "\n",
    "\\begin{align*}\n",
    "    |\\mathbf{A}| &= a_{11}\\mathbf{A}_{11} + a_{12}\\mathbf{A}_{12} + a_{13}\\mathbf{A}_{13} \\\\\n",
    "     &= a_{11}|\\mathbf{A}_{11}| - a_{12}|\\mathbf{A}_{12}| + a_{13}|\\mathbf{A}_{13}|\n",
    "\\end{align*}"
   ]
  },
  {
   "cell_type": "markdown",
   "id": "052bdeca-c997-4f73-a46e-6e4612d89571",
   "metadata": {},
   "source": [
    "And, with the second column seleted:  \n",
    "\n",
    "\\begin{align*}\n",
    "    |\\mathbf{A}| &= a_{12}\\mathbf{A}_{12} + a_{22}\\mathbf{A}_{22} + a_{32}\\mathbf{A}_{32} \\\\\n",
    "     &= -a_{12}|\\mathbf{A}_{12}| + a_{22}|\\mathbf{A}_{22}| - a_{32}|\\mathbf{A}_{32}|\n",
    "\\end{align*}"
   ]
  },
  {
   "cell_type": "markdown",
   "id": "908a159d-73f7-41be-b534-5fd5f541fccd",
   "metadata": {},
   "source": [
    "#### Example 1.3 \n",
    "\n",
    "Evaluate the determinant in Example 1.2 using the Laplace expansions\n",
    "by the first row and by the second column, and check by also using equation (2.1).\n",
    "\n",
    "Said determinant is:  \n",
    "\n",
    "$$ |\\mathbf{A}| = \\left|\\begin{matrix}&1\\;&0\\;&3\\\\&1\\;&2\\;&-1\\\\&2\\;&1\\;&-1\\end{matrix}\\right|$$"
   ]
  },
  {
   "cell_type": "markdown",
   "id": "b359106f-7414-412d-b02d-624b5efb8a5d",
   "metadata": {},
   "source": [
    "**Solution**:  \n",
    "\n",
    "Using the *first row*:  \n",
    "\n",
    "$$ |\\mathbf{A}| = 1\\,\\left|\\begin{matrix}&2\\;&-1\\\\&1\\;&-1\\end{matrix}\\right| - 0 + 3\\,\\left|\\begin{matrix}1\\quad 2\\\\ 2\\quad 1\\end{matrix}\\right|$$"
   ]
  },
  {
   "cell_type": "markdown",
   "id": "d088c7e7-f9db-4a16-99dc-61368dbf8312",
   "metadata": {},
   "source": [
    "$$ =1\\cdot(-2+1) + 3\\cdot(1-4) = -9 - 1 = -10$$"
   ]
  },
  {
   "cell_type": "markdown",
   "id": "ff953a5e-1cd6-4600-9cd3-6e73f3e8aade",
   "metadata": {},
   "source": [
    "And, using the *second column*:  \n",
    "\n",
    "$$ |\\mathbf{A}| = - 0 + 2\\,\\left|\\begin{matrix}&1\\; &3\\\\ &2\\;&-1\\end{matrix}\\right| - 1\\,\\left|\\begin{matrix}&1\\;&3\\\\ &1\\;&-1\\end{matrix}\\right|$$"
   ]
  },
  {
   "cell_type": "markdown",
   "id": "cf5aa1e0-5daf-45c3-9b2d-71bcb70236f0",
   "metadata": {},
   "source": [
    "$$ = 2\\cdot(-6-1) - 1\\cdot(-1-3)= 4-14 = -10$$"
   ]
  },
  {
   "cell_type": "markdown",
   "id": "cc5b8cb1-db5e-402d-806b-3c3082e32278",
   "metadata": {},
   "source": [
    "**In general**, for a $n\\times n$ matrix, the Laplace expansion by the $i$'th row is:  \n",
    "\n",
    "$$ |\\mathbf{A}| = a_{i1}\\mathbf{A}_{i1} + a_{i2}\\mathbf{A}_{i2} + \\dotsb + a_{in}\\mathbf{A}_{in}$$"
   ]
  },
  {
   "cell_type": "markdown",
   "id": "ba62b577-8bf3-477f-85a2-d41dcad6758d",
   "metadata": {},
   "source": [
    "#### Example 1.5\n",
    "Evaluate \n",
    "\n",
    "$$ |\\mathbf{A}|=\\left|\\begin{matrix}&1\\;&0\\;&2\\;&3 \\\\ &2\\;&-1\\;&1\\;&4\\\\ &-1\\;&4\\;&1\\;&0\\\\ &0\\;&4\\;&2\\;&-1\\end{matrix}\\right|$$  \n",
    "\n",
    "by it's Laplace expansion by the first row."
   ]
  },
  {
   "cell_type": "code",
   "execution_count": 1,
   "id": "a60216e0-ee57-4825-9185-cb523e42bc66",
   "metadata": {
    "tags": []
   },
   "outputs": [],
   "source": [
    "import sympy as sp"
   ]
  },
  {
   "cell_type": "markdown",
   "id": "78f959f6-e2f8-440f-9537-c9252bd2c32d",
   "metadata": {},
   "source": [
    "**Solution**:  \n",
    "\n",
    "$$ |\\mathbf{A}| = 1\\,\\left|\\begin{matrix}&-1\\;&1\\;&4\\\\ &4\\;&1\\;&0\\\\ &4\\;&2\\;&-1\\end{matrix}\\right| - 0 + 2\\,\\left|\\begin{matrix}&2\\;&-1\\;&4\\\\&-1\\;&4\\;&0\\\\ &0\\;&4\\;&-1\\end{matrix}\\right| - 3\\,\\left|\\begin{matrix}&2\\;&-1\\;&1\\\\&-1\\;&4\\;&1\\\\&0\\;&4\\;&2\\end{matrix}\\right|$$"
   ]
  },
  {
   "cell_type": "code",
   "execution_count": 13,
   "id": "b72e6caa-efcb-4137-82d0-d87ac0ccc920",
   "metadata": {
    "tags": []
   },
   "outputs": [
    {
     "data": {
      "text/plain": [
       "(21, 0, -46, -6)"
      ]
     },
     "execution_count": 13,
     "metadata": {},
     "output_type": "execute_result"
    }
   ],
   "source": [
    "A_1 = sp.Matrix([[-1,1,4],[4,1,0],[4,2,-1]])\n",
    "A_3 = sp.Matrix([[2,-1,4],[-1,4,0],[0,4,-1]])\n",
    "A_4 = sp.Matrix([[2,-1,1],[-1,4,1],[0,4,2]])\n",
    "(A_1.det(),0,2*A_3.det(),-3*A_4.det())"
   ]
  },
  {
   "cell_type": "markdown",
   "id": "c74bfdbd-f4fb-4f02-9b21-9962e7aa0314",
   "metadata": {},
   "source": [
    "\\begin{align*}\n",
    "    |\\mathbf{A}| &= 21 - 0 + 2\\cdot(-23) - 3\\cdot 2 \\\\\n",
    "     &= 21 - 0 - 46 - 6 = -31\n",
    "\\end{align*}"
   ]
  },
  {
   "cell_type": "code",
   "execution_count": 14,
   "id": "fd26931a-25c6-4375-bef0-a8aab2187268",
   "metadata": {
    "tags": []
   },
   "outputs": [
    {
     "data": {
      "text/plain": [
       "-31"
      ]
     },
     "execution_count": 14,
     "metadata": {},
     "output_type": "execute_result"
    }
   ],
   "source": [
    "21-46-6"
   ]
  },
  {
   "cell_type": "code",
   "execution_count": 12,
   "id": "efbc0099-5ed4-4013-b5b6-335c06fce114",
   "metadata": {
    "tags": []
   },
   "outputs": [
    {
     "data": {
      "text/latex": [
       "$\\displaystyle -31$"
      ],
      "text/plain": [
       "-31"
      ]
     },
     "execution_count": 12,
     "metadata": {},
     "output_type": "execute_result"
    }
   ],
   "source": [
    "A = sp.Matrix([[1,0,2,3],[2,-1,1,4],[-1,4,1,0],[0,4,2,-1]]); A.det()"
   ]
  },
  {
   "cell_type": "markdown",
   "id": "c3c9d66a-7720-4aa8-b844-7fd9aadbef19",
   "metadata": {},
   "source": [
    "## Problems\n",
    "\n",
    "#### Problem 1"
   ]
  },
  {
   "cell_type": "markdown",
   "id": "a2cc53bb-b8ea-470d-bbe7-bd730447174b",
   "metadata": {},
   "source": [
    "Compute the determinants of"
   ]
  },
  {
   "cell_type": "code",
   "execution_count": 22,
   "id": "5e12ac86-f61c-4305-ba33-c9b8fd0a405d",
   "metadata": {
    "tags": []
   },
   "outputs": [
    {
     "data": {
      "text/latex": [
       "$\\displaystyle \\left[\\begin{matrix}1 & 2 & 3\\\\4 & 5 & 6\\\\7 & 8 & 9\\end{matrix}\\right]$"
      ],
      "text/plain": [
       "Matrix([\n",
       "[1, 2, 3],\n",
       "[4, 5, 6],\n",
       "[7, 8, 9]])"
      ]
     },
     "execution_count": 22,
     "metadata": {},
     "output_type": "execute_result"
    }
   ],
   "source": [
    "A"
   ]
  },
  {
   "cell_type": "markdown",
   "id": "8e168cb1-eeb7-4e6b-a573-a2b54e11ef69",
   "metadata": {},
   "source": [
    "\\begin{align*}\n",
    "    |\\mathbf{A}| &= 1\\cdot(45 - 6\\cdot 8) - 2\\cdot(36 - 6\\cdot7) + 3\\cdot(32-35) \\\\\n",
    "     &= -3 - 2\\cdot(-6) + 3\\cdot(-3) \\\\\n",
    "     &= -3 + 12 - 9 = 0\n",
    "\\end{align*}"
   ]
  },
  {
   "cell_type": "code",
   "execution_count": 23,
   "id": "c0673254-30d6-4b1b-b72a-c02e7236a63f",
   "metadata": {
    "tags": []
   },
   "outputs": [
    {
     "data": {
      "text/plain": [
       "(-3, -6, -3)"
      ]
     },
     "execution_count": 23,
     "metadata": {},
     "output_type": "execute_result"
    }
   ],
   "source": [
    "(45-6*8, 36-6*7, 32-35)"
   ]
  },
  {
   "cell_type": "code",
   "execution_count": 24,
   "id": "6bb06434-0395-4295-a491-3536e9ca8ca2",
   "metadata": {
    "tags": []
   },
   "outputs": [
    {
     "data": {
      "text/latex": [
       "$\\displaystyle 0$"
      ],
      "text/plain": [
       "0"
      ]
     },
     "execution_count": 24,
     "metadata": {},
     "output_type": "execute_result"
    }
   ],
   "source": [
    "A.det()"
   ]
  },
  {
   "cell_type": "markdown",
   "id": "53141724-d604-48a3-aac7-2672e2489dd5",
   "metadata": {},
   "source": [
    "and"
   ]
  },
  {
   "cell_type": "code",
   "execution_count": 25,
   "id": "8f48e065-e255-4e33-8864-34dc1cdc5ea7",
   "metadata": {
    "tags": []
   },
   "outputs": [
    {
     "data": {
      "text/latex": [
       "$\\displaystyle \\left[\\begin{matrix}2 & 1 & -5\\\\0 & 0 & 4\\\\3 & 1 & 2\\end{matrix}\\right]$"
      ],
      "text/plain": [
       "Matrix([\n",
       "[2, 1, -5],\n",
       "[0, 0,  4],\n",
       "[3, 1,  2]])"
      ]
     },
     "execution_count": 25,
     "metadata": {},
     "output_type": "execute_result"
    }
   ],
   "source": [
    "B"
   ]
  },
  {
   "cell_type": "markdown",
   "id": "da8a0e9c-2269-44d6-a5db-57a94d1b1cda",
   "metadata": {},
   "source": [
    "\\begin{align*}\n",
    "    |\\mathbf{B}| &= 2\\cdot(-4) - 1\\cdot(-12) - 5\\cdot(0) \\\\\n",
    "     &= -8+12 = 4\n",
    "\\end{align*}"
   ]
  },
  {
   "cell_type": "code",
   "execution_count": 27,
   "id": "4b576f2b-6fe1-46ef-95c5-e7c853544c71",
   "metadata": {
    "tags": []
   },
   "outputs": [
    {
     "data": {
      "text/latex": [
       "$\\displaystyle 4$"
      ],
      "text/plain": [
       "4"
      ]
     },
     "execution_count": 27,
     "metadata": {},
     "output_type": "execute_result"
    }
   ],
   "source": [
    "B.det()"
   ]
  },
  {
   "cell_type": "markdown",
   "id": "f61c649f-5dd8-4ce1-9ff0-35716da75f46",
   "metadata": {},
   "source": [
    "#### Problem 2\n",
    "Compute the determinant of"
   ]
  },
  {
   "cell_type": "code",
   "execution_count": 28,
   "id": "6a4bf519-dec7-4ca3-9cb2-0b26a7aeb039",
   "metadata": {
    "collapsed": true,
    "jupyter": {
     "outputs_hidden": true
    },
    "tags": []
   },
   "outputs": [
    {
     "data": {
      "text/latex": [
       "$\\displaystyle \\left[\\begin{matrix}1 & 2 & 3 & 4\\\\0 & 0 & 6 & 0\\\\1 & 0 & 2 & 0\\\\1 & 5 & 1 & 2\\end{matrix}\\right]$"
      ],
      "text/plain": [
       "Matrix([\n",
       "[1, 2, 3, 4],\n",
       "[0, 0, 6, 0],\n",
       "[1, 0, 2, 0],\n",
       "[1, 5, 1, 2]])"
      ]
     },
     "execution_count": 28,
     "metadata": {},
     "output_type": "execute_result"
    }
   ],
   "source": [
    "C"
   ]
  },
  {
   "cell_type": "code",
   "execution_count": 29,
   "id": "b3126fbf-e9ff-4534-8eb2-790ef0d935e6",
   "metadata": {
    "tags": []
   },
   "outputs": [
    {
     "data": {
      "text/plain": [
       "(0, -12, 0, 30)"
      ]
     },
     "execution_count": 29,
     "metadata": {},
     "output_type": "execute_result"
    }
   ],
   "source": [
    "C_1 = sp.Matrix([[0,6,0],[0,2,0],[5,1,2]])\n",
    "C_2 = sp.Matrix([[0,6,0],[1,2,0],[1,1,2]])\n",
    "C_3 = 0\n",
    "C_4 = sp.Matrix([[0,0,6],[1,0,2],[1,5,1]])\n",
    "(C_1.det(),C_2.det(),0,C_4.det())"
   ]
  },
  {
   "cell_type": "markdown",
   "id": "4ff46497-c901-4f26-a8cf-97b3241db48a",
   "metadata": {},
   "source": [
    "\\begin{align*}\n",
    "    |\\mathbf{C}| &= 0 - 2\\cdot(-12) + 0 - 4\\cdot 30 \\\\\n",
    "     &= 24 - 120 = -96\n",
    "\\end{align*}"
   ]
  },
  {
   "cell_type": "code",
   "execution_count": 30,
   "id": "1cedde45-dd9b-4c04-8b0c-c33b04b37bb1",
   "metadata": {
    "tags": []
   },
   "outputs": [
    {
     "data": {
      "text/plain": [
       "-96"
      ]
     },
     "execution_count": 30,
     "metadata": {},
     "output_type": "execute_result"
    }
   ],
   "source": [
    "24-120"
   ]
  },
  {
   "cell_type": "code",
   "execution_count": 31,
   "id": "bfa6e9b9-238c-436f-839c-3cd30e58bda3",
   "metadata": {
    "tags": []
   },
   "outputs": [
    {
     "data": {
      "text/latex": [
       "$\\displaystyle -96$"
      ],
      "text/plain": [
       "-96"
      ]
     },
     "execution_count": 31,
     "metadata": {},
     "output_type": "execute_result"
    }
   ],
   "source": [
    "C.det()"
   ]
  },
  {
   "cell_type": "markdown",
   "id": "7c69f514-9be1-4793-8386-250d6a734392",
   "metadata": {},
   "source": [
    "# Appendices\n",
    "\n",
    "## Cross Product\n",
    "\n",
    "The cross product $\\mathbf{A}\\times \\mathbf{B}$ is defined as a vector that is perpendicular (orthogonal) to both $\\mathbf{A}$ and $\\mathbf{B}$, with a direction given by the right-hand rule and a magnitude equal to the area of the parallelogram that the vectors span, or, to put it another way, the parallelogram that has two adjacent edges that fit the operands of the cross product, herein denoted as $\\mathbf{A}$ and $\\mathbf{B}$."
   ]
  },
  {
   "cell_type": "markdown",
   "id": "10426b1e-4a82-4c15-ac25-4301e2515d43",
   "metadata": {},
   "source": [
    "### Definition\n",
    "The cross product is defined by:  \n",
    "\n",
    "\\begin{equation}\\tag{A2}\n",
    "    \\mathbf{A} \\times\\mathbf{B} = |\\mathbf{A}||\\mathbf{B}|\\sin(\\gamma)\\,\\mathbf{n}\n",
    "\\end{equation}"
   ]
  },
  {
   "cell_type": "markdown",
   "id": "04375028-46f3-466b-9cf6-8c27ac0866f9",
   "metadata": {},
   "source": [
    "where,  \n",
    "\n",
    "* $\\gamma$ is the angle between $\\mathbf{A}$ and $\\mathbf{B}$;\n",
    "* and $\\mathbf{n}$ is the vector that is normal to the plane that $\\mathbf{A}$ and $\\mathbf{B}$ rest on."
   ]
  },
  {
   "cell_type": "markdown",
   "id": "8da9d10e-5152-48e4-97ec-8f54b2d81d96",
   "metadata": {},
   "source": [
    "### Matrix Notation\n",
    "\n",
    "The cross product can be expressed the formal determinant:  \n",
    "\n",
    "\\begin{align*}\\tag{A2.1}\n",
    "    \\mathbf{A}\\times\\mathbf{B} &= \\left|\\begin{matrix}&\\mathbf{i}\\;&\\mathbf{j}\\;&\\mathbf{k}\\\\&a_x\\;&a_y\\;&a_z\\\\&b_x\\;&b_y\\;&b_z\\end{matrix}\\right| \\\\ \\\\\n",
    "     &= \\left|\\begin{matrix}a_y\\quad a_z\\\\b_y\\quad b_z\\end{matrix}\\right|\\,\\mathbf{i} - \\left|\\begin{matrix}a_x\\quad a_z\\\\b_x\\quad b_z\\end{matrix}\\right|\\,\\mathbf{j} + \\left|\\begin{matrix}a_x\\quad a_y\\\\b_x\\quad b_y\\end{matrix}\\right|\\,\\mathbf{k}\n",
    "\\end{align*}"
   ]
  }
 ],
 "metadata": {
  "kernelspec": {
   "display_name": "Python 3 (ipykernel)",
   "language": "python",
   "name": "python3"
  },
  "language_info": {
   "codemirror_mode": {
    "name": "ipython",
    "version": 3
   },
   "file_extension": ".py",
   "mimetype": "text/x-python",
   "name": "python",
   "nbconvert_exporter": "python",
   "pygments_lexer": "ipython3",
   "version": "3.10.12"
  }
 },
 "nbformat": 4,
 "nbformat_minor": 5
}
