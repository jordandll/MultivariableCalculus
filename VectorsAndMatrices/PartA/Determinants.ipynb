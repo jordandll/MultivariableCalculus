{
 "cells": [
  {
   "cell_type": "markdown",
   "id": "a32fc7aa-cdbf-4ade-a861-36a6b2b4a18d",
   "metadata": {},
   "source": [
    "# Area and Determinants in 2D"
   ]
  },
  {
   "cell_type": "markdown",
   "id": "8f852ce7-f1e8-43a2-8dbb-6ac5d795c6ba",
   "metadata": {},
   "source": [
    "Suppose there exists a parallelogram $\\overline{OACB}$ resting on a vector plane, where $O$ is origin.  \n",
    "\n",
    "**Proposition**:  The area of this parallelogram is equal to the absolute value of the determinant of $\\mathbf{M}$, where  \n",
    "\n",
    "\n",
    "$$ \\text{area} = |a_yb_x - a_xb_y| = |\\mathrm{det}\\,\\mathbf{M}| \\quad\\quad\\text{where }\\mathbf{M} = \\begin{pmatrix}\\tag{1}a_x\\;a_y \\\\ b_x\\;b_y\\end{pmatrix}$$"
   ]
  },
  {
   "cell_type": "markdown",
   "id": "f8f21b63-29ee-4972-a163-42aa737c98d3",
   "metadata": {},
   "source": [
    "**Proof**:  \n",
    "\n",
    "The determinant of $\\mathbf{M}$, denoted as '$\\mathrm{det}\\,\\mathbf{M}$' is given by:  \n",
    "\n",
    "$$ \\mathrm{det}\\,\\mathbf{M} = \\left|\\begin{matrix}\\tag{2}a_x\\;a_y\\\\b_x\\;b_y\\end{matrix}\\right| = a_xb_y - a_yb_x$$"
   ]
  },
  {
   "cell_type": "markdown",
   "id": "1fe02790-f0ce-4dd8-b92a-c95e783daaf4",
   "metadata": {},
   "source": [
    "And, the area of our parallelogram, henceforth '$\\text{area}$', is equal to twice the area of the triangle formed by $\\mathbf{A}$, $\\mathbf{B}$, and $\\overrightarrow{AB}$.  Recall that the  area of a triangle is equal to half of the product of it's base and height.  In this case, the base is equal to $|\\mathbf{B}|$ and the height is equal to, via a basic trigonometric indentity, $|\\mathbf{A}|\\sin\\theta$.  Thus,  \n",
    "\n",
    "\\begin{equation}\\tag{3}\n",
    "    \\pm\\text{area} = |\\mathbf{B}||\\mathbf{A}|\\sin\\theta\n",
    "\\end{equation}"
   ]
  },
  {
   "cell_type": "markdown",
   "id": "b7742e51-118d-4142-b162-6e343a207b81",
   "metadata": {},
   "source": [
    "Now, let $\\mathbf{B}'$ denote $\\mathbf{B}$ rotated by $90^\\circ$ and $\\theta'$ denote the angle between $\\mathbf{B}'$ and $\\mathbf{A}$.  It now follows that:  \n",
    "\n",
    "\\begin{equation}\\tag{4}\n",
    "    \\text{a: }\\theta' = 90^\\circ - \\theta\\quad\\quad\\text{b: }\\;b_y' = b_x \\quad\\quad\\text{c: }\\;b_x' = -b_y\n",
    "\\end{equation}"
   ]
  },
  {
   "cell_type": "markdown",
   "id": "188a8b98-d27b-4237-8f58-1e1d7bc8e9ef",
   "metadata": {},
   "source": [
    "$$ \\mathbf{B}'\\cdot\\mathbf{A} = |\\mathbf{B}'||\\mathbf{A}|\\cos\\theta' = |\\mathbf{B}'||\\mathbf{A}|\\sin\\theta = |\\mathbf{B}||\\mathbf{A}|\\sin\\theta $$"
   ]
  },
  {
   "cell_type": "markdown",
   "id": "0c9c49de-7e4c-4250-aa2e-7d25513683f3",
   "metadata": {},
   "source": [
    "$$ \\mathbf{B}'\\cdot\\mathbf{A} = b_x'a_x + b_y'a_y = b_xa_y-b_ya_x$$"
   ]
  },
  {
   "cell_type": "markdown",
   "id": "d18fe58c-6064-4358-ae64-f914ba90e569",
   "metadata": {},
   "source": [
    "Via the above two equations, equation (2) and equivalence principle,  \n",
    "\n",
    "\\begin{equation}\\tag{1}\n",
    "    \\pm\\text{area} = b_xa_y - b_ya_x\n",
    "\\end{equation}"
   ]
  },
  {
   "cell_type": "markdown",
   "id": "2d19c067-ec0c-443f-9695-5e9b22d86b6d",
   "metadata": {},
   "source": [
    "Q.E.D."
   ]
  },
  {
   "cell_type": "markdown",
   "id": "bbac4f4e-e4c6-46cc-9639-4a04bd6faa36",
   "metadata": {},
   "source": [
    "Ultimately, even if no vertix of the parallelogram is at origin, the proposition or equation (1) holds true."
   ]
  },
  {
   "cell_type": "markdown",
   "id": "93c646d1-2455-4771-b8f2-4341add09a47",
   "metadata": {},
   "source": [
    "## Examples\n",
    "\n",
    "Herein are some examples from [session 5](https://ocw.mit.edu/courses/18-02sc-multivariable-calculus-fall-2010/resources/mit18_02sc_we_6_comb/)."
   ]
  },
  {
   "cell_type": "markdown",
   "id": "8f3f6115-45e9-4d3c-b60b-0e1e74dd4415",
   "metadata": {},
   "source": [
    "#### Example 1\n",
    "Compute $\\displaystyle \\left|\\begin{matrix}6\\quad 5\\\\1\\quad 2\\end{matrix}\\right|$."
   ]
  },
  {
   "cell_type": "markdown",
   "id": "cd33b278-d92b-4976-81c8-39261cdbe35d",
   "metadata": {},
   "source": [
    "$$ 12 - 5 = 7$$"
   ]
  },
  {
   "cell_type": "markdown",
   "id": "7803e1fd-d886-454a-9b18-e7237ade349d",
   "metadata": {},
   "source": [
    "#### Example 2\n",
    "Compute the area of the parallelogram shown.  The vertices of the aforementioned parallelogram, henceforth $\\overline{OACB}$, have $x,y$-coordinates of:  \n",
    "\n",
    "$$ O = (1,0) \\quad\\quad A = (-1,2) \\quad\\quad B=(2,3)$$"
   ]
  },
  {
   "cell_type": "markdown",
   "id": "496c70a0-00c7-4a16-a0fb-adebe3df00fd",
   "metadata": {},
   "source": [
    "Thus,  \n",
    "\n",
    "$$ \\mathbf{A} := \\overrightarrow{OA} = \\langle -2, 2\\rangle \\quad\\quad \\text{and}\\quad\\quad \\mathbf{B} := \\overrightarrow{OB} = \\langle 1, 3\\rangle$$"
   ]
  },
  {
   "cell_type": "markdown",
   "id": "032bc60d-4806-4db5-bda3-5dd4f312779e",
   "metadata": {},
   "source": [
    "Finally,  via the equation (1) and the above two equations,  \n",
    "\n",
    "$$ \\pm\\text{area} = 2 + 6 = 8 \\quad\\implies \\quad \\text{area} = 8$$"
   ]
  },
  {
   "cell_type": "markdown",
   "id": "7edcb2da-eda6-401e-bf40-02f77c08fb13",
   "metadata": {},
   "source": [
    "## Problems\n",
    "Herein are some problems from [session 5](https://ocw.mit.edu/courses/18-02sc-multivariable-calculus-fall-2010/57711a861227a87360f4e12f0eabc372_MIT18_02SC_pb_5_quest.pdf)"
   ]
  }
 ],
 "metadata": {
  "kernelspec": {
   "display_name": "Python 3 (ipykernel)",
   "language": "python",
   "name": "python3"
  },
  "language_info": {
   "codemirror_mode": {
    "name": "ipython",
    "version": 3
   },
   "file_extension": ".py",
   "mimetype": "text/x-python",
   "name": "python",
   "nbconvert_exporter": "python",
   "pygments_lexer": "ipython3",
   "version": "3.10.12"
  }
 },
 "nbformat": 4,
 "nbformat_minor": 5
}
