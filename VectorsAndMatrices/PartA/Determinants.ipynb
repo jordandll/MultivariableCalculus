{
 "cells": [
  {
   "cell_type": "markdown",
   "id": "a32fc7aa-cdbf-4ade-a861-36a6b2b4a18d",
   "metadata": {},
   "source": [
    "# Area and Determinants in 2D"
   ]
  },
  {
   "cell_type": "markdown",
   "id": "8f852ce7-f1e8-43a2-8dbb-6ac5d795c6ba",
   "metadata": {},
   "source": [
    "Suppose there exists a parallelogram $\\overline{OACB}$ resting on a vector plane, where $O$ is origin.  \n",
    "\n",
    "**Proposition**:  The area of this parallelogram is equal to the absolute value of the determinant of $\\mathbf{M}$, where  \n",
    "\n",
    "$$ \\mathbf{M} = \\begin{pmatrix}a_x\\;a_y \\\\ b_x\\;b_y\\end{pmatrix}$$\n",
    "\n",
    "$$ \\text{area} = |a_yb_x - a_xb_y|$$"
   ]
  },
  {
   "cell_type": "markdown",
   "id": "f8f21b63-29ee-4972-a163-42aa737c98d3",
   "metadata": {},
   "source": [
    "**Proof**:  \n",
    "\n",
    "The determinant of $\\mathbf{M}$, denoted as '$\\mathrm{det}\\,\\mathbf{M}$' is given by:  \n",
    "\n",
    "$$ \\mathrm{det}\\,\\mathbf{M} = \\left|\\begin{matrix}\\tag{1}a_x\\;a_y\\\\b_x\\;b_y\\end{matrix}\\right| = a_xb_y - a_yb_x$$"
   ]
  },
  {
   "cell_type": "markdown",
   "id": "1fe02790-f0ce-4dd8-b92a-c95e783daaf4",
   "metadata": {},
   "source": [
    "And, the area of our parallelogram, henceforth '$\\text{area}$', is equal to twice the area of the triangle formed by $\\mathbf{A}$, $\\mathbf{B}$, and $\\overrightarrow{AB}$.  \n",
    "\n",
    "\\begin{equation}\\tag{2}\n",
    "    \\pm\\text{area} = |\\mathbf{B}|a_y = |\\mathbf{B}||\\mathbf{A}|\\sin\\theta\n",
    "\\end{equation}"
   ]
  },
  {
   "cell_type": "markdown",
   "id": "b7742e51-118d-4142-b162-6e343a207b81",
   "metadata": {},
   "source": [
    "Now, let $\\mathbf{B}'$ denote $\\mathbf{B}$ rotated by $90^\\circ$ and $\\theta'$ denote the angle between $\\mathbf{B}'$ and $\\mathbf{A}$.  It now follows that:  \n",
    "\n",
    "\\begin{equation}\\tag{3}\n",
    "    \\text{a: }\\theta' = 90^\\circ - \\theta\\quad\\quad\\text{b: }\\;b_y' = b_x \\quad\\quad\\text{c: }\\;b_x' = -b_y\n",
    "\\end{equation}"
   ]
  },
  {
   "cell_type": "markdown",
   "id": "188a8b98-d27b-4237-8f58-1e1d7bc8e9ef",
   "metadata": {},
   "source": [
    "$$ \\mathbf{B}'\\cdot\\mathbf{A} = |\\mathbf{B}'||\\mathbf{A}|\\cos\\theta' = |\\mathbf{B}'||\\mathbf{A}|\\sin\\theta = |\\mathbf{B}||\\mathbf{A}|\\sin\\theta $$"
   ]
  },
  {
   "cell_type": "markdown",
   "id": "0c9c49de-7e4c-4250-aa2e-7d25513683f3",
   "metadata": {},
   "source": [
    "$$ \\mathbf{B}'\\cdot\\mathbf{A} = b_x'a_x + b_y'a_y = b_xa_y-b_ya_x$$"
   ]
  },
  {
   "cell_type": "markdown",
   "id": "d18fe58c-6064-4358-ae64-f914ba90e569",
   "metadata": {},
   "source": [
    "Via the above two equations, equation (2) and equivalence principle,  \n",
    "\n",
    "$$ \\pm\\text{area} = b_xa_y - b_ya_x$$"
   ]
  },
  {
   "cell_type": "markdown",
   "id": "2d19c067-ec0c-443f-9695-5e9b22d86b6d",
   "metadata": {},
   "source": [
    "Q.E.D."
   ]
  }
 ],
 "metadata": {
  "kernelspec": {
   "display_name": "Python 3 (ipykernel)",
   "language": "python",
   "name": "python3"
  },
  "language_info": {
   "codemirror_mode": {
    "name": "ipython",
    "version": 3
   },
   "file_extension": ".py",
   "mimetype": "text/x-python",
   "name": "python",
   "nbconvert_exporter": "python",
   "pygments_lexer": "ipython3",
   "version": "3.10.12"
  }
 },
 "nbformat": 4,
 "nbformat_minor": 5
}
