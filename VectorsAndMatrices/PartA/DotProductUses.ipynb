{
 "cells": [
  {
   "cell_type": "markdown",
   "id": "9a3bf012-e6e5-4892-9fd2-0d0f3414aa7b",
   "metadata": {},
   "source": [
    "# Dot Product Uses\n",
    "## Lengths and Angles\n",
    "### *Part A* -- Vectors, Determinants, and Planes\n",
    "\n",
    "2. \n",
    "c) In the figure the vectors $\\mathbf{A}$ and $\\mathbf{B}_1$ are orthogonal as are $\\mathbf{A}$ and $\\mathbf{B}_2$. If all the vectors\n",
    "are the same length what are the coordinates of $\\mathbf{B}_1$ and $\\mathbf{B}_2$?"
   ]
  },
  {
   "cell_type": "markdown",
   "id": "a5714926-24b1-4a11-a733-e3e2f10f21f8",
   "metadata": {},
   "source": [
    "\\begin{equation}\\tag{2c.1}\n",
    "    \\mathbf{B}_1 = -\\mathbf{B}_2\n",
    "\\end{equation}"
   ]
  },
  {
   "cell_type": "markdown",
   "id": "101f6bb4-cd40-46bb-b56e-01d9249e15a1",
   "metadata": {},
   "source": [
    "Let $\\mathbf{B}_1:=\\mathbf{B} = \\langle b_x, b_y\\rangle$.  It now follows that $\\mathbf{B}_2 = -\\mathbf{B} = -\\langle b_x, b_y\\rangle$."
   ]
  },
  {
   "cell_type": "markdown",
   "id": "a2a136d3-5170-432a-9edc-abe3463b4e3f",
   "metadata": {},
   "source": [
    "\\begin{equation}\\tag{2c.2}\n",
    "    a_x^2 + a_y^2 = b_x^2 + b_y^2\n",
    "\\end{equation}"
   ]
  },
  {
   "cell_type": "markdown",
   "id": "1b40e758-fd09-4b5e-b4d9-ef97928a67ae",
   "metadata": {},
   "source": [
    "\\begin{equation}\\tag{2c.3}\n",
    "    \\text{a: }\\;\\mathbf{A}\\cdot\\mathbf{B} = a_xb_x + a_yb_y  = 0 \\quad\\quad \\text{b: }\\;|\\mathbf{A}|^2 + |\\mathbf{B}|^2 = |\\overrightarrow{AB}|^2 = |\\mathbf{B} - \\mathbf{A}|^2 \\quad\\quad \\text{c: }\\;|\\mathbf{A}|^2 + |\\mathbf{B}|^2 = |\\overrightarrow{AB_2}|^2 = |\\mathbf{A}+\\mathbf{B}|^2\n",
    "\\end{equation}"
   ]
  },
  {
   "cell_type": "markdown",
   "id": "a5080eb8-da5b-4157-96e7-e32aad74c0df",
   "metadata": {},
   "source": [
    "Via equation (2c.3b),  \n",
    "    $$ a_x^2 + a_y^2 + b_x^2 + b_y^2 = (b_x-a_x)^2 + (b_y-a_y)^2 = b_x^2 + a_x^2 + b_y^2 + a_y^2 - 2a_xb_x - 2a_yb_y$$"
   ]
  },
  {
   "cell_type": "markdown",
   "id": "24ff1ec7-fa76-4b71-ae41-e5e257bc7fbd",
   "metadata": {},
   "source": [
    "\\begin{equation}\\tag{2c.3b}\n",
    "    a_xb_x = -a_yb_y\n",
    "\\end{equation}"
   ]
  },
  {
   "cell_type": "markdown",
   "id": "e876d26b-ca00-4ced-93f2-fd80b6447076",
   "metadata": {},
   "source": [
    "Via equation (2c.3b) and (2c.2),  \n",
    "\n",
    "$$ a_y^2\\,\\frac{b_y^2 + b_x^2}{b_x^2} = b_x^2 + b_y^2$$"
   ]
  },
  {
   "cell_type": "markdown",
   "id": "fd46eb9e-3c2e-4486-85cd-487d40af643e",
   "metadata": {},
   "source": [
    "Thus,  \n",
    "\n",
    "\\begin{equation}\\tag{2c.4}\n",
    "    |a_y| = |b_x|\n",
    "\\end{equation}"
   ]
  },
  {
   "cell_type": "markdown",
   "id": "3cbb0fd6-319a-4259-b67d-e527ce0b71a8",
   "metadata": {},
   "source": [
    "3. Using vectors and dot product show the diagonals of a parallelogram have equal lengths if and only if it’s a rectangle"
   ]
  },
  {
   "cell_type": "markdown",
   "id": "5382ffc3-f257-4f4f-bd34-bcd1c76fff80",
   "metadata": {},
   "source": [
    "Suppose there exists a parallelogram $\\overline{OACB}$ resting on a vector plane, where $O$ is at origin.  \n",
    "\n",
    "**Proposition**:  \n",
    "\n",
    "$$ \\mathbf{A}\\cdot\\mathbf{B} = 0 \\;\\iff\\; |\\mathbf{C}| = |\\overrightarrow{AB}|$$"
   ]
  },
  {
   "cell_type": "markdown",
   "id": "3ecf36e9-a2d1-47b4-bab9-6c333d8366c4",
   "metadata": {},
   "source": [
    "**Proof**:  \n",
    "\n",
    "$$ |\\mathbf{C}| = |\\mathbf{A}+\\mathbf{B}| = \\sqrt{(a_x+b_x)^2 + (a_y+b_y)^2}$$"
   ]
  },
  {
   "cell_type": "markdown",
   "id": "040dab9f-1011-44af-b832-54c1f198b7e3",
   "metadata": {},
   "source": [
    "$$ \\overrightarrow{AB} = \\mathbf{B} - \\mathbf{A} \\quad\\implies\\quad |\\overrightarrow{AB}| = \\sqrt{(b_x-a_x)^2 + (b_y-a_y)^2}$$"
   ]
  },
  {
   "cell_type": "markdown",
   "id": "f28ab72a-4ba8-4b53-a794-2e5c8939424b",
   "metadata": {},
   "source": [
    "\\begin{equation}\\tag{P1}\n",
    "    \\mathbf{A}\\cdot\\mathbf{B} = 0 \\quad\\iff\\quad a_xb_x = -a_yb_y\n",
    "\\end{equation}"
   ]
  },
  {
   "cell_type": "markdown",
   "id": "bf8e51f0-cbaf-459c-a006-25c832a5bd34",
   "metadata": {},
   "source": [
    "$$ |\\mathbf{C}| = |\\overrightarrow{AB}| \\;\\iff\\; 2a_xb_x + 2a_yb_y = -2a_xb_x - 2a_yb_y \\;\\iff\\; a_xb_x = -a_yb_y$$"
   ]
  },
  {
   "cell_type": "markdown",
   "id": "7b54b293-e2de-46da-a5cb-93f94e46515e",
   "metadata": {},
   "source": [
    "Thus,  \n",
    "\n",
    "\\begin{equation}\\tag{P2}\n",
    "    |\\mathbf{C}| = |\\overrightarrow{AB}| \\;\\iff\\; a_xb_x=-a_yb_y\n",
    "\\end{equation}"
   ]
  },
  {
   "cell_type": "markdown",
   "id": "f27a463b-ded1-4a5f-b3fb-e0d051a36232",
   "metadata": {},
   "source": [
    "Via (P1) and (P2) we obtain the proposition.  Q.E.D."
   ]
  },
  {
   "cell_type": "markdown",
   "id": "24c9faf0-a91c-4a05-b565-3b079da59b08",
   "metadata": {},
   "source": [
    "#### Problem 1\n",
    "\n",
    "Find the angle between the vectors $\\mathbf{A} = \\mathbf{i} + 8\\mathbf{j}$ and $\\mathbf{B} = \\mathbf{i} + 2\\mathbf{j}$."
   ]
  },
  {
   "cell_type": "markdown",
   "id": "f65e01b2-7362-4df5-a809-df983c40ecfa",
   "metadata": {},
   "source": [
    "$$ |\\mathbf{A}||\\mathbf{B}|\\cos\\theta = 17$$"
   ]
  },
  {
   "cell_type": "markdown",
   "id": "98258cbe-eb52-4e2d-b12f-e2a6291a4b0c",
   "metadata": {},
   "source": [
    "$$ \\cos\\theta = \\frac{17}{\\sqrt{5\\cdot 65}} = \\frac{17}{5\\sqrt{13}}$$"
   ]
  },
  {
   "cell_type": "code",
   "execution_count": 1,
   "id": "984858ca-9228-4566-9cbc-6a783aa2f2cf",
   "metadata": {
    "tags": []
   },
   "outputs": [
    {
     "data": {
      "text/plain": [
       "13.0"
      ]
     },
     "execution_count": 1,
     "metadata": {},
     "output_type": "execute_result"
    }
   ],
   "source": [
    "65/5"
   ]
  },
  {
   "cell_type": "markdown",
   "id": "2c660b2e-0418-4bb1-9305-e2500c801b17",
   "metadata": {},
   "source": [
    "$$ \\theta = \\arccos\\frac{17}{5\\sqrt{13}}$$"
   ]
  },
  {
   "cell_type": "code",
   "execution_count": 2,
   "id": "6725c622-4931-48d2-a0a0-ec772b6973e8",
   "metadata": {
    "tags": []
   },
   "outputs": [],
   "source": [
    "import numpy as np"
   ]
  },
  {
   "cell_type": "code",
   "execution_count": 3,
   "id": "e8106b0d-d3da-478c-81f6-459d22f5cdbc",
   "metadata": {
    "tags": []
   },
   "outputs": [
    {
     "data": {
      "text/plain": [
       "19.440034828176188"
      ]
     },
     "execution_count": 3,
     "metadata": {},
     "output_type": "execute_result"
    }
   ],
   "source": [
    "theta = np.arccos(17/(5*np.sqrt(13)))\n",
    "np.degrees(theta)"
   ]
  },
  {
   "cell_type": "markdown",
   "id": "c388391a-acb5-4bd7-b714-d2dbf8c30291",
   "metadata": {},
   "source": [
    "#### Problem 2\n",
    "Take points $P = (a, 1, −1)$, $Q = (0, 1, 1)$, $R = (a, −1, 3)$. For what value(s) of $a$ is $\\angle PQR$\n",
    "a right angle?"
   ]
  },
  {
   "cell_type": "markdown",
   "id": "735a9e25-b4cd-4ca9-933a-0dbf08f707eb",
   "metadata": {},
   "source": [
    "Let $\\mathbf{A}$ and $\\mathbf{B}$ be defined as:  \n",
    "\n",
    "$$ \\mathbf{A}:=\\overrightarrow{QP} = \\mathbf{P} - \\mathbf{Q} = \\langle a, 0, -2\\rangle \\quad\\quad\\text{and}\\quad\\quad \\mathbf{B}:= \\overrightarrow{QR} = \\mathbf{R} - \\mathbf{Q} = \\langle a, -2, 2 \\rangle$$"
   ]
  },
  {
   "cell_type": "markdown",
   "id": "63b91957-0ac9-4858-88c9-7797593847e3",
   "metadata": {},
   "source": [
    "$$ \\measuredangle PQR = \\pm 90^\\circ \\;\\iff\\; \\mathbf{A\\cdot B} = 0 \\;\\iff\\; a^2 = 4$$"
   ]
  },
  {
   "cell_type": "markdown",
   "id": "69179e3e-1e6b-4a92-a471-f4187f3f6980",
   "metadata": {},
   "source": [
    "$$ a = \\pm2$$"
   ]
  },
  {
   "cell_type": "markdown",
   "id": "26695452-60ab-43f1-8ac8-6a95b2f1ecbe",
   "metadata": {},
   "source": [
    "#### Problem 3\n",
    "Show that the diagonals of a parallelogram are perpendicular if and only if it is a\n",
    "rhombus, i.e., its four sides have equal lengths."
   ]
  },
  {
   "cell_type": "markdown",
   "id": "b1825f48-faa2-43f1-a6e3-330903abae5d",
   "metadata": {},
   "source": [
    "Suppose there exists a parallelogram $OACB$ resting on a vector plane, where $O$ is at origin.  \n",
    "\n",
    "**Proposition**:  \n",
    "\n",
    "$$ \\mathbf{C}\\perp\\overrightarrow{AB} \\;\\iff\\; |\\mathbf{A}| = |\\mathbf{B}|$$"
   ]
  },
  {
   "cell_type": "markdown",
   "id": "0334a98d-f2c2-4a14-b6bd-f154d5b8d02a",
   "metadata": {},
   "source": [
    "**Proof**:  \n",
    "\n",
    "\\begin{equation}\\tag{P1}\n",
    "    \\mathbf{C}\\perp \\overrightarrow{AB} \\;\\iff\\; \\mathbf{C}\\cdot\\overrightarrow{AB} = 0 \n",
    "\\end{equation}"
   ]
  },
  {
   "cell_type": "markdown",
   "id": "e4177af1-89d3-4b9c-9609-e65904cc804f",
   "metadata": {},
   "source": [
    "$$ \\overrightarrow{AB} = \\mathbf{B} - \\mathbf{A} = \\langle b_x-a_x, b_y-a_y \\rangle$$"
   ]
  },
  {
   "cell_type": "markdown",
   "id": "8719ba56-def5-406a-bfd3-80ef84b612d2",
   "metadata": {},
   "source": [
    "$$ \\mathbf{C}\\cdot\\overrightarrow{AB} = 0 \\quad\\iff\\quad (b_x+a_x)(b_x-a_x) = (b_y+a_y)(a_y-b_y)$$"
   ]
  },
  {
   "cell_type": "markdown",
   "id": "405d7cb6-db78-4de0-a06a-714acf5c8766",
   "metadata": {},
   "source": [
    "$$ \\iff b_x^2 - a_x^2 = a_y^2 - b_y^2\\quad\\iff\\quad b_x^2 + b_y^2 = a_x^2 + a_y^2 \\quad\\iff\\quad |\\mathbf{A}| = |\\mathbf{B}|$$"
   ]
  },
  {
   "cell_type": "markdown",
   "id": "d9b28900-5735-47fe-a370-3c7b243faffc",
   "metadata": {},
   "source": [
    "Thus,  \n",
    "\n",
    "\\begin{equation}\\tag{P2}\n",
    "    \\mathbf{C}\\cdot\\overrightarrow{AB} = 0 \\quad\\iff\\quad |\\mathbf{A}| = |\\mathbf{B}|\n",
    "\\end{equation}"
   ]
  },
  {
   "cell_type": "markdown",
   "id": "697146fc-a9d3-4ed7-b9db-f380a1f3e9b7",
   "metadata": {},
   "source": [
    "Via (P1) and (P2), we obtain the proposition.  Q.E.D."
   ]
  }
 ],
 "metadata": {
  "kernelspec": {
   "display_name": "Python 3 (ipykernel)",
   "language": "python",
   "name": "python3"
  },
  "language_info": {
   "codemirror_mode": {
    "name": "ipython",
    "version": 3
   },
   "file_extension": ".py",
   "mimetype": "text/x-python",
   "name": "python",
   "nbconvert_exporter": "python",
   "pygments_lexer": "ipython3",
   "version": "3.10.12"
  }
 },
 "nbformat": 4,
 "nbformat_minor": 5
}
