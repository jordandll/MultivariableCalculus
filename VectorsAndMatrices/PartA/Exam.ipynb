{
 "cells": [
  {
   "cell_type": "markdown",
   "id": "ec5c5d04-298f-47c0-8bd1-1cee19b0c2c6",
   "metadata": {},
   "source": [
    "1 **a)**  \n",
    "\n",
    "$$ \\overrightarrow{QP} := \\mathbf{P} = \\langle 1,-2,0\\rangle \\quad\\quad\\text{and}\\quad\\quad \\overrightarrow{QR} := \\mathbf{R} = \\langle 0,-2,3\\rangle$$"
   ]
  },
  {
   "cell_type": "markdown",
   "id": "d8e9ab69-9468-4dac-b45a-67bf4daeff76",
   "metadata": {},
   "source": [
    "**b)**  \n",
    "\n",
    "$$ \\theta := \\angle PQR$$"
   ]
  },
  {
   "cell_type": "markdown",
   "id": "c8a24b98-407f-452c-90db-8ff2d5effb2b",
   "metadata": {},
   "source": [
    "$$ \\mathbf{R}\\cdot\\mathbf{P} = |\\mathbf{R}||\\mathbf{P}|\\cos\\theta = 4$$"
   ]
  },
  {
   "cell_type": "markdown",
   "id": "4ce37512-4dae-4aba-8dd5-0202b94a8dfe",
   "metadata": {},
   "source": [
    "$$ \\cos\\theta = \\frac{4}{\\sqrt{13}\\sqrt{5}} = \\frac{4}{\\sqrt{65}}$$"
   ]
  },
  {
   "cell_type": "code",
   "execution_count": 1,
   "id": "3b69d9c5-cc7b-48d3-af00-080c480583cd",
   "metadata": {
    "tags": []
   },
   "outputs": [],
   "source": [
    "import numpy as np"
   ]
  },
  {
   "cell_type": "code",
   "execution_count": 2,
   "id": "6ca95a54-3d7d-42ca-aef9-f2929a62487d",
   "metadata": {
    "tags": []
   },
   "outputs": [
    {
     "data": {
      "text/plain": [
       "65"
      ]
     },
     "execution_count": 2,
     "metadata": {},
     "output_type": "execute_result"
    }
   ],
   "source": [
    "13*5"
   ]
  },
  {
   "cell_type": "markdown",
   "id": "91def96b-8ebe-4bfd-be46-424d2df7961d",
   "metadata": {},
   "source": [
    "2 **a)**  Let $\\overrightarrow{PQ}$ and $\\overrightarrow{PR}$ be defined as:  \n",
    "\n",
    "$$ \\overrightarrow{PQ} := \\mathbf{Q} = \\langle -1,2,0\\rangle \\quad\\quad\\text{and}\\quad\\quad \\overrightarrow{PR}:=\\mathbf{R} = \\langle -1,0,3\\rangle$$"
   ]
  },
  {
   "cell_type": "markdown",
   "id": "c78bae65-e31a-4aaf-b258-9f54e2f8691f",
   "metadata": {},
   "source": [
    "The area of the triangle, denoted as $T$, is equal to half of the area of the parallelogram spanned by $\\mathbf{Q}$ and $\\mathbf{R}$, denoted as $A$.  \n",
    "\n",
    "$$ A = |\\mathbf{Q}\\times\\mathbf{R}| = \\left|\\left|\\begin{matrix}\\mathbf{i} & \\mathbf{j} & \\mathbf{k} \\\\ -1 & 2 & 0 \\\\ -1 & 0 & 3\\end{matrix}\\right|\\right|$$"
   ]
  },
  {
   "cell_type": "markdown",
   "id": "210515bf-ab44-4e4d-859a-6730bd59a2ff",
   "metadata": {},
   "source": [
    "$$ = |(6)\\mathbf{i} - (-3)\\mathbf{j} + (2)\\mathbf{k}| = |\\langle 6,3,2\\rangle| = \\sqrt{36+9+4} = \\sqrt{49} = 7$$"
   ]
  },
  {
   "cell_type": "markdown",
   "id": "740b8cb1-0214-4b5e-be5b-f1e083fe2fc3",
   "metadata": {},
   "source": [
    "$$ T = 0.5A = \\frac{7}{2}$$"
   ]
  },
  {
   "cell_type": "markdown",
   "id": "535e0c17-d713-4fbc-b4a2-3d89df2cb607",
   "metadata": {},
   "source": [
    "**b)**  \n",
    "\n",
    "$$ \\left|\\begin{matrix}x-1 & y-1 & z-1 \\\\ -1 & 2 & 0 \\\\ -1 & 0 & 3\\end{matrix}\\right| = 0$$"
   ]
  },
  {
   "cell_type": "markdown",
   "id": "bd17b869-48d6-4c00-bca6-ec9b7d16d65f",
   "metadata": {},
   "source": [
    "$$ (x-1)(6) - (y-1)(-3) + (z-1)(2) = 0 \\quad\\implies$$"
   ]
  },
  {
   "cell_type": "markdown",
   "id": "b2ffdc0e-9a72-49a8-81a8-aff6e3e46668",
   "metadata": {},
   "source": [
    "$$ x - 6 + 3y -3 + 2z - 2 = 0 \\quad\\implies$$"
   ]
  },
  {
   "cell_type": "markdown",
   "id": "aaf2ab0f-fe0c-4d18-9e93-f56f711bc48d",
   "metadata": {},
   "source": [
    "$$ x + 3y + 2z = 11$$"
   ]
  },
  {
   "cell_type": "markdown",
   "id": "fbdf19cc-0dcb-499d-88ac-0808dcd2dfc2",
   "metadata": {},
   "source": [
    "**c)**  Let $\\mathbf{v}$ be defined as the vector that connects the two points the line is through.  \n",
    "\n",
    "$$ \\mathbf{v} = \\langle 1, 0, -3\\rangle$$"
   ]
  },
  {
   "cell_type": "markdown",
   "id": "21b009ff-8669-48ce-8580-412e77804bbf",
   "metadata": {},
   "source": [
    "If $\\mathbf{v}$ is perpendicular to the normal of the plane then $\\mathbf{v}$ is parallel to the plane, henceforth $\\mathcal{P}$.  \n",
    "\n",
    "$$ \\mathbf{v}\\perp\\mathbf{Q}\\times\\mathbf{R} \\;\\iff\\; \\mathbf{v} \\parallel \\mathcal{P}\\quad\\quad\\text{and}\\quad\\quad \\mathbf{v}\\cdot\\mathbf{Q}\\times\\mathbf{R} = 0 \\;\\iff\\;\\mathbf{v}\\perp\\mathbf{Q}\\times\\mathbf{R}$$"
   ]
  },
  {
   "cell_type": "markdown",
   "id": "f7d17fe5-fdd4-4b86-8cd0-72a86479e8d2",
   "metadata": {},
   "source": [
    "Therefore,  \n",
    "\n",
    "$$ \\mathbf{v}\\cdot\\mathbf{Q}\\times\\mathbf{R} = 0 \\;\\iff\\; \\mathbf{v}\\parallel\\mathcal{P}$$"
   ]
  },
  {
   "cell_type": "markdown",
   "id": "4798530e-a01f-4f80-ab49-eb86ae2c22d5",
   "metadata": {},
   "source": [
    "Whereas,  \n",
    "\n",
    "$$ \\mathbf{v}\\cdot\\mathbf{Q}\\times\\mathbf{R} = \\mathrm{det}(\\mathbf{v},\\mathbf{Q},\\mathbf{R}) = \\left|\\begin{matrix}1 & 0 & -3 \\\\ -1 & 2 & 0 \\\\ -1 & 0 & 3\\end{matrix}\\right|$$"
   ]
  },
  {
   "cell_type": "markdown",
   "id": "724ef127-7d79-436b-a9d3-36dcc01b1261",
   "metadata": {},
   "source": [
    "$$  = 6 - 3\\cdot2 = 0$$"
   ]
  },
  {
   "cell_type": "markdown",
   "id": "2dcc8b9d-84b5-477c-8e7d-d85574dad19f",
   "metadata": {},
   "source": [
    "Therefore $\\mathbf{v}\\parallel\\mathcal{P}$."
   ]
  },
  {
   "cell_type": "markdown",
   "id": "7e28366a-0b01-4297-9e00-3eafde0ebe3a",
   "metadata": {},
   "source": [
    "$$ \\mathbf{v}\\cdot\\mathbf{Q}\\times\\mathbf{R} = 0 \\;\\therefore\\; \\mathbf{v}\\parallel\\mathcal{P}$$"
   ]
  },
  {
   "cell_type": "markdown",
   "id": "66372a83-4786-4024-a862-9f9692c66a20",
   "metadata": {},
   "source": [
    "3.\n",
    "\n",
    "**a)**  Let $C$ denote the center of the circle that the semicircle rests on and $P$ denote ladybug and $O$ denote origin. \n",
    "\n",
    "$$ \\overrightarrow{OC}(t) := \\mathbf{C}(t) = \\langle 10t, 0\\rangle \\quad\\quad\\text{and}\\quad\\quad \\overrightarrow{CP}(t) = \\langle \\cos\\omega t, \\sin\\omega t\\rangle$$"
   ]
  },
  {
   "cell_type": "markdown",
   "id": "363f482a-cb4c-4482-a23c-9003e4f54ec9",
   "metadata": {},
   "source": [
    "$$ \\overrightarrow{OP}:=\\mathbf{P}= \\mathbf{C} + \\overrightarrow{CP} = \\langle 10t + \\cos\\omega t, \\sin\\omega t\\rangle$$"
   ]
  },
  {
   "cell_type": "markdown",
   "id": "15ffee9b-89f0-4562-801b-d38ffad0f7e4",
   "metadata": {},
   "source": [
    "$$ |\\overrightarrow{CP}'(t)| =\\omega = 1 \\quad\\quad\\text{and}\\quad\\quad \\overrightarrow{CP}'(t) = \\omega\\langle-\\sin\\omega t,\\cos\\omega t\\rangle$$"
   ]
  },
  {
   "cell_type": "markdown",
   "id": "d04803ad-98d0-467a-bab7-060bbc815471",
   "metadata": {},
   "source": [
    "Thus,  \n",
    "\n",
    "$$ \\overrightarrow{CP} = \\langle \\cos t, \\sin t\\rangle \\quad\\quad \\text{and}\\quad\\quad \\mathbf{P} = \\langle 10t + \\cos t, \\sin t\\rangle$$"
   ]
  },
  {
   "cell_type": "markdown",
   "id": "e48fb37e-f71f-4955-986b-ce91e0972ffd",
   "metadata": {},
   "source": [
    "The ladybug reaches the rear bumper at $t=\\pi$ thus,  \n",
    "\n",
    "$$ \\mathbf{P}(\\pi) = \\langle 10\\pi - 1, 0\\rangle \\quad\\implies\\quad P = (10\\pi -1, 0)$$"
   ]
  },
  {
   "cell_type": "markdown",
   "id": "ec87f255-19e5-4c9b-ae5b-ccde2bdcce48",
   "metadata": {},
   "source": [
    "**b)**  \n",
    "\n",
    "$$ \\mathbf{P}'(t) := \\mathbf{V} =\\langle 10 - \\sin t, \\cos t\\rangle \\quad\\quad\\text{and}\\quad\\quad s'(t) = |\\mathbf{V}| = \\sqrt{\\big(10-\\sin t\\big)^2 + \\cos^2t} $$"
   ]
  },
  {
   "cell_type": "markdown",
   "id": "522a0e1a-11cd-4e83-80ac-e852dac9bab5",
   "metadata": {},
   "source": [
    "$$ s'(t) = \\sqrt{100 - 20\\sin t + 1}$$"
   ]
  },
  {
   "cell_type": "markdown",
   "id": "e0f9bc46-bdc3-4177-8c43-2b7aded08c15",
   "metadata": {},
   "source": [
    "The speed is at a max when $t=0,\\pi$ and a min when $t=0.5\\pi$."
   ]
  },
  {
   "cell_type": "markdown",
   "id": "7641f0c1-b75b-4713-ba94-e0cb3106eecc",
   "metadata": {},
   "source": [
    "4.  **a)**  \n",
    "\n",
    "$$ \\mathrm{det}(\\mathbf{M}) = -1 - 2(-3-2) + 3(-3-4) = 10 - 1 - 21 = -12$$"
   ]
  },
  {
   "cell_type": "markdown",
   "id": "e6458fe5-d5b7-44e5-b198-09c8f5cfe94a",
   "metadata": {},
   "source": [
    "**b)**  \n",
    "\n",
    "$$ a = -M_{12} = -5 \\quad\\quad\\text{and}\\quad\\quad b = -M_{13} = 7$$"
   ]
  },
  {
   "cell_type": "markdown",
   "id": "d7a51a67-3461-4ba8-9ab9-2f633ee2dd6e",
   "metadata": {},
   "source": [
    "**c)** Let $\\mathbf{b}$ be defined as:  \n",
    "\n",
    "$$ \\mathbf{b} := (0,t,3)^T$$"
   ]
  },
  {
   "cell_type": "markdown",
   "id": "9d2a8839-75e9-4853-8e66-a181426c03ef",
   "metadata": {},
   "source": [
    "$$ \\mathbf{r} = \\mathbf{M}^{-1}\\cdot\\mathbf{b}$$"
   ]
  },
  {
   "cell_type": "markdown",
   "id": "203b0f63-c4ed-43e4-a2fd-4b0fd53275e0",
   "metadata": {},
   "source": [
    "$$ x = \\frac{1}{12}\\,(t+12) \\quad\\quad y = \\frac{1}{12}\\,(7t -24) \\quad\\quad z = \\frac{1}{12}\\,(12-5t)$$"
   ]
  },
  {
   "cell_type": "markdown",
   "id": "08ffd5d8-1e6a-4410-85dc-77e62cd0fc26",
   "metadata": {},
   "source": [
    "**d)**  \n",
    "\n",
    "$$ \\mathbf{r}'(t) := \\mathbf{v} = \\frac{1}{12}\\langle 1, 7, -5\\rangle$$"
   ]
  },
  {
   "cell_type": "markdown",
   "id": "da207759-4383-4f72-8dcb-df46c5d7f690",
   "metadata": {},
   "source": [
    "5. **a)**  $$ P(t) = \\big(x(t),y(t),z(t)\\big) \\quad\\quad \\mathbf{r}(t) = \\overrightarrow{OP}(t) = \\langle x(t),y(t),z(t)\\rangle \\quad\\quad \\mathbf{N} = \\langle 4,-3,-2\\rangle$$"
   ]
  },
  {
   "cell_type": "markdown",
   "id": "c7255c97-8610-437c-b090-ab62bb44e67f",
   "metadata": {},
   "source": [
    "Here $\\mathbf{N}$ is the normal vector to the plane, henceforth $\\mathcal{P}$ and $O$ is origin.  \n",
    "\n",
    "$$ f(x,y) := z = 2x - \\frac{3}{2}\\,y - 3 \\quad\\quad P_0 = \\big(0, 0, f(0,0)\\big) = (0,0,-3)$$"
   ]
  },
  {
   "cell_type": "markdown",
   "id": "df43f7af-7722-4b1c-8bd4-35cae006252b",
   "metadata": {},
   "source": [
    "$$ \\overrightarrow{P_0P}(t) = \\langle x(t), y(t), z(t) + 3\\rangle \\quad\\quad \\overrightarrow{OP_0}(t) := \\mathbf{P}_0(t) = \\langle 0,0,-3\\rangle$$"
   ]
  },
  {
   "cell_type": "markdown",
   "id": "6cb5033e-0a7b-46b3-8f3b-4c23a2962889",
   "metadata": {},
   "source": [
    "Thus,  \n",
    "\n",
    "$$\\overrightarrow{P_0P}(t) =  \\mathbf{r}(t) - \\mathbf{P}_0(t)$$"
   ]
  },
  {
   "cell_type": "markdown",
   "id": "9a2bcf05-f9e1-4a09-b794-55c0f47d4641",
   "metadata": {},
   "source": [
    "Our point $P(t)$ rests on the plane if  \n",
    "\n",
    "$$ \\overrightarrow{P_0P}\\cdot\\mathbf{N} = \\mathbf{r}\\cdot\\mathbf{N} - \\langle 0,0,-3\\rangle\\cdot\\langle 4,-3,-2\\rangle =0$$"
   ]
  },
  {
   "cell_type": "markdown",
   "id": "beab6bd5-74cd-4623-bdb4-2fc6b396b649",
   "metadata": {},
   "source": [
    "\\begin{equation}\\tag{5.1}\n",
    "    \\mathbf{r}\\cdot\\mathbf{N} = \\mathbf{P}_0\\cdot\\mathbf{N} = 6\n",
    "\\end{equation}"
   ]
  },
  {
   "cell_type": "markdown",
   "id": "2f157fe6-8b98-4cf6-a7a9-e12b891d19bd",
   "metadata": {},
   "source": [
    "**b)**  \n",
    "\n",
    "Proposition:  \n",
    "\n",
    "$$ \\mathbf{r}'(t) := \\mathbf{V} \\quad\\quad \\mathbf{V}\\perp\\mathbf{N} \\;\\iff\\; \\mathbf{V}\\cdot\\mathbf{N} = 0$$"
   ]
  },
  {
   "cell_type": "markdown",
   "id": "ecb8c84f-5b2d-436e-8e36-7ca444c0dcc3",
   "metadata": {},
   "source": [
    "Differentiating throughout equation (5.1) with respect to time gives:  \n",
    "\n",
    "$$ \\frac{\\mathrm{d}(\\mathbf{r}\\cdot\\mathbf{N})}{\\mathrm{d}t} = \\mathbf{V}\\cdot\\mathbf{N} + \\mathbf{r}\\cdot\\mathbf{N}'(t) = 0 \\quad\\implies$$"
   ]
  },
  {
   "cell_type": "markdown",
   "id": "44c5a480-8dc7-46fd-bb70-c40a049a31c5",
   "metadata": {},
   "source": [
    "$$ \\mathbf{V}\\cdot\\mathbf{N} = 0\\;\\therefore \\mathbf{V}\\perp\\mathbf{N}$$"
   ]
  },
  {
   "cell_type": "markdown",
   "id": "831d31b2-6697-4e7b-bc73-13344b0dc14b",
   "metadata": {},
   "source": []
  }
 ],
 "metadata": {
  "kernelspec": {
   "display_name": "Python 3 (ipykernel)",
   "language": "python",
   "name": "python3"
  },
  "language_info": {
   "codemirror_mode": {
    "name": "ipython",
    "version": 3
   },
   "file_extension": ".py",
   "mimetype": "text/x-python",
   "name": "python",
   "nbconvert_exporter": "python",
   "pygments_lexer": "ipython3",
   "version": "3.10.12"
  }
 },
 "nbformat": 4,
 "nbformat_minor": 5
}
