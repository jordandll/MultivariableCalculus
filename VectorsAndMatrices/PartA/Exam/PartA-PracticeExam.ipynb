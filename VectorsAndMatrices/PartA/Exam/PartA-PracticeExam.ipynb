{
 "cells": [
  {
   "cell_type": "markdown",
   "id": "b4aeb897-ed10-4b8d-ac4d-4d561681d840",
   "metadata": {},
   "source": [
    "1. **a)**  Let $\\overrightarrow{OQ}:=\\mathbf{Q}$ and $\\overrightarrow{OR}:=\\mathbf{R}$.  \n",
    "\n",
    "$$ \\mathbf{Q} = \\langle 1,1,1\\rangle \\quad\\quad\\text{and}\\quad\\quad \\mathbf{R} = \\langle 0.5,1,0.5\\rangle$$"
   ]
  },
  {
   "cell_type": "markdown",
   "id": "f09bd6b7-2ecb-4ca2-8674-83e2afe11324",
   "metadata": {},
   "source": [
    "**b)**  \n",
    "\n",
    "$$ \\mathbf{Q}\\cdot\\mathbf{R} = |\\mathbf{Q}||\\mathbf{R}|\\cos\\theta = 0.5 + 1 + 0.5 = 2$$"
   ]
  },
  {
   "cell_type": "markdown",
   "id": "dad16bf5-94ac-4009-bcdc-3b57674ac258",
   "metadata": {},
   "source": [
    "$$ \\cos\\theta = \\frac{2}{\\sqrt{3}\\sqrt{1.5}} = \\frac{2\\sqrt{2}}{3}$$"
   ]
  },
  {
   "cell_type": "markdown",
   "id": "32f1ed27-3ef7-483f-8d1e-9c5efa8f02f1",
   "metadata": {},
   "source": [
    "2. $$ \\mathbf{R} =\\langle 3\\cos t, 3\\sin t, t\\rangle$$"
   ]
  },
  {
   "cell_type": "markdown",
   "id": "68bfd060-9ebd-477e-92ea-f04b78f58032",
   "metadata": {},
   "source": [
    "$$ \\mathbf{V} = \\mathbf{R}'(t) = \\langle -3\\sin t, 3\\cos t, 1\\rangle \\quad\\quad\\text{and}\\quad\\quad s'(t) = |\\mathbf{V}| = \\sqrt{10}$$"
   ]
  },
  {
   "cell_type": "markdown",
   "id": "1e79e46b-4a4f-4567-9d6d-c35166589695",
   "metadata": {},
   "source": [
    "3.  **a)**  \n",
    "\n",
    "$$ a = A_{21} = 2 \\quad\\quad\\text{and}\\quad\\quad b = A_{31} = -3$$"
   ]
  },
  {
   "cell_type": "markdown",
   "id": "22384136-07e2-4a94-9b35-c84dcc0528fe",
   "metadata": {},
   "source": [
    "**b)**  \n",
    "\n",
    "$$ \\mathbf{X} = \\mathbf{A}^{-1}\\mathbf{B} \\quad\\implies $$"
   ]
  },
  {
   "cell_type": "markdown",
   "id": "2e230ddf-84f7-48f0-ba51-c5d35ab5d991",
   "metadata": {},
   "source": [
    "$$ x = 0.5(1 - 4 -3) = -3 \\quad\\quad y = 0.5(-1 + 4 + 5) = 4 \\quad\\quad z = 0.5(2 - 4 - 6) = -4$$"
   ]
  },
  {
   "cell_type": "markdown",
   "id": "4f50b817-5a21-40e8-aba8-de1999a7c62f",
   "metadata": {},
   "source": [
    "**c)**  \n",
    "\n",
    "$$ M = \\begin{pmatrix}1 & 3 & c \\\\ 2 & 0 & -1\\\\ 1 & 1 & 0\\end{pmatrix}$$"
   ]
  },
  {
   "cell_type": "markdown",
   "id": "bba1ed68-ff51-49ba-9f03-37b18446f623",
   "metadata": {},
   "source": [
    "We need to find $c$ such that:  \n",
    "\n",
    "$$ \\mathrm{det}(M) = 0$$"
   ]
  },
  {
   "cell_type": "markdown",
   "id": "e4395bf3-6338-4c91-964a-b6bf69a11fa0",
   "metadata": {},
   "source": [
    "$$ 1 - 3(1) + c(2) = 0 \\quad\\implies$$"
   ]
  },
  {
   "cell_type": "markdown",
   "id": "466bcbd1-c0d6-4054-80ae-e7c0b96dd69a",
   "metadata": {},
   "source": [
    "$$ c = 0.5(2) = 1$$"
   ]
  },
  {
   "cell_type": "markdown",
   "id": "f8b9df29-06d6-4b89-ba7e-83927033129f",
   "metadata": {},
   "source": [
    "Now, let $\\mathbf{U}$, $\\mathbf{V}$, and $\\mathbf{W}$ be defined as the row vectors of $\\mathbf{M}$.  \n",
    "\n",
    "$$ \\mathbf{U} = \\langle 1,3,1\\rangle \\quad\\quad \\mathbf{V} = \\langle 2,0,-1\\rangle \\quad\\quad \\mathbf{W} = \\langle 1,1,0\\rangle$$"
   ]
  },
  {
   "cell_type": "markdown",
   "id": "fa452653-9136-4b39-a65d-edb5cd583cac",
   "metadata": {},
   "source": [
    "The fact that $\\mathrm{det}(M)=0$ implies that the three row vectors all rest on the same plane, or, to put it another way, are coplanar.  Note that these vectors are normal to their corresponding plane given by the system $\\mathbf{M}\\cdot\\mathbf{X}=0$, where $\\mathbf{X} = (x,y,z)^T$.  Now, let $\\mathbf{x}:=\\langle x,y,z\\rangle = \\mathbf{X}^T$  Expanding said system gives:  \n",
    "\n",
    "$$ \\mathbf{U}\\cdot\\mathbf{x} = 0 \\;\\iff\\; \\mathbf{U}\\perp\\mathbf{x} \\quad\\quad \\mathbf{V}\\cdot\\mathbf{x} = 0 \\;\\iff\\; \\mathbf{V}\\perp\\mathbf{x}\\quad\\quad \\mathbf{W}\\cdot\\mathbf{x} = 0\\;\\iff\\; \\mathbf{W}\\perp\\mathbf{x}$$"
   ]
  },
  {
   "cell_type": "markdown",
   "id": "3a86b5b2-1f19-4d98-8769-5fea094bd57a",
   "metadata": {},
   "source": [
    "Solution to the aforementioned system other than the trivial one is the head of the cross product of $\\mathbf{V}$ and $\\mathbf{W}$ with it's tail at origin.  \n",
    "\n",
    "$$ \\mathbf{V}\\times\\mathbf{W} = \\langle 1, -1,2\\rangle \\quad\\implies$$"
   ]
  },
  {
   "cell_type": "markdown",
   "id": "0c7e8886-57f0-4dc9-a137-45baebec886d",
   "metadata": {},
   "source": [
    "$$ \\mathbf{X} = (1,-1,2)^T$$"
   ]
  },
  {
   "cell_type": "markdown",
   "id": "98696a6d-3bb1-4b92-95ce-4bc8195223a4",
   "metadata": {},
   "source": [
    "is a solution.  To test our solution,  \n",
    "\n",
    "$$ \\mathbf{U}\\cdot\\mathbf{X} = 1 - 3 + 2 = 0\\quad\\quad \\mathbf{V}\\cdot\\mathbf{X} = 2 - 2 = 0\\quad\\quad \\mathbf{W}\\cdot\\mathbf{X} = 1-1=0$$"
   ]
  },
  {
   "cell_type": "markdown",
   "id": "62ff2f7b-d9c4-4b93-87ac-0c09a8714611",
   "metadata": {},
   "source": [
    "5. **a)**  Let \n",
    "\n",
    "$$\\overrightarrow{P_0P_1}:=\\mathbf{P}_1 = \\langle -1,-1,1\\rangle \\quad\\quad\\text{and}\\quad\\quad\\overrightarrow{P_0P_2} := \\mathbf{P}_2 = \\langle 0,-2,1\\rangle$$"
   ]
  },
  {
   "cell_type": "markdown",
   "id": "55386e4a-6322-4ecb-aeb5-c27b0cbc0f6c",
   "metadata": {},
   "source": [
    "The area of the triangle, denoted as $T$, is equal to half the area of the parallelogram spanned by $\\mathbf{P}_1$ and $\\mathbf{P}_2$, denoted as $A$.  \n",
    "\n",
    "$$ A = |\\mathbf{P}_1\\times\\mathbf{P}_2| = \\mathrm{det}\\left(\\left|\\begin{matrix}\\mathbf{i} & \\mathbf{j} & \\mathbf{k} \\\\ -1 & -1 & 1 \\\\ 0 & -2 & 1\\end{matrix} \\right|\\right)$$"
   ]
  },
  {
   "cell_type": "markdown",
   "id": "b67c6c0c-bdcf-452f-897d-82964565122a",
   "metadata": {},
   "source": [
    "$$ = \\big|(2-1)\\mathbf{i} - (-1)\\mathbf{j} + (2)\\mathbf{k}\\big|$$"
   ]
  },
  {
   "cell_type": "markdown",
   "id": "ecdd3560-e12b-42ab-9701-430f7ffc4581",
   "metadata": {},
   "source": [
    "$$ = |\\langle 1, 1, 2\\rangle| = \\sqrt{6}$$"
   ]
  },
  {
   "cell_type": "markdown",
   "id": "cb915317-5349-4c89-9844-eee7ce3b1f3e",
   "metadata": {},
   "source": [
    "Thus,  \n",
    "\n",
    "$$ T = 0.5A = 0.5\\sqrt{6}$$"
   ]
  },
  {
   "cell_type": "markdown",
   "id": "42f6640b-7a80-42f2-8392-a314d9649c73",
   "metadata": {},
   "source": [
    "**b)**  Let \n",
    "$$P:=P(x,y,z):=(x,y,z) \\quad\\quad\\text{and}\\quad\\quad \\overrightarrow{P_0P}:=\\mathbf{P}:=\\mathbf{P}(x,y,z) = \\langle x-2, y-1, z\\rangle$$"
   ]
  },
  {
   "cell_type": "markdown",
   "id": "f0ccca58-e9e0-4a45-9f9b-f3c457207742",
   "metadata": {},
   "source": [
    "The equation of the plane is given by the determinant equation:  \n",
    "\n",
    "$$ \\big| \\mathbf{P} \\; \\mathbf{P}_1 \\; \\mathbf{P}_2\\big|  = \\left|\\begin{matrix}x-2 & y-1 & z \\\\ -1 & -1 & 1 \\\\ 0 & -2 & 1\\end{matrix}\\right|= 0$$"
   ]
  },
  {
   "cell_type": "markdown",
   "id": "ca9ce2f5-42f7-49de-b843-cbc38a9a4728",
   "metadata": {},
   "source": [
    "$$ = (x-2)(2-1) - (y-1)(-1) + z(2) $$"
   ]
  },
  {
   "cell_type": "markdown",
   "id": "1cbb2870-8646-41b1-b073-87766f65afd7",
   "metadata": {},
   "source": [
    "Thus,  \n",
    "\n",
    "$$ x-2 + y-1 + 2z = 0 \\quad\\implies$$"
   ]
  },
  {
   "cell_type": "markdown",
   "id": "7839fd55-ae81-40db-9684-b76067201578",
   "metadata": {},
   "source": [
    "$$ x + y + 2z = 3$$"
   ]
  },
  {
   "cell_type": "markdown",
   "id": "fde5dba7-e211-47ba-8b73-8e16a5d15095",
   "metadata": {},
   "source": [
    "**c)**  \n",
    "\n",
    "$$\\langle x+1 , y, z\\rangle = t\\langle 1,1,1\\rangle \\quad\\implies $$"
   ]
  },
  {
   "cell_type": "markdown",
   "id": "01443807-0992-450f-830a-e9752412bcdc",
   "metadata": {},
   "source": [
    "$$ x + 1 = t \\quad\\quad y = t \\quad\\quad z=t \\quad\\implies$$"
   ]
  },
  {
   "cell_type": "markdown",
   "id": "1b01f71a-a7cd-4a82-ae7d-d95cc7c0f599",
   "metadata": {},
   "source": [
    "$$ x + 1 = y \\quad\\quad\\text{and}\\quad\\quad y = z$$"
   ]
  },
  {
   "cell_type": "markdown",
   "id": "993e9e1b-0a82-401f-a53e-283c912bc112",
   "metadata": {},
   "source": [
    "Via the above parametric equations and the plane equation,  \n",
    "\n",
    "$$ t - 1 + t + 2t = 3 \\quad\\implies$$"
   ]
  },
  {
   "cell_type": "markdown",
   "id": "39432a33-9275-4dfe-a73e-eb78e1704c7b",
   "metadata": {},
   "source": [
    "$$4t = 4 \\quad\\implies\\quad t = 1$$"
   ]
  },
  {
   "cell_type": "markdown",
   "id": "69169215-2cb9-4e37-86d2-726ae1cd8856",
   "metadata": {},
   "source": [
    "Thus, the point of intersection is:   \n",
    "\n",
    "$$ (0, 1, 1)$$"
   ]
  },
  {
   "cell_type": "markdown",
   "id": "fc3f7655-8829-4790-bcda-39d4667f5a45",
   "metadata": {},
   "source": [
    "6 **a)** \n",
    "\n",
    "$$ \\frac{\\mathrm{d}(\\mathbf{R}\\cdot\\mathbf{R})}{\\mathrm{d}t} = \\mathbf{R}'\\cdot\\mathbf{R} + \\mathbf{R}\\cdot\\mathbf{R}' = \\mathbf{R}\\cdot\\big(\\mathbf{R}'+\\mathbf{R}'\\big) = 2\\mathbf{R}\\cdot\\mathbf{R}'$$"
   ]
  },
  {
   "cell_type": "markdown",
   "id": "f3808c82-dc9c-4d8b-8b8e-2efbe6307843",
   "metadata": {},
   "source": [
    "\\begin{equation}\\tag{6.1}\n",
    "    \\frac{\\mathrm{d}(\\mathbf{R}\\cdot\\mathbf{R})}{\\mathrm{d}t} = \\frac{\\mathrm{d}|\\mathbf{R}|^2}{\\mathrm{d}t} = 2\\mathbf{R}\\cdot\\mathbf{R}' = 2\\mathbf{R}\\cdot\\mathbf{V}\n",
    "\\end{equation}"
   ]
  },
  {
   "cell_type": "markdown",
   "id": "56722859-dd5c-4c58-b72d-9196c3a487bf",
   "metadata": {},
   "source": [
    "**b)**  $$ \\mathbf{R}\\perp\\mathbf{V} \\quad\\iff\\quad \\mathbf{R}\\cdot\\mathbf{V} = 0 $$\n",
    "\n"
   ]
  },
  {
   "cell_type": "markdown",
   "id": "21dec41a-6d88-4534-8981-3e90d9986aa8",
   "metadata": {},
   "source": [
    "**Proposition**:  \n",
    "\n",
    "$$ |\\mathbf{R}|'(t) = 0 \\quad\\implies\\quad \\mathbf{R}\\perp\\mathbf{V}$$"
   ]
  },
  {
   "cell_type": "markdown",
   "id": "15f64774-eff4-46a2-b23b-f60cfb8b368f",
   "metadata": {},
   "source": [
    "**Proof**:  Via the above two notions (logical connectives) and the law of distributed middle,  \n",
    "\n",
    "$$ |\\mathbf{R}|'(t) = 0 \\quad\\iff\\quad \\mathbf{R}\\cdot\\mathbf{V} = 0 $$"
   ]
  },
  {
   "cell_type": "markdown",
   "id": "17f68764-b330-406c-b2f1-17aa63ae3f95",
   "metadata": {},
   "source": [
    "$$ |\\mathbf{R}|'(t) = \\frac{2x(t)x'(t) + 2y(t)y'(t) + 2z(t)z'(t)}{2|\\mathbf{R}|} = \\frac{xx' + yy' + zz'}{|\\mathbf{R}|} = 0$$"
   ]
  },
  {
   "cell_type": "markdown",
   "id": "82c42f58-1d71-4f77-ac48-cedacac3875d",
   "metadata": {},
   "source": [
    "Multiplying throughout the above equation by $2|\\mathbf{R}|$ gives:  \n",
    "\n",
    "\\begin{equation}\\tag{6.2}\n",
    "    2xx' + 2yy' + 2zz' = \\frac{\\mathrm{d}|\\mathbf{R}|^2}{\\mathrm{d}t} = 0\n",
    "\\end{equation}"
   ]
  },
  {
   "cell_type": "markdown",
   "id": "2722e611-b585-48ec-8623-27c82b6a6d43",
   "metadata": {},
   "source": [
    "Thus,  \n",
    "\n",
    "$$ |\\mathbf{R}|'(t) = 0 \\;\\iff\\; \\frac{\\mathrm{d}|\\mathbf{R}|^2}{\\mathrm{d}t} = 0$$"
   ]
  },
  {
   "cell_type": "markdown",
   "id": "3df71bb1-a9cc-4c8c-9fde-e8f15b51577e",
   "metadata": {},
   "source": [
    "Via equations (6.2) and (6.1) and equivelance principle,  \n",
    "\n",
    "$$ \\frac{\\mathrm{d}|\\mathbf{R}|^2}{\\mathrm{d}t} = 0 \\;\\iff\\; \\mathbf{R}\\cdot\\mathbf{V} = 0$$"
   ]
  },
  {
   "cell_type": "markdown",
   "id": "bc86c75f-389d-4219-afc5-222bcfb01792",
   "metadata": {},
   "source": [
    "Finally, via the above two logical connectives and the law of distributed middle, we have our proposition.  Q.E.D."
   ]
  },
  {
   "cell_type": "markdown",
   "id": "a29c94fd-34b4-44e4-8032-624dc31fc765",
   "metadata": {},
   "source": [
    "**c)**  \n",
    "\n",
    "$$ \\mathbf{R}\\cdot\\mathbf{A} = -|\\mathbf{V}|^2 $$"
   ]
  }
 ],
 "metadata": {
  "kernelspec": {
   "display_name": "Python 3 (ipykernel)",
   "language": "python",
   "name": "python3"
  },
  "language_info": {
   "codemirror_mode": {
    "name": "ipython",
    "version": 3
   },
   "file_extension": ".py",
   "mimetype": "text/x-python",
   "name": "python",
   "nbconvert_exporter": "python",
   "pygments_lexer": "ipython3",
   "version": "3.10.12"
  }
 },
 "nbformat": 4,
 "nbformat_minor": 5
}
