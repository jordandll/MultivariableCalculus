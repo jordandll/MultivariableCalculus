{
 "cells": [
  {
   "cell_type": "markdown",
   "id": "1f250cf0-fdd7-475d-94b0-648f7f55ffa9",
   "metadata": {},
   "source": [
    "# Exercises  \n",
    "\n",
    "## 1. Vectors and Matrices\n",
    "\n",
    "### 1A. Vectors  \n",
    "\n",
    "**Definition**.  A **direction** is just a unit vector.  The **direction of** $\\mathbf{A}$, denoted as '$\\mathrm{dir }\\mathbf{A}$', is defined by:  \n",
    "\n",
    "$$ \\mathrm{dir }\\mathbf{A} = \\frac{\\mathbf{A}}{|\\mathbf{A}|} \\quad\\quad \\text{where }\\mathbf{A}\\ne 0$$"
   ]
  },
  {
   "cell_type": "markdown",
   "id": "d433e4a0-8a6f-44fc-be92-b4b493adaf4f",
   "metadata": {},
   "source": [
    "It is the unit vector lying along $\\mathbf{A}$ and pointed in the same direction as $\\mathbf{A}$ (not $-\\mathbf{A}$)."
   ]
  },
  {
   "cell_type": "markdown",
   "id": "df3ab922-a010-4131-a046-4255bf30efbc",
   "metadata": {},
   "source": [
    "1. **a)**  $$ |\\mathbf{A}| = \\sqrt{3} \\quad\\quad\\text{and}\\quad\\quad \\mathrm{dir }\\mathbf{A} = \\frac{\\langle 1,1,1\\rangle}{\\sqrt{3}}$$"
   ]
  },
  {
   "cell_type": "markdown",
   "id": "19cd8de9-10d6-4f46-a62c-4e5a8fac86e3",
   "metadata": {},
   "source": [
    "**b)**  $$ |\\mathbf{A}| = \\sqrt{4 + 4 + 1} = 3 \\quad\\quad\\text{and}\\quad\\quad \\mathrm{dir }\\mathbf{A} = \\frac{\\langle 2,-1,2\\rangle}{3}$$"
   ]
  },
  {
   "cell_type": "markdown",
   "id": "b84791d7-0c7d-46f6-913f-d4c9c4d7400b",
   "metadata": {},
   "source": [
    "**c)**  $$ |\\mathbf{A}| = \\sqrt{9 + 36 + 4} = 7 \\quad\\quad\\text{and}\\quad\\quad \\mathrm{dir }\\mathbf{A} = \\frac{\\langle 3,-6,-2\\rangle}{7}$$"
   ]
  },
  {
   "cell_type": "markdown",
   "id": "493a2db5-4371-4b3e-a8f7-4793a1a28c1f",
   "metadata": {},
   "source": [
    "2.  $$ \\sqrt{\\frac{2}{25} + c^2} = 1$$"
   ]
  },
  {
   "cell_type": "markdown",
   "id": "a3bcf450-6b3c-47eb-92d2-5160593ca33b",
   "metadata": {},
   "source": [
    "$$ c^2 = 1 - \\frac{2}{25} = \\frac{23}{25}$$"
   ]
  },
  {
   "cell_type": "markdown",
   "id": "c054c5b0-81d5-4e68-8723-cfb644785188",
   "metadata": {},
   "source": [
    "$$ c = \\pm \\frac{\\sqrt{23}}{5}$$"
   ]
  },
  {
   "cell_type": "markdown",
   "id": "639e7cd2-41e0-4e9a-b900-53600f3b819f",
   "metadata": {},
   "source": [
    "3. \n",
    "**a)** Assuming $\\mathbf{A}=PQ$ means $\\mathbf{A}=\\overrightarrow{PQ} = \\langle -1,-2, 2\\rangle$,  \n",
    "\n",
    "$$|\\mathbf{A}| = 3 \\quad\\quad \\text{and}\\quad\\quad \\mathrm{dir }\\mathbf{A} = \\frac{\\langle -1,-2,2\\rangle}{3} $$"
   ]
  },
  {
   "cell_type": "markdown",
   "id": "896c68b9-ef1a-46fa-bdf4-4347d1772abc",
   "metadata": {},
   "source": [
    "**b)**  $$ \\mathbf{A} = 2\\langle 1,2,-2\\rangle $$"
   ]
  },
  {
   "cell_type": "markdown",
   "id": "6239221a-fcd3-43ca-ba62-85142851382d",
   "metadata": {},
   "source": [
    "$$ A = (-2+2, 4, 1-4) = (0,4,-3)$$"
   ]
  },
  {
   "cell_type": "markdown",
   "id": "48fc448a-8c3e-4807-871e-30ddea0f3a9c",
   "metadata": {},
   "source": [
    "4. \n",
    "\n",
    "**a)** $$ \\overrightarrow{PX} = 0.5\\overrightarrow{PQ}$$  "
   ]
  },
  {
   "cell_type": "markdown",
   "id": "2fae4c22-4c6d-410a-b2f5-53acf42a18e9",
   "metadata": {},
   "source": [
    "$$ \\overrightarrow{OP} +  \\overrightarrow{PQ} = \\overrightarrow{OQ} \\quad \\quad\\text{and}\\quad\\quad \\overrightarrow{OP} + \\overrightarrow{PX} = \\overrightarrow{OX}$$"
   ]
  },
  {
   "cell_type": "markdown",
   "id": "7ba4d4a6-69ec-4063-8b2b-d2c4844e25ad",
   "metadata": {},
   "source": [
    "Thus,  \n",
    "\n",
    "$$\\overrightarrow{OP} = \\overrightarrow{OQ} - \\overrightarrow{PQ}  \\quad\\quad\\text{and}\\quad\\quad \\overrightarrow{OP} = \\overrightarrow{OX} - \\overrightarrow{PX}$$"
   ]
  },
  {
   "cell_type": "markdown",
   "id": "c27a10cd-5291-4741-90fc-a21f10c0c8a5",
   "metadata": {},
   "source": [
    "Via the above two equations and equivalence principle,  \n",
    "\n",
    "$$ \\overrightarrow{OX} = \\overrightarrow{PX} + \\overrightarrow{OQ} - \\overrightarrow{PQ}$$"
   ]
  },
  {
   "cell_type": "markdown",
   "id": "15692da4-be3f-4db8-9d55-39d88f461001",
   "metadata": {},
   "source": [
    "$$ \\overrightarrow{OX} = \\overrightarrow{OQ} - 0.5\\overrightarrow{PQ} = \\overrightarrow{OQ} - 0.5\\big( \\overrightarrow{OQ} - \\overrightarrow{OP}\\big)$$"
   ]
  },
  {
   "cell_type": "markdown",
   "id": "53f4887b-b90b-4a6d-a8ea-d5ae4eb79fad",
   "metadata": {},
   "source": [
    "$$ = 0.5\\big(\\overrightarrow{OQ} + \\overrightarrow{OP} \\big)$$"
   ]
  },
  {
   "cell_type": "markdown",
   "id": "88730d2b-bbd4-47c9-991a-b071a64dd4ce",
   "metadata": {},
   "source": [
    "**b)**  $$ r\\overrightarrow{PX} = s\\overrightarrow{PQ} \\quad\\implies\\quad (1-s)\\overrightarrow{PX} = s\\overrightarrow{PQ}$$"
   ]
  },
  {
   "cell_type": "markdown",
   "id": "2b7577d1-cd31-4639-8e52-aa295e1825e3",
   "metadata": {},
   "source": [
    "It still holds that:  \n",
    "\n",
    "$$ \\overrightarrow{OX} = \\overrightarrow{PX} + \\overrightarrow{OQ} - \\overrightarrow{PQ}$$"
   ]
  },
  {
   "cell_type": "markdown",
   "id": "6739d854-a0ae-464a-b9cf-ea511629547e",
   "metadata": {},
   "source": [
    "$$ \\overrightarrow{OX} = \\frac{s}{1-s}\\,\\overrightarrow{PQ} + \\overrightarrow{OQ} - \\overrightarrow{PQ}$$"
   ]
  },
  {
   "cell_type": "markdown",
   "id": "25334083-6bc7-4d0f-b684-9b7951a8f993",
   "metadata": {},
   "source": [
    "$$ = \\overrightarrow{OQ} + \\overrightarrow{PQ}\\,\\left(\\frac{s}{1-s} - 1\\right) = \\overrightarrow{OQ}+ \\overrightarrow{PQ}\\,\\frac{2s -1}{1-s}$$"
   ]
  },
  {
   "cell_type": "markdown",
   "id": "1d677510-9233-49d3-a1e0-07d7ae51a8b4",
   "metadata": {},
   "source": [
    "And, it still holds that:  \n",
    "\n",
    "$$ \\overrightarrow{PQ} = \\overrightarrow{OQ} - \\overrightarrow{OP}$$"
   ]
  },
  {
   "cell_type": "markdown",
   "id": "f8c14b14-fe75-4874-a512-1f8c886cda5f",
   "metadata": {},
   "source": [
    "Thus,  \n",
    "\n",
    "$$ \\overrightarrow{OX} = \\overrightarrow{OQ} + \\big(\\overrightarrow{OQ} - \\overrightarrow{OP}\\big)\\frac{2s-1}{1-s}$$"
   ]
  },
  {
   "cell_type": "markdown",
   "id": "20629e2b-1a96-46d9-bfc2-8856bb29446a",
   "metadata": {},
   "source": [
    "5.  No, the second condition is *not* redundant because it rules out an angle or direction of $-30^\\circ$."
   ]
  },
  {
   "cell_type": "markdown",
   "id": "602bdc0e-ee1b-4673-b691-00b512388f16",
   "metadata": {},
   "source": [
    "$$ \\mathbf{A} = 3\\langle \\cos30^\\circ, \\sin30^\\circ\\rangle$$"
   ]
  },
  {
   "cell_type": "code",
   "execution_count": 1,
   "id": "573694f7-f7b6-42eb-a271-02b36a74ab9c",
   "metadata": {
    "tags": []
   },
   "outputs": [],
   "source": [
    "import numpy as np"
   ]
  },
  {
   "cell_type": "code",
   "execution_count": 7,
   "id": "b30a5e48-4373-4abf-9e1e-5d101c4388e5",
   "metadata": {
    "tags": []
   },
   "outputs": [
    {
     "data": {
      "text/plain": [
       "0.49999999999999994"
      ]
     },
     "execution_count": 7,
     "metadata": {},
     "output_type": "execute_result"
    }
   ],
   "source": [
    "np.sin(np.radians(30))"
   ]
  },
  {
   "cell_type": "code",
   "execution_count": 6,
   "id": "09091051-2918-4f1f-8a58-c2cc09e7adcf",
   "metadata": {
    "tags": []
   },
   "outputs": [
    {
     "data": {
      "text/plain": [
       "0.8660254037844386"
      ]
     },
     "execution_count": 6,
     "metadata": {},
     "output_type": "execute_result"
    }
   ],
   "source": [
    "np.sqrt(3)/2"
   ]
  },
  {
   "cell_type": "markdown",
   "id": "d055a156-e083-4bfc-a851-47137dcdc1e9",
   "metadata": {},
   "source": [
    "6.  The speed and velocity we wish for is:  \n",
    "\n",
    "$$ s'(t) = |\\mathbf{V}| = 200\\mathrm{mph} \\quad\\quad\\text{and}\\quad\\quad \\mathbf{V} = \\langle 0,200\\mathrm{mph}\\rangle$$"
   ]
  },
  {
   "cell_type": "markdown",
   "id": "4c819952-bf3f-4886-bba9-112916fb8320",
   "metadata": {},
   "source": [
    "The wind velocity vector is:  \n",
    "\n",
    "$$ \\mathbf{W} = -50\\mathrm{mph}\\langle\\cos 45^\\circ,\\sin45^\\circ\\rangle$$"
   ]
  },
  {
   "cell_type": "code",
   "execution_count": 11,
   "id": "ed73e9d7-cf80-4f5d-abe5-b7d5602cdec9",
   "metadata": {
    "tags": []
   },
   "outputs": [
    {
     "data": {
      "text/plain": [
       "0.7071067811865475"
      ]
     },
     "execution_count": 11,
     "metadata": {},
     "output_type": "execute_result"
    }
   ],
   "source": [
    "np.sin(0.25*np.pi)"
   ]
  },
  {
   "cell_type": "code",
   "execution_count": 10,
   "id": "e1c88aaf-16bf-400c-95b4-0c8a7e479a37",
   "metadata": {
    "tags": []
   },
   "outputs": [
    {
     "data": {
      "text/plain": [
       "0.7071067811865476"
      ]
     },
     "execution_count": 10,
     "metadata": {},
     "output_type": "execute_result"
    }
   ],
   "source": [
    "np.sqrt(2)/2"
   ]
  },
  {
   "cell_type": "markdown",
   "id": "0f9db2eb-b66b-4719-9f88-f8387325923f",
   "metadata": {},
   "source": [
    "The vector velocity that the plane should travel in, denoted by $\\mathbf{U}$, is given by:  \n",
    "\n",
    "$$ \\mathbf{V} = \\mathbf{W} + \\mathbf{U} \\quad\\implies\\quad \\mathbf{U} = \\mathbf{V} - \\mathbf{W}$$"
   ]
  },
  {
   "cell_type": "markdown",
   "id": "25968ce0-0a50-4757-9838-e80b9cd45a30",
   "metadata": {},
   "source": [
    "$$ \\mathbf{U} = \\langle 50\\cos45^\\circ\\,\\mathrm{mph}, 250\\sin45^\\circ\\,\\mathrm{mph}\\rangle$$"
   ]
  },
  {
   "cell_type": "markdown",
   "id": "23009880-2c43-4282-8ec0-227b2ce92fa2",
   "metadata": {},
   "source": [
    "$$ = \\frac{50}{\\sqrt{2}}\\,\\mathrm{mph}\\,\\langle 1, 5\\rangle$$"
   ]
  },
  {
   "cell_type": "markdown",
   "id": "52977171-7295-4e3c-8e49-9ac61ad6b0b2",
   "metadata": {},
   "source": [
    "7.  \n",
    "\n",
    "**a)**  $$ \\mathbf{A}' = \\langle b, -a\\rangle$$"
   ]
  },
  {
   "cell_type": "markdown",
   "id": "0d2b4892-ff35-4c42-b5ff-20b8bb8da5a2",
   "metadata": {},
   "source": [
    "**b)**  $$ \\mathbf{A}'' = \\langle -b, a\\rangle$$"
   ]
  },
  {
   "cell_type": "markdown",
   "id": "dd539ead-d472-49b2-b19d-7871b93e3fc5",
   "metadata": {},
   "source": [
    "**c)**  $$ \\mathbf{i}' = \\frac{\\langle 3,4\\rangle}{5} \\quad\\quad\\text{and}\\quad\\quad |\\mathbf{i}'| = \\frac{\\sqrt{9+16}}{5} = 1$$"
   ]
  },
  {
   "cell_type": "markdown",
   "id": "02ee8313-18dd-4d9b-8443-13ad1a9aab56",
   "metadata": {},
   "source": [
    "Whereas $|\\mathbf{i}'|=1$ therefore $\\mathbf{i}'$ is a unit vector.  We need to find $\\mathbf{j}'$ such that $\\mathbf{j}'$ is equal to $\\mathbf{i}'$ rotated counterclockwise by $90^\\circ$.  \n",
    "\n",
    "$$ \\mathbf{j}' = \\frac{\\langle -4,3\\rangle}{5}$$"
   ]
  },
  {
   "cell_type": "markdown",
   "id": "83f3c405-5a3c-4e15-bdcb-483f7c5292ad",
   "metadata": {},
   "source": [
    "8. \n",
    "\n",
    "**a)**  "
   ]
  },
  {
   "cell_type": "markdown",
   "id": "9ac5f586-2cb6-45d2-a736-bae0553994ef",
   "metadata": {},
   "source": [
    "$$ \\mathbf{A}\\cdot \\mathbf{i} = |\\mathbf{A}|\\cos\\alpha = a\\quad\\quad \\mathbf{A}\\cdot\\mathbf{j} = |\\mathbf{A}|\\cos\\beta = b \\quad\\quad \\mathbf{A}\\cdot\\mathbf{k} = |\\mathbf{A}|\\cos\\gamma = c$$"
   ]
  },
  {
   "cell_type": "markdown",
   "id": "e112efa6-3a72-4da9-9421-3cff6d1a2b37",
   "metadata": {},
   "source": [
    "$$ \\mathrm{dir}\\,\\mathbf{A} = \\frac{\\mathbf{A}}{|\\mathbf{A}|} = \\frac{|\\mathbf{A}|\\langle \\cos\\alpha ,\\cos\\beta,\\cos\\gamma\\rangle}{|\\mathbf{A}|} = \\langle \\cos\\alpha,\\cos\\beta,\\cos\\gamma\\rangle$$"
   ]
  },
  {
   "cell_type": "markdown",
   "id": "94bfe5f0-70fc-4d93-9c09-280eb27c8f6d",
   "metadata": {},
   "source": [
    "**b)**  $$ |\\mathbf{A}| = 3 $$"
   ]
  },
  {
   "cell_type": "markdown",
   "id": "82d834c0-1d8e-4a07-bee8-87a28e75c353",
   "metadata": {},
   "source": [
    "$$ \\cos\\alpha = -\\frac{1}{3}\\quad\\quad \\cos\\beta = \\frac{2}{3} \\quad\\quad \\cos\\gamma = \\frac{2}{3}$$"
   ]
  },
  {
   "cell_type": "markdown",
   "id": "cf8798ad-c01f-4bc4-9439-fc94be80591f",
   "metadata": {},
   "source": [
    "**c)**  $$ \\mathrm{dir}\\,\\mathbf{A} = \\langle\\cos\\alpha,\\cos\\beta,\\cos\\gamma\\rangle \\quad\\quad \\text{and}\\quad\\quad|\\mathrm{dir}\\,\\mathbf{A}| = 1 = \\sqrt{\\cos^2\\alpha + \\cos^2\\beta + \\cos^2\\gamma}$$"
   ]
  },
  {
   "cell_type": "markdown",
   "id": "925bced9-ff00-46e3-b878-8134cbe8c0ca",
   "metadata": {},
   "source": [
    "Squaring both sides gives:  \n",
    "\n",
    "$$ \\cos^2\\alpha + \\cos^2\\beta + \\cos^2\\gamma = 1$$"
   ]
  },
  {
   "cell_type": "markdown",
   "id": "54975936-f847-4138-a476-342a80bd8c59",
   "metadata": {},
   "source": [
    "**1A-9**.  Let $\\overline{OAB}$ be our triangle and $\\overrightarrow{OA}:=\\mathbf{A}$ and $\\overrightarrow{OB}:=\\mathbf{B}$.  Now let:  \n",
    "\n",
    "$$ \\mathbf{M}_A := 0.5\\mathbf{A} \\quad\\quad\\text{and}\\quad\\quad \\mathbf{M}_B := 0.5\\mathbf{B}$$"
   ]
  },
  {
   "cell_type": "markdown",
   "id": "1bb0ed41-daa9-41ec-9a5e-bbc1d913e3a2",
   "metadata": {},
   "source": [
    "Here, $M_A$ and $M_B$ are the two midpoints being connected.  \n",
    "\n",
    "$$ |\\overline{M_AM_B}| = |\\overrightarrow{M_AM_B}|$$"
   ]
  },
  {
   "cell_type": "markdown",
   "id": "339a3dde-7fad-445b-9812-8f514435d405",
   "metadata": {},
   "source": [
    "$$ \\mathbf{M}_A + \\overrightarrow{M_AM_B} = \\mathbf{M}_B $$"
   ]
  },
  {
   "cell_type": "markdown",
   "id": "dc3a71c9-90e5-404a-92c2-eca23be6eece",
   "metadata": {},
   "source": [
    "$$ \\overrightarrow{M_AM_B} \\parallel \\overrightarrow{AB} \\;\\iff\\; \\overrightarrow{M_AM_B}\\cdot\\overrightarrow{AB} = \\pm|\\overrightarrow{M_AM_B}||\\overrightarrow{AB}|$$"
   ]
  },
  {
   "cell_type": "markdown",
   "id": "e5dd4de9-372b-405d-baf2-0d6f0735847b",
   "metadata": {},
   "source": [
    "$$ \\overrightarrow{M_AM_B} = \\mathbf{M}_B - \\mathbf{M}_A = 0.5\\big(\\mathbf{B} - \\mathbf{A}\\big)$$"
   ]
  },
  {
   "cell_type": "markdown",
   "id": "4cc7b2a6-b1dd-40af-955d-6bee5ed3844d",
   "metadata": {},
   "source": [
    "$$ \\overrightarrow{AB} = \\mathbf{B} - \\mathbf{A}$$"
   ]
  },
  {
   "cell_type": "markdown",
   "id": "3f165dc6-3686-4c81-9d2e-ba9ffffc0e38",
   "metadata": {},
   "source": [
    "Via the above two equations and equivalence principle,  \n",
    "\n",
    "$$ \\overrightarrow{M_AM_B} = 0.5\\overrightarrow{AB} \\;\\therefore |\\overrightarrow{M_AM_B}| = 0.5|\\overrightarrow{AB}|$$"
   ]
  },
  {
   "cell_type": "markdown",
   "id": "bf3c67c9-8c55-4a68-bd53-e16893b96dbe",
   "metadata": {},
   "source": [
    "Which implies that $\\overrightarrow{M_AM_B} \\parallel \\overrightarrow{AB}$ and therefore, $\\overline{M_AM_B}\\parallel\\overline{AB}$.  "
   ]
  },
  {
   "cell_type": "markdown",
   "id": "26f21084-41db-43bd-b626-2264039bf487",
   "metadata": {},
   "source": [
    "**1A-10**:  "
   ]
  },
  {
   "cell_type": "markdown",
   "id": "da26335e-5d58-4a42-bcdd-6067d34d59c7",
   "metadata": {},
   "source": [
    "Let $\\overline{RQPS}$ be our space quadrilateral and $A$, $B$, $C$, and $D$ be the midpoints of each edge (side).  To ellaborate, let $A$ be the midpoint of $\\overline{RQ}$; $B$: $\\overline{QP}$; $C$: $\\overline{PS}$; and $D$: $\\overline{SR}$.  It now follows that:  "
   ]
  },
  {
   "cell_type": "markdown",
   "id": "ca57351d-66dd-4b6b-a4ea-54c5a2e47acc",
   "metadata": {},
   "source": [
    "$$ \\overrightarrow{RA}  = 0.5\\overrightarrow{RQ} \\quad\\quad \\overrightarrow{QB} = 0.5\\overrightarrow{QP}\\quad\\quad \\overrightarrow{PC} = 0.5\\overrightarrow{PS} \\quad\\quad \\overrightarrow{SD} = 0.5\\overrightarrow{SR}$$"
   ]
  },
  {
   "cell_type": "markdown",
   "id": "ccf0cf5d-e4b3-4918-9345-c783836664d2",
   "metadata": {},
   "source": [
    "and  \n",
    "\n",
    "\\begin{equation}\\tag{10.1}\n",
    "    \\overrightarrow{RQ} + \\overrightarrow{QP} + \\overrightarrow{PS} + \\overrightarrow{SR} = 0\n",
    "\\end{equation}"
   ]
  },
  {
   "cell_type": "markdown",
   "id": "73957ae2-5a33-478c-8cef-89732589b69b",
   "metadata": {},
   "source": [
    "Moreover,  \n",
    "\n",
    "\\begin{equation}\\tag{10.2}\n",
    "    \\overrightarrow{AB} = \\overrightarrow{AQ} + \\overrightarrow{QB} = 0.5\\overrightarrow{RQ} + 0.5\\overrightarrow{QP} = 0.5\\big(\\overrightarrow{RQ} + \\overrightarrow{QP}\\big)\n",
    "\\end{equation}"
   ]
  },
  {
   "cell_type": "markdown",
   "id": "b57c19ad-0ed4-418d-8db4-16811c8e5177",
   "metadata": {},
   "source": [
    "\\begin{equation}\\tag{10.3}\n",
    "    \\overrightarrow{BC} = \\overrightarrow{BP} + \\overrightarrow{PC} = 0.5\\big(\\overrightarrow{QP} + \\overrightarrow{PS}\\big)\n",
    "\\end{equation}"
   ]
  },
  {
   "cell_type": "markdown",
   "id": "ead60548-abd6-4b84-bae3-e6cc472e9f12",
   "metadata": {},
   "source": [
    "\\begin{equation}\\tag{10.4}\n",
    "    \\overrightarrow{CD} = \\overrightarrow{CS} + \\overrightarrow{SD} = 0.5\\big(\\overrightarrow{PS} + \\overrightarrow{SR}\\big)\n",
    "\\end{equation}"
   ]
  },
  {
   "cell_type": "markdown",
   "id": "db5ee757-d890-47b3-bad7-4efe97c5b5f4",
   "metadata": {},
   "source": [
    "\\begin{equation}\\tag{10.5}\n",
    "    \\overrightarrow{DA} = \\overrightarrow{DR} + \\overrightarrow{RA} = 0.5\\big(\\overrightarrow{SR} + \\overrightarrow{RQ}\\big)\n",
    "\\end{equation}"
   ]
  },
  {
   "cell_type": "markdown",
   "id": "f6cc9ea0-403f-46e0-b1f9-756c56767627",
   "metadata": {},
   "source": [
    "Via equations (10.1), (10.2), and (10.4),  \n",
    "\n",
    "$$ \\overrightarrow{AB} = -\\overrightarrow{CD} $$"
   ]
  },
  {
   "cell_type": "markdown",
   "id": "e317b995-df29-44ad-99da-8b3d7943eb5a",
   "metadata": {},
   "source": [
    "And, via equations (10.1), (10.3), and (10.5),  \n",
    "\n",
    "$$ \\overrightarrow{BC} = - \\overrightarrow{DA} $$"
   ]
  },
  {
   "cell_type": "markdown",
   "id": "ad339117-8495-4107-9025-b05ad4b5a60e",
   "metadata": {},
   "source": [
    "Whereas the above two equations, therefore the midpoint form a parallelogram."
   ]
  },
  {
   "cell_type": "markdown",
   "id": "ad063c39-7e48-4b9b-9f9a-8b823c05a746",
   "metadata": {},
   "source": [
    "**1A-11**:  Suppose there exists a parallelogram $\\overline{OACB}$, where $O$ is at origin.  It follows that:  \n",
    "\n",
    "$$ \\mathbf{A} + \\mathbf{B} = \\mathbf{C} \\quad\\quad\\text{and}\\quad\\quad \\mathbf{B} + \\overrightarrow{BA} = \\mathbf{A}$$"
   ]
  },
  {
   "cell_type": "markdown",
   "id": "e57d4b17-3241-49b3-b554-b11af9e2bdde",
   "metadata": {},
   "source": [
    "Here, we must show that the diagonals $\\mathbf{C}$ and $\\overrightarrow{BA}$ bisect each other.  To do this, first let $X$ denote the midpoint of $\\mathbf{C}$ and $Y$ denote the midpoint of $\\overrightarrow{BA}$.  The two diagonals bisect each other if and only if $X=Y$.  \n",
    "\n",
    "$$ X=Y \\;\\iff\\; \\mathbf{X} = \\overrightarrow{BY} + \\mathbf{B}$$"
   ]
  },
  {
   "cell_type": "markdown",
   "id": "f989eabb-6d24-4901-8c64-1101ad7e01b1",
   "metadata": {},
   "source": [
    "$$ \\mathbf{X} = 0.5\\mathbf{C} = 0.5\\big(\\mathbf{A}+\\mathbf{B}\\big) \\quad\\quad\\text{and}\\quad\\quad \\overrightarrow{BY} = 0.5\\overrightarrow{BA} = 0.5\\big(\\mathbf{A}-\\mathbf{B}\\big)$$"
   ]
  },
  {
   "cell_type": "markdown",
   "id": "06132ffd-37ef-46a2-a092-1c472b7d0fd2",
   "metadata": {},
   "source": [
    "Thus,  \n",
    "\n",
    "$$ X=Y\\;\\iff\\; 0.5\\big(\\mathbf{A}+\\mathbf{B}\\big) = 0.5\\big(\\mathbf{A}-\\mathbf{B}\\big) + \\mathbf{B}$$"
   ]
  },
  {
   "cell_type": "markdown",
   "id": "f8dc2015-3750-4b90-9bca-14fea3838492",
   "metadata": {},
   "source": [
    "$$ \\implies\\; \\mathbf{B} = \\mathbf{B}\\;\\therefore\\; X=Y\\;\\iff\\; \\mathbf{B}=\\mathbf{B} \\;\\therefore\\; X=Y$$"
   ]
  },
  {
   "cell_type": "markdown",
   "id": "3a3ed501-47c2-4cf8-8364-20c2ecd75234",
   "metadata": {},
   "source": [
    "Whereas $X=Y$ therefore the two diagonals bisect each other.  Q.E.D."
   ]
  },
  {
   "cell_type": "markdown",
   "id": "adf37e40-6a54-4b50-b94f-ae04d0e1790d",
   "metadata": {},
   "source": [
    "**1A-12:**  Let \n",
    "\n",
    "$$\\overrightarrow{OP} = \\mathbf{P} \\quad\\quad \\text{and}\\quad\\quad \\overrightarrow{OR} = \\mathbf{R} $$"
   ]
  },
  {
   "cell_type": "markdown",
   "id": "dcd53049-2694-4468-833f-6119c858093b",
   "metadata": {},
   "source": [
    "It now follows that:  \n",
    "\n",
    "$$ \\mathbf{P} + \\mathbf{R} = \\overrightarrow{OQ} = \\mathbf{Q} \\quad\\quad\\text{and}\\quad\\quad \\mathbf{R} + \\overrightarrow{RP} = \\mathbf{P}$$"
   ]
  },
  {
   "cell_type": "markdown",
   "id": "b0b33a31-d4c9-4c03-8ca5-900d96b968f3",
   "metadata": {},
   "source": [
    "Here, $\\mathbf{Q}$ and $\\overrightarrow{RP}$ are the diagonals of the parallelogram."
   ]
  },
  {
   "cell_type": "markdown",
   "id": "f0c43c30-ff36-43ef-87df-77d54d2b96b1",
   "metadata": {},
   "source": [
    "And that:  \n",
    "\n",
    "$$ \\overrightarrow{PQ} = \\mathbf{R}$$"
   ]
  },
  {
   "cell_type": "markdown",
   "id": "e633e4b4-eeef-4667-b155-95366676552c",
   "metadata": {},
   "source": [
    "Now, let $M$ denote the midpoint of $\\overline{PQ}$.  \n",
    "\n",
    "$$ \\mathbf{P}+\\overrightarrow{PM} = \\overrightarrow{OM} = \\mathbf{M} \\quad\\quad\\text{where }\\overrightarrow{PM} = 0.5\\mathbf{R}$$"
   ]
  },
  {
   "cell_type": "markdown",
   "id": "dfb82f90-e80a-4259-b541-19cf1fcd81a7",
   "metadata": {},
   "source": [
    "Thus,  \n",
    "\n",
    "$$ \\mathbf{P} + 0.5\\mathbf{R} = \\mathbf{M}$$"
   ]
  },
  {
   "cell_type": "markdown",
   "id": "008901c3-3a4d-483c-8069-4f992bd2a9d1",
   "metadata": {},
   "source": [
    "The proposition is that $\\mathbf{M}$ intersects $\\overline{RP}$ at a point $X$ such that:  \n",
    "\n",
    "$$ \\overrightarrow{PX} = \\frac{1}{3}\\overrightarrow{PR} = -\\frac{1}{3}\\overrightarrow{RP} = \\frac{1}{3}\\,\\big(\\mathbf{R}-\\mathbf{P}\\big)$$"
   ]
  },
  {
   "cell_type": "markdown",
   "id": "01eb0ecf-de97-48b4-aa6e-073465b01f03",
   "metadata": {},
   "source": [
    "We can prove this by showing that there exists a real number $K$ such that:  \n",
    "\n",
    "$$ \\mathbf{P} + \\overrightarrow{PX} = K\\mathbf{M} \\quad\\quad\\text{where }K\\in\\mathbb{R}$$"
   ]
  },
  {
   "cell_type": "markdown",
   "id": "7a935eee-579e-47d6-9000-31b97311b75c",
   "metadata": {},
   "source": [
    "$$ \\mathbf{P} + \\frac{1}{3}\\mathbf{R} - \\frac{1}{3}\\mathbf{P} = \\frac{2\\mathbf{P}+\\mathbf{R}}{3} = K\\big(\\mathbf{P} + 0.5\\mathbf{R}\\big)$$"
   ]
  },
  {
   "cell_type": "markdown",
   "id": "7e496ee6-0344-4dc1-bec1-a673125a0a50",
   "metadata": {},
   "source": [
    "$$ 2\\mathbf{P} + \\mathbf{R} = 3K\\big(\\mathbf{P} + 0.5\\mathbf{R}\\big)$$"
   ]
  },
  {
   "cell_type": "markdown",
   "id": "132d2f5e-edba-4023-bc73-042c2aaf923e",
   "metadata": {},
   "source": [
    "$$ 3K\\mathbf{P} = 2\\mathbf{P} \\quad\\implies \\quad K = \\frac{2}{3}$$"
   ]
  },
  {
   "cell_type": "markdown",
   "id": "754cab6b-bbad-4867-a80c-70ed5bb8f87c",
   "metadata": {},
   "source": [
    "$$ \\frac{3}{2}K\\mathbf{R} = \\mathbf{R}\\quad\\implies\\quad K = \\frac{2}{3}$$"
   ]
  },
  {
   "cell_type": "markdown",
   "id": "d67ce39d-fe0f-41a2-81f5-10a7b5e54f71",
   "metadata": {},
   "source": [
    "Thus,  \n",
    "\n",
    "$$ \\exists K\\in\\mathbb{R} \\;:\\;\\mathbf{P} + \\overrightarrow{PX} = K\\mathbf{M}$$"
   ]
  },
  {
   "cell_type": "markdown",
   "id": "ff51aed4-e0b3-42c0-974b-e6d95e4092a3",
   "metadata": {},
   "source": [
    "And, therefore the proposition.  Q.E.D."
   ]
  },
  {
   "cell_type": "markdown",
   "id": "777f7175-b8ab-4ef1-8d4f-ca0aa00312a0",
   "metadata": {},
   "source": [
    "### 1B. Dot Product\n",
    "\n",
    "**1B-1**:  a)  $$\\cos\\theta = \\frac{1}{\\sqrt{2}} \\quad\\implies\\quad \\theta = 45^\\circ$$"
   ]
  },
  {
   "cell_type": "markdown",
   "id": "27aab65d-ed4d-42f5-bade-4e79428690ae",
   "metadata": {},
   "source": [
    "b)  \n",
    "\n",
    "$$ \\cos\\theta = \\frac{3}{6} = 0.5 $$"
   ]
  },
  {
   "cell_type": "code",
   "execution_count": 2,
   "id": "a04240be-b9e5-404b-8af5-14ec87deb742",
   "metadata": {
    "tags": []
   },
   "outputs": [],
   "source": [
    "import numpy as np"
   ]
  },
  {
   "cell_type": "code",
   "execution_count": 4,
   "id": "1c5b8f78-ac32-4fcd-ac26-26872b80a03d",
   "metadata": {
    "tags": []
   },
   "outputs": [
    {
     "data": {
      "text/plain": [
       "60.00000000000001"
      ]
     },
     "execution_count": 4,
     "metadata": {},
     "output_type": "execute_result"
    }
   ],
   "source": [
    "theta = np.arccos(0.5)\n",
    "np.degrees(theta)"
   ]
  },
  {
   "cell_type": "markdown",
   "id": "a880bd43-d1aa-4ea1-a237-98255879c95c",
   "metadata": {},
   "source": [
    "**1B-2**:  a)  $$ c=4$$  \n",
    "\n",
    "b)  $$ c\\ge 4$$"
   ]
  },
  {
   "cell_type": "markdown",
   "id": "b6558194-b11f-46ab-b9f6-1268e74e2f70",
   "metadata": {},
   "source": [
    "**1B-3**:  Assuming a unit cube,  **a)**  $$ \\cos\\theta = \\frac{2}{\\sqrt{6}} = \\sqrt{\\frac{2}{3}}$$"
   ]
  },
  {
   "cell_type": "code",
   "execution_count": 5,
   "id": "947c1b37-cda0-4cd8-a761-2be73f11711c",
   "metadata": {
    "tags": []
   },
   "outputs": [
    {
     "data": {
      "text/plain": [
       "35.264389682754654"
      ]
     },
     "execution_count": 5,
     "metadata": {},
     "output_type": "execute_result"
    }
   ],
   "source": [
    "np.degrees(np.arccos(np.sqrt(2/3)))"
   ]
  },
  {
   "cell_type": "markdown",
   "id": "72143e74-8228-49e1-95b7-2726b92fbcd2",
   "metadata": {},
   "source": [
    "**b)**  $$ \\cos\\theta = \\frac{1}{\\sqrt{3}}$$"
   ]
  },
  {
   "cell_type": "code",
   "execution_count": 6,
   "id": "abd9efc1-a3aa-42fe-8193-8c9143989b9d",
   "metadata": {
    "tags": []
   },
   "outputs": [
    {
     "data": {
      "text/plain": [
       "54.735610317245346"
      ]
     },
     "execution_count": 6,
     "metadata": {},
     "output_type": "execute_result"
    }
   ],
   "source": [
    "np.degrees(np.arccos(1/np.sqrt(3)))"
   ]
  },
  {
   "cell_type": "markdown",
   "id": "5064fdf0-34a5-472a-9645-c589eb7d50cb",
   "metadata": {},
   "source": [
    "**1B-4**:  a)  $$ \\langle a, 0, -2\\rangle\\cdot\\langle a,-2,2\\rangle = 0$$"
   ]
  },
  {
   "cell_type": "markdown",
   "id": "5b43aff0-cd07-4437-8ae6-0ccfdd587a0d",
   "metadata": {},
   "source": [
    "$$ a^2 = 4 \\quad\\implies\\quad a = \\pm 2$$"
   ]
  },
  {
   "cell_type": "markdown",
   "id": "65ddcd78-64c4-4230-8932-d8ab3c2fa648",
   "metadata": {},
   "source": [
    "**b)**  $$ a^2 \\ge 4 \\quad\\implies\\quad |a| \\ge 2$$"
   ]
  },
  {
   "cell_type": "markdown",
   "id": "d8a310e1-985c-45d7-aebf-ca2b309b1109",
   "metadata": {},
   "source": [
    "**1B-5**:  a)  \n",
    "\n",
    "$$ \\frac{-1}{\\sqrt{3}}$$"
   ]
  },
  {
   "cell_type": "markdown",
   "id": "6219419e-0386-4c88-a84b-f5ac8bc31c7b",
   "metadata": {},
   "source": [
    "**b)**  $$ \\frac{-4}{7}$$"
   ]
  },
  {
   "cell_type": "markdown",
   "id": "399f48e6-942c-4dbb-b97a-152a45966ff6",
   "metadata": {},
   "source": [
    "**1B-6**: $$ \\mathbf{P}\\cdot\\mathbf{u} = |\\mathbf{P}|\\cos\\theta=c|\\mathbf{P}|$$ "
   ]
  },
  {
   "cell_type": "markdown",
   "id": "5d9a4b34-212d-4bc5-b4ee-64168296cae9",
   "metadata": {},
   "source": [
    "$$ c = \\cos\\theta$$"
   ]
  },
  {
   "cell_type": "markdown",
   "id": "9a03c87c-fbac-4758-b77d-a3d7e05ca18f",
   "metadata": {},
   "source": [
    "**a)**  $c=0$  \n",
    "\n",
    "**b)** $c=\\pm 1$  \n",
    "\n",
    "**c)** $|c| > 1$"
   ]
  },
  {
   "cell_type": "markdown",
   "id": "dd657be7-42db-4787-a889-4f330b6672cf",
   "metadata": {},
   "source": [
    "**1B-7** a) $$ \\mathbf{i}'\\cdot\\mathbf{j}' = 0 \\;\\therefore\\; \\mathbf{i}'\\perp\\mathbf{j}'$$"
   ]
  },
  {
   "cell_type": "markdown",
   "id": "99d6f603-2ece-4ea3-b10f-10c9204d501c",
   "metadata": {},
   "source": [
    "$$  |\\mathbf{i}'| = |\\mathbf{j}'| = \\frac{\\sqrt{1+1}}{\\sqrt{2}} = 1 \\;\\therefore\\;\\text{both are unit vectors.}$$"
   ]
  },
  {
   "cell_type": "markdown",
   "id": "d49ea80f-8ab0-4323-be52-0056d8a43925",
   "metadata": {},
   "source": [
    "**b)**  \n",
    "\n",
    "$$ \\mathbf{A} = \\big(\\mathbf{A}\\cdot\\mathbf{i}'\\big)\\mathbf{i}' + \\big(\\mathbf{A}\\cdot \\mathbf{j}'\\big)\\mathbf{j}'$$"
   ]
  },
  {
   "cell_type": "markdown",
   "id": "6bfb6cf6-6b8d-490a-8364-5ed509763cf2",
   "metadata": {},
   "source": [
    "$$ = \\frac{1}{\\sqrt{2}}\\,\\big(-\\mathbf{i}' - 5\\mathbf{j}'\\big)$$"
   ]
  },
  {
   "cell_type": "markdown",
   "id": "63dde186-74bc-4b33-818c-13c53dc9a42b",
   "metadata": {},
   "source": [
    "**c)**  \n",
    "\n",
    "\\begin{equation}\\tag{1B.7.1}\n",
    "    \\mathbf{i} = \\sqrt{2}\\mathbf{i}' - \\mathbf{j}\n",
    "\\end{equation}"
   ]
  },
  {
   "cell_type": "markdown",
   "id": "6b23b0ba-0578-4aca-9101-e5d6b7f2fc0c",
   "metadata": {},
   "source": [
    "$$ \\sqrt{2}\\mathbf{j}' = 2\\mathbf{j} - \\sqrt{2}\\mathbf{i}'$$"
   ]
  },
  {
   "cell_type": "markdown",
   "id": "77e8419c-2944-4125-9f82-2273b2277834",
   "metadata": {},
   "source": [
    "$$ \\sqrt{2}\\mathbf{j} = \\mathbf{i}' + \\mathbf{j}'$$"
   ]
  },
  {
   "cell_type": "markdown",
   "id": "52057df4-bd9e-47a5-b6ac-8c3b34aa7d0f",
   "metadata": {},
   "source": [
    "$$ \\mathbf{i} = \\sqrt{2}\\mathbf{i}' - \\frac{\\mathbf{i}' + \\mathbf{j}'}{\\sqrt{2}} = \\frac{\\mathbf{i}' - \\mathbf{j}'}{\\sqrt{2}}$$"
   ]
  },
  {
   "cell_type": "markdown",
   "id": "4d02038f-1007-4fb2-a273-95687c937745",
   "metadata": {},
   "source": [
    "Thus,  \n",
    "\n",
    "$$ \\mathbf{A} = \\sqrt{2}\\big(\\mathbf{i}'-\\mathbf{j}'\\big) - 3\\frac{\\mathbf{i}' + \\mathbf{j}'}{\\sqrt{2}}$$"
   ]
  },
  {
   "cell_type": "markdown",
   "id": "b3cc0f40-1457-4fbb-a344-29a33efbc2d7",
   "metadata": {},
   "source": [
    "$$ = \\frac{1}{\\sqrt{2}}\\,\\big(-\\mathbf{i}' -5\\mathbf{j}'\\big)$$"
   ]
  },
  {
   "cell_type": "markdown",
   "id": "274caaae-e646-4d97-8335-5124dd486ac6",
   "metadata": {},
   "source": [
    "**1B-8**:  b)  \n",
    "\n",
    "$$ \\mathbf{A} = \\frac{3}{\\sqrt{3}}\\mathbf{i}' + \\frac{0}{\\sqrt{2}}\\mathbf{j}' + \\frac{2}{\\sqrt{6}}\\mathbf{k}' = \\sqrt{3}\\mathbf{i}' + \\sqrt{\\frac{2}{3}}\\mathbf{k}'$$"
   ]
  },
  {
   "cell_type": "markdown",
   "id": "d317d599-0fd7-45b0-9599-2648cffd3313",
   "metadata": {},
   "source": [
    "**1B-9**:  Let $\\mathbf{A}:=\\langle a_1, a_2\\rangle$ and $\\mathbf{A}':=\\langle -a_2, a_1\\rangle$.  \n",
    "\n",
    "$$ \\mathbf{A}' \\perp \\mathbf{A} \\quad\\quad\\text{and}\\quad\\quad \\mathbf{B} = \\left(\\mathbf{B}\\cdot\\frac{\\mathbf{A}}{|\\mathbf{A}|}\\right)\\mathbf{A} + \\left(\\mathbf{B}\\cdot\\frac{\\mathbf{A}'}{|\\mathbf{A}|}\\right)\\mathbf{A}'$$"
   ]
  },
  {
   "cell_type": "markdown",
   "id": "40b3949d-bcfd-4985-a11b-2f3001d77b75",
   "metadata": {},
   "source": [
    "**1B-10**:  Suppose there exists a parallogram spanned by the vectors $\\mathbf{A}$ and $\\mathbf{B}$.  The parallelogram is a rectangle (or square) if and only if $\\mathbf{A}\\cdot\\mathbf{B} = 0$.  Thus, we can prove the proposition by proving that:  \n",
    "\n",
    "$$ \\mathbf{A}\\cdot\\mathbf{B}=0 \\;\\iff\\; |\\mathbf{C}| = |\\overrightarrow{AB}| \\quad\\quad\\text{where }\\mathbf{C} = \\mathbf{A} + \\mathbf{B}$$"
   ]
  },
  {
   "cell_type": "markdown",
   "id": "3b5e8e85-b2f9-4179-8a89-a827964e980c",
   "metadata": {},
   "source": [
    "$$ \\overrightarrow{AB} = \\mathbf{B} - \\mathbf{A}$$"
   ]
  },
  {
   "cell_type": "markdown",
   "id": "4b6ec592-78eb-42a9-b30f-c283079139f7",
   "metadata": {},
   "source": [
    "Via the law of cosines,  \n",
    "\n",
    "\\begin{equation}\\tag{1B.10.0}\n",
    "    |\\mathbf{C}|^2 = |\\mathbf{A}|^2 + |\\mathbf{B}|^2 - 2|\\mathbf{A}||\\mathbf{B}|\\cos(\\pi-\\theta)\n",
    "\\end{equation}"
   ]
  },
  {
   "cell_type": "markdown",
   "id": "563d2b6c-d00a-4e1d-a9c7-3f2078fccc37",
   "metadata": {},
   "source": [
    "where $\\theta$ is the angle between $\\mathbf{A}$ and $\\mathbf{B}$.  \n",
    "\n",
    "$$ \\mathbf{A}\\cdot\\mathbf{B} = |\\mathbf{A}||\\mathbf{B}|\\cos\\theta \\quad\\quad\\text{and}\\quad\\quad -\\mathbf{A}\\cdot\\mathbf{B} = -|\\mathbf{A}||\\mathbf{B}|\\cos\\theta = |\\mathbf{A}||\\mathbf{B}|\\cos($$"
   ]
  },
  {
   "cell_type": "markdown",
   "id": "79fa5d6a-012a-41fc-8898-fb893c88dac4",
   "metadata": {},
   "source": [
    "Via the above equation on the right and substitution,  \n",
    "\n",
    "\\begin{equation}\\tag{1B.10.1}\n",
    "    |\\mathbf{C}|^2 = |\\mathbf{A}|^2 + |\\mathbf{B}|^2 + 2\\mathbf{A}\\cdot\\mathbf{B}\n",
    "\\end{equation}"
   ]
  },
  {
   "cell_type": "markdown",
   "id": "809eb3cb-e108-44a1-b45f-f910b35a4380",
   "metadata": {},
   "source": [
    "To verify equation (1B.10.0), assume $\\mathbf{A}$ and $\\mathbf{B}$ are plane vectors.   \n",
    "\n",
    "$$ 2\\mathbf{A}\\cdot\\mathbf{B} = (a_1+b_1)^2  + (a_2+b_2)^2 - a_1^2 - a_2^2 - b_1^2 - b_2^2 = 2a_1b_1 + 2a_2b_2$$"
   ]
  },
  {
   "cell_type": "markdown",
   "id": "3a2fa64e-889e-4a77-a0d9-5b7e7e5fd340",
   "metadata": {},
   "source": [
    "And, via the law of cosines,  \n",
    "\n",
    "\\begin{align*}\\tag{1B.10.2}\n",
    "    |\\overrightarrow{AB}|^2 &= |\\mathbf{A}|^2 + |\\mathbf{B}|^2 - 2|\\mathbf{A}||\\mathbf{B}|\\cos\\theta\\\\\n",
    "     &= |\\mathbf{A}|^2 + |\\mathbf{B}|^2 - 2\\mathbf{A}\\cdot\\mathbf{B}\n",
    "\\end{align*}"
   ]
  },
  {
   "cell_type": "markdown",
   "id": "34674cf5-7dd2-4791-9c9c-8d718664bdf9",
   "metadata": {},
   "source": [
    "Via equations (1B.10.0,2) and equivalence principle,  \n",
    "\n",
    "$$ |\\overrightarrow{AB}|^2 + 2\\mathbf{A}\\cdot\\mathbf{B} = |\\mathbf{C}|^2 - 2\\mathbf{A}\\cdot\\mathbf{B}$$"
   ]
  },
  {
   "cell_type": "markdown",
   "id": "dc393244-11a7-44bb-8118-7bd588444247",
   "metadata": {},
   "source": [
    "Whereas the above equation therefore $|\\mathbf{C}| = |\\overrightarrow{AB}| \\;\\iff\\;\\mathbf{A}\\cdot\\mathbf{B}=0$.  Q.E.D."
   ]
  },
  {
   "cell_type": "markdown",
   "id": "03aeb5e6-9164-4cf1-9219-37d126aafd33",
   "metadata": {},
   "source": [
    "Let $\\overline{OACB}$ denote our parallelogram, $\\mathbf{A}:=\\overrightarrow{OA}$, and $\\mathbf{B}:=\\overrightarrow{OB}$.  \n",
    "\n",
    "$$ \\overrightarrow{AC} = \\mathbf{B} \\quad\\quad\\text{and}\\quad\\quad \\overrightarrow{CB} = \\mathbf{A}$$"
   ]
  },
  {
   "cell_type": "markdown",
   "id": "9eb4284f-e1d8-42c3-a94b-c671b37a5d2f",
   "metadata": {},
   "source": [
    "\\begin{equation}\\tag{1B.10.1}\n",
    "    \\mathbf{A}\\perp\\mathbf{B} \\;\\iff\\; \\overline{OACB}\\,\\text{is a rectangle.}\n",
    "\\end{equation}"
   ]
  },
  {
   "cell_type": "markdown",
   "id": "d9b37438-a46e-406a-b378-93366e61f88d",
   "metadata": {},
   "source": [
    "and,  \n",
    "\n",
    "\\begin{equation}\\tag{1B.10.2}\n",
    "     \\overrightarrow{BC}\\perp\\mathbf{B} \\;\\iff\\; \\mathbf{A}\\perp\\mathbf{B} \\;\\iff\\;\\overline{OACB}\\text{ is a rectangle.}\n",
    "\\end{equation}"
   ]
  },
  {
   "cell_type": "markdown",
   "id": "037a490b-3cbd-4237-9e78-35aa9f9526f9",
   "metadata": {},
   "source": [
    "Via Pythagoreans theorem,  \n",
    "\n",
    "$$ |\\overline{AB}| = \\sqrt{|\\mathbf{B}|^2 + |\\mathbf{A}|^2} \\;\\iff\\; \\mathbf{A}\\perp\\mathbf{B}$$"
   ]
  },
  {
   "cell_type": "markdown",
   "id": "c0b4bd79-b1c5-479a-9c86-ffac670c599b",
   "metadata": {},
   "source": [
    "Via the above notion and notion (1B.10.1),  \n",
    "\n",
    "\\begin{equation}\\tag{1B.10.3}\n",
    "    |\\overline{AB}|=\\sqrt{|\\mathbf{A}|^2 + |\\mathbf{B}|^2} \\;\\iff\\;\\overline{OACB}\\text{ is a rectangle.}\n",
    "\\end{equation}"
   ]
  },
  {
   "cell_type": "markdown",
   "id": "b7b482f9-c622-415f-9580-9a356fae7df6",
   "metadata": {},
   "source": [
    "**1B-11**:  Suppose there exists a parallelogram spanned by the vectors $\\mathbf{A}$ and $\\mathbf{B}$.  \n",
    "\n",
    "**Proposition**:  $$ \\mathbf{C}\\perp\\overrightarrow{AB}\\;\\iff\\;|\\mathbf{A}| = |\\mathbf{B}| \\quad\\quad\\text{where }\\mathbf{C} = \\mathbf{A} + \\mathbf{B}$$"
   ]
  },
  {
   "cell_type": "markdown",
   "id": "6aa92130-9fc2-432d-b6b9-b4618dc0564c",
   "metadata": {},
   "source": [
    "**Proof**:  \n",
    "\n",
    "\\begin{equation}\\tag{1B.11.2}\n",
    "    \\mathbf{C}\\perp \\overrightarrow{AB} \\;\\iff\\; \\mathbf{C}\\cdot\\overrightarrow{AB} = 0\n",
    "\\end{equation}"
   ]
  },
  {
   "cell_type": "markdown",
   "id": "a83d802e-43f3-48e5-955f-cf88023342cd",
   "metadata": {},
   "source": [
    "$$ \\overrightarrow{AB} = \\mathbf{B}-\\mathbf{A}$$"
   ]
  },
  {
   "cell_type": "markdown",
   "id": "a6972a5d-06fa-42fd-8121-01ec0b3c386e",
   "metadata": {},
   "source": [
    "$$ \\mathbf{C}\\cdot\\overrightarrow{AB} = \\big(\\mathbf{B}-\\mathbf{A}\\big)\\cdot\\big(\\mathbf{A}+\\mathbf{B}\\big)$$"
   ]
  },
  {
   "cell_type": "markdown",
   "id": "a86583be-6e54-42df-9c15-4afdf805bd1f",
   "metadata": {},
   "source": [
    "$$ = \\mathbf{B}\\cdot\\big(\\mathbf{A}+\\mathbf{B}\\big) - \\mathbf{A}\\cdot\\big(\\mathbf{A}+\\mathbf{B}\\big)$$"
   ]
  },
  {
   "cell_type": "markdown",
   "id": "dec554cd-184c-4613-b672-93f5b95c51c1",
   "metadata": {},
   "source": [
    "$$ = \\mathbf{A}\\cdot\\mathbf{B} + |\\mathbf{B}|^2 - |\\mathbf{A}|^2 - \\mathbf{A}\\cdot\\mathbf{B} = |\\mathbf{B}|^2 - |\\mathbf{A}|^2$$"
   ]
  },
  {
   "cell_type": "markdown",
   "id": "83e48aee-492c-4643-a296-23bdb65b9e47",
   "metadata": {},
   "source": [
    "Whereas $\\mathbf{C}\\cdot\\overrightarrow{AB} = |\\mathbf{B}|^2 - |\\mathbf{A}|^2$ therefore $\\mathbf{C}\\cdot\\overrightarrow{AB}=0\\;\\iff\\; |\\mathbf{A}| = |\\mathbf{B}|$.  \n",
    "\n",
    "$$ \\mathbf{C}\\cdot\\overrightarrow{AB} = |\\mathbf{B}|^2 - |\\mathbf{A}|^2 \\;\\therefore\\; \\mathbf{C}\\cdot\\overrightarrow{AB}=0\\;\\iff\\; |\\mathbf{A}| = |\\mathbf{B}|$$"
   ]
  },
  {
   "cell_type": "markdown",
   "id": "8bb8a732-bcb4-40a2-81b5-d09b1ff0787f",
   "metadata": {},
   "source": [
    "Finally, via the notion that $\\mathbf{C}\\cdot\\overrightarrow{AB}=0\\;\\iff\\; |\\mathbf{A}| = |\\mathbf{B}|$ and notion (1B.11.2), we have our proposition.  Q.E.D."
   ]
  },
  {
   "cell_type": "code",
   "execution_count": null,
   "id": "4708e6f3-842c-427f-9a1b-fd2a8d5c8675",
   "metadata": {},
   "outputs": [],
   "source": []
  },
  {
   "cell_type": "markdown",
   "id": "d913a531-0ed0-4ccc-96e1-6dc54d996928",
   "metadata": {},
   "source": [
    "**1B-12**:  Suppose there exists a circle with a radius of $r$ resting on an $x,y$-plane, centered around origin.  Next, suppose there exists two vectors, $\\mathbf{A}$ and $\\mathbf{B}$, resting on this plane each with a tail or initial point at $\\big(x, \\sqrt{r^2-x^2}\\big)$;  $\\mathbf{A}$ has a head or terminal point at $(-r,0)$ and $\\mathbf{B}$ has a head at $(r,0)$.  It follows that $\\mathbf{A}$ and $\\mathbf{B}$ inscribe an angle in the top semicircle resting on our circle."
   ]
  },
  {
   "cell_type": "markdown",
   "id": "52936b95-302a-4c0a-b16c-db61f71c6ccd",
   "metadata": {},
   "source": [
    "$$ \\mathbf{A} = \\langle -r-x, -\\sqrt{r^2-x^2}\\rangle \\quad\\quad\\text{and}\\quad\\quad \\mathbf{B} = \\langle r - x, -\\sqrt{r^2-x^2}\\rangle$$"
   ]
  },
  {
   "cell_type": "markdown",
   "id": "225c06b8-4591-41b4-b327-c480eaa72230",
   "metadata": {},
   "source": [
    "**Proposition**:  $$ \\mathbf{A} \\perp \\mathbf{B}$$"
   ]
  },
  {
   "cell_type": "markdown",
   "id": "abf73601-ad7f-4100-bb5b-14f27ea7c2df",
   "metadata": {},
   "source": [
    "**Proof**:  \n",
    "\n",
    "\\begin{equation}\\tag{1}\n",
    "    \\mathbf{A}\\perp\\mathbf{B}\\;\\iff\\;\\mathbf{A}\\cdot\\mathbf{B} = 0\n",
    "\\end{equation}"
   ]
  },
  {
   "cell_type": "markdown",
   "id": "21f4a771-b44a-418c-8d26-8cb4e841eb5b",
   "metadata": {},
   "source": [
    "$$ \\mathbf{A}\\cdot\\mathbf{B} = (r+x)(x-r) + r^2-x^2 = -r^2 + x^2  + r^2 - x^2 = 0 $$"
   ]
  },
  {
   "cell_type": "markdown",
   "id": "6e70c53e-9ecb-40ac-8ea7-ffc8fab144b1",
   "metadata": {},
   "source": [
    "Thus, our proposition.  Q.E.D."
   ]
  },
  {
   "cell_type": "markdown",
   "id": "09e72b31-953d-4d05-ad57-70104d7da616",
   "metadata": {},
   "source": [
    "**1B-13**:  **Proposition**:  $$ \\cos(\\theta_1-\\theta_2) = \\cos\\theta_1\\cos\\theta_2 + \\sin\\theta_1\\sin\\theta_2$$"
   ]
  },
  {
   "cell_type": "markdown",
   "id": "5944b8ab-4fa4-4a24-8625-f9bfb399ca9e",
   "metadata": {},
   "source": [
    "**Proof**:  Let $\\mathbf{u}$ and $\\mathbf{v}$ be defined as:  \n",
    "\n",
    "$$ \\mathbf{u}:=\\langle \\cos\\theta_1,\\sin\\theta_1\\rangle\\quad\\quad\\text{and}\\quad\\quad \\mathbf{v}:=\\langle \\cos\\theta_2,\\sin\\theta_2\\rangle $$"
   ]
  },
  {
   "cell_type": "markdown",
   "id": "fe72a2fd-cfa1-4d76-ae1b-4362aa724b6a",
   "metadata": {},
   "source": [
    "And, let $\\theta$ denote the angle between them.  \n",
    "\n",
    "$$ \\mathbf{u}\\cdot\\mathbf{v} = \\cos\\theta =\\cos(\\theta_1-\\theta_2) \\quad\\quad\\text{and}\\quad\\quad \\mathbf{u}\\cdot\\mathbf{v} = u_1v_1 + u_2v_2 = \\cos\\theta_1\\cos\\theta_2 + \\sin\\theta_1\\sin\\theta_2$$"
   ]
  },
  {
   "cell_type": "markdown",
   "id": "a8d43c0d-6042-423b-bfb3-945ec4c12e31",
   "metadata": {},
   "source": [
    "Via the above two equations and equivalence principle we have our proposition.  Q.E.D."
   ]
  },
  {
   "cell_type": "markdown",
   "id": "607d1ded-149a-44da-b9a7-009652848f29",
   "metadata": {},
   "source": []
  }
 ],
 "metadata": {
  "kernelspec": {
   "display_name": "Python 3 (ipykernel)",
   "language": "python",
   "name": "python3"
  },
  "language_info": {
   "codemirror_mode": {
    "name": "ipython",
    "version": 3
   },
   "file_extension": ".py",
   "mimetype": "text/x-python",
   "name": "python",
   "nbconvert_exporter": "python",
   "pygments_lexer": "ipython3",
   "version": "3.10.12"
  }
 },
 "nbformat": 4,
 "nbformat_minor": 5
}
