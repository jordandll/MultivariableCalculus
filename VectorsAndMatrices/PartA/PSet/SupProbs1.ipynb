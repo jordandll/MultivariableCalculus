{
 "cells": [
  {
   "cell_type": "markdown",
   "id": "1f250cf0-fdd7-475d-94b0-648f7f55ffa9",
   "metadata": {},
   "source": [
    "# Exercises  \n",
    "\n",
    "## 1. Vectors and Matrices\n",
    "\n",
    "### 1A. Vectors  \n",
    "\n",
    "**Definition**.  A **direction** is just a unit vector.  The **direction of** $\\mathbf{A}$, denoted as '$\\mathrm{dir }\\mathbf{A}$', is defined by:  \n",
    "\n",
    "$$ \\mathrm{dir }\\mathbf{A} = \\frac{\\mathbf{A}}{|\\mathbf{A}|} \\quad\\quad \\text{where }\\mathbf{A}\\ne 0$$"
   ]
  },
  {
   "cell_type": "markdown",
   "id": "d433e4a0-8a6f-44fc-be92-b4b493adaf4f",
   "metadata": {},
   "source": [
    "It is the unit vector lying along $\\mathbf{A}$ and pointed in the same direction as $\\mathbf{A}$ (not $-\\mathbf{A}$)."
   ]
  },
  {
   "cell_type": "markdown",
   "id": "df3ab922-a010-4131-a046-4255bf30efbc",
   "metadata": {},
   "source": [
    "1. **a)**  $$ |\\mathbf{A}| = \\sqrt{3} \\quad\\quad\\text{and}\\quad\\quad \\mathrm{dir }\\mathbf{A} = \\frac{\\langle 1,1,1\\rangle}{\\sqrt{3}}$$"
   ]
  },
  {
   "cell_type": "markdown",
   "id": "19cd8de9-10d6-4f46-a62c-4e5a8fac86e3",
   "metadata": {},
   "source": [
    "**b)**  $$ |\\mathbf{A}| = \\sqrt{4 + 4 + 1} = 3 \\quad\\quad\\text{and}\\quad\\quad \\mathrm{dir }\\mathbf{A} = \\frac{\\langle 2,-1,2\\rangle}{3}$$"
   ]
  },
  {
   "cell_type": "markdown",
   "id": "b84791d7-0c7d-46f6-913f-d4c9c4d7400b",
   "metadata": {},
   "source": [
    "**c)**  $$ |\\mathbf{A}| = \\sqrt{9 + 36 + 4} = 7 \\quad\\quad\\text{and}\\quad\\quad \\mathrm{dir }\\mathbf{A} = \\frac{\\langle 3,-6,-2\\rangle}{7}$$"
   ]
  },
  {
   "cell_type": "markdown",
   "id": "493a2db5-4371-4b3e-a8f7-4793a1a28c1f",
   "metadata": {},
   "source": [
    "2.  $$ \\sqrt{\\frac{2}{25} + c^2} = 1$$"
   ]
  },
  {
   "cell_type": "markdown",
   "id": "a3bcf450-6b3c-47eb-92d2-5160593ca33b",
   "metadata": {},
   "source": [
    "$$ c^2 = 1 - \\frac{2}{25} = \\frac{23}{25}$$"
   ]
  },
  {
   "cell_type": "markdown",
   "id": "c054c5b0-81d5-4e68-8723-cfb644785188",
   "metadata": {},
   "source": [
    "$$ c = \\pm \\frac{\\sqrt{23}}{5}$$"
   ]
  },
  {
   "cell_type": "markdown",
   "id": "639e7cd2-41e0-4e9a-b900-53600f3b819f",
   "metadata": {},
   "source": [
    "3. \n",
    "**a)** Assuming $\\mathbf{A}=PQ$ means $\\mathbf{A}=\\overrightarrow{PQ} = \\langle -1,-2, 2\\rangle$,  \n",
    "\n",
    "$$|\\mathbf{A}| = 3 \\quad\\quad \\text{and}\\quad\\quad \\mathrm{dir }\\mathbf{A} = \\frac{\\langle -1,-2,2\\rangle}{3} $$"
   ]
  },
  {
   "cell_type": "markdown",
   "id": "896c68b9-ef1a-46fa-bdf4-4347d1772abc",
   "metadata": {},
   "source": [
    "**b)**  $$ \\mathbf{A} = 2\\langle 1,2,-2\\rangle $$"
   ]
  },
  {
   "cell_type": "markdown",
   "id": "6239221a-fcd3-43ca-ba62-85142851382d",
   "metadata": {},
   "source": [
    "$$ A = (-2+2, 4, 1-4) = (0,4,-3)$$"
   ]
  },
  {
   "cell_type": "markdown",
   "id": "48fc448a-8c3e-4807-871e-30ddea0f3a9c",
   "metadata": {},
   "source": [
    "4. \n",
    "\n",
    "**a)** $$ \\overrightarrow{PX} = 0.5\\overrightarrow{PQ}$$  "
   ]
  },
  {
   "cell_type": "markdown",
   "id": "2fae4c22-4c6d-410a-b2f5-53acf42a18e9",
   "metadata": {},
   "source": [
    "$$ \\overrightarrow{OP} +  \\overrightarrow{PQ} = \\overrightarrow{OQ} \\quad \\quad\\text{and}\\quad\\quad \\overrightarrow{OP} + \\overrightarrow{PX} = \\overrightarrow{OX}$$"
   ]
  },
  {
   "cell_type": "markdown",
   "id": "7ba4d4a6-69ec-4063-8b2b-d2c4844e25ad",
   "metadata": {},
   "source": [
    "Thus,  \n",
    "\n",
    "$$\\overrightarrow{OP} = \\overrightarrow{OQ} - \\overrightarrow{PQ}  \\quad\\quad\\text{and}\\quad\\quad \\overrightarrow{OP} = \\overrightarrow{OX} - \\overrightarrow{PX}$$"
   ]
  },
  {
   "cell_type": "markdown",
   "id": "c27a10cd-5291-4741-90fc-a21f10c0c8a5",
   "metadata": {},
   "source": [
    "Via the above two equations and equivalence principle,  \n",
    "\n",
    "$$ \\overrightarrow{OX} = \\overrightarrow{PX} + \\overrightarrow{OQ} - \\overrightarrow{PQ}$$"
   ]
  },
  {
   "cell_type": "markdown",
   "id": "15692da4-be3f-4db8-9d55-39d88f461001",
   "metadata": {},
   "source": [
    "$$ \\overrightarrow{OX} = \\overrightarrow{OQ} - 0.5\\overrightarrow{PQ} = \\overrightarrow{OQ} - 0.5\\big( \\overrightarrow{OQ} - \\overrightarrow{OP}\\big)$$"
   ]
  },
  {
   "cell_type": "markdown",
   "id": "53f4887b-b90b-4a6d-a8ea-d5ae4eb79fad",
   "metadata": {},
   "source": [
    "$$ = 0.5\\big(\\overrightarrow{OQ} + \\overrightarrow{OP} \\big)$$"
   ]
  },
  {
   "cell_type": "markdown",
   "id": "88730d2b-bbd4-47c9-991a-b071a64dd4ce",
   "metadata": {},
   "source": [
    "**b)**  $$ r\\overrightarrow{PX} = s\\overrightarrow{PQ} \\quad\\implies\\quad (1-s)\\overrightarrow{PX} = s\\overrightarrow{PQ}$$"
   ]
  },
  {
   "cell_type": "markdown",
   "id": "2b7577d1-cd31-4639-8e52-aa295e1825e3",
   "metadata": {},
   "source": [
    "It still holds that:  \n",
    "\n",
    "$$ \\overrightarrow{OX} = \\overrightarrow{PX} + \\overrightarrow{OQ} - \\overrightarrow{PQ}$$"
   ]
  },
  {
   "cell_type": "markdown",
   "id": "6739d854-a0ae-464a-b9cf-ea511629547e",
   "metadata": {},
   "source": [
    "$$ \\overrightarrow{OX} = \\frac{s}{1-s}\\,\\overrightarrow{PQ} + \\overrightarrow{OQ} - \\overrightarrow{PQ}$$"
   ]
  },
  {
   "cell_type": "markdown",
   "id": "25334083-6bc7-4d0f-b684-9b7951a8f993",
   "metadata": {},
   "source": [
    "$$ = \\overrightarrow{OQ} + \\overrightarrow{PQ}\\,\\left(\\frac{s}{1-s} - 1\\right) = \\overrightarrow{OQ}+ \\overrightarrow{PQ}\\,\\frac{2s -1}{1-s}$$"
   ]
  },
  {
   "cell_type": "markdown",
   "id": "1d677510-9233-49d3-a1e0-07d7ae51a8b4",
   "metadata": {},
   "source": [
    "And, it still holds that:  \n",
    "\n",
    "$$ \\overrightarrow{PQ} = \\overrightarrow{OQ} - \\overrightarrow{OP}$$"
   ]
  },
  {
   "cell_type": "markdown",
   "id": "f8c14b14-fe75-4874-a512-1f8c886cda5f",
   "metadata": {},
   "source": [
    "Thus,  \n",
    "\n",
    "$$ \\overrightarrow{OX} = \\overrightarrow{OQ} + \\big(\\overrightarrow{OQ} - \\overrightarrow{OP}\\big)\\frac{2s-1}{1-s}$$"
   ]
  },
  {
   "cell_type": "markdown",
   "id": "20629e2b-1a96-46d9-bfc2-8856bb29446a",
   "metadata": {},
   "source": [
    "5.  No, the second condition is *not* redundant because it rules out an angle or direction of $-30^\\circ$."
   ]
  },
  {
   "cell_type": "markdown",
   "id": "602bdc0e-ee1b-4673-b691-00b512388f16",
   "metadata": {},
   "source": [
    "$$ \\mathbf{A} = 3\\langle \\cos30^\\circ, \\sin30^\\circ\\rangle$$"
   ]
  },
  {
   "cell_type": "code",
   "execution_count": 1,
   "id": "573694f7-f7b6-42eb-a271-02b36a74ab9c",
   "metadata": {
    "tags": []
   },
   "outputs": [],
   "source": [
    "import numpy as np"
   ]
  },
  {
   "cell_type": "code",
   "execution_count": 7,
   "id": "b30a5e48-4373-4abf-9e1e-5d101c4388e5",
   "metadata": {
    "tags": []
   },
   "outputs": [
    {
     "data": {
      "text/plain": [
       "0.49999999999999994"
      ]
     },
     "execution_count": 7,
     "metadata": {},
     "output_type": "execute_result"
    }
   ],
   "source": [
    "np.sin(np.radians(30))"
   ]
  },
  {
   "cell_type": "code",
   "execution_count": 6,
   "id": "09091051-2918-4f1f-8a58-c2cc09e7adcf",
   "metadata": {
    "tags": []
   },
   "outputs": [
    {
     "data": {
      "text/plain": [
       "0.8660254037844386"
      ]
     },
     "execution_count": 6,
     "metadata": {},
     "output_type": "execute_result"
    }
   ],
   "source": [
    "np.sqrt(3)/2"
   ]
  },
  {
   "cell_type": "markdown",
   "id": "d055a156-e083-4bfc-a851-47137dcdc1e9",
   "metadata": {},
   "source": [
    "6.  The speed and velocity we wish for is:  \n",
    "\n",
    "$$ s'(t) = |\\mathbf{V}| = 200\\mathrm{mph} \\quad\\quad\\text{and}\\quad\\quad \\mathbf{V} = \\langle 0,200\\mathrm{mph}\\rangle$$"
   ]
  },
  {
   "cell_type": "markdown",
   "id": "4c819952-bf3f-4886-bba9-112916fb8320",
   "metadata": {},
   "source": [
    "The wind velocity vector is:  \n",
    "\n",
    "$$ \\mathbf{W} = -50\\mathrm{mph}\\langle\\cos 45^\\circ,\\sin45^\\circ\\rangle$$"
   ]
  },
  {
   "cell_type": "code",
   "execution_count": 11,
   "id": "ed73e9d7-cf80-4f5d-abe5-b7d5602cdec9",
   "metadata": {
    "tags": []
   },
   "outputs": [
    {
     "data": {
      "text/plain": [
       "0.7071067811865475"
      ]
     },
     "execution_count": 11,
     "metadata": {},
     "output_type": "execute_result"
    }
   ],
   "source": [
    "np.sin(0.25*np.pi)"
   ]
  },
  {
   "cell_type": "code",
   "execution_count": 10,
   "id": "e1c88aaf-16bf-400c-95b4-0c8a7e479a37",
   "metadata": {
    "tags": []
   },
   "outputs": [
    {
     "data": {
      "text/plain": [
       "0.7071067811865476"
      ]
     },
     "execution_count": 10,
     "metadata": {},
     "output_type": "execute_result"
    }
   ],
   "source": [
    "np.sqrt(2)/2"
   ]
  },
  {
   "cell_type": "markdown",
   "id": "0f9db2eb-b66b-4719-9f88-f8387325923f",
   "metadata": {},
   "source": [
    "The vector velocity that the plane should travel in, denoted by $\\mathbf{U}$, is given by:  \n",
    "\n",
    "$$ \\mathbf{V} = \\mathbf{W} + \\mathbf{U} \\quad\\implies\\quad \\mathbf{U} = \\mathbf{V} - \\mathbf{W}$$"
   ]
  },
  {
   "cell_type": "markdown",
   "id": "25968ce0-0a50-4757-9838-e80b9cd45a30",
   "metadata": {},
   "source": [
    "$$ \\mathbf{U} = \\langle 50\\cos45^\\circ\\,\\mathrm{mph}, 250\\sin45^\\circ\\,\\mathrm{mph}\\rangle$$"
   ]
  },
  {
   "cell_type": "markdown",
   "id": "23009880-2c43-4282-8ec0-227b2ce92fa2",
   "metadata": {},
   "source": [
    "$$ = \\frac{50}{\\sqrt{2}}\\,\\mathrm{mph}\\,\\langle 1, 5\\rangle$$"
   ]
  },
  {
   "cell_type": "markdown",
   "id": "52977171-7295-4e3c-8e49-9ac61ad6b0b2",
   "metadata": {},
   "source": [
    "7.  \n",
    "\n",
    "**a)**  $$ \\mathbf{A}' = \\langle b, -a\\rangle$$"
   ]
  },
  {
   "cell_type": "markdown",
   "id": "0d2b4892-ff35-4c42-b5ff-20b8bb8da5a2",
   "metadata": {},
   "source": [
    "**b)**  $$ \\mathbf{A}'' = \\langle -b, a\\rangle$$"
   ]
  },
  {
   "cell_type": "markdown",
   "id": "dd539ead-d472-49b2-b19d-7871b93e3fc5",
   "metadata": {},
   "source": [
    "**c)**  $$ \\mathbf{i}' = \\frac{\\langle 3,4\\rangle}{5} \\quad\\quad\\text{and}\\quad\\quad |\\mathbf{i}'| = \\frac{\\sqrt{9+16}}{5} = 1$$"
   ]
  },
  {
   "cell_type": "markdown",
   "id": "02ee8313-18dd-4d9b-8443-13ad1a9aab56",
   "metadata": {},
   "source": [
    "Whereas $|\\mathbf{i}'|=1$ therefore $\\mathbf{i}'$ is a unit vector.  We need to find $\\mathbf{j}'$ such that $\\mathbf{j}'$ is equal to $\\mathbf{i}'$ rotated counterclockwise by $90^\\circ$.  \n",
    "\n",
    "$$ \\mathbf{j}' = \\frac{\\langle -4,3\\rangle}{5}$$"
   ]
  },
  {
   "cell_type": "markdown",
   "id": "83f3c405-5a3c-4e15-bdcb-483f7c5292ad",
   "metadata": {},
   "source": [
    "8. \n",
    "\n",
    "**a)**  "
   ]
  },
  {
   "cell_type": "markdown",
   "id": "9ac5f586-2cb6-45d2-a736-bae0553994ef",
   "metadata": {},
   "source": [
    "$$ \\mathbf{A}\\cdot \\mathbf{i} = |\\mathbf{A}|\\cos\\alpha = a\\quad\\quad \\mathbf{A}\\cdot\\mathbf{j} = |\\mathbf{A}|\\cos\\beta = b \\quad\\quad \\mathbf{A}\\cdot\\mathbf{k} = |\\mathbf{A}|\\cos\\gamma = c$$"
   ]
  },
  {
   "cell_type": "markdown",
   "id": "e112efa6-3a72-4da9-9421-3cff6d1a2b37",
   "metadata": {},
   "source": [
    "$$ \\mathrm{dir}\\,\\mathbf{A} = \\frac{\\mathbf{A}}{|\\mathbf{A}|} = \\frac{|\\mathbf{A}|\\langle \\cos\\alpha ,\\cos\\beta,\\cos\\gamma\\rangle}{|\\mathbf{A}|} = \\langle \\cos\\alpha,\\cos\\beta,\\cos\\gamma\\rangle$$"
   ]
  },
  {
   "cell_type": "markdown",
   "id": "94bfe5f0-70fc-4d93-9c09-280eb27c8f6d",
   "metadata": {},
   "source": [
    "**b)**  $$ |\\mathbf{A}| = 3 $$"
   ]
  },
  {
   "cell_type": "markdown",
   "id": "82d834c0-1d8e-4a07-bee8-87a28e75c353",
   "metadata": {},
   "source": [
    "$$ \\cos\\alpha = -\\frac{1}{3}\\quad\\quad \\cos\\beta = \\frac{2}{3} \\quad\\quad \\cos\\gamma = \\frac{2}{3}$$"
   ]
  },
  {
   "cell_type": "markdown",
   "id": "cf8798ad-c01f-4bc4-9439-fc94be80591f",
   "metadata": {},
   "source": [
    "**c)**  $$ \\mathrm{dir}\\,\\mathbf{A} = \\langle\\cos\\alpha,\\cos\\beta,\\cos\\gamma\\rangle \\quad\\quad \\text{and}\\quad\\quad|\\mathrm{dir}\\,\\mathbf{A}| = 1 = \\sqrt{\\cos^2\\alpha + \\cos^2\\beta + \\cos^2\\gamma}$$"
   ]
  },
  {
   "cell_type": "markdown",
   "id": "925bced9-ff00-46e3-b878-8134cbe8c0ca",
   "metadata": {},
   "source": [
    "Squaring both sides gives:  \n",
    "\n",
    "$$ \\cos^2\\alpha + \\cos^2\\beta + \\cos^2\\gamma = 1$$"
   ]
  },
  {
   "cell_type": "markdown",
   "id": "54975936-f847-4138-a476-342a80bd8c59",
   "metadata": {},
   "source": [
    "**1A-9**.  Let $\\overline{OAB}$ be our triangle and $\\overrightarrow{OA}:=\\mathbf{A}$ and $\\overrightarrow{OB}:=\\mathbf{B}$.  Now let:  \n",
    "\n",
    "$$ \\mathbf{M}_A := 0.5\\mathbf{A} \\quad\\quad\\text{and}\\quad\\quad \\mathbf{M}_B := 0.5\\mathbf{B}$$"
   ]
  },
  {
   "cell_type": "markdown",
   "id": "1bb0ed41-daa9-41ec-9a5e-bbc1d913e3a2",
   "metadata": {},
   "source": [
    "Here, $M_A$ and $M_B$ are the two midpoints being connected.  \n",
    "\n",
    "$$ |\\overline{M_AM_B}| = |\\overrightarrow{M_AM_B}|$$"
   ]
  },
  {
   "cell_type": "markdown",
   "id": "339a3dde-7fad-445b-9812-8f514435d405",
   "metadata": {},
   "source": [
    "$$ \\mathbf{M}_A + \\overrightarrow{M_AM_B} = \\mathbf{M}_B $$"
   ]
  },
  {
   "cell_type": "markdown",
   "id": "dc3a71c9-90e5-404a-92c2-eca23be6eece",
   "metadata": {},
   "source": [
    "$$ \\overrightarrow{M_AM_B} \\parallel \\overrightarrow{AB} \\;\\iff\\; \\overrightarrow{M_AM_B}\\cdot\\overrightarrow{AB} = \\pm|\\overrightarrow{M_AM_B}||\\overrightarrow{AB}|$$"
   ]
  },
  {
   "cell_type": "markdown",
   "id": "e5dd4de9-372b-405d-baf2-0d6f0735847b",
   "metadata": {},
   "source": [
    "$$ \\overrightarrow{M_AM_B} = \\mathbf{M}_B - \\mathbf{M}_A = 0.5\\big(\\mathbf{B} - \\mathbf{A}\\big)$$"
   ]
  },
  {
   "cell_type": "markdown",
   "id": "4cc7b2a6-b1dd-40af-955d-6bee5ed3844d",
   "metadata": {},
   "source": [
    "$$ \\overrightarrow{AB} = \\mathbf{B} - \\mathbf{A}$$"
   ]
  },
  {
   "cell_type": "markdown",
   "id": "3f165dc6-3686-4c81-9d2e-ba9ffffc0e38",
   "metadata": {},
   "source": [
    "Via the above two equations and equivalence principle,  \n",
    "\n",
    "$$ \\overrightarrow{M_AM_B} = 0.5\\overrightarrow{AB} \\;\\therefore |\\overrightarrow{M_AM_B}| = 0.5|\\overrightarrow{AB}|$$"
   ]
  },
  {
   "cell_type": "markdown",
   "id": "bf3c67c9-8c55-4a68-bd53-e16893b96dbe",
   "metadata": {},
   "source": [
    "Which implies that $\\overrightarrow{M_AM_B} \\parallel \\overrightarrow{AB}$ and therefore, $\\overline{M_AM_B}\\parallel\\overline{AB}$.  "
   ]
  },
  {
   "cell_type": "markdown",
   "id": "26f21084-41db-43bd-b626-2264039bf487",
   "metadata": {},
   "source": [
    "**1A-10**:  "
   ]
  },
  {
   "cell_type": "markdown",
   "id": "821edea6-9ee0-4555-83e4-4448469fe423",
   "metadata": {},
   "source": []
  }
 ],
 "metadata": {
  "kernelspec": {
   "display_name": "Python 3 (ipykernel)",
   "language": "python",
   "name": "python3"
  },
  "language_info": {
   "codemirror_mode": {
    "name": "ipython",
    "version": 3
   },
   "file_extension": ".py",
   "mimetype": "text/x-python",
   "name": "python",
   "nbconvert_exporter": "python",
   "pygments_lexer": "ipython3",
   "version": "3.10.12"
  }
 },
 "nbformat": 4,
 "nbformat_minor": 5
}
