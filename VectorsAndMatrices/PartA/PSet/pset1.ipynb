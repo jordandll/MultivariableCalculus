{
 "cells": [
  {
   "cell_type": "markdown",
   "id": "552055bf-5738-42df-845a-d7fb437808a2",
   "metadata": {},
   "source": [
    "# Problem Set 1  \n",
    "\n",
    "## Part II\n",
    "\n",
    "#### Problem 1\n",
    "\n",
    "The dihedral angle between two planes is equal to the angle between the vectors normal to those planes.  Suppose there exists two planes, $\\mathcal{P}_1$ and $\\mathcal{P}_2$.  Now, let $\\theta$, $\\mathbf{n}_1$, and $\\mathbf{n}_2$ denote the (acute) dihedral angle between those two planes, the unit normal to $\\mathcal{P}_1$, and the unit normal to $\\mathcal{P}_2$ respectively."
   ]
  },
  {
   "cell_type": "markdown",
   "id": "158e8769-28a8-4f46-a2a0-d04bc622f6fc",
   "metadata": {},
   "source": [
    "$$ |\\mathbf{n}_1\\cdot\\mathbf{n}_2| = \\cos\\theta$$"
   ]
  },
  {
   "cell_type": "markdown",
   "id": "b4c6df9f-ac28-4d44-bcdc-eaf749f77491",
   "metadata": {},
   "source": [
    "Now, suppose there exists two vectors, $\\mathbf{Q}$ and $\\mathbf{P}$, resting on $\\mathcal{P}_2$ and another two vectors, $\\mathbf{A}$ and $\\mathbf{B}$, resting on $\\mathcal{P}_1$.  \n",
    "\n",
    "$$ \\frac{|\\mathbf{A}\\times\\mathbf{B}\\cdot\\mathbf{Q}\\times\\mathbf{P}|}{|\\mathbf{Q}\\times\\mathbf{P}||\\mathbf{A}\\times\\mathbf{B}|} = \\cos\\theta$$"
   ]
  },
  {
   "cell_type": "markdown",
   "id": "e116bac0-83ac-4b56-95d1-6c5e122da1dc",
   "metadata": {},
   "source": [
    "Now, suppose there exists a regular tetrahedron in a vector space with vertices $O$, $A$, $B$, and $C$, where $O$ is at origin.  The vectors $\\mathbf{A}$ and $\\mathbf{B}$ span the face $\\overline{OBA}$ and vectors $\\mathbf{B}$ and $\\mathbf{C}$ span the face $\\overline{OCB}$.  Let $\\theta$ denote the dihedral angle between these two faces.  \n",
    "\n",
    "$$ \\frac{|\\mathbf{A}\\times\\mathbf{B}\\cdot\\mathbf{B}\\times\\mathbf{C}|}{|\\mathbf{A}\\times\\mathbf{B}||\\mathbf{B}\\times\\mathbf{C}|} = \\cos\\theta \\quad\\quad\\text{and}\\quad\\quad |\\mathbf{A}|=|\\mathbf{B}| = |\\mathbf{C}|$$"
   ]
  },
  {
   "cell_type": "markdown",
   "id": "b021443c-2065-4f15-b6a1-a8d2f2b58795",
   "metadata": {},
   "source": [
    "Now, suppose $\\overline{OCA}$ rests on the $x,y$-plane and $A=(A,0,0)$.  \n",
    "\n",
    "$$ \\mathbf{A} = \\langle A,0,0\\rangle \\quad\\quad \\mathbf{C} =A\\langle \\cos60^\\circ, \\sin60^\\circ,0\\rangle $$"
   ]
  },
  {
   "cell_type": "markdown",
   "id": "6e886602-edfc-448f-8547-f152fd4fae0e",
   "metadata": {},
   "source": [
    "$$ \\overrightarrow{CA} = \\mathbf{A} - \\mathbf{C} = A\\langle 1,0,0\\rangle - A\\langle\\cos60^\\circ,\\sin60^\\circ,0\\rangle = A\\langle 1-\\cos60^\\circ, -\\sin60^\\circ,0\\rangle$$"
   ]
  },
  {
   "cell_type": "markdown",
   "id": "68bde0f4-01fa-48be-b682-353ebcae0e62",
   "metadata": {},
   "source": [
    "$$ \\overrightarrow{BA} = \\mathbf{A} - \\mathbf{B} \\quad\\quad\\text{and}\\quad\\quad \\mathbf{A}\\cdot\\mathbf{B} = |\\mathbf{A}|^2\\cos60^\\circ = Ab_1$$"
   ]
  },
  {
   "cell_type": "markdown",
   "id": "78e192f2-ecbf-41d6-b00c-59ae264c24d5",
   "metadata": {},
   "source": [
    "$$ b_1 = A\\cos60^\\circ = c_1\\quad\\quad\\text{and}\\quad\\quad -\\mathbf{B}\\cdot \\overrightarrow{BA} = \\mathbf{B}\\cdot\\big(\\mathbf{B}-\\mathbf{A}\\big)= A^2 - \\mathbf{A}\\cdot\\mathbf{B}= A^2\\cos60^\\circ$$"
   ]
  },
  {
   "cell_type": "markdown",
   "id": "278c0532-8f0e-42b6-8d81-eeb6edeefdc3",
   "metadata": {},
   "source": [
    "$$ A^2  = 2A^2\\cos60^\\circ \\quad\\implies\\quad \\cos60^\\circ = 0.5$$"
   ]
  },
  {
   "cell_type": "code",
   "execution_count": 52,
   "id": "6ce35864-0ad0-43d8-9ef3-f8755d2c45be",
   "metadata": {
    "tags": []
   },
   "outputs": [
    {
     "data": {
      "text/plain": [
       "0.5000000000000001"
      ]
     },
     "execution_count": 52,
     "metadata": {},
     "output_type": "execute_result"
    }
   ],
   "source": [
    "cos(60)"
   ]
  },
  {
   "cell_type": "markdown",
   "id": "4155a257-a2bb-4a98-8634-de134ce9ad16",
   "metadata": {},
   "source": [
    "$$ \\mathbf{B}\\cdot\\mathbf{C} = A^2\\cos60^\\circ = c_1b_1 + c_2b_2 = A^2\\cos^2 60^\\circ + Ab_2\\sin60^\\circ$$"
   ]
  },
  {
   "cell_type": "markdown",
   "id": "8afb15f5-561f-4b05-8a4a-cf6d6f665688",
   "metadata": {},
   "source": [
    "$$ b_2 = A\\cot60^\\circ - A\\frac{\\cos^260^\\circ}{\\sin60^\\circ} = A\\cot60^\\circ\\big(1-\\cos60^\\circ\\big)$$"
   ]
  },
  {
   "cell_type": "markdown",
   "id": "a03653ea-c992-41d6-80ca-0e585c33cdf4",
   "metadata": {},
   "source": [
    "$$ \\overrightarrow{BC} = \\mathbf{C} - \\mathbf{B} \\quad\\quad \\text{and}\\quad\\quad -\\mathbf{B}\\cdot\\overrightarrow{BC} = A^2\\cos60^\\circ $$"
   ]
  },
  {
   "cell_type": "markdown",
   "id": "be46a852-3f8c-4b7b-afc9-b2c01712cfd3",
   "metadata": {},
   "source": [
    "$$ |\\overrightarrow{BC}| = |\\mathbf{A}| = A = |\\langle 0, c_2-b_2, -b_3  \\rangle|$$"
   ]
  },
  {
   "cell_type": "markdown",
   "id": "67142b0b-ea51-45d0-8b1e-179a65b7b1f8",
   "metadata": {},
   "source": [
    "$$ = |\\langle 0 , A\\sin60^\\circ - A\\cot60^\\circ\\big(1-\\cos60^\\circ\\big), -b_3\\rangle|$$"
   ]
  },
  {
   "cell_type": "markdown",
   "id": "493c4aa0-ac94-47a0-8a5f-e798f923b5dc",
   "metadata": {},
   "source": [
    "$$ |\\mathbf{B}|^2 = b_1^2 + b_2^2 + b_3^2 = A^2 \\quad\\implies\\quad b_3 = \\pm\\sqrt{A^2 - b_1^2 - b_2^2}$$"
   ]
  },
  {
   "cell_type": "markdown",
   "id": "38611cdc-699b-4268-befe-ab8a1349dab5",
   "metadata": {},
   "source": [
    "$$ b_3 = \\pm A\\sqrt{1 -\\cos^2 60^\\circ - \\cot^2 60^\\circ\\big(1-\\cos60^\\circ\\big)^2}$$"
   ]
  },
  {
   "cell_type": "markdown",
   "id": "59c65ec3-6af9-4825-8fbc-c1f14e51517c",
   "metadata": {},
   "source": [
    "$$ = \\pm A\\sqrt{\\sin^2 60^\\circ - \\cot^2 60^\\circ\\big(1 + \\cos^2 60^\\circ - 2\\cos60^\\circ\\big)}$$"
   ]
  },
  {
   "cell_type": "markdown",
   "id": "7b989f27-a289-41e6-a516-4f005cac6484",
   "metadata": {},
   "source": [
    "Thus the $x,y,z$ compliments of $\\mathbf{B}$ are:  \n",
    "\n",
    "$$ b_1 = A\\cos60^\\circ \\quad\\quad b_2 = A\\cot60^\\circ\\big(1-\\cos60^\\circ\\big)\\quad\\quad b_3 = \\pm A\\sqrt{\\sin^2 60^\\circ - \\cot^2 60^\\circ\\big(1 + \\cos^2 60^\\circ - 2\\cos60^\\circ\\big)}$$"
   ]
  },
  {
   "cell_type": "code",
   "execution_count": 61,
   "id": "8eaa168f-7493-4367-b144-09d4bb425a93",
   "metadata": {
    "tags": []
   },
   "outputs": [],
   "source": [
    "b1_cof = cos(60)\n",
    "b2_cof = cot(60)*(1-cos(60))\n",
    "b3_cof = np.sqrt(sin(60)**2 - cot(60)**2*(1-cos(60))**2)"
   ]
  },
  {
   "cell_type": "code",
   "execution_count": 51,
   "id": "51f1a0fb-0e2b-4c6f-a2f4-0cbc03d5faae",
   "metadata": {
    "tags": []
   },
   "outputs": [],
   "source": [
    "def cot(x):  \n",
    "    return np.cos(np.radians(x))/np.sin(np.radians(x))\n",
    "def cos(x):  \n",
    "    return np.cos(np.radians(x))\n",
    "def sin(x):  \n",
    "    return np.sin(np.radians(x))"
   ]
  },
  {
   "cell_type": "markdown",
   "id": "e2f81330-1aca-4514-9841-ef66ccc620c9",
   "metadata": {},
   "source": [
    "Recall that:  \n",
    "\n",
    "$$\\mathbf{A} = \\langle A,0,0\\rangle \\quad\\quad\\text{and}\\quad\\quad \\mathbf{C} = A\\langle \\cos60^\\circ, \\sin60^\\circ,0\\rangle$$"
   ]
  },
  {
   "cell_type": "markdown",
   "id": "c6a708d6-adc1-46cb-84b9-a2a880529e1b",
   "metadata": {},
   "source": [
    "and that:  \n",
    "\n",
    "$$ \\frac{|\\mathbf{A}\\times\\mathbf{B}\\cdot\\mathbf{B}\\times\\mathbf{C}|}{|\\mathbf{A}\\times\\mathbf{B}||\\mathbf{B}\\times\\mathbf{C}|} = \\cos\\theta$$"
   ]
  },
  {
   "cell_type": "markdown",
   "id": "443dc58d-59eb-48e5-a64b-4b264b6fc32b",
   "metadata": {},
   "source": [
    " $$\\mathbf{A}\\times\\mathbf{B} = \\langle a_2b_3 - a_3b_2, -(a_1b_3-a_3b_1), a_1b_2 - a_2b_1\\rangle$$"
   ]
  },
  {
   "cell_type": "markdown",
   "id": "7e740493-08dd-48ca-a7d1-79cb5be12589",
   "metadata": {},
   "source": [
    "$$ = \\langle 0, -a_1b_3, a_1b_2\\rangle = A\\langle 0,-b_3,b_2\\rangle $$"
   ]
  },
  {
   "cell_type": "markdown",
   "id": "44c1de4c-77f8-4395-9162-7a8a04577262",
   "metadata": {},
   "source": [
    "$$ \\mathbf{B}\\times\\mathbf{C} = \\langle b_2c_3 - b_3c_2, -(b_1c_3 - b_3c_1), b_1c_2 - b_2c_1\\rangle$$"
   ]
  },
  {
   "cell_type": "markdown",
   "id": "d0671fd4-81e3-435d-9ad2-a7622f7f606b",
   "metadata": {},
   "source": [
    "$$ = \\langle -b_3c_2, b_3c_1, b_1c_2-b_2c_1\\rangle$$"
   ]
  },
  {
   "cell_type": "markdown",
   "id": "d7657799-bd87-4205-bd8f-86efe726706d",
   "metadata": {},
   "source": [
    "$$ = A\\langle -b_3\\sin60^\\circ, b_3\\cos60^\\circ, b_1\\sin60^\\circ - b_2\\cos60^\\circ\\rangle $$"
   ]
  },
  {
   "cell_type": "markdown",
   "id": "3ddd5577-3ea7-4d9a-988e-83771368bc11",
   "metadata": {},
   "source": [
    "$$ \\mathbf{A}\\times\\mathbf{B} \\cdot \\mathbf{B}\\times\\mathbf{C} = A^2\\big(b_2b_1\\sin60^\\circ - b_2^2\\cos60^\\circ -b_3^2\\cos60^\\circ \\big) $$"
   ]
  },
  {
   "cell_type": "markdown",
   "id": "645691a4-252b-401c-99f7-4da608cf7eff",
   "metadata": {},
   "source": [
    "$$ = A^4\\Big(\\cos^260^\\circ\\big(1-\\cos60^\\circ\\big) - \\cos60^\\circ\\cot^260^\\circ\\big(1-\\cos60^\\circ\\big)^2 - \\cos60^\\circ\\Big(\\sin^260^\\circ - \\cot^260^\\circ\\big(1-\\cos60^\\circ\\big)^2\\Big)\\Big)$$"
   ]
  },
  {
   "cell_type": "markdown",
   "id": "ba9e6461-5b1a-4838-977f-f301eeff2274",
   "metadata": {},
   "source": [
    "$$ |\\mathbf{A}\\times\\mathbf{B}\\cdot\\mathbf{B}\\times\\mathbf{C}| = 0.25A^4$$"
   ]
  },
  {
   "cell_type": "markdown",
   "id": "6204a160-52bf-48e0-b979-69f76a6c91a6",
   "metadata": {},
   "source": [
    "$$ |\\mathbf{A}\\times\\mathbf{B}| = A\\sqrt{b_3^2 + b_2^2} $$"
   ]
  },
  {
   "cell_type": "markdown",
   "id": "48de5e8a-cbf2-44f3-8868-f43f32f37c98",
   "metadata": {},
   "source": [
    "$$ |\\mathbf{B}\\times\\mathbf{C}| = A\\sqrt{b_3^2 + \\big(b_1\\sin60^\\circ - b_2\\cos60^\\circ\\big)^2}$$"
   ]
  },
  {
   "cell_type": "markdown",
   "id": "ff4c9110-6245-4448-a5a5-8382424ed334",
   "metadata": {},
   "source": [
    "$$ |\\mathbf{A}\\times\\mathbf{B}||\\mathbf{B}\\times\\mathbf{C}| = A^2\\sqrt{\\Big(b_3^2 + \\big(b_1\\sin60^\\circ - b_2\\cos60^\\circ\\big)^2\\Big)\\big(b_3^2+b_2^2\\big)}$$"
   ]
  },
  {
   "cell_type": "markdown",
   "id": "b79d8f5f-e31e-45af-956b-d247593b2710",
   "metadata": {},
   "source": [
    "$$ = A^2\\sqrt{\\big(b_1^2\\sin^260^\\circ + b_2^2\\cos^260^\\circ - b_1b_2\\sin120^\\circ + b_3^2\\big)\\big(b_3^2 + b_2^2\\big)}$$"
   ]
  },
  {
   "cell_type": "markdown",
   "id": "33220fb0-907e-4c31-8ac3-7c3b20dd5730",
   "metadata": {},
   "source": [
    "$$ = 0.75A^4$$"
   ]
  },
  {
   "cell_type": "markdown",
   "id": "5137f8f0-3f1c-49f4-83a5-9ea714cfa392",
   "metadata": {},
   "source": [
    "Thus,  \n",
    "\n",
    "$$ \\cos\\theta = \\frac{1}{3}$$"
   ]
  },
  {
   "cell_type": "code",
   "execution_count": 63,
   "id": "87506c34-a8dc-4d88-a913-bcfb60d0993a",
   "metadata": {
    "tags": []
   },
   "outputs": [
    {
     "data": {
      "text/plain": [
       "70.52877936550931"
      ]
     },
     "execution_count": 63,
     "metadata": {},
     "output_type": "execute_result"
    }
   ],
   "source": [
    "theta = np.arccos(1/3); np.degrees(theta)"
   ]
  },
  {
   "cell_type": "code",
   "execution_count": 62,
   "id": "62a54d03-96d8-45c0-aa3c-4039f5ad8aff",
   "metadata": {
    "tags": []
   },
   "outputs": [
    {
     "data": {
      "text/plain": [
       "0.7499999999999999"
      ]
     },
     "execution_count": 62,
     "metadata": {},
     "output_type": "execute_result"
    }
   ],
   "source": [
    "den = np.sqrt((b1_cof**2*sin(60)**2 + b2_cof**2*cos(60)**2 - b1_cof*b2_cof*sin(120) + b3_cof**2)*(b3_cof**2+b2_cof**2)); den"
   ]
  },
  {
   "cell_type": "code",
   "execution_count": 60,
   "id": "a85c5840-4267-4811-9aa0-e67464536008",
   "metadata": {
    "tags": []
   },
   "outputs": [
    {
     "data": {
      "text/plain": [
       "-0.24999999999999997"
      ]
     },
     "execution_count": 60,
     "metadata": {},
     "output_type": "execute_result"
    }
   ],
   "source": [
    "cos(60)**2*(1-cos(60))-cos(60)*cot(60)**2*(1-cos(60))**2 - cos(60)*(sin(60)**2-cot(60)**2*(1-cos(60))**2)"
   ]
  },
  {
   "cell_type": "code",
   "execution_count": 33,
   "id": "1e4ca586-a517-4307-93d7-9e0d046dd9af",
   "metadata": {
    "tags": []
   },
   "outputs": [
    {
     "data": {
      "text/latex": [
       "$\\displaystyle - 0.48054949591181 A^{4}$"
      ],
      "text/plain": [
       "-0.48054949591181*A**4"
      ]
     },
     "execution_count": 33,
     "metadata": {},
     "output_type": "execute_result"
    }
   ],
   "source": [
    "num = A**2*(b_2*b_1*sin(60) - b_2**2*cos(60) - b_3**2*cos(60)); num"
   ]
  },
  {
   "cell_type": "code",
   "execution_count": 34,
   "id": "e606be97-8e60-4722-81c9-f2e0e9623527",
   "metadata": {
    "tags": []
   },
   "outputs": [
    {
     "data": {
      "text/latex": [
       "$\\displaystyle 1.15090423538915 A^{2} A^{2}$"
      ],
      "text/plain": [
       "1.15090423538915*A**2*A**2"
      ]
     },
     "execution_count": 34,
     "metadata": {},
     "output_type": "execute_result"
    }
   ],
   "source": [
    "den = AxB*BxC; den"
   ]
  },
  {
   "cell_type": "code",
   "execution_count": 42,
   "id": "f0094ac2-d8c8-4d83-963a-ca943725d04a",
   "metadata": {
    "tags": []
   },
   "outputs": [
    {
     "data": {
      "text/plain": [
       "65.32057387746832"
      ]
     },
     "execution_count": 42,
     "metadata": {},
     "output_type": "execute_result"
    }
   ],
   "source": [
    "theta = sp.acos(abs(num/den)); np.degrees(float(theta))"
   ]
  },
  {
   "cell_type": "code",
   "execution_count": 8,
   "id": "c3c0c2e6-ac41-49ab-8d51-4f8a09b7a139",
   "metadata": {
    "tags": []
   },
   "outputs": [],
   "source": [
    "import sympy as sp\n",
    "import numpy as np"
   ]
  },
  {
   "cell_type": "markdown",
   "id": "e2006e2d-6f25-4b98-aeb7-56b6f119d790",
   "metadata": {},
   "source": [
    "**Another approach** to take is to find the angle between the perpendicular dropped from $A$ to $\\overline{OB}$ and the perpendicular dropped from $C$ to $\\overline{OB}$.  The dihedral angle between $\\overline{OBA}$ and $\\overline{OBC}$ is equal to this angle."
   ]
  },
  {
   "cell_type": "markdown",
   "id": "26c44dea-9fe7-4d5a-a827-03c7bb8a62b2",
   "metadata": {},
   "source": [
    "Let $\\mathbf{M}:=0.5\\mathbf{B}$, $\\mathbf{R}:=\\overrightarrow{MA}$, and $\\mathbf{Q}:=\\overrightarrow{MC}$.  \n",
    "\n",
    "$$ \\theta = \\angle(\\mathit{CMA}) \\quad\\quad\\text{and}\\quad\\quad \\mathbf{R}\\cdot\\mathbf{Q} = |\\mathbf{R}|^2\\cos\\theta$$"
   ]
  },
  {
   "cell_type": "markdown",
   "id": "a83173ed-c5d8-433c-b5b4-d841efaf789a",
   "metadata": {},
   "source": [
    "$$ \\mathbf{R} = \\mathbf{A} - 0.5\\mathbf{B}\\quad\\quad\\text{and}\\quad\\quad \\mathbf{Q} = \\mathbf{C} - 0.5\\mathbf{B}$$"
   ]
  },
  {
   "cell_type": "markdown",
   "id": "f4c37398-3206-4cbf-a8fd-2a5ed6247753",
   "metadata": {},
   "source": [
    "$$ \\mathbf{R}\\cdot\\mathbf{Q} = \\mathbf{A}\\cdot\\big(\\mathbf{C}-0.5\\mathbf{B}\\big) - 0.5\\mathbf{B}\\cdot\\big(\\mathbf{C}-0.5\\mathbf{B}\\big)$$"
   ]
  },
  {
   "cell_type": "markdown",
   "id": "404acb59-8797-45b8-a987-dd86e5a06a4b",
   "metadata": {},
   "source": [
    "$$ = 0.5A^2\\cos60^\\circ- 0.5\\mathbf{B}\\cdot\\mathbf{C} + 0.25A^2$$"
   ]
  },
  {
   "cell_type": "markdown",
   "id": "2ff6b357-e94f-4834-93e6-5239dcf95645",
   "metadata": {},
   "source": [
    "$$ = 0.25A^2 = |\\mathbf{R}|^2\\cos\\theta$$"
   ]
  },
  {
   "cell_type": "markdown",
   "id": "f4567df4-bf39-46e7-bb2c-0f6946eaa2fa",
   "metadata": {},
   "source": [
    "Via Pythagorean's theorem,  "
   ]
  },
  {
   "cell_type": "markdown",
   "id": "5221aa82-7e99-4acf-a167-9aa9cabb8f9e",
   "metadata": {},
   "source": [
    "$$ |\\mathbf{R}|^2 + 0.25A^2 = A^2 \\quad\\implies \\quad |\\mathbf{R}|^2 = 0.75A^2$$"
   ]
  },
  {
   "cell_type": "markdown",
   "id": "245974ae-fdc0-4d10-a4a9-56985f07ede5",
   "metadata": {},
   "source": [
    "Thus,  \n",
    "\n",
    "$$ \\cos\\theta = \\frac{0.25}{0.75} = \\frac{1}{3}$$"
   ]
  },
  {
   "cell_type": "markdown",
   "id": "d35f3a4c-d6c0-48bb-b7c4-42c5ed2ccb6b",
   "metadata": {},
   "source": [
    "#### Problem 2  \n",
    "\n",
    "**a)**  Suppose there exists a parallogram spanned by the vectors $\\mathbf{u}$ and $\\mathbf{v}$.  It follows that it's diagonals, $\\mathbf{w}$ and $\\overrightarrow{uv}$, are given by:  \n",
    "\n",
    "$$ \\mathbf{w} = \\mathbf{u} + \\mathbf{v} \\quad\\quad\\text{and}\\quad\\quad \\overrightarrow{uv} = \\mathbf{v} - \\mathbf{u}$$"
   ]
  },
  {
   "cell_type": "markdown",
   "id": "2027ea2b-387c-4d86-8873-94b6b5867f13",
   "metadata": {},
   "source": [
    "Let $\\theta$ denote the angle between $\\mathbf{v}$ and $\\mathbf{u}$.  Via the law of cosines:  \n",
    "\n",
    "\\begin{align*}\n",
    "    |\\mathbf{w}|^2 = |\\mathbf{u} + \\mathbf{v}|^2 &= |\\mathbf{u}|^2 + |\\mathbf{v}|^2 - 2|\\mathbf{u}||\\mathbf{v}|\\cos(\\pi-\\theta) \\\\\n",
    "     &= |\\mathbf{u}|^2 + |\\mathbf{v}|^2 + 2\\mathbf{u}\\cdot\\mathbf{v}\n",
    "\\end{align*}"
   ]
  },
  {
   "cell_type": "markdown",
   "id": "808fbc3a-9ab2-4643-bf1b-7c1a09cce4ad",
   "metadata": {},
   "source": [
    "and,  \n",
    "\n",
    "\\begin{align*}\n",
    "    |\\overrightarrow{vu}|^2 = |\\mathbf{u}-\\mathbf{v}|^2 &= |\\mathbf{u}|^2 + |\\mathbf{v}|^2 - 2|\\mathbf{u}||\\mathbf{v}|\\cos\\theta \\\\\n",
    "     &= |\\mathbf{u}|^2 + |\\mathbf{v}|^2 - 2\\mathbf{u}\\cdot\\mathbf{v}\n",
    "\\end{align*}"
   ]
  },
  {
   "cell_type": "markdown",
   "id": "275c8c5e-c9d2-4316-958a-3c843ebbb9ab",
   "metadata": {},
   "source": [
    "Via the above two equations and equivalence principle,  \n",
    "\n",
    "$$ |\\mathbf{u}+\\mathbf{v}|^2 - 2\\mathbf{u}\\cdot\\mathbf{v} = |\\mathbf{u}-\\mathbf{v}|^2 + 2\\mathbf{u}\\cdot\\mathbf{v}$$"
   ]
  },
  {
   "cell_type": "markdown",
   "id": "dadf4170-fba2-4ba6-b1fb-b92fb945605d",
   "metadata": {},
   "source": [
    "$$ |\\mathbf{u}+\\mathbf{v}|^2 - |\\mathbf{u} - \\mathbf{v}|^2 = 4\\mathbf{u}\\cdot\\mathbf{v}$$"
   ]
  },
  {
   "cell_type": "markdown",
   "id": "8a9c91bb-9ef4-4c5d-918f-9d2ff2431557",
   "metadata": {},
   "source": [
    "Dividing throughout the above equation by $4$ gives us the 'polarization identity'."
   ]
  },
  {
   "cell_type": "markdown",
   "id": "4a6d3278-607c-4b4f-9145-cb859b681a54",
   "metadata": {},
   "source": [
    "**b)**  Let $\\mathbf{q}:=|\\mathbf{u}|\\big(\\hat{\\mathbf{u}} + \\hat{\\mathbf{v}}\\big)$.  $\\mathbf{q}$ bisects the angle between $\\mathbf{u}$ and $\\mathbf{v}$.  \n",
    "\n",
    "$$ \\hat{\\mathbf{q}} = \\frac{\\mathbf{q}}{|\\mathbf{q}|} = \\frac{\\hat{\\mathbf{u}} + \\hat{\\mathbf{v}}}{|\\hat{\\mathbf{u}} + \\hat{\\mathbf{v}} |}$$"
   ]
  },
  {
   "cell_type": "markdown",
   "id": "da4b999a-ece6-4614-990c-685ad375b05e",
   "metadata": {},
   "source": [
    "#### Problem 3\n",
    "\n",
    "**a)**  $$ \\mathbf{w_1} = a\\cos\\alpha\\,\\langle \\cos\\alpha,\\sin\\alpha\\rangle = a\\langle \\cos^2\\alpha, 0.5\\sin2\\alpha\\rangle$$"
   ]
  },
  {
   "cell_type": "markdown",
   "id": "b77f655c-45df-473d-ae8b-c6df030af0df",
   "metadata": {},
   "source": [
    "**Proposition**:  \n",
    "\n",
    "$$-\\mathbf{w_1}\\cdot\\hat{\\mathbf{w}} \\ne 0$$"
   ]
  },
  {
   "cell_type": "markdown",
   "id": "ca1d842a-1d1b-48e9-894e-d5478fd5892c",
   "metadata": {},
   "source": [
    "$$ -\\mathbf{w_1}\\cdot\\hat{\\mathbf{w}} = -\\mathbf{w_1}\\cdot\\mathbf{i} = -a\\cos^2\\alpha$$"
   ]
  },
  {
   "cell_type": "markdown",
   "id": "613bc83f-fffa-4fab-8d02-9d674d65cd97",
   "metadata": {},
   "source": [
    "**b)**  Let $\\mathbf{w_2}$ denote the projection of $\\mathbf{w_1}$ onto $l_B$.  The component of $\\mathbf{w_1}$ in the direction of said projection is:  \n",
    "\n",
    "$$ |\\mathbf{w_2}| = \\mathbf{w_1}\\cdot\\langle \\cos(\\alpha+\\beta), \\sin(\\alpha+\\beta)\\rangle = \\mathbf{w_1}\\cdot\\langle \\cos\\gamma,\\sin\\gamma\\rangle$$"
   ]
  },
  {
   "cell_type": "markdown",
   "id": "7d77ecea-9534-4fe4-aa6a-1d5ecd2b4f71",
   "metadata": {},
   "source": [
    "$$ = a\\cos^2\\alpha\\cos\\gamma + 0.5a\\sin2\\alpha\\sin\\gamma$$"
   ]
  },
  {
   "cell_type": "markdown",
   "id": "d4281881-0886-4318-862d-b5cb2143b813",
   "metadata": {},
   "source": [
    "$$ \\mathbf{w_2} = |\\mathbf{w_2}|\\langle\\cos\\gamma,\\sin\\gamma\\rangle$$"
   ]
  },
  {
   "cell_type": "markdown",
   "id": "0aba0cb3-8e00-46cc-a32a-166e20f39fad",
   "metadata": {},
   "source": [
    "$$ -\\mathbf{w_2}\\cdot\\mathbf{i} = -|\\mathbf{w_2}|\\cos\\gamma \\ne 0 \\;\\iff\\; \\alpha+\\beta\\ne 90^\\circ$$"
   ]
  },
  {
   "cell_type": "markdown",
   "id": "55c6e627-58d4-476f-ae1a-f2c878e6120c",
   "metadata": {},
   "source": [
    "$$ |\\mathbf{w_2}| = a\\cos^2\\alpha\\big(\\cos\\alpha\\cos\\beta - \\sin\\alpha\\sin\\beta\\big) - 0.5a\\sin2\\alpha\\cos(\\gamma + 0.5\\pi)$$"
   ]
  },
  {
   "cell_type": "markdown",
   "id": "494bb5a3-725c-41cf-8c51-01c69625a884",
   "metadata": {},
   "source": [
    "$$ \\cos\\big(\\gamma + 90^\\circ\\big) = \\cos\\big(\\alpha + 90^\\circ - - \\beta\\big) = \\cos\\big(\\alpha+90^\\circ\\big)\\cos\\beta - \\sin\\beta\\sin\\big(\\alpha + 90^\\circ\\big)$$"
   ]
  },
  {
   "cell_type": "markdown",
   "id": "05eee429-0918-4d55-b2e5-db7ee1dab12e",
   "metadata": {},
   "source": [
    "$$ = -\\sin\\alpha\\cos\\beta - \\sin\\beta\\cos\\alpha$$"
   ]
  },
  {
   "cell_type": "markdown",
   "id": "305f9289-7e0a-4ebb-9749-5ca548dbe66b",
   "metadata": {},
   "source": [
    "$$ |\\mathbf{w_2}| = a\\sin\\alpha\\cos\\alpha\\big(\\sin\\alpha\\cos\\beta + \\sin\\beta\\cos\\alpha\\big) + a\\cos^2\\alpha\\big(\\cos\\alpha\\cos\\beta - \\sin\\alpha\\sin\\beta\\big) $$"
   ]
  },
  {
   "cell_type": "markdown",
   "id": "bda09536-d664-418a-9698-395cb29089d4",
   "metadata": {},
   "source": [
    "$$ a\\sin^2\\alpha\\cos\\alpha\\cos\\beta + a\\sin\\alpha\\sin\\beta\\cos^2\\alpha + a\\cos^3\\alpha\\cos\\beta - a\\cos^2\\alpha\\sin\\alpha\\sin\\beta$$"
   ]
  },
  {
   "cell_type": "markdown",
   "id": "4b1c9ee5-0d40-43c2-80c5-0986b6dde3b3",
   "metadata": {},
   "source": [
    "$$ = a\\sin^2\\alpha\\cos\\alpha\\cos\\beta + a\\cos^3\\alpha\\cos\\beta$$"
   ]
  },
  {
   "cell_type": "markdown",
   "id": "d0627ede-b194-40dd-89d2-7e934e03314d",
   "metadata": {},
   "source": [
    "$$ = a\\cos\\beta\\cos\\alpha\\big(\\sin^2\\alpha + \\cos^2\\alpha\\big) = a\\cos\\beta\\cos\\alpha$$"
   ]
  }
 ],
 "metadata": {
  "kernelspec": {
   "display_name": "Python 3 (ipykernel)",
   "language": "python",
   "name": "python3"
  },
  "language_info": {
   "codemirror_mode": {
    "name": "ipython",
    "version": 3
   },
   "file_extension": ".py",
   "mimetype": "text/x-python",
   "name": "python",
   "nbconvert_exporter": "python",
   "pygments_lexer": "ipython3",
   "version": "3.10.12"
  }
 },
 "nbformat": 4,
 "nbformat_minor": 5
}
