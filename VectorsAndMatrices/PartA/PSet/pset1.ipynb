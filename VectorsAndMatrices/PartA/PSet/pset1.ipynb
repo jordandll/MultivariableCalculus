{
 "cells": [
  {
   "cell_type": "markdown",
   "id": "552055bf-5738-42df-845a-d7fb437808a2",
   "metadata": {},
   "source": [
    "# Problem Set 1  \n",
    "\n",
    "## Part II\n",
    "\n",
    "#### Problem 1\n",
    "\n",
    "The dihedral angle between two faces of a regular tetrahedron is equal to the angle between two edges of an equilateral triangle which is $60^\\circ$."
   ]
  },
  {
   "cell_type": "markdown",
   "id": "d35f3a4c-d6c0-48bb-b7c4-42c5ed2ccb6b",
   "metadata": {},
   "source": [
    "#### Problem 2  \n",
    "\n",
    "**a)**  Suppose there exists a parallogram spanned by the vectors $\\mathbf{u}$ and $\\mathbf{v}$.  It follows that it's diagonals, $\\mathbf{w}$ and $\\overrightarrow{uv}$, are given by:  \n",
    "\n",
    "$$ \\mathbf{w} = \\mathbf{u} + \\mathbf{v} \\quad\\quad\\text{and}\\quad\\quad \\overrightarrow{uv} = \\mathbf{v} - \\mathbf{u}$$"
   ]
  },
  {
   "cell_type": "markdown",
   "id": "2027ea2b-387c-4d86-8873-94b6b5867f13",
   "metadata": {},
   "source": [
    "Let $\\theta$ denote the angle between $\\mathbf{v}$ and $\\mathbf{u}$.  Via the law of cosines:  \n",
    "\n",
    "\\begin{align*}\n",
    "    |\\mathbf{w}|^2 = |\\mathbf{u} + \\mathbf{v}|^2 &= |\\mathbf{u}|^2 + |\\mathbf{v}|^2 - 2|\\mathbf{u}||\\mathbf{v}|\\cos(\\pi-\\theta) \\\\\n",
    "     &= |\\mathbf{u}|^2 + |\\mathbf{v}|^2 + 2\\mathbf{u}\\cdot\\mathbf{v}\n",
    "\\end{align*}"
   ]
  },
  {
   "cell_type": "markdown",
   "id": "808fbc3a-9ab2-4643-bf1b-7c1a09cce4ad",
   "metadata": {},
   "source": [
    "and,  \n",
    "\n",
    "\\begin{align*}\n",
    "    |\\overrightarrow{vu}|^2 = |\\mathbf{u}-\\mathbf{v}|^2 &= |\\mathbf{u}|^2 + |\\mathbf{v}|^2 - 2|\\mathbf{u}||\\mathbf{v}|\\cos\\theta \\\\\n",
    "     &= |\\mathbf{u}|^2 + |\\mathbf{v}|^2 - 2\\mathbf{u}\\cdot\\mathbf{v}\n",
    "\\end{align*}"
   ]
  },
  {
   "cell_type": "markdown",
   "id": "275c8c5e-c9d2-4316-958a-3c843ebbb9ab",
   "metadata": {},
   "source": [
    "Via the above two equations and equivalence principle,  \n",
    "\n",
    "$$ |\\mathbf{u}+\\mathbf{v}|^2 - 2\\mathbf{u}\\cdot\\mathbf{v} = |\\mathbf{u}-\\mathbf{v}|^2 + 2\\mathbf{u}\\cdot\\mathbf{v}$$"
   ]
  },
  {
   "cell_type": "markdown",
   "id": "dadf4170-fba2-4ba6-b1fb-b92fb945605d",
   "metadata": {},
   "source": [
    "$$ |\\mathbf{u}+\\mathbf{v}|^2 - |\\mathbf{u} - \\mathbf{v}|^2 = 4\\mathbf{u}\\cdot\\mathbf{v}$$"
   ]
  },
  {
   "cell_type": "markdown",
   "id": "8a9c91bb-9ef4-4c5d-918f-9d2ff2431557",
   "metadata": {},
   "source": [
    "Dividing throughout the above equation by $4$ gives us the 'polarization identity'."
   ]
  }
 ],
 "metadata": {
  "kernelspec": {
   "display_name": "Python 3 (ipykernel)",
   "language": "python",
   "name": "python3"
  },
  "language_info": {
   "codemirror_mode": {
    "name": "ipython",
    "version": 3
   },
   "file_extension": ".py",
   "mimetype": "text/x-python",
   "name": "python",
   "nbconvert_exporter": "python",
   "pygments_lexer": "ipython3",
   "version": "3.10.12"
  }
 },
 "nbformat": 4,
 "nbformat_minor": 5
}
