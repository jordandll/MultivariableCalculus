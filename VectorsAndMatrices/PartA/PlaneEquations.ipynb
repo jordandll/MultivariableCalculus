{
 "cells": [
  {
   "cell_type": "markdown",
   "id": "9a827b55-e07d-4f30-a502-b60698327616",
   "metadata": {},
   "source": [
    "# Equations of Planes\n",
    "\n",
    "## Examples\n",
    "\n",
    "#### Example 1\n",
    "\n",
    "1. Later we will return to the topic of planes in more detail. Here we will content ourself\n",
    "with one example.\n",
    "\n",
    "Find the equation of the plane containing the three points $P_1 = (1, 3, 1)$, $P_2 = (1, 2, 2)$, $P_3 = (2, 3, 3)$."
   ]
  },
  {
   "cell_type": "markdown",
   "id": "6a569fec-2908-4be1-ab90-7b011e514507",
   "metadata": {},
   "source": [
    "Let \n",
    "\n",
    "$$\\overrightarrow{P_1P_2} := \\mathbf{P}_2 = \\langle 0, -1, 1\\rangle\\quad\\quad \\overrightarrow{P_1P_3}:=\\mathbf{P_3}=\\langle 1, 0, 2\\rangle \\quad\\quad P:=P(x,y,z) $$"
   ]
  },
  {
   "cell_type": "markdown",
   "id": "aaf76210-07da-4ee8-a1da-27dae7c9f16d",
   "metadata": {},
   "source": [
    "$$ \\overrightarrow{P_1P}:=\\mathbf{P}:=\\mathbf{P}(x,y,z) = \\langle x-1, y-3,  z-1\\rangle$$"
   ]
  },
  {
   "cell_type": "markdown",
   "id": "488915df-4900-42a2-8a6f-d9511efd5d5e",
   "metadata": {},
   "source": [
    "The terminal point or head of $\\mathbf{P}$ rests on the same plane as $P_1$, $P_2$, and $P_3$ if and only if $\\mathrm{det}(\\mathbf{P}, \\mathbf{P_2}, \\mathbf{P_3}) = 0$, or, to put it another way:  "
   ]
  },
  {
   "cell_type": "markdown",
   "id": "2022dd01-636a-4be4-8a6b-ceaae3222419",
   "metadata": {},
   "source": [
    "$$ \\mathbf{P} \\,\\perp\\,\\mathbf{N} \\;\\iff\\; \\mathrm{det}(\\mathbf{P},\\mathbf{P_2},\\mathbf{P_3}) = \\mathbf{P_2}\\times\\mathbf{P_3}\\cdot\\mathbf{P}=0 \\quad\\quad\\text{where }\\mathbf{N} = \\mathbf{P_2}\\times\\mathbf{P_3}$$"
   ]
  },
  {
   "cell_type": "markdown",
   "id": "78c12ec9-2bb3-4f6a-b70a-c2237059c2db",
   "metadata": {},
   "source": [
    "Now, for the equation:  \n",
    "\n",
    "$$ \\left|\\begin{matrix}x - 1 & y - 3 & z - 1\\\\0 & -1 & 1\\\\1 & 0 & 2\\end{matrix}\\right| = 0$$"
   ]
  },
  {
   "cell_type": "code",
   "execution_count": 1,
   "id": "f49aefc6-bcad-464a-baf8-2080e8a8dd03",
   "metadata": {
    "tags": []
   },
   "outputs": [],
   "source": [
    "import sympy as sp"
   ]
  },
  {
   "cell_type": "code",
   "execution_count": 2,
   "id": "9eb668e0-3e81-43f7-a810-346a8048c8e5",
   "metadata": {
    "collapsed": true,
    "jupyter": {
     "outputs_hidden": true
    },
    "tags": []
   },
   "outputs": [
    {
     "data": {
      "text/latex": [
       "$\\displaystyle \\left[\\begin{matrix}x - 1 & y - 3 & z - 1\\\\0 & -1 & 1\\\\1 & 0 & 2\\end{matrix}\\right]$"
      ],
      "text/plain": [
       "Matrix([\n",
       "[x - 1, y - 3, z - 1],\n",
       "[    0,    -1,     1],\n",
       "[    1,     0,     2]])"
      ]
     },
     "execution_count": 2,
     "metadata": {},
     "output_type": "execute_result"
    }
   ],
   "source": [
    "x, y, z = sp.symbols('x y z')\n",
    "M = sp.Matrix([[x-1,y-3,z-1],[0,-1,1],[1,0,2]])\n",
    "M"
   ]
  },
  {
   "cell_type": "code",
   "execution_count": 3,
   "id": "4444973c-65c6-48fd-9f3f-f3d8273aac57",
   "metadata": {
    "tags": []
   },
   "outputs": [
    {
     "data": {
      "text/latex": [
       "$\\displaystyle - 2 x + y + z - 2$"
      ],
      "text/plain": [
       "-2*x + y + z - 2"
      ]
     },
     "execution_count": 3,
     "metadata": {},
     "output_type": "execute_result"
    }
   ],
   "source": [
    "M.det()"
   ]
  },
  {
   "cell_type": "markdown",
   "id": "9b6a6080-8501-46bd-8320-b6041ee76917",
   "metadata": {},
   "source": [
    "$$ z = 2x - y + 2$$"
   ]
  },
  {
   "cell_type": "markdown",
   "id": "e1933a0d-729c-4de2-aa03-ccb856bb72fb",
   "metadata": {},
   "source": [
    "## Problems\n",
    "#### Problem 1\n",
    "1. Find the equation of the plane containing the three points $P_1 = (1, 0, 1),\\; P_2 = (0, 1, 1),\\; P_3 = (1, 1, 0)$."
   ]
  },
  {
   "cell_type": "code",
   "execution_count": 6,
   "id": "ebb874ed-4310-4151-8743-9366625e30f2",
   "metadata": {
    "tags": []
   },
   "outputs": [
    {
     "data": {
      "text/latex": [
       "$\\displaystyle - x - y - z + 2$"
      ],
      "text/plain": [
       "-x - y - z + 2"
      ]
     },
     "execution_count": 6,
     "metadata": {},
     "output_type": "execute_result"
    }
   ],
   "source": [
    "M = sp.Matrix([[x-1,y,z-1],[-1,1,0],[0,1,-1]])\n",
    "M.det()"
   ]
  },
  {
   "cell_type": "markdown",
   "id": "3cecdcd7-60bf-43df-96e9-95c280a4bec7",
   "metadata": {},
   "source": [
    "$$ z = 2-x-y$$"
   ]
  }
 ],
 "metadata": {
  "kernelspec": {
   "display_name": "Python 3 (ipykernel)",
   "language": "python",
   "name": "python3"
  },
  "language_info": {
   "codemirror_mode": {
    "name": "ipython",
    "version": 3
   },
   "file_extension": ".py",
   "mimetype": "text/x-python",
   "name": "python",
   "nbconvert_exporter": "python",
   "pygments_lexer": "ipython3",
   "version": "3.10.12"
  }
 },
 "nbformat": 4,
 "nbformat_minor": 5
}
