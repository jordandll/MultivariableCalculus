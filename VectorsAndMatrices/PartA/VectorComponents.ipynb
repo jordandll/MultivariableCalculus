{
 "cells": [
  {
   "cell_type": "markdown",
   "id": "e3b4af98-1356-4b23-9dec-53a1ad9555c9",
   "metadata": {},
   "source": [
    "# Vector Components\n",
    "\n",
    "## Problems and Solutions\n",
    "Herein are the problems from [session 4](https://ocw.mit.edu/courses/18-02sc-multivariable-calculus-fall-2010/6d37211262443a5748b24696f1801841_MIT18_02SC_pb_4_quest.pdf)."
   ]
  },
  {
   "cell_type": "markdown",
   "id": "a8494ca3-f533-40a3-bcb4-067acbd6acae",
   "metadata": {},
   "source": [
    "#### Problem 1\n",
    "a) Let $\\mathbf{A} = \\langle1, 3\\rangle$ and $\\mathbf{B} = \\langle3, 4\\rangle$.  \n",
    "\n",
    "(i) Find the component of $\\mathbf{A}$ in the direction of $\\mathbf{B}$."
   ]
  },
  {
   "cell_type": "markdown",
   "id": "822a8054-2322-48d8-b02a-89136f321cce",
   "metadata": {},
   "source": [
    "$$ \\frac{\\mathbf{A}\\cdot\\mathbf{B}}{|\\mathbf{B}|} = \\frac{15}{5} = 3 $$"
   ]
  },
  {
   "cell_type": "markdown",
   "id": "61a38bc7-98d6-4d16-b5dd-6983eb0dd9cb",
   "metadata": {},
   "source": [
    "(ii) Find the component of $\\mathbf{B}$ in the direction of $\\mathbf{A}$."
   ]
  },
  {
   "cell_type": "markdown",
   "id": "54656f9e-6818-45b9-a7f9-407c78cdd952",
   "metadata": {},
   "source": [
    "$$ \\frac{15}{\\sqrt{10}} = 3\\,\\sqrt{\\frac{5}{2}}$$"
   ]
  },
  {
   "cell_type": "markdown",
   "id": "9bd04f26-7690-42fd-9f6a-dc3025f61b0a",
   "metadata": {},
   "source": [
    "b) Let $\\mathbf{A} = \\langle3, 5, 7\\rangle$ and $\\mathbf{B} = \\langle3, 4, 0\\rangle$. Find the component $\\mathbf{A}$ in the direction of $\\mathbf{B}$."
   ]
  },
  {
   "cell_type": "markdown",
   "id": "def415f0-30e5-4bec-90b6-8aa738ac5ee2",
   "metadata": {},
   "source": [
    "$$ \\frac{\\mathbf{A}\\cdot\\mathbf{B}}{|\\mathbf{B}|} = \\frac{29}{5}$$"
   ]
  },
  {
   "cell_type": "markdown",
   "id": "fe7531e3-f3ab-4c75-87dd-03f688394240",
   "metadata": {},
   "source": [
    "#### Problem 2\n",
    "Let $\\mathbf{A} = \\langle a, 2\\rangle$ and $\\mathbf{B} = \\langle 1, 3\\rangle$. For what values of $a$ is the component of $\\mathbf{A}$ along $\\mathbf{B}$\n",
    "equal to $0$? For what a is it negative?"
   ]
  },
  {
   "cell_type": "markdown",
   "id": "a1be0506-a6a8-49fd-81bd-bbd8705486ca",
   "metadata": {},
   "source": [
    "$$ \\frac{\\mathbf{A}\\cdot\\mathbf{B}}{|\\mathbf{B}|} = \\frac{a + 6}{\\sqrt{10}} = 0 \\quad\\implies\\quad a = -6$$"
   ]
  },
  {
   "cell_type": "markdown",
   "id": "b5b5004d-92ee-4de4-956e-fdaccdb0ab71",
   "metadata": {},
   "source": [
    "$$ \\frac{\\mathbf{A}\\cdot\\mathbf{B}}{|\\mathbf{B}|} < 0 \\quad\\implies\\quad a < -6$$"
   ]
  },
  {
   "cell_type": "markdown",
   "id": "ee575f4e-40b7-4355-9a99-4931210e5fd5",
   "metadata": {},
   "source": [
    "#### Problem 3\n",
    "$$ \\theta = \\pm 90^\\circ$$"
   ]
  }
 ],
 "metadata": {
  "kernelspec": {
   "display_name": "Python 3 (ipykernel)",
   "language": "python",
   "name": "python3"
  },
  "language_info": {
   "codemirror_mode": {
    "name": "ipython",
    "version": 3
   },
   "file_extension": ".py",
   "mimetype": "text/x-python",
   "name": "python",
   "nbconvert_exporter": "python",
   "pygments_lexer": "ipython3",
   "version": "3.10.12"
  }
 },
 "nbformat": 4,
 "nbformat_minor": 5
}
