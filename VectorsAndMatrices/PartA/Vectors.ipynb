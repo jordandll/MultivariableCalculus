{
 "cells": [
  {
   "cell_type": "markdown",
   "id": "6f9267a0-280d-4909-a883-2da6e40384a0",
   "metadata": {},
   "source": [
    "# Vectors\n",
    "## Session 1\n",
    "### *Part A* -- Vectors, Determinants, and Planes\n",
    "Herein are some problems and examples relating to vectors."
   ]
  },
  {
   "cell_type": "markdown",
   "id": "903c1120-4f9a-4f17-aa46-2f9310447d4e",
   "metadata": {},
   "source": [
    "### Example 1\n",
    "#### Proof Using Vectors\n",
    "\n",
    "The median of a triangle is a vector from a vertex to the midpoint of the opposite side.\n",
    "Show that the sum of the medians of a triangle = 0."
   ]
  },
  {
   "cell_type": "markdown",
   "id": "f22a87d7-859b-4d5a-ad44-dec7585a1ae4",
   "metadata": {},
   "source": [
    "![triangular-medians](Figures/TriangularMedians.png)"
   ]
  },
  {
   "cell_type": "markdown",
   "id": "ee435b4d-85ce-4104-acc9-04daf795c83f",
   "metadata": {},
   "source": [
    "**Proposition**:  \n",
    "\n",
    "$$ \\overrightarrow{AR} + \\overrightarrow{BQ} + \\overrightarrow{CP} = 0$$"
   ]
  },
  {
   "cell_type": "markdown",
   "id": "87663ea9-8854-444a-bdcc-6a584807ac13",
   "metadata": {},
   "source": [
    "The **answer** from the course is found [here](https://ocw.mit.edu/courses/18-02sc-multivariable-calculus-fall-2010/8b8209990fd0248b6769e30af8589c7a_MIT18_02SC_we_4_comb.pdf).  \n",
    "\n"
   ]
  },
  {
   "cell_type": "markdown",
   "id": "10538905-bbbd-47ec-ae4c-83cff2d54f2c",
   "metadata": {},
   "source": [
    "An **alternative method** to proving that sum of the medians is equal to zero is:"
   ]
  },
  {
   "cell_type": "markdown",
   "id": "f8c2895a-6cf9-4d09-9b9b-d778ee73f035",
   "metadata": {},
   "source": [
    "#### Problem 1\n",
    "1.  \n",
    "\n",
    "    a) A river flows at 3 mph and a rower rows at 6 mph. What heading should the rower\n",
    "        take to go straight across a river?        "
   ]
  },
  {
   "cell_type": "markdown",
   "id": "a23230f4-9e24-4817-b2b9-f9f8996151bf",
   "metadata": {},
   "source": [
    "Let $\\mathbf{A}=\\langle3,0\\rangle\\,\\mathrm{mph}$ define the velocity of the river flow and $\\mathbf{B}$ denote the rower velocity.  It now follows that:  \n",
    "\n",
    "$$ |\\mathbf{B}| = 6\\,\\mathrm{mph} \\quad\\quad\\text{and}\\quad\\quad b_x + a_x = 0 \\quad\\implies\\quad b_x = -3\\,\\mathrm{mph}$$"
   ]
  },
  {
   "cell_type": "markdown",
   "id": "7430086c-3266-4df8-b11c-96706dc47fb3",
   "metadata": {},
   "source": [
    "$$ \\sqrt{9\\,\\mathrm{mph}^2 + b_y^2} = |\\mathbf{B}| = 6\\,\\mathrm{mph} \\quad\\implies\\quad b_y = \\sqrt{36 - 9}\\,\\mathrm{mph} = 3\\sqrt{3}\\,\\mathrm{mph}$$"
   ]
  },
  {
   "cell_type": "code",
   "execution_count": 1,
   "id": "a0ed7e58-f732-4e23-bf94-d7e9b9ad6e8c",
   "metadata": {
    "tags": []
   },
   "outputs": [],
   "source": [
    "import numpy as np\n",
    "import matplotlib.pyplot as plt"
   ]
  },
  {
   "cell_type": "code",
   "execution_count": 2,
   "id": "ae9102db-3569-4455-9917-d0cfb6fc1b69",
   "metadata": {
    "tags": []
   },
   "outputs": [
    {
     "data": {
      "text/plain": [
       "59.99999999999999"
      ]
     },
     "execution_count": 2,
     "metadata": {},
     "output_type": "execute_result"
    }
   ],
   "source": [
    "np.degrees(np.arcsin(0.5*np.sqrt(3)))"
   ]
  },
  {
   "cell_type": "code",
   "execution_count": 3,
   "id": "ecdf52eb-9cba-4946-b40f-bb138a206e57",
   "metadata": {
    "tags": []
   },
   "outputs": [
    {
     "data": {
      "text/plain": [
       "120.00000000000001"
      ]
     },
     "execution_count": 3,
     "metadata": {},
     "output_type": "execute_result"
    }
   ],
   "source": [
    "np.degrees(np.arccos(-0.5))"
   ]
  },
  {
   "cell_type": "markdown",
   "id": "004875b8-de1a-46e9-b908-704f99e113d7",
   "metadata": {},
   "source": [
    "b) Answer the same question if the river flows at 6 mph and the rower rows at 3 mph."
   ]
  },
  {
   "cell_type": "markdown",
   "id": "fb7c8af7-33f3-46f8-bbfa-b5afa0394f04",
   "metadata": {},
   "source": [
    "$$ b_x = -6\\,\\mathrm{mph}$$"
   ]
  },
  {
   "cell_type": "markdown",
   "id": "4da20c5c-f0ca-4aac-a883-4720ded50007",
   "metadata": {},
   "source": [
    "$$ b_y = \\sqrt{9-36}\\,\\mathrm{mph} \\notin \\mathbb{R}$$"
   ]
  },
  {
   "cell_type": "markdown",
   "id": "43e2a5fc-d9d8-42bd-99e3-b9ac784b4858",
   "metadata": {},
   "source": [
    "#### Problem 2\n",
    "2. Find a unit vector in the direction of $\\langle2, 3\\rangle$."
   ]
  },
  {
   "cell_type": "markdown",
   "id": "5c9528ff-6a8a-431a-b166-73fb433f2202",
   "metadata": {},
   "source": [
    "$$ \\mathbf{u} = \\frac{\\langle2,3\\rangle}{|\\langle2,3\\rangle|}$$"
   ]
  },
  {
   "cell_type": "markdown",
   "id": "cefe5f51-01aa-427c-bd52-698f3ae35695",
   "metadata": {},
   "source": [
    "#### Problem 3\n",
    "3. Use vectors to prove that the diagonals of a parallelogram bisect each other."
   ]
  },
  {
   "cell_type": "markdown",
   "id": "b1e65f78-1deb-457a-a6d9-f5a62252901c",
   "metadata": {},
   "source": [
    "Suppose there exists a parallelogram $\\overline{OACB}$ resting on a vector plane, where $O$ is origin.  It now follows that $\\mathbf{A}+\\mathbf{B}=\\mathbf{C}$, $\\overrightarrow{AC} = \\mathbf{B} = \\overrightarrow{OB}$,   and $\\overrightarrow{BC} = \\mathbf{A} = \\overrightarrow{OA}$.  The edge of the parallelogram $\\overline{OA}$ corresponds to the vector $\\overrightarrow{OA}$, or, to put it another way: $\\overline{OA} \\,\\text{is}\\, \\overline{AO} \\,\\hat{=}\\, \\overrightarrow{OA} = \\mathbf{A}$.  Also,  \n",
    "\n",
    "$$ \\overline{AC} \\,\\hat{=}\\,\\overrightarrow{AC} = \\mathbf{B} = \\overrightarrow{OB}\\,\\hat{=}\\,\\overline{OB} \\quad\\quad\\text{and}\\quad\\quad \\overline{CB} \\,\\hat{=}\\,\\overrightarrow{BC}= \\mathbf{A}=\\overrightarrow{OA}\\,\\hat{=}\\,\\overline{OA}$$"
   ]
  },
  {
   "cell_type": "markdown",
   "id": "01f9ae39-0e0d-4304-8e95-6c631cfb20e8",
   "metadata": {},
   "source": [
    "The diagonals, $\\overline{OC}$ and $\\overline{BA}$, correspond to $\\overrightarrow{OC}$ and $\\overrightarrow{BA}$ respectively."
   ]
  },
  {
   "cell_type": "markdown",
   "id": "c276bfbe-9357-4c7d-97cd-7e912cfa78d7",
   "metadata": {},
   "source": [
    "$$ \\overline{OC} \\,\\hat{=}\\, \\overrightarrow{OC} = \\mathbf{C} \\quad\\quad\\text{and}\\quad\\quad \\overline{BA}\\,\\hat{=}\\,\\overrightarrow{BA} = \\mathbf{A} - \\mathbf{B}$$"
   ]
  },
  {
   "cell_type": "markdown",
   "id": "27581f18-b306-4529-a0dd-dec2e415fbb8",
   "metadata": {},
   "source": [
    "Now, let $\\overrightarrow{OM_1}$ denote the displacement from $O$ to the midpoint of $\\overline{OC}$ and let $\\overrightarrow{BM_2}$ denote the displacement from $B$ to the midpoint of $\\overline{BA}$.  It now follows that:  \n",
    "\n",
    "$$ \\overrightarrow{OM_1} = 0.5\\mathbf{C} = 0.5\\langle a_x + b_x, a_y+b_y\\rangle \\quad\\quad\\text{and}\\quad\\quad \\overrightarrow{BM_2} = 0.5\\mathbf{A} - 0.5\\mathbf{B} = 0.5\\langle a_x - b_x, a_y-b_y\\rangle $$"
   ]
  },
  {
   "cell_type": "markdown",
   "id": "42db0151-e64c-4510-ad50-bae4153225b9",
   "metadata": {},
   "source": [
    "If $M_1=M_2$ then the diagonals bisect one another.  \n",
    "\n",
    "$$ M_1 = 0.5(a_x + b_x, a_y+b_y)$$"
   ]
  },
  {
   "cell_type": "markdown",
   "id": "b3d6f69b-c50a-45e8-b27f-d54f837dbe99",
   "metadata": {},
   "source": [
    "$$ M_2 = 0.5(a_x-b_x, a_y-b_y) + B = M_1$$"
   ]
  },
  {
   "cell_type": "markdown",
   "id": "5a57d26f-e702-4dcd-b1c0-da9a3b742509",
   "metadata": {},
   "source": [
    "Whereas $M_2=M_1$, therefore the diagonals bisect one another."
   ]
  },
  {
   "cell_type": "markdown",
   "id": "cfcccd75-8023-4de6-b9f1-c3dc7e6d9351",
   "metadata": {},
   "source": [
    "#### Problem 4\n",
    "4. Prove using vector methods that the midpoints of the sides of a quadrilateral form a parallelogram"
   ]
  },
  {
   "cell_type": "markdown",
   "id": "ad84b475-b01b-4cbb-98bb-eac804657a8e",
   "metadata": {},
   "source": [
    "Suppose there exists a quadrilateral, denoted as $\\overline{OABC}$, resting on a vector plane, whereby $O$ is at the origin of said plane.  Now, let $M_1$, $M_2$, $M_3$ and $M_4$ denote  the midpoints of $\\overline{OA}$, $\\overline{AB}$, $\\overline{BC}$, and $\\overline{CO}$ respectively.  It now follows that:  \n",
    "\n",
    "$$ \\overrightarrow{OM_1} = 0.5\\overrightarrow{OA} = 0.5\\mathbf{A} = 0.5\\langle a_x, a_y\\rangle\\quad\\quad\\text{and}\\quad\\quad \\overrightarrow{AM_2} = 0.5\\overrightarrow{AB} = 0.5\\langle b_x-a_x, b_y- a_y \\rangle$$"
   ]
  },
  {
   "cell_type": "markdown",
   "id": "6cfd5391-37a2-4bf7-8c22-25db26f2c640",
   "metadata": {},
   "source": [
    "$$ \\overrightarrow{OM_4} = 0.5\\overrightarrow{OC} = 0.5\\mathbf{C} = 0.5\\langle c_x, c_y \\rangle\\quad\\quad\\text{and}\\quad\\quad \\overrightarrow{CM_3} = 0.5\\overrightarrow{CB} = 0.5\\langle b_x-c_x, b_y-c_y \\rangle$$"
   ]
  },
  {
   "cell_type": "markdown",
   "id": "119484a9-93ff-41e6-bd3d-485dc5410f24",
   "metadata": {},
   "source": [
    "$$ \\mathbf{A} + \\overrightarrow{AM_2} = \\langle m_{2,x}, m_{2,y} \\rangle = 0.5\\langle a_x+b_x,a_y+b_y \\rangle$$"
   ]
  },
  {
   "cell_type": "markdown",
   "id": "6f501124-6fe1-4927-ba8e-22f319ebdeff",
   "metadata": {},
   "source": [
    "$$ \\mathbf{C} + \\overrightarrow{CM3} = \\langle m_{3,x},m_{3,y} \\rangle = 0.5\\langle b_x+c_x,b_y + c_y \\rangle$$"
   ]
  },
  {
   "cell_type": "markdown",
   "id": "40dbacd4-5f39-41c0-9e08-fce5237e5b08",
   "metadata": {},
   "source": [
    "Thus,  \n",
    "\n",
    "$$ M_1 = 0.5A \\quad\\quad M_2 = 0.5(A+B) \\quad\\quad M_3 = 0.5(B+C) \\quad\\quad M_4 = 0.5C$$"
   ]
  },
  {
   "cell_type": "markdown",
   "id": "dcadc713-4964-495f-8428-1ff7dfd423e5",
   "metadata": {},
   "source": [
    "**Proposition**:  \n",
    "\n",
    "$$ |\\overline{M_1M_2}| = |\\overline{M_3M_4}| \\,\\land\\,\\overline{M_1M_2}\\,\\parallel\\,\\overline{M_3M_4}\\,\\land\\,|\\overline{M_2M_3}| = |\\overline{M_1M_4}|\\,\\land\\,\\overline{M_2M_3}\\,\\parallel\\,\\overline{M_1M_4}$$"
   ]
  },
  {
   "cell_type": "markdown",
   "id": "865e9967-6af2-4324-be23-90f54f674bc7",
   "metadata": {},
   "source": [
    "**Proof**:  "
   ]
  },
  {
   "cell_type": "markdown",
   "id": "6981fc95-0de8-4a07-84c7-3917eb2cc32f",
   "metadata": {},
   "source": [
    "Premise 1 (P1):  $\\overrightarrow{M_1M_2} = \\pm\\overrightarrow{M_3M_4} \\quad\\implies\\quad \\overline{M_1M_2} \\,\\parallel\\,\\overline{M_3M_4}\\,\\land\\,|\\overline{M_1M_2}| = |\\overline{M_3M_4}|$."
   ]
  },
  {
   "cell_type": "markdown",
   "id": "b871651e-9fe4-439a-a98e-1424c09b28b6",
   "metadata": {},
   "source": [
    "Premise 2 (P2):  $\\overrightarrow{M_2M_3} = \\pm\\overrightarrow{M_1M_4} \\quad\\implies\\quad \\overline{M_3M_2} \\,\\parallel\\,\\overline{M_1M_4}\\,\\land\\,|\\overline{M_3M_2}| = |\\overline{M_1M_4}|$."
   ]
  },
  {
   "cell_type": "markdown",
   "id": "3f90c301-8b46-4b81-a449-cfe2c87ae7be",
   "metadata": {},
   "source": [
    "Via the fact that $\\overrightarrow{M_1M_2} = 0.5\\langle b_x, b_y\\rangle$ and $\\overrightarrow{M_3M_4} = -\\overrightarrow{M_4M_3} = -0.5\\langle b_x,b_y \\rangle$, and equivalence principle,  $\\overrightarrow{M_1M_2} = -\\overrightarrow{M_3M_4} = \\overrightarrow{M_4M_3}$ (P3)."
   ]
  }
 ],
 "metadata": {
  "kernelspec": {
   "display_name": "Python 3 (ipykernel)",
   "language": "python",
   "name": "python3"
  },
  "language_info": {
   "codemirror_mode": {
    "name": "ipython",
    "version": 3
   },
   "file_extension": ".py",
   "mimetype": "text/x-python",
   "name": "python",
   "nbconvert_exporter": "python",
   "pygments_lexer": "ipython3",
   "version": "3.10.12"
  }
 },
 "nbformat": 4,
 "nbformat_minor": 5
}
