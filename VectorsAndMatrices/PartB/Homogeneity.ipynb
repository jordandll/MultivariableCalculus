{
 "cells": [
  {
   "cell_type": "markdown",
   "id": "5031aa44-1852-4ee9-b3df-db821f6be6e2",
   "metadata": {
    "tags": []
   },
   "source": [
    "# Session 14\n",
    "### Homogeneous and Inhomogeneous Systems\n",
    "\n",
    "On the basis of our work so far, we can formulate a few general results about square\n",
    "systems of linear equations. They are the theorems most frequently referred to in the\n",
    "applications.  \n",
    "\n",
    "**Definition**. The linear system $\\mathbf{Ax} = \\mathbf{b}$ is called **homogeneous** if $\\mathbf{b} = 0$; otherwise, it is called **inhomogeneous**.  \n",
    "\n",
    "**Theorem 1**.  Let $\\mathbf{A}$ be an $n$ x $n$ matrix.  \n",
    "\n",
    "\\begin{equation}\\tag{20}\n",
    "    |\\mathbf{A}| \\ne0\\quad\\implies\\quad \\mathbf{Ax} = \\mathbf{b}\\;\\text{has the unique solution }\\; \\mathbf{x} = \\mathbf{A}^{-1}\\mathbf{b}\n",
    "\\end{equation}\n",
    "\n",
    "\\begin{equation}\\tag{21}\n",
    "    |\\mathbf{A}| \\ne0\\quad\\implies\\quad \\mathbf{Ax} = 0\\;\\text{has only the trivial solution }\\; \\mathbf{x} = 0\n",
    "\\end{equation}"
   ]
  },
  {
   "cell_type": "markdown",
   "id": "220a9441-dcf5-4b6f-b4cc-d7b88448732b",
   "metadata": {},
   "source": [
    "Note that the homogeneous case of theorem 1, labeled as notion (21), is sometimes written as:  \n",
    "\n",
    "\\begin{equation}\\tag{21'}\n",
    "    \\mathbf{Ax} = 0\\;\\text{has a non-zero solution}\\quad\\implies\\quad |\\mathbf{A}| = 0\n",
    "\\end{equation}"
   ]
  },
  {
   "cell_type": "markdown",
   "id": "c6b80fc0-7257-44a7-8699-da997cae8458",
   "metadata": {},
   "source": [
    "Or, to put it another way, if the system, $\\mathbf{Ax} = 0$, has a non-zero solution then $|\\mathbf{A}|=0$.  \n",
    "\n",
    "The [reading material](https://ocw.mit.edu/courses/18-02sc-multivariable-calculus-fall-2010/ae721c48ce741018e1a3c2aefb6a8640_MIT18_02SC_MNotes_m3.pdf) for this session of the MIT course says that notion (21') is the *contrapositive form* of notion (21).  However, notion (21') does not follow from notion (21) under contradiction principle, which says that if $P\\;\\implies\\;Q$ then $\\neg Q \\;\\implies\\;\\neg P$.  \n",
    "\n",
    "In the abstract, $\\neg Q\\implies\\neg P$ is the contrapositive form of $P\\implies Q$.  As it applies to equation (21), $P$ corresponds to the notion that $|\\mathbf{A}|\\ne 0$ and $Q$ corresponds to the notion that $\\mathbf{Ax} = 0\\;\\text{has only the trivial solution }\\; \\mathbf{x} = 0$.  \n",
    "\n",
    "Now, let $P$ and $Q$ denote the notion that they correspond to.  Of course $\\neg P \\;\\iff|\\mathbf{A}|=0$, but $\\neg Q\\;\\iff\\;\\mathbf{Ax}=0$ has either a non-zero solution or no solution, or, put to put it more formally,  $\\neg Q\\;\\iff\\;(\\mathbf{Ax}=0\\;\\text{has a non-zero solution}\\;\\lor\\;\\mathbf{Ax}=0\\;\\text{has no solution})$."
   ]
  },
  {
   "cell_type": "markdown",
   "id": "55039de1-7310-4bf1-a89f-45e4dcf6670a",
   "metadata": {},
   "source": [
    "Without making reference to the homogeneity, or lack thereof, of the system, $\\mathbf{Ax}=\\mathbf{b}$, theorem 1 is simply notion (20), which covers notion (21).  Moreover, the contrapositive form of notion (20) is:  \n",
    "\n",
    "\\begin{equation}\\tag{20'}\n",
    "    \\text{The system, }\\mathbf{Ax}=\\mathbf{b}\\text{, has no unique solution}\\quad\\implies\\quad |\\mathbf{A}|=0\n",
    "\\end{equation}"
   ]
  },
  {
   "cell_type": "markdown",
   "id": "ca6f6735-5bab-42ae-8994-374e42fb70f9",
   "metadata": {},
   "source": [
    "And, notion (20') *does* follow from notion (20) under contradiction principle."
   ]
  },
  {
   "cell_type": "markdown",
   "id": "5ea884f6-2043-49bd-b34c-1efef3ad3ece",
   "metadata": {},
   "source": [
    "It is worth emphasizing that, while aforementioned reading material is incorrect in stating that notion (21') is the contrapositive form of notion (21), notions (20'), (21'), and the contrapositive form of notion (21) are all consistent with one another.  Indeed, the contrapositive form of notion (21) implies notion (21').  Trivially, it also implies that if the system, $\\mathbf{Ax}=0$, has no solution then $|\\mathbf{A}|=0$;  Which is trivial since the aforementioned system *always* has a solution."
   ]
  },
  {
   "cell_type": "markdown",
   "id": "1ba18335-a718-480f-b09b-6be709d1cdb7",
   "metadata": {},
   "source": [
    "**Theorem 2**:  Let $\\mathbf{A}$ be an $n$ $\\times$ $n$ matrix.  \n",
    "\n",
    "\\begin{equation}\\tag{23}\n",
    "    |\\mathbf{A}| = 0 \\quad\\implies\\quad \\mathbf{Ax}=\\mathbf{b}\\;\\text{has no unique solution.}\n",
    "\\end{equation}"
   ]
  },
  {
   "cell_type": "markdown",
   "id": "deef1125-5a24-4e7f-8daa-52d99c5ddf53",
   "metadata": {},
   "source": [
    "To ellaborate on the above, if $|\\mathbf{A}|=0$ then the system, $\\mathbf{Ax}=\\mathbf{b}$, usually has no solution, but, for some $\\mathbf{b}$, does have solutions.  And, in the case of a homogeneous system, if $|\\mathbf{A}|=0$ then $\\mathbf{Ax}=0$ has non-trivial (non-zero) solutions.  \n",
    "\n",
    "\\begin{equation}\\tag{22}\n",
    "    |\\mathbf{A}|=0\\quad\\implies\\quad \\mathbf{Ax}=0\\;\\text{has non-trivial (non-zero) solutions.}\n",
    "\\end{equation}"
   ]
  },
  {
   "cell_type": "markdown",
   "id": "c1d11912-630d-4969-b6e7-273a762e9251",
   "metadata": {},
   "source": [
    "In (23) we call the system **consistent** if it has solutions and **inconsistent** otherwise."
   ]
  },
  {
   "cell_type": "markdown",
   "id": "1ca980a2-9257-487f-ba48-7f4deb1e7fe4",
   "metadata": {},
   "source": [
    "Now let's look at how these two theorems apply to homogeneous and inhomogeneous systems seperately.  \n",
    "\n",
    "**Homogeneous systems**:  \n",
    "\n",
    "$$ \\mathbf{Ax} = 0\\;\\text{has non-zero (non-trivial) solutions}\\;\\iff\\;|\\mathbf{A}|=0$$"
   ]
  },
  {
   "cell_type": "markdown",
   "id": "a2db342c-3bce-4399-aa16-a454ff123989",
   "metadata": {},
   "source": [
    "**Inhomogeneous Systems**:  \n",
    "\n",
    "$$ \\mathbf{Ax}=\\mathbf{b}\\;\\text{has the unique solution, }\\mathbf{x}=\\mathbf{A}^{-1}\\mathbf{b}\\;\\iff\\;|\\mathbf{A}|\\ne0$$"
   ]
  },
  {
   "cell_type": "markdown",
   "id": "33259a5e-1e66-4fc1-98ed-74248d9fd9b3",
   "metadata": {},
   "source": [
    "The homogeneous generic application follows from notions (21') and (22).  The inhomogeneous generic application follows from notion (20) and the contrapositive form of notion (23), henceforth notion (23')."
   ]
  },
  {
   "cell_type": "markdown",
   "id": "9714e129-679f-4f82-b449-3692dd355ef4",
   "metadata": {},
   "source": [
    "## Examples\n",
    "#### Example 1\n",
    "1. Consider the system of equations:  \n",
    "\n",
    "$$ \\begin{matrix}x + 2y + 3z = 1\\\\ 4x + 5y + 6z = 2\\\\ 7x + 8y +cz = 3\\end{matrix}$$  "
   ]
  },
  {
   "cell_type": "markdown",
   "id": "7792af6c-2a2f-4c10-951f-73167f4625b7",
   "metadata": {},
   "source": [
    "a) Write the system in matrix form.  "
   ]
  },
  {
   "cell_type": "markdown",
   "id": "faf6a964-3bc3-4244-9559-83429d43bb39",
   "metadata": {},
   "source": [
    "$$\\begin{pmatrix}1 & 2 & 3 \\\\ 4 & 5 & 6 \\\\ 7 & 8 & c\\end{pmatrix}\\cdot\\begin{pmatrix}x \\\\ y \\\\ z\\end{pmatrix} = \\begin{pmatrix}1 \\\\ 2 \\\\ 3\\end{pmatrix}$$"
   ]
  },
  {
   "cell_type": "markdown",
   "id": "e86703aa-db07-4717-872e-7ffd2f334210",
   "metadata": {},
   "source": [
    "b) For which values of $c$ is there exactly one solution?"
   ]
  },
  {
   "cell_type": "markdown",
   "id": "406fd9b8-2e8c-4eab-97ca-9f9b57ec7925",
   "metadata": {},
   "source": [
    "There is a unique solution if and only if $|\\mathbf{A}|\\ne 0$, thus we must find a $c$ such that:  \n",
    "\n",
    "$$ 5c-6\\cdot8 - 2(4c - 6\\cdot7) + 3(32 - 35) = 27-3c\\ne 0$$"
   ]
  },
  {
   "cell_type": "markdown",
   "id": "6fac5c33-3621-44d1-b701-4a1ecad167d0",
   "metadata": {},
   "source": [
    "$$ c \\ne 9$$"
   ]
  },
  {
   "cell_type": "code",
   "execution_count": 1,
   "id": "ecacfd94-8d74-4dff-a41a-253a1050c15d",
   "metadata": {
    "tags": []
   },
   "outputs": [
    {
     "data": {
      "text/latex": [
       "$\\displaystyle 27 - 3 c$"
      ],
      "text/plain": [
       "27 - 3*c"
      ]
     },
     "execution_count": 1,
     "metadata": {},
     "output_type": "execute_result"
    }
   ],
   "source": [
    "import sympy as sp\n",
    "c = sp.symbols('c')\n",
    "f = 5*c - 6*8 - 2*(4*c - 6*7) -9\n",
    "f"
   ]
  },
  {
   "cell_type": "markdown",
   "id": "30961102-706c-475b-9fd4-bec41240fa56",
   "metadata": {},
   "source": [
    "c) For which values of $c$ are there either $0$ or infinitely many solutions?"
   ]
  },
  {
   "cell_type": "markdown",
   "id": "039b0964-e392-44d1-a867-7a54c1130ff5",
   "metadata": {},
   "source": [
    "$$ c=9$$"
   ]
  },
  {
   "cell_type": "markdown",
   "id": "121b44fb-3641-4fa9-bfc1-66baf7c8209e",
   "metadata": {},
   "source": [
    "d) Take the corresponding homogeneous system:  \n",
    "\n",
    "$$\\begin{pmatrix}1 & 2 & 3 \\\\ 4 & 5 & 6 \\\\ 7 & 8 & c\\end{pmatrix}\\cdot\\begin{pmatrix}x \\\\ y \\\\ z\\end{pmatrix} = 0$$\n",
    "\n",
    "For the value(s) of $c$ found in part (c) give all the solutions."
   ]
  },
  {
   "cell_type": "markdown",
   "id": "c07b5903-4984-4d5a-aa8c-abe32d7f6578",
   "metadata": {},
   "source": [
    "$$\\begin{pmatrix}1 & 2 & 3 \\\\ 4 & 5 & 6 \\\\ 7 & 8 & 9\\end{pmatrix}\\cdot\\begin{pmatrix}x \\\\ y \\\\ z\\end{pmatrix} = 0$$"
   ]
  },
  {
   "cell_type": "code",
   "execution_count": 4,
   "id": "2585f296-ee6a-461e-a86e-831497bd65bd",
   "metadata": {
    "tags": []
   },
   "outputs": [
    {
     "data": {
      "text/plain": [
       "{x: z, y: -2*z}"
      ]
     },
     "execution_count": 4,
     "metadata": {},
     "output_type": "execute_result"
    }
   ],
   "source": [
    "x, y, z = sp.symbols('x y z')\n",
    "eq1 = x + 2*y + 3*z\n",
    "eq2 = 4*x + 5*y + 6*z\n",
    "eq3 = 7*x + 8*y + 9*z\n",
    "sp.solve([eq1,eq2,eq3], x,y,z)"
   ]
  },
  {
   "cell_type": "markdown",
   "id": "329a1f0e-a565-4c5f-9a0a-0870fb1d8a4b",
   "metadata": {},
   "source": [
    "Let $\\mathbf{x}$ be defined as the column vector $\\mathbf{x}:=(x,y,z)^T$.  The solution is thus,  \n",
    "\n",
    "$$ \\mathbf{x} = \\begin{pmatrix}z \\\\ -2z \\\\ z\\end{pmatrix} $$"
   ]
  },
  {
   "cell_type": "markdown",
   "id": "fd0841a7-4c3f-411b-95c6-f51e2938611f",
   "metadata": {},
   "source": [
    "## Problems\n",
    "#### Problem 1\n",
    "1. Consider the system of equations:  \n",
    "\n",
    "$$ \\begin{matrix}x + y + 2z = 0\\\\ 2x + y + cz = 0\\\\ 3x + y +6z = 0\\end{matrix}$$  "
   ]
  },
  {
   "cell_type": "code",
   "execution_count": 9,
   "id": "7aa13cd1-0f57-4eeb-900f-d3937470ca60",
   "metadata": {
    "tags": []
   },
   "outputs": [
    {
     "data": {
      "text/latex": [
       "$\\displaystyle \\left[\\begin{matrix}1 & 1 & 2\\\\2 & 1 & c\\\\3 & 1 & 6\\end{matrix}\\right]$"
      ],
      "text/plain": [
       "Matrix([\n",
       "[1, 1, 2],\n",
       "[2, 1, c],\n",
       "[3, 1, 6]])"
      ]
     },
     "execution_count": 9,
     "metadata": {},
     "output_type": "execute_result"
    }
   ],
   "source": [
    "A_gen = sp.Matrix([[1,1,2],[2,1,c],[3,1,6]]); A_gen"
   ]
  },
  {
   "cell_type": "markdown",
   "id": "6c0e436d-2bf4-482b-a12d-d0f00a25ca06",
   "metadata": {},
   "source": [
    "Let $\\mathbf{A}$ be the coefficient matrix of the above system of equations."
   ]
  },
  {
   "cell_type": "markdown",
   "id": "64f9cfb5-da21-40a3-b5ac-9d562273011f",
   "metadata": {},
   "source": [
    "a) Take $c=1$ and find all the solutions.  "
   ]
  },
  {
   "cell_type": "code",
   "execution_count": 10,
   "id": "8c9a7439-84b5-49dd-9957-bf5648b25bff",
   "metadata": {
    "tags": []
   },
   "outputs": [
    {
     "data": {
      "text/latex": [
       "$\\displaystyle \\left[\\begin{matrix}1 & 1 & 2\\\\2 & 1 & 1\\\\3 & 1 & 6\\end{matrix}\\right]$"
      ],
      "text/plain": [
       "Matrix([\n",
       "[1, 1, 2],\n",
       "[2, 1, 1],\n",
       "[3, 1, 6]])"
      ]
     },
     "execution_count": 10,
     "metadata": {},
     "output_type": "execute_result"
    }
   ],
   "source": [
    "A = A_gen.subs(c,1); A"
   ]
  },
  {
   "cell_type": "code",
   "execution_count": 11,
   "id": "6614172b-3429-4f89-b49c-672eed44e82c",
   "metadata": {
    "tags": []
   },
   "outputs": [
    {
     "data": {
      "text/latex": [
       "$\\displaystyle -6$"
      ],
      "text/plain": [
       "-6"
      ]
     },
     "execution_count": 11,
     "metadata": {},
     "output_type": "execute_result"
    }
   ],
   "source": [
    "A.det()"
   ]
  },
  {
   "cell_type": "markdown",
   "id": "c8598be9-5818-4668-9bc1-ce9a09be6552",
   "metadata": {},
   "source": [
    "Since $|\\mathbf{A}| = -6\\ne 0$ the only solution is the trivial, $x=0,y=0,z=0$."
   ]
  },
  {
   "cell_type": "markdown",
   "id": "30731813-5fc3-49e3-bd46-997bc1f89f6d",
   "metadata": {},
   "source": [
    "b) Take $c=4$ and find all the solutions."
   ]
  },
  {
   "cell_type": "code",
   "execution_count": 13,
   "id": "479a207c-f339-41d8-9ec0-0598722d45e9",
   "metadata": {
    "tags": []
   },
   "outputs": [
    {
     "data": {
      "text/latex": [
       "$\\displaystyle \\left[\\begin{matrix}1 & 1 & 2\\\\2 & 1 & 4\\\\3 & 1 & 6\\end{matrix}\\right]$"
      ],
      "text/plain": [
       "Matrix([\n",
       "[1, 1, 2],\n",
       "[2, 1, 4],\n",
       "[3, 1, 6]])"
      ]
     },
     "execution_count": 13,
     "metadata": {},
     "output_type": "execute_result"
    }
   ],
   "source": [
    "A = A_gen.subs(c,4); A"
   ]
  },
  {
   "cell_type": "code",
   "execution_count": 14,
   "id": "8744cfe8-4f94-4eb8-bd6a-e8a4495855a0",
   "metadata": {
    "tags": []
   },
   "outputs": [
    {
     "data": {
      "text/latex": [
       "$\\displaystyle 0$"
      ],
      "text/plain": [
       "0"
      ]
     },
     "execution_count": 14,
     "metadata": {},
     "output_type": "execute_result"
    }
   ],
   "source": [
    "A.det()"
   ]
  },
  {
   "cell_type": "code",
   "execution_count": 18,
   "id": "dcee9bd3-b3ce-43ee-92a0-95dfb2f8b1b1",
   "metadata": {
    "tags": []
   },
   "outputs": [
    {
     "data": {
      "text/plain": [
       "{x: -2*z, y: 0}"
      ]
     },
     "execution_count": 18,
     "metadata": {},
     "output_type": "execute_result"
    }
   ],
   "source": [
    "eq1 = x + y + 2*z\n",
    "eq2 = 2*x + y + 4*z\n",
    "eq3 = 3*x + y + 6*z\n",
    "sp.solve([eq1,eq2,eq3], x,y,z)"
   ]
  },
  {
   "cell_type": "markdown",
   "id": "b2306cb0-cfdd-4030-810a-a04f0cabd4d1",
   "metadata": {},
   "source": [
    "Let $\\mathbf{x}$ be defined as the column vector $\\mathbf{x}:=(x,y,z)^T$.  The solution is thus,  \n",
    "\n",
    "$$ \\mathbf{x}=\\begin{pmatrix}-2z\\\\ 0 \\\\ z\\end{pmatrix}$$"
   ]
  },
  {
   "cell_type": "markdown",
   "id": "ad696fdd-f66b-48c5-a17d-6fdc40d76e9e",
   "metadata": {},
   "source": [
    "The intersection of the three planes given by the system of equations forms a line resting on the $x,z$-plane."
   ]
  }
 ],
 "metadata": {
  "kernelspec": {
   "display_name": "Python 3 (ipykernel)",
   "language": "python",
   "name": "python3"
  },
  "language_info": {
   "codemirror_mode": {
    "name": "ipython",
    "version": 3
   },
   "file_extension": ".py",
   "mimetype": "text/x-python",
   "name": "python",
   "nbconvert_exporter": "python",
   "pygments_lexer": "ipython3",
   "version": "3.10.12"
  }
 },
 "nbformat": 4,
 "nbformat_minor": 5
}
