{
 "cells": [
  {
   "cell_type": "markdown",
   "id": "b5d5eb34-85b4-4908-b34f-09bfeef54667",
   "metadata": {},
   "source": [
    "# Linear Systems and Planes\n",
    "\n",
    "## Problems "
   ]
  },
  {
   "cell_type": "markdown",
   "id": "4544de79-70ac-4937-8a1d-d918c7e1e253",
   "metadata": {},
   "source": [
    "Geometry of systems of equations\n",
    "\n",
    "1. Write a 3-by-3 system of equations  \n",
    "\n",
    "a) with no solutions and where all the planes are parallel;"
   ]
  },
  {
   "cell_type": "markdown",
   "id": "42ba9e64-8929-4109-b257-976b5a087bb0",
   "metadata": {},
   "source": [
    "**Specific case:**  \n",
    "\n",
    "$$ x+y+z = -1$$  \n",
    "\n",
    "$$ x+y+z = 0$$  \n",
    "\n",
    "$$ x+ y + z = 1$$"
   ]
  },
  {
   "cell_type": "markdown",
   "id": "d73a86bc-be78-4bb0-98be-e9fcdc264bd9",
   "metadata": {},
   "source": [
    "In matrix form:  \n",
    "\n",
    "$$ \\begin{pmatrix}1 & 1 & 1 \\\\ 1 & 1 & 1 \\\\ 1 & 1 & 1\\end{pmatrix}\\cdot\\begin{pmatrix}x\\\\y\\\\z\\end{pmatrix} = \\begin{pmatrix}-1\\\\0\\\\1\\end{pmatrix}$$"
   ]
  },
  {
   "cell_type": "markdown",
   "id": "74e746ef-d242-47e3-8130-772afb2a6bba",
   "metadata": {},
   "source": [
    "Or, to put it another way:  \n",
    "\n",
    "$$ \\begin{bmatrix}\\mathbf{N}\\;\\mathbf{N}\\;\\mathbf{N}\\end{bmatrix}\\cdot\\begin{pmatrix}x\\\\y\\\\z\\end{pmatrix} = \\begin{pmatrix}-1\\\\0\\\\1\\end{pmatrix}$$"
   ]
  },
  {
   "cell_type": "markdown",
   "id": "68caac6e-29c9-40ad-a6f4-d02260bcef87",
   "metadata": {},
   "source": [
    "where $\\mathbf{N}=\\langle 1,1,1\\rangle$ is a column (or row) vector."
   ]
  },
  {
   "cell_type": "markdown",
   "id": "262297cf-2d19-4353-be5a-f88088be5195",
   "metadata": {},
   "source": [
    "b) where two planes are parallel and the other intersects them;"
   ]
  },
  {
   "cell_type": "markdown",
   "id": "a6f4a850-f704-4495-b096-79ee67902a9f",
   "metadata": {},
   "source": [
    "**Specific case:**  \n",
    "\n",
    "$$ x+y+z=0$$  \n",
    "\n",
    "$$ x+y+z=1$$  \n",
    "\n",
    "$$ x+2y+z=1$$"
   ]
  },
  {
   "cell_type": "markdown",
   "id": "28337aa4-c62e-4d6f-95d1-a8e95d484981",
   "metadata": {},
   "source": [
    "c) where the planes are all different and all intersect in a line"
   ]
  },
  {
   "cell_type": "markdown",
   "id": "068aae39-4667-487e-b0e2-d71285750542",
   "metadata": {},
   "source": [
    "**In general**:  Let $O$ and $A$ be defined as:  \n",
    "\n",
    "$$ O = (x_0, y_0, z_0) \\quad\\quad\\text{and}\\quad\\quad A = (A_x, A_y, A_z)$$"
   ]
  },
  {
   "cell_type": "code",
   "execution_count": null,
   "id": "ae748701-9b76-48e4-8a43-58e9cbc2d543",
   "metadata": {},
   "outputs": [],
   "source": []
  },
  {
   "cell_type": "markdown",
   "id": "5d0d250d-6257-4914-8525-8b39a218e1fb",
   "metadata": {},
   "source": [
    "And, let $\\mathbf{A}$ and $\\mathbf{B}_i$ be defined as:  \n",
    "\n",
    "$$ \\mathbf{A} := \\overrightarrow{OA} = \\langle A_x - x_0, A_y-y_0, A_z-z_0\\rangle$$"
   ]
  },
  {
   "cell_type": "markdown",
   "id": "7662ec87-09b7-4f8d-946f-37d476b0e19e",
   "metadata": {},
   "source": [
    "and,  \n",
    "\n",
    "$$ \\mathbf{B}_i:=\\overrightarrow{OB_i} =\\langle B_{i,x} - x_0, B_{i,y} - y_0, B_{i,z}-z_0\\rangle \\,\\forall i\\in\\{1,2,3\\}$$"
   ]
  },
  {
   "cell_type": "markdown",
   "id": "f233eeb2-1b39-42a7-b7cb-569dbfedd584",
   "metadata": {},
   "source": [
    "Now, let $\\mathbf{N}_i$ be defined as:  \n",
    "\n",
    "\\begin{align*}\n",
    "    \\mathbf{N}_i&:=\\mathbf{A}\\times\\mathbf{B}_i\\quad\\quad\\text{where }\\cos\\theta = \\frac{\\mathbf{A}\\cdot\\mathbf{B}_i}{|\\mathbf{A}||\\mathbf{B}_i|}\\,\\forall i\\in\\{1,2,3\\} \\\\\n",
    "    \\mathbf{N}_i&:= \\langle n_{i,1}, n_{i,2}, n_{i,3}\\rangle \\;\\forall i\\in\\{1,2,3\\}\n",
    "\\end{align*}"
   ]
  },
  {
   "cell_type": "markdown",
   "id": "19fe3c2e-6ac5-4d65-9968-91ba7aced8d7",
   "metadata": {},
   "source": [
    "\\begin{align*}\n",
    "    \\mathbf{N}_i &= \\left|\\begin{matrix} \\mathbf{i} & \\mathbf{j} & \\mathbf{k} \\\\ a_x & a_y & a_z \\\\ b_{i,x} & b_{i,y} & b_{i,z}\\end{matrix}\\right|\\\\ \\\\\n",
    "     &= \\langle a_yb_{i,z} - a_zb_{i,y}, a_zb_{i,x} - a_xb_{i,z}, a_xb_{i,y} - a_yb_{i,x}\\rangle\\;\\forall i\\in\\{1,2,3\\}\n",
    "\\end{align*}"
   ]
  },
  {
   "cell_type": "markdown",
   "id": "d56b61eb-87a0-48fb-90d7-93b2473fecc9",
   "metadata": {},
   "source": [
    "Assuming $|\\mathbf{B}_1| = |\\mathbf{B}_2|  =|\\mathbf{B}_3| $,  \n",
    "\n",
    "$$ |\\mathbf{A}||\\mathbf{B}_1|\\cos\\theta = \\mathbf{A}\\cdot\\mathbf{B}_1 = \\mathbf{A}\\cdot\\mathbf{B}_2 = \\mathbf{A}\\cdot\\mathbf{B}_3$$"
   ]
  },
  {
   "cell_type": "markdown",
   "id": "277d5c26-c779-4704-bd1a-5a78745c6dd8",
   "metadata": {},
   "source": [
    "Our system of equations is:  "
   ]
  },
  {
   "cell_type": "markdown",
   "id": "15f35c89-4842-4c10-83d5-33af0e4f87bd",
   "metadata": {},
   "source": [
    "In matrix form:  \n",
    "\n",
    "$$  \\mathbf{N}\\cdot\\begin{pmatrix}x-x_0\\\\ y-y_0\\\\ z-z_0\\end{pmatrix} = 0\\quad\\quad\\text{where }\\mathbf{N} = \\begin{bmatrix}\\mathbf{N}_i\\;\\forall i\\in\\{1,2,3\\}\\end{bmatrix}$$"
   ]
  },
  {
   "cell_type": "markdown",
   "id": "7d356e9d-49d5-4238-b27f-ff38b719b9c3",
   "metadata": {},
   "source": [
    "Note that $\\mathbf{N}_i$ is a row vector of $\\mathbf{N}$.  In this generic case, the three planes given by the above equations intersect through $O$ and $A$.  The parameters of these plane equations are constrained by the fact that the measure of the angle between $\\mathbf{A}$ and $\\mathbf{B}_i$, denoted as '$\\theta$', is the same for all $i\\in\\{1,2,3\\}$, which ties in with the fact that all three planes intersect in a line."
   ]
  }
 ],
 "metadata": {
  "kernelspec": {
   "display_name": "Python 3 (ipykernel)",
   "language": "python",
   "name": "python3"
  },
  "language_info": {
   "codemirror_mode": {
    "name": "ipython",
    "version": 3
   },
   "file_extension": ".py",
   "mimetype": "text/x-python",
   "name": "python",
   "nbconvert_exporter": "python",
   "pygments_lexer": "ipython3",
   "version": "3.10.12"
  }
 },
 "nbformat": 4,
 "nbformat_minor": 5
}
