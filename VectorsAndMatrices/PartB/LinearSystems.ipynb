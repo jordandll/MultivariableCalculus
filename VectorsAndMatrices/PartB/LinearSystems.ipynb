{
 "cells": [
  {
   "cell_type": "markdown",
   "id": "b5d5eb34-85b4-4908-b34f-09bfeef54667",
   "metadata": {},
   "source": [
    "# Linear Systems and Planes\n",
    "\n",
    "## Problems "
   ]
  },
  {
   "cell_type": "markdown",
   "id": "4544de79-70ac-4937-8a1d-d918c7e1e253",
   "metadata": {},
   "source": [
    "Geometry of systems of equations\n",
    "\n",
    "1. Write a 3-by-3 system of equations  \n",
    "\n",
    "a) with no solutions and where all the planes are parallel;"
   ]
  },
  {
   "cell_type": "markdown",
   "id": "42ba9e64-8929-4109-b257-976b5a087bb0",
   "metadata": {},
   "source": [
    "**Specific case:**  \n",
    "\n",
    "$$ x+y+z = -1$$  \n",
    "\n",
    "$$ x+y+z = 0$$  \n",
    "\n",
    "$$ x+ y + z = 1$$"
   ]
  },
  {
   "cell_type": "markdown",
   "id": "d73a86bc-be78-4bb0-98be-e9fcdc264bd9",
   "metadata": {},
   "source": [
    "In matrix form:  \n",
    "\n",
    "$$ \\begin{pmatrix}1 & 1 & 1 \\\\ 1 & 1 & 1 \\\\ 1 & 1 & 1\\end{pmatrix}\\cdot\\begin{pmatrix}x\\\\y\\\\z\\end{pmatrix} = \\begin{pmatrix}-1\\\\0\\\\1\\end{pmatrix}$$"
   ]
  },
  {
   "cell_type": "markdown",
   "id": "74e746ef-d242-47e3-8130-772afb2a6bba",
   "metadata": {},
   "source": [
    "Or, to put it another way:  \n",
    "\n",
    "$$ \\begin{bmatrix}\\mathbf{N}\\;\\mathbf{N}\\;\\mathbf{N}\\end{bmatrix}\\cdot\\begin{pmatrix}x\\\\y\\\\z\\end{pmatrix} = \\begin{pmatrix}-1\\\\0\\\\1\\end{pmatrix}$$"
   ]
  },
  {
   "cell_type": "markdown",
   "id": "68caac6e-29c9-40ad-a6f4-d02260bcef87",
   "metadata": {},
   "source": [
    "where $\\mathbf{N}=\\langle 1,1,1\\rangle$ is a column (or row) vector."
   ]
  },
  {
   "cell_type": "markdown",
   "id": "262297cf-2d19-4353-be5a-f88088be5195",
   "metadata": {},
   "source": [
    "b) where two planes are parallel and the other intersects them;"
   ]
  },
  {
   "cell_type": "markdown",
   "id": "a6f4a850-f704-4495-b096-79ee67902a9f",
   "metadata": {},
   "source": [
    "**Specific case:**  \n",
    "\n",
    "$$ x+y+z=0$$  \n",
    "\n",
    "$$ x+y+z=1$$  \n",
    "\n",
    "$$ x+2y+z=1$$"
   ]
  },
  {
   "cell_type": "markdown",
   "id": "28337aa4-c62e-4d6f-95d1-a8e95d484981",
   "metadata": {},
   "source": [
    "c) where the planes are all different and all intersect in a line"
   ]
  },
  {
   "cell_type": "markdown",
   "id": "068aae39-4667-487e-b0e2-d71285750542",
   "metadata": {},
   "source": [
    "**In general**:  Let $O$ and $A$ be defined as:  \n",
    "\n",
    "$$ O = (x_0, y_0, z_0) \\quad\\quad\\text{and}\\quad\\quad A = (A_x, A_y, A_z)$$"
   ]
  },
  {
   "cell_type": "markdown",
   "id": "5d0d250d-6257-4914-8525-8b39a218e1fb",
   "metadata": {},
   "source": [
    "And, let $\\mathbf{A}$ and $\\mathbf{B}_i$ be defined as:  \n",
    "\n",
    "$$ \\mathbf{A} := \\overrightarrow{OA} = \\langle A_x - x_0, A_y-y_0, A_z-z_0\\rangle$$"
   ]
  },
  {
   "cell_type": "markdown",
   "id": "7662ec87-09b7-4f8d-946f-37d476b0e19e",
   "metadata": {},
   "source": [
    "and,  \n",
    "\n",
    "$$ \\mathbf{B}_i:=\\overrightarrow{OB_i} =\\langle B_{i,x} - x_0, B_{i,y} - y_0, B_{i,z}-z_0\\rangle\\quad\\quad\\text{where }|\\mathbf{A}\\cdot\\mathbf{B}_i|\\ne |\\mathbf{A}||\\mathbf{B}_i| \\,\\forall i\\in\\{1,2,3\\}$$"
   ]
  },
  {
   "cell_type": "markdown",
   "id": "296bf72d-4870-485b-8c54-06dda6a76149",
   "metadata": {},
   "source": [
    "Note that $\\mathbf{A}$ is *not* parallel to $\\mathbf{B}_i$ due to the caveat of the definition of $\\mathbf{B}_i$.  \n",
    "\n",
    "$$ \\mathbf{A}\\nparallel\\mathbf{B}_i \\quad\\iff\\quad |\\mathbf{A}\\cdot\\mathbf{B}_i|\\ne|\\mathbf{A}||\\mathbf{B}_i|$$"
   ]
  },
  {
   "cell_type": "markdown",
   "id": "f233eeb2-1b39-42a7-b7cb-569dbfedd584",
   "metadata": {},
   "source": [
    "Now, let $\\mathbf{N}_i$ be defined as:  \n",
    "\n",
    "\\begin{align*}\n",
    "    \\mathbf{N}_i&:=\\mathbf{A}\\times\\mathbf{B}_i\\\\\n",
    "    \\mathbf{N}_i&:= \\langle n_{i,1}, n_{i,2}, n_{i,3}\\rangle \\;\\forall i\\in\\{1,2,3\\}\n",
    "\\end{align*}"
   ]
  },
  {
   "cell_type": "markdown",
   "id": "081f30a1-d51f-45a6-ad36-8da8f38df44f",
   "metadata": {},
   "source": [
    "\\begin{align*}\n",
    "    \\mathbf{N}_i &= \\left|\\begin{matrix} \\mathbf{i} & \\mathbf{j} & \\mathbf{k} \\\\ a_x & a_y & a_z \\\\ b_{i,x} & b_{i,y} & b_{i,z}\\end{matrix}\\right|\\\\ \\\\\n",
    "     &= \\langle a_yb_{i,z} - a_zb_{i,y}, a_zb_{i,x} - a_xb_{i,z}, a_xb_{i,y} - a_yb_{i,x}\\rangle\\;\\forall i\\in\\{1,2,3\\} \\\\\n",
    "     &= \\langle a_2b_{i,3} - a_3b_{i,2}, a_3b_{i,1} - a_1b_{i,3}, a_1b_{i,2} - a_2b_{i,1}\\rangle\\;\\forall i\\in\\{1,2,3\\} \n",
    "\\end{align*}"
   ]
  },
  {
   "cell_type": "markdown",
   "id": "a04a0cae-0676-4c05-89ec-9bd7f3b75594",
   "metadata": {},
   "source": [
    "Whereas $\\mathbf{A}$ is not parallel to $\\mathbf{B}_i$ therefore $\\mathbf{N}_i$ is not equal to zero.  \n",
    "\n",
    "$$ \\mathbf{A}\\nparallel\\mathbf{B}_i\\therefore \\mathbf{N}_i\\ne0\\;\\forall i\\in\\{1,2,3\\}$$"
   ]
  },
  {
   "cell_type": "markdown",
   "id": "277d5c26-c779-4704-bd1a-5a78745c6dd8",
   "metadata": {},
   "source": [
    "Our system of equations is:  "
   ]
  },
  {
   "cell_type": "markdown",
   "id": "15f35c89-4842-4c10-83d5-33af0e4f87bd",
   "metadata": {},
   "source": [
    "In matrix form:  \n",
    "\n",
    "$$  \\mathbf{N}\\cdot\\begin{pmatrix}x-x_0\\\\ y-y_0\\\\ z-z_0\\end{pmatrix} = 0\\quad\\quad\\text{where }\\mathbf{N} = \\begin{bmatrix}\\mathbf{N}_i\\;\\forall i\\in\\{1,2,3\\}\\end{bmatrix}$$"
   ]
  },
  {
   "cell_type": "markdown",
   "id": "7d356e9d-49d5-4238-b27f-ff38b719b9c3",
   "metadata": {},
   "source": [
    "Note that $\\mathbf{N}_i$ is a row vector of $\\mathbf{N}$.  In this generic case, the three planes given by the above equations intersect through $O$ and $A$.  One caveat is, of course, that no two row vectors of $\\mathbf{N}$ can be parallel.  Below are conditions that must be met in order to satisfy this caveat.  "
   ]
  },
  {
   "cell_type": "markdown",
   "id": "ca87c2fe-f3d1-4b5d-985a-4508de195f7a",
   "metadata": {},
   "source": [
    "There must not exist a real number $C_1$ such that $\\mathbf{N}_1 = C_1\\mathbf{N}_2$.\n",
    "\n",
    "$$ \\mathbf{N}_1\\parallel\\mathbf{N}_2\\;\\iff\\;\\exists C_1 \\in \\mathbb{R}\\,:\\, \\mathbf{N}_1 = C_1\\mathbf{N}_2 \\quad\\iff\\quad  n_{1,1} = C_1n_{2,1}\\,\\land\\,n_{1,2} = C_1n_{2,2}\\,\\land\\,n_{1,3} = C_1n_{2,3}\\quad\\text{where }C_1\\in\\mathbb{R}$$"
   ]
  },
  {
   "cell_type": "markdown",
   "id": "9f5297eb-3ea4-4915-b345-4430c48fe290",
   "metadata": {},
   "source": [
    "Thus, the non-existance of $C_1$, and, in turn, $\\mathbf{N}_1$ not being parallel to $\\mathbf{N}_2$, depends on and is implied by atleast one of the factors of the right hand side of the above if and only if logical connective being false.  There are many possibilities that imply that $\\nexists C_1\\in\\mathbb{R}\\,:\\,\\mathbf{N}_1=C_1\\mathbf{N}_2$.  It would be arduous to go over all of them in the abstract."
   ]
  },
  {
   "cell_type": "markdown",
   "id": "f167c63a-f288-46e1-b340-af5b55e0d50f",
   "metadata": {},
   "source": [
    "$$ \\mathbf{N}_1 \\nparallel \\mathbf{N}_2 \\quad\\iff\\quad |\\mathbf{N}_1\\cdot\\mathbf{N}_2| \\ne |\\mathbf{N}_1||\\mathbf{N}_2|$$"
   ]
  },
  {
   "cell_type": "markdown",
   "id": "facef19e-be40-44a9-b95e-b79a6ca0082d",
   "metadata": {},
   "source": [
    "More broadly speaking,  \n",
    "\n",
    "$$ \\mathbf{N}_i \\nparallel \\mathbf{N}_j \\quad\\iff\\quad |\\mathbf{N}_i\\cdot\\mathbf{N}_j| \\ne |\\mathbf{N}_i||\\mathbf{N}_j| \\quad\\quad\\text{where }i,j\\in\\{1,2,3\\}\\,\\land\\,i\\ne j$$"
   ]
  },
  {
   "cell_type": "markdown",
   "id": "c7c4dbd9-8a5f-4284-b0a3-ae78a43b85f0",
   "metadata": {},
   "source": [
    "Thus, in order to ensure that no two row vectors in $\\mathbf{N}$ are parallel, the following must hold true:  \n",
    "\n",
    "$$ |\\mathbf{N}_i\\cdot\\mathbf{N}_j| \\ne |\\mathbf{N}_i||\\mathbf{N}_j|\\quad\\forall (i,j)\\in\\{(1,2),(1,3),(2,3)\\}$$"
   ]
  },
  {
   "cell_type": "markdown",
   "id": "dc2a1e19-a9e5-459a-b671-a3d7e704068b",
   "metadata": {},
   "source": [
    "**Specific example**:  \n",
    "\n",
    "\\begin{equation}\\tag{2.1}\n",
    "    x = 0\n",
    "\\end{equation}\n",
    "\n",
    "\\begin{equation}\\tag{2.2}\n",
    "    y = 0\n",
    "\\end{equation}\n",
    "\n",
    "\\begin{equation}\\tag{2.3}\n",
    "    x+y=0\n",
    "\\end{equation}"
   ]
  },
  {
   "cell_type": "markdown",
   "id": "65249a2a-695a-48a9-a456-dd4fc65ef668",
   "metadata": {},
   "source": [
    "The three planes intersect at the $z$-axis.  The first equation gives the $z,y$-plane, the second: the $z,x$-plane.  To prove this, and subsequently verify the above generalizations, let's identify two points that rest on the $z$-axis.  \n",
    "\n",
    "$$ O = (0,0,0) \\quad\\quad\\text{and}\\quad\\quad A = (0,0,1) $$"
   ]
  },
  {
   "cell_type": "markdown",
   "id": "838b9154-0f76-45da-ab7b-68fad5a953e6",
   "metadata": {},
   "source": [
    "Thus,  \n",
    "\n",
    "$$ \\mathbf{A} = \\langle 0,0,1\\rangle$$"
   ]
  },
  {
   "cell_type": "markdown",
   "id": "46623970-3537-407e-b92f-2271f410b669",
   "metadata": {},
   "source": [
    "Next, we need to identify a point $B_i$ that rests on the plane given by equation (2.$i$) for all $i\\in\\{1,2,3\\}$.  \n",
    "\n",
    "$$ B_1 = (0, 1, 1) \\quad\\implies\\quad \\mathbf{B}_1 = \\langle 0,1,1\\rangle$$"
   ]
  },
  {
   "cell_type": "markdown",
   "id": "ee54a01a-a852-4de5-8416-3a23dde5a6ec",
   "metadata": {},
   "source": [
    "$$ B_2 = (1, 0, 1) \\quad\\implies\\quad \\mathbf{B}_2 = \\langle 1,0,1\\rangle$$"
   ]
  },
  {
   "cell_type": "markdown",
   "id": "b534a743-f5fd-4d75-88b3-88e5609e9f6f",
   "metadata": {},
   "source": [
    "$$ B_3 = (-1, 1, 1) \\quad\\implies\\quad \\mathbf{B}_3 = \\langle -1,1,1\\rangle$$"
   ]
  },
  {
   "cell_type": "markdown",
   "id": "7daf41ba-1aa5-49e1-88ce-688e863b2f64",
   "metadata": {},
   "source": [
    "It is obvious that:  \n",
    "\n",
    "$$ \\mathbf{A}\\nparallel\\mathbf{B}_i\\,\\forall i \\in\\{1,2,3\\}$$"
   ]
  },
  {
   "cell_type": "markdown",
   "id": "e72ed19b-22a2-4bea-89d5-37446a851dad",
   "metadata": {},
   "source": [
    "$$ \\mathbf{N}_1 = \\langle -1, 0, 0\\rangle \\quad\\quad\\mathbf{N}_2 = \\langle 0, 1, 0\\rangle \\quad\\quad\\mathbf{N}_3 = \\langle -1, -1, 0\\rangle$$"
   ]
  },
  {
   "cell_type": "markdown",
   "id": "bc61720f-82b5-49c3-8543-0c6800a4a2dd",
   "metadata": {},
   "source": [
    "Thus,  \n",
    "\n",
    "$$ \\begin{pmatrix}-1 & 0 & 0 \\\\ 0 & 1 & 0 \\\\ -1 & -1 & 0\\end{pmatrix}\\cdot\\begin{pmatrix}x\\\\y\\\\z\\end{pmatrix} = 0$$"
   ]
  },
  {
   "cell_type": "markdown",
   "id": "8ab4c5d0-ec81-42fa-b579-473f7158e226",
   "metadata": {},
   "source": [
    "**Further reading**:  Suppose we want three planes that intersect the $x$-axis.  First, let $O$ and $A$ be defined as:  \n",
    "\n",
    "$$ O = (0,0,0) \\quad\\quad\\text{and}\\quad\\quad A = (1,0,0)$$"
   ]
  },
  {
   "cell_type": "markdown",
   "id": "aad8e0b7-457b-4385-b559-dfd1e7d0a208",
   "metadata": {},
   "source": [
    "It follows that:  \n",
    "\n",
    "$$ \\mathbf{A} = \\langle 1,0,0\\rangle = \\mathbf{i}$$"
   ]
  },
  {
   "cell_type": "markdown",
   "id": "2ada5abf-51f7-44bc-942d-f83320fd426b",
   "metadata": {},
   "source": [
    "Now, let $\\mathbf{B}_1$ be defined as:  \n",
    "\n",
    "$$ \\mathbf{B}_1:=\\langle 1,1,0\\rangle = \\mathbf{i} + \\mathbf{j} = \\mathbf{A} + \\mathbf{j}$$"
   ]
  },
  {
   "cell_type": "markdown",
   "id": "13396079-f66e-462c-970d-4af6d626bbaf",
   "metadata": {},
   "source": [
    "$$ \\mathbf{N}_1 = \\langle 0,0,1\\rangle$$"
   ]
  },
  {
   "cell_type": "markdown",
   "id": "d2d9befc-f215-414d-adcc-e5d00c167339",
   "metadata": {},
   "source": [
    "\\begin{equation}\\tag{3.1}\n",
    "    z = 0\n",
    "\\end{equation}"
   ]
  },
  {
   "cell_type": "markdown",
   "id": "6e2619c4-96f6-4846-9d4e-653e22564d08",
   "metadata": {},
   "source": [
    "The first plane is the $x,y$-plane.  Now, suppose we want to find another plane that intersects the aforementioned plane at a dihedral angle of $\\omega$.  We of course should find a $\\mathbf{B}_2$ that is equal to $\\mathbf{B}_1$ rotated around $\\mathbf{A}$ by $\\omega$, but that is incomplete. \n",
    "\n",
    "$$ \\mathbf{B}_2 = b_{1,1}\\mathbf{i} + \\mathbf{b}_{1,2}'\\quad\\quad\\text{where }\\mathbf{b}_{1,2}' = b_{1,2}\\langle 0,\\cos\\omega,\\sin\\omega\\rangle$$"
   ]
  },
  {
   "cell_type": "markdown",
   "id": "13922f20-1e3d-455f-acae-71d30e2ae84e",
   "metadata": {},
   "source": [
    "$$ \\mathbf{B}_2 = \\mathbf{i} + \\cos\\omega\\mathbf{j} + \\sin\\omega\\mathbf{k} = \\langle 1,\\cos\\omega,\\sin\\omega\\rangle$$"
   ]
  },
  {
   "cell_type": "markdown",
   "id": "a9aa9477-671d-4c87-b8ad-7743a3f6a5e6",
   "metadata": {},
   "source": [
    "$$ \\mathbf{N}_2 = \\langle 0, -\\sin\\omega, \\cos\\omega\\rangle$$"
   ]
  },
  {
   "cell_type": "markdown",
   "id": "ec0346f4-a655-4ddd-9927-0b2288cf678a",
   "metadata": {},
   "source": [
    "$$z\\cos\\omega = y\\sin\\omega$$  \n",
    "\n",
    "\\begin{equation}\\tag{3.2}\n",
    "    z = y\\tan\\omega\n",
    "\\end{equation}"
   ]
  }
 ],
 "metadata": {
  "kernelspec": {
   "display_name": "Python 3 (ipykernel)",
   "language": "python",
   "name": "python3"
  },
  "language_info": {
   "codemirror_mode": {
    "name": "ipython",
    "version": 3
   },
   "file_extension": ".py",
   "mimetype": "text/x-python",
   "name": "python",
   "nbconvert_exporter": "python",
   "pygments_lexer": "ipython3",
   "version": "3.10.12"
  }
 },
 "nbformat": 4,
 "nbformat_minor": 5
}
