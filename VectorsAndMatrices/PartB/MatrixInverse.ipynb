{
 "cells": [
  {
   "cell_type": "markdown",
   "id": "e9182fff-79b6-4197-9a66-735e8a67cfc6",
   "metadata": {},
   "source": [
    "# Matrix Inverse\n",
    "\n",
    "### Solving Square Systems of Linear Equations\n",
    "\n",
    "Linear algebra is essentially about solving systems of linear equations, an important\n",
    "application of mathematics to real-world problems in engineering, business, and science,\n",
    "especially the social sciences. Here we will just stick to the most important case, where the\n",
    "system is square, i.e., there are as many variables as there are equations. In low dimensions\n",
    "such systems look as follows (we give a $2$ × $2$ system and a $3$ × $3$ system):"
   ]
  },
  {
   "cell_type": "markdown",
   "id": "0e0eca70-1eea-4fc1-a01f-c1c47f47159b",
   "metadata": {},
   "source": [
    "$$\\begin{matrix}\\tag{7} a_{11}x_1 + a_{12}x_2 = b_1 \\quad\\quad &a_{11}x_1 + a_{12}x_2 + a_{13}x_3= b_1 \\\\ a_{21}x_1 + a_{22}x_2 = b_2 \\quad\\quad &a_{21}x_1 + a_{22}x_2 + a_{23}x_3= b_2 \\\\ &a_{31}x_1 + a_{32}x_2 + a_{33}x_3= b_3 \\end{matrix} $$"
   ]
  },
  {
   "cell_type": "markdown",
   "id": "a1ffe8fb-13a3-4cbb-a00c-2609f2f30a32",
   "metadata": {},
   "source": [
    "In these systems, the $a_{ij}$ and $b_i$ are given, and we want to solve for the $x_i$.\n",
    "As a simple mathematical example, consider the linear change of coordinates given by\n",
    "the equations:  \n",
    "\n",
    "$$ x_1 = a_{11}y_1 + a_{12}y_2 + a_{13}y_3$$\n",
    "$$ x_2 = a_{21}y_1 + a_{22}y_2 + a_{23}y_3$$\n",
    "$$ x_1 = a_{31}y_1 + a_{32}y_2 + a_{33}y_3$$  \n",
    "\n",
    "If we know the $y$-coordinates of a point, then these equations tell us its $x$-coordinates\n",
    "immediately. But if instead we are given the $x$-coordinates, to find the $y$-coordinates we\n",
    "must solve a system of equations like (7) above, with the $y_i$ as the unknowns.  \n",
    "\n",
    "Using matrix multiplication, we can abbreviate the system on the right in (7) by  \n",
    "\n",
    "$$ \\mathbf{Ax} = \\mathbf{b}\\quad\\quad \\text{where }\\mathbf{x} = \\begin{pmatrix}\\tag{8}x_1\\\\x_2\\\\x_3\\end{pmatrix}\\quad\\text{and}\\quad\\mathbf{b} = \\begin{pmatrix}b_1\\\\b_2\\\\b_3\\end{pmatrix}$$"
   ]
  },
  {
   "cell_type": "markdown",
   "id": "2e4deb08-7d5b-40a3-b95d-ca537728bcf7",
   "metadata": {},
   "source": [
    "where $\\mathbf{A}$ is the square matrix of coefficients $( a_{ij} )$. (The $2$ × $2$ system and the $n$ × $n$ system\n",
    "would be written analogously; all of them are abbreviated by the same equation $\\mathbf{Ax} = \\mathbf{b}$,\n",
    "notice.)  \n",
    "\n",
    "You have had experience with solving small systems like (7) by elimination: multiplying\n",
    "the equations by constants and subtracting them from each other, the purpose being to\n",
    "eliminate all the variables but one. When elimination is done systematically, it is an efficient\n",
    "method. Here however we want to talk about another method more compatible with hand\n",
    "held calculators and MatLab, and which leads more rapidly to certain key ideas and results\n",
    "in linear algebra."
   ]
  },
  {
   "cell_type": "markdown",
   "id": "10f31208-986e-40dc-aaeb-f13c5dbf3083",
   "metadata": {},
   "source": [
    "### Inverse Matrices\n",
    "\n",
    "Referring to the system (8), suppose we can find a square matrix $\\mathbf{M}$ , the same size as $A$, such that:  \n",
    "\n",
    "\\begin{equation}\\tag{9}\n",
    "    \\mathbf{MA} = \\mathbf{I}\n",
    "\\end{equation}"
   ]
  },
  {
   "cell_type": "markdown",
   "id": "64d388d5-1fce-45d5-8342-ae5babfa8c65",
   "metadata": {},
   "source": [
    "where $\\mathbf{I}$ is the identity matrix."
   ]
  },
  {
   "cell_type": "markdown",
   "id": "59bd7df7-2ad9-4223-b4cf-868e64e6e1a6",
   "metadata": {},
   "source": [
    "We can then solve (8) by matrix multiplication, using the successive steps,  \n",
    "\n",
    "$$ \\mathbf{Ax}=\\mathbf{b} $$  "
   ]
  },
  {
   "cell_type": "markdown",
   "id": "737dcb53-11c9-4dbc-8d60-59a28c459593",
   "metadata": {},
   "source": [
    "Multiplying throughout the above equation by $\\mathbf{M}$ gives:  \n",
    "\n",
    "$$ \\mathbf{M}(\\mathbf{Ax}) = \\mathbf{Mb}$$  "
   ]
  },
  {
   "cell_type": "markdown",
   "id": "264bf7c4-ef1b-44f2-a670-230b9cd80d57",
   "metadata": {},
   "source": [
    "It may be worth emphasizing that the order of the operands to matrix multiplication matters, since matrix multiplication is not commutative.  This is important to remember when using matrix algebra, especially when multiplying throughout an equation by a matrix;  When doing so, said matrix must be on the same side of the operator throughout the obtained equation, like it is in the above equation."
   ]
  },
  {
   "cell_type": "markdown",
   "id": "d9599748-f19a-4a26-81e2-9041adf1709a",
   "metadata": {},
   "source": [
    "Via the fact that $\\mathbf{M}(\\mathbf{Ax}) = \\mathbf{x}$, the above equation and equivalence principle,  \n",
    "\n",
    "\\begin{equation}\\tag{10}\n",
    "    \\mathbf{x}=\\mathbf{Mb}\n",
    "\\end{equation}"
   ]
  },
  {
   "cell_type": "markdown",
   "id": "113022ef-4d00-4a2d-ae70-81b6e7b802f8",
   "metadata": {},
   "source": [
    "Now, to prove that $\\mathbf{M}(\\mathbf{Ax})=\\mathbf{x}$:  \n",
    "\n",
    "Via the law of association,  \n",
    "\n",
    "$$ \\mathbf{M}(\\mathbf{Ax}) = (\\mathbf{MA})\\mathbf{x}$$"
   ]
  },
  {
   "cell_type": "markdown",
   "id": "b6a44c2d-b779-471f-9287-1db86c8138a0",
   "metadata": {},
   "source": [
    "Via the above equation, equation (9) and substitution,  \n",
    "\n",
    "$$ (\\mathbf{MA})\\mathbf{x} = \\mathbf{Ix}$$"
   ]
  },
  {
   "cell_type": "markdown",
   "id": "b29e3264-ff7d-459b-a1ca-547b58950a10",
   "metadata": {},
   "source": [
    "And, via the fact that $\\mathbf{I}$ is the identity matrix,  \n",
    "\n",
    "$$ \\mathbf{Ix}=\\mathbf{x}$$"
   ]
  },
  {
   "cell_type": "markdown",
   "id": "fbd1a1ad-5c86-488e-b8d1-ea6756a765a8",
   "metadata": {},
   "source": [
    "Finally, via the above three equations and equivalence principle,  \n",
    "\n",
    "$$ \\mathbf{M}(\\mathbf{Ax}) = \\mathbf{x}$$"
   ]
  },
  {
   "cell_type": "markdown",
   "id": "60a1ce1d-e88f-4ce5-ac9e-90187de612e3",
   "metadata": {},
   "source": [
    "**Definition**. Let $\\mathbf{A}$ be an $n$ × $n$ matrix, with $|\\mathbf{A}| \\ne 0$. Then the **inverse** of $\\mathbf{A}$ is an $n$ × $n$ matrix, written $\\mathbf{A}^{-1}$, such that:  "
   ]
  },
  {
   "cell_type": "markdown",
   "id": "4c565395-25d5-402c-8921-422ade9e5638",
   "metadata": {},
   "source": [
    "\\begin{equation}\\tag{11}\n",
    "    \\mathbf{A}^{-1}\\mathbf{A} = \\mathbf{A}\\mathbf{A}^{-1} = \\mathbf{I}_n\n",
    "\\end{equation}"
   ]
  },
  {
   "cell_type": "markdown",
   "id": "87bd6bbc-63e7-4a62-a044-852a0fe10677",
   "metadata": {},
   "source": [
    "#### Calculating the Inverse of a $3$ × $3$ Matrix\n",
    "\n",
    "Let $\\mathbf{A}$ be the matrix. The formulas for its inverse $\\mathbf{A}^{−1}$ and for an auxiliary matrix, $\\mathrm{adj}\\,\\mathbf{A}$,\n",
    "called the **adjoint** of $\\mathbf{A}$ (or in some books the **adjugate** of $\\mathbf{A}$) are  \n",
    "\n",
    "\\begin{equation}\\tag{13}\n",
    "\t\\mathbf{A}^{-1} = \\frac{\\mathrm{adj}\\,\\mathbf{A}}{|\\mathbf{A}|} = \\frac{(A_{ij})^T}{|\\mathbf{A}|} = \\frac{(A_{ji})}{|\\mathbf{A}|}\n",
    "\\end{equation}"
   ]
  },
  {
   "cell_type": "markdown",
   "id": "d36b0ab9-fdba-455c-9a89-7311b6442667",
   "metadata": {},
   "source": [
    "Recall that $A_{ij}$ denotes the $i\\!j$-cofactor of $\\mathbf{A}$, or, to put it another way, the cofactor of $a_{ij}$."
   ]
  },
  {
   "cell_type": "markdown",
   "id": "dfaa2b2c-b6fd-43f3-bbbc-f71cc3bc5e99",
   "metadata": {},
   "source": [
    "**Example 2**:  Find the inverse to $\\displaystyle \\mathbf{A} = \\left[\\begin{matrix}1 & 0 & -1\\\\0 & 1 & 1\\\\1 & 0 & 1\\end{matrix}\\right]$."
   ]
  },
  {
   "cell_type": "markdown",
   "id": "d1c60f1f-c5b3-439a-b330-76d3fa44d4d3",
   "metadata": {},
   "source": [
    "$$ (A_{ij}) = \\begin{pmatrix}1 & 1 & -1 \\\\ 0 & 2 & 0 \\\\1 & -1 & 1 \\end{pmatrix}\\quad\\implies\\quad A_{ji} = \\begin{pmatrix}1 & 0 & 1\\\\1 & 2 & -1\\\\-1 & 0 & 1\\end{pmatrix}$$"
   ]
  },
  {
   "cell_type": "code",
   "execution_count": 4,
   "id": "98b4f747-d9ab-439c-bb77-76f753cacb32",
   "metadata": {
    "tags": []
   },
   "outputs": [],
   "source": [
    "import sympy as sp"
   ]
  },
  {
   "cell_type": "code",
   "execution_count": 8,
   "id": "7b4169ba-9f7a-4bd8-9d25-00c650d54ea3",
   "metadata": {
    "collapsed": true,
    "jupyter": {
     "outputs_hidden": true
    },
    "tags": []
   },
   "outputs": [
    {
     "data": {
      "text/latex": [
       "$\\displaystyle \\left[\\begin{matrix}1 & 1 & -1\\\\0 & 2 & 0\\\\1 & -1 & 1\\end{matrix}\\right]$"
      ],
      "text/plain": [
       "Matrix([\n",
       "[1,  1, -1],\n",
       "[0,  2,  0],\n",
       "[1, -1,  1]])"
      ]
     },
     "execution_count": 8,
     "metadata": {},
     "output_type": "execute_result"
    }
   ],
   "source": [
    "adj_A = sp.Matrix([[1,0,1],[1,2,-1],[-1,0,1]]);  adj_A.transpose()"
   ]
  },
  {
   "cell_type": "markdown",
   "id": "fbce59f2-a9e5-40b9-98fc-681552113d4c",
   "metadata": {},
   "source": [
    "$$ |\\mathbf{A}| = 2$$"
   ]
  },
  {
   "cell_type": "markdown",
   "id": "ac0ffe0f-0ccf-4f85-9c47-3ebc77e92bc9",
   "metadata": {},
   "source": [
    "**Example 3**:  Find the inverses to  $\\displaystyle \\mathbf{A} =  \\begin{pmatrix}1 & 0\\\\3 & 2\\end{pmatrix} \\quad\\text{and}\\quad \\mathbf{B} = \\begin{pmatrix}1 & 2 & 2\\\\2 & -1 & 1\\\\1 & 3 & 2\\end{pmatrix}$."
   ]
  },
  {
   "cell_type": "code",
   "execution_count": 12,
   "id": "c7300c0a-7e99-4780-96cc-2d22d148d23d",
   "metadata": {
    "tags": []
   },
   "outputs": [],
   "source": [
    "A = sp.Matrix([[1,0],[3,2]])"
   ]
  },
  {
   "cell_type": "code",
   "execution_count": 11,
   "id": "5f4989ce-2d8b-4789-a572-863209759757",
   "metadata": {
    "collapsed": true,
    "jupyter": {
     "outputs_hidden": true
    },
    "tags": []
   },
   "outputs": [
    {
     "data": {
      "text/latex": [
       "$\\displaystyle \\left[\\begin{matrix}1 & 2 & 2\\\\2 & -1 & 1\\\\1 & 3 & 2\\end{matrix}\\right]$"
      ],
      "text/plain": [
       "Matrix([\n",
       "[1,  2, 2],\n",
       "[2, -1, 1],\n",
       "[1,  3, 2]])"
      ]
     },
     "execution_count": 11,
     "metadata": {},
     "output_type": "execute_result"
    }
   ],
   "source": [
    "B = sp.Matrix([[1,2,2],[2,-1,1],[1,3,2]]); B"
   ]
  },
  {
   "cell_type": "markdown",
   "id": "0cb00245-1679-4f36-ae66-2fe8d5284095",
   "metadata": {},
   "source": [
    "$$|\\mathbf{A}| = 2 \\quad\\quad\\text{and}\\quad\\quad |\\mathbf{B}| = -5 - 2\\cdot(3) + 2\\cdot(7) = 3$$"
   ]
  },
  {
   "cell_type": "markdown",
   "id": "bd43a394-47d9-45c7-a7b0-d734ce3fbdbb",
   "metadata": {},
   "source": [
    "$$ (A_{ij}) = \\begin{pmatrix}2 & -3 \\\\ 0 & 1\\end{pmatrix} \\quad\\implies\\quad (A_{ji}) = \\begin{pmatrix}2 & 0 \\\\ -3 & 1\\end{pmatrix}$$"
   ]
  },
  {
   "cell_type": "markdown",
   "id": "6f8f06ee-0687-400c-b684-2b2ed384f0c5",
   "metadata": {},
   "source": [
    "Thus,  \n",
    "\n",
    "$$ \\mathbf{A}^{-1} = 0.5\\cdot\\begin{pmatrix}-2 & 3 \\\\ 0 & -1\\end{pmatrix}$$"
   ]
  },
  {
   "cell_type": "markdown",
   "id": "20bed2bd-fd2d-409e-96ba-77a2fc7a7142",
   "metadata": {},
   "source": [
    "Now, for $\\mathbf{B}$:  \n",
    "\n",
    "$$ (B_{ij}) = \\begin{pmatrix}-5 & -3 & 7 \\\\ 2 & 0 & -1 \\\\ 4 & 3 & -5\\end{pmatrix} \\quad\\implies\\quad (B_{ji}) = \\begin{pmatrix}-5 & 2 & 4 \\\\ -3 & 0 & 3 \\\\ 7 & -1 & -5\\end{pmatrix}$$"
   ]
  },
  {
   "cell_type": "markdown",
   "id": "cb20780b-a4a7-4caf-89e0-c900a016e201",
   "metadata": {},
   "source": [
    "Finally,  \n",
    "\n",
    "$$ \\mathbf{B}^{-1} = \\frac{1}{3} \\cdot \\begin{pmatrix}-5 & 2 & 4 \\\\ -3 & 0 & 3 \\\\ 7 & -1 & -5\\end{pmatrix}$$"
   ]
  },
  {
   "cell_type": "code",
   "execution_count": 16,
   "id": "37cc122f-49bc-4848-853a-7aa92d2129c6",
   "metadata": {
    "tags": []
   },
   "outputs": [
    {
     "data": {
      "text/latex": [
       "$\\displaystyle \\left[\\begin{matrix}- \\frac{5}{3} & \\frac{2}{3} & \\frac{4}{3}\\\\-1 & 0 & 1\\\\\\frac{7}{3} & - \\frac{1}{3} & - \\frac{5}{3}\\end{matrix}\\right]$"
      ],
      "text/plain": [
       "Matrix([\n",
       "[-5/3,  2/3,  4/3],\n",
       "[  -1,    0,    1],\n",
       "[ 7/3, -1/3, -5/3]])"
      ]
     },
     "execution_count": 16,
     "metadata": {},
     "output_type": "execute_result"
    }
   ],
   "source": [
    "B.inv()"
   ]
  },
  {
   "cell_type": "markdown",
   "id": "b9c938e0-1e64-4906-8de4-3d8dfe90965b",
   "metadata": {},
   "source": [
    "## Problems\n",
    "\n",
    "#### Problem 1\n",
    "\n",
    "1. \n",
    "\n",
    "**a)** Find the inverse of $\\displaystyle \\mathbf{A} = \\begin{pmatrix}1 & 2 & 1 \\\\ 1& 4 & 0 \\\\ 2 & 1 & 5\\end{pmatrix}$.  "
   ]
  },
  {
   "cell_type": "markdown",
   "id": "df96402a-70b8-4205-8a12-a7f6908734f2",
   "metadata": {},
   "source": [
    "$$ |\\mathbf{A}| = 20 - 2\\cdot(5) - 7 = 3$$"
   ]
  },
  {
   "cell_type": "markdown",
   "id": "b401d27b-133e-4d1b-9d8d-32c1363e6298",
   "metadata": {},
   "source": [
    "$$ (A_{ij}) = \\begin{pmatrix}20 & -5 & -7 \\\\ -9 & 3 & 3 \\\\ -4 & 1 & 2\\end{pmatrix} \\quad\\implies\\quad (A_{ji}) = \\begin{pmatrix}20 & -9 & -4 \\\\ -5 & 3 & 1 \\\\ -7 & 3 & 2\\end{pmatrix}$$"
   ]
  },
  {
   "cell_type": "markdown",
   "id": "43131a65-1225-4765-b5da-b53fa4cde7e5",
   "metadata": {},
   "source": [
    "Finally,  \n",
    "\n",
    "$$ \\mathbf{A}^{-1} = \\frac{1}{3}\\,\\begin{pmatrix}20 & -9 & -4 \\\\ -5 & 3 & 1 \\\\ -7 & 3 & 2\\end{pmatrix} $$"
   ]
  },
  {
   "cell_type": "markdown",
   "id": "aa3879c6-c674-4ced-99d0-db1afc341acd",
   "metadata": {},
   "source": [
    "**b)** Use part (a) to solve the system of equations:  \n",
    "\n",
    "$$ \\begin{matrix} x & + & 2y & + & z & = 1 \\\\\n",
    "x & + & 4y & & & = 0 \\\\\n",
    "2x & + & y & + & 5z & = 3\\end{matrix}$$"
   ]
  },
  {
   "cell_type": "markdown",
   "id": "68888e79-28ae-4add-8f91-5829b3af55bd",
   "metadata": {},
   "source": [
    "$$ \\mathbf{Ap} = \\mathbf{b} \\quad\\quad\\text{where } \\mathbf{p} = \\begin{pmatrix}x\\\\y\\\\z\\end{pmatrix}\\quad\\text{and}\\quad \\mathbf{b} = \\begin{pmatrix}1\\\\0\\\\3\\end{pmatrix}$$"
   ]
  },
  {
   "cell_type": "markdown",
   "id": "6e2fc534-b7a1-41d8-a55e-5d4132dfc808",
   "metadata": {},
   "source": [
    "Multiplying throughout the above equation by $\\mathbf{A}^{-1}$ gives:  \n",
    "\n",
    "$$ \\mathbf{p} = \\mathbf{A}^{-1}\\mathbf{b} = \\frac{1}{3}\\,\\begin{pmatrix}8 \\\\ -2 \\\\ -1\\end{pmatrix}$$"
   ]
  },
  {
   "cell_type": "markdown",
   "id": "32c003f2-8e8a-4a1b-ac80-9c69ce921392",
   "metadata": {},
   "source": [
    "Finally,  \n",
    "\n",
    "$$ p_1 = x = \\frac{8}{3} \\quad\\quad p_2 = y = -\\frac{2}{3} \\quad\\quad p_3 = z = -\\frac{1}{3}$$"
   ]
  },
  {
   "cell_type": "code",
   "execution_count": 21,
   "id": "facfb7dc-164b-4185-a7bf-b374814e5c15",
   "metadata": {
    "tags": []
   },
   "outputs": [
    {
     "data": {
      "text/plain": [
       "(1.0, 0.0, 2.9999999999999996)"
      ]
     },
     "execution_count": 21,
     "metadata": {},
     "output_type": "execute_result"
    }
   ],
   "source": [
    "# To verify the above solution.\n",
    "\n",
    "x, y, z = 8/3, -2/3, -1/3\n",
    "\n",
    "(x + 2*y + z, x + 4*y, 2*x + y + 5*z)"
   ]
  },
  {
   "cell_type": "markdown",
   "id": "0dc0a570-52e3-4e89-bf73-8ec01c422029",
   "metadata": {},
   "source": [
    "#### Problem 2\n",
    "2. \n",
    "\n",
    "a) Find $\\displaystyle \\begin{pmatrix}a & b \\\\ c & d\\end{pmatrix}^{-1}$ using the method of cofactors."
   ]
  },
  {
   "cell_type": "markdown",
   "id": "2c6daf49-7b28-4029-85c7-1529e74cb1bf",
   "metadata": {},
   "source": [
    "Let $\\mathbf{A}:= \\begin{pmatrix}a & b \\\\ c & d\\end{pmatrix}$.  It now follows that:  \n",
    "\n",
    "$$ |\\mathbf{A}| = ad - bc$$"
   ]
  },
  {
   "cell_type": "markdown",
   "id": "7ab1618a-a673-4ffe-af4a-3d67ada90c6a",
   "metadata": {},
   "source": [
    "and,  \n",
    "\n",
    "$$ (A_{ij}) = \\begin{pmatrix}d & -c \\\\ -b & a\\end{pmatrix}\\quad\\implies\\quad (A_{ji}) = \\begin{pmatrix}d & -b \\\\ -c & a\\end{pmatrix}$$"
   ]
  },
  {
   "cell_type": "markdown",
   "id": "02a7ce1f-0596-4c1c-93ef-a866a2e2f86e",
   "metadata": {},
   "source": [
    "Finally,  \n",
    "\n",
    "$$ \\mathbf{A}^{-1} = \\frac{1}{ad-bc}\\,\\begin{pmatrix}d & -b \\\\ -c & a\\end{pmatrix}$$"
   ]
  },
  {
   "cell_type": "markdown",
   "id": "9b7e1164-0cb2-4bc3-95b6-ec76ac559757",
   "metadata": {},
   "source": [
    "b) Memorize these steps for finding the inverse of a $2$ × $2$ matrix:\n",
    "(i) Switch $a$ and $d$. (ii) Change the signs on $b$ and $c$. (iii) Divide by the determinant."
   ]
  },
  {
   "cell_type": "markdown",
   "id": "be224c88-ed88-430b-9e4c-4a23e533dfb9",
   "metadata": {},
   "source": [
    "c) Find $\\displaystyle \\begin{pmatrix}6 & 5 \\\\ 1 & 2\\end{pmatrix}^{-1}$."
   ]
  },
  {
   "cell_type": "markdown",
   "id": "e6e002b4-b964-4b53-b15e-552617d52de1",
   "metadata": {},
   "source": [
    "$$ \\frac{1}{7}\\,\\begin{pmatrix}2 & -5 \\\\ -1 & 6\\end{pmatrix}$$"
   ]
  }
 ],
 "metadata": {
  "kernelspec": {
   "display_name": "Python 3 (ipykernel)",
   "language": "python",
   "name": "python3"
  },
  "language_info": {
   "codemirror_mode": {
    "name": "ipython",
    "version": 3
   },
   "file_extension": ".py",
   "mimetype": "text/x-python",
   "name": "python",
   "nbconvert_exporter": "python",
   "pygments_lexer": "ipython3",
   "version": "3.10.12"
  }
 },
 "nbformat": 4,
 "nbformat_minor": 5
}
