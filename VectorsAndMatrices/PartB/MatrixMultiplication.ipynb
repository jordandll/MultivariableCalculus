{
 "cells": [
  {
   "cell_type": "markdown",
   "id": "6aee609e-4b6e-4524-9bac-9879c837e39e",
   "metadata": {},
   "source": [
    "# Matrix Multiplication\n",
    "\n",
    "## Examples"
   ]
  },
  {
   "cell_type": "code",
   "execution_count": 2,
   "id": "9eb549ec-14dc-470d-876b-f77de819ff0c",
   "metadata": {
    "tags": []
   },
   "outputs": [],
   "source": [
    "import sympy as sp\n",
    "import IPython.display as display"
   ]
  },
  {
   "cell_type": "markdown",
   "id": "5e42a641-2c7b-4b95-93eb-9ba596fd436d",
   "metadata": {},
   "source": [
    "#### Example 1"
   ]
  },
  {
   "cell_type": "code",
   "execution_count": 3,
   "id": "b54f2731-3588-47f9-b67b-b3bc31b15b0d",
   "metadata": {
    "tags": []
   },
   "outputs": [],
   "source": [
    "A = sp.Matrix([[2,-3],[0,1],[-1,2]])\n",
    "B = sp.Matrix([[1,5],[-2,3],[-1,0]])"
   ]
  },
  {
   "cell_type": "markdown",
   "id": "b2963c51-d578-4217-803d-b06d4f929ae7",
   "metadata": {},
   "source": [
    "Let $\\mathbf{A}$ and $\\mathbf{B}$ be defined as:  \n",
    "\n",
    "$$ \\mathbf{A}:=\\begin{pmatrix}2 & -3\\\\0 & 1\\\\-1 & 2\\end{pmatrix}\\quad\\quad\\text{and}\\quad\\quad \\mathbf{B}:=\\begin{pmatrix}1 & 5\\\\-2 & 3\\\\-1 & 0\\end{pmatrix}$$"
   ]
  },
  {
   "cell_type": "markdown",
   "id": "0b82bfc0-f013-4a93-aa52-ba2a422ae2ec",
   "metadata": {},
   "source": [
    "Find  $\\mathbf{A}+\\,\\mathbf{B}$, $\\mathbf{A}^T$, and $2\\mathbf{A}-3\\mathbf{B}$."
   ]
  },
  {
   "cell_type": "markdown",
   "id": "2d4f9e42-1e45-4537-b696-a2f5d1794e11",
   "metadata": {},
   "source": [
    "$$ \\mathbf{A}+\\mathbf{B} = $$"
   ]
  },
  {
   "cell_type": "code",
   "execution_count": 17,
   "id": "b30abe71-0b96-4d56-b461-2a502ccbd62e",
   "metadata": {
    "tags": []
   },
   "outputs": [
    {
     "data": {
      "text/latex": [
       "$\\displaystyle \\left[\\begin{matrix}3 & 2\\\\-2 & 4\\\\-2 & 2\\end{matrix}\\right]$"
      ],
      "text/plain": [
       "Matrix([\n",
       "[ 3, 2],\n",
       "[-2, 4],\n",
       "[-2, 2]])"
      ]
     },
     "execution_count": 17,
     "metadata": {},
     "output_type": "execute_result"
    }
   ],
   "source": [
    "C = sp.Matrix([[3,2],[-2,4],[-2,2]])\n",
    "C"
   ]
  },
  {
   "cell_type": "code",
   "execution_count": 19,
   "id": "b322b598-c7a3-4573-81a3-e3389ba0557b",
   "metadata": {
    "tags": []
   },
   "outputs": [
    {
     "data": {
      "text/plain": [
       "True"
      ]
     },
     "execution_count": 19,
     "metadata": {},
     "output_type": "execute_result"
    }
   ],
   "source": [
    "A+B==C"
   ]
  },
  {
   "cell_type": "markdown",
   "id": "a15d9743-5ecd-4f1e-996f-36324998f61e",
   "metadata": {},
   "source": [
    "$$ \\mathbf{A}^T = $$"
   ]
  },
  {
   "cell_type": "code",
   "execution_count": 20,
   "id": "411faf4d-6f50-498b-a382-8d3333a09f37",
   "metadata": {
    "tags": []
   },
   "outputs": [
    {
     "data": {
      "text/latex": [
       "$\\displaystyle \\left[\\begin{matrix}2 & 0 & -1\\\\-3 & 1 & 2\\end{matrix}\\right]$"
      ],
      "text/plain": [
       "Matrix([\n",
       "[ 2, 0, -1],\n",
       "[-3, 1,  2]])"
      ]
     },
     "execution_count": 20,
     "metadata": {},
     "output_type": "execute_result"
    }
   ],
   "source": [
    "A_T = sp.Matrix([[2,0,-1],[-3,1,2]])\n",
    "A_T"
   ]
  },
  {
   "cell_type": "code",
   "execution_count": 22,
   "id": "2d8a1269-a454-43ce-8714-a74e74301be1",
   "metadata": {
    "tags": []
   },
   "outputs": [
    {
     "data": {
      "text/plain": [
       "True"
      ]
     },
     "execution_count": 22,
     "metadata": {},
     "output_type": "execute_result"
    }
   ],
   "source": [
    "A.transpose() == A_T"
   ]
  },
  {
   "cell_type": "markdown",
   "id": "15fb02c0-3d62-4af3-88c6-f4f3f349dde4",
   "metadata": {},
   "source": [
    "$$ 2\\mathbf{A} - 3\\mathbf{B} = $$"
   ]
  },
  {
   "cell_type": "code",
   "execution_count": 24,
   "id": "5a8c8f17-e373-4cfb-9951-82cbf844c7ae",
   "metadata": {
    "tags": []
   },
   "outputs": [
    {
     "data": {
      "text/latex": [
       "$\\displaystyle \\left[\\begin{matrix}1 & -21\\\\6 & -7\\\\1 & 4\\end{matrix}\\right]$"
      ],
      "text/plain": [
       "Matrix([\n",
       "[1, -21],\n",
       "[6,  -7],\n",
       "[1,   4]])"
      ]
     },
     "execution_count": 24,
     "metadata": {},
     "output_type": "execute_result"
    }
   ],
   "source": [
    "D = sp.Matrix([[1,-21],[6,-7],[1,4]])\n",
    "D"
   ]
  },
  {
   "cell_type": "code",
   "execution_count": 25,
   "id": "0ffe7e40-44b0-45d2-bfab-0fd67f2078af",
   "metadata": {
    "tags": []
   },
   "outputs": [
    {
     "data": {
      "text/plain": [
       "True"
      ]
     },
     "execution_count": 25,
     "metadata": {},
     "output_type": "execute_result"
    }
   ],
   "source": [
    "2*A - 3*B == D"
   ]
  },
  {
   "cell_type": "markdown",
   "id": "f8cf78bf-26d9-4a92-b470-6af451e3c3d6",
   "metadata": {},
   "source": [
    "## Problems \n",
    "\n",
    "#### Problem 1\n",
    "\n"
   ]
  },
  {
   "cell_type": "markdown",
   "id": "220fdf04-e174-47ae-bcf3-e46b4fa79caf",
   "metadata": {},
   "source": [
    "Let $\\mathbf{A}$, $\\mathbf{B}$, $\\mathbf{C}$, $\\mathbf{D}$, and $\\mathbf{E}$ be defined as:  \n",
    "\n",
    "$$ \\mathbf{A}:=\\left[\\begin{matrix}1 & 3\\\\4 & 5\\end{matrix}\\right]\\quad\\quad \\mathbf{B}:=\\left[\\begin{matrix}1 & 1 & 1\\\\4 & 5 & 6\\end{matrix}\\right]\\quad\\quad\\mathbf{C}:=\\left[\\begin{matrix}1 & 4\\\\1 & 5\\\\1 & 6\\end{matrix}\\right]$$"
   ]
  },
  {
   "cell_type": "markdown",
   "id": "bd95599b-059e-43f7-aa81-74b43fd9d093",
   "metadata": {},
   "source": [
    "$$ \\mathbf{D}:=\\left[\\begin{matrix}3 & 0\\\\0 & 3\\end{matrix}\\right]\\quad\\quad \\mathbf{E}:=\\left[\\begin{matrix}5\\\\3\\end{matrix}\\right]$$"
   ]
  },
  {
   "cell_type": "markdown",
   "id": "5ed56f57-bb10-4727-a280-7d4da9e262af",
   "metadata": {},
   "source": [
    "For each of the following say whether it makes sense to compute it. If it makes sense then\n",
    "do the computation.\n",
    "\n",
    "(i) $\\mathbf{A}\\mathbf{A}$ (ii) $\\mathbf{A}\\mathbf{B}$ (iii) $\\mathbf{A}\\mathbf{C}$ (iv) $\\mathbf{A}\\mathbf{E}$ (v) $\\mathbf{D}\\mathbf{A}$ (vi) $\\mathbf{C}\\mathbf{E}$ (vii) $\\mathbf{A} + \\mathbf{B}$ (viii) $\\mathbf{A} + \\mathbf{D}$"
   ]
  },
  {
   "cell_type": "markdown",
   "id": "6950d768-8c0d-4948-8771-3c35560e3d1a",
   "metadata": {},
   "source": [
    "It makes sense to compute all but (iii) and (vii);  (iii) because the number of columns of $\\mathbf{A}$ is not equal to the number of rows that $\\mathbf{C}$ has, and (vii) because the operands are incongruent."
   ]
  },
  {
   "cell_type": "code",
   "execution_count": 46,
   "id": "459aeffd-81eb-4a07-85f1-e5c2cd7b915a",
   "metadata": {
    "tags": []
   },
   "outputs": [
    {
     "data": {
      "text/latex": [
       "$\\displaystyle \\left[\\begin{matrix}13 & 18\\\\24 & 37\\end{matrix}\\right]$"
      ],
      "text/plain": [
       "Matrix([\n",
       "[13, 18],\n",
       "[24, 37]])"
      ]
     },
     "execution_count": 46,
     "metadata": {},
     "output_type": "execute_result"
    }
   ],
   "source": [
    "# (i)\n",
    "AA = sp.Matrix([[13,18],[24,37]]);  AA"
   ]
  },
  {
   "cell_type": "code",
   "execution_count": 47,
   "id": "3c0c36e4-459b-469a-9c91-bcf2dd8df32e",
   "metadata": {
    "tags": []
   },
   "outputs": [
    {
     "data": {
      "text/plain": [
       "True"
      ]
     },
     "execution_count": 47,
     "metadata": {},
     "output_type": "execute_result"
    }
   ],
   "source": [
    "A*A == AA"
   ]
  },
  {
   "cell_type": "code",
   "execution_count": 42,
   "id": "ffebee3b-63e5-48cb-9476-9bf78d32e40a",
   "metadata": {
    "tags": []
   },
   "outputs": [
    {
     "data": {
      "text/latex": [
       "$\\displaystyle \\left[\\begin{matrix}13 & 16 & 19\\\\24 & 29 & 34\\end{matrix}\\right]$"
      ],
      "text/plain": [
       "Matrix([\n",
       "[13, 16, 19],\n",
       "[24, 29, 34]])"
      ]
     },
     "execution_count": 42,
     "metadata": {},
     "output_type": "execute_result"
    }
   ],
   "source": [
    "# (ii)\n",
    "AB = sp.Matrix([[13,16,19],[24,29,34]]); AB"
   ]
  },
  {
   "cell_type": "code",
   "execution_count": 43,
   "id": "0cb62c63-8e5f-44d6-b055-4677c8d44505",
   "metadata": {
    "tags": []
   },
   "outputs": [
    {
     "data": {
      "text/plain": [
       "True"
      ]
     },
     "execution_count": 43,
     "metadata": {},
     "output_type": "execute_result"
    }
   ],
   "source": [
    "AB == A*B"
   ]
  },
  {
   "cell_type": "code",
   "execution_count": 48,
   "id": "b5646543-1f41-4286-8bfe-bbfdc656b7c4",
   "metadata": {
    "tags": []
   },
   "outputs": [
    {
     "data": {
      "text/latex": [
       "$\\displaystyle \\left[\\begin{matrix}14\\\\35\\end{matrix}\\right]$"
      ],
      "text/plain": [
       "Matrix([\n",
       "[14],\n",
       "[35]])"
      ]
     },
     "execution_count": 48,
     "metadata": {},
     "output_type": "execute_result"
    }
   ],
   "source": [
    "# (iv)\n",
    "AE = sp.Matrix([14, 35]);  AE"
   ]
  },
  {
   "cell_type": "code",
   "execution_count": 49,
   "id": "1521a01c-af14-4873-9525-64a649937f5e",
   "metadata": {
    "tags": []
   },
   "outputs": [
    {
     "data": {
      "text/plain": [
       "True"
      ]
     },
     "execution_count": 49,
     "metadata": {},
     "output_type": "execute_result"
    }
   ],
   "source": [
    "A*E == AE"
   ]
  },
  {
   "cell_type": "code",
   "execution_count": 50,
   "id": "f00e206b-bdac-428a-9605-a05ed34d52de",
   "metadata": {
    "tags": []
   },
   "outputs": [
    {
     "data": {
      "text/latex": [
       "$\\displaystyle \\left[\\begin{matrix}3 & 9\\\\12 & 15\\end{matrix}\\right]$"
      ],
      "text/plain": [
       "Matrix([\n",
       "[ 3,  9],\n",
       "[12, 15]])"
      ]
     },
     "execution_count": 50,
     "metadata": {},
     "output_type": "execute_result"
    }
   ],
   "source": [
    "# (v)\n",
    "DA = sp.Matrix([[3,9],[12,15]]);  DA"
   ]
  },
  {
   "cell_type": "code",
   "execution_count": 51,
   "id": "e2706e71-2e35-4e57-9a5c-17e260f37ace",
   "metadata": {
    "tags": []
   },
   "outputs": [
    {
     "data": {
      "text/plain": [
       "True"
      ]
     },
     "execution_count": 51,
     "metadata": {},
     "output_type": "execute_result"
    }
   ],
   "source": [
    "D*A== DA"
   ]
  },
  {
   "cell_type": "code",
   "execution_count": 59,
   "id": "433e0e8a-601e-4d3f-a11e-2c50d8ed81d9",
   "metadata": {
    "tags": []
   },
   "outputs": [
    {
     "data": {
      "text/latex": [
       "$\\displaystyle \\left[\\begin{matrix}1 & 4\\\\1 & 5\\\\1 & 6\\end{matrix}\\right]\\cdot\\left[\\begin{matrix}5\\\\3\\end{matrix}\\right]$"
      ],
      "text/plain": [
       "<IPython.core.display.Math object>"
      ]
     },
     "execution_count": 59,
     "metadata": {},
     "output_type": "execute_result"
    }
   ],
   "source": [
    "display.Math(sp.latex(C) + '\\cdot' + sp.latex(E))"
   ]
  },
  {
   "cell_type": "code",
   "execution_count": 53,
   "id": "3c39aeee-b032-497e-aa14-3bf45ce50d6d",
   "metadata": {
    "tags": []
   },
   "outputs": [
    {
     "data": {
      "text/latex": [
       "$\\displaystyle \\left[\\begin{matrix}17\\\\20\\\\23\\end{matrix}\\right]$"
      ],
      "text/plain": [
       "Matrix([\n",
       "[17],\n",
       "[20],\n",
       "[23]])"
      ]
     },
     "execution_count": 53,
     "metadata": {},
     "output_type": "execute_result"
    }
   ],
   "source": [
    "# (vi)\n",
    "CE = sp.Matrix([17,20,23]); CE"
   ]
  },
  {
   "cell_type": "code",
   "execution_count": 54,
   "id": "ec3df1b6-ac1d-4394-be01-52afaff09c11",
   "metadata": {
    "tags": []
   },
   "outputs": [
    {
     "data": {
      "text/plain": [
       "True"
      ]
     },
     "execution_count": 54,
     "metadata": {},
     "output_type": "execute_result"
    }
   ],
   "source": [
    "CE == C*E"
   ]
  },
  {
   "cell_type": "code",
   "execution_count": 55,
   "id": "28283b70-10fa-49b7-b177-604d29f262f2",
   "metadata": {
    "tags": []
   },
   "outputs": [
    {
     "data": {
      "text/latex": [
       "$\\displaystyle \\left( \\left[\\begin{matrix}1 & 3\\\\4 & 5\\end{matrix}\\right], \\  \\left[\\begin{matrix}3 & 0\\\\0 & 3\\end{matrix}\\right]\\right)$"
      ],
      "text/plain": [
       "<IPython.core.display.Math object>"
      ]
     },
     "execution_count": 55,
     "metadata": {},
     "output_type": "execute_result"
    }
   ],
   "source": [
    "display.Math(sp.latex((A,D)))"
   ]
  },
  {
   "cell_type": "code",
   "execution_count": 56,
   "id": "05088795-d888-471b-8b9f-d83871d80e6f",
   "metadata": {
    "tags": []
   },
   "outputs": [
    {
     "data": {
      "text/latex": [
       "$\\displaystyle \\left[\\begin{matrix}4 & 3\\\\4 & 8\\end{matrix}\\right]$"
      ],
      "text/plain": [
       "Matrix([\n",
       "[4, 3],\n",
       "[4, 8]])"
      ]
     },
     "execution_count": 56,
     "metadata": {},
     "output_type": "execute_result"
    }
   ],
   "source": [
    "# (viii)\n",
    "ApD = sp.Matrix([[4,3],[4,8]]); ApD"
   ]
  },
  {
   "cell_type": "code",
   "execution_count": 57,
   "id": "55617dc4-6e2c-4f5d-ab54-53043217eee1",
   "metadata": {
    "tags": []
   },
   "outputs": [
    {
     "data": {
      "text/plain": [
       "True"
      ]
     },
     "execution_count": 57,
     "metadata": {},
     "output_type": "execute_result"
    }
   ],
   "source": [
    "ApD == A+D"
   ]
  },
  {
   "cell_type": "markdown",
   "id": "d05c18f2-7f28-42e7-946c-62ccfb4fd80a",
   "metadata": {},
   "source": [
    "#### Problem 2\n",
    "\n",
    "$$ \\mathbf{b} = \\begin{pmatrix}0\\\\1\\\\0\\end{pmatrix}$$"
   ]
  },
  {
   "cell_type": "markdown",
   "id": "ecd5d8f6-673c-4bb7-ba03-4f1c61036c28",
   "metadata": {},
   "source": [
    "#### Problem 3\n",
    "Write the following system in matrix form:  \n",
    "\n",
    "$$ 2x + 3y + 5z = 2$$\n",
    "\n",
    "$$ 2y + z= 1$$\n",
    "\n",
    "$$ x-2y = 3$$"
   ]
  },
  {
   "cell_type": "code",
   "execution_count": 60,
   "id": "0f0a58e3-ed84-415f-aefd-ac9f37d95777",
   "metadata": {
    "tags": []
   },
   "outputs": [
    {
     "data": {
      "text/latex": [
       "$\\displaystyle \\left[\\begin{matrix}2 & 3 & 5\\\\0 & 2 & 1\\\\1 & -2 & 0\\end{matrix}\\right]\\cdot\\left[\\begin{matrix}x\\\\y\\\\z\\end{matrix}\\right]=\\left[\\begin{matrix}2\\\\1\\\\3\\end{matrix}\\right]$"
      ],
      "text/plain": [
       "<IPython.core.display.Math object>"
      ]
     },
     "execution_count": 60,
     "metadata": {},
     "output_type": "execute_result"
    }
   ],
   "source": [
    "x, y, z = sp.symbols('x, y, z')\n",
    "b = sp.Matrix([x, y, z])\n",
    "c = sp.Matrix([2,1,3])\n",
    "A = sp.Matrix([[2,3,5],[0,2,1],[1,-2,0]])\n",
    "\n",
    "display.Math(sp.latex(A) + '\\cdot' + sp.latex(b) + '=' + sp.latex(c))"
   ]
  }
 ],
 "metadata": {
  "kernelspec": {
   "display_name": "Python 3 (ipykernel)",
   "language": "python",
   "name": "python3"
  },
  "language_info": {
   "codemirror_mode": {
    "name": "ipython",
    "version": 3
   },
   "file_extension": ".py",
   "mimetype": "text/x-python",
   "name": "python",
   "nbconvert_exporter": "python",
   "pygments_lexer": "ipython3",
   "version": "3.10.12"
  }
 },
 "nbformat": 4,
 "nbformat_minor": 5
}
