{
 "cells": [
  {
   "cell_type": "markdown",
   "id": "aff29f5a-f68f-4fd8-9222-910c2325b782",
   "metadata": {},
   "source": [
    "# Meaning of Matrix Multiplication\n",
    "\n",
    "## Problems\n",
    "\n",
    "#### Problem 1\n",
    "In this problem we will show that multiplication by the matrix:  \n",
    "\n",
    "$$ \\mathbf{A} = \\begin{pmatrix}\\frac{1}{\\sqrt{2}}\\;&-\\frac{1}{\\sqrt{2}}\\\\ \\frac{1}{\\sqrt{2}}\\; &\\frac{1}{\\sqrt{2}}\\end{pmatrix} = \\frac{1}{\\sqrt{2}}\\,\\begin{pmatrix}1\\;&-1\\\\1\\;&1\\end{pmatrix}$$"
   ]
  },
  {
   "cell_type": "markdown",
   "id": "04ebd81a-0e72-4039-9f09-1add98fb808e",
   "metadata": {},
   "source": [
    "acts by rotating vectors $45^\\circ$ counterclockwise. As usual, we write the vector $\\mathbf{v} = x\\mathbf{i} + y\\mathbf{j}$ as a column vector:  \n",
    "\n",
    "$$ \\mathbf{v} = \\begin{pmatrix}x \\\\ y\\end{pmatrix}$$"
   ]
  },
  {
   "cell_type": "markdown",
   "id": "32a1bf61-e05b-4bcb-a738-626411e3e6b9",
   "metadata": {},
   "source": [
    "a) Show that the length of $\\mathbf{Av}$ is the same as the length of $\\mathbf{v}$.  "
   ]
  },
  {
   "cell_type": "markdown",
   "id": "bd452a6f-2c40-4679-a62e-ed8bab4704a4",
   "metadata": {},
   "source": [
    "$$ |\\mathbf{v}| = \\sqrt{x^2+y^2}$$"
   ]
  },
  {
   "cell_type": "markdown",
   "id": "03ff4a4f-0ffb-4cd8-b3ef-380b0469a816",
   "metadata": {},
   "source": [
    "$$ \\mathbf{Av} = \\frac{1}{\\sqrt{2}}\\,\\begin{pmatrix}x-y\\\\x+y\\end{pmatrix}\\quad\\implies\\quad |\\mathbf{Av}| = \\frac{1}{\\sqrt{2}}\\,\\sqrt{(x-y)^2 + (x+y)^2}$$"
   ]
  },
  {
   "cell_type": "markdown",
   "id": "d9ae58c4-2690-4114-b4ea-f41e8ae8f598",
   "metadata": {},
   "source": [
    "$$ \\implies\\;|\\mathbf{Av}| = \\sqrt{x^2+y^2}\\quad\\implies\\quad |\\mathbf{Av}| = |\\mathbf{v}|$$"
   ]
  },
  {
   "cell_type": "markdown",
   "id": "e8cda866-9084-49a6-9403-b71aec04e5a2",
   "metadata": {},
   "source": [
    "b) Use the dot product to show the angle between $\\mathbf{v}$ and $\\mathbf{Av}$ is $\\pi/4$ radians.  "
   ]
  },
  {
   "cell_type": "markdown",
   "id": "c02bca1d-6ca9-40da-84ed-2796f11683eb",
   "metadata": {},
   "source": [
    "$$ \\mathbf{v}\\cdot\\mathbf{Av} = \\frac{1}{\\sqrt{2}}\\,\\big(x(x-y) + y(x+y)\\big) = \\frac{x^2+y^2}{\\sqrt{2}}$$"
   ]
  },
  {
   "cell_type": "markdown",
   "id": "e4662a11-cc38-48e1-b59e-369ac57cb04a",
   "metadata": {},
   "source": [
    "$$ \\mathbf{v}\\cdot\\mathbf{Av} = |\\mathbf{v}|^2\\cos\\theta = \\big(x^2+y^2\\big)\\cos\\theta$$"
   ]
  },
  {
   "cell_type": "markdown",
   "id": "0806b534-d33d-4ae0-a77a-46fd8445a2e8",
   "metadata": {},
   "source": [
    "Via the above two equations and equivalence principle,  \n",
    "\n",
    "$$\\theta = \\arccos\\frac{1}{\\sqrt{2}} = 0.25\\pi = 45^\\circ$$"
   ]
  },
  {
   "cell_type": "code",
   "execution_count": 1,
   "id": "a4acde6d-519b-4d39-a65a-d53f5a1d4e23",
   "metadata": {
    "tags": []
   },
   "outputs": [],
   "source": [
    "import numpy as np"
   ]
  },
  {
   "cell_type": "code",
   "execution_count": 3,
   "id": "8d965a5d-e87b-460d-b653-b83ad6e68f74",
   "metadata": {
    "tags": []
   },
   "outputs": [
    {
     "data": {
      "text/plain": [
       "(45.00000000000001, 0.25000000000000006)"
      ]
     },
     "execution_count": 3,
     "metadata": {},
     "output_type": "execute_result"
    }
   ],
   "source": [
    "theta = np.arccos(1/np.sqrt(2))\n",
    "(np.degrees(theta), theta/np.pi)"
   ]
  },
  {
   "cell_type": "markdown",
   "id": "9917f214-53bd-4596-bce2-ddffb6e8d6c1",
   "metadata": {},
   "source": [
    "c) Use the cross product to show that $\\mathbf{Av}$ is $\\pi/4$ radians counterclockwise from $\\mathbf{v}$."
   ]
  },
  {
   "cell_type": "markdown",
   "id": "da0629fd-98f0-466c-9ed4-e8529abc9ec9",
   "metadata": {},
   "source": [
    "$$ \\mathbf{Av}\\times\\mathbf{v} = |\\mathbf{v}|^2\\sin\\theta\\,\\mathbf{n} = \\big(x^2+y^2\\big)\\sin\\theta\\,\\mathbf{n}$$"
   ]
  },
  {
   "cell_type": "markdown",
   "id": "e67bd10d-1ebb-4559-8737-180431248e51",
   "metadata": {},
   "source": [
    "Now, let $\\mathbf{w}:=\\mathbf{Av}$.  \n",
    "\n",
    "$$ \\mathbf{w}\\times\\mathbf{v} = \\left|\\begin{matrix}\\mathbf{i}\\;&\\mathbf{j}\\;&\\mathbf{k}\\\\ w_x\\;&w_y\\;&0\\\\ v_x\\;&v_y\\;&0\\end{matrix}\\right|$$"
   ]
  },
  {
   "cell_type": "markdown",
   "id": "9ee00e2b-a4bb-4e07-9687-8589a41649a0",
   "metadata": {},
   "source": [
    "$$ = (w_xv_y - w_yv_x)\\mathbf{k}$$"
   ]
  },
  {
   "cell_type": "markdown",
   "id": "076caae6-a4c5-4700-a5d7-2183f1a1817a",
   "metadata": {},
   "source": [
    "$$ \\frac{1}{\\sqrt{2}}\\,\\big(y(x-y) - x(x+y)\\big)\\mathbf{k} = -\\frac{x^2+y^2}{\\sqrt{2}}\\,\\mathbf{k} < 0\\mathbf{k}$$"
   ]
  },
  {
   "cell_type": "markdown",
   "id": "750444a8-d829-4e31-931a-aea2fbf18116",
   "metadata": {},
   "source": [
    "Whereas the component of $\\mathbf{w}\\times\\mathbf{v}$ in the direction of $\\mathbf{n}$ is negative therefore $\\mathbf{Av}$ is $0.25\\pi$ radians *counterclockwise* from $\\mathbf{v}$."
   ]
  }
 ],
 "metadata": {
  "kernelspec": {
   "display_name": "Python 3 (ipykernel)",
   "language": "python",
   "name": "python3"
  },
  "language_info": {
   "codemirror_mode": {
    "name": "ipython",
    "version": 3
   },
   "file_extension": ".py",
   "mimetype": "text/x-python",
   "name": "python",
   "nbconvert_exporter": "python",
   "pygments_lexer": "ipython3",
   "version": "3.10.12"
  }
 },
 "nbformat": 4,
 "nbformat_minor": 5
}
