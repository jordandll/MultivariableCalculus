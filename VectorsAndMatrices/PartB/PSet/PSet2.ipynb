{
 "cells": [
  {
   "cell_type": "markdown",
   "id": "9e74f40e-898b-4994-851f-1cf7af28c511",
   "metadata": {},
   "source": [
    "# Problem Set 2\n",
    "\n",
    "## Part II\n",
    "\n",
    "#### Problem 1\n",
    "\n",
    "Let $\\mathbf{N}_i$ denote the normal to $\\mathcal{P}_i$, for all $i\\in\\{1,2,3\\}$."
   ]
  },
  {
   "cell_type": "markdown",
   "id": "dbe168f0-2903-47a9-a0dc-d93bf2470c8b",
   "metadata": {},
   "source": [
    "**a)**  Imagine a sketch of three distinct lines that intersect in pairs thus forming three points of intersection.  Each of these lines could be a line of intersection between either $\\mathcal{P}_1$, $\\mathcal{P}_2$, or $\\mathcal{P}_3$ and the plane that $\\mathbf{N}_1$, $\\mathbf{N}_2$, and $\\mathbf{N}_3$ rest on, denoted as $\\mathcal{P}$.  Furthermore, each point of intersection shown in the sketch is equal to the point of intersection between either $\\mathrm{L}_1$, $\\mathrm{L}_2$, or $\\mathrm{L}_3$ and $\\mathcal{P}$."
   ]
  },
  {
   "cell_type": "markdown",
   "id": "d45e10ff-2e58-48d1-a494-b577924ac328",
   "metadata": {},
   "source": [
    "**b)**  For future reference, if there exists a line that is perpendicular to our three normals then all three normals rest on the same plane.  Assuming $\\mathrm{L}_1$ is the intersection between $\\mathcal{P}_1$ and $\\mathcal{P}_2$,  \n",
    "\n",
    "\\begin{equation}\\tag{P1}\n",
    "    \\mathrm{L}_1 \\parallel \\mathcal{P}_1 \\;\\land\\;\\mathrm{L}_1\\parallel \\mathcal{P}_2 \\;\\therefore\\; \\mathrm{L}_1\\perp\\mathbf{N}_1 \\;\\land\\;\\mathrm{L}_1\\perp\\mathbf{N}_2\n",
    "\\end{equation}"
   ]
  },
  {
   "cell_type": "markdown",
   "id": "ce29d508-f50e-43a0-9cb6-0b85a0cfddd1",
   "metadata": {},
   "source": [
    "Assuming $\\mathrm{L}_2$ is the intersection between $\\mathcal{P}_2$ and $\\mathcal{P}_3$,  \n",
    "\n",
    "\\begin{equation}\\tag{P2}\n",
    "    \\mathrm{L}_2\\parallel\\mathcal{P}_3\\;\\therefore\\;\\mathrm{L}_2\\perp\\mathbf{N}_3\n",
    "\\end{equation}"
   ]
  },
  {
   "cell_type": "markdown",
   "id": "a9376b48-51a1-463e-b441-b559cf8dd857",
   "metadata": {},
   "source": [
    "Via the fact $\\mathrm{L}_1\\parallel\\mathrm{L}_2$ and (P2),  \n",
    "\n",
    "\\begin{equation}\\tag{P3}\n",
    "    \\mathrm{L}_1\\perp\\mathbf{N}_3\n",
    "\\end{equation}"
   ]
  },
  {
   "cell_type": "markdown",
   "id": "60572e27-e38a-4556-b22c-72aa6f9efe57",
   "metadata": {},
   "source": [
    "$\\mathrm{L}_3$ is a line and, via (P1) and (P3), is perpendicular to all three normals, therefore all three normals rest on the same plane.  Q.E.D."
   ]
  },
  {
   "cell_type": "markdown",
   "id": "84c082ec-7b07-4c0e-a864-893a25e33fe4",
   "metadata": {},
   "source": [
    "**c)**  Our three planes are given by the system of equations:  \n",
    "\n",
    "\\begin{equation}\\tag{1}\n",
    "    \\mathbf{A}\\cdot\\mathbf{x} = \\mathbf{b} \\quad\\quad\\text{where }\\mathbf{x} = (x,y,z)^T \\quad\\text{and}\\quad \\mathbf{b}=(b_1,b_2,b_3)^T\n",
    "\\end{equation}"
   ]
  },
  {
   "cell_type": "markdown",
   "id": "2fbb7437-054d-4aae-9a05-94771c3e12d9",
   "metadata": {},
   "source": [
    "Each row vector of $\\mathbf{A}$ is normal to it's corresponding plane given by the above system.  If $\\mathbf{A}$ were invertable then system (1) would have a unique solution, but, since the planes do not intersect at a single point, there is no unique solution;  Thus, via contradiction principle, $\\mathbf{A}$ is *not* invertable therefore the determinant of $\\mathbf{A}$ is equal to zero therefore the row vectors of $\\mathbf{A}$, each of which is normal to it's corresponding plane given by system (1), rest on the same plane.  Q.E.D."
   ]
  },
  {
   "cell_type": "markdown",
   "id": "a3d16e93-52d6-408e-8edf-07626c8c2901",
   "metadata": {},
   "source": [
    "#### Problem 2  \n",
    "\n",
    "**a)**  \n",
    "\n",
    "\\begin{equation}\\tag{1}\n",
    "    \\mathbf{A}\\cdot\\mathbf{p} = \\mathbf{m} \\quad\\quad \\text{where }\\mathbf{p} = (P_1,P_2,P_3)^T\\quad\\text{and}\\quad \\mathbf{m} = (M_1,M_2,M_3)^T\n",
    "\\end{equation}"
   ]
  },
  {
   "cell_type": "markdown",
   "id": "c34641c8-065c-4930-abdb-a5f15083a707",
   "metadata": {},
   "source": [
    "and  \n",
    "\n",
    "$$ \\mathbf{A} = \\begin{pmatrix}\\tag{1a}1 & 1 & 3\\\\ 2 & 3 & 5 \\\\ 3 & 5 & 8\\end{pmatrix}$$"
   ]
  },
  {
   "cell_type": "markdown",
   "id": "85f1325d-9523-4c42-b2c1-b12c3e932e7c",
   "metadata": {},
   "source": [
    "Of course, the solution formula is:  \n",
    "\n",
    "\\begin{equation}\\tag{2}\n",
    "    \\mathbf{p} = \\mathbf{A}^{-1}\\cdot\\mathbf{m}\n",
    "\\end{equation}"
   ]
  },
  {
   "cell_type": "markdown",
   "id": "148b84ab-6c73-4d0e-aaba-a32254c3e3ff",
   "metadata": {},
   "source": [
    "**b)**  The inverse of $\\mathbf{A}$ is given by:  \n",
    "\n",
    "$$ \\mathbf{A}^{-1} = \\frac{\\mathrm{adj}\\,\\mathbf{A}}{|\\mathbf{A}|}$$"
   ]
  },
  {
   "cell_type": "markdown",
   "id": "e2cf80fd-5317-45d4-9776-566b5a49d9fa",
   "metadata": {},
   "source": [
    "$$ |\\mathbf{A}| = -1 - 1(1) + 3(1) = 1$$"
   ]
  },
  {
   "cell_type": "markdown",
   "id": "ad66dfc3-1bd2-415c-b2dc-e276e8c66203",
   "metadata": {},
   "source": [
    "$$ \\mathrm{adj}\\,\\mathbf{A} = \\begin{pmatrix}-1 & -1 & 1 \\\\ 7 & -1 & -2 \\\\ -4 & 1 & 1\\end{pmatrix}^T = \\begin{pmatrix}-1 & 7 & -4 \\\\ -1 & -1 & 1 \\\\ 1 & -2 & 1\\end{pmatrix}$$"
   ]
  },
  {
   "cell_type": "markdown",
   "id": "1d2bbf36-f104-41e3-a86d-6afcaf82e45b",
   "metadata": {},
   "source": [
    "Thus,  \n",
    "\n",
    "$$ \\mathbf{A}^{-1} = \\mathrm{adj}\\,\\mathbf{A} = \\begin{pmatrix}\\tag{3}-1 & 7 & -4 \\\\ -1 & -1 & 1 \\\\ 1 & -2 & 1\\end{pmatrix} $$"
   ]
  },
  {
   "cell_type": "markdown",
   "id": "ea8f6bf5-c089-4873-91d3-9e5b9b8567ee",
   "metadata": {},
   "source": [
    "In general,  \n",
    "\n",
    "$$ P_1 = \\langle -1,7,-4\\rangle\\cdot\\mathbf{m} \\quad\\quad P_2 = \\langle -1,-1,1\\rangle\\cdot\\mathbf{m} \\quad\\quad P_3 = \\langle 1,-2,1\\rangle \\cdot \\mathbf{m}$$"
   ]
  },
  {
   "cell_type": "markdown",
   "id": "8e591b4b-eefe-4c2c-ae89-e33fe60fe651",
   "metadata": {},
   "source": [
    "In the case of $\\mathbf{m} = (137,279,448)^T$,  \n",
    "\n",
    "$$ P_1 = -137 + 7\\cdot279 - 4\\cdot 448 \\quad\\quad P_2 = -137-279+448 \\quad\\quad P_3 = 137 - 2\\cdot279 + 448$$"
   ]
  },
  {
   "cell_type": "code",
   "execution_count": 2,
   "id": "d0f8930c-6f08-467e-a430-70fd72a22777",
   "metadata": {
    "tags": []
   },
   "outputs": [
    {
     "data": {
      "text/plain": [
       "(24, 32, 27)"
      ]
     },
     "execution_count": 2,
     "metadata": {},
     "output_type": "execute_result"
    }
   ],
   "source": [
    "P_1 = -137 + 7*279 - 4*448\n",
    "P_2 = -137 - 279 + 448\n",
    "P_3 = 137 - 2*279 + 448\n",
    "(P_1, P_2, P_3)"
   ]
  },
  {
   "cell_type": "markdown",
   "id": "710d9b6d-05e2-4fe2-b01e-07051942b88a",
   "metadata": {},
   "source": [
    "**c)**  We need to find  a $a$, $b$, and $c$ such that:  \n",
    "\n",
    "$$ |\\mathbf{A}| =  \\left|\\begin{matrix}\\tag{1a}1 & 1 & 3\\\\ 2 & 3 & 5 \\\\ a& b & c\\end{matrix}\\right| = 0$$"
   ]
  },
  {
   "cell_type": "markdown",
   "id": "af5db8d2-f3d0-475b-879f-5017c583341e",
   "metadata": {},
   "source": [
    "and the third row vector of $\\mathbf{A}$ is not equal to either of the other two."
   ]
  },
  {
   "cell_type": "markdown",
   "id": "40810c8a-b42f-4699-b5de-2d8dcf9dfcb3",
   "metadata": {},
   "source": [
    "$$|\\mathbf{A}| = 3c - 5b - (2c - 5a) + 3(2b-3a) = 0$$"
   ]
  },
  {
   "cell_type": "markdown",
   "id": "7566efb8-2476-4f1c-a431-4b756891c986",
   "metadata": {},
   "source": [
    "$$ c = 4a-b$$"
   ]
  },
  {
   "cell_type": "markdown",
   "id": "4c333869-3e83-4544-8677-2c562785e160",
   "metadata": {},
   "source": [
    "Assuming $a=3$ and $b=1$,  $c = 11$."
   ]
  },
  {
   "cell_type": "markdown",
   "id": "0f50b846-af80-4444-bd5a-943b3720a538",
   "metadata": {},
   "source": [
    "The ratios for $P_3$ are $a:$, $b:$, and $c:$."
   ]
  },
  {
   "cell_type": "markdown",
   "id": "a373c52f-b630-4da7-9681-2867e76b5e23",
   "metadata": {},
   "source": [
    "#### Problem 3  \n",
    "\n",
    "**a)**  Our plane $\\mathcal{P}$ is given by:  \n",
    "\n",
    "$$ n_1x + n_2y + n_3z  = 0$$"
   ]
  },
  {
   "cell_type": "markdown",
   "id": "227fdeac-9496-4a91-808c-61be4f682f1f",
   "metadata": {},
   "source": [
    "In terms of the cosines of $\\mathbf{n}$,  \n",
    "\n",
    "$$ x|\\mathbf{m}|\\cos\\alpha_n  + y|\\mathbf{m}|\\cos\\beta_n + z|\\mathbf{n}|\\cos\\gamma_n = 0$$"
   ]
  },
  {
   "cell_type": "markdown",
   "id": "9eb894b3-d4ff-4a6e-8416-3e317725f0bb",
   "metadata": {},
   "source": [
    "where $\\mathbf{m} = \\langle n_1,n_2,0\\rangle$ is the projection of $\\mathbf{n}$ onto the $x,y$-plane."
   ]
  },
  {
   "cell_type": "markdown",
   "id": "2c61b052-771e-4440-b083-898693c3941c",
   "metadata": {},
   "source": [
    "The angle between $\\mathbf{w}$ and the $x,y$-plane, denoted as $\\omega$, is equal to the angle between $\\mathbf{w}$ and it's projection onto the $x,y$-plane denoted as $\\mathbf{u}$.  \n",
    "\n",
    "$$  \\cos\\omega = \\frac{|\\mathbf{u}|}{|\\mathbf{w}|} \\quad\\quad\\text{where }\\mathbf{u} = \\langle w_1, w_2, 0\\rangle \\quad\\text{and}\\quad \\mathbf{w} = \\langle w_1,w_2,w_3\\rangle$$"
   ]
  },
  {
   "cell_type": "markdown",
   "id": "3ff85a9e-c540-441f-9842-0c291e6b8574",
   "metadata": {},
   "source": [
    "In terms of the cosines of $\\mathbf{w}$:  \n",
    "\n",
    "$$ \\mathbf{u} = |\\mathbf{u}|\\langle \\cos\\alpha_w, \\cos\\beta_w, 0\\rangle\\quad\\quad\\text{and}\\quad\\quad \\mathbf{w} = \\langle |\\mathbf{u}|\\cos\\alpha_w, |\\mathbf{u}|\\cos\\beta_w, |\\mathbf{w}|\\cos\\gamma_w\\rangle$$"
   ]
  },
  {
   "cell_type": "markdown",
   "id": "78908513-ed4f-4e1b-88cc-936cc2d31f64",
   "metadata": {},
   "source": [
    "$\\omega$ is nearest to it's max of $90^\\circ$ when $|\\mathbf{u}|$ is at its smallest.  Furthermore, since $\\mathbf{n}$ is perpendicular to $\\mathcal{P}$, $\\mathbf{n}$ is also perpendicular to $\\mathbf{w}$.  \n",
    "\n",
    "\\begin{equation}\\tag{1}\n",
    "    \\mathbf{n}\\perp\\mathcal{P}\\;\\therefore\\;\\mathbf{n}\\perp\\mathbf{w}\\;\\therefore\\; \\mathbf{n}\\cdot\\mathbf{w} = 0\\;\\therefore\\;\\mathbf{n}\\cdot\\hat{\\mathbf{w}} = 0\n",
    "\\end{equation}"
   ]
  },
  {
   "cell_type": "markdown",
   "id": "54a7bce1-fc1e-4379-99c9-f5e4f9bb4e87",
   "metadata": {},
   "source": [
    "$$ |\\mathbf{u}|^2 = |\\mathbf{w}|^2 - w_3^2$$"
   ]
  },
  {
   "cell_type": "markdown",
   "id": "0790ac1b-9434-44b5-b50b-a05ba3537d61",
   "metadata": {},
   "source": [
    "Via the above equation, $|\\mathbf{u}|$ is at it's smallest when $w_3$ is at it's largest, thus $\\omega$ is at it's largest when $w_3$ is at it's largest.  Furthermore, $w_3$ is at it's largest when $\\mathbf{w}$ is perpendicular to the line of intersection between $\\mathcal{P}$ and the $x,y$-plane, which is given by:  \n",
    "\n",
    "$$ n_1x + n_2y = 0$$"
   ]
  },
  {
   "cell_type": "markdown",
   "id": "4f2169eb-8984-4799-98c2-0ecde45488d6",
   "metadata": {},
   "source": [
    "or, in terms of the cosines of $\\mathbf{n}$:  \n",
    "\n",
    "$$ x \\cos\\alpha_n + y \\cos\\beta_n = 0$$"
   ]
  },
  {
   "cell_type": "markdown",
   "id": "b95d3143-f508-468f-a3fe-253cde41b54b",
   "metadata": {},
   "source": [
    "Let $\\mathbf{a}(x)$ and $\\mathbf{v}$ be defined as:  \n",
    "\n",
    "$$ \\mathbf{a}(x) :=\\left\\langle x, -\\frac{n_1}{n_2}\\,x,0\\right\\rangle \\quad\\quad\\text{and}\\quad\\quad \\mathbf{v} := \\mathbf{a}(n_2) = \\langle n_2, - n_1,0\\rangle$$"
   ]
  },
  {
   "cell_type": "markdown",
   "id": "afa0c06d-04ed-4378-aabd-1179df9f3771",
   "metadata": {},
   "source": [
    "$$ \\mathbf{n}\\times\\mathbf{k} = \\langle n_2, -n_1, 0\\rangle = \\mathbf{v}$$"
   ]
  },
  {
   "cell_type": "markdown",
   "id": "53ddf996-bbf9-4c75-9939-42e28e3a3e25",
   "metadata": {},
   "source": [
    "Both $\\mathbf{a}(x)$ and $\\mathbf{v}$ rest on the line of intersection, henceforth $\\mathrm{L}$, between $\\mathcal{P}$ and the $x,y$-plane.  Thus, $w_3$ is at it's largest when:  \n",
    "\n",
    "\\begin{equation}\\tag{2}\n",
    "    \\mathbf{w}\\cdot\\mathbf{v} = 0 \\quad\\implies\\quad \\hat{\\mathbf{w}}\\cdot\\mathbf{v} = 0\n",
    "\\end{equation}"
   ]
  },
  {
   "cell_type": "markdown",
   "id": "e4d2c899-0d68-410c-9cfa-9a9567c73162",
   "metadata": {},
   "source": [
    "Now, let $\\mathbf{n}'$ denote $\\mathbf{n}$ reflected about the plane that $\\mathrm{L}$ rests on and is perpendicular to the $x,y$-plane.  \n",
    "\n",
    "$$ \\mathbf{n}' = \\langle -n_1,-n_2,n_3\\rangle$$"
   ]
  },
  {
   "cell_type": "markdown",
   "id": "7f66acb2-4fc8-4503-bb2a-e577ccd12bfe",
   "metadata": {},
   "source": [
    "The angle between $\\mathbf{n}$ and the $x,y$-plane, denoted $\\lambda$ is equal to $\\pi-0.5\\pi-\\omega = 0.5\\pi - \\omega = \\gamma_w $.  Thus, via equivalence principle and the fact that the same angle is equal to $0.5\\pi-\\gamma_n $,  \n",
    "\n",
    "$$ \\lambda= \\gamma_w = 0.5\\pi-\\gamma_n = 0.5\\pi - \\omega$$"
   ]
  },
  {
   "cell_type": "markdown",
   "id": "55f9cb36-449a-42ef-9d5c-6c4bb345324d",
   "metadata": {},
   "source": [
    "$$\\implies\\quad \\gamma_n = \\omega$$"
   ]
  },
  {
   "cell_type": "markdown",
   "id": "a24740ba-a5e5-493e-bc4d-5dbc4c1e46d2",
   "metadata": {},
   "source": [
    "Note that $\\lambda$ is equal to the angle between $\\mathbf{n}'$ and the $x,y$-plane."
   ]
  },
  {
   "cell_type": "markdown",
   "id": "8888a572-6792-42c5-93b3-6dd0340099c2",
   "metadata": {},
   "source": [
    "$$ \\cos\\lambda = \\frac{|\\mathbf{m}|}{|\\mathbf{n}|} = \\cos\\gamma_w = \\frac{w_3}{|\\mathbf{w}|}$$"
   ]
  },
  {
   "cell_type": "markdown",
   "id": "31d0915f-4804-4929-89c6-436bf07c55c5",
   "metadata": {},
   "source": [
    "and,  \n",
    "\n",
    "$$ \\mathbf{w}\\cdot\\mathbf{n}' = |\\mathbf{w}||\\mathbf{n}'|\\cos(\\gamma_w - \\omega) = |\\mathbf{w}||\\mathbf{n}'|\\cos(0.5\\pi-2\\omega) = |\\mathbf{w}||\\mathbf{n}'|\\sin 2\\omega$$"
   ]
  },
  {
   "cell_type": "markdown",
   "id": "506c2644-3615-4b62-a4d8-daf4a4a9a63f",
   "metadata": {},
   "source": [
    "$$ = 0.5|\\mathbf{w}||\\mathbf{n}'|\\cos\\omega\\sin\\omega $$"
   ]
  },
  {
   "cell_type": "markdown",
   "id": "58a11b2d-c6a3-4b98-920d-6084d8fbf28c",
   "metadata": {},
   "source": [
    "\\begin{equation}\\tag{3}\n",
    "    \\hat{\\mathbf{w}}\\cdot\\hat{\\mathbf{n}}' = 0.5\\cos\\gamma_n\\sin\\gamma_n = 0.5\\,|\\hat{\\mathbf{m}}'|n_3\n",
    "\\end{equation}"
   ]
  },
  {
   "cell_type": "code",
   "execution_count": null,
   "id": "4ff4ce8c-a714-4aa0-9341-527ed5c11f38",
   "metadata": {},
   "outputs": [],
   "source": []
  },
  {
   "cell_type": "markdown",
   "id": "85f30509-696b-4b98-ad7c-ce01aaf22967",
   "metadata": {},
   "source": [
    "where $\\hat{\\mathbf{m}}$ is the projection of $\\hat{\\mathbf{n}}$ onto the $x,y$-plane.  \n",
    "\n",
    "$$ \\hat{\\mathbf{m}} = \\frac{|\\mathbf{m}|}{|\\mathbf{n}|}\\,\\langle \\cos\\alpha_n, \\cos\\beta_n, 0\\rangle = \\cos\\gamma_w\\,\\langle \\cos\\alpha_n,\\cos\\beta_n,0\\rangle$$"
   ]
  },
  {
   "cell_type": "markdown",
   "id": "3b4b89df-ff0d-48d9-9ac1-c3c87f89f2ee",
   "metadata": {},
   "source": [
    "$$ \\hat{\\mathbf{n}} = \\langle \\cos\\gamma_w\\cos\\alpha_n,\\cos\\gamma_w\\cos\\beta_n,\\cos\\omega\\rangle$$"
   ]
  },
  {
   "cell_type": "markdown",
   "id": "748dad7b-23b0-48c9-b018-3cfb1c2b18a6",
   "metadata": {},
   "source": [
    "$$ |\\hat{\\mathbf{m}}| = \\cos\\gamma_w = \\frac{|\\mathbf{m}|}{|\\mathbf{n}|}$$"
   ]
  },
  {
   "cell_type": "markdown",
   "id": "49419eb3-5eb9-49ea-aeac-01e47c7c26a8",
   "metadata": {},
   "source": [
    "$$ \\hat{\\mathbf{m}}' = -\\hat{\\mathbf{m}} \\quad\\implies\\quad |\\hat{\\mathbf{m}}'| = |\\hat{\\mathbf{m}}| = \\frac{|\\mathbf{m}|}{|\\mathbf{n}|}$$"
   ]
  },
  {
   "cell_type": "markdown",
   "id": "ca092800-95a3-4be5-bef0-ce1282fbc1d8",
   "metadata": {},
   "source": [
    "Thus,  \n",
    "\n",
    "$$ \\hat{\\mathbf{w}}\\cdot\\hat{\\mathbf{n}} = \\frac{n_3|\\mathbf{m}|}{2|\\mathbf{n}|} $$"
   ]
  },
  {
   "cell_type": "markdown",
   "id": "9fd3c24a-6222-4f90-93b9-08161e401f0c",
   "metadata": {},
   "source": [
    "Via (1), (2), and (3),  \n",
    "\n",
    "\\begin{equation}\\tag{4}\n",
    "    \\mathbf{A}\\cdot\\hat{\\mathbf{w}} = 0.5|\\hat{\\mathbf{m}}'|n_3(0,0,1)^T \\quad\\quad\\text{where }\\mathbf{A} = \\big[\\mathbf{n}\\;\\mathbf{v}\\;\\hat{\\mathbf{n}}'\\big]\n",
    "\\end{equation}"
   ]
  },
  {
   "cell_type": "markdown",
   "id": "9482e105-29ee-4cf6-a693-603ba7c3d438",
   "metadata": {},
   "source": [
    "There exists a unique solution for the above system if and only if the determinant of $\\mathbf{A}$ is not equal to zero.  Whereas the three row vectors of $\\mathbf{A}$ obviously do not rest on the same plane, therefore the determinant of $\\mathbf{A}$ is not equal to zero, therefore there exists a unique solution for (4).  The solution formula is:  \n",
    "\n",
    "$$ \\hat{\\mathbf{w}} = 0.5|\\hat{\\mathbf{m}}|n_3\\mathbf{A}^{-1}(0,0,1)^T$$"
   ]
  },
  {
   "cell_type": "markdown",
   "id": "c77b11e4-5fbf-4199-bacb-e5aefb0e478b",
   "metadata": {},
   "source": [
    "To make the above easier to compute, let $\\mathbf{p}:=\\hat{\\mathbf{w}}$.  Via system (4),  \n",
    "\n",
    "\\begin{equation}\\tag{4a}\n",
    "    \\mathbf{n}\\cdot\\mathbf{p} = n_1p_1 + n_2p_2 + n_3p_3=0\n",
    "\\end{equation}"
   ]
  },
  {
   "cell_type": "markdown",
   "id": "546737a9-32e5-47df-800b-a7540bd60bde",
   "metadata": {},
   "source": [
    "Via equation (2),  \n",
    "\n",
    "\\begin{equation}\\tag{4b}\n",
    "    \\mathbf{v}\\cdot\\mathbf{p} = n_2p_1 -n_1p_2 = 0\n",
    "\\end{equation}"
   ]
  },
  {
   "cell_type": "markdown",
   "id": "2e6d939b-f341-4e63-9fa4-094adb15a1e0",
   "metadata": {},
   "source": [
    "Via equation (3),  \n",
    "\n",
    "$$ \\hat{\\mathbf{n}}'\\cdot\\mathbf{p} = 0.5|\\hat{\\mathbf{m}}'|n_3$$"
   ]
  },
  {
   "cell_type": "markdown",
   "id": "a3e291a7-76c6-4ab5-8259-f543c93e22b7",
   "metadata": {},
   "source": [
    "$$ \\left\\langle \\frac{-|\\mathbf{m}|}{|\\mathbf{n}|}\\,\\cos\\alpha_n, -\\frac{|\\mathbf{m}|}{|\\mathbf{n}|}\\,\\cos\\beta_m,\\cos\\omega\\right\\rangle\\cdot\\mathbf{p} = \\frac{n_3|\\mathbf{m}|}{2|\\mathbf{n}|}$$"
   ]
  },
  {
   "cell_type": "markdown",
   "id": "10e4d019-e8e7-49a2-b8b6-d18b7b0ab063",
   "metadata": {},
   "source": [
    "$$ \\frac{\\mathbf{n}'\\cdot\\mathbf{p}}{|\\mathbf{n}|} = \\frac{n_3|\\mathbf{m}|}{2|\\mathbf{n}|}$$"
   ]
  },
  {
   "cell_type": "markdown",
   "id": "01c27552-99a2-49eb-9d9e-34aa9aa7d070",
   "metadata": {},
   "source": [
    "$$ \\mathbf{n}'\\cdot\\mathbf{p} = 0.5n_3|\\mathbf{m}|$$"
   ]
  },
  {
   "cell_type": "markdown",
   "id": "a45a7d23-3123-419b-941b-44399fb4d928",
   "metadata": {},
   "source": [
    "\\begin{equation}\\tag{4c}\n",
    "    -n_1p_1 - n_2p_2 + n_3p_3 = 0.5n_3|\\mathbf{m}|\n",
    "\\end{equation}"
   ]
  },
  {
   "cell_type": "markdown",
   "id": "8c877370-057f-4492-ba18-50690f86794e",
   "metadata": {},
   "source": [
    "Via equations (4a,b),  \n",
    "\n",
    "$$ p_2\\,\\left(\\frac{n_1^2}{n_2} + n_2\\right) + n_3p_3 = 0$$"
   ]
  },
  {
   "cell_type": "markdown",
   "id": "268db738-2f01-49a5-b26e-32e6bc07f673",
   "metadata": {},
   "source": [
    "\\begin{equation}\\tag{5a}\n",
    "     p_2\\,\\frac{|\\mathbf{m}|^2}{n_2} + n_3p_3=0\n",
    "\\end{equation}"
   ]
  },
  {
   "cell_type": "markdown",
   "id": "c5f054e8-ce2f-4ccd-96f6-d1b8de615a75",
   "metadata": {},
   "source": [
    "And, via equations (4b,c),  \n",
    "\n",
    "\\begin{equation}\\tag{5b}\n",
    "    n_3p_3-p_2\\,\\frac{|\\mathbf{m}|^2}{n_2} = 0.5n_3|\\mathbf{m}|\n",
    "\\end{equation}"
   ]
  },
  {
   "cell_type": "markdown",
   "id": "e5f51f40-dee0-4e90-871a-eef374dcd71b",
   "metadata": {},
   "source": [
    "Via the above two equations,  \n",
    "\n",
    "\\begin{equation}\\tag{6a}\n",
    "    p_3 = \\frac{|\\mathbf{m}|}{4}\n",
    "\\end{equation}"
   ]
  },
  {
   "cell_type": "markdown",
   "id": "1c0ff78b-7f06-419f-9aa6-9fda102a42a9",
   "metadata": {},
   "source": [
    "Via equations (6a) and (5a),  \n",
    "\n",
    "$$ p_2\\,\\frac{|\\mathbf{m}|^2}{n_2} = -0.25n_3|\\mathbf{m}|$$"
   ]
  },
  {
   "cell_type": "markdown",
   "id": "53b8714a-a4c3-44d6-87c9-ff29852928ae",
   "metadata": {},
   "source": [
    "\\begin{equation}\\tag{6b}\n",
    "    p_2 = -\\frac{n_2n_3}{4|\\mathbf{m}|}\n",
    "\\end{equation}"
   ]
  },
  {
   "cell_type": "markdown",
   "id": "2ec06a6e-b9dd-4551-bb5a-a02038f4e9dd",
   "metadata": {},
   "source": [
    "Finally, via equations (6b) and (4b),  \n",
    "\n",
    "$$ n_2p_1 = -\\frac{n_1n_2n_3}{4|\\mathbf{m}|}$$"
   ]
  },
  {
   "cell_type": "markdown",
   "id": "d149479e-a6f3-42d2-bfc3-a4cd270392ee",
   "metadata": {},
   "source": [
    "\\begin{equation}\\tag{6c}\n",
    "    p_1 = -\\frac{n_1n_3}{4|\\mathbf{m}|}\n",
    "\\end{equation}"
   ]
  },
  {
   "cell_type": "markdown",
   "id": "d40ce957-f18b-4b0f-a853-dff3bf0b17b9",
   "metadata": {},
   "source": [
    "\\begin{equation}\\tag{6}\n",
    "    \\hat{\\mathbf{w}} = \\mathbf{p} = 0.25\\left\\langle-\\frac{n_1n_3}{|\\mathbf{m}|}, -\\frac{n_2n_3}{|\\mathbf{m}|},|\\mathbf{m}|\\right\\rangle\n",
    "\\end{equation}"
   ]
  },
  {
   "cell_type": "markdown",
   "id": "2cd83bd8-5404-4789-b17e-26e18b68e8d3",
   "metadata": {},
   "source": [
    "**Proposition**:  $\\hat{\\mathbf{w}}$ points in the same direction as $\\mathbf{v}\\times\\mathbf{n}$.\n",
    "\n",
    "$$ \\hat{\\mathbf{w}} \\cdot \\mathbf{v}\\times\\mathbf{n} = |\\mathbf{v}\\times\\mathbf{n}| = |\\mathbf{m}||\\mathbf{n}|$$"
   ]
  },
  {
   "cell_type": "markdown",
   "id": "0587deb8-064a-4289-91c6-0145a8cb996d",
   "metadata": {},
   "source": [
    "**Proof**:  \n",
    "\n",
    "$$ \\mathbf{v}\\times\\mathbf{n} = \\left|\\begin{matrix}\\mathbf{i} & \\mathbf{j} & \\mathbf{k} \\\\ n_2 & -n_1 & 0 \\\\ n_1 & n_2 & n_3\\end{matrix}\\right|$$"
   ]
  },
  {
   "cell_type": "markdown",
   "id": "88c8c71e-6513-4113-bc2a-82a531c3b655",
   "metadata": {},
   "source": [
    "$$ = (-n_1n_3)\\mathbf{i} - (n_2n_3)\\mathbf{j} + (n_2^2 + n_1^2)\\mathbf{k}$$"
   ]
  },
  {
   "cell_type": "markdown",
   "id": "c1279817-35f0-4f42-a4fb-a0d6ff5dbf03",
   "metadata": {},
   "source": [
    "$$ = -n_1n_3\\mathbf{i} - n_2n_3\\mathbf{j} + |\\mathbf{m}|^2\\mathbf{k}$$\n",
    "\n",
    "\\begin{equation}\\tag{7}\n",
    "    \\mathbf{v}\\times\\mathbf{n} = \\big\\langle -n_1n_3,-n_2n_3, |\\mathbf{m}|^2\\big\\rangle\n",
    "\\end{equation}"
   ]
  },
  {
   "cell_type": "markdown",
   "id": "5ce141ad-26c8-403e-96bd-1d999a86f0d0",
   "metadata": {},
   "source": [
    "Via equation (6),  \n",
    "\n",
    "$$ 4|\\mathbf{m}|\\hat{\\mathbf{w}} = \\big\\langle-n_1n_3,-n_2n_3,|\\mathbf{m}|^2\\big\\rangle = \\mathbf{v}\\times\\mathbf{n}$$"
   ]
  },
  {
   "cell_type": "markdown",
   "id": "ba58f70c-9acd-4730-bb58-e55bb2527aff",
   "metadata": {},
   "source": [
    "Since $\\hat{\\mathbf{w}}$ times a positive scalar value is equal $\\mathbf{v}\\times\\mathbf{n}$, both vectors point in the same direction.  Q.E.D."
   ]
  },
  {
   "cell_type": "markdown",
   "id": "d0e47e57-3661-4e79-bec3-299fa76a5442",
   "metadata": {},
   "source": [
    "$$ |\\mathbf{v}\\times\\mathbf{n}| = \\sqrt{(n_1n_3)^2 + (n_2n_3)^2 + |\\mathbf{m}|^4} = \\sqrt{(n_1n_3)^2 + (n_2n_3)^2 + \\big(n_1^2 + n_2^2 \\big)^2}$$"
   ]
  },
  {
   "cell_type": "markdown",
   "id": "18fa449a-11b5-4f46-8c49-4af6490dd09b",
   "metadata": {},
   "source": [
    "$$ = \\sqrt{n_3^2|\\mathbf{m}|^2 + |\\mathbf{m}|^4} = |\\mathbf{m}|\\sqrt{n_3^2 + |\\mathbf{m}|^2} = |\\mathbf{m}||\\mathbf{n}|$$"
   ]
  },
  {
   "cell_type": "markdown",
   "id": "15a2497c-35fe-414b-9bf8-9b9257b7d93e",
   "metadata": {},
   "source": [
    "Thus,  \n",
    "\n",
    "$$ \\frac{\\mathbf{v}\\times\\mathbf{n}}{|\\mathbf{v}\\times\\mathbf{n}|} = \\frac{\\langle-n_1n_3,-n_2n_3,|\\mathbf{m}|^2\\rangle}{|\\mathbf{m}||\\mathbf{n}|}$$"
   ]
  }
 ],
 "metadata": {
  "kernelspec": {
   "display_name": "Python 3 (ipykernel)",
   "language": "python",
   "name": "python3"
  },
  "language_info": {
   "codemirror_mode": {
    "name": "ipython",
    "version": 3
   },
   "file_extension": ".py",
   "mimetype": "text/x-python",
   "name": "python",
   "nbconvert_exporter": "python",
   "pygments_lexer": "ipython3",
   "version": "3.10.12"
  }
 },
 "nbformat": 4,
 "nbformat_minor": 5
}
