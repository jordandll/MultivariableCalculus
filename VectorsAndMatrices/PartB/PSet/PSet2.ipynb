{
 "cells": [
  {
   "cell_type": "markdown",
   "id": "9e74f40e-898b-4994-851f-1cf7af28c511",
   "metadata": {},
   "source": [
    "# Problem Set 2\n",
    "\n",
    "## Part II\n",
    "\n",
    "#### Problem 1\n",
    "\n",
    "Let $\\mathbf{N}_i$ denote the normal to $\\mathcal{P}_i$, for all $i\\in\\{1,2,3\\}$."
   ]
  },
  {
   "cell_type": "markdown",
   "id": "dbe168f0-2903-47a9-a0dc-d93bf2470c8b",
   "metadata": {},
   "source": [
    "**a)**  Imagine a sketch of three distinct lines that intersect in pairs thus forming three points of intersection.  Each of these lines could be a line of intersection between either $\\mathcal{P}_1$, $\\mathcal{P}_2$, or $\\mathcal{P}_3$ and the plane that $\\mathbf{N}_1$, $\\mathbf{N}_2$, and $\\mathbf{N}_3$ rest on, denoted as $\\mathcal{P}$.  Furthermore, each point of intersection shown in the sketch is equal to the point of intersection between either $\\mathrm{L}_1$, $\\mathrm{L}_2$, or $\\mathrm{L}_3$ and $\\mathcal{P}$."
   ]
  },
  {
   "cell_type": "markdown",
   "id": "d45e10ff-2e58-48d1-a494-b577924ac328",
   "metadata": {},
   "source": [
    "**b)**  For future reference, if there exists a line that is perpendicular to our three normals then all three normals rest on the same plane.  Assuming $\\mathrm{L}_1$ is the intersection between $\\mathcal{P}_1$ and $\\mathcal{P}_2$,  \n",
    "\n",
    "\\begin{equation}\\tag{P1}\n",
    "    \\mathrm{L}_1 \\parallel \\mathcal{P}_1 \\;\\land\\;\\mathrm{L}_1\\parallel \\mathcal{P}_2 \\;\\therefore\\; \\mathrm{L}_1\\perp\\mathbf{N}_1 \\;\\land\\;\\mathrm{L}_1\\perp\\mathbf{N}_2\n",
    "\\end{equation}"
   ]
  },
  {
   "cell_type": "markdown",
   "id": "ce29d508-f50e-43a0-9cb6-0b85a0cfddd1",
   "metadata": {},
   "source": [
    "Assuming $\\mathrm{L}_2$ is the intersection between $\\mathcal{P}_2$ and $\\mathcal{P}_3$,  \n",
    "\n",
    "\\begin{equation}\\tag{P2}\n",
    "    \\mathrm{L}_2\\parallel\\mathcal{P}_3\\;\\therefore\\;\\mathrm{L}_2\\perp\\mathbf{N}_3\n",
    "\\end{equation}"
   ]
  },
  {
   "cell_type": "markdown",
   "id": "a9376b48-51a1-463e-b441-b559cf8dd857",
   "metadata": {},
   "source": [
    "Via the fact $\\mathrm{L}_1\\parallel\\mathrm{L}_2$ and (P2),  \n",
    "\n",
    "\\begin{equation}\\tag{P3}\n",
    "    \\mathrm{L}_1\\perp\\mathbf{N}_3\n",
    "\\end{equation}"
   ]
  },
  {
   "cell_type": "markdown",
   "id": "60572e27-e38a-4556-b22c-72aa6f9efe57",
   "metadata": {},
   "source": [
    "$\\mathrm{L}_3$ is a line and, via (P1) and (P3), is perpendicular to all three normals, therefore all three normals rest on the same plane.  Q.E.D."
   ]
  },
  {
   "cell_type": "markdown",
   "id": "84c082ec-7b07-4c0e-a864-893a25e33fe4",
   "metadata": {},
   "source": [
    "**c)**  Our three planes are given by the system of equations:  \n",
    "\n",
    "\\begin{equation}\\tag{1}\n",
    "    \\mathbf{A}\\cdot\\mathbf{x} = \\mathbf{b} \\quad\\quad\\text{where }\\mathbf{x} = (x,y,z)^T \\quad\\text{and}\\quad \\mathbf{b}=(b_1,b_2,b_3)^T\n",
    "\\end{equation}"
   ]
  },
  {
   "cell_type": "markdown",
   "id": "2fbb7437-054d-4aae-9a05-94771c3e12d9",
   "metadata": {},
   "source": [
    "Each row vector of $\\mathbf{A}$ is normal to it's corresponding plane given by the above system.  If $\\mathbf{A}$ were invertable then system (1) would have a unique solution, but, since the planes do not intersect at a single point, there is no unique solution;  Thus, via contradiction principle, $\\mathbf{A}$ is *not* invertable therefore the determinant of $\\mathbf{A}$ is equal to zero therefore the row vectors of $\\mathbf{A}$, each of which is normal to it's corresponding plane given by system (1), rest on the same plane.  Q.E.D."
   ]
  },
  {
   "cell_type": "markdown",
   "id": "a3d16e93-52d6-408e-8edf-07626c8c2901",
   "metadata": {},
   "source": [
    "#### Problem 2  \n",
    "\n",
    "**a)**  \n",
    "\n",
    "\\begin{equation}\\tag{1}\n",
    "    \\mathbf{A}\\cdot\\mathbf{p} = \\mathbf{m} \\quad\\quad \\text{where }\\mathbf{p} = (P_1,P_2,P_3)^T\\quad\\text{and}\\quad \\mathbf{m} = (M_1,M_2,M_3)^T\n",
    "\\end{equation}"
   ]
  },
  {
   "cell_type": "markdown",
   "id": "c34641c8-065c-4930-abdb-a5f15083a707",
   "metadata": {},
   "source": [
    "and  \n",
    "\n",
    "$$ \\mathbf{A} = \\begin{pmatrix}\\tag{1a}1 & 1 & 3\\\\ 2 & 3 & 5 \\\\ 3 & 5 & 8\\end{pmatrix}$$"
   ]
  },
  {
   "cell_type": "markdown",
   "id": "85f1325d-9523-4c42-b2c1-b12c3e932e7c",
   "metadata": {},
   "source": [
    "Of course, the solution formula is:  \n",
    "\n",
    "\\begin{equation}\\tag{2}\n",
    "    \\mathbf{p} = \\mathbf{A}^{-1}\\cdot\\mathbf{m}\n",
    "\\end{equation}"
   ]
  },
  {
   "cell_type": "markdown",
   "id": "148b84ab-6c73-4d0e-aaba-a32254c3e3ff",
   "metadata": {},
   "source": [
    "**b)**  The inverse of $\\mathbf{A}$ is given by:  \n",
    "\n",
    "$$ \\mathbf{A}^{-1} = \\frac{\\mathrm{adj}\\,\\mathbf{A}}{|\\mathbf{A}|}$$"
   ]
  },
  {
   "cell_type": "markdown",
   "id": "e2cf80fd-5317-45d4-9776-566b5a49d9fa",
   "metadata": {},
   "source": [
    "$$ |\\mathbf{A}| = -1 - 1(1) + 3(1) = 1$$"
   ]
  },
  {
   "cell_type": "markdown",
   "id": "ad66dfc3-1bd2-415c-b2dc-e276e8c66203",
   "metadata": {},
   "source": [
    "$$ \\mathrm{adj}\\,\\mathbf{A} = \\begin{pmatrix}-1 & -1 & 1 \\\\ 7 & -1 & -2 \\\\ -4 & 1 & 1\\end{pmatrix}^T = \\begin{pmatrix}-1 & 7 & -4 \\\\ -1 & -1 & 1 \\\\ 1 & -2 & 1\\end{pmatrix}$$"
   ]
  },
  {
   "cell_type": "markdown",
   "id": "1d2bbf36-f104-41e3-a86d-6afcaf82e45b",
   "metadata": {},
   "source": [
    "Thus,  \n",
    "\n",
    "$$ \\mathbf{A}^{-1} = \\mathrm{adj}\\,\\mathbf{A} = \\begin{pmatrix}\\tag{3}-1 & 7 & -4 \\\\ -1 & -1 & 1 \\\\ 1 & -2 & 1\\end{pmatrix} $$"
   ]
  },
  {
   "cell_type": "markdown",
   "id": "ea8f6bf5-c089-4873-91d3-9e5b9b8567ee",
   "metadata": {},
   "source": [
    "In general,  \n",
    "\n",
    "$$ P_1 = \\langle -1,7,-4\\rangle\\cdot\\mathbf{m} \\quad\\quad P_2 = \\langle -1,-1,1\\rangle\\cdot\\mathbf{m} \\quad\\quad P_3 = \\langle 1,-2,1\\rangle \\cdot \\mathbf{m}$$"
   ]
  },
  {
   "cell_type": "markdown",
   "id": "8e591b4b-eefe-4c2c-ae89-e33fe60fe651",
   "metadata": {},
   "source": [
    "In the case of $\\mathbf{m} = (137,279,448)^T$,  \n",
    "\n",
    "$$ P_1 = -137 + 7\\cdot279 - 4\\cdot 448 \\quad\\quad P_2 = -137-279+448 \\quad\\quad P_3 = 137 - 2\\cdot279 + 448$$"
   ]
  },
  {
   "cell_type": "code",
   "execution_count": 2,
   "id": "d0f8930c-6f08-467e-a430-70fd72a22777",
   "metadata": {
    "tags": []
   },
   "outputs": [
    {
     "data": {
      "text/plain": [
       "(24, 32, 27)"
      ]
     },
     "execution_count": 2,
     "metadata": {},
     "output_type": "execute_result"
    }
   ],
   "source": [
    "P_1 = -137 + 7*279 - 4*448\n",
    "P_2 = -137 - 279 + 448\n",
    "P_3 = 137 - 2*279 + 448\n",
    "(P_1, P_2, P_3)"
   ]
  },
  {
   "cell_type": "markdown",
   "id": "710d9b6d-05e2-4fe2-b01e-07051942b88a",
   "metadata": {},
   "source": [
    "**c)**  We need to find  a $a$, $b$, and $c$ such that:  \n",
    "\n",
    "$$ |\\mathbf{A}| =  \\left|\\begin{matrix}\\tag{1a}1 & 1 & 3\\\\ 2 & 3 & 5 \\\\ a& b & c\\end{matrix}\\right| = 0$$"
   ]
  },
  {
   "cell_type": "markdown",
   "id": "af5db8d2-f3d0-475b-879f-5017c583341e",
   "metadata": {},
   "source": [
    "and the third row vector of $\\mathbf{A}$ is not equal to either of the other two."
   ]
  },
  {
   "cell_type": "markdown",
   "id": "40810c8a-b42f-4699-b5de-2d8dcf9dfcb3",
   "metadata": {},
   "source": [
    "$$|\\mathbf{A}| = 3c - 5b - (2c - 5a) + 3(2b-3a) = 0$$"
   ]
  },
  {
   "cell_type": "markdown",
   "id": "7566efb8-2476-4f1c-a431-4b756891c986",
   "metadata": {},
   "source": [
    "$$ c = 4a-b$$"
   ]
  },
  {
   "cell_type": "markdown",
   "id": "4c333869-3e83-4544-8677-2c562785e160",
   "metadata": {},
   "source": [
    "Assuming $a=3$ and $b=1$,  $c = 11$."
   ]
  },
  {
   "cell_type": "markdown",
   "id": "0f50b846-af80-4444-bd5a-943b3720a538",
   "metadata": {},
   "source": [
    "The ratios for $P_3$ are $a:$, $b:$, and $c:$."
   ]
  },
  {
   "cell_type": "markdown",
   "id": "a373c52f-b630-4da7-9681-2867e76b5e23",
   "metadata": {},
   "source": [
    "#### Problem 3  \n",
    "\n",
    "**a)**  Our plane $\\mathcal{P}$ is given by:  \n",
    "\n",
    "$$ n_1x + n_2y + n_3z  = 0$$"
   ]
  },
  {
   "cell_type": "markdown",
   "id": "2c61b052-771e-4440-b083-898693c3941c",
   "metadata": {},
   "source": [
    "The angle between $\\mathbf{w}$ and the $x,y$-plane, denoted as $\\omega$, is equal to the angle between $\\mathbf{w}$ and it's projection onto the $x,y$-plane denoted as $\\mathbf{u}$.  \n",
    "\n",
    "$$  \\cos\\omega = \\frac{|\\mathbf{u}|}{|\\mathbf{w}|} \\quad\\quad\\text{where }\\mathbf{u} = \\langle w_1, w_2, 0\\rangle \\quad\\text{and}\\quad \\mathbf{w} = \\langle w_1,w_2,w_3\\rangle$$"
   ]
  },
  {
   "cell_type": "markdown",
   "id": "78908513-ed4f-4e1b-88cc-936cc2d31f64",
   "metadata": {},
   "source": [
    "$\\omega$ is nearest to it's max of $90^\\circ$ when $|\\mathbf{u}|$ is at its smallest.  Furthermore, since $\\mathbf{n}$ is perpendicular to $\\mathcal{P}$, $\\mathbf{n}$ is also perpendicular to $\\mathbf{w}$.  \n",
    "\n",
    "$$ \\mathbf{n}\\perp\\mathcal{P}\\;\\therefore\\;\\mathbf{n}\\perp\\mathbf{w}\\;\\therefore\\; \\mathbf{n}\\cdot\\mathbf{w} = 0$$"
   ]
  },
  {
   "cell_type": "markdown",
   "id": "54a7bce1-fc1e-4379-99c9-f5e4f9bb4e87",
   "metadata": {},
   "source": [
    "$$ |\\mathbf{u}|^2 = |\\mathbf{w}|^2 - w_3^2$$"
   ]
  },
  {
   "cell_type": "markdown",
   "id": "0790ac1b-9434-44b5-b50b-a05ba3537d61",
   "metadata": {},
   "source": [
    "Via the above equation, $|\\mathbf{u}|$ is at it's smallest when $w_3$ is at it's largest, thus $\\omega$ is at it's largest when $w_3$ is at it's largest.  Furthermore, $w_3$ is at it's largest when $\\mathbf{w}$ is perpendicular to the line of intersection between $\\mathcal{P}$ and the $x,y$-plane, which is given by:  \n",
    "\n",
    "$$ n_1x + n_2y = 0$$"
   ]
  },
  {
   "cell_type": "markdown",
   "id": "b95d3143-f508-468f-a3fe-253cde41b54b",
   "metadata": {},
   "source": [
    "Let $\\mathbf{a}(x)$ and $\\mathbf{v}$ be defined as:  \n",
    "\n",
    "$$ \\mathbf{a}(x) :=\\left\\langle x, -\\frac{n_1}{n_2}\\,x\\right\\rangle \\quad\\quad\\text{and}\\quad\\quad \\mathbf{v} := \\mathbf{a}(n_2) = \\langle n_2, - n_1\\rangle$$"
   ]
  },
  {
   "cell_type": "markdown",
   "id": "53ddf996-bbf9-4c75-9939-42e28e3a3e25",
   "metadata": {},
   "source": [
    "Both $\\mathbf{a}(x)$ and $\\mathbf{v}$ rest on the line of intersection, henceforth $\\mathrm{L}$, between $\\mathcal{P}$ and the $x,y$-plane.  Thus, $w_3$ is at it's largest when:  \n",
    "\n",
    "$$ \\mathbf{w}\\cdot\\mathbf{v} = 0$$"
   ]
  },
  {
   "cell_type": "markdown",
   "id": "4a629a3d-3b8c-4b77-8029-a746ebedbd74",
   "metadata": {},
   "source": [
    "Our formula is thus:  \n",
    "\n",
    "$$ \\begin{pmatrix} n_1 & n_2 & n_3 \\\\ n_2 & -n_1 & 0 \\\\ 0 & 0 & 0\\end{pmatrix}\\cdot\\mathbf{w}^T = 0$$"
   ]
  },
  {
   "cell_type": "markdown",
   "id": "265717ec-72b2-46e8-bf13-11932c0fbe6b",
   "metadata": {},
   "source": [
    "$$ n_2w_1 = n_1w_2$$"
   ]
  },
  {
   "cell_type": "markdown",
   "id": "902d297c-8857-4c27-a0f3-4cc3b3653690",
   "metadata": {},
   "source": [
    "$$ n_1w_1 + n_2w_2 + n_3w_3 = n_1w_1 + \\frac{n_2^2}{n_1}\\,w_1 + n_3w_3 = 0$$"
   ]
  },
  {
   "cell_type": "markdown",
   "id": "333ebe7c-4839-4682-8203-3420f77f0596",
   "metadata": {},
   "source": [
    "$$ w_1\\,\\frac{n_1^2+n_2^2}{n_1} + n_3w_3 = 0$$"
   ]
  },
  {
   "cell_type": "markdown",
   "id": "33d64779-fe58-4b7d-9302-0b52d1bcb46c",
   "metadata": {},
   "source": [
    "$$ w_1\\,\\frac{|\\mathbf{q}|^2}{n_1} + n_3w_3 = 0$$"
   ]
  },
  {
   "cell_type": "markdown",
   "id": "acd13723-2c57-419e-91e5-1db0317c3a49",
   "metadata": {},
   "source": [
    "where $\\mathbf{q} = \\langle n_1, n_2\\rangle$ is the projection of $\\mathbf{n}$ onto the $x,y$-plane. "
   ]
  },
  {
   "cell_type": "markdown",
   "id": "bb414d16-2496-40c9-8a95-39f3b409cd71",
   "metadata": {},
   "source": [
    "$$ |\\mathbf{q}||\\mathbf{w}|\\cos(\\pi-\\omega) = -|\\mathbf{q}||\\mathbf{w}|\\cos\\omega = \\mathbf{q}\\cdot\\mathbf{w}$$"
   ]
  },
  {
   "cell_type": "markdown",
   "id": "475d7892-8d9b-4329-a400-28f3a088a251",
   "metadata": {},
   "source": [
    "$$ \\mathbf{q}\\cdot\\mathbf{w} = -|\\mathbf{q}||\\mathbf{u}| $$"
   ]
  },
  {
   "cell_type": "markdown",
   "id": "61518f56-c131-4e63-8675-5733140c7f07",
   "metadata": {},
   "source": [
    "The angle between $\\mathbf{w}$ and the projection of $\\mathbf{n}$ onto the $z$-axis is equal to $0.5\\pi - \\omega$.  Thus,  \n",
    "\n",
    "$$ \\mathbf{w}\\cdot\\langle 0,0,n_3\\rangle = w_3n_3 = \\mathbf{w}n_3\\sin\\omega$$"
   ]
  }
 ],
 "metadata": {
  "kernelspec": {
   "display_name": "Python 3 (ipykernel)",
   "language": "python",
   "name": "python3"
  },
  "language_info": {
   "codemirror_mode": {
    "name": "ipython",
    "version": 3
   },
   "file_extension": ".py",
   "mimetype": "text/x-python",
   "name": "python",
   "nbconvert_exporter": "python",
   "pygments_lexer": "ipython3",
   "version": "3.10.12"
  }
 },
 "nbformat": 4,
 "nbformat_minor": 5
}
