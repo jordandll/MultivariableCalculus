{
 "cells": [
  {
   "cell_type": "markdown",
   "id": "692776eb-90bd-4f71-98cf-4e6c4f22b844",
   "metadata": {},
   "source": [
    "# Problem Set 2  \n",
    "\n",
    "## Part 1  \n",
    "\n",
    "### Equations of Planes"
   ]
  },
  {
   "cell_type": "markdown",
   "id": "0895cf4a-bef9-4cdc-acea-88d97b6847e5",
   "metadata": {},
   "source": [
    "#### Problem $\\S$ 1E : 1\n",
    "\n",
    "**a)** $$ x + 2y - 2z = 2 + 2 = 4 \\quad\\implies\\quad x + 2y - 2z = 4$$"
   ]
  },
  {
   "cell_type": "markdown",
   "id": "9ae2b94f-87a4-491d-b331-81202ab38960",
   "metadata": {},
   "source": [
    "**b)** $$ n_1x + n_2y + n_3z = 0 \\quad\\quad\\text{where }\\mathbf{N} = \\langle 1,1,0\\rangle \\times \\langle 2,-1,3\\rangle$$"
   ]
  },
  {
   "cell_type": "markdown",
   "id": "a8db0764-ee4a-4f11-8069-1a143c6d4d13",
   "metadata": {},
   "source": [
    "$$ \\mathbf{N} = \\left|\\begin{matrix}\\mathbf{i} & \\mathbf{j} & \\mathbf{k} \\\\ 1 & 1 & 0 \\\\ 2 & -1 & 3\\end{matrix}\\right|$$"
   ]
  },
  {
   "cell_type": "markdown",
   "id": "d60e47d3-8e39-4cbb-9b06-5edb5afb87bf",
   "metadata": {},
   "source": [
    "$$ = 3\\mathbf{i} - (3)\\mathbf{j} + (-3)\\mathbf{k} = \\langle 3,-3,-3\\rangle $$"
   ]
  },
  {
   "cell_type": "markdown",
   "id": "b181b687-fb51-49d3-b23f-618ab65347e6",
   "metadata": {},
   "source": [
    "Thus,  \n",
    "\n",
    "$$ x - y - z = 0$$"
   ]
  },
  {
   "cell_type": "markdown",
   "id": "9a8d11a7-d8b7-4ab9-b96b-e4710084fada",
   "metadata": {},
   "source": [
    "**c)**  $$ n_1x + n_2y + n_3z = n_1 + n_3 \\quad\\quad\\text{where }\\mathbf{N} = \\langle 1,-1,1\\rangle\\times\\langle -2, 3, 1\\rangle$$"
   ]
  },
  {
   "cell_type": "markdown",
   "id": "8f555431-c41a-478e-ae30-2e3a362b051f",
   "metadata": {},
   "source": [
    "$$ \\mathbf{N} = \\left|\\begin{matrix}\\mathbf{i} & \\mathbf{j} & \\mathbf{k} \\\\ 1 & -1 & 1 \\\\ -2 & 3 & 1\\end{matrix}\\right|$$"
   ]
  },
  {
   "cell_type": "markdown",
   "id": "86895e65-6e28-461a-ab05-89ee098cf5e4",
   "metadata": {},
   "source": [
    "$$ = -4\\mathbf{i} - (3)\\mathbf{j} + (1)\\mathbf{k} = \\langle -4,-3,1\\rangle$$"
   ]
  },
  {
   "cell_type": "markdown",
   "id": "85034c29-5bd9-4acd-941d-dd977da25f95",
   "metadata": {},
   "source": [
    "$$ -4x - 3y + z = -3$$"
   ]
  },
  {
   "cell_type": "markdown",
   "id": "759e938a-5b2f-472b-a804-1d07aab21b3e",
   "metadata": {},
   "source": [
    "**d)**  $$ n_1x + n_2y + n_3z = n_1a \\quad\\quad\\text{where }\\mathbf{N} = \\langle -a, b, 0\\rangle\\times\\langle -a,0,c\\rangle$$"
   ]
  },
  {
   "cell_type": "markdown",
   "id": "64df4074-fe08-46e7-a9f2-e0ecde4840de",
   "metadata": {},
   "source": [
    "It may be worth noting that:  \n",
    "\n",
    "$$ n_1a = n_2b = n_3c$$"
   ]
  },
  {
   "cell_type": "markdown",
   "id": "e846b70e-e928-446a-b3a6-78556ad51334",
   "metadata": {},
   "source": [
    "$$ \\mathbf{N} = \\left|\\begin{matrix}\\mathbf{i} & \\mathbf{j} & \\mathbf{k} \\\\ -a & b & 0 \\\\ -a & 0 & c\\end{matrix}\\right|$$"
   ]
  },
  {
   "cell_type": "markdown",
   "id": "8f350b7e-630b-408e-832b-15ab84c07877",
   "metadata": {},
   "source": [
    "$$ =  bc\\mathbf{i} - (-ac)\\mathbf{j} + (ab)\\mathbf{k}$$"
   ]
  },
  {
   "cell_type": "markdown",
   "id": "d55b78ae-7fe1-44df-b6b2-345d90b87981",
   "metadata": {},
   "source": [
    "$$ bcx + acy + abz = bca$$"
   ]
  },
  {
   "cell_type": "markdown",
   "id": "e913435d-3468-4e2f-a6e1-95d81e7840e7",
   "metadata": {},
   "source": [
    "$$ \\frac{x}{a} + \\frac{b}{y} + \\frac{z}{c} = 1$$"
   ]
  },
  {
   "cell_type": "markdown",
   "id": "b98e6312-9017-415b-97ce-0891074a8ce7",
   "metadata": {},
   "source": [
    "**e)**  $$ n_1x + n_2y + n_3 z = n_1+n_3 \\quad\\quad\\text{where }\\mathbf{N} = \\langle -1,1,0\\rangle\\times\\langle 1,-1,2\\rangle$$"
   ]
  },
  {
   "cell_type": "markdown",
   "id": "24efd71f-9d67-48e0-8dd7-72b38251283f",
   "metadata": {},
   "source": [
    "$$ \\mathbf{N} = \\left|\\begin{matrix}\\mathbf{i} & \\mathbf{j} & \\mathbf{k} \\\\ -1 & 1 & 0 \\\\ 1 & -1 & 2\\end{matrix}\\right|$$"
   ]
  },
  {
   "cell_type": "markdown",
   "id": "f44c887d-4d85-46da-9607-ddaea2b0842a",
   "metadata": {},
   "source": [
    "$$ = 2\\mathbf{i} -(-2)\\mathbf{j} + (0)\\mathbf{k}$$"
   ]
  },
  {
   "cell_type": "markdown",
   "id": "cd59d6b2-acad-4b1a-8e42-349c719fe626",
   "metadata": {},
   "source": [
    "$$ 2x + 2y = 2 \\quad\\implies\\quad x + y = 1$$"
   ]
  },
  {
   "cell_type": "markdown",
   "id": "995767b6-3a7f-4e92-9fe7-ba2e27bfff6e",
   "metadata": {},
   "source": [
    "#### Problem $\\S$ 1E : 2  \n",
    "\n",
    "The dihedral angle, denoted as $\\theta$, between the two planes is equal to the angle between the two normals of said planes.  \n",
    "\n",
    "$$ \\mathbf{N_1} = \\langle 2,-1,1\\rangle \\quad\\quad\\text{and}\\quad\\quad \\mathbf{N_2} = \\langle 1,1,2\\rangle$$"
   ]
  },
  {
   "cell_type": "markdown",
   "id": "40545b37-9c8c-4f1a-93c2-49f62b59b1cf",
   "metadata": {},
   "source": [
    "$$ \\mathbf{N_1}\\cdot\\mathbf{N_2}= |\\mathbf{N_1}||\\mathbf{N_2}|\\cos\\theta = 2 -1 + 2 = 3$$"
   ]
  },
  {
   "cell_type": "markdown",
   "id": "3a8f2c35-c62e-47a7-acba-febb82128dbd",
   "metadata": {},
   "source": [
    "$$ \\cos\\theta = \\frac{3}{\\sqrt{6}\\sqrt{6}} = 0.5$$"
   ]
  },
  {
   "cell_type": "code",
   "execution_count": 1,
   "id": "681494c9-4466-4a7c-83d4-37d3076610ba",
   "metadata": {
    "tags": []
   },
   "outputs": [],
   "source": [
    "import numpy as np"
   ]
  },
  {
   "cell_type": "code",
   "execution_count": 2,
   "id": "6aec0823-7b38-4ced-b56a-703551644f54",
   "metadata": {
    "tags": []
   },
   "outputs": [
    {
     "data": {
      "text/plain": [
       "60.00000000000001"
      ]
     },
     "execution_count": 2,
     "metadata": {},
     "output_type": "execute_result"
    }
   ],
   "source": [
    "np.degrees(np.arccos(0.5))"
   ]
  },
  {
   "cell_type": "markdown",
   "id": "844396f6-3a8d-45e5-b67a-8be41bbea2e7",
   "metadata": {},
   "source": [
    "#### Problem \\$S$ 1E : 3  \n",
    "\n",
    "Let $P_0$, $P$, and $\\mathbf{P}$ be defined as:  \n",
    "\n",
    "$$ P_0 = (1,0,-1)\\quad\\quad P = (x,y,z) \\quad\\quad \\mathbf{P} = \\overrightarrow{P_0P} = \\langle x-1,y,z+1\\rangle$$"
   ]
  },
  {
   "cell_type": "markdown",
   "id": "1110acfc-8576-4e89-8ab3-8e575c519f92",
   "metadata": {},
   "source": [
    "$$\\mathbf{Q} := \\langle 2,-1,3\\rangle $$"
   ]
  },
  {
   "cell_type": "markdown",
   "id": "ecaab2a7-2ac5-4f38-8f04-71ee68d51b24",
   "metadata": {},
   "source": [
    "$$ \\mathbf{P}\\times\\mathbf{Q} = \\left|\\begin{matrix}\\mathbf{i} & \\mathbf{j} & \\mathbf{k} \\\\  x-1 & y & z + 1 \\\\ 2 & -1 & 3\\end{matrix}\\right| = 0 \\quad\\implies$$"
   ]
  },
  {
   "cell_type": "markdown",
   "id": "c05a1fe2-41f7-4a5e-bf8c-33588e49a1b6",
   "metadata": {},
   "source": [
    "$$ (3y + z + 1)\\mathbf{i} - (3x-3 - 2z - 2)\\mathbf{j} + (1-x - 2y)\\mathbf{k} = 0 \\quad\\implies$$"
   ]
  },
  {
   "cell_type": "markdown",
   "id": "13340bce-1406-4416-a808-7dad8497269b",
   "metadata": {},
   "source": [
    "\\begin{equation}\\tag{1}\n",
    "    \\text{a: }\\;3y + z = -1 \\quad\\quad \\text{b: }\\;3x - 2z = 5 \\quad\\quad\\text{c: }\\; x + 2y = 1\n",
    "\\end{equation}"
   ]
  },
  {
   "cell_type": "markdown",
   "id": "59d39140-7afd-4947-ba1c-07c1c8732c7c",
   "metadata": {},
   "source": [
    "The position vector that traces our line is given by  \n",
    "\n",
    "$$ \\mathbf{r}(t) = \\langle 1,0,-1\\rangle + t\\langle 2,-1,3\\rangle$$"
   ]
  },
  {
   "cell_type": "markdown",
   "id": "de95918f-d658-417d-9175-b3ffa5d145a7",
   "metadata": {},
   "source": [
    "Thus,  \n",
    "\n",
    "$$ r_1 = x = 2t + 1\\quad\\quad r_2=y=-t\\quad\\quad r_3 = z = 3t - 1$$"
   ]
  },
  {
   "cell_type": "markdown",
   "id": "0256d497-a917-48c9-bcad-a1bdbbe42d3b",
   "metadata": {},
   "source": [
    "It may be worth noting that the above parametric equations satisfy equations (1).  \n",
    "\n",
    "\\begin{equation}\\tag{1a}\n",
    "    -3t + 3t-1 = -1\n",
    "\\end{equation}"
   ]
  },
  {
   "cell_type": "markdown",
   "id": "cde229d2-15c9-4eda-9a59-e446375478d6",
   "metadata": {},
   "source": [
    "\\begin{equation}\\tag{1b}\n",
    "    6t + 3 - 6t + 2 = 5\n",
    "\\end{equation}"
   ]
  },
  {
   "cell_type": "markdown",
   "id": "c8630265-d633-433f-9b9f-9b4d0a895325",
   "metadata": {},
   "source": [
    "\\begin{equation}\\tag{1c}\n",
    "    2t+1 -2t = 1\n",
    "\\end{equation}"
   ]
  },
  {
   "cell_type": "markdown",
   "id": "2dfbcb29-c2e6-4e3f-aef7-ee8961046745",
   "metadata": {},
   "source": [
    "**b)**  $$ x = 2t + 2 \\quad\\quad y=-t - 1\\quad\\quad z = 2t - 1$$"
   ]
  },
  {
   "cell_type": "markdown",
   "id": "0f8c6512-5826-47f3-951c-6b2a597ee43d",
   "metadata": {},
   "source": [
    "**c)**  Every line lying in the plane given by the equation is parallel to a vector that is parallel to said plane;  And, each of the aforementioned lines, and, consequently each vector, is perpendicular to the normal of said plane.  Let $\\mathbf{P}$ and $\\mathbf{N}$ denote said vector and normal respectively.  \n",
    "\n",
    "$$ \\mathbf{N} = \\langle 1,2,-1\\rangle \\quad\\quad \\mathbf{P}\\perp\\mathbf{N}\\;\\iff\\;\\mathbf{P}\\cdot\\mathbf{N} = 0 $$"
   ]
  },
  {
   "cell_type": "markdown",
   "id": "7dd26c58-e765-4e69-ae0c-256b3b2c0ada",
   "metadata": {},
   "source": [
    "The position vector of a line is:  \n",
    "\n",
    "$$ \\mathbf{r}(t) = \\langle 1,1,1\\rangle + t\\mathbf{P} = \\langle 1,1,1\\rangle + t\\langle x, y, x + 2y\\rangle$$"
   ]
  },
  {
   "cell_type": "markdown",
   "id": "fce45109-062c-4d23-990c-15e489470fe2",
   "metadata": {},
   "source": [
    "$$ x + 2y - z = 0$$"
   ]
  },
  {
   "cell_type": "markdown",
   "id": "5f4da625-de61-457e-9b8a-bdf5205ce8a3",
   "metadata": {},
   "source": [
    "$$ x + 2y - z = 2$$"
   ]
  },
  {
   "cell_type": "markdown",
   "id": "5b5513ca-b5ed-474b-991f-03f84d847911",
   "metadata": {},
   "source": [
    "#### Problem $\\S$ 1E : 4\n",
    "\n",
    "The equations that give our line are given by:  \n",
    "\n",
    "$$ \\langle 2,1,1\\rangle\\times\\langle x, y-1, z-2\\rangle = 0 \\quad\\implies$$"
   ]
  },
  {
   "cell_type": "markdown",
   "id": "7dfad521-9754-4a43-93f1-6af8a20b7449",
   "metadata": {},
   "source": [
    "$$ \\left|\\begin{matrix}\\mathbf{i} & \\mathbf{j} & \\mathbf{k} \\\\ 2 & 1 & 1 \\\\ x & y-1 & z-2\\end{matrix}\\right| = 0 \\quad\\implies$$"
   ]
  },
  {
   "cell_type": "markdown",
   "id": "80fd300f-0e99-4aaf-be62-7d6a3bfa2da7",
   "metadata": {},
   "source": [
    "$$ (z-2 - y + 1)\\mathbf{i} - (2z - 4 - x)\\mathbf{j} + (2y - 2 - x)\\mathbf{k} = 0 \\quad\\implies$$"
   ]
  },
  {
   "cell_type": "markdown",
   "id": "53510121-0103-479c-988c-32a74e3102dd",
   "metadata": {},
   "source": [
    "\\begin{equation}\\tag{1}\n",
    "    \\text{a: }\\;z-y = 1 \\quad\\quad \\text{b: }\\;2z-x = 4\\quad\\quad\\text{c: }\\;2y-x=2\n",
    "\\end{equation}"
   ]
  },
  {
   "cell_type": "markdown",
   "id": "260f6292-5bcd-43e1-91a7-26d8d7df5bc8",
   "metadata": {},
   "source": [
    "The plane is given by:  \n",
    "\n",
    "\\begin{equation}\\tag{2}\n",
    "    x + 4y + z = 4\n",
    "\\end{equation}"
   ]
  },
  {
   "cell_type": "markdown",
   "id": "d26aa163-45b4-4895-8f2a-af481d38dfaf",
   "metadata": {},
   "source": [
    "Via equation (1b) and (2),  \n",
    "\n",
    "\\begin{equation}\\tag{3}\n",
    "    3z + 4y= 8\n",
    "\\end{equation}"
   ]
  },
  {
   "cell_type": "markdown",
   "id": "a22c5feb-9496-4bee-83ad-fb96c6d5cf18",
   "metadata": {},
   "source": [
    "And, via equations (3) and (1a),  \n",
    "\n",
    "$$ 3y + 3 + 4y = 8 \\quad\\implies\\quad 7y = 5$$\n",
    "\n",
    "\\begin{equation}\\tag{4}\n",
    "    y = \\frac{5}{7}\n",
    "\\end{equation}"
   ]
  },
  {
   "cell_type": "markdown",
   "id": "16f8507c-28a4-4584-acc0-848b1a6e2a96",
   "metadata": {},
   "source": [
    "Via equations (4) and (1c),  \n",
    "\n",
    "$$ \\frac{10}{7} - x = 2\\quad\\implies\\quad x = \\frac{10-14}{7}$$"
   ]
  },
  {
   "cell_type": "markdown",
   "id": "9dfe872c-85ea-4d14-80c3-f69f1d45bf26",
   "metadata": {},
   "source": [
    "\\begin{equation}\\tag{5}\n",
    "    x = -\\frac{4}{7}\n",
    "\\end{equation}"
   ]
  },
  {
   "cell_type": "markdown",
   "id": "583ef551-a708-4112-b26a-e7c5273d1651",
   "metadata": {},
   "source": [
    "Finally, via equations (5) and (1b),  \n",
    "\n",
    "$$ 2z = 4 - \\frac{4}{7} = \\frac{28-4}{7} =\\frac{24}{7} $$"
   ]
  },
  {
   "cell_type": "markdown",
   "id": "fd34f113-c890-40ae-a7f0-845fe50858ef",
   "metadata": {},
   "source": [
    "\\begin{equation}\\tag{6}\n",
    "    z = \\frac{12}{7}\n",
    "\\end{equation}"
   ]
  },
  {
   "cell_type": "markdown",
   "id": "617f1da3-2122-4af3-b092-cf8caccacd34",
   "metadata": {},
   "source": [
    "Finally, the point of intersection, denoted as $P$, is:  \n",
    "\n",
    "$$ P = \\frac{(-4,5,12)}{7}$$"
   ]
  },
  {
   "cell_type": "markdown",
   "id": "31e9df95-7b4a-4dca-8c1d-04f6e3beb7ec",
   "metadata": {
    "tags": []
   },
   "source": [
    "#### Problem $\\S$ 1E : 5\n",
    "\n",
    "\\begin{equation}\\tag{1}\n",
    "    \\text{a: }\\;x = t + 1\\quad\\quad\\text{b: }\\; y = 2t + 1\\quad\\quad\\text{c: }\\;z = -t-1\n",
    "\\end{equation}"
   ]
  },
  {
   "cell_type": "markdown",
   "id": "a2c3af31-ceef-4a1b-b039-8359cab38f15",
   "metadata": {},
   "source": [
    "\\begin{equation}\\tag{2}\n",
    "    2x - y + z = 1\n",
    "\\end{equation}"
   ]
  },
  {
   "cell_type": "markdown",
   "id": "61f27cc5-4c8a-4eb8-a836-6416ab447522",
   "metadata": {},
   "source": [
    "Via the above four equations and substitution,  \n",
    "\n",
    "$$ 2t + 2 - 2t - 1 - t - 1 = 1 \\quad\\therefore\\quad t = -1$$"
   ]
  },
  {
   "cell_type": "markdown",
   "id": "5b96ecca-c6fc-4dc5-93e9-8f3f687b23a0",
   "metadata": {},
   "source": [
    "Thus, via the above and equations (1) and substitution, the point of intersection is:  \n",
    "\n",
    "$$ (0,-1,0)$$"
   ]
  },
  {
   "cell_type": "markdown",
   "id": "bc971fa3-b23f-41aa-8574-27090c2e6407",
   "metadata": {},
   "source": [
    "#### Problem $\\S$ 1E : 6\n",
    "\n",
    "$$ \\mathbf{n} = \\frac{\\langle a,b,c\\rangle}{\\sqrt{a^2+b^2+c^2}} \\quad\\quad\\text{and}\\quad\\quad \\mathbf{P} = \\left\\langle x,y, \\frac{d - ax - by}{c}\\right\\rangle$$"
   ]
  },
  {
   "cell_type": "markdown",
   "id": "d7ad8c80-723b-44eb-9066-6e0c1b916eec",
   "metadata": {},
   "source": [
    "$$ \\mathbf{P}\\cdot\\mathbf{n} = \\frac{ax + by + d-ax - by}{\\sqrt{a^2 + b^2 + c^2}} = \\frac{d}{\\sqrt{a^2+b^2+c^2}}$$"
   ]
  },
  {
   "cell_type": "markdown",
   "id": "82ce329c-6f8d-42ab-a413-3ccf98906ff6",
   "metadata": {},
   "source": [
    "### Matrix Algebra\n",
    "\n",
    "#### Problem $\\S$ 1F : 5\n",
    "\n",
    "**a)** $$ \\mathbf{A}^2 = \\begin{pmatrix} 1 & 1 \\\\ 1 & 2\\end{pmatrix} \\quad\\quad\\text{and}\\quad\\quad $$"
   ]
  },
  {
   "cell_type": "markdown",
   "id": "b167a911-4987-4960-9616-712986516c15",
   "metadata": {},
   "source": [
    "$$ \\mathbf{A}^3 = \\begin{pmatrix}1 & 1 \\\\ 1 & 2\\end{pmatrix}\\cdot\\begin{pmatrix}0 & 1 \\\\ 1 & 1\\end{pmatrix}$$"
   ]
  },
  {
   "cell_type": "markdown",
   "id": "f605b202-8c22-45b2-a824-28e7b326652a",
   "metadata": {},
   "source": [
    "$$ = \\begin{pmatrix} 1 & 2 \\\\ 2 & 3 \\end{pmatrix}$$"
   ]
  },
  {
   "cell_type": "markdown",
   "id": "c3630dce-50b2-41e5-9294-71a9359a26b7",
   "metadata": {},
   "source": [
    "**b)** $$\\mathbf{A}^2 = \\begin{pmatrix}1 & 2 \\\\ 0 & 1\\end{pmatrix} $$"
   ]
  },
  {
   "cell_type": "markdown",
   "id": "e2d05ced-3869-4dab-9f6b-2a3e727f8625",
   "metadata": {},
   "source": [
    "$$ \\mathbf{A}^3 = \\begin{pmatrix}1 & 2 \\\\ 0 & 1\\end{pmatrix} \\cdot \\begin{pmatrix} 1 & 1 \\\\ 0 & 1\\end{pmatrix}$$"
   ]
  },
  {
   "cell_type": "markdown",
   "id": "ee089975-b633-4ce5-a0e6-9d63938b76a4",
   "metadata": {},
   "source": [
    "$$ = \\begin{pmatrix}1 & 3 \\\\ 0 & 1\\end{pmatrix}$$"
   ]
  },
  {
   "cell_type": "markdown",
   "id": "887cde22-049f-49fd-9a9f-a343f3bd2b5d",
   "metadata": {},
   "source": [
    "$$ \\mathbf{A}^n = \\begin{pmatrix} 1 & n\\\\ 0 & 1\\end{pmatrix}\\quad\\quad\\text{where }n\\in\\mathbb{N}\\cup\\{0\\}$$"
   ]
  },
  {
   "cell_type": "markdown",
   "id": "51a3861c-2caf-4b51-b226-a382e6095794",
   "metadata": {},
   "source": [
    "Now, what about the same equation, but with the caveat of $n\\in\\mathbb{Z}$?"
   ]
  },
  {
   "cell_type": "markdown",
   "id": "73868f87-b408-4281-8466-811ac25e4c4b",
   "metadata": {},
   "source": [
    "The inverse of $\\mathbf{A}$ is:  \n",
    "\n",
    "$$ \\mathbf{A}^{-1} = \\frac{\\mathrm{adj}\\,\\mathbf{A}}{|\\mathbf{A}|}$$"
   ]
  },
  {
   "cell_type": "markdown",
   "id": "f3d17b5e-19aa-4eab-8144-c8d196123828",
   "metadata": {},
   "source": [
    "$$ |\\mathbf{A}| = 1 \\quad\\quad\\text{and}\\quad\\quad \\mathrm{adj}\\,\\mathbf{A} = \\begin{pmatrix}1 & 0 \\\\ -1 & 1\\end{pmatrix}^T = \\begin{pmatrix}1 & -1 \\\\ 0 & 1\\end{pmatrix}$$"
   ]
  },
  {
   "cell_type": "markdown",
   "id": "8ce44621-5784-4cfd-b8a2-ad2c14ead227",
   "metadata": {},
   "source": [
    "$$ \\mathbf{A}^{-1} = \\begin{pmatrix}1 & -1\\\\0 & 1\\end{pmatrix}$$"
   ]
  },
  {
   "cell_type": "markdown",
   "id": "12f70d19-fa8c-45c5-b8db-7f92a40e60ae",
   "metadata": {},
   "source": [
    "The equation does *not* hold under said caveat."
   ]
  },
  {
   "cell_type": "markdown",
   "id": "cf8b0248-13a6-4634-8248-099c8e51d57d",
   "metadata": {},
   "source": [
    "#### Problem $\\S$ 1F : 8  \n",
    "\n",
    "**a)** This requires solving three 3x3 systems.  Let $\\mathbf{A}_i$ denote the $i$'th row vector of $\\mathbf{A}$.  \n",
    "\n",
    "$$ \\mathbf{A}_1^T = (2, -1, 1)^T \\quad\\quad \\mathbf{A}_2^T = (3,0,1)^T\\quad\\quad \\mathbf{A}_3^T = (1,4,-1)^T$$"
   ]
  },
  {
   "cell_type": "markdown",
   "id": "e5a90f05-91dc-4b6c-b5ac-af994306c65e",
   "metadata": {},
   "source": [
    "Thus,  \n",
    "\n",
    "$$ \\mathbf{A} = \\begin{pmatrix} 2 & -1 & 1 \\\\ 3 & 0 & 1 \\\\ 1 & 4 & -1\\end{pmatrix}$$"
   ]
  },
  {
   "cell_type": "markdown",
   "id": "6ae9a66e-cd07-4ebd-b8d7-0e59d10a126b",
   "metadata": {},
   "source": [
    "**b)** $$ \\begin{pmatrix} 2 & 0 & 0 \\\\ 1 & 1 & 1 \\\\ 0 & 2 & 1\\end{pmatrix}\\cdot\\mathbf{A}_1^T = (-2,3,7)^T$$"
   ]
  },
  {
   "cell_type": "markdown",
   "id": "f72dbb8d-f356-45ab-a5a9-0288af9b7bd1",
   "metadata": {},
   "source": [
    "Let $\\mathbf{M}$ denote the left hand operand of the matrix multplication operator invoked in the above equation.  \n",
    "\n",
    "$$ \\mathbf{M}^{-1} = \\frac{\\mathrm{adj}\\,\\mathbf{M}}{|\\mathbf{M}|}$$"
   ]
  },
  {
   "cell_type": "markdown",
   "id": "8d70c086-7475-466f-a8c3-63d8a631e887",
   "metadata": {},
   "source": [
    "$$ |\\mathbf{M}| = -2 \\quad\\quad\\text{and}\\quad\\quad \\mathrm{adj}\\,\\mathbf{M} = \\begin{pmatrix}-1 & -1 & 2 \\\\ 0 & 2 & -4\\\\ 0 & -2 & 2\\end{pmatrix}^T$$"
   ]
  },
  {
   "cell_type": "markdown",
   "id": "c34808d2-6592-412e-a091-2d35c6d1da82",
   "metadata": {},
   "source": [
    "$$ = \\begin{pmatrix}-1 & 0 & 0 \\\\ -1 & 2 & -2 \\\\ 2 & -4 & 2\\end{pmatrix}$$"
   ]
  },
  {
   "cell_type": "markdown",
   "id": "e2455afe-ed05-45a4-8dbf-607c3af5d81c",
   "metadata": {},
   "source": [
    "Thus,  \n",
    "\n",
    "$$ \\mathbf{A}_1^T = \\mathbf{M}^{-1}\\cdot(-2,3,7)^T$$"
   ]
  },
  {
   "cell_type": "markdown",
   "id": "4d4bf1d8-80f8-428a-beac-c634a9364bbb",
   "metadata": {},
   "source": [
    "$$ = -0.5(2, 2 + 6 - 14, -4 - 12 + 14)^T$$"
   ]
  },
  {
   "cell_type": "markdown",
   "id": "c633f2d2-dcc5-45c7-ab67-9ada857d2dc2",
   "metadata": {},
   "source": [
    "$$ = -0.5(2,-6,-2)^T = (-1,3,1)^T$$"
   ]
  },
  {
   "cell_type": "markdown",
   "id": "8a7d45a7-afa6-44c2-a81a-33f9012a1a1a",
   "metadata": {},
   "source": [
    "$$ \\implies\\quad \\mathbf{A}_1 = (-1,3,1)$$"
   ]
  },
  {
   "cell_type": "markdown",
   "id": "f396fbe8-fa37-4046-923a-0dc526032af3",
   "metadata": {},
   "source": [
    "$$ \\mathbf{A}_2^T = \\mathbf{M}^{-1}\\cdot(0,0,1)^T = -0.5(0,-2,2)^T \\quad \\implies\\quad \\mathbf{A}_2 = (0,1,-1)$$"
   ]
  },
  {
   "cell_type": "markdown",
   "id": "542f6437-83d6-417a-aaf4-0709ac6d8788",
   "metadata": {},
   "source": [
    "$$ \\mathbf{A}_3^T = \\mathbf{M}^{-1}\\cdot(4,3,1)^T = -0.5(-4,-4+ 6 - 2, 8 - 12 + 2)^T = -0.5(-4,0,-2)^T\\quad\\implies\\quad \\mathbf{A}_3 = (2,0,1)$$"
   ]
  },
  {
   "cell_type": "markdown",
   "id": "3a796ba7-b9a6-4e36-8034-760964733aa6",
   "metadata": {},
   "source": [
    "Finally,  \n",
    "\n",
    "$$ \\mathbf{A} = \\begin{pmatrix}-1 & 3 & 1 \\\\ 0 & 1 & -1 \\\\ 2 & 0 & 1\\end{pmatrix}$$"
   ]
  },
  {
   "cell_type": "markdown",
   "id": "91c25769-8d60-4311-a459-a74744c4c831",
   "metadata": {},
   "source": [
    "#### Problem $\\S$ 1F : 9  \n",
    "\n",
    "**a)**  Let $\\mathbf{A}_i$ denote the $i$'th row vector of $\\mathbf{A}$, a $n$ by $n$ square matrix.  \n",
    "\n",
    "**Proposition**:  $$ |\\mathbf{A}_i| = 1 \\;\\forall i\\in\\mathbb{N} \\,:\\, i \\le n$$"
   ]
  },
  {
   "cell_type": "markdown",
   "id": "15321463-28ff-4252-83eb-b59dc12eca43",
   "metadata": {},
   "source": [
    "**Proof**:  Let $\\mathbf{B}_j$ denote the $j$'th column vector of $\\mathbf{A}^T$, the transpose of $\\mathbf{A}$.  The dot product of $\\mathbf{A}_i$ and $\\mathbf{B}_j$ is equal to the $i\\!j$-entry of the matrix multiplicative identity element of $\\mathbf{A}$, denoted as $\\mathbf{I}_n$.\n",
    "\n",
    "$$ \\mathbf{A}_i\\cdot\\mathbf{B}_j = I_{i,j}\\;\\forall i,j\\in\\mathbb{N}\\,:\\, i,j\\le n$$"
   ]
  },
  {
   "cell_type": "code",
   "execution_count": null,
   "id": "e65bdcf3-7085-49fe-940d-8fb8ff0889b1",
   "metadata": {},
   "outputs": [],
   "source": []
  },
  {
   "cell_type": "markdown",
   "id": "24532f1e-1972-4b67-8b0d-a6c8f3143a0b",
   "metadata": {},
   "source": [
    "Via the assumption that $i=j$, the fact that $\\mathbf{B}_j=\\mathbf{A}_j$, and the above equation,  \n",
    "\n",
    "$$ \\mathbf{A}_i^2 = |\\mathbf{A}_i|^2 = I_{i,i} = 1$$"
   ]
  },
  {
   "cell_type": "markdown",
   "id": "a1204bd6-f2bb-4a7e-be8d-0614ed078e0e",
   "metadata": {},
   "source": [
    "$$ \\quad\\implies |\\mathbf{A}_i|^2 = 1\\quad\\implies\\quad |\\mathbf{A}_i|=1\\;\\forall i\\in\\mathbb{N}\\,:\\,i\\le n$$"
   ]
  },
  {
   "cell_type": "markdown",
   "id": "ac092cd5-b210-4fbc-acc9-dd548e941f63",
   "metadata": {},
   "source": [
    "Q.E.D."
   ]
  },
  {
   "cell_type": "markdown",
   "id": "7cd28ed1-0144-4d40-bd93-d6592bc0c1e0",
   "metadata": {},
   "source": [
    "**b)**  **Proposition**:  $$ \\mathbf{A}_i\\cdot\\mathbf{A}_j = 0 \\;\\forall i,j\\in\\mathbb{N}\\,:\\, i,j \\le n \\land i \\ne j$$"
   ]
  },
  {
   "cell_type": "markdown",
   "id": "1418aa58-82db-45e0-bb43-5de2f4608d48",
   "metadata": {},
   "source": [
    "**Proof**:  \n",
    "\n",
    "$$ I_{i,j} =0\\;\\forall i,j\\in\\mathbb{N}\\,:\\, i,j \\le n \\land i \\ne j$$"
   ]
  },
  {
   "cell_type": "markdown",
   "id": "41473b69-9806-4c00-a85c-dc3508747a15",
   "metadata": {},
   "source": [
    "$$ \\mathbf{A}_i\\cdot\\mathbf{A}_j = I_{i,j}\\;\\forall i,j\\in\\mathbb{N}\\,:\\, i,j \\le n$$"
   ]
  },
  {
   "cell_type": "markdown",
   "id": "9d56f322-9cb7-4597-9cdf-8964012f6480",
   "metadata": {},
   "source": [
    "Via the above two equation and equivalence principle we have our proposition.  Q.E.D."
   ]
  },
  {
   "cell_type": "markdown",
   "id": "5a6cd9b2-ae38-4df9-a93d-48bc3a287b20",
   "metadata": {},
   "source": [
    "#### Problem $\\S$ 1G : 3  \n",
    "\n",
    "$$ |\\mathbf{A}| = 3 +1 +1 = 5 \\quad\\quad\\text{and}\\quad\\quad \\begin{pmatrix}3 & 1 & 1 \\\\ 1 & 3 & 2 \\\\ 2 & 1 & 1\\end{pmatrix}^T = \\begin{pmatrix}3 & 1 & 2 \\\\ 1 & 3 & 1 \\\\ 1 & 2 & 1\\end{pmatrix}$$"
   ]
  },
  {
   "cell_type": "markdown",
   "id": "14a9e5c2-9690-43d9-9d8a-a89fee14ec00",
   "metadata": {},
   "source": [
    "$$ x_1 = \\frac{1}{5}\\,(6 + 6) \\quad\\quad x_2 = \\frac{1}{5}\\,(5) \\quad\\quad x_3 = \\frac{1}{5}\\,(5)$$"
   ]
  },
  {
   "cell_type": "markdown",
   "id": "6bc18c0d-fed8-46a3-88ab-d14ab8fb1d2b",
   "metadata": {},
   "source": [
    "$$ \\mathbf{x} = (0.2\\cdot12,1,1)^T$$"
   ]
  },
  {
   "cell_type": "markdown",
   "id": "d2f4042e-66fe-4897-8ac6-2b2c21c3040a",
   "metadata": {},
   "source": [
    "#### Problem $\\S$ 1G : 4\n",
    "\n",
    "$$ x_1 = 0.2(3y_1 + y_2 + 2y_1)\\quad\\quad x_2 = 0.2(y_1 + 3y_2 + y_3) \\quad\\quad x_3 = 0.2(y_1 + 2y_2 + y_3)$$"
   ]
  },
  {
   "cell_type": "markdown",
   "id": "7c45803e-cc08-41de-9d85-8ea18457f56a",
   "metadata": {},
   "source": [
    "#### Problem $\\S$ 1G : 5\n",
    "\n",
    "Let $\\mathbf{A}$ and $\\mathbf{B}$ be $m$ by $q$ and $q$ by $n$ matrices respectively and let $\\mathbf{C}$ be defined as:  \n",
    "\n",
    "$$ \\mathbf{C} = \\mathbf{A}\\cdot\\mathbf{B}$$"
   ]
  },
  {
   "cell_type": "markdown",
   "id": "c925c25e-be52-4142-bf1c-15443ac62e56",
   "metadata": {},
   "source": [
    "The matrix $\\mathbf{C}$ is a $m$ by $n$ matrix.  Now, let $\\mathbf{a}_i$ denote the $i$'th row vector of $\\mathbf{A}$ and $\\mathbf{b}_j$ denote the $j$'th column vector of $\\mathbf{B}$.  \n",
    "\n",
    "$$ c_{i,j} = \\mathbf{a}_i\\cdot\\mathbf{b}_j\\quad\\forall i,j\\in\\mathbb{N}\\,:\\, i \\le m \\land j\\le n$$"
   ]
  },
  {
   "cell_type": "markdown",
   "id": "20c22b2b-96dc-4acc-b5fd-6f460d385695",
   "metadata": {},
   "source": [
    "$$ |\\mathbf{C}| = c_{i,1}C_{i,1} + c_{i,2}C_{i,2} + \\dotsb + c_{i,n}C_{i,n} \\quad\\forall i\\in\\mathbb{N}\\,:\\,i\\le m$$"
   ]
  },
  {
   "cell_type": "markdown",
   "id": "c1fa1274-ea06-4d03-a341-94352c31c0f9",
   "metadata": {},
   "source": [
    "$$ |\\mathbf{A}| = a_{i,1}A_{i,1} + a_{i,2}A_{i,2} + \\dotsb + a_{i,q}A_{i,q} \\quad\\forall i\\in\\mathbb{N}\\,:\\, i\\le m$$"
   ]
  },
  {
   "cell_type": "markdown",
   "id": "7c14f12c-6ef1-4b91-bdd0-abc63c17334b",
   "metadata": {},
   "source": [
    "$$ |\\mathbf{B}| = b_{1,j}B_{1,j} + b_{2,j}B_{2,j} + \\dotsb + b_{q,j}B_{q,j}\\quad\\forall i\\in\\mathbb{N}\\,:\\, j\\le n$$"
   ]
  },
  {
   "cell_type": "markdown",
   "id": "4677c966-7202-4f4c-9465-71ea06a04c77",
   "metadata": {},
   "source": [
    "Let $\\tilde{\\mathbf{a}}_i$, $\\tilde{\\mathbf{b}}_j$, and $\\tilde{\\mathbf{b}}_i$ be defined as:  \n",
    "\n",
    "$$ \\tilde{\\mathbf{a}}_i = \\langle A_{i,1}, A_{i,2},\\dotsc,A_{i,q}\\rangle\\quad\\quad \\tilde{\\mathbf{b}}_j = \\langle B_{1,j}, B_{2,j},\\dotsc,B_{q,j}\\rangle\\quad\\quad \\tilde{\\mathbf{c}}_i = \\langle C_{i,1},C_{i,2},\\dotsc,C_{i,n}\\rangle$$"
   ]
  },
  {
   "cell_type": "markdown",
   "id": "aa9ac660-b4ca-4bd4-9d4a-d9257890fd8c",
   "metadata": {},
   "source": [
    "And, let $\\mathbf{c}_i$ denote the $i$'th row vector of $\\mathbf{C}$.  \n",
    "\n",
    "$$ |\\mathbf{C}| = \\mathbf{c}_i\\cdot\\tilde{\\mathbf{c}}_i \\quad\\quad\\text{and}\\quad\\quad \\mathbf{c}_i = \\langle \\mathbf{a}_i\\cdot\\mathbf{b}_1, \\mathbf{a}_i\\cdot\\mathbf{b}_2,\\dotsc,\\mathbf{a}_i\\cdot\\mathbf{b}_n\\rangle$$"
   ]
  },
  {
   "cell_type": "markdown",
   "id": "5746b9e9-2614-4f0f-a263-d6522cca8ec5",
   "metadata": {},
   "source": [
    "$$ |\\mathbf{A}| = \\mathbf{a}_i\\cdot\\tilde{\\mathbf{a}}_i\\quad\\quad\\text{and}\\quad\\quad |\\mathbf{B}| = \\mathbf{b}_i\\cdot\\tilde{\\mathbf{b}}_i$$"
   ]
  },
  {
   "cell_type": "markdown",
   "id": "a67cdf4b-ccec-47af-9c41-eee80108c9bb",
   "metadata": {},
   "source": [
    "$$ \\mathbf{C}^{-1} = (\\mathbf{A}\\mathbf{B})^{-1} = \\frac{\\mathrm{adj}\\,\\mathbf{C}}{|\\mathbf{C}|} = \\frac{[\\tilde{\\mathbf{c}}_1 \\, \\tilde{\\mathbf{c}}_2 \\, \\dots \\, \\tilde{\\mathbf{c}}_n]}{|\\mathbf{C}|}$$"
   ]
  },
  {
   "cell_type": "markdown",
   "id": "377191b9-ee10-4f97-85c0-fb63f0321413",
   "metadata": {},
   "source": [
    "$$ \\mathbf{A}^{-1}\\mathbf{B}^{-1} = \\frac{\\mathrm{adj}\\,\\mathbf{A}\\cdot\\mathrm{adj}\\,\\mathbf{B}}{|\\mathbf{A}||\\mathbf{B}|} = \\frac{[\\tilde{\\mathbf{a}}_1\\,\\tilde{\\mathbf{a}}_2\\dots\\tilde{\\mathbf{a}}_m]\\cdot[\\tilde{\\mathbf{b}}_1\\,\\tilde{\\mathbf{b}}_2\\dots\\tilde{\\mathbf{b}}_n]}{|\\mathbf{A}||\\mathbf{B}|}$$"
   ]
  },
  {
   "cell_type": "markdown",
   "id": "2eeeecaf-14f8-4a37-88ad-3bc66e93eff1",
   "metadata": {},
   "source": [
    "Now, let $\\mathbf{U}$ be defined as:  \n",
    "\n",
    "$$ \\mathbf{U} = \\mathrm{adj}\\,\\mathbf{A}\\cdot\\mathrm{adj}\\,\\mathbf{B}$$"
   ]
  },
  {
   "cell_type": "markdown",
   "id": "49ec9a34-fc31-44fa-a245-36ceaf43a047",
   "metadata": {},
   "source": [
    "$$ u_{i,j} = \\tilde{\\mathbf{a}}_i\\cdot\\tilde{\\mathbf{b}}_j \\quad\\forall i,j\\in\\mathbb{N}\\,:\\, i \\le m \\land j \\le n$$"
   ]
  },
  {
   "cell_type": "markdown",
   "id": "b5f0c16f-8f3d-46e8-8b43-a0332ee96a9a",
   "metadata": {},
   "source": [
    "## Part II\n",
    "\n",
    "#### Problem 1\n",
    "\n",
    "Let $\\mathbf{N}_i$ denote the normal to $\\mathcal{P}_i$, for all $i\\in\\{1,2,3\\}$."
   ]
  },
  {
   "cell_type": "markdown",
   "id": "dbe168f0-2903-47a9-a0dc-d93bf2470c8b",
   "metadata": {},
   "source": [
    "**a)**  Imagine a sketch of three distinct lines that intersect in pairs thus forming three points of intersection.  Each of these lines could be a line of intersection between either $\\mathcal{P}_1$, $\\mathcal{P}_2$, or $\\mathcal{P}_3$ and the plane that $\\mathbf{N}_1$, $\\mathbf{N}_2$, and $\\mathbf{N}_3$ rest on, denoted as $\\mathcal{P}$.  Furthermore, each point of intersection shown in the sketch is equal to the point of intersection between either $\\mathrm{L}_1$, $\\mathrm{L}_2$, or $\\mathrm{L}_3$ and $\\mathcal{P}$."
   ]
  },
  {
   "cell_type": "markdown",
   "id": "d45e10ff-2e58-48d1-a494-b577924ac328",
   "metadata": {},
   "source": [
    "**b)**  For future reference, if there exists a line that is perpendicular to our three normals then all three normals rest on the same plane.  Assuming $\\mathrm{L}_1$ is the intersection between $\\mathcal{P}_1$ and $\\mathcal{P}_2$,  \n",
    "\n",
    "\\begin{equation}\\tag{P1}\n",
    "    \\mathrm{L}_1 \\parallel \\mathcal{P}_1 \\;\\land\\;\\mathrm{L}_1\\parallel \\mathcal{P}_2 \\;\\therefore\\; \\mathrm{L}_1\\perp\\mathbf{N}_1 \\;\\land\\;\\mathrm{L}_1\\perp\\mathbf{N}_2\n",
    "\\end{equation}"
   ]
  },
  {
   "cell_type": "markdown",
   "id": "ce29d508-f50e-43a0-9cb6-0b85a0cfddd1",
   "metadata": {},
   "source": [
    "Assuming $\\mathrm{L}_2$ is the intersection between $\\mathcal{P}_2$ and $\\mathcal{P}_3$,  \n",
    "\n",
    "\\begin{equation}\\tag{P2}\n",
    "    \\mathrm{L}_2\\parallel\\mathcal{P}_3\\;\\therefore\\;\\mathrm{L}_2\\perp\\mathbf{N}_3\n",
    "\\end{equation}"
   ]
  },
  {
   "cell_type": "markdown",
   "id": "a9376b48-51a1-463e-b441-b559cf8dd857",
   "metadata": {},
   "source": [
    "Via the fact $\\mathrm{L}_1\\parallel\\mathrm{L}_2$ and (P2),  \n",
    "\n",
    "\\begin{equation}\\tag{P3}\n",
    "    \\mathrm{L}_1\\perp\\mathbf{N}_3\n",
    "\\end{equation}"
   ]
  },
  {
   "cell_type": "markdown",
   "id": "60572e27-e38a-4556-b22c-72aa6f9efe57",
   "metadata": {},
   "source": [
    "$\\mathrm{L}_3$ is a line and, via (P1) and (P3), is perpendicular to all three normals, therefore all three normals rest on the same plane.  Q.E.D."
   ]
  },
  {
   "cell_type": "markdown",
   "id": "84c082ec-7b07-4c0e-a864-893a25e33fe4",
   "metadata": {},
   "source": [
    "**c)**  Our three planes are given by the system of equations:  \n",
    "\n",
    "\\begin{equation}\\tag{1}\n",
    "    \\mathbf{A}\\cdot\\mathbf{x} = \\mathbf{b} \\quad\\quad\\text{where }\\mathbf{x} = (x,y,z)^T \\quad\\text{and}\\quad \\mathbf{b}=(b_1,b_2,b_3)^T\n",
    "\\end{equation}"
   ]
  },
  {
   "cell_type": "markdown",
   "id": "2fbb7437-054d-4aae-9a05-94771c3e12d9",
   "metadata": {},
   "source": [
    "Each row vector of $\\mathbf{A}$ is normal to it's corresponding plane given by the above system.  If $\\mathbf{A}$ were invertable then system (1) would have a unique solution, but, since the planes do not intersect at a single point, there is no unique solution;  Thus, via contradiction principle, $\\mathbf{A}$ is *not* invertable therefore the determinant of $\\mathbf{A}$ is equal to zero therefore the row vectors of $\\mathbf{A}$, each of which is normal to it's corresponding plane given by system (1), rest on the same plane.  Q.E.D."
   ]
  },
  {
   "cell_type": "markdown",
   "id": "a3d16e93-52d6-408e-8edf-07626c8c2901",
   "metadata": {},
   "source": [
    "#### Problem 2  \n",
    "\n",
    "**a)**  \n",
    "\n",
    "\\begin{equation}\\tag{1}\n",
    "    \\mathbf{A}\\cdot\\mathbf{p} = \\mathbf{m} \\quad\\quad \\text{where }\\mathbf{p} = (P_1,P_2,P_3)^T\\quad\\text{and}\\quad \\mathbf{m} = (M_1,M_2,M_3)^T\n",
    "\\end{equation}"
   ]
  },
  {
   "cell_type": "markdown",
   "id": "c34641c8-065c-4930-abdb-a5f15083a707",
   "metadata": {},
   "source": [
    "and  \n",
    "\n",
    "$$ \\mathbf{A} = \\begin{pmatrix}\\tag{1a}1 & 1 & 3\\\\ 2 & 3 & 5 \\\\ 3 & 5 & 8\\end{pmatrix}$$"
   ]
  },
  {
   "cell_type": "markdown",
   "id": "85f1325d-9523-4c42-b2c1-b12c3e932e7c",
   "metadata": {},
   "source": [
    "Of course, the solution formula is:  \n",
    "\n",
    "\\begin{equation}\\tag{2}\n",
    "    \\mathbf{p} = \\mathbf{A}^{-1}\\cdot\\mathbf{m}\n",
    "\\end{equation}"
   ]
  },
  {
   "cell_type": "markdown",
   "id": "148b84ab-6c73-4d0e-aaba-a32254c3e3ff",
   "metadata": {},
   "source": [
    "**b)**  The inverse of $\\mathbf{A}$ is given by:  \n",
    "\n",
    "$$ \\mathbf{A}^{-1} = \\frac{\\mathrm{adj}\\,\\mathbf{A}}{|\\mathbf{A}|}$$"
   ]
  },
  {
   "cell_type": "markdown",
   "id": "e2cf80fd-5317-45d4-9776-566b5a49d9fa",
   "metadata": {},
   "source": [
    "$$ |\\mathbf{A}| = -1 - 1(1) + 3(1) = 1$$"
   ]
  },
  {
   "cell_type": "markdown",
   "id": "ad66dfc3-1bd2-415c-b2dc-e276e8c66203",
   "metadata": {},
   "source": [
    "$$ \\mathrm{adj}\\,\\mathbf{A} = \\begin{pmatrix}-1 & -1 & 1 \\\\ 7 & -1 & -2 \\\\ -4 & 1 & 1\\end{pmatrix}^T = \\begin{pmatrix}-1 & 7 & -4 \\\\ -1 & -1 & 1 \\\\ 1 & -2 & 1\\end{pmatrix}$$"
   ]
  },
  {
   "cell_type": "markdown",
   "id": "1d2bbf36-f104-41e3-a86d-6afcaf82e45b",
   "metadata": {},
   "source": [
    "Thus,  \n",
    "\n",
    "$$ \\mathbf{A}^{-1} = \\mathrm{adj}\\,\\mathbf{A} = \\begin{pmatrix}\\tag{3}-1 & 7 & -4 \\\\ -1 & -1 & 1 \\\\ 1 & -2 & 1\\end{pmatrix} $$"
   ]
  },
  {
   "cell_type": "markdown",
   "id": "ea8f6bf5-c089-4873-91d3-9e5b9b8567ee",
   "metadata": {},
   "source": [
    "In general,  \n",
    "\n",
    "$$ P_1 = \\langle -1,7,-4\\rangle\\cdot\\mathbf{m} \\quad\\quad P_2 = \\langle -1,-1,1\\rangle\\cdot\\mathbf{m} \\quad\\quad P_3 = \\langle 1,-2,1\\rangle \\cdot \\mathbf{m}$$"
   ]
  },
  {
   "cell_type": "markdown",
   "id": "8e591b4b-eefe-4c2c-ae89-e33fe60fe651",
   "metadata": {},
   "source": [
    "In the case of $\\mathbf{m} = (137,279,448)^T$,  \n",
    "\n",
    "$$ P_1 = -137 + 7\\cdot279 - 4\\cdot 448 \\quad\\quad P_2 = -137-279+448 \\quad\\quad P_3 = 137 - 2\\cdot279 + 448$$"
   ]
  },
  {
   "cell_type": "code",
   "execution_count": 2,
   "id": "d0f8930c-6f08-467e-a430-70fd72a22777",
   "metadata": {
    "tags": []
   },
   "outputs": [
    {
     "data": {
      "text/plain": [
       "(24, 32, 27)"
      ]
     },
     "execution_count": 2,
     "metadata": {},
     "output_type": "execute_result"
    }
   ],
   "source": [
    "P_1 = -137 + 7*279 - 4*448\n",
    "P_2 = -137 - 279 + 448\n",
    "P_3 = 137 - 2*279 + 448\n",
    "(P_1, P_2, P_3)"
   ]
  },
  {
   "cell_type": "markdown",
   "id": "710d9b6d-05e2-4fe2-b01e-07051942b88a",
   "metadata": {},
   "source": [
    "**c)**  We need to find  a $a$, $b$, and $c$ such that:  \n",
    "\n",
    "$$ |\\mathbf{A}| =  \\left|\\begin{matrix}\\tag{1a}1 & 1 & 3\\\\ 2 & 3 & 5 \\\\ a& b & c\\end{matrix}\\right| = 0$$"
   ]
  },
  {
   "cell_type": "markdown",
   "id": "af5db8d2-f3d0-475b-879f-5017c583341e",
   "metadata": {},
   "source": [
    "and the third row vector of $\\mathbf{A}$ is not equal to either of the other two."
   ]
  },
  {
   "cell_type": "markdown",
   "id": "40810c8a-b42f-4699-b5de-2d8dcf9dfcb3",
   "metadata": {},
   "source": [
    "$$|\\mathbf{A}| = 3c - 5b - (2c - 5a) + 3(2b-3a) = 0$$"
   ]
  },
  {
   "cell_type": "markdown",
   "id": "7566efb8-2476-4f1c-a431-4b756891c986",
   "metadata": {},
   "source": [
    "$$ c = 4a-b$$"
   ]
  },
  {
   "cell_type": "markdown",
   "id": "4c333869-3e83-4544-8677-2c562785e160",
   "metadata": {},
   "source": [
    "Assuming $a=3$ and $b=1$,  $c = 11$."
   ]
  },
  {
   "cell_type": "markdown",
   "id": "0f50b846-af80-4444-bd5a-943b3720a538",
   "metadata": {},
   "source": [
    "The ratios for $P_3$ are $a:$, $b:$, and $c:$."
   ]
  },
  {
   "cell_type": "markdown",
   "id": "a373c52f-b630-4da7-9681-2867e76b5e23",
   "metadata": {},
   "source": [
    "#### Problem 3  \n",
    "\n",
    "**a)**  Our plane $\\mathcal{P}$ is given by:  \n",
    "\n",
    "$$ n_1x + n_2y + n_3z  = 0$$"
   ]
  },
  {
   "cell_type": "markdown",
   "id": "227fdeac-9496-4a91-808c-61be4f682f1f",
   "metadata": {},
   "source": [
    "In terms of the cosines of $\\mathbf{n}$,  \n",
    "\n",
    "$$ x|\\mathbf{m}|\\cos\\alpha_n  + y|\\mathbf{m}|\\cos\\beta_n + z|\\mathbf{n}|\\cos\\gamma_n = 0$$"
   ]
  },
  {
   "cell_type": "markdown",
   "id": "9eb894b3-d4ff-4a6e-8416-3e317725f0bb",
   "metadata": {},
   "source": [
    "where $\\mathbf{m} = \\langle n_1,n_2,0\\rangle$ is the projection of $\\mathbf{n}$ onto the $x,y$-plane."
   ]
  },
  {
   "cell_type": "markdown",
   "id": "2c61b052-771e-4440-b083-898693c3941c",
   "metadata": {},
   "source": [
    "The angle between $\\mathbf{w}$ and the $x,y$-plane, denoted as $\\omega$, is equal to the angle between $\\mathbf{w}$ and it's projection onto the $x,y$-plane denoted as $\\mathbf{u}$.  \n",
    "\n",
    "$$  \\cos\\omega = \\frac{|\\mathbf{u}|}{|\\mathbf{w}|} \\quad\\quad\\text{where }\\mathbf{u} = \\langle w_1, w_2, 0\\rangle \\quad\\text{and}\\quad \\mathbf{w} = \\langle w_1,w_2,w_3\\rangle$$"
   ]
  },
  {
   "cell_type": "markdown",
   "id": "3ff85a9e-c540-441f-9842-0c291e6b8574",
   "metadata": {},
   "source": [
    "In terms of the cosines of $\\mathbf{w}$:  \n",
    "\n",
    "$$ \\mathbf{u} = |\\mathbf{u}|\\langle \\cos\\alpha_w, \\cos\\beta_w, 0\\rangle\\quad\\quad\\text{and}\\quad\\quad \\mathbf{w} = \\langle |\\mathbf{u}|\\cos\\alpha_w, |\\mathbf{u}|\\cos\\beta_w, |\\mathbf{w}|\\cos\\gamma_w\\rangle$$"
   ]
  },
  {
   "cell_type": "markdown",
   "id": "78908513-ed4f-4e1b-88cc-936cc2d31f64",
   "metadata": {},
   "source": [
    "$\\omega$ is nearest to it's max of $90^\\circ$ when $|\\mathbf{u}|$ is at its smallest.  Furthermore, since $\\mathbf{n}$ is perpendicular to $\\mathcal{P}$, $\\mathbf{n}$ is also perpendicular to $\\mathbf{w}$.  \n",
    "\n",
    "\\begin{equation}\\tag{1}\n",
    "    \\mathbf{n}\\perp\\mathcal{P}\\;\\therefore\\;\\mathbf{n}\\perp\\mathbf{w}\\;\\therefore\\; \\mathbf{n}\\cdot\\mathbf{w} = 0\\;\\therefore\\;\\mathbf{n}\\cdot\\hat{\\mathbf{w}} = 0\n",
    "\\end{equation}"
   ]
  },
  {
   "cell_type": "markdown",
   "id": "54a7bce1-fc1e-4379-99c9-f5e4f9bb4e87",
   "metadata": {},
   "source": [
    "$$ |\\mathbf{u}|^2 = |\\mathbf{w}|^2 - w_3^2$$"
   ]
  },
  {
   "cell_type": "markdown",
   "id": "0790ac1b-9434-44b5-b50b-a05ba3537d61",
   "metadata": {},
   "source": [
    "Via the above equation, $|\\mathbf{u}|$ is at it's smallest when $w_3$ is at it's largest, thus $\\omega$ is at it's largest when $w_3$ is at it's largest.  Furthermore, $w_3$ is at it's largest when $\\mathbf{w}$ is perpendicular to the line of intersection between $\\mathcal{P}$ and the $x,y$-plane, which is given by:  \n",
    "\n",
    "$$ n_1x + n_2y = 0$$"
   ]
  },
  {
   "cell_type": "markdown",
   "id": "4f2169eb-8984-4799-98c2-0ecde45488d6",
   "metadata": {},
   "source": [
    "or, in terms of the cosines of $\\mathbf{n}$:  \n",
    "\n",
    "$$ x \\cos\\alpha_n + y \\cos\\beta_n = 0$$"
   ]
  },
  {
   "cell_type": "markdown",
   "id": "b95d3143-f508-468f-a3fe-253cde41b54b",
   "metadata": {},
   "source": [
    "Let $\\mathbf{a}(x)$ and $\\mathbf{v}$ be defined as:  \n",
    "\n",
    "$$ \\mathbf{a}(x) :=\\left\\langle x, -\\frac{n_1}{n_2}\\,x,0\\right\\rangle \\quad\\quad\\text{and}\\quad\\quad \\mathbf{v} := \\mathbf{a}(n_2) = \\langle n_2, - n_1,0\\rangle$$"
   ]
  },
  {
   "cell_type": "markdown",
   "id": "afa0c06d-04ed-4378-aabd-1179df9f3771",
   "metadata": {},
   "source": [
    "$$ \\mathbf{n}\\times\\mathbf{k} = \\langle n_2, -n_1, 0\\rangle = \\mathbf{v}$$"
   ]
  },
  {
   "cell_type": "markdown",
   "id": "53ddf996-bbf9-4c75-9939-42e28e3a3e25",
   "metadata": {},
   "source": [
    "Both $\\mathbf{a}(x)$ and $\\mathbf{v}$ rest on the line of intersection, henceforth $\\mathrm{L}$, between $\\mathcal{P}$ and the $x,y$-plane.  Thus, $w_3$ is at it's largest when:  \n",
    "\n",
    "\\begin{equation}\\tag{2}\n",
    "    \\mathbf{w}\\cdot\\mathbf{v} = 0 \\quad\\implies\\quad \\hat{\\mathbf{w}}\\cdot\\mathbf{v} = 0\n",
    "\\end{equation}"
   ]
  },
  {
   "cell_type": "markdown",
   "id": "e4d2c899-0d68-410c-9cfa-9a9567c73162",
   "metadata": {},
   "source": [
    "Now, let $\\mathbf{n}'$ denote $\\mathbf{n}$ reflected about the plane that $\\mathrm{L}$ rests on and is perpendicular to the $x,y$-plane.  \n",
    "\n",
    "$$ \\mathbf{n}' = \\langle -n_1,-n_2,n_3\\rangle$$"
   ]
  },
  {
   "cell_type": "markdown",
   "id": "7f66acb2-4fc8-4503-bb2a-e577ccd12bfe",
   "metadata": {},
   "source": [
    "The angle between $\\mathbf{n}$ and the $x,y$-plane, denoted $\\lambda$ is equal to $\\pi-0.5\\pi-\\omega = 0.5\\pi - \\omega = \\gamma_w $.  Thus, via equivalence principle and the fact that the same angle is equal to $0.5\\pi-\\gamma_n $,  \n",
    "\n",
    "$$ \\lambda= \\gamma_w = 0.5\\pi-\\gamma_n = 0.5\\pi - \\omega$$"
   ]
  },
  {
   "cell_type": "markdown",
   "id": "55f9cb36-449a-42ef-9d5c-6c4bb345324d",
   "metadata": {},
   "source": [
    "$$\\implies\\quad \\gamma_n = \\omega$$"
   ]
  },
  {
   "cell_type": "markdown",
   "id": "a24740ba-a5e5-493e-bc4d-5dbc4c1e46d2",
   "metadata": {},
   "source": [
    "Note that $\\lambda$ is equal to the angle between $\\mathbf{n}'$ and the $x,y$-plane."
   ]
  },
  {
   "cell_type": "markdown",
   "id": "8888a572-6792-42c5-93b3-6dd0340099c2",
   "metadata": {},
   "source": [
    "$$ \\cos\\lambda = \\frac{|\\mathbf{m}|}{|\\mathbf{n}|} = \\cos\\gamma_w = \\frac{w_3}{|\\mathbf{w}|}$$"
   ]
  },
  {
   "cell_type": "markdown",
   "id": "31d0915f-4804-4929-89c6-436bf07c55c5",
   "metadata": {},
   "source": [
    "and,  \n",
    "\n",
    "$$ \\mathbf{w}\\cdot\\mathbf{n}' = |\\mathbf{w}||\\mathbf{n}'|\\cos(\\gamma_w - \\omega) = |\\mathbf{w}||\\mathbf{n}'|\\cos(0.5\\pi-2\\omega) = |\\mathbf{w}||\\mathbf{n}'|\\sin 2\\omega$$"
   ]
  },
  {
   "cell_type": "markdown",
   "id": "506c2644-3615-4b62-a4d8-daf4a4a9a63f",
   "metadata": {},
   "source": [
    "$$ = 0.5|\\mathbf{w}||\\mathbf{n}'|\\cos\\omega\\sin\\omega $$"
   ]
  },
  {
   "cell_type": "markdown",
   "id": "58a11b2d-c6a3-4b98-920d-6084d8fbf28c",
   "metadata": {},
   "source": [
    "\\begin{equation}\\tag{3}\n",
    "    \\hat{\\mathbf{w}}\\cdot\\hat{\\mathbf{n}}' = 0.5\\cos\\gamma_n\\sin\\gamma_n = 0.5\\,|\\hat{\\mathbf{m}}'|n_3\n",
    "\\end{equation}"
   ]
  },
  {
   "cell_type": "code",
   "execution_count": null,
   "id": "4ff4ce8c-a714-4aa0-9341-527ed5c11f38",
   "metadata": {},
   "outputs": [],
   "source": []
  },
  {
   "cell_type": "markdown",
   "id": "85f30509-696b-4b98-ad7c-ce01aaf22967",
   "metadata": {},
   "source": [
    "where $\\hat{\\mathbf{m}}$ is the projection of $\\hat{\\mathbf{n}}$ onto the $x,y$-plane.  \n",
    "\n",
    "$$ \\hat{\\mathbf{m}} = \\frac{|\\mathbf{m}|}{|\\mathbf{n}|}\\,\\langle \\cos\\alpha_n, \\cos\\beta_n, 0\\rangle = \\cos\\gamma_w\\,\\langle \\cos\\alpha_n,\\cos\\beta_n,0\\rangle$$"
   ]
  },
  {
   "cell_type": "markdown",
   "id": "3b4b89df-ff0d-48d9-9ac1-c3c87f89f2ee",
   "metadata": {},
   "source": [
    "$$ \\hat{\\mathbf{n}} = \\langle \\cos\\gamma_w\\cos\\alpha_n,\\cos\\gamma_w\\cos\\beta_n,\\cos\\omega\\rangle$$"
   ]
  },
  {
   "cell_type": "markdown",
   "id": "748dad7b-23b0-48c9-b018-3cfb1c2b18a6",
   "metadata": {},
   "source": [
    "$$ |\\hat{\\mathbf{m}}| = \\cos\\gamma_w = \\frac{|\\mathbf{m}|}{|\\mathbf{n}|}$$"
   ]
  },
  {
   "cell_type": "markdown",
   "id": "49419eb3-5eb9-49ea-aeac-01e47c7c26a8",
   "metadata": {},
   "source": [
    "$$ \\hat{\\mathbf{m}}' = -\\hat{\\mathbf{m}} \\quad\\implies\\quad |\\hat{\\mathbf{m}}'| = |\\hat{\\mathbf{m}}| = \\frac{|\\mathbf{m}|}{|\\mathbf{n}|}$$"
   ]
  },
  {
   "cell_type": "markdown",
   "id": "ca092800-95a3-4be5-bef0-ce1282fbc1d8",
   "metadata": {},
   "source": [
    "Thus,  \n",
    "\n",
    "$$ \\hat{\\mathbf{w}}\\cdot\\hat{\\mathbf{n}} = \\frac{n_3|\\mathbf{m}|}{2|\\mathbf{n}|} $$"
   ]
  },
  {
   "cell_type": "markdown",
   "id": "9fd3c24a-6222-4f90-93b9-08161e401f0c",
   "metadata": {},
   "source": [
    "Via (1), (2), and (3),  \n",
    "\n",
    "\\begin{equation}\\tag{4}\n",
    "    \\mathbf{A}\\cdot\\hat{\\mathbf{w}} = 0.5|\\hat{\\mathbf{m}}'|n_3(0,0,1)^T \\quad\\quad\\text{where }\\mathbf{A} = \\big[\\mathbf{n}\\;\\mathbf{v}\\;\\hat{\\mathbf{n}}'\\big]\n",
    "\\end{equation}"
   ]
  },
  {
   "cell_type": "markdown",
   "id": "9482e105-29ee-4cf6-a693-603ba7c3d438",
   "metadata": {},
   "source": [
    "There exists a unique solution for the above system if and only if the determinant of $\\mathbf{A}$ is not equal to zero.  Whereas the three row vectors of $\\mathbf{A}$ obviously do not rest on the same plane, therefore the determinant of $\\mathbf{A}$ is not equal to zero, therefore there exists a unique solution for (4).  The solution formula is:  \n",
    "\n",
    "$$ \\hat{\\mathbf{w}} = 0.5|\\hat{\\mathbf{m}}|n_3\\mathbf{A}^{-1}(0,0,1)^T$$"
   ]
  },
  {
   "cell_type": "markdown",
   "id": "c77b11e4-5fbf-4199-bacb-e5aefb0e478b",
   "metadata": {},
   "source": [
    "To make the above easier to compute, let $\\mathbf{p}:=\\hat{\\mathbf{w}}$.  Via system (4),  \n",
    "\n",
    "\\begin{equation}\\tag{4a}\n",
    "    \\mathbf{n}\\cdot\\mathbf{p} = n_1p_1 + n_2p_2 + n_3p_3=0\n",
    "\\end{equation}"
   ]
  },
  {
   "cell_type": "markdown",
   "id": "546737a9-32e5-47df-800b-a7540bd60bde",
   "metadata": {},
   "source": [
    "Via equation (2),  \n",
    "\n",
    "\\begin{equation}\\tag{4b}\n",
    "    \\mathbf{v}\\cdot\\mathbf{p} = n_2p_1 -n_1p_2 = 0\n",
    "\\end{equation}"
   ]
  },
  {
   "cell_type": "markdown",
   "id": "2e6d939b-f341-4e63-9fa4-094adb15a1e0",
   "metadata": {},
   "source": [
    "Via equation (3),  \n",
    "\n",
    "$$ \\hat{\\mathbf{n}}'\\cdot\\mathbf{p} = 0.5|\\hat{\\mathbf{m}}'|n_3$$"
   ]
  },
  {
   "cell_type": "markdown",
   "id": "a3e291a7-76c6-4ab5-8259-f543c93e22b7",
   "metadata": {},
   "source": [
    "$$ \\left\\langle \\frac{-|\\mathbf{m}|}{|\\mathbf{n}|}\\,\\cos\\alpha_n, -\\frac{|\\mathbf{m}|}{|\\mathbf{n}|}\\,\\cos\\beta_m,\\cos\\omega\\right\\rangle\\cdot\\mathbf{p} = \\frac{n_3|\\mathbf{m}|}{2|\\mathbf{n}|}$$"
   ]
  },
  {
   "cell_type": "markdown",
   "id": "10e4d019-e8e7-49a2-b8b6-d18b7b0ab063",
   "metadata": {},
   "source": [
    "$$ \\frac{\\mathbf{n}'\\cdot\\mathbf{p}}{|\\mathbf{n}|} = \\frac{n_3|\\mathbf{m}|}{2|\\mathbf{n}|}$$"
   ]
  },
  {
   "cell_type": "markdown",
   "id": "01c27552-99a2-49eb-9d9e-34aa9aa7d070",
   "metadata": {},
   "source": [
    "$$ \\mathbf{n}'\\cdot\\mathbf{p} = 0.5n_3|\\mathbf{m}|$$"
   ]
  },
  {
   "cell_type": "markdown",
   "id": "a45a7d23-3123-419b-941b-44399fb4d928",
   "metadata": {},
   "source": [
    "\\begin{equation}\\tag{4c}\n",
    "    -n_1p_1 - n_2p_2 + n_3p_3 = 0.5n_3|\\mathbf{m}|\n",
    "\\end{equation}"
   ]
  },
  {
   "cell_type": "markdown",
   "id": "8c877370-057f-4492-ba18-50690f86794e",
   "metadata": {},
   "source": [
    "Via equations (4a,b),  \n",
    "\n",
    "$$ p_2\\,\\left(\\frac{n_1^2}{n_2} + n_2\\right) + n_3p_3 = 0$$"
   ]
  },
  {
   "cell_type": "markdown",
   "id": "268db738-2f01-49a5-b26e-32e6bc07f673",
   "metadata": {},
   "source": [
    "\\begin{equation}\\tag{5a}\n",
    "     p_2\\,\\frac{|\\mathbf{m}|^2}{n_2} + n_3p_3=0\n",
    "\\end{equation}"
   ]
  },
  {
   "cell_type": "markdown",
   "id": "c5f054e8-ce2f-4ccd-96f6-d1b8de615a75",
   "metadata": {},
   "source": [
    "And, via equations (4b,c),  \n",
    "\n",
    "\\begin{equation}\\tag{5b}\n",
    "    n_3p_3-p_2\\,\\frac{|\\mathbf{m}|^2}{n_2} = 0.5n_3|\\mathbf{m}|\n",
    "\\end{equation}"
   ]
  },
  {
   "cell_type": "markdown",
   "id": "e5f51f40-dee0-4e90-871a-eef374dcd71b",
   "metadata": {},
   "source": [
    "Via the above two equations,  \n",
    "\n",
    "\\begin{equation}\\tag{6a}\n",
    "    p_3 = \\frac{|\\mathbf{m}|}{4}\n",
    "\\end{equation}"
   ]
  },
  {
   "cell_type": "markdown",
   "id": "1c0ff78b-7f06-419f-9aa6-9fda102a42a9",
   "metadata": {},
   "source": [
    "Via equations (6a) and (5a),  \n",
    "\n",
    "$$ p_2\\,\\frac{|\\mathbf{m}|^2}{n_2} = -0.25n_3|\\mathbf{m}|$$"
   ]
  },
  {
   "cell_type": "markdown",
   "id": "53b8714a-a4c3-44d6-87c9-ff29852928ae",
   "metadata": {},
   "source": [
    "\\begin{equation}\\tag{6b}\n",
    "    p_2 = -\\frac{n_2n_3}{4|\\mathbf{m}|}\n",
    "\\end{equation}"
   ]
  },
  {
   "cell_type": "markdown",
   "id": "2ec06a6e-b9dd-4551-bb5a-a02038f4e9dd",
   "metadata": {},
   "source": [
    "Finally, via equations (6b) and (4b),  \n",
    "\n",
    "$$ n_2p_1 = -\\frac{n_1n_2n_3}{4|\\mathbf{m}|}$$"
   ]
  },
  {
   "cell_type": "markdown",
   "id": "d149479e-a6f3-42d2-bfc3-a4cd270392ee",
   "metadata": {},
   "source": [
    "\\begin{equation}\\tag{6c}\n",
    "    p_1 = -\\frac{n_1n_3}{4|\\mathbf{m}|}\n",
    "\\end{equation}"
   ]
  },
  {
   "cell_type": "markdown",
   "id": "d40ce957-f18b-4b0f-a853-dff3bf0b17b9",
   "metadata": {},
   "source": [
    "\\begin{equation}\\tag{6}\n",
    "    \\hat{\\mathbf{w}} = \\mathbf{p} = 0.25\\left\\langle-\\frac{n_1n_3}{|\\mathbf{m}|}, -\\frac{n_2n_3}{|\\mathbf{m}|},|\\mathbf{m}|\\right\\rangle\n",
    "\\end{equation}"
   ]
  },
  {
   "cell_type": "markdown",
   "id": "2cd83bd8-5404-4789-b17e-26e18b68e8d3",
   "metadata": {},
   "source": [
    "**Proposition**:  $\\hat{\\mathbf{w}}$ points in the same direction as $\\mathbf{v}\\times\\mathbf{n}$.\n",
    "\n",
    "$$ \\hat{\\mathbf{w}} \\cdot \\mathbf{v}\\times\\mathbf{n} = |\\mathbf{v}\\times\\mathbf{n}| = |\\mathbf{m}||\\mathbf{n}|$$"
   ]
  },
  {
   "cell_type": "markdown",
   "id": "0587deb8-064a-4289-91c6-0145a8cb996d",
   "metadata": {},
   "source": [
    "**Proof**:  \n",
    "\n",
    "$$ \\mathbf{v}\\times\\mathbf{n} = \\left|\\begin{matrix}\\mathbf{i} & \\mathbf{j} & \\mathbf{k} \\\\ n_2 & -n_1 & 0 \\\\ n_1 & n_2 & n_3\\end{matrix}\\right|$$"
   ]
  },
  {
   "cell_type": "markdown",
   "id": "88c8c71e-6513-4113-bc2a-82a531c3b655",
   "metadata": {},
   "source": [
    "$$ = (-n_1n_3)\\mathbf{i} - (n_2n_3)\\mathbf{j} + (n_2^2 + n_1^2)\\mathbf{k}$$"
   ]
  },
  {
   "cell_type": "markdown",
   "id": "c1279817-35f0-4f42-a4fb-a0d6ff5dbf03",
   "metadata": {},
   "source": [
    "$$ = -n_1n_3\\mathbf{i} - n_2n_3\\mathbf{j} + |\\mathbf{m}|^2\\mathbf{k}$$\n",
    "\n",
    "\\begin{equation}\\tag{7}\n",
    "    \\mathbf{v}\\times\\mathbf{n} = \\big\\langle -n_1n_3,-n_2n_3, |\\mathbf{m}|^2\\big\\rangle\n",
    "\\end{equation}"
   ]
  },
  {
   "cell_type": "markdown",
   "id": "5ce141ad-26c8-403e-96bd-1d999a86f0d0",
   "metadata": {},
   "source": [
    "Via equation (6),  \n",
    "\n",
    "$$ 4|\\mathbf{m}|\\hat{\\mathbf{w}} = \\big\\langle-n_1n_3,-n_2n_3,|\\mathbf{m}|^2\\big\\rangle = \\mathbf{v}\\times\\mathbf{n}$$"
   ]
  },
  {
   "cell_type": "markdown",
   "id": "ba58f70c-9acd-4730-bb58-e55bb2527aff",
   "metadata": {},
   "source": [
    "Since $\\hat{\\mathbf{w}}$ times a positive scalar value is equal $\\mathbf{v}\\times\\mathbf{n}$, both vectors point in the same direction.  Q.E.D."
   ]
  },
  {
   "cell_type": "markdown",
   "id": "d0e47e57-3661-4e79-bec3-299fa76a5442",
   "metadata": {},
   "source": [
    "$$ |\\mathbf{v}\\times\\mathbf{n}| = \\sqrt{(n_1n_3)^2 + (n_2n_3)^2 + |\\mathbf{m}|^4} = \\sqrt{(n_1n_3)^2 + (n_2n_3)^2 + \\big(n_1^2 + n_2^2 \\big)^2}$$"
   ]
  },
  {
   "cell_type": "markdown",
   "id": "18fa449a-11b5-4f46-8c49-4af6490dd09b",
   "metadata": {},
   "source": [
    "$$ = \\sqrt{n_3^2|\\mathbf{m}|^2 + |\\mathbf{m}|^4} = |\\mathbf{m}|\\sqrt{n_3^2 + |\\mathbf{m}|^2} = |\\mathbf{m}||\\mathbf{n}|$$"
   ]
  },
  {
   "cell_type": "markdown",
   "id": "15a2497c-35fe-414b-9bf8-9b9257b7d93e",
   "metadata": {},
   "source": [
    "Thus,  \n",
    "\n",
    "$$ \\frac{\\mathbf{v}\\times\\mathbf{n}}{|\\mathbf{v}\\times\\mathbf{n}|} = \\frac{\\langle-n_1n_3,-n_2n_3,|\\mathbf{m}|^2\\rangle}{|\\mathbf{m}||\\mathbf{n}|}$$"
   ]
  }
 ],
 "metadata": {
  "kernelspec": {
   "display_name": "Python 3 (ipykernel)",
   "language": "python",
   "name": "python3"
  },
  "language_info": {
   "codemirror_mode": {
    "name": "ipython",
    "version": 3
   },
   "file_extension": ".py",
   "mimetype": "text/x-python",
   "name": "python",
   "nbconvert_exporter": "python",
   "pygments_lexer": "ipython3",
   "version": "3.10.12"
  }
 },
 "nbformat": 4,
 "nbformat_minor": 5
}
