{
 "cells": [
  {
   "cell_type": "markdown",
   "id": "de54c107-f414-40e4-8e08-bcfe78b0ce5b",
   "metadata": {},
   "source": [
    "## Problems\n",
    "\n",
    "#### Problem 1\n",
    "\n",
    "1. Find the equation of the plane containing the three points $P_1 = (1, 0, 1), P_2 = (0, 1, 1), P_3 = (1, 1, 0)$."
   ]
  },
  {
   "cell_type": "markdown",
   "id": "21e38f56-579a-4e5e-810c-4e18d33413e3",
   "metadata": {},
   "source": [
    "Let $\\mathbf{P}_2$ and $\\mathbf{P}_3$ be defined as:  \n",
    "\n",
    "$$\\mathbf{P}_2:= \\overrightarrow{P_1P_2} = \\langle -1,1,0\\rangle \\quad\\quad\\text{and} \\quad\\quad\\mathbf{P}_3 := \\overrightarrow{P_1P_3} = \\langle 0,1,-1\\rangle$$"
   ]
  },
  {
   "cell_type": "markdown",
   "id": "c5780091-65f7-41fc-8cff-fefd63e863d4",
   "metadata": {},
   "source": [
    "$$ \\mathbf{N} = \\mathbf{P}_2\\times\\mathbf{P}_3 = \\left|\\begin{matrix}\\mathbf{i} & \\mathbf{j} & \\mathbf{k} \\\\ -1 & 1 & 0 \\\\ 0 & 1 & -1\\end{matrix}\\right|  = \\langle -1, -1, -1\\rangle = -\\langle 1,1,1\\rangle$$"
   ]
  },
  {
   "cell_type": "markdown",
   "id": "7d66dec7-ac47-4078-ac24-28c3793af04f",
   "metadata": {},
   "source": [
    "Now, let $\\mathbf{P}:=\\overrightarrow{P_1P}$, where $P:=P(x,y,z) = (x,y,z)$.  It now follows that:  \n",
    "\n",
    "$$ \\mathbf{P} = \\langle x-1, y, z-1\\rangle$$"
   ]
  },
  {
   "cell_type": "markdown",
   "id": "546e7eac-1a80-4997-8019-a0162f3b4103",
   "metadata": {},
   "source": [
    "The equation of the plane is given by:  \n",
    "\n",
    "$$ \\mathbf{N}\\cdot\\mathbf{P} = \\mathbf{P}_2\\times\\mathbf{P}_3\\cdot\\mathbf{P} = \\mathrm{det}(\\mathbf{P_2},\\mathbf{P_3},\\mathbf{P}) = 0$$"
   ]
  },
  {
   "cell_type": "markdown",
   "id": "3b0d1745-1e25-4585-8c6a-616b4dd22e9a",
   "metadata": {},
   "source": [
    "$$ \\implies\\quad x-1 + y + z -1 = 0 \\quad\\implies\\quad x+y+z = 2$$"
   ]
  },
  {
   "cell_type": "markdown",
   "id": "b1d15e0d-52b6-42ff-9888-cc93e0e3bac5",
   "metadata": {},
   "source": [
    "#### Problem 2\n",
    "2. Find the equation of the line through $(1, 2)$ and $(3, 1)$ in point-normal form."
   ]
  },
  {
   "cell_type": "markdown",
   "id": "3d753c13-0dd3-4693-b67b-effe922458a0",
   "metadata": {},
   "source": [
    "First, we find the equation in **slope-intercept** form.  \n",
    "\n",
    "$$ 2 = m + b \\quad\\quad\\text{and}\\quad\\quad 1 = m3 + b$$"
   ]
  },
  {
   "cell_type": "markdown",
   "id": "86eaaf6e-6ef2-485d-a1df-36a69abb3d4f",
   "metadata": {},
   "source": [
    "$$ m = 2- b \\quad\\quad\\text{and}\\quad\\quad 1 = 3m + 2 - m = 2(m+1) $$"
   ]
  },
  {
   "cell_type": "markdown",
   "id": "5a315b7a-1a9e-4ed7-a359-2a53def6d823",
   "metadata": {},
   "source": [
    "$$ m = -0.5 \\quad\\quad\\text{and}\\quad\\quad b=2.5$$"
   ]
  },
  {
   "cell_type": "markdown",
   "id": "9bafa63d-141c-45b9-abaa-41fc0185f105",
   "metadata": {},
   "source": [
    "Thus,  \n",
    "\n",
    "\\begin{equation}\\tag{2.1}\n",
    "    y = 2.5 - 0.5x\n",
    "\\end{equation}"
   ]
  },
  {
   "cell_type": "markdown",
   "id": "7eb48923-f7fb-4b0e-8484-65c6e7fe39ac",
   "metadata": {},
   "source": [
    "Next, we find the equation in **point-normal** form.  Let $P_1$ and $P_2$ be defined as:  \n",
    "\n",
    "$$ P_1 := (1,2) \\quad\\quad\\text{and}\\quad\\quad P_2:=(3,1)$$"
   ]
  },
  {
   "cell_type": "markdown",
   "id": "b1bc7dba-2310-440c-b84e-1e3706da7998",
   "metadata": {},
   "source": [
    "Now, let $N$ be defined as:  \n",
    "\n",
    "$$ N:= (a,b) \\quad\\quad\\text{where }\\overrightarrow{P_1N} \\perp \\overrightarrow{P_1P_2}$$"
   ]
  },
  {
   "cell_type": "markdown",
   "id": "2dba1838-335b-45a4-8781-4ba2f277e491",
   "metadata": {},
   "source": [
    "It now follows that:  \n",
    "\n",
    "$$ \\overrightarrow{P_1N} \\cdot \\overrightarrow{P_1P_2} = (a-1)(2) + (b-2)(-1) = 2a -2b = 0$$"
   ]
  },
  {
   "cell_type": "markdown",
   "id": "f8b4cf80-6120-41b2-9f60-1d5a0c671fee",
   "metadata": {},
   "source": [
    "$$ \\implies\\quad a=b$$"
   ]
  },
  {
   "cell_type": "markdown",
   "id": "3e2e292f-1359-4d69-b3f1-f9f964078c4f",
   "metadata": {},
   "source": [
    "Next, let $P:=P(x,y):=(x,y)$.  It now follows that our equation of the line is given by:  \n",
    "\n",
    "\\begin{equation}\\tag{2.3}\n",
    "    \\overrightarrow{P_1N}\\cdot \\overrightarrow{P_1P} = (a-1)(x-1) + (a-2)(y-2) =0\n",
    "\\end{equation}"
   ]
  },
  {
   "cell_type": "markdown",
   "id": "8eef5236-23de-4bc1-b937-25cbd34865c5",
   "metadata": {},
   "source": [
    "\\begin{equation}\\tag{2.4}\n",
    "    \\overrightarrow{P_1N}\\cdot\\overrightarrow{P_3P} = (a-1)(x-3) + (a-2)(y-1) = 0\n",
    "\\end{equation}"
   ]
  },
  {
   "cell_type": "markdown",
   "id": "a1b36a57-d444-48a9-92e8-c1e9fccdcdc8",
   "metadata": {},
   "source": [
    "Via equation (2.3),  \n",
    "\n",
    "$$ ax + ay - 3a + 5 - x - 2y = 0$$"
   ]
  },
  {
   "cell_type": "markdown",
   "id": "cefa6221-c5db-47f1-8770-4b765bd4b3ad",
   "metadata": {},
   "source": [
    "$$ \\implies\\quad a = \\frac{x + 2y - 5}{x+y-3}$$"
   ]
  },
  {
   "cell_type": "markdown",
   "id": "756e62fd-7fba-4e07-8bd3-b2bb9fc4c4f9",
   "metadata": {},
   "source": [
    "Finally, via the above equation, equation (2.4), substitution and multiplying throughout by the denominator of $a$,  \n",
    "\n",
    "$$ (y-2)(x-3)+ (1-x)(y-1) = -2y-x+5=0 \\quad\\implies\\quad x + 2y = 5$$"
   ]
  }
 ],
 "metadata": {
  "kernelspec": {
   "display_name": "Python 3 (ipykernel)",
   "language": "python",
   "name": "python3"
  },
  "language_info": {
   "codemirror_mode": {
    "name": "ipython",
    "version": 3
   },
   "file_extension": ".py",
   "mimetype": "text/x-python",
   "name": "python",
   "nbconvert_exporter": "python",
   "pygments_lexer": "ipython3",
   "version": "3.10.12"
  }
 },
 "nbformat": 4,
 "nbformat_minor": 5
}
