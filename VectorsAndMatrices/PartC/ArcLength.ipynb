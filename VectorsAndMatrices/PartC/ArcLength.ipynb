{
 "cells": [
  {
   "cell_type": "markdown",
   "id": "31cd65ae-acf0-47ad-8b9b-5330ddc99de2",
   "metadata": {},
   "source": [
    "# Velocity and Arc Length\n",
    "\n",
    "## Examples\n",
    "\n",
    "#### Example 1\n",
    "\n",
    " 1. A rocket follows a trajectory\n",
    "\\begin{equation}\\tag{1}\n",
    "    \\mathbf{r}(t) = x(t)\\mathbf{i} + y(t)\\mathbf{j} \\quad\\quad\\text{where }x=x(t)=10t\\quad\\text{and}\\quad  y = y(t)=−5t^2 + 10t\n",
    "\\end{equation}  \n",
    "\n",
    "Find its speed and the arc length from $t = 0$ to $t = 1$."
   ]
  },
  {
   "cell_type": "markdown",
   "id": "72feb792-562b-4026-81f6-ada24b7578d5",
   "metadata": {},
   "source": [
    "The speed is given by:  \n",
    "\n",
    "$$ \\frac{\\mathrm{d}s}{\\mathrm{d}t} = s'(t) = |\\mathbf{V}| = |\\langle 10, -10t + 10\\rangle| = 10|\\langle 1, 1-t\\rangle| = 10\\sqrt{1 + (1-t)^2} = 10\\sqrt{2 + t^2 -2t}$$"
   ]
  },
  {
   "cell_type": "markdown",
   "id": "18080145-ae9a-48a0-a26a-26f576e4c576",
   "metadata": {},
   "source": [
    "The arc length or distance travelled over the given timeframe is:  \n",
    "\n",
    "$$ L = \\Delta s = \\int_0^1 |\\mathbf{V}|\\,\\mathrm{d}t$$"
   ]
  },
  {
   "cell_type": "markdown",
   "id": "bb15e573-e98f-4664-8bbf-4f2f757a0e09",
   "metadata": {},
   "source": [
    "$$ \\int |\\mathbf{V}|\\,\\mathrm{d}t = \\text{???}$$"
   ]
  },
  {
   "cell_type": "markdown",
   "id": "f5d84602-1e32-4aa1-8e36-c5d25291ecc0",
   "metadata": {},
   "source": [
    "To find $L$, first let $u:=u(t):=1-t$.  It now follows that:  \n",
    "\n",
    "$$ L = 10\\int_{u(1)}^{u(0)}\\sqrt{1+u^2}\\mathrm{d}u = 10\\int_0^1 \\sqrt{1+u^2}\\mathrm{d}u$$"
   ]
  },
  {
   "cell_type": "markdown",
   "id": "d333908c-2f67-46f4-a8df-0cf3410d1f44",
   "metadata": {},
   "source": [
    "$$ \\mathrm{d}u = u(t + \\epsilon) - u(t) = 1 - t - \\epsilon - 1 + t = -\\epsilon = -\\mathrm{d}t$$"
   ]
  },
  {
   "cell_type": "markdown",
   "id": "b7c9226e-c752-42dc-9724-ba671d7ff7a9",
   "metadata": {},
   "source": [
    "Next, since it is hard to find the primitive integral, we will use hyperbolic angles instead.  The equation:  \n",
    "\n",
    "\\begin{equation}\\tag{2}\n",
    "    v^2 - u^2 = 1 \\quad\\quad\\text{where }v = 0.1|\\mathbf{V}|\n",
    "\\end{equation}"
   ]
  },
  {
   "cell_type": "markdown",
   "id": "edaa3604-a3fe-4aa7-85da-80f68fedc727",
   "metadata": {},
   "source": [
    "gives a unit hypberbola.  Recall that the hyperbolic angle, denoted as '$a$', as a function of $v$, is given by  \n",
    "\n",
    "\\begin{equation}\\tag{3}\n",
    "    a = a(v) = - \\log\\big|v-\\sqrt{v^{2}-1}\\big|\\quad\\quad\\text{where }v\\ge 1\n",
    "\\end{equation}"
   ]
  },
  {
   "cell_type": "markdown",
   "id": "5fc5f078-96af-47df-bb2b-9fa3f49bcf16",
   "metadata": {},
   "source": [
    "![hyperbola-sector](https://upload.wikimedia.org/wikipedia/commons/thumb/b/bc/Hyperbolic_functions-2.svg/310px-Hyperbolic_functions-2.svg.png)"
   ]
  },
  {
   "cell_type": "markdown",
   "id": "83bcd695-fd3d-4809-9e00-7509f3b77d98",
   "metadata": {},
   "source": [
    "Note that, in the above figure, $x=v$, $y=u$, '$Y$' denotes the $u$-axis, and '$X$' denotes the $v$-axis."
   ]
  },
  {
   "cell_type": "markdown",
   "id": "7683a2f2-bb54-4676-87c6-0dcc0068784e",
   "metadata": {},
   "source": [
    "Now, we need to find $a$ as a function of $u$.  \n",
    "\n",
    "$$ a(u) = -\\log\\big|\\sqrt{1+u^2} - |u|\\big|$$"
   ]
  },
  {
   "cell_type": "markdown",
   "id": "b91c1faf-8316-4044-8d11-aa10654b1fd8",
   "metadata": {},
   "source": [
    "\\begin{equation}\\tag{5}\n",
    "    a:=a(1) = -\\log\\big|\\sqrt{2}-1\\big|\n",
    "\\end{equation}"
   ]
  },
  {
   "cell_type": "markdown",
   "id": "174f51de-0723-4ede-9233-1b8554e93543",
   "metadata": {},
   "source": [
    "Thus, $L$ is equal to the product of $10$ and the sum of half the hyperbolic angle $a$ and the area of the right triangle with a base of $\\sinh a$ and a height of $\\cosh a$.  \n",
    "\n",
    "\\begin{equation}\\tag{4b}\n",
    "    L = 10\\cdot\\big(0.5\\cosh a\\sinh a + 0.5a\\big) = 5\\big(\\cosh a\\sinh a + a\\big)\n",
    "\\end{equation}"
   ]
  },
  {
   "cell_type": "markdown",
   "id": "6f4bca15-d2d1-42e1-961b-5d19b2f9703a",
   "metadata": {},
   "source": [
    "$$ L = 5\\big(\\sqrt{2} - \\log\\big|\\sqrt{2}-1\\big|\\big)$$"
   ]
  },
  {
   "cell_type": "code",
   "execution_count": 1,
   "id": "098c65b3-576f-40a8-92fb-295d713831c3",
   "metadata": {
    "tags": []
   },
   "outputs": [],
   "source": [
    "import numpy as np"
   ]
  },
  {
   "cell_type": "code",
   "execution_count": 3,
   "id": "e346541d-0e1b-42d6-af34-719ef2696f52",
   "metadata": {
    "tags": []
   },
   "outputs": [
    {
     "data": {
      "text/plain": [
       "-0.8813735870195428"
      ]
     },
     "execution_count": 3,
     "metadata": {},
     "output_type": "execute_result"
    }
   ],
   "source": [
    "np.log(np.sqrt(2)-1)"
   ]
  },
  {
   "cell_type": "code",
   "execution_count": 4,
   "id": "27c9b710-b0d0-4410-bcf7-94640b02eda6",
   "metadata": {
    "tags": []
   },
   "outputs": [
    {
     "data": {
      "text/plain": [
       "0.8813735870195429"
      ]
     },
     "execution_count": 4,
     "metadata": {},
     "output_type": "execute_result"
    }
   ],
   "source": [
    "np.log(np.sqrt(2)+1)"
   ]
  },
  {
   "cell_type": "markdown",
   "id": "b2b58a71-b950-4b66-9b23-3c70a82aeacb",
   "metadata": {},
   "source": [
    "Recall the following hyperbolic function defitions,  \n",
    "\n",
    "\\begin{equation}\\tag{6}\n",
    "    \\text{a: }\\;\\cosh a = \\frac{e^{-a} + e^a}{2}\\quad\\quad\\text{and}\\quad\\quad\\text{b: }\\;\\sinh a = \\frac{e^a - e^{-a}}{2}\n",
    "\\end{equation}"
   ]
  },
  {
   "cell_type": "markdown",
   "id": "39a67400-90c4-4017-9e3f-8b3ca3931ad9",
   "metadata": {},
   "source": [
    "Via equations (6) and (5),  \n",
    "\n",
    "$$ \\cosh a = 0.5\\left(\\sqrt{2}-1+\\frac{1}{\\sqrt{2}-1}\\right)$$"
   ]
  },
  {
   "cell_type": "markdown",
   "id": "9b788634-4f46-430a-bb45-34fda4143ae4",
   "metadata": {},
   "source": [
    "$$ = 0.5\\,\\frac{2 - 2\\sqrt{2} + 2}{\\sqrt{2}-1} = \\frac{2-\\sqrt{2}}{\\sqrt{2}-1} = -\\left(\\frac{1}{1-\\sqrt{2}} + 1\\right) = \\sqrt{2}$$"
   ]
  },
  {
   "cell_type": "markdown",
   "id": "5ad809ab-1af7-4a16-af27-632e1913d4dd",
   "metadata": {},
   "source": [
    "$$ \\sinh a = 0.5\\left(\\frac{1}{\\sqrt{2}-1} - \\sqrt{2} + 1\\right)$$"
   ]
  },
  {
   "cell_type": "markdown",
   "id": "3a408aa2-1437-46b7-a464-1672b176e7cc",
   "metadata": {},
   "source": [
    "#### Example 2\n",
    "2. For the cycloid given by the parametric equations $x = a\\theta − a \\sin\\theta$ and $y = a − a \\cos\\theta$, find the velocity, speed, unit tangent vector and arc length of one arch."
   ]
  },
  {
   "cell_type": "markdown",
   "id": "98e5db0a-4c93-43ab-b64b-c7b779f236e1",
   "metadata": {},
   "source": [
    "$$ \\mathbf{r}(\\theta) = x(\\theta)\\mathbf{i} + y(\\theta)\\mathbf{j} = \\langle x(\\theta), y(\\theta)\\rangle$$"
   ]
  },
  {
   "cell_type": "markdown",
   "id": "49183c1f-4903-4cfa-9b1a-e2d19d54b442",
   "metadata": {},
   "source": [
    "where,  \n",
    "\n",
    "$$ x=x(\\theta)= a(\\theta - \\sin\\theta) \\quad\\quad\\text{and}\\quad\\quad y=y(\\theta) = a(1-\\cos\\theta)$$"
   ]
  },
  {
   "cell_type": "markdown",
   "id": "e18316d2-dd66-41f9-933a-7b76e06e04c5",
   "metadata": {},
   "source": [
    "$$ \\mathbf{v} = \\mathbf{v}(\\theta) = \\mathbf{r}'(\\theta) = a\\langle 1-\\cos\\theta, \\sin\\theta\\rangle$$"
   ]
  },
  {
   "cell_type": "markdown",
   "id": "78cc1104-1c88-4179-a633-bd1867e91db6",
   "metadata": {},
   "source": [
    "$$ s'(\\theta) = |\\mathbf{v}| = a\\sqrt{(1-\\cos\\theta)^2 + \\sin^2\\theta}$$"
   ]
  },
  {
   "cell_type": "markdown",
   "id": "d6235cd3-6cf2-450c-bac8-8aff9da0521c",
   "metadata": {},
   "source": [
    "$$ = a\\sqrt{2 - 2\\cos\\theta}$$"
   ]
  },
  {
   "cell_type": "markdown",
   "id": "7627a848-9f38-4bb7-a947-014dc89d15e3",
   "metadata": {},
   "source": [
    "To simplify the above, first recall that:  \n",
    "\n",
    "$$ \\frac{\\mathrm{d}\\sin^2\\theta}{\\mathrm{d}\\theta} = 2\\sin\\theta\\cos\\theta = \\sin 2\\theta$$"
   ]
  },
  {
   "cell_type": "markdown",
   "id": "d84566f4-ebf2-491d-907f-07db03329b1d",
   "metadata": {},
   "source": [
    "$$ \\int \\sin 2\\theta\\,\\mathrm{d}\\theta = -0.5\\cos 2\\theta + K$$"
   ]
  },
  {
   "cell_type": "markdown",
   "id": "b0032e46-0f58-4414-beba-0ddb61bd4c53",
   "metadata": {},
   "source": [
    "Thus,  \n",
    "\n",
    "$$ \\sin^2\\theta = K - 0.5\\cos2\\theta \\quad\\implies\\quad K = \\sin^2\\theta + 0.5\\cos2\\theta$$"
   ]
  },
  {
   "cell_type": "markdown",
   "id": "76491bd3-574a-46fb-a807-e633e429b5e9",
   "metadata": {},
   "source": [
    "$$ K = \\sin^2 0 + 0.5 \\cos 0 = 0.5$$"
   ]
  },
  {
   "cell_type": "markdown",
   "id": "37a26d37-b4ea-4c69-a4b0-b4e887f61ed1",
   "metadata": {},
   "source": [
    "$$ \\sin^2\\theta = 0.5(1-\\cos2\\theta)$$"
   ]
  },
  {
   "cell_type": "markdown",
   "id": "79c2e00c-9919-44cd-b45c-161a04f756b8",
   "metadata": {},
   "source": [
    "$$ 4\\sin^2\\theta = 2 - 2\\cos2\\theta$$"
   ]
  },
  {
   "cell_type": "markdown",
   "id": "ea15940f-3f38-4e34-ab1b-56675d10d33d",
   "metadata": {},
   "source": [
    "Via the above and the equation that gives speed,  \n",
    "\n",
    "$$ s'(\\theta) = 2a|\\sin0.5\\theta|$$"
   ]
  },
  {
   "cell_type": "markdown",
   "id": "207694bd-703c-49a0-b3ee-bedae2a8e1c7",
   "metadata": {},
   "source": [
    "$$ \\mathbf{T} = \\frac{\\mathbf{v}}{|\\mathbf{v}|} = \\frac{\\langle 1-\\cos\\theta,\\sin\\theta\\rangle}{\\sqrt{2}\\sqrt{1-\\cos\\theta}}$$"
   ]
  },
  {
   "cell_type": "markdown",
   "id": "310707e8-5fc7-4588-a663-a2af1891724a",
   "metadata": {},
   "source": [
    "Finally,  \n",
    "\n",
    "$$ L = \\int_0^{2\\pi}s'(\\theta)\\,\\mathrm{d}\\theta$$"
   ]
  },
  {
   "cell_type": "markdown",
   "id": "adb2e77f-f018-4bd7-9eeb-eca564fa7f86",
   "metadata": {},
   "source": [
    "$$ \\pm s(\\theta) = \\pm\\int s'(\\theta) = -4a\\cos0.5\\theta + Q$$"
   ]
  },
  {
   "cell_type": "markdown",
   "id": "66727c98-48d6-43a4-9911-625b996d64ed",
   "metadata": {},
   "source": [
    "$$ s(0) = 0 \\quad\\implies\\quad Q = 4a$$"
   ]
  },
  {
   "cell_type": "markdown",
   "id": "ad5a90ce-8cf9-42bc-b37e-ab21337c0f3b",
   "metadata": {},
   "source": [
    "$$ \\pm s(\\theta) = 4a(1 - \\cos0.5\\theta)$$"
   ]
  },
  {
   "cell_type": "markdown",
   "id": "79920c23-9a3d-4da3-a28c-849fc1c91d20",
   "metadata": {},
   "source": [
    "$$ s(2\\pi) = L = 8a$$"
   ]
  },
  {
   "cell_type": "markdown",
   "id": "c039005e-a5e5-4d99-b2a9-046caa33d6f6",
   "metadata": {},
   "source": [
    "## Problems\n",
    "#### Problem 1\n",
    "1. Let $\\mathbf{r}(t) = t^2\\mathbf{i} + t^3\\mathbf{j}$.  \n",
    "\n",
    "a) Compute, velocity, speed, unit tangent vector and acceleration.  "
   ]
  },
  {
   "cell_type": "markdown",
   "id": "d89409a5-d2fe-47c6-9f08-c0115485e1ca",
   "metadata": {},
   "source": [
    "$$ \\mathbf{v}(t) = \\big\\langle 2t, 3t^2\\big\\rangle = t\\langle 2, 3t\\rangle$$"
   ]
  },
  {
   "cell_type": "markdown",
   "id": "22d310e6-69fc-4bed-be69-1f9da4adfd56",
   "metadata": {},
   "source": [
    "$$ s'(t) = |\\mathbf{v}| = t\\sqrt{4 + 9t^2}$$"
   ]
  },
  {
   "cell_type": "markdown",
   "id": "4991fc82-9e71-45b7-94ed-4376e4688a45",
   "metadata": {},
   "source": [
    "$$ \\mathbf{T} = \\frac{\\langle 2,3t\\rangle}{\\sqrt{4+9t^2}}$$"
   ]
  },
  {
   "cell_type": "markdown",
   "id": "6fd5ad70-2f68-40b9-83da-d4f216b20241",
   "metadata": {},
   "source": [
    "$$ \\mathbf{a}(t) = \\mathbf{v}'(t) = \\langle 2, 6t\\rangle$$"
   ]
  },
  {
   "cell_type": "markdown",
   "id": "a99ea839-9014-4e15-82fe-f2d57da72e73",
   "metadata": {},
   "source": [
    "b) Write down the integral for arc length from $t = 1$ to $t = 4$. (*Do not compute the integral*.)  "
   ]
  },
  {
   "cell_type": "markdown",
   "id": "84408aba-0042-4d68-956c-bb0253b66bd1",
   "metadata": {},
   "source": [
    "$$ L = \\int_1^4 t\\sqrt{4+9t^2}\\,\\mathrm{d}t$$"
   ]
  },
  {
   "cell_type": "markdown",
   "id": "e0c86a14-f6e6-45fe-946e-8cf04433c51c",
   "metadata": {},
   "source": [
    "#### Problem 2\n",
    "\n",
    "2. Consider the parametric curve  \n",
    "\n",
    "$$ x(t) = 3t + 1 \\quad\\quad\\text{and}\\quad\\quad y(t) = 4t + 3$$  "
   ]
  },
  {
   "cell_type": "markdown",
   "id": "fc0cb7ff-5720-4865-95d8-275d265d50f2",
   "metadata": {},
   "source": [
    "a. Compute, velocity, speed, unit tangent vector and acceleration.  "
   ]
  },
  {
   "cell_type": "markdown",
   "id": "72d634a9-84c2-448f-ae28-37be722043d0",
   "metadata": {},
   "source": [
    "Let  \n",
    "\n",
    "$$ \\mathbf{r}(t):=\\langle x(t), y(t)\\rangle$$"
   ]
  },
  {
   "cell_type": "markdown",
   "id": "cab806fb-f789-459e-bc62-a515898a6956",
   "metadata": {},
   "source": [
    "$$ \\mathbf{v}(t) = \\langle 3,4\\rangle\\quad\\quad s'(t) = |\\mathbf{v}| = 5 \\quad\\quad \\mathbf{T} = \\frac{\\langle 3,4\\rangle}{5}\\quad\\quad\\mathbf{a}(t) = 0$$"
   ]
  },
  {
   "cell_type": "markdown",
   "id": "5ad31201-3b8c-4efc-a985-ee2a4ecdffca",
   "metadata": {},
   "source": [
    "b. Compute the arc length of the trajectory from $t = 0$ to $t = 2$."
   ]
  },
  {
   "cell_type": "markdown",
   "id": "f5a52dfd-5c72-4a18-8f22-a4ad256834e5",
   "metadata": {},
   "source": [
    "$$ L = 10$$"
   ]
  }
 ],
 "metadata": {
  "kernelspec": {
   "display_name": "Python 3 (ipykernel)",
   "language": "python",
   "name": "python3"
  },
  "language_info": {
   "codemirror_mode": {
    "name": "ipython",
    "version": 3
   },
   "file_extension": ".py",
   "mimetype": "text/x-python",
   "name": "python",
   "nbconvert_exporter": "python",
   "pygments_lexer": "ipython3",
   "version": "3.10.12"
  }
 },
 "nbformat": 4,
 "nbformat_minor": 5
}
