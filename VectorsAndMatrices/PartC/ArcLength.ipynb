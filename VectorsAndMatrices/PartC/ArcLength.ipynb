{
 "cells": [
  {
   "cell_type": "markdown",
   "id": "31cd65ae-acf0-47ad-8b9b-5330ddc99de2",
   "metadata": {},
   "source": [
    "# Velocity and Arc Length\n",
    "\n",
    "## Example\n",
    "\n",
    " A rocket follows a trajectory\n",
    "\\begin{equation}\\tag{1}\n",
    "    \\mathbf{r}(t) = x(t)\\mathbf{i} + y(t)\\mathbf{j} \\quad\\quad\\text{where }x=x(t)=10t\\quad\\text{and}\\quad  y = y(t)=−5t^2 + 10t\n",
    "\\end{equation}  \n",
    "\n",
    "Find its speed and the arc length from $t = 0$ to $t = 1$."
   ]
  },
  {
   "cell_type": "markdown",
   "id": "72feb792-562b-4026-81f6-ada24b7578d5",
   "metadata": {},
   "source": [
    "The speed is given by:  \n",
    "\n",
    "$$ \\frac{\\mathrm{d}s}{\\mathrm{d}t} = s'(t) = |\\mathbf{V}| = |\\langle 10, -10t + 10\\rangle| = 10|\\langle 1, 1-t\\rangle| = 10\\sqrt{1 + (1-t)^2} = 10\\sqrt{2 + t^2 -2t}$$"
   ]
  },
  {
   "cell_type": "markdown",
   "id": "18080145-ae9a-48a0-a26a-26f576e4c576",
   "metadata": {},
   "source": [
    "The arc length or distance travelled over the given timeframe is:  \n",
    "\n",
    "$$ L = \\Delta s = \\int_0^1 |\\mathbf{V}|\\,\\mathrm{d}t$$"
   ]
  },
  {
   "cell_type": "markdown",
   "id": "bb15e573-e98f-4664-8bbf-4f2f757a0e09",
   "metadata": {},
   "source": [
    "$$ \\int |\\mathbf{V}|\\,\\mathrm{d}t = \\text{???}$$"
   ]
  },
  {
   "cell_type": "markdown",
   "id": "f5d84602-1e32-4aa1-8e36-c5d25291ecc0",
   "metadata": {},
   "source": [
    "To find $L$, first let $u:=u(t):=1-t$.  It now follows that:  \n",
    "\n",
    "$$ L = 10\\int_{u(1)}^{u(0)}\\sqrt{1+u^2}\\mathrm{d}u = 10\\int_0^1 \\sqrt{1+u^2}\\mathrm{d}u$$"
   ]
  },
  {
   "cell_type": "markdown",
   "id": "d333908c-2f67-46f4-a8df-0cf3410d1f44",
   "metadata": {},
   "source": [
    "$$ \\mathrm{d}u = u(t + \\epsilon) - u(t) = 1 - t - \\epsilon - 1 + t = -\\epsilon = -\\mathrm{d}t$$"
   ]
  },
  {
   "cell_type": "markdown",
   "id": "b7c9226e-c752-42dc-9724-ba671d7ff7a9",
   "metadata": {},
   "source": [
    "Next, since it is hard to find the primitive integral, we will use hyperbolic angles instead.  The equation:  \n",
    "\n",
    "\\begin{equation}\\tag{2}\n",
    "    v^2 - u^2 = 1 \\quad\\quad\\text{where }v = 0.1|\\mathbf{V}|\n",
    "\\end{equation}"
   ]
  },
  {
   "cell_type": "markdown",
   "id": "edaa3604-a3fe-4aa7-85da-80f68fedc727",
   "metadata": {},
   "source": [
    "gives a unit hypberbola.  Recall that the hyperbolic angle, denoted as '$a$', as a function of $v$, is given by  \n",
    "\n",
    "\\begin{equation}\\tag{3}\n",
    "    a = a(v) = - \\log\\big|v-\\sqrt{v^{2}-1}\\big|\\quad\\quad\\text{where }v\\ge 1\n",
    "\\end{equation}"
   ]
  },
  {
   "cell_type": "markdown",
   "id": "5fc5f078-96af-47df-bb2b-9fa3f49bcf16",
   "metadata": {},
   "source": [
    "![hyperbola-sector](https://upload.wikimedia.org/wikipedia/commons/thumb/b/bc/Hyperbolic_functions-2.svg/310px-Hyperbolic_functions-2.svg.png)"
   ]
  },
  {
   "cell_type": "markdown",
   "id": "83bcd695-fd3d-4809-9e00-7509f3b77d98",
   "metadata": {},
   "source": [
    "Note that, in the above figure, $x=v$, $y=u$, '$Y$' denotes the $u$-axis, and '$X$' denotes the $v$-axis."
   ]
  },
  {
   "cell_type": "markdown",
   "id": "7683a2f2-bb54-4676-87c6-0dcc0068784e",
   "metadata": {},
   "source": [
    "Now, we need to find $a$ as a function of $u$.  \n",
    "\n",
    "$$ a(u) = -\\log\\big|\\sqrt{1+u^2} - |u|\\big|$$"
   ]
  },
  {
   "cell_type": "markdown",
   "id": "b91c1faf-8316-4044-8d11-aa10654b1fd8",
   "metadata": {},
   "source": [
    "\\begin{equation}\\tag{5}\n",
    "    a:=a(1) = -\\log\\big|\\sqrt{2}-1\\big|\n",
    "\\end{equation}"
   ]
  },
  {
   "cell_type": "markdown",
   "id": "174f51de-0723-4ede-9233-1b8554e93543",
   "metadata": {},
   "source": [
    "Thus, $L$ is equal to the product of $10$ and the sum of half the hyperbolic angle $a$ and the area of the right triangle with a base of $\\sinh a$ and a height of $\\cosh a$.  \n",
    "\n",
    "\\begin{equation}\\tag{4b}\n",
    "    L = 10\\cdot\\big(0.5\\cosh a\\sinh a + 0.5a\\big) = 5\\big(\\cosh a\\sinh a + a\\big)\n",
    "\\end{equation}"
   ]
  },
  {
   "cell_type": "markdown",
   "id": "6f4bca15-d2d1-42e1-961b-5d19b2f9703a",
   "metadata": {},
   "source": [
    "$$ L = 5\\big(\\sqrt{2} - \\log\\big|\\sqrt{2}-1\\big|\\big)$$"
   ]
  },
  {
   "cell_type": "code",
   "execution_count": 1,
   "id": "098c65b3-576f-40a8-92fb-295d713831c3",
   "metadata": {
    "tags": []
   },
   "outputs": [],
   "source": [
    "import numpy as np"
   ]
  },
  {
   "cell_type": "code",
   "execution_count": 3,
   "id": "e346541d-0e1b-42d6-af34-719ef2696f52",
   "metadata": {
    "tags": []
   },
   "outputs": [
    {
     "data": {
      "text/plain": [
       "-0.8813735870195428"
      ]
     },
     "execution_count": 3,
     "metadata": {},
     "output_type": "execute_result"
    }
   ],
   "source": [
    "np.log(np.sqrt(2)-1)"
   ]
  },
  {
   "cell_type": "code",
   "execution_count": 4,
   "id": "27c9b710-b0d0-4410-bcf7-94640b02eda6",
   "metadata": {
    "tags": []
   },
   "outputs": [
    {
     "data": {
      "text/plain": [
       "0.8813735870195429"
      ]
     },
     "execution_count": 4,
     "metadata": {},
     "output_type": "execute_result"
    }
   ],
   "source": [
    "np.log(np.sqrt(2)+1)"
   ]
  },
  {
   "cell_type": "markdown",
   "id": "b2b58a71-b950-4b66-9b23-3c70a82aeacb",
   "metadata": {},
   "source": [
    "Recall the following hyperbolic function defitions,  \n",
    "\n",
    "\\begin{equation}\\tag{6}\n",
    "    \\text{a: }\\;\\cosh a = \\frac{e^{-a} + e^a}{2}\\quad\\quad\\text{and}\\quad\\quad\\text{b: }\\;\\sinh a = \\frac{e^a - e^{-a}}{2}\n",
    "\\end{equation}"
   ]
  },
  {
   "cell_type": "markdown",
   "id": "39a67400-90c4-4017-9e3f-8b3ca3931ad9",
   "metadata": {},
   "source": [
    "Via equations (6) and (5),  \n",
    "\n",
    "$$ \\cosh a = 0.5\\left(\\sqrt{2}-1+\\frac{1}{\\sqrt{2}-1}\\right)$$"
   ]
  },
  {
   "cell_type": "markdown",
   "id": "9b788634-4f46-430a-bb45-34fda4143ae4",
   "metadata": {},
   "source": [
    "$$ = 0.5\\,\\frac{2 - 2\\sqrt{2} + 2}{\\sqrt{2}-1} = \\frac{2-\\sqrt{2}}{\\sqrt{2}-1} = -\\left(\\frac{1}{1-\\sqrt{2}} + 1\\right) = \\sqrt{2}$$"
   ]
  },
  {
   "cell_type": "markdown",
   "id": "5ad809ab-1af7-4a16-af27-632e1913d4dd",
   "metadata": {},
   "source": [
    "$$ \\sinh a = 0.5\\left(\\frac{1}{\\sqrt{2}-1} - \\sqrt{2} + 1\\right)$$"
   ]
  }
 ],
 "metadata": {
  "kernelspec": {
   "display_name": "Python 3 (ipykernel)",
   "language": "python",
   "name": "python3"
  },
  "language_info": {
   "codemirror_mode": {
    "name": "ipython",
    "version": 3
   },
   "file_extension": ".py",
   "mimetype": "text/x-python",
   "name": "python",
   "nbconvert_exporter": "python",
   "pygments_lexer": "ipython3",
   "version": "3.10.12"
  }
 },
 "nbformat": 4,
 "nbformat_minor": 5
}
