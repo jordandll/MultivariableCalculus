{
 "cells": [
  {
   "cell_type": "markdown",
   "id": "d1db6542-a577-4e72-9d03-679eaf076e4a",
   "metadata": {},
   "source": [
    "# Kepler's Second Law\n",
    "\n",
    "By studying the Danish astronomer Tycho Brahe’s data about the motion of the planets,\n",
    "Kepler formulated three empirical laws; two of them can be stated as follows:  \n",
    "\n",
    "**Second Law**:  A planet moves in a plane, and the radius vector (from the sun to the\n",
    "planet) sweeps out equal areas in equal times.  \n",
    "\n",
    "**First Law**:  The planet’s orbit in that plane is an ellipse, with the sun at one focus.  \n",
    "\n",
    "From these laws, Newton deduced that the force keeping the planets in their orbits had\n",
    "magnitude $1/d^2$, where $d$ was the distance to the sun; moreover, it was directed toward the\n",
    "sun, or as was said, *central*, since the sun was placed at the origin.  \n",
    "\n",
    "Using a little vector analysis (without coordinates), this section is devoted to showing\n",
    "that the Second Law is equivalent to the force being central.  \n",
    "\n",
    "It is harder to show that an elliptical orbit implies the magnitude of the force\n",
    "is of the form $K/d^2$, and vice-versa; this uses vector analysis in polar coordinates\n",
    "and requires the solution of non-linear differential equations."
   ]
  },
  {
   "cell_type": "markdown",
   "id": "8914e2cb-a6ed-4d2a-8cc4-fa12b0248fc6",
   "metadata": {},
   "source": [
    "## Differentiation of Products of Vectors\n",
    "Let $\\mathbf{r}(t)$ and $\\mathbf{s}(t)$ be two differentiable vector functions in 2D- or 3D-space. Then  \n",
    "\n",
    "\\begin{equation}\\tag{1}\n",
    "    \\frac{\\mathrm{d}}{\\mathrm{d}t}\\,(\\mathbf{r}\\cdot\\mathbf{s}) = \\mathbf{r}'\\cdot\\mathbf{s} + \\mathbf{r}\\cdot\\mathbf{s}' \\quad\\quad\\text{and}\\quad\\quad \\frac{\\mathrm{d}}{\\mathrm{d}t}(\\mathbf{r}\\times\\mathbf{s}) = \\mathbf{r}'\\times\\mathbf{s} + \\mathbf{r}\\times\\mathbf{s}'\n",
    "\\end{equation}  \n",
    "\n",
    "where,  \n",
    "\n",
    "$$ \\mathbf{r}' = \\mathbf{r}'(t) = \\frac{\\mathrm{d}\\mathbf{r}}{\\mathrm{d}t}$$"
   ]
  },
  {
   "cell_type": "markdown",
   "id": "21ae1ddf-d002-48d9-be93-2c4b9ca8aad6",
   "metadata": {},
   "source": [
    "These rules are just like the product rule for differentiation. Be careful in the second\n",
    "rule to get the multiplication order correct on the right, since $\\mathbf{a} \\times \\mathbf{b} \\ne \\mathbf{b} \\times \\mathbf{a}$ in general.  The two rules can be proved by writing everything out in terms of $\\mathbf{i}$ , $\\mathbf{j}$ , $\\mathbf{k}$ components and\n",
    "differentiating. They can also be proved directly from the definition of derivative, without\n",
    "resorting to components, as follows:  \n",
    "\n",
    "Let $t$ increase by $\\Delta t$. Then $\\mathbf{r}$ increases by $\\Delta \\mathbf{r}$, and $\\mathbf{s}$ by $\\Delta \\mathbf{s}$, and the corresponding change in $\\mathbf{r} \\cdot \\mathbf{s}$ is given by  \n",
    "\n",
    "\\begin{align*}\\tag{1.1}\n",
    "    \\Delta (\\mathbf{r}\\cdot\\mathbf{s}) &= \\mathbf{r}\\big(t+\\Delta t\\big)\\cdot\\mathbf{s}\\big(t+\\Delta t\\big) - \\mathbf{r}(t)\\cdot\\mathbf{s}(t) \\\\\n",
    "     &= \\big(\\mathbf{r} + \\Delta \\mathbf{r}\\big)\\cdot\\big(\\mathbf{s} + \\Delta \\mathbf{s}\\big) - \\mathbf{r}\\cdot\\mathbf{s}\n",
    "\\end{align*}  \n",
    "\n",
    "where,  \n",
    "\n",
    "$$ \\Delta \\mathbf{r} = \\mathbf{r}\\big(t+\\Delta t\\big) - \\mathbf{r}(t)$$"
   ]
  },
  {
   "cell_type": "markdown",
   "id": "7d377d31-3781-422f-847b-7d5372d1c4cf",
   "metadata": {},
   "source": [
    "Expanding the right hand side of equation (1a) gives:  \n",
    "\n",
    "$$ \\Delta(\\mathbf{r}\\cdot\\mathbf{s}) = \\mathbf{s}\\cdot\\big(\\mathbf{r}+\\Delta \\mathbf{r}\\big) + \\Delta \\mathbf{s}\\cdot\\big(\\mathbf{r}+\\Delta\\mathbf{r}\\big) - \\mathbf{r}\\cdot\\mathbf{s}$$"
   ]
  },
  {
   "cell_type": "markdown",
   "id": "ae8d553d-94bf-4880-bbdd-ad9b4da22ff6",
   "metadata": {},
   "source": [
    "$$ = \\mathbf{s}\\cdot\\Delta\\mathbf{r} + \\Delta\\mathbf{s}\\cdot\\mathbf{r} + \\Delta\\mathbf{r}\\cdot\\Delta\\mathbf{s}$$"
   ]
  },
  {
   "cell_type": "markdown",
   "id": "69a260e2-564a-4f7d-ba3f-1070b4a8ae80",
   "metadata": {},
   "source": [
    "Dividing throughout the above equation by $\\Delta t$ gives:  \n",
    "\n",
    "$$ \\frac{\\Delta (\\mathbf{r}\\cdot\\mathbf{s})}{\\Delta t} = \\mathbf{s}\\cdot\\frac{\\Delta \\mathbf{r}}{\\Delta t} + \\frac{\\Delta\\mathbf{s}}{\\Delta t}\\cdot\\mathbf{r} + \\frac{\\Delta \\mathbf{r}}{\\Delta t}\\cdot\\Delta\\mathbf{s}$$"
   ]
  },
  {
   "cell_type": "markdown",
   "id": "3c6721e2-2628-4166-8e88-04c50295e3f1",
   "metadata": {},
   "source": [
    "Let $\\Delta t\\to 0$.  Then $\\Delta\\mathbf{s}\\to 0$, since $\\mathbf{s}(t)$ is continuous, and we get the first equation of equations (1).  The second equation of equations (1) can be proven the same way, with every '$\\cdot$' replaced with '$\\times$'."
   ]
  },
  {
   "cell_type": "markdown",
   "id": "9cf63c46-60ee-4110-9bcf-30c9efa72f45",
   "metadata": {},
   "source": [
    "## Kepler’s Second Law and the Central Force \n",
    "\n",
    "To show that the force being\n",
    "central (i.e., directed toward the sun) is equivalent to Kepler’s second law, we need to\n",
    "translate that law into calculus. “Sweeps out equal areas in equal times” means:  *the radius vector sweeps out area at a constant rate.*\n",
    "\n",
    "The first thing therefore is to obtain a mathematical expression for this rate. Referring\n",
    "to the picture, we see that as the time increases from $t$ to $t + \\Delta t$, the corresponding change in the area $A$ is given approximately by  \n",
    "\n",
    "$$ \\Delta A \\approxeq \\text{area of the triangle} = 0.5|\\mathbf{r}\\times\\Delta\\mathbf{r}|$$  \n",
    "\n",
    "since said triangle has half the area of the parallelogram spanned by $\\mathbf{r}$ and $\\Delta\\mathbf{r}$;  thus,  \n",
    "\n",
    "$$ 2\\,\\frac{\\Delta A}{\\Delta t} \\approxeq \\left|\\mathbf{r}\\times\\frac{\\Delta\\mathbf{r}}{\\Delta t}\\right|$$  \n",
    "\n",
    "and as $\\Delta t\\to 0$, this becomes  \n",
    "\n",
    "\\begin{equation}\\tag{2}\n",
    "\t2\\,\\frac{\\mathrm{d}A}{\\mathrm{d}t} = \\left|\\mathbf{r}\\times\\frac{\\mathrm{d}\\mathbf{r}}{\\mathrm{d}t}\\right| = |\\mathbf{r}\\times\\mathbf{v}|\n",
    "\\end{equation}"
   ]
  },
  {
   "cell_type": "markdown",
   "id": "d6dae582-5653-4e82-b37a-607c52b21828",
   "metadata": {},
   "source": [
    "To ellaborate on the above three equations,  \n",
    "\n",
    "$$ \\Delta A  \\approxeq 0.5|\\mathbf{r}\\times\\Delta\\mathbf{r}|=0.5|\\mathbf{r}\\times\\Delta\\mathbf{r}|(t) $$\n",
    "\n",
    "$$= 0.5\\Big|\\mathbf{r}(t)\\times\\Big(\\mathbf{r}\\big(t+\\Delta t\\big) - \\mathbf{r}(t)\\Big)\\Big|$$"
   ]
  },
  {
   "cell_type": "markdown",
   "id": "e9ca5e54-0a20-477c-989b-93d90f4d91ee",
   "metadata": {},
   "source": [
    "$$ = 0.5\\big|\\mathbf{r}(t)\\times\\mathbf{r}\\big(t+\\Delta t\\big)\\big|$$"
   ]
  }
 ],
 "metadata": {
  "kernelspec": {
   "display_name": "Python 3 (ipykernel)",
   "language": "python",
   "name": "python3"
  },
  "language_info": {
   "codemirror_mode": {
    "name": "ipython",
    "version": 3
   },
   "file_extension": ".py",
   "mimetype": "text/x-python",
   "name": "python",
   "nbconvert_exporter": "python",
   "pygments_lexer": "ipython3",
   "version": "3.10.12"
  }
 },
 "nbformat": 4,
 "nbformat_minor": 5
}
