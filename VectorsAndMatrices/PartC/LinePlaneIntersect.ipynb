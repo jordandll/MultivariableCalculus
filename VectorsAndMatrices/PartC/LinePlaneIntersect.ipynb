{
 "cells": [
  {
   "cell_type": "markdown",
   "id": "9a0ba775-ed18-44ab-9dfe-03f2bceaa6a9",
   "metadata": {},
   "source": [
    "## Examples\n",
    "\n",
    "#### Example 1\n",
    "1. Consider the plane $\\mathcal{P}$ given by:  \n",
    "\n",
    "\\begin{equation}\\tag{1.1}\n",
    "\t2x+y-4z=4\n",
    "\\end{equation}"
   ]
  },
  {
   "cell_type": "markdown",
   "id": "096287c4-57e5-4ca6-ad3e-ffc7de913c7f",
   "metadata": {},
   "source": [
    "a)  Find all points of intersection between $\\mathcal{P}$ and the line given by:  \n",
    "\n",
    "\\begin{equation}\\tag{1.2}\n",
    "\t\\text{a: }\\;x=t\\quad\\quad\\text{b: }\\;y=2+3t\\quad\\quad\\text{c: }\\;z=t\n",
    "\\end{equation}"
   ]
  },
  {
   "cell_type": "markdown",
   "id": "6ef44055-f31e-4e48-8583-1e45c4a5ec26",
   "metadata": {},
   "source": [
    "Equation (1.2b) can be rewritten as:  \n",
    "\n",
    "$$ t = \\frac{y-2}{3}$$"
   ]
  },
  {
   "cell_type": "markdown",
   "id": "3eb7a489-1848-4e3c-9364-95a15bda4e14",
   "metadata": {},
   "source": [
    "Via equations (1.2b,c) and (1.1),  \n",
    "\n",
    "$$ 2x + 2 - t = 4\\quad\\implies 2x = 2 + t \\quad\\implies$$"
   ]
  },
  {
   "cell_type": "markdown",
   "id": "9dbe069e-78c0-4cc5-a400-26ddf16d2b7a",
   "metadata": {},
   "source": [
    "\\begin{equation}\\tag{1.3}\n",
    "    x = 1+0.5t\n",
    "\\end{equation}"
   ]
  },
  {
   "cell_type": "markdown",
   "id": "767f0a95-2523-4b70-be34-713f6360b534",
   "metadata": {},
   "source": [
    "Via the above equation and equation and equation (1.2a),  \n",
    "\n",
    "$$ 1 = 0.5t \\quad\\implies$$"
   ]
  },
  {
   "cell_type": "markdown",
   "id": "b2036887-d000-448b-954d-e84ffe5a8bbc",
   "metadata": {},
   "source": [
    "\\begin{equation}\\tag{1.4}\n",
    "    t = 2\n",
    "\\end{equation}"
   ]
  },
  {
   "cell_type": "markdown",
   "id": "e0f8c1e5-7c6b-4211-899c-4a55758e86de",
   "metadata": {},
   "source": [
    "Finally, via the above equation and equations (1.2),  \n",
    "\n",
    "$$ x = 2\\quad\\quad y = 8\\quad\\quad z = 2$$"
   ]
  },
  {
   "cell_type": "markdown",
   "id": "1d0cc233-ce7c-4612-b97f-49a92c866d2c",
   "metadata": {},
   "source": [
    "The $4$ x $4$ system of equations formed by equation (1.1) and (1.2) in matrix form is:  \n",
    "\n",
    "$$ \\begin{pmatrix}2 & 1 & -4 & 0\\\\ 1 & 0 & 0 & -1 \\\\ 0 & 1 & 0 & -3 \\\\ 0 & 0 & 1 & -1\\end{pmatrix}\\cdot\\begin{pmatrix}x\\\\y\\\\z\\\\t\\end{pmatrix}=\\begin{pmatrix}4\\\\0\\\\2\\\\0\\end{pmatrix}$$"
   ]
  },
  {
   "cell_type": "markdown",
   "id": "4e79cb77-9eac-4469-8f86-1a1ca6b2476e",
   "metadata": {},
   "source": [
    "Now, is the coefficent matrix, henceforth $\\mathbf{A}$, invertible?  \n",
    "\n",
    "$$ |\\mathbf{A}| = $$"
   ]
  },
  {
   "cell_type": "code",
   "execution_count": 1,
   "id": "0b7d4d38-750b-4f1a-a0dc-bdb6d4037511",
   "metadata": {
    "tags": []
   },
   "outputs": [],
   "source": [
    "import sympy as sp"
   ]
  },
  {
   "cell_type": "code",
   "execution_count": 2,
   "id": "4ea0a1c2-8e14-4fb2-90b7-e7e842191855",
   "metadata": {
    "tags": []
   },
   "outputs": [
    {
     "data": {
      "text/latex": [
       "$\\displaystyle \\left[\\begin{matrix}2 & 1 & -4 & 0\\\\1 & 0 & 0 & -1\\\\0 & 1 & 0 & -3\\\\0 & 0 & 1 & -1\\end{matrix}\\right]$"
      ],
      "text/plain": [
       "Matrix([\n",
       "[2, 1, -4,  0],\n",
       "[1, 0,  0, -1],\n",
       "[0, 1,  0, -3],\n",
       "[0, 0,  1, -1]])"
      ]
     },
     "execution_count": 2,
     "metadata": {},
     "output_type": "execute_result"
    }
   ],
   "source": [
    "x, y, z, t = sp.symbols('x y z t')\n",
    "A = sp.Matrix([[2,1,-4,0],[1,0,0,-1],[0,1,0,-3],[0,0,1,-1]]); A"
   ]
  },
  {
   "cell_type": "code",
   "execution_count": 3,
   "id": "bb36b36f-d9fd-457c-98dd-3afcede8f0f1",
   "metadata": {
    "tags": []
   },
   "outputs": [
    {
     "data": {
      "text/latex": [
       "$\\displaystyle -1$"
      ],
      "text/plain": [
       "-1"
      ]
     },
     "execution_count": 3,
     "metadata": {},
     "output_type": "execute_result"
    }
   ],
   "source": [
    "A.det()"
   ]
  },
  {
   "cell_type": "markdown",
   "id": "83a94b46-bead-4c2f-8cc7-01663704a01f",
   "metadata": {},
   "source": [
    "$$ |\\mathbf{A}| = -1 \\ne 0$$"
   ]
  },
  {
   "cell_type": "markdown",
   "id": "d7bbed95-5510-41f7-8c1d-17bbcb46f39a",
   "metadata": {},
   "source": [
    "Thus, $\\mathbf{A}$ is invertible and therefore there is a unique solution to the system of equations and therefore the line intersects $\\mathcal{P}$ at a point, as opposed to both being parallel to one another or the line resting on the plane."
   ]
  },
  {
   "cell_type": "markdown",
   "id": "9708ee32-adf4-4ef0-8ae9-0162487597b4",
   "metadata": {},
   "source": [
    "Now, let $\\mathbf{p}$ and $\\mathbf{b}$ be defined as the column vectors:   \n",
    "\n",
    "$$ \\mathbf{p} := (x,y,z,t)^T \\quad\\quad\\text{and}\\quad\\quad \\mathbf{b}:=(4,0,2,0)^T$$"
   ]
  },
  {
   "cell_type": "markdown",
   "id": "bedecbfb-afa5-4157-9857-08b42206b4b4",
   "metadata": {},
   "source": [
    "It now follows that:  \n",
    "\n",
    "$$ \\mathbf{p} = \\mathbf{A}^{-1}\\mathbf{b}$$"
   ]
  },
  {
   "cell_type": "code",
   "execution_count": 4,
   "id": "e3eefd3d-3d7a-4a72-b988-954604d3a953",
   "metadata": {
    "tags": []
   },
   "outputs": [
    {
     "data": {
      "text/latex": [
       "$\\displaystyle \\left[\\begin{matrix}2\\\\8\\\\2\\\\2\\end{matrix}\\right]$"
      ],
      "text/plain": [
       "Matrix([\n",
       "[2],\n",
       "[8],\n",
       "[2],\n",
       "[2]])"
      ]
     },
     "execution_count": 4,
     "metadata": {},
     "output_type": "execute_result"
    }
   ],
   "source": [
    "b = sp.Matrix([4,0,2,0])\n",
    "A.inv()*b"
   ]
  },
  {
   "cell_type": "markdown",
   "id": "4bd5bc9d-a73c-4fa5-bdd0-419242f57ab5",
   "metadata": {},
   "source": [
    "b)  Find all points of intersection between $\\mathcal{P}$ and the line given by:  \n",
    "\n",
    "\\begin{equation}\\tag{1.5}\n",
    "\t\\text{a: }\\;x=t+1\\quad\\quad\\text{b: }\\;y=2t+4\\quad\\quad\\text{c: }\\;z=t\n",
    "\\end{equation}"
   ]
  },
  {
   "cell_type": "code",
   "execution_count": 5,
   "id": "ffcd9df7-d42c-4dbf-ab01-8a967903be06",
   "metadata": {
    "tags": []
   },
   "outputs": [
    {
     "data": {
      "text/latex": [
       "$\\displaystyle \\left[\\begin{matrix}2 & 1 & -4 & 0\\\\1 & 0 & 0 & -1\\\\0 & 1 & 0 & -2\\\\0 & 0 & 1 & -1\\end{matrix}\\right]$"
      ],
      "text/plain": [
       "Matrix([\n",
       "[2, 1, -4,  0],\n",
       "[1, 0,  0, -1],\n",
       "[0, 1,  0, -2],\n",
       "[0, 0,  1, -1]])"
      ]
     },
     "execution_count": 5,
     "metadata": {},
     "output_type": "execute_result"
    }
   ],
   "source": [
    "A[2,3] = -2; A"
   ]
  },
  {
   "cell_type": "code",
   "execution_count": 6,
   "id": "8f02ca4e-7d48-4197-9f2e-7087d5daafc8",
   "metadata": {
    "tags": []
   },
   "outputs": [
    {
     "data": {
      "text/latex": [
       "$\\displaystyle 0$"
      ],
      "text/plain": [
       "0"
      ]
     },
     "execution_count": 6,
     "metadata": {},
     "output_type": "execute_result"
    }
   ],
   "source": [
    "A.det()"
   ]
  },
  {
   "cell_type": "markdown",
   "id": "5166828d-1a50-4d24-8d7a-ca64e362c083",
   "metadata": {},
   "source": [
    "Therefore there are no points of intersection therefore the line is parallel to the plane.  Now, what is the distance between line given by the parametric equations (1.5), henceforth '$\\mathcal{L}$', and $\\mathcal{P}$?  First, let $P(t):=(t+1, 2t+ 4, t)$ and $P_0:=P(0)=(1, 4, 0)$.  Next, let $\\mathbf{v}$ denote the top or first row vector of $\\mathbf{A}$.  It now follows that $\\mathbf{v}$ is normal to $\\mathcal{P}$ and thus normal to $\\mathcal{L}$.  "
   ]
  },
  {
   "cell_type": "markdown",
   "id": "a0ed02ca-ba32-49ae-8383-34f43360c2f8",
   "metadata": {},
   "source": [
    "$$ \\mathbf{v} = \\langle 2,1,-4\\rangle \\quad\\quad\\text{and}\\quad\\quad\\mathbf{v}\\perp \\mathcal{P}\\parallel\\mathcal{L}\\;\\implies\\;\\mathbf{v}\\perp\\mathcal{L}$$"
   ]
  },
  {
   "cell_type": "markdown",
   "id": "7f2fad93-4c57-410b-8479-c21d17131d31",
   "metadata": {},
   "source": [
    "Now, let $P:=P(x,y,z):=(x,y,z)$ and $\\mathbf{P}$ be defined as:  \n",
    "\n",
    "$$ \\mathbf{P}:=\\overrightarrow{P_0P} = \\langle x-1, y-4, z\\rangle$$"
   ]
  },
  {
   "cell_type": "markdown",
   "id": "c3fc34df-faf9-4c84-b558-9d37c193aa2c",
   "metadata": {},
   "source": [
    "Assuming $\\mathbf{P}\\parallel\\mathbf{v}$,  \n",
    "\n",
    "$$ \\mathbf{P} = t\\mathbf{v}\\quad\\quad\\text{where }t\\in\\mathbb{R}$$"
   ]
  },
  {
   "cell_type": "markdown",
   "id": "a4e04d7a-79e7-4d71-b7c4-9fa0767ac409",
   "metadata": {},
   "source": [
    "Thus,  \n",
    "\n",
    "$$ x = 2t + 1\\quad\\quad y = t+4\\quad\\quad z = -4t$$"
   ]
  },
  {
   "cell_type": "markdown",
   "id": "c2dd6edc-5c27-4f5c-a547-dfc5db5d2156",
   "metadata": {},
   "source": [
    "Let $P_1$ denote the point of intersection between the line $\\mathcal{V}$ given by the above three parametric equations and $\\mathcal{P}$.  Via equations (1.1) and said parametric equations,  \n",
    "\n",
    "$$ 4t + 2 + t + 4 + 16t = 4 \\quad\\implies\\quad 21t = -2 \\quad\\implies$$"
   ]
  },
  {
   "cell_type": "markdown",
   "id": "0503e921-782f-403d-97cd-d37351ec0b8f",
   "metadata": {},
   "source": [
    "$$ t = -\\frac{2}{21}$$"
   ]
  },
  {
   "cell_type": "markdown",
   "id": "5473c414-1910-4c26-b66e-6316d5bbe423",
   "metadata": {},
   "source": [
    "Via the above equation and the aforementioned parametric equations,  \n",
    "\n",
    "$$ x = 1-\\frac{4}{21} = \\frac{17}{21} \\quad\\quad y = 4-\\frac{2}{21} = \\frac{82}{21} \\quad\\quad z=\\frac{8}{21}$$"
   ]
  },
  {
   "cell_type": "markdown",
   "id": "dc704262-dd22-42f7-99c3-ac8cf9a8c5f4",
   "metadata": {},
   "source": [
    "Thus,  \n",
    "\n",
    "$$ P_1 = \\frac{1}{21}(17, 82, 8)$$"
   ]
  },
  {
   "cell_type": "markdown",
   "id": "2ab35af7-88a1-4017-bf3f-fbf9aa354a22",
   "metadata": {},
   "source": [
    "Finally, the distance between $\\mathcal{L}$ and $\\mathcal{P}$ is given by:  \n",
    "\n",
    "$$ \\overline{P_0P_1} = \\frac{1}{21}\\,\\sqrt{(17-21)^2 + (82-21\\cdot4)^2 + (8)^2}$$"
   ]
  },
  {
   "cell_type": "markdown",
   "id": "f15c367b-7eb4-4e00-af09-a8fd1a5208b7",
   "metadata": {},
   "source": [
    "$$ = \\frac{1}{21}\\,\\sqrt{16 + 4 + 64} = \\frac{1}{21}\\,\\sqrt{84} = \\frac{2}{\\sqrt{21}}$$"
   ]
  },
  {
   "cell_type": "code",
   "execution_count": 7,
   "id": "fde34d99-0021-4556-a4f1-c7e54b4db38d",
   "metadata": {
    "tags": []
   },
   "outputs": [
    {
     "data": {
      "text/latex": [
       "$\\displaystyle 2 x + y - 4 z - 4$"
      ],
      "text/plain": [
       "2*x + y - 4*z - 4"
      ]
     },
     "execution_count": 7,
     "metadata": {},
     "output_type": "execute_result"
    }
   ],
   "source": [
    "eq = 2*x + y - 4*z - 4; eq"
   ]
  },
  {
   "cell_type": "code",
   "execution_count": 8,
   "id": "1859a6f3-9d09-46ab-a3bf-84e4de1e7188",
   "metadata": {
    "tags": []
   },
   "outputs": [],
   "source": [
    "b = sp.Matrix([4,1,4,0])"
   ]
  },
  {
   "cell_type": "markdown",
   "id": "14245a7c-4a61-422b-916e-d23948442faa",
   "metadata": {},
   "source": [
    "c)  Find all points of intersection between $\\mathcal{P}$ and the line given by:  \n",
    "\n",
    "\\begin{equation}\\tag{1.6}\n",
    "    \\text{a: }\\;x=t\\quad\\quad\\text{b: }\\;y=4+2t\\quad\\quad\\text{c: }\\;z=t\n",
    "\\end{equation}"
   ]
  },
  {
   "cell_type": "code",
   "execution_count": 9,
   "id": "aa1a5e6a-9130-4438-a29e-92a08ce7c239",
   "metadata": {
    "tags": []
   },
   "outputs": [
    {
     "data": {
      "text/latex": [
       "$\\displaystyle \\left[\\begin{matrix}2 & 1 & -4 & 0\\\\1 & 0 & 0 & -1\\\\0 & 1 & 0 & -2\\\\0 & 0 & 1 & -1\\end{matrix}\\right]$"
      ],
      "text/plain": [
       "Matrix([\n",
       "[2, 1, -4,  0],\n",
       "[1, 0,  0, -1],\n",
       "[0, 1,  0, -2],\n",
       "[0, 0,  1, -1]])"
      ]
     },
     "execution_count": 9,
     "metadata": {},
     "output_type": "execute_result"
    }
   ],
   "source": [
    "A[2,3] = -2; A"
   ]
  },
  {
   "cell_type": "code",
   "execution_count": 10,
   "id": "c904a35d-cc9b-4be5-8baf-7a1a8d32c9bd",
   "metadata": {
    "tags": []
   },
   "outputs": [
    {
     "data": {
      "text/latex": [
       "$\\displaystyle 0$"
      ],
      "text/plain": [
       "0"
      ]
     },
     "execution_count": 10,
     "metadata": {},
     "output_type": "execute_result"
    }
   ],
   "source": [
    "A.det()"
   ]
  },
  {
   "cell_type": "markdown",
   "id": "488b23f7-2a4e-4814-b2c1-303ac25d64c9",
   "metadata": {},
   "source": [
    "Therefore there are no points of intersection therefore the line given by the parametric equations, henceforth '$\\mathcal{L}$', and $\\mathcal{P}$ are parallel.  Now, what is the distance between $\\mathcal{L}$ and $\\mathcal{P}$?  Via equations (1.6),  \n",
    "\n",
    "$$ y=2x + 4 \\quad\\quad\\text{and}\\quad\\quad z=x $$"
   ]
  },
  {
   "cell_type": "markdown",
   "id": "2ecb2624-64fa-471a-a15f-1afa1fa8750e",
   "metadata": {},
   "source": [
    "Via the above equations and equation (1.1) and substitution,  \n",
    "\n",
    "$$ 2x + 2x+4 - 4x = 4$$\n",
    "\n",
    "Thus, $\\mathcal{L}$ rests on $\\mathcal{P}$ and therefore the distance is equal to zero."
   ]
  },
  {
   "cell_type": "code",
   "execution_count": 13,
   "id": "407394b9-c5b3-437e-a430-7d06dde1f6fe",
   "metadata": {
    "tags": []
   },
   "outputs": [
    {
     "data": {
      "text/latex": [
       "$\\displaystyle 2 x + y - 4 z - 4$"
      ],
      "text/plain": [
       "2*x + y - 4*z - 4"
      ]
     },
     "execution_count": 13,
     "metadata": {},
     "output_type": "execute_result"
    }
   ],
   "source": [
    "eq"
   ]
  },
  {
   "cell_type": "markdown",
   "id": "7bcb9deb-36ad-45f6-a476-e9f74f5fff07",
   "metadata": {},
   "source": [
    "## Problems\n",
    "\n",
    "#### Problem 1\n",
    "\n",
    "1. Find the intersection of the line through the points $(1, 3, 0)$ and $(1, 2, 4)$ with the plane through the points $(0, 0, 0)$,  $(1, 1, 0)$ and $(0, 1, 1)$."
   ]
  },
  {
   "cell_type": "markdown",
   "id": "b73ca29f-790c-4617-aff0-7a923a8dfaa1",
   "metadata": {},
   "source": [
    "$$ \\langle x,y,z\\rangle = t\\langle 0, -1, 4\\rangle + \\langle 1, 3, 0\\rangle $$"
   ]
  },
  {
   "cell_type": "markdown",
   "id": "26f455c3-82b0-40e7-a77a-4404222fe4bd",
   "metadata": {},
   "source": [
    "Therefore, the line $\\mathcal{L}$ is given by:  \n",
    "\n",
    "\\begin{equation}\\tag{1}\n",
    "    x = 1 \\quad\\quad y = 3-t \\quad\\quad z = 4t\n",
    "\\end{equation}"
   ]
  },
  {
   "cell_type": "markdown",
   "id": "0e22b3f4-a502-402d-bd43-bbf92766d3b1",
   "metadata": {},
   "source": [
    "The equation of the plane is given by:  \n",
    "\n",
    "$$ \\begin{pmatrix}x & y & z \\\\ 1 & 1 & 0 \\\\ 0 & 1 & 1\\end{pmatrix} = 0$$"
   ]
  },
  {
   "cell_type": "markdown",
   "id": "9269e0f4-8158-40df-ae87-27fe16c6fcc8",
   "metadata": {},
   "source": [
    "Thus,  \n",
    "\n",
    "\\begin{equation}\\tag{2}\n",
    "    x - y + z = 0 \n",
    "\\end{equation}"
   ]
  },
  {
   "cell_type": "markdown",
   "id": "bc02b7e4-7609-418a-ae77-69b6c5f9d838",
   "metadata": {},
   "source": [
    "Via equations (1) and (2),  \n",
    "\n",
    "$$ 1 - 3 + t + 4t = 0  \\therefore$$"
   ]
  },
  {
   "cell_type": "markdown",
   "id": "a84d5b86-cfde-464d-b05a-81296b47c10e",
   "metadata": {},
   "source": [
    "$$ t = \\frac{2}{5} $$"
   ]
  },
  {
   "cell_type": "markdown",
   "id": "0d39c1d7-0044-4545-9ac0-1e48f9c80954",
   "metadata": {},
   "source": [
    "Finally, the point of intersection is, via the above equation and equations (1),  \n",
    "\n",
    "$$ \\left(1, \\frac{13}{5}, \\frac{8}{5}\\right)$$"
   ]
  }
 ],
 "metadata": {
  "kernelspec": {
   "display_name": "Python 3 (ipykernel)",
   "language": "python",
   "name": "python3"
  },
  "language_info": {
   "codemirror_mode": {
    "name": "ipython",
    "version": 3
   },
   "file_extension": ".py",
   "mimetype": "text/x-python",
   "name": "python",
   "nbconvert_exporter": "python",
   "pygments_lexer": "ipython3",
   "version": "3.10.12"
  }
 },
 "nbformat": 4,
 "nbformat_minor": 5
}
