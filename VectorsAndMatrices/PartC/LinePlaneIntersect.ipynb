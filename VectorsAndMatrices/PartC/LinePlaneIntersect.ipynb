{
 "cells": [
  {
   "cell_type": "markdown",
   "id": "9a0ba775-ed18-44ab-9dfe-03f2bceaa6a9",
   "metadata": {},
   "source": [
    "## Examples\n",
    "\n",
    "#### Example 1\n",
    "1. Consider the plane $\\mathcal{P}$ given by:  \n",
    "\n",
    "\\begin{equation}\\tag{1.1}\n",
    "\t2x+y+4z=4\n",
    "\\end{equation}"
   ]
  },
  {
   "cell_type": "markdown",
   "id": "096287c4-57e5-4ca6-ad3e-ffc7de913c7f",
   "metadata": {},
   "source": [
    "a)  Find all points of intersection between $\\mathcal{P}$ and the line given by:  \n",
    "\n",
    "\\begin{equation}\\tag{1.2}\n",
    "\t\\text{a: }\\;x=t\\quad\\quad\\text{b: }\\;y=2+3t\\quad\\quad\\text{c: }\\;z=t\n",
    "\\end{equation}"
   ]
  },
  {
   "cell_type": "markdown",
   "id": "6ef44055-f31e-4e48-8583-1e45c4a5ec26",
   "metadata": {},
   "source": [
    "Equation (1.2b) can be rewritten as:  \n",
    "\n",
    "$$ t = \\frac{y-2}{3}$$"
   ]
  },
  {
   "cell_type": "markdown",
   "id": "3eb7a489-1848-4e3c-9364-95a15bda4e14",
   "metadata": {},
   "source": [
    "Via equations (1.2b,c) and (1.1),  \n",
    "\n",
    "$$ 2x + 2 + 7t = 4\\quad\\implies 2x = 2 - 7t \\quad\\implies$$"
   ]
  },
  {
   "cell_type": "markdown",
   "id": "9dbe069e-78c0-4cc5-a400-26ddf16d2b7a",
   "metadata": {},
   "source": [
    "\\begin{equation}\\tag{1.3}\n",
    "    x = 1-\\frac{7}{2}t\n",
    "\\end{equation}"
   ]
  },
  {
   "cell_type": "markdown",
   "id": "767f0a95-2523-4b70-be34-713f6360b534",
   "metadata": {},
   "source": [
    "Via the above equation and equation and equation (1.2a),  \n",
    "\n",
    "$$ 1 = \\frac{9}{2}\\,t \\quad\\implies$$"
   ]
  },
  {
   "cell_type": "markdown",
   "id": "b2036887-d000-448b-954d-e84ffe5a8bbc",
   "metadata": {},
   "source": [
    "\\begin{equation}\\tag{1.4}\n",
    "    t = \\frac{2}{9}\n",
    "\\end{equation}"
   ]
  },
  {
   "cell_type": "markdown",
   "id": "e0f8c1e5-7c6b-4211-899c-4a55758e86de",
   "metadata": {},
   "source": [
    "Finally, via the above equation and equations (1.2),  \n",
    "\n",
    "$$ x = \\frac{2}{9}\\quad\\quad y = 2 + \\frac{2}{3}\\quad\\quad z = \\frac{2}{9}$$"
   ]
  },
  {
   "cell_type": "markdown",
   "id": "1d0cc233-ce7c-4612-b97f-49a92c866d2c",
   "metadata": {},
   "source": [
    "The $4$ x $4$ system of equations formed by equation (1.1) and (1.2) in matrix form is:  \n",
    "\n",
    "$$ \\begin{pmatrix}2 & 1 & 4 & 0\\\\ 1 & 0 & 0 & -1 \\\\ 0 & 1 & 0 & -3 \\\\ 0 & 0 & 1 & -1\\end{pmatrix}\\cdot\\begin{pmatrix}x\\\\y\\\\z\\\\t\\end{pmatrix}=\\begin{pmatrix}4\\\\0\\\\2\\\\0\\end{pmatrix}$$"
   ]
  },
  {
   "cell_type": "markdown",
   "id": "4e79cb77-9eac-4469-8f86-1a1ca6b2476e",
   "metadata": {},
   "source": [
    "Now, is the coefficent matrix, henceforth $\\mathbf{A}$, invertible?  \n",
    "\n",
    "$$ |\\mathbf{A}| = $$"
   ]
  },
  {
   "cell_type": "code",
   "execution_count": 1,
   "id": "0b7d4d38-750b-4f1a-a0dc-bdb6d4037511",
   "metadata": {
    "tags": []
   },
   "outputs": [],
   "source": [
    "import sympy as sp"
   ]
  },
  {
   "cell_type": "code",
   "execution_count": 2,
   "id": "4ea0a1c2-8e14-4fb2-90b7-e7e842191855",
   "metadata": {
    "tags": []
   },
   "outputs": [
    {
     "data": {
      "text/latex": [
       "$\\displaystyle \\left[\\begin{matrix}2 & 1 & 4 & 0\\\\1 & 0 & 0 & -1\\\\0 & 1 & 0 & -3\\\\0 & 0 & 1 & -1\\end{matrix}\\right]$"
      ],
      "text/plain": [
       "Matrix([\n",
       "[2, 1, 4,  0],\n",
       "[1, 0, 0, -1],\n",
       "[0, 1, 0, -3],\n",
       "[0, 0, 1, -1]])"
      ]
     },
     "execution_count": 2,
     "metadata": {},
     "output_type": "execute_result"
    }
   ],
   "source": [
    "x, y, z, t = sp.symbols('x y z t')\n",
    "A = sp.Matrix([[2,1,4,0],[1,0,0,-1],[0,1,0,-3],[0,0,1,-1]]); A"
   ]
  },
  {
   "cell_type": "code",
   "execution_count": 3,
   "id": "bb36b36f-d9fd-457c-98dd-3afcede8f0f1",
   "metadata": {
    "tags": []
   },
   "outputs": [
    {
     "data": {
      "text/latex": [
       "$\\displaystyle -9$"
      ],
      "text/plain": [
       "-9"
      ]
     },
     "execution_count": 3,
     "metadata": {},
     "output_type": "execute_result"
    }
   ],
   "source": [
    "A.det()"
   ]
  },
  {
   "cell_type": "markdown",
   "id": "83a94b46-bead-4c2f-8cc7-01663704a01f",
   "metadata": {},
   "source": [
    "$$ |\\mathbf{A}| = -9 \\ne 0$$"
   ]
  },
  {
   "cell_type": "markdown",
   "id": "d7bbed95-5510-41f7-8c1d-17bbcb46f39a",
   "metadata": {},
   "source": [
    "Thus, $\\mathbf{A}$ is invertible and therefore there is a unique solution to the system of equations and therefore the line intersects $\\mathcal{P}$ at a point, as opposed to both being parallel to one another or the line resting on the plane."
   ]
  },
  {
   "cell_type": "markdown",
   "id": "9708ee32-adf4-4ef0-8ae9-0162487597b4",
   "metadata": {},
   "source": [
    "Now, let $\\mathbf{p}$ and $\\mathbf{b}$ be defined as the column vectors:   \n",
    "\n",
    "$$ \\mathbf{p} := (x,y,z,t)^T \\quad\\quad\\text{and}\\quad\\quad \\mathbf{b}:=(4,0,2,0)^T$$"
   ]
  },
  {
   "cell_type": "markdown",
   "id": "bedecbfb-afa5-4157-9857-08b42206b4b4",
   "metadata": {},
   "source": [
    "It now follows that:  \n",
    "\n",
    "$$ \\mathbf{p} = \\mathbf{A}^{-1}\\mathbf{b}$$"
   ]
  },
  {
   "cell_type": "code",
   "execution_count": 5,
   "id": "e3eefd3d-3d7a-4a72-b988-954604d3a953",
   "metadata": {
    "tags": []
   },
   "outputs": [
    {
     "data": {
      "text/latex": [
       "$\\displaystyle \\left[\\begin{matrix}\\frac{2}{9}\\\\\\frac{8}{3}\\\\\\frac{2}{9}\\\\\\frac{2}{9}\\end{matrix}\\right]$"
      ],
      "text/plain": [
       "Matrix([\n",
       "[2/9],\n",
       "[8/3],\n",
       "[2/9],\n",
       "[2/9]])"
      ]
     },
     "execution_count": 5,
     "metadata": {},
     "output_type": "execute_result"
    }
   ],
   "source": [
    "b = sp.Matrix([4,0,2,0])\n",
    "A.inv()*b"
   ]
  },
  {
   "cell_type": "markdown",
   "id": "4bd5bc9d-a73c-4fa5-bdd0-419242f57ab5",
   "metadata": {},
   "source": [
    "b)  Find all points of intersection between $\\mathcal{P}$ and the line given by:  \n",
    "\n",
    "\\begin{equation}\\tag{1.3}\n",
    "\t\\text{a: }\\;x=t+1\\quad\\quad\\text{b: }\\;y=2t+4\\quad\\quad\\text{c: }\\;z=t\n",
    "\\end{equation}"
   ]
  },
  {
   "cell_type": "code",
   "execution_count": 13,
   "id": "ffcd9df7-d42c-4dbf-ab01-8a967903be06",
   "metadata": {
    "tags": []
   },
   "outputs": [
    {
     "data": {
      "text/latex": [
       "$\\displaystyle \\left[\\begin{matrix}2 & 1 & 4 & 0\\\\1 & 0 & 0 & -1\\\\0 & 1 & 0 & -2\\\\0 & 0 & 1 & -1\\end{matrix}\\right]$"
      ],
      "text/plain": [
       "Matrix([\n",
       "[2, 1, 4,  0],\n",
       "[1, 0, 0, -1],\n",
       "[0, 1, 0, -2],\n",
       "[0, 0, 1, -1]])"
      ]
     },
     "execution_count": 13,
     "metadata": {},
     "output_type": "execute_result"
    }
   ],
   "source": [
    "A[2,3] = -2; A"
   ]
  },
  {
   "cell_type": "code",
   "execution_count": 14,
   "id": "8f02ca4e-7d48-4197-9f2e-7087d5daafc8",
   "metadata": {
    "tags": []
   },
   "outputs": [
    {
     "data": {
      "text/latex": [
       "$\\displaystyle -8$"
      ],
      "text/plain": [
       "-8"
      ]
     },
     "execution_count": 14,
     "metadata": {},
     "output_type": "execute_result"
    }
   ],
   "source": [
    "A.det()"
   ]
  },
  {
   "cell_type": "code",
   "execution_count": 15,
   "id": "1859a6f3-9d09-46ab-a3bf-84e4de1e7188",
   "metadata": {
    "tags": []
   },
   "outputs": [
    {
     "data": {
      "text/latex": [
       "$\\displaystyle \\left[\\begin{matrix}\\frac{3}{4}\\\\\\frac{7}{2}\\\\- \\frac{1}{4}\\\\- \\frac{1}{4}\\end{matrix}\\right]$"
      ],
      "text/plain": [
       "Matrix([\n",
       "[ 3/4],\n",
       "[ 7/2],\n",
       "[-1/4],\n",
       "[-1/4]])"
      ]
     },
     "execution_count": 15,
     "metadata": {},
     "output_type": "execute_result"
    }
   ],
   "source": [
    "b = sp.Matrix([4,1,4,0])\n",
    "A.inv()*b"
   ]
  },
  {
   "cell_type": "markdown",
   "id": "14245a7c-4a61-422b-916e-d23948442faa",
   "metadata": {},
   "source": [
    "c)  Find all points of intersection between $\\mathcal{P}$ and the line given by:  \n",
    "\n",
    "\\begin{equation}\\tag{1.2}\n",
    "\t\\text{a: }\\;x=t\\quad\\quad\\text{b: }\\;y=4+2t\\quad\\quad\\text{c: }\\;z=t\n",
    "\\end{equation}"
   ]
  },
  {
   "cell_type": "code",
   "execution_count": 19,
   "id": "aa1a5e6a-9130-4438-a29e-92a08ce7c239",
   "metadata": {
    "tags": []
   },
   "outputs": [
    {
     "data": {
      "text/latex": [
       "$\\displaystyle \\left[\\begin{matrix}2 & 1 & 4 & 0\\\\1 & 0 & 0 & -1\\\\0 & 1 & 0 & -2\\\\0 & 0 & 1 & -1\\end{matrix}\\right]$"
      ],
      "text/plain": [
       "Matrix([\n",
       "[2, 1, 4,  0],\n",
       "[1, 0, 0, -1],\n",
       "[0, 1, 0, -2],\n",
       "[0, 0, 1, -1]])"
      ]
     },
     "execution_count": 19,
     "metadata": {},
     "output_type": "execute_result"
    }
   ],
   "source": [
    "A[2,3] = -2; A"
   ]
  },
  {
   "cell_type": "code",
   "execution_count": 20,
   "id": "c904a35d-cc9b-4be5-8baf-7a1a8d32c9bd",
   "metadata": {
    "tags": []
   },
   "outputs": [
    {
     "data": {
      "text/latex": [
       "$\\displaystyle -8$"
      ],
      "text/plain": [
       "-8"
      ]
     },
     "execution_count": 20,
     "metadata": {},
     "output_type": "execute_result"
    }
   ],
   "source": [
    "A.det()"
   ]
  },
  {
   "cell_type": "code",
   "execution_count": 21,
   "id": "dd11eb93-e2af-44c6-90d2-0954cbabafb1",
   "metadata": {
    "tags": []
   },
   "outputs": [
    {
     "data": {
      "text/latex": [
       "$\\displaystyle \\left[\\begin{matrix}0\\\\4\\\\0\\\\0\\end{matrix}\\right]$"
      ],
      "text/plain": [
       "Matrix([\n",
       "[0],\n",
       "[4],\n",
       "[0],\n",
       "[0]])"
      ]
     },
     "execution_count": 21,
     "metadata": {},
     "output_type": "execute_result"
    }
   ],
   "source": [
    "b = sp.Matrix([4,0,4,0])\n",
    "A.inv()*b"
   ]
  }
 ],
 "metadata": {
  "kernelspec": {
   "display_name": "Python 3 (ipykernel)",
   "language": "python",
   "name": "python3"
  },
  "language_info": {
   "codemirror_mode": {
    "name": "ipython",
    "version": 3
   },
   "file_extension": ".py",
   "mimetype": "text/x-python",
   "name": "python",
   "nbconvert_exporter": "python",
   "pygments_lexer": "ipython3",
   "version": "3.10.12"
  }
 },
 "nbformat": 4,
 "nbformat_minor": 5
}
