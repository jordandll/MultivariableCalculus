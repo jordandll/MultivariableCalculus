{
 "cells": [
  {
   "cell_type": "markdown",
   "id": "88affb77-f1d5-4a2e-8a56-3f8523f3ad73",
   "metadata": {},
   "source": [
    "# Problem Set 3\n",
    "\n",
    "## Part 1  \n",
    "\n",
    "### Parametric Equations for Lines and Curves"
   ]
  },
  {
   "cell_type": "markdown",
   "id": "8fbf64dd-1880-49c6-8c93-4aee6a02ed24",
   "metadata": {},
   "source": [
    "#### $\\S$ 1E : 7\n",
    "\n",
    "Suppose there exists two skew (non-intersecting) lines, denoted as '$L_1$' and '$L_2$', resting in a 3D vector space.  The goal is to find the distance between these lines.  To do this, first suppose there exists two points resting on $L_1$, denoted as $A$ and $B$, and two point resting on $L_2$, denoted as $P$ and $Q$, such that:  \n",
    "\n",
    "$$ \\overline{AP}\\perp\\overline{AB} \\quad\\quad\\text{and}\\quad\\quad \\overline{AP}\\perp\\overline{PQ}$$"
   ]
  },
  {
   "cell_type": "markdown",
   "id": "e8d0fcaf-ba6d-4e57-8d89-18bbdfa864a2",
   "metadata": {},
   "source": [
    "Under the above conditions, $|\\overline{AP}|$ is equal to the distance between the two skew lines and:  \n",
    "\n",
    "$$ \\overrightarrow{AB}\\cdot\\overrightarrow{AP} = \\big(\\mathbf{B}-\\mathbf{A}\\big)\\cdot\\big(\\mathbf{P}-\\mathbf{A}\\big) = 0 \\quad\\quad \\text{and}\\quad\\quad \\overrightarrow{AP}\\cdot\\overrightarrow{PQ} = \\big(\\mathbf{P}-\\mathbf{A}\\big)\\cdot\\big(\\mathbf{Q}-\\mathbf{P}\\big)=0$$"
   ]
  },
  {
   "cell_type": "markdown",
   "id": "a97870f4-a3cb-4441-a8ab-a409f0b5e9ab",
   "metadata": {},
   "source": [
    "Thus,  \n",
    "\n",
    "$$ \\mathbf{B}\\cdot\\mathbf{P} - \\mathbf{A}\\cdot\\mathbf{B} - \\mathbf{A}\\cdot\\mathbf{P} + |\\mathbf{A}|^2 = 0$$"
   ]
  },
  {
   "cell_type": "markdown",
   "id": "95a24492-2e75-44d8-9953-5fc1c8873e7b",
   "metadata": {},
   "source": [
    "and,  \n",
    "\n",
    "$$ \\mathbf{P}\\cdot\\mathbf{Q} - |\\mathbf{P}|^2 - \\mathbf{A}\\cdot\\mathbf{Q} + \\mathbf{A}\\cdot\\mathbf{P} = 0$$"
   ]
  },
  {
   "cell_type": "markdown",
   "id": "879f9f9b-075f-441e-b928-29720eecf45d",
   "metadata": {},
   "source": [
    "We need to find:  \n",
    "\n",
    "$$ |\\overrightarrow{AP}| = |\\mathbf{P}-\\mathbf{A}| = \\sqrt{(p_x-a_x)^2 + (p_y-a_y)^2 + (p_z-a_z)^2}$$"
   ]
  },
  {
   "cell_type": "markdown",
   "id": "d0a992ad-f3e1-4b95-8528-7d3039763d34",
   "metadata": {},
   "source": [
    "Let $\\mathbf{C}$ be defined as:  \n",
    "\n",
    "$$ \\mathbf{C}:=\\mathbf{C}(t) := \\mathbf{A} + t\\overrightarrow{AB} = \\mathbf{A} + t\\big(\\mathbf{B}-\\mathbf{A}\\big)$$"
   ]
  },
  {
   "cell_type": "markdown",
   "id": "0a075f9a-df51-4455-9cee-5307b6dee895",
   "metadata": {},
   "source": [
    "The parametric equation that gives $L_1$ is given by the $x,y,z$ compliments of $\\mathbf{C}$ in terms of $t$.  \n",
    "\n",
    "$$ x = x(t) = a_x + t(b_x-a_x) \\quad\\quad y = y(t) = a_y + t(b_y-a_y) \\quad\\quad z=z(t) = a_z + t(b_z-a_z)$$"
   ]
  },
  {
   "cell_type": "markdown",
   "id": "40b71c36-5060-4538-b81a-43c1173cbe6e",
   "metadata": {},
   "source": [
    "Another way to put it is:  \n",
    "\n",
    "$$ x_i = x_i(t) = a_i + t(b_i - a_i) \\quad\\forall i\\in\\{1,2,3\\} \\quad\\quad\\text{where }x_1,x_2,x_3 = x,y,z$$\n",
    "\n",
    "Note that the $x$ $y$ or $z$ compliment of a vector denoted by a letter may be denoted by the small case version of said letter subscripted by a $1$, $2$, and $3$ respectively.  For example, $a_x=a_1$ and $b_z=b_3$.  "
   ]
  },
  {
   "cell_type": "markdown",
   "id": "028eec85-8414-4a4a-b614-7ae8f12988dd",
   "metadata": {},
   "source": [
    "Thus, assuming our line $L_1$ is given by the parametric equations:  \n",
    "\n",
    "$$ x_i = x_i(t) = K_it + a_i \\quad\\forall i\\in\\{1,2,3\\}$$"
   ]
  },
  {
   "cell_type": "markdown",
   "id": "3b417f36-7f71-4bed-9387-d96702d889e7",
   "metadata": {},
   "source": [
    "$$ K_i = b_i-a_i \\quad\\implies\\quad b_i = K_i + a_i \\quad\\forall i\\in\\{1,2,3\\}$$"
   ]
  }
 ],
 "metadata": {
  "kernelspec": {
   "display_name": "Python 3 (ipykernel)",
   "language": "python",
   "name": "python3"
  },
  "language_info": {
   "codemirror_mode": {
    "name": "ipython",
    "version": 3
   },
   "file_extension": ".py",
   "mimetype": "text/x-python",
   "name": "python",
   "nbconvert_exporter": "python",
   "pygments_lexer": "ipython3",
   "version": "3.10.12"
  }
 },
 "nbformat": 4,
 "nbformat_minor": 5
}
