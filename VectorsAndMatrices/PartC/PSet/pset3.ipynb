{
 "cells": [
  {
   "cell_type": "markdown",
   "id": "88affb77-f1d5-4a2e-8a56-3f8523f3ad73",
   "metadata": {},
   "source": [
    "# Problem Set 3\n",
    "\n",
    "## Part 1  \n",
    "\n",
    "### Parametric Equations for Lines and Curves"
   ]
  },
  {
   "cell_type": "markdown",
   "id": "d1343832-434b-472b-8f7b-b6bcdbf04874",
   "metadata": {},
   "source": [
    "#### $\\S$ 1E : 7\n",
    "\n",
    "Let $\\mathbf{C}$ be defined as:  \n",
    "\n",
    "$$ \\mathbf{C}:=\\mathbf{C}(t) := \\mathbf{A} + t\\overrightarrow{AB} = \\mathbf{A} + t\\big(\\mathbf{B}-\\mathbf{A}\\big)$$"
   ]
  },
  {
   "cell_type": "markdown",
   "id": "0a075f9a-df51-4455-9cee-5307b6dee895",
   "metadata": {},
   "source": [
    "where $\\mathbf{A}$ and $\\mathbf{B}$ are arbitrary constant vectors.  Now, suppose there exists a line $L_1$ that is parameterized by the $x,y,z$ compliments of $\\mathbf{C}$ in terms of $t$.  \n",
    "\n",
    "$$ x = x(t) = a_x + t(b_x-a_x) \\quad\\quad y = y(t) = a_y + t(b_y-a_y) \\quad\\quad z=z(t) = a_z + t(b_z-a_z)$$"
   ]
  },
  {
   "cell_type": "markdown",
   "id": "40b71c36-5060-4538-b81a-43c1173cbe6e",
   "metadata": {},
   "source": [
    "Another way to put it is:  \n",
    "\n",
    "$$ x_i = x_i(t) = a_i + t(b_i - a_i) \\quad\\forall i\\in\\{1,2,3\\} \\quad\\quad\\text{where }x_1,x_2,x_3 = x,y,z$$\n",
    "\n",
    "Note that the $x$ $y$ or $z$ compliment of a vector denoted by a letter may be denoted by the small case version of said letter subscripted by a $1$, $2$, and $3$ respectively.  For example, $a_x=a_1$ and $b_z=b_3$.  "
   ]
  },
  {
   "cell_type": "markdown",
   "id": "028eec85-8414-4a4a-b614-7ae8f12988dd",
   "metadata": {},
   "source": [
    "Thus, assuming our line $L_1$ is given by the parametric equations:  \n",
    "\n",
    "$$ x_i = x_i(t) = K_it + a_i \\quad\\forall i\\in\\{1,2,3\\}$$"
   ]
  },
  {
   "cell_type": "markdown",
   "id": "3b417f36-7f71-4bed-9387-d96702d889e7",
   "metadata": {},
   "source": [
    "$$ K_i = b_i-a_i \\quad\\implies\\quad b_i = K_i + a_i \\quad\\forall i\\in\\{1,2,3\\}$$"
   ]
  },
  {
   "cell_type": "markdown",
   "id": "b1cf635d-3454-4c01-8124-692ab306a91b",
   "metadata": {},
   "source": [
    "It may be worth noting that the heads or terminal points of the three vectors mentioned above rest on $L_1$."
   ]
  },
  {
   "cell_type": "markdown",
   "id": "2a0d7a28-b824-47e7-ae80-2069be0d0f51",
   "metadata": {},
   "source": [
    "Now, let $\\mathbf{R}$ be defined as:  \n",
    "\n",
    "$$ \\mathbf{R}:=\\mathbf{R}(t) := \\mathbf{P} + t\\overrightarrow{PQ} = \\mathbf{P} + t\\big(\\mathbf{Q}-\\mathbf{P}\\big)$$"
   ]
  },
  {
   "cell_type": "markdown",
   "id": "2ee59775-6f04-41e3-b36f-f54869225b7e",
   "metadata": {},
   "source": [
    "where $\\mathbf{P}$ and $\\mathbf{Q}$ are arbitrary constant vectors.  Suppose there exists a line $L_2$ that is parameterized by the $x,y,z$ compliments $\\mathbf{R}$.  It now follows that the parametric equations that give $L_2$ are:  \n",
    "\n",
    "$$ r_i = r_i(t) = J_it + p_i  \\quad\\text{where }J_i = q_i - p_i\\quad\\forall i\\in\\{1,2,3\\}$$"
   ]
  },
  {
   "cell_type": "markdown",
   "id": "4ff821d1-c764-4113-88b4-f3c68941e7af",
   "metadata": {},
   "source": [
    "Thus,  \n",
    "\n",
    "$$ q_i = J_i + p_i\\quad\\forall i\\in\\{1,2,3\\}$$"
   ]
  },
  {
   "cell_type": "markdown",
   "id": "84ca4ad8-3dbf-42b1-b5a4-14fc6e1624f5",
   "metadata": {},
   "source": [
    "Let $\\mathbf{D}$ be defined as:  \n",
    "\n",
    "$$ \\mathbf{D}:=\\overrightarrow{AB}\\times\\overrightarrow{PQ} = \\big(\\mathbf{B} - \\mathbf{A}\\big)\\times\\big(\\mathbf{Q}-\\mathbf{P}\\big)$$"
   ]
  },
  {
   "cell_type": "markdown",
   "id": "8873691f-1bfa-45a5-ace1-017f19ae611e",
   "metadata": {},
   "source": [
    "To find the distance between $L_1$ an $L_2$, we need to find $k$, $t_1$ and $t_2$ such that:  \n",
    "\n",
    "$$ \\mathbf{C}(t_1) + k\\mathbf{D} = \\mathbf{R}(t_2)$$"
   ]
  },
  {
   "cell_type": "markdown",
   "id": "8c5dab8e-9d7b-4933-a929-4cdcf641563d",
   "metadata": {},
   "source": [
    "\\begin{equation}\\tag{1}\n",
    "    \\mathbf{A} + t_1\\big(\\mathbf{B}-\\mathbf{A}\\big) + k\\mathbf{D} = \\mathbf{P} + t_2\\big(\\mathbf{Q}-\\mathbf{P}\\big)\n",
    "\\end{equation}"
   ]
  },
  {
   "cell_type": "markdown",
   "id": "609aa382-b2b1-409b-9d4e-7b44dad4bad8",
   "metadata": {},
   "source": [
    "Said distance is equal to $k|\\mathbf{D}|$."
   ]
  },
  {
   "cell_type": "markdown",
   "id": "866a8d25-af7f-43c8-8e5c-22ae90aacb74",
   "metadata": {},
   "source": [
    "Since $\\mathbf{A}$, $\\mathbf{B}$, $\\mathbf{P}$, and $\\mathbf{Q}$ are given by the parametric equations that give $L_1$ and $L_2$, we only need to find $t_1$, $t_2$, and $k$ to solve the equation.  Via Pythagorean's theorem,  \n",
    "\n",
    "$$ |\\overrightarrow{AC(t_1)}|^2 + k^2|\\mathbf{D}|^2 = |\\overrightarrow{AR(t_2)}|^2$$"
   ]
  },
  {
   "cell_type": "markdown",
   "id": "40cac9b8-ed6f-4a8b-96b0-30ae67983865",
   "metadata": {},
   "source": [
    "$$ \\big|t_1\\big(\\mathbf{B}-\\mathbf{A}\\big)\\big|^2 + k^2|\\mathbf{D}|^2 = |\\overrightarrow{AR(t_2)}\\big|^2$$"
   ]
  },
  {
   "cell_type": "markdown",
   "id": "b8036423-d5f3-4132-933a-d6c29894d021",
   "metadata": {},
   "source": [
    "$$ t_1^2\\big|\\mathbf{B}-\\mathbf{A}\\big|^2 = |\\overrightarrow{AR(t_2)}|^2 - k^2|\\mathbf{D}|^2$$"
   ]
  },
  {
   "cell_type": "markdown",
   "id": "c1c6c005-6098-4251-a9b2-1f87cf49439e",
   "metadata": {},
   "source": [
    "\\begin{equation}\\tag{2}\n",
    "    t_1 = \\frac{\\pm\\sqrt{|\\overrightarrow{AR(t_2)}|^2 - k^2|\\mathbf{D}|^2}}{\\big|\\mathbf{B}-\\mathbf{A}\\big|}\n",
    "\\end{equation}"
   ]
  },
  {
   "cell_type": "markdown",
   "id": "0f742e1f-ef3a-45c5-ad59-aac4b0891563",
   "metadata": {},
   "source": [
    "Via the above equation, equation (1) and substitution,  \n",
    "\n",
    "\\begin{equation}\\tag{3}\n",
    "    \\mathbf{A} \\pm\\mathrm{dir}\\,\\big(\\mathbf{B}-\\mathbf{A}\\big)\\sqrt{|\\overrightarrow{AR(t_2)}|^2 - k^2|\\mathbf{D}|^2} + k\\mathbf{D} = \\mathbf{P} + t_2\\big(\\mathbf{Q}-\\mathbf{P}\\big)\n",
    "\\end{equation}"
   ]
  },
  {
   "cell_type": "markdown",
   "id": "2966df2a-f489-4ee5-950d-0f5bcaaff516",
   "metadata": {},
   "source": [
    "$$ |\\overrightarrow{AR(t_2)}|^2 - k^2|\\mathbf{D}|^2 = \\big(\\mathbf{P} + t_2\\big(\\mathbf{Q}-\\mathbf{P}\\big) - k\\mathbf{D} - \\mathbf{A}\\big)^2$$"
   ]
  },
  {
   "cell_type": "markdown",
   "id": "34729e0b-fd83-458f-a328-e9a3ad0eb0a8",
   "metadata": {},
   "source": [
    "\\begin{equation}\\tag{3}\n",
    "    \\big|\\,\\mathbf{P} + t_2\\big(\\mathbf{Q}-\\mathbf{P}\\big) - \\mathbf{A}\\,\\big|^{\\,2} - k^2|\\mathbf{D}|^2 = \\big(\\mathbf{P} + t_2\\big(\\mathbf{Q}-\\mathbf{P}\\big) - k\\mathbf{D} - \\mathbf{A}\\big)^2\n",
    "\\end{equation}"
   ]
  },
  {
   "cell_type": "markdown",
   "id": "4b2c4219-5e43-4fde-a510-e6d2741f0701",
   "metadata": {},
   "source": [
    "Via Pythagorean's theorem,  \n",
    "\n",
    "\\begin{equation}\\tag{4}\n",
    "    |\\overrightarrow{PR(t_2)}|^2 + k^2|\\mathbf{D}|^2 = |\\overrightarrow{PC(t_1)}|^2\n",
    "\\end{equation}"
   ]
  },
  {
   "cell_type": "markdown",
   "id": "e6c88870-49e7-4473-ad4e-e3b4b867a6e2",
   "metadata": {},
   "source": [
    "$$ t_2^2|\\mathbf{Q}-\\mathbf{P}|^2 + k^2|\\mathbf{D}|^2 = \\big|\\mathbf{A} + t_1\\big(\\mathbf{B}-\\mathbf{A}\\big) - \\mathbf{P} \\big|^2$$"
   ]
  },
  {
   "cell_type": "markdown",
   "id": "9aa3c512-77bf-43c0-8fd8-66948f9bb4f1",
   "metadata": {},
   "source": [
    "Via the above equation and equation (2) and substitution,  \n",
    "\n",
    "\\begin{equation}\\tag{5}\n",
    "    t_2^2|\\mathbf{Q}-\\mathbf{P}|^2 + k^2|\\mathbf{D}|^2 = \\big|\\,\\mathbf{A} \\pm \\mathrm{dir}\\,\\big(\\mathbf{B}-\\mathbf{A}\\big)\\sqrt{|\\overrightarrow{AR(t_2)}|^2 - k^2|\\mathbf{D}|^2} - \\mathbf{P}\\,\\big|^{\\,2}\n",
    "\\end{equation}"
   ]
  },
  {
   "cell_type": "markdown",
   "id": "e2e6447b-e1f4-46ab-b12d-ddc4880a2dcf",
   "metadata": {},
   "source": [
    "Now, let's solve for $t_2$ in terms of $k$ using equation (3).  \n",
    "\n",
    "$$ \\big|\\,\\mathbf{P} + t_2\\big(\\mathbf{Q} - \\mathbf{P}\\big) - \\mathbf{A}\\,\\big|^{\\,2} = \\sum_{i=1}^3 \\big((p_i - a_i) + t_2(q_i - p_i) \\big)^2$$"
   ]
  },
  {
   "cell_type": "markdown",
   "id": "32cac99e-2fa5-493a-b77c-6f39f30ee565",
   "metadata": {},
   "source": [
    "\\begin{equation}\\tag{3a}\n",
    "    = \\sum_{i=1}^3 t_2^2(q_i-p_i)^2 + \\sum_{i=1}^3 2t_2(q_i-p_i)(p_i-a_i) + \\sum_{i=1}^3(p_i - a_i)^2\n",
    "\\end{equation}"
   ]
  },
  {
   "cell_type": "markdown",
   "id": "4a6a7149-4bed-4659-9a7a-fbfc0dd74564",
   "metadata": {},
   "source": [
    "$$ \\big(\\mathbf{P} + t_2\\big(\\mathbf{Q}-\\mathbf{P}\\big) - k\\mathbf{D} - \\mathbf{A}\\big)^2 = $$"
   ]
  },
  {
   "cell_type": "markdown",
   "id": "baf36f7d-2fd4-4e14-bf36-8e948a52925d",
   "metadata": {},
   "source": [
    "\\begin{equation}\\tag{3b}\n",
    "    \\big(\\mathbf{P} - k\\mathbf{D} - \\mathbf{A}\\big)^2 + 2t_2\\big(\\mathbf{Q}-\\mathbf{P}\\big)\\cdot\\big(\\mathbf{P}-k\\mathbf{D}-\\mathbf{A}\\big) + t_2^2\\big(\\mathbf{Q}-\\mathbf{P}\\big)^2\n",
    "\\end{equation}"
   ]
  },
  {
   "cell_type": "markdown",
   "id": "e0048400-fe86-47c8-ba63-3f74d8b1ec28",
   "metadata": {},
   "source": [
    "Let  \n",
    "\n",
    "$$ u:=\\sum_{i=1}^3(q_i-p_i)^2 \\quad\\quad v:=\\sum_{i=1}^3(q_i-p_i)(p_i-a_i) \\quad\\quad w:= \\sum_{i=1}^3(p_i-a_i)^2 $$"
   ]
  },
  {
   "cell_type": "markdown",
   "id": "64eea3cb-f1b7-4ff8-b7ef-443f488a1f57",
   "metadata": {},
   "source": [
    "and,  \n",
    "\n",
    "$$ U:=\\big(\\mathbf{Q}-\\mathbf{P}\\big)^2 \\quad\\quad V:= \\big(\\mathbf{Q}-\\mathbf{P}\\big)\\cdot\\big(\\mathbf{P} - k\\mathbf{D} - \\mathbf{A}\\big) \\quad\\quad W:= \\big(\\mathbf{P}- k\\mathbf{D} - \\mathbf{A}\\big)^2$$"
   ]
  },
  {
   "cell_type": "markdown",
   "id": "68549993-a0cb-45f2-b57e-dd699e243ba1",
   "metadata": {},
   "source": [
    "Via equations (3), (3a,b), and substitution,  \n",
    "\n",
    "$$ ut_2^2 + 2vt_2 + w - k^2|\\mathbf{D}|^2 = Ut_2^2 + 2Vt_2 + W$$"
   ]
  },
  {
   "cell_type": "markdown",
   "id": "21b7fea1-db15-47e4-965d-6be67bd4871d",
   "metadata": {},
   "source": [
    "\\begin{align*}\n",
    "    0 &= t_2^2(u-U) + 2t_2(v-V) + w - W - k^2|\\mathbf{D}|^2 \\\\ \n",
    "     &= 2t_2(v-V) + w - W - k^2|\\mathbf{D}|^2\n",
    "\\end{align*}"
   ]
  },
  {
   "cell_type": "markdown",
   "id": "ab83a8b7-6e15-42c1-957d-8128f929ec0b",
   "metadata": {},
   "source": [
    "\\begin{equation}\\tag{6}\n",
    "    t_2 = \\frac{W + k^2|\\mathbf{D}|^2 - w}{2(v-V)}\n",
    "\\end{equation}"
   ]
  },
  {
   "cell_type": "markdown",
   "id": "ed0d14ac-ab65-4525-b4d4-48f05fe3fe5f",
   "metadata": {},
   "source": [
    "$$ W = |\\mathbf{P}|^2 + k^2|\\mathbf{D}|^2 + |\\mathbf{A}|^2 - 2k\\mathbf{P}\\cdot\\mathbf{D} - 2\\mathbf{P}\\cdot\\mathbf{A} + 2k\\mathbf{D}\\cdot\\mathbf{A}$$"
   ]
  },
  {
   "cell_type": "markdown",
   "id": "4eb4edcf-be94-48b5-a8c5-174cfd1d4333",
   "metadata": {},
   "source": [
    "$$ = \\sum_{i=1}^3 p_i^2 + k^2|\\mathbf{D}|^2 + \\sum_{i=1}^3a_i - 2k\\sum_{i=1}^3 p_id_i - 2\\sum_{i=1}^3 p_ia_i + 2k\\sum_{i=1}^3 a_id_i$$"
   ]
  },
  {
   "cell_type": "markdown",
   "id": "9d2084e0-2952-4b82-85dc-94f90283e73a",
   "metadata": {},
   "source": [
    "$$ W - w = k^2|\\mathbf{D}|^2 - 2k\\sum_{i=1}^3 p_id_i + 2k\\sum_{i=1}^3a_id_i$$"
   ]
  },
  {
   "cell_type": "markdown",
   "id": "b0725b0e-65d0-4fa4-93c8-997fecb2625a",
   "metadata": {},
   "source": [
    "\\begin{equation}\\tag{6a}\n",
    "    W + k^2|\\mathbf{D}|^2 - w = 2k\\mathbf{D}\\cdot\\big(k\\mathbf{D} - \\mathbf{P} + \\mathbf{A}\\big)\n",
    "\\end{equation}"
   ]
  },
  {
   "cell_type": "markdown",
   "id": "8af01357-cfb7-4c1c-98a5-4316ac58036a",
   "metadata": {},
   "source": [
    "$$ v = \\mathbf{Q}\\cdot\\mathbf{P} - \\mathbf{Q}\\cdot\\mathbf{A} - |\\mathbf{P}|^2 + \\mathbf{P}\\cdot\\mathbf{A} $$"
   ]
  },
  {
   "cell_type": "markdown",
   "id": "00403ce6-47b2-47cc-9267-499ca36f3a99",
   "metadata": {},
   "source": [
    "$$ V = \\mathbf{Q}\\cdot\\mathbf{P} - k\\mathbf{Q}\\cdot\\mathbf{D} - \\mathbf{Q}\\cdot\\mathbf{A} - |\\mathbf{P}|^2 + k\\mathbf{P}\\cdot\\mathbf{D} + \\mathbf{P}\\cdot\\mathbf{A}$$"
   ]
  },
  {
   "cell_type": "markdown",
   "id": "baf5fcad-2efa-4eff-a270-5d0b7c2f2a65",
   "metadata": {},
   "source": [
    "\\begin{equation}\\tag{6b}\n",
    "    v - V = k\\mathbf{D}\\cdot(\\mathbf{Q} - \\mathbf{P})\n",
    "\\end{equation}"
   ]
  },
  {
   "cell_type": "markdown",
   "id": "6c81783f-de8e-467d-80d0-e0889e3e0842",
   "metadata": {},
   "source": [
    "The coefficient to $t_2^2$ is equal to zero."
   ]
  },
  {
   "cell_type": "markdown",
   "id": "3df02f22-11a9-430c-872b-a0e80498a183",
   "metadata": {},
   "source": [
    "$$ u - U = \\sum_{i=1}^3(q_i-p_i)^2 - |\\mathbf{Q}|^2 + 2\\mathbf{Q}\\cdot\\mathbf{P} - |\\mathbf{P}|^2 $$"
   ]
  },
  {
   "cell_type": "markdown",
   "id": "5421fc76-3fa7-493e-bac2-55f748bc7728",
   "metadata": {},
   "source": [
    "$$ = \\sum_{i=1}^3 (q_i-p_i)^2 - \\sum_{i=1}^3 q_i^2 - \\sum_{i=1}^3 p_i^2 + 2\\sum_{i=1}^3 q_ip_i = 0$$"
   ]
  },
  {
   "cell_type": "markdown",
   "id": "d671e1fc-fa99-4965-8500-ca25d0656c47",
   "metadata": {},
   "source": [
    "Now, let's solve for $t_2$ in terms of $k$ using equation (5) and then substitute it for it's identity found in equation (6) which will give us an equation that we can use to finally solve for $k$ in real valued terms.  Let  \n",
    "\n",
    "$$ f(t) := \\sqrt{|\\overrightarrow{AR(t)}|^2 - k^2|\\mathbf{D}|^2} \\quad\\quad\\text{and}\\quad\\quad F := f(t_2)$$"
   ]
  },
  {
   "cell_type": "markdown",
   "id": "25ece4b2-c643-4d46-8cb3-2b2cea456647",
   "metadata": {},
   "source": [
    "$$ \\mathbf{G} := \\mathbf{G}(t_2) := \\frac{F\\mathbf{B}}{|\\mathbf{B} - \\mathbf{A}|} \\quad\\quad\\text{and}\\quad\\quad \\mathbf{H} := \\mathbf{H}(t_2) := \\frac{F\\mathbf{A}}{|\\mathbf{B}-\\mathbf{A}|}$$"
   ]
  },
  {
   "cell_type": "markdown",
   "id": "13f772e0-f682-4a5a-8356-d14cb4f7686a",
   "metadata": {},
   "source": [
    "Via the above definitions, equation (5) and substitution,  \n",
    "\n",
    "\\begin{equation}\\tag{7}\n",
    "    t_2^2|\\mathbf{Q} - \\mathbf{P}|^2 + k^2|\\mathbf{D}|^2 = \\big|\\,\\mathbf{A}\\pm (\\mathbf{G} - \\mathbf{H}) - \\mathbf{P}\\,\\big|^{\\,2}\n",
    "\\end{equation}"
   ]
  },
  {
   "cell_type": "markdown",
   "id": "1948cf8a-7ae7-4da3-90ab-82e800fd019f",
   "metadata": {},
   "source": [
    "$$ \\big|\\,\\mathbf{A} \\pm (\\mathbf{G}-\\mathbf{H}) - \\mathbf{P}\\,\\big|^{\\,2} = \\sum_{i=1}^3 (a_i-p_i)^2 + \\sum_{i=1}^3(g_i - h_i)^2 \\pm 2\\sum_{i=1}^3(a_i-p_i)(g_i-h_i)$$"
   ]
  },
  {
   "cell_type": "markdown",
   "id": "f1ff2b92-fc64-43fe-962f-bce9e89a4efd",
   "metadata": {},
   "source": [
    "$$ = \\sum_{i=1}^3(a_i-p_i)^2 + \\frac{F^2}{|\\mathbf{B}-\\mathbf{A}|^2}\\,\\sum_{i=1}^3(b_i - a_i)^2 \\pm \\frac{2F}{|\\mathbf{B}-\\mathbf{A}|}\\,\\sum_{i=1}^3(a_i-p_i)(b_i-a_i) $$"
   ]
  },
  {
   "cell_type": "markdown",
   "id": "13232b29-6b76-42ea-a23c-8fb88da8206a",
   "metadata": {},
   "source": [
    "\\begin{equation}\\tag{7a}\n",
    "    = \\sum_{i=1}^3(a_i-p_i)^2 + F^2 \\pm \\frac{2F}{|\\mathbf{B}-\\mathbf{A}|}\\,\\sum_{i=1}^3(a_i-p_i)(b_i-a_i)\n",
    "\\end{equation}"
   ]
  },
  {
   "cell_type": "markdown",
   "id": "283b950a-4021-434e-853e-44b343f5d93b",
   "metadata": {},
   "source": [
    "Via equations (6) and (7),  \n",
    "\n",
    "\\begin{equation}\\tag{8}\n",
    "    \\big(W + k^2|\\mathbf{D}|^2 - w\\big)|\\mathbf{Q}-\\mathbf{P}|^2 + 2(v-V)k^2|\\mathbf{D}|^2 = 2(v-V)\\big|\\,\\mathbf{A} \\pm (\\mathbf{G}-\\mathbf{H}) - \\mathbf{P}\\,\\big|^{\\,2}\n",
    "\\end{equation}"
   ]
  },
  {
   "cell_type": "markdown",
   "id": "ab07125b-8d57-456f-b701-6a46062deff1",
   "metadata": {},
   "source": [
    "\\begin{equation}\\tag{9}\n",
    "    f(t_2) = F = \\sqrt{\\big|\\,\\mathbf{P} + t_2(\\mathbf{Q}-\\mathbf{P}) - \\mathbf{A}\\,\\big|^{\\,2} - k^2|\\mathbf{D}|^2 }\n",
    "\\end{equation}"
   ]
  },
  {
   "cell_type": "markdown",
   "id": "d6b87e3d-1364-4e21-a402-9dbef8aa7b7d",
   "metadata": {},
   "source": [
    "\\begin{align*}\n",
    "    \\big|\\,\\mathbf{P} + t_2(\\mathbf{Q}-\\mathbf{P}) - \\mathbf{A}\\,\\big|^{\\,2} &= \\sum_{i=1}^3\\big(p_i - a_i + t_2(q_i-p_i)\\big)^2 \\\\\n",
    "     &= \\sum_{i=1}^3 (p_i-a_i)^2 + 2t_2\\sum_{i=1}^3(p_i-a_i)(q_i-p_i) + t_2^2\\sum_{i=1}^3 (q_i-p_i)^2 \\\\\n",
    "     &= |\\mathbf{P}-\\mathbf{A}|^2 + 2t_2\\big(\\mathbf{P}\\cdot\\mathbf{Q} - |\\mathbf{P}|^2 - \\mathbf{A}\\cdot\\mathbf{Q} + \\mathbf{A}\\cdot\\mathbf{P} \\big) + t_2^2|\\mathbf{Q}-\\mathbf{P}|^2 \\\\ \n",
    "\\end{align*}"
   ]
  },
  {
   "cell_type": "markdown",
   "id": "584a9498-b2fe-4178-bc8e-d94adaf6195e",
   "metadata": {},
   "source": [
    "\\begin{align*}\\tag{9a}\n",
    "    \\big|\\, \\mathbf{P} + t_2(\\mathbf{Q}-\\mathbf{P}) - \\mathbf{A}\\,\\big|^{\\,2} &= |\\overline{PA}|^2 + t_2^2|\\overline{QP}|^2 + 2t_2\\big(\\mathbf{Q}\\cdot(\\mathbf{P}-\\mathbf{A}) - \\mathbf{P}\\cdot(\\mathbf{P}-\\mathbf{A})\\big) \\\\\n",
    "     &= |\\overline{PA}|^2 + t_2^2|\\overline{QP}|^2 + 2t_2\\big(\\mathbf{Q}\\cdot\\overrightarrow{AP} - \\mathbf{P}\\cdot\\overrightarrow{AP}\\big) \\\\ \n",
    "     &= |\\overline{PA}|^2 + t_2^2|\\overline{QP}|^2 + 2t_2\\overrightarrow{AP}\\cdot\\overrightarrow{PQ}\n",
    "\\end{align*}"
   ]
  },
  {
   "cell_type": "markdown",
   "id": "76d2f7c0-c0f9-4cb3-843b-a8f02129ad6c",
   "metadata": {},
   "source": [
    "$$ = $$"
   ]
  },
  {
   "cell_type": "markdown",
   "id": "b8d570c8-ac5e-4b03-b1be-ea81c2eac0ae",
   "metadata": {},
   "source": []
  },
  {
   "cell_type": "markdown",
   "id": "b938894c-f7fb-4863-ac21-e8ea7d444568",
   "metadata": {},
   "source": [
    "Via equations (7a) and (7),  \n",
    "\n",
    "$$ t_2^2|\\mathbf{Q} - \\mathbf{P}|^2 + k^2|\\mathbf{D}|^2 - \\sum_{i=1}^3(a_i-p_i)^2 - F^2 = \\pm \\frac{2F}{|\\mathbf{B}-\\mathbf{A}|}\\,\\sum_{i=1}^3(a_i-p_i)(b_i-a_i)$$"
   ]
  },
  {
   "cell_type": "markdown",
   "id": "821de8c5-7be8-4579-ac2b-8cc4244ef2af",
   "metadata": {},
   "source": [
    "Squaring both sides of the above equation gives:  \n",
    "\n",
    "\\begin{equation}\\tag{10}\n",
    "    \\big(t_2^2|\\mathbf{Q}-\\mathbf{P}|^2 + k^2|\\mathbf{D}|^2 - |\\mathbf{A}-\\mathbf{P}|^2 - F^2\\big)^2 = \\frac{4F^2}{|\\mathbf{B}-\\mathbf{A}|^2}\\big(\\mathbf{A}\\cdot\\mathbf{B} - |\\mathbf{A}|^2 - \\mathbf{P}\\cdot\\mathbf{B} + \\mathbf{P}\\cdot\\mathbf{A} \\big)^2\n",
    "\\end{equation}"
   ]
  },
  {
   "cell_type": "markdown",
   "id": "8aeb8b63-0762-4c3b-aeca-214ff3160430",
   "metadata": {},
   "source": [
    "Via equations (9) and (9a),  \n",
    "\n",
    "\\begin{align*}\n",
    "    t_2^2|\\mathbf{Q}-\\mathbf{P}|^2 + k^2|\\mathbf{D}|^2 - |\\mathbf{A}-\\mathbf{P}|^2 - F^2 &=  t_2^2|\\mathbf{Q}-\\mathbf{P}|^2 + 2k^2|\\mathbf{D}|^2 - |\\mathbf{A}-\\mathbf{P}|^2 - \\big|\\,\\mathbf{P} + t_2(\\mathbf{Q}-\\mathbf{P}) - \\mathbf{A}\\,\\big|^{\\,2} \\\\\n",
    "     &=  2k^2|\\mathbf{D}|^2 - 2|\\overline{AP}|^2 - 2t_2\\overrightarrow{AP}\\cdot\\overrightarrow{PQ}\n",
    "\\end{align*}"
   ]
  },
  {
   "cell_type": "markdown",
   "id": "bbbde38f-d920-4df9-ab08-43a97072b4ab",
   "metadata": {},
   "source": [
    "Squaring both sides the above equation gives:  \n",
    "\n",
    "\\begin{align*}\\tag{10a}\n",
    "    \\big(t_2^2|\\overrightarrow{QP}|^2 + k^2|\\mathbf{D}|^2 - |\\overrightarrow{AP}|^2 - F^2\\big)^2 &= \\big(2k^2|\\mathbf{D}|^2 - 2|\\overline{AP}|^2 - 2t_2\\overrightarrow{AP}\\cdot\\overrightarrow{PQ}\\big)^2 \\\\\n",
    "     &= 4\\big( k^2|\\mathbf{D}|^2 - |\\overrightarrow{AP}|^2\\big)^2 + 4t_2^2\\big(\\overrightarrow{AP}\\cdot\\overrightarrow{PQ}\\big)^2- 4t_2\\overrightarrow{AP}\\cdot\\overrightarrow{PQ}\\big(k^2|\\mathbf{D}|^2 - |\\overline{AP}|^2\\big)\n",
    "\\end{align*}"
   ]
  },
  {
   "cell_type": "markdown",
   "id": "38ce7833-0049-4188-bf69-dbcb89c6f838",
   "metadata": {},
   "source": [
    "Now, let's simplify the right hand side of equation (10).  \n",
    "\n",
    "\\begin{align*}\n",
    "    \\mathbf{A}\\cdot\\mathbf{B} - |\\mathbf{A}|^2 - \\mathbf{P}\\cdot\\mathbf{B} + \\mathbf{P}\\cdot\\mathbf{A} &= \\mathbf{B}\\cdot\\overrightarrow{PA} - \\mathbf{A}\\cdot\\overrightarrow{PA} \\\\\n",
    "     &= \\overrightarrow{PA}\\cdot\\overrightarrow{AB}\n",
    "\\end{align*}"
   ]
  },
  {
   "cell_type": "markdown",
   "id": "7db82514-f9fe-423e-ac0e-3ffa64e05978",
   "metadata": {},
   "source": [
    "$$ \\frac{4F^2}{|\\overline{AB}|^2}\\,\\big(\\overrightarrow{PA}\\cdot\\overrightarrow{AB}\\big)^2 = 4\\big(|\\overline{PA}|^2 \\big)\\,\\left(\\frac{\\overrightarrow{PA}\\cdot\\overrightarrow{AB}}{|\\overline{AB}|}\\right)^2$$"
   ]
  },
  {
   "cell_type": "markdown",
   "id": "e4e2065c-5ae1-4d87-b4e7-733ecffe22fe",
   "metadata": {},
   "source": [
    "### Vector Functions and Parametric Equations  \n",
    "\n",
    "#### $\\S$ $1\\mathrm{I} : 1 $\n",
    "\n",
    "$$ \\frac{\\mathbf{v}}{v} = \\frac{\\langle a,b\\rangle}{|\\langle a, b\\rangle|} \\quad\\implies\\quad \\mathbf{v} = v\\,\\frac{\\langle a,b \\rangle}{\\sqrt{a^2 + b^2}}$$"
   ]
  },
  {
   "cell_type": "markdown",
   "id": "e37cd58e-5e8e-4a24-8868-a556dc327af5",
   "metadata": {},
   "source": [
    "$$ \\mathbf{r}(t) = \\int \\mathbf{v}\\,\\mathrm{d}t = vt\\,\\frac{\\langle a, b\\rangle}{\\sqrt{a^2+b^2}} + \\langle x_0,y_0\\rangle$$"
   ]
  },
  {
   "cell_type": "markdown",
   "id": "d0e70d08-1fe1-4f8d-9594-b4291aec1eaa",
   "metadata": {},
   "source": [
    "#### $\\S\\, 1\\mathrm{I} : 2$  \n",
    "\n",
    "**a)**  $$ \\mathbf{r}(t) = a\\langle \\cos\\omega t, -\\sin\\omega t\\rangle$$"
   ]
  },
  {
   "cell_type": "markdown",
   "id": "83b0f15a-9dcb-4d99-8e9e-1632c56b851e",
   "metadata": {},
   "source": [
    "**b)**  $$ \\mathbf{r}(t) = a\\langle\\sin\\omega t,\\cos\\omega t\\rangle$$"
   ]
  },
  {
   "cell_type": "code",
   "execution_count": 1,
   "id": "c7ca09c0-b170-401d-84ea-1549566b8503",
   "metadata": {
    "tags": []
   },
   "outputs": [],
   "source": [
    "import numpy as np\n",
    "import sympy as sp\n",
    "import matplotlib.pyplot as plt"
   ]
  },
  {
   "cell_type": "markdown",
   "id": "9e52c80b-8faf-4450-954a-150d4ca9fa63",
   "metadata": {
    "tags": []
   },
   "source": [
    "#### $\\S\\, 1\\mathrm{I} : 3$  \n",
    "\n",
    "**a)** $$ x^2 + 2y^2 = 2$$"
   ]
  },
  {
   "cell_type": "markdown",
   "id": "65a76524-15f6-4fd6-ae1b-c9a656a6d865",
   "metadata": {
    "tags": []
   },
   "source": [
    "Which gives an ellipse."
   ]
  },
  {
   "cell_type": "markdown",
   "id": "4851424c-f44d-4ad4-99fa-40930e3f7cb2",
   "metadata": {},
   "source": [
    "**b)**  $$ \\frac{\\mathrm{d}\\cos2t}{\\mathrm{d}t} = r_x'(t) = -2\\sin2t = -4\\cos t\\sin t$$"
   ]
  },
  {
   "cell_type": "markdown",
   "id": "1c27c91a-e16c-4e12-851e-65bcebf55bbe",
   "metadata": {},
   "source": [
    "$$ 2\\frac{\\mathrm{d}\\cos^2 t}{\\mathrm{d}t} = -4\\cos t \\sin t$$"
   ]
  },
  {
   "cell_type": "markdown",
   "id": "01cda94c-0291-4e3d-a1f2-7f8a9bc935bd",
   "metadata": {},
   "source": [
    "Via the above two equations and equivalence principle,  \n",
    "\n",
    "$$ \\cos 2t = 2 \\cos^2 t + K$$"
   ]
  },
  {
   "cell_type": "markdown",
   "id": "45d5528b-0c68-409c-b770-44d556d3f8d2",
   "metadata": {},
   "source": [
    "When $t=0$,  \n",
    "\n",
    "$$ 1 = 2 + K \\quad\\implies\\quad K = -1$$"
   ]
  },
  {
   "cell_type": "markdown",
   "id": "97dc39af-f993-44c2-9f14-221665363a4e",
   "metadata": {},
   "source": [
    "$$ r_x(t) = 2\\cos^2 t - 1$$"
   ]
  },
  {
   "cell_type": "markdown",
   "id": "a35f0492-1829-4701-9372-b1b167135901",
   "metadata": {},
   "source": [
    "Via the fact that $r_y(t) = \\cos t$,  \n",
    "\n",
    "$$ t = \\arccos r_y = \\arccos y$$"
   ]
  },
  {
   "cell_type": "markdown",
   "id": "9ed65d0c-e14d-440b-ada2-aa0f4be0017f",
   "metadata": {},
   "source": [
    "$$ r_x(t) = x = 2y^2 - 1$$"
   ]
  },
  {
   "cell_type": "markdown",
   "id": "84afc352-c6c1-4e21-b6db-e9296fc2f76b",
   "metadata": {},
   "source": [
    "Which gives a parabola"
   ]
  },
  {
   "cell_type": "markdown",
   "id": "1b5fba5a-16d2-456e-bd81-b354eaac7a81",
   "metadata": {},
   "source": [
    "**c)**  $$ \\mathbf{r}(t) = \\langle t^2+1, t^3\\rangle$$   \n",
    "\n",
    "$$ t = \\pm\\sqrt{x-1}$$"
   ]
  },
  {
   "cell_type": "markdown",
   "id": "5a89d575-7b93-4ae4-a5d4-5885bcbe796a",
   "metadata": {},
   "source": [
    "$$ y = t^3 = \\pm(x-1)\\sqrt{x-1}$$"
   ]
  },
  {
   "cell_type": "markdown",
   "id": "fb07c995-7b64-4a95-b561-ff5133bd4f2f",
   "metadata": {},
   "source": [
    "$$ y^2 = (x-1)^2(x-1) = (x^2 - 2x + 1)(x-1)$$"
   ]
  },
  {
   "cell_type": "code",
   "execution_count": 10,
   "id": "6e44d1da-ab7c-46cf-90fc-fe26dd70585b",
   "metadata": {
    "jupyter": {
     "source_hidden": true
    },
    "tags": []
   },
   "outputs": [
    {
     "data": {
      "text/plain": [
       "<matplotlib.legend.Legend at 0x7f45d5d2fac0>"
      ]
     },
     "execution_count": 10,
     "metadata": {},
     "output_type": "execute_result"
    },
    {
     "data": {
      "image/png": "[encoded data removed]",
      "text/plain": [
       "<Figure size 640x480 with 1 Axes>"
      ]
     },
     "metadata": {},
     "output_type": "display_data"
    }
   ],
   "source": [
    "t = np.linspace(-2,2,num=200)\n",
    "x = np.linspace(1,5,num=100)\n",
    "\n",
    "fig, ax = plt.subplots()\n",
    "ax.set_title('Elliptic Curve', size=14)\n",
    "ax.set_xlabel('x-axis')\n",
    "ax.set_ylabel('y-axis')\n",
    "ax.grid()\n",
    "\n",
    "ax.plot(t**2 + 1, t**3, label='parametric')\n",
    "ax.plot(x, np.sqrt((x**2-2*x+1)*(x-1)), label='xy-equation-top')\n",
    "ax.plot(x, -np.sqrt((x**2-2*x+1)*(x-1)), label='xy-equation-bot')\n",
    "ax.legend()"
   ]
  },
  {
   "cell_type": "markdown",
   "id": "632f36cc-cfea-436b-b683-f6a34e5d1c3e",
   "metadata": {},
   "source": [
    "Which gives an eliptic curve."
   ]
  },
  {
   "cell_type": "markdown",
   "id": "8a8ecb0f-afb3-499c-8c1d-0c43a6ba2127",
   "metadata": {},
   "source": [
    "**d)**  \n",
    "\n",
    "$$ 1 + \\tan^2 t = \\frac{\\cos^2 t + \\sin^2 t}{\\cos^2 t} = \\sec^2 t \\quad\\implies\\quad \\sec t = \\pm\\sqrt{1 + \\tan^2 t}$$"
   ]
  },
  {
   "cell_type": "markdown",
   "id": "2a6d0f9e-7984-4ada-8dd7-3f82902eb04e",
   "metadata": {},
   "source": [
    "$$ y = \\sec t = \\pm \\sqrt{1+\\tan^2 t} \\quad\\implies\\quad y^2 - 1 = \\tan^2 t \\quad\\implies\\quad t = \\arctan\\big(\\pm\\sqrt{y^2-1}\\big)$$"
   ]
  },
  {
   "cell_type": "markdown",
   "id": "6cd47054-34cd-42bc-b331-c2d17d430287",
   "metadata": {},
   "source": [
    "$$ x = \\tan t \\quad\\implies\\quad x = \\pm\\sqrt{y^2-1} \\quad\\implies\\quad y^2 - 1 = x^2 \\quad\\implies$$"
   ]
  },
  {
   "cell_type": "markdown",
   "id": "86a6ea44-553d-43a3-be01-5f93ed819136",
   "metadata": {},
   "source": [
    "$$ y^2-x^2= 1$$"
   ]
  },
  {
   "cell_type": "markdown",
   "id": "ba71d0a4-ef74-4ffe-957d-e497c4070898",
   "metadata": {},
   "source": [
    "Which gives the unit hyperbola."
   ]
  },
  {
   "cell_type": "markdown",
   "id": "324a0c1e-4f0c-40df-8732-76e6b0f4ea41",
   "metadata": {},
   "source": [
    "#### $\\S\\, 1\\mathrm{I} : 4$  \n",
    "\n",
    "In polar coordinates,  \n",
    "\n",
    "$$ r:=r(\\theta):=|\\mathbf{P}| = a + \\theta a = a(1+\\theta)$$"
   ]
  },
  {
   "cell_type": "markdown",
   "id": "5bf7bed0-0b75-4737-8305-2d0bf29dbe1c",
   "metadata": {},
   "source": [
    "$$ |\\mathbf{P}| = r = \\sqrt{x^2+y^2} \\quad\\quad\\text{and}\\quad\\quad \\sin\\theta = \\frac{y}{r} \\quad\\quad\\text{and}\\quad\\quad \\cos\\theta = \\frac{x}{r}$$"
   ]
  },
  {
   "cell_type": "markdown",
   "id": "014d32f1-8432-4d96-9931-90688978de90",
   "metadata": {},
   "source": [
    "$$ y = a(1+\\theta)\\sin\\theta \\quad\\quad\\text{and}\\quad\\quad x = a(1+\\theta)\\cos\\theta$$"
   ]
  },
  {
   "cell_type": "code",
   "execution_count": 6,
   "id": "66f364ec-ad44-4e56-8992-4457634886cc",
   "metadata": {
    "tags": []
   },
   "outputs": [
    {
     "data": {
      "text/plain": [
       "[<matplotlib.lines.Line2D at 0x7f45d62a7f10>]"
      ]
     },
     "execution_count": 6,
     "metadata": {},
     "output_type": "execute_result"
    },
    {
     "data": {
      "image/png": "[encoded data removed]",
      "text/plain": [
       "<Figure size 640x480 with 1 Axes>"
      ]
     },
     "metadata": {},
     "output_type": "display_data"
    }
   ],
   "source": [
    "a= 1\n",
    "theta = np.linspace(0,2*np.pi,num=200)\n",
    "\n",
    "fig, ax = plt.subplots()\n",
    "ax.set_title('Tape Roll', size=14)\n",
    "\n",
    "ax.plot(a*(1+theta)*np.cos(theta), a*(1+theta)*np.sin(theta))"
   ]
  },
  {
   "cell_type": "markdown",
   "id": "804bfb81-4565-4726-93ed-67ad6efdd8af",
   "metadata": {},
   "source": [
    "#### $\\S \\, 1\\mathrm{I} : 5$  \n",
    "\n",
    "$$ x = a\\cos\\theta \\quad\\quad \\text{and}\\quad\\quad y = a\\sin\\theta$$"
   ]
  },
  {
   "cell_type": "markdown",
   "id": "e3d37d0a-736f-4978-aa27-f9fbcfe01b21",
   "metadata": {},
   "source": [
    "#### $\\S\\, 1\\mathrm{I} : 6$  \n",
    "\n",
    "The postion of the hunter, denoted as '$r$', is given by:  \n",
    "\n",
    "$$ \\mathbf{r} := \\mathbf{r}(t) = \\langle 10,0\\rangle - t\\langle 1,0\\rangle = \\langle 10-t, 0\\rangle$$"
   ]
  },
  {
   "cell_type": "markdown",
   "id": "a7d77314-3fc3-4818-b366-297c788c5f9a",
   "metadata": {},
   "source": [
    "The velocity vector of the rabbit, denoted as '$\\mathbf{v}$', is given by:  \n",
    "\n",
    "$$ \\frac{\\mathbf{v}}{\\sqrt{5}} = \\frac{\\langle x, 2x\\rangle}{\\sqrt{x^2 + 4x^2}} = \\frac{\\langle 1, 2\\rangle}{\\sqrt{5}} \\quad\\implies\\quad \\mathbf{v} = \\langle 1,2\\rangle$$"
   ]
  },
  {
   "cell_type": "markdown",
   "id": "9479e545-04bf-4232-9174-93cacae1b28e",
   "metadata": {},
   "source": [
    "Thus, the position vector of the rabbit, denoted as '$\\mathbf{b}$', is given by:  \n",
    "\n",
    "$$ \\mathbf{b} := \\mathbf{b}(t) = t\\langle 1,2\\rangle$$"
   ]
  },
  {
   "cell_type": "markdown",
   "id": "91970ef1-ba78-4917-b4da-c4628e626f1b",
   "metadata": {},
   "source": [
    "**a)**  $$ \\mathbf{r} + k\\mathbf{A} = \\mathbf{b}$$"
   ]
  },
  {
   "cell_type": "markdown",
   "id": "7b77981d-aa45-4bec-8ac0-7b89b116f1f3",
   "metadata": {},
   "source": [
    "$$ \\mathbf{A} := \\mathbf{A}(t) = \\frac{\\mathbf{b}-\\mathbf{r}}{k} = \\frac{\\langle 2t - 10, 2t\\rangle}{k} = 2\\,\\frac{\\langle t - 5, t\\rangle}{k}$$"
   ]
  },
  {
   "cell_type": "markdown",
   "id": "34703c1b-53f7-4384-a6fd-82d15aa35c78",
   "metadata": {},
   "source": [
    "Via the fact that $|\\mathbf{A}|=1$ and the above equation,  \n",
    "\n",
    "$$ \\frac{|\\mathbf{b}-\\mathbf{r}|}{k} = 1 \\quad\\implies\\quad k = |\\mathbf{b} - \\mathbf{r}| = 2|\\langle t-5,t\\rangle| = 2\\sqrt{(t-5)^2 + t^2} $$"
   ]
  },
  {
   "cell_type": "markdown",
   "id": "7dd64c9f-737e-4d6d-b6ba-caecc4075c65",
   "metadata": {},
   "source": [
    "$$ k = 2\\sqrt{2t^2 - 10t + 25}$$"
   ]
  },
  {
   "cell_type": "markdown",
   "id": "fdd79847-1c78-4f74-a93e-ed489144d908",
   "metadata": {},
   "source": [
    "Finally,  \n",
    "\n",
    "$$ \\mathbf{A}(t) = \\frac{\\langle t-5,t\\rangle}{\\sqrt{2t^2 - 10t + 25}}$$"
   ]
  },
  {
   "cell_type": "markdown",
   "id": "31db7a52-df3f-4cc0-8c26-de960d0d6397",
   "metadata": {},
   "source": [
    "**b)**  The hunter is closest to the rabbit when $k$ is at it's smallest.  \n",
    "\n",
    "$$ 4t - 10 = 0 \\quad\\implies\\quad t = \\frac{5}{2}$$"
   ]
  },
  {
   "cell_type": "markdown",
   "id": "52348911-3d8e-4492-90b5-58a7f9bc2b23",
   "metadata": {},
   "source": [
    "#### $\\S\\, 1\\mathrm{I} : 7$  \n",
    "\n",
    "Let $C$ denote the center of the circle.  \n",
    "\n",
    "$$ \\overrightarrow{CP} = -a\\langle\\sin\\theta,\\cos\\theta\\rangle \\quad\\quad \\mathbf{C} = \\langle 0,a\\rangle + \\langle a\\theta, 0\\rangle = a\\langle \\theta, 1\\rangle$$"
   ]
  },
  {
   "cell_type": "markdown",
   "id": "87f22b5e-49e3-434f-ac98-8e8c12c8fe87",
   "metadata": {},
   "source": [
    "$$ \\overrightarrow{CP} = \\mathbf{P} - \\mathbf{C} \\quad\\implies\\quad \\mathbf{P} = \\overrightarrow{CP} + \\mathbf{C} = a\\langle \\theta-\\sin\\theta,1-\\cos\\theta\\rangle$$"
   ]
  },
  {
   "cell_type": "code",
   "execution_count": 5,
   "id": "8e6f7db6-6f4b-467c-8b81-d09d3cda7ec5",
   "metadata": {
    "jupyter": {
     "source_hidden": true
    },
    "tags": []
   },
   "outputs": [
    {
     "data": {
      "text/plain": [
       "[<matplotlib.lines.Line2D at 0x7f45d63d0550>]"
      ]
     },
     "execution_count": 5,
     "metadata": {},
     "output_type": "execute_result"
    },
    {
     "data": {
      "image/png": "[encoded data removed]",
      "text/plain": [
       "<Figure size 1300x300 with 1 Axes>"
      ]
     },
     "metadata": {},
     "output_type": "display_data"
    }
   ],
   "source": [
    "theta = np.linspace(0,6*np.pi,num=200)\n",
    "a = 1\n",
    "\n",
    "fig, ax = plt.subplots(figsize=(13,3))\n",
    "ax.set_title('Cycloid', size=13)\n",
    "\n",
    "ax.plot(a*(theta-np.sin(theta)), a*(1-np.cos(theta)))"
   ]
  },
  {
   "cell_type": "markdown",
   "id": "64bd3d9f-daac-4321-b586-f0b8d6aadc70",
   "metadata": {},
   "source": [
    "### Differentiation of Vector Functions\n",
    "\n",
    "#### $\\S\\, 1\\mathrm{J} : 1$  \n",
    "\n",
    "**a)**  $$ \\mathbf{v} = \\langle e^t, -e^{-t}\\rangle \\quad\\quad s = |\\mathbf{v}| = \\sqrt{e^{2t} + e^{-2t}} \\quad\\quad \\mathbf{T} = \\frac{\\mathbf{v}}{|\\mathbf{v}|} $$"
   ]
  },
  {
   "cell_type": "markdown",
   "id": "bc9220e3-7260-49d3-80b8-3b4e668df95c",
   "metadata": {},
   "source": [
    "$$ \\mathbf{a} = \\mathbf{v}'(t) = \\langle e^t, e^{-t}\\rangle$$"
   ]
  },
  {
   "cell_type": "markdown",
   "id": "c93439ba-6b31-4f63-9959-46c1929c0d37",
   "metadata": {},
   "source": [
    "**b)**  $$ \\mathbf{v} = \\langle 2t, 3t^2\\rangle\\quad\\quad s = \\sqrt{4t^2 + 9t^4} = t\\sqrt{4+9t^2} \\quad\\quad \\mathbf{T} = \\frac{\\langle 2,3t\\rangle}{\\sqrt{4+9t^2}}$$"
   ]
  },
  {
   "cell_type": "markdown",
   "id": "a6920998-b4e2-4794-9bd4-ca41304807b1",
   "metadata": {},
   "source": [
    "$$ \\mathbf{a} = \\langle 2, 6t\\rangle$$"
   ]
  },
  {
   "cell_type": "markdown",
   "id": "94277d8b-ac41-4658-87ce-c61755a91928",
   "metadata": {},
   "source": [
    "**c)**  $$ \\mathbf{v} = \\langle -4t, 2t, 4t\\rangle = 2t\\langle -2, 1, 2\\rangle \\quad\\quad s = 2t\\sqrt{4+4+1} = 6t$$"
   ]
  },
  {
   "cell_type": "markdown",
   "id": "91942ef7-f293-42b5-82f2-b69393fde87e",
   "metadata": {},
   "source": [
    "$$ \\mathbf{T} = \\frac{\\langle-2,1,2\\rangle}{3} \\quad\\quad \\mathbf{a} = 2\\langle -2,1,2\\rangle$$"
   ]
  },
  {
   "cell_type": "markdown",
   "id": "9b290045-210f-472c-9d35-dc717abb0764",
   "metadata": {},
   "source": [
    "#### $\\S\\, 1\\mathrm{J} : 2$  \n",
    "\n",
    "**a)**  $$ v_x = p_x'(t) = -\\frac{2t}{\\big(1+t^2\\big)^2} \\quad\\quad\\text{and}\\quad\\quad v_y = p_y'(t) = \\frac{1}{1+t^2}  - \\frac{2t^2}{\\big(1+t^2\\big)^2}$$"
   ]
  },
  {
   "cell_type": "markdown",
   "id": "6148af0b-1bbf-4dea-be70-8efd9ad9dcbf",
   "metadata": {},
   "source": [
    "$$ v_y = \\frac{1+t^2 - 2t^2}{\\big(1+t^2\\big)^2} = \\frac{1-t^2}{\\big(1+t^2\\big)^2} $$"
   ]
  },
  {
   "cell_type": "markdown",
   "id": "8f1d9337-9e95-46cc-866e-dc5d25d855f8",
   "metadata": {},
   "source": [
    "$$ \\mathbf{v} = \\langle v_x, v_y\\rangle = \\frac{\\langle -2t, 1-t^2\\rangle}{\\big(t^2+1\\big)^2}$$"
   ]
  },
  {
   "cell_type": "markdown",
   "id": "5e139ff0-86da-4820-93a0-2ac9a4076877",
   "metadata": {},
   "source": [
    "$$ s = |\\mathbf{v}| = \\sqrt{v_x^2 + v_y^2}$$"
   ]
  },
  {
   "cell_type": "markdown",
   "id": "dd8ddd7e-5627-4e57-bc59-15eb9ec60f36",
   "metadata": {},
   "source": [
    "$$ v_x^2 + v_y^2 = \\frac{4t^2 + \\big(1-t^2\\big)^2}{\\big(1+t^2\\big)^4} = \\frac{t^4+2t^2+1}{\\big(1+t^2\\big)^4} = \\frac{\\big(t^2+1\\big)^2}{\\big(t^2+1\\big)^4} = \\frac{1}{\\big(1+t^2\\big)^2} $$"
   ]
  },
  {
   "cell_type": "markdown",
   "id": "5454cc60-3f77-4e5f-b71c-9aaa812e4dea",
   "metadata": {},
   "source": [
    "Thus,  \n",
    "\n",
    "$$ s = \\frac{1}{t^2+1} = p_x$$"
   ]
  },
  {
   "cell_type": "markdown",
   "id": "a7d9a7c3-b13e-4c56-b56d-a4df22fdc12c",
   "metadata": {},
   "source": [
    "$$ \\mathbf{T} = \\frac{\\langle-2t,1-t^2\\rangle}{t^2+1}$$"
   ]
  },
  {
   "cell_type": "markdown",
   "id": "1450ae04-d82c-4bef-928f-acdab135e335",
   "metadata": {},
   "source": [
    "**b)**  The speed is at it's greatest when $t=0$ and at it's smallest when $t=\\{\\infty,-\\infty\\}$."
   ]
  },
  {
   "cell_type": "markdown",
   "id": "d6c004f0-44f7-4c2c-b3e3-bb9b736ad56e",
   "metadata": {},
   "source": [
    "**c)**  $$ x = p_x = \\frac{1}{1+t^2} \\quad\\implies\\quad 1+t^2 = \\frac{1}{x}$$"
   ]
  },
  {
   "cell_type": "markdown",
   "id": "4e83814d-326b-4b91-bb94-61c115ce1372",
   "metadata": {},
   "source": [
    "$$ t^2 = \\frac{1}{x} - 1 = \\frac{1-x}{x} \\quad\\implies\\quad t = \\sqrt{\\frac{1-x}{x}}$$"
   ]
  },
  {
   "cell_type": "markdown",
   "id": "6d360751-01d7-468a-a1e7-ad7f1ef63e74",
   "metadata": {},
   "source": [
    "$$ y = \\frac{t}{1+t^2} = tx = \\sqrt{x(1-x)}$$"
   ]
  },
  {
   "cell_type": "markdown",
   "id": "0d1e434d-5207-48f2-981b-133665831dae",
   "metadata": {},
   "source": [
    "$$ y^2 = x-x^2$$"
   ]
  },
  {
   "cell_type": "markdown",
   "id": "3a801445-a318-457a-bd6c-80ca6afdca99",
   "metadata": {},
   "source": [
    "#### $\\S\\, 1\\mathrm{J} : 4$\n",
    "\n",
    "Let $a$ be the radius of our sphere.\n",
    "\n",
    "$$ z = \\pm\\sqrt{a^2 - x^2 - y^2}$$  \n",
    "\n",
    "Thus,  \n",
    "\n",
    "$$\\mathbf{r}:= \\mathbf{r}(t) = \\left\\langle x,y,\\pm\\sqrt{a^2-x^2-y^2}\\right\\rangle$$"
   ]
  },
  {
   "cell_type": "markdown",
   "id": "b7ebeaeb-86a6-429f-bec0-f47033d6e8dd",
   "metadata": {},
   "source": [
    "$$ \\mathbf{v} = \\mathbf{r}'(t) = \\langle x'(t), y'(t), z'(t)\\rangle $$"
   ]
  },
  {
   "cell_type": "markdown",
   "id": "163fdae9-f5ed-4d7f-86aa-d6f0faf49f4a",
   "metadata": {},
   "source": [
    "$$ z'(t) = \\pm\\frac{-2x(t)x'(t) - 2y(t)y'(t)}{2\\sqrt{a^2-x^2-y^2}} = \\pm \\frac{-x(t)x'(t) - y(t)y'(t)}{\\sqrt{a^2-x^2-y^2}}$$"
   ]
  },
  {
   "cell_type": "markdown",
   "id": "63d0a4b9-67f3-4020-8575-44d507dd65e2",
   "metadata": {},
   "source": [
    "**Proposition**:  $$ \\mathbf{r}\\cdot\\mathbf{v} = 0$$"
   ]
  },
  {
   "cell_type": "markdown",
   "id": "4921256b-56fe-48de-a7f7-09f82049cd66",
   "metadata": {},
   "source": [
    "**Proof**:  \n",
    "\n",
    "$$ \\mathbf{r}\\cdot\\mathbf{v} = x(t)x'(t) + y(t)y'(t) -x(t)x'(t) - y(t)y'(t) = 0 $$"
   ]
  },
  {
   "cell_type": "markdown",
   "id": "ba1120df-f7c6-47a6-b5f1-16dda2ef386c",
   "metadata": {},
   "source": [
    "Q.E.D."
   ]
  },
  {
   "cell_type": "markdown",
   "id": "b805aaac-8823-4406-93c2-2bbbe877d7a5",
   "metadata": {},
   "source": [
    "**b)**  \n",
    "\n",
    "$$ \\frac{\\mathrm{d}}{\\mathrm{d}t}\\,\\mathbf{r}\\cdot\\mathbf{r} = \\frac{\\mathrm{d}}{\\mathrm{d}t}\\,|\\mathbf{r}|^2 = \\mathbf{r}\\cdot\\mathbf{v} + \\mathbf{v}\\cdot\\mathbf{r} = 2\\mathbf{r}\\cdot\\mathbf{v}$$"
   ]
  },
  {
   "cell_type": "markdown",
   "id": "2d15b68b-fd5d-48dd-b08b-669ff12b55d3",
   "metadata": {},
   "source": [
    "And, since $|\\mathbf{r}| = a = \\mathit{const}$,  \n",
    "\n",
    "$$ \\frac{\\mathrm{d}}{\\mathrm{d}t}\\,|\\mathbf{r}|^2 = 0 \\quad\\implies$$"
   ]
  },
  {
   "cell_type": "markdown",
   "id": "1c61b2cd-6362-41e7-8544-cdf271b46ec4",
   "metadata": {},
   "source": [
    "$$ \\mathbf{r}\\cdot\\mathbf{v} = 0 \\quad\\therefore\\quad \\mathbf{r}\\perp\\mathbf{v}$$"
   ]
  },
  {
   "cell_type": "markdown",
   "id": "f46259ee-4433-4d35-8af9-128c015c980d",
   "metadata": {},
   "source": [
    "**c)**  \n",
    "\n",
    "$$ \\mathbf{r}\\perp\\mathbf{v} \\quad\\iff\\quad \\mathbf{r}\\cdot\\mathbf{v}=0\\quad\\iff\\quad \\frac{\\mathrm{d}}{\\mathrm{d}t}|\\mathbf{r}|^2 = 0 \\quad\\iff$$"
   ]
  },
  {
   "cell_type": "markdown",
   "id": "ae5d6572-0c5a-4cfe-b629-9a56c37e558e",
   "metadata": {},
   "source": [
    "$$ |\\mathbf{r}| = \\mathit{const}$$"
   ]
  },
  {
   "cell_type": "markdown",
   "id": "9e9973fe-9e33-4166-8032-386b2841bc02",
   "metadata": {},
   "source": [
    "When the magnitude of a position vector of a moving point remains constant, said point must rest on a sphere, with the magnitude being equal to the radius of said sphere."
   ]
  },
  {
   "cell_type": "markdown",
   "id": "a248081d-b21b-4e2d-8df6-3060b98f92a4",
   "metadata": {},
   "source": [
    "#### $\\S\\,1\\mathrm{J} : 5$  \n",
    "\n",
    "**a)**  \n",
    "\n",
    "\\begin{equation}\\tag{5.1}\n",
    "    \\frac{\\mathrm{d}}{\\mathrm{d}t}\\,\\mathbf{v}\\cdot\\mathbf{v} = \\frac{\\mathrm{d}}{\\mathrm{d}t}\\,s^2 = 2\\mathbf{v}\\cdot\\mathbf{a}\n",
    "\\end{equation}"
   ]
  },
  {
   "cell_type": "markdown",
   "id": "68ffd6e1-9498-448c-b0fe-9e41035b0a22",
   "metadata": {},
   "source": [
    "$$ s = \\mathit{const} \\quad\\therefore\\quad \\frac{\\mathrm{d}}{\\mathrm{d}t}\\,s^2 = 0 $$"
   ]
  },
  {
   "cell_type": "markdown",
   "id": "f567b40e-1fad-4316-8bb3-93f69faddb72",
   "metadata": {},
   "source": [
    "Via the equivalence principle,  \n",
    "\n",
    "$$ \\frac{\\mathrm{d}}{\\mathrm{d}t}\\,s^2 = 0 \\quad\\therefore \\quad \\mathbf{v}\\cdot\\mathbf{a} = 0 \\quad\\therefore\\quad \\mathbf{v}\\perp\\mathbf{a}$$"
   ]
  },
  {
   "cell_type": "markdown",
   "id": "2969b8c1-9a7c-4404-a60e-31a2d20d8534",
   "metadata": {},
   "source": [
    "#### $\\S\\,1\\mathrm{J} : 6$\n",
    "\n",
    "**a)**  \n",
    "\n",
    "$$ \\mathbf{v} = \\langle -a\\sin t, a\\cos t, b\\rangle$$"
   ]
  },
  {
   "cell_type": "markdown",
   "id": "8779538c-9323-44ac-999a-10644e2205a7",
   "metadata": {},
   "source": [
    "$$ \\mathbf{a} = \\langle -a\\cos t, -a\\sin t, 0\\rangle \\quad\\quad s = \\sqrt{a^2 + b^2} \\quad\\quad \\mathbf{T} = \\frac{\\mathbf{v}}{s}$$"
   ]
  },
  {
   "cell_type": "markdown",
   "id": "c3006ceb-0ce5-41f6-b81d-a7f6e39200a7",
   "metadata": {},
   "source": [
    "**b)** $$ s = \\mathit{const} \\quad\\implies\\quad \\frac{\\mathrm{d}}{\\mathrm{d}t} \\,s^2 = 2\\mathbf{a}\\cdot\\mathbf{v} = 0 \\quad\\implies$$"
   ]
  },
  {
   "cell_type": "markdown",
   "id": "70f12d0a-1433-408f-a6ba-62a642806e0d",
   "metadata": {},
   "source": [
    "$$ \\mathbf{a}\\cdot\\mathbf{v} = 0 \\quad\\implies\\quad \\mathbf{a}\\perp\\mathbf{v}$$"
   ]
  },
  {
   "cell_type": "markdown",
   "id": "77c59d89-bccf-4550-811c-92a5703fc13a",
   "metadata": {},
   "source": [
    "#### $\\S\\,1\\mathrm{J} : 9$  \n",
    "\n",
    "**a)**  $$ |\\mathbf{r}| := a = \\sqrt{9\\cos^2 t + 16\\cos^2 t + 25\\sin^2 t} = \\sqrt{25\\cos^2 t + 25\\sin^2 t} = 5$$"
   ]
  },
  {
   "cell_type": "markdown",
   "id": "673e5876-8477-48cf-aaae-4293301c19d5",
   "metadata": {},
   "source": [
    "A point moving in 3D space moves on the surface of a sphere if and only if the magnitude of it's position vector is constant.  Furthermore, the radius of the sphere whose surface it moves on is equal to said magnitude."
   ]
  },
  {
   "cell_type": "markdown",
   "id": "6a964d66-8695-4738-81b2-a0e8c58cbcc2",
   "metadata": {},
   "source": [
    "Moreover, the position vector must follow the following constraint:  \n",
    "\n",
    "$$ \\mathbf{r} := \\mathbf{r}(t) = \\left\\langle x, y, \\pm\\sqrt{a^2 - x^2 - y^2}\\right\\rangle$$"
   ]
  },
  {
   "cell_type": "markdown",
   "id": "7b56b7ab-bddc-4191-93c1-ad01af720780",
   "metadata": {},
   "source": [
    "In this case,  \n",
    "\n",
    "$$ r_z := r_z(t) = \\pm\\sqrt{a^2 - 9\\cos^2 t - 25\\sin^2 t} = \\pm\\sqrt{25 - 9\\cos^2 t - 25\\sin^2 t} = 4\\cos t$$"
   ]
  },
  {
   "cell_type": "markdown",
   "id": "014da2c9-4290-4209-b7ee-1f9c6b0470f8",
   "metadata": {},
   "source": [
    "$$ 25 - 9\\cos^2 t - 25\\sin^2 t = 16\\cos^2 t \\quad\\implies\\quad 25-25\\sin^2 t = 25\\cos^2 t = 25\\cos^2 t$$"
   ]
  },
  {
   "cell_type": "markdown",
   "id": "ed01e240-efa7-4171-a856-fda4b4faf916",
   "metadata": {},
   "source": [
    "**b)**  The speed is constant if and only if the acceleration is perpendicular to the velocity.  \n",
    "\n",
    "$$ \\mathbf{v} = \\langle -3\\sin t, 5\\cos t, -4\\sin t\\rangle \\quad \\implies \\quad |\\mathbf{v}| = s = 5 =\\mathit{const}$$"
   ]
  },
  {
   "cell_type": "markdown",
   "id": "ab6449b6-c99b-490e-a786-631fce985f3a",
   "metadata": {},
   "source": [
    "**c)**  The acceleration is directed towards the origin if and only if $\\mathrm{dir}\\,\\mathbf{a} = -\\mathrm{dir}\\,\\mathbf{r}$ or, to put it another way, if and only if $\\mathbf{a}$ opposes $\\mathbf{r}$.  "
   ]
  },
  {
   "cell_type": "markdown",
   "id": "c8a9d95b-cb65-42d1-b3da-151d8dfb0657",
   "metadata": {},
   "source": [
    "$$\\mathbf{a} = \\langle -3\\cos t, -5\\sin t, -4\\cos t\\rangle = -\\mathbf{r} \\quad\\therefore\\quad \\mathrm{dir}\\,\\mathbf{a} = -\\mathrm{dir}\\,\\mathbf{r}$$"
   ]
  },
  {
   "cell_type": "markdown",
   "id": "28f49a2d-5e86-4096-98c1-b7c2017c8e21",
   "metadata": {},
   "source": [
    "**d)**  Let $\\mathbf{N}$ be defined as:   $$ \\mathbf{N} := \\mathbf{r}(0)\\times\\mathbf{r}(0.5\\pi) = \\left|\\begin{matrix}\\mathbf{i} & \\mathbf{j} & \\mathbf{k} \\\\ 3 & 0 & 4 \\\\ 0 & 5 & 0\\end{matrix}\\right|$$"
   ]
  },
  {
   "cell_type": "markdown",
   "id": "8a021030-47a9-44c2-a52a-230a74cc3932",
   "metadata": {},
   "source": [
    "$$ = -20\\mathbf{i} - (0)\\mathbf{j} + (15)\\mathbf{k} = \\langle -20,0,15\\rangle$$"
   ]
  },
  {
   "cell_type": "markdown",
   "id": "7a7f3234-c358-42e2-b89f-d72f0dd361ac",
   "metadata": {},
   "source": [
    "Assuming $P$ does move on a plane through the origin, said plane, henceforth $\\mathcal{P}$, is normal to $\\mathbf{N}$ and is given by the equation:  \n",
    "\n",
    "$$ 15z -20x = 0$$"
   ]
  },
  {
   "cell_type": "markdown",
   "id": "d6d3b909-492e-4c0d-b892-d267da5315d7",
   "metadata": {},
   "source": [
    "If the $x,y,z$ compliments of $\\mathbf{r}(t)$ satisfy the above equation, then $P$ moves on the plane given said equation.  \n",
    "\n",
    "$$ 15r_z - 20r_x = 60\\cos t - 60\\cos t = 0$$"
   ]
  },
  {
   "cell_type": "markdown",
   "id": "4e5eab66-d2f0-46e7-a480-1fd60bd770ea",
   "metadata": {},
   "source": [
    "Thus $P$ *does* move on $\\mathcal{P}$, a plane that intersects the origin."
   ]
  },
  {
   "cell_type": "markdown",
   "id": "6279845f-e42b-4c0f-bd1e-3c64bf45d216",
   "metadata": {},
   "source": [
    "**e)** The path of $P$ is a circle in 3D space with a radius of $5$."
   ]
  },
  {
   "cell_type": "markdown",
   "id": "ffe5e34b-e3cc-4fab-9894-ba14b3907b41",
   "metadata": {},
   "source": [
    "#### $\\S\\, 1\\mathrm{J} : 10$  \n",
    "\n",
    "Said helix is given by:  \n",
    "\n",
    "$$ \\mathbf{r} := \\mathbf{r}(t) = \\langle a\\cos t, a\\sin t, bt\\rangle$$"
   ]
  },
  {
   "cell_type": "markdown",
   "id": "cd9f368b-61a6-4399-8f2d-9e3f1ebd0484",
   "metadata": {},
   "source": [
    "$$ \\mathbf{v} = \\langle -a\\sin t, a\\cos t, b\\rangle \\quad\\quad s = \\sqrt{a^2 + b^2} \\quad\\quad \\mathbf{T}:= \\mathbf{T}(t) = \\frac{\\langle -a\\sin t, a\\cos t, b\\rangle}{\\sqrt{a^2 + b^2}}$$"
   ]
  },
  {
   "cell_type": "markdown",
   "id": "6a855937-08db-4f3f-990e-ac7cad885bf8",
   "metadata": {},
   "source": [
    "**a)** Via the chain rule,  $$ \\frac{\\mathrm{d}\\mathbf{T}}{\\mathrm{d}t} = \\frac{\\mathrm{d}\\mathbf{T}}{\\mathrm{d}s}\\,\\frac{\\mathrm{d}s}{\\mathrm{d}t} \\quad\\implies \\quad \\frac{\\mathrm{d}\\mathbf{T}}{\\mathrm{d}s} =\\frac{\\mathrm{d}\\mathbf{T}}{\\mathrm{d}t}\\,\\frac{\\mathrm{d}t}{\\mathrm{d}s}$$"
   ]
  },
  {
   "cell_type": "markdown",
   "id": "83d8d3aa-8a06-4699-9386-704c1ef0703f",
   "metadata": {},
   "source": [
    "$$ \\mathbf{T}'(t) = \\frac{\\mathbf{a}}{s} = \\frac{\\langle -a\\cos t, -a\\sin t, 0\\rangle}{s}\\quad\\quad\\text{and}\\quad\\quad s'(t) = 0$$"
   ]
  },
  {
   "cell_type": "markdown",
   "id": "907d1b06-921f-487c-892b-0ac0f341998d",
   "metadata": {},
   "source": [
    "### Kepler's Second Law  \n",
    "\n",
    "#### $\\S\\, 1\\mathrm{K} : 1$  \n",
    "\n",
    "Let $\\mathbf{r}(t)$ and $\\mathbf{s}(t)$ denote two plane vectors:  \n",
    "\n",
    "**Proposition**:  $$ \\frac{\\mathrm{d}}{\\mathrm{d}t}\\,\\mathbf{r}\\cdot\\mathbf{s} = \\frac{\\mathrm{d}\\mathbf{r}}{\\mathrm{d}t}\\cdot\\mathbf{s} + \\mathbf{r}\\cdot\\frac{\\mathrm{d}\\mathbf{s}}{\\mathrm{d}t}$$"
   ]
  },
  {
   "cell_type": "markdown",
   "id": "079cda38-0504-47e6-8ee6-1d6a2bd50801",
   "metadata": {},
   "source": [
    "**Proof**:  \n",
    "\n",
    "$$ \\frac{\\mathrm{d}}{\\mathrm{d}t}\\,\\mathbf{r}\\cdot\\mathbf{s} = \\sum_{i=1}^2 \\frac{\\mathrm{d}}{\\mathrm{d}t}\\,r_is_i$$"
   ]
  },
  {
   "cell_type": "markdown",
   "id": "143dcd42-6f4d-4743-b39f-5c1d5e6d8415",
   "metadata": {},
   "source": [
    "Via the product rule for differentiating scalar values,  \n",
    "\n",
    "$$ (r_is_i)'(t) = r_i'(t)s_i(t) + r_i(t)s_i'(t) \\quad\\forall i\\in\\{1,2\\}$$"
   ]
  },
  {
   "cell_type": "markdown",
   "id": "a3c9f877-0404-41f2-bf17-5f0e6958b8ea",
   "metadata": {},
   "source": [
    "Thus, via the above two equations and substitution,   \n",
    "\n",
    "$$ \\frac{\\mathrm{d}}{\\mathrm{d}t} \\mathbf{r}\\cdot\\mathbf{s} = \\sum_{i=1}^2 \\frac{\\mathrm{d}r_i}{\\mathrm{d}t}\\,s_i + \\sum_{i=1}^2 r_i\\,\\frac{\\mathrm{d}s_i}{\\mathrm{d}t} = \\frac{\\mathrm{d}\\mathbf{r}}{\\mathrm{d}t}\\cdot\\mathbf{s} + \\mathbf{r}\\cdot\\frac{\\mathrm{d}\\mathbf{s}}{\\mathrm{d}t}$$"
   ]
  },
  {
   "cell_type": "markdown",
   "id": "7ddc3ac2-39a0-4d39-a7cc-b761156e06b3",
   "metadata": {},
   "source": [
    "Q.E.D."
   ]
  },
  {
   "cell_type": "markdown",
   "id": "5eef6455-dd1c-4be4-bf68-9f96618df2af",
   "metadata": {},
   "source": [
    "#### $\\S\\, 1\\mathrm{K} : 3$  \n",
    "\n",
    "A central force implies a central acceleration which implies that the direction of said acceleration, denoted as $\\mathrm{dir}\\,\\mathbf{a}$, opposes the direction of the positon vector, denoted as $\\mathrm{dir}\\,\\mathbf{r}$, which impies that the acceleration is parallel to radius or position vector $\\mathbf{a}\\parallel\\mathbf{r}$ which implies that $\\mathbf{r}\\times\\mathbf{a}=0$, which implies that $(\\mathbf{r}\\times\\mathbf{v})'(t) = 0$ which implies that $\\mathbf{r}\\times\\mathbf{v} = \\mathit{const}$."
   ]
  },
  {
   "cell_type": "markdown",
   "id": "f8a6b526-8aef-4162-a087-5a0535c7bffe",
   "metadata": {},
   "source": [
    "Now let $\\mathbf{N}:=\\mathbf{N}(t):=\\mathbf{r}\\times\\mathbf{v}$.  $\\mathbf{N}$ is normal to the plane that the path of the motion rests on.  \n",
    "\n",
    "$$ \\mathbf{N} = \\mathbf{r}\\times\\frac{\\mathrm{d}\\mathbf{r}}{\\mathbf{d}t} = \\mathbf{r}\\times\\frac{\\mathbf{r}(t+\\epsilon) -\\mathbf{r}(t)}{t + \\epsilon - t} $$"
   ]
  },
  {
   "cell_type": "markdown",
   "id": "05e5f810-4dd6-4adb-a4da-da6222822022",
   "metadata": {},
   "source": [
    "Via the above and the fact that the cross product is distributive,  \n",
    "\n",
    "$$ \\mathbf{N} = \\frac{\\mathbf{r}(t)\\times\\mathbf{r}(t+\\epsilon) - \\mathbf{r}(t)\\times\\mathbf{r}(t)}{t + \\epsilon - t} = \\frac{\\mathbf{r}(t)\\times\\mathbf{r}(t+\\epsilon)}{\\epsilon} = \\mathit{const}$$"
   ]
  },
  {
   "cell_type": "markdown",
   "id": "6addca4a-ca5e-449e-8eb2-d3a3a5340c16",
   "metadata": {},
   "source": [
    "The area swept out by the radius vector is equal to $0.5|\\mathbf{N}| = \\mathit{const}$."
   ]
  }
 ],
 "metadata": {
  "kernelspec": {
   "display_name": "Python 3 (ipykernel)",
   "language": "python",
   "name": "python3"
  },
  "language_info": {
   "codemirror_mode": {
    "name": "ipython",
    "version": 3
   },
   "file_extension": ".py",
   "mimetype": "text/x-python",
   "name": "python",
   "nbconvert_exporter": "python",
   "pygments_lexer": "ipython3",
   "version": "3.10.12"
  }
 },
 "nbformat": 4,
 "nbformat_minor": 5
}
