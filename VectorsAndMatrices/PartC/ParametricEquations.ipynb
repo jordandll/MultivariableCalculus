{
 "cells": [
  {
   "cell_type": "markdown",
   "id": "a2e0a82e-c0c9-4775-9c21-aadcccec7b08",
   "metadata": {},
   "source": [
    "# Parametric Equations of Lines\n",
    "## Problems\n",
    "#### Problem 1\n",
    "1.  \n",
    "\n",
    "$$x = 2t + 1 \\quad\\quad y = -3t + 1 \\quad\\quad z = -t+2$$"
   ]
  },
  {
   "cell_type": "markdown",
   "id": "e46944e5-f058-41e9-a654-2bcb316a8886",
   "metadata": {},
   "source": [
    "#### Problem 2\n",
    "2. Give parametric equations for the intersection of the planes $x + y + z = 1$ and $x + 2y + 3z = 2$."
   ]
  },
  {
   "cell_type": "markdown",
   "id": "eab2b690-8267-46de-bd8e-09f0138e8a88",
   "metadata": {},
   "source": [
    "\\begin{equation}\\tag{2.1}\n",
    "    z = 1-x-y\n",
    "\\end{equation}"
   ]
  },
  {
   "cell_type": "markdown",
   "id": "1b3e8e9b-948b-4bbd-92ba-c3396a061f00",
   "metadata": {},
   "source": [
    "Via equations (2.1) and the other equation and substitution,  \n",
    "\n",
    "$$ x + 2y + 3 - 3x - 3y = -2x - y + 3 = 2$$"
   ]
  },
  {
   "cell_type": "markdown",
   "id": "a8375cc1-20d4-41d7-9d64-d467307a1301",
   "metadata": {},
   "source": [
    "\\begin{equation}\\tag{2.2}\n",
    "    2x+y = 1\n",
    "\\end{equation}"
   ]
  },
  {
   "cell_type": "markdown",
   "id": "d5fbef10-8e67-4f6a-81a1-f3e8e8c46a66",
   "metadata": {},
   "source": [
    "Via equations (2.2) and (2.1) and substitution,  \n",
    "\n",
    "$$ z = 1 - x - 1 + 2x = x$$  \n",
    "\n",
    "\\begin{equation}\\tag{2.3}\n",
    "    z = x\n",
    "\\end{equation}"
   ]
  },
  {
   "cell_type": "markdown",
   "id": "300e0ee8-37fd-45b5-96fd-eec444e471d5",
   "metadata": {},
   "source": [
    "Assuming $x=x(t) = t$,  \n",
    "\n",
    "$$y=y(t) = 1-2t\\quad\\quad\\text{and}\\quad\\quad z=(t)=t$$"
   ]
  },
  {
   "cell_type": "markdown",
   "id": "27b9477f-1515-4024-a42f-419cbf1c695b",
   "metadata": {},
   "source": [
    "Now, to test this against another method, let $P := P(x,y,z):= P(u) = (u, 1-2u, u)$ and  \n",
    "\n",
    "$$ P_0:=P(0)=(0,1,0) \\quad\\quad\\text{and}\\quad\\quad P_1:=P(1)=(1,-1,1)$$"
   ]
  },
  {
   "cell_type": "markdown",
   "id": "81dfcd95-33b7-46e8-b71e-0ab907482a6b",
   "metadata": {},
   "source": [
    "Now, let $P(x,y,z):=(x,y,z)$ and $\\mathbf{v}:=\\overrightarrow{P_0P_1}$.  It now follows that, assuming $\\mathbf{P}=\\overrightarrow{P_0P}$,  \n",
    "\n",
    "$$ \\mathbf{P} = \\mathbf{P}(x,y,z) = \\langle x, y-1, z\\rangle \\quad\\quad\\text{and}\\quad\\quad \\mathbf{v} = \\langle 1, -2, 1\\rangle$$"
   ]
  },
  {
   "cell_type": "markdown",
   "id": "d7deac21-d726-4493-8ee8-009e0fc38f13",
   "metadata": {},
   "source": [
    "Assuming $\\mathbf{P}\\parallel\\mathbf{v}$,  \n",
    "\n",
    "$$ \\mathbf{P} = t\\mathbf{v} \\quad\\quad\\text{where }t\\in\\mathbb{R}$$"
   ]
  },
  {
   "cell_type": "markdown",
   "id": "26b77628-4755-4f5d-be9e-e22f7bb680de",
   "metadata": {},
   "source": [
    "Thus,  \n",
    "\n",
    "$$ \\langle x,y-1,z\\rangle = t\\langle 1,-2,1\\rangle \\quad\\implies$$"
   ]
  },
  {
   "cell_type": "markdown",
   "id": "27edaa4c-25af-427a-8ede-1a9e6bfd588f",
   "metadata": {},
   "source": [
    "$$ x = t\\quad\\quad y = 1-2t \\quad\\quad z = t$$"
   ]
  }
 ],
 "metadata": {
  "kernelspec": {
   "display_name": "Python 3 (ipykernel)",
   "language": "python",
   "name": "python3"
  },
  "language_info": {
   "codemirror_mode": {
    "name": "ipython",
    "version": 3
   },
   "file_extension": ".py",
   "mimetype": "text/x-python",
   "name": "python",
   "nbconvert_exporter": "python",
   "pygments_lexer": "ipython3",
   "version": "3.10.12"
  }
 },
 "nbformat": 4,
 "nbformat_minor": 5
}
