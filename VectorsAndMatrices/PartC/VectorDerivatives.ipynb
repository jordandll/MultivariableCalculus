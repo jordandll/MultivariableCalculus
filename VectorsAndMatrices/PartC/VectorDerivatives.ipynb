{
 "cells": [
  {
   "cell_type": "markdown",
   "id": "95bdb1e1-d0ae-43ca-8312-8ab4a55779d9",
   "metadata": {},
   "source": [
    "# Velocity and Acceleration\n",
    "\n",
    "## Example\n",
    "### Product Rule for Vector Derivatives\n",
    "1. If $\\mathbf{r}_1(t)$ and $\\mathbf{r}_2(t)$ are two parametric curves show the product rule for derivatives holds for the dot product."
   ]
  },
  {
   "cell_type": "markdown",
   "id": "4364f6dd-219c-4ed8-a908-b9dd3b48b0f1",
   "metadata": {},
   "source": [
    "Recall that the *product rule* of derivatives states that, as it applies to the aforementioned vectors,  \n",
    "\n",
    "\\begin{equation}\\tag{1}\n",
    "    \\mathbf{r}_3'(t) = \\mathbf{r}_1'(t)\\cdot\\mathbf{r}_2(t) + \\mathbf{r}_1(t)\\cdot\\mathbf{r}_2'(t) \\quad\\quad\\text{where }\\mathbf{r}_3(t) = \\mathbf{r}_1(t)\\cdot\\mathbf{r}_2(t)\n",
    "\\end{equation}"
   ]
  },
  {
   "cell_type": "markdown",
   "id": "69790123-aa2f-48fc-b75c-944180b64341",
   "metadata": {},
   "source": [
    "**Proof**:  First, let's prove the proposition in the case of 2D vectors.\n",
    "\n",
    "Let $\\mathbf{r}_1(t):=\\mathbf{a}(t)$ and $\\mathbf{r}_2(t):=\\mathbf{b}(t)$ and $\\mathbf{r}_3(t):=\\mathbf{c}(t)$.   "
   ]
  },
  {
   "cell_type": "markdown",
   "id": "b891c69b-f283-4fce-a231-bb5a9ac8ae03",
   "metadata": {},
   "source": [
    "$$\\mathbf{c} = a_1b_1 + a_2b_2 \\quad\\implies $$"
   ]
  },
  {
   "cell_type": "markdown",
   "id": "e308c23c-1573-4b9e-95dd-a00deb1a2f27",
   "metadata": {},
   "source": [
    "$$ \\mathbf{c}'(t) = a_1'b_1 + a_1b_1' + a_2'b_2 + a_2b_2'$$"
   ]
  },
  {
   "cell_type": "markdown",
   "id": "8ffd2bc9-6d71-41bb-8c2d-4708988f6b0d",
   "metadata": {},
   "source": [
    "Via equation (1),  \n",
    "\n",
    "$$ \\mathbf{c}'(t) = \\mathbf{a}'\\cdot\\mathbf{b} + \\mathbf{a}\\cdot\\mathbf{b}'$$"
   ]
  },
  {
   "cell_type": "markdown",
   "id": "364348da-28b9-4ea7-be9a-6702f41a36c3",
   "metadata": {},
   "source": [
    "$$ = a_1'b_1 + a_2'b_2 + a_1b_1' + a_2b_2'$$"
   ]
  },
  {
   "cell_type": "markdown",
   "id": "5062875c-0039-4d50-94ae-8c817cbac948",
   "metadata": {},
   "source": [
    "## Problem\n",
    "1. If $\\mathbf{r}_1(t)$ and $\\mathbf{r}_2(t)$ are two parametric curves show the product rule for derivatives holds for the cross product."
   ]
  },
  {
   "cell_type": "markdown",
   "id": "da43692d-801f-4af9-a167-a4e18d1df66f",
   "metadata": {},
   "source": [
    "Let $\\mathbf{r}_1(t):=\\mathbf{a}(t)$, $\\mathbf{r}_2(t):=\\mathbf{b}(t)$, and $\\mathbf{c}:=\\mathbf{a}\\times\\mathbf{b}$.  \n",
    "\n",
    "**Proposition**:  \n",
    "\n",
    "\\begin{equation}\\tag{2}\n",
    "    \\mathbf{c}'(t) = \\mathbf{a}'\\times\\mathbf{b} + \\mathbf{a}\\times\\mathbf{b}'\n",
    "\\end{equation}"
   ]
  },
  {
   "cell_type": "markdown",
   "id": "cab03ad1-5173-44a0-a4a0-ed315b621a37",
   "metadata": {},
   "source": [
    "**Proof**:  First, let's prove the proposition in the case of 3D vectors.  \n",
    "\n",
    "$$ \\mathbf{c} = (a_2b_3 - a_3b_2)\\mathbf{i} - (a_1b_3 - a_3b_1)\\mathbf{j} + (a_1b_2 - a_2b_1)\\mathbf{k}$$"
   ]
  }
 ],
 "metadata": {
  "kernelspec": {
   "display_name": "Python 3 (ipykernel)",
   "language": "python",
   "name": "python3"
  },
  "language_info": {
   "codemirror_mode": {
    "name": "ipython",
    "version": 3
   },
   "file_extension": ".py",
   "mimetype": "text/x-python",
   "name": "python",
   "nbconvert_exporter": "python",
   "pygments_lexer": "ipython3",
   "version": "3.10.12"
  }
 },
 "nbformat": 4,
 "nbformat_minor": 5
}
